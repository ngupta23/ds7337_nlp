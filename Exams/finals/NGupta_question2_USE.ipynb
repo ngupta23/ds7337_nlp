{
  "nbformat": 4,
  "nbformat_minor": 0,
  "metadata": {
    "orig_nbformat": 2,
    "kernelspec": {
      "name": "python3",
      "display_name": "Python 3"
    },
    "colab": {
      "name": "NGupta_question2.ipynb",
      "provenance": [],
      "include_colab_link": true
    },
    "accelerator": "GPU"
  },
  "cells": [
    {
      "cell_type": "markdown",
      "metadata": {
        "id": "view-in-github",
        "colab_type": "text"
      },
      "source": [
        "<a href=\"https://colab.research.google.com/github/ngupta23/ds7337_nlp/blob/master/Exams/finals/NGupta_question2_USE.ipynb\" target=\"_parent\"><img src=\"https://colab.research.google.com/assets/colab-badge.svg\" alt=\"Open In Colab\"/></a>"
      ]
    },
    {
      "cell_type": "markdown",
      "metadata": {
        "id": "2FPwGQ8GcCvb",
        "colab_type": "text"
      },
      "source": [
        "# Load Libraries"
      ]
    },
    {
      "cell_type": "code",
      "metadata": {
        "id": "1Z5BoRdd4BEx",
        "colab_type": "code",
        "colab": {}
      },
      "source": [
        "from typing import List, Tuple\n",
        "\n",
        "import numpy as np\n",
        "import pandas as pd\n",
        "\n",
        "import matplotlib.pyplot as plt\n",
        "%matplotlib inline"
      ],
      "execution_count": 1,
      "outputs": []
    },
    {
      "cell_type": "code",
      "metadata": {
        "id": "tgtql0HE4yEo",
        "colab_type": "code",
        "colab": {}
      },
      "source": [
        "import tensorflow as tf\n",
        "from tensorflow.keras.models import Model\n",
        "from tensorflow.keras.layers import Input, Dense, Dropout\n",
        "import tensorflow_hub as hub"
      ],
      "execution_count": 2,
      "outputs": []
    },
    {
      "cell_type": "code",
      "metadata": {
        "id": "3b5iG69V48Fu",
        "colab_type": "code",
        "colab": {
          "base_uri": "https://localhost:8080/",
          "height": 36
        },
        "outputId": "24b7138b-1538-4844-96d9-0107390541a1"
      },
      "source": [
        "tf.__version__"
      ],
      "execution_count": 3,
      "outputs": [
        {
          "output_type": "execute_result",
          "data": {
            "application/vnd.google.colaboratory.intrinsic+json": {
              "type": "string"
            },
            "text/plain": [
              "'2.3.0'"
            ]
          },
          "metadata": {
            "tags": []
          },
          "execution_count": 3
        }
      ]
    },
    {
      "cell_type": "markdown",
      "metadata": {
        "id": "bTVeUcYYcE8A",
        "colab_type": "text"
      },
      "source": [
        "# Get Data"
      ]
    },
    {
      "cell_type": "code",
      "metadata": {
        "id": "HcAuPBnM-Epn",
        "colab_type": "code",
        "colab": {}
      },
      "source": [
        "!rm -rf ./*"
      ],
      "execution_count": 4,
      "outputs": []
    },
    {
      "cell_type": "code",
      "metadata": {
        "id": "dQoUNW5d4SrO",
        "colab_type": "code",
        "colab": {
          "base_uri": "https://localhost:8080/",
          "height": 237
        },
        "outputId": "05a7c18e-b103-4937-b8a3-dd98d58cb601"
      },
      "source": [
        "!wget http://cs.stanford.edu/people/alecmgo/trainingandtestdata.zip"
      ],
      "execution_count": 5,
      "outputs": [
        {
          "output_type": "stream",
          "text": [
            "URL transformed to HTTPS due to an HSTS policy\n",
            "--2020-08-08 00:51:48--  https://cs.stanford.edu/people/alecmgo/trainingandtestdata.zip\n",
            "Resolving cs.stanford.edu (cs.stanford.edu)... 171.64.64.64\n",
            "Connecting to cs.stanford.edu (cs.stanford.edu)|171.64.64.64|:443... connected.\n",
            "HTTP request sent, awaiting response... 200 OK\n",
            "Length: 81363704 (78M) [application/zip]\n",
            "Saving to: ‘trainingandtestdata.zip’\n",
            "\n",
            "trainingandtestdata 100%[===================>]  77.59M  77.0MB/s    in 1.0s    \n",
            "\n",
            "2020-08-08 00:51:49 (77.0 MB/s) - ‘trainingandtestdata.zip’ saved [81363704/81363704]\n",
            "\n"
          ],
          "name": "stdout"
        }
      ]
    },
    {
      "cell_type": "code",
      "metadata": {
        "id": "eizE5HXM4Yht",
        "colab_type": "code",
        "colab": {
          "base_uri": "https://localhost:8080/",
          "height": 72
        },
        "outputId": "b37f655d-402b-461c-891a-a024a88b47ca"
      },
      "source": [
        "!unzip trainingandtestdata.zip"
      ],
      "execution_count": 6,
      "outputs": [
        {
          "output_type": "stream",
          "text": [
            "Archive:  trainingandtestdata.zip\n",
            "  inflating: testdata.manual.2009.06.14.csv  \n",
            "  inflating: training.1600000.processed.noemoticon.csv  \n"
          ],
          "name": "stdout"
        }
      ]
    },
    {
      "cell_type": "code",
      "metadata": {
        "tags": [],
        "id": "jQ9H8iVz4BE-",
        "colab_type": "code",
        "colab": {
          "base_uri": "https://localhost:8080/",
          "height": 256
        },
        "outputId": "cfdc9132-a4cc-4a39-906d-73ef20e74ebc"
      },
      "source": [
        "data = pd.read_csv(\"training.1600000.processed.noemoticon.csv\", encoding='latin-1', header=None)\n",
        "data.info()"
      ],
      "execution_count": 7,
      "outputs": [
        {
          "output_type": "stream",
          "text": [
            "<class 'pandas.core.frame.DataFrame'>\n",
            "RangeIndex: 1600000 entries, 0 to 1599999\n",
            "Data columns (total 6 columns):\n",
            " #   Column  Non-Null Count    Dtype \n",
            "---  ------  --------------    ----- \n",
            " 0   0       1600000 non-null  int64 \n",
            " 1   1       1600000 non-null  int64 \n",
            " 2   2       1600000 non-null  object\n",
            " 3   3       1600000 non-null  object\n",
            " 4   4       1600000 non-null  object\n",
            " 5   5       1600000 non-null  object\n",
            "dtypes: int64(2), object(4)\n",
            "memory usage: 73.2+ MB\n"
          ],
          "name": "stdout"
        }
      ]
    },
    {
      "cell_type": "code",
      "metadata": {
        "id": "zkGUGdUR4BFP",
        "colab_type": "code",
        "colab": {
          "base_uri": "https://localhost:8080/",
          "height": 206
        },
        "outputId": "02411043-5f4f-4c7a-ca0e-e35fc61035e3"
      },
      "source": [
        "data.head()"
      ],
      "execution_count": 8,
      "outputs": [
        {
          "output_type": "execute_result",
          "data": {
            "text/html": [
              "<div>\n",
              "<style scoped>\n",
              "    .dataframe tbody tr th:only-of-type {\n",
              "        vertical-align: middle;\n",
              "    }\n",
              "\n",
              "    .dataframe tbody tr th {\n",
              "        vertical-align: top;\n",
              "    }\n",
              "\n",
              "    .dataframe thead th {\n",
              "        text-align: right;\n",
              "    }\n",
              "</style>\n",
              "<table border=\"1\" class=\"dataframe\">\n",
              "  <thead>\n",
              "    <tr style=\"text-align: right;\">\n",
              "      <th></th>\n",
              "      <th>0</th>\n",
              "      <th>1</th>\n",
              "      <th>2</th>\n",
              "      <th>3</th>\n",
              "      <th>4</th>\n",
              "      <th>5</th>\n",
              "    </tr>\n",
              "  </thead>\n",
              "  <tbody>\n",
              "    <tr>\n",
              "      <th>0</th>\n",
              "      <td>0</td>\n",
              "      <td>1467810369</td>\n",
              "      <td>Mon Apr 06 22:19:45 PDT 2009</td>\n",
              "      <td>NO_QUERY</td>\n",
              "      <td>_TheSpecialOne_</td>\n",
              "      <td>@switchfoot http://twitpic.com/2y1zl - Awww, t...</td>\n",
              "    </tr>\n",
              "    <tr>\n",
              "      <th>1</th>\n",
              "      <td>0</td>\n",
              "      <td>1467810672</td>\n",
              "      <td>Mon Apr 06 22:19:49 PDT 2009</td>\n",
              "      <td>NO_QUERY</td>\n",
              "      <td>scotthamilton</td>\n",
              "      <td>is upset that he can't update his Facebook by ...</td>\n",
              "    </tr>\n",
              "    <tr>\n",
              "      <th>2</th>\n",
              "      <td>0</td>\n",
              "      <td>1467810917</td>\n",
              "      <td>Mon Apr 06 22:19:53 PDT 2009</td>\n",
              "      <td>NO_QUERY</td>\n",
              "      <td>mattycus</td>\n",
              "      <td>@Kenichan I dived many times for the ball. Man...</td>\n",
              "    </tr>\n",
              "    <tr>\n",
              "      <th>3</th>\n",
              "      <td>0</td>\n",
              "      <td>1467811184</td>\n",
              "      <td>Mon Apr 06 22:19:57 PDT 2009</td>\n",
              "      <td>NO_QUERY</td>\n",
              "      <td>ElleCTF</td>\n",
              "      <td>my whole body feels itchy and like its on fire</td>\n",
              "    </tr>\n",
              "    <tr>\n",
              "      <th>4</th>\n",
              "      <td>0</td>\n",
              "      <td>1467811193</td>\n",
              "      <td>Mon Apr 06 22:19:57 PDT 2009</td>\n",
              "      <td>NO_QUERY</td>\n",
              "      <td>Karoli</td>\n",
              "      <td>@nationwideclass no, it's not behaving at all....</td>\n",
              "    </tr>\n",
              "  </tbody>\n",
              "</table>\n",
              "</div>"
            ],
            "text/plain": [
              "   0  ...                                                  5\n",
              "0  0  ...  @switchfoot http://twitpic.com/2y1zl - Awww, t...\n",
              "1  0  ...  is upset that he can't update his Facebook by ...\n",
              "2  0  ...  @Kenichan I dived many times for the ball. Man...\n",
              "3  0  ...    my whole body feels itchy and like its on fire \n",
              "4  0  ...  @nationwideclass no, it's not behaving at all....\n",
              "\n",
              "[5 rows x 6 columns]"
            ]
          },
          "metadata": {
            "tags": []
          },
          "execution_count": 8
        }
      ]
    },
    {
      "cell_type": "code",
      "metadata": {
        "id": "51MBvvvN4BFZ",
        "colab_type": "code",
        "colab": {
          "base_uri": "https://localhost:8080/",
          "height": 206
        },
        "outputId": "ba359ce8-7f7e-40fc-af35-6d534738a943"
      },
      "source": [
        "data = data[[5, 0]]\n",
        "data.head()"
      ],
      "execution_count": 9,
      "outputs": [
        {
          "output_type": "execute_result",
          "data": {
            "text/html": [
              "<div>\n",
              "<style scoped>\n",
              "    .dataframe tbody tr th:only-of-type {\n",
              "        vertical-align: middle;\n",
              "    }\n",
              "\n",
              "    .dataframe tbody tr th {\n",
              "        vertical-align: top;\n",
              "    }\n",
              "\n",
              "    .dataframe thead th {\n",
              "        text-align: right;\n",
              "    }\n",
              "</style>\n",
              "<table border=\"1\" class=\"dataframe\">\n",
              "  <thead>\n",
              "    <tr style=\"text-align: right;\">\n",
              "      <th></th>\n",
              "      <th>5</th>\n",
              "      <th>0</th>\n",
              "    </tr>\n",
              "  </thead>\n",
              "  <tbody>\n",
              "    <tr>\n",
              "      <th>0</th>\n",
              "      <td>@switchfoot http://twitpic.com/2y1zl - Awww, t...</td>\n",
              "      <td>0</td>\n",
              "    </tr>\n",
              "    <tr>\n",
              "      <th>1</th>\n",
              "      <td>is upset that he can't update his Facebook by ...</td>\n",
              "      <td>0</td>\n",
              "    </tr>\n",
              "    <tr>\n",
              "      <th>2</th>\n",
              "      <td>@Kenichan I dived many times for the ball. Man...</td>\n",
              "      <td>0</td>\n",
              "    </tr>\n",
              "    <tr>\n",
              "      <th>3</th>\n",
              "      <td>my whole body feels itchy and like its on fire</td>\n",
              "      <td>0</td>\n",
              "    </tr>\n",
              "    <tr>\n",
              "      <th>4</th>\n",
              "      <td>@nationwideclass no, it's not behaving at all....</td>\n",
              "      <td>0</td>\n",
              "    </tr>\n",
              "  </tbody>\n",
              "</table>\n",
              "</div>"
            ],
            "text/plain": [
              "                                                   5  0\n",
              "0  @switchfoot http://twitpic.com/2y1zl - Awww, t...  0\n",
              "1  is upset that he can't update his Facebook by ...  0\n",
              "2  @Kenichan I dived many times for the ball. Man...  0\n",
              "3    my whole body feels itchy and like its on fire   0\n",
              "4  @nationwideclass no, it's not behaving at all....  0"
            ]
          },
          "metadata": {
            "tags": []
          },
          "execution_count": 9
        }
      ]
    },
    {
      "cell_type": "code",
      "metadata": {
        "tags": [],
        "id": "-eqLjbgU4BFh",
        "colab_type": "code",
        "colab": {
          "base_uri": "https://localhost:8080/",
          "height": 206
        },
        "outputId": "180f928f-0c6b-4288-8070-1e4e9172688f"
      },
      "source": [
        "data = data.rename(columns={5:'text', 0:'sentiment'})\n",
        "data.head()"
      ],
      "execution_count": 10,
      "outputs": [
        {
          "output_type": "execute_result",
          "data": {
            "text/html": [
              "<div>\n",
              "<style scoped>\n",
              "    .dataframe tbody tr th:only-of-type {\n",
              "        vertical-align: middle;\n",
              "    }\n",
              "\n",
              "    .dataframe tbody tr th {\n",
              "        vertical-align: top;\n",
              "    }\n",
              "\n",
              "    .dataframe thead th {\n",
              "        text-align: right;\n",
              "    }\n",
              "</style>\n",
              "<table border=\"1\" class=\"dataframe\">\n",
              "  <thead>\n",
              "    <tr style=\"text-align: right;\">\n",
              "      <th></th>\n",
              "      <th>text</th>\n",
              "      <th>sentiment</th>\n",
              "    </tr>\n",
              "  </thead>\n",
              "  <tbody>\n",
              "    <tr>\n",
              "      <th>0</th>\n",
              "      <td>@switchfoot http://twitpic.com/2y1zl - Awww, t...</td>\n",
              "      <td>0</td>\n",
              "    </tr>\n",
              "    <tr>\n",
              "      <th>1</th>\n",
              "      <td>is upset that he can't update his Facebook by ...</td>\n",
              "      <td>0</td>\n",
              "    </tr>\n",
              "    <tr>\n",
              "      <th>2</th>\n",
              "      <td>@Kenichan I dived many times for the ball. Man...</td>\n",
              "      <td>0</td>\n",
              "    </tr>\n",
              "    <tr>\n",
              "      <th>3</th>\n",
              "      <td>my whole body feels itchy and like its on fire</td>\n",
              "      <td>0</td>\n",
              "    </tr>\n",
              "    <tr>\n",
              "      <th>4</th>\n",
              "      <td>@nationwideclass no, it's not behaving at all....</td>\n",
              "      <td>0</td>\n",
              "    </tr>\n",
              "  </tbody>\n",
              "</table>\n",
              "</div>"
            ],
            "text/plain": [
              "                                                text  sentiment\n",
              "0  @switchfoot http://twitpic.com/2y1zl - Awww, t...          0\n",
              "1  is upset that he can't update his Facebook by ...          0\n",
              "2  @Kenichan I dived many times for the ball. Man...          0\n",
              "3    my whole body feels itchy and like its on fire           0\n",
              "4  @nationwideclass no, it's not behaving at all....          0"
            ]
          },
          "metadata": {
            "tags": []
          },
          "execution_count": 10
        }
      ]
    },
    {
      "cell_type": "markdown",
      "metadata": {
        "id": "KyZY8Nb7cOgq",
        "colab_type": "text"
      },
      "source": [
        "# Prepare Labels"
      ]
    },
    {
      "cell_type": "code",
      "metadata": {
        "id": "0uw4I6Fi4BGi",
        "colab_type": "code",
        "colab": {
          "base_uri": "https://localhost:8080/",
          "height": 283
        },
        "outputId": "f88b8322-7c95-4327-dd63-43b14e356a22"
      },
      "source": [
        "data['sentiment'].hist()"
      ],
      "execution_count": 11,
      "outputs": [
        {
          "output_type": "execute_result",
          "data": {
            "text/plain": [
              "<matplotlib.axes._subplots.AxesSubplot at 0x7fc579df8780>"
            ]
          },
          "metadata": {
            "tags": []
          },
          "execution_count": 11
        },
        {
          "output_type": "display_data",
          "data": {
            "image/png": "[encoded data removed]",
            "text/plain": [
              "<Figure size 432x288 with 1 Axes>"
            ]
          },
          "metadata": {
            "tags": [],
            "needs_background": "light"
          }
        }
      ]
    },
    {
      "cell_type": "code",
      "metadata": {
        "id": "1GEdw00x4BFz",
        "colab_type": "code",
        "colab": {
          "base_uri": "https://localhost:8080/",
          "height": 72
        },
        "outputId": "20b389f9-25e0-4b31-937f-a5a38cd09dfe"
      },
      "source": [
        "data['sentiment'].value_counts()"
      ],
      "execution_count": 12,
      "outputs": [
        {
          "output_type": "execute_result",
          "data": {
            "text/plain": [
              "4    800000\n",
              "0    800000\n",
              "Name: sentiment, dtype: int64"
            ]
          },
          "metadata": {
            "tags": []
          },
          "execution_count": 12
        }
      ]
    },
    {
      "cell_type": "code",
      "metadata": {
        "id": "4c4bO15F4BF4",
        "colab_type": "code",
        "colab": {}
      },
      "source": [
        "data.loc[data['sentiment'] == 4, 'sentiment'] = 1"
      ],
      "execution_count": 13,
      "outputs": []
    },
    {
      "cell_type": "code",
      "metadata": {
        "id": "Vzs9ve544BF9",
        "colab_type": "code",
        "colab": {
          "base_uri": "https://localhost:8080/",
          "height": 72
        },
        "outputId": "e859df61-325e-4503-d6d2-a79e006e34e9"
      },
      "source": [
        "data['sentiment'].value_counts()"
      ],
      "execution_count": 14,
      "outputs": [
        {
          "output_type": "execute_result",
          "data": {
            "text/plain": [
              "1    800000\n",
              "0    800000\n",
              "Name: sentiment, dtype: int64"
            ]
          },
          "metadata": {
            "tags": []
          },
          "execution_count": 14
        }
      ]
    },
    {
      "cell_type": "code",
      "metadata": {
        "id": "H1jNro6p4BGE",
        "colab_type": "code",
        "colab": {
          "base_uri": "https://localhost:8080/",
          "height": 206
        },
        "outputId": "7fdb9f00-a2cf-4c38-d956-db560aa333e9"
      },
      "source": [
        "data.head()"
      ],
      "execution_count": 15,
      "outputs": [
        {
          "output_type": "execute_result",
          "data": {
            "text/html": [
              "<div>\n",
              "<style scoped>\n",
              "    .dataframe tbody tr th:only-of-type {\n",
              "        vertical-align: middle;\n",
              "    }\n",
              "\n",
              "    .dataframe tbody tr th {\n",
              "        vertical-align: top;\n",
              "    }\n",
              "\n",
              "    .dataframe thead th {\n",
              "        text-align: right;\n",
              "    }\n",
              "</style>\n",
              "<table border=\"1\" class=\"dataframe\">\n",
              "  <thead>\n",
              "    <tr style=\"text-align: right;\">\n",
              "      <th></th>\n",
              "      <th>text</th>\n",
              "      <th>sentiment</th>\n",
              "    </tr>\n",
              "  </thead>\n",
              "  <tbody>\n",
              "    <tr>\n",
              "      <th>0</th>\n",
              "      <td>@switchfoot http://twitpic.com/2y1zl - Awww, t...</td>\n",
              "      <td>0</td>\n",
              "    </tr>\n",
              "    <tr>\n",
              "      <th>1</th>\n",
              "      <td>is upset that he can't update his Facebook by ...</td>\n",
              "      <td>0</td>\n",
              "    </tr>\n",
              "    <tr>\n",
              "      <th>2</th>\n",
              "      <td>@Kenichan I dived many times for the ball. Man...</td>\n",
              "      <td>0</td>\n",
              "    </tr>\n",
              "    <tr>\n",
              "      <th>3</th>\n",
              "      <td>my whole body feels itchy and like its on fire</td>\n",
              "      <td>0</td>\n",
              "    </tr>\n",
              "    <tr>\n",
              "      <th>4</th>\n",
              "      <td>@nationwideclass no, it's not behaving at all....</td>\n",
              "      <td>0</td>\n",
              "    </tr>\n",
              "  </tbody>\n",
              "</table>\n",
              "</div>"
            ],
            "text/plain": [
              "                                                text  sentiment\n",
              "0  @switchfoot http://twitpic.com/2y1zl - Awww, t...          0\n",
              "1  is upset that he can't update his Facebook by ...          0\n",
              "2  @Kenichan I dived many times for the ball. Man...          0\n",
              "3    my whole body feels itchy and like its on fire           0\n",
              "4  @nationwideclass no, it's not behaving at all....          0"
            ]
          },
          "metadata": {
            "tags": []
          },
          "execution_count": 15
        }
      ]
    },
    {
      "cell_type": "markdown",
      "metadata": {
        "id": "nxvGsM5XdlOh",
        "colab_type": "text"
      },
      "source": [
        "# Shuffle Data"
      ]
    },
    {
      "cell_type": "code",
      "metadata": {
        "tags": [],
        "id": "QDHppZoE4BGL",
        "colab_type": "code",
        "colab": {
          "base_uri": "https://localhost:8080/",
          "height": 182
        },
        "outputId": "b1099a52-7ab4-4af3-c0d5-94c2f3e0514e"
      },
      "source": [
        "data = data.sample(frac=1).reset_index(drop=True)\n",
        "data.info()"
      ],
      "execution_count": 16,
      "outputs": [
        {
          "output_type": "stream",
          "text": [
            "<class 'pandas.core.frame.DataFrame'>\n",
            "RangeIndex: 1600000 entries, 0 to 1599999\n",
            "Data columns (total 2 columns):\n",
            " #   Column     Non-Null Count    Dtype \n",
            "---  ------     --------------    ----- \n",
            " 0   text       1600000 non-null  object\n",
            " 1   sentiment  1600000 non-null  int64 \n",
            "dtypes: int64(1), object(1)\n",
            "memory usage: 24.4+ MB\n"
          ],
          "name": "stdout"
        }
      ]
    },
    {
      "cell_type": "markdown",
      "metadata": {
        "id": "k6MsjYENdnWU",
        "colab_type": "text"
      },
      "source": [
        "# Max Sequence Length\n",
        "\n",
        "The number of characters reaches a max length of 374, but that might be an exception. For Universal Sentence Encoder (USE), we can possibly limit this to a smaller number based on the histogram of character lengths. \n",
        "\n",
        "The number of words reaches a maximum value of 64. For RNN variants, again, we can limit this to a smaller number based on the distribution of the number of words as shown below"
      ]
    },
    {
      "cell_type": "code",
      "metadata": {
        "id": "dEme5TlR5pgd",
        "colab_type": "code",
        "colab": {
          "base_uri": "https://localhost:8080/",
          "height": 206
        },
        "outputId": "9824df53-0e9f-49f8-8bbf-d05b90b5564f"
      },
      "source": [
        "data['charlen'] = data['text'].str.len()\n",
        "data['wordlen'] = data['text'].str.split().str.len()\n",
        "data.head()"
      ],
      "execution_count": 17,
      "outputs": [
        {
          "output_type": "execute_result",
          "data": {
            "text/html": [
              "<div>\n",
              "<style scoped>\n",
              "    .dataframe tbody tr th:only-of-type {\n",
              "        vertical-align: middle;\n",
              "    }\n",
              "\n",
              "    .dataframe tbody tr th {\n",
              "        vertical-align: top;\n",
              "    }\n",
              "\n",
              "    .dataframe thead th {\n",
              "        text-align: right;\n",
              "    }\n",
              "</style>\n",
              "<table border=\"1\" class=\"dataframe\">\n",
              "  <thead>\n",
              "    <tr style=\"text-align: right;\">\n",
              "      <th></th>\n",
              "      <th>text</th>\n",
              "      <th>sentiment</th>\n",
              "      <th>charlen</th>\n",
              "      <th>wordlen</th>\n",
              "    </tr>\n",
              "  </thead>\n",
              "  <tbody>\n",
              "    <tr>\n",
              "      <th>0</th>\n",
              "      <td>@funnyclub hey there is loads to the ebook hey...</td>\n",
              "      <td>1</td>\n",
              "      <td>79</td>\n",
              "      <td>16</td>\n",
              "    </tr>\n",
              "    <tr>\n",
              "      <th>1</th>\n",
              "      <td>@Wolfgang_ Yea  Gotta wait for this work day t...</td>\n",
              "      <td>0</td>\n",
              "      <td>57</td>\n",
              "      <td>11</td>\n",
              "    </tr>\n",
              "    <tr>\n",
              "      <th>2</th>\n",
              "      <td>Woke up drowning in mucus. Much more of this a...</td>\n",
              "      <td>0</td>\n",
              "      <td>85</td>\n",
              "      <td>19</td>\n",
              "    </tr>\n",
              "    <tr>\n",
              "      <th>3</th>\n",
              "      <td>@Emmasboredom yeah i'm sorry  is it the doodle...</td>\n",
              "      <td>0</td>\n",
              "      <td>51</td>\n",
              "      <td>9</td>\n",
              "    </tr>\n",
              "    <tr>\n",
              "      <th>4</th>\n",
              "      <td>Also wishing @andybudd et. al. a great #uxlondon</td>\n",
              "      <td>1</td>\n",
              "      <td>49</td>\n",
              "      <td>8</td>\n",
              "    </tr>\n",
              "  </tbody>\n",
              "</table>\n",
              "</div>"
            ],
            "text/plain": [
              "                                                text  ...  wordlen\n",
              "0  @funnyclub hey there is loads to the ebook hey...  ...       16\n",
              "1  @Wolfgang_ Yea  Gotta wait for this work day t...  ...       11\n",
              "2  Woke up drowning in mucus. Much more of this a...  ...       19\n",
              "3  @Emmasboredom yeah i'm sorry  is it the doodle...  ...        9\n",
              "4  Also wishing @andybudd et. al. a great #uxlondon   ...        8\n",
              "\n",
              "[5 rows x 4 columns]"
            ]
          },
          "metadata": {
            "tags": []
          },
          "execution_count": 17
        }
      ]
    },
    {
      "cell_type": "code",
      "metadata": {
        "id": "l6uEdkgW5z2V",
        "colab_type": "code",
        "colab": {
          "base_uri": "https://localhost:8080/",
          "height": 90
        },
        "outputId": "abddba54-bf10-4a10-cd44-b01bfaf8da30"
      },
      "source": [
        "print('Maximum review length (words): {}'.format(data['wordlen'].max()))\n",
        "print('Minimum review length (words): {}'.format(data['wordlen'].min()))\n",
        "print('Maximum review length (chars): {}'.format(data['charlen'].max()))\n",
        "print('Minimum review length (chars): {}'.format(data['charlen'].min()))\n"
      ],
      "execution_count": 18,
      "outputs": [
        {
          "output_type": "stream",
          "text": [
            "Maximum review length (words): 64\n",
            "Minimum review length (words): 1\n",
            "Maximum review length (chars): 374\n",
            "Minimum review length (chars): 6\n"
          ],
          "name": "stdout"
        }
      ]
    },
    {
      "cell_type": "code",
      "metadata": {
        "id": "6SQ5-9k4eAUi",
        "colab_type": "code",
        "colab": {
          "base_uri": "https://localhost:8080/",
          "height": 283
        },
        "outputId": "583cb522-ba59-43c0-8bc8-73df44d956a7"
      },
      "source": [
        "data['charlen'].hist(bins=50)"
      ],
      "execution_count": 19,
      "outputs": [
        {
          "output_type": "execute_result",
          "data": {
            "text/plain": [
              "<matplotlib.axes._subplots.AxesSubplot at 0x7fc579d584a8>"
            ]
          },
          "metadata": {
            "tags": []
          },
          "execution_count": 19
        },
        {
          "output_type": "display_data",
          "data": {
            "image/png": "[encoded data removed]",
            "text/plain": [
              "<Figure size 432x288 with 1 Axes>"
            ]
          },
          "metadata": {
            "tags": [],
            "needs_background": "light"
          }
        }
      ]
    },
    {
      "cell_type": "code",
      "metadata": {
        "id": "v5-WCBuWeShI",
        "colab_type": "code",
        "colab": {
          "base_uri": "https://localhost:8080/",
          "height": 35
        },
        "outputId": "4ab7cbc3-9aa2-4f2c-8b04-6e10553ed0d2"
      },
      "source": [
        "# Keep a large percentage of reviews completely and chop of the remainig reviews off.\n",
        "time_steps_USE = int(np.quantile(data['charlen'],0.975))\n",
        "time_steps_USE"
      ],
      "execution_count": 20,
      "outputs": [
        {
          "output_type": "execute_result",
          "data": {
            "text/plain": [
              "138"
            ]
          },
          "metadata": {
            "tags": []
          },
          "execution_count": 20
        }
      ]
    },
    {
      "cell_type": "code",
      "metadata": {
        "id": "0zXYpbmSeQC6",
        "colab_type": "code",
        "colab": {
          "base_uri": "https://localhost:8080/",
          "height": 283
        },
        "outputId": "8dba05f8-c98b-40c4-c33c-db763ef48f19"
      },
      "source": [
        "data['wordlen'].hist(bins=50)"
      ],
      "execution_count": 21,
      "outputs": [
        {
          "output_type": "execute_result",
          "data": {
            "text/plain": [
              "<matplotlib.axes._subplots.AxesSubplot at 0x7fc521df5080>"
            ]
          },
          "metadata": {
            "tags": []
          },
          "execution_count": 21
        },
        {
          "output_type": "display_data",
          "data": {
            "image/png": "[encoded data removed]",
            "text/plain": [
              "<Figure size 432x288 with 1 Axes>"
            ]
          },
          "metadata": {
            "tags": [],
            "needs_background": "light"
          }
        }
      ]
    },
    {
      "cell_type": "code",
      "metadata": {
        "id": "MvcvOlfjeiO5",
        "colab_type": "code",
        "colab": {
          "base_uri": "https://localhost:8080/",
          "height": 35
        },
        "outputId": "b0a8f7e9-902e-4967-8831-7ac1c8f9e440"
      },
      "source": [
        "# Keep a large percentage of reviews completely and chop of the remainig reviews off.\n",
        "time_steps_RNN = int(np.quantile(data['wordlen'],0.975))\n",
        "time_steps_RNN"
      ],
      "execution_count": 22,
      "outputs": [
        {
          "output_type": "execute_result",
          "data": {
            "text/plain": [
              "27"
            ]
          },
          "metadata": {
            "tags": []
          },
          "execution_count": 22
        }
      ]
    },
    {
      "cell_type": "markdown",
      "metadata": {
        "id": "NFp5JzStdgxh",
        "colab_type": "text"
      },
      "source": [
        "# Train and Validation Split"
      ]
    },
    {
      "cell_type": "code",
      "metadata": {
        "id": "xZVIYWcf4BGz",
        "colab_type": "code",
        "colab": {}
      },
      "source": [
        "msk = np.random.rand(len(data)) < 0.5\n",
        "train_data = data[msk]\n",
        "val_data = data[~msk]"
      ],
      "execution_count": 23,
      "outputs": []
    },
    {
      "cell_type": "code",
      "metadata": {
        "id": "Q7cGxxG54BG7",
        "colab_type": "code",
        "colab": {}
      },
      "source": [
        "# Create datasets (limit to max time step for USE)\n",
        "train_text = train_data['text'].tolist()\n",
        "train_text = [' '.join(t.split()[0:time_steps_USE]) for t in train_text]\n",
        "train_text = [' '.join(t.split()) for t in train_text]\n",
        "train_text = np.array(train_text, dtype=object)[:, np.newaxis]\n",
        "train_label = train_data['sentiment']\n",
        "\n",
        "val_text = val_data['text'].tolist()\n",
        "val_text = [' '.join(t.split()[0:time_steps_USE]) for t in val_text]\n",
        "val_text = [' '.join(t.split()) for t in val_text]\n",
        "val_text = np.array(val_text, dtype=object)[:, np.newaxis]\n",
        "val_label = val_data['sentiment']"
      ],
      "execution_count": 24,
      "outputs": []
    },
    {
      "cell_type": "code",
      "metadata": {
        "tags": [],
        "id": "NDdeInsZ4BHD",
        "colab_type": "code",
        "colab": {
          "base_uri": "https://localhost:8080/",
          "height": 54
        },
        "outputId": "c91e44a1-233c-4a14-c320-a52ce53e0c6c"
      },
      "source": [
        "print(len(train_text), len(train_label))\n",
        "print(len(val_text), len(val_label))"
      ],
      "execution_count": 25,
      "outputs": [
        {
          "output_type": "stream",
          "text": [
            "799789 799789\n",
            "800211 800211\n"
          ],
          "name": "stdout"
        }
      ]
    },
    {
      "cell_type": "code",
      "metadata": {
        "id": "NQb5f0lhh3wC",
        "colab_type": "code",
        "colab": {
          "base_uri": "https://localhost:8080/",
          "height": 54
        },
        "outputId": "2b702c0b-d9a0-4bc0-90fe-c99f961e7eaf"
      },
      "source": [
        "# Checking split --> both test and train contain roughly the same % of observation from each class\n",
        "print(sum(train_label == 0)/len(train_label), sum(val_label == 0)/len(val_label))\n",
        "print(sum(train_label == 1)/len(train_label), sum(val_label == 1)/len(val_label))"
      ],
      "execution_count": 26,
      "outputs": [
        {
          "output_type": "stream",
          "text": [
            "0.500552020595432 0.4994482705186507\n",
            "0.499447979404568 0.5005517294813493\n"
          ],
          "name": "stdout"
        }
      ]
    },
    {
      "cell_type": "markdown",
      "metadata": {
        "id": "GMc74z4sgovy",
        "colab_type": "text"
      },
      "source": [
        "# Training"
      ]
    },
    {
      "cell_type": "code",
      "metadata": {
        "id": "wwA-Ja-Wgpqn",
        "colab_type": "code",
        "colab": {}
      },
      "source": [
        "def plot_metrics(history: tf.python.keras.callbacks.History, metrics: List[str] = ['loss'], figsize: Tuple[int, int] = (10,4), title: str = \"Train/Test Curves\", titlefontsize:int = 14):\n",
        "  \"\"\"\n",
        "  This functin will plot the metrics for the model\n",
        "  :param history: The history object obtained from the fit function.\n",
        "  :type history: tf.python.keras.callbacks.History\n",
        "  :param metrics: What metrics to plot for the model (Default = ['loss'])\n",
        "  :type metrics: List[str]\n",
        "  :param figsize: Figure size to be used for plotting (Default = (10,4))\n",
        "  :type figsize: Tuple(int,int)\n",
        "  \"\"\"\n",
        "  num_plots = len(metrics)\n",
        "  fig, axes = plt.subplots(int(num_plots/2), 2, figsize=figsize)\n",
        "\n",
        "  for num, metric in enumerate(metrics):\n",
        "    # summarize history for metric\n",
        "    if num <= 2:\n",
        "      axes[num%2].plot(history.history[metric])\n",
        "      axes[num%2].plot(history.history['val_' + metric])\n",
        "      axes[num%2].set_title('Model ' + metric)\n",
        "      axes[num%2].set(xlabel='Epoch', ylabel=metric)\n",
        "      axes[num%2].legend(['train', 'val'], loc='best')    \n",
        "    else:\n",
        "      axes[floor(num/2), num%2].plot(history.history[metric])\n",
        "      axes[floor(num/2), num%2].plot(history.history['val_' + metric])\n",
        "      axes[floor(num/2), num%2].set_title('Model ' + metric)\n",
        "      axes[floor(num/2), num%2].set(xlabel='Epoch', ylabel=metric)\n",
        "      axes[floor(num/2), num%2].legend(['train', 'val'], loc='best')\n",
        "\n",
        "  plt.suptitle(title, fontsize=titlefontsize, y=1.02)    \n",
        "  plt.tight_layout()\n",
        "  _ = plt.show"
      ],
      "execution_count": 27,
      "outputs": []
    },
    {
      "cell_type": "code",
      "metadata": {
        "id": "FVK2Q5Ja4BHU",
        "colab_type": "code",
        "colab": {
          "base_uri": "https://localhost:8080/",
          "height": 35
        },
        "outputId": "27fae5f0-3625-44bf-e77d-8301a7de134d"
      },
      "source": [
        "train_text[0].shape"
      ],
      "execution_count": 28,
      "outputs": [
        {
          "output_type": "execute_result",
          "data": {
            "text/plain": [
              "(1,)"
            ]
          },
          "metadata": {
            "tags": []
          },
          "execution_count": 28
        }
      ]
    },
    {
      "cell_type": "code",
      "metadata": {
        "id": "Tngh6bQ54BHk",
        "colab_type": "code",
        "colab": {
          "base_uri": "https://localhost:8080/",
          "height": 35
        },
        "outputId": "31448739-f14a-4c88-8269-bece92c7bed0"
      },
      "source": [
        "set(train_label)"
      ],
      "execution_count": 29,
      "outputs": [
        {
          "output_type": "execute_result",
          "data": {
            "text/plain": [
              "{0, 1}"
            ]
          },
          "metadata": {
            "tags": []
          },
          "execution_count": 29
        }
      ]
    },
    {
      "cell_type": "code",
      "metadata": {
        "id": "sfKOGB31f-uK",
        "colab_type": "code",
        "colab": {
          "base_uri": "https://localhost:8080/",
          "height": 35
        },
        "outputId": "b3cc30eb-fcab-4fa0-a7aa-72e93f86be80"
      },
      "source": [
        "num_classes = len(set(train_label))\n",
        "num_classes"
      ],
      "execution_count": 30,
      "outputs": [
        {
          "output_type": "execute_result",
          "data": {
            "text/plain": [
              "2"
            ]
          },
          "metadata": {
            "tags": []
          },
          "execution_count": 30
        }
      ]
    },
    {
      "cell_type": "code",
      "metadata": {
        "id": "N5B9tzzT4BHz",
        "colab_type": "code",
        "colab": {}
      },
      "source": [
        "USE = hub.KerasLayer(\"https://tfhub.dev/google/universal-sentence-encoder/4\", trainable=False)"
      ],
      "execution_count": 31,
      "outputs": []
    },
    {
      "cell_type": "code",
      "metadata": {
        "tags": [],
        "id": "7c-btsXT4BH4",
        "colab_type": "code",
        "colab": {
          "base_uri": "https://localhost:8080/",
          "height": 348
        },
        "outputId": "350a392e-4f90-422c-b0c0-f3a9869439fc"
      },
      "source": [
        "# This is useful to debug the issues with input shape: https://github.com/tensorflow/hub/issues/526\n",
        "input_text = Input(shape=(), name='sent1',dtype=tf.string)\n",
        "embedding = USE(input_text)\n",
        "# dense1 = Dense(256, activation='relu')(embedding)\n",
        "# dropout1 = Dropout(0.2)(dense1)\n",
        "# dense2 = Dense(100, activation='relu')(dropout1)\n",
        "dense2 = Dense(100, activation='relu')(embedding)\n",
        "dropout2 = Dropout(0.2)(dense2)\n",
        "pred = Dense(num_classes, activation='softmax')(dropout2)\n",
        "model = Model(inputs=[input_text], outputs=pred)\n",
        "\n",
        "model.summary()\n",
        "tf.keras.utils.plot_model(model, show_shapes=True, dpi=100)\n",
        "\n",
        "loss = tf.keras.losses.SparseCategoricalCrossentropy()\n",
        "model.compile(loss=loss, optimizer='adam', metrics=['accuracy'])"
      ],
      "execution_count": 32,
      "outputs": [
        {
          "output_type": "stream",
          "text": [
            "Model: \"functional_1\"\n",
            "_________________________________________________________________\n",
            "Layer (type)                 Output Shape              Param #   \n",
            "=================================================================\n",
            "sent1 (InputLayer)           [(None,)]                 0         \n",
            "_________________________________________________________________\n",
            "keras_layer (KerasLayer)     (None, 512)               256797824 \n",
            "_________________________________________________________________\n",
            "dense (Dense)                (None, 100)               51300     \n",
            "_________________________________________________________________\n",
            "dropout (Dropout)            (None, 100)               0         \n",
            "_________________________________________________________________\n",
            "dense_1 (Dense)              (None, 2)                 202       \n",
            "=================================================================\n",
            "Total params: 256,849,326\n",
            "Trainable params: 51,502\n",
            "Non-trainable params: 256,797,824\n",
            "_________________________________________________________________\n"
          ],
          "name": "stdout"
        }
      ]
    },
    {
      "cell_type": "code",
      "metadata": {
        "id": "55sJp3-v4BH-",
        "colab_type": "code",
        "colab": {
          "base_uri": "https://localhost:8080/",
          "height": 54
        },
        "outputId": "fced0458-d84f-4c08-c5dd-88f163aa33d0"
      },
      "source": [
        "model.predict(tf.convert_to_tensor([\"the cat is on the mat\", \"dogs are in the fog\"]))"
      ],
      "execution_count": 33,
      "outputs": [
        {
          "output_type": "execute_result",
          "data": {
            "text/plain": [
              "array([[0.49767357, 0.5023264 ],\n",
              "       [0.5003005 , 0.4996995 ]], dtype=float32)"
            ]
          },
          "metadata": {
            "tags": []
          },
          "execution_count": 33
        }
      ]
    },
    {
      "cell_type": "code",
      "metadata": {
        "id": "qjx8AKnj4BID",
        "colab_type": "code",
        "colab": {}
      },
      "source": [
        "from tensorflow.keras.callbacks import EarlyStopping\n",
        "# If validation error does not improve for 10 epochs, then terminate the training\n",
        "es = EarlyStopping(min_delta=0,patience=3)\n",
        "\n",
        "from tensorflow.keras.callbacks import ModelCheckpoint\n",
        "# add a checkpoint to save the lowest validation loss\n",
        "filepath = '.'\n",
        "checkpoint = ModelCheckpoint(\n",
        "    filepath, monitor='val_loss', verbose=1, \n",
        "    save_best_only=True, save_weights_only=False, \n",
        "    mode='auto', save_frequency=1\n",
        "    )"
      ],
      "execution_count": 34,
      "outputs": []
    },
    {
      "cell_type": "code",
      "metadata": {
        "id": "pnnaXgJa4BIJ",
        "colab_type": "code",
        "colab": {
          "base_uri": "https://localhost:8080/",
          "height": 384
        },
        "outputId": "2141061d-602a-46fe-c70b-584119fa7605"
      },
      "source": [
        "BATCH_SIZE = 1024\n",
        "EPOCHS = 10\n",
        "history = model.fit(\n",
        "    tf.convert_to_tensor(train_text), train_label,\n",
        "    validation_data=(val_text, val_label),\n",
        "    batch_size=BATCH_SIZE,\n",
        "    epochs=EPOCHS,\n",
        "    callbacks=[es] # , checkpoint]    \n",
        "    )"
      ],
      "execution_count": 35,
      "outputs": [
        {
          "output_type": "stream",
          "text": [
            "Epoch 1/10\n",
            "782/782 [==============================] - 103s 132ms/step - loss: 0.4655 - accuracy: 0.7792 - val_loss: 0.4451 - val_accuracy: 0.7899\n",
            "Epoch 2/10\n",
            "782/782 [==============================] - 99s 126ms/step - loss: 0.4407 - accuracy: 0.7932 - val_loss: 0.4342 - val_accuracy: 0.7964\n",
            "Epoch 3/10\n",
            "782/782 [==============================] - 99s 127ms/step - loss: 0.4338 - accuracy: 0.7973 - val_loss: 0.4303 - val_accuracy: 0.7983\n",
            "Epoch 4/10\n",
            "782/782 [==============================] - 98s 126ms/step - loss: 0.4297 - accuracy: 0.7999 - val_loss: 0.4276 - val_accuracy: 0.8000\n",
            "Epoch 5/10\n",
            "782/782 [==============================] - 97s 124ms/step - loss: 0.4269 - accuracy: 0.8013 - val_loss: 0.4262 - val_accuracy: 0.8009\n",
            "Epoch 6/10\n",
            "782/782 [==============================] - 97s 124ms/step - loss: 0.4249 - accuracy: 0.8032 - val_loss: 0.4255 - val_accuracy: 0.8016\n",
            "Epoch 7/10\n",
            "782/782 [==============================] - 97s 124ms/step - loss: 0.4230 - accuracy: 0.8040 - val_loss: 0.4245 - val_accuracy: 0.8019\n",
            "Epoch 8/10\n",
            "782/782 [==============================] - 97s 124ms/step - loss: 0.4217 - accuracy: 0.8049 - val_loss: 0.4240 - val_accuracy: 0.8019\n",
            "Epoch 9/10\n",
            "782/782 [==============================] - 97s 124ms/step - loss: 0.4202 - accuracy: 0.8060 - val_loss: 0.4234 - val_accuracy: 0.8022\n",
            "Epoch 10/10\n",
            "782/782 [==============================] - 97s 124ms/step - loss: 0.4191 - accuracy: 0.8062 - val_loss: 0.4231 - val_accuracy: 0.8024\n"
          ],
          "name": "stdout"
        }
      ]
    },
    {
      "cell_type": "code",
      "metadata": {
        "id": "E4JbEtV6gvPD",
        "colab_type": "code",
        "colab": {
          "base_uri": "https://localhost:8080/",
          "height": 314
        },
        "outputId": "75f75c01-d769-4c71-ef5f-0389a2053d9f"
      },
      "source": [
        "plot_metrics(\n",
        "    history,\n",
        "    metrics=['loss', 'accuracy'],\n",
        "    title = f\"Universal Sentence Encoder --> Char Length: {time_steps_USE}, Batch Size: {BATCH_SIZE}, Epochs: {EPOCHS}\")"
      ],
      "execution_count": 36,
      "outputs": [
        {
          "output_type": "display_data",
          "data": {
            "image/png": "[encoded data removed]",
            "text/plain": [
              "<Figure size 720x288 with 2 Axes>"
            ]
          },
          "metadata": {
            "tags": [],
            "needs_background": "light"
          }
        }
      ]
    },
    {
      "cell_type": "markdown",
      "metadata": {
        "id": "GX8QclYKhkpq",
        "colab_type": "text"
      },
      "source": [
        "# Predictions"
      ]
    },
    {
      "cell_type": "code",
      "metadata": {
        "id": "YcJKYMu29Yzk",
        "colab_type": "code",
        "colab": {
          "base_uri": "https://localhost:8080/",
          "height": 109
        },
        "outputId": "b210b6d7-e5e1-4b4d-aa74-2bab38b2fad8"
      },
      "source": [
        "predictions = model.predict(val_text)\n",
        "predictions[:5]"
      ],
      "execution_count": 37,
      "outputs": [
        {
          "output_type": "execute_result",
          "data": {
            "text/plain": [
              "array([[0.01431939, 0.9856806 ],\n",
              "       [0.9803152 , 0.01968481],\n",
              "       [0.9454794 , 0.05452059],\n",
              "       [0.29920438, 0.7007956 ],\n",
              "       [0.00537598, 0.994624  ]], dtype=float32)"
            ]
          },
          "metadata": {
            "tags": []
          },
          "execution_count": 37
        }
      ]
    },
    {
      "cell_type": "code",
      "metadata": {
        "id": "cVZoOUFB9eJ6",
        "colab_type": "code",
        "colab": {
          "base_uri": "https://localhost:8080/",
          "height": 35
        },
        "outputId": "8330943d-c680-42f4-dc0a-556c8ffe0dce"
      },
      "source": [
        "predictions_max = tf.math.argmax(predictions, axis=1)\n",
        "predictions_max[:5]"
      ],
      "execution_count": 38,
      "outputs": [
        {
          "output_type": "execute_result",
          "data": {
            "text/plain": [
              "<tf.Tensor: shape=(5,), dtype=int64, numpy=array([1, 0, 0, 1, 1])>"
            ]
          },
          "metadata": {
            "tags": []
          },
          "execution_count": 38
        }
      ]
    },
    {
      "cell_type": "code",
      "metadata": {
        "id": "Fha5CQIx9fla",
        "colab_type": "code",
        "colab": {
          "base_uri": "https://localhost:8080/",
          "height": 127
        },
        "outputId": "184168b0-c47e-47cc-e04f-8554ce14509f"
      },
      "source": [
        "val_label[0:5]"
      ],
      "execution_count": 39,
      "outputs": [
        {
          "output_type": "execute_result",
          "data": {
            "text/plain": [
              "0    1\n",
              "1    0\n",
              "2    0\n",
              "3    0\n",
              "4    1\n",
              "Name: sentiment, dtype: int64"
            ]
          },
          "metadata": {
            "tags": []
          },
          "execution_count": 39
        }
      ]
    },
    {
      "cell_type": "code",
      "metadata": {
        "id": "oqyde66b9hFc",
        "colab_type": "code",
        "colab": {
          "base_uri": "https://localhost:8080/",
          "height": 35
        },
        "outputId": "8f296aa9-c32c-44e1-df66-3f7f07a3c6e5"
      },
      "source": [
        "m = tf.keras.metrics.Accuracy()\n",
        "m.update_state(val_label, predictions_max)\n",
        "m.result().numpy()"
      ],
      "execution_count": 40,
      "outputs": [
        {
          "output_type": "execute_result",
          "data": {
            "text/plain": [
              "0.80235213"
            ]
          },
          "metadata": {
            "tags": []
          },
          "execution_count": 40
        }
      ]
    },
    {
      "cell_type": "code",
      "metadata": {
        "id": "z9TTZJHH9irz",
        "colab_type": "code",
        "colab": {
          "base_uri": "https://localhost:8080/",
          "height": 146
        },
        "outputId": "246cc9eb-2643-4c78-9691-66d2a3bbac08"
      },
      "source": [
        "predictions"
      ],
      "execution_count": 41,
      "outputs": [
        {
          "output_type": "execute_result",
          "data": {
            "text/plain": [
              "array([[0.01431939, 0.9856806 ],\n",
              "       [0.9803152 , 0.01968481],\n",
              "       [0.9454794 , 0.05452059],\n",
              "       ...,\n",
              "       [0.40173218, 0.5982678 ],\n",
              "       [0.9896987 , 0.01030126],\n",
              "       [0.362221  , 0.637779  ]], dtype=float32)"
            ]
          },
          "metadata": {
            "tags": []
          },
          "execution_count": 41
        }
      ]
    }
  ]
}