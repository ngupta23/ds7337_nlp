{
  "nbformat": 4,
  "nbformat_minor": 0,
  "metadata": {
    "orig_nbformat": 2,
    "kernelspec": {
      "name": "python3",
      "display_name": "Python 3"
    },
    "colab": {
      "name": "NGupta_question1.ipynb",
      "provenance": [],
      "toc_visible": true,
      "include_colab_link": true
    },
    "accelerator": "GPU"
  },
  "cells": [
    {
      "cell_type": "markdown",
      "metadata": {
        "id": "view-in-github",
        "colab_type": "text"
      },
      "source": [
        "<a href=\"https://colab.research.google.com/github/ngupta23/ds7337_nlp/blob/master/Exams/finals/NGupta_question1_bigram.ipynb\" target=\"_parent\"><img src=\"https://colab.research.google.com/assets/colab-badge.svg\" alt=\"Open In Colab\"/></a>"
      ]
    },
    {
      "cell_type": "markdown",
      "metadata": {
        "id": "9L3G13kZOOVt",
        "colab_type": "text"
      },
      "source": [
        "# Import Libraries"
      ]
    },
    {
      "cell_type": "code",
      "metadata": {
        "id": "2jwvszQUB2lo",
        "colab_type": "code",
        "colab": {}
      },
      "source": [
        "from typing import List, Tuple\n",
        "\n",
        "import numpy as np\n",
        "import pandas as pd\n",
        "\n",
        "from sklearn.model_selection import train_test_split\n",
        "\n",
        "import nltk\n",
        "from nltk.util import ngrams"
      ],
      "execution_count": 1,
      "outputs": []
    },
    {
      "cell_type": "markdown",
      "metadata": {
        "id": "O5OwrWUSOV6K",
        "colab_type": "text"
      },
      "source": [
        "# Get the Data"
      ]
    },
    {
      "cell_type": "code",
      "metadata": {
        "id": "UoLLis-mCYEv",
        "colab_type": "code",
        "colab": {
          "base_uri": "https://localhost:8080/",
          "height": 35
        },
        "outputId": "cb6aafa5-e625-47fc-bdae-561c093e9999"
      },
      "source": [
        "import os.path\n",
        "\n",
        "filename = \"Sentiment.csv\"\n",
        "if os.path.isfile(filename):\n",
        "  print(\"File already exists. Will reuse the same ...\")\n",
        "else:\n",
        "  use_github_data = False\n",
        "  if use_github_data:\n",
        "    print(\"Loading fie from Github ...\")\n",
        "    filename = \"https://github.com/ngupta23/ds7337_nlp/blob/master/Exams/finals/Sentiment.csv\"\n",
        "  else:\n",
        "    print(\"Please upload your file to Colab ...\")\n",
        "    from google.colab import files\n",
        "    uploaded = files.upload()"
      ],
      "execution_count": 2,
      "outputs": [
        {
          "output_type": "stream",
          "text": [
            "File already exists. Will reuse the same ...\n"
          ],
          "name": "stdout"
        }
      ]
    },
    {
      "cell_type": "markdown",
      "metadata": {
        "id": "cz34bQCxObr4",
        "colab_type": "text"
      },
      "source": [
        "# Data Preparation"
      ]
    },
    {
      "cell_type": "code",
      "metadata": {
        "tags": [],
        "id": "SWitVpFmB2l3",
        "colab_type": "code",
        "colab": {
          "base_uri": "https://localhost:8080/",
          "height": 531
        },
        "outputId": "417f612c-6f7f-48bc-cf2a-7f9a7f635e98"
      },
      "source": [
        "data = pd.read_csv(filename) #, encoding='latin-1')\n",
        "data.info()"
      ],
      "execution_count": 3,
      "outputs": [
        {
          "output_type": "stream",
          "text": [
            "<class 'pandas.core.frame.DataFrame'>\n",
            "RangeIndex: 13871 entries, 0 to 13870\n",
            "Data columns (total 21 columns):\n",
            " #   Column                     Non-Null Count  Dtype  \n",
            "---  ------                     --------------  -----  \n",
            " 0   id                         13871 non-null  int64  \n",
            " 1   candidate                  13775 non-null  object \n",
            " 2   candidate_confidence       13871 non-null  float64\n",
            " 3   relevant_yn                13871 non-null  object \n",
            " 4   relevant_yn_confidence     13871 non-null  float64\n",
            " 5   sentiment                  13871 non-null  object \n",
            " 6   sentiment_confidence       13871 non-null  float64\n",
            " 7   subject_matter             13545 non-null  object \n",
            " 8   subject_matter_confidence  13871 non-null  float64\n",
            " 9   candidate_gold             28 non-null     object \n",
            " 10  name                       13871 non-null  object \n",
            " 11  relevant_yn_gold           32 non-null     object \n",
            " 12  retweet_count              13871 non-null  int64  \n",
            " 13  sentiment_gold             15 non-null     object \n",
            " 14  subject_matter_gold        18 non-null     object \n",
            " 15  text                       13871 non-null  object \n",
            " 16  tweet_coord                21 non-null     object \n",
            " 17  tweet_created              13871 non-null  object \n",
            " 18  tweet_id                   13871 non-null  int64  \n",
            " 19  tweet_location             9959 non-null   object \n",
            " 20  user_timezone              9468 non-null   object \n",
            "dtypes: float64(4), int64(3), object(14)\n",
            "memory usage: 2.2+ MB\n"
          ],
          "name": "stdout"
        }
      ]
    },
    {
      "cell_type": "code",
      "metadata": {
        "tags": [],
        "id": "e_7SfuMwB2mI",
        "colab_type": "code",
        "colab": {
          "base_uri": "https://localhost:8080/",
          "height": 182
        },
        "outputId": "8fea3ce4-10fa-4ce8-d451-ba375e4dc0c9"
      },
      "source": [
        "data = data[['text', 'sentiment']]\n",
        "data.info()"
      ],
      "execution_count": 4,
      "outputs": [
        {
          "output_type": "stream",
          "text": [
            "<class 'pandas.core.frame.DataFrame'>\n",
            "RangeIndex: 13871 entries, 0 to 13870\n",
            "Data columns (total 2 columns):\n",
            " #   Column     Non-Null Count  Dtype \n",
            "---  ------     --------------  ----- \n",
            " 0   text       13871 non-null  object\n",
            " 1   sentiment  13871 non-null  object\n",
            "dtypes: object(2)\n",
            "memory usage: 216.9+ KB\n"
          ],
          "name": "stdout"
        }
      ]
    },
    {
      "cell_type": "code",
      "metadata": {
        "id": "LjMYsUhuB2mS",
        "colab_type": "code",
        "colab": {
          "base_uri": "https://localhost:8080/",
          "height": 206
        },
        "outputId": "e99751af-2515-4623-9f00-d46f52f107b0"
      },
      "source": [
        "data.head()"
      ],
      "execution_count": 5,
      "outputs": [
        {
          "output_type": "execute_result",
          "data": {
            "text/html": [
              "<div>\n",
              "<style scoped>\n",
              "    .dataframe tbody tr th:only-of-type {\n",
              "        vertical-align: middle;\n",
              "    }\n",
              "\n",
              "    .dataframe tbody tr th {\n",
              "        vertical-align: top;\n",
              "    }\n",
              "\n",
              "    .dataframe thead th {\n",
              "        text-align: right;\n",
              "    }\n",
              "</style>\n",
              "<table border=\"1\" class=\"dataframe\">\n",
              "  <thead>\n",
              "    <tr style=\"text-align: right;\">\n",
              "      <th></th>\n",
              "      <th>text</th>\n",
              "      <th>sentiment</th>\n",
              "    </tr>\n",
              "  </thead>\n",
              "  <tbody>\n",
              "    <tr>\n",
              "      <th>0</th>\n",
              "      <td>RT @NancyLeeGrahn: How did everyone feel about...</td>\n",
              "      <td>Neutral</td>\n",
              "    </tr>\n",
              "    <tr>\n",
              "      <th>1</th>\n",
              "      <td>RT @ScottWalker: Didn't catch the full #GOPdeb...</td>\n",
              "      <td>Positive</td>\n",
              "    </tr>\n",
              "    <tr>\n",
              "      <th>2</th>\n",
              "      <td>RT @TJMShow: No mention of Tamir Rice and the ...</td>\n",
              "      <td>Neutral</td>\n",
              "    </tr>\n",
              "    <tr>\n",
              "      <th>3</th>\n",
              "      <td>RT @RobGeorge: That Carly Fiorina is trending ...</td>\n",
              "      <td>Positive</td>\n",
              "    </tr>\n",
              "    <tr>\n",
              "      <th>4</th>\n",
              "      <td>RT @DanScavino: #GOPDebate w/ @realDonaldTrump...</td>\n",
              "      <td>Positive</td>\n",
              "    </tr>\n",
              "  </tbody>\n",
              "</table>\n",
              "</div>"
            ],
            "text/plain": [
              "                                                text sentiment\n",
              "0  RT @NancyLeeGrahn: How did everyone feel about...   Neutral\n",
              "1  RT @ScottWalker: Didn't catch the full #GOPdeb...  Positive\n",
              "2  RT @TJMShow: No mention of Tamir Rice and the ...   Neutral\n",
              "3  RT @RobGeorge: That Carly Fiorina is trending ...  Positive\n",
              "4  RT @DanScavino: #GOPDebate w/ @realDonaldTrump...  Positive"
            ]
          },
          "metadata": {
            "tags": []
          },
          "execution_count": 5
        }
      ]
    },
    {
      "cell_type": "markdown",
      "metadata": {
        "id": "cyKAmpuVOofa",
        "colab_type": "text"
      },
      "source": [
        "# Find Maximum Sequence Length"
      ]
    },
    {
      "cell_type": "code",
      "metadata": {
        "id": "KkbB3WuELm1Q",
        "colab_type": "code",
        "colab": {
          "base_uri": "https://localhost:8080/",
          "height": 206
        },
        "outputId": "8604ce52-7800-4a36-b225-368a2bada000"
      },
      "source": [
        "data['len'] = data['text'].str.len()\n",
        "data.head()"
      ],
      "execution_count": 6,
      "outputs": [
        {
          "output_type": "execute_result",
          "data": {
            "text/html": [
              "<div>\n",
              "<style scoped>\n",
              "    .dataframe tbody tr th:only-of-type {\n",
              "        vertical-align: middle;\n",
              "    }\n",
              "\n",
              "    .dataframe tbody tr th {\n",
              "        vertical-align: top;\n",
              "    }\n",
              "\n",
              "    .dataframe thead th {\n",
              "        text-align: right;\n",
              "    }\n",
              "</style>\n",
              "<table border=\"1\" class=\"dataframe\">\n",
              "  <thead>\n",
              "    <tr style=\"text-align: right;\">\n",
              "      <th></th>\n",
              "      <th>text</th>\n",
              "      <th>sentiment</th>\n",
              "      <th>len</th>\n",
              "    </tr>\n",
              "  </thead>\n",
              "  <tbody>\n",
              "    <tr>\n",
              "      <th>0</th>\n",
              "      <td>RT @NancyLeeGrahn: How did everyone feel about...</td>\n",
              "      <td>Neutral</td>\n",
              "      <td>106</td>\n",
              "    </tr>\n",
              "    <tr>\n",
              "      <th>1</th>\n",
              "      <td>RT @ScottWalker: Didn't catch the full #GOPdeb...</td>\n",
              "      <td>Positive</td>\n",
              "      <td>140</td>\n",
              "    </tr>\n",
              "    <tr>\n",
              "      <th>2</th>\n",
              "      <td>RT @TJMShow: No mention of Tamir Rice and the ...</td>\n",
              "      <td>Neutral</td>\n",
              "      <td>84</td>\n",
              "    </tr>\n",
              "    <tr>\n",
              "      <th>3</th>\n",
              "      <td>RT @RobGeorge: That Carly Fiorina is trending ...</td>\n",
              "      <td>Positive</td>\n",
              "      <td>140</td>\n",
              "    </tr>\n",
              "    <tr>\n",
              "      <th>4</th>\n",
              "      <td>RT @DanScavino: #GOPDebate w/ @realDonaldTrump...</td>\n",
              "      <td>Positive</td>\n",
              "      <td>140</td>\n",
              "    </tr>\n",
              "  </tbody>\n",
              "</table>\n",
              "</div>"
            ],
            "text/plain": [
              "                                                text sentiment  len\n",
              "0  RT @NancyLeeGrahn: How did everyone feel about...   Neutral  106\n",
              "1  RT @ScottWalker: Didn't catch the full #GOPdeb...  Positive  140\n",
              "2  RT @TJMShow: No mention of Tamir Rice and the ...   Neutral   84\n",
              "3  RT @RobGeorge: That Carly Fiorina is trending ...  Positive  140\n",
              "4  RT @DanScavino: #GOPDebate w/ @realDonaldTrump...  Positive  140"
            ]
          },
          "metadata": {
            "tags": []
          },
          "execution_count": 6
        }
      ]
    },
    {
      "cell_type": "code",
      "metadata": {
        "id": "rAqeNqFtMHvu",
        "colab_type": "code",
        "colab": {
          "base_uri": "https://localhost:8080/",
          "height": 54
        },
        "outputId": "27b43304-4a29-4e24-9c42-7163f8691331"
      },
      "source": [
        "print('Maximum review length: {}'.format(data['len'].max()))\n",
        "print('Minimum review length: {}'.format(data['len'].min()))\n"
      ],
      "execution_count": 7,
      "outputs": [
        {
          "output_type": "stream",
          "text": [
            "Maximum review length: 153\n",
            "Minimum review length: 19\n"
          ],
          "name": "stdout"
        }
      ]
    },
    {
      "cell_type": "code",
      "metadata": {
        "id": "DrdQvBm-MQcY",
        "colab_type": "code",
        "colab": {
          "base_uri": "https://localhost:8080/",
          "height": 318
        },
        "outputId": "6482807a-e552-4ad2-cb3e-15d66b742509"
      },
      "source": [
        "data.hist(bins=100)"
      ],
      "execution_count": 8,
      "outputs": [
        {
          "output_type": "execute_result",
          "data": {
            "text/plain": [
              "array([[<matplotlib.axes._subplots.AxesSubplot object at 0x7fdfe7812940>]],\n",
              "      dtype=object)"
            ]
          },
          "metadata": {
            "tags": []
          },
          "execution_count": 8
        },
        {
          "output_type": "display_data",
          "data": {
            "image/png": "[encoded data removed]",
            "text/plain": [
              "<Figure size 432x288 with 1 Axes>"
            ]
          },
          "metadata": {
            "tags": [],
            "needs_background": "light"
          }
        }
      ]
    },
    {
      "cell_type": "code",
      "metadata": {
        "id": "E1493_-SMNyx",
        "colab_type": "code",
        "colab": {
          "base_uri": "https://localhost:8080/",
          "height": 35
        },
        "outputId": "bb034372-9b1f-4140-d045-07895a55580c"
      },
      "source": [
        "# Keep a large percentage of reviews completely and chop of the remainig reviews off.\n",
        "import numpy as np\n",
        "time_steps = int(np.quantile(data['len'],0.975))\n",
        "time_steps"
      ],
      "execution_count": 9,
      "outputs": [
        {
          "output_type": "execute_result",
          "data": {
            "text/plain": [
              "144"
            ]
          },
          "metadata": {
            "tags": []
          },
          "execution_count": 9
        }
      ]
    },
    {
      "cell_type": "markdown",
      "metadata": {
        "id": "DX91pzr9OvQg",
        "colab_type": "text"
      },
      "source": [
        "# Prepare Label"
      ]
    },
    {
      "cell_type": "code",
      "metadata": {
        "id": "98_XPM8jNe1g",
        "colab_type": "code",
        "colab": {
          "base_uri": "https://localhost:8080/",
          "height": 90
        },
        "outputId": "6ddc50f2-96db-425b-988a-783757479d61"
      },
      "source": [
        "data['sentiment'].value_counts()"
      ],
      "execution_count": 10,
      "outputs": [
        {
          "output_type": "execute_result",
          "data": {
            "text/plain": [
              "Negative    8493\n",
              "Neutral     3142\n",
              "Positive    2236\n",
              "Name: sentiment, dtype: int64"
            ]
          },
          "metadata": {
            "tags": []
          },
          "execution_count": 10
        }
      ]
    },
    {
      "cell_type": "code",
      "metadata": {
        "id": "WVQsPeAMNKJI",
        "colab_type": "code",
        "colab": {}
      },
      "source": [
        "data.loc[data['sentiment'] == 'Negative', 'sentiment'] = 0\n",
        "data.loc[data['sentiment'] == 'Neutral', 'sentiment'] = 1\n",
        "data.loc[data['sentiment'] == 'Positive', 'sentiment'] = 2"
      ],
      "execution_count": 11,
      "outputs": []
    },
    {
      "cell_type": "code",
      "metadata": {
        "id": "Z6PSLFHDNeXJ",
        "colab_type": "code",
        "colab": {
          "base_uri": "https://localhost:8080/",
          "height": 90
        },
        "outputId": "39ffe16c-fea7-4e12-e5bb-93ed2a51f10b"
      },
      "source": [
        "data['sentiment'].value_counts()"
      ],
      "execution_count": 12,
      "outputs": [
        {
          "output_type": "execute_result",
          "data": {
            "text/plain": [
              "0    8493\n",
              "1    3142\n",
              "2    2236\n",
              "Name: sentiment, dtype: int64"
            ]
          },
          "metadata": {
            "tags": []
          },
          "execution_count": 12
        }
      ]
    },
    {
      "cell_type": "markdown",
      "metadata": {
        "id": "RJdRmaEsO3XC",
        "colab_type": "text"
      },
      "source": [
        "# Train Test Split"
      ]
    },
    {
      "cell_type": "code",
      "metadata": {
        "id": "0iIseVDXM7VB",
        "colab_type": "code",
        "colab": {
          "base_uri": "https://localhost:8080/",
          "height": 54
        },
        "outputId": "8cc4ab0d-e4ef-4817-f41a-79f79724f6f3"
      },
      "source": [
        "X_train, X_test, y_train, y_test = train_test_split(\n",
        "    data['text'].values.astype('U'),\n",
        "    data['sentiment'].values.astype('int32'),\n",
        "    test_size=0.20,\n",
        "    random_state=42\n",
        ")\n",
        "\n",
        "print(f\"Number of samples: X_train: {len(X_train)}, y_train: {len(y_train)}\")\n",
        "print(f\"Number of samples: X_test: {len(X_test)}, y_test: {len(y_test)}\")"
      ],
      "execution_count": 13,
      "outputs": [
        {
          "output_type": "stream",
          "text": [
            "Number of samples: X_train: 11096, y_train: 11096\n",
            "Number of samples: X_test: 2775, y_test: 2775\n"
          ],
          "name": "stdout"
        }
      ]
    },
    {
      "cell_type": "code",
      "metadata": {
        "id": "HR3Jkl_fOM1i",
        "colab_type": "code",
        "colab": {
          "base_uri": "https://localhost:8080/",
          "height": 72
        },
        "outputId": "cb364f52-b77b-4ea5-891e-15a7c84a695b"
      },
      "source": [
        "# Checking split --> both test and train contain roughly the same number of positive (and negative) sentiment reviews\n",
        "print(sum(y_train == 0)/len(y_train), sum(y_test == 0)/len(y_test))\n",
        "print(sum(y_train == 1)/len(y_train), sum(y_test == 1)/len(y_test))\n",
        "print(sum(y_train == 2)/len(y_train), sum(y_test == 2)/len(y_test))"
      ],
      "execution_count": 14,
      "outputs": [
        {
          "output_type": "stream",
          "text": [
            "0.6102198990627253 0.6205405405405405\n",
            "0.22801009372746936 0.22054054054054054\n",
            "0.16177000720980533 0.1589189189189189\n"
          ],
          "name": "stdout"
        }
      ]
    },
    {
      "cell_type": "markdown",
      "metadata": {
        "id": "AdPi_D24PHV_",
        "colab_type": "text"
      },
      "source": [
        "# Create Vocabulary"
      ]
    },
    {
      "cell_type": "code",
      "metadata": {
        "tags": [],
        "id": "r5hCZzntB2mb",
        "colab_type": "code",
        "colab": {
          "base_uri": "https://localhost:8080/",
          "height": 74
        },
        "outputId": "6744b6c9-3176-4f47-a32b-7ea139d21950"
      },
      "source": [
        "# Bigram\n",
        "print(data.iloc[0]['text'])\n",
        "bigrams = list(ngrams(data.iloc[0]['text'], 2)) \n",
        "bigrams = [' '.join(bigram_tuple) for bigram_tuple in bigrams]\n",
        "print(bigrams)"
      ],
      "execution_count": 15,
      "outputs": [
        {
          "output_type": "stream",
          "text": [
            "RT @NancyLeeGrahn: How did everyone feel about the Climate Change question last night? Exactly. #GOPDebate\n",
            "['R T', 'T  ', '  @', '@ N', 'N a', 'a n', 'n c', 'c y', 'y L', 'L e', 'e e', 'e G', 'G r', 'r a', 'a h', 'h n', 'n :', ':  ', '  H', 'H o', 'o w', 'w  ', '  d', 'd i', 'i d', 'd  ', '  e', 'e v', 'v e', 'e r', 'r y', 'y o', 'o n', 'n e', 'e  ', '  f', 'f e', 'e e', 'e l', 'l  ', '  a', 'a b', 'b o', 'o u', 'u t', 't  ', '  t', 't h', 'h e', 'e  ', '  C', 'C l', 'l i', 'i m', 'm a', 'a t', 't e', 'e  ', '  C', 'C h', 'h a', 'a n', 'n g', 'g e', 'e  ', '  q', 'q u', 'u e', 'e s', 's t', 't i', 'i o', 'o n', 'n  ', '  l', 'l a', 'a s', 's t', 't  ', '  n', 'n i', 'i g', 'g h', 'h t', 't ?', '?  ', '  E', 'E x', 'x a', 'a c', 'c t', 't l', 'l y', 'y .', '.  ', '  #', '# G', 'G O', 'O P', 'P D', 'D e', 'e b', 'b a', 'a t', 't e']\n"
          ],
          "name": "stdout"
        }
      ]
    },
    {
      "cell_type": "code",
      "metadata": {
        "id": "9RTwvjV6D1Dm",
        "colab_type": "code",
        "colab": {}
      },
      "source": [
        "corpus = []\n",
        "for _, text_row in enumerate(data['text']):\n",
        "  bigrams = list(ngrams(text_row, 2)) \n",
        "  bigrams = [''.join(bigram_tuple) for bigram_tuple in bigrams]\n",
        "  corpus = corpus + bigrams "
      ],
      "execution_count": 16,
      "outputs": []
    },
    {
      "cell_type": "code",
      "metadata": {
        "id": "2RnLVRvZEqyX",
        "colab_type": "code",
        "colab": {
          "base_uri": "https://localhost:8080/",
          "height": 55
        },
        "outputId": "f02ae74a-8c3e-4e1b-d093-1fb2f5b3cc2d"
      },
      "source": [
        "print(corpus[:300])"
      ],
      "execution_count": 17,
      "outputs": [
        {
          "output_type": "stream",
          "text": [
            "['RT', 'T ', ' @', '@N', 'Na', 'an', 'nc', 'cy', 'yL', 'Le', 'ee', 'eG', 'Gr', 'ra', 'ah', 'hn', 'n:', ': ', ' H', 'Ho', 'ow', 'w ', ' d', 'di', 'id', 'd ', ' e', 'ev', 've', 'er', 'ry', 'yo', 'on', 'ne', 'e ', ' f', 'fe', 'ee', 'el', 'l ', ' a', 'ab', 'bo', 'ou', 'ut', 't ', ' t', 'th', 'he', 'e ', ' C', 'Cl', 'li', 'im', 'ma', 'at', 'te', 'e ', ' C', 'Ch', 'ha', 'an', 'ng', 'ge', 'e ', ' q', 'qu', 'ue', 'es', 'st', 'ti', 'io', 'on', 'n ', ' l', 'la', 'as', 'st', 't ', ' n', 'ni', 'ig', 'gh', 'ht', 't?', '? ', ' E', 'Ex', 'xa', 'ac', 'ct', 'tl', 'ly', 'y.', '. ', ' #', '#G', 'GO', 'OP', 'PD', 'De', 'eb', 'ba', 'at', 'te', 'RT', 'T ', ' @', '@S', 'Sc', 'co', 'ot', 'tt', 'tW', 'Wa', 'al', 'lk', 'ke', 'er', 'r:', ': ', ' D', 'Di', 'id', 'dn', \"n'\", \"'t\", 't ', ' c', 'ca', 'at', 'tc', 'ch', 'h ', ' t', 'th', 'he', 'e ', ' f', 'fu', 'ul', 'll', 'l ', ' #', '#G', 'GO', 'OP', 'Pd', 'de', 'eb', 'ba', 'at', 'te', 'e ', ' l', 'la', 'as', 'st', 't ', ' n', 'ni', 'ig', 'gh', 'ht', 't.', '. ', ' H', 'He', 'er', 're', 'e ', ' a', 'ar', 're', 'e ', ' s', 'so', 'om', 'me', 'e ', ' o', 'of', 'f ', ' S', 'Sc', 'co', 'ot', 'tt', \"t'\", \"'s\", 's ', ' b', 'be', 'es', 'st', 't ', ' l', 'li', 'in', 'ne', 'es', 's ', ' i', 'in', 'n ', ' 9', '90', '0 ', ' s', 'se', 'ec', 'co', 'on', 'nd', 'ds', 's.', '. ', ' #', '#W', 'Wa', 'al', 'lk', 'ke', 'er', 'r1', '16', '6 ', ' h', 'ht', 'tt', 'tp', 'p:', ':/', '//', '/t', 't.', '.c', 'co', 'o/', '/Z', 'ZS', 'Sf', 'fF', 'F…', 'RT', 'T ', ' @', '@T', 'TJ', 'JM', 'MS', 'Sh', 'ho', 'ow', 'w:', ': ', ' N', 'No', 'o ', ' m', 'me', 'en', 'nt', 'ti', 'io', 'on', 'n ', ' o', 'of', 'f ', ' T', 'Ta', 'am', 'mi', 'ir', 'r ', ' R', 'Ri', 'ic', 'ce', 'e ', ' a', 'an', 'nd', 'd ', ' t', 'th', 'he', 'e ', ' #', '#G', 'GO', 'OP', 'PD', 'De', 'eb', 'ba', 'at', 'te', 'e ']\n"
          ],
          "name": "stdout"
        }
      ]
    },
    {
      "cell_type": "code",
      "metadata": {
        "id": "zS8CDdwcDHAP",
        "colab_type": "code",
        "colab": {
          "base_uri": "https://localhost:8080/",
          "height": 74
        },
        "outputId": "29b7fa79-d14c-4fad-b7d8-81556c354e4b"
      },
      "source": [
        "fdist = nltk.FreqDist(corpus)\n",
        "print(fdist.most_common()[:20])\n",
        "# We can use the count to filter out less common words (noise), but this has not been done here.\n",
        "vocab = [char for char, count in fdist.most_common() if count >= 1] \n",
        "print(vocab[:20])"
      ],
      "execution_count": 18,
      "outputs": [
        {
          "output_type": "stream",
          "text": [
            "[('e ', 35298), ('at', 26175), ('te', 23521), ('s ', 23388), (' t', 22507), (' #', 19994), ('t ', 19559), ('ba', 17585), ('th', 17281), ('eb', 17196), ('he', 16545), ('in', 15649), ('GO', 15334), ('OP', 15230), ('#G', 14994), ('er', 14740), ('De', 14728), ('es', 14608), (' a', 14370), ('an', 14254)]\n",
            "['e ', 'at', 'te', 's ', ' t', ' #', 't ', 'ba', 'th', 'eb', 'he', 'in', 'GO', 'OP', '#G', 'er', 'De', 'es', ' a', 'an']\n"
          ],
          "name": "stdout"
        }
      ]
    },
    {
      "cell_type": "code",
      "metadata": {
        "id": "G3J5dYLnDnkx",
        "colab_type": "code",
        "colab": {
          "base_uri": "https://localhost:8080/",
          "height": 35
        },
        "outputId": "bc6d6262-f003-4d3b-df2b-048fd54d5145"
      },
      "source": [
        "print(len(vocab))"
      ],
      "execution_count": 19,
      "outputs": [
        {
          "output_type": "stream",
          "text": [
            "6173\n"
          ],
          "name": "stdout"
        }
      ]
    },
    {
      "cell_type": "code",
      "metadata": {
        "id": "WBg7ExM9Fam1",
        "colab_type": "code",
        "colab": {}
      },
      "source": [
        "word_index = {}\n",
        "word_index[\"<PAD>\"] = 0\n",
        "word_index[\"<START>\"] = 1\n",
        "word_index[\"<UNK>\"] = 2\n",
        "for index, word in enumerate(vocab):\n",
        "  word_index[word] = index+3"
      ],
      "execution_count": 20,
      "outputs": []
    },
    {
      "cell_type": "code",
      "metadata": {
        "id": "jdBlq_c0JV-c",
        "colab_type": "code",
        "colab": {
          "base_uri": "https://localhost:8080/",
          "height": 201
        },
        "outputId": "eebae1c4-7f78-4873-c8a7-3926057aad0d"
      },
      "source": [
        "reverse_word_index = dict([(value, key) for (key, value) in word_index.items()])\n",
        "[(i, reverse_word_index.get(i)) for i in np.arange(10)]"
      ],
      "execution_count": 21,
      "outputs": [
        {
          "output_type": "execute_result",
          "data": {
            "text/plain": [
              "[(0, '<PAD>'),\n",
              " (1, '<START>'),\n",
              " (2, '<UNK>'),\n",
              " (3, 'e '),\n",
              " (4, 'at'),\n",
              " (5, 'te'),\n",
              " (6, 's '),\n",
              " (7, ' t'),\n",
              " (8, ' #'),\n",
              " (9, 't ')]"
            ]
          },
          "metadata": {
            "tags": []
          },
          "execution_count": 21
        }
      ]
    },
    {
      "cell_type": "code",
      "metadata": {
        "id": "39cdCCSKJr4k",
        "colab_type": "code",
        "colab": {
          "base_uri": "https://localhost:8080/",
          "height": 35
        },
        "outputId": "682a367f-225c-47a1-edb5-e8269b2bd77e"
      },
      "source": [
        "vocabulary_size = len(word_index.keys())\n",
        "vocabulary_size"
      ],
      "execution_count": 22,
      "outputs": [
        {
          "output_type": "execute_result",
          "data": {
            "text/plain": [
              "6176"
            ]
          },
          "metadata": {
            "tags": []
          },
          "execution_count": 22
        }
      ]
    },
    {
      "cell_type": "markdown",
      "metadata": {
        "id": "ONMpZeyWRali",
        "colab_type": "text"
      },
      "source": [
        "# Encoding and Decoding"
      ]
    },
    {
      "cell_type": "code",
      "metadata": {
        "id": "rC5hAL1mJ3DG",
        "colab_type": "code",
        "colab": {}
      },
      "source": [
        "def encode_review(plain_text: str) -> List[int]:\n",
        "  bigrams = list(ngrams(plain_text, 2)) \n",
        "  bigrams = [''.join(bigram_tuple) for bigram_tuple in bigrams]\n",
        "  return [word_index[token] if token in word_index.keys() else word_index[\"<UNK>\"] for token in bigrams]\n",
        "\n",
        "def decode_review(encoded_text):\n",
        "  return ' '.join([reverse_word_index.get(i, '?') for i in encoded_text])"
      ],
      "execution_count": 23,
      "outputs": []
    },
    {
      "cell_type": "code",
      "metadata": {
        "id": "edvKcAGbKFfc",
        "colab_type": "code",
        "colab": {}
      },
      "source": [
        "def encode_decode_check(original_review):\n",
        "  print(\"\\n\")\n",
        "  print(f\"Original Review: {original_review}\")\n",
        "  encoded_review = encode_review(original_review)\n",
        "  print(f\"Encoded Review: {encoded_review}\")\n",
        "  decoded_review = decode_review(encoded_review)\n",
        "  print(f\"Decoded Review: {decoded_review}\")\n",
        "  # same = decoded_review == original_review\n",
        "  # print(f\"Decoded = Original: {same}\")"
      ],
      "execution_count": 24,
      "outputs": []
    },
    {
      "cell_type": "code",
      "metadata": {
        "id": "ERQKz8BrKMWN",
        "colab_type": "code",
        "colab": {
          "base_uri": "https://localhost:8080/",
          "height": 496
        },
        "outputId": "ab86dbed-6ebb-4c53-d9ce-37de6a9f049c"
      },
      "source": [
        "random_train_reviews = X_train[np.random.choice(len(X_train), 5)]\n",
        "random_train_reviews\n",
        "\n",
        "for review in random_train_reviews:\n",
        "  encode_decode_check(review)"
      ],
      "execution_count": 25,
      "outputs": [
        {
          "output_type": "stream",
          "text": [
            "\n",
            "\n",
            "Original Review: RT @RWSurferGirl: It is very disappointing that Fox News is not conducting a \"Fair &amp; Balanced\" Debate. 🇺🇸 #GOPDebate  #GOPDebates\n",
            "Encoded Review: [45, 40, 25, 165, 197, 187, 167, 87, 175, 139, 18, 188, 192, 110, 148, 176, 33, 96, 382, 9, 37, 35, 6, 272, 79, 18, 151, 31, 67, 111, 35, 224, 311, 303, 159, 312, 14, 72, 52, 14, 38, 55, 7, 11, 54, 4, 9, 182, 209, 211, 270, 236, 229, 171, 218, 6, 37, 35, 6, 85, 130, 93, 9, 61, 51, 24, 47, 360, 256, 234, 52, 14, 38, 55, 21, 86, 237, 597, 409, 162, 110, 36, 296, 294, 132, 74, 293, 276, 207, 396, 30, 95, 22, 215, 136, 60, 557, 254, 225, 19, 12, 10, 4, 5, 214, 34, 216, 213, 233, 8, 17, 15, 16, 23, 19, 12, 10, 4, 5, 3, 98, 8, 17, 15, 16, 23, 19, 12, 10, 4, 5, 20]\n",
            "Decoded Review: RT T   @ @R RW WS Su ur rf fe er rG Gi ir rl l: :   I It t   i is s   v ve er ry y   d di is sa ap pp po oi in nt ti in ng g   t th ha at t   F Fo ox x   N Ne ew ws s   i is s   n no ot t   c co on nd du uc ct ti in ng g   a a   \" \"F Fa ai ir r   & &a am mp p; ;   B Ba al la an nc ce ed d\" \"   D De eb ba at te e. .   🇺 🇺🇸 🇸   # #G GO OP PD De eb ba at te e      # #G GO OP PD De eb ba at te es\n",
            "\n",
            "\n",
            "Original Review: RT @RWSurferGirl: Jeb Bush reminds me of elevator music. You hear it but you don't listen. 🇺🇸 #GOPDebate  #GOPDebates\n",
            "Encoded Review: [45, 40, 25, 165, 197, 187, 167, 87, 175, 139, 18, 188, 192, 110, 148, 176, 33, 314, 323, 12, 341, 207, 324, 105, 142, 121, 118, 28, 173, 199, 14, 47, 309, 6, 68, 59, 3, 39, 102, 89, 158, 88, 77, 247, 361, 4, 49, 48, 36, 68, 413, 105, 143, 83, 580, 34, 366, 363, 43, 210, 29, 13, 57, 50, 36, 37, 58, 9, 65, 279, 114, 9, 169, 163, 43, 210, 67, 160, 24, 201, 222, 9, 90, 70, 35, 41, 5, 46, 302, 34, 216, 213, 233, 8, 17, 15, 16, 23, 19, 12, 10, 4, 5, 3, 98, 8, 17, 15, 16, 23, 19, 12, 10, 4, 5, 20]\n",
            "Decoded Review: RT T   @ @R RW WS Su ur rf fe er rG Gi ir rl l: :   J Je eb b   B Bu us sh h   r re em mi in nd ds s   m me e   o of f   e el le ev va at to or r   m mu us si ic c. .   Y Yo ou u   h he ea ar r   i it t   b bu ut t   y yo ou u   d do on n' 't t   l li is st te en n. .   🇺 🇺🇸 🇸   # #G GO OP PD De eb ba at te e      # #G GO OP PD De eb ba at te es\n",
            "\n",
            "\n",
            "Original Review: RT @RWSurferGirl: Breaking: Brian Williams just handed Chris Christie a donut to calm him down. 🇺🇸 #GOPDebate #GOPDebates\n",
            "Encoded Review: [45, 40, 25, 165, 197, 187, 167, 87, 175, 139, 18, 188, 192, 110, 148, 176, 33, 207, 492, 28, 57, 227, 226, 14, 38, 620, 33, 207, 492, 62, 220, 22, 27, 168, 480, 131, 53, 70, 220, 132, 448, 6, 284, 344, 105, 41, 9, 29, 54, 22, 47, 63, 60, 26, 144, 257, 258, 62, 35, 6, 144, 257, 258, 62, 35, 41, 52, 149, 3, 21, 86, 67, 160, 24, 546, 114, 9, 7, 49, 42, 61, 81, 30, 675, 137, 29, 76, 177, 137, 67, 160, 146, 435, 302, 34, 216, 213, 233, 8, 17, 15, 16, 23, 19, 12, 10, 4, 5, 3, 8, 17, 15, 16, 23, 19, 12, 10, 4, 5, 20]\n",
            "Decoded Review: RT T   @ @R RW WS Su ur rf fe er rG Gi ir rl l: :   B Br re ea ak ki in ng g: :   B Br ri ia an n   W Wi il ll li ia am ms s   j ju us st t   h ha an nd de ed d   C Ch hr ri is s   C Ch hr ri is st ti ie e   a a   d do on nu ut t   t to o   c ca al lm m   h hi im m   d do ow wn n. .   🇺 🇺🇸 🇸   # #G GO OP PD De eb ba at te e   # #G GO OP PD De eb ba at te es\n",
            "\n",
            "\n",
            "Original Review: So @megynkelly posed for adult pictures.should we bring that up? #GOPDebate  #GOPDebates\n",
            "Encoded Review: [364, 42, 25, 266, 59, 238, 290, 282, 206, 104, 88, 53, 115, 31, 73, 159, 191, 80, 60, 26, 66, 145, 48, 36, 21, 198, 360, 155, 338, 9, 73, 268, 83, 234, 308, 87, 28, 20, 183, 765, 142, 112, 43, 155, 99, 26, 32, 185, 3, 65, 340, 62, 14, 38, 55, 7, 11, 54, 4, 9, 240, 223, 702, 196, 8, 17, 15, 16, 23, 19, 12, 10, 4, 5, 3, 98, 8, 17, 15, 16, 23, 19, 12, 10, 4, 5, 20]\n",
            "Decoded Review: So o   @ @m me eg gy yn nk ke el ll ly y   p po os se ed d   f fo or r   a ad du ul lt t   p pi ic ct tu ur re es s. .s sh ho ou ul ld d   w we e   b br ri in ng g   t th ha at t   u up p? ?   # #G GO OP PD De eb ba at te e      # #G GO OP PD De eb ba at te es\n",
            "\n",
            "\n",
            "Original Review: #Kasich #Bush #Trump but Donald's numbers are going to slip. #GOPDebates  https://t.co/MXWrthApwk\n",
            "Encoded Review: [566, 440, 69, 143, 83, 126, 121, 8, 502, 324, 105, 142, 121, 8, 351, 123, 71, 101, 74, 100, 65, 279, 114, 9, 225, 193, 24, 103, 30, 99, 1063, 179, 6, 85, 546, 101, 430, 125, 18, 150, 6, 21, 50, 28, 3, 140, 219, 312, 14, 38, 55, 7, 49, 42, 44, 431, 70, 504, 604, 34, 8, 17, 15, 16, 23, 19, 12, 10, 4, 5, 20, 6, 98, 29, 56, 64, 97, 263, 231, 106, 108, 107, 82, 116, 51, 119, 1054, 2463, 3758, 1113, 203, 11, 1819, 1142, 3442, 1412]\n",
            "Decoded Review: #K Ka as si ic ch h   # #B Bu us sh h   # #T Tr ru um mp p   b bu ut t   D Do on na al ld d' 's s   n nu um mb be er rs s   a ar re e   g go oi in ng g   t to o   s sl li ip p. .   # #G GO OP PD De eb ba at te es s      h ht tt tp ps s: :/ // /t t. .c co o/ /M MX XW Wr rt th hA Ap pw wk\n"
          ],
          "name": "stdout"
        }
      ]
    },
    {
      "cell_type": "code",
      "metadata": {
        "id": "OsxwJy7iO2KB",
        "colab_type": "code",
        "colab": {
          "base_uri": "https://localhost:8080/",
          "height": 496
        },
        "outputId": "d951dfcc-50ce-4e3a-f7d8-15404438141c"
      },
      "source": [
        "random_test_reviews = X_test[np.random.choice(len(X_test), 5)]\n",
        "random_test_reviews\n",
        "\n",
        "for review in random_test_reviews:\n",
        "  encode_decode_check(review)"
      ],
      "execution_count": 26,
      "outputs": [
        {
          "output_type": "stream",
          "text": [
            "\n",
            "\n",
            "Original Review: Donald Trump disses Megyn Kelly: ‘She’s a cxnt’ http://t.co/VSaQbTKxgK #GOPDebate #DonaldTrump #MegynKelly #Republicandebate #fox news\n",
            "Encoded Review: [193, 24, 103, 30, 99, 26, 92, 123, 71, 101, 74, 100, 67, 111, 35, 195, 80, 20, 6, 265, 352, 238, 290, 282, 27, 404, 450, 88, 53, 115, 348, 33, 2592, 5955, 482, 13, 1767, 777, 6, 21, 86, 61, 3876, 893, 72, 1186, 1617, 29, 56, 64, 97, 134, 106, 108, 107, 82, 116, 51, 119, 1093, 2630, 466, 3283, 3211, 3522, 2366, 3246, 3901, 2223, 1075, 8, 17, 15, 16, 23, 19, 12, 10, 4, 5, 3, 8, 470, 193, 24, 103, 30, 99, 261, 123, 71, 101, 74, 100, 8, 641, 352, 238, 290, 282, 609, 450, 88, 53, 115, 31, 8, 538, 259, 251, 280, 242, 239, 70, 83, 81, 22, 47, 63, 12, 10, 4, 5, 3, 8, 851, 145, 211, 270, 85, 75, 171, 218]\n",
            "Decoded Review: Do on na al ld d   T Tr ru um mp p   d di is ss se es s   M Me eg gy yn n   K Ke el ll ly y: :   ‘ ‘S Sh he e’ ’s s   a a   c cx xn nt t’ ’   h ht tt tp p: :/ // /t t. .c co o/ /V VS Sa aQ Qb bT TK Kx xg gK K   # #G GO OP PD De eb ba at te e   # #D Do on na al ld dT Tr ru um mp p   # #M Me eg gy yn nK Ke el ll ly y   # #R Re ep pu ub bl li ic ca an nd de eb ba at te e   # #f fo ox x   n ne ew ws\n",
            "\n",
            "\n",
            "Original Review: RT @MrGeorgeWallace: Ben Carson's a doctor. Maybe he can check the audience for a pulse. #GOPDebate\n",
            "Encoded Review: [45, 40, 25, 494, 1208, 188, 719, 306, 48, 452, 157, 650, 264, 30, 53, 95, 135, 136, 283, 33, 207, 304, 46, 27, 144, 232, 50, 150, 161, 24, 201, 179, 6, 21, 86, 67, 160, 301, 234, 49, 48, 411, 34, 265, 305, 190, 700, 125, 3, 29, 13, 3, 61, 81, 22, 27, 61, 126, 13, 217, 153, 147, 7, 11, 13, 3, 21, 289, 457, 111, 149, 46, 215, 136, 3, 66, 145, 48, 36, 21, 86, 73, 280, 155, 328, 80, 214, 34, 8, 17, 15, 16, 23, 19, 12, 10, 4, 5]\n",
            "Decoded Review: RT T   @ @M Mr rG Ge eo or rg ge eW Wa al ll la ac ce e: :   B Be en n   C Ca ar rs so on n' 's s   a a   d do oc ct to or r. .   M Ma ay yb be e   h he e   c ca an n   c ch he ec ck k   t th he e   a au ud di ie en nc ce e   f fo or r   a a   p pu ul ls se e. .   # #G GO OP PD De eb ba at te\n",
            "\n",
            "\n",
            "Original Review: RT @msgoddessrises: \"I have never gone bankrupt\" WTF???? \"Read My Lips! #GOPDebates #Trump\n",
            "Encoded Review: [45, 40, 25, 266, 448, 798, 219, 228, 517, 63, 20, 195, 802, 62, 35, 80, 20, 231, 33, 237, 617, 156, 29, 54, 245, 79, 3, 85, 75, 247, 79, 18, 36, 140, 219, 24, 75, 3, 65, 10, 22, 206, 789, 71, 223, 491, 1064, 254, 168, 1495, 1891, 4397, 582, 582, 582, 196, 237, 1450, 259, 57, 198, 26, 265, 590, 31, 335, 415, 504, 263, 530, 248, 8, 17, 15, 16, 23, 19, 12, 10, 4, 5, 20, 6, 8, 351, 123, 71, 101, 74]\n",
            "Decoded Review: RT T   @ @m ms sg go od dd de es ss sr ri is se es s: :   \" \"I I   h ha av ve e   n ne ev ve er r   g go on ne e   b ba an nk kr ru up pt t\" \"   W WT TF F? ?? ?? ?? ?   \" \"R Re ea ad d   M My y   L Li ip ps s! !   # #G GO OP PD De eb ba at te es s   # #T Tr ru um mp\n",
            "\n",
            "\n",
            "Original Review: While I wasn't too impressed with her questions last night, @megynkelly 's dress rocked!!! #whoareyouwearing #GOPDebate @FoxNews\n",
            "Encoded Review: [298, 76, 131, 77, 3, 96, 156, 32, 127, 69, 402, 201, 222, 9, 7, 49, 208, 42, 37, 177, 74, 230, 28, 20, 195, 80, 60, 26, 32, 180, 58, 11, 121, 29, 13, 18, 36, 329, 295, 235, 20, 41, 52, 91, 24, 141, 6, 90, 95, 69, 41, 9, 85, 128, 129, 138, 56, 397, 78, 25, 266, 59, 238, 290, 282, 206, 104, 88, 53, 115, 31, 536, 179, 6, 67, 420, 28, 20, 195, 6, 118, 117, 301, 153, 104, 60, 971, 443, 443, 248, 8, 982, 170, 112, 647, 50, 28, 241, 163, 43, 2616, 185, 57, 50, 62, 14, 38, 55, 8, 17, 15, 16, 23, 19, 12, 10, 4, 5, 3, 25, 387, 209, 211, 399, 229, 171, 218]\n",
            "Decoded Review: Wh hi il le e   I I   w wa as sn n' 't t   t to oo o   i im mp pr re es ss se ed d   w wi it th h   h he er r   q qu ue es st ti io on ns s   l la as st t   n ni ig gh ht t, ,   @ @m me eg gy yn nk ke el ll ly y   ' 's s   d dr re es ss s   r ro oc ck ke ed d! !! !! !   # #w wh ho oa ar re ey yo ou uw we ea ar ri in ng g   # #G GO OP PD De eb ba at te e   @ @F Fo ox xN Ne ew ws\n",
            "\n",
            "\n",
            "Original Review: Rand Paul's hair will be sold as calamari after the debate. #GOPDebates\n",
            "Encoded Review: [418, 22, 47, 26, 244, 336, 289, 155, 1375, 179, 6, 29, 54, 162, 110, 36, 32, 180, 131, 53, 84, 65, 125, 3, 44, 161, 166, 99, 26, 21, 69, 6, 61, 81, 30, 95, 132, 122, 50, 62, 621, 21, 454, 369, 5, 18, 36, 7, 11, 13, 3, 67, 63, 12, 10, 4, 5, 214, 34, 8, 17, 15, 16, 23, 19, 12, 10, 4, 5, 20]\n",
            "Decoded Review: Ra an nd d   P Pa au ul l' 's s   h ha ai ir r   w wi il ll l   b be e   s so ol ld d   a as s   c ca al la am ma ar ri i   a af ft te er r   t th he e   d de eb ba at te e. .   # #G GO OP PD De eb ba at te es\n"
          ],
          "name": "stdout"
        }
      ]
    },
    {
      "cell_type": "code",
      "metadata": {
        "id": "Ju0xEz03KVp1",
        "colab_type": "code",
        "colab": {}
      },
      "source": [
        "X_train_encoded = [encode_review(review) for review in X_train]\n",
        "X_test_encoded = [encode_review(review) for review in X_test]"
      ],
      "execution_count": 27,
      "outputs": []
    },
    {
      "cell_type": "markdown",
      "metadata": {
        "id": "2Cl70CueRkAx",
        "colab_type": "text"
      },
      "source": [
        "# Zero Padding"
      ]
    },
    {
      "cell_type": "code",
      "metadata": {
        "id": "H0cpgQ_RLVZb",
        "colab_type": "code",
        "colab": {}
      },
      "source": [
        "from tensorflow.keras.preprocessing import sequence\n",
        "\n",
        "X_train_encoded = sequence.pad_sequences(X_train_encoded, maxlen=time_steps)\n",
        "X_test_encoded = sequence.pad_sequences(X_test_encoded, maxlen=time_steps)"
      ],
      "execution_count": 28,
      "outputs": []
    },
    {
      "cell_type": "code",
      "metadata": {
        "id": "4qhAnUqhOtT1",
        "colab_type": "code",
        "colab": {
          "base_uri": "https://localhost:8080/",
          "height": 531
        },
        "outputId": "ac89ae86-42aa-4716-b1be-899419898c4d"
      },
      "source": [
        "X_train_encoded[0:2]"
      ],
      "execution_count": 29,
      "outputs": [
        {
          "output_type": "execute_result",
          "data": {
            "text/plain": [
              "array([[   0,    0,    0,    0,    0,    0,    0,    0,    0,    0,    0,\n",
              "           0,    0,    0,    0,    0,    0,    0,    0,    0,    0,    0,\n",
              "           0,    0,   45,   40,   25,  165,  197,  187,  167,   87,  175,\n",
              "         139,   18,  188,  192,  110,  148,  176,   33,  168,  393,    3,\n",
              "           7,   11,   13,    3,  205,  337,   59,   18,   62,   83,   81,\n",
              "          22,   27,   73,  152,  306,  174,  243,   77,    3,   73,  268,\n",
              "          83,  153,  147,    7,   11,   13,    3,   85,   75,  285,  444,\n",
              "           9,  244,  350,   28,   20,  143,   94,   63,   46,   72,    9,\n",
              "          39,  102,   89,  439,  507,  128,   58,    5,   60,   26,  221,\n",
              "         356,  113,    4,    5,   20,    6,   85,  130,   93,    9,  182,\n",
              "         453,  477,  515,  236,  229,  171,  218,    6,  216,  213,  233,\n",
              "           8,   17,   15,   16,   23,   19,   12,   10,    4,    5,    3,\n",
              "          98,    8,   17,   15,   16,   23,   19,   12,   10,    4,    5,\n",
              "          20],\n",
              "       [   0,    0,    0,    0,    0,    0,    0,    0,    0,    0,    0,\n",
              "           0,    0,    0,    0,    0,    0,    0,    0,    0,    0,    0,\n",
              "           0,    0,    0,    0,    0,    0,    0,    0,    0,    0,    0,\n",
              "           0,    0,    0,    0,    0,    0,    0,    0,    0,   45,   40,\n",
              "          25,  698,  450,  247, 2612, 3489,  518,   47,  426,  348,   33,\n",
              "          96,  156,   44,   80,   18,   62,   91,   43,  105,  431,  115,\n",
              "          31,   32,  180,   35,  142,  121,   25,  447,  754,  132,   59,\n",
              "          20, 1867,  500,  191,   80,   46, 1057, 1073,  879,  630,   32,\n",
              "         127,   69,    6,   39,   24,   75,    3,   39,  102,   89,    7,\n",
              "          49,   24,  128,  129,  138,   56,  321,  179,    6,   68,  154,\n",
              "         228,   63,   18,  120,    4,   49,   48,  150,    6,    8,  442,\n",
              "         453,  477, 1094,  608,  909,  187, 1228,  687,  730,  657,  563,\n",
              "         607,  403,    8,   17,   15,   16,   23,   19,   12,   10,    4,\n",
              "           5]], dtype=int32)"
            ]
          },
          "metadata": {
            "tags": []
          },
          "execution_count": 29
        }
      ]
    },
    {
      "cell_type": "code",
      "metadata": {
        "id": "g1-iJ2nOOwJ4",
        "colab_type": "code",
        "colab": {
          "base_uri": "https://localhost:8080/",
          "height": 531
        },
        "outputId": "785dabfb-1f8b-47d6-9b7d-e9091e8fa00a"
      },
      "source": [
        "X_test_encoded[0:2]"
      ],
      "execution_count": 30,
      "outputs": [
        {
          "output_type": "execute_result",
          "data": {
            "text/plain": [
              "array([[   0,    0,    0,    0,    0,    0,    0,    0,    0,    0,    0,\n",
              "           0,    0,    0,    0,    0,    0,    0,    0,    0,    0,    0,\n",
              "           0,    0,    0,    0,    0,    0,    0,    0,    0,    0,    0,\n",
              "           0,    0,    0,    0,    0,    0,    0,    0,    0,    0,    0,\n",
              "           0,    0,    0,    0,    0,    0,    0,    0,    0,    0,    0,\n",
              "           0,    0,    0,    0,    0,    0,    0,    0,    0,    0,    0,\n",
              "           0,    0,    0,  497,   42,   68,   59,  349,   78,    7,   11,\n",
              "          13,    3,  118,   28,   57,   30,   84,   32,  180,   14,  277,\n",
              "          75,   18,   36,   39,  102,   89,   90,   95,   69,   41,    9,\n",
              "          85,  128,  129,  138,   56,    9,    8,   17,   15,   16,   23,\n",
              "          19,   12,   10,    4,    5,    3,   32,  127,   69,    6,   25,\n",
              "         266,   59,  238,  290,  282,  206,  104,   88,   53,  115,  405,\n",
              "          34,    8,  641,  352,  238,  290,  282,  609,  450,   88,   53,\n",
              "         115],\n",
              "       [   0,    0,    0,    0,    0,   45,   40,   25,  469,  513,   22,\n",
              "         758,  479,   81,  245,  249,   14,  130,  601,   33,  456,  472,\n",
              "         266,   59,  238,  290,  282,  206,  104,   88,   53,  115,  484,\n",
              "        3572, 1601,  364,  109,   59,    3,  118,   28,   20,  278,  155,\n",
              "         338,  194,    6,   39,   24,   27,   29,  112,  146,  212,   61,\n",
              "          81,   22,   47,  111,   94,  178,    4,    5,   20,    6,   67,\n",
              "         111,   94,   26,   21,    4,    9,    8,   17,   15,   16,   23,\n",
              "          19,   12,   10,    4,    5,  214,   34,    8,  641,  305,  227,\n",
              "         104,  865,  337,   59,   18,   62,   83,   81, 1103,  588,   28,\n",
              "          57,    4,  853,  948,  319,  162,   14,   27,    8,  351,  123,\n",
              "          71,  101,   74,  708,  368,  383,  380,  429,    8,  566,  450,\n",
              "          88,   53,  115,  490,  409,  162,  131,   77,   60,   26,   29,\n",
              "          56,   64,   97,  134,  106,  108,  107,   82,  116,   51,  119,\n",
              "         786]], dtype=int32)"
            ]
          },
          "metadata": {
            "tags": []
          },
          "execution_count": 30
        }
      ]
    },
    {
      "cell_type": "markdown",
      "metadata": {
        "id": "1WXwBQQ0Rodu",
        "colab_type": "text"
      },
      "source": [
        "# Model Training"
      ]
    },
    {
      "cell_type": "code",
      "metadata": {
        "id": "WQCR5F8EOzE1",
        "colab_type": "code",
        "colab": {}
      },
      "source": [
        "import tensorflow as tf\n",
        "from tensorflow.keras import Sequential\n",
        "from tensorflow.keras.layers import Embedding, Dense, Dropout\n",
        "from tensorflow.keras.layers import SimpleRNN as RNN\n",
        "from tensorflow.keras.layers import LSTM as LSTM\n",
        "from tensorflow.keras.layers import GRU as GRU"
      ],
      "execution_count": 31,
      "outputs": []
    },
    {
      "cell_type": "code",
      "metadata": {
        "id": "KklDFGZzO-0d",
        "colab_type": "code",
        "colab": {}
      },
      "source": [
        "import matplotlib.pyplot as plt\n",
        "%matplotlib inline\n",
        "\n",
        "def plot_metrics(history: tf.python.keras.callbacks.History, metrics: List[str] = ['loss'], figsize: Tuple[int, int] = (10,4), title: str = \"Train/Test Curves\", titlefontsize:int = 14):\n",
        "  \"\"\"\n",
        "  This functin will plot the metrics for the model\n",
        "  :param history: The history object obtained from the fit function.\n",
        "  :type history: tf.python.keras.callbacks.History\n",
        "  :param metrics: What metrics to plot for the model (Default = ['loss'])\n",
        "  :type metrics: List[str]\n",
        "  :param figsize: Figure size to be used for plotting (Default = (10,4))\n",
        "  :type figsize: Tuple(int,int)\n",
        "  \"\"\"\n",
        "  num_plots = len(metrics)\n",
        "  fig, axes = plt.subplots(int(num_plots/2), 2, figsize=figsize)\n",
        "\n",
        "  for num, metric in enumerate(metrics):\n",
        "    # summarize history for metric\n",
        "    if num <= 2:\n",
        "      axes[num%2].plot(history.history[metric])\n",
        "      axes[num%2].plot(history.history['val_' + metric])\n",
        "      axes[num%2].set_title('Model ' + metric)\n",
        "      axes[num%2].set(xlabel='Epoch', ylabel=metric)\n",
        "      axes[num%2].legend(['train', 'val'], loc='best')    \n",
        "    else:\n",
        "      axes[floor(num/2), num%2].plot(history.history[metric])\n",
        "      axes[floor(num/2), num%2].plot(history.history['val_' + metric])\n",
        "      axes[floor(num/2), num%2].set_title('Model ' + metric)\n",
        "      axes[floor(num/2), num%2].set(xlabel='Epoch', ylabel=metric)\n",
        "      axes[floor(num/2), num%2].legend(['train', 'val'], loc='best')\n",
        "\n",
        "  plt.suptitle(title, fontsize=titlefontsize, y=1.02)    \n",
        "  plt.tight_layout()\n",
        "  _ = plt.show"
      ],
      "execution_count": 32,
      "outputs": []
    },
    {
      "cell_type": "code",
      "metadata": {
        "id": "MWs-a9b7PBiZ",
        "colab_type": "code",
        "colab": {}
      },
      "source": [
        "from tensorflow.keras.callbacks import EarlyStopping\n",
        "# If validation error does not improve for 'patience' epochs, then terminate the training\n",
        "es = EarlyStopping(min_delta=0,patience=3)"
      ],
      "execution_count": 33,
      "outputs": []
    },
    {
      "cell_type": "code",
      "metadata": {
        "id": "sTlZ2fOOPIm3",
        "colab_type": "code",
        "colab": {}
      },
      "source": [
        "# import other libs as needed for building model\n",
        "from tensorflow.keras.callbacks import ModelCheckpoint\n",
        "\n",
        "# add a checkpoint to save the lowest validation loss\n",
        "filepath = '.'\n",
        "checkpoint = ModelCheckpoint(filepath, monitor='val_loss', verbose=1, \n",
        "                             save_best_only=True, save_weights_only=False, \n",
        "                             mode='auto', save_frequency=1)"
      ],
      "execution_count": 34,
      "outputs": []
    },
    {
      "cell_type": "code",
      "metadata": {
        "id": "hgMBsfCHPJNx",
        "colab_type": "code",
        "colab": {}
      },
      "source": [
        "def create_model(\n",
        "    vocabulary_size: int,\n",
        "    time_steps: int,\n",
        "    embedding_size: int,\n",
        "    num_classes: int,\n",
        "    type: str = 'lstm',\n",
        "    num_neuron: int=100,\n",
        "    dropout: float=0,\n",
        "    recurrent_dropout: float=0\n",
        "    ) -> tf.keras.layers.Layer:\n",
        "  \"\"\"\n",
        "  Creates a Sequence Model with the passed parameters\n",
        "  :param vocabulary_size Size of the Vocabulary\n",
        "  :type vocabulary_size int\n",
        "  :param time_steps Number of steps in the sequence (e.g. length of sentence)\n",
        "  :type time_steps int\n",
        "  :param embedding_size Size of the Embedding \n",
        "  :type embedding_size int\n",
        "  :param num_classes Number of Classes to predict (2 for binary, 3 for ternary, etc.)\n",
        "  :type num_classes int\n",
        "  :param type Type of sequence model (Options: 'simple_rnn', 'lstm' or 'gru' (Default: 'lstm')\n",
        "  :type type str\n",
        "  :param num_neuron Number of neurons to be passed to the \"cell\"\n",
        "  :type num_neuron int\n",
        "  :param dropout Amount of dropout to use between the memory layer and the fully connected layer\n",
        "  :type dropout float\n",
        "  :param recurrent_dropout Amount of recurrent dropout to use\n",
        "  :type recurrent_dropout float\n",
        "  :rtype tf.keras.layers.Layer\n",
        "  \"\"\"\n",
        "  model = Sequential()\n",
        "  model.add(Embedding(vocabulary_size, embedding_size, input_length=time_steps))\n",
        "  if type.lower() == 'simple_rnn':\n",
        "    model.add(RNN(num_neuron, recurrent_dropout=recurrent_dropout))\n",
        "  elif type.lower() == 'lstm':\n",
        "    model.add(LSTM(num_neuron, recurrent_dropout=recurrent_dropout))\n",
        "  elif type.lower() == 'gru':\n",
        "    model.add(GRU(num_neuron, recurrent_dropout=recurrent_dropout))\n",
        "  else:\n",
        "    sys.exit(\"You have not passed the right argument for type.\")\n",
        "  model.add(Dropout(dropout))\n",
        "  model.add(Dense(num_classes, activation='softmax'))\n",
        "  model.compile(loss='sparse_categorical_crossentropy', optimizer='adam', metrics=['accuracy'])\n",
        "  return model\n",
        "\n",
        "def create_simple_rnn_model(vocabulary_size: int, time_steps: int, embedding_size: int, num_classes: int, num_neuron: int=100, dropout: float=0, recurrent_dropout: float=0) -> tf.keras.layers.Layer:\n",
        "  \"\"\"\n",
        "  Creates a Simple RNN Model with the passed parameters\n",
        "  :param vocabulary_size Size of the Vocabulary\n",
        "  :type vocabulary_size int\n",
        "  :param time_steps Number of steps in the sequence (e.g. length of sentence)\n",
        "  :type time_steps int\n",
        "  :param embedding_size Size of the Embedding \n",
        "  :type embedding_size int\n",
        "  :param num_classes Number of Classes to predict (2 for binary, 3 for ternary, etc.)\n",
        "  :type num_classes int\n",
        "  :param num_neuron Number of neurons to be passed to the \"cell\"\n",
        "  :type num_neuron int\n",
        "  :param dropout Amount of dropout to use between the memory layer and the fully connected layer\n",
        "  :type dropout float\n",
        "  :param recurrent_dropout Amount of recurrent dropout to use\n",
        "  :type recurrent_dropout float\n",
        "  :rtype tf.keras.layers.Layer\n",
        "  \"\"\"\n",
        "  model = create_model(vocabulary_size, time_steps, embedding_size, num_classes, 'simple_rnn', num_neuron, dropout, recurrent_dropout)\n",
        "  return model\n",
        "\n",
        "def create_lstm_model(vocabulary_size: int, time_steps: int, embedding_size: int, num_classes: int, num_neuron: int=100, dropout: float=0, recurrent_dropout: float=0) -> tf.keras.layers.Layer:\n",
        "  \"\"\"\n",
        "  Creates a LSTM Model with the passed parameters\n",
        "  :param vocabulary_size Size of the Vocabulary\n",
        "  :type vocabulary_size int\n",
        "  :param time_steps Number of steps in the sequence (e.g. length of sentence)\n",
        "  :type time_steps int\n",
        "  :param embedding_size Size of the Embedding \n",
        "  :type embedding_size int\n",
        "  :param num_classes Number of Classes to predict (2 for binary, 3 for ternary, etc.)\n",
        "  :type num_classes int\n",
        "  :param num_neuron Number of neurons to be passed to the \"cell\"\n",
        "  :type num_neuron int\n",
        "  :param dropout Amount of dropout to use between the memory layer and the fully connected layer\n",
        "  :type dropout float\n",
        "  :param recurrent_dropout Amount of recurrent dropout to use\n",
        "  :type recurrent_dropout float\n",
        "  :rtype tf.keras.layers.Layer\n",
        "  \"\"\"\n",
        "  model = create_model(vocabulary_size, time_steps, embedding_size, num_classes, 'lstm', num_neuron, dropout, recurrent_dropout)\n",
        "  return model\n",
        "\n",
        "def create_gru_model(vocabulary_size: int, time_steps: int, embedding_size: int, num_classes: int, num_neuron: int=100, dropout: float=0, recurrent_dropout: float=0) -> tf.keras.layers.Layer:\n",
        "  \"\"\"\n",
        "  Creates a GRU Model with the passed parameters\n",
        "  :param vocabulary_size Size of the Vocabulary\n",
        "  :type vocabulary_size int\n",
        "  :param time_steps Number of steps in the sequence (e.g. length of sentence)\n",
        "  :type time_steps int\n",
        "  :param embedding_size Size of the Embedding \n",
        "  :type embedding_size int\n",
        "  :param num_classes Number of Classes to predict (2 for binary, 3 for ternary, etc.)\n",
        "  :type num_classes int\n",
        "  :param num_neuron Number of neurons to be passed to the \"cell\"\n",
        "  :type num_neuron int\n",
        "  :param dropout Amount of dropout to use between the memory layer and the fully connected layer\n",
        "  :type dropout float\n",
        "  :param recurrent_dropout Amount of recurrent dropout to use\n",
        "  :type recurrent_dropout float\n",
        "  :rtype tf.keras.layers.Layer\n",
        "  \"\"\"\n",
        "  model = create_model(vocabulary_size, time_steps, embedding_size, num_classes, 'gru', num_neuron, dropout, recurrent_dropout)\n",
        "  return model"
      ],
      "execution_count": 35,
      "outputs": []
    },
    {
      "cell_type": "code",
      "metadata": {
        "id": "rsUIpEL-Pa-u",
        "colab_type": "code",
        "colab": {
          "base_uri": "https://localhost:8080/",
          "height": 1000
        },
        "outputId": "a969f436-c76b-4393-a2fb-0346b494594c"
      },
      "source": [
        "vocabulary_size = vocabulary_size\n",
        "embedding_size = 100\n",
        "time_steps = time_steps\n",
        "num_neuron = 100\n",
        "dropout = 0.3\n",
        "recurrent_dropout = 0.3\n",
        "EPOCHS = 20\n",
        "\n",
        "# Build Model and Train\n",
        "model = create_lstm_model(\n",
        "    vocabulary_size=vocabulary_size,\n",
        "    embedding_size=embedding_size,\n",
        "    time_steps=time_steps,\n",
        "    num_classes=3,\n",
        "    num_neuron=num_neuron,\n",
        "    dropout=dropout,\n",
        "    recurrent_dropout=recurrent_dropout\n",
        "  )\n",
        "print(model.summary())\n",
        "\n",
        "history = model.fit(\n",
        "    X_train_encoded, y_train,\n",
        "    validation_data=(X_test_encoded, y_test),\n",
        "    epochs=EPOCHS,\n",
        "    batch_size=256,\n",
        "    callbacks=[es, checkpoint]\n",
        "  )\n",
        "\n",
        "plot_metrics(history,\n",
        "             metrics=['loss', 'accuracy'],\n",
        "             title = f\"LSTM --> Vocab: {vocabulary_size}, Steps: {time_steps}, Embedding: {embedding_size}, Neurons: {num_neuron}, Dropout: {round(dropout,2)}, Rec. Dropout: {round(recurrent_dropout,2)}\")"
      ],
      "execution_count": 36,
      "outputs": [
        {
          "output_type": "stream",
          "text": [
            "WARNING:tensorflow:Layer lstm will not use cuDNN kernel since it doesn't meet the cuDNN kernel criteria. It will use generic GPU kernel as fallback when running on GPU\n",
            "Model: \"sequential\"\n",
            "_________________________________________________________________\n",
            "Layer (type)                 Output Shape              Param #   \n",
            "=================================================================\n",
            "embedding (Embedding)        (None, 144, 100)          617600    \n",
            "_________________________________________________________________\n",
            "lstm (LSTM)                  (None, 100)               80400     \n",
            "_________________________________________________________________\n",
            "dropout (Dropout)            (None, 100)               0         \n",
            "_________________________________________________________________\n",
            "dense (Dense)                (None, 3)                 303       \n",
            "=================================================================\n",
            "Total params: 698,303\n",
            "Trainable params: 698,303\n",
            "Non-trainable params: 0\n",
            "_________________________________________________________________\n",
            "None\n",
            "Epoch 1/20\n",
            "44/44 [==============================] - ETA: 0s - loss: 0.9473 - accuracy: 0.6018\n",
            "Epoch 00001: val_loss improved from inf to 0.88931, saving model to .\n",
            "WARNING:tensorflow:From /usr/local/lib/python3.6/dist-packages/tensorflow/python/training/tracking/tracking.py:111: Model.state_updates (from tensorflow.python.keras.engine.training) is deprecated and will be removed in a future version.\n",
            "Instructions for updating:\n",
            "This property should not be used in TensorFlow 2.0, as updates are applied automatically.\n",
            "WARNING:tensorflow:From /usr/local/lib/python3.6/dist-packages/tensorflow/python/training/tracking/tracking.py:111: Layer.updates (from tensorflow.python.keras.engine.base_layer) is deprecated and will be removed in a future version.\n",
            "Instructions for updating:\n",
            "This property should not be used in TensorFlow 2.0, as updates are applied automatically.\n",
            "INFO:tensorflow:Assets written to: ./assets\n",
            "44/44 [==============================] - 30s 680ms/step - loss: 0.9473 - accuracy: 0.6018 - val_loss: 0.8893 - val_accuracy: 0.6227\n",
            "Epoch 2/20\n",
            "44/44 [==============================] - ETA: 0s - loss: 0.8596 - accuracy: 0.6414\n",
            "Epoch 00002: val_loss improved from 0.88931 to 0.84735, saving model to .\n",
            "INFO:tensorflow:Assets written to: ./assets\n",
            "44/44 [==============================] - 30s 671ms/step - loss: 0.8596 - accuracy: 0.6414 - val_loss: 0.8473 - val_accuracy: 0.6346\n",
            "Epoch 3/20\n",
            "44/44 [==============================] - ETA: 0s - loss: 0.7616 - accuracy: 0.6844\n",
            "Epoch 00003: val_loss improved from 0.84735 to 0.81945, saving model to .\n",
            "INFO:tensorflow:Assets written to: ./assets\n",
            "44/44 [==============================] - 30s 682ms/step - loss: 0.7616 - accuracy: 0.6844 - val_loss: 0.8194 - val_accuracy: 0.6497\n",
            "Epoch 4/20\n",
            "44/44 [==============================] - ETA: 0s - loss: 0.6771 - accuracy: 0.7286\n",
            "Epoch 00004: val_loss did not improve from 0.81945\n",
            "44/44 [==============================] - 27s 622ms/step - loss: 0.6771 - accuracy: 0.7286 - val_loss: 0.8405 - val_accuracy: 0.6324\n",
            "Epoch 5/20\n",
            "44/44 [==============================] - ETA: 0s - loss: 0.6115 - accuracy: 0.7632\n",
            "Epoch 00005: val_loss did not improve from 0.81945\n",
            "44/44 [==============================] - 27s 616ms/step - loss: 0.6115 - accuracy: 0.7632 - val_loss: 0.8481 - val_accuracy: 0.6458\n",
            "Epoch 6/20\n",
            "44/44 [==============================] - ETA: 0s - loss: 0.5685 - accuracy: 0.7818\n",
            "Epoch 00006: val_loss did not improve from 0.81945\n",
            "44/44 [==============================] - 27s 614ms/step - loss: 0.5685 - accuracy: 0.7818 - val_loss: 0.9081 - val_accuracy: 0.6425\n"
          ],
          "name": "stdout"
        },
        {
          "output_type": "display_data",
          "data": {
            "image/png": "[encoded data removed]",
            "text/plain": [
              "<Figure size 720x288 with 2 Axes>"
            ]
          },
          "metadata": {
            "tags": [],
            "needs_background": "light"
          }
        }
      ]
    },
    {
      "cell_type": "code",
      "metadata": {
        "id": "f6KOrBsIYsg_",
        "colab_type": "code",
        "colab": {}
      },
      "source": [
        "# Save the model\n",
        "model.save('bigram_model.h5')"
      ],
      "execution_count": 37,
      "outputs": []
    }
  ]
}