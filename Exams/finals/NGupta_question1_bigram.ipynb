{
  "nbformat": 4,
  "nbformat_minor": 0,
  "metadata": {
    "orig_nbformat": 2,
    "kernelspec": {
      "name": "python3",
      "display_name": "Python 3"
    },
    "colab": {
      "name": "NGupta_question1.ipynb",
      "provenance": [],
      "toc_visible": true,
      "include_colab_link": true
    },
    "accelerator": "GPU"
  },
  "cells": [
    {
      "cell_type": "markdown",
      "metadata": {
        "id": "view-in-github",
        "colab_type": "text"
      },
      "source": [
        "<a href=\"https://colab.research.google.com/github/ngupta23/ds7337_nlp/blob/master/Exams/finals/NGupta_question1_bigram.ipynb\" target=\"_parent\"><img src=\"https://colab.research.google.com/assets/colab-badge.svg\" alt=\"Open In Colab\"/></a>"
      ]
    },
    {
      "cell_type": "markdown",
      "metadata": {
        "id": "9L3G13kZOOVt",
        "colab_type": "text"
      },
      "source": [
        "# Import Libraries"
      ]
    },
    {
      "cell_type": "code",
      "metadata": {
        "id": "2jwvszQUB2lo",
        "colab_type": "code",
        "colab": {}
      },
      "source": [
        "from typing import List, Tuple\n",
        "from time import time\n",
        "from datetime import datetime\n",
        "\n",
        "import numpy as np\n",
        "import pandas as pd\n",
        "\n",
        "from sklearn.model_selection import train_test_split\n",
        "\n",
        "import nltk\n",
        "from nltk.util import ngrams"
      ],
      "execution_count": 1,
      "outputs": []
    },
    {
      "cell_type": "markdown",
      "metadata": {
        "id": "O5OwrWUSOV6K",
        "colab_type": "text"
      },
      "source": [
        "# Get the Data"
      ]
    },
    {
      "cell_type": "code",
      "metadata": {
        "id": "UoLLis-mCYEv",
        "colab_type": "code",
        "colab": {
          "base_uri": "https://localhost:8080/",
          "height": 35
        },
        "outputId": "42ea4c88-94cc-4ffa-bd27-5c43ad332e93"
      },
      "source": [
        "import os.path\n",
        "\n",
        "filename = \"Sentiment.csv\"\n",
        "if os.path.isfile(filename):\n",
        "  print(\"File already exists. Will reuse the same ...\")\n",
        "else:\n",
        "  use_github_data = False\n",
        "  if use_github_data:\n",
        "    print(\"Loading fie from Github ...\")\n",
        "    filename = \"https://github.com/ngupta23/ds7337_nlp/blob/master/Exams/finals/Sentiment.csv\"\n",
        "  else:\n",
        "    print(\"Please upload your file to Colab ...\")\n",
        "    from google.colab import files\n",
        "    uploaded = files.upload()"
      ],
      "execution_count": 2,
      "outputs": [
        {
          "output_type": "stream",
          "text": [
            "File already exists. Will reuse the same ...\n"
          ],
          "name": "stdout"
        }
      ]
    },
    {
      "cell_type": "markdown",
      "metadata": {
        "id": "cz34bQCxObr4",
        "colab_type": "text"
      },
      "source": [
        "# Data Preparation"
      ]
    },
    {
      "cell_type": "code",
      "metadata": {
        "tags": [],
        "id": "SWitVpFmB2l3",
        "colab_type": "code",
        "colab": {
          "base_uri": "https://localhost:8080/",
          "height": 531
        },
        "outputId": "9345368e-21a7-4779-e6f5-eff78571d914"
      },
      "source": [
        "data = pd.read_csv(filename) #, encoding='latin-1')\n",
        "data.info()"
      ],
      "execution_count": 3,
      "outputs": [
        {
          "output_type": "stream",
          "text": [
            "<class 'pandas.core.frame.DataFrame'>\n",
            "RangeIndex: 13871 entries, 0 to 13870\n",
            "Data columns (total 21 columns):\n",
            " #   Column                     Non-Null Count  Dtype  \n",
            "---  ------                     --------------  -----  \n",
            " 0   id                         13871 non-null  int64  \n",
            " 1   candidate                  13775 non-null  object \n",
            " 2   candidate_confidence       13871 non-null  float64\n",
            " 3   relevant_yn                13871 non-null  object \n",
            " 4   relevant_yn_confidence     13871 non-null  float64\n",
            " 5   sentiment                  13871 non-null  object \n",
            " 6   sentiment_confidence       13871 non-null  float64\n",
            " 7   subject_matter             13545 non-null  object \n",
            " 8   subject_matter_confidence  13871 non-null  float64\n",
            " 9   candidate_gold             28 non-null     object \n",
            " 10  name                       13871 non-null  object \n",
            " 11  relevant_yn_gold           32 non-null     object \n",
            " 12  retweet_count              13871 non-null  int64  \n",
            " 13  sentiment_gold             15 non-null     object \n",
            " 14  subject_matter_gold        18 non-null     object \n",
            " 15  text                       13871 non-null  object \n",
            " 16  tweet_coord                21 non-null     object \n",
            " 17  tweet_created              13871 non-null  object \n",
            " 18  tweet_id                   13871 non-null  int64  \n",
            " 19  tweet_location             9959 non-null   object \n",
            " 20  user_timezone              9468 non-null   object \n",
            "dtypes: float64(4), int64(3), object(14)\n",
            "memory usage: 2.2+ MB\n"
          ],
          "name": "stdout"
        }
      ]
    },
    {
      "cell_type": "code",
      "metadata": {
        "tags": [],
        "id": "e_7SfuMwB2mI",
        "colab_type": "code",
        "colab": {
          "base_uri": "https://localhost:8080/",
          "height": 182
        },
        "outputId": "08764d6d-3c73-44ad-a4b5-2c86adb50fc2"
      },
      "source": [
        "data = data[['text', 'sentiment']]\n",
        "data.info()"
      ],
      "execution_count": 4,
      "outputs": [
        {
          "output_type": "stream",
          "text": [
            "<class 'pandas.core.frame.DataFrame'>\n",
            "RangeIndex: 13871 entries, 0 to 13870\n",
            "Data columns (total 2 columns):\n",
            " #   Column     Non-Null Count  Dtype \n",
            "---  ------     --------------  ----- \n",
            " 0   text       13871 non-null  object\n",
            " 1   sentiment  13871 non-null  object\n",
            "dtypes: object(2)\n",
            "memory usage: 216.9+ KB\n"
          ],
          "name": "stdout"
        }
      ]
    },
    {
      "cell_type": "code",
      "metadata": {
        "id": "LjMYsUhuB2mS",
        "colab_type": "code",
        "colab": {
          "base_uri": "https://localhost:8080/",
          "height": 206
        },
        "outputId": "0b7bef1d-c223-4a9f-c3ac-ad469276891f"
      },
      "source": [
        "data.head()"
      ],
      "execution_count": 5,
      "outputs": [
        {
          "output_type": "execute_result",
          "data": {
            "text/html": [
              "<div>\n",
              "<style scoped>\n",
              "    .dataframe tbody tr th:only-of-type {\n",
              "        vertical-align: middle;\n",
              "    }\n",
              "\n",
              "    .dataframe tbody tr th {\n",
              "        vertical-align: top;\n",
              "    }\n",
              "\n",
              "    .dataframe thead th {\n",
              "        text-align: right;\n",
              "    }\n",
              "</style>\n",
              "<table border=\"1\" class=\"dataframe\">\n",
              "  <thead>\n",
              "    <tr style=\"text-align: right;\">\n",
              "      <th></th>\n",
              "      <th>text</th>\n",
              "      <th>sentiment</th>\n",
              "    </tr>\n",
              "  </thead>\n",
              "  <tbody>\n",
              "    <tr>\n",
              "      <th>0</th>\n",
              "      <td>RT @NancyLeeGrahn: How did everyone feel about...</td>\n",
              "      <td>Neutral</td>\n",
              "    </tr>\n",
              "    <tr>\n",
              "      <th>1</th>\n",
              "      <td>RT @ScottWalker: Didn't catch the full #GOPdeb...</td>\n",
              "      <td>Positive</td>\n",
              "    </tr>\n",
              "    <tr>\n",
              "      <th>2</th>\n",
              "      <td>RT @TJMShow: No mention of Tamir Rice and the ...</td>\n",
              "      <td>Neutral</td>\n",
              "    </tr>\n",
              "    <tr>\n",
              "      <th>3</th>\n",
              "      <td>RT @RobGeorge: That Carly Fiorina is trending ...</td>\n",
              "      <td>Positive</td>\n",
              "    </tr>\n",
              "    <tr>\n",
              "      <th>4</th>\n",
              "      <td>RT @DanScavino: #GOPDebate w/ @realDonaldTrump...</td>\n",
              "      <td>Positive</td>\n",
              "    </tr>\n",
              "  </tbody>\n",
              "</table>\n",
              "</div>"
            ],
            "text/plain": [
              "                                                text sentiment\n",
              "0  RT @NancyLeeGrahn: How did everyone feel about...   Neutral\n",
              "1  RT @ScottWalker: Didn't catch the full #GOPdeb...  Positive\n",
              "2  RT @TJMShow: No mention of Tamir Rice and the ...   Neutral\n",
              "3  RT @RobGeorge: That Carly Fiorina is trending ...  Positive\n",
              "4  RT @DanScavino: #GOPDebate w/ @realDonaldTrump...  Positive"
            ]
          },
          "metadata": {
            "tags": []
          },
          "execution_count": 5
        }
      ]
    },
    {
      "cell_type": "markdown",
      "metadata": {
        "id": "cyKAmpuVOofa",
        "colab_type": "text"
      },
      "source": [
        "# Find Maximum Sequence Length"
      ]
    },
    {
      "cell_type": "code",
      "metadata": {
        "id": "KkbB3WuELm1Q",
        "colab_type": "code",
        "colab": {
          "base_uri": "https://localhost:8080/",
          "height": 206
        },
        "outputId": "4190c58b-b8d9-4cee-b689-4a888b23c150"
      },
      "source": [
        "data['len'] = data['text'].str.len()\n",
        "data.head()"
      ],
      "execution_count": 6,
      "outputs": [
        {
          "output_type": "execute_result",
          "data": {
            "text/html": [
              "<div>\n",
              "<style scoped>\n",
              "    .dataframe tbody tr th:only-of-type {\n",
              "        vertical-align: middle;\n",
              "    }\n",
              "\n",
              "    .dataframe tbody tr th {\n",
              "        vertical-align: top;\n",
              "    }\n",
              "\n",
              "    .dataframe thead th {\n",
              "        text-align: right;\n",
              "    }\n",
              "</style>\n",
              "<table border=\"1\" class=\"dataframe\">\n",
              "  <thead>\n",
              "    <tr style=\"text-align: right;\">\n",
              "      <th></th>\n",
              "      <th>text</th>\n",
              "      <th>sentiment</th>\n",
              "      <th>len</th>\n",
              "    </tr>\n",
              "  </thead>\n",
              "  <tbody>\n",
              "    <tr>\n",
              "      <th>0</th>\n",
              "      <td>RT @NancyLeeGrahn: How did everyone feel about...</td>\n",
              "      <td>Neutral</td>\n",
              "      <td>106</td>\n",
              "    </tr>\n",
              "    <tr>\n",
              "      <th>1</th>\n",
              "      <td>RT @ScottWalker: Didn't catch the full #GOPdeb...</td>\n",
              "      <td>Positive</td>\n",
              "      <td>140</td>\n",
              "    </tr>\n",
              "    <tr>\n",
              "      <th>2</th>\n",
              "      <td>RT @TJMShow: No mention of Tamir Rice and the ...</td>\n",
              "      <td>Neutral</td>\n",
              "      <td>84</td>\n",
              "    </tr>\n",
              "    <tr>\n",
              "      <th>3</th>\n",
              "      <td>RT @RobGeorge: That Carly Fiorina is trending ...</td>\n",
              "      <td>Positive</td>\n",
              "      <td>140</td>\n",
              "    </tr>\n",
              "    <tr>\n",
              "      <th>4</th>\n",
              "      <td>RT @DanScavino: #GOPDebate w/ @realDonaldTrump...</td>\n",
              "      <td>Positive</td>\n",
              "      <td>140</td>\n",
              "    </tr>\n",
              "  </tbody>\n",
              "</table>\n",
              "</div>"
            ],
            "text/plain": [
              "                                                text sentiment  len\n",
              "0  RT @NancyLeeGrahn: How did everyone feel about...   Neutral  106\n",
              "1  RT @ScottWalker: Didn't catch the full #GOPdeb...  Positive  140\n",
              "2  RT @TJMShow: No mention of Tamir Rice and the ...   Neutral   84\n",
              "3  RT @RobGeorge: That Carly Fiorina is trending ...  Positive  140\n",
              "4  RT @DanScavino: #GOPDebate w/ @realDonaldTrump...  Positive  140"
            ]
          },
          "metadata": {
            "tags": []
          },
          "execution_count": 6
        }
      ]
    },
    {
      "cell_type": "code",
      "metadata": {
        "id": "rAqeNqFtMHvu",
        "colab_type": "code",
        "colab": {
          "base_uri": "https://localhost:8080/",
          "height": 54
        },
        "outputId": "1a282d8e-c628-4b8a-8717-59411059e60f"
      },
      "source": [
        "print('Maximum review length: {}'.format(data['len'].max()))\n",
        "print('Minimum review length: {}'.format(data['len'].min()))\n"
      ],
      "execution_count": 7,
      "outputs": [
        {
          "output_type": "stream",
          "text": [
            "Maximum review length: 153\n",
            "Minimum review length: 19\n"
          ],
          "name": "stdout"
        }
      ]
    },
    {
      "cell_type": "code",
      "metadata": {
        "id": "DrdQvBm-MQcY",
        "colab_type": "code",
        "colab": {
          "base_uri": "https://localhost:8080/",
          "height": 318
        },
        "outputId": "990ffc74-22a9-4077-9e84-ad291f5a9588"
      },
      "source": [
        "data.hist(bins=100)"
      ],
      "execution_count": 8,
      "outputs": [
        {
          "output_type": "execute_result",
          "data": {
            "text/plain": [
              "array([[<matplotlib.axes._subplots.AxesSubplot object at 0x7fe1ccf219e8>]],\n",
              "      dtype=object)"
            ]
          },
          "metadata": {
            "tags": []
          },
          "execution_count": 8
        },
        {
          "output_type": "display_data",
          "data": {
            "image/png": "[encoded data removed]",
            "text/plain": [
              "<Figure size 432x288 with 1 Axes>"
            ]
          },
          "metadata": {
            "tags": [],
            "needs_background": "light"
          }
        }
      ]
    },
    {
      "cell_type": "code",
      "metadata": {
        "id": "E1493_-SMNyx",
        "colab_type": "code",
        "colab": {
          "base_uri": "https://localhost:8080/",
          "height": 35
        },
        "outputId": "8e637d27-b639-470b-b2ef-01575d2559fd"
      },
      "source": [
        "# Keep a large percentage of reviews completely and chop of the remainig reviews off.\n",
        "import numpy as np\n",
        "time_steps = int(np.quantile(data['len'],0.975))\n",
        "time_steps"
      ],
      "execution_count": 9,
      "outputs": [
        {
          "output_type": "execute_result",
          "data": {
            "text/plain": [
              "144"
            ]
          },
          "metadata": {
            "tags": []
          },
          "execution_count": 9
        }
      ]
    },
    {
      "cell_type": "markdown",
      "metadata": {
        "id": "DX91pzr9OvQg",
        "colab_type": "text"
      },
      "source": [
        "# Prepare Label"
      ]
    },
    {
      "cell_type": "code",
      "metadata": {
        "id": "98_XPM8jNe1g",
        "colab_type": "code",
        "colab": {
          "base_uri": "https://localhost:8080/",
          "height": 90
        },
        "outputId": "8e8775c9-2045-4772-bb4a-e39552441c89"
      },
      "source": [
        "data['sentiment'].value_counts()"
      ],
      "execution_count": 10,
      "outputs": [
        {
          "output_type": "execute_result",
          "data": {
            "text/plain": [
              "Negative    8493\n",
              "Neutral     3142\n",
              "Positive    2236\n",
              "Name: sentiment, dtype: int64"
            ]
          },
          "metadata": {
            "tags": []
          },
          "execution_count": 10
        }
      ]
    },
    {
      "cell_type": "code",
      "metadata": {
        "id": "WVQsPeAMNKJI",
        "colab_type": "code",
        "colab": {}
      },
      "source": [
        "data.loc[data['sentiment'] == 'Negative', 'sentiment'] = 0\n",
        "data.loc[data['sentiment'] == 'Neutral', 'sentiment'] = 1\n",
        "data.loc[data['sentiment'] == 'Positive', 'sentiment'] = 2"
      ],
      "execution_count": 11,
      "outputs": []
    },
    {
      "cell_type": "code",
      "metadata": {
        "id": "Z6PSLFHDNeXJ",
        "colab_type": "code",
        "colab": {
          "base_uri": "https://localhost:8080/",
          "height": 90
        },
        "outputId": "fe4b46bb-feac-44c3-c239-3a30eaf074b6"
      },
      "source": [
        "data['sentiment'].value_counts()"
      ],
      "execution_count": 12,
      "outputs": [
        {
          "output_type": "execute_result",
          "data": {
            "text/plain": [
              "0    8493\n",
              "1    3142\n",
              "2    2236\n",
              "Name: sentiment, dtype: int64"
            ]
          },
          "metadata": {
            "tags": []
          },
          "execution_count": 12
        }
      ]
    },
    {
      "cell_type": "markdown",
      "metadata": {
        "id": "RJdRmaEsO3XC",
        "colab_type": "text"
      },
      "source": [
        "# Train Test Split"
      ]
    },
    {
      "cell_type": "code",
      "metadata": {
        "id": "0iIseVDXM7VB",
        "colab_type": "code",
        "colab": {
          "base_uri": "https://localhost:8080/",
          "height": 54
        },
        "outputId": "db6673db-2530-44ab-850a-a5d36736e90c"
      },
      "source": [
        "X_train, X_test, y_train, y_test = train_test_split(\n",
        "    data['text'].values.astype('U'),\n",
        "    data['sentiment'].values.astype('int32'),\n",
        "    test_size=0.20,\n",
        "    random_state=42\n",
        ")\n",
        "\n",
        "print(f\"Number of samples: X_train: {len(X_train)}, y_train: {len(y_train)}\")\n",
        "print(f\"Number of samples: X_test: {len(X_test)}, y_test: {len(y_test)}\")"
      ],
      "execution_count": 13,
      "outputs": [
        {
          "output_type": "stream",
          "text": [
            "Number of samples: X_train: 11096, y_train: 11096\n",
            "Number of samples: X_test: 2775, y_test: 2775\n"
          ],
          "name": "stdout"
        }
      ]
    },
    {
      "cell_type": "code",
      "metadata": {
        "id": "HR3Jkl_fOM1i",
        "colab_type": "code",
        "colab": {
          "base_uri": "https://localhost:8080/",
          "height": 72
        },
        "outputId": "d0624e7a-922e-44d3-cd81-6af6c255c787"
      },
      "source": [
        "# Checking split --> both test and train contain roughly the same number of positive (and negative) sentiment reviews\n",
        "print(sum(y_train == 0)/len(y_train), sum(y_test == 0)/len(y_test))\n",
        "print(sum(y_train == 1)/len(y_train), sum(y_test == 1)/len(y_test))\n",
        "print(sum(y_train == 2)/len(y_train), sum(y_test == 2)/len(y_test))"
      ],
      "execution_count": 14,
      "outputs": [
        {
          "output_type": "stream",
          "text": [
            "0.6102198990627253 0.6205405405405405\n",
            "0.22801009372746936 0.22054054054054054\n",
            "0.16177000720980533 0.1589189189189189\n"
          ],
          "name": "stdout"
        }
      ]
    },
    {
      "cell_type": "markdown",
      "metadata": {
        "id": "AdPi_D24PHV_",
        "colab_type": "text"
      },
      "source": [
        "# Create Vocabulary"
      ]
    },
    {
      "cell_type": "code",
      "metadata": {
        "tags": [],
        "id": "r5hCZzntB2mb",
        "colab_type": "code",
        "colab": {
          "base_uri": "https://localhost:8080/",
          "height": 74
        },
        "outputId": "8e87eabd-36be-4907-c5f4-64c3c1bcb31c"
      },
      "source": [
        "# Bigram\n",
        "print(data.iloc[0]['text'])\n",
        "bigrams = list(ngrams(data.iloc[0]['text'], 2)) \n",
        "bigrams = [' '.join(bigram_tuple) for bigram_tuple in bigrams]\n",
        "print(bigrams)"
      ],
      "execution_count": 15,
      "outputs": [
        {
          "output_type": "stream",
          "text": [
            "RT @NancyLeeGrahn: How did everyone feel about the Climate Change question last night? Exactly. #GOPDebate\n",
            "['R T', 'T  ', '  @', '@ N', 'N a', 'a n', 'n c', 'c y', 'y L', 'L e', 'e e', 'e G', 'G r', 'r a', 'a h', 'h n', 'n :', ':  ', '  H', 'H o', 'o w', 'w  ', '  d', 'd i', 'i d', 'd  ', '  e', 'e v', 'v e', 'e r', 'r y', 'y o', 'o n', 'n e', 'e  ', '  f', 'f e', 'e e', 'e l', 'l  ', '  a', 'a b', 'b o', 'o u', 'u t', 't  ', '  t', 't h', 'h e', 'e  ', '  C', 'C l', 'l i', 'i m', 'm a', 'a t', 't e', 'e  ', '  C', 'C h', 'h a', 'a n', 'n g', 'g e', 'e  ', '  q', 'q u', 'u e', 'e s', 's t', 't i', 'i o', 'o n', 'n  ', '  l', 'l a', 'a s', 's t', 't  ', '  n', 'n i', 'i g', 'g h', 'h t', 't ?', '?  ', '  E', 'E x', 'x a', 'a c', 'c t', 't l', 'l y', 'y .', '.  ', '  #', '# G', 'G O', 'O P', 'P D', 'D e', 'e b', 'b a', 'a t', 't e']\n"
          ],
          "name": "stdout"
        }
      ]
    },
    {
      "cell_type": "code",
      "metadata": {
        "id": "9RTwvjV6D1Dm",
        "colab_type": "code",
        "colab": {}
      },
      "source": [
        "# # Very Slow\n",
        "# corpus = []\n",
        "# num_obs = len(data['text'])\n",
        "# times = 10  # Print 'times' times\n",
        "# count = 0\n",
        "# start = time()\n",
        "# for i, text_row in enumerate(X_train):\n",
        "#   if i%int(num_obs/times) == 0:\n",
        "#     now = datetime.now()\n",
        "#     current_time = now.strftime(\"%H:%M:%S\")\n",
        "#     print(f\"Row: {i+1} --> Percentage Complete: {count/times*100}%, Current Time: {current_time}\")\n",
        "#     count = count + 1\n",
        "#   bigrams = list(ngrams(text_row, 2)) \n",
        "#   bigrams = [''.join(bigram_tuple) for bigram_tuple in bigrams]\n",
        "#   corpus = corpus + bigrams \n",
        "# end = time()\n",
        "# print(f\"Time taken: {end-start}s\")"
      ],
      "execution_count": 16,
      "outputs": []
    },
    {
      "cell_type": "code",
      "metadata": {
        "id": "iBt8MLrtGIgK",
        "colab_type": "code",
        "colab": {}
      },
      "source": [
        "def tokenize_bigrams(text_row):\n",
        "  bigrams = list(ngrams(text_row, 2)) \n",
        "  bigrams = [''.join(bigram_tuple) for bigram_tuple in bigrams]\n",
        "  return bigrams"
      ],
      "execution_count": 17,
      "outputs": []
    },
    {
      "cell_type": "code",
      "metadata": {
        "id": "EdTbi_jbGP-U",
        "colab_type": "code",
        "colab": {
          "base_uri": "https://localhost:8080/",
          "height": 35
        },
        "outputId": "08365023-751f-4d7b-97b1-70e9ddabd975"
      },
      "source": [
        "# Faster Method (using map)\n",
        "start = time()\n",
        "X_train_tokenized = list(map(tokenize_bigrams, X_train)) \n",
        "end = time()\n",
        "print(f\"Time taken: {end-start}s\")"
      ],
      "execution_count": 18,
      "outputs": [
        {
          "output_type": "stream",
          "text": [
            "Time taken: 0.4993469715118408s\n"
          ],
          "name": "stdout"
        }
      ]
    },
    {
      "cell_type": "code",
      "metadata": {
        "id": "ZLNufjVyGa1u",
        "colab_type": "code",
        "colab": {}
      },
      "source": [
        "corpus = [token for line in X_train_tokenized for token in line]"
      ],
      "execution_count": 19,
      "outputs": []
    },
    {
      "cell_type": "code",
      "metadata": {
        "id": "2RnLVRvZEqyX",
        "colab_type": "code",
        "colab": {
          "base_uri": "https://localhost:8080/",
          "height": 55
        },
        "outputId": "ce2e5c24-47e4-4e56-eca3-ab350eee98a8"
      },
      "source": [
        "print(corpus[:300])"
      ],
      "execution_count": 20,
      "outputs": [
        {
          "output_type": "stream",
          "text": [
            "['RT', 'T ', ' @', '@R', 'RW', 'WS', 'Su', 'ur', 'rf', 'fe', 'er', 'rG', 'Gi', 'ir', 'rl', 'l:', ': ', ' W', 'We', 'e ', ' t', 'th', 'he', 'e ', ' A', 'Am', 'me', 'er', 'ri', 'ic', 'ca', 'an', 'n ', ' p', 'pe', 'eo', 'op', 'pl', 'le', 'e ', ' p', 'pi', 'ic', 'ck', 'k ', ' t', 'th', 'he', 'e ', ' n', 'ne', 'ex', 'xt', 't ', ' P', 'Pr', 're', 'es', 'si', 'id', 'de', 'en', 'nt', 't ', ' o', 'of', 'f ', ' U', 'Un', 'ni', 'it', 'te', 'ed', 'd ', ' S', 'St', 'ta', 'at', 'te', 'es', 's ', ' n', 'no', 'ot', 't ', ' F', 'FO', 'OX', 'X ', ' N', 'Ne', 'ew', 'ws', 's ', ' 🇺', '🇺🇸', '🇸 ', ' #', '#G', 'GO', 'OP', 'PD', 'De', 'eb', 'ba', 'at', 'te', 'e ', '  ', ' #', '#G', 'GO', 'OP', 'PD', 'De', 'eb', 'ba', 'at', 'te', 'es', 'RT', 'T ', ' @', '@K', 'Ke', 'ev', 'vX', 'XI', 'In', 'nd', 'dy', 'y:', ': ', ' I', 'I ', ' s', 'se', 'er', 'ri', 'io', 'ou', 'us', 'sl', 'ly', 'y ', ' w', 'wi', 'is', 'sh', 'h ', ' @', '@J', 'Ja', 'am', 'me', 'es', 'sR', 'Ro', 'os', 'se', 'en', 'nF', 'FN', 'NC', 'C ', ' w', 'wa', 'as', 's ', ' o', 'on', 'ne', 'e ', ' o', 'of', 'f ', ' t', 'to', 'on', 'ni', 'ig', 'gh', 'ht', \"t'\", \"'s\", 's ', ' m', 'mo', 'od', 'de', 'er', 'ra', 'at', 'to', 'or', 'rs', 's ', ' #', '#F', 'FO', 'OX', 'XN', 'NE', 'EW', 'WS', 'SD', 'DE', 'EB', 'BA', 'AT', 'TE', 'E ', ' #', '#G', 'GO', 'OP', 'PD', 'De', 'eb', 'ba', 'at', 'te', '#T', 'Tr', 'ru', 'um', 'mp', 'p ', ' g', 'ge', 'et', 'tt', 'ti', 'in', 'ng', 'g ', ' s', 'sh', 'hi', 'it', 't ', ' f', 'fo', 'or', 'r ', ' r', 'ra', 'ai', 'is', 'si', 'in', 'ng', 'g ', ' h', 'hi', 'is', 's ', ' h', 'ha', 'an', 'nd', 'd ', ' l', 'la', 'as', 'st', 't ', ' n', 'ni', 'ig', 'gh', 'ht', 't!', '! ', ' M', 'Ma', 'ak', 'ke', 'e ', ' \"', '\"A', 'Am', 'me', 'er', 'ri', 'ic', 'ca', 'a\"', '\" ', ' g', 'gr', 're', 'ea', 'at', 't ', ' a', 'ag', 'ga', 'ai', 'in']\n"
          ],
          "name": "stdout"
        }
      ]
    },
    {
      "cell_type": "code",
      "metadata": {
        "id": "zS8CDdwcDHAP",
        "colab_type": "code",
        "colab": {
          "base_uri": "https://localhost:8080/",
          "height": 74
        },
        "outputId": "8064f022-1f44-4732-b2e8-783da57a6561"
      },
      "source": [
        "fdist = nltk.FreqDist(corpus)\n",
        "print(fdist.most_common()[:20])\n",
        "# We can use the count to filter out less common words (noise), but this has not been done here.\n",
        "vocab = [char for char, count in fdist.most_common() if count >= 1] \n",
        "print(vocab[:20])"
      ],
      "execution_count": 21,
      "outputs": [
        {
          "output_type": "stream",
          "text": [
            "[('e ', 28213), ('at', 20934), ('te', 18874), ('s ', 18671), (' t', 18084), (' #', 15932), ('t ', 15612), ('ba', 14037), ('th', 13854), ('eb', 13748), ('he', 13265), ('in', 12546), ('GO', 12272), ('OP', 12187), ('#G', 11985), ('er', 11819), ('De', 11777), ('es', 11636), (' a', 11465), ('an', 11447)]\n",
            "['e ', 'at', 'te', 's ', ' t', ' #', 't ', 'ba', 'th', 'eb', 'he', 'in', 'GO', 'OP', '#G', 'er', 'De', 'es', ' a', 'an']\n"
          ],
          "name": "stdout"
        }
      ]
    },
    {
      "cell_type": "code",
      "metadata": {
        "id": "G3J5dYLnDnkx",
        "colab_type": "code",
        "colab": {
          "base_uri": "https://localhost:8080/",
          "height": 35
        },
        "outputId": "2948131c-aff2-44d7-e0aa-5d994b98e8a3"
      },
      "source": [
        "print(len(vocab))"
      ],
      "execution_count": 22,
      "outputs": [
        {
          "output_type": "stream",
          "text": [
            "6023\n"
          ],
          "name": "stdout"
        }
      ]
    },
    {
      "cell_type": "code",
      "metadata": {
        "id": "WBg7ExM9Fam1",
        "colab_type": "code",
        "colab": {}
      },
      "source": [
        "word_index = {}\n",
        "word_index[\"<PAD>\"] = 0\n",
        "word_index[\"<START>\"] = 1\n",
        "word_index[\"<UNK>\"] = 2\n",
        "for index, word in enumerate(vocab):\n",
        "  word_index[word] = index+3"
      ],
      "execution_count": 23,
      "outputs": []
    },
    {
      "cell_type": "code",
      "metadata": {
        "id": "jdBlq_c0JV-c",
        "colab_type": "code",
        "colab": {
          "base_uri": "https://localhost:8080/",
          "height": 201
        },
        "outputId": "d6258d11-3a58-44a2-c012-888139fd45ec"
      },
      "source": [
        "reverse_word_index = dict([(value, key) for (key, value) in word_index.items()])\n",
        "[(i, reverse_word_index.get(i)) for i in np.arange(10)]"
      ],
      "execution_count": 24,
      "outputs": [
        {
          "output_type": "execute_result",
          "data": {
            "text/plain": [
              "[(0, '<PAD>'),\n",
              " (1, '<START>'),\n",
              " (2, '<UNK>'),\n",
              " (3, 'e '),\n",
              " (4, 'at'),\n",
              " (5, 'te'),\n",
              " (6, 's '),\n",
              " (7, ' t'),\n",
              " (8, ' #'),\n",
              " (9, 't ')]"
            ]
          },
          "metadata": {
            "tags": []
          },
          "execution_count": 24
        }
      ]
    },
    {
      "cell_type": "code",
      "metadata": {
        "id": "39cdCCSKJr4k",
        "colab_type": "code",
        "colab": {
          "base_uri": "https://localhost:8080/",
          "height": 35
        },
        "outputId": "309bf3f9-64e0-4a57-ae19-e61bf2b50892"
      },
      "source": [
        "vocabulary_size = len(word_index.keys())\n",
        "vocabulary_size"
      ],
      "execution_count": 25,
      "outputs": [
        {
          "output_type": "execute_result",
          "data": {
            "text/plain": [
              "6026"
            ]
          },
          "metadata": {
            "tags": []
          },
          "execution_count": 25
        }
      ]
    },
    {
      "cell_type": "markdown",
      "metadata": {
        "id": "ONMpZeyWRali",
        "colab_type": "text"
      },
      "source": [
        "# Encoding and Decoding"
      ]
    },
    {
      "cell_type": "code",
      "metadata": {
        "id": "rC5hAL1mJ3DG",
        "colab_type": "code",
        "colab": {}
      },
      "source": [
        "def encode(plain_text: str) -> List[int]:\n",
        "  # tokens = list(ngrams(plain_text, 2)) \n",
        "  # tokens = [''.join(bigram_tuple) for bigram_tuple in bigrams]\n",
        "  tokens = tokenize_bigrams(plain_text)\n",
        "  return [word_index[token] if token in word_index.keys() else word_index[\"<UNK>\"] for token in tokens]\n",
        "\n",
        "def decode(encoded_text):\n",
        "  all_but_last = ''.join([reverse_word_index.get(i, '??')[0] for i in encoded_text]) # Pick the first letter of each bigram\n",
        "  decoded = all_but_last + reverse_word_index.get(encoded_text[-1], '??')[1]  # Take last letter of lasr bigram\n",
        "  return decoded"
      ],
      "execution_count": 26,
      "outputs": []
    },
    {
      "cell_type": "code",
      "metadata": {
        "id": "edvKcAGbKFfc",
        "colab_type": "code",
        "colab": {}
      },
      "source": [
        "def encode_decode_check(original_text):\n",
        "  print(\"\\n\")\n",
        "  print(f\"Original: {original_text}\")\n",
        "  encoded = encode(original_text)\n",
        "  print(f\"Encoded: {encoded}\")\n",
        "  decoded = decode(encoded)\n",
        "  print(f\"Decoded: {decoded}\")\n",
        "  same = decoded == original_text\n",
        "  print(f\"Decoded = Original: {same}\")"
      ],
      "execution_count": 27,
      "outputs": []
    },
    {
      "cell_type": "code",
      "metadata": {
        "id": "ERQKz8BrKMWN",
        "colab_type": "code",
        "colab": {
          "base_uri": "https://localhost:8080/",
          "height": 588
        },
        "outputId": "2add4f6e-9702-48cb-c1c4-377f9734412d"
      },
      "source": [
        "random_train = X_train[np.random.choice(len(X_train), 5)]\n",
        "random_train\n",
        "\n",
        "for text in random_train:\n",
        "  encode_decode_check(text)"
      ],
      "execution_count": 28,
      "outputs": [
        {
          "output_type": "stream",
          "text": [
            "\n",
            "\n",
            "Original: RT @SpudLovr: Under #Walker16, Wisconsin went from 11th to 35th in new jobs, wages fell 2.7%, state spending increased by 15% #GOPDebate #t…\n",
            "Encoded: [45, 40, 25, 366, 818, 282, 456, 1572, 474, 251, 1727, 375, 32, 444, 503, 46, 63, 18, 35, 8, 678, 263, 30, 314, 103, 18, 1122, 376, 3455, 76, 167, 478, 36, 404, 51, 23, 143, 142, 14, 27, 31, 185, 47, 72, 9, 66, 255, 117, 109, 137, 435, 1021, 2086, 11, 123, 7, 49, 42, 721, 1256, 4988, 11, 123, 37, 14, 27, 85, 77, 171, 213, 285, 354, 315, 581, 321, 76, 31, 128, 261, 156, 20, 6, 66, 139, 90, 53, 84, 454, 1495, 4017, 3646, 4958, 76, 43, 41, 112, 4, 5, 3, 43, 312, 154, 47, 46, 110, 14, 38, 55, 37, 14, 216, 305, 28, 58, 69, 80, 60, 26, 65, 382, 33, 435, 822, 2866, 965, 8, 17, 15, 16, 24, 19, 12, 10, 4, 5, 3, 8, 463, 495]\n",
            "Decoded: RT @SpudLovr: Under #Walker16, Wisconsin went from 11th to 35th in new jobs, wages fell 2.7%, state spending increased by 15% #GOPDebate #t…\n",
            "Decoded = Original: True\n",
            "\n",
            "\n",
            "Original: RT @BettyFckinWhite: So many great jokes on Twitter tonight about the #GOPDebates, but not as many as there were on stage.\n",
            "Encoded: [45, 40, 25, 440, 310, 124, 64, 268, 483, 887, 153, 226, 14, 763, 298, 75, 57, 5, 281, 32, 220, 362, 42, 68, 121, 22, 290, 33, 140, 309, 28, 58, 4, 9, 285, 354, 328, 103, 20, 6, 39, 23, 27, 92, 516, 175, 57, 64, 5, 18, 35, 7, 49, 23, 126, 129, 138, 56, 9, 21, 173, 191, 44, 116, 9, 7, 11, 13, 3, 8, 17, 15, 16, 24, 19, 12, 10, 4, 5, 20, 321, 76, 65, 279, 116, 9, 85, 133, 94, 9, 21, 69, 6, 68, 121, 22, 290, 33, 21, 69, 6, 7, 11, 13, 18, 28, 3, 31, 185, 18, 28, 3, 39, 23, 27, 43, 41, 112, 261, 156, 209]\n",
            "Decoded: RT @BettyFckinWhite: So many great jokes on Twitter tonight about the #GOPDebates, but not as many as there were on stage.\n",
            "Decoded = Original: True\n",
            "\n",
            "\n",
            "Original: RT @BachmannsBrain: Wow, I forgot Chris Christie was even there. The smell of desperation, flop sweat, and salami would have tipped me off.…\n",
            "Encoded: [45, 40, 25, 440, 395, 135, 127, 893, 121, 22, 275, 143, 1431, 497, 120, 159, 14, 392, 32, 167, 532, 146, 1014, 76, 96, 152, 66, 144, 48, 459, 217, 94, 9, 147, 254, 258, 61, 36, 6, 147, 254, 258, 61, 36, 41, 52, 148, 3, 31, 128, 69, 6, 158, 246, 79, 47, 27, 7, 11, 13, 18, 28, 209, 34, 92, 164, 13, 3, 43, 460, 59, 90, 53, 84, 39, 102, 89, 67, 63, 20, 312, 154, 18, 120, 4, 52, 91, 23, 420, 76, 66, 506, 180, 178, 97, 43, 498, 185, 58, 4, 390, 76, 21, 22, 46, 26, 43, 224, 30, 95, 131, 202, 633, 31, 197, 44, 157, 100, 26, 29, 54, 242, 79, 3, 7, 52, 501, 303, 154, 60, 26, 68, 59, 3, 39, 102, 368, 1264, 1033]\n",
            "Decoded: RT @BachmannsBrain: Wow, I forgot Chris Christie was even there. The smell of desperation, flop sweat, and salami would have tipped me off.…\n",
            "Decoded = Original: True\n",
            "\n",
            "\n",
            "Original: RT @RWSurferGirl: Fox is cherry picking the candidates. Jeb gets the softball questions. 🇺🇸 #GOPDebates  #GOPDebates\n",
            "Encoded: [45, 40, 25, 166, 199, 186, 170, 87, 177, 139, 18, 187, 193, 111, 149, 183, 32, 182, 210, 212, 270, 37, 36, 6, 62, 127, 13, 18, 278, 151, 33, 74, 269, 83, 153, 226, 14, 38, 55, 7, 11, 13, 3, 62, 82, 22, 46, 110, 93, 179, 4, 5, 20, 184, 34, 316, 324, 12, 341, 140, 156, 124, 195, 6, 7, 11, 13, 3, 43, 161, 102, 371, 622, 10, 30, 53, 84, 329, 296, 238, 20, 41, 52, 91, 23, 143, 184, 34, 219, 215, 234, 8, 17, 15, 16, 24, 19, 12, 10, 4, 5, 20, 6, 105, 8, 17, 15, 16, 24, 19, 12, 10, 4, 5, 20]\n",
            "Decoded: RT @RWSurferGirl: Fox is cherry picking the candidates. Jeb gets the softball questions. 🇺🇸 #GOPDebates  #GOPDebates\n",
            "Decoded = Original: True\n",
            "\n",
            "\n",
            "Original: RT @SenWhitehouse: FOX silenced by Koch billions too? Not a single question at last night's #GOPDebate to #climatechange deniers about Mond…\n",
            "Encoded: [45, 40, 25, 366, 511, 47, 763, 298, 75, 57, 5, 663, 114, 44, 107, 80, 281, 32, 182, 450, 471, 515, 43, 142, 130, 78, 47, 216, 136, 60, 26, 65, 382, 33, 403, 669, 301, 127, 123, 65, 271, 130, 53, 70, 91, 23, 143, 6, 7, 49, 205, 1059, 196, 235, 394, 94, 9, 21, 86, 43, 142, 14, 38, 573, 78, 3, 329, 296, 238, 20, 41, 52, 91, 23, 27, 21, 4, 9, 88, 95, 69, 41, 9, 85, 126, 129, 138, 56, 318, 174, 6, 8, 17, 15, 16, 24, 19, 12, 10, 4, 5, 3, 7, 49, 42, 8, 670, 356, 70, 176, 121, 4, 5, 214, 127, 54, 22, 38, 156, 3, 67, 63, 47, 126, 148, 18, 150, 6, 21, 173, 191, 44, 116, 9, 266, 538, 23, 46, 1842]\n",
            "Decoded: RT @SenWhitehouse: FOX silenced by Koch billions too? Not a single question at last night's #GOPDebate to #climatechange deniers about Mond…\n",
            "Decoded = Original: True\n"
          ],
          "name": "stdout"
        }
      ]
    },
    {
      "cell_type": "code",
      "metadata": {
        "id": "OsxwJy7iO2KB",
        "colab_type": "code",
        "colab": {
          "base_uri": "https://localhost:8080/",
          "height": 588
        },
        "outputId": "23d69e78-caa0-4b4c-86d2-c7f49f656fdd"
      },
      "source": [
        "random_test = X_test[np.random.choice(len(X_test), 5)]\n",
        "random_test\n",
        "\n",
        "for text in random_test:\n",
        "  encode_decode_check(text)"
      ],
      "execution_count": 29,
      "outputs": [
        {
          "output_type": "stream",
          "text": [
            "\n",
            "\n",
            "Original: #Bernie Sanders live-tweeted the #GOPDebate http://t.co/0bCP3dHFYQ via @HuffPostPol\n",
            "Encoded: [512, 310, 18, 320, 126, 148, 3, 220, 466, 22, 46, 63, 18, 150, 6, 88, 70, 257, 79, 630, 1253, 452, 185, 132, 124, 5, 60, 26, 7, 11, 13, 3, 8, 17, 15, 16, 24, 19, 12, 10, 4, 5, 3, 29, 56, 64, 99, 134, 104, 108, 106, 81, 115, 51, 118, 1241, 5144, 2523, 1404, 1590, 4728, 3158, 4267, 2048, 4957, 1558, 272, 247, 222, 86, 25, 569, 393, 758, 368, 1475, 509, 194, 41, 1396, 509, 165]\n",
            "Decoded: #Bernie Sanders live-tweeted the #GOPDebate http://t.co/0bCP3dHFYQ via @HuffPostPol\n",
            "Decoded = Original: True\n",
            "\n",
            "\n",
            "Original: RT @pacsgirl36: @rushlimbaugh yep @megynkelly sucked at #GOPDebate  @realDonaldTrump  country is in a mess &amp; debate questions Terrible\n",
            "Encoded: [45, 40, 25, 680, 300, 135, 500, 791, 334, 111, 149, 1903, 1941, 1238, 32, 25, 259, 71, 107, 141, 563, 70, 176, 425, 10, 295, 332, 138, 123, 169, 367, 253, 97, 25, 265, 59, 239, 293, 284, 208, 103, 90, 53, 113, 33, 43, 277, 256, 153, 103, 60, 26, 21, 4, 9, 8, 17, 15, 16, 24, 19, 12, 10, 4, 5, 3, 105, 25, 259, 28, 58, 30, 283, 188, 23, 101, 30, 100, 262, 122, 71, 98, 73, 97, 105, 62, 51, 44, 181, 72, 200, 151, 33, 37, 36, 6, 37, 14, 27, 21, 86, 68, 59, 20, 190, 6, 294, 292, 131, 73, 291, 273, 67, 63, 12, 10, 4, 5, 3, 329, 296, 238, 20, 41, 52, 91, 23, 143, 6, 92, 405, 18, 278, 61, 480, 241, 78]\n",
            "Decoded: RT @pacsgirl36: @rushlimbaugh yep @megynkelly sucked at #GOPDebate  @realDonaldTrump  country is in a mess &amp; debate questions Terrible\n",
            "Decoded = Original: True\n",
            "\n",
            "\n",
            "Original: #MarcoRubio speaks from a true American position. He's not perfect, but trying hard, giving it his very best  #FOXNEWSDEBATE #GOPDebates\n",
            "Encoded: [645, 306, 50, 386, 51, 1541, 398, 245, 271, 91, 42, 43, 312, 154, 58, 228, 343, 6, 66, 255, 117, 109, 137, 21, 86, 7, 200, 71, 238, 3, 206, 340, 59, 18, 61, 83, 82, 22, 27, 74, 162, 194, 142, 57, 52, 91, 23, 299, 34, 249, 424, 396, 174, 6, 85, 133, 94, 9, 74, 154, 18, 177, 139, 214, 232, 390, 76, 65, 279, 116, 9, 7, 200, 151, 407, 14, 38, 55, 29, 54, 50, 267, 539, 76, 140, 334, 257, 247, 14, 38, 55, 37, 57, 9, 29, 75, 36, 6, 272, 79, 18, 151, 33, 65, 125, 20, 41, 9, 105, 8, 443, 450, 471, 1015, 617, 849, 186, 1254, 674, 723, 651, 549, 599, 402, 8, 17, 15, 16, 24, 19, 12, 10, 4, 5, 20]\n",
            "Decoded: #MarcoRubio speaks from a true American position. He's not perfect, but trying hard, giving it his very best  #FOXNEWSDEBATE #GOPDebates\n",
            "Decoded = Original: True\n",
            "\n",
            "\n",
            "Original: \"The most unexpected part of the GOP Debate was seeing a commercial for Straight Outta Compton on Fox News\" #GOPDebate\n",
            "Encoded: [705, 164, 13, 3, 68, 155, 194, 41, 9, 237, 181, 77, 287, 513, 154, 214, 232, 5, 60, 26, 74, 300, 50, 203, 9, 39, 102, 89, 7, 11, 13, 3, 250, 15, 16, 337, 227, 19, 12, 10, 4, 5, 3, 31, 128, 69, 6, 43, 80, 132, 286, 14, 38, 55, 21, 86, 62, 51, 109, 355, 59, 18, 386, 297, 222, 30, 84, 66, 144, 48, 35, 220, 353, 200, 120, 159, 129, 138, 56, 9, 331, 766, 116, 64, 112, 86, 147, 399, 109, 73, 494, 49, 23, 27, 39, 23, 27, 182, 210, 212, 270, 235, 230, 171, 218, 551, 252, 8, 17, 15, 16, 24, 19, 12, 10, 4, 5]\n",
            "Decoded: \"The most unexpected part of the GOP Debate was seeing a commercial for Straight Outta Compton on Fox News\" #GOPDebate\n",
            "Decoded = Original: True\n",
            "\n",
            "\n",
            "Original: @SmittyMyBro Their publicly stated beliefs alone are enough to prove just how moon howling batshit crazy these skin jobs are. #GOPDebate\n",
            "Encoded: [366, 1115, 202, 57, 64, 268, 1137, 588, 1268, 497, 117, 42, 92, 164, 13, 286, 111, 35, 74, 282, 245, 241, 70, 83, 356, 113, 33, 43, 41, 112, 4, 5, 60, 26, 65, 125, 90, 70, 148, 369, 1231, 6, 21, 30, 180, 23, 77, 3, 21, 50, 28, 3, 158, 47, 133, 44, 332, 138, 123, 7, 49, 42, 74, 225, 117, 251, 79, 3, 285, 344, 107, 41, 9, 29, 114, 146, 213, 68, 155, 205, 23, 27, 29, 114, 146, 1071, 70, 14, 38, 55, 65, 10, 4, 195, 141, 75, 57, 9, 62, 305, 120, 704, 1240, 33, 7, 11, 13, 20, 80, 3, 43, 348, 226, 14, 27, 285, 354, 315, 581, 6, 21, 50, 28, 209, 34, 8, 17, 15, 16, 24, 19, 12, 10, 4, 5]\n",
            "Decoded: @SmittyMyBro Their publicly stated beliefs alone are enough to prove just how moon howling batshit crazy these skin jobs are. #GOPDebate\n",
            "Decoded = Original: True\n"
          ],
          "name": "stdout"
        }
      ]
    },
    {
      "cell_type": "code",
      "metadata": {
        "id": "Ju0xEz03KVp1",
        "colab_type": "code",
        "colab": {}
      },
      "source": [
        "X_train_encoded = [encode(text) for text in X_train]\n",
        "X_test_encoded = [encode(text) for text in X_test]"
      ],
      "execution_count": 30,
      "outputs": []
    },
    {
      "cell_type": "markdown",
      "metadata": {
        "id": "2Cl70CueRkAx",
        "colab_type": "text"
      },
      "source": [
        "# Zero Padding"
      ]
    },
    {
      "cell_type": "code",
      "metadata": {
        "id": "H0cpgQ_RLVZb",
        "colab_type": "code",
        "colab": {}
      },
      "source": [
        "from tensorflow.keras.preprocessing import sequence\n",
        "\n",
        "X_train_encoded = sequence.pad_sequences(X_train_encoded, maxlen=time_steps)\n",
        "X_test_encoded = sequence.pad_sequences(X_test_encoded, maxlen=time_steps)"
      ],
      "execution_count": 31,
      "outputs": []
    },
    {
      "cell_type": "code",
      "metadata": {
        "id": "4qhAnUqhOtT1",
        "colab_type": "code",
        "colab": {
          "base_uri": "https://localhost:8080/",
          "height": 531
        },
        "outputId": "e3070b87-1998-40b6-be6c-606848aa6925"
      },
      "source": [
        "X_train_encoded[0:2]"
      ],
      "execution_count": 32,
      "outputs": [
        {
          "output_type": "execute_result",
          "data": {
            "text/plain": [
              "array([[   0,    0,    0,    0,    0,    0,    0,    0,    0,    0,    0,\n",
              "           0,    0,    0,    0,    0,    0,    0,    0,    0,    0,    0,\n",
              "           0,    0,   45,   40,   25,  166,  199,  186,  170,   87,  177,\n",
              "         139,   18,  187,  193,  111,  149,  183,   32,  167,  391,    3,\n",
              "           7,   11,   13,    3,  206,  340,   59,   18,   61,   83,   82,\n",
              "          22,   27,   74,  154,  308,  178,  243,   78,    3,   74,  269,\n",
              "          83,  153,  145,    7,   11,   13,    3,   85,   77,  287,  451,\n",
              "           9,  244,  350,   28,   20,  142,   93,   63,   47,   72,    9,\n",
              "          39,  102,   89,  444,  503,  126,   57,    5,   60,   26,  220,\n",
              "         353,  112,    4,    5,   20,    6,   85,  133,   94,    9,  182,\n",
              "         450,  471,  515,  235,  230,  171,  218,    6,  219,  215,  234,\n",
              "           8,   17,   15,   16,   24,   19,   12,   10,    4,    5,    3,\n",
              "         105,    8,   17,   15,   16,   24,   19,   12,   10,    4,    5,\n",
              "          20],\n",
              "       [   0,    0,    0,    0,    0,    0,    0,    0,    0,    0,    0,\n",
              "           0,    0,    0,    0,    0,    0,    0,    0,    0,    0,    0,\n",
              "           0,    0,    0,    0,    0,    0,    0,    0,    0,    0,    0,\n",
              "           0,    0,    0,    0,    0,    0,    0,    0,    0,   45,   40,\n",
              "          25,  690,  447,  246, 2374, 2977,  524,   46,  426,  342,   32,\n",
              "          96,  152,   43,   80,   18,   61,   91,   44,  107,  431,  113,\n",
              "          33,   31,  175,   36,  141,  123,   25,  449,  744,  131,   59,\n",
              "          20, 1683,  493,  194,   80,   47, 1107, 1067,  848,  619,   31,\n",
              "         128,   69,    6,   39,   23,   77,    3,   39,  102,   89,    7,\n",
              "          49,   23,  126,  129,  138,   56,  318,  174,    6,   68,  155,\n",
              "         233,   63,   18,  120,    4,   49,   48,  150,    6,    8,  443,\n",
              "         450,  471, 1015,  617,  849,  186, 1254,  674,  723,  651,  549,\n",
              "         599,  402,    8,   17,   15,   16,   24,   19,   12,   10,    4,\n",
              "           5]], dtype=int32)"
            ]
          },
          "metadata": {
            "tags": []
          },
          "execution_count": 32
        }
      ]
    },
    {
      "cell_type": "code",
      "metadata": {
        "id": "g1-iJ2nOOwJ4",
        "colab_type": "code",
        "colab": {
          "base_uri": "https://localhost:8080/",
          "height": 531
        },
        "outputId": "9fe567a6-c5b4-4df2-93c5-1983b0a82611"
      },
      "source": [
        "X_test_encoded[0:2]"
      ],
      "execution_count": 33,
      "outputs": [
        {
          "output_type": "execute_result",
          "data": {
            "text/plain": [
              "array([[   0,    0,    0,    0,    0,    0,    0,    0,    0,    0,    0,\n",
              "           0,    0,    0,    0,    0,    0,    0,    0,    0,    0,    0,\n",
              "           0,    0,    0,    0,    0,    0,    0,    0,    0,    0,    0,\n",
              "           0,    0,    0,    0,    0,    0,    0,    0,    0,    0,    0,\n",
              "           0,    0,    0,    0,    0,    0,    0,    0,    0,    0,    0,\n",
              "           0,    0,    0,    0,    0,    0,    0,    0,    0,    0,    0,\n",
              "           0,    0,    0,  499,   42,   68,   59,  349,   76,    7,   11,\n",
              "          13,    3,  119,   28,   58,   30,   84,   31,  175,   14,  275,\n",
              "          77,   18,   35,   39,  102,   89,   88,   95,   69,   41,    9,\n",
              "          85,  126,  129,  138,   56,    9,    8,   17,   15,   16,   24,\n",
              "          19,   12,   10,    4,    5,    3,   31,  128,   69,    6,   25,\n",
              "         265,   59,  239,  293,  284,  208,  103,   90,   53,  113,  416,\n",
              "          34,    8,  645,  352,  239,  293,  284,  607,  447,   90,   53,\n",
              "         113],\n",
              "       [   0,    0,    0,    0,    0,   45,   40,   25,  470,  514,   22,\n",
              "         772,  475,   82,  242,  247,   14,  133,  595,   32,  457,  464,\n",
              "         265,   59,  239,  293,  284,  208,  103,   90,   53,  113,  486,\n",
              "        4264, 1585,  362,  109,   59,    3,  119,   28,   20,  277,  157,\n",
              "         339,  195,    6,   39,   23,   27,   29,  114,  146,  213,   62,\n",
              "          82,   22,   46,  110,   93,  179,    4,    5,   20,    6,   67,\n",
              "         110,   93,   26,   21,    4,    9,    8,   17,   15,   16,   24,\n",
              "          19,   12,   10,    4,    5,  209,   34,    8,  645,  306,  228,\n",
              "         103,  863,  340,   59,   18,   61,   83,   82, 1106,  571,   28,\n",
              "          58,    4,  861,  991,  319,  159,   14,   27,    8,  345,  122,\n",
              "          71,   98,   73,  703,  363,  380,  376,  429,    8,  575,  447,\n",
              "          90,   53,  113,  483,  406,  159,  130,   78,   60,   26,   29,\n",
              "          56,   64,   99,  134,  104,  108,  106,   81,  115,   51,  118,\n",
              "         782]], dtype=int32)"
            ]
          },
          "metadata": {
            "tags": []
          },
          "execution_count": 33
        }
      ]
    },
    {
      "cell_type": "markdown",
      "metadata": {
        "id": "1WXwBQQ0Rodu",
        "colab_type": "text"
      },
      "source": [
        "# Model Training"
      ]
    },
    {
      "cell_type": "code",
      "metadata": {
        "id": "WQCR5F8EOzE1",
        "colab_type": "code",
        "colab": {}
      },
      "source": [
        "import tensorflow as tf\n",
        "from tensorflow.keras import Sequential\n",
        "from tensorflow.keras.layers import Embedding, Dense, Dropout\n",
        "from tensorflow.keras.layers import SimpleRNN as RNN\n",
        "from tensorflow.keras.layers import LSTM as LSTM\n",
        "from tensorflow.keras.layers import GRU as GRU"
      ],
      "execution_count": 34,
      "outputs": []
    },
    {
      "cell_type": "code",
      "metadata": {
        "id": "KklDFGZzO-0d",
        "colab_type": "code",
        "colab": {}
      },
      "source": [
        "import matplotlib.pyplot as plt\n",
        "%matplotlib inline\n",
        "\n",
        "def plot_metrics(history: tf.python.keras.callbacks.History, metrics: List[str] = ['loss'], figsize: Tuple[int, int] = (10,4), title: str = \"Train/Test Curves\", titlefontsize:int = 14):\n",
        "  \"\"\"\n",
        "  This functin will plot the metrics for the model\n",
        "  :param history: The history object obtained from the fit function.\n",
        "  :type history: tf.python.keras.callbacks.History\n",
        "  :param metrics: What metrics to plot for the model (Default = ['loss'])\n",
        "  :type metrics: List[str]\n",
        "  :param figsize: Figure size to be used for plotting (Default = (10,4))\n",
        "  :type figsize: Tuple(int,int)\n",
        "  \"\"\"\n",
        "  num_plots = len(metrics)\n",
        "  fig, axes = plt.subplots(int(num_plots/2), 2, figsize=figsize)\n",
        "\n",
        "  for num, metric in enumerate(metrics):\n",
        "    # summarize history for metric\n",
        "    if num <= 2:\n",
        "      axes[num%2].plot(history.history[metric])\n",
        "      axes[num%2].plot(history.history['val_' + metric])\n",
        "      axes[num%2].set_title('Model ' + metric)\n",
        "      axes[num%2].set(xlabel='Epoch', ylabel=metric)\n",
        "      axes[num%2].legend(['train', 'val'], loc='best')    \n",
        "    else:\n",
        "      axes[floor(num/2), num%2].plot(history.history[metric])\n",
        "      axes[floor(num/2), num%2].plot(history.history['val_' + metric])\n",
        "      axes[floor(num/2), num%2].set_title('Model ' + metric)\n",
        "      axes[floor(num/2), num%2].set(xlabel='Epoch', ylabel=metric)\n",
        "      axes[floor(num/2), num%2].legend(['train', 'val'], loc='best')\n",
        "\n",
        "  plt.suptitle(title, fontsize=titlefontsize, y=1.02)    \n",
        "  plt.tight_layout()\n",
        "  _ = plt.show"
      ],
      "execution_count": 35,
      "outputs": []
    },
    {
      "cell_type": "code",
      "metadata": {
        "id": "MWs-a9b7PBiZ",
        "colab_type": "code",
        "colab": {}
      },
      "source": [
        "from tensorflow.keras.callbacks import EarlyStopping\n",
        "# If validation error does not improve for 'patience' epochs, then terminate the training\n",
        "es = EarlyStopping(min_delta=0,patience=3)"
      ],
      "execution_count": 36,
      "outputs": []
    },
    {
      "cell_type": "code",
      "metadata": {
        "id": "sTlZ2fOOPIm3",
        "colab_type": "code",
        "colab": {}
      },
      "source": [
        "# import other libs as needed for building model\n",
        "from tensorflow.keras.callbacks import ModelCheckpoint\n",
        "\n",
        "# add a checkpoint to save the lowest validation loss\n",
        "filepath = '.'\n",
        "checkpoint = ModelCheckpoint(filepath, monitor='val_loss', verbose=1, \n",
        "                             save_best_only=True, save_weights_only=False, \n",
        "                             mode='auto', save_frequency=1)"
      ],
      "execution_count": 37,
      "outputs": []
    },
    {
      "cell_type": "code",
      "metadata": {
        "id": "hgMBsfCHPJNx",
        "colab_type": "code",
        "colab": {}
      },
      "source": [
        "def create_model(\n",
        "    vocabulary_size: int,\n",
        "    time_steps: int,\n",
        "    embedding_size: int,\n",
        "    num_classes: int,\n",
        "    type: str = 'lstm',\n",
        "    num_neuron: int=100,\n",
        "    dropout: float=0,\n",
        "    recurrent_dropout: float=0\n",
        "    ) -> tf.keras.layers.Layer:\n",
        "  \"\"\"\n",
        "  Creates a Sequence Model with the passed parameters\n",
        "  :param vocabulary_size Size of the Vocabulary\n",
        "  :type vocabulary_size int\n",
        "  :param time_steps Number of steps in the sequence (e.g. length of sentence)\n",
        "  :type time_steps int\n",
        "  :param embedding_size Size of the Embedding \n",
        "  :type embedding_size int\n",
        "  :param num_classes Number of Classes to predict (2 for binary, 3 for ternary, etc.)\n",
        "  :type num_classes int\n",
        "  :param type Type of sequence model (Options: 'simple_rnn', 'lstm' or 'gru' (Default: 'lstm')\n",
        "  :type type str\n",
        "  :param num_neuron Number of neurons to be passed to the \"cell\"\n",
        "  :type num_neuron int\n",
        "  :param dropout Amount of dropout to use between the memory layer and the fully connected layer\n",
        "  :type dropout float\n",
        "  :param recurrent_dropout Amount of recurrent dropout to use\n",
        "  :type recurrent_dropout float\n",
        "  :rtype tf.keras.layers.Layer\n",
        "  \"\"\"\n",
        "  model = Sequential()\n",
        "  model.add(Embedding(vocabulary_size, embedding_size, input_length=time_steps))\n",
        "  if type.lower() == 'simple_rnn':\n",
        "    model.add(RNN(num_neuron, recurrent_dropout=recurrent_dropout))\n",
        "  elif type.lower() == 'lstm':\n",
        "    model.add(LSTM(num_neuron, recurrent_dropout=recurrent_dropout))\n",
        "  elif type.lower() == 'gru':\n",
        "    model.add(GRU(num_neuron, recurrent_dropout=recurrent_dropout))\n",
        "  else:\n",
        "    sys.exit(\"You have not passed the right argument for type.\")\n",
        "  model.add(Dropout(dropout))\n",
        "  model.add(Dense(num_classes, activation='softmax'))\n",
        "  model.compile(loss='sparse_categorical_crossentropy', optimizer='adam', metrics=['accuracy'])\n",
        "  return model\n",
        "\n",
        "def create_simple_rnn_model(vocabulary_size: int, time_steps: int, embedding_size: int, num_classes: int, num_neuron: int=100, dropout: float=0, recurrent_dropout: float=0) -> tf.keras.layers.Layer:\n",
        "  \"\"\"\n",
        "  Creates a Simple RNN Model with the passed parameters\n",
        "  :param vocabulary_size Size of the Vocabulary\n",
        "  :type vocabulary_size int\n",
        "  :param time_steps Number of steps in the sequence (e.g. length of sentence)\n",
        "  :type time_steps int\n",
        "  :param embedding_size Size of the Embedding \n",
        "  :type embedding_size int\n",
        "  :param num_classes Number of Classes to predict (2 for binary, 3 for ternary, etc.)\n",
        "  :type num_classes int\n",
        "  :param num_neuron Number of neurons to be passed to the \"cell\"\n",
        "  :type num_neuron int\n",
        "  :param dropout Amount of dropout to use between the memory layer and the fully connected layer\n",
        "  :type dropout float\n",
        "  :param recurrent_dropout Amount of recurrent dropout to use\n",
        "  :type recurrent_dropout float\n",
        "  :rtype tf.keras.layers.Layer\n",
        "  \"\"\"\n",
        "  model = create_model(vocabulary_size, time_steps, embedding_size, num_classes, 'simple_rnn', num_neuron, dropout, recurrent_dropout)\n",
        "  return model\n",
        "\n",
        "def create_lstm_model(vocabulary_size: int, time_steps: int, embedding_size: int, num_classes: int, num_neuron: int=100, dropout: float=0, recurrent_dropout: float=0) -> tf.keras.layers.Layer:\n",
        "  \"\"\"\n",
        "  Creates a LSTM Model with the passed parameters\n",
        "  :param vocabulary_size Size of the Vocabulary\n",
        "  :type vocabulary_size int\n",
        "  :param time_steps Number of steps in the sequence (e.g. length of sentence)\n",
        "  :type time_steps int\n",
        "  :param embedding_size Size of the Embedding \n",
        "  :type embedding_size int\n",
        "  :param num_classes Number of Classes to predict (2 for binary, 3 for ternary, etc.)\n",
        "  :type num_classes int\n",
        "  :param num_neuron Number of neurons to be passed to the \"cell\"\n",
        "  :type num_neuron int\n",
        "  :param dropout Amount of dropout to use between the memory layer and the fully connected layer\n",
        "  :type dropout float\n",
        "  :param recurrent_dropout Amount of recurrent dropout to use\n",
        "  :type recurrent_dropout float\n",
        "  :rtype tf.keras.layers.Layer\n",
        "  \"\"\"\n",
        "  model = create_model(vocabulary_size, time_steps, embedding_size, num_classes, 'lstm', num_neuron, dropout, recurrent_dropout)\n",
        "  return model\n",
        "\n",
        "def create_gru_model(vocabulary_size: int, time_steps: int, embedding_size: int, num_classes: int, num_neuron: int=100, dropout: float=0, recurrent_dropout: float=0) -> tf.keras.layers.Layer:\n",
        "  \"\"\"\n",
        "  Creates a GRU Model with the passed parameters\n",
        "  :param vocabulary_size Size of the Vocabulary\n",
        "  :type vocabulary_size int\n",
        "  :param time_steps Number of steps in the sequence (e.g. length of sentence)\n",
        "  :type time_steps int\n",
        "  :param embedding_size Size of the Embedding \n",
        "  :type embedding_size int\n",
        "  :param num_classes Number of Classes to predict (2 for binary, 3 for ternary, etc.)\n",
        "  :type num_classes int\n",
        "  :param num_neuron Number of neurons to be passed to the \"cell\"\n",
        "  :type num_neuron int\n",
        "  :param dropout Amount of dropout to use between the memory layer and the fully connected layer\n",
        "  :type dropout float\n",
        "  :param recurrent_dropout Amount of recurrent dropout to use\n",
        "  :type recurrent_dropout float\n",
        "  :rtype tf.keras.layers.Layer\n",
        "  \"\"\"\n",
        "  model = create_model(vocabulary_size, time_steps, embedding_size, num_classes, 'gru', num_neuron, dropout, recurrent_dropout)\n",
        "  return model"
      ],
      "execution_count": 38,
      "outputs": []
    },
    {
      "cell_type": "code",
      "metadata": {
        "id": "rsUIpEL-Pa-u",
        "colab_type": "code",
        "colab": {
          "base_uri": "https://localhost:8080/",
          "height": 1000
        },
        "outputId": "a8ba6a73-40b6-4daa-d8f8-9c8d22a4236b"
      },
      "source": [
        "vocabulary_size = vocabulary_size\n",
        "embedding_size = 100\n",
        "time_steps = time_steps\n",
        "num_neuron = 100\n",
        "dropout = 0.3\n",
        "recurrent_dropout = 0.3\n",
        "EPOCHS = 20\n",
        "\n",
        "# Build Model and Train\n",
        "model = create_lstm_model(\n",
        "    vocabulary_size=vocabulary_size,\n",
        "    embedding_size=embedding_size,\n",
        "    time_steps=time_steps,\n",
        "    num_classes=3,\n",
        "    num_neuron=num_neuron,\n",
        "    dropout=dropout,\n",
        "    recurrent_dropout=recurrent_dropout\n",
        "  )\n",
        "print(model.summary())\n",
        "\n",
        "history = model.fit(\n",
        "    X_train_encoded, y_train,\n",
        "    validation_data=(X_test_encoded, y_test),\n",
        "    epochs=EPOCHS,\n",
        "    batch_size=256,\n",
        "    callbacks=[es, checkpoint]\n",
        "  )\n",
        "\n",
        "plot_metrics(history,\n",
        "             metrics=['loss', 'accuracy'],\n",
        "             title = f\"LSTM --> Vocab: {vocabulary_size}, Steps: {time_steps}, Embedding: {embedding_size}, Neurons: {num_neuron}, Dropout: {round(dropout,2)}, Rec. Dropout: {round(recurrent_dropout,2)}\")"
      ],
      "execution_count": 39,
      "outputs": [
        {
          "output_type": "stream",
          "text": [
            "WARNING:tensorflow:Layer lstm will not use cuDNN kernel since it doesn't meet the cuDNN kernel criteria. It will use generic GPU kernel as fallback when running on GPU\n",
            "Model: \"sequential\"\n",
            "_________________________________________________________________\n",
            "Layer (type)                 Output Shape              Param #   \n",
            "=================================================================\n",
            "embedding (Embedding)        (None, 144, 100)          602600    \n",
            "_________________________________________________________________\n",
            "lstm (LSTM)                  (None, 100)               80400     \n",
            "_________________________________________________________________\n",
            "dropout (Dropout)            (None, 100)               0         \n",
            "_________________________________________________________________\n",
            "dense (Dense)                (None, 3)                 303       \n",
            "=================================================================\n",
            "Total params: 683,303\n",
            "Trainable params: 683,303\n",
            "Non-trainable params: 0\n",
            "_________________________________________________________________\n",
            "None\n",
            "Epoch 1/20\n",
            "44/44 [==============================] - ETA: 0s - loss: 0.9516 - accuracy: 0.6054\n",
            "Epoch 00001: val_loss improved from inf to 0.90485, saving model to .\n",
            "WARNING:tensorflow:From /usr/local/lib/python3.6/dist-packages/tensorflow/python/training/tracking/tracking.py:111: Model.state_updates (from tensorflow.python.keras.engine.training) is deprecated and will be removed in a future version.\n",
            "Instructions for updating:\n",
            "This property should not be used in TensorFlow 2.0, as updates are applied automatically.\n",
            "WARNING:tensorflow:From /usr/local/lib/python3.6/dist-packages/tensorflow/python/training/tracking/tracking.py:111: Layer.updates (from tensorflow.python.keras.engine.base_layer) is deprecated and will be removed in a future version.\n",
            "Instructions for updating:\n",
            "This property should not be used in TensorFlow 2.0, as updates are applied automatically.\n",
            "INFO:tensorflow:Assets written to: ./assets\n",
            "44/44 [==============================] - 21s 483ms/step - loss: 0.9516 - accuracy: 0.6054 - val_loss: 0.9048 - val_accuracy: 0.6227\n",
            "Epoch 2/20\n",
            "44/44 [==============================] - ETA: 0s - loss: 0.8768 - accuracy: 0.6300\n",
            "Epoch 00002: val_loss improved from 0.90485 to 0.85755, saving model to .\n",
            "INFO:tensorflow:Assets written to: ./assets\n",
            "44/44 [==============================] - 21s 476ms/step - loss: 0.8768 - accuracy: 0.6300 - val_loss: 0.8576 - val_accuracy: 0.6368\n",
            "Epoch 3/20\n",
            "44/44 [==============================] - ETA: 0s - loss: 0.7978 - accuracy: 0.6779\n",
            "Epoch 00003: val_loss improved from 0.85755 to 0.83559, saving model to .\n",
            "INFO:tensorflow:Assets written to: ./assets\n",
            "44/44 [==============================] - 21s 477ms/step - loss: 0.7978 - accuracy: 0.6779 - val_loss: 0.8356 - val_accuracy: 0.6414\n",
            "Epoch 4/20\n",
            "44/44 [==============================] - ETA: 0s - loss: 0.7002 - accuracy: 0.7112\n",
            "Epoch 00004: val_loss improved from 0.83559 to 0.83431, saving model to .\n",
            "INFO:tensorflow:Assets written to: ./assets\n",
            "44/44 [==============================] - 21s 469ms/step - loss: 0.7002 - accuracy: 0.7112 - val_loss: 0.8343 - val_accuracy: 0.6523\n",
            "Epoch 5/20\n",
            "44/44 [==============================] - ETA: 0s - loss: 0.6247 - accuracy: 0.7530\n",
            "Epoch 00005: val_loss did not improve from 0.83431\n",
            "44/44 [==============================] - 19s 423ms/step - loss: 0.6247 - accuracy: 0.7530 - val_loss: 0.8551 - val_accuracy: 0.6458\n",
            "Epoch 6/20\n",
            "44/44 [==============================] - ETA: 0s - loss: 0.5723 - accuracy: 0.7760\n",
            "Epoch 00006: val_loss did not improve from 0.83431\n",
            "44/44 [==============================] - 18s 419ms/step - loss: 0.5723 - accuracy: 0.7760 - val_loss: 0.9395 - val_accuracy: 0.6515\n",
            "Epoch 7/20\n",
            "44/44 [==============================] - ETA: 0s - loss: 0.5340 - accuracy: 0.7918\n",
            "Epoch 00007: val_loss did not improve from 0.83431\n",
            "44/44 [==============================] - 19s 427ms/step - loss: 0.5340 - accuracy: 0.7918 - val_loss: 0.9158 - val_accuracy: 0.6461\n"
          ],
          "name": "stdout"
        },
        {
          "output_type": "display_data",
          "data": {
            "image/png": "[encoded data removed]",
            "text/plain": [
              "<Figure size 720x288 with 2 Axes>"
            ]
          },
          "metadata": {
            "tags": [],
            "needs_background": "light"
          }
        }
      ]
    },
    {
      "cell_type": "code",
      "metadata": {
        "id": "f6KOrBsIYsg_",
        "colab_type": "code",
        "colab": {}
      },
      "source": [
        "# Save the model\n",
        "model.save('bigram_model.h5')"
      ],
      "execution_count": 40,
      "outputs": []
    }
  ]
}