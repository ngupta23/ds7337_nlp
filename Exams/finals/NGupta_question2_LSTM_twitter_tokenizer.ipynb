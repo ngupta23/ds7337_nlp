{
  "nbformat": 4,
  "nbformat_minor": 0,
  "metadata": {
    "orig_nbformat": 2,
    "kernelspec": {
      "name": "python3",
      "display_name": "Python 3"
    },
    "colab": {
      "name": "NGupta_question2.ipynb",
      "provenance": [],
      "toc_visible": true,
      "include_colab_link": true
    },
    "accelerator": "GPU"
  },
  "cells": [
    {
      "cell_type": "markdown",
      "metadata": {
        "id": "view-in-github",
        "colab_type": "text"
      },
      "source": [
        "<a href=\"https://colab.research.google.com/github/ngupta23/ds7337_nlp/blob/master/Exams/finals/NGupta_question2_LSTM_twitter_tokenizer.ipynb\" target=\"_parent\"><img src=\"https://colab.research.google.com/assets/colab-badge.svg\" alt=\"Open In Colab\"/></a>"
      ]
    },
    {
      "cell_type": "markdown",
      "metadata": {
        "id": "2FPwGQ8GcCvb",
        "colab_type": "text"
      },
      "source": [
        "# Load Libraries"
      ]
    },
    {
      "cell_type": "code",
      "metadata": {
        "id": "1Z5BoRdd4BEx",
        "colab_type": "code",
        "colab": {}
      },
      "source": [
        "from typing import List, Tuple\n",
        "from time import time\n",
        "from datetime import datetime\n",
        "\n",
        "import numpy as np\n",
        "import pandas as pd\n",
        "\n",
        "import matplotlib.pyplot as plt\n",
        "%matplotlib inline"
      ],
      "execution_count": 1,
      "outputs": []
    },
    {
      "cell_type": "code",
      "metadata": {
        "id": "tgtql0HE4yEo",
        "colab_type": "code",
        "colab": {}
      },
      "source": [
        "from sklearn.model_selection import train_test_split\n",
        "\n",
        "import tensorflow as tf\n",
        "from tensorflow.keras.models import Model\n",
        "from tensorflow.keras.layers import Input, Dense, Dropout\n",
        "import tensorflow_hub as hub"
      ],
      "execution_count": 2,
      "outputs": []
    },
    {
      "cell_type": "code",
      "metadata": {
        "id": "3b5iG69V48Fu",
        "colab_type": "code",
        "colab": {
          "base_uri": "https://localhost:8080/",
          "height": 36
        },
        "outputId": "06492589-e241-4bbc-dc57-844b10724cf2"
      },
      "source": [
        "tf.__version__"
      ],
      "execution_count": 3,
      "outputs": [
        {
          "output_type": "execute_result",
          "data": {
            "application/vnd.google.colaboratory.intrinsic+json": {
              "type": "string"
            },
            "text/plain": [
              "'2.3.0'"
            ]
          },
          "metadata": {
            "tags": []
          },
          "execution_count": 3
        }
      ]
    },
    {
      "cell_type": "markdown",
      "metadata": {
        "id": "bTVeUcYYcE8A",
        "colab_type": "text"
      },
      "source": [
        "# Get Data"
      ]
    },
    {
      "cell_type": "code",
      "metadata": {
        "id": "HcAuPBnM-Epn",
        "colab_type": "code",
        "colab": {}
      },
      "source": [
        "!rm -rf ./*"
      ],
      "execution_count": 4,
      "outputs": []
    },
    {
      "cell_type": "code",
      "metadata": {
        "id": "dQoUNW5d4SrO",
        "colab_type": "code",
        "colab": {
          "base_uri": "https://localhost:8080/",
          "height": 237
        },
        "outputId": "ef34b753-18b0-4e89-eae8-c08d8c39e70a"
      },
      "source": [
        "!wget http://cs.stanford.edu/people/alecmgo/trainingandtestdata.zip"
      ],
      "execution_count": 5,
      "outputs": [
        {
          "output_type": "stream",
          "text": [
            "URL transformed to HTTPS due to an HSTS policy\n",
            "--2020-08-08 03:33:49--  https://cs.stanford.edu/people/alecmgo/trainingandtestdata.zip\n",
            "Resolving cs.stanford.edu (cs.stanford.edu)... 171.64.64.64\n",
            "Connecting to cs.stanford.edu (cs.stanford.edu)|171.64.64.64|:443... connected.\n",
            "HTTP request sent, awaiting response... 200 OK\n",
            "Length: 81363704 (78M) [application/zip]\n",
            "Saving to: ‘trainingandtestdata.zip’\n",
            "\n",
            "trainingandtestdata 100%[===================>]  77.59M  37.1MB/s    in 2.1s    \n",
            "\n",
            "2020-08-08 03:33:51 (37.1 MB/s) - ‘trainingandtestdata.zip’ saved [81363704/81363704]\n",
            "\n"
          ],
          "name": "stdout"
        }
      ]
    },
    {
      "cell_type": "code",
      "metadata": {
        "id": "eizE5HXM4Yht",
        "colab_type": "code",
        "colab": {
          "base_uri": "https://localhost:8080/",
          "height": 72
        },
        "outputId": "91d9f813-21a6-47da-90a4-4cc1d7ed7d95"
      },
      "source": [
        "!unzip trainingandtestdata.zip"
      ],
      "execution_count": 6,
      "outputs": [
        {
          "output_type": "stream",
          "text": [
            "Archive:  trainingandtestdata.zip\n",
            "  inflating: testdata.manual.2009.06.14.csv  \n",
            "  inflating: training.1600000.processed.noemoticon.csv  \n"
          ],
          "name": "stdout"
        }
      ]
    },
    {
      "cell_type": "code",
      "metadata": {
        "tags": [],
        "id": "jQ9H8iVz4BE-",
        "colab_type": "code",
        "colab": {
          "base_uri": "https://localhost:8080/",
          "height": 256
        },
        "outputId": "f17e4023-de96-4bb8-832d-755a401ebdf4"
      },
      "source": [
        "data = pd.read_csv(\"training.1600000.processed.noemoticon.csv\", encoding='latin-1', header=None)\n",
        "data.info()"
      ],
      "execution_count": 7,
      "outputs": [
        {
          "output_type": "stream",
          "text": [
            "<class 'pandas.core.frame.DataFrame'>\n",
            "RangeIndex: 1600000 entries, 0 to 1599999\n",
            "Data columns (total 6 columns):\n",
            " #   Column  Non-Null Count    Dtype \n",
            "---  ------  --------------    ----- \n",
            " 0   0       1600000 non-null  int64 \n",
            " 1   1       1600000 non-null  int64 \n",
            " 2   2       1600000 non-null  object\n",
            " 3   3       1600000 non-null  object\n",
            " 4   4       1600000 non-null  object\n",
            " 5   5       1600000 non-null  object\n",
            "dtypes: int64(2), object(4)\n",
            "memory usage: 73.2+ MB\n"
          ],
          "name": "stdout"
        }
      ]
    },
    {
      "cell_type": "code",
      "metadata": {
        "id": "zkGUGdUR4BFP",
        "colab_type": "code",
        "colab": {
          "base_uri": "https://localhost:8080/",
          "height": 206
        },
        "outputId": "11c99eac-59b3-486f-8934-dd8766d1a354"
      },
      "source": [
        "data.head()"
      ],
      "execution_count": 8,
      "outputs": [
        {
          "output_type": "execute_result",
          "data": {
            "text/html": [
              "<div>\n",
              "<style scoped>\n",
              "    .dataframe tbody tr th:only-of-type {\n",
              "        vertical-align: middle;\n",
              "    }\n",
              "\n",
              "    .dataframe tbody tr th {\n",
              "        vertical-align: top;\n",
              "    }\n",
              "\n",
              "    .dataframe thead th {\n",
              "        text-align: right;\n",
              "    }\n",
              "</style>\n",
              "<table border=\"1\" class=\"dataframe\">\n",
              "  <thead>\n",
              "    <tr style=\"text-align: right;\">\n",
              "      <th></th>\n",
              "      <th>0</th>\n",
              "      <th>1</th>\n",
              "      <th>2</th>\n",
              "      <th>3</th>\n",
              "      <th>4</th>\n",
              "      <th>5</th>\n",
              "    </tr>\n",
              "  </thead>\n",
              "  <tbody>\n",
              "    <tr>\n",
              "      <th>0</th>\n",
              "      <td>0</td>\n",
              "      <td>1467810369</td>\n",
              "      <td>Mon Apr 06 22:19:45 PDT 2009</td>\n",
              "      <td>NO_QUERY</td>\n",
              "      <td>_TheSpecialOne_</td>\n",
              "      <td>@switchfoot http://twitpic.com/2y1zl - Awww, t...</td>\n",
              "    </tr>\n",
              "    <tr>\n",
              "      <th>1</th>\n",
              "      <td>0</td>\n",
              "      <td>1467810672</td>\n",
              "      <td>Mon Apr 06 22:19:49 PDT 2009</td>\n",
              "      <td>NO_QUERY</td>\n",
              "      <td>scotthamilton</td>\n",
              "      <td>is upset that he can't update his Facebook by ...</td>\n",
              "    </tr>\n",
              "    <tr>\n",
              "      <th>2</th>\n",
              "      <td>0</td>\n",
              "      <td>1467810917</td>\n",
              "      <td>Mon Apr 06 22:19:53 PDT 2009</td>\n",
              "      <td>NO_QUERY</td>\n",
              "      <td>mattycus</td>\n",
              "      <td>@Kenichan I dived many times for the ball. Man...</td>\n",
              "    </tr>\n",
              "    <tr>\n",
              "      <th>3</th>\n",
              "      <td>0</td>\n",
              "      <td>1467811184</td>\n",
              "      <td>Mon Apr 06 22:19:57 PDT 2009</td>\n",
              "      <td>NO_QUERY</td>\n",
              "      <td>ElleCTF</td>\n",
              "      <td>my whole body feels itchy and like its on fire</td>\n",
              "    </tr>\n",
              "    <tr>\n",
              "      <th>4</th>\n",
              "      <td>0</td>\n",
              "      <td>1467811193</td>\n",
              "      <td>Mon Apr 06 22:19:57 PDT 2009</td>\n",
              "      <td>NO_QUERY</td>\n",
              "      <td>Karoli</td>\n",
              "      <td>@nationwideclass no, it's not behaving at all....</td>\n",
              "    </tr>\n",
              "  </tbody>\n",
              "</table>\n",
              "</div>"
            ],
            "text/plain": [
              "   0  ...                                                  5\n",
              "0  0  ...  @switchfoot http://twitpic.com/2y1zl - Awww, t...\n",
              "1  0  ...  is upset that he can't update his Facebook by ...\n",
              "2  0  ...  @Kenichan I dived many times for the ball. Man...\n",
              "3  0  ...    my whole body feels itchy and like its on fire \n",
              "4  0  ...  @nationwideclass no, it's not behaving at all....\n",
              "\n",
              "[5 rows x 6 columns]"
            ]
          },
          "metadata": {
            "tags": []
          },
          "execution_count": 8
        }
      ]
    },
    {
      "cell_type": "code",
      "metadata": {
        "id": "51MBvvvN4BFZ",
        "colab_type": "code",
        "colab": {
          "base_uri": "https://localhost:8080/",
          "height": 206
        },
        "outputId": "9925aab3-3083-4e09-a22d-57ae4fe5925f"
      },
      "source": [
        "data = data[[5, 0]]\n",
        "data.head()"
      ],
      "execution_count": 9,
      "outputs": [
        {
          "output_type": "execute_result",
          "data": {
            "text/html": [
              "<div>\n",
              "<style scoped>\n",
              "    .dataframe tbody tr th:only-of-type {\n",
              "        vertical-align: middle;\n",
              "    }\n",
              "\n",
              "    .dataframe tbody tr th {\n",
              "        vertical-align: top;\n",
              "    }\n",
              "\n",
              "    .dataframe thead th {\n",
              "        text-align: right;\n",
              "    }\n",
              "</style>\n",
              "<table border=\"1\" class=\"dataframe\">\n",
              "  <thead>\n",
              "    <tr style=\"text-align: right;\">\n",
              "      <th></th>\n",
              "      <th>5</th>\n",
              "      <th>0</th>\n",
              "    </tr>\n",
              "  </thead>\n",
              "  <tbody>\n",
              "    <tr>\n",
              "      <th>0</th>\n",
              "      <td>@switchfoot http://twitpic.com/2y1zl - Awww, t...</td>\n",
              "      <td>0</td>\n",
              "    </tr>\n",
              "    <tr>\n",
              "      <th>1</th>\n",
              "      <td>is upset that he can't update his Facebook by ...</td>\n",
              "      <td>0</td>\n",
              "    </tr>\n",
              "    <tr>\n",
              "      <th>2</th>\n",
              "      <td>@Kenichan I dived many times for the ball. Man...</td>\n",
              "      <td>0</td>\n",
              "    </tr>\n",
              "    <tr>\n",
              "      <th>3</th>\n",
              "      <td>my whole body feels itchy and like its on fire</td>\n",
              "      <td>0</td>\n",
              "    </tr>\n",
              "    <tr>\n",
              "      <th>4</th>\n",
              "      <td>@nationwideclass no, it's not behaving at all....</td>\n",
              "      <td>0</td>\n",
              "    </tr>\n",
              "  </tbody>\n",
              "</table>\n",
              "</div>"
            ],
            "text/plain": [
              "                                                   5  0\n",
              "0  @switchfoot http://twitpic.com/2y1zl - Awww, t...  0\n",
              "1  is upset that he can't update his Facebook by ...  0\n",
              "2  @Kenichan I dived many times for the ball. Man...  0\n",
              "3    my whole body feels itchy and like its on fire   0\n",
              "4  @nationwideclass no, it's not behaving at all....  0"
            ]
          },
          "metadata": {
            "tags": []
          },
          "execution_count": 9
        }
      ]
    },
    {
      "cell_type": "code",
      "metadata": {
        "tags": [],
        "id": "-eqLjbgU4BFh",
        "colab_type": "code",
        "colab": {
          "base_uri": "https://localhost:8080/",
          "height": 206
        },
        "outputId": "a1bd3858-1cc7-44fc-971d-115a2461440f"
      },
      "source": [
        "data = data.rename(columns={5:'text', 0:'sentiment'})\n",
        "data.head()"
      ],
      "execution_count": 10,
      "outputs": [
        {
          "output_type": "execute_result",
          "data": {
            "text/html": [
              "<div>\n",
              "<style scoped>\n",
              "    .dataframe tbody tr th:only-of-type {\n",
              "        vertical-align: middle;\n",
              "    }\n",
              "\n",
              "    .dataframe tbody tr th {\n",
              "        vertical-align: top;\n",
              "    }\n",
              "\n",
              "    .dataframe thead th {\n",
              "        text-align: right;\n",
              "    }\n",
              "</style>\n",
              "<table border=\"1\" class=\"dataframe\">\n",
              "  <thead>\n",
              "    <tr style=\"text-align: right;\">\n",
              "      <th></th>\n",
              "      <th>text</th>\n",
              "      <th>sentiment</th>\n",
              "    </tr>\n",
              "  </thead>\n",
              "  <tbody>\n",
              "    <tr>\n",
              "      <th>0</th>\n",
              "      <td>@switchfoot http://twitpic.com/2y1zl - Awww, t...</td>\n",
              "      <td>0</td>\n",
              "    </tr>\n",
              "    <tr>\n",
              "      <th>1</th>\n",
              "      <td>is upset that he can't update his Facebook by ...</td>\n",
              "      <td>0</td>\n",
              "    </tr>\n",
              "    <tr>\n",
              "      <th>2</th>\n",
              "      <td>@Kenichan I dived many times for the ball. Man...</td>\n",
              "      <td>0</td>\n",
              "    </tr>\n",
              "    <tr>\n",
              "      <th>3</th>\n",
              "      <td>my whole body feels itchy and like its on fire</td>\n",
              "      <td>0</td>\n",
              "    </tr>\n",
              "    <tr>\n",
              "      <th>4</th>\n",
              "      <td>@nationwideclass no, it's not behaving at all....</td>\n",
              "      <td>0</td>\n",
              "    </tr>\n",
              "  </tbody>\n",
              "</table>\n",
              "</div>"
            ],
            "text/plain": [
              "                                                text  sentiment\n",
              "0  @switchfoot http://twitpic.com/2y1zl - Awww, t...          0\n",
              "1  is upset that he can't update his Facebook by ...          0\n",
              "2  @Kenichan I dived many times for the ball. Man...          0\n",
              "3    my whole body feels itchy and like its on fire           0\n",
              "4  @nationwideclass no, it's not behaving at all....          0"
            ]
          },
          "metadata": {
            "tags": []
          },
          "execution_count": 10
        }
      ]
    },
    {
      "cell_type": "markdown",
      "metadata": {
        "id": "KyZY8Nb7cOgq",
        "colab_type": "text"
      },
      "source": [
        "# Prepare Labels"
      ]
    },
    {
      "cell_type": "code",
      "metadata": {
        "id": "0uw4I6Fi4BGi",
        "colab_type": "code",
        "colab": {
          "base_uri": "https://localhost:8080/",
          "height": 283
        },
        "outputId": "4158d8dc-3c8c-452c-87fd-4452d79137a5"
      },
      "source": [
        "data['sentiment'].hist()"
      ],
      "execution_count": 11,
      "outputs": [
        {
          "output_type": "execute_result",
          "data": {
            "text/plain": [
              "<matplotlib.axes._subplots.AxesSubplot at 0x7faa5dc07240>"
            ]
          },
          "metadata": {
            "tags": []
          },
          "execution_count": 11
        },
        {
          "output_type": "display_data",
          "data": {
            "image/png": "[encoded data removed]",
            "text/plain": [
              "<Figure size 432x288 with 1 Axes>"
            ]
          },
          "metadata": {
            "tags": [],
            "needs_background": "light"
          }
        }
      ]
    },
    {
      "cell_type": "code",
      "metadata": {
        "id": "1GEdw00x4BFz",
        "colab_type": "code",
        "colab": {
          "base_uri": "https://localhost:8080/",
          "height": 72
        },
        "outputId": "318bf17a-eb42-41a8-f1a4-f4473fb318d5"
      },
      "source": [
        "data['sentiment'].value_counts()"
      ],
      "execution_count": 12,
      "outputs": [
        {
          "output_type": "execute_result",
          "data": {
            "text/plain": [
              "4    800000\n",
              "0    800000\n",
              "Name: sentiment, dtype: int64"
            ]
          },
          "metadata": {
            "tags": []
          },
          "execution_count": 12
        }
      ]
    },
    {
      "cell_type": "code",
      "metadata": {
        "id": "4c4bO15F4BF4",
        "colab_type": "code",
        "colab": {}
      },
      "source": [
        "data.loc[data['sentiment'] == 4, 'sentiment'] = 1"
      ],
      "execution_count": 13,
      "outputs": []
    },
    {
      "cell_type": "code",
      "metadata": {
        "id": "Vzs9ve544BF9",
        "colab_type": "code",
        "colab": {
          "base_uri": "https://localhost:8080/",
          "height": 72
        },
        "outputId": "757f837d-2ce0-411a-9c97-ee5e2798622c"
      },
      "source": [
        "data['sentiment'].value_counts()"
      ],
      "execution_count": 14,
      "outputs": [
        {
          "output_type": "execute_result",
          "data": {
            "text/plain": [
              "1    800000\n",
              "0    800000\n",
              "Name: sentiment, dtype: int64"
            ]
          },
          "metadata": {
            "tags": []
          },
          "execution_count": 14
        }
      ]
    },
    {
      "cell_type": "code",
      "metadata": {
        "id": "H1jNro6p4BGE",
        "colab_type": "code",
        "colab": {
          "base_uri": "https://localhost:8080/",
          "height": 206
        },
        "outputId": "f9e28fe7-8da5-409c-989d-c07fdbd359a2"
      },
      "source": [
        "data.head()"
      ],
      "execution_count": 15,
      "outputs": [
        {
          "output_type": "execute_result",
          "data": {
            "text/html": [
              "<div>\n",
              "<style scoped>\n",
              "    .dataframe tbody tr th:only-of-type {\n",
              "        vertical-align: middle;\n",
              "    }\n",
              "\n",
              "    .dataframe tbody tr th {\n",
              "        vertical-align: top;\n",
              "    }\n",
              "\n",
              "    .dataframe thead th {\n",
              "        text-align: right;\n",
              "    }\n",
              "</style>\n",
              "<table border=\"1\" class=\"dataframe\">\n",
              "  <thead>\n",
              "    <tr style=\"text-align: right;\">\n",
              "      <th></th>\n",
              "      <th>text</th>\n",
              "      <th>sentiment</th>\n",
              "    </tr>\n",
              "  </thead>\n",
              "  <tbody>\n",
              "    <tr>\n",
              "      <th>0</th>\n",
              "      <td>@switchfoot http://twitpic.com/2y1zl - Awww, t...</td>\n",
              "      <td>0</td>\n",
              "    </tr>\n",
              "    <tr>\n",
              "      <th>1</th>\n",
              "      <td>is upset that he can't update his Facebook by ...</td>\n",
              "      <td>0</td>\n",
              "    </tr>\n",
              "    <tr>\n",
              "      <th>2</th>\n",
              "      <td>@Kenichan I dived many times for the ball. Man...</td>\n",
              "      <td>0</td>\n",
              "    </tr>\n",
              "    <tr>\n",
              "      <th>3</th>\n",
              "      <td>my whole body feels itchy and like its on fire</td>\n",
              "      <td>0</td>\n",
              "    </tr>\n",
              "    <tr>\n",
              "      <th>4</th>\n",
              "      <td>@nationwideclass no, it's not behaving at all....</td>\n",
              "      <td>0</td>\n",
              "    </tr>\n",
              "  </tbody>\n",
              "</table>\n",
              "</div>"
            ],
            "text/plain": [
              "                                                text  sentiment\n",
              "0  @switchfoot http://twitpic.com/2y1zl - Awww, t...          0\n",
              "1  is upset that he can't update his Facebook by ...          0\n",
              "2  @Kenichan I dived many times for the ball. Man...          0\n",
              "3    my whole body feels itchy and like its on fire           0\n",
              "4  @nationwideclass no, it's not behaving at all....          0"
            ]
          },
          "metadata": {
            "tags": []
          },
          "execution_count": 15
        }
      ]
    },
    {
      "cell_type": "markdown",
      "metadata": {
        "id": "nxvGsM5XdlOh",
        "colab_type": "text"
      },
      "source": [
        "# Shuffle Data"
      ]
    },
    {
      "cell_type": "code",
      "metadata": {
        "tags": [],
        "id": "QDHppZoE4BGL",
        "colab_type": "code",
        "colab": {
          "base_uri": "https://localhost:8080/",
          "height": 182
        },
        "outputId": "264456ff-0bcd-4ae5-9b1c-eb449fb29663"
      },
      "source": [
        "data = data.sample(frac=1).reset_index(drop=True)\n",
        "data.info()"
      ],
      "execution_count": 16,
      "outputs": [
        {
          "output_type": "stream",
          "text": [
            "<class 'pandas.core.frame.DataFrame'>\n",
            "RangeIndex: 1600000 entries, 0 to 1599999\n",
            "Data columns (total 2 columns):\n",
            " #   Column     Non-Null Count    Dtype \n",
            "---  ------     --------------    ----- \n",
            " 0   text       1600000 non-null  object\n",
            " 1   sentiment  1600000 non-null  int64 \n",
            "dtypes: int64(1), object(1)\n",
            "memory usage: 24.4+ MB\n"
          ],
          "name": "stdout"
        }
      ]
    },
    {
      "cell_type": "markdown",
      "metadata": {
        "id": "k6MsjYENdnWU",
        "colab_type": "text"
      },
      "source": [
        "# Max Sequence Length\n",
        "\n",
        "The number of characters reaches a max length of 374, but that might be an exception. For Universal Sentence Encoder (USE), we can possibly limit this to a smaller number based on the histogram of character lengths. \n",
        "\n",
        "The number of words reaches a maximum value of 64. For RNN variants, again, we can limit this to a smaller number based on the distribution of the number of words as shown below"
      ]
    },
    {
      "cell_type": "code",
      "metadata": {
        "id": "dEme5TlR5pgd",
        "colab_type": "code",
        "colab": {
          "base_uri": "https://localhost:8080/",
          "height": 206
        },
        "outputId": "3a7c14ff-6d72-4e47-f5bc-c1f1e14b7539"
      },
      "source": [
        "data['charlen'] = data['text'].str.len()\n",
        "data['wordlen'] = data['text'].str.split().str.len()\n",
        "data.head()"
      ],
      "execution_count": 17,
      "outputs": [
        {
          "output_type": "execute_result",
          "data": {
            "text/html": [
              "<div>\n",
              "<style scoped>\n",
              "    .dataframe tbody tr th:only-of-type {\n",
              "        vertical-align: middle;\n",
              "    }\n",
              "\n",
              "    .dataframe tbody tr th {\n",
              "        vertical-align: top;\n",
              "    }\n",
              "\n",
              "    .dataframe thead th {\n",
              "        text-align: right;\n",
              "    }\n",
              "</style>\n",
              "<table border=\"1\" class=\"dataframe\">\n",
              "  <thead>\n",
              "    <tr style=\"text-align: right;\">\n",
              "      <th></th>\n",
              "      <th>text</th>\n",
              "      <th>sentiment</th>\n",
              "      <th>charlen</th>\n",
              "      <th>wordlen</th>\n",
              "    </tr>\n",
              "  </thead>\n",
              "  <tbody>\n",
              "    <tr>\n",
              "      <th>0</th>\n",
              "      <td>shop shop shopping with adub</td>\n",
              "      <td>1</td>\n",
              "      <td>29</td>\n",
              "      <td>5</td>\n",
              "    </tr>\n",
              "    <tr>\n",
              "      <th>1</th>\n",
              "      <td>@sparkly72 I tried to save yur comment earlier...</td>\n",
              "      <td>0</td>\n",
              "      <td>105</td>\n",
              "      <td>20</td>\n",
              "    </tr>\n",
              "    <tr>\n",
              "      <th>2</th>\n",
              "      <td>@_JadeLakeasha no. no i didnt  people kept get...</td>\n",
              "      <td>0</td>\n",
              "      <td>83</td>\n",
              "      <td>15</td>\n",
              "    </tr>\n",
              "    <tr>\n",
              "      <th>3</th>\n",
              "      <td>twitter= novo viciu  {2}</td>\n",
              "      <td>0</td>\n",
              "      <td>24</td>\n",
              "      <td>4</td>\n",
              "    </tr>\n",
              "    <tr>\n",
              "      <th>4</th>\n",
              "      <td>No!!! All my afternoon pts are showing up.  af...</td>\n",
              "      <td>0</td>\n",
              "      <td>94</td>\n",
              "      <td>18</td>\n",
              "    </tr>\n",
              "  </tbody>\n",
              "</table>\n",
              "</div>"
            ],
            "text/plain": [
              "                                                text  ...  wordlen\n",
              "0                      shop shop shopping with adub   ...        5\n",
              "1  @sparkly72 I tried to save yur comment earlier...  ...       20\n",
              "2  @_JadeLakeasha no. no i didnt  people kept get...  ...       15\n",
              "3                           twitter= novo viciu  {2}  ...        4\n",
              "4  No!!! All my afternoon pts are showing up.  af...  ...       18\n",
              "\n",
              "[5 rows x 4 columns]"
            ]
          },
          "metadata": {
            "tags": []
          },
          "execution_count": 17
        }
      ]
    },
    {
      "cell_type": "code",
      "metadata": {
        "id": "l6uEdkgW5z2V",
        "colab_type": "code",
        "colab": {
          "base_uri": "https://localhost:8080/",
          "height": 90
        },
        "outputId": "a8e08c81-f967-46a8-9e9a-8fd66dd6e572"
      },
      "source": [
        "print('Maximum review length (words): {}'.format(data['wordlen'].max()))\n",
        "print('Minimum review length (words): {}'.format(data['wordlen'].min()))\n",
        "print('Maximum review length (chars): {}'.format(data['charlen'].max()))\n",
        "print('Minimum review length (chars): {}'.format(data['charlen'].min()))\n"
      ],
      "execution_count": 18,
      "outputs": [
        {
          "output_type": "stream",
          "text": [
            "Maximum review length (words): 64\n",
            "Minimum review length (words): 1\n",
            "Maximum review length (chars): 374\n",
            "Minimum review length (chars): 6\n"
          ],
          "name": "stdout"
        }
      ]
    },
    {
      "cell_type": "code",
      "metadata": {
        "id": "6SQ5-9k4eAUi",
        "colab_type": "code",
        "colab": {
          "base_uri": "https://localhost:8080/",
          "height": 283
        },
        "outputId": "0a6e4f86-db23-4747-b969-49b6312a082c"
      },
      "source": [
        "data['charlen'].hist(bins=50)"
      ],
      "execution_count": 19,
      "outputs": [
        {
          "output_type": "execute_result",
          "data": {
            "text/plain": [
              "<matplotlib.axes._subplots.AxesSubplot at 0x7faa0576a2b0>"
            ]
          },
          "metadata": {
            "tags": []
          },
          "execution_count": 19
        },
        {
          "output_type": "display_data",
          "data": {
            "image/png": "[encoded data removed]",
            "text/plain": [
              "<Figure size 432x288 with 1 Axes>"
            ]
          },
          "metadata": {
            "tags": [],
            "needs_background": "light"
          }
        }
      ]
    },
    {
      "cell_type": "code",
      "metadata": {
        "id": "v5-WCBuWeShI",
        "colab_type": "code",
        "colab": {
          "base_uri": "https://localhost:8080/",
          "height": 35
        },
        "outputId": "cc7de264-7275-4755-e4bf-c253b5a6ea72"
      },
      "source": [
        "# Keep a large percentage of reviews completely and chop of the remainig reviews off.\n",
        "time_steps_USE = int(np.quantile(data['charlen'],0.975))\n",
        "time_steps_USE"
      ],
      "execution_count": 20,
      "outputs": [
        {
          "output_type": "execute_result",
          "data": {
            "text/plain": [
              "138"
            ]
          },
          "metadata": {
            "tags": []
          },
          "execution_count": 20
        }
      ]
    },
    {
      "cell_type": "code",
      "metadata": {
        "id": "0zXYpbmSeQC6",
        "colab_type": "code",
        "colab": {
          "base_uri": "https://localhost:8080/",
          "height": 283
        },
        "outputId": "e07b9429-57ef-4b5b-f3dd-443e3fc36422"
      },
      "source": [
        "data['wordlen'].hist(bins=50)"
      ],
      "execution_count": 21,
      "outputs": [
        {
          "output_type": "execute_result",
          "data": {
            "text/plain": [
              "<matplotlib.axes._subplots.AxesSubplot at 0x7faa0576da20>"
            ]
          },
          "metadata": {
            "tags": []
          },
          "execution_count": 21
        },
        {
          "output_type": "display_data",
          "data": {
            "image/png": "[encoded data removed]",
            "text/plain": [
              "<Figure size 432x288 with 1 Axes>"
            ]
          },
          "metadata": {
            "tags": [],
            "needs_background": "light"
          }
        }
      ]
    },
    {
      "cell_type": "code",
      "metadata": {
        "id": "MvcvOlfjeiO5",
        "colab_type": "code",
        "colab": {
          "base_uri": "https://localhost:8080/",
          "height": 35
        },
        "outputId": "b78e883d-4e6b-4df2-a2ec-4eb6e84fb88a"
      },
      "source": [
        "# Keep a large percentage of reviews completely and chop of the remainig reviews off.\n",
        "time_steps_RNN = int(np.quantile(data['wordlen'],0.975))\n",
        "time_steps_RNN"
      ],
      "execution_count": 22,
      "outputs": [
        {
          "output_type": "execute_result",
          "data": {
            "text/plain": [
              "27"
            ]
          },
          "metadata": {
            "tags": []
          },
          "execution_count": 22
        }
      ]
    },
    {
      "cell_type": "markdown",
      "metadata": {
        "id": "NFp5JzStdgxh",
        "colab_type": "text"
      },
      "source": [
        "# Train and Validation Split"
      ]
    },
    {
      "cell_type": "code",
      "metadata": {
        "id": "KZ0m23g59JJ3",
        "colab_type": "code",
        "colab": {
          "base_uri": "https://localhost:8080/",
          "height": 54
        },
        "outputId": "86e43151-2cea-40fc-b8e7-c96edc688c2c"
      },
      "source": [
        "X_train, X_val, y_train, y_val = train_test_split(\n",
        "    data['text'].values.astype('U'),\n",
        "    data['sentiment'].values.astype('int32'),\n",
        "    test_size=0.5,\n",
        "    random_state=42\n",
        ")\n",
        "\n",
        "print(f\"Number of samples: X_train: {len(X_train)}, y_train: {len(y_train)}\")\n",
        "print(f\"Number of samples: X_test: {len(X_val)}, y_test: {len(y_val)}\")"
      ],
      "execution_count": 26,
      "outputs": [
        {
          "output_type": "stream",
          "text": [
            "Number of samples: X_train: 800000, y_train: 800000\n",
            "Number of samples: X_test: 800000, y_test: 800000\n"
          ],
          "name": "stdout"
        }
      ]
    },
    {
      "cell_type": "code",
      "metadata": {
        "id": "NQb5f0lhh3wC",
        "colab_type": "code",
        "colab": {
          "base_uri": "https://localhost:8080/",
          "height": 54
        },
        "outputId": "5c8cd29a-7a9e-4f6b-b328-e0b619f70d1b"
      },
      "source": [
        "# Checking split --> both test and train contain roughly the same % of observation from each class\n",
        "print(sum(y_train == 0)/len(y_train), sum(y_val == 0)/len(y_val))\n",
        "print(sum(y_train == 1)/len(y_train), sum(y_val == 1)/len(y_val))"
      ],
      "execution_count": 27,
      "outputs": [
        {
          "output_type": "stream",
          "text": [
            "0.50026125 0.49973875\n",
            "0.49973875 0.50026125\n"
          ],
          "name": "stdout"
        }
      ]
    },
    {
      "cell_type": "markdown",
      "metadata": {
        "id": "DYX76NeGsZXS",
        "colab_type": "text"
      },
      "source": [
        "# Vocabulary"
      ]
    },
    {
      "cell_type": "code",
      "metadata": {
        "id": "8PCaQdZmz9HG",
        "colab_type": "code",
        "colab": {
          "base_uri": "https://localhost:8080/",
          "height": 72
        },
        "outputId": "45f01a52-bfe4-4f06-e353-d7fd0656a24f"
      },
      "source": [
        "import nltk\n",
        "from nltk.tokenize import word_tokenize \n",
        "from nltk.tokenize import TweetTokenizer\n",
        "nltk.download('punkt')"
      ],
      "execution_count": 60,
      "outputs": [
        {
          "output_type": "stream",
          "text": [
            "[nltk_data] Downloading package punkt to /root/nltk_data...\n",
            "[nltk_data]   Package punkt is already up-to-date!\n"
          ],
          "name": "stdout"
        },
        {
          "output_type": "execute_result",
          "data": {
            "text/plain": [
              "True"
            ]
          },
          "metadata": {
            "tags": []
          },
          "execution_count": 60
        }
      ]
    },
    {
      "cell_type": "code",
      "metadata": {
        "id": "0IEJpSrVsnCy",
        "colab_type": "code",
        "colab": {
          "base_uri": "https://localhost:8080/",
          "height": 90
        },
        "outputId": "26e2d667-ff3c-45bd-fcb4-a9460213ae83"
      },
      "source": [
        "X_train[0:3]"
      ],
      "execution_count": 29,
      "outputs": [
        {
          "output_type": "execute_result",
          "data": {
            "text/plain": [
              "array(['I have been pushing it way too hard.  Feeling like junk and just needs a cuddle buddy ',\n",
              "       '@pickerbrad Thank you ',\n",
              "       '@Omargunz yeah im up right now @ work.... and im still sleepy... '],\n",
              "      dtype='<U374')"
            ]
          },
          "metadata": {
            "tags": []
          },
          "execution_count": 29
        }
      ]
    },
    {
      "cell_type": "code",
      "metadata": {
        "id": "VF-nLAcJbIJq",
        "colab_type": "code",
        "colab": {}
      },
      "source": [
        "tweet_tokenizer = TweetTokenizer()"
      ],
      "execution_count": 61,
      "outputs": []
    },
    {
      "cell_type": "code",
      "metadata": {
        "id": "XA-VUCjk4utc",
        "colab_type": "code",
        "colab": {
          "base_uri": "https://localhost:8080/",
          "height": 35
        },
        "outputId": "2cc62539-95e6-475b-dc32-5c0eb8b74bcc"
      },
      "source": [
        "start = time()\n",
        "X_train_list = list(map(tweet_tokenizer.tokenize, X_train)) \n",
        "end = time()\n",
        "print(f\"Time taken: {end-start}s\")"
      ],
      "execution_count": 66,
      "outputs": [
        {
          "output_type": "stream",
          "text": [
            "Time taken: 31.99128770828247s\n"
          ],
          "name": "stdout"
        }
      ]
    },
    {
      "cell_type": "code",
      "metadata": {
        "id": "bVbJ2bDy77WI",
        "colab_type": "code",
        "colab": {}
      },
      "source": [
        "corpus = [word for line in X_train_list for word in line]"
      ],
      "execution_count": 67,
      "outputs": []
    },
    {
      "cell_type": "code",
      "metadata": {
        "id": "CqqN6FTc02jw",
        "colab_type": "code",
        "colab": {
          "base_uri": "https://localhost:8080/",
          "height": 55
        },
        "outputId": "825e50eb-1fef-4693-e391-f4dceef49721"
      },
      "source": [
        "print(corpus[:30])"
      ],
      "execution_count": 68,
      "outputs": [
        {
          "output_type": "stream",
          "text": [
            "['I', 'have', 'been', 'pushing', 'it', 'way', 'too', 'hard', '.', 'Feeling', 'like', 'junk', 'and', 'just', 'needs', 'a', 'cuddle', 'buddy', '@pickerbrad', 'Thank', 'you', '@Omargunz', 'yeah', 'im', 'up', 'right', 'now', '@', 'work', '...']\n"
          ],
          "name": "stdout"
        }
      ]
    },
    {
      "cell_type": "code",
      "metadata": {
        "id": "fTVZ4QzSs56g",
        "colab_type": "code",
        "colab": {
          "base_uri": "https://localhost:8080/",
          "height": 74
        },
        "outputId": "6a970cf3-def1-4661-afdf-685567045d74"
      },
      "source": [
        "# Get only words that have occured more than once to remove noise, spelling mistakes and possible tokenization errors.\n",
        "fdist = nltk.FreqDist(corpus)\n",
        "print(fdist.most_common()[:20])\n",
        "vocab = [word for word, count in fdist.most_common() if count >= 1]\n",
        "print(vocab[:20])"
      ],
      "execution_count": 69,
      "outputs": [
        {
          "output_type": "stream",
          "text": [
            "[('!', 428603), ('.', 412143), ('to', 279071), ('I', 256583), ('the', 245127), (',', 242214), ('a', 184259), ('my', 141909), ('and', 141012), ('...', 137678), ('i', 129482), ('you', 123954), ('?', 116465), ('is', 111723), ('it', 107040), ('for', 106338), ('in', 103342), ('of', 90354), ('on', 79994), ('me', 77621)]\n",
            "['!', '.', 'to', 'I', 'the', ',', 'a', 'my', 'and', '...', 'i', 'you', '?', 'is', 'it', 'for', 'in', 'of', 'on', 'me']\n"
          ],
          "name": "stdout"
        }
      ]
    },
    {
      "cell_type": "code",
      "metadata": {
        "id": "k8QQfsuytCJK",
        "colab_type": "code",
        "colab": {
          "base_uri": "https://localhost:8080/",
          "height": 35
        },
        "outputId": "6bc3fc87-fdda-46e6-da6b-e9d36550c929"
      },
      "source": [
        "len(vocab)"
      ],
      "execution_count": 70,
      "outputs": [
        {
          "output_type": "execute_result",
          "data": {
            "text/plain": [
              "530406"
            ]
          },
          "metadata": {
            "tags": []
          },
          "execution_count": 70
        }
      ]
    },
    {
      "cell_type": "markdown",
      "metadata": {
        "id": "yPA_mT8mttNq",
        "colab_type": "text"
      },
      "source": [
        "# Encoding and Decoding Dictionary"
      ]
    },
    {
      "cell_type": "code",
      "metadata": {
        "id": "GvV7gZrvtrIZ",
        "colab_type": "code",
        "colab": {}
      },
      "source": [
        "word_index = {}\n",
        "word_index[\"<PAD>\"] = 0\n",
        "word_index[\"<START>\"] = 1\n",
        "word_index[\"<UNK>\"] = 2\n",
        "for index, word in enumerate(vocab):\n",
        "  word_index[word] = index+3"
      ],
      "execution_count": 71,
      "outputs": []
    },
    {
      "cell_type": "code",
      "metadata": {
        "id": "VN5-g8mXtwQl",
        "colab_type": "code",
        "colab": {
          "base_uri": "https://localhost:8080/",
          "height": 201
        },
        "outputId": "a1c87f33-7bc1-4585-e02e-43535e5bcab4"
      },
      "source": [
        "reverse_word_index = dict([(value, key) for (key, value) in word_index.items()])\n",
        "[(i, reverse_word_index.get(i)) for i in np.arange(10)]"
      ],
      "execution_count": 72,
      "outputs": [
        {
          "output_type": "execute_result",
          "data": {
            "text/plain": [
              "[(0, '<PAD>'),\n",
              " (1, '<START>'),\n",
              " (2, '<UNK>'),\n",
              " (3, '!'),\n",
              " (4, '.'),\n",
              " (5, 'to'),\n",
              " (6, 'I'),\n",
              " (7, 'the'),\n",
              " (8, ','),\n",
              " (9, 'a')]"
            ]
          },
          "metadata": {
            "tags": []
          },
          "execution_count": 72
        }
      ]
    },
    {
      "cell_type": "code",
      "metadata": {
        "id": "hFPR5YVbtz2C",
        "colab_type": "code",
        "colab": {
          "base_uri": "https://localhost:8080/",
          "height": 35
        },
        "outputId": "2810ae94-6597-41ab-9ca2-b927aa2c44da"
      },
      "source": [
        "vocabulary_size = len(word_index.keys())\n",
        "vocabulary_size"
      ],
      "execution_count": 73,
      "outputs": [
        {
          "output_type": "execute_result",
          "data": {
            "text/plain": [
              "530409"
            ]
          },
          "metadata": {
            "tags": []
          },
          "execution_count": 73
        }
      ]
    },
    {
      "cell_type": "code",
      "metadata": {
        "id": "A3YPd6Rxt22x",
        "colab_type": "code",
        "colab": {}
      },
      "source": [
        "def encode_data(plain_text: str) -> List[int]:\n",
        "  return [word_index[token] if token in word_index.keys() else word_index[\"<UNK>\"] for token in tweet_tokenizer.tokenize(plain_text)]\n",
        "\n",
        "def decode_data(encoded_text):\n",
        "  return ' '.join([reverse_word_index.get(i, '?') for i in encoded_text])"
      ],
      "execution_count": 74,
      "outputs": []
    },
    {
      "cell_type": "code",
      "metadata": {
        "id": "jNkQ6WsFt58D",
        "colab_type": "code",
        "colab": {}
      },
      "source": [
        "def encode_decode_check(original_data):\n",
        "  print(\"\\n\")\n",
        "  print(f\"Original Data: {original_data}\")\n",
        "  encoded_data = encode_data(original_data)\n",
        "  print(f\"Encoded Data: {encoded_data}\")\n",
        "  decoded_data = decode_data(encoded_data)\n",
        "  print(f\"Decoded Data: {decoded_data}\")\n",
        "  # print(type(decoded_data))\n",
        "  # print(type(str(original_data)))\n",
        "  same = str(decoded_data) == str(original_data)\n",
        "  # print(f\"Decoded = Original: {same}\")"
      ],
      "execution_count": 86,
      "outputs": []
    },
    {
      "cell_type": "code",
      "metadata": {
        "id": "D6tYmjB4vQda",
        "colab_type": "code",
        "colab": {
          "base_uri": "https://localhost:8080/",
          "height": 752
        },
        "outputId": "0ee56314-fc0b-4182-9e57-9f9be159685d"
      },
      "source": [
        "random_train = X_train[np.random.choice(len(X_train), 5)]\n",
        "random_train\n",
        "\n",
        "for single_data in random_train:\n",
        "  encode_decode_check(single_data)"
      ],
      "execution_count": 91,
      "outputs": [
        {
          "output_type": "stream",
          "text": [
            "\n",
            "\n",
            "Original Data: 3 day weekend \n",
            "Encoded Data: [180, 40, 173]\n",
            "Decoded Data: 3 day weekend\n",
            "<class 'str'>\n",
            "<class 'str'>\n",
            "Decoded = Original: False\n",
            "\n",
            "\n",
            "Original Data: ahh im marved. smh. . time to force myself to sleep then  . Night twitter ville\n",
            "Encoded Data: [1148, 83, 284558, 4, 2683, 2128, 58, 5, 3494, 315, 5, 124, 107, 4, 838, 147, 21319]\n",
            "Decoded Data: ahh im marved . smh . . time to force myself to sleep then . Night twitter ville\n",
            "<class 'str'>\n",
            "<class 'str'>\n",
            "Decoded = Original: False\n",
            "\n",
            "\n",
            "Original Data: so i changed my twitter BG but its still the zebra stripes?? is that what yall see too  not good\n",
            "Encoded Data: [25, 13, 1220, 10, 147, 10941, 26, 92, 90, 7, 14965, 15737, 15, 15, 16, 24, 75, 1605, 72, 51, 34, 45]\n",
            "Decoded Data: so i changed my twitter BG but its still the zebra stripes ? ? is that what yall see too not good\n",
            "<class 'str'>\n",
            "<class 'str'>\n",
            "Decoded = Original: False\n",
            "\n",
            "\n",
            "Original Data: I'm sad Jon &amp; Kate are calling it quits \n",
            "Encoded Data: [30, 123, 1902, 61, 2022, 44, 1449, 17, 13480]\n",
            "Decoded Data: I'm sad Jon & Kate are calling it quits\n",
            "<class 'str'>\n",
            "<class 'str'>\n",
            "Decoded = Original: False\n",
            "\n",
            "\n",
            "Original Data: @OKMagazine so sad that they seperated \n",
            "Encoded Data: [122643, 25, 123, 24, 109, 30928]\n",
            "Decoded Data: @OKMagazine so sad that they seperated\n",
            "<class 'str'>\n",
            "<class 'str'>\n",
            "Decoded = Original: False\n"
          ],
          "name": "stdout"
        }
      ]
    },
    {
      "cell_type": "code",
      "metadata": {
        "id": "y6W0AeTYvaiB",
        "colab_type": "code",
        "colab": {
          "base_uri": "https://localhost:8080/",
          "height": 568
        },
        "outputId": "771871a1-d4d0-4757-f1f0-84379d732595"
      },
      "source": [
        "random_val = X_val[np.random.choice(len(X_val), 5)]\n",
        "random_val\n",
        "\n",
        "for single_data in random_val:\n",
        "  encode_decode_check(single_data)"
      ],
      "execution_count": 83,
      "outputs": [
        {
          "output_type": "stream",
          "text": [
            "\n",
            "\n",
            "Original Data: Can't find cheap tickets for Saturday! Want to see Big Weaver vs Little Weaver  #angels #dodgers\n",
            "Encoded Data: [379, 213, 2025, 801, 18, 730, 3, 1927, 5, 72, 1253, 58595, 1804, 2393, 58595, 349006, 390781]\n",
            "Decoded Data: Can't find cheap tickets for Saturday ! Want to see Big Weaver vs Little Weaver #angels #dodgers\n",
            "Decoded = Original: False\n",
            "\n",
            "\n",
            "Original Data: I have a cold \n",
            "Encoded Data: [6, 23, 9, 349]\n",
            "Decoded Data: I have a cold\n",
            "Decoded = Original: False\n",
            "\n",
            "\n",
            "Original Data: Apparently I still like boys... Sorry @melbot \n",
            "Encoded Data: [2221, 6, 90, 42, 796, 12, 414, 2]\n",
            "Decoded Data: Apparently I still like boys ... Sorry <UNK>\n",
            "Decoded = Original: False\n",
            "\n",
            "\n",
            "Original Data: @stephietan No point because you'll sweat right out of the shower \n",
            "Encoded Data: [54434, 187, 923, 233, 756, 4348, 125, 39, 20, 7, 695]\n",
            "Decoded Data: @stephietan No point because you'll sweat right out of the shower\n",
            "Decoded = Original: False\n",
            "\n",
            "\n",
            "Original Data: @April_Slaughter nope, nope, not a philly roll! A philly roll is salmon, cream cheese and cucumber! lol. THIS is called a &quot;richmond roll&quot; \n",
            "Encoded Data: [2, 1251, 8, 1251, 8, 34, 9, 6294, 1816, 3, 237, 6294, 1816, 16, 8417, 8, 786, 1360, 11, 14678, 3, 81, 4, 1664, 16, 621, 9, 46, 19061, 1816, 46]\n",
            "Decoded Data: <UNK> nope , nope , not a philly roll ! A philly roll is salmon , cream cheese and cucumber ! lol . THIS is called a \" richmond roll \"\n",
            "Decoded = Original: False\n"
          ],
          "name": "stdout"
        }
      ]
    },
    {
      "cell_type": "code",
      "metadata": {
        "id": "fj7VKUT_vknO",
        "colab_type": "code",
        "colab": {
          "base_uri": "https://localhost:8080/",
          "height": 35
        },
        "outputId": "272466ce-998c-42fc-e81b-853660f25f15"
      },
      "source": [
        "start = time()\n",
        "X_train_encoded = [encode_data(line) for line in X_train]\n",
        "end = time()\n",
        "print(f\"Time taken: {end-start}s\")"
      ],
      "execution_count": 97,
      "outputs": [
        {
          "output_type": "stream",
          "text": [
            "Time taken: 36.56882166862488s\n"
          ],
          "name": "stdout"
        }
      ]
    },
    {
      "cell_type": "code",
      "metadata": {
        "id": "QBn9SkfeD4ED",
        "colab_type": "code",
        "colab": {
          "base_uri": "https://localhost:8080/",
          "height": 35
        },
        "outputId": "824933e3-2240-452b-80e0-6489f1d5df09"
      },
      "source": [
        "start = time()\n",
        "X_val_encoded = [encode_data(line) for line in X_val]\n",
        "end = time()\n",
        "print(f\"Time taken: {end-start}s\")"
      ],
      "execution_count": 98,
      "outputs": [
        {
          "output_type": "stream",
          "text": [
            "Time taken: 36.78495526313782s\n"
          ],
          "name": "stdout"
        }
      ]
    },
    {
      "cell_type": "code",
      "metadata": {
        "id": "6G8Pjc7Rvm5u",
        "colab_type": "code",
        "colab": {}
      },
      "source": [
        "from tensorflow.keras.preprocessing import sequence\n",
        "\n",
        "X_train_encoded = sequence.pad_sequences(X_train_encoded, maxlen=time_steps_RNN)\n",
        "X_val_encoded = sequence.pad_sequences(X_val_encoded, maxlen=time_steps_RNN)"
      ],
      "execution_count": 99,
      "outputs": []
    },
    {
      "cell_type": "code",
      "metadata": {
        "id": "ajyIiMl_vsPl",
        "colab_type": "code",
        "colab": {
          "base_uri": "https://localhost:8080/",
          "height": 384
        },
        "outputId": "729792fa-2386-4e14-b8db-6ab613ffa9b2"
      },
      "source": [
        "X_train_encoded[0:5]"
      ],
      "execution_count": 100,
      "outputs": [
        {
          "output_type": "execute_result",
          "data": {
            "text/plain": [
              "array([[     0,      0,      0,      0,      0,      0,      0,      0,\n",
              "             0,      6,     23,    108,   5144,     17,    138,     51,\n",
              "           325,      4,   1012,     42,   3841,     11,     33,    581,\n",
              "             9,   2673,   1607],\n",
              "       [     0,      0,      0,      0,      0,      0,      0,      0,\n",
              "             0,      0,      0,      0,      0,      0,      0,      0,\n",
              "             0,      0,      0,      0,      0,      0,      0,      0,\n",
              "        160793,    366,     14],\n",
              "       [     0,      0,      0,      0,      0,      0,      0,      0,\n",
              "             0,      0,      0,      0,      0,  58535,    199,     83,\n",
              "            36,    125,     38,    248,     50,     12,     11,     83,\n",
              "            90,    889,     12],\n",
              "       [     0,      0,      0,      0,      0,      0,      0,      0,\n",
              "             0,      0,      0,      0,      0,      0,      0,      0,\n",
              "             0,      0,      0,      0,    694,   2825,   3333,    286,\n",
              "            12,    204,    123],\n",
              "       [     0,      0,      0,      0,      0,      0,      0,      0,\n",
              "             0,      0,      0,      0,      0,      0,      0,      0,\n",
              "             0,      0,      0,      0,      0,      0,  43383,    103,\n",
              "           139,   3879,     14]], dtype=int32)"
            ]
          },
          "metadata": {
            "tags": []
          },
          "execution_count": 100
        }
      ]
    },
    {
      "cell_type": "code",
      "metadata": {
        "id": "ofuSFfgyvsNv",
        "colab_type": "code",
        "colab": {
          "base_uri": "https://localhost:8080/",
          "height": 384
        },
        "outputId": "2ab93c7f-4acb-4287-9469-0da7f5042f59"
      },
      "source": [
        "X_val_encoded[0:5]"
      ],
      "execution_count": 101,
      "outputs": [
        {
          "output_type": "execute_result",
          "data": {
            "text/plain": [
              "array([[     0,      0,      0,      0,      0,      0,      0,      0,\n",
              "             0,      0,      0,      0,  10487,      2,     80,   1219,\n",
              "             8,    103,    343,      2,     48,     76,     23,     19,\n",
              "            98,     15,      2],\n",
              "       [     0, 319893,   6568,     18,  47562,    627,    461,    112,\n",
              "          1549,    283,     37,  10464,      4,    653,     28,  50945,\n",
              "            64,     75,      5,    944,     19,     64,     99,    391,\n",
              "             4,    465,      3],\n",
              "       [     0,      0,      0,      0,      0,      0,      0,      0,\n",
              "             0,     13,     57,     10,     91,    447,     12,     33,\n",
              "           102,    672,    112,   2313,     12,     46,      2,     21,\n",
              "             7,   4743,      3],\n",
              "       [     0,      0,      0,      0,      0,      0,      0,      0,\n",
              "             0,   3215,     16,   1334,    140,   2687,    106,    208,\n",
              "            40,     29,     50,     18,     22,    104,      6,     85,\n",
              "           150,      3,      3],\n",
              "       [   256,    263,    396,   3404,  26856,      8,     11,   5076,\n",
              "             2,      8,     14,     69,      3,     25,     69,     14,\n",
              "            15,     92,     10,    766,     26,     83,     34,   2347,\n",
              "            25,     13,    192]], dtype=int32)"
            ]
          },
          "metadata": {
            "tags": []
          },
          "execution_count": 101
        }
      ]
    },
    {
      "cell_type": "markdown",
      "metadata": {
        "id": "GMc74z4sgovy",
        "colab_type": "text"
      },
      "source": [
        "# Training"
      ]
    },
    {
      "cell_type": "code",
      "metadata": {
        "id": "Q7mvtO5fGdAe",
        "colab_type": "code",
        "colab": {}
      },
      "source": [
        "import tensorflow as tf\n",
        "from tensorflow.keras import Sequential\n",
        "from tensorflow.keras.layers import Embedding, Dense, Dropout\n",
        "from tensorflow.keras.layers import SimpleRNN as RNN\n",
        "from tensorflow.keras.layers import LSTM as LSTM\n",
        "from tensorflow.keras.layers import GRU as GRU"
      ],
      "execution_count": 102,
      "outputs": []
    },
    {
      "cell_type": "code",
      "metadata": {
        "id": "wwA-Ja-Wgpqn",
        "colab_type": "code",
        "colab": {}
      },
      "source": [
        "def plot_metrics(history: tf.python.keras.callbacks.History, metrics: List[str] = ['loss'], figsize: Tuple[int, int] = (10,4), title: str = \"Train/Test Curves\", titlefontsize:int = 14):\n",
        "  \"\"\"\n",
        "  This functin will plot the metrics for the model\n",
        "  :param history: The history object obtained from the fit function.\n",
        "  :type history: tf.python.keras.callbacks.History\n",
        "  :param metrics: What metrics to plot for the model (Default = ['loss'])\n",
        "  :type metrics: List[str]\n",
        "  :param figsize: Figure size to be used for plotting (Default = (10,4))\n",
        "  :type figsize: Tuple(int,int)\n",
        "  \"\"\"\n",
        "  num_plots = len(metrics)\n",
        "  fig, axes = plt.subplots(int(num_plots/2), 2, figsize=figsize)\n",
        "\n",
        "  for num, metric in enumerate(metrics):\n",
        "    # summarize history for metric\n",
        "    if num <= 2:\n",
        "      axes[num%2].plot(history.history[metric])\n",
        "      axes[num%2].plot(history.history['val_' + metric])\n",
        "      axes[num%2].set_title('Model ' + metric)\n",
        "      axes[num%2].set(xlabel='Epoch', ylabel=metric)\n",
        "      axes[num%2].legend(['train', 'val'], loc='best')    \n",
        "    else:\n",
        "      axes[floor(num/2), num%2].plot(history.history[metric])\n",
        "      axes[floor(num/2), num%2].plot(history.history['val_' + metric])\n",
        "      axes[floor(num/2), num%2].set_title('Model ' + metric)\n",
        "      axes[floor(num/2), num%2].set(xlabel='Epoch', ylabel=metric)\n",
        "      axes[floor(num/2), num%2].legend(['train', 'val'], loc='best')\n",
        "\n",
        "  plt.suptitle(title, fontsize=titlefontsize, y=1.02)    \n",
        "  plt.tight_layout()\n",
        "  _ = plt.show"
      ],
      "execution_count": 103,
      "outputs": []
    },
    {
      "cell_type": "code",
      "metadata": {
        "id": "tl-DCfX3GPCr",
        "colab_type": "code",
        "colab": {}
      },
      "source": [
        "def create_model(\n",
        "    vocabulary_size: int,\n",
        "    time_steps: int,\n",
        "    embedding_size: int,\n",
        "    num_classes: int,\n",
        "    type: str = 'lstm',\n",
        "    num_neuron: int=100,\n",
        "    dropout: float=0,\n",
        "    recurrent_dropout: float=0\n",
        "    ) -> tf.keras.layers.Layer:\n",
        "  \"\"\"\n",
        "  Creates a Sequence Model with the passed parameters\n",
        "  :param vocabulary_size Size of the Vocabulary\n",
        "  :type vocabulary_size int\n",
        "  :param time_steps Number of steps in the sequence (e.g. length of sentence)\n",
        "  :type time_steps int\n",
        "  :param embedding_size Size of the Embedding \n",
        "  :type embedding_size int\n",
        "  :param num_classes Number of Classes to predict (2 for binary, 3 for ternary, etc.)\n",
        "  :type num_classes int\n",
        "  :param type Type of sequence model (Options: 'simple_rnn', 'lstm' or 'gru' (Default: 'lstm')\n",
        "  :type type str\n",
        "  :param num_neuron Number of neurons to be passed to the \"cell\"\n",
        "  :type num_neuron int\n",
        "  :param dropout Amount of dropout to use between the memory layer and the fully connected layer\n",
        "  :type dropout float\n",
        "  :param recurrent_dropout Amount of recurrent dropout to use\n",
        "  :type recurrent_dropout float\n",
        "  :rtype tf.keras.layers.Layer\n",
        "  \"\"\"\n",
        "  model = Sequential()\n",
        "  model.add(Embedding(vocabulary_size, embedding_size, input_length=time_steps))\n",
        "  if type.lower() == 'simple_rnn':\n",
        "    model.add(RNN(num_neuron, recurrent_dropout=recurrent_dropout))\n",
        "  elif type.lower() == 'lstm':\n",
        "    model.add(LSTM(num_neuron, recurrent_dropout=recurrent_dropout))\n",
        "  elif type.lower() == 'gru':\n",
        "    model.add(GRU(num_neuron, recurrent_dropout=recurrent_dropout))\n",
        "  else:\n",
        "    sys.exit(\"You have not passed the right argument for type.\")\n",
        "  model.add(Dropout(dropout))\n",
        "  model.add(Dense(num_classes, activation='softmax'))\n",
        "  model.compile(loss='sparse_categorical_crossentropy', optimizer='adam', metrics=['accuracy'])\n",
        "  return model\n",
        "\n",
        "def create_simple_rnn_model(vocabulary_size: int, time_steps: int, embedding_size: int, num_classes: int, num_neuron: int=100, dropout: float=0, recurrent_dropout: float=0) -> tf.keras.layers.Layer:\n",
        "  \"\"\"\n",
        "  Creates a Simple RNN Model with the passed parameters\n",
        "  :param vocabulary_size Size of the Vocabulary\n",
        "  :type vocabulary_size int\n",
        "  :param time_steps Number of steps in the sequence (e.g. length of sentence)\n",
        "  :type time_steps int\n",
        "  :param embedding_size Size of the Embedding \n",
        "  :type embedding_size int\n",
        "  :param num_classes Number of Classes to predict (2 for binary, 3 for ternary, etc.)\n",
        "  :type num_classes int\n",
        "  :param num_neuron Number of neurons to be passed to the \"cell\"\n",
        "  :type num_neuron int\n",
        "  :param dropout Amount of dropout to use between the memory layer and the fully connected layer\n",
        "  :type dropout float\n",
        "  :param recurrent_dropout Amount of recurrent dropout to use\n",
        "  :type recurrent_dropout float\n",
        "  :rtype tf.keras.layers.Layer\n",
        "  \"\"\"\n",
        "  model = create_model(vocabulary_size, time_steps, embedding_size, num_classes, 'simple_rnn', num_neuron, dropout, recurrent_dropout)\n",
        "  return model\n",
        "\n",
        "def create_lstm_model(vocabulary_size: int, time_steps: int, embedding_size: int, num_classes: int, num_neuron: int=100, dropout: float=0, recurrent_dropout: float=0) -> tf.keras.layers.Layer:\n",
        "  \"\"\"\n",
        "  Creates a LSTM Model with the passed parameters\n",
        "  :param vocabulary_size Size of the Vocabulary\n",
        "  :type vocabulary_size int\n",
        "  :param time_steps Number of steps in the sequence (e.g. length of sentence)\n",
        "  :type time_steps int\n",
        "  :param embedding_size Size of the Embedding \n",
        "  :type embedding_size int\n",
        "  :param num_classes Number of Classes to predict (2 for binary, 3 for ternary, etc.)\n",
        "  :type num_classes int\n",
        "  :param num_neuron Number of neurons to be passed to the \"cell\"\n",
        "  :type num_neuron int\n",
        "  :param dropout Amount of dropout to use between the memory layer and the fully connected layer\n",
        "  :type dropout float\n",
        "  :param recurrent_dropout Amount of recurrent dropout to use\n",
        "  :type recurrent_dropout float\n",
        "  :rtype tf.keras.layers.Layer\n",
        "  \"\"\"\n",
        "  model = create_model(vocabulary_size, time_steps, embedding_size, num_classes, 'lstm', num_neuron, dropout, recurrent_dropout)\n",
        "  return model\n",
        "\n",
        "def create_gru_model(vocabulary_size: int, time_steps: int, embedding_size: int, num_classes: int, num_neuron: int=100, dropout: float=0, recurrent_dropout: float=0) -> tf.keras.layers.Layer:\n",
        "  \"\"\"\n",
        "  Creates a GRU Model with the passed parameters\n",
        "  :param vocabulary_size Size of the Vocabulary\n",
        "  :type vocabulary_size int\n",
        "  :param time_steps Number of steps in the sequence (e.g. length of sentence)\n",
        "  :type time_steps int\n",
        "  :param embedding_size Size of the Embedding \n",
        "  :type embedding_size int\n",
        "  :param num_classes Number of Classes to predict (2 for binary, 3 for ternary, etc.)\n",
        "  :type num_classes int\n",
        "  :param num_neuron Number of neurons to be passed to the \"cell\"\n",
        "  :type num_neuron int\n",
        "  :param dropout Amount of dropout to use between the memory layer and the fully connected layer\n",
        "  :type dropout float\n",
        "  :param recurrent_dropout Amount of recurrent dropout to use\n",
        "  :type recurrent_dropout float\n",
        "  :rtype tf.keras.layers.Layer\n",
        "  \"\"\"\n",
        "  model = create_model(vocabulary_size, time_steps, embedding_size, num_classes, 'gru', num_neuron, dropout, recurrent_dropout)\n",
        "  return model"
      ],
      "execution_count": 104,
      "outputs": []
    },
    {
      "cell_type": "code",
      "metadata": {
        "id": "sfKOGB31f-uK",
        "colab_type": "code",
        "colab": {
          "base_uri": "https://localhost:8080/",
          "height": 35
        },
        "outputId": "24356e28-e4ec-4921-b62b-60b604656914"
      },
      "source": [
        "num_classes = len(set(y_train))\n",
        "num_classes"
      ],
      "execution_count": 105,
      "outputs": [
        {
          "output_type": "execute_result",
          "data": {
            "text/plain": [
              "2"
            ]
          },
          "metadata": {
            "tags": []
          },
          "execution_count": 105
        }
      ]
    },
    {
      "cell_type": "code",
      "metadata": {
        "id": "uh_l4oMQGoux",
        "colab_type": "code",
        "colab": {}
      },
      "source": [
        "from tensorflow.keras.callbacks import EarlyStopping\n",
        "# If validation error does not improve for 'patience' epochs, then terminate the training\n",
        "es = EarlyStopping(min_delta=0,patience=3)"
      ],
      "execution_count": 106,
      "outputs": []
    },
    {
      "cell_type": "code",
      "metadata": {
        "id": "SYabenQ_GmXS",
        "colab_type": "code",
        "colab": {}
      },
      "source": [
        "# import other libs as needed for building model\n",
        "from tensorflow.keras.callbacks import ModelCheckpoint\n",
        "\n",
        "# add a checkpoint to save the lowest validation loss\n",
        "filepath = '.'\n",
        "checkpoint = ModelCheckpoint(filepath, monitor='val_loss', verbose=1, \n",
        "                             save_best_only=True, save_weights_only=False, \n",
        "                             mode='auto', save_frequency=1)"
      ],
      "execution_count": 107,
      "outputs": []
    },
    {
      "cell_type": "code",
      "metadata": {
        "id": "8F1mOEKhGTeq",
        "colab_type": "code",
        "colab": {
          "base_uri": "https://localhost:8080/",
          "height": 1000
        },
        "outputId": "64aa71ca-ae14-452f-cd80-21c4f7607420"
      },
      "source": [
        "vocabulary_size = vocabulary_size\n",
        "embedding_size = 50 # 100\n",
        "time_steps = time_steps_RNN\n",
        "num_neuron = 50 # 100\n",
        "dropout = 0.4\n",
        "recurrent_dropout = 0.4\n",
        "EPOCHS = 10\n",
        "BATCH_SIZE = 4096 #  1024\n",
        "\n",
        "# Build Model and Train\n",
        "model = create_lstm_model(\n",
        "    vocabulary_size=vocabulary_size,\n",
        "    embedding_size=embedding_size,\n",
        "    time_steps=time_steps,\n",
        "    num_classes=num_classes,\n",
        "    num_neuron=num_neuron,\n",
        "    dropout=dropout,\n",
        "    recurrent_dropout=recurrent_dropout\n",
        "  )\n",
        "print(model.summary())\n",
        "\n",
        "history = model.fit(\n",
        "    X_train_encoded, y_train,\n",
        "    validation_data=(X_val_encoded, y_val),\n",
        "    epochs=EPOCHS,\n",
        "    batch_size=BATCH_SIZE,\n",
        "    callbacks=[es, checkpoint]\n",
        "  )\n",
        "\n",
        "plot_metrics(history,\n",
        "             metrics=['loss', 'accuracy'],\n",
        "             title = f\"LSTM --> Vocab: {vocabulary_size}, Steps: {time_steps}, Embedding: {embedding_size}, Neurons: {num_neuron}, Dropout: {round(dropout,2)}, Rec. Dropout: {round(recurrent_dropout,2)}\")"
      ],
      "execution_count": 108,
      "outputs": [
        {
          "output_type": "stream",
          "text": [
            "WARNING:tensorflow:Layer lstm_6 will not use cuDNN kernel since it doesn't meet the cuDNN kernel criteria. It will use generic GPU kernel as fallback when running on GPU\n",
            "Model: \"sequential_6\"\n",
            "_________________________________________________________________\n",
            "Layer (type)                 Output Shape              Param #   \n",
            "=================================================================\n",
            "embedding_6 (Embedding)      (None, 27, 50)            26520450  \n",
            "_________________________________________________________________\n",
            "lstm_6 (LSTM)                (None, 50)                20200     \n",
            "_________________________________________________________________\n",
            "dropout_6 (Dropout)          (None, 50)                0         \n",
            "_________________________________________________________________\n",
            "dense_6 (Dense)              (None, 2)                 102       \n",
            "=================================================================\n",
            "Total params: 26,540,752\n",
            "Trainable params: 26,540,752\n",
            "Non-trainable params: 0\n",
            "_________________________________________________________________\n",
            "None\n",
            "Epoch 1/10\n",
            "196/196 [==============================] - ETA: 0s - loss: 0.5022 - accuracy: 0.7563\n",
            "Epoch 00001: val_loss improved from inf to 0.42758, saving model to .\n",
            "INFO:tensorflow:Assets written to: ./assets\n",
            "196/196 [==============================] - 80s 408ms/step - loss: 0.5022 - accuracy: 0.7563 - val_loss: 0.4276 - val_accuracy: 0.8049\n",
            "Epoch 2/10\n",
            "196/196 [==============================] - ETA: 0s - loss: 0.3798 - accuracy: 0.8341\n",
            "Epoch 00002: val_loss improved from 0.42758 to 0.42410, saving model to .\n",
            "INFO:tensorflow:Assets written to: ./assets\n",
            "196/196 [==============================] - 79s 405ms/step - loss: 0.3798 - accuracy: 0.8341 - val_loss: 0.4241 - val_accuracy: 0.8054\n",
            "Epoch 3/10\n",
            "196/196 [==============================] - ETA: 0s - loss: 0.3056 - accuracy: 0.8723\n",
            "Epoch 00003: val_loss did not improve from 0.42410\n",
            "196/196 [==============================] - 75s 383ms/step - loss: 0.3056 - accuracy: 0.8723 - val_loss: 0.4572 - val_accuracy: 0.7964\n",
            "Epoch 4/10\n",
            "196/196 [==============================] - ETA: 0s - loss: 0.2481 - accuracy: 0.8993\n",
            "Epoch 00004: val_loss did not improve from 0.42410\n",
            "196/196 [==============================] - 75s 385ms/step - loss: 0.2481 - accuracy: 0.8993 - val_loss: 0.4945 - val_accuracy: 0.7924\n",
            "Epoch 5/10\n",
            "196/196 [==============================] - ETA: 0s - loss: 0.2103 - accuracy: 0.9148\n",
            "Epoch 00005: val_loss did not improve from 0.42410\n",
            "196/196 [==============================] - 75s 383ms/step - loss: 0.2103 - accuracy: 0.9148 - val_loss: 0.5538 - val_accuracy: 0.7888\n"
          ],
          "name": "stdout"
        },
        {
          "output_type": "display_data",
          "data": {
            "image/png": "[encoded data removed]",
            "text/plain": [
              "<Figure size 720x288 with 2 Axes>"
            ]
          },
          "metadata": {
            "tags": [],
            "needs_background": "light"
          }
        }
      ]
    },
    {
      "cell_type": "code",
      "metadata": {
        "id": "UKCpcb0lWHJL",
        "colab_type": "code",
        "colab": {}
      },
      "source": [
        ""
      ],
      "execution_count": null,
      "outputs": []
    }
  ]
}