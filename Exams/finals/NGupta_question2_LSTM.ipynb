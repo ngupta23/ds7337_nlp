{
  "nbformat": 4,
  "nbformat_minor": 0,
  "metadata": {
    "orig_nbformat": 2,
    "kernelspec": {
      "name": "python3",
      "display_name": "Python 3"
    },
    "colab": {
      "name": "NGupta_question2.ipynb",
      "provenance": [],
      "toc_visible": true,
      "include_colab_link": true
    },
    "accelerator": "GPU"
  },
  "cells": [
    {
      "cell_type": "markdown",
      "metadata": {
        "id": "view-in-github",
        "colab_type": "text"
      },
      "source": [
        "<a href=\"https://colab.research.google.com/github/ngupta23/ds7337_nlp/blob/master/Exams/finals/NGupta_question2_LSTM.ipynb\" target=\"_parent\"><img src=\"https://colab.research.google.com/assets/colab-badge.svg\" alt=\"Open In Colab\"/></a>"
      ]
    },
    {
      "cell_type": "markdown",
      "metadata": {
        "id": "2FPwGQ8GcCvb",
        "colab_type": "text"
      },
      "source": [
        "# Load Libraries"
      ]
    },
    {
      "cell_type": "code",
      "metadata": {
        "id": "1Z5BoRdd4BEx",
        "colab_type": "code",
        "colab": {}
      },
      "source": [
        "from typing import List, Tuple\n",
        "from time import time\n",
        "from datetime import datetime\n",
        "\n",
        "import numpy as np\n",
        "import pandas as pd\n",
        "\n",
        "import matplotlib.pyplot as plt\n",
        "%matplotlib inline"
      ],
      "execution_count": 1,
      "outputs": []
    },
    {
      "cell_type": "code",
      "metadata": {
        "id": "tgtql0HE4yEo",
        "colab_type": "code",
        "colab": {}
      },
      "source": [
        "from sklearn.model_selection import train_test_split\n",
        "\n",
        "import tensorflow as tf\n",
        "from tensorflow.keras.models import Model\n",
        "from tensorflow.keras.layers import Input, Dense, Dropout\n",
        "import tensorflow_hub as hub"
      ],
      "execution_count": 2,
      "outputs": []
    },
    {
      "cell_type": "code",
      "metadata": {
        "id": "3b5iG69V48Fu",
        "colab_type": "code",
        "colab": {
          "base_uri": "https://localhost:8080/",
          "height": 36
        },
        "outputId": "06492589-e241-4bbc-dc57-844b10724cf2"
      },
      "source": [
        "tf.__version__"
      ],
      "execution_count": 3,
      "outputs": [
        {
          "output_type": "execute_result",
          "data": {
            "application/vnd.google.colaboratory.intrinsic+json": {
              "type": "string"
            },
            "text/plain": [
              "'2.3.0'"
            ]
          },
          "metadata": {
            "tags": []
          },
          "execution_count": 3
        }
      ]
    },
    {
      "cell_type": "markdown",
      "metadata": {
        "id": "bTVeUcYYcE8A",
        "colab_type": "text"
      },
      "source": [
        "# Get Data"
      ]
    },
    {
      "cell_type": "code",
      "metadata": {
        "id": "HcAuPBnM-Epn",
        "colab_type": "code",
        "colab": {}
      },
      "source": [
        "!rm -rf ./*"
      ],
      "execution_count": 4,
      "outputs": []
    },
    {
      "cell_type": "code",
      "metadata": {
        "id": "dQoUNW5d4SrO",
        "colab_type": "code",
        "colab": {
          "base_uri": "https://localhost:8080/",
          "height": 237
        },
        "outputId": "ef34b753-18b0-4e89-eae8-c08d8c39e70a"
      },
      "source": [
        "!wget http://cs.stanford.edu/people/alecmgo/trainingandtestdata.zip"
      ],
      "execution_count": 5,
      "outputs": [
        {
          "output_type": "stream",
          "text": [
            "URL transformed to HTTPS due to an HSTS policy\n",
            "--2020-08-08 03:33:49--  https://cs.stanford.edu/people/alecmgo/trainingandtestdata.zip\n",
            "Resolving cs.stanford.edu (cs.stanford.edu)... 171.64.64.64\n",
            "Connecting to cs.stanford.edu (cs.stanford.edu)|171.64.64.64|:443... connected.\n",
            "HTTP request sent, awaiting response... 200 OK\n",
            "Length: 81363704 (78M) [application/zip]\n",
            "Saving to: ‘trainingandtestdata.zip’\n",
            "\n",
            "trainingandtestdata 100%[===================>]  77.59M  37.1MB/s    in 2.1s    \n",
            "\n",
            "2020-08-08 03:33:51 (37.1 MB/s) - ‘trainingandtestdata.zip’ saved [81363704/81363704]\n",
            "\n"
          ],
          "name": "stdout"
        }
      ]
    },
    {
      "cell_type": "code",
      "metadata": {
        "id": "eizE5HXM4Yht",
        "colab_type": "code",
        "colab": {
          "base_uri": "https://localhost:8080/",
          "height": 72
        },
        "outputId": "91d9f813-21a6-47da-90a4-4cc1d7ed7d95"
      },
      "source": [
        "!unzip trainingandtestdata.zip"
      ],
      "execution_count": 6,
      "outputs": [
        {
          "output_type": "stream",
          "text": [
            "Archive:  trainingandtestdata.zip\n",
            "  inflating: testdata.manual.2009.06.14.csv  \n",
            "  inflating: training.1600000.processed.noemoticon.csv  \n"
          ],
          "name": "stdout"
        }
      ]
    },
    {
      "cell_type": "code",
      "metadata": {
        "tags": [],
        "id": "jQ9H8iVz4BE-",
        "colab_type": "code",
        "colab": {
          "base_uri": "https://localhost:8080/",
          "height": 256
        },
        "outputId": "f17e4023-de96-4bb8-832d-755a401ebdf4"
      },
      "source": [
        "data = pd.read_csv(\"training.1600000.processed.noemoticon.csv\", encoding='latin-1', header=None)\n",
        "data.info()"
      ],
      "execution_count": 7,
      "outputs": [
        {
          "output_type": "stream",
          "text": [
            "<class 'pandas.core.frame.DataFrame'>\n",
            "RangeIndex: 1600000 entries, 0 to 1599999\n",
            "Data columns (total 6 columns):\n",
            " #   Column  Non-Null Count    Dtype \n",
            "---  ------  --------------    ----- \n",
            " 0   0       1600000 non-null  int64 \n",
            " 1   1       1600000 non-null  int64 \n",
            " 2   2       1600000 non-null  object\n",
            " 3   3       1600000 non-null  object\n",
            " 4   4       1600000 non-null  object\n",
            " 5   5       1600000 non-null  object\n",
            "dtypes: int64(2), object(4)\n",
            "memory usage: 73.2+ MB\n"
          ],
          "name": "stdout"
        }
      ]
    },
    {
      "cell_type": "code",
      "metadata": {
        "id": "zkGUGdUR4BFP",
        "colab_type": "code",
        "colab": {
          "base_uri": "https://localhost:8080/",
          "height": 206
        },
        "outputId": "11c99eac-59b3-486f-8934-dd8766d1a354"
      },
      "source": [
        "data.head()"
      ],
      "execution_count": 8,
      "outputs": [
        {
          "output_type": "execute_result",
          "data": {
            "text/html": [
              "<div>\n",
              "<style scoped>\n",
              "    .dataframe tbody tr th:only-of-type {\n",
              "        vertical-align: middle;\n",
              "    }\n",
              "\n",
              "    .dataframe tbody tr th {\n",
              "        vertical-align: top;\n",
              "    }\n",
              "\n",
              "    .dataframe thead th {\n",
              "        text-align: right;\n",
              "    }\n",
              "</style>\n",
              "<table border=\"1\" class=\"dataframe\">\n",
              "  <thead>\n",
              "    <tr style=\"text-align: right;\">\n",
              "      <th></th>\n",
              "      <th>0</th>\n",
              "      <th>1</th>\n",
              "      <th>2</th>\n",
              "      <th>3</th>\n",
              "      <th>4</th>\n",
              "      <th>5</th>\n",
              "    </tr>\n",
              "  </thead>\n",
              "  <tbody>\n",
              "    <tr>\n",
              "      <th>0</th>\n",
              "      <td>0</td>\n",
              "      <td>1467810369</td>\n",
              "      <td>Mon Apr 06 22:19:45 PDT 2009</td>\n",
              "      <td>NO_QUERY</td>\n",
              "      <td>_TheSpecialOne_</td>\n",
              "      <td>@switchfoot http://twitpic.com/2y1zl - Awww, t...</td>\n",
              "    </tr>\n",
              "    <tr>\n",
              "      <th>1</th>\n",
              "      <td>0</td>\n",
              "      <td>1467810672</td>\n",
              "      <td>Mon Apr 06 22:19:49 PDT 2009</td>\n",
              "      <td>NO_QUERY</td>\n",
              "      <td>scotthamilton</td>\n",
              "      <td>is upset that he can't update his Facebook by ...</td>\n",
              "    </tr>\n",
              "    <tr>\n",
              "      <th>2</th>\n",
              "      <td>0</td>\n",
              "      <td>1467810917</td>\n",
              "      <td>Mon Apr 06 22:19:53 PDT 2009</td>\n",
              "      <td>NO_QUERY</td>\n",
              "      <td>mattycus</td>\n",
              "      <td>@Kenichan I dived many times for the ball. Man...</td>\n",
              "    </tr>\n",
              "    <tr>\n",
              "      <th>3</th>\n",
              "      <td>0</td>\n",
              "      <td>1467811184</td>\n",
              "      <td>Mon Apr 06 22:19:57 PDT 2009</td>\n",
              "      <td>NO_QUERY</td>\n",
              "      <td>ElleCTF</td>\n",
              "      <td>my whole body feels itchy and like its on fire</td>\n",
              "    </tr>\n",
              "    <tr>\n",
              "      <th>4</th>\n",
              "      <td>0</td>\n",
              "      <td>1467811193</td>\n",
              "      <td>Mon Apr 06 22:19:57 PDT 2009</td>\n",
              "      <td>NO_QUERY</td>\n",
              "      <td>Karoli</td>\n",
              "      <td>@nationwideclass no, it's not behaving at all....</td>\n",
              "    </tr>\n",
              "  </tbody>\n",
              "</table>\n",
              "</div>"
            ],
            "text/plain": [
              "   0  ...                                                  5\n",
              "0  0  ...  @switchfoot http://twitpic.com/2y1zl - Awww, t...\n",
              "1  0  ...  is upset that he can't update his Facebook by ...\n",
              "2  0  ...  @Kenichan I dived many times for the ball. Man...\n",
              "3  0  ...    my whole body feels itchy and like its on fire \n",
              "4  0  ...  @nationwideclass no, it's not behaving at all....\n",
              "\n",
              "[5 rows x 6 columns]"
            ]
          },
          "metadata": {
            "tags": []
          },
          "execution_count": 8
        }
      ]
    },
    {
      "cell_type": "code",
      "metadata": {
        "id": "51MBvvvN4BFZ",
        "colab_type": "code",
        "colab": {
          "base_uri": "https://localhost:8080/",
          "height": 206
        },
        "outputId": "9925aab3-3083-4e09-a22d-57ae4fe5925f"
      },
      "source": [
        "data = data[[5, 0]]\n",
        "data.head()"
      ],
      "execution_count": 9,
      "outputs": [
        {
          "output_type": "execute_result",
          "data": {
            "text/html": [
              "<div>\n",
              "<style scoped>\n",
              "    .dataframe tbody tr th:only-of-type {\n",
              "        vertical-align: middle;\n",
              "    }\n",
              "\n",
              "    .dataframe tbody tr th {\n",
              "        vertical-align: top;\n",
              "    }\n",
              "\n",
              "    .dataframe thead th {\n",
              "        text-align: right;\n",
              "    }\n",
              "</style>\n",
              "<table border=\"1\" class=\"dataframe\">\n",
              "  <thead>\n",
              "    <tr style=\"text-align: right;\">\n",
              "      <th></th>\n",
              "      <th>5</th>\n",
              "      <th>0</th>\n",
              "    </tr>\n",
              "  </thead>\n",
              "  <tbody>\n",
              "    <tr>\n",
              "      <th>0</th>\n",
              "      <td>@switchfoot http://twitpic.com/2y1zl - Awww, t...</td>\n",
              "      <td>0</td>\n",
              "    </tr>\n",
              "    <tr>\n",
              "      <th>1</th>\n",
              "      <td>is upset that he can't update his Facebook by ...</td>\n",
              "      <td>0</td>\n",
              "    </tr>\n",
              "    <tr>\n",
              "      <th>2</th>\n",
              "      <td>@Kenichan I dived many times for the ball. Man...</td>\n",
              "      <td>0</td>\n",
              "    </tr>\n",
              "    <tr>\n",
              "      <th>3</th>\n",
              "      <td>my whole body feels itchy and like its on fire</td>\n",
              "      <td>0</td>\n",
              "    </tr>\n",
              "    <tr>\n",
              "      <th>4</th>\n",
              "      <td>@nationwideclass no, it's not behaving at all....</td>\n",
              "      <td>0</td>\n",
              "    </tr>\n",
              "  </tbody>\n",
              "</table>\n",
              "</div>"
            ],
            "text/plain": [
              "                                                   5  0\n",
              "0  @switchfoot http://twitpic.com/2y1zl - Awww, t...  0\n",
              "1  is upset that he can't update his Facebook by ...  0\n",
              "2  @Kenichan I dived many times for the ball. Man...  0\n",
              "3    my whole body feels itchy and like its on fire   0\n",
              "4  @nationwideclass no, it's not behaving at all....  0"
            ]
          },
          "metadata": {
            "tags": []
          },
          "execution_count": 9
        }
      ]
    },
    {
      "cell_type": "code",
      "metadata": {
        "tags": [],
        "id": "-eqLjbgU4BFh",
        "colab_type": "code",
        "colab": {
          "base_uri": "https://localhost:8080/",
          "height": 206
        },
        "outputId": "a1bd3858-1cc7-44fc-971d-115a2461440f"
      },
      "source": [
        "data = data.rename(columns={5:'text', 0:'sentiment'})\n",
        "data.head()"
      ],
      "execution_count": 10,
      "outputs": [
        {
          "output_type": "execute_result",
          "data": {
            "text/html": [
              "<div>\n",
              "<style scoped>\n",
              "    .dataframe tbody tr th:only-of-type {\n",
              "        vertical-align: middle;\n",
              "    }\n",
              "\n",
              "    .dataframe tbody tr th {\n",
              "        vertical-align: top;\n",
              "    }\n",
              "\n",
              "    .dataframe thead th {\n",
              "        text-align: right;\n",
              "    }\n",
              "</style>\n",
              "<table border=\"1\" class=\"dataframe\">\n",
              "  <thead>\n",
              "    <tr style=\"text-align: right;\">\n",
              "      <th></th>\n",
              "      <th>text</th>\n",
              "      <th>sentiment</th>\n",
              "    </tr>\n",
              "  </thead>\n",
              "  <tbody>\n",
              "    <tr>\n",
              "      <th>0</th>\n",
              "      <td>@switchfoot http://twitpic.com/2y1zl - Awww, t...</td>\n",
              "      <td>0</td>\n",
              "    </tr>\n",
              "    <tr>\n",
              "      <th>1</th>\n",
              "      <td>is upset that he can't update his Facebook by ...</td>\n",
              "      <td>0</td>\n",
              "    </tr>\n",
              "    <tr>\n",
              "      <th>2</th>\n",
              "      <td>@Kenichan I dived many times for the ball. Man...</td>\n",
              "      <td>0</td>\n",
              "    </tr>\n",
              "    <tr>\n",
              "      <th>3</th>\n",
              "      <td>my whole body feels itchy and like its on fire</td>\n",
              "      <td>0</td>\n",
              "    </tr>\n",
              "    <tr>\n",
              "      <th>4</th>\n",
              "      <td>@nationwideclass no, it's not behaving at all....</td>\n",
              "      <td>0</td>\n",
              "    </tr>\n",
              "  </tbody>\n",
              "</table>\n",
              "</div>"
            ],
            "text/plain": [
              "                                                text  sentiment\n",
              "0  @switchfoot http://twitpic.com/2y1zl - Awww, t...          0\n",
              "1  is upset that he can't update his Facebook by ...          0\n",
              "2  @Kenichan I dived many times for the ball. Man...          0\n",
              "3    my whole body feels itchy and like its on fire           0\n",
              "4  @nationwideclass no, it's not behaving at all....          0"
            ]
          },
          "metadata": {
            "tags": []
          },
          "execution_count": 10
        }
      ]
    },
    {
      "cell_type": "markdown",
      "metadata": {
        "id": "KyZY8Nb7cOgq",
        "colab_type": "text"
      },
      "source": [
        "# Prepare Labels"
      ]
    },
    {
      "cell_type": "code",
      "metadata": {
        "id": "0uw4I6Fi4BGi",
        "colab_type": "code",
        "colab": {
          "base_uri": "https://localhost:8080/",
          "height": 283
        },
        "outputId": "4158d8dc-3c8c-452c-87fd-4452d79137a5"
      },
      "source": [
        "data['sentiment'].hist()"
      ],
      "execution_count": 11,
      "outputs": [
        {
          "output_type": "execute_result",
          "data": {
            "text/plain": [
              "<matplotlib.axes._subplots.AxesSubplot at 0x7faa5dc07240>"
            ]
          },
          "metadata": {
            "tags": []
          },
          "execution_count": 11
        },
        {
          "output_type": "display_data",
          "data": {
            "image/png": "[encoded data removed]",
            "text/plain": [
              "<Figure size 432x288 with 1 Axes>"
            ]
          },
          "metadata": {
            "tags": [],
            "needs_background": "light"
          }
        }
      ]
    },
    {
      "cell_type": "code",
      "metadata": {
        "id": "1GEdw00x4BFz",
        "colab_type": "code",
        "colab": {
          "base_uri": "https://localhost:8080/",
          "height": 72
        },
        "outputId": "318bf17a-eb42-41a8-f1a4-f4473fb318d5"
      },
      "source": [
        "data['sentiment'].value_counts()"
      ],
      "execution_count": 12,
      "outputs": [
        {
          "output_type": "execute_result",
          "data": {
            "text/plain": [
              "4    800000\n",
              "0    800000\n",
              "Name: sentiment, dtype: int64"
            ]
          },
          "metadata": {
            "tags": []
          },
          "execution_count": 12
        }
      ]
    },
    {
      "cell_type": "code",
      "metadata": {
        "id": "4c4bO15F4BF4",
        "colab_type": "code",
        "colab": {}
      },
      "source": [
        "data.loc[data['sentiment'] == 4, 'sentiment'] = 1"
      ],
      "execution_count": 13,
      "outputs": []
    },
    {
      "cell_type": "code",
      "metadata": {
        "id": "Vzs9ve544BF9",
        "colab_type": "code",
        "colab": {
          "base_uri": "https://localhost:8080/",
          "height": 72
        },
        "outputId": "757f837d-2ce0-411a-9c97-ee5e2798622c"
      },
      "source": [
        "data['sentiment'].value_counts()"
      ],
      "execution_count": 14,
      "outputs": [
        {
          "output_type": "execute_result",
          "data": {
            "text/plain": [
              "1    800000\n",
              "0    800000\n",
              "Name: sentiment, dtype: int64"
            ]
          },
          "metadata": {
            "tags": []
          },
          "execution_count": 14
        }
      ]
    },
    {
      "cell_type": "code",
      "metadata": {
        "id": "H1jNro6p4BGE",
        "colab_type": "code",
        "colab": {
          "base_uri": "https://localhost:8080/",
          "height": 206
        },
        "outputId": "f9e28fe7-8da5-409c-989d-c07fdbd359a2"
      },
      "source": [
        "data.head()"
      ],
      "execution_count": 15,
      "outputs": [
        {
          "output_type": "execute_result",
          "data": {
            "text/html": [
              "<div>\n",
              "<style scoped>\n",
              "    .dataframe tbody tr th:only-of-type {\n",
              "        vertical-align: middle;\n",
              "    }\n",
              "\n",
              "    .dataframe tbody tr th {\n",
              "        vertical-align: top;\n",
              "    }\n",
              "\n",
              "    .dataframe thead th {\n",
              "        text-align: right;\n",
              "    }\n",
              "</style>\n",
              "<table border=\"1\" class=\"dataframe\">\n",
              "  <thead>\n",
              "    <tr style=\"text-align: right;\">\n",
              "      <th></th>\n",
              "      <th>text</th>\n",
              "      <th>sentiment</th>\n",
              "    </tr>\n",
              "  </thead>\n",
              "  <tbody>\n",
              "    <tr>\n",
              "      <th>0</th>\n",
              "      <td>@switchfoot http://twitpic.com/2y1zl - Awww, t...</td>\n",
              "      <td>0</td>\n",
              "    </tr>\n",
              "    <tr>\n",
              "      <th>1</th>\n",
              "      <td>is upset that he can't update his Facebook by ...</td>\n",
              "      <td>0</td>\n",
              "    </tr>\n",
              "    <tr>\n",
              "      <th>2</th>\n",
              "      <td>@Kenichan I dived many times for the ball. Man...</td>\n",
              "      <td>0</td>\n",
              "    </tr>\n",
              "    <tr>\n",
              "      <th>3</th>\n",
              "      <td>my whole body feels itchy and like its on fire</td>\n",
              "      <td>0</td>\n",
              "    </tr>\n",
              "    <tr>\n",
              "      <th>4</th>\n",
              "      <td>@nationwideclass no, it's not behaving at all....</td>\n",
              "      <td>0</td>\n",
              "    </tr>\n",
              "  </tbody>\n",
              "</table>\n",
              "</div>"
            ],
            "text/plain": [
              "                                                text  sentiment\n",
              "0  @switchfoot http://twitpic.com/2y1zl - Awww, t...          0\n",
              "1  is upset that he can't update his Facebook by ...          0\n",
              "2  @Kenichan I dived many times for the ball. Man...          0\n",
              "3    my whole body feels itchy and like its on fire           0\n",
              "4  @nationwideclass no, it's not behaving at all....          0"
            ]
          },
          "metadata": {
            "tags": []
          },
          "execution_count": 15
        }
      ]
    },
    {
      "cell_type": "markdown",
      "metadata": {
        "id": "nxvGsM5XdlOh",
        "colab_type": "text"
      },
      "source": [
        "# Shuffle Data"
      ]
    },
    {
      "cell_type": "code",
      "metadata": {
        "tags": [],
        "id": "QDHppZoE4BGL",
        "colab_type": "code",
        "colab": {
          "base_uri": "https://localhost:8080/",
          "height": 182
        },
        "outputId": "264456ff-0bcd-4ae5-9b1c-eb449fb29663"
      },
      "source": [
        "data = data.sample(frac=1).reset_index(drop=True)\n",
        "data.info()"
      ],
      "execution_count": 16,
      "outputs": [
        {
          "output_type": "stream",
          "text": [
            "<class 'pandas.core.frame.DataFrame'>\n",
            "RangeIndex: 1600000 entries, 0 to 1599999\n",
            "Data columns (total 2 columns):\n",
            " #   Column     Non-Null Count    Dtype \n",
            "---  ------     --------------    ----- \n",
            " 0   text       1600000 non-null  object\n",
            " 1   sentiment  1600000 non-null  int64 \n",
            "dtypes: int64(1), object(1)\n",
            "memory usage: 24.4+ MB\n"
          ],
          "name": "stdout"
        }
      ]
    },
    {
      "cell_type": "markdown",
      "metadata": {
        "id": "k6MsjYENdnWU",
        "colab_type": "text"
      },
      "source": [
        "# Max Sequence Length\n",
        "\n",
        "The number of characters reaches a max length of 374, but that might be an exception. For Universal Sentence Encoder (USE), we can possibly limit this to a smaller number based on the histogram of character lengths. \n",
        "\n",
        "The number of words reaches a maximum value of 64. For RNN variants, again, we can limit this to a smaller number based on the distribution of the number of words as shown below"
      ]
    },
    {
      "cell_type": "code",
      "metadata": {
        "id": "dEme5TlR5pgd",
        "colab_type": "code",
        "colab": {
          "base_uri": "https://localhost:8080/",
          "height": 206
        },
        "outputId": "3a7c14ff-6d72-4e47-f5bc-c1f1e14b7539"
      },
      "source": [
        "data['charlen'] = data['text'].str.len()\n",
        "data['wordlen'] = data['text'].str.split().str.len()\n",
        "data.head()"
      ],
      "execution_count": 17,
      "outputs": [
        {
          "output_type": "execute_result",
          "data": {
            "text/html": [
              "<div>\n",
              "<style scoped>\n",
              "    .dataframe tbody tr th:only-of-type {\n",
              "        vertical-align: middle;\n",
              "    }\n",
              "\n",
              "    .dataframe tbody tr th {\n",
              "        vertical-align: top;\n",
              "    }\n",
              "\n",
              "    .dataframe thead th {\n",
              "        text-align: right;\n",
              "    }\n",
              "</style>\n",
              "<table border=\"1\" class=\"dataframe\">\n",
              "  <thead>\n",
              "    <tr style=\"text-align: right;\">\n",
              "      <th></th>\n",
              "      <th>text</th>\n",
              "      <th>sentiment</th>\n",
              "      <th>charlen</th>\n",
              "      <th>wordlen</th>\n",
              "    </tr>\n",
              "  </thead>\n",
              "  <tbody>\n",
              "    <tr>\n",
              "      <th>0</th>\n",
              "      <td>shop shop shopping with adub</td>\n",
              "      <td>1</td>\n",
              "      <td>29</td>\n",
              "      <td>5</td>\n",
              "    </tr>\n",
              "    <tr>\n",
              "      <th>1</th>\n",
              "      <td>@sparkly72 I tried to save yur comment earlier...</td>\n",
              "      <td>0</td>\n",
              "      <td>105</td>\n",
              "      <td>20</td>\n",
              "    </tr>\n",
              "    <tr>\n",
              "      <th>2</th>\n",
              "      <td>@_JadeLakeasha no. no i didnt  people kept get...</td>\n",
              "      <td>0</td>\n",
              "      <td>83</td>\n",
              "      <td>15</td>\n",
              "    </tr>\n",
              "    <tr>\n",
              "      <th>3</th>\n",
              "      <td>twitter= novo viciu  {2}</td>\n",
              "      <td>0</td>\n",
              "      <td>24</td>\n",
              "      <td>4</td>\n",
              "    </tr>\n",
              "    <tr>\n",
              "      <th>4</th>\n",
              "      <td>No!!! All my afternoon pts are showing up.  af...</td>\n",
              "      <td>0</td>\n",
              "      <td>94</td>\n",
              "      <td>18</td>\n",
              "    </tr>\n",
              "  </tbody>\n",
              "</table>\n",
              "</div>"
            ],
            "text/plain": [
              "                                                text  ...  wordlen\n",
              "0                      shop shop shopping with adub   ...        5\n",
              "1  @sparkly72 I tried to save yur comment earlier...  ...       20\n",
              "2  @_JadeLakeasha no. no i didnt  people kept get...  ...       15\n",
              "3                           twitter= novo viciu  {2}  ...        4\n",
              "4  No!!! All my afternoon pts are showing up.  af...  ...       18\n",
              "\n",
              "[5 rows x 4 columns]"
            ]
          },
          "metadata": {
            "tags": []
          },
          "execution_count": 17
        }
      ]
    },
    {
      "cell_type": "code",
      "metadata": {
        "id": "l6uEdkgW5z2V",
        "colab_type": "code",
        "colab": {
          "base_uri": "https://localhost:8080/",
          "height": 90
        },
        "outputId": "a8e08c81-f967-46a8-9e9a-8fd66dd6e572"
      },
      "source": [
        "print('Maximum review length (words): {}'.format(data['wordlen'].max()))\n",
        "print('Minimum review length (words): {}'.format(data['wordlen'].min()))\n",
        "print('Maximum review length (chars): {}'.format(data['charlen'].max()))\n",
        "print('Minimum review length (chars): {}'.format(data['charlen'].min()))\n"
      ],
      "execution_count": 18,
      "outputs": [
        {
          "output_type": "stream",
          "text": [
            "Maximum review length (words): 64\n",
            "Minimum review length (words): 1\n",
            "Maximum review length (chars): 374\n",
            "Minimum review length (chars): 6\n"
          ],
          "name": "stdout"
        }
      ]
    },
    {
      "cell_type": "code",
      "metadata": {
        "id": "6SQ5-9k4eAUi",
        "colab_type": "code",
        "colab": {
          "base_uri": "https://localhost:8080/",
          "height": 283
        },
        "outputId": "0a6e4f86-db23-4747-b969-49b6312a082c"
      },
      "source": [
        "data['charlen'].hist(bins=50)"
      ],
      "execution_count": 19,
      "outputs": [
        {
          "output_type": "execute_result",
          "data": {
            "text/plain": [
              "<matplotlib.axes._subplots.AxesSubplot at 0x7faa0576a2b0>"
            ]
          },
          "metadata": {
            "tags": []
          },
          "execution_count": 19
        },
        {
          "output_type": "display_data",
          "data": {
            "image/png": "[encoded data removed]",
            "text/plain": [
              "<Figure size 432x288 with 1 Axes>"
            ]
          },
          "metadata": {
            "tags": [],
            "needs_background": "light"
          }
        }
      ]
    },
    {
      "cell_type": "code",
      "metadata": {
        "id": "v5-WCBuWeShI",
        "colab_type": "code",
        "colab": {
          "base_uri": "https://localhost:8080/",
          "height": 35
        },
        "outputId": "cc7de264-7275-4755-e4bf-c253b5a6ea72"
      },
      "source": [
        "# Keep a large percentage of reviews completely and chop of the remainig reviews off.\n",
        "time_steps_USE = int(np.quantile(data['charlen'],0.975))\n",
        "time_steps_USE"
      ],
      "execution_count": 20,
      "outputs": [
        {
          "output_type": "execute_result",
          "data": {
            "text/plain": [
              "138"
            ]
          },
          "metadata": {
            "tags": []
          },
          "execution_count": 20
        }
      ]
    },
    {
      "cell_type": "code",
      "metadata": {
        "id": "0zXYpbmSeQC6",
        "colab_type": "code",
        "colab": {
          "base_uri": "https://localhost:8080/",
          "height": 283
        },
        "outputId": "e07b9429-57ef-4b5b-f3dd-443e3fc36422"
      },
      "source": [
        "data['wordlen'].hist(bins=50)"
      ],
      "execution_count": 21,
      "outputs": [
        {
          "output_type": "execute_result",
          "data": {
            "text/plain": [
              "<matplotlib.axes._subplots.AxesSubplot at 0x7faa0576da20>"
            ]
          },
          "metadata": {
            "tags": []
          },
          "execution_count": 21
        },
        {
          "output_type": "display_data",
          "data": {
            "image/png": "[encoded data removed]",
            "text/plain": [
              "<Figure size 432x288 with 1 Axes>"
            ]
          },
          "metadata": {
            "tags": [],
            "needs_background": "light"
          }
        }
      ]
    },
    {
      "cell_type": "code",
      "metadata": {
        "id": "MvcvOlfjeiO5",
        "colab_type": "code",
        "colab": {
          "base_uri": "https://localhost:8080/",
          "height": 35
        },
        "outputId": "b78e883d-4e6b-4df2-a2ec-4eb6e84fb88a"
      },
      "source": [
        "# Keep a large percentage of reviews completely and chop of the remainig reviews off.\n",
        "time_steps_RNN = int(np.quantile(data['wordlen'],0.975))\n",
        "time_steps_RNN"
      ],
      "execution_count": 22,
      "outputs": [
        {
          "output_type": "execute_result",
          "data": {
            "text/plain": [
              "27"
            ]
          },
          "metadata": {
            "tags": []
          },
          "execution_count": 22
        }
      ]
    },
    {
      "cell_type": "markdown",
      "metadata": {
        "id": "NFp5JzStdgxh",
        "colab_type": "text"
      },
      "source": [
        "# Train and Validation Split"
      ]
    },
    {
      "cell_type": "code",
      "metadata": {
        "id": "xZVIYWcf4BGz",
        "colab_type": "code",
        "colab": {}
      },
      "source": [
        "# msk = np.random.rand(len(data)) < 0.1\n",
        "# train_data = data[msk]\n",
        "# val_data = data[~msk]"
      ],
      "execution_count": 23,
      "outputs": []
    },
    {
      "cell_type": "code",
      "metadata": {
        "id": "4wJPZTcfua3m",
        "colab_type": "code",
        "colab": {}
      },
      "source": [
        "# X_train = train_data['text'].tolist()\n",
        "# y_train = train_data['sentiment']\n",
        "# X_val = val_data['text']\n",
        "# y_val = val_data['sentiment']"
      ],
      "execution_count": 24,
      "outputs": []
    },
    {
      "cell_type": "code",
      "metadata": {
        "tags": [],
        "id": "NDdeInsZ4BHD",
        "colab_type": "code",
        "colab": {}
      },
      "source": [
        "# print(len(X_train), len(y_train))\n",
        "# print(len(X_val), len(y_val))"
      ],
      "execution_count": 25,
      "outputs": []
    },
    {
      "cell_type": "code",
      "metadata": {
        "id": "KZ0m23g59JJ3",
        "colab_type": "code",
        "colab": {
          "base_uri": "https://localhost:8080/",
          "height": 54
        },
        "outputId": "86e43151-2cea-40fc-b8e7-c96edc688c2c"
      },
      "source": [
        "X_train, X_val, y_train, y_val = train_test_split(\n",
        "    data['text'].values.astype('U'),\n",
        "    data['sentiment'].values.astype('int32'),\n",
        "    test_size=0.5,\n",
        "    random_state=42\n",
        ")\n",
        "\n",
        "print(f\"Number of samples: X_train: {len(X_train)}, y_train: {len(y_train)}\")\n",
        "print(f\"Number of samples: X_test: {len(X_val)}, y_test: {len(y_val)}\")"
      ],
      "execution_count": 26,
      "outputs": [
        {
          "output_type": "stream",
          "text": [
            "Number of samples: X_train: 800000, y_train: 800000\n",
            "Number of samples: X_test: 800000, y_test: 800000\n"
          ],
          "name": "stdout"
        }
      ]
    },
    {
      "cell_type": "code",
      "metadata": {
        "id": "NQb5f0lhh3wC",
        "colab_type": "code",
        "colab": {
          "base_uri": "https://localhost:8080/",
          "height": 54
        },
        "outputId": "5c8cd29a-7a9e-4f6b-b328-e0b619f70d1b"
      },
      "source": [
        "# Checking split --> both test and train contain roughly the same % of observation from each class\n",
        "print(sum(y_train == 0)/len(y_train), sum(y_val == 0)/len(y_val))\n",
        "print(sum(y_train == 1)/len(y_train), sum(y_val == 1)/len(y_val))"
      ],
      "execution_count": 27,
      "outputs": [
        {
          "output_type": "stream",
          "text": [
            "0.50026125 0.49973875\n",
            "0.49973875 0.50026125\n"
          ],
          "name": "stdout"
        }
      ]
    },
    {
      "cell_type": "markdown",
      "metadata": {
        "id": "DYX76NeGsZXS",
        "colab_type": "text"
      },
      "source": [
        "# Vocabulary"
      ]
    },
    {
      "cell_type": "code",
      "metadata": {
        "id": "8PCaQdZmz9HG",
        "colab_type": "code",
        "colab": {
          "base_uri": "https://localhost:8080/",
          "height": 72
        },
        "outputId": "d440e5db-d295-46af-f80e-d9608cd32b13"
      },
      "source": [
        "import nltk\n",
        "from nltk.tokenize import word_tokenize \n",
        "nltk.download('punkt')"
      ],
      "execution_count": 28,
      "outputs": [
        {
          "output_type": "stream",
          "text": [
            "[nltk_data] Downloading package punkt to /root/nltk_data...\n",
            "[nltk_data]   Package punkt is already up-to-date!\n"
          ],
          "name": "stdout"
        },
        {
          "output_type": "execute_result",
          "data": {
            "text/plain": [
              "True"
            ]
          },
          "metadata": {
            "tags": []
          },
          "execution_count": 28
        }
      ]
    },
    {
      "cell_type": "code",
      "metadata": {
        "id": "0IEJpSrVsnCy",
        "colab_type": "code",
        "colab": {
          "base_uri": "https://localhost:8080/",
          "height": 90
        },
        "outputId": "26e2d667-ff3c-45bd-fcb4-a9460213ae83"
      },
      "source": [
        "X_train[0:3]"
      ],
      "execution_count": 29,
      "outputs": [
        {
          "output_type": "execute_result",
          "data": {
            "text/plain": [
              "array(['I have been pushing it way too hard.  Feeling like junk and just needs a cuddle buddy ',\n",
              "       '@pickerbrad Thank you ',\n",
              "       '@Omargunz yeah im up right now @ work.... and im still sleepy... '],\n",
              "      dtype='<U374')"
            ]
          },
          "metadata": {
            "tags": []
          },
          "execution_count": 29
        }
      ]
    },
    {
      "cell_type": "code",
      "metadata": {
        "id": "XA-VUCjk4utc",
        "colab_type": "code",
        "colab": {
          "base_uri": "https://localhost:8080/",
          "height": 35
        },
        "outputId": "20b55717-a764-48dd-9ac6-11926567d0af"
      },
      "source": [
        "start = time()\n",
        "X_train_list = list(map(word_tokenize, X_train)) \n",
        "end = time()\n",
        "print(f\"Time taken: {end-start}s\")"
      ],
      "execution_count": 30,
      "outputs": [
        {
          "output_type": "stream",
          "text": [
            "Time taken: 136.0078113079071s\n"
          ],
          "name": "stdout"
        }
      ]
    },
    {
      "cell_type": "code",
      "metadata": {
        "id": "bVbJ2bDy77WI",
        "colab_type": "code",
        "colab": {}
      },
      "source": [
        "corpus = [word for line in X_train_list for word in line]"
      ],
      "execution_count": 31,
      "outputs": []
    },
    {
      "cell_type": "code",
      "metadata": {
        "id": "0lzesxQTsYcM",
        "colab_type": "code",
        "colab": {}
      },
      "source": [
        "# corpus = []\n",
        "# num_obs = len(X_train)\n",
        "# interval = 100  # Print 'interval' times\n",
        "# count = 0\n",
        "# start = time()\n",
        "# for i, row in enumerate(X_train):\n",
        "#   if i%int(num_obs/interval) == 0:\n",
        "#     now = datetime.now()\n",
        "#     current_time = now.strftime(\"%H:%M:%S\")\n",
        "#     print(f\"Row: {i+1} --> Percentage Complete: {count/interval*100}%, Current Time: {current_time}\")\n",
        "#     count = count + 1\n",
        "#   corpus = corpus + word_tokenize(row)\n",
        "# end = time()\n",
        "# print(f\"Time taken: {end-start}s\")"
      ],
      "execution_count": 32,
      "outputs": []
    },
    {
      "cell_type": "code",
      "metadata": {
        "id": "CqqN6FTc02jw",
        "colab_type": "code",
        "colab": {
          "base_uri": "https://localhost:8080/",
          "height": 55
        },
        "outputId": "399f1859-d2b9-4e19-d570-5307ab39ece9"
      },
      "source": [
        "print(corpus[:30])"
      ],
      "execution_count": 33,
      "outputs": [
        {
          "output_type": "stream",
          "text": [
            "['I', 'have', 'been', 'pushing', 'it', 'way', 'too', 'hard', '.', 'Feeling', 'like', 'junk', 'and', 'just', 'needs', 'a', 'cuddle', 'buddy', '@', 'pickerbrad', 'Thank', 'you', '@', 'Omargunz', 'yeah', 'im', 'up', 'right', 'now', '@']\n"
          ],
          "name": "stdout"
        }
      ]
    },
    {
      "cell_type": "code",
      "metadata": {
        "id": "fTVZ4QzSs56g",
        "colab_type": "code",
        "colab": {
          "base_uri": "https://localhost:8080/",
          "height": 74
        },
        "outputId": "0968427e-cfb2-4bcc-9236-35c09f4f43d8"
      },
      "source": [
        "# Get only words that have occured more than once to remove noise, spelling mistakes and possible tokenization errors.\n",
        "fdist = nltk.FreqDist(corpus)\n",
        "print(fdist.most_common()[:20])\n",
        "vocab = [word for word, count in fdist.most_common() if count >= 1]\n",
        "print(vocab[:20])"
      ],
      "execution_count": 34,
      "outputs": [
        {
          "output_type": "stream",
          "text": [
            "[('!', 459232), ('.', 413727), ('@', 399432), ('I', 325386), ('to', 278889), ('the', 244708), (',', 242033), ('a', 183401), ('i', 147680), ('...', 145305), ('my', 141447), ('and', 140097), ('you', 133915), ('it', 129339), ('?', 123296), ('is', 115048), ('for', 106222), ('in', 103082), ('of', 90320), (\"'s\", 89479)]\n",
            "['!', '.', '@', 'I', 'to', 'the', ',', 'a', 'i', '...', 'my', 'and', 'you', 'it', '?', 'is', 'for', 'in', 'of', \"'s\"]\n"
          ],
          "name": "stdout"
        }
      ]
    },
    {
      "cell_type": "code",
      "metadata": {
        "id": "k8QQfsuytCJK",
        "colab_type": "code",
        "colab": {
          "base_uri": "https://localhost:8080/",
          "height": 35
        },
        "outputId": "87dd02aa-f79b-48f9-a960-8637623093cd"
      },
      "source": [
        "len(vocab)"
      ],
      "execution_count": 35,
      "outputs": [
        {
          "output_type": "execute_result",
          "data": {
            "text/plain": [
              "565345"
            ]
          },
          "metadata": {
            "tags": []
          },
          "execution_count": 35
        }
      ]
    },
    {
      "cell_type": "markdown",
      "metadata": {
        "id": "yPA_mT8mttNq",
        "colab_type": "text"
      },
      "source": [
        "# Encoding and Decoding Dictionary"
      ]
    },
    {
      "cell_type": "code",
      "metadata": {
        "id": "GvV7gZrvtrIZ",
        "colab_type": "code",
        "colab": {}
      },
      "source": [
        "word_index = {}\n",
        "word_index[\"<PAD>\"] = 0\n",
        "word_index[\"<START>\"] = 1\n",
        "word_index[\"<UNK>\"] = 2\n",
        "for index, word in enumerate(vocab):\n",
        "  word_index[word] = index+3"
      ],
      "execution_count": 36,
      "outputs": []
    },
    {
      "cell_type": "code",
      "metadata": {
        "id": "VN5-g8mXtwQl",
        "colab_type": "code",
        "colab": {
          "base_uri": "https://localhost:8080/",
          "height": 201
        },
        "outputId": "f6d6f27c-0d9b-495b-c779-a6483ce945ea"
      },
      "source": [
        "reverse_word_index = dict([(value, key) for (key, value) in word_index.items()])\n",
        "[(i, reverse_word_index.get(i)) for i in np.arange(10)]"
      ],
      "execution_count": 37,
      "outputs": [
        {
          "output_type": "execute_result",
          "data": {
            "text/plain": [
              "[(0, '<PAD>'),\n",
              " (1, '<START>'),\n",
              " (2, '<UNK>'),\n",
              " (3, '!'),\n",
              " (4, '.'),\n",
              " (5, '@'),\n",
              " (6, 'I'),\n",
              " (7, 'to'),\n",
              " (8, 'the'),\n",
              " (9, ',')]"
            ]
          },
          "metadata": {
            "tags": []
          },
          "execution_count": 37
        }
      ]
    },
    {
      "cell_type": "code",
      "metadata": {
        "id": "hFPR5YVbtz2C",
        "colab_type": "code",
        "colab": {
          "base_uri": "https://localhost:8080/",
          "height": 35
        },
        "outputId": "67220230-1b2d-465f-a5d2-68d19b4709c8"
      },
      "source": [
        "vocabulary_size = len(word_index.keys())\n",
        "vocabulary_size"
      ],
      "execution_count": 38,
      "outputs": [
        {
          "output_type": "execute_result",
          "data": {
            "text/plain": [
              "565348"
            ]
          },
          "metadata": {
            "tags": []
          },
          "execution_count": 38
        }
      ]
    },
    {
      "cell_type": "code",
      "metadata": {
        "id": "A3YPd6Rxt22x",
        "colab_type": "code",
        "colab": {}
      },
      "source": [
        "def encode_data(plain_text: str) -> List[int]:\n",
        "  return [word_index[token] if token in word_index.keys() else word_index[\"<UNK>\"] for token in word_tokenize(plain_text)]\n",
        "\n",
        "def decode_data(encoded_text):\n",
        "  return ' '.join([reverse_word_index.get(i, '?') for i in encoded_text])"
      ],
      "execution_count": 39,
      "outputs": []
    },
    {
      "cell_type": "code",
      "metadata": {
        "id": "jNkQ6WsFt58D",
        "colab_type": "code",
        "colab": {}
      },
      "source": [
        "def encode_decode_check(original_data):\n",
        "  print(\"\\n\")\n",
        "  print(f\"Original Data: {original_data}\")\n",
        "  encoded_data = encode_data(original_data)\n",
        "  print(f\"Encoded Data: {encoded_data}\")\n",
        "  decoded_data = decode_data(encoded_data)\n",
        "  print(f\"Decoded Data: {decoded_data}\")\n",
        "  same = decoded_data == str(original_data)\n",
        "  # print(f\"Decoded = Original: {same}\")"
      ],
      "execution_count": 40,
      "outputs": []
    },
    {
      "cell_type": "code",
      "metadata": {
        "id": "D6tYmjB4vQda",
        "colab_type": "code",
        "colab": {
          "base_uri": "https://localhost:8080/",
          "height": 476
        },
        "outputId": "e74f0882-1ae0-4051-8b7a-1ae71a0f7adf"
      },
      "source": [
        "random_train = X_train[np.random.choice(len(X_train), 5)]\n",
        "random_train\n",
        "\n",
        "for single_data in random_train:\n",
        "  encode_decode_check(single_data)"
      ],
      "execution_count": 41,
      "outputs": [
        {
          "output_type": "stream",
          "text": [
            "\n",
            "\n",
            "Original Data: @TaraLynnFoxx  You are AWESOOOOOME!!! Good luck in the suckoff!! I wish i was there..... \n",
            "Encoded Data: [5, 65509, 130, 45, 467101, 3, 3, 3, 183, 359, 20, 8, 467102, 3, 3, 6, 147, 11, 37, 86, 12, 190]\n",
            "Decoded Data: @ TaraLynnFoxx You are AWESOOOOOME ! ! ! Good luck in the suckoff ! ! I wish i was there ... ..\n",
            "\n",
            "\n",
            "Original Data: @ashleytisdale heey! you did an awesome job in 'picture this' loved the moviee! \n",
            "Encoded Data: [5, 3546, 7888, 3, 15, 84, 106, 206, 345, 20, 247077, 42, 146, 672, 8, 17327, 3]\n",
            "Decoded Data: @ ashleytisdale heey ! you did an awesome job in 'picture this ' loved the moviee !\n",
            "\n",
            "\n",
            "Original Data: @Karrrin this is so weird but...UBER TWITTER is ah-mazinggg! but sum avatars won't appear  patut dirayakan! ayo kita tumpengan\n",
            "Encoded Data: [5, 45241, 42, 18, 31, 749, 34, 12, 36485, 2952, 18, 181100, 3, 34, 1754, 13727, 278, 23, 3809, 181101, 181102, 3, 40151, 12311, 181103]\n",
            "Decoded Data: @ Karrrin this is so weird but ... UBER TWITTER is ah-mazinggg ! but sum avatars wo n't appear patut dirayakan ! ayo kita tumpengan\n",
            "\n",
            "\n",
            "Original Data: @trippylobsta Ah it wasn't too bad a run, good weather for it! Sky 1, the home of all good television  #Fringe #Lost\n",
            "Encoded Data: [5, 316411, 956, 16, 37, 23, 59, 139, 10, 523, 9, 51, 305, 19, 16, 3, 4474, 272, 9, 8, 96, 21, 49, 51, 6391, 77, 15197, 77, 1638]\n",
            "Decoded Data: @ trippylobsta Ah it was n't too bad a run , good weather for it ! Sky 1 , the home of all good television # Fringe # Lost\n",
            "\n",
            "\n",
            "Original Data: @DanggItsDevin hahar, iknow. ihts weird youu guys have xmas in the winter &amp;&amp; have snow sometimes ,buht thats even cooler \n",
            "Encoded Data: [5, 49910, 72545, 9, 26660, 4, 86159, 749, 2453, 229, 29, 11236, 20, 8, 2079, 28, 67, 24, 28, 67, 24, 29, 2576, 789, 9, 86158, 360, 177, 3720]\n",
            "Decoded Data: @ DanggItsDevin hahar , iknow . ihts weird youu guys have xmas in the winter & amp ; & amp ; have snow sometimes , buht thats even cooler\n"
          ],
          "name": "stdout"
        }
      ]
    },
    {
      "cell_type": "code",
      "metadata": {
        "id": "y6W0AeTYvaiB",
        "colab_type": "code",
        "colab": {
          "base_uri": "https://localhost:8080/",
          "height": 476
        },
        "outputId": "360a407f-4417-40ec-db31-c5eb9ec5060f"
      },
      "source": [
        "random_val = X_val[np.random.choice(len(X_val), 5)]\n",
        "random_val\n",
        "\n",
        "for single_data in random_val:\n",
        "  encode_decode_check(single_data)"
      ],
      "execution_count": 42,
      "outputs": [
        {
          "output_type": "stream",
          "text": [
            "\n",
            "\n",
            "Original Data: @tommcfly oh no, you are no longer here in sao paulo  come back next year or before please! -sorry, i don't speak english very well! xx\n",
            "Encoded Data: [5, 637, 160, 60, 9, 15, 45, 60, 830, 105, 20, 13040, 17597, 154, 65, 185, 274, 122, 241, 262, 3, 351065, 9, 11, 36, 23, 1439, 1111, 149, 108, 3, 485]\n",
            "Decoded Data: @ tommcfly oh no , you are no longer here in sao paulo come back next year or before please ! -sorry , i do n't speak english very well ! xx\n",
            "\n",
            "\n",
            "Original Data: @conradjohnson81 &quot;Hanging with our boy @jonnydiaz in Nashville.&quot;  and you have not  called us yet dude?   haha\n",
            "Encoded Data: [5, 2, 28, 52, 24, 2770, 33, 222, 609, 5, 2, 20, 2, 28, 52, 24, 14, 15, 29, 40, 604, 242, 240, 695, 17, 145]\n",
            "Decoded Data: @ <UNK> & quot ; Hanging with our boy @ <UNK> in <UNK> & quot ; and you have not called us yet dude ? haha\n",
            "\n",
            "\n",
            "Original Data: Great lunchtime ride. Track was quiet(ish), sun was out, blue sky \n",
            "Encoded Data: [605, 6125, 786, 4, 16495, 37, 1385, 82, 3175, 70, 9, 323, 37, 44, 9, 1230, 1757]\n",
            "Decoded Data: Great lunchtime ride . Track was quiet ( ish ) , sun was out , blue sky\n",
            "\n",
            "\n",
            "Original Data: @VAStateParks Thank you so much for the information! I'm definitely going to have to put Pocahontas SP on the &quot;to see&quot; list next time.  \n",
            "Encoded Data: [5, 122513, 364, 15, 31, 104, 19, 8, 3647, 3, 6, 30, 725, 62, 7, 29, 7, 358, 54230, 11038, 25, 8, 28, 52, 24, 7, 80, 28, 52, 24, 773, 185, 64, 4]\n",
            "Decoded Data: @ VAStateParks Thank you so much for the information ! I 'm definitely going to have to put Pocahontas SP on the & quot ; to see & quot ; list next time .\n",
            "\n",
            "\n",
            "Original Data: I don't feel well \n",
            "Encoded Data: [6, 36, 23, 123, 108]\n",
            "Decoded Data: I do n't feel well\n"
          ],
          "name": "stdout"
        }
      ]
    },
    {
      "cell_type": "code",
      "metadata": {
        "id": "fj7VKUT_vknO",
        "colab_type": "code",
        "colab": {
          "base_uri": "https://localhost:8080/",
          "height": 35
        },
        "outputId": "3be0044a-84d8-49ff-a0b3-21483b36bcb7"
      },
      "source": [
        "start = time()\n",
        "X_train_encoded = [encode_data(line) for line in X_train]\n",
        "end = time()\n",
        "print(f\"Time taken: {end-start}s\")"
      ],
      "execution_count": 43,
      "outputs": [
        {
          "output_type": "stream",
          "text": [
            "Time taken: 141.52676391601562s\n"
          ],
          "name": "stdout"
        }
      ]
    },
    {
      "cell_type": "code",
      "metadata": {
        "id": "QBn9SkfeD4ED",
        "colab_type": "code",
        "colab": {
          "base_uri": "https://localhost:8080/",
          "height": 35
        },
        "outputId": "0eedf90b-019d-4086-fa29-3e4b98e5ac48"
      },
      "source": [
        "start = time()\n",
        "X_val_encoded = [encode_data(line) for line in X_val]\n",
        "end = time()\n",
        "print(f\"Time taken: {end-start}s\")"
      ],
      "execution_count": 44,
      "outputs": [
        {
          "output_type": "stream",
          "text": [
            "Time taken: 140.84843134880066s\n"
          ],
          "name": "stdout"
        }
      ]
    },
    {
      "cell_type": "code",
      "metadata": {
        "id": "6G8Pjc7Rvm5u",
        "colab_type": "code",
        "colab": {}
      },
      "source": [
        "from tensorflow.keras.preprocessing import sequence\n",
        "\n",
        "X_train_encoded = sequence.pad_sequences(X_train_encoded, maxlen=time_steps_RNN)\n",
        "X_val_encoded = sequence.pad_sequences(X_val_encoded, maxlen=time_steps_RNN)"
      ],
      "execution_count": 45,
      "outputs": []
    },
    {
      "cell_type": "code",
      "metadata": {
        "id": "ajyIiMl_vsPl",
        "colab_type": "code",
        "colab": {
          "base_uri": "https://localhost:8080/",
          "height": 384
        },
        "outputId": "298832b2-1e80-427f-f911-4a5e44669471"
      },
      "source": [
        "X_train_encoded[0:5]"
      ],
      "execution_count": 46,
      "outputs": [
        {
          "output_type": "execute_result",
          "data": {
            "text/plain": [
              "array([[     0,      0,      0,      0,      0,      0,      0,      0,\n",
              "             0,      6,     29,    115,   4947,     16,    150,     59,\n",
              "           322,      4,    967,     48,   3736,     14,     39,    563,\n",
              "            10,   2573,   1532],\n",
              "       [     0,      0,      0,      0,      0,      0,      0,      0,\n",
              "             0,      0,      0,      0,      0,      0,      0,      0,\n",
              "             0,      0,      0,      0,      0,      0,      0,      5,\n",
              "        165944,    364,     15],\n",
              "       [     0,      0,      0,      0,      0,      0,      0,      0,\n",
              "             0,      0,      0,      5,  59592,    209,     91,     41,\n",
              "           134,     43,      5,     57,     12,      4,     14,     91,\n",
              "            97,    868,     12],\n",
              "       [     0,      0,      0,      0,      0,      0,      0,      0,\n",
              "             0,      0,      0,      0,      0,      0,      0,      0,\n",
              "             0,      0,      0,    681,   2651,   3149,    287,     12,\n",
              "            27,     22,    133],\n",
              "       [     0,      0,      0,      0,      0,      0,      0,      0,\n",
              "             0,      0,      0,      0,      0,      0,      0,      0,\n",
              "             0,      0,      0,      0,      0,      5,  43929,    109,\n",
              "           149,   3713,     15]], dtype=int32)"
            ]
          },
          "metadata": {
            "tags": []
          },
          "execution_count": 46
        }
      ]
    },
    {
      "cell_type": "code",
      "metadata": {
        "id": "ofuSFfgyvsNv",
        "colab_type": "code",
        "colab": {
          "base_uri": "https://localhost:8080/",
          "height": 384
        },
        "outputId": "bfe113ea-ec96-4f17-82ee-3ba1371764e9"
      },
      "source": [
        "X_val_encoded[0:5]"
      ],
      "execution_count": 47,
      "outputs": [
        {
          "output_type": "execute_result",
          "data": {
            "text/plain": [
              "array([[     0,      0,      0,      0,      0,      0,      0,      0,\n",
              "             0,      0,  10639,      2,     32,   1177,      9,    109,\n",
              "           339,      2,     36,     68,     29,     20,    105,     17,\n",
              "            50,     32,      2],\n",
              "       [     0,      0,      0, 337901,   6456,     19,  48253,    628,\n",
              "             2,    297,     42,  10277,      4,    630,     35,  51721,\n",
              "            71,     76,      7,    904,     20,     71,    106,    393,\n",
              "             4,    457,      3],\n",
              "       [     0,      0,      0,      0,      0,      0,      0,      0,\n",
              "             0,     11,     63,     13,     98,    442,     12,     39,\n",
              "           110, 106887,     12,     28,     52,     24,      2,     25,\n",
              "             8,   4700,      3],\n",
              "       [     0,      0,      0,      0,      0,      0,      0,      0,\n",
              "          3020,     18,   1269,    151,   2617,    113,    212,     47,\n",
              "            38,     57,     19,     26,    112,      6,     94,     23,\n",
              "           159,      3,      3],\n",
              "       [   262,    268,    394,   3270,  27041,      9,     14,   5068,\n",
              "             2,      9,     15,     74,      3,     31,     74,     15,\n",
              "            17,    100,     13,    737,     34,     91,     40,   2267,\n",
              "            31,     11,    199]], dtype=int32)"
            ]
          },
          "metadata": {
            "tags": []
          },
          "execution_count": 47
        }
      ]
    },
    {
      "cell_type": "markdown",
      "metadata": {
        "id": "GMc74z4sgovy",
        "colab_type": "text"
      },
      "source": [
        "# Training"
      ]
    },
    {
      "cell_type": "code",
      "metadata": {
        "id": "Q7mvtO5fGdAe",
        "colab_type": "code",
        "colab": {}
      },
      "source": [
        "import tensorflow as tf\n",
        "from tensorflow.keras import Sequential\n",
        "from tensorflow.keras.layers import Embedding, Dense, Dropout\n",
        "from tensorflow.keras.layers import SimpleRNN as RNN\n",
        "from tensorflow.keras.layers import LSTM as LSTM\n",
        "from tensorflow.keras.layers import GRU as GRU"
      ],
      "execution_count": 48,
      "outputs": []
    },
    {
      "cell_type": "code",
      "metadata": {
        "id": "wwA-Ja-Wgpqn",
        "colab_type": "code",
        "colab": {}
      },
      "source": [
        "def plot_metrics(history: tf.python.keras.callbacks.History, metrics: List[str] = ['loss'], figsize: Tuple[int, int] = (10,4), title: str = \"Train/Test Curves\", titlefontsize:int = 14):\n",
        "  \"\"\"\n",
        "  This functin will plot the metrics for the model\n",
        "  :param history: The history object obtained from the fit function.\n",
        "  :type history: tf.python.keras.callbacks.History\n",
        "  :param metrics: What metrics to plot for the model (Default = ['loss'])\n",
        "  :type metrics: List[str]\n",
        "  :param figsize: Figure size to be used for plotting (Default = (10,4))\n",
        "  :type figsize: Tuple(int,int)\n",
        "  \"\"\"\n",
        "  num_plots = len(metrics)\n",
        "  fig, axes = plt.subplots(int(num_plots/2), 2, figsize=figsize)\n",
        "\n",
        "  for num, metric in enumerate(metrics):\n",
        "    # summarize history for metric\n",
        "    if num <= 2:\n",
        "      axes[num%2].plot(history.history[metric])\n",
        "      axes[num%2].plot(history.history['val_' + metric])\n",
        "      axes[num%2].set_title('Model ' + metric)\n",
        "      axes[num%2].set(xlabel='Epoch', ylabel=metric)\n",
        "      axes[num%2].legend(['train', 'val'], loc='best')    \n",
        "    else:\n",
        "      axes[floor(num/2), num%2].plot(history.history[metric])\n",
        "      axes[floor(num/2), num%2].plot(history.history['val_' + metric])\n",
        "      axes[floor(num/2), num%2].set_title('Model ' + metric)\n",
        "      axes[floor(num/2), num%2].set(xlabel='Epoch', ylabel=metric)\n",
        "      axes[floor(num/2), num%2].legend(['train', 'val'], loc='best')\n",
        "\n",
        "  plt.suptitle(title, fontsize=titlefontsize, y=1.02)    \n",
        "  plt.tight_layout()\n",
        "  _ = plt.show"
      ],
      "execution_count": 49,
      "outputs": []
    },
    {
      "cell_type": "code",
      "metadata": {
        "id": "tl-DCfX3GPCr",
        "colab_type": "code",
        "colab": {}
      },
      "source": [
        "def create_model(\n",
        "    vocabulary_size: int,\n",
        "    time_steps: int,\n",
        "    embedding_size: int,\n",
        "    num_classes: int,\n",
        "    type: str = 'lstm',\n",
        "    num_neuron: int=100,\n",
        "    dropout: float=0,\n",
        "    recurrent_dropout: float=0\n",
        "    ) -> tf.keras.layers.Layer:\n",
        "  \"\"\"\n",
        "  Creates a Sequence Model with the passed parameters\n",
        "  :param vocabulary_size Size of the Vocabulary\n",
        "  :type vocabulary_size int\n",
        "  :param time_steps Number of steps in the sequence (e.g. length of sentence)\n",
        "  :type time_steps int\n",
        "  :param embedding_size Size of the Embedding \n",
        "  :type embedding_size int\n",
        "  :param num_classes Number of Classes to predict (2 for binary, 3 for ternary, etc.)\n",
        "  :type num_classes int\n",
        "  :param type Type of sequence model (Options: 'simple_rnn', 'lstm' or 'gru' (Default: 'lstm')\n",
        "  :type type str\n",
        "  :param num_neuron Number of neurons to be passed to the \"cell\"\n",
        "  :type num_neuron int\n",
        "  :param dropout Amount of dropout to use between the memory layer and the fully connected layer\n",
        "  :type dropout float\n",
        "  :param recurrent_dropout Amount of recurrent dropout to use\n",
        "  :type recurrent_dropout float\n",
        "  :rtype tf.keras.layers.Layer\n",
        "  \"\"\"\n",
        "  model = Sequential()\n",
        "  model.add(Embedding(vocabulary_size, embedding_size, input_length=time_steps))\n",
        "  if type.lower() == 'simple_rnn':\n",
        "    model.add(RNN(num_neuron, recurrent_dropout=recurrent_dropout))\n",
        "  elif type.lower() == 'lstm':\n",
        "    model.add(LSTM(num_neuron, recurrent_dropout=recurrent_dropout))\n",
        "  elif type.lower() == 'gru':\n",
        "    model.add(GRU(num_neuron, recurrent_dropout=recurrent_dropout))\n",
        "  else:\n",
        "    sys.exit(\"You have not passed the right argument for type.\")\n",
        "  model.add(Dropout(dropout))\n",
        "  model.add(Dense(num_classes, activation='softmax'))\n",
        "  model.compile(loss='sparse_categorical_crossentropy', optimizer='adam', metrics=['accuracy'])\n",
        "  return model\n",
        "\n",
        "def create_simple_rnn_model(vocabulary_size: int, time_steps: int, embedding_size: int, num_classes: int, num_neuron: int=100, dropout: float=0, recurrent_dropout: float=0) -> tf.keras.layers.Layer:\n",
        "  \"\"\"\n",
        "  Creates a Simple RNN Model with the passed parameters\n",
        "  :param vocabulary_size Size of the Vocabulary\n",
        "  :type vocabulary_size int\n",
        "  :param time_steps Number of steps in the sequence (e.g. length of sentence)\n",
        "  :type time_steps int\n",
        "  :param embedding_size Size of the Embedding \n",
        "  :type embedding_size int\n",
        "  :param num_classes Number of Classes to predict (2 for binary, 3 for ternary, etc.)\n",
        "  :type num_classes int\n",
        "  :param num_neuron Number of neurons to be passed to the \"cell\"\n",
        "  :type num_neuron int\n",
        "  :param dropout Amount of dropout to use between the memory layer and the fully connected layer\n",
        "  :type dropout float\n",
        "  :param recurrent_dropout Amount of recurrent dropout to use\n",
        "  :type recurrent_dropout float\n",
        "  :rtype tf.keras.layers.Layer\n",
        "  \"\"\"\n",
        "  model = create_model(vocabulary_size, time_steps, embedding_size, num_classes, 'simple_rnn', num_neuron, dropout, recurrent_dropout)\n",
        "  return model\n",
        "\n",
        "def create_lstm_model(vocabulary_size: int, time_steps: int, embedding_size: int, num_classes: int, num_neuron: int=100, dropout: float=0, recurrent_dropout: float=0) -> tf.keras.layers.Layer:\n",
        "  \"\"\"\n",
        "  Creates a LSTM Model with the passed parameters\n",
        "  :param vocabulary_size Size of the Vocabulary\n",
        "  :type vocabulary_size int\n",
        "  :param time_steps Number of steps in the sequence (e.g. length of sentence)\n",
        "  :type time_steps int\n",
        "  :param embedding_size Size of the Embedding \n",
        "  :type embedding_size int\n",
        "  :param num_classes Number of Classes to predict (2 for binary, 3 for ternary, etc.)\n",
        "  :type num_classes int\n",
        "  :param num_neuron Number of neurons to be passed to the \"cell\"\n",
        "  :type num_neuron int\n",
        "  :param dropout Amount of dropout to use between the memory layer and the fully connected layer\n",
        "  :type dropout float\n",
        "  :param recurrent_dropout Amount of recurrent dropout to use\n",
        "  :type recurrent_dropout float\n",
        "  :rtype tf.keras.layers.Layer\n",
        "  \"\"\"\n",
        "  model = create_model(vocabulary_size, time_steps, embedding_size, num_classes, 'lstm', num_neuron, dropout, recurrent_dropout)\n",
        "  return model\n",
        "\n",
        "def create_gru_model(vocabulary_size: int, time_steps: int, embedding_size: int, num_classes: int, num_neuron: int=100, dropout: float=0, recurrent_dropout: float=0) -> tf.keras.layers.Layer:\n",
        "  \"\"\"\n",
        "  Creates a GRU Model with the passed parameters\n",
        "  :param vocabulary_size Size of the Vocabulary\n",
        "  :type vocabulary_size int\n",
        "  :param time_steps Number of steps in the sequence (e.g. length of sentence)\n",
        "  :type time_steps int\n",
        "  :param embedding_size Size of the Embedding \n",
        "  :type embedding_size int\n",
        "  :param num_classes Number of Classes to predict (2 for binary, 3 for ternary, etc.)\n",
        "  :type num_classes int\n",
        "  :param num_neuron Number of neurons to be passed to the \"cell\"\n",
        "  :type num_neuron int\n",
        "  :param dropout Amount of dropout to use between the memory layer and the fully connected layer\n",
        "  :type dropout float\n",
        "  :param recurrent_dropout Amount of recurrent dropout to use\n",
        "  :type recurrent_dropout float\n",
        "  :rtype tf.keras.layers.Layer\n",
        "  \"\"\"\n",
        "  model = create_model(vocabulary_size, time_steps, embedding_size, num_classes, 'gru', num_neuron, dropout, recurrent_dropout)\n",
        "  return model"
      ],
      "execution_count": 50,
      "outputs": []
    },
    {
      "cell_type": "code",
      "metadata": {
        "id": "sfKOGB31f-uK",
        "colab_type": "code",
        "colab": {
          "base_uri": "https://localhost:8080/",
          "height": 35
        },
        "outputId": "3176de73-3b89-476a-cc97-038ad251f5d1"
      },
      "source": [
        "num_classes = len(set(y_train))\n",
        "num_classes"
      ],
      "execution_count": 51,
      "outputs": [
        {
          "output_type": "execute_result",
          "data": {
            "text/plain": [
              "2"
            ]
          },
          "metadata": {
            "tags": []
          },
          "execution_count": 51
        }
      ]
    },
    {
      "cell_type": "code",
      "metadata": {
        "id": "uh_l4oMQGoux",
        "colab_type": "code",
        "colab": {}
      },
      "source": [
        "from tensorflow.keras.callbacks import EarlyStopping\n",
        "# If validation error does not improve for 'patience' epochs, then terminate the training\n",
        "es = EarlyStopping(min_delta=0,patience=3)"
      ],
      "execution_count": 52,
      "outputs": []
    },
    {
      "cell_type": "code",
      "metadata": {
        "id": "SYabenQ_GmXS",
        "colab_type": "code",
        "colab": {}
      },
      "source": [
        "# import other libs as needed for building model\n",
        "from tensorflow.keras.callbacks import ModelCheckpoint\n",
        "\n",
        "# add a checkpoint to save the lowest validation loss\n",
        "filepath = '.'\n",
        "checkpoint = ModelCheckpoint(filepath, monitor='val_loss', verbose=1, \n",
        "                             save_best_only=True, save_weights_only=False, \n",
        "                             mode='auto', save_frequency=1)"
      ],
      "execution_count": 53,
      "outputs": []
    },
    {
      "cell_type": "code",
      "metadata": {
        "id": "8F1mOEKhGTeq",
        "colab_type": "code",
        "colab": {
          "base_uri": "https://localhost:8080/",
          "height": 1000
        },
        "outputId": "ff8fb853-8752-420d-b1b9-b20cce75dda3"
      },
      "source": [
        "vocabulary_size = vocabulary_size\n",
        "embedding_size = 100\n",
        "time_steps = time_steps_RNN\n",
        "num_neuron = 100\n",
        "dropout = 0.3\n",
        "recurrent_dropout = 0.3\n",
        "EPOCHS = 10\n",
        "BATCH_SIZE = 1024\n",
        "\n",
        "# Build Model and Train\n",
        "model = create_lstm_model(\n",
        "    vocabulary_size=vocabulary_size,\n",
        "    embedding_size=embedding_size,\n",
        "    time_steps=time_steps,\n",
        "    num_classes=num_classes,\n",
        "    num_neuron=num_neuron,\n",
        "    dropout=dropout,\n",
        "    recurrent_dropout=recurrent_dropout\n",
        "  )\n",
        "print(model.summary())\n",
        "\n",
        "history = model.fit(\n",
        "    X_train_encoded, y_train,\n",
        "    validation_data=(X_val_encoded, y_val),\n",
        "    epochs=EPOCHS,\n",
        "    batch_size=BATCH_SIZE,\n",
        "    callbacks=[es, checkpoint]\n",
        "  )\n",
        "\n",
        "plot_metrics(history,\n",
        "             metrics=['loss', 'accuracy'],\n",
        "             title = f\"LSTM --> Vocab: {vocabulary_size}, Steps: {time_steps}, Embedding: {embedding_size}, Neurons: {num_neuron}, Dropout: {round(dropout,2)}, Rec. Dropout: {round(recurrent_dropout,2)}\")"
      ],
      "execution_count": 54,
      "outputs": [
        {
          "output_type": "stream",
          "text": [
            "WARNING:tensorflow:Layer lstm will not use cuDNN kernel since it doesn't meet the cuDNN kernel criteria. It will use generic GPU kernel as fallback when running on GPU\n",
            "Model: \"sequential\"\n",
            "_________________________________________________________________\n",
            "Layer (type)                 Output Shape              Param #   \n",
            "=================================================================\n",
            "embedding (Embedding)        (None, 27, 100)           56534800  \n",
            "_________________________________________________________________\n",
            "lstm (LSTM)                  (None, 100)               80400     \n",
            "_________________________________________________________________\n",
            "dropout (Dropout)            (None, 100)               0         \n",
            "_________________________________________________________________\n",
            "dense (Dense)                (None, 2)                 202       \n",
            "=================================================================\n",
            "Total params: 56,615,402\n",
            "Trainable params: 56,615,402\n",
            "Non-trainable params: 0\n",
            "_________________________________________________________________\n",
            "None\n",
            "Epoch 1/10\n",
            "782/782 [==============================] - ETA: 0s - loss: 0.4451 - accuracy: 0.7909\n",
            "Epoch 00001: val_loss improved from inf to 0.40758, saving model to .\n",
            "WARNING:tensorflow:From /usr/local/lib/python3.6/dist-packages/tensorflow/python/training/tracking/tracking.py:111: Model.state_updates (from tensorflow.python.keras.engine.training) is deprecated and will be removed in a future version.\n",
            "Instructions for updating:\n",
            "This property should not be used in TensorFlow 2.0, as updates are applied automatically.\n",
            "WARNING:tensorflow:From /usr/local/lib/python3.6/dist-packages/tensorflow/python/training/tracking/tracking.py:111: Layer.updates (from tensorflow.python.keras.engine.base_layer) is deprecated and will be removed in a future version.\n",
            "Instructions for updating:\n",
            "This property should not be used in TensorFlow 2.0, as updates are applied automatically.\n",
            "INFO:tensorflow:Assets written to: ./assets\n",
            "782/782 [==============================] - 485s 621ms/step - loss: 0.4451 - accuracy: 0.7909 - val_loss: 0.4076 - val_accuracy: 0.8139\n",
            "Epoch 2/10\n",
            "782/782 [==============================] - ETA: 0s - loss: 0.3065 - accuracy: 0.8693\n",
            "Epoch 00002: val_loss did not improve from 0.40758\n",
            "782/782 [==============================] - 476s 609ms/step - loss: 0.3065 - accuracy: 0.8693 - val_loss: 0.4347 - val_accuracy: 0.8065\n",
            "Epoch 3/10\n",
            "782/782 [==============================] - ETA: 0s - loss: 0.2065 - accuracy: 0.9149\n",
            "Epoch 00003: val_loss did not improve from 0.40758\n",
            "782/782 [==============================] - 475s 607ms/step - loss: 0.2065 - accuracy: 0.9149 - val_loss: 0.4987 - val_accuracy: 0.7986\n",
            "Epoch 4/10\n",
            "782/782 [==============================] - ETA: 0s - loss: 0.1555 - accuracy: 0.9362\n",
            "Epoch 00004: val_loss did not improve from 0.40758\n",
            "782/782 [==============================] - 474s 606ms/step - loss: 0.1555 - accuracy: 0.9362 - val_loss: 0.6165 - val_accuracy: 0.7929\n"
          ],
          "name": "stdout"
        },
        {
          "output_type": "display_data",
          "data": {
            "image/png": "[encoded data removed]",
            "text/plain": [
              "<Figure size 720x288 with 2 Axes>"
            ]
          },
          "metadata": {
            "tags": [],
            "needs_background": "light"
          }
        }
      ]
    }
  ]
}