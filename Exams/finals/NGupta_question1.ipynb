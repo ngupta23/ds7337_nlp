{
 "metadata": {
  "language_info": {
   "codemirror_mode": {
    "name": "ipython",
    "version": 3
   },
   "file_extension": ".py",
   "mimetype": "text/x-python",
   "name": "python",
   "nbconvert_exporter": "python",
   "pygments_lexer": "ipython3",
   "version": 3
  },
  "orig_nbformat": 2,
  "kernelspec": {
   "name": "python_defaultSpec_1596748396326",
   "display_name": "Python 3.6.10 64-bit ('dl_nlp': conda)"
  }
 },
 "nbformat": 4,
 "nbformat_minor": 2,
 "cells": [
  {
   "cell_type": "code",
   "execution_count": 1,
   "metadata": {},
   "outputs": [],
   "source": [
    "import pandas as pd"
   ]
  },
  {
   "cell_type": "code",
   "execution_count": 2,
   "metadata": {
    "tags": []
   },
   "outputs": [
    {
     "output_type": "stream",
     "name": "stdout",
     "text": "<class 'pandas.core.frame.DataFrame'>\nRangeIndex: 13871 entries, 0 to 13870\nData columns (total 21 columns):\n #   Column                     Non-Null Count  Dtype  \n---  ------                     --------------  -----  \n 0   id                         13871 non-null  int64  \n 1   candidate                  13775 non-null  object \n 2   candidate_confidence       13871 non-null  float64\n 3   relevant_yn                13871 non-null  object \n 4   relevant_yn_confidence     13871 non-null  float64\n 5   sentiment                  13871 non-null  object \n 6   sentiment_confidence       13871 non-null  float64\n 7   subject_matter             13545 non-null  object \n 8   subject_matter_confidence  13871 non-null  float64\n 9   candidate_gold             28 non-null     object \n 10  name                       13871 non-null  object \n 11  relevant_yn_gold           32 non-null     object \n 12  retweet_count              13871 non-null  int64  \n 13  sentiment_gold             15 non-null     object \n 14  subject_matter_gold        18 non-null     object \n 15  text                       13871 non-null  object \n 16  tweet_coord                21 non-null     object \n 17  tweet_created              13871 non-null  object \n 18  tweet_id                   13871 non-null  int64  \n 19  tweet_location             9959 non-null   object \n 20  user_timezone              9468 non-null   object \ndtypes: float64(4), int64(3), object(14)\nmemory usage: 2.2+ MB\n"
    }
   ],
   "source": [
    "data = pd.read_csv(\"Sentiment.csv\")\n",
    "data.info()"
   ]
  },
  {
   "cell_type": "code",
   "execution_count": 3,
   "metadata": {
    "tags": []
   },
   "outputs": [
    {
     "output_type": "stream",
     "name": "stdout",
     "text": "<class 'pandas.core.frame.DataFrame'>\nRangeIndex: 13871 entries, 0 to 13870\nData columns (total 2 columns):\n #   Column     Non-Null Count  Dtype \n---  ------     --------------  ----- \n 0   text       13871 non-null  object\n 1   sentiment  13871 non-null  object\ndtypes: object(2)\nmemory usage: 216.9+ KB\n"
    }
   ],
   "source": [
    "data = data[['text', 'sentiment']]\n",
    "data.info()"
   ]
  },
  {
   "cell_type": "code",
   "execution_count": 4,
   "metadata": {},
   "outputs": [
    {
     "output_type": "execute_result",
     "data": {
      "text/plain": "                                                text sentiment\n0  RT @NancyLeeGrahn: How did everyone feel about...   Neutral\n1  RT @ScottWalker: Didn't catch the full #GOPdeb...  Positive\n2  RT @TJMShow: No mention of Tamir Rice and the ...   Neutral\n3  RT @RobGeorge: That Carly Fiorina is trending ...  Positive\n4  RT @DanScavino: #GOPDebate w/ @realDonaldTrump...  Positive",
      "text/html": "<div>\n<style scoped>\n    .dataframe tbody tr th:only-of-type {\n        vertical-align: middle;\n    }\n\n    .dataframe tbody tr th {\n        vertical-align: top;\n    }\n\n    .dataframe thead th {\n        text-align: right;\n    }\n</style>\n<table border=\"1\" class=\"dataframe\">\n  <thead>\n    <tr style=\"text-align: right;\">\n      <th></th>\n      <th>text</th>\n      <th>sentiment</th>\n    </tr>\n  </thead>\n  <tbody>\n    <tr>\n      <th>0</th>\n      <td>RT @NancyLeeGrahn: How did everyone feel about...</td>\n      <td>Neutral</td>\n    </tr>\n    <tr>\n      <th>1</th>\n      <td>RT @ScottWalker: Didn't catch the full #GOPdeb...</td>\n      <td>Positive</td>\n    </tr>\n    <tr>\n      <th>2</th>\n      <td>RT @TJMShow: No mention of Tamir Rice and the ...</td>\n      <td>Neutral</td>\n    </tr>\n    <tr>\n      <th>3</th>\n      <td>RT @RobGeorge: That Carly Fiorina is trending ...</td>\n      <td>Positive</td>\n    </tr>\n    <tr>\n      <th>4</th>\n      <td>RT @DanScavino: #GOPDebate w/ @realDonaldTrump...</td>\n      <td>Positive</td>\n    </tr>\n  </tbody>\n</table>\n</div>"
     },
     "metadata": {},
     "execution_count": 4
    }
   ],
   "source": [
    "data.head()"
   ]
  },
  {
   "cell_type": "code",
   "execution_count": 5,
   "metadata": {
    "tags": []
   },
   "outputs": [
    {
     "output_type": "stream",
     "name": "stdout",
     "text": "['R', 'T', ' ', '@', 'N', 'a', 'n', 'c', 'y', 'L', 'e', 'e', 'G', 'r', 'a', 'h', 'n', ':', ' ', 'H', 'o', 'w', ' ', 'd', 'i', 'd', ' ', 'e', 'v', 'e', 'r', 'y', 'o', 'n', 'e', ' ', 'f', 'e', 'e', 'l', ' ', 'a', 'b', 'o', 'u', 't', ' ', 't', 'h', 'e', ' ', 'C', 'l', 'i', 'm', 'a', 't', 'e', ' ', 'C', 'h', 'a', 'n', 'g', 'e', ' ', 'q', 'u', 'e', 's', 't', 'i', 'o', 'n', ' ', 'l', 'a', 's', 't', ' ', 'n', 'i', 'g', 'h', 't', '?', ' ', 'E', 'x', 'a', 'c', 't', 'l', 'y', '.', ' ', '#', 'G', 'O', 'P', 'D', 'e', 'b', 'a', 't', 'e']\n"
    }
   ],
   "source": [
    "# Unigram\n",
    "print(list(data.iloc[0]['text']))"
   ]
  },
  {
   "cell_type": "code",
   "execution_count": 6,
   "metadata": {
    "tags": []
   },
   "outputs": [
    {
     "output_type": "stream",
     "name": "stdout",
     "text": "[('R', 'T'), ('T', ' '), (' ', '@'), ('@', 'N'), ('N', 'a'), ('a', 'n'), ('n', 'c'), ('c', 'y'), ('y', 'L'), ('L', 'e'), ('e', 'e'), ('e', 'G'), ('G', 'r'), ('r', 'a'), ('a', 'h'), ('h', 'n'), ('n', ':'), (':', ' '), (' ', 'H'), ('H', 'o'), ('o', 'w'), ('w', ' '), (' ', 'd'), ('d', 'i'), ('i', 'd'), ('d', ' '), (' ', 'e'), ('e', 'v'), ('v', 'e'), ('e', 'r'), ('r', 'y'), ('y', 'o'), ('o', 'n'), ('n', 'e'), ('e', ' '), (' ', 'f'), ('f', 'e'), ('e', 'e'), ('e', 'l'), ('l', ' '), (' ', 'a'), ('a', 'b'), ('b', 'o'), ('o', 'u'), ('u', 't'), ('t', ' '), (' ', 't'), ('t', 'h'), ('h', 'e'), ('e', ' '), (' ', 'C'), ('C', 'l'), ('l', 'i'), ('i', 'm'), ('m', 'a'), ('a', 't'), ('t', 'e'), ('e', ' '), (' ', 'C'), ('C', 'h'), ('h', 'a'), ('a', 'n'), ('n', 'g'), ('g', 'e'), ('e', ' '), (' ', 'q'), ('q', 'u'), ('u', 'e'), ('e', 's'), ('s', 't'), ('t', 'i'), ('i', 'o'), ('o', 'n'), ('n', ' '), (' ', 'l'), ('l', 'a'), ('a', 's'), ('s', 't'), ('t', ' '), (' ', 'n'), ('n', 'i'), ('i', 'g'), ('g', 'h'), ('h', 't'), ('t', '?'), ('?', ' '), (' ', 'E'), ('E', 'x'), ('x', 'a'), ('a', 'c'), ('c', 't'), ('t', 'l'), ('l', 'y'), ('y', '.'), ('.', ' '), (' ', '#'), ('#', 'G'), ('G', 'O'), ('O', 'P'), ('P', 'D'), ('D', 'e'), ('e', 'b'), ('b', 'a'), ('a', 't'), ('t', 'e')]\n"
    }
   ],
   "source": [
    "# Bigram\n",
    "import nltk\n",
    "from nltk.util import ngrams\n",
    "\n",
    "bigram = list(ngrams(data.iloc[0]['text'], 2)) \n",
    "print(bigram)"
   ]
  },
  {
   "cell_type": "code",
   "execution_count": null,
   "metadata": {},
   "outputs": [],
   "source": [
    "# Find max sequence length (using percentiles) and chop off data till that point (zero pad)\n",
    "# Create a Encoder and Decoder Dictionary\n",
    "# Encode the input sentences (including zero pad)\n",
    "# Train (What about character embeddings. Do we need to train from scratch or can we use some existing ones?)"
   ]
  }
 ]
}