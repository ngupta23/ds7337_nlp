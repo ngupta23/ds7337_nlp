{
  "nbformat": 4,
  "nbformat_minor": 0,
  "metadata": {
    "orig_nbformat": 2,
    "kernelspec": {
      "name": "python3",
      "display_name": "Python 3"
    },
    "colab": {
      "name": "NGupta_question1.ipynb",
      "provenance": [],
      "include_colab_link": true
    },
    "accelerator": "GPU"
  },
  "cells": [
    {
      "cell_type": "markdown",
      "metadata": {
        "id": "view-in-github",
        "colab_type": "text"
      },
      "source": [
        "<a href=\"https://colab.research.google.com/github/ngupta23/ds7337_nlp/blob/master/Exams/finals/NGupta_question1_unigram.ipynb\" target=\"_parent\"><img src=\"https://colab.research.google.com/assets/colab-badge.svg\" alt=\"Open In Colab\"/></a>"
      ]
    },
    {
      "cell_type": "code",
      "metadata": {
        "id": "2jwvszQUB2lo",
        "colab_type": "code",
        "colab": {}
      },
      "source": [
        "from typing import List, Tuple\n",
        "\n",
        "import numpy as np\n",
        "import pandas as pd"
      ],
      "execution_count": 67,
      "outputs": []
    },
    {
      "cell_type": "code",
      "metadata": {
        "id": "KttKwv-eNAA-",
        "colab_type": "code",
        "colab": {}
      },
      "source": [
        "from sklearn.model_selection import train_test_split"
      ],
      "execution_count": 44,
      "outputs": []
    },
    {
      "cell_type": "code",
      "metadata": {
        "id": "UoLLis-mCYEv",
        "colab_type": "code",
        "colab": {
          "resources": {
            "http://localhost:8080/nbextensions/google.colab/files.js": {
              "data": "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",
              "ok": true,
              "headers": [
                [
                  "content-type",
                  "application/javascript"
                ]
              ],
              "status": 200,
              "status_text": "OK"
            }
          },
          "base_uri": "https://localhost:8080/",
          "height": 424
        },
        "outputId": "8d1364bc-d0bb-4486-b044-10802ae030ea"
      },
      "source": [
        "use_github_data = False\n",
        "if use_github_data:\n",
        "  URL = \"https://github.com/ngupta23/ds7337_nlp/blob/master/Exams/finals/Sentiment.csv\"\n",
        "else:\n",
        "  from google.colab import files\n",
        "  uploaded = files.upload()\n",
        "  URL = \"Sentiment.csv\""
      ],
      "execution_count": 15,
      "outputs": [
        {
          "output_type": "display_data",
          "data": {
            "text/html": [
              "\n",
              "     <input type=\"file\" id=\"files-b1aa3090-f8c3-43a5-af7d-2de269f926d0\" name=\"files[]\" multiple disabled\n",
              "        style=\"border:none\" />\n",
              "     <output id=\"result-b1aa3090-f8c3-43a5-af7d-2de269f926d0\">\n",
              "      Upload widget is only available when the cell has been executed in the\n",
              "      current browser session. Please rerun this cell to enable.\n",
              "      </output>\n",
              "      <script src=\"/nbextensions/google.colab/files.js\"></script> "
            ],
            "text/plain": [
              "<IPython.core.display.HTML object>"
            ]
          },
          "metadata": {
            "tags": []
          }
        },
        {
          "output_type": "display_data",
          "data": {
            "text/html": [
              "\n",
              "     <input type=\"file\" id=\"files-4e3c9247-cb64-4d89-bf0b-81f0d6c35b8f\" name=\"files[]\" multiple disabled\n",
              "        style=\"border:none\" />\n",
              "     <output id=\"result-4e3c9247-cb64-4d89-bf0b-81f0d6c35b8f\">\n",
              "      Upload widget is only available when the cell has been executed in the\n",
              "      current browser session. Please rerun this cell to enable.\n",
              "      </output>\n",
              "      <script src=\"/nbextensions/google.colab/files.js\"></script> "
            ],
            "text/plain": [
              "<IPython.core.display.HTML object>"
            ]
          },
          "metadata": {
            "tags": []
          }
        },
        {
          "output_type": "error",
          "ename": "KeyboardInterrupt",
          "evalue": "ignored",
          "traceback": [
            "\u001b[0;31m---------------------------------------------------------------------------\u001b[0m",
            "\u001b[0;31mKeyboardInterrupt\u001b[0m                         Traceback (most recent call last)",
            "\u001b[0;32m<ipython-input-15-a0c77bd33aea>\u001b[0m in \u001b[0;36m<module>\u001b[0;34m()\u001b[0m\n\u001b[1;32m      4\u001b[0m \u001b[0;32melse\u001b[0m\u001b[0;34m:\u001b[0m\u001b[0;34m\u001b[0m\u001b[0;34m\u001b[0m\u001b[0m\n\u001b[1;32m      5\u001b[0m   \u001b[0;32mfrom\u001b[0m \u001b[0mgoogle\u001b[0m\u001b[0;34m.\u001b[0m\u001b[0mcolab\u001b[0m \u001b[0;32mimport\u001b[0m \u001b[0mfiles\u001b[0m\u001b[0;34m\u001b[0m\u001b[0;34m\u001b[0m\u001b[0m\n\u001b[0;32m----> 6\u001b[0;31m   \u001b[0muploaded\u001b[0m \u001b[0;34m=\u001b[0m \u001b[0mfiles\u001b[0m\u001b[0;34m.\u001b[0m\u001b[0mupload\u001b[0m\u001b[0;34m(\u001b[0m\u001b[0;34m)\u001b[0m\u001b[0;34m\u001b[0m\u001b[0;34m\u001b[0m\u001b[0m\n\u001b[0m\u001b[1;32m      7\u001b[0m   \u001b[0mURL\u001b[0m \u001b[0;34m=\u001b[0m \u001b[0;34m\"Sentiment.csv\"\u001b[0m\u001b[0;34m\u001b[0m\u001b[0;34m\u001b[0m\u001b[0m\n",
            "\u001b[0;32m/usr/local/lib/python3.6/dist-packages/google/colab/files.py\u001b[0m in \u001b[0;36mupload\u001b[0;34m()\u001b[0m\n\u001b[1;32m     62\u001b[0m   result = _output.eval_js(\n\u001b[1;32m     63\u001b[0m       'google.colab._files._uploadFiles(\"{input_id}\", \"{output_id}\")'.format(\n\u001b[0;32m---> 64\u001b[0;31m           input_id=input_id, output_id=output_id))\n\u001b[0m\u001b[1;32m     65\u001b[0m   \u001b[0mfiles\u001b[0m \u001b[0;34m=\u001b[0m \u001b[0m_collections\u001b[0m\u001b[0;34m.\u001b[0m\u001b[0mdefaultdict\u001b[0m\u001b[0;34m(\u001b[0m\u001b[0m_six\u001b[0m\u001b[0;34m.\u001b[0m\u001b[0mbinary_type\u001b[0m\u001b[0;34m)\u001b[0m\u001b[0;34m\u001b[0m\u001b[0;34m\u001b[0m\u001b[0m\n\u001b[1;32m     66\u001b[0m   \u001b[0;31m# Mapping from original filename to filename as saved locally.\u001b[0m\u001b[0;34m\u001b[0m\u001b[0;34m\u001b[0m\u001b[0;34m\u001b[0m\u001b[0m\n",
            "\u001b[0;32m/usr/local/lib/python3.6/dist-packages/google/colab/output/_js.py\u001b[0m in \u001b[0;36meval_js\u001b[0;34m(script, ignore_result)\u001b[0m\n\u001b[1;32m     37\u001b[0m   \u001b[0;32mif\u001b[0m \u001b[0mignore_result\u001b[0m\u001b[0;34m:\u001b[0m\u001b[0;34m\u001b[0m\u001b[0;34m\u001b[0m\u001b[0m\n\u001b[1;32m     38\u001b[0m     \u001b[0;32mreturn\u001b[0m\u001b[0;34m\u001b[0m\u001b[0;34m\u001b[0m\u001b[0m\n\u001b[0;32m---> 39\u001b[0;31m   \u001b[0;32mreturn\u001b[0m \u001b[0m_message\u001b[0m\u001b[0;34m.\u001b[0m\u001b[0mread_reply_from_input\u001b[0m\u001b[0;34m(\u001b[0m\u001b[0mrequest_id\u001b[0m\u001b[0;34m)\u001b[0m\u001b[0;34m\u001b[0m\u001b[0;34m\u001b[0m\u001b[0m\n\u001b[0m\u001b[1;32m     40\u001b[0m \u001b[0;34m\u001b[0m\u001b[0m\n\u001b[1;32m     41\u001b[0m \u001b[0;34m\u001b[0m\u001b[0m\n",
            "\u001b[0;32m/usr/local/lib/python3.6/dist-packages/google/colab/_message.py\u001b[0m in \u001b[0;36mread_reply_from_input\u001b[0;34m(message_id, timeout_sec)\u001b[0m\n\u001b[1;32m     99\u001b[0m     \u001b[0mreply\u001b[0m \u001b[0;34m=\u001b[0m \u001b[0m_read_next_input_message\u001b[0m\u001b[0;34m(\u001b[0m\u001b[0;34m)\u001b[0m\u001b[0;34m\u001b[0m\u001b[0;34m\u001b[0m\u001b[0m\n\u001b[1;32m    100\u001b[0m     \u001b[0;32mif\u001b[0m \u001b[0mreply\u001b[0m \u001b[0;34m==\u001b[0m \u001b[0m_NOT_READY\u001b[0m \u001b[0;32mor\u001b[0m \u001b[0;32mnot\u001b[0m \u001b[0misinstance\u001b[0m\u001b[0;34m(\u001b[0m\u001b[0mreply\u001b[0m\u001b[0;34m,\u001b[0m \u001b[0mdict\u001b[0m\u001b[0;34m)\u001b[0m\u001b[0;34m:\u001b[0m\u001b[0;34m\u001b[0m\u001b[0;34m\u001b[0m\u001b[0m\n\u001b[0;32m--> 101\u001b[0;31m       \u001b[0mtime\u001b[0m\u001b[0;34m.\u001b[0m\u001b[0msleep\u001b[0m\u001b[0;34m(\u001b[0m\u001b[0;36m0.025\u001b[0m\u001b[0;34m)\u001b[0m\u001b[0;34m\u001b[0m\u001b[0;34m\u001b[0m\u001b[0m\n\u001b[0m\u001b[1;32m    102\u001b[0m       \u001b[0;32mcontinue\u001b[0m\u001b[0;34m\u001b[0m\u001b[0;34m\u001b[0m\u001b[0m\n\u001b[1;32m    103\u001b[0m     if (reply.get('type') == 'colab_reply' and\n",
            "\u001b[0;31mKeyboardInterrupt\u001b[0m: "
          ]
        }
      ]
    },
    {
      "cell_type": "code",
      "metadata": {
        "tags": [],
        "id": "SWitVpFmB2l3",
        "colab_type": "code",
        "colab": {
          "base_uri": "https://localhost:8080/",
          "height": 531
        },
        "outputId": "e83c6f32-4ec5-4a3d-fb58-df78d473a5a2"
      },
      "source": [
        "data = pd.read_csv(URL) #, encoding='latin-1')\n",
        "data.info()"
      ],
      "execution_count": null,
      "outputs": [
        {
          "output_type": "stream",
          "text": [
            "<class 'pandas.core.frame.DataFrame'>\n",
            "RangeIndex: 13871 entries, 0 to 13870\n",
            "Data columns (total 21 columns):\n",
            " #   Column                     Non-Null Count  Dtype  \n",
            "---  ------                     --------------  -----  \n",
            " 0   id                         13871 non-null  int64  \n",
            " 1   candidate                  13775 non-null  object \n",
            " 2   candidate_confidence       13871 non-null  float64\n",
            " 3   relevant_yn                13871 non-null  object \n",
            " 4   relevant_yn_confidence     13871 non-null  float64\n",
            " 5   sentiment                  13871 non-null  object \n",
            " 6   sentiment_confidence       13871 non-null  float64\n",
            " 7   subject_matter             13545 non-null  object \n",
            " 8   subject_matter_confidence  13871 non-null  float64\n",
            " 9   candidate_gold             28 non-null     object \n",
            " 10  name                       13871 non-null  object \n",
            " 11  relevant_yn_gold           32 non-null     object \n",
            " 12  retweet_count              13871 non-null  int64  \n",
            " 13  sentiment_gold             15 non-null     object \n",
            " 14  subject_matter_gold        18 non-null     object \n",
            " 15  text                       13871 non-null  object \n",
            " 16  tweet_coord                21 non-null     object \n",
            " 17  tweet_created              13871 non-null  object \n",
            " 18  tweet_id                   13871 non-null  int64  \n",
            " 19  tweet_location             9959 non-null   object \n",
            " 20  user_timezone              9468 non-null   object \n",
            "dtypes: float64(4), int64(3), object(14)\n",
            "memory usage: 2.2+ MB\n"
          ],
          "name": "stdout"
        }
      ]
    },
    {
      "cell_type": "code",
      "metadata": {
        "tags": [],
        "id": "e_7SfuMwB2mI",
        "colab_type": "code",
        "colab": {
          "base_uri": "https://localhost:8080/",
          "height": 182
        },
        "outputId": "776f0c30-5edc-4022-8c15-9814a9ddbf36"
      },
      "source": [
        "data = data[['text', 'sentiment']]\n",
        "data.info()"
      ],
      "execution_count": null,
      "outputs": [
        {
          "output_type": "stream",
          "text": [
            "<class 'pandas.core.frame.DataFrame'>\n",
            "RangeIndex: 13871 entries, 0 to 13870\n",
            "Data columns (total 2 columns):\n",
            " #   Column     Non-Null Count  Dtype \n",
            "---  ------     --------------  ----- \n",
            " 0   text       13871 non-null  object\n",
            " 1   sentiment  13871 non-null  object\n",
            "dtypes: object(2)\n",
            "memory usage: 216.9+ KB\n"
          ],
          "name": "stdout"
        }
      ]
    },
    {
      "cell_type": "code",
      "metadata": {
        "id": "LjMYsUhuB2mS",
        "colab_type": "code",
        "colab": {
          "base_uri": "https://localhost:8080/",
          "height": 206
        },
        "outputId": "434d43f6-0fd6-4809-ed20-aca964ce2a02"
      },
      "source": [
        "data.head()"
      ],
      "execution_count": null,
      "outputs": [
        {
          "output_type": "execute_result",
          "data": {
            "text/html": [
              "<div>\n",
              "<style scoped>\n",
              "    .dataframe tbody tr th:only-of-type {\n",
              "        vertical-align: middle;\n",
              "    }\n",
              "\n",
              "    .dataframe tbody tr th {\n",
              "        vertical-align: top;\n",
              "    }\n",
              "\n",
              "    .dataframe thead th {\n",
              "        text-align: right;\n",
              "    }\n",
              "</style>\n",
              "<table border=\"1\" class=\"dataframe\">\n",
              "  <thead>\n",
              "    <tr style=\"text-align: right;\">\n",
              "      <th></th>\n",
              "      <th>text</th>\n",
              "      <th>sentiment</th>\n",
              "    </tr>\n",
              "  </thead>\n",
              "  <tbody>\n",
              "    <tr>\n",
              "      <th>0</th>\n",
              "      <td>RT @NancyLeeGrahn: How did everyone feel about...</td>\n",
              "      <td>Neutral</td>\n",
              "    </tr>\n",
              "    <tr>\n",
              "      <th>1</th>\n",
              "      <td>RT @ScottWalker: Didn't catch the full #GOPdeb...</td>\n",
              "      <td>Positive</td>\n",
              "    </tr>\n",
              "    <tr>\n",
              "      <th>2</th>\n",
              "      <td>RT @TJMShow: No mention of Tamir Rice and the ...</td>\n",
              "      <td>Neutral</td>\n",
              "    </tr>\n",
              "    <tr>\n",
              "      <th>3</th>\n",
              "      <td>RT @RobGeorge: That Carly Fiorina is trending ...</td>\n",
              "      <td>Positive</td>\n",
              "    </tr>\n",
              "    <tr>\n",
              "      <th>4</th>\n",
              "      <td>RT @DanScavino: #GOPDebate w/ @realDonaldTrump...</td>\n",
              "      <td>Positive</td>\n",
              "    </tr>\n",
              "  </tbody>\n",
              "</table>\n",
              "</div>"
            ],
            "text/plain": [
              "                                                text sentiment\n",
              "0  RT @NancyLeeGrahn: How did everyone feel about...   Neutral\n",
              "1  RT @ScottWalker: Didn't catch the full #GOPdeb...  Positive\n",
              "2  RT @TJMShow: No mention of Tamir Rice and the ...   Neutral\n",
              "3  RT @RobGeorge: That Carly Fiorina is trending ...  Positive\n",
              "4  RT @DanScavino: #GOPDebate w/ @realDonaldTrump...  Positive"
            ]
          },
          "metadata": {
            "tags": []
          },
          "execution_count": 5
        }
      ]
    },
    {
      "cell_type": "code",
      "metadata": {
        "id": "KkbB3WuELm1Q",
        "colab_type": "code",
        "colab": {
          "base_uri": "https://localhost:8080/",
          "height": 206
        },
        "outputId": "f00d7561-517d-445a-e635-004a844ef238"
      },
      "source": [
        "data['len'] = data['text'].str.len()\n",
        "data.head()"
      ],
      "execution_count": 34,
      "outputs": [
        {
          "output_type": "execute_result",
          "data": {
            "text/html": [
              "<div>\n",
              "<style scoped>\n",
              "    .dataframe tbody tr th:only-of-type {\n",
              "        vertical-align: middle;\n",
              "    }\n",
              "\n",
              "    .dataframe tbody tr th {\n",
              "        vertical-align: top;\n",
              "    }\n",
              "\n",
              "    .dataframe thead th {\n",
              "        text-align: right;\n",
              "    }\n",
              "</style>\n",
              "<table border=\"1\" class=\"dataframe\">\n",
              "  <thead>\n",
              "    <tr style=\"text-align: right;\">\n",
              "      <th></th>\n",
              "      <th>text</th>\n",
              "      <th>sentiment</th>\n",
              "      <th>len</th>\n",
              "    </tr>\n",
              "  </thead>\n",
              "  <tbody>\n",
              "    <tr>\n",
              "      <th>0</th>\n",
              "      <td>RT @NancyLeeGrahn: How did everyone feel about...</td>\n",
              "      <td>Neutral</td>\n",
              "      <td>106</td>\n",
              "    </tr>\n",
              "    <tr>\n",
              "      <th>1</th>\n",
              "      <td>RT @ScottWalker: Didn't catch the full #GOPdeb...</td>\n",
              "      <td>Positive</td>\n",
              "      <td>140</td>\n",
              "    </tr>\n",
              "    <tr>\n",
              "      <th>2</th>\n",
              "      <td>RT @TJMShow: No mention of Tamir Rice and the ...</td>\n",
              "      <td>Neutral</td>\n",
              "      <td>84</td>\n",
              "    </tr>\n",
              "    <tr>\n",
              "      <th>3</th>\n",
              "      <td>RT @RobGeorge: That Carly Fiorina is trending ...</td>\n",
              "      <td>Positive</td>\n",
              "      <td>140</td>\n",
              "    </tr>\n",
              "    <tr>\n",
              "      <th>4</th>\n",
              "      <td>RT @DanScavino: #GOPDebate w/ @realDonaldTrump...</td>\n",
              "      <td>Positive</td>\n",
              "      <td>140</td>\n",
              "    </tr>\n",
              "  </tbody>\n",
              "</table>\n",
              "</div>"
            ],
            "text/plain": [
              "                                                text sentiment  len\n",
              "0  RT @NancyLeeGrahn: How did everyone feel about...   Neutral  106\n",
              "1  RT @ScottWalker: Didn't catch the full #GOPdeb...  Positive  140\n",
              "2  RT @TJMShow: No mention of Tamir Rice and the ...   Neutral   84\n",
              "3  RT @RobGeorge: That Carly Fiorina is trending ...  Positive  140\n",
              "4  RT @DanScavino: #GOPDebate w/ @realDonaldTrump...  Positive  140"
            ]
          },
          "metadata": {
            "tags": []
          },
          "execution_count": 34
        }
      ]
    },
    {
      "cell_type": "code",
      "metadata": {
        "id": "rAqeNqFtMHvu",
        "colab_type": "code",
        "colab": {
          "base_uri": "https://localhost:8080/",
          "height": 54
        },
        "outputId": "b5ad3efe-883e-4a25-da49-fd5c882bcb2c"
      },
      "source": [
        "print('Maximum review length: {}'.format(data['len'].max()))\n",
        "print('Minimum review length: {}'.format(data['len'].min()))\n"
      ],
      "execution_count": 35,
      "outputs": [
        {
          "output_type": "stream",
          "text": [
            "Maximum review length: 153\n",
            "Minimum review length: 19\n"
          ],
          "name": "stdout"
        }
      ]
    },
    {
      "cell_type": "code",
      "metadata": {
        "id": "DrdQvBm-MQcY",
        "colab_type": "code",
        "colab": {
          "base_uri": "https://localhost:8080/",
          "height": 318
        },
        "outputId": "13dbf91b-bcd2-41bb-d280-1f76967bfbef"
      },
      "source": [
        "data.hist(bins=100)"
      ],
      "execution_count": 37,
      "outputs": [
        {
          "output_type": "execute_result",
          "data": {
            "text/plain": [
              "array([[<matplotlib.axes._subplots.AxesSubplot object at 0x7fc5c5bf2828>]],\n",
              "      dtype=object)"
            ]
          },
          "metadata": {
            "tags": []
          },
          "execution_count": 37
        },
        {
          "output_type": "display_data",
          "data": {
            "image/png": "[encoded data removed]",
            "text/plain": [
              "<Figure size 432x288 with 1 Axes>"
            ]
          },
          "metadata": {
            "tags": [],
            "needs_background": "light"
          }
        }
      ]
    },
    {
      "cell_type": "code",
      "metadata": {
        "id": "E1493_-SMNyx",
        "colab_type": "code",
        "colab": {
          "base_uri": "https://localhost:8080/",
          "height": 35
        },
        "outputId": "d4f560b8-05dc-4777-8107-f0cf6de762d5"
      },
      "source": [
        "# Keep a large percentage of reviews completely and chop of the remainig reviews off.\n",
        "import numpy as np\n",
        "time_steps = int(np.quantile(data['len'],0.975))\n",
        "time_steps"
      ],
      "execution_count": 40,
      "outputs": [
        {
          "output_type": "execute_result",
          "data": {
            "text/plain": [
              "144"
            ]
          },
          "metadata": {
            "tags": []
          },
          "execution_count": 40
        }
      ]
    },
    {
      "cell_type": "code",
      "metadata": {
        "id": "98_XPM8jNe1g",
        "colab_type": "code",
        "colab": {
          "base_uri": "https://localhost:8080/",
          "height": 90
        },
        "outputId": "5ba00202-0108-4394-f450-f0e73dabaa8d"
      },
      "source": [
        "data['sentiment'].value_counts()"
      ],
      "execution_count": 48,
      "outputs": [
        {
          "output_type": "execute_result",
          "data": {
            "text/plain": [
              "Negative    8493\n",
              "Neutral     3142\n",
              "Positive    2236\n",
              "Name: sentiment, dtype: int64"
            ]
          },
          "metadata": {
            "tags": []
          },
          "execution_count": 48
        }
      ]
    },
    {
      "cell_type": "code",
      "metadata": {
        "id": "WVQsPeAMNKJI",
        "colab_type": "code",
        "colab": {}
      },
      "source": [
        "data.loc[data['sentiment'] == 'Negative', 'sentiment'] = 0\n",
        "data.loc[data['sentiment'] == 'Neutral', 'sentiment'] = 1\n",
        "data.loc[data['sentiment'] == 'Positive', 'sentiment'] = 2"
      ],
      "execution_count": 51,
      "outputs": []
    },
    {
      "cell_type": "code",
      "metadata": {
        "tags": [],
        "id": "r5hCZzntB2mb",
        "colab_type": "code",
        "colab": {
          "base_uri": "https://localhost:8080/",
          "height": 55
        },
        "outputId": "f9f09daa-3679-4454-c5a0-a5d77c99e96a"
      },
      "source": [
        "# Unigram\n",
        "print(list(data.iloc[0]['text']))"
      ],
      "execution_count": 55,
      "outputs": [
        {
          "output_type": "stream",
          "text": [
            "['R', 'T', ' ', '@', 'N', 'a', 'n', 'c', 'y', 'L', 'e', 'e', 'G', 'r', 'a', 'h', 'n', ':', ' ', 'H', 'o', 'w', ' ', 'd', 'i', 'd', ' ', 'e', 'v', 'e', 'r', 'y', 'o', 'n', 'e', ' ', 'f', 'e', 'e', 'l', ' ', 'a', 'b', 'o', 'u', 't', ' ', 't', 'h', 'e', ' ', 'C', 'l', 'i', 'm', 'a', 't', 'e', ' ', 'C', 'h', 'a', 'n', 'g', 'e', ' ', 'q', 'u', 'e', 's', 't', 'i', 'o', 'n', ' ', 'l', 'a', 's', 't', ' ', 'n', 'i', 'g', 'h', 't', '?', ' ', 'E', 'x', 'a', 'c', 't', 'l', 'y', '.', ' ', '#', 'G', 'O', 'P', 'D', 'e', 'b', 'a', 't', 'e']\n"
          ],
          "name": "stdout"
        }
      ]
    },
    {
      "cell_type": "code",
      "metadata": {
        "tags": [],
        "id": "sY-EwzV4B2mp",
        "colab_type": "code",
        "colab": {
          "base_uri": "https://localhost:8080/",
          "height": 55
        },
        "outputId": "ea1ea92d-250d-44ab-b5b3-d769fdafa983"
      },
      "source": [
        "# Bigram\n",
        "import nltk\n",
        "from nltk.util import ngrams\n",
        "\n",
        "bigram = list(ngrams(data.iloc[0]['text'], 2)) \n",
        "print(bigram)"
      ],
      "execution_count": null,
      "outputs": [
        {
          "output_type": "stream",
          "text": [
            "[('R', 'T'), ('T', ' '), (' ', '@'), ('@', 'N'), ('N', 'a'), ('a', 'n'), ('n', 'c'), ('c', 'y'), ('y', 'L'), ('L', 'e'), ('e', 'e'), ('e', 'G'), ('G', 'r'), ('r', 'a'), ('a', 'h'), ('h', 'n'), ('n', ':'), (':', ' '), (' ', 'H'), ('H', 'o'), ('o', 'w'), ('w', ' '), (' ', 'd'), ('d', 'i'), ('i', 'd'), ('d', ' '), (' ', 'e'), ('e', 'v'), ('v', 'e'), ('e', 'r'), ('r', 'y'), ('y', 'o'), ('o', 'n'), ('n', 'e'), ('e', ' '), (' ', 'f'), ('f', 'e'), ('e', 'e'), ('e', 'l'), ('l', ' '), (' ', 'a'), ('a', 'b'), ('b', 'o'), ('o', 'u'), ('u', 't'), ('t', ' '), (' ', 't'), ('t', 'h'), ('h', 'e'), ('e', ' '), (' ', 'C'), ('C', 'l'), ('l', 'i'), ('i', 'm'), ('m', 'a'), ('a', 't'), ('t', 'e'), ('e', ' '), (' ', 'C'), ('C', 'h'), ('h', 'a'), ('a', 'n'), ('n', 'g'), ('g', 'e'), ('e', ' '), (' ', 'q'), ('q', 'u'), ('u', 'e'), ('e', 's'), ('s', 't'), ('t', 'i'), ('i', 'o'), ('o', 'n'), ('n', ' '), (' ', 'l'), ('l', 'a'), ('a', 's'), ('s', 't'), ('t', ' '), (' ', 'n'), ('n', 'i'), ('i', 'g'), ('g', 'h'), ('h', 't'), ('t', '?'), ('?', ' '), (' ', 'E'), ('E', 'x'), ('x', 'a'), ('a', 'c'), ('c', 't'), ('t', 'l'), ('l', 'y'), ('y', '.'), ('.', ' '), (' ', '#'), ('#', 'G'), ('G', 'O'), ('O', 'P'), ('P', 'D'), ('D', 'e'), ('e', 'b'), ('b', 'a'), ('a', 't'), ('t', 'e')]\n"
          ],
          "name": "stdout"
        }
      ]
    },
    {
      "cell_type": "code",
      "metadata": {
        "id": "Z6PSLFHDNeXJ",
        "colab_type": "code",
        "colab": {
          "base_uri": "https://localhost:8080/",
          "height": 90
        },
        "outputId": "338cdba3-725f-415c-8eb3-5465cd637ba7"
      },
      "source": [
        "data['sentiment'].value_counts()"
      ],
      "execution_count": 52,
      "outputs": [
        {
          "output_type": "execute_result",
          "data": {
            "text/plain": [
              "0    8493\n",
              "1    3142\n",
              "2    2236\n",
              "Name: sentiment, dtype: int64"
            ]
          },
          "metadata": {
            "tags": []
          },
          "execution_count": 52
        }
      ]
    },
    {
      "cell_type": "code",
      "metadata": {
        "id": "0iIseVDXM7VB",
        "colab_type": "code",
        "colab": {
          "base_uri": "https://localhost:8080/",
          "height": 54
        },
        "outputId": "3b158d1a-fd2f-4d28-c51e-8d7c39361753"
      },
      "source": [
        "X_train, X_test, y_train, y_test = train_test_split(\n",
        "    data['text'].values.astype('U'),\n",
        "    data['sentiment'].values.astype('int32'),\n",
        "    test_size=0.20,\n",
        "    random_state=42\n",
        ")\n",
        "\n",
        "print(f\"Number of samples: X_train: {len(X_train)}, y_train: {len(y_train)}\")\n",
        "print(f\"Number of samples: X_test: {len(X_test)}, y_test: {len(y_test)}\")"
      ],
      "execution_count": 53,
      "outputs": [
        {
          "output_type": "stream",
          "text": [
            "Number of samples: X_train: 11096, y_train: 11096\n",
            "Number of samples: X_test: 2775, y_test: 2775\n"
          ],
          "name": "stdout"
        }
      ]
    },
    {
      "cell_type": "code",
      "metadata": {
        "id": "HR3Jkl_fOM1i",
        "colab_type": "code",
        "colab": {
          "base_uri": "https://localhost:8080/",
          "height": 127
        },
        "outputId": "b920ce37-d02d-4960-aefa-a2b59bb293da"
      },
      "source": [
        "# Checking split --> both test and train contain roughly the same number of positive (and negative) sentiment reviews\n",
        "print(sum(y_train == 0)/len(y_train))\n",
        "print(sum(y_test == 0)/len(y_test))\n",
        "\n",
        "print(sum(y_train == 1)/len(y_train))\n",
        "print(sum(y_test == 1)/len(y_test))\n",
        "\n",
        "print(sum(y_train == 2)/len(y_train))\n",
        "print(sum(y_test == 2)/len(y_test))"
      ],
      "execution_count": 56,
      "outputs": [
        {
          "output_type": "stream",
          "text": [
            "0.6102198990627253\n",
            "0.6205405405405405\n",
            "0.22801009372746936\n",
            "0.22054054054054054\n",
            "0.16177000720980533\n",
            "0.1589189189189189\n"
          ],
          "name": "stdout"
        }
      ]
    },
    {
      "cell_type": "code",
      "metadata": {
        "id": "qbWn_Z3EB2my",
        "colab_type": "code",
        "colab": {}
      },
      "source": [
        "# Find max sequence length (using percentiles) and chop off data till that point (zero pad)\n",
        "# Create a Encoder and Decoder Dictionary\n",
        "# Encode the input sentences (including zero pad)\n",
        "# Train (What about character embeddings. Do we need to train from scratch or can we use some existing ones?)"
      ],
      "execution_count": null,
      "outputs": []
    },
    {
      "cell_type": "code",
      "metadata": {
        "id": "9RTwvjV6D1Dm",
        "colab_type": "code",
        "colab": {}
      },
      "source": [
        "corpus = []\n",
        "for _, text_row in enumerate(data['text']):\n",
        "  corpus = corpus + list(text_row)"
      ],
      "execution_count": null,
      "outputs": []
    },
    {
      "cell_type": "code",
      "metadata": {
        "id": "2RnLVRvZEqyX",
        "colab_type": "code",
        "colab": {
          "base_uri": "https://localhost:8080/",
          "height": 55
        },
        "outputId": "bae00152-7b70-4f53-c66f-eab931e8e97e"
      },
      "source": [
        "print(corpus[:300])"
      ],
      "execution_count": null,
      "outputs": [
        {
          "output_type": "stream",
          "text": [
            "['R', 'T', ' ', '@', 'N', 'a', 'n', 'c', 'y', 'L', 'e', 'e', 'G', 'r', 'a', 'h', 'n', ':', ' ', 'H', 'o', 'w', ' ', 'd', 'i', 'd', ' ', 'e', 'v', 'e', 'r', 'y', 'o', 'n', 'e', ' ', 'f', 'e', 'e', 'l', ' ', 'a', 'b', 'o', 'u', 't', ' ', 't', 'h', 'e', ' ', 'C', 'l', 'i', 'm', 'a', 't', 'e', ' ', 'C', 'h', 'a', 'n', 'g', 'e', ' ', 'q', 'u', 'e', 's', 't', 'i', 'o', 'n', ' ', 'l', 'a', 's', 't', ' ', 'n', 'i', 'g', 'h', 't', '?', ' ', 'E', 'x', 'a', 'c', 't', 'l', 'y', '.', ' ', '#', 'G', 'O', 'P', 'D', 'e', 'b', 'a', 't', 'e', 'R', 'T', ' ', '@', 'S', 'c', 'o', 't', 't', 'W', 'a', 'l', 'k', 'e', 'r', ':', ' ', 'D', 'i', 'd', 'n', \"'\", 't', ' ', 'c', 'a', 't', 'c', 'h', ' ', 't', 'h', 'e', ' ', 'f', 'u', 'l', 'l', ' ', '#', 'G', 'O', 'P', 'd', 'e', 'b', 'a', 't', 'e', ' ', 'l', 'a', 's', 't', ' ', 'n', 'i', 'g', 'h', 't', '.', ' ', 'H', 'e', 'r', 'e', ' ', 'a', 'r', 'e', ' ', 's', 'o', 'm', 'e', ' ', 'o', 'f', ' ', 'S', 'c', 'o', 't', 't', \"'\", 's', ' ', 'b', 'e', 's', 't', ' ', 'l', 'i', 'n', 'e', 's', ' ', 'i', 'n', ' ', '9', '0', ' ', 's', 'e', 'c', 'o', 'n', 'd', 's', '.', ' ', '#', 'W', 'a', 'l', 'k', 'e', 'r', '1', '6', ' ', 'h', 't', 't', 'p', ':', '/', '/', 't', '.', 'c', 'o', '/', 'Z', 'S', 'f', 'F', '…', 'R', 'T', ' ', '@', 'T', 'J', 'M', 'S', 'h', 'o', 'w', ':', ' ', 'N', 'o', ' ', 'm', 'e', 'n', 't', 'i', 'o', 'n', ' ', 'o', 'f', ' ', 'T', 'a', 'm', 'i', 'r', ' ', 'R', 'i', 'c', 'e', ' ', 'a', 'n', 'd', ' ', 't', 'h', 'e', ' ', '#', 'G', 'O', 'P', 'D', 'e', 'b', 'a']\n"
          ],
          "name": "stdout"
        }
      ]
    },
    {
      "cell_type": "code",
      "metadata": {
        "id": "zS8CDdwcDHAP",
        "colab_type": "code",
        "colab": {
          "base_uri": "https://localhost:8080/",
          "height": 74
        },
        "outputId": "d3bab72e-06cd-4fc6-e5bb-42c9a042e354"
      },
      "source": [
        "# Get only words that have occured more than once to remove noise, spelling mistakes and possible tokenization errors.\n",
        "fdist = nltk.FreqDist(corpus)\n",
        "print(fdist.most_common()) # [:20])\n",
        "vocab = [char for char, count in fdist.most_common() if count >= 1]\n",
        "print(vocab) #[:20])"
      ],
      "execution_count": null,
      "outputs": [
        {
          "output_type": "stream",
          "text": [
            "[(' ', 223579), ('e', 140036), ('t', 106711), ('a', 93539), ('o', 76702), ('i', 66303), ('n', 65948), ('s', 64543), ('r', 61717), ('h', 46854), ('l', 44837), ('d', 35894), ('u', 32895), ('b', 30766), ('c', 28161), ('m', 26989), ('p', 25019), ('#', 21730), ('g', 21283), ('y', 20289), ('G', 20251), ('D', 19126), ('O', 18879), ('P', 18623), ('w', 17702), ('.', 17621), ('T', 17575), ('f', 16756), ('R', 14460), ('@', 14178), (':', 13538), ('k', 12210), ('/', 11598), ('v', 8618), ('S', 7626), ('I', 6954), ('W', 6618), ('C', 6510), (\"'\", 5657), (',', 5164), ('A', 5003), ('F', 5001), ('B', 4805), ('N', 4682), ('M', 4115), ('x', 3912), ('H', 3712), ('\"', 3544), ('L', 3354), ('E', 3069), ('?', 2892), ('…', 2868), ('\\n', 2775), ('j', 2483), ('J', 2412), ('1', 2333), ('z', 2331), ('!', 2287), ('K', 2220), ('U', 1987), ('0', 1899), ('2', 1861), ('🇺', 1830), ('🇸', 1830), ('-', 1757), ('Y', 1722), ('q', 1592), ('6', 1369), (';', 1241), ('V', 1228), ('&', 1144), ('3', 1090), ('4', 972), ('5', 962), ('X', 955), ('9', 950), ('7', 915), ('8', 873), ('Z', 725), ('Q', 685), ('_', 661), (')', 281), ('’', 254), ('(', 251), ('“', 145), ('”', 143), ('*', 131), ('😂', 95), ('%', 94), ('$', 89), ('=', 78), ('[', 36), (']', 36), ('|', 35), ('+', 34), ('💨', 32), ('️', 30), ('—', 28), ('🏻', 18), ('~', 17), ('🏼', 16), ('‘', 16), ('–', 15), ('❤', 14), ('»', 14), ('👎', 13), ('📢', 12), ('👍', 12), ('👏', 12), ('\\xa0', 11), ('🙌', 10), ('・', 9), ('·', 8), ('💀', 8), ('😩', 7), ('🐘', 7), ('😴', 7), ('😄', 7), ('😡', 7), ('🏿', 7), ('😊', 6), ('😏', 6), ('😀', 6), ('😭', 6), ('👉', 5), ('😎', 5), ('🏾', 5), ('\\U000fe4e6', 4), ('😒', 4), ('➡', 4), ('▀', 4), ('→', 4), ('¯', 4), ('‼', 4), ('😍', 4), ('😉', 4), ('✅', 4), ('😑', 4), ('✯', 4), ('•', 4), ('☑', 3), ('🎀', 3), ('😆', 3), ('》', 3), ('😕', 3), ('✔', 3), ('😶', 3), ('🍺', 3), ('^', 3), ('👌', 3), ('👴', 3), ('🔨', 3), ('ٌ', 2), ('█', 2), ('💢', 2), ('↓', 2), ('😜', 2), ('\\\\', 2), ('ツ', 2), ('`', 2), ('ə', 2), ('🎤', 2), ('😞', 2), ('�', 2), ('💁', 2), ('☢', 2), ('►', 2), ('◄', 2), ('⬆', 2), ('💥', 2), ('🙏', 2), ('😁', 2), ('🙈', 2), ('☞', 2), ('☜', 2), ('🎉', 2), ('🔥', 2), ('👭', 2), ('👨', 2), ('👶', 2), ('\\U000fe4ec', 2), ('✋', 2), ('👊', 2), ('😰', 1), ('📷', 1), ('⁰', 1), ('😳', 1), ('👓', 1), ('ˈ', 1), ('ˌ', 1), ('ā', 1), ('😐', 1), ('🍷', 1), ('💧', 1), ('🌷', 1), ('⚡', 1), ('🏽', 1), ('🎪', 1), ('💩', 1), ('↑', 1), ('⬇', 1), ('↔', 1), ('🗽', 1), ('😋', 1), ('😢', 1), ('🐍', 1), ('♀', 1), ('😬', 1), ('😯', 1), ('😲', 1), ('🌍', 1), ('📲', 1), ('💛', 1), ('―', 1), ('\\U000fe320', 1), ('\\U000fe327', 1), ('😠', 1), ('💪', 1), ('🔪', 1), ('🔇', 1), ('⇒', 1), ('🚀', 1), ('👋', 1), ('🙊', 1), ('👸', 1), ('👑', 1), ('😻', 1), ('👺', 1), ('💰', 1), ('💸', 1), ('🚷', 1), ('🚺', 1), ('🔫', 1), ('🍔', 1), ('💣', 1), ('🛃', 1), ('🚧', 1), ('🚔', 1), ('👀', 1), ('î', 1), ('ł', 1), ('é', 1), ('à', 1)]\n",
            "[' ', 'e', 't', 'a', 'o', 'i', 'n', 's', 'r', 'h', 'l', 'd', 'u', 'b', 'c', 'm', 'p', '#', 'g', 'y', 'G', 'D', 'O', 'P', 'w', '.', 'T', 'f', 'R', '@', ':', 'k', '/', 'v', 'S', 'I', 'W', 'C', \"'\", ',', 'A', 'F', 'B', 'N', 'M', 'x', 'H', '\"', 'L', 'E', '?', '…', '\\n', 'j', 'J', '1', 'z', '!', 'K', 'U', '0', '2', '🇺', '🇸', '-', 'Y', 'q', '6', ';', 'V', '&', '3', '4', '5', 'X', '9', '7', '8', 'Z', 'Q', '_', ')', '’', '(', '“', '”', '*', '😂', '%', '$', '=', '[', ']', '|', '+', '💨', '️', '—', '🏻', '~', '🏼', '‘', '–', '❤', '»', '👎', '📢', '👍', '👏', '\\xa0', '🙌', '・', '·', '💀', '😩', '🐘', '😴', '😄', '😡', '🏿', '😊', '😏', '😀', '😭', '👉', '😎', '🏾', '\\U000fe4e6', '😒', '➡', '▀', '→', '¯', '‼', '😍', '😉', '✅', '😑', '✯', '•', '☑', '🎀', '😆', '》', '😕', '✔', '😶', '🍺', '^', '👌', '👴', '🔨', 'ٌ', '█', '💢', '↓', '😜', '\\\\', 'ツ', '`', 'ə', '🎤', '😞', '�', '💁', '☢', '►', '◄', '⬆', '💥', '🙏', '😁', '🙈', '☞', '☜', '🎉', '🔥', '👭', '👨', '👶', '\\U000fe4ec', '✋', '👊', '😰', '📷', '⁰', '😳', '👓', 'ˈ', 'ˌ', 'ā', '😐', '🍷', '💧', '🌷', '⚡', '🏽', '🎪', '💩', '↑', '⬇', '↔', '🗽', '😋', '😢', '🐍', '♀', '😬', '😯', '😲', '🌍', '📲', '💛', '―', '\\U000fe320', '\\U000fe327', '😠', '💪', '🔪', '🔇', '⇒', '🚀', '👋', '🙊', '👸', '👑', '😻', '👺', '💰', '💸', '🚷', '🚺', '🔫', '🍔', '💣', '🛃', '🚧', '🚔', '👀', 'î', 'ł', 'é', 'à']\n"
          ],
          "name": "stdout"
        }
      ]
    },
    {
      "cell_type": "code",
      "metadata": {
        "id": "5a6Da8_wXmRN",
        "colab_type": "code",
        "colab": {
          "base_uri": "https://localhost:8080/",
          "height": 35
        },
        "outputId": "3a1fca28-dc2b-42bc-a3df-c817f4fc3af0"
      },
      "source": [
        "emoji = None\n",
        "for (char, num_occurance) in fdist.most_common():\n",
        "  if num_occurance == 95:\n",
        "    emoji = char\n",
        "\n",
        "print(emoji) "
      ],
      "execution_count": 102,
      "outputs": [
        {
          "output_type": "stream",
          "text": [
            "😂\n"
          ],
          "name": "stdout"
        }
      ]
    },
    {
      "cell_type": "code",
      "metadata": {
        "id": "G3J5dYLnDnkx",
        "colab_type": "code",
        "colab": {
          "base_uri": "https://localhost:8080/",
          "height": 35
        },
        "outputId": "8138df38-f7b1-447a-82e8-dcc185581a39"
      },
      "source": [
        "print(len(vocab))"
      ],
      "execution_count": 42,
      "outputs": [
        {
          "output_type": "stream",
          "text": [
            "243\n"
          ],
          "name": "stdout"
        }
      ]
    },
    {
      "cell_type": "code",
      "metadata": {
        "id": "WBg7ExM9Fam1",
        "colab_type": "code",
        "colab": {}
      },
      "source": [
        "word_index = {}\n",
        "word_index[\"<PAD>\"] = 0\n",
        "word_index[\"<START>\"] = 1\n",
        "word_index[\"<UNK>\"] = 2\n",
        "for index, word in enumerate(vocab):\n",
        "  word_index[word] = index+3"
      ],
      "execution_count": 17,
      "outputs": []
    },
    {
      "cell_type": "code",
      "metadata": {
        "id": "jdBlq_c0JV-c",
        "colab_type": "code",
        "colab": {
          "base_uri": "https://localhost:8080/",
          "height": 201
        },
        "outputId": "c00cbc36-e2b2-48b1-ec70-59f94218ee25"
      },
      "source": [
        "reverse_word_index = dict([(value, key) for (key, value) in word_index.items()])\n",
        "[(i, reverse_word_index.get(i)) for i in np.arange(10)]"
      ],
      "execution_count": 20,
      "outputs": [
        {
          "output_type": "execute_result",
          "data": {
            "text/plain": [
              "[(0, '<PAD>'),\n",
              " (1, '<START>'),\n",
              " (2, '<UNK>'),\n",
              " (3, ' '),\n",
              " (4, 'e'),\n",
              " (5, 't'),\n",
              " (6, 'a'),\n",
              " (7, 'o'),\n",
              " (8, 'i'),\n",
              " (9, 'n')]"
            ]
          },
          "metadata": {
            "tags": []
          },
          "execution_count": 20
        }
      ]
    },
    {
      "cell_type": "code",
      "metadata": {
        "id": "39cdCCSKJr4k",
        "colab_type": "code",
        "colab": {
          "base_uri": "https://localhost:8080/",
          "height": 35
        },
        "outputId": "a4805a07-7a4a-43d9-e45a-8cb1bab96bac"
      },
      "source": [
        "vocabulary_size = len(word_index.keys())\n",
        "vocabulary_size"
      ],
      "execution_count": 21,
      "outputs": [
        {
          "output_type": "execute_result",
          "data": {
            "text/plain": [
              "246"
            ]
          },
          "metadata": {
            "tags": []
          },
          "execution_count": 21
        }
      ]
    },
    {
      "cell_type": "code",
      "metadata": {
        "id": "rC5hAL1mJ3DG",
        "colab_type": "code",
        "colab": {}
      },
      "source": [
        "def encode_review(plain_text: str) -> List[int]:\n",
        "  return [word_index[token] if token in word_index.keys() else word_index[\"<UNK>\"] for token in list(plain_text)]\n",
        "\n",
        "def decode_review(encoded_text):\n",
        "  return ' '.join([reverse_word_index.get(i, '?') for i in encoded_text])"
      ],
      "execution_count": 24,
      "outputs": []
    },
    {
      "cell_type": "code",
      "metadata": {
        "id": "edvKcAGbKFfc",
        "colab_type": "code",
        "colab": {}
      },
      "source": [
        "def encode_decode_check(original_review):\n",
        "  print(\"\\n\")\n",
        "  print(f\"Original Review: {original_review}\")\n",
        "  encoded_review = encode_review(original_review)\n",
        "  print(f\"Encoded Review: {encoded_review}\")\n",
        "  decoded_review = decode_review(encoded_review)\n",
        "  print(f\"Decoded Review: {decoded_review}\")\n",
        "  same = decoded_review == original_review\n",
        "  print(f\"Decoded = Original: {same}\")"
      ],
      "execution_count": 25,
      "outputs": []
    },
    {
      "cell_type": "code",
      "metadata": {
        "id": "ERQKz8BrKMWN",
        "colab_type": "code",
        "colab": {
          "base_uri": "https://localhost:8080/",
          "height": 588
        },
        "outputId": "37b26ce9-5b63-4e84-9013-e6520f4b1b11"
      },
      "source": [
        "random_train_reviews = X_train[np.random.choice(len(data), 5)]\n",
        "random_train_reviews\n",
        "\n",
        "for review in random_train_reviews:\n",
        "  encode_decode_check(review)"
      ],
      "execution_count": 58,
      "outputs": [
        {
          "output_type": "stream",
          "text": [
            "\n",
            "\n",
            "Original Review: RT @Desdemona4U: It was unfathomable that @megynkelly would ask Wasserman-Schultz to do a postmortem on the #GOPDebates. #SURREAL https://t…\n",
            "Encoded Review: [31, 29, 3, 32, 24, 4, 10, 14, 4, 18, 7, 9, 6, 75, 62, 33, 3, 38, 5, 3, 27, 6, 10, 3, 15, 9, 30, 6, 5, 12, 7, 18, 6, 16, 13, 4, 3, 5, 12, 6, 5, 3, 32, 18, 4, 21, 22, 9, 34, 4, 13, 13, 22, 3, 27, 7, 15, 13, 14, 3, 6, 10, 34, 3, 39, 6, 10, 10, 4, 11, 18, 6, 9, 67, 37, 17, 12, 15, 13, 5, 59, 3, 5, 7, 3, 14, 7, 3, 6, 3, 19, 7, 10, 5, 18, 7, 11, 5, 4, 18, 3, 7, 9, 3, 5, 12, 4, 3, 20, 23, 25, 26, 24, 4, 16, 6, 5, 4, 10, 28, 3, 20, 37, 62, 31, 31, 52, 43, 51, 3, 12, 5, 5, 19, 10, 33, 35, 35, 5, 54]\n",
            "Decoded Review: R T   @ D e s d e m o n a 4 U :   I t   w a s   u n f a t h o m a b l e   t h a t   @ m e g y n k e l l y   w o u l d   a s k   W a s s e r m a n - S c h u l t z   t o   d o   a   p o s t m o r t e m   o n   t h e   # G O P D e b a t e s .   # S U R R E A L   h t t p s : / / t …\n",
            "Decoded = Original: False\n",
            "\n",
            "\n",
            "Original Review: Recap of 5 unforgettable moments from the #GOPdebate last night: http://t.co/w4LmLQ5oVR\n",
            "Encoded Review: [31, 4, 17, 6, 19, 3, 7, 30, 3, 76, 3, 15, 9, 30, 7, 11, 21, 4, 5, 5, 6, 16, 13, 4, 3, 18, 7, 18, 4, 9, 5, 10, 3, 30, 11, 7, 18, 3, 5, 12, 4, 3, 20, 23, 25, 26, 14, 4, 16, 6, 5, 4, 3, 13, 6, 10, 5, 3, 9, 8, 21, 12, 5, 33, 3, 12, 5, 5, 19, 33, 35, 35, 5, 28, 17, 7, 35, 27, 75, 51, 18, 51, 82, 76, 7, 72, 31]\n",
            "Decoded Review: R e c a p   o f   5   u n f o r g e t t a b l e   m o m e n t s   f r o m   t h e   # G O P d e b a t e   l a s t   n i g h t :   h t t p : / / t . c o / w 4 L m L Q 5 o V R\n",
            "Decoded = Original: False\n",
            "\n",
            "\n",
            "Original Review: Retrospect. I liked way @ScottWalker was respectfully #listening to other candidates in #gopdebate pictures. Very revealing.\n",
            "Encoded Review: [31, 4, 5, 11, 7, 10, 19, 4, 17, 5, 28, 3, 38, 3, 13, 8, 34, 4, 14, 3, 27, 6, 22, 3, 32, 37, 17, 7, 5, 5, 39, 6, 13, 34, 4, 11, 3, 27, 6, 10, 3, 11, 4, 10, 19, 4, 17, 5, 30, 15, 13, 13, 22, 3, 20, 13, 8, 10, 5, 4, 9, 8, 9, 21, 3, 5, 7, 3, 7, 5, 12, 4, 11, 3, 17, 6, 9, 14, 8, 14, 6, 5, 4, 10, 3, 8, 9, 3, 20, 21, 7, 19, 14, 4, 16, 6, 5, 4, 3, 19, 8, 17, 5, 15, 11, 4, 10, 28, 3, 72, 4, 11, 22, 3, 11, 4, 36, 4, 6, 13, 8, 9, 21, 28]\n",
            "Decoded Review: R e t r o s p e c t .   I   l i k e d   w a y   @ S c o t t W a l k e r   w a s   r e s p e c t f u l l y   # l i s t e n i n g   t o   o t h e r   c a n d i d a t e s   i n   # g o p d e b a t e   p i c t u r e s .   V e r y   r e v e a l i n g .\n",
            "Decoded = Original: False\n",
            "\n",
            "\n",
            "Original Review: @megynkelly i thought you were the worst of the 3 moderates last night. not trolling just saying. @foxnews #GOPDebate\n",
            "Encoded Review: [32, 18, 4, 21, 22, 9, 34, 4, 13, 13, 22, 3, 8, 3, 5, 12, 7, 15, 21, 12, 5, 3, 22, 7, 15, 3, 27, 4, 11, 4, 3, 5, 12, 4, 3, 27, 7, 11, 10, 5, 3, 7, 30, 3, 5, 12, 4, 3, 74, 3, 18, 7, 14, 4, 11, 6, 5, 4, 10, 3, 13, 6, 10, 5, 3, 9, 8, 21, 12, 5, 28, 3, 9, 7, 5, 3, 5, 11, 7, 13, 13, 8, 9, 21, 3, 56, 15, 10, 5, 3, 10, 6, 22, 8, 9, 21, 28, 3, 32, 30, 7, 48, 9, 4, 27, 10, 3, 20, 23, 25, 26, 24, 4, 16, 6, 5, 4]\n",
            "Decoded Review: @ m e g y n k e l l y   i   t h o u g h t   y o u   w e r e   t h e   w o r s t   o f   t h e   3   m o d e r a t e s   l a s t   n i g h t .   n o t   t r o l l i n g   j u s t   s a y i n g .   @ f o x n e w s   # G O P D e b a t e\n",
            "Decoded = Original: False\n",
            "\n",
            "\n",
            "Original Review: RT @mandy_velez: So trans soldiers can die for you Huckabee but you can't foot the bill to make them fulfilled as human beings? Really? #GO…\n",
            "Encoded Review: [31, 29, 3, 32, 18, 6, 9, 14, 22, 83, 36, 4, 13, 4, 59, 33, 3, 37, 7, 3, 5, 11, 6, 9, 10, 3, 10, 7, 13, 14, 8, 4, 11, 10, 3, 17, 6, 9, 3, 14, 8, 4, 3, 30, 7, 11, 3, 22, 7, 15, 3, 49, 15, 17, 34, 6, 16, 4, 4, 3, 16, 15, 5, 3, 22, 7, 15, 3, 17, 6, 9, 41, 5, 3, 30, 7, 7, 5, 3, 5, 12, 4, 3, 16, 8, 13, 13, 3, 5, 7, 3, 18, 6, 34, 4, 3, 5, 12, 4, 18, 3, 30, 15, 13, 30, 8, 13, 13, 4, 14, 3, 6, 10, 3, 12, 15, 18, 6, 9, 3, 16, 4, 8, 9, 21, 10, 53, 3, 31, 4, 6, 13, 13, 22, 53, 3, 20, 23, 25, 54]\n",
            "Decoded Review: R T   @ m a n d y _ v e l e z :   S o   t r a n s   s o l d i e r s   c a n   d i e   f o r   y o u   H u c k a b e e   b u t   y o u   c a n ' t   f o o t   t h e   b i l l   t o   m a k e   t h e m   f u l f i l l e d   a s   h u m a n   b e i n g s ?   R e a l l y ?   # G O …\n",
            "Decoded = Original: False\n"
          ],
          "name": "stdout"
        }
      ]
    },
    {
      "cell_type": "code",
      "metadata": {
        "id": "OsxwJy7iO2KB",
        "colab_type": "code",
        "colab": {
          "base_uri": "https://localhost:8080/",
          "height": 588
        },
        "outputId": "9c463ad4-edda-4866-e70e-a913eb269288"
      },
      "source": [
        "random_test_reviews = X_test[np.random.choice(len(X_test), 5)]\n",
        "random_test_reviews\n",
        "\n",
        "for review in random_test_reviews:\n",
        "  encode_decode_check(review)"
      ],
      "execution_count": 64,
      "outputs": [
        {
          "output_type": "stream",
          "text": [
            "\n",
            "\n",
            "Original Review: RT @RWSurferGirl: Is it just me or does anyone else want to punch Chris Wallace in the face? #GOPDebate  #GOPDebates 🇺🇸\n",
            "Encoded Review: [31, 29, 3, 32, 31, 39, 37, 15, 11, 30, 4, 11, 23, 8, 11, 13, 33, 3, 38, 10, 3, 8, 5, 3, 56, 15, 10, 5, 3, 18, 4, 3, 7, 11, 3, 14, 7, 4, 10, 3, 6, 9, 22, 7, 9, 4, 3, 4, 13, 10, 4, 3, 27, 6, 9, 5, 3, 5, 7, 3, 19, 15, 9, 17, 12, 3, 40, 12, 11, 8, 10, 3, 39, 6, 13, 13, 6, 17, 4, 3, 8, 9, 3, 5, 12, 4, 3, 30, 6, 17, 4, 53, 3, 20, 23, 25, 26, 24, 4, 16, 6, 5, 4, 3, 3, 20, 23, 25, 26, 24, 4, 16, 6, 5, 4, 10, 3, 65, 66]\n",
            "Decoded Review: R T   @ R W S u r f e r G i r l :   I s   i t   j u s t   m e   o r   d o e s   a n y o n e   e l s e   w a n t   t o   p u n c h   C h r i s   W a l l a c e   i n   t h e   f a c e ?   # G O P D e b a t e     # G O P D e b a t e s   🇺 🇸\n",
            "Decoded = Original: False\n",
            "\n",
            "\n",
            "Original Review: BWAHAHA!! Love this #tweet! #GOPDebate #GOPDebates  https://t.co/NZiNvXFDCD\n",
            "Encoded Review: [45, 39, 43, 49, 43, 49, 43, 60, 60, 3, 51, 7, 36, 4, 3, 5, 12, 8, 10, 3, 20, 5, 27, 4, 4, 5, 60, 3, 20, 23, 25, 26, 24, 4, 16, 6, 5, 4, 3, 20, 23, 25, 26, 24, 4, 16, 6, 5, 4, 10, 3, 3, 12, 5, 5, 19, 10, 33, 35, 35, 5, 28, 17, 7, 35, 46, 81, 8, 46, 36, 77, 44, 24, 40, 24]\n",
            "Decoded Review: B W A H A H A ! !   L o v e   t h i s   # t w e e t !   # G O P D e b a t e   # G O P D e b a t e s     h t t p s : / / t . c o / N Z i N v X F D C D\n",
            "Decoded = Original: False\n",
            "\n",
            "\n",
            "Original Review: RT @Beem_Skeem: #GOPDebate JUSTICE IN AMERICA #SANDRABLAND #BlackLivesMatter http://t.co/r0xXbgvQb3\n",
            "Encoded Review: [31, 29, 3, 32, 45, 4, 4, 18, 83, 37, 34, 4, 4, 18, 33, 3, 20, 23, 25, 26, 24, 4, 16, 6, 5, 4, 3, 57, 62, 37, 29, 38, 40, 52, 3, 38, 46, 3, 43, 47, 52, 31, 38, 40, 43, 3, 20, 37, 43, 46, 24, 31, 43, 45, 51, 43, 46, 24, 3, 20, 45, 13, 6, 17, 34, 51, 8, 36, 4, 10, 47, 6, 5, 5, 4, 11, 3, 12, 5, 5, 19, 33, 35, 35, 5, 28, 17, 7, 35, 11, 63, 48, 77, 16, 21, 36, 82, 16, 74]\n",
            "Decoded Review: R T   @ B e e m _ S k e e m :   # G O P D e b a t e   J U S T I C E   I N   A M E R I C A   # S A N D R A B L A N D   # B l a c k L i v e s M a t t e r   h t t p : / / t . c o / r 0 x X b g v Q b 3\n",
            "Decoded = Original: False\n",
            "\n",
            "\n",
            "Original Review: RT @saladinahmed: Clear winner of last night's #GOPdebate. http://t.co/MdueysEDLR\n",
            "Encoded Review: [31, 29, 3, 32, 10, 6, 13, 6, 14, 8, 9, 6, 12, 18, 4, 14, 33, 3, 40, 13, 4, 6, 11, 3, 27, 8, 9, 9, 4, 11, 3, 7, 30, 3, 13, 6, 10, 5, 3, 9, 8, 21, 12, 5, 41, 10, 3, 20, 23, 25, 26, 14, 4, 16, 6, 5, 4, 28, 3, 12, 5, 5, 19, 33, 35, 35, 5, 28, 17, 7, 35, 47, 14, 15, 4, 22, 10, 52, 24, 51, 31]\n",
            "Decoded Review: R T   @ s a l a d i n a h m e d :   C l e a r   w i n n e r   o f   l a s t   n i g h t ' s   # G O P d e b a t e .   h t t p : / / t . c o / M d u e y s E D L R\n",
            "Decoded = Original: False\n",
            "\n",
            "\n",
            "Original Review: All #GOP candidates want to reduce taxes while #Huckabee wants to legalize prostitution and drugs so we can tax it. #GOPDebate\n",
            "Encoded Review: [43, 13, 13, 3, 20, 23, 25, 26, 3, 17, 6, 9, 14, 8, 14, 6, 5, 4, 10, 3, 27, 6, 9, 5, 3, 5, 7, 3, 11, 4, 14, 15, 17, 4, 3, 5, 6, 48, 4, 10, 3, 27, 12, 8, 13, 4, 3, 20, 49, 15, 17, 34, 6, 16, 4, 4, 3, 27, 6, 9, 5, 10, 3, 5, 7, 3, 13, 4, 21, 6, 13, 8, 59, 4, 3, 19, 11, 7, 10, 5, 8, 5, 15, 5, 8, 7, 9, 3, 6, 9, 14, 3, 14, 11, 15, 21, 10, 3, 10, 7, 3, 27, 4, 3, 17, 6, 9, 3, 5, 6, 48, 3, 8, 5, 28, 3, 20, 23, 25, 26, 24, 4, 16, 6, 5, 4]\n",
            "Decoded Review: A l l   # G O P   c a n d i d a t e s   w a n t   t o   r e d u c e   t a x e s   w h i l e   # H u c k a b e e   w a n t s   t o   l e g a l i z e   p r o s t i t u t i o n   a n d   d r u g s   s o   w e   c a n   t a x   i t .   # G O P D e b a t e\n",
            "Decoded = Original: False\n"
          ],
          "name": "stdout"
        }
      ]
    },
    {
      "cell_type": "code",
      "metadata": {
        "id": "Ju0xEz03KVp1",
        "colab_type": "code",
        "colab": {}
      },
      "source": [
        "X_train_encoded = [encode_review(review) for review in X_train]\n",
        "X_test_encoded = [encode_review(review) for review in X_test]"
      ],
      "execution_count": 59,
      "outputs": []
    },
    {
      "cell_type": "code",
      "metadata": {
        "id": "H0cpgQ_RLVZb",
        "colab_type": "code",
        "colab": {}
      },
      "source": [
        "from tensorflow.keras.preprocessing import sequence\n",
        "\n",
        "X_train_encoded = sequence.pad_sequences(X_train_encoded, maxlen=time_steps)\n",
        "X_test_encoded = sequence.pad_sequences(X_test_encoded, maxlen=time_steps)"
      ],
      "execution_count": 61,
      "outputs": []
    },
    {
      "cell_type": "code",
      "metadata": {
        "id": "4qhAnUqhOtT1",
        "colab_type": "code",
        "colab": {
          "base_uri": "https://localhost:8080/",
          "height": 862
        },
        "outputId": "843c7e41-e3f1-47db-87ed-656536772439"
      },
      "source": [
        "X_train_encoded[0:5]"
      ],
      "execution_count": 62,
      "outputs": [
        {
          "output_type": "execute_result",
          "data": {
            "text/plain": [
              "array([[ 0,  0,  0,  0,  0,  0,  0,  0,  0,  0,  0,  0,  0,  0,  0,  0,\n",
              "         0,  0,  0,  0,  0,  0,  0, 31, 29,  3, 32, 31, 39, 37, 15, 11,\n",
              "        30,  4, 11, 23,  8, 11, 13, 33,  3, 39,  4,  3,  5, 12,  4,  3,\n",
              "        43, 18,  4, 11,  8, 17,  6,  9,  3, 19,  4,  7, 19, 13,  4,  3,\n",
              "        19,  8, 17, 34,  3,  5, 12,  4,  3,  9,  4, 48,  5,  3, 26, 11,\n",
              "         4, 10,  8, 14,  4,  9,  5,  3,  7, 30,  3, 62,  9,  8,  5,  4,\n",
              "        14,  3, 37,  5,  6,  5,  4, 10,  3,  9,  7,  5,  3, 44, 25, 77,\n",
              "         3, 46,  4, 27, 10,  3, 65, 66,  3, 20, 23, 25, 26, 24,  4, 16,\n",
              "         6,  5,  4,  3,  3, 20, 23, 25, 26, 24,  4, 16,  6,  5,  4, 10],\n",
              "       [ 0,  0,  0,  0,  0,  0,  0,  0,  0,  0,  0,  0,  0,  0,  0,  0,\n",
              "         0,  0,  0,  0,  0,  0,  0,  0,  0,  0,  0,  0,  0,  0,  0,  0,\n",
              "         0,  0,  0,  0,  0,  0,  0,  0,  0, 31, 29,  3, 32, 61,  4, 36,\n",
              "        77, 38,  9, 14, 22, 33,  3, 38,  3, 10,  4, 11,  8,  7, 15, 10,\n",
              "        13, 22,  3, 27,  8, 10, 12,  3, 32, 57,  6, 18,  4, 10, 31,  7,\n",
              "        10,  4,  9, 44, 46, 40,  3, 27,  6, 10,  3,  7,  9,  4,  3,  7,\n",
              "        30,  3,  5,  7,  9,  8, 21, 12,  5, 41, 10,  3, 18,  7, 14,  4,\n",
              "        11,  6,  5,  7, 11, 10,  3, 20, 44, 25, 77, 46, 52, 39, 37, 24,\n",
              "        52, 45, 43, 29, 52,  3, 20, 23, 25, 26, 24,  4, 16,  6,  5,  4],\n",
              "       [ 0,  0,  0,  0,  0,  0,  0,  0,  0,  0,  0,  0, 20, 29, 11, 15,\n",
              "        18, 19,  3, 21,  4,  5,  5,  8,  9, 21,  3, 10, 12,  8,  5,  3,\n",
              "        30,  7, 11,  3, 11,  6,  8, 10,  8,  9, 21,  3, 12,  8, 10,  3,\n",
              "        12,  6,  9, 14,  3, 13,  6, 10,  5,  3,  9,  8, 21, 12,  5, 60,\n",
              "         3, 47,  6, 34,  4,  3, 50, 43, 18,  4, 11,  8, 17,  6, 50,  3,\n",
              "        21, 11,  4,  6,  5,  3,  6, 21,  6,  8,  9,  3,  8, 10,  3,  5,\n",
              "        12,  4,  3, 10, 13,  7, 21,  6,  9, 60,  3, 46,  7,  5,  3, 50,\n",
              "        31,  4, 19, 15, 16, 13,  8, 17,  6,  9, 10, 60, 50,  3, 20, 23,\n",
              "        25, 26, 24,  4, 16,  6,  5,  4,  3,  3,  3,  3,  3, 20, 58, 74],\n",
              "       [ 0,  0,  0,  0,  0,  0,  0,  0,  0,  0,  0,  0,  0,  0,  0,  0,\n",
              "         0,  0,  0,  0,  0,  0,  0,  0,  0,  0,  0,  0,  0,  0, 31, 29,\n",
              "         3, 32, 26,  7, 13,  8,  5,  8, 17,  6, 13, 43,  9,  5, 33,  3,\n",
              "        20, 47,  6, 11, 17,  7, 31, 15, 16,  8,  7,  3, 13,  8,  4, 14,\n",
              "         3, 27, 12,  4,  9,  3, 12,  4,  3, 10,  6,  8, 14,  3, 12,  4,\n",
              "         3, 12,  6, 14,  3,  9,  4, 36,  4, 11,  3,  6, 14, 36,  7, 17,\n",
              "         6,  5,  4, 14,  3, 30,  7, 11,  3,  4, 48, 17,  4, 19,  5,  8,\n",
              "         7,  9, 10,  3,  5,  7,  3,  6, 16,  7, 11,  5,  8,  7,  9,  3,\n",
              "        16,  6,  9, 10, 28,  3, 20, 23, 25, 26, 14,  4, 16,  6,  5,  4],\n",
              "       [ 0,  0,  0,  0,  0,  0,  0, 31, 29,  3, 32, 56, 10, 17, 58, 80,\n",
              "        74, 76, 33,  3, 57,  4, 16, 16, 22,  3,  5,  6, 13, 34,  8,  9,\n",
              "        21,  3, 17, 12,  6,  9, 21,  8,  9, 21,  3,  5,  6, 48,  3, 17,\n",
              "         7, 14,  4,  3,  5,  7,  3, 30,  8, 48,  3, 50, 56,  7, 16,  3,\n",
              "        34,  8, 13, 13,  4, 11, 10, 50, 28,  3,  3, 38, 10,  3,  5, 12,\n",
              "         6,  5,  3, 57,  4, 16, 10, 19,  4,  6, 34,  3, 30,  7, 11,  3,\n",
              "        21,  8, 36,  4,  3, 17,  7, 11, 19,  7, 11,  6,  5,  8,  7,  9,\n",
              "        10,  3, 18,  7, 11,  4,  3,  5,  6, 48,  3, 16, 11,  4,  6, 34,\n",
              "        10, 53,  3,  3,  3, 20, 23, 25, 26, 24,  4, 16,  6,  5,  4, 10]],\n",
              "      dtype=int32)"
            ]
          },
          "metadata": {
            "tags": []
          },
          "execution_count": 62
        }
      ]
    },
    {
      "cell_type": "code",
      "metadata": {
        "id": "g1-iJ2nOOwJ4",
        "colab_type": "code",
        "colab": {
          "base_uri": "https://localhost:8080/",
          "height": 862
        },
        "outputId": "a12159c5-028d-4880-bc64-76059f6331fd"
      },
      "source": [
        "X_test_encoded[0:5]"
      ],
      "execution_count": 63,
      "outputs": [
        {
          "output_type": "execute_result",
          "data": {
            "text/plain": [
              "array([[ 0,  0,  0,  0,  0,  0,  0,  0,  0,  0,  0,  0,  0,  0,  0,  0,\n",
              "         0,  0,  0,  0,  0,  0,  0,  0,  0,  0,  0,  0,  0,  0,  0,  0,\n",
              "         0,  0,  0,  0,  0,  0,  0,  0,  0,  0,  0,  0,  0,  0,  0,  0,\n",
              "         0,  0,  0,  0,  0,  0,  0,  0,  0,  0,  0,  0,  0,  0,  0,  0,\n",
              "         0,  0,  0,  0, 29,  7,  3, 18,  4, 42,  3,  5, 12,  4,  3, 11,\n",
              "         4,  6, 13,  3, 27,  8,  9,  9,  4, 11,  3,  7, 30,  3, 13,  6,\n",
              "        10,  5,  3,  9,  8, 21, 12,  5,  3, 20, 23, 25, 26, 24,  4, 16,\n",
              "         6,  5,  4,  3, 27,  6, 10,  3, 32, 18,  4, 21, 22,  9, 34,  4,\n",
              "        13, 13, 22, 28,  3, 20, 47,  4, 21, 22,  9, 61,  4, 13, 13, 22],\n",
              "       [ 0,  0,  0,  0, 31, 29,  3, 32, 24,  6,  9, 37, 17,  6, 36,  8,\n",
              "         9,  7, 33,  3, 28, 32, 18,  4, 21, 22,  9, 34,  4, 13, 13, 22,\n",
              "        42, 55, 37,  7, 18,  4,  3, 11,  4, 10, 15, 13,  5, 10,  3,  7,\n",
              "         9,  3, 12,  7, 27,  3, 17,  6,  9, 14,  8, 14,  6,  5,  4, 10,\n",
              "         3, 14,  8, 14,  3,  6,  5,  3, 20, 23, 25, 26, 24,  4, 16,  6,\n",
              "         5,  4, 28,  3, 20, 47,  6, 34,  4, 43, 18,  4, 11,  8, 17,  6,\n",
              "        23, 11,  4,  6,  5, 43, 21,  6,  8,  9,  3, 20, 29, 11, 15, 18,\n",
              "        19, 64, 63, 58, 70,  3, 20, 61,  4, 13, 13, 22, 44,  6,  8, 13,\n",
              "         4, 14,  3, 12,  5,  5, 19, 33, 35, 35,  5, 28, 17,  7, 35, 54],\n",
              "       [ 0,  0,  0,  0,  0,  0,  0,  0,  0,  0,  0,  0,  0,  0,  0,  0,\n",
              "         0,  0,  0,  0,  0,  0,  0,  0,  0,  0,  0,  0,  0,  0,  0,  0,\n",
              "         0,  0,  0,  0,  0,  0,  0,  0,  0,  0,  0,  0,  0,  0,  0,  0,\n",
              "         0,  0,  0,  0,  0,  0,  0,  0,  0,  0,  0,  0,  0,  0,  0,  0,\n",
              "         0,  0,  0,  0,  0,  0, 38, 41, 18,  3, 21,  7,  8,  9, 21,  3,\n",
              "         5,  7,  3, 16,  4, 14, 28, 28, 28, 32, 57,  7, 12,  9, 61,  6,\n",
              "        10,  8, 17, 12,  3, 21,  4,  5, 10,  3, 18, 22,  3, 36,  7,  5,\n",
              "         4,  3,  5,  7,  9,  8, 21, 12,  5,  3, 20, 23, 25, 26, 24,  4,\n",
              "        16,  6,  5,  4,  3, 20, 23, 25, 26, 24,  4, 16,  6,  5,  4, 10],\n",
              "       [ 0,  0,  0,  0,  0,  0,  0,  0,  0,  0,  0,  0,  0,  0,  0,  0,\n",
              "         0,  0,  0,  0,  0,  0,  0,  0,  0,  0,  0,  0,  0,  0,  0,  0,\n",
              "         0,  0,  0,  0,  0,  0,  0,  0,  0,  0,  0,  0, 32, 44,  7, 48,\n",
              "        46,  4, 27, 10,  3,  3,  6, 30,  5,  4, 11,  3, 13,  6, 10,  5,\n",
              "         3,  9,  8, 21, 12,  5, 41, 10,  3, 20, 23, 25, 26, 24,  4, 16,\n",
              "         6,  5,  4,  3,  3, 32, 31,  4,  6, 13, 45,  4,  9, 40,  6, 11,\n",
              "        10,  7,  9,  3, 32, 23,  7, 36, 47,  8, 34,  4, 49, 15, 17, 34,\n",
              "         6, 16,  4,  4,  3,  3, 12,  6, 36,  4,  3,  4, 18,  4, 11, 21,\n",
              "         4, 14,  3,  6, 10,  3, 18, 22,  3,  5,  7, 19,  3,  5, 27,  7],\n",
              "       [ 0,  0,  0,  0,  0,  0,  0,  0,  0,  0,  0,  0,  0,  0,  0,  0,\n",
              "         0,  0,  0,  0,  0,  0,  0, 31, 29,  3, 32, 29, 40, 26,  6, 13,\n",
              "        18, 61, 23,  6, 11, 14,  9,  4, 11, 33,  3, 39, 12,  7,  3,  5,\n",
              "         7, 13, 14,  3,  5, 12,  4,  3,  5, 11, 15,  5, 12,  3,  6,  9,\n",
              "        14,  3, 27, 12,  7, 10,  4,  3, 19,  6,  9,  5, 10,  3,  6, 11,\n",
              "         4,  3,  7,  9,  3, 30,  8, 11,  4,  3, 30, 11,  7, 18,  3, 13,\n",
              "         6, 10,  5,  3,  9,  8, 21, 12,  5, 41, 10,  3, 20, 23, 25, 26,\n",
              "        24,  4, 16,  6,  5,  4, 53,  3, 12,  5,  5, 19, 33, 35, 35,  5,\n",
              "        28, 17,  7, 35, 39, 12, 51, 61, 52, 34, 69, 64, 44, 47,  3, 54]],\n",
              "      dtype=int32)"
            ]
          },
          "metadata": {
            "tags": []
          },
          "execution_count": 63
        }
      ]
    },
    {
      "cell_type": "code",
      "metadata": {
        "id": "WQCR5F8EOzE1",
        "colab_type": "code",
        "colab": {}
      },
      "source": [
        "import tensorflow as tf\n",
        "from tensorflow.keras import Sequential\n",
        "from tensorflow.keras.layers import Embedding, Dense, Dropout\n",
        "from tensorflow.keras.layers import SimpleRNN as RNN\n",
        "from tensorflow.keras.layers import LSTM as LSTM\n",
        "from tensorflow.keras.layers import GRU as GRU"
      ],
      "execution_count": 65,
      "outputs": []
    },
    {
      "cell_type": "code",
      "metadata": {
        "id": "KklDFGZzO-0d",
        "colab_type": "code",
        "colab": {}
      },
      "source": [
        "import matplotlib.pyplot as plt\n",
        "%matplotlib inline\n",
        "\n",
        "def plot_metrics(history: tf.python.keras.callbacks.History, metrics: List[str] = ['loss'], figsize: Tuple[int, int] = (10,4), title: str = \"Train/Test Curves\", titlefontsize:int = 14):\n",
        "  \"\"\"\n",
        "  This functin will plot the metrics for the model\n",
        "  :param history: The history object obtained from the fit function.\n",
        "  :type history: tf.python.keras.callbacks.History\n",
        "  :param metrics: What metrics to plot for the model (Default = ['loss'])\n",
        "  :type metrics: List[str]\n",
        "  :param figsize: Figure size to be used for plotting (Default = (10,4))\n",
        "  :type figsize: Tuple(int,int)\n",
        "  \"\"\"\n",
        "  num_plots = len(metrics)\n",
        "  fig, axes = plt.subplots(int(num_plots/2), 2, figsize=figsize)\n",
        "\n",
        "  for num, metric in enumerate(metrics):\n",
        "    # summarize history for metric\n",
        "    if num <= 2:\n",
        "      axes[num%2].plot(history.history[metric])\n",
        "      axes[num%2].plot(history.history['val_' + metric])\n",
        "      axes[num%2].set_title('Model ' + metric)\n",
        "      axes[num%2].set(xlabel='Epoch', ylabel=metric)\n",
        "      axes[num%2].legend(['train', 'val'], loc='best')    \n",
        "    else:\n",
        "      axes[floor(num/2), num%2].plot(history.history[metric])\n",
        "      axes[floor(num/2), num%2].plot(history.history['val_' + metric])\n",
        "      axes[floor(num/2), num%2].set_title('Model ' + metric)\n",
        "      axes[floor(num/2), num%2].set(xlabel='Epoch', ylabel=metric)\n",
        "      axes[floor(num/2), num%2].legend(['train', 'val'], loc='best')\n",
        "\n",
        "  plt.suptitle(title, fontsize=titlefontsize, y=1.02)    \n",
        "  plt.tight_layout()\n",
        "  _ = plt.show"
      ],
      "execution_count": 68,
      "outputs": []
    },
    {
      "cell_type": "code",
      "metadata": {
        "id": "MWs-a9b7PBiZ",
        "colab_type": "code",
        "colab": {}
      },
      "source": [
        "from tensorflow.keras.callbacks import EarlyStopping\n",
        "# If validation error does not improve for 10 epochs, then terminate the training\n",
        "es = EarlyStopping(min_delta=0,patience=10)"
      ],
      "execution_count": 69,
      "outputs": []
    },
    {
      "cell_type": "code",
      "metadata": {
        "id": "sTlZ2fOOPIm3",
        "colab_type": "code",
        "colab": {}
      },
      "source": [
        "# import other libs as needed for building model\n",
        "from tensorflow.keras.callbacks import ModelCheckpoint\n",
        "\n",
        "# add a checkpoint to save the lowest validation loss\n",
        "filepath = '.'\n",
        "\n",
        "checkpoint = ModelCheckpoint(filepath, monitor='val_loss', verbose=1, \n",
        "                             save_best_only=True, save_weights_only=False, \n",
        "                             mode='auto', save_frequency=1)"
      ],
      "execution_count": 70,
      "outputs": []
    },
    {
      "cell_type": "code",
      "metadata": {
        "id": "hgMBsfCHPJNx",
        "colab_type": "code",
        "colab": {}
      },
      "source": [
        "def create_model(\n",
        "    vocabulary_size: int,\n",
        "    time_steps: int,\n",
        "    embedding_size: int,\n",
        "    num_classes: int,\n",
        "    type: str = 'lstm',\n",
        "    num_neuron: int=100,\n",
        "    dropout: float=0,\n",
        "    recurrent_dropout: float=0\n",
        "    ) -> tf.keras.layers.Layer:\n",
        "  \"\"\"\n",
        "  Creates a Sequence Model with the passed parameters\n",
        "  :param vocabulary_size Size of the Vocabulary\n",
        "  :type vocabulary_size int\n",
        "  :param time_steps Number of steps in the sequence (e.g. length of sentence)\n",
        "  :type time_steps int\n",
        "  :param embedding_size Size of the Embedding \n",
        "  :type embedding_size int\n",
        "  :param type Type of sequence model (Options: 'simple_rnn', 'lstm' or 'gru' (Default: 'lstm')\n",
        "  :type type str\n",
        "  :param num_neuron Number of neurons to be passed to the \"cell\"\n",
        "  :type num_neuron int\n",
        "  :param dropout Amount of dropout to use between the memory layer and the fully connected layer\n",
        "  :type dropout float\n",
        "  :param recurrent_dropout Amount of recurrent dropout to use\n",
        "  :type recurrent_dropout float\n",
        "  :rtype tf.keras.layers.Layer\n",
        "  \"\"\"\n",
        "  model = Sequential()\n",
        "  model.add(Embedding(vocabulary_size, embedding_size, input_length=time_steps))\n",
        "  if type.lower() == 'simple_rnn':\n",
        "    model.add(RNN(num_neuron, recurrent_dropout=recurrent_dropout))\n",
        "  elif type.lower() == 'lstm':\n",
        "    model.add(LSTM(num_neuron, recurrent_dropout=recurrent_dropout))\n",
        "  elif type.lower() == 'gru':\n",
        "    model.add(GRU(num_neuron, recurrent_dropout=recurrent_dropout))\n",
        "  else:\n",
        "    sys.exit(\"You have not passed the right argument for type.\")\n",
        "  model.add(Dropout(dropout))\n",
        "  model.add(Dense(num_classes, activation='softmax'))\n",
        "  model.compile(loss='sparse_categorical_crossentropy', optimizer='adam', metrics=['accuracy'])\n",
        "  return model\n",
        "\n",
        "def create_simple_rnn_model(vocabulary_size: int, time_steps: int, embedding_size: int, num_classes: int, num_neuron: int=100, dropout: float=0, recurrent_dropout: float=0) -> tf.keras.layers.Layer:\n",
        "  \"\"\"\n",
        "  Creates a Simple RNN Model with the passed parameters\n",
        "  :param vocabulary_size Size of the Vocabulary\n",
        "  :type vocabulary_size int\n",
        "  :param time_steps Number of steps in the sequence (e.g. length of sentence)\n",
        "  :type time_steps int\n",
        "  :param embedding_size Size of the Embedding \n",
        "  :type embedding_size int\n",
        "  :param num_neuron Number of neurons to be passed to the \"cell\"\n",
        "  :type num_neuron int\n",
        "  :param dropout Amount of dropout to use between the memory layer and the fully connected layer\n",
        "  :type dropout float\n",
        "  :param recurrent_dropout Amount of recurrent dropout to use\n",
        "  :type recurrent_dropout float\n",
        "  :rtype tf.keras.layers.Layer\n",
        "  \"\"\"\n",
        "  model = create_model(vocabulary_size, time_steps, embedding_size, num_classes, 'simple_rnn', num_neuron, dropout, recurrent_dropout)\n",
        "  return model\n",
        "\n",
        "def create_lstm_model(vocabulary_size: int, time_steps: int, embedding_size: int, num_classes: int, num_neuron: int=100, dropout: float=0, recurrent_dropout: float=0) -> tf.keras.layers.Layer:\n",
        "  \"\"\"\n",
        "  Creates a LSTM Model with the passed parameters\n",
        "  :param vocabulary_size Size of the Vocabulary\n",
        "  :type vocabulary_size int\n",
        "  :param time_steps Number of steps in the sequence (e.g. length of sentence)\n",
        "  :type time_steps int\n",
        "  :param embedding_size Size of the Embedding \n",
        "  :type embedding_size int\n",
        "  :param num_neuron Number of neurons to be passed to the \"cell\"\n",
        "  :type num_neuron int\n",
        "  :param dropout Amount of dropout to use between the memory layer and the fully connected layer\n",
        "  :type dropout float\n",
        "  :param recurrent_dropout Amount of recurrent dropout to use\n",
        "  :type recurrent_dropout float\n",
        "  :rtype tf.keras.layers.Layer\n",
        "  \"\"\"\n",
        "  model = create_model(vocabulary_size, time_steps, embedding_size, num_classes, 'lstm', num_neuron, dropout, recurrent_dropout)\n",
        "  return model\n",
        "\n",
        "def create_gru_model(vocabulary_size: int, time_steps: int, embedding_size: int, num_classes: int, num_neuron: int=100, dropout: float=0, recurrent_dropout: float=0) -> tf.keras.layers.Layer:\n",
        "  \"\"\"\n",
        "  Creates a GRU Model with the passed parameters\n",
        "  :param vocabulary_size Size of the Vocabulary\n",
        "  :type vocabulary_size int\n",
        "  :param time_steps Number of steps in the sequence (e.g. length of sentence)\n",
        "  :type time_steps int\n",
        "  :param embedding_size Size of the Embedding \n",
        "  :type embedding_size int\n",
        "  :param num_neuron Number of neurons to be passed to the \"cell\"\n",
        "  :type num_neuron int\n",
        "  :param dropout Amount of dropout to use between the memory layer and the fully connected layer\n",
        "  :type dropout float\n",
        "  :param recurrent_dropout Amount of recurrent dropout to use\n",
        "  :type recurrent_dropout float\n",
        "  :rtype tf.keras.layers.Layer\n",
        "  \"\"\"\n",
        "  model = create_model(vocabulary_size, time_steps, embedding_size, num_classes, 'gru', num_neuron, dropout, recurrent_dropout)\n",
        "  return model"
      ],
      "execution_count": 79,
      "outputs": []
    },
    {
      "cell_type": "code",
      "metadata": {
        "id": "rsUIpEL-Pa-u",
        "colab_type": "code",
        "colab": {
          "base_uri": "https://localhost:8080/",
          "height": 792
        },
        "outputId": "09d1888c-079d-41ed-ded1-b65c16a56007"
      },
      "source": [
        "vocabulary_size = vocabulary_size\n",
        "embedding_size = 100\n",
        "time_steps = time_steps\n",
        "num_neuron = 100\n",
        "dropout = 0.2\n",
        "recurrent_dropout = 0.2\n",
        "EPOCHS = 2\n",
        "\n",
        "# Build Model and Train\n",
        "model = create_lstm_model(vocabulary_size=vocabulary_size, embedding_size=embedding_size, time_steps=time_steps, num_classes=3, num_neuron=num_neuron, dropout=dropout, recurrent_dropout=recurrent_dropout)\n",
        "print(model.summary())\n",
        "history = model.fit(X_train_encoded, y_train, validation_data=(X_test_encoded, y_test), epochs=EPOCHS, batch_size=256, callbacks=[es, checkpoint])\n",
        "plot_metrics(history,\n",
        "             metrics=['loss', 'accuracy'],\n",
        "             title = f\"LSTM --> Vocab: {vocabulary_size}, Steps: {time_steps}, Embedding: {embedding_size}, Neurons: {num_neuron}, Dropout: {round(dropout,2)}, Rec. Dropout: {round(recurrent_dropout,2)}\")"
      ],
      "execution_count": 84,
      "outputs": [
        {
          "output_type": "stream",
          "text": [
            "WARNING:tensorflow:Layer lstm_3 will not use cuDNN kernel since it doesn't meet the cuDNN kernel criteria. It will use generic GPU kernel as fallback when running on GPU\n",
            "Model: \"sequential_7\"\n",
            "_________________________________________________________________\n",
            "Layer (type)                 Output Shape              Param #   \n",
            "=================================================================\n",
            "embedding_7 (Embedding)      (None, 144, 100)          24600     \n",
            "_________________________________________________________________\n",
            "lstm_3 (LSTM)                (None, 100)               80400     \n",
            "_________________________________________________________________\n",
            "dropout_7 (Dropout)          (None, 100)               0         \n",
            "_________________________________________________________________\n",
            "dense_7 (Dense)              (None, 3)                 303       \n",
            "=================================================================\n",
            "Total params: 105,303\n",
            "Trainable params: 105,303\n",
            "Non-trainable params: 0\n",
            "_________________________________________________________________\n",
            "None\n",
            "Epoch 1/2\n",
            "44/44 [==============================] - ETA: 0s - loss: 0.9493 - accuracy: 0.6013\n",
            "Epoch 00001: val_loss did not improve from 0.82848\n",
            "44/44 [==============================] - 27s 620ms/step - loss: 0.9493 - accuracy: 0.6013 - val_loss: 0.9006 - val_accuracy: 0.6205\n",
            "Epoch 2/2\n",
            "44/44 [==============================] - ETA: 0s - loss: 0.9086 - accuracy: 0.6082\n",
            "Epoch 00002: val_loss did not improve from 0.82848\n",
            "44/44 [==============================] - 27s 621ms/step - loss: 0.9086 - accuracy: 0.6082 - val_loss: 0.9022 - val_accuracy: 0.6173\n"
          ],
          "name": "stdout"
        },
        {
          "output_type": "display_data",
          "data": {
            "image/png": "[encoded data removed]",
            "text/plain": [
              "<Figure size 720x288 with 2 Axes>"
            ]
          },
          "metadata": {
            "tags": [],
            "needs_background": "light"
          }
        }
      ]
    },
    {
      "cell_type": "code",
      "metadata": {
        "id": "ehEjmTBzWKLb",
        "colab_type": "code",
        "colab": {
          "base_uri": "https://localhost:8080/",
          "height": 35
        },
        "outputId": "e82f1fb0-f36e-4253-98b0-21f3ada36c6e"
      },
      "source": [
        "all_weights = history.model.get_weights()\n",
        "embeddings = all_weights[0]\n",
        "embeddings.shape"
      ],
      "execution_count": 89,
      "outputs": [
        {
          "output_type": "execute_result",
          "data": {
            "text/plain": [
              "(246, 100)"
            ]
          },
          "metadata": {
            "tags": []
          },
          "execution_count": 89
        }
      ]
    },
    {
      "cell_type": "code",
      "metadata": {
        "id": "7FKlFXqjXF3w",
        "colab_type": "code",
        "colab": {
          "base_uri": "https://localhost:8080/",
          "height": 35
        },
        "outputId": "595a0d65-8d44-4d44-fc9e-5118e31b8a00"
      },
      "source": [
        "emoji_index = word_index[emoji]\n",
        "emoji_index"
      ],
      "execution_count": 104,
      "outputs": [
        {
          "output_type": "execute_result",
          "data": {
            "text/plain": [
              "90"
            ]
          },
          "metadata": {
            "tags": []
          },
          "execution_count": 104
        }
      ]
    },
    {
      "cell_type": "code",
      "metadata": {
        "id": "0oqn2Y32YHmg",
        "colab_type": "code",
        "colab": {
          "base_uri": "https://localhost:8080/",
          "height": 403
        },
        "outputId": "0878b68d-fc8e-4eec-e783-27ecda555460"
      },
      "source": [
        "emoji_weight = embedddings[emoji_index]\n",
        "emoji_weight"
      ],
      "execution_count": 105,
      "outputs": [
        {
          "output_type": "execute_result",
          "data": {
            "text/plain": [
              "array([ 0.02296927, -0.03430695,  0.04364916, -0.01657779, -0.04905122,\n",
              "        0.04994914,  0.00553144,  0.0453274 ,  0.03826573, -0.00455437,\n",
              "        0.04745845,  0.03459688, -0.04255085, -0.01240369,  0.06610644,\n",
              "        0.02834373, -0.01315492, -0.02744122,  0.01465375, -0.0393929 ,\n",
              "       -0.01641716, -0.01289469,  0.02501578, -0.0087995 , -0.00976451,\n",
              "        0.04263419,  0.01297262,  0.00270063,  0.01659951,  0.00882532,\n",
              "        0.02670413, -0.06708817, -0.02397676,  0.04914524,  0.01336577,\n",
              "        0.04237269,  0.03032882, -0.003686  , -0.01986316,  0.03599664,\n",
              "       -0.00733185, -0.0186428 , -0.01445064,  0.03472974,  0.02194674,\n",
              "       -0.0380193 ,  0.02048016,  0.01999921, -0.04575962, -0.04097468,\n",
              "       -0.00137084,  0.0417613 , -0.05211499,  0.0502894 ,  0.03471334,\n",
              "       -0.02958995,  0.0223368 , -0.03661039,  0.04850705,  0.03744003,\n",
              "        0.03669357, -0.02672626, -0.02693539, -0.03510345, -0.03956377,\n",
              "       -0.02828677, -0.02820248,  0.01380348, -0.05584836,  0.02050154,\n",
              "        0.01221495, -0.02517129, -0.01243058, -0.03408382, -0.03339534,\n",
              "       -0.03006369, -0.03363436,  0.00995972, -0.022747  , -0.02967214,\n",
              "       -0.02090732,  0.04349027, -0.04414619, -0.02578142,  0.0413186 ,\n",
              "       -0.02224001,  0.0106368 ,  0.00426376,  0.03550293, -0.02082383,\n",
              "        0.03447988, -0.04180865,  0.00192373, -0.04313982,  0.06049016,\n",
              "        0.02238874,  0.03546748, -0.02662499, -0.04690391, -0.01083858],\n",
              "      dtype=float32)"
            ]
          },
          "metadata": {
            "tags": []
          },
          "execution_count": 105
        }
      ]
    },
    {
      "cell_type": "code",
      "metadata": {
        "id": "f6KOrBsIYsg_",
        "colab_type": "code",
        "colab": {}
      },
      "source": [
        "# Save the model\n",
        "model.save('unigram_model.h5')"
      ],
      "execution_count": 108,
      "outputs": []
    },
    {
      "cell_type": "code",
      "metadata": {
        "id": "8AYNNp_5ZF-S",
        "colab_type": "code",
        "colab": {
          "base_uri": "https://localhost:8080/",
          "height": 35
        },
        "outputId": "3b2828d6-734c-4226-c3c6-eab46872c3c7"
      },
      "source": [
        "from sklearn.metrics.pairwise import cosine_similarity\n",
        "similarities = cosine_similarity(embeddings)\n",
        "similarities.shape"
      ],
      "execution_count": 119,
      "outputs": [
        {
          "output_type": "execute_result",
          "data": {
            "text/plain": [
              "(246, 246)"
            ]
          },
          "metadata": {
            "tags": []
          },
          "execution_count": 119
        }
      ]
    },
    {
      "cell_type": "code",
      "metadata": {
        "id": "oPNArIPBZeo2",
        "colab_type": "code",
        "colab": {
          "base_uri": "https://localhost:8080/",
          "height": 1000
        },
        "outputId": "bca91b46-c1be-4af2-ccb3-92350afda9dc"
      },
      "source": [
        "emoji_similarities = similarities[emoji_index]\n",
        "emoji_similarities"
      ],
      "execution_count": 121,
      "outputs": [
        {
          "output_type": "execute_result",
          "data": {
            "text/plain": [
              "array([-9.90931913e-02, -9.95339751e-02,  1.14674106e-01, -1.57996610e-01,\n",
              "        1.68319821e-01,  6.49302378e-02, -8.70833173e-02,  9.29986089e-02,\n",
              "        1.01274475e-02,  1.92209352e-02,  1.45972222e-01,  9.98850465e-02,\n",
              "       -1.13691010e-01,  3.74276154e-02, -5.35194725e-02, -1.27898455e-02,\n",
              "        1.27947722e-02, -6.99346364e-02,  2.90086363e-02, -3.89385484e-02,\n",
              "       -5.41305752e-04,  9.79572162e-02, -1.33007308e-02,  1.31779060e-01,\n",
              "        1.56861037e-01, -2.26578668e-01,  3.59732807e-02,  2.70728897e-02,\n",
              "       -5.57761304e-02, -2.94597577e-02,  5.19839711e-02, -5.75491693e-03,\n",
              "        7.27516264e-02, -4.33004089e-02,  3.19800898e-02,  1.09655298e-01,\n",
              "        6.60874695e-02,  6.09250180e-02,  1.07288912e-01,  4.30058595e-03,\n",
              "       -5.14909290e-02,  9.01489556e-02, -5.35364076e-02, -4.84769978e-02,\n",
              "       -1.04307346e-01,  2.95933001e-02, -8.72880369e-02,  5.19584268e-02,\n",
              "       -1.23357058e-01, -1.49264380e-01, -1.02531821e-01, -9.26693603e-02,\n",
              "        1.06698334e-01, -7.09966198e-02,  1.11269215e-02, -2.88208369e-02,\n",
              "        5.68550788e-02, -2.02193305e-01,  3.37897018e-02,  4.61388491e-02,\n",
              "       -7.21857995e-02,  2.17148499e-03,  7.06332624e-02, -3.23829763e-02,\n",
              "        7.05919862e-02,  1.06155239e-02,  1.82624236e-01,  1.69875640e-02,\n",
              "       -9.37632918e-02,  1.71403065e-01, -1.25143277e-02, -3.06976959e-02,\n",
              "       -4.60234210e-02,  1.04358606e-01, -1.27889425e-01,  9.71632078e-02,\n",
              "       -8.09308328e-03, -4.34878767e-02, -3.13267345e-03, -1.50240269e-02,\n",
              "       -1.09767012e-01, -5.57593927e-02, -2.36378387e-01,  1.37843549e-01,\n",
              "       -6.68185623e-03,  5.95398294e-03, -1.40090659e-01, -6.46998808e-02,\n",
              "        3.09218857e-02,  3.04083456e-04,  1.00000000e+00, -8.65174979e-02,\n",
              "       -1.86083093e-01, -4.07479517e-02, -9.18623209e-02, -1.00867853e-01,\n",
              "       -8.66454169e-02,  8.48366320e-02,  2.40996331e-01,  8.84547979e-02,\n",
              "        1.40098050e-01, -2.17996389e-01, -4.14379686e-02, -2.20823176e-02,\n",
              "       -4.13720831e-02,  1.29229084e-01, -1.26628593e-01, -1.21379599e-01,\n",
              "        1.49223030e-01,  6.36995360e-02,  3.76638435e-02, -4.59205871e-03,\n",
              "       -6.80967048e-02,  5.62817790e-02, -5.22663957e-03,  1.57335552e-03,\n",
              "       -8.59985873e-02, -6.15236871e-02,  9.25409421e-02,  5.15165478e-02,\n",
              "        1.69903725e-01, -1.78439822e-02,  5.67978062e-03, -9.22424570e-02,\n",
              "       -3.17352116e-02,  1.74039379e-02, -8.47922340e-02, -2.19069365e-02,\n",
              "       -1.10860258e-01, -7.74528226e-03,  1.32178143e-01,  9.76434443e-03,\n",
              "       -4.47464213e-02,  8.54867250e-02, -1.17778540e-01,  8.46069679e-02,\n",
              "       -3.35978977e-02,  4.93010320e-02,  5.02305999e-02, -1.51616439e-01,\n",
              "       -1.12407068e-02, -2.38335058e-02, -1.87823892e-01, -4.50499207e-02,\n",
              "       -1.78206563e-01, -1.11693896e-01,  1.20483331e-01, -6.66424632e-02,\n",
              "        2.62538753e-02,  3.11734732e-02,  6.91544116e-02,  1.23982452e-01,\n",
              "       -7.35357404e-02,  2.69497815e-03,  1.45187840e-01, -5.31969965e-02,\n",
              "       -1.88224968e-02, -4.80833836e-02, -8.98804590e-02, -6.01208508e-02,\n",
              "        1.82310984e-01,  4.27479483e-02, -8.40566307e-02,  1.02927491e-01,\n",
              "        1.37789259e-02, -1.30210146e-01, -2.24892627e-02,  6.71346784e-02,\n",
              "       -6.77855909e-02, -1.08260244e-01, -9.22030807e-02,  1.59085318e-01,\n",
              "       -2.52431463e-02,  2.77670287e-02, -8.49212334e-03,  6.27987236e-02,\n",
              "        1.19301178e-01, -5.45892902e-02,  1.04905188e-01,  1.58185363e-01,\n",
              "       -5.40769398e-02,  1.86621454e-02, -9.72761884e-02,  1.90716416e-01,\n",
              "        1.05061121e-01, -6.43700957e-02,  4.88694897e-03,  1.12717517e-01,\n",
              "       -8.58356506e-02,  1.54388875e-01,  2.91272514e-02,  2.37981930e-01,\n",
              "        1.42749742e-01, -7.20450282e-02,  1.96104169e-01,  6.84967861e-02,\n",
              "       -1.05850965e-01,  1.34619325e-01,  1.53018981e-01,  4.00529169e-02,\n",
              "       -3.21615040e-02, -1.59147047e-02,  6.70132339e-02, -1.14034086e-01,\n",
              "        9.77762565e-02,  2.41103899e-02, -1.37238011e-01,  8.01957399e-02,\n",
              "        7.35010356e-02,  1.06139041e-01,  4.07111496e-02,  4.01537772e-03,\n",
              "       -4.39390540e-02,  2.21506625e-01, -4.91665327e-04, -8.41862708e-02,\n",
              "        6.29371256e-02, -1.00915365e-01,  5.86562939e-02, -1.10887237e-01,\n",
              "       -5.78446090e-02,  1.71587355e-02, -5.32089639e-03, -1.12100296e-01,\n",
              "        1.25604078e-01, -6.28421083e-02,  7.16596693e-02, -7.68278614e-02,\n",
              "        2.77433127e-01,  8.51969570e-02, -3.45431864e-02,  2.00913608e-01,\n",
              "       -4.59975898e-02,  2.11836174e-01,  1.34829087e-02, -5.57112209e-02,\n",
              "        1.00604802e-01,  1.37814865e-01, -3.97738479e-02,  8.92359167e-02,\n",
              "       -9.94286090e-02, -1.37992427e-02,  1.30214021e-01, -6.22545183e-02,\n",
              "        1.73240796e-01,  3.72089110e-02], dtype=float32)"
            ]
          },
          "metadata": {
            "tags": []
          },
          "execution_count": 121
        }
      ]
    },
    {
      "cell_type": "code",
      "metadata": {
        "id": "gK5foSK-aAMQ",
        "colab_type": "code",
        "colab": {
          "base_uri": "https://localhost:8080/",
          "height": 54
        },
        "outputId": "9113eec3-8aab-4a1b-e2a4-20672ec8db93"
      },
      "source": [
        "print(emoji_similarities.min())\n",
        "print(emoji_similarities.max())"
      ],
      "execution_count": 122,
      "outputs": [
        {
          "output_type": "stream",
          "text": [
            "-0.23637839\n",
            "1.0\n"
          ],
          "name": "stdout"
        }
      ]
    },
    {
      "cell_type": "code",
      "metadata": {
        "id": "0BALA2J0aF8l",
        "colab_type": "code",
        "colab": {}
      },
      "source": [
        "emoji_similarities_sorted = emoji_similarities.copy()\n",
        "emoji_similarities_sorted.sort()"
      ],
      "execution_count": 140,
      "outputs": []
    },
    {
      "cell_type": "code",
      "metadata": {
        "id": "cN98LwQdaMca",
        "colab_type": "code",
        "colab": {
          "base_uri": "https://localhost:8080/",
          "height": 1000
        },
        "outputId": "9a8a3b8f-b1a1-4790-b2c9-413f02521b16"
      },
      "source": [
        "print(emoji_similarities_sorted)"
      ],
      "execution_count": 141,
      "outputs": [
        {
          "output_type": "stream",
          "text": [
            "[-2.36378387e-01 -2.26578668e-01 -2.17996389e-01 -2.02193305e-01\n",
            " -1.87823892e-01 -1.86083093e-01 -1.78206563e-01 -1.57996610e-01\n",
            " -1.51616439e-01 -1.49264380e-01 -1.40090659e-01 -1.37238011e-01\n",
            " -1.30210146e-01 -1.27889425e-01 -1.26628593e-01 -1.23357058e-01\n",
            " -1.21379599e-01 -1.17778540e-01 -1.14034086e-01 -1.13691010e-01\n",
            " -1.12100296e-01 -1.11693896e-01 -1.10887237e-01 -1.10860258e-01\n",
            " -1.09767012e-01 -1.08260244e-01 -1.05850965e-01 -1.04307346e-01\n",
            " -1.02531821e-01 -1.00915365e-01 -1.00867853e-01 -9.95339751e-02\n",
            " -9.94286090e-02 -9.90931913e-02 -9.72761884e-02 -9.37632918e-02\n",
            " -9.26693603e-02 -9.22424570e-02 -9.22030807e-02 -9.18623209e-02\n",
            " -8.98804590e-02 -8.72880369e-02 -8.70833173e-02 -8.66454169e-02\n",
            " -8.65174979e-02 -8.59985873e-02 -8.58356506e-02 -8.47922340e-02\n",
            " -8.41862708e-02 -8.40566307e-02 -7.68278614e-02 -7.35357404e-02\n",
            " -7.21857995e-02 -7.20450282e-02 -7.09966198e-02 -6.99346364e-02\n",
            " -6.80967048e-02 -6.77855909e-02 -6.66424632e-02 -6.46998808e-02\n",
            " -6.43700957e-02 -6.28421083e-02 -6.22545183e-02 -6.15236871e-02\n",
            " -6.01208508e-02 -5.78446090e-02 -5.57761304e-02 -5.57593927e-02\n",
            " -5.57112209e-02 -5.45892902e-02 -5.40769398e-02 -5.35364076e-02\n",
            " -5.35194725e-02 -5.31969965e-02 -5.14909290e-02 -4.84769978e-02\n",
            " -4.80833836e-02 -4.60234210e-02 -4.59975898e-02 -4.50499207e-02\n",
            " -4.47464213e-02 -4.39390540e-02 -4.34878767e-02 -4.33004089e-02\n",
            " -4.14379686e-02 -4.13720831e-02 -4.07479517e-02 -3.97738479e-02\n",
            " -3.89385484e-02 -3.45431864e-02 -3.35978977e-02 -3.23829763e-02\n",
            " -3.21615040e-02 -3.17352116e-02 -3.06976959e-02 -2.94597577e-02\n",
            " -2.88208369e-02 -2.52431463e-02 -2.38335058e-02 -2.24892627e-02\n",
            " -2.20823176e-02 -2.19069365e-02 -1.88224968e-02 -1.78439822e-02\n",
            " -1.59147047e-02 -1.50240269e-02 -1.37992427e-02 -1.33007308e-02\n",
            " -1.27898455e-02 -1.25143277e-02 -1.12407068e-02 -8.49212334e-03\n",
            " -8.09308328e-03 -7.74528226e-03 -6.68185623e-03 -5.75491693e-03\n",
            " -5.32089639e-03 -5.22663957e-03 -4.59205871e-03 -3.13267345e-03\n",
            " -5.41305752e-04 -4.91665327e-04  3.04083456e-04  1.57335552e-03\n",
            "  2.17148499e-03  2.69497815e-03  4.01537772e-03  4.30058595e-03\n",
            "  4.88694897e-03  5.67978062e-03  5.95398294e-03  9.76434443e-03\n",
            "  1.01274475e-02  1.06155239e-02  1.11269215e-02  1.27947722e-02\n",
            "  1.34829087e-02  1.37789259e-02  1.69875640e-02  1.71587355e-02\n",
            "  1.74039379e-02  1.86621454e-02  1.92209352e-02  2.41103899e-02\n",
            "  2.62538753e-02  2.70728897e-02  2.77670287e-02  2.90086363e-02\n",
            "  2.91272514e-02  2.95933001e-02  3.09218857e-02  3.11734732e-02\n",
            "  3.19800898e-02  3.37897018e-02  3.59732807e-02  3.72089110e-02\n",
            "  3.74276154e-02  3.76638435e-02  4.00529169e-02  4.07111496e-02\n",
            "  4.27479483e-02  4.61388491e-02  4.93010320e-02  5.02305999e-02\n",
            "  5.15165478e-02  5.19584268e-02  5.19839711e-02  5.62817790e-02\n",
            "  5.68550788e-02  5.86562939e-02  6.09250180e-02  6.27987236e-02\n",
            "  6.29371256e-02  6.36995360e-02  6.49302378e-02  6.60874695e-02\n",
            "  6.70132339e-02  6.71346784e-02  6.84967861e-02  6.91544116e-02\n",
            "  7.05919862e-02  7.06332624e-02  7.16596693e-02  7.27516264e-02\n",
            "  7.35010356e-02  8.01957399e-02  8.46069679e-02  8.48366320e-02\n",
            "  8.51969570e-02  8.54867250e-02  8.84547979e-02  8.92359167e-02\n",
            "  9.01489556e-02  9.25409421e-02  9.29986089e-02  9.71632078e-02\n",
            "  9.77762565e-02  9.79572162e-02  9.98850465e-02  1.00604802e-01\n",
            "  1.02927491e-01  1.04358606e-01  1.04905188e-01  1.05061121e-01\n",
            "  1.06139041e-01  1.06698334e-01  1.07288912e-01  1.09655298e-01\n",
            "  1.12717517e-01  1.14674106e-01  1.19301178e-01  1.20483331e-01\n",
            "  1.23982452e-01  1.25604078e-01  1.29229084e-01  1.30214021e-01\n",
            "  1.31779060e-01  1.32178143e-01  1.34619325e-01  1.37814865e-01\n",
            "  1.37843549e-01  1.40098050e-01  1.42749742e-01  1.45187840e-01\n",
            "  1.45972222e-01  1.49223030e-01  1.53018981e-01  1.54388875e-01\n",
            "  1.56861037e-01  1.58185363e-01  1.59085318e-01  1.68319821e-01\n",
            "  1.69903725e-01  1.71403065e-01  1.73240796e-01  1.82310984e-01\n",
            "  1.82624236e-01  1.90716416e-01  1.96104169e-01  2.00913608e-01\n",
            "  2.11836174e-01  2.21506625e-01  2.37981930e-01  2.40996331e-01\n",
            "  2.77433127e-01  1.00000000e+00]\n"
          ],
          "name": "stdout"
        }
      ]
    },
    {
      "cell_type": "code",
      "metadata": {
        "id": "5NPCQ4V2awbL",
        "colab_type": "code",
        "colab": {
          "base_uri": "https://localhost:8080/",
          "height": 35
        },
        "outputId": "417c05af-2dbd-40a1-9673-7dfb63d39217"
      },
      "source": [
        "most_similar_similarity_value = emoji_similarities_sorted[-2]\n",
        "most_similar_similarity_value"
      ],
      "execution_count": 144,
      "outputs": [
        {
          "output_type": "execute_result",
          "data": {
            "text/plain": [
              "0.27743313"
            ]
          },
          "metadata": {
            "tags": []
          },
          "execution_count": 144
        }
      ]
    },
    {
      "cell_type": "code",
      "metadata": {
        "id": "p31b-SJVazzE",
        "colab_type": "code",
        "colab": {
          "base_uri": "https://localhost:8080/",
          "height": 35
        },
        "outputId": "059ec4db-0871-4aba-8204-0aad50f8b847"
      },
      "source": [
        "res_list = [i for i, value in enumerate(emoji_similarities) if value == most_similar_similarity_value]\n",
        "res_list"
      ],
      "execution_count": 145,
      "outputs": [
        {
          "output_type": "execute_result",
          "data": {
            "text/plain": [
              "[228]"
            ]
          },
          "metadata": {
            "tags": []
          },
          "execution_count": 145
        }
      ]
    },
    {
      "cell_type": "code",
      "metadata": {
        "id": "hm4KiZLvbOmh",
        "colab_type": "code",
        "colab": {
          "base_uri": "https://localhost:8080/",
          "height": 36
        },
        "outputId": "7033b80c-46e6-44c3-8799-afc7530cfc20"
      },
      "source": [
        "# Most Similar\n",
        "reverse_word_index.get(res_list[0])"
      ],
      "execution_count": 146,
      "outputs": [
        {
          "output_type": "execute_result",
          "data": {
            "application/vnd.google.colaboratory.intrinsic+json": {
              "type": "string"
            },
            "text/plain": [
              "'👑'"
            ]
          },
          "metadata": {
            "tags": []
          },
          "execution_count": 146
        }
      ]
    }
  ]
}