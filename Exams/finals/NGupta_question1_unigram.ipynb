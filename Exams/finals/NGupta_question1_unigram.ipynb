{
  "nbformat": 4,
  "nbformat_minor": 0,
  "metadata": {
    "orig_nbformat": 2,
    "kernelspec": {
      "name": "python3",
      "display_name": "Python 3"
    },
    "colab": {
      "name": "NGupta_question1.ipynb",
      "provenance": [],
      "include_colab_link": true
    },
    "accelerator": "GPU"
  },
  "cells": [
    {
      "cell_type": "markdown",
      "metadata": {
        "id": "view-in-github",
        "colab_type": "text"
      },
      "source": [
        "<a href=\"https://colab.research.google.com/github/ngupta23/ds7337_nlp/blob/master/Exams/finals/NGupta_question1_unigram.ipynb\" target=\"_parent\"><img src=\"https://colab.research.google.com/assets/colab-badge.svg\" alt=\"Open In Colab\"/></a>"
      ]
    },
    {
      "cell_type": "markdown",
      "metadata": {
        "id": "9L3G13kZOOVt",
        "colab_type": "text"
      },
      "source": [
        "# Import Libraries"
      ]
    },
    {
      "cell_type": "code",
      "metadata": {
        "id": "2jwvszQUB2lo",
        "colab_type": "code",
        "colab": {}
      },
      "source": [
        "from typing import List, Tuple\n",
        "\n",
        "import numpy as np\n",
        "import pandas as pd\n",
        "\n",
        "from sklearn.model_selection import train_test_split\n",
        "\n",
        "import nltk\n",
        "from nltk.util import ngrams"
      ],
      "execution_count": 1,
      "outputs": []
    },
    {
      "cell_type": "markdown",
      "metadata": {
        "id": "O5OwrWUSOV6K",
        "colab_type": "text"
      },
      "source": [
        "# Get the Data"
      ]
    },
    {
      "cell_type": "code",
      "metadata": {
        "id": "UoLLis-mCYEv",
        "colab_type": "code",
        "colab": {
          "base_uri": "https://localhost:8080/",
          "height": 35
        },
        "outputId": "12198af5-599f-4e76-d3ae-52fe124593e1"
      },
      "source": [
        "import os.path\n",
        "\n",
        "filename = \"Sentiment.csv\"\n",
        "if os.path.isfile(filename):\n",
        "  print(\"File already exists. Will reuse the same ...\")\n",
        "else:\n",
        "  use_github_data = False\n",
        "  if use_github_data:\n",
        "    print(\"Loading fie from Github ...\")\n",
        "    filename = \"https://github.com/ngupta23/ds7337_nlp/blob/master/Exams/finals/Sentiment.csv\"\n",
        "  else:\n",
        "    print(\"Please upload your file to Colab ...\")\n",
        "    from google.colab import files\n",
        "    uploaded = files.upload()"
      ],
      "execution_count": 2,
      "outputs": [
        {
          "output_type": "stream",
          "text": [
            "File already exists. Will reuse the same ...\n"
          ],
          "name": "stdout"
        }
      ]
    },
    {
      "cell_type": "markdown",
      "metadata": {
        "id": "cz34bQCxObr4",
        "colab_type": "text"
      },
      "source": [
        "# Data Preparation"
      ]
    },
    {
      "cell_type": "code",
      "metadata": {
        "tags": [],
        "id": "SWitVpFmB2l3",
        "colab_type": "code",
        "colab": {
          "base_uri": "https://localhost:8080/",
          "height": 531
        },
        "outputId": "09de392e-faa4-45c3-b48f-8aa1d8097d31"
      },
      "source": [
        "data = pd.read_csv(filename) #, encoding='latin-1')\n",
        "data.info()"
      ],
      "execution_count": 3,
      "outputs": [
        {
          "output_type": "stream",
          "text": [
            "<class 'pandas.core.frame.DataFrame'>\n",
            "RangeIndex: 13871 entries, 0 to 13870\n",
            "Data columns (total 21 columns):\n",
            " #   Column                     Non-Null Count  Dtype  \n",
            "---  ------                     --------------  -----  \n",
            " 0   id                         13871 non-null  int64  \n",
            " 1   candidate                  13775 non-null  object \n",
            " 2   candidate_confidence       13871 non-null  float64\n",
            " 3   relevant_yn                13871 non-null  object \n",
            " 4   relevant_yn_confidence     13871 non-null  float64\n",
            " 5   sentiment                  13871 non-null  object \n",
            " 6   sentiment_confidence       13871 non-null  float64\n",
            " 7   subject_matter             13545 non-null  object \n",
            " 8   subject_matter_confidence  13871 non-null  float64\n",
            " 9   candidate_gold             28 non-null     object \n",
            " 10  name                       13871 non-null  object \n",
            " 11  relevant_yn_gold           32 non-null     object \n",
            " 12  retweet_count              13871 non-null  int64  \n",
            " 13  sentiment_gold             15 non-null     object \n",
            " 14  subject_matter_gold        18 non-null     object \n",
            " 15  text                       13871 non-null  object \n",
            " 16  tweet_coord                21 non-null     object \n",
            " 17  tweet_created              13871 non-null  object \n",
            " 18  tweet_id                   13871 non-null  int64  \n",
            " 19  tweet_location             9959 non-null   object \n",
            " 20  user_timezone              9468 non-null   object \n",
            "dtypes: float64(4), int64(3), object(14)\n",
            "memory usage: 2.2+ MB\n"
          ],
          "name": "stdout"
        }
      ]
    },
    {
      "cell_type": "code",
      "metadata": {
        "tags": [],
        "id": "e_7SfuMwB2mI",
        "colab_type": "code",
        "colab": {
          "base_uri": "https://localhost:8080/",
          "height": 182
        },
        "outputId": "8953a2ca-cd4a-430e-e91c-01ca6ddce316"
      },
      "source": [
        "data = data[['text', 'sentiment']]\n",
        "data.info()"
      ],
      "execution_count": 4,
      "outputs": [
        {
          "output_type": "stream",
          "text": [
            "<class 'pandas.core.frame.DataFrame'>\n",
            "RangeIndex: 13871 entries, 0 to 13870\n",
            "Data columns (total 2 columns):\n",
            " #   Column     Non-Null Count  Dtype \n",
            "---  ------     --------------  ----- \n",
            " 0   text       13871 non-null  object\n",
            " 1   sentiment  13871 non-null  object\n",
            "dtypes: object(2)\n",
            "memory usage: 216.9+ KB\n"
          ],
          "name": "stdout"
        }
      ]
    },
    {
      "cell_type": "code",
      "metadata": {
        "id": "LjMYsUhuB2mS",
        "colab_type": "code",
        "colab": {
          "base_uri": "https://localhost:8080/",
          "height": 206
        },
        "outputId": "25134e2f-2ff5-4c94-e9b3-480fdd02988d"
      },
      "source": [
        "data.head()"
      ],
      "execution_count": 5,
      "outputs": [
        {
          "output_type": "execute_result",
          "data": {
            "text/html": [
              "<div>\n",
              "<style scoped>\n",
              "    .dataframe tbody tr th:only-of-type {\n",
              "        vertical-align: middle;\n",
              "    }\n",
              "\n",
              "    .dataframe tbody tr th {\n",
              "        vertical-align: top;\n",
              "    }\n",
              "\n",
              "    .dataframe thead th {\n",
              "        text-align: right;\n",
              "    }\n",
              "</style>\n",
              "<table border=\"1\" class=\"dataframe\">\n",
              "  <thead>\n",
              "    <tr style=\"text-align: right;\">\n",
              "      <th></th>\n",
              "      <th>text</th>\n",
              "      <th>sentiment</th>\n",
              "    </tr>\n",
              "  </thead>\n",
              "  <tbody>\n",
              "    <tr>\n",
              "      <th>0</th>\n",
              "      <td>RT @NancyLeeGrahn: How did everyone feel about...</td>\n",
              "      <td>Neutral</td>\n",
              "    </tr>\n",
              "    <tr>\n",
              "      <th>1</th>\n",
              "      <td>RT @ScottWalker: Didn't catch the full #GOPdeb...</td>\n",
              "      <td>Positive</td>\n",
              "    </tr>\n",
              "    <tr>\n",
              "      <th>2</th>\n",
              "      <td>RT @TJMShow: No mention of Tamir Rice and the ...</td>\n",
              "      <td>Neutral</td>\n",
              "    </tr>\n",
              "    <tr>\n",
              "      <th>3</th>\n",
              "      <td>RT @RobGeorge: That Carly Fiorina is trending ...</td>\n",
              "      <td>Positive</td>\n",
              "    </tr>\n",
              "    <tr>\n",
              "      <th>4</th>\n",
              "      <td>RT @DanScavino: #GOPDebate w/ @realDonaldTrump...</td>\n",
              "      <td>Positive</td>\n",
              "    </tr>\n",
              "  </tbody>\n",
              "</table>\n",
              "</div>"
            ],
            "text/plain": [
              "                                                text sentiment\n",
              "0  RT @NancyLeeGrahn: How did everyone feel about...   Neutral\n",
              "1  RT @ScottWalker: Didn't catch the full #GOPdeb...  Positive\n",
              "2  RT @TJMShow: No mention of Tamir Rice and the ...   Neutral\n",
              "3  RT @RobGeorge: That Carly Fiorina is trending ...  Positive\n",
              "4  RT @DanScavino: #GOPDebate w/ @realDonaldTrump...  Positive"
            ]
          },
          "metadata": {
            "tags": []
          },
          "execution_count": 5
        }
      ]
    },
    {
      "cell_type": "markdown",
      "metadata": {
        "id": "cyKAmpuVOofa",
        "colab_type": "text"
      },
      "source": [
        "# Find Maximum Sequence Length"
      ]
    },
    {
      "cell_type": "code",
      "metadata": {
        "id": "KkbB3WuELm1Q",
        "colab_type": "code",
        "colab": {
          "base_uri": "https://localhost:8080/",
          "height": 206
        },
        "outputId": "008f3ac5-8e4b-4ef6-da4d-13d7ed42554c"
      },
      "source": [
        "data['len'] = data['text'].str.len()\n",
        "data.head()"
      ],
      "execution_count": 6,
      "outputs": [
        {
          "output_type": "execute_result",
          "data": {
            "text/html": [
              "<div>\n",
              "<style scoped>\n",
              "    .dataframe tbody tr th:only-of-type {\n",
              "        vertical-align: middle;\n",
              "    }\n",
              "\n",
              "    .dataframe tbody tr th {\n",
              "        vertical-align: top;\n",
              "    }\n",
              "\n",
              "    .dataframe thead th {\n",
              "        text-align: right;\n",
              "    }\n",
              "</style>\n",
              "<table border=\"1\" class=\"dataframe\">\n",
              "  <thead>\n",
              "    <tr style=\"text-align: right;\">\n",
              "      <th></th>\n",
              "      <th>text</th>\n",
              "      <th>sentiment</th>\n",
              "      <th>len</th>\n",
              "    </tr>\n",
              "  </thead>\n",
              "  <tbody>\n",
              "    <tr>\n",
              "      <th>0</th>\n",
              "      <td>RT @NancyLeeGrahn: How did everyone feel about...</td>\n",
              "      <td>Neutral</td>\n",
              "      <td>106</td>\n",
              "    </tr>\n",
              "    <tr>\n",
              "      <th>1</th>\n",
              "      <td>RT @ScottWalker: Didn't catch the full #GOPdeb...</td>\n",
              "      <td>Positive</td>\n",
              "      <td>140</td>\n",
              "    </tr>\n",
              "    <tr>\n",
              "      <th>2</th>\n",
              "      <td>RT @TJMShow: No mention of Tamir Rice and the ...</td>\n",
              "      <td>Neutral</td>\n",
              "      <td>84</td>\n",
              "    </tr>\n",
              "    <tr>\n",
              "      <th>3</th>\n",
              "      <td>RT @RobGeorge: That Carly Fiorina is trending ...</td>\n",
              "      <td>Positive</td>\n",
              "      <td>140</td>\n",
              "    </tr>\n",
              "    <tr>\n",
              "      <th>4</th>\n",
              "      <td>RT @DanScavino: #GOPDebate w/ @realDonaldTrump...</td>\n",
              "      <td>Positive</td>\n",
              "      <td>140</td>\n",
              "    </tr>\n",
              "  </tbody>\n",
              "</table>\n",
              "</div>"
            ],
            "text/plain": [
              "                                                text sentiment  len\n",
              "0  RT @NancyLeeGrahn: How did everyone feel about...   Neutral  106\n",
              "1  RT @ScottWalker: Didn't catch the full #GOPdeb...  Positive  140\n",
              "2  RT @TJMShow: No mention of Tamir Rice and the ...   Neutral   84\n",
              "3  RT @RobGeorge: That Carly Fiorina is trending ...  Positive  140\n",
              "4  RT @DanScavino: #GOPDebate w/ @realDonaldTrump...  Positive  140"
            ]
          },
          "metadata": {
            "tags": []
          },
          "execution_count": 6
        }
      ]
    },
    {
      "cell_type": "code",
      "metadata": {
        "id": "rAqeNqFtMHvu",
        "colab_type": "code",
        "colab": {
          "base_uri": "https://localhost:8080/",
          "height": 54
        },
        "outputId": "182dede7-75a4-4702-a9b3-bbb4bf39f70c"
      },
      "source": [
        "print('Maximum review length: {}'.format(data['len'].max()))\n",
        "print('Minimum review length: {}'.format(data['len'].min()))\n"
      ],
      "execution_count": 7,
      "outputs": [
        {
          "output_type": "stream",
          "text": [
            "Maximum review length: 153\n",
            "Minimum review length: 19\n"
          ],
          "name": "stdout"
        }
      ]
    },
    {
      "cell_type": "code",
      "metadata": {
        "id": "DrdQvBm-MQcY",
        "colab_type": "code",
        "colab": {
          "base_uri": "https://localhost:8080/",
          "height": 318
        },
        "outputId": "add8258e-6b31-4728-ba9c-f1c115deda7c"
      },
      "source": [
        "data.hist(bins=100)"
      ],
      "execution_count": 8,
      "outputs": [
        {
          "output_type": "execute_result",
          "data": {
            "text/plain": [
              "array([[<matplotlib.axes._subplots.AxesSubplot object at 0x7f374c38c908>]],\n",
              "      dtype=object)"
            ]
          },
          "metadata": {
            "tags": []
          },
          "execution_count": 8
        },
        {
          "output_type": "display_data",
          "data": {
            "image/png": "[encoded data removed]",
            "text/plain": [
              "<Figure size 432x288 with 1 Axes>"
            ]
          },
          "metadata": {
            "tags": [],
            "needs_background": "light"
          }
        }
      ]
    },
    {
      "cell_type": "code",
      "metadata": {
        "id": "E1493_-SMNyx",
        "colab_type": "code",
        "colab": {
          "base_uri": "https://localhost:8080/",
          "height": 35
        },
        "outputId": "952e02c4-fabf-4da0-9d84-301b3fa520db"
      },
      "source": [
        "# Keep a large percentage of reviews completely and chop of the remainig reviews off.\n",
        "import numpy as np\n",
        "time_steps = int(np.quantile(data['len'],0.975))\n",
        "time_steps"
      ],
      "execution_count": 9,
      "outputs": [
        {
          "output_type": "execute_result",
          "data": {
            "text/plain": [
              "144"
            ]
          },
          "metadata": {
            "tags": []
          },
          "execution_count": 9
        }
      ]
    },
    {
      "cell_type": "markdown",
      "metadata": {
        "id": "DX91pzr9OvQg",
        "colab_type": "text"
      },
      "source": [
        "# Prepare Label"
      ]
    },
    {
      "cell_type": "code",
      "metadata": {
        "id": "98_XPM8jNe1g",
        "colab_type": "code",
        "colab": {
          "base_uri": "https://localhost:8080/",
          "height": 90
        },
        "outputId": "c8bf03fa-290c-4462-f692-772906970a2a"
      },
      "source": [
        "data['sentiment'].value_counts()"
      ],
      "execution_count": 10,
      "outputs": [
        {
          "output_type": "execute_result",
          "data": {
            "text/plain": [
              "Negative    8493\n",
              "Neutral     3142\n",
              "Positive    2236\n",
              "Name: sentiment, dtype: int64"
            ]
          },
          "metadata": {
            "tags": []
          },
          "execution_count": 10
        }
      ]
    },
    {
      "cell_type": "code",
      "metadata": {
        "id": "WVQsPeAMNKJI",
        "colab_type": "code",
        "colab": {}
      },
      "source": [
        "data.loc[data['sentiment'] == 'Negative', 'sentiment'] = 0\n",
        "data.loc[data['sentiment'] == 'Neutral', 'sentiment'] = 1\n",
        "data.loc[data['sentiment'] == 'Positive', 'sentiment'] = 2"
      ],
      "execution_count": 11,
      "outputs": []
    },
    {
      "cell_type": "code",
      "metadata": {
        "id": "Z6PSLFHDNeXJ",
        "colab_type": "code",
        "colab": {
          "base_uri": "https://localhost:8080/",
          "height": 90
        },
        "outputId": "75c86263-2fa9-4444-bd1a-880a7fd95969"
      },
      "source": [
        "data['sentiment'].value_counts()"
      ],
      "execution_count": 12,
      "outputs": [
        {
          "output_type": "execute_result",
          "data": {
            "text/plain": [
              "0    8493\n",
              "1    3142\n",
              "2    2236\n",
              "Name: sentiment, dtype: int64"
            ]
          },
          "metadata": {
            "tags": []
          },
          "execution_count": 12
        }
      ]
    },
    {
      "cell_type": "markdown",
      "metadata": {
        "id": "RJdRmaEsO3XC",
        "colab_type": "text"
      },
      "source": [
        "# Train Test Split"
      ]
    },
    {
      "cell_type": "code",
      "metadata": {
        "id": "0iIseVDXM7VB",
        "colab_type": "code",
        "colab": {
          "base_uri": "https://localhost:8080/",
          "height": 54
        },
        "outputId": "8ef42f23-00fd-414f-9352-131f6699d2bf"
      },
      "source": [
        "X_train, X_test, y_train, y_test = train_test_split(\n",
        "    data['text'].values.astype('U'),\n",
        "    data['sentiment'].values.astype('int32'),\n",
        "    test_size=0.20,\n",
        "    random_state=42\n",
        ")\n",
        "\n",
        "print(f\"Number of samples: X_train: {len(X_train)}, y_train: {len(y_train)}\")\n",
        "print(f\"Number of samples: X_test: {len(X_test)}, y_test: {len(y_test)}\")"
      ],
      "execution_count": 13,
      "outputs": [
        {
          "output_type": "stream",
          "text": [
            "Number of samples: X_train: 11096, y_train: 11096\n",
            "Number of samples: X_test: 2775, y_test: 2775\n"
          ],
          "name": "stdout"
        }
      ]
    },
    {
      "cell_type": "code",
      "metadata": {
        "id": "HR3Jkl_fOM1i",
        "colab_type": "code",
        "colab": {
          "base_uri": "https://localhost:8080/",
          "height": 72
        },
        "outputId": "f15cf41d-a095-47cf-f87e-4de68ab43197"
      },
      "source": [
        "# Checking split --> both test and train contain roughly the same number of positive (and negative) sentiment reviews\n",
        "print(sum(y_train == 0)/len(y_train), sum(y_test == 0)/len(y_test))\n",
        "print(sum(y_train == 1)/len(y_train), sum(y_test == 1)/len(y_test))\n",
        "print(sum(y_train == 2)/len(y_train), sum(y_test == 2)/len(y_test))"
      ],
      "execution_count": 14,
      "outputs": [
        {
          "output_type": "stream",
          "text": [
            "0.6102198990627253 0.6205405405405405\n",
            "0.22801009372746936 0.22054054054054054\n",
            "0.16177000720980533 0.1589189189189189\n"
          ],
          "name": "stdout"
        }
      ]
    },
    {
      "cell_type": "markdown",
      "metadata": {
        "id": "AdPi_D24PHV_",
        "colab_type": "text"
      },
      "source": [
        "# Create Vocabulary"
      ]
    },
    {
      "cell_type": "code",
      "metadata": {
        "tags": [],
        "id": "r5hCZzntB2mb",
        "colab_type": "code",
        "colab": {
          "base_uri": "https://localhost:8080/",
          "height": 55
        },
        "outputId": "b135f9c8-f477-4bcf-8a3e-c72e2c07bfd9"
      },
      "source": [
        "# Unigram\n",
        "print(list(data.iloc[0]['text']))"
      ],
      "execution_count": 15,
      "outputs": [
        {
          "output_type": "stream",
          "text": [
            "['R', 'T', ' ', '@', 'N', 'a', 'n', 'c', 'y', 'L', 'e', 'e', 'G', 'r', 'a', 'h', 'n', ':', ' ', 'H', 'o', 'w', ' ', 'd', 'i', 'd', ' ', 'e', 'v', 'e', 'r', 'y', 'o', 'n', 'e', ' ', 'f', 'e', 'e', 'l', ' ', 'a', 'b', 'o', 'u', 't', ' ', 't', 'h', 'e', ' ', 'C', 'l', 'i', 'm', 'a', 't', 'e', ' ', 'C', 'h', 'a', 'n', 'g', 'e', ' ', 'q', 'u', 'e', 's', 't', 'i', 'o', 'n', ' ', 'l', 'a', 's', 't', ' ', 'n', 'i', 'g', 'h', 't', '?', ' ', 'E', 'x', 'a', 'c', 't', 'l', 'y', '.', ' ', '#', 'G', 'O', 'P', 'D', 'e', 'b', 'a', 't', 'e']\n"
          ],
          "name": "stdout"
        }
      ]
    },
    {
      "cell_type": "code",
      "metadata": {
        "id": "9RTwvjV6D1Dm",
        "colab_type": "code",
        "colab": {}
      },
      "source": [
        "corpus = []\n",
        "for _, text_row in enumerate(data['text']):\n",
        "  corpus = corpus + list(text_row)"
      ],
      "execution_count": 16,
      "outputs": []
    },
    {
      "cell_type": "code",
      "metadata": {
        "id": "2RnLVRvZEqyX",
        "colab_type": "code",
        "colab": {
          "base_uri": "https://localhost:8080/",
          "height": 55
        },
        "outputId": "424c49cb-3d71-4aab-e853-84a9c70b5f07"
      },
      "source": [
        "print(corpus[:300])"
      ],
      "execution_count": 17,
      "outputs": [
        {
          "output_type": "stream",
          "text": [
            "['R', 'T', ' ', '@', 'N', 'a', 'n', 'c', 'y', 'L', 'e', 'e', 'G', 'r', 'a', 'h', 'n', ':', ' ', 'H', 'o', 'w', ' ', 'd', 'i', 'd', ' ', 'e', 'v', 'e', 'r', 'y', 'o', 'n', 'e', ' ', 'f', 'e', 'e', 'l', ' ', 'a', 'b', 'o', 'u', 't', ' ', 't', 'h', 'e', ' ', 'C', 'l', 'i', 'm', 'a', 't', 'e', ' ', 'C', 'h', 'a', 'n', 'g', 'e', ' ', 'q', 'u', 'e', 's', 't', 'i', 'o', 'n', ' ', 'l', 'a', 's', 't', ' ', 'n', 'i', 'g', 'h', 't', '?', ' ', 'E', 'x', 'a', 'c', 't', 'l', 'y', '.', ' ', '#', 'G', 'O', 'P', 'D', 'e', 'b', 'a', 't', 'e', 'R', 'T', ' ', '@', 'S', 'c', 'o', 't', 't', 'W', 'a', 'l', 'k', 'e', 'r', ':', ' ', 'D', 'i', 'd', 'n', \"'\", 't', ' ', 'c', 'a', 't', 'c', 'h', ' ', 't', 'h', 'e', ' ', 'f', 'u', 'l', 'l', ' ', '#', 'G', 'O', 'P', 'd', 'e', 'b', 'a', 't', 'e', ' ', 'l', 'a', 's', 't', ' ', 'n', 'i', 'g', 'h', 't', '.', ' ', 'H', 'e', 'r', 'e', ' ', 'a', 'r', 'e', ' ', 's', 'o', 'm', 'e', ' ', 'o', 'f', ' ', 'S', 'c', 'o', 't', 't', \"'\", 's', ' ', 'b', 'e', 's', 't', ' ', 'l', 'i', 'n', 'e', 's', ' ', 'i', 'n', ' ', '9', '0', ' ', 's', 'e', 'c', 'o', 'n', 'd', 's', '.', ' ', '#', 'W', 'a', 'l', 'k', 'e', 'r', '1', '6', ' ', 'h', 't', 't', 'p', ':', '/', '/', 't', '.', 'c', 'o', '/', 'Z', 'S', 'f', 'F', '…', 'R', 'T', ' ', '@', 'T', 'J', 'M', 'S', 'h', 'o', 'w', ':', ' ', 'N', 'o', ' ', 'm', 'e', 'n', 't', 'i', 'o', 'n', ' ', 'o', 'f', ' ', 'T', 'a', 'm', 'i', 'r', ' ', 'R', 'i', 'c', 'e', ' ', 'a', 'n', 'd', ' ', 't', 'h', 'e', ' ', '#', 'G', 'O', 'P', 'D', 'e', 'b', 'a']\n"
          ],
          "name": "stdout"
        }
      ]
    },
    {
      "cell_type": "code",
      "metadata": {
        "id": "zS8CDdwcDHAP",
        "colab_type": "code",
        "colab": {
          "base_uri": "https://localhost:8080/",
          "height": 74
        },
        "outputId": "5223fdba-ecb2-4905-e87d-a168d227fa09"
      },
      "source": [
        "fdist = nltk.FreqDist(corpus)\n",
        "print(fdist.most_common()) # [:20])\n",
        "# We can use the count to filter out less common words (noise), but this has not been done here.\n",
        "vocab = [char for char, count in fdist.most_common() if count >= 1] \n",
        "print(vocab) #[:20])"
      ],
      "execution_count": 18,
      "outputs": [
        {
          "output_type": "stream",
          "text": [
            "[(' ', 223579), ('e', 140036), ('t', 106711), ('a', 93539), ('o', 76702), ('i', 66303), ('n', 65948), ('s', 64543), ('r', 61717), ('h', 46854), ('l', 44837), ('d', 35894), ('u', 32895), ('b', 30766), ('c', 28161), ('m', 26989), ('p', 25019), ('#', 21730), ('g', 21283), ('y', 20289), ('G', 20251), ('D', 19126), ('O', 18879), ('P', 18623), ('w', 17702), ('.', 17621), ('T', 17575), ('f', 16756), ('R', 14460), ('@', 14178), (':', 13538), ('k', 12210), ('/', 11598), ('v', 8618), ('S', 7626), ('I', 6954), ('W', 6618), ('C', 6510), (\"'\", 5657), (',', 5164), ('A', 5003), ('F', 5001), ('B', 4805), ('N', 4682), ('M', 4115), ('x', 3912), ('H', 3712), ('\"', 3544), ('L', 3354), ('E', 3069), ('?', 2892), ('…', 2868), ('\\n', 2775), ('j', 2483), ('J', 2412), ('1', 2333), ('z', 2331), ('!', 2287), ('K', 2220), ('U', 1987), ('0', 1899), ('2', 1861), ('🇺', 1830), ('🇸', 1830), ('-', 1757), ('Y', 1722), ('q', 1592), ('6', 1369), (';', 1241), ('V', 1228), ('&', 1144), ('3', 1090), ('4', 972), ('5', 962), ('X', 955), ('9', 950), ('7', 915), ('8', 873), ('Z', 725), ('Q', 685), ('_', 661), (')', 281), ('’', 254), ('(', 251), ('“', 145), ('”', 143), ('*', 131), ('😂', 95), ('%', 94), ('$', 89), ('=', 78), ('[', 36), (']', 36), ('|', 35), ('+', 34), ('💨', 32), ('️', 30), ('—', 28), ('🏻', 18), ('~', 17), ('🏼', 16), ('‘', 16), ('–', 15), ('❤', 14), ('»', 14), ('👎', 13), ('📢', 12), ('👍', 12), ('👏', 12), ('\\xa0', 11), ('🙌', 10), ('・', 9), ('·', 8), ('💀', 8), ('😩', 7), ('🐘', 7), ('😴', 7), ('😄', 7), ('😡', 7), ('🏿', 7), ('😊', 6), ('😏', 6), ('😀', 6), ('😭', 6), ('👉', 5), ('😎', 5), ('🏾', 5), ('\\U000fe4e6', 4), ('😒', 4), ('➡', 4), ('▀', 4), ('→', 4), ('¯', 4), ('‼', 4), ('😍', 4), ('😉', 4), ('✅', 4), ('😑', 4), ('✯', 4), ('•', 4), ('☑', 3), ('🎀', 3), ('😆', 3), ('》', 3), ('😕', 3), ('✔', 3), ('😶', 3), ('🍺', 3), ('^', 3), ('👌', 3), ('👴', 3), ('🔨', 3), ('ٌ', 2), ('█', 2), ('💢', 2), ('↓', 2), ('😜', 2), ('\\\\', 2), ('ツ', 2), ('`', 2), ('ə', 2), ('🎤', 2), ('😞', 2), ('�', 2), ('💁', 2), ('☢', 2), ('►', 2), ('◄', 2), ('⬆', 2), ('💥', 2), ('🙏', 2), ('😁', 2), ('🙈', 2), ('☞', 2), ('☜', 2), ('🎉', 2), ('🔥', 2), ('👭', 2), ('👨', 2), ('👶', 2), ('\\U000fe4ec', 2), ('✋', 2), ('👊', 2), ('😰', 1), ('📷', 1), ('⁰', 1), ('😳', 1), ('👓', 1), ('ˈ', 1), ('ˌ', 1), ('ā', 1), ('😐', 1), ('🍷', 1), ('💧', 1), ('🌷', 1), ('⚡', 1), ('🏽', 1), ('🎪', 1), ('💩', 1), ('↑', 1), ('⬇', 1), ('↔', 1), ('🗽', 1), ('😋', 1), ('😢', 1), ('🐍', 1), ('♀', 1), ('😬', 1), ('😯', 1), ('😲', 1), ('🌍', 1), ('📲', 1), ('💛', 1), ('―', 1), ('\\U000fe320', 1), ('\\U000fe327', 1), ('😠', 1), ('💪', 1), ('🔪', 1), ('🔇', 1), ('⇒', 1), ('🚀', 1), ('👋', 1), ('🙊', 1), ('👸', 1), ('👑', 1), ('😻', 1), ('👺', 1), ('💰', 1), ('💸', 1), ('🚷', 1), ('🚺', 1), ('🔫', 1), ('🍔', 1), ('💣', 1), ('🛃', 1), ('🚧', 1), ('🚔', 1), ('👀', 1), ('î', 1), ('ł', 1), ('é', 1), ('à', 1)]\n",
            "[' ', 'e', 't', 'a', 'o', 'i', 'n', 's', 'r', 'h', 'l', 'd', 'u', 'b', 'c', 'm', 'p', '#', 'g', 'y', 'G', 'D', 'O', 'P', 'w', '.', 'T', 'f', 'R', '@', ':', 'k', '/', 'v', 'S', 'I', 'W', 'C', \"'\", ',', 'A', 'F', 'B', 'N', 'M', 'x', 'H', '\"', 'L', 'E', '?', '…', '\\n', 'j', 'J', '1', 'z', '!', 'K', 'U', '0', '2', '🇺', '🇸', '-', 'Y', 'q', '6', ';', 'V', '&', '3', '4', '5', 'X', '9', '7', '8', 'Z', 'Q', '_', ')', '’', '(', '“', '”', '*', '😂', '%', '$', '=', '[', ']', '|', '+', '💨', '️', '—', '🏻', '~', '🏼', '‘', '–', '❤', '»', '👎', '📢', '👍', '👏', '\\xa0', '🙌', '・', '·', '💀', '😩', '🐘', '😴', '😄', '😡', '🏿', '😊', '😏', '😀', '😭', '👉', '😎', '🏾', '\\U000fe4e6', '😒', '➡', '▀', '→', '¯', '‼', '😍', '😉', '✅', '😑', '✯', '•', '☑', '🎀', '😆', '》', '😕', '✔', '😶', '🍺', '^', '👌', '👴', '🔨', 'ٌ', '█', '💢', '↓', '😜', '\\\\', 'ツ', '`', 'ə', '🎤', '😞', '�', '💁', '☢', '►', '◄', '⬆', '💥', '🙏', '😁', '🙈', '☞', '☜', '🎉', '🔥', '👭', '👨', '👶', '\\U000fe4ec', '✋', '👊', '😰', '📷', '⁰', '😳', '👓', 'ˈ', 'ˌ', 'ā', '😐', '🍷', '💧', '🌷', '⚡', '🏽', '🎪', '💩', '↑', '⬇', '↔', '🗽', '😋', '😢', '🐍', '♀', '😬', '😯', '😲', '🌍', '📲', '💛', '―', '\\U000fe320', '\\U000fe327', '😠', '💪', '🔪', '🔇', '⇒', '🚀', '👋', '🙊', '👸', '👑', '😻', '👺', '💰', '💸', '🚷', '🚺', '🔫', '🍔', '💣', '🛃', '🚧', '🚔', '👀', 'î', 'ł', 'é', 'à']\n"
          ],
          "name": "stdout"
        }
      ]
    },
    {
      "cell_type": "code",
      "metadata": {
        "id": "G3J5dYLnDnkx",
        "colab_type": "code",
        "colab": {
          "base_uri": "https://localhost:8080/",
          "height": 35
        },
        "outputId": "af0cfed6-7d52-45ea-fa24-79438b1c2078"
      },
      "source": [
        "print(len(vocab))"
      ],
      "execution_count": 19,
      "outputs": [
        {
          "output_type": "stream",
          "text": [
            "243\n"
          ],
          "name": "stdout"
        }
      ]
    },
    {
      "cell_type": "code",
      "metadata": {
        "id": "WBg7ExM9Fam1",
        "colab_type": "code",
        "colab": {}
      },
      "source": [
        "word_index = {}\n",
        "word_index[\"<PAD>\"] = 0\n",
        "word_index[\"<START>\"] = 1\n",
        "word_index[\"<UNK>\"] = 2\n",
        "for index, word in enumerate(vocab):\n",
        "  word_index[word] = index+3"
      ],
      "execution_count": 20,
      "outputs": []
    },
    {
      "cell_type": "code",
      "metadata": {
        "id": "jdBlq_c0JV-c",
        "colab_type": "code",
        "colab": {
          "base_uri": "https://localhost:8080/",
          "height": 201
        },
        "outputId": "71b357a6-3c73-4015-f0dd-7e0001348158"
      },
      "source": [
        "reverse_word_index = dict([(value, key) for (key, value) in word_index.items()])\n",
        "[(i, reverse_word_index.get(i)) for i in np.arange(10)]"
      ],
      "execution_count": 21,
      "outputs": [
        {
          "output_type": "execute_result",
          "data": {
            "text/plain": [
              "[(0, '<PAD>'),\n",
              " (1, '<START>'),\n",
              " (2, '<UNK>'),\n",
              " (3, ' '),\n",
              " (4, 'e'),\n",
              " (5, 't'),\n",
              " (6, 'a'),\n",
              " (7, 'o'),\n",
              " (8, 'i'),\n",
              " (9, 'n')]"
            ]
          },
          "metadata": {
            "tags": []
          },
          "execution_count": 21
        }
      ]
    },
    {
      "cell_type": "code",
      "metadata": {
        "id": "39cdCCSKJr4k",
        "colab_type": "code",
        "colab": {
          "base_uri": "https://localhost:8080/",
          "height": 35
        },
        "outputId": "2b34758e-a110-458c-c102-d43827432bbf"
      },
      "source": [
        "vocabulary_size = len(word_index.keys())\n",
        "vocabulary_size"
      ],
      "execution_count": 22,
      "outputs": [
        {
          "output_type": "execute_result",
          "data": {
            "text/plain": [
              "246"
            ]
          },
          "metadata": {
            "tags": []
          },
          "execution_count": 22
        }
      ]
    },
    {
      "cell_type": "markdown",
      "metadata": {
        "id": "ONMpZeyWRali",
        "colab_type": "text"
      },
      "source": [
        "# Encoding and Decoding"
      ]
    },
    {
      "cell_type": "code",
      "metadata": {
        "id": "rC5hAL1mJ3DG",
        "colab_type": "code",
        "colab": {}
      },
      "source": [
        "def encode_review(plain_text: str) -> List[int]:\n",
        "  return [word_index[token] if token in word_index.keys() else word_index[\"<UNK>\"] for token in list(plain_text)]\n",
        "\n",
        "def decode_review(encoded_text):\n",
        "  return ' '.join([reverse_word_index.get(i, '?') for i in encoded_text])"
      ],
      "execution_count": 23,
      "outputs": []
    },
    {
      "cell_type": "code",
      "metadata": {
        "id": "edvKcAGbKFfc",
        "colab_type": "code",
        "colab": {}
      },
      "source": [
        "def encode_decode_check(original_review):\n",
        "  print(\"\\n\")\n",
        "  print(f\"Original Review: {original_review}\")\n",
        "  encoded_review = encode_review(original_review)\n",
        "  print(f\"Encoded Review: {encoded_review}\")\n",
        "  decoded_review = decode_review(encoded_review)\n",
        "  print(f\"Decoded Review: {decoded_review}\")\n",
        "  # same = decoded_review == original_review\n",
        "  # print(f\"Decoded = Original: {same}\")"
      ],
      "execution_count": 24,
      "outputs": []
    },
    {
      "cell_type": "code",
      "metadata": {
        "id": "ERQKz8BrKMWN",
        "colab_type": "code",
        "colab": {
          "base_uri": "https://localhost:8080/",
          "height": 496
        },
        "outputId": "16ab9a87-d4c7-4147-d345-3fa93f835523"
      },
      "source": [
        "random_train_reviews = X_train[np.random.choice(len(X_train), 5)]\n",
        "random_train_reviews\n",
        "\n",
        "for review in random_train_reviews:\n",
        "  encode_decode_check(review)"
      ],
      "execution_count": 25,
      "outputs": [
        {
          "output_type": "stream",
          "text": [
            "\n",
            "\n",
            "Original Review: FloridaMEP: RT IMPOmag: #Manufacturing Group Knocks Trump Ahead Of #GOPDebate http://t.co/f3Kh6lVjjn #DonaldTrump http://t.co/XY3tBz78dd\n",
            "Encoded Review: [44, 13, 7, 11, 8, 14, 6, 47, 52, 26, 33, 3, 31, 29, 3, 38, 47, 26, 25, 18, 6, 21, 33, 3, 20, 47, 6, 9, 15, 30, 6, 17, 5, 15, 11, 8, 9, 21, 3, 23, 11, 7, 15, 19, 3, 61, 9, 7, 17, 34, 10, 3, 29, 11, 15, 18, 19, 3, 43, 12, 4, 6, 14, 3, 25, 30, 3, 20, 23, 25, 26, 24, 4, 16, 6, 5, 4, 3, 12, 5, 5, 19, 33, 35, 35, 5, 28, 17, 7, 35, 30, 74, 61, 12, 70, 13, 72, 56, 56, 9, 3, 20, 24, 7, 9, 6, 13, 14, 29, 11, 15, 18, 19, 3, 12, 5, 5, 19, 33, 35, 35, 5, 28, 17, 7, 35, 77, 68, 74, 5, 45, 59, 79, 80, 14, 14]\n",
            "Decoded Review: F l o r i d a M E P :   R T   I M P O m a g :   # M a n u f a c t u r i n g   G r o u p   K n o c k s   T r u m p   A h e a d   O f   # G O P D e b a t e   h t t p : / / t . c o / f 3 K h 6 l V j j n   # D o n a l d T r u m p   h t t p : / / t . c o / X Y 3 t B z 7 8 d d\n",
            "\n",
            "\n",
            "Original Review: RT @RWSurferGirl: I'd really like to see how long each candidate was given to speak.  It didn't seem \"Fair &amp; Balanced\" at all. 🇺🇸 #GOPDebat…\n",
            "Encoded Review: [31, 29, 3, 32, 31, 39, 37, 15, 11, 30, 4, 11, 23, 8, 11, 13, 33, 3, 38, 41, 14, 3, 11, 4, 6, 13, 13, 22, 3, 13, 8, 34, 4, 3, 5, 7, 3, 10, 4, 4, 3, 12, 7, 27, 3, 13, 7, 9, 21, 3, 4, 6, 17, 12, 3, 17, 6, 9, 14, 8, 14, 6, 5, 4, 3, 27, 6, 10, 3, 21, 8, 36, 4, 9, 3, 5, 7, 3, 10, 19, 4, 6, 34, 28, 3, 3, 38, 5, 3, 14, 8, 14, 9, 41, 5, 3, 10, 4, 4, 18, 3, 50, 44, 6, 8, 11, 3, 73, 6, 18, 19, 71, 3, 45, 6, 13, 6, 9, 17, 4, 14, 50, 3, 6, 5, 3, 6, 13, 13, 28, 3, 65, 66, 3, 20, 23, 25, 26, 24, 4, 16, 6, 5, 54]\n",
            "Decoded Review: R T   @ R W S u r f e r G i r l :   I ' d   r e a l l y   l i k e   t o   s e e   h o w   l o n g   e a c h   c a n d i d a t e   w a s   g i v e n   t o   s p e a k .     I t   d i d n ' t   s e e m   \" F a i r   & a m p ;   B a l a n c e d \"   a t   a l l .   🇺 🇸   # G O P D e b a t …\n",
            "\n",
            "\n",
            "Original Review: RT @chrishudsonjr: I just want to see a #GOPDebate where \"God\", \"American Dream\", and \"Ronald Reagan\" don't count as actual arguments.\n",
            "Encoded Review: [31, 29, 3, 32, 17, 12, 11, 8, 10, 12, 15, 14, 10, 7, 9, 56, 11, 33, 3, 38, 3, 56, 15, 10, 5, 3, 27, 6, 9, 5, 3, 5, 7, 3, 10, 4, 4, 3, 6, 3, 20, 23, 25, 26, 24, 4, 16, 6, 5, 4, 3, 27, 12, 4, 11, 4, 3, 50, 23, 7, 14, 50, 42, 3, 50, 43, 18, 4, 11, 8, 17, 6, 9, 3, 24, 11, 4, 6, 18, 50, 42, 3, 6, 9, 14, 3, 50, 31, 7, 9, 6, 13, 14, 3, 31, 4, 6, 21, 6, 9, 50, 3, 14, 7, 9, 41, 5, 3, 17, 7, 15, 9, 5, 3, 6, 10, 3, 6, 17, 5, 15, 6, 13, 3, 6, 11, 21, 15, 18, 4, 9, 5, 10, 28]\n",
            "Decoded Review: R T   @ c h r i s h u d s o n j r :   I   j u s t   w a n t   t o   s e e   a   # G O P D e b a t e   w h e r e   \" G o d \" ,   \" A m e r i c a n   D r e a m \" ,   a n d   \" R o n a l d   R e a g a n \"   d o n ' t   c o u n t   a s   a c t u a l   a r g u m e n t s .\n",
            "\n",
            "\n",
            "Original Review: RT @goldietaylor: Huckabee. #GOPDebates http://t.co/Zy12bdUkx9\n",
            "Encoded Review: [31, 29, 3, 32, 21, 7, 13, 14, 8, 4, 5, 6, 22, 13, 7, 11, 33, 3, 49, 15, 17, 34, 6, 16, 4, 4, 28, 3, 20, 23, 25, 26, 24, 4, 16, 6, 5, 4, 10, 3, 12, 5, 5, 19, 33, 35, 35, 5, 28, 17, 7, 35, 81, 22, 58, 64, 16, 14, 62, 34, 48, 78]\n",
            "Decoded Review: R T   @ g o l d i e t a y l o r :   H u c k a b e e .   # G O P D e b a t e s   h t t p : / / t . c o / Z y 1 2 b d U k x 9\n",
            "\n",
            "\n",
            "Original Review: RT @HalSparks: \"We should respect life from beginning to end\" unless it's in Iran. Then nuke em hard #GOPDebate\n",
            "Encoded Review: [31, 29, 3, 32, 49, 6, 13, 37, 19, 6, 11, 34, 10, 33, 3, 50, 39, 4, 3, 10, 12, 7, 15, 13, 14, 3, 11, 4, 10, 19, 4, 17, 5, 3, 13, 8, 30, 4, 3, 30, 11, 7, 18, 3, 16, 4, 21, 8, 9, 9, 8, 9, 21, 3, 5, 7, 3, 4, 9, 14, 50, 3, 15, 9, 13, 4, 10, 10, 3, 8, 5, 41, 10, 3, 8, 9, 3, 38, 11, 6, 9, 28, 3, 29, 12, 4, 9, 3, 9, 15, 34, 4, 3, 4, 18, 3, 12, 6, 11, 14, 3, 20, 23, 25, 26, 24, 4, 16, 6, 5, 4]\n",
            "Decoded Review: R T   @ H a l S p a r k s :   \" W e   s h o u l d   r e s p e c t   l i f e   f r o m   b e g i n n i n g   t o   e n d \"   u n l e s s   i t ' s   i n   I r a n .   T h e n   n u k e   e m   h a r d   # G O P D e b a t e\n"
          ],
          "name": "stdout"
        }
      ]
    },
    {
      "cell_type": "code",
      "metadata": {
        "id": "OsxwJy7iO2KB",
        "colab_type": "code",
        "colab": {
          "base_uri": "https://localhost:8080/",
          "height": 496
        },
        "outputId": "6c67969f-706d-4cad-e0fb-5f577472e6ea"
      },
      "source": [
        "random_test_reviews = X_test[np.random.choice(len(X_test), 5)]\n",
        "random_test_reviews\n",
        "\n",
        "for review in random_test_reviews:\n",
        "  encode_decode_check(review)"
      ],
      "execution_count": 26,
      "outputs": [
        {
          "output_type": "stream",
          "text": [
            "\n",
            "\n",
            "Original Review: RT @RWSurferGirl: Thanks Fox News, you're raising @realDonaldTrump 's ratings. 🇺🇸 #GOPDebate  #GOPDebates\n",
            "Encoded Review: [31, 29, 3, 32, 31, 39, 37, 15, 11, 30, 4, 11, 23, 8, 11, 13, 33, 3, 29, 12, 6, 9, 34, 10, 3, 44, 7, 48, 3, 46, 4, 27, 10, 42, 3, 22, 7, 15, 41, 11, 4, 3, 11, 6, 8, 10, 8, 9, 21, 3, 32, 11, 4, 6, 13, 24, 7, 9, 6, 13, 14, 29, 11, 15, 18, 19, 3, 41, 10, 3, 11, 6, 5, 8, 9, 21, 10, 28, 3, 65, 66, 3, 20, 23, 25, 26, 24, 4, 16, 6, 5, 4, 3, 3, 20, 23, 25, 26, 24, 4, 16, 6, 5, 4, 10]\n",
            "Decoded Review: R T   @ R W S u r f e r G i r l :   T h a n k s   F o x   N e w s ,   y o u ' r e   r a i s i n g   @ r e a l D o n a l d T r u m p   ' s   r a t i n g s .   🇺 🇸   # G O P D e b a t e     # G O P D e b a t e s\n",
            "\n",
            "\n",
            "Original Review: RT @SupermanHotMale: Donald Trump: Money talks and bullshit walks, he wants to bribe every elected official in America... FU Trump #GopDeba…\n",
            "Encoded Review: [31, 29, 3, 32, 37, 15, 19, 4, 11, 18, 6, 9, 49, 7, 5, 47, 6, 13, 4, 33, 3, 24, 7, 9, 6, 13, 14, 3, 29, 11, 15, 18, 19, 33, 3, 47, 7, 9, 4, 22, 3, 5, 6, 13, 34, 10, 3, 6, 9, 14, 3, 16, 15, 13, 13, 10, 12, 8, 5, 3, 27, 6, 13, 34, 10, 42, 3, 12, 4, 3, 27, 6, 9, 5, 10, 3, 5, 7, 3, 16, 11, 8, 16, 4, 3, 4, 36, 4, 11, 22, 3, 4, 13, 4, 17, 5, 4, 14, 3, 7, 30, 30, 8, 17, 8, 6, 13, 3, 8, 9, 3, 43, 18, 4, 11, 8, 17, 6, 28, 28, 28, 3, 44, 62, 3, 29, 11, 15, 18, 19, 3, 20, 23, 7, 19, 24, 4, 16, 6, 54]\n",
            "Decoded Review: R T   @ S u p e r m a n H o t M a l e :   D o n a l d   T r u m p :   M o n e y   t a l k s   a n d   b u l l s h i t   w a l k s ,   h e   w a n t s   t o   b r i b e   e v e r y   e l e c t e d   o f f i c i a l   i n   A m e r i c a . . .   F U   T r u m p   # G o p D e b a …\n",
            "\n",
            "\n",
            "Original Review: RT @HRC: The fact is @RandPaul has staked out a consistent record against equality. Learn more http://t.co/xHYjH1FJfk #GOPDebate\n",
            "Encoded Review: [31, 29, 3, 32, 49, 31, 40, 33, 3, 29, 12, 4, 3, 30, 6, 17, 5, 3, 8, 10, 3, 32, 31, 6, 9, 14, 26, 6, 15, 13, 3, 12, 6, 10, 3, 10, 5, 6, 34, 4, 14, 3, 7, 15, 5, 3, 6, 3, 17, 7, 9, 10, 8, 10, 5, 4, 9, 5, 3, 11, 4, 17, 7, 11, 14, 3, 6, 21, 6, 8, 9, 10, 5, 3, 4, 69, 15, 6, 13, 8, 5, 22, 28, 3, 51, 4, 6, 11, 9, 3, 18, 7, 11, 4, 3, 12, 5, 5, 19, 33, 35, 35, 5, 28, 17, 7, 35, 48, 49, 68, 56, 49, 58, 44, 57, 30, 34, 3, 20, 23, 25, 26, 24, 4, 16, 6, 5, 4]\n",
            "Decoded Review: R T   @ H R C :   T h e   f a c t   i s   @ R a n d P a u l   h a s   s t a k e d   o u t   a   c o n s i s t e n t   r e c o r d   a g a i n s t   e q u a l i t y .   L e a r n   m o r e   h t t p : / / t . c o / x H Y j H 1 F J f k   # G O P D e b a t e\n",
            "\n",
            "\n",
            "Original Review: RT @RWSurferGirl: Ask Trump a legitimate question. Look at Wallace's face when Trump nails it. 🇺🇸 #GOPDebate  #GOPDebates\n",
            "Encoded Review: [31, 29, 3, 32, 31, 39, 37, 15, 11, 30, 4, 11, 23, 8, 11, 13, 33, 3, 43, 10, 34, 3, 29, 11, 15, 18, 19, 3, 6, 3, 13, 4, 21, 8, 5, 8, 18, 6, 5, 4, 3, 69, 15, 4, 10, 5, 8, 7, 9, 28, 3, 51, 7, 7, 34, 3, 6, 5, 3, 39, 6, 13, 13, 6, 17, 4, 41, 10, 3, 30, 6, 17, 4, 3, 27, 12, 4, 9, 3, 29, 11, 15, 18, 19, 3, 9, 6, 8, 13, 10, 3, 8, 5, 28, 3, 65, 66, 3, 20, 23, 25, 26, 24, 4, 16, 6, 5, 4, 3, 3, 20, 23, 25, 26, 24, 4, 16, 6, 5, 4, 10]\n",
            "Decoded Review: R T   @ R W S u r f e r G i r l :   A s k   T r u m p   a   l e g i t i m a t e   q u e s t i o n .   L o o k   a t   W a l l a c e ' s   f a c e   w h e n   T r u m p   n a i l s   i t .   🇺 🇸   # G O P D e b a t e     # G O P D e b a t e s\n",
            "\n",
            "\n",
            "Original Review: @whitemamba23 100%!!! Hilary hanging with Kimye and Trump is dead center at #GOPDebates but a 3rd party is \"stupid\"??\n",
            "Encoded Review: [32, 27, 12, 8, 5, 4, 18, 6, 18, 16, 6, 64, 74, 3, 58, 63, 63, 91, 60, 60, 60, 3, 49, 8, 13, 6, 11, 22, 3, 12, 6, 9, 21, 8, 9, 21, 3, 27, 8, 5, 12, 3, 61, 8, 18, 22, 4, 3, 6, 9, 14, 3, 29, 11, 15, 18, 19, 3, 8, 10, 3, 14, 4, 6, 14, 3, 17, 4, 9, 5, 4, 11, 3, 6, 5, 3, 20, 23, 25, 26, 24, 4, 16, 6, 5, 4, 10, 3, 16, 15, 5, 3, 6, 3, 74, 11, 14, 3, 19, 6, 11, 5, 22, 3, 8, 10, 3, 50, 10, 5, 15, 19, 8, 14, 50, 53, 53]\n",
            "Decoded Review: @ w h i t e m a m b a 2 3   1 0 0 % ! ! !   H i l a r y   h a n g i n g   w i t h   K i m y e   a n d   T r u m p   i s   d e a d   c e n t e r   a t   # G O P D e b a t e s   b u t   a   3 r d   p a r t y   i s   \" s t u p i d \" ? ?\n"
          ],
          "name": "stdout"
        }
      ]
    },
    {
      "cell_type": "code",
      "metadata": {
        "id": "Ju0xEz03KVp1",
        "colab_type": "code",
        "colab": {}
      },
      "source": [
        "X_train_encoded = [encode_review(review) for review in X_train]\n",
        "X_test_encoded = [encode_review(review) for review in X_test]"
      ],
      "execution_count": 27,
      "outputs": []
    },
    {
      "cell_type": "markdown",
      "metadata": {
        "id": "2Cl70CueRkAx",
        "colab_type": "text"
      },
      "source": [
        "# Zero Padding"
      ]
    },
    {
      "cell_type": "code",
      "metadata": {
        "id": "H0cpgQ_RLVZb",
        "colab_type": "code",
        "colab": {}
      },
      "source": [
        "from tensorflow.keras.preprocessing import sequence\n",
        "\n",
        "X_train_encoded = sequence.pad_sequences(X_train_encoded, maxlen=time_steps)\n",
        "X_test_encoded = sequence.pad_sequences(X_test_encoded, maxlen=time_steps)"
      ],
      "execution_count": 28,
      "outputs": []
    },
    {
      "cell_type": "code",
      "metadata": {
        "id": "4qhAnUqhOtT1",
        "colab_type": "code",
        "colab": {
          "base_uri": "https://localhost:8080/",
          "height": 366
        },
        "outputId": "178f96a6-0347-4e59-a47e-f1530aeccc12"
      },
      "source": [
        "X_train_encoded[0:2]"
      ],
      "execution_count": 29,
      "outputs": [
        {
          "output_type": "execute_result",
          "data": {
            "text/plain": [
              "array([[ 0,  0,  0,  0,  0,  0,  0,  0,  0,  0,  0,  0,  0,  0,  0,  0,\n",
              "         0,  0,  0,  0,  0,  0,  0, 31, 29,  3, 32, 31, 39, 37, 15, 11,\n",
              "        30,  4, 11, 23,  8, 11, 13, 33,  3, 39,  4,  3,  5, 12,  4,  3,\n",
              "        43, 18,  4, 11,  8, 17,  6,  9,  3, 19,  4,  7, 19, 13,  4,  3,\n",
              "        19,  8, 17, 34,  3,  5, 12,  4,  3,  9,  4, 48,  5,  3, 26, 11,\n",
              "         4, 10,  8, 14,  4,  9,  5,  3,  7, 30,  3, 62,  9,  8,  5,  4,\n",
              "        14,  3, 37,  5,  6,  5,  4, 10,  3,  9,  7,  5,  3, 44, 25, 77,\n",
              "         3, 46,  4, 27, 10,  3, 65, 66,  3, 20, 23, 25, 26, 24,  4, 16,\n",
              "         6,  5,  4,  3,  3, 20, 23, 25, 26, 24,  4, 16,  6,  5,  4, 10],\n",
              "       [ 0,  0,  0,  0,  0,  0,  0,  0,  0,  0,  0,  0,  0,  0,  0,  0,\n",
              "         0,  0,  0,  0,  0,  0,  0,  0,  0,  0,  0,  0,  0,  0,  0,  0,\n",
              "         0,  0,  0,  0,  0,  0,  0,  0,  0, 31, 29,  3, 32, 61,  4, 36,\n",
              "        77, 38,  9, 14, 22, 33,  3, 38,  3, 10,  4, 11,  8,  7, 15, 10,\n",
              "        13, 22,  3, 27,  8, 10, 12,  3, 32, 57,  6, 18,  4, 10, 31,  7,\n",
              "        10,  4,  9, 44, 46, 40,  3, 27,  6, 10,  3,  7,  9,  4,  3,  7,\n",
              "        30,  3,  5,  7,  9,  8, 21, 12,  5, 41, 10,  3, 18,  7, 14,  4,\n",
              "        11,  6,  5,  7, 11, 10,  3, 20, 44, 25, 77, 46, 52, 39, 37, 24,\n",
              "        52, 45, 43, 29, 52,  3, 20, 23, 25, 26, 24,  4, 16,  6,  5,  4]],\n",
              "      dtype=int32)"
            ]
          },
          "metadata": {
            "tags": []
          },
          "execution_count": 29
        }
      ]
    },
    {
      "cell_type": "code",
      "metadata": {
        "id": "g1-iJ2nOOwJ4",
        "colab_type": "code",
        "colab": {
          "base_uri": "https://localhost:8080/",
          "height": 366
        },
        "outputId": "f2d9509f-cc57-4457-a5f2-970335f6057e"
      },
      "source": [
        "X_test_encoded[0:2]"
      ],
      "execution_count": 30,
      "outputs": [
        {
          "output_type": "execute_result",
          "data": {
            "text/plain": [
              "array([[ 0,  0,  0,  0,  0,  0,  0,  0,  0,  0,  0,  0,  0,  0,  0,  0,\n",
              "         0,  0,  0,  0,  0,  0,  0,  0,  0,  0,  0,  0,  0,  0,  0,  0,\n",
              "         0,  0,  0,  0,  0,  0,  0,  0,  0,  0,  0,  0,  0,  0,  0,  0,\n",
              "         0,  0,  0,  0,  0,  0,  0,  0,  0,  0,  0,  0,  0,  0,  0,  0,\n",
              "         0,  0,  0,  0, 29,  7,  3, 18,  4, 42,  3,  5, 12,  4,  3, 11,\n",
              "         4,  6, 13,  3, 27,  8,  9,  9,  4, 11,  3,  7, 30,  3, 13,  6,\n",
              "        10,  5,  3,  9,  8, 21, 12,  5,  3, 20, 23, 25, 26, 24,  4, 16,\n",
              "         6,  5,  4,  3, 27,  6, 10,  3, 32, 18,  4, 21, 22,  9, 34,  4,\n",
              "        13, 13, 22, 28,  3, 20, 47,  4, 21, 22,  9, 61,  4, 13, 13, 22],\n",
              "       [ 0,  0,  0,  0, 31, 29,  3, 32, 24,  6,  9, 37, 17,  6, 36,  8,\n",
              "         9,  7, 33,  3, 28, 32, 18,  4, 21, 22,  9, 34,  4, 13, 13, 22,\n",
              "        42, 55, 37,  7, 18,  4,  3, 11,  4, 10, 15, 13,  5, 10,  3,  7,\n",
              "         9,  3, 12,  7, 27,  3, 17,  6,  9, 14,  8, 14,  6,  5,  4, 10,\n",
              "         3, 14,  8, 14,  3,  6,  5,  3, 20, 23, 25, 26, 24,  4, 16,  6,\n",
              "         5,  4, 28,  3, 20, 47,  6, 34,  4, 43, 18,  4, 11,  8, 17,  6,\n",
              "        23, 11,  4,  6,  5, 43, 21,  6,  8,  9,  3, 20, 29, 11, 15, 18,\n",
              "        19, 64, 63, 58, 70,  3, 20, 61,  4, 13, 13, 22, 44,  6,  8, 13,\n",
              "         4, 14,  3, 12,  5,  5, 19, 33, 35, 35,  5, 28, 17,  7, 35, 54]],\n",
              "      dtype=int32)"
            ]
          },
          "metadata": {
            "tags": []
          },
          "execution_count": 30
        }
      ]
    },
    {
      "cell_type": "markdown",
      "metadata": {
        "id": "1WXwBQQ0Rodu",
        "colab_type": "text"
      },
      "source": [
        "# Model Training"
      ]
    },
    {
      "cell_type": "code",
      "metadata": {
        "id": "WQCR5F8EOzE1",
        "colab_type": "code",
        "colab": {}
      },
      "source": [
        "import tensorflow as tf\n",
        "from tensorflow.keras import Sequential\n",
        "from tensorflow.keras.layers import Embedding, Dense, Dropout\n",
        "from tensorflow.keras.layers import SimpleRNN as RNN\n",
        "from tensorflow.keras.layers import LSTM as LSTM\n",
        "from tensorflow.keras.layers import GRU as GRU"
      ],
      "execution_count": 31,
      "outputs": []
    },
    {
      "cell_type": "code",
      "metadata": {
        "id": "KklDFGZzO-0d",
        "colab_type": "code",
        "colab": {}
      },
      "source": [
        "import matplotlib.pyplot as plt\n",
        "%matplotlib inline\n",
        "\n",
        "def plot_metrics(history: tf.python.keras.callbacks.History, metrics: List[str] = ['loss'], figsize: Tuple[int, int] = (10,4), title: str = \"Train/Test Curves\", titlefontsize:int = 14):\n",
        "  \"\"\"\n",
        "  This functin will plot the metrics for the model\n",
        "  :param history: The history object obtained from the fit function.\n",
        "  :type history: tf.python.keras.callbacks.History\n",
        "  :param metrics: What metrics to plot for the model (Default = ['loss'])\n",
        "  :type metrics: List[str]\n",
        "  :param figsize: Figure size to be used for plotting (Default = (10,4))\n",
        "  :type figsize: Tuple(int,int)\n",
        "  \"\"\"\n",
        "  num_plots = len(metrics)\n",
        "  fig, axes = plt.subplots(int(num_plots/2), 2, figsize=figsize)\n",
        "\n",
        "  for num, metric in enumerate(metrics):\n",
        "    # summarize history for metric\n",
        "    if num <= 2:\n",
        "      axes[num%2].plot(history.history[metric])\n",
        "      axes[num%2].plot(history.history['val_' + metric])\n",
        "      axes[num%2].set_title('Model ' + metric)\n",
        "      axes[num%2].set(xlabel='Epoch', ylabel=metric)\n",
        "      axes[num%2].legend(['train', 'val'], loc='best')    \n",
        "    else:\n",
        "      axes[floor(num/2), num%2].plot(history.history[metric])\n",
        "      axes[floor(num/2), num%2].plot(history.history['val_' + metric])\n",
        "      axes[floor(num/2), num%2].set_title('Model ' + metric)\n",
        "      axes[floor(num/2), num%2].set(xlabel='Epoch', ylabel=metric)\n",
        "      axes[floor(num/2), num%2].legend(['train', 'val'], loc='best')\n",
        "\n",
        "  plt.suptitle(title, fontsize=titlefontsize, y=1.02)    \n",
        "  plt.tight_layout()\n",
        "  _ = plt.show"
      ],
      "execution_count": 32,
      "outputs": []
    },
    {
      "cell_type": "code",
      "metadata": {
        "id": "MWs-a9b7PBiZ",
        "colab_type": "code",
        "colab": {}
      },
      "source": [
        "from tensorflow.keras.callbacks import EarlyStopping\n",
        "# If validation error does not improve for 'patience' epochs, then terminate the training\n",
        "es = EarlyStopping(min_delta=0,patience=3)"
      ],
      "execution_count": 33,
      "outputs": []
    },
    {
      "cell_type": "code",
      "metadata": {
        "id": "sTlZ2fOOPIm3",
        "colab_type": "code",
        "colab": {}
      },
      "source": [
        "# import other libs as needed for building model\n",
        "from tensorflow.keras.callbacks import ModelCheckpoint\n",
        "\n",
        "# add a checkpoint to save the lowest validation loss\n",
        "filepath = '.'\n",
        "checkpoint = ModelCheckpoint(filepath, monitor='val_loss', verbose=1, \n",
        "                             save_best_only=True, save_weights_only=False, \n",
        "                             mode='auto', save_frequency=1)"
      ],
      "execution_count": 34,
      "outputs": []
    },
    {
      "cell_type": "code",
      "metadata": {
        "id": "hgMBsfCHPJNx",
        "colab_type": "code",
        "colab": {}
      },
      "source": [
        "def create_model(\n",
        "    vocabulary_size: int,\n",
        "    time_steps: int,\n",
        "    embedding_size: int,\n",
        "    num_classes: int,\n",
        "    type: str = 'lstm',\n",
        "    num_neuron: int=100,\n",
        "    dropout: float=0,\n",
        "    recurrent_dropout: float=0\n",
        "    ) -> tf.keras.layers.Layer:\n",
        "  \"\"\"\n",
        "  Creates a Sequence Model with the passed parameters\n",
        "  :param vocabulary_size Size of the Vocabulary\n",
        "  :type vocabulary_size int\n",
        "  :param time_steps Number of steps in the sequence (e.g. length of sentence)\n",
        "  :type time_steps int\n",
        "  :param embedding_size Size of the Embedding \n",
        "  :type embedding_size int\n",
        "  :param num_classes Number of Classes to predict (2 for binary, 3 for ternary, etc.)\n",
        "  :type num_classes int\n",
        "  :param type Type of sequence model (Options: 'simple_rnn', 'lstm' or 'gru' (Default: 'lstm')\n",
        "  :type type str\n",
        "  :param num_neuron Number of neurons to be passed to the \"cell\"\n",
        "  :type num_neuron int\n",
        "  :param dropout Amount of dropout to use between the memory layer and the fully connected layer\n",
        "  :type dropout float\n",
        "  :param recurrent_dropout Amount of recurrent dropout to use\n",
        "  :type recurrent_dropout float\n",
        "  :rtype tf.keras.layers.Layer\n",
        "  \"\"\"\n",
        "  model = Sequential()\n",
        "  model.add(Embedding(vocabulary_size, embedding_size, input_length=time_steps))\n",
        "  if type.lower() == 'simple_rnn':\n",
        "    model.add(RNN(num_neuron, recurrent_dropout=recurrent_dropout))\n",
        "  elif type.lower() == 'lstm':\n",
        "    model.add(LSTM(num_neuron, recurrent_dropout=recurrent_dropout))\n",
        "  elif type.lower() == 'gru':\n",
        "    model.add(GRU(num_neuron, recurrent_dropout=recurrent_dropout))\n",
        "  else:\n",
        "    sys.exit(\"You have not passed the right argument for type.\")\n",
        "  model.add(Dropout(dropout))\n",
        "  model.add(Dense(num_classes, activation='softmax'))\n",
        "  model.compile(loss='sparse_categorical_crossentropy', optimizer='adam', metrics=['accuracy'])\n",
        "  return model\n",
        "\n",
        "def create_simple_rnn_model(vocabulary_size: int, time_steps: int, embedding_size: int, num_classes: int, num_neuron: int=100, dropout: float=0, recurrent_dropout: float=0) -> tf.keras.layers.Layer:\n",
        "  \"\"\"\n",
        "  Creates a Simple RNN Model with the passed parameters\n",
        "  :param vocabulary_size Size of the Vocabulary\n",
        "  :type vocabulary_size int\n",
        "  :param time_steps Number of steps in the sequence (e.g. length of sentence)\n",
        "  :type time_steps int\n",
        "  :param embedding_size Size of the Embedding \n",
        "  :type embedding_size int\n",
        "  :param num_classes Number of Classes to predict (2 for binary, 3 for ternary, etc.)\n",
        "  :type num_classes int\n",
        "  :param num_neuron Number of neurons to be passed to the \"cell\"\n",
        "  :type num_neuron int\n",
        "  :param dropout Amount of dropout to use between the memory layer and the fully connected layer\n",
        "  :type dropout float\n",
        "  :param recurrent_dropout Amount of recurrent dropout to use\n",
        "  :type recurrent_dropout float\n",
        "  :rtype tf.keras.layers.Layer\n",
        "  \"\"\"\n",
        "  model = create_model(vocabulary_size, time_steps, embedding_size, num_classes, 'simple_rnn', num_neuron, dropout, recurrent_dropout)\n",
        "  return model\n",
        "\n",
        "def create_lstm_model(vocabulary_size: int, time_steps: int, embedding_size: int, num_classes: int, num_neuron: int=100, dropout: float=0, recurrent_dropout: float=0) -> tf.keras.layers.Layer:\n",
        "  \"\"\"\n",
        "  Creates a LSTM Model with the passed parameters\n",
        "  :param vocabulary_size Size of the Vocabulary\n",
        "  :type vocabulary_size int\n",
        "  :param time_steps Number of steps in the sequence (e.g. length of sentence)\n",
        "  :type time_steps int\n",
        "  :param embedding_size Size of the Embedding \n",
        "  :type embedding_size int\n",
        "  :param num_classes Number of Classes to predict (2 for binary, 3 for ternary, etc.)\n",
        "  :type num_classes int\n",
        "  :param num_neuron Number of neurons to be passed to the \"cell\"\n",
        "  :type num_neuron int\n",
        "  :param dropout Amount of dropout to use between the memory layer and the fully connected layer\n",
        "  :type dropout float\n",
        "  :param recurrent_dropout Amount of recurrent dropout to use\n",
        "  :type recurrent_dropout float\n",
        "  :rtype tf.keras.layers.Layer\n",
        "  \"\"\"\n",
        "  model = create_model(vocabulary_size, time_steps, embedding_size, num_classes, 'lstm', num_neuron, dropout, recurrent_dropout)\n",
        "  return model\n",
        "\n",
        "def create_gru_model(vocabulary_size: int, time_steps: int, embedding_size: int, num_classes: int, num_neuron: int=100, dropout: float=0, recurrent_dropout: float=0) -> tf.keras.layers.Layer:\n",
        "  \"\"\"\n",
        "  Creates a GRU Model with the passed parameters\n",
        "  :param vocabulary_size Size of the Vocabulary\n",
        "  :type vocabulary_size int\n",
        "  :param time_steps Number of steps in the sequence (e.g. length of sentence)\n",
        "  :type time_steps int\n",
        "  :param embedding_size Size of the Embedding \n",
        "  :type embedding_size int\n",
        "  :param num_classes Number of Classes to predict (2 for binary, 3 for ternary, etc.)\n",
        "  :type num_classes int\n",
        "  :param num_neuron Number of neurons to be passed to the \"cell\"\n",
        "  :type num_neuron int\n",
        "  :param dropout Amount of dropout to use between the memory layer and the fully connected layer\n",
        "  :type dropout float\n",
        "  :param recurrent_dropout Amount of recurrent dropout to use\n",
        "  :type recurrent_dropout float\n",
        "  :rtype tf.keras.layers.Layer\n",
        "  \"\"\"\n",
        "  model = create_model(vocabulary_size, time_steps, embedding_size, num_classes, 'gru', num_neuron, dropout, recurrent_dropout)\n",
        "  return model"
      ],
      "execution_count": 35,
      "outputs": []
    },
    {
      "cell_type": "code",
      "metadata": {
        "id": "rsUIpEL-Pa-u",
        "colab_type": "code",
        "colab": {
          "base_uri": "https://localhost:8080/",
          "height": 1000
        },
        "outputId": "68b34d16-dd7c-4f18-d297-4b5644995a3b"
      },
      "source": [
        "vocabulary_size = vocabulary_size\n",
        "embedding_size = 100\n",
        "time_steps = time_steps\n",
        "num_neuron = 100\n",
        "dropout = 0.2\n",
        "recurrent_dropout = 0.2\n",
        "EPOCHS = 20\n",
        "\n",
        "# Build Model and Train\n",
        "model = create_lstm_model(vocabulary_size=vocabulary_size, embedding_size=embedding_size, time_steps=time_steps, num_classes=3, num_neuron=num_neuron, dropout=dropout, recurrent_dropout=recurrent_dropout)\n",
        "print(model.summary())\n",
        "history = model.fit(X_train_encoded, y_train, validation_data=(X_test_encoded, y_test), epochs=EPOCHS, batch_size=256, callbacks=[es, checkpoint])\n",
        "plot_metrics(history,\n",
        "             metrics=['loss', 'accuracy'],\n",
        "             title = f\"LSTM --> Vocab: {vocabulary_size}, Steps: {time_steps}, Embedding: {embedding_size}, Neurons: {num_neuron}, Dropout: {round(dropout,2)}, Rec. Dropout: {round(recurrent_dropout,2)}\")"
      ],
      "execution_count": 36,
      "outputs": [
        {
          "output_type": "stream",
          "text": [
            "WARNING:tensorflow:Layer lstm will not use cuDNN kernel since it doesn't meet the cuDNN kernel criteria. It will use generic GPU kernel as fallback when running on GPU\n",
            "Model: \"sequential\"\n",
            "_________________________________________________________________\n",
            "Layer (type)                 Output Shape              Param #   \n",
            "=================================================================\n",
            "embedding (Embedding)        (None, 144, 100)          24600     \n",
            "_________________________________________________________________\n",
            "lstm (LSTM)                  (None, 100)               80400     \n",
            "_________________________________________________________________\n",
            "dropout (Dropout)            (None, 100)               0         \n",
            "_________________________________________________________________\n",
            "dense (Dense)                (None, 3)                 303       \n",
            "=================================================================\n",
            "Total params: 105,303\n",
            "Trainable params: 105,303\n",
            "Non-trainable params: 0\n",
            "_________________________________________________________________\n",
            "None\n",
            "Epoch 1/20\n",
            "44/44 [==============================] - ETA: 0s - loss: 0.9490 - accuracy: 0.6015\n",
            "Epoch 00001: val_loss improved from inf to 0.89852, saving model to .\n",
            "WARNING:tensorflow:From /usr/local/lib/python3.6/dist-packages/tensorflow/python/training/tracking/tracking.py:111: Model.state_updates (from tensorflow.python.keras.engine.training) is deprecated and will be removed in a future version.\n",
            "Instructions for updating:\n",
            "This property should not be used in TensorFlow 2.0, as updates are applied automatically.\n",
            "WARNING:tensorflow:From /usr/local/lib/python3.6/dist-packages/tensorflow/python/training/tracking/tracking.py:111: Layer.updates (from tensorflow.python.keras.engine.base_layer) is deprecated and will be removed in a future version.\n",
            "Instructions for updating:\n",
            "This property should not be used in TensorFlow 2.0, as updates are applied automatically.\n",
            "INFO:tensorflow:Assets written to: ./assets\n",
            "44/44 [==============================] - 31s 713ms/step - loss: 0.9490 - accuracy: 0.6015 - val_loss: 0.8985 - val_accuracy: 0.6191\n",
            "Epoch 2/20\n",
            "44/44 [==============================] - ETA: 0s - loss: 0.9068 - accuracy: 0.6145\n",
            "Epoch 00002: val_loss improved from 0.89852 to 0.88146, saving model to .\n",
            "INFO:tensorflow:Assets written to: ./assets\n",
            "44/44 [==============================] - 31s 715ms/step - loss: 0.9068 - accuracy: 0.6145 - val_loss: 0.8815 - val_accuracy: 0.6245\n",
            "Epoch 3/20\n",
            "44/44 [==============================] - ETA: 0s - loss: 0.8915 - accuracy: 0.6169\n",
            "Epoch 00003: val_loss improved from 0.88146 to 0.87020, saving model to .\n",
            "INFO:tensorflow:Assets written to: ./assets\n",
            "44/44 [==============================] - 31s 716ms/step - loss: 0.8915 - accuracy: 0.6169 - val_loss: 0.8702 - val_accuracy: 0.6220\n",
            "Epoch 4/20\n",
            "44/44 [==============================] - ETA: 0s - loss: 0.8814 - accuracy: 0.6191\n",
            "Epoch 00004: val_loss did not improve from 0.87020\n",
            "44/44 [==============================] - 28s 635ms/step - loss: 0.8814 - accuracy: 0.6191 - val_loss: 0.8792 - val_accuracy: 0.6303\n",
            "Epoch 5/20\n",
            "44/44 [==============================] - ETA: 0s - loss: 0.8736 - accuracy: 0.6261\n",
            "Epoch 00005: val_loss improved from 0.87020 to 0.85850, saving model to .\n",
            "INFO:tensorflow:Assets written to: ./assets\n",
            "44/44 [==============================] - 32s 723ms/step - loss: 0.8736 - accuracy: 0.6261 - val_loss: 0.8585 - val_accuracy: 0.6245\n",
            "Epoch 6/20\n",
            "44/44 [==============================] - ETA: 0s - loss: 0.8637 - accuracy: 0.6287\n",
            "Epoch 00006: val_loss improved from 0.85850 to 0.85358, saving model to .\n",
            "INFO:tensorflow:Assets written to: ./assets\n",
            "44/44 [==============================] - 32s 722ms/step - loss: 0.8637 - accuracy: 0.6287 - val_loss: 0.8536 - val_accuracy: 0.6353\n",
            "Epoch 7/20\n",
            "44/44 [==============================] - ETA: 0s - loss: 0.8624 - accuracy: 0.6286\n",
            "Epoch 00007: val_loss improved from 0.85358 to 0.85201, saving model to .\n",
            "INFO:tensorflow:Assets written to: ./assets\n",
            "44/44 [==============================] - 31s 715ms/step - loss: 0.8624 - accuracy: 0.6286 - val_loss: 0.8520 - val_accuracy: 0.6368\n",
            "Epoch 8/20\n",
            "44/44 [==============================] - ETA: 0s - loss: 0.8486 - accuracy: 0.6334\n",
            "Epoch 00008: val_loss improved from 0.85201 to 0.84988, saving model to .\n",
            "INFO:tensorflow:Assets written to: ./assets\n",
            "44/44 [==============================] - 32s 717ms/step - loss: 0.8486 - accuracy: 0.6334 - val_loss: 0.8499 - val_accuracy: 0.6299\n",
            "Epoch 9/20\n",
            "44/44 [==============================] - ETA: 0s - loss: 0.8455 - accuracy: 0.6358\n",
            "Epoch 00009: val_loss did not improve from 0.84988\n",
            "44/44 [==============================] - 28s 644ms/step - loss: 0.8455 - accuracy: 0.6358 - val_loss: 0.8553 - val_accuracy: 0.6317\n",
            "Epoch 10/20\n",
            "44/44 [==============================] - ETA: 0s - loss: 0.8418 - accuracy: 0.6369\n",
            "Epoch 00010: val_loss improved from 0.84988 to 0.84685, saving model to .\n",
            "INFO:tensorflow:Assets written to: ./assets\n",
            "44/44 [==============================] - 32s 726ms/step - loss: 0.8418 - accuracy: 0.6369 - val_loss: 0.8469 - val_accuracy: 0.6335\n",
            "Epoch 11/20\n",
            "44/44 [==============================] - ETA: 0s - loss: 0.8366 - accuracy: 0.6379\n",
            "Epoch 00011: val_loss did not improve from 0.84685\n",
            "44/44 [==============================] - 29s 648ms/step - loss: 0.8366 - accuracy: 0.6379 - val_loss: 0.8489 - val_accuracy: 0.6295\n",
            "Epoch 12/20\n",
            "44/44 [==============================] - ETA: 0s - loss: 0.8369 - accuracy: 0.6361\n",
            "Epoch 00012: val_loss improved from 0.84685 to 0.84657, saving model to .\n",
            "INFO:tensorflow:Assets written to: ./assets\n",
            "44/44 [==============================] - 31s 714ms/step - loss: 0.8369 - accuracy: 0.6361 - val_loss: 0.8466 - val_accuracy: 0.6393\n",
            "Epoch 13/20\n",
            "44/44 [==============================] - ETA: 0s - loss: 0.8355 - accuracy: 0.6406\n",
            "Epoch 00013: val_loss improved from 0.84657 to 0.83955, saving model to .\n",
            "INFO:tensorflow:Assets written to: ./assets\n",
            "44/44 [==============================] - 31s 713ms/step - loss: 0.8355 - accuracy: 0.6406 - val_loss: 0.8396 - val_accuracy: 0.6396\n",
            "Epoch 14/20\n",
            "44/44 [==============================] - ETA: 0s - loss: 0.8305 - accuracy: 0.6439\n",
            "Epoch 00014: val_loss did not improve from 0.83955\n",
            "44/44 [==============================] - 28s 642ms/step - loss: 0.8305 - accuracy: 0.6439 - val_loss: 0.8438 - val_accuracy: 0.6328\n",
            "Epoch 15/20\n",
            "44/44 [==============================] - ETA: 0s - loss: 0.8288 - accuracy: 0.6426\n",
            "Epoch 00015: val_loss did not improve from 0.83955\n",
            "44/44 [==============================] - 28s 639ms/step - loss: 0.8288 - accuracy: 0.6426 - val_loss: 0.8430 - val_accuracy: 0.6436\n",
            "Epoch 16/20\n",
            "44/44 [==============================] - ETA: 0s - loss: 0.8267 - accuracy: 0.6448\n",
            "Epoch 00016: val_loss did not improve from 0.83955\n",
            "44/44 [==============================] - 28s 640ms/step - loss: 0.8267 - accuracy: 0.6448 - val_loss: 0.8476 - val_accuracy: 0.6371\n"
          ],
          "name": "stdout"
        },
        {
          "output_type": "display_data",
          "data": {
            "image/png": "[encoded data removed]",
            "text/plain": [
              "<Figure size 720x288 with 2 Axes>"
            ]
          },
          "metadata": {
            "tags": [],
            "needs_background": "light"
          }
        }
      ]
    },
    {
      "cell_type": "code",
      "metadata": {
        "id": "f6KOrBsIYsg_",
        "colab_type": "code",
        "colab": {}
      },
      "source": [
        "# Save the model\n",
        "model.save('unigram_model.h5')"
      ],
      "execution_count": 37,
      "outputs": []
    },
    {
      "cell_type": "markdown",
      "metadata": {
        "id": "W5buaSfjPuRI",
        "colab_type": "text"
      },
      "source": [
        "# Emoji Vector"
      ]
    },
    {
      "cell_type": "code",
      "metadata": {
        "id": "ehEjmTBzWKLb",
        "colab_type": "code",
        "colab": {
          "base_uri": "https://localhost:8080/",
          "height": 35
        },
        "outputId": "52d64bab-7232-4819-d997-6d850e4f0d19"
      },
      "source": [
        "all_weights = history.model.get_weights()\n",
        "embeddings = all_weights[0]\n",
        "embeddings.shape"
      ],
      "execution_count": 38,
      "outputs": [
        {
          "output_type": "execute_result",
          "data": {
            "text/plain": [
              "(246, 100)"
            ]
          },
          "metadata": {
            "tags": []
          },
          "execution_count": 38
        }
      ]
    },
    {
      "cell_type": "code",
      "metadata": {
        "id": "eEbvgCB3Ps0U",
        "colab_type": "code",
        "colab": {
          "base_uri": "https://localhost:8080/",
          "height": 35
        },
        "outputId": "8dbe8de0-0e86-43d6-89c2-1f1789a8b053"
      },
      "source": [
        "emoji = None\n",
        "for (char, num_occurance) in fdist.most_common():\n",
        "  if num_occurance == 95:\n",
        "    emoji = char\n",
        "print(emoji) "
      ],
      "execution_count": 39,
      "outputs": [
        {
          "output_type": "stream",
          "text": [
            "😂\n"
          ],
          "name": "stdout"
        }
      ]
    },
    {
      "cell_type": "code",
      "metadata": {
        "id": "7FKlFXqjXF3w",
        "colab_type": "code",
        "colab": {
          "base_uri": "https://localhost:8080/",
          "height": 35
        },
        "outputId": "d0da4b99-12e0-451c-cc82-67e6bd99f904"
      },
      "source": [
        "emoji_index = word_index[emoji]\n",
        "emoji_index"
      ],
      "execution_count": 40,
      "outputs": [
        {
          "output_type": "execute_result",
          "data": {
            "text/plain": [
              "90"
            ]
          },
          "metadata": {
            "tags": []
          },
          "execution_count": 40
        }
      ]
    },
    {
      "cell_type": "code",
      "metadata": {
        "id": "0oqn2Y32YHmg",
        "colab_type": "code",
        "colab": {
          "base_uri": "https://localhost:8080/",
          "height": 495
        },
        "outputId": "e9aa0c70-fde5-4588-e3a4-82bcfb41956e"
      },
      "source": [
        "emoji_weight = embeddings[emoji_index]\n",
        "emoji_weight"
      ],
      "execution_count": 41,
      "outputs": [
        {
          "output_type": "execute_result",
          "data": {
            "text/plain": [
              "array([-2.39063445e-02, -7.19132423e-02,  9.97564718e-02,  6.45954954e-03,\n",
              "       -6.18424490e-02, -5.70372045e-02,  1.43160895e-02, -2.02886388e-02,\n",
              "        3.79882455e-02,  2.16219705e-02, -4.99909706e-02,  5.89939095e-02,\n",
              "        3.48653411e-03,  1.95452735e-01,  2.32533664e-02, -1.52368433e-04,\n",
              "       -9.25930664e-02, -6.69578016e-02,  4.11466062e-02, -5.49434498e-02,\n",
              "       -2.67005060e-02, -1.23032779e-02, -8.24195892e-02, -7.84050375e-02,\n",
              "       -1.67556312e-02, -9.89016965e-02,  1.02772210e-02,  7.94449076e-02,\n",
              "       -7.53539652e-02,  5.46907447e-02, -7.47432094e-03, -5.75458677e-03,\n",
              "        2.02195421e-02, -1.50325457e-02, -1.87606037e-01, -5.94125502e-02,\n",
              "        3.26328799e-02,  1.87784433e-02, -6.90076947e-02,  7.49504194e-02,\n",
              "       -5.80474176e-03,  6.67760596e-02, -1.77364379e-01,  1.30495220e-01,\n",
              "        5.47937043e-02,  6.81054294e-02, -1.43899664e-01,  7.47839808e-02,\n",
              "       -2.64429525e-02, -5.41716032e-02,  4.39281389e-02, -5.53959459e-02,\n",
              "        5.99418022e-03,  6.59932196e-02, -9.36045684e-03,  4.40930165e-02,\n",
              "       -2.50614464e-01, -3.33544128e-02, -3.82963829e-02,  1.00382015e-01,\n",
              "        1.04532577e-01,  7.35954419e-02, -1.86209120e-02, -2.61554420e-02,\n",
              "       -1.46391764e-01,  7.85056800e-02, -7.69303963e-02,  5.17676249e-02,\n",
              "        8.26999471e-02, -2.89353449e-02, -6.50083125e-02, -1.14678353e-01,\n",
              "        6.17177561e-02,  9.69683081e-02,  6.77328696e-03, -6.02300391e-02,\n",
              "       -1.45045653e-01, -4.63958643e-02, -8.73299986e-02,  6.73905388e-02,\n",
              "       -1.41515270e-01, -3.49599943e-02,  9.16051939e-02, -3.67399422e-03,\n",
              "       -1.94388509e-01, -1.19989023e-01, -1.48411363e-01, -1.56992637e-02,\n",
              "       -7.50982091e-02,  3.79237384e-02,  7.14995200e-03, -4.20880988e-02,\n",
              "       -1.47970403e-02, -5.21857031e-02,  2.61297077e-02, -6.47463500e-02,\n",
              "        2.12557957e-01,  1.11386992e-01,  3.45867425e-02,  1.43344522e-01],\n",
              "      dtype=float32)"
            ]
          },
          "metadata": {
            "tags": []
          },
          "execution_count": 41
        }
      ]
    },
    {
      "cell_type": "markdown",
      "metadata": {
        "id": "ErbE56bUP8V0",
        "colab_type": "text"
      },
      "source": [
        "# Emoji Similarity"
      ]
    },
    {
      "cell_type": "code",
      "metadata": {
        "id": "8AYNNp_5ZF-S",
        "colab_type": "code",
        "colab": {
          "base_uri": "https://localhost:8080/",
          "height": 35
        },
        "outputId": "0a7393f6-17f6-43f5-f3e6-67ad3308a6fa"
      },
      "source": [
        "from sklearn.metrics.pairwise import cosine_similarity\n",
        "similarities = cosine_similarity(embeddings)\n",
        "similarities.shape"
      ],
      "execution_count": 42,
      "outputs": [
        {
          "output_type": "execute_result",
          "data": {
            "text/plain": [
              "(246, 246)"
            ]
          },
          "metadata": {
            "tags": []
          },
          "execution_count": 42
        }
      ]
    },
    {
      "cell_type": "code",
      "metadata": {
        "id": "oPNArIPBZeo2",
        "colab_type": "code",
        "colab": {
          "base_uri": "https://localhost:8080/",
          "height": 54
        },
        "outputId": "0ce61105-bb14-4d9c-ab8c-681aa4d57112"
      },
      "source": [
        "emoji_similarities = similarities[emoji_index]\n",
        "print(emoji_similarities.min())\n",
        "print(emoji_similarities.max())"
      ],
      "execution_count": 43,
      "outputs": [
        {
          "output_type": "stream",
          "text": [
            "-0.67479426\n",
            "1.0\n"
          ],
          "name": "stdout"
        }
      ]
    },
    {
      "cell_type": "code",
      "metadata": {
        "id": "0BALA2J0aF8l",
        "colab_type": "code",
        "colab": {
          "base_uri": "https://localhost:8080/",
          "height": 54
        },
        "outputId": "8ef1a9cf-be15-46d9-a07e-e14937ac3b44"
      },
      "source": [
        "emoji_similarities_sorted = emoji_similarities.copy()\n",
        "emoji_similarities_sorted.sort()\n",
        "print(emoji_similarities_sorted[-10:]) # 9 most similar (exclusing itself)"
      ],
      "execution_count": 44,
      "outputs": [
        {
          "output_type": "stream",
          "text": [
            "[0.55125856 0.5812193  0.60097533 0.603112   0.70746726 0.71561885\n",
            " 0.7247434  0.7304565  0.7688519  1.        ]\n"
          ],
          "name": "stdout"
        }
      ]
    },
    {
      "cell_type": "code",
      "metadata": {
        "id": "5NPCQ4V2awbL",
        "colab_type": "code",
        "colab": {
          "base_uri": "https://localhost:8080/",
          "height": 35
        },
        "outputId": "9dea4199-d70a-4682-806c-a8b0ebe6ae9e"
      },
      "source": [
        "# Last value would be comparison to itself, so we take the one before that\n",
        "most_similar_similarity_value = emoji_similarities_sorted[-2]  \n",
        "most_similar_similarity_value"
      ],
      "execution_count": 45,
      "outputs": [
        {
          "output_type": "execute_result",
          "data": {
            "text/plain": [
              "0.7688519"
            ]
          },
          "metadata": {
            "tags": []
          },
          "execution_count": 45
        }
      ]
    },
    {
      "cell_type": "code",
      "metadata": {
        "id": "p31b-SJVazzE",
        "colab_type": "code",
        "colab": {
          "base_uri": "https://localhost:8080/",
          "height": 35
        },
        "outputId": "d74bb1d5-34ed-45fc-ce9d-27ffb450e09b"
      },
      "source": [
        "indices = [i for i, value in enumerate(emoji_similarities) if value == most_similar_similarity_value]\n",
        "indices"
      ],
      "execution_count": 46,
      "outputs": [
        {
          "output_type": "execute_result",
          "data": {
            "text/plain": [
              "[86]"
            ]
          },
          "metadata": {
            "tags": []
          },
          "execution_count": 46
        }
      ]
    },
    {
      "cell_type": "code",
      "metadata": {
        "id": "hm4KiZLvbOmh",
        "colab_type": "code",
        "colab": {
          "base_uri": "https://localhost:8080/",
          "height": 36
        },
        "outputId": "93430a34-ee10-4bde-b8e5-85e3328ad684"
      },
      "source": [
        "# Most Similar\n",
        "reverse_word_index.get(indices[0])"
      ],
      "execution_count": 47,
      "outputs": [
        {
          "output_type": "execute_result",
          "data": {
            "application/vnd.google.colaboratory.intrinsic+json": {
              "type": "string"
            },
            "text/plain": [
              "'('"
            ]
          },
          "metadata": {
            "tags": []
          },
          "execution_count": 47
        }
      ]
    }
  ]
}