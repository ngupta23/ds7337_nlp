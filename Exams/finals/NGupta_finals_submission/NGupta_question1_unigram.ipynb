{
  "nbformat": 4,
  "nbformat_minor": 0,
  "metadata": {
    "orig_nbformat": 2,
    "kernelspec": {
      "name": "python3",
      "display_name": "Python 3"
    },
    "colab": {
      "name": "NGupta_question1.ipynb",
      "provenance": [],
      "toc_visible": true,
      "include_colab_link": true
    },
    "accelerator": "GPU"
  },
  "cells": [
    {
      "cell_type": "markdown",
      "metadata": {
        "id": "view-in-github",
        "colab_type": "text"
      },
      "source": [
        "<a href=\"https://colab.research.google.com/github/ngupta23/ds7337_nlp/blob/master/Exams/finals/NGupta_question1_unigram.ipynb\" target=\"_parent\"><img src=\"https://colab.research.google.com/assets/colab-badge.svg\" alt=\"Open In Colab\"/></a>"
      ]
    },
    {
      "cell_type": "markdown",
      "metadata": {
        "id": "9L3G13kZOOVt",
        "colab_type": "text"
      },
      "source": [
        "# Import Libraries"
      ]
    },
    {
      "cell_type": "code",
      "metadata": {
        "id": "2jwvszQUB2lo",
        "colab_type": "code",
        "colab": {}
      },
      "source": [
        "from typing import List, Tuple\n",
        "from time import time\n",
        "\n",
        "import numpy as np\n",
        "import pandas as pd\n",
        "\n",
        "from sklearn.model_selection import train_test_split\n",
        "\n",
        "import nltk\n",
        "from nltk.util import ngrams"
      ],
      "execution_count": 1,
      "outputs": []
    },
    {
      "cell_type": "markdown",
      "metadata": {
        "id": "O5OwrWUSOV6K",
        "colab_type": "text"
      },
      "source": [
        "# Get the Data"
      ]
    },
    {
      "cell_type": "code",
      "metadata": {
        "id": "UoLLis-mCYEv",
        "colab_type": "code",
        "colab": {
          "base_uri": "https://localhost:8080/",
          "height": 35
        },
        "outputId": "f72bd0bc-7021-43d3-dd89-bfc8e879e0eb"
      },
      "source": [
        "import os.path\n",
        "\n",
        "filename = \"Sentiment.csv\"\n",
        "if os.path.isfile(filename):\n",
        "  print(\"File already exists. Will reuse the same ...\")\n",
        "else:\n",
        "  use_github_data = False\n",
        "  if use_github_data:\n",
        "    print(\"Loading fie from Github ...\")\n",
        "    filename = \"https://github.com/ngupta23/ds7337_nlp/blob/master/Exams/finals/Sentiment.csv\"\n",
        "  else:\n",
        "    print(\"Please upload your file to Colab ...\")\n",
        "    from google.colab import files\n",
        "    uploaded = files.upload()"
      ],
      "execution_count": 2,
      "outputs": [
        {
          "output_type": "stream",
          "text": [
            "File already exists. Will reuse the same ...\n"
          ],
          "name": "stdout"
        }
      ]
    },
    {
      "cell_type": "markdown",
      "metadata": {
        "id": "cz34bQCxObr4",
        "colab_type": "text"
      },
      "source": [
        "# Data Preparation"
      ]
    },
    {
      "cell_type": "code",
      "metadata": {
        "tags": [],
        "id": "SWitVpFmB2l3",
        "colab_type": "code",
        "colab": {
          "base_uri": "https://localhost:8080/",
          "height": 531
        },
        "outputId": "4c6e187b-87fa-46d3-f168-5f3542270cea"
      },
      "source": [
        "data = pd.read_csv(filename) #, encoding='latin-1')\n",
        "data.info()"
      ],
      "execution_count": 3,
      "outputs": [
        {
          "output_type": "stream",
          "text": [
            "<class 'pandas.core.frame.DataFrame'>\n",
            "RangeIndex: 13871 entries, 0 to 13870\n",
            "Data columns (total 21 columns):\n",
            " #   Column                     Non-Null Count  Dtype  \n",
            "---  ------                     --------------  -----  \n",
            " 0   id                         13871 non-null  int64  \n",
            " 1   candidate                  13775 non-null  object \n",
            " 2   candidate_confidence       13871 non-null  float64\n",
            " 3   relevant_yn                13871 non-null  object \n",
            " 4   relevant_yn_confidence     13871 non-null  float64\n",
            " 5   sentiment                  13871 non-null  object \n",
            " 6   sentiment_confidence       13871 non-null  float64\n",
            " 7   subject_matter             13545 non-null  object \n",
            " 8   subject_matter_confidence  13871 non-null  float64\n",
            " 9   candidate_gold             28 non-null     object \n",
            " 10  name                       13871 non-null  object \n",
            " 11  relevant_yn_gold           32 non-null     object \n",
            " 12  retweet_count              13871 non-null  int64  \n",
            " 13  sentiment_gold             15 non-null     object \n",
            " 14  subject_matter_gold        18 non-null     object \n",
            " 15  text                       13871 non-null  object \n",
            " 16  tweet_coord                21 non-null     object \n",
            " 17  tweet_created              13871 non-null  object \n",
            " 18  tweet_id                   13871 non-null  int64  \n",
            " 19  tweet_location             9959 non-null   object \n",
            " 20  user_timezone              9468 non-null   object \n",
            "dtypes: float64(4), int64(3), object(14)\n",
            "memory usage: 2.2+ MB\n"
          ],
          "name": "stdout"
        }
      ]
    },
    {
      "cell_type": "code",
      "metadata": {
        "tags": [],
        "id": "e_7SfuMwB2mI",
        "colab_type": "code",
        "colab": {
          "base_uri": "https://localhost:8080/",
          "height": 182
        },
        "outputId": "9e507869-8168-430a-f84d-7c1c6b60273b"
      },
      "source": [
        "data = data[['text', 'sentiment']]\n",
        "data.info()"
      ],
      "execution_count": 4,
      "outputs": [
        {
          "output_type": "stream",
          "text": [
            "<class 'pandas.core.frame.DataFrame'>\n",
            "RangeIndex: 13871 entries, 0 to 13870\n",
            "Data columns (total 2 columns):\n",
            " #   Column     Non-Null Count  Dtype \n",
            "---  ------     --------------  ----- \n",
            " 0   text       13871 non-null  object\n",
            " 1   sentiment  13871 non-null  object\n",
            "dtypes: object(2)\n",
            "memory usage: 216.9+ KB\n"
          ],
          "name": "stdout"
        }
      ]
    },
    {
      "cell_type": "code",
      "metadata": {
        "id": "LjMYsUhuB2mS",
        "colab_type": "code",
        "colab": {
          "base_uri": "https://localhost:8080/",
          "height": 206
        },
        "outputId": "77778b8a-7d5f-4c0b-d5d5-737d06607c12"
      },
      "source": [
        "data.head()"
      ],
      "execution_count": 5,
      "outputs": [
        {
          "output_type": "execute_result",
          "data": {
            "text/html": [
              "<div>\n",
              "<style scoped>\n",
              "    .dataframe tbody tr th:only-of-type {\n",
              "        vertical-align: middle;\n",
              "    }\n",
              "\n",
              "    .dataframe tbody tr th {\n",
              "        vertical-align: top;\n",
              "    }\n",
              "\n",
              "    .dataframe thead th {\n",
              "        text-align: right;\n",
              "    }\n",
              "</style>\n",
              "<table border=\"1\" class=\"dataframe\">\n",
              "  <thead>\n",
              "    <tr style=\"text-align: right;\">\n",
              "      <th></th>\n",
              "      <th>text</th>\n",
              "      <th>sentiment</th>\n",
              "    </tr>\n",
              "  </thead>\n",
              "  <tbody>\n",
              "    <tr>\n",
              "      <th>0</th>\n",
              "      <td>RT @NancyLeeGrahn: How did everyone feel about...</td>\n",
              "      <td>Neutral</td>\n",
              "    </tr>\n",
              "    <tr>\n",
              "      <th>1</th>\n",
              "      <td>RT @ScottWalker: Didn't catch the full #GOPdeb...</td>\n",
              "      <td>Positive</td>\n",
              "    </tr>\n",
              "    <tr>\n",
              "      <th>2</th>\n",
              "      <td>RT @TJMShow: No mention of Tamir Rice and the ...</td>\n",
              "      <td>Neutral</td>\n",
              "    </tr>\n",
              "    <tr>\n",
              "      <th>3</th>\n",
              "      <td>RT @RobGeorge: That Carly Fiorina is trending ...</td>\n",
              "      <td>Positive</td>\n",
              "    </tr>\n",
              "    <tr>\n",
              "      <th>4</th>\n",
              "      <td>RT @DanScavino: #GOPDebate w/ @realDonaldTrump...</td>\n",
              "      <td>Positive</td>\n",
              "    </tr>\n",
              "  </tbody>\n",
              "</table>\n",
              "</div>"
            ],
            "text/plain": [
              "                                                text sentiment\n",
              "0  RT @NancyLeeGrahn: How did everyone feel about...   Neutral\n",
              "1  RT @ScottWalker: Didn't catch the full #GOPdeb...  Positive\n",
              "2  RT @TJMShow: No mention of Tamir Rice and the ...   Neutral\n",
              "3  RT @RobGeorge: That Carly Fiorina is trending ...  Positive\n",
              "4  RT @DanScavino: #GOPDebate w/ @realDonaldTrump...  Positive"
            ]
          },
          "metadata": {
            "tags": []
          },
          "execution_count": 5
        }
      ]
    },
    {
      "cell_type": "markdown",
      "metadata": {
        "id": "cyKAmpuVOofa",
        "colab_type": "text"
      },
      "source": [
        "# Find Maximum Sequence Length"
      ]
    },
    {
      "cell_type": "code",
      "metadata": {
        "id": "KkbB3WuELm1Q",
        "colab_type": "code",
        "colab": {
          "base_uri": "https://localhost:8080/",
          "height": 206
        },
        "outputId": "d6634cad-e54f-4bb6-edba-310b3746e1ed"
      },
      "source": [
        "data['len'] = data['text'].str.len()\n",
        "data.head()"
      ],
      "execution_count": 6,
      "outputs": [
        {
          "output_type": "execute_result",
          "data": {
            "text/html": [
              "<div>\n",
              "<style scoped>\n",
              "    .dataframe tbody tr th:only-of-type {\n",
              "        vertical-align: middle;\n",
              "    }\n",
              "\n",
              "    .dataframe tbody tr th {\n",
              "        vertical-align: top;\n",
              "    }\n",
              "\n",
              "    .dataframe thead th {\n",
              "        text-align: right;\n",
              "    }\n",
              "</style>\n",
              "<table border=\"1\" class=\"dataframe\">\n",
              "  <thead>\n",
              "    <tr style=\"text-align: right;\">\n",
              "      <th></th>\n",
              "      <th>text</th>\n",
              "      <th>sentiment</th>\n",
              "      <th>len</th>\n",
              "    </tr>\n",
              "  </thead>\n",
              "  <tbody>\n",
              "    <tr>\n",
              "      <th>0</th>\n",
              "      <td>RT @NancyLeeGrahn: How did everyone feel about...</td>\n",
              "      <td>Neutral</td>\n",
              "      <td>106</td>\n",
              "    </tr>\n",
              "    <tr>\n",
              "      <th>1</th>\n",
              "      <td>RT @ScottWalker: Didn't catch the full #GOPdeb...</td>\n",
              "      <td>Positive</td>\n",
              "      <td>140</td>\n",
              "    </tr>\n",
              "    <tr>\n",
              "      <th>2</th>\n",
              "      <td>RT @TJMShow: No mention of Tamir Rice and the ...</td>\n",
              "      <td>Neutral</td>\n",
              "      <td>84</td>\n",
              "    </tr>\n",
              "    <tr>\n",
              "      <th>3</th>\n",
              "      <td>RT @RobGeorge: That Carly Fiorina is trending ...</td>\n",
              "      <td>Positive</td>\n",
              "      <td>140</td>\n",
              "    </tr>\n",
              "    <tr>\n",
              "      <th>4</th>\n",
              "      <td>RT @DanScavino: #GOPDebate w/ @realDonaldTrump...</td>\n",
              "      <td>Positive</td>\n",
              "      <td>140</td>\n",
              "    </tr>\n",
              "  </tbody>\n",
              "</table>\n",
              "</div>"
            ],
            "text/plain": [
              "                                                text sentiment  len\n",
              "0  RT @NancyLeeGrahn: How did everyone feel about...   Neutral  106\n",
              "1  RT @ScottWalker: Didn't catch the full #GOPdeb...  Positive  140\n",
              "2  RT @TJMShow: No mention of Tamir Rice and the ...   Neutral   84\n",
              "3  RT @RobGeorge: That Carly Fiorina is trending ...  Positive  140\n",
              "4  RT @DanScavino: #GOPDebate w/ @realDonaldTrump...  Positive  140"
            ]
          },
          "metadata": {
            "tags": []
          },
          "execution_count": 6
        }
      ]
    },
    {
      "cell_type": "code",
      "metadata": {
        "id": "rAqeNqFtMHvu",
        "colab_type": "code",
        "colab": {
          "base_uri": "https://localhost:8080/",
          "height": 54
        },
        "outputId": "f31036a0-c0f2-4893-a759-c8ac380093b6"
      },
      "source": [
        "print('Maximum review length: {}'.format(data['len'].max()))\n",
        "print('Minimum review length: {}'.format(data['len'].min()))\n"
      ],
      "execution_count": 7,
      "outputs": [
        {
          "output_type": "stream",
          "text": [
            "Maximum review length: 153\n",
            "Minimum review length: 19\n"
          ],
          "name": "stdout"
        }
      ]
    },
    {
      "cell_type": "code",
      "metadata": {
        "id": "DrdQvBm-MQcY",
        "colab_type": "code",
        "colab": {
          "base_uri": "https://localhost:8080/",
          "height": 318
        },
        "outputId": "7f3ab4ac-df6a-402c-e414-c1fa71d70d6e"
      },
      "source": [
        "data.hist(bins=100)"
      ],
      "execution_count": 8,
      "outputs": [
        {
          "output_type": "execute_result",
          "data": {
            "text/plain": [
              "array([[<matplotlib.axes._subplots.AxesSubplot object at 0x7f8aed58c978>]],\n",
              "      dtype=object)"
            ]
          },
          "metadata": {
            "tags": []
          },
          "execution_count": 8
        },
        {
          "output_type": "display_data",
          "data": {
            "image/png": "[encoded data removed]",
            "text/plain": [
              "<Figure size 432x288 with 1 Axes>"
            ]
          },
          "metadata": {
            "tags": [],
            "needs_background": "light"
          }
        }
      ]
    },
    {
      "cell_type": "code",
      "metadata": {
        "id": "E1493_-SMNyx",
        "colab_type": "code",
        "colab": {
          "base_uri": "https://localhost:8080/",
          "height": 35
        },
        "outputId": "b7e9d558-4de2-4769-e15b-a3715baee2de"
      },
      "source": [
        "# Keep a large percentage of reviews completely and chop of the remainig reviews off.\n",
        "import numpy as np\n",
        "time_steps = int(np.quantile(data['len'],0.975))\n",
        "time_steps"
      ],
      "execution_count": 9,
      "outputs": [
        {
          "output_type": "execute_result",
          "data": {
            "text/plain": [
              "144"
            ]
          },
          "metadata": {
            "tags": []
          },
          "execution_count": 9
        }
      ]
    },
    {
      "cell_type": "markdown",
      "metadata": {
        "id": "DX91pzr9OvQg",
        "colab_type": "text"
      },
      "source": [
        "# Prepare Label"
      ]
    },
    {
      "cell_type": "code",
      "metadata": {
        "id": "98_XPM8jNe1g",
        "colab_type": "code",
        "colab": {
          "base_uri": "https://localhost:8080/",
          "height": 90
        },
        "outputId": "34a569ad-3ea6-4795-b261-de006f99fb25"
      },
      "source": [
        "data['sentiment'].value_counts()"
      ],
      "execution_count": 10,
      "outputs": [
        {
          "output_type": "execute_result",
          "data": {
            "text/plain": [
              "Negative    8493\n",
              "Neutral     3142\n",
              "Positive    2236\n",
              "Name: sentiment, dtype: int64"
            ]
          },
          "metadata": {
            "tags": []
          },
          "execution_count": 10
        }
      ]
    },
    {
      "cell_type": "code",
      "metadata": {
        "id": "WVQsPeAMNKJI",
        "colab_type": "code",
        "colab": {}
      },
      "source": [
        "data.loc[data['sentiment'] == 'Negative', 'sentiment'] = 0\n",
        "data.loc[data['sentiment'] == 'Neutral', 'sentiment'] = 1\n",
        "data.loc[data['sentiment'] == 'Positive', 'sentiment'] = 2"
      ],
      "execution_count": 11,
      "outputs": []
    },
    {
      "cell_type": "code",
      "metadata": {
        "id": "Z6PSLFHDNeXJ",
        "colab_type": "code",
        "colab": {
          "base_uri": "https://localhost:8080/",
          "height": 90
        },
        "outputId": "90d7866c-fdc8-48cf-f316-65c396d78d73"
      },
      "source": [
        "data['sentiment'].value_counts()"
      ],
      "execution_count": 12,
      "outputs": [
        {
          "output_type": "execute_result",
          "data": {
            "text/plain": [
              "0    8493\n",
              "1    3142\n",
              "2    2236\n",
              "Name: sentiment, dtype: int64"
            ]
          },
          "metadata": {
            "tags": []
          },
          "execution_count": 12
        }
      ]
    },
    {
      "cell_type": "markdown",
      "metadata": {
        "id": "RJdRmaEsO3XC",
        "colab_type": "text"
      },
      "source": [
        "# Train Test Split"
      ]
    },
    {
      "cell_type": "code",
      "metadata": {
        "id": "0iIseVDXM7VB",
        "colab_type": "code",
        "colab": {
          "base_uri": "https://localhost:8080/",
          "height": 54
        },
        "outputId": "2ec1a802-cae4-498b-a9cb-5cce761b0342"
      },
      "source": [
        "X_train, X_test, y_train, y_test = train_test_split(\n",
        "    data['text'].values.astype('U'),\n",
        "    data['sentiment'].values.astype('int32'),\n",
        "    test_size=0.20,\n",
        "    random_state=42\n",
        ")\n",
        "\n",
        "print(f\"Number of samples: X_train: {len(X_train)}, y_train: {len(y_train)}\")\n",
        "print(f\"Number of samples: X_test: {len(X_test)}, y_test: {len(y_test)}\")"
      ],
      "execution_count": 13,
      "outputs": [
        {
          "output_type": "stream",
          "text": [
            "Number of samples: X_train: 11096, y_train: 11096\n",
            "Number of samples: X_test: 2775, y_test: 2775\n"
          ],
          "name": "stdout"
        }
      ]
    },
    {
      "cell_type": "code",
      "metadata": {
        "id": "HR3Jkl_fOM1i",
        "colab_type": "code",
        "colab": {
          "base_uri": "https://localhost:8080/",
          "height": 72
        },
        "outputId": "c7f71872-5cfb-47f0-ec64-23e2d832c0bd"
      },
      "source": [
        "# Checking split --> both test and train contain roughly the same number of positive (and negative) sentiment reviews\n",
        "print(sum(y_train == 0)/len(y_train), sum(y_test == 0)/len(y_test))\n",
        "print(sum(y_train == 1)/len(y_train), sum(y_test == 1)/len(y_test))\n",
        "print(sum(y_train == 2)/len(y_train), sum(y_test == 2)/len(y_test))"
      ],
      "execution_count": 14,
      "outputs": [
        {
          "output_type": "stream",
          "text": [
            "0.6102198990627253 0.6205405405405405\n",
            "0.22801009372746936 0.22054054054054054\n",
            "0.16177000720980533 0.1589189189189189\n"
          ],
          "name": "stdout"
        }
      ]
    },
    {
      "cell_type": "markdown",
      "metadata": {
        "id": "AdPi_D24PHV_",
        "colab_type": "text"
      },
      "source": [
        "# Create Vocabulary"
      ]
    },
    {
      "cell_type": "code",
      "metadata": {
        "tags": [],
        "id": "r5hCZzntB2mb",
        "colab_type": "code",
        "colab": {
          "base_uri": "https://localhost:8080/",
          "height": 74
        },
        "outputId": "e64cdcf1-8807-412a-e672-3cfe6dde5056"
      },
      "source": [
        "# Unigram\n",
        "print(data.iloc[0]['text'])\n",
        "print(list(data.iloc[0]['text']))"
      ],
      "execution_count": 15,
      "outputs": [
        {
          "output_type": "stream",
          "text": [
            "RT @NancyLeeGrahn: How did everyone feel about the Climate Change question last night? Exactly. #GOPDebate\n",
            "['R', 'T', ' ', '@', 'N', 'a', 'n', 'c', 'y', 'L', 'e', 'e', 'G', 'r', 'a', 'h', 'n', ':', ' ', 'H', 'o', 'w', ' ', 'd', 'i', 'd', ' ', 'e', 'v', 'e', 'r', 'y', 'o', 'n', 'e', ' ', 'f', 'e', 'e', 'l', ' ', 'a', 'b', 'o', 'u', 't', ' ', 't', 'h', 'e', ' ', 'C', 'l', 'i', 'm', 'a', 't', 'e', ' ', 'C', 'h', 'a', 'n', 'g', 'e', ' ', 'q', 'u', 'e', 's', 't', 'i', 'o', 'n', ' ', 'l', 'a', 's', 't', ' ', 'n', 'i', 'g', 'h', 't', '?', ' ', 'E', 'x', 'a', 'c', 't', 'l', 'y', '.', ' ', '#', 'G', 'O', 'P', 'D', 'e', 'b', 'a', 't', 'e']\n"
          ],
          "name": "stdout"
        }
      ]
    },
    {
      "cell_type": "code",
      "metadata": {
        "id": "9RTwvjV6D1Dm",
        "colab_type": "code",
        "colab": {}
      },
      "source": [
        "# # Very Slow\n",
        "# start = time()\n",
        "# corpus = []\n",
        "# for _, text_row in enumerate(X_train):\n",
        "#   corpus = corpus + list(text_row)\n",
        "# end = time()\n",
        "# print(f\"Time taken: {end-start}s\")"
      ],
      "execution_count": 16,
      "outputs": []
    },
    {
      "cell_type": "code",
      "metadata": {
        "id": "oQWVN370IRYP",
        "colab_type": "code",
        "colab": {}
      },
      "source": [
        "def tokenize_unigram(text_row):\n",
        "  unigram = list(text_row)\n",
        "  return unigram"
      ],
      "execution_count": 17,
      "outputs": []
    },
    {
      "cell_type": "code",
      "metadata": {
        "id": "E_4tJqbnIjuf",
        "colab_type": "code",
        "colab": {
          "base_uri": "https://localhost:8080/",
          "height": 35
        },
        "outputId": "58660e98-7ee9-4736-971a-750acc1e9e6e"
      },
      "source": [
        "# Faster Method (using map)\n",
        "start = time()\n",
        "# X_train_tokenized = list(map(tokenize_unigram, X_train)) \n",
        "X_train_tokenized = list(map(tokenize_unigram, data['text'])) \n",
        "end = time()\n",
        "print(f\"Time taken: {end-start}s\")"
      ],
      "execution_count": 18,
      "outputs": [
        {
          "output_type": "stream",
          "text": [
            "Time taken: 0.048584938049316406s\n"
          ],
          "name": "stdout"
        }
      ]
    },
    {
      "cell_type": "code",
      "metadata": {
        "id": "2Gsp7zccKlTy",
        "colab_type": "code",
        "colab": {}
      },
      "source": [
        "corpus = [token for line in X_train_tokenized for token in line]"
      ],
      "execution_count": 19,
      "outputs": []
    },
    {
      "cell_type": "code",
      "metadata": {
        "id": "2RnLVRvZEqyX",
        "colab_type": "code",
        "colab": {
          "base_uri": "https://localhost:8080/",
          "height": 55
        },
        "outputId": "dc1be80c-a7f9-4458-d8d6-151520d804d5"
      },
      "source": [
        "print(corpus[:300])"
      ],
      "execution_count": 20,
      "outputs": [
        {
          "output_type": "stream",
          "text": [
            "['R', 'T', ' ', '@', 'N', 'a', 'n', 'c', 'y', 'L', 'e', 'e', 'G', 'r', 'a', 'h', 'n', ':', ' ', 'H', 'o', 'w', ' ', 'd', 'i', 'd', ' ', 'e', 'v', 'e', 'r', 'y', 'o', 'n', 'e', ' ', 'f', 'e', 'e', 'l', ' ', 'a', 'b', 'o', 'u', 't', ' ', 't', 'h', 'e', ' ', 'C', 'l', 'i', 'm', 'a', 't', 'e', ' ', 'C', 'h', 'a', 'n', 'g', 'e', ' ', 'q', 'u', 'e', 's', 't', 'i', 'o', 'n', ' ', 'l', 'a', 's', 't', ' ', 'n', 'i', 'g', 'h', 't', '?', ' ', 'E', 'x', 'a', 'c', 't', 'l', 'y', '.', ' ', '#', 'G', 'O', 'P', 'D', 'e', 'b', 'a', 't', 'e', 'R', 'T', ' ', '@', 'S', 'c', 'o', 't', 't', 'W', 'a', 'l', 'k', 'e', 'r', ':', ' ', 'D', 'i', 'd', 'n', \"'\", 't', ' ', 'c', 'a', 't', 'c', 'h', ' ', 't', 'h', 'e', ' ', 'f', 'u', 'l', 'l', ' ', '#', 'G', 'O', 'P', 'd', 'e', 'b', 'a', 't', 'e', ' ', 'l', 'a', 's', 't', ' ', 'n', 'i', 'g', 'h', 't', '.', ' ', 'H', 'e', 'r', 'e', ' ', 'a', 'r', 'e', ' ', 's', 'o', 'm', 'e', ' ', 'o', 'f', ' ', 'S', 'c', 'o', 't', 't', \"'\", 's', ' ', 'b', 'e', 's', 't', ' ', 'l', 'i', 'n', 'e', 's', ' ', 'i', 'n', ' ', '9', '0', ' ', 's', 'e', 'c', 'o', 'n', 'd', 's', '.', ' ', '#', 'W', 'a', 'l', 'k', 'e', 'r', '1', '6', ' ', 'h', 't', 't', 'p', ':', '/', '/', 't', '.', 'c', 'o', '/', 'Z', 'S', 'f', 'F', '…', 'R', 'T', ' ', '@', 'T', 'J', 'M', 'S', 'h', 'o', 'w', ':', ' ', 'N', 'o', ' ', 'm', 'e', 'n', 't', 'i', 'o', 'n', ' ', 'o', 'f', ' ', 'T', 'a', 'm', 'i', 'r', ' ', 'R', 'i', 'c', 'e', ' ', 'a', 'n', 'd', ' ', 't', 'h', 'e', ' ', '#', 'G', 'O', 'P', 'D', 'e', 'b', 'a']\n"
          ],
          "name": "stdout"
        }
      ]
    },
    {
      "cell_type": "code",
      "metadata": {
        "id": "zS8CDdwcDHAP",
        "colab_type": "code",
        "colab": {
          "base_uri": "https://localhost:8080/",
          "height": 74
        },
        "outputId": "35be2cc8-215e-44ca-977b-c4381d6d489b"
      },
      "source": [
        "fdist = nltk.FreqDist(corpus)\n",
        "print(fdist.most_common()) # [:20])\n",
        "# We can use the count to filter out less common words (noise), but this has not been done here.\n",
        "vocab = [char for char, count in fdist.most_common() if count >= 1] \n",
        "print(vocab) #[:20])"
      ],
      "execution_count": 21,
      "outputs": [
        {
          "output_type": "stream",
          "text": [
            "[(' ', 223579), ('e', 140036), ('t', 106711), ('a', 93539), ('o', 76702), ('i', 66303), ('n', 65948), ('s', 64543), ('r', 61717), ('h', 46854), ('l', 44837), ('d', 35894), ('u', 32895), ('b', 30766), ('c', 28161), ('m', 26989), ('p', 25019), ('#', 21730), ('g', 21283), ('y', 20289), ('G', 20251), ('D', 19126), ('O', 18879), ('P', 18623), ('w', 17702), ('.', 17621), ('T', 17575), ('f', 16756), ('R', 14460), ('@', 14178), (':', 13538), ('k', 12210), ('/', 11598), ('v', 8618), ('S', 7626), ('I', 6954), ('W', 6618), ('C', 6510), (\"'\", 5657), (',', 5164), ('A', 5003), ('F', 5001), ('B', 4805), ('N', 4682), ('M', 4115), ('x', 3912), ('H', 3712), ('\"', 3544), ('L', 3354), ('E', 3069), ('?', 2892), ('…', 2868), ('\\n', 2775), ('j', 2483), ('J', 2412), ('1', 2333), ('z', 2331), ('!', 2287), ('K', 2220), ('U', 1987), ('0', 1899), ('2', 1861), ('🇺', 1830), ('🇸', 1830), ('-', 1757), ('Y', 1722), ('q', 1592), ('6', 1369), (';', 1241), ('V', 1228), ('&', 1144), ('3', 1090), ('4', 972), ('5', 962), ('X', 955), ('9', 950), ('7', 915), ('8', 873), ('Z', 725), ('Q', 685), ('_', 661), (')', 281), ('’', 254), ('(', 251), ('“', 145), ('”', 143), ('*', 131), ('😂', 95), ('%', 94), ('$', 89), ('=', 78), ('[', 36), (']', 36), ('|', 35), ('+', 34), ('💨', 32), ('️', 30), ('—', 28), ('🏻', 18), ('~', 17), ('🏼', 16), ('‘', 16), ('–', 15), ('❤', 14), ('»', 14), ('👎', 13), ('📢', 12), ('👍', 12), ('👏', 12), ('\\xa0', 11), ('🙌', 10), ('・', 9), ('·', 8), ('💀', 8), ('😩', 7), ('🐘', 7), ('😴', 7), ('😄', 7), ('😡', 7), ('🏿', 7), ('😊', 6), ('😏', 6), ('😀', 6), ('😭', 6), ('👉', 5), ('😎', 5), ('🏾', 5), ('\\U000fe4e6', 4), ('😒', 4), ('➡', 4), ('▀', 4), ('→', 4), ('¯', 4), ('‼', 4), ('😍', 4), ('😉', 4), ('✅', 4), ('😑', 4), ('✯', 4), ('•', 4), ('☑', 3), ('🎀', 3), ('😆', 3), ('》', 3), ('😕', 3), ('✔', 3), ('😶', 3), ('🍺', 3), ('^', 3), ('👌', 3), ('👴', 3), ('🔨', 3), ('ٌ', 2), ('█', 2), ('💢', 2), ('↓', 2), ('😜', 2), ('\\\\', 2), ('ツ', 2), ('`', 2), ('ə', 2), ('🎤', 2), ('😞', 2), ('�', 2), ('💁', 2), ('☢', 2), ('►', 2), ('◄', 2), ('⬆', 2), ('💥', 2), ('🙏', 2), ('😁', 2), ('🙈', 2), ('☞', 2), ('☜', 2), ('🎉', 2), ('🔥', 2), ('👭', 2), ('👨', 2), ('👶', 2), ('\\U000fe4ec', 2), ('✋', 2), ('👊', 2), ('😰', 1), ('📷', 1), ('⁰', 1), ('😳', 1), ('👓', 1), ('ˈ', 1), ('ˌ', 1), ('ā', 1), ('😐', 1), ('🍷', 1), ('💧', 1), ('🌷', 1), ('⚡', 1), ('🏽', 1), ('🎪', 1), ('💩', 1), ('↑', 1), ('⬇', 1), ('↔', 1), ('🗽', 1), ('😋', 1), ('😢', 1), ('🐍', 1), ('♀', 1), ('😬', 1), ('😯', 1), ('😲', 1), ('🌍', 1), ('📲', 1), ('💛', 1), ('―', 1), ('\\U000fe320', 1), ('\\U000fe327', 1), ('😠', 1), ('💪', 1), ('🔪', 1), ('🔇', 1), ('⇒', 1), ('🚀', 1), ('👋', 1), ('🙊', 1), ('👸', 1), ('👑', 1), ('😻', 1), ('👺', 1), ('💰', 1), ('💸', 1), ('🚷', 1), ('🚺', 1), ('🔫', 1), ('🍔', 1), ('💣', 1), ('🛃', 1), ('🚧', 1), ('🚔', 1), ('👀', 1), ('î', 1), ('ł', 1), ('é', 1), ('à', 1)]\n",
            "[' ', 'e', 't', 'a', 'o', 'i', 'n', 's', 'r', 'h', 'l', 'd', 'u', 'b', 'c', 'm', 'p', '#', 'g', 'y', 'G', 'D', 'O', 'P', 'w', '.', 'T', 'f', 'R', '@', ':', 'k', '/', 'v', 'S', 'I', 'W', 'C', \"'\", ',', 'A', 'F', 'B', 'N', 'M', 'x', 'H', '\"', 'L', 'E', '?', '…', '\\n', 'j', 'J', '1', 'z', '!', 'K', 'U', '0', '2', '🇺', '🇸', '-', 'Y', 'q', '6', ';', 'V', '&', '3', '4', '5', 'X', '9', '7', '8', 'Z', 'Q', '_', ')', '’', '(', '“', '”', '*', '😂', '%', '$', '=', '[', ']', '|', '+', '💨', '️', '—', '🏻', '~', '🏼', '‘', '–', '❤', '»', '👎', '📢', '👍', '👏', '\\xa0', '🙌', '・', '·', '💀', '😩', '🐘', '😴', '😄', '😡', '🏿', '😊', '😏', '😀', '😭', '👉', '😎', '🏾', '\\U000fe4e6', '😒', '➡', '▀', '→', '¯', '‼', '😍', '😉', '✅', '😑', '✯', '•', '☑', '🎀', '😆', '》', '😕', '✔', '😶', '🍺', '^', '👌', '👴', '🔨', 'ٌ', '█', '💢', '↓', '😜', '\\\\', 'ツ', '`', 'ə', '🎤', '😞', '�', '💁', '☢', '►', '◄', '⬆', '💥', '🙏', '😁', '🙈', '☞', '☜', '🎉', '🔥', '👭', '👨', '👶', '\\U000fe4ec', '✋', '👊', '😰', '📷', '⁰', '😳', '👓', 'ˈ', 'ˌ', 'ā', '😐', '🍷', '💧', '🌷', '⚡', '🏽', '🎪', '💩', '↑', '⬇', '↔', '🗽', '😋', '😢', '🐍', '♀', '😬', '😯', '😲', '🌍', '📲', '💛', '―', '\\U000fe320', '\\U000fe327', '😠', '💪', '🔪', '🔇', '⇒', '🚀', '👋', '🙊', '👸', '👑', '😻', '👺', '💰', '💸', '🚷', '🚺', '🔫', '🍔', '💣', '🛃', '🚧', '🚔', '👀', 'î', 'ł', 'é', 'à']\n"
          ],
          "name": "stdout"
        }
      ]
    },
    {
      "cell_type": "code",
      "metadata": {
        "id": "G3J5dYLnDnkx",
        "colab_type": "code",
        "colab": {
          "base_uri": "https://localhost:8080/",
          "height": 35
        },
        "outputId": "5753b996-2f42-43ba-c65a-3fce632e40b9"
      },
      "source": [
        "print(len(vocab))"
      ],
      "execution_count": 22,
      "outputs": [
        {
          "output_type": "stream",
          "text": [
            "243\n"
          ],
          "name": "stdout"
        }
      ]
    },
    {
      "cell_type": "code",
      "metadata": {
        "id": "WBg7ExM9Fam1",
        "colab_type": "code",
        "colab": {}
      },
      "source": [
        "word_index = {}\n",
        "word_index[\"<PAD>\"] = 0\n",
        "word_index[\"<START>\"] = 1\n",
        "word_index[\"<UNK>\"] = 2\n",
        "for index, word in enumerate(vocab):\n",
        "  word_index[word] = index+3"
      ],
      "execution_count": 23,
      "outputs": []
    },
    {
      "cell_type": "code",
      "metadata": {
        "id": "jdBlq_c0JV-c",
        "colab_type": "code",
        "colab": {
          "base_uri": "https://localhost:8080/",
          "height": 201
        },
        "outputId": "65790539-19a8-41e3-d683-b0075cd873e8"
      },
      "source": [
        "reverse_word_index = dict([(value, key) for (key, value) in word_index.items()])\n",
        "[(i, reverse_word_index.get(i)) for i in np.arange(10)]"
      ],
      "execution_count": 24,
      "outputs": [
        {
          "output_type": "execute_result",
          "data": {
            "text/plain": [
              "[(0, '<PAD>'),\n",
              " (1, '<START>'),\n",
              " (2, '<UNK>'),\n",
              " (3, ' '),\n",
              " (4, 'e'),\n",
              " (5, 't'),\n",
              " (6, 'a'),\n",
              " (7, 'o'),\n",
              " (8, 'i'),\n",
              " (9, 'n')]"
            ]
          },
          "metadata": {
            "tags": []
          },
          "execution_count": 24
        }
      ]
    },
    {
      "cell_type": "code",
      "metadata": {
        "id": "39cdCCSKJr4k",
        "colab_type": "code",
        "colab": {
          "base_uri": "https://localhost:8080/",
          "height": 35
        },
        "outputId": "d8aa9b26-82fb-40b0-e246-91a0476cb26d"
      },
      "source": [
        "vocabulary_size = len(word_index.keys())\n",
        "vocabulary_size"
      ],
      "execution_count": 25,
      "outputs": [
        {
          "output_type": "execute_result",
          "data": {
            "text/plain": [
              "246"
            ]
          },
          "metadata": {
            "tags": []
          },
          "execution_count": 25
        }
      ]
    },
    {
      "cell_type": "markdown",
      "metadata": {
        "id": "ONMpZeyWRali",
        "colab_type": "text"
      },
      "source": [
        "# Encoding and Decoding"
      ]
    },
    {
      "cell_type": "code",
      "metadata": {
        "id": "rC5hAL1mJ3DG",
        "colab_type": "code",
        "colab": {}
      },
      "source": [
        "def encode(plain_text: str) -> List[int]:\n",
        "  tokens = tokenize_unigram(plain_text)\n",
        "  return [word_index[token] if token in word_index.keys() else word_index[\"<UNK>\"] for token in tokens]\n",
        "\n",
        "def decode(encoded_text):\n",
        "  return ''.join([reverse_word_index.get(i, '?') for i in encoded_text])"
      ],
      "execution_count": 26,
      "outputs": []
    },
    {
      "cell_type": "code",
      "metadata": {
        "id": "edvKcAGbKFfc",
        "colab_type": "code",
        "colab": {}
      },
      "source": [
        "def encode_decode_check(original_text):\n",
        "  print(\"\\n\")\n",
        "  print(f\"Original: {original_text}\")\n",
        "  encoded = encode(original_text)\n",
        "  print(f\"Encoded: {encoded}\")\n",
        "  decoded = decode(encoded)\n",
        "  print(f\"Decoded: {decoded}\")\n",
        "  same = decoded == original_text\n",
        "  print(f\"Decoded = Original: {same}\")"
      ],
      "execution_count": 27,
      "outputs": []
    },
    {
      "cell_type": "code",
      "metadata": {
        "id": "ERQKz8BrKMWN",
        "colab_type": "code",
        "colab": {
          "base_uri": "https://localhost:8080/",
          "height": 588
        },
        "outputId": "5c5d25eb-aad7-49aa-de8b-b90579448e53"
      },
      "source": [
        "random_train = X_train[np.random.choice(len(X_train), 5)]\n",
        "random_train\n",
        "\n",
        "for text in random_train:\n",
        "  encode_decode_check(text)"
      ],
      "execution_count": 28,
      "outputs": [
        {
          "output_type": "stream",
          "text": [
            "\n",
            "\n",
            "Original: RT @RWSurferGirl: Fox News is obviously trying to influence the makeup of the Republican field. 🇺🇸  #GOPDebate  #GOPDebates\n",
            "Encoded: [31, 29, 3, 32, 31, 39, 37, 15, 11, 30, 4, 11, 23, 8, 11, 13, 33, 3, 44, 7, 48, 3, 46, 4, 27, 10, 3, 8, 10, 3, 7, 16, 36, 8, 7, 15, 10, 13, 22, 3, 5, 11, 22, 8, 9, 21, 3, 5, 7, 3, 8, 9, 30, 13, 15, 4, 9, 17, 4, 3, 5, 12, 4, 3, 18, 6, 34, 4, 15, 19, 3, 7, 30, 3, 5, 12, 4, 3, 31, 4, 19, 15, 16, 13, 8, 17, 6, 9, 3, 30, 8, 4, 13, 14, 28, 3, 65, 66, 3, 3, 20, 23, 25, 26, 24, 4, 16, 6, 5, 4, 3, 3, 20, 23, 25, 26, 24, 4, 16, 6, 5, 4, 10]\n",
            "Decoded: RT @RWSurferGirl: Fox News is obviously trying to influence the makeup of the Republican field. 🇺🇸  #GOPDebate  #GOPDebates\n",
            "Decoded = Original: True\n",
            "\n",
            "\n",
            "Original: RT @RWSurferGirl: I think Cruz and Trump need to band together and expose this set up job, and get rid of Bush and Rubio, 🇺🇸 #GOPDebate  #G…\n",
            "Encoded: [31, 29, 3, 32, 31, 39, 37, 15, 11, 30, 4, 11, 23, 8, 11, 13, 33, 3, 38, 3, 5, 12, 8, 9, 34, 3, 40, 11, 15, 59, 3, 6, 9, 14, 3, 29, 11, 15, 18, 19, 3, 9, 4, 4, 14, 3, 5, 7, 3, 16, 6, 9, 14, 3, 5, 7, 21, 4, 5, 12, 4, 11, 3, 6, 9, 14, 3, 4, 48, 19, 7, 10, 4, 3, 5, 12, 8, 10, 3, 10, 4, 5, 3, 15, 19, 3, 56, 7, 16, 42, 3, 6, 9, 14, 3, 21, 4, 5, 3, 11, 8, 14, 3, 7, 30, 3, 45, 15, 10, 12, 3, 6, 9, 14, 3, 31, 15, 16, 8, 7, 42, 3, 65, 66, 3, 20, 23, 25, 26, 24, 4, 16, 6, 5, 4, 3, 3, 20, 23, 54]\n",
            "Decoded: RT @RWSurferGirl: I think Cruz and Trump need to band together and expose this set up job, and get rid of Bush and Rubio, 🇺🇸 #GOPDebate  #G…\n",
            "Decoded = Original: True\n",
            "\n",
            "\n",
            "Original: \"To kill people and break things.\" #GOPDebates\n",
            "Encoded: [50, 29, 7, 3, 34, 8, 13, 13, 3, 19, 4, 7, 19, 13, 4, 3, 6, 9, 14, 3, 16, 11, 4, 6, 34, 3, 5, 12, 8, 9, 21, 10, 28, 50, 3, 20, 23, 25, 26, 24, 4, 16, 6, 5, 4, 10]\n",
            "Decoded: \"To kill people and break things.\" #GOPDebates\n",
            "Decoded = Original: True\n",
            "\n",
            "\n",
            "Original: RT @thehill: #GOPdebate winners and losers: http://t.co/s7s6XDovF7 http://t.co/MXbq7LBLgZ\n",
            "Encoded: [31, 29, 3, 32, 5, 12, 4, 12, 8, 13, 13, 33, 3, 20, 23, 25, 26, 14, 4, 16, 6, 5, 4, 3, 27, 8, 9, 9, 4, 11, 10, 3, 6, 9, 14, 3, 13, 7, 10, 4, 11, 10, 33, 3, 12, 5, 5, 19, 33, 35, 35, 5, 28, 17, 7, 35, 10, 79, 10, 70, 77, 24, 7, 36, 44, 79, 3, 12, 5, 5, 19, 33, 35, 35, 5, 28, 17, 7, 35, 47, 77, 16, 69, 79, 51, 45, 51, 21, 81]\n",
            "Decoded: RT @thehill: #GOPdebate winners and losers: http://t.co/s7s6XDovF7 http://t.co/MXbq7LBLgZ\n",
            "Decoded = Original: True\n",
            "\n",
            "\n",
            "Original: RT @RWSurferGirl: I'd really like to see how long each candidate was given to speak.  It didn't seem \"Fair &amp; Balanced\" at all. 🇺🇸 #GOPDebat…\n",
            "Encoded: [31, 29, 3, 32, 31, 39, 37, 15, 11, 30, 4, 11, 23, 8, 11, 13, 33, 3, 38, 41, 14, 3, 11, 4, 6, 13, 13, 22, 3, 13, 8, 34, 4, 3, 5, 7, 3, 10, 4, 4, 3, 12, 7, 27, 3, 13, 7, 9, 21, 3, 4, 6, 17, 12, 3, 17, 6, 9, 14, 8, 14, 6, 5, 4, 3, 27, 6, 10, 3, 21, 8, 36, 4, 9, 3, 5, 7, 3, 10, 19, 4, 6, 34, 28, 3, 3, 38, 5, 3, 14, 8, 14, 9, 41, 5, 3, 10, 4, 4, 18, 3, 50, 44, 6, 8, 11, 3, 73, 6, 18, 19, 71, 3, 45, 6, 13, 6, 9, 17, 4, 14, 50, 3, 6, 5, 3, 6, 13, 13, 28, 3, 65, 66, 3, 20, 23, 25, 26, 24, 4, 16, 6, 5, 54]\n",
            "Decoded: RT @RWSurferGirl: I'd really like to see how long each candidate was given to speak.  It didn't seem \"Fair &amp; Balanced\" at all. 🇺🇸 #GOPDebat…\n",
            "Decoded = Original: True\n"
          ],
          "name": "stdout"
        }
      ]
    },
    {
      "cell_type": "code",
      "metadata": {
        "id": "OsxwJy7iO2KB",
        "colab_type": "code",
        "colab": {
          "base_uri": "https://localhost:8080/",
          "height": 625
        },
        "outputId": "60c90e47-adee-4d39-f660-f760a156321c"
      },
      "source": [
        "random_test = X_test[np.random.choice(len(X_test), 5)]\n",
        "random_test\n",
        "\n",
        "for text in random_test:\n",
        "  encode_decode_check(text)"
      ],
      "execution_count": 29,
      "outputs": [
        {
          "output_type": "stream",
          "text": [
            "\n",
            "\n",
            "Original: Huckabee: 'The Military Is Not A Social Experiment' http://t.co/vV2lxN2U6k Agreed! #GOPDebate\n",
            "Encoded: [49, 15, 17, 34, 6, 16, 4, 4, 33, 3, 41, 29, 12, 4, 3, 47, 8, 13, 8, 5, 6, 11, 22, 3, 38, 10, 3, 46, 7, 5, 3, 43, 3, 37, 7, 17, 8, 6, 13, 3, 52, 48, 19, 4, 11, 8, 18, 4, 9, 5, 41, 3, 12, 5, 5, 19, 33, 35, 35, 5, 28, 17, 7, 35, 36, 72, 64, 13, 48, 46, 64, 62, 70, 34, 3, 43, 21, 11, 4, 4, 14, 60, 3, 20, 23, 25, 26, 24, 4, 16, 6, 5, 4]\n",
            "Decoded: Huckabee: 'The Military Is Not A Social Experiment' http://t.co/vV2lxN2U6k Agreed! #GOPDebate\n",
            "Decoded = Original: True\n",
            "\n",
            "\n",
            "Original: You can't just bring up god for all of your fucking answers. #GOPDebate\n",
            "Encoded: [68, 7, 15, 3, 17, 6, 9, 41, 5, 3, 56, 15, 10, 5, 3, 16, 11, 8, 9, 21, 3, 15, 19, 3, 21, 7, 14, 3, 30, 7, 11, 3, 6, 13, 13, 3, 7, 30, 3, 22, 7, 15, 11, 3, 30, 15, 17, 34, 8, 9, 21, 3, 6, 9, 10, 27, 4, 11, 10, 28, 3, 20, 23, 25, 26, 24, 4, 16, 6, 5, 4]\n",
            "Decoded: You can't just bring up god for all of your fucking answers. #GOPDebate\n",
            "Decoded = Original: True\n",
            "\n",
            "\n",
            "Original: RT @RWSurferGirl: Jeb Bush reminds me of elevator music. You hear it but you don't listen. 🇺🇸 #GOPDebate  #GOPDebates\n",
            "Encoded: [31, 29, 3, 32, 31, 39, 37, 15, 11, 30, 4, 11, 23, 8, 11, 13, 33, 3, 57, 4, 16, 3, 45, 15, 10, 12, 3, 11, 4, 18, 8, 9, 14, 10, 3, 18, 4, 3, 7, 30, 3, 4, 13, 4, 36, 6, 5, 7, 11, 3, 18, 15, 10, 8, 17, 28, 3, 68, 7, 15, 3, 12, 4, 6, 11, 3, 8, 5, 3, 16, 15, 5, 3, 22, 7, 15, 3, 14, 7, 9, 41, 5, 3, 13, 8, 10, 5, 4, 9, 28, 3, 65, 66, 3, 20, 23, 25, 26, 24, 4, 16, 6, 5, 4, 3, 3, 20, 23, 25, 26, 24, 4, 16, 6, 5, 4, 10]\n",
            "Decoded: RT @RWSurferGirl: Jeb Bush reminds me of elevator music. You hear it but you don't listen. 🇺🇸 #GOPDebate  #GOPDebates\n",
            "Decoded = Original: True\n",
            "\n",
            "\n",
            "Original: RT @RWSurferGirl: We the American people pick the next President of United States not FOX News 🇺🇸 #GOPDebate  #GOPDebates\n",
            "Encoded: [31, 29, 3, 32, 31, 39, 37, 15, 11, 30, 4, 11, 23, 8, 11, 13, 33, 3, 39, 4, 3, 5, 12, 4, 3, 43, 18, 4, 11, 8, 17, 6, 9, 3, 19, 4, 7, 19, 13, 4, 3, 19, 8, 17, 34, 3, 5, 12, 4, 3, 9, 4, 48, 5, 3, 26, 11, 4, 10, 8, 14, 4, 9, 5, 3, 7, 30, 3, 62, 9, 8, 5, 4, 14, 3, 37, 5, 6, 5, 4, 10, 3, 9, 7, 5, 3, 44, 25, 77, 3, 46, 4, 27, 10, 3, 65, 66, 3, 20, 23, 25, 26, 24, 4, 16, 6, 5, 4, 3, 3, 20, 23, 25, 26, 24, 4, 16, 6, 5, 4, 10]\n",
            "Decoded: RT @RWSurferGirl: We the American people pick the next President of United States not FOX News 🇺🇸 #GOPDebate  #GOPDebates\n",
            "Decoded = Original: True\n",
            "\n",
            "\n",
            "Original: @EdgeofSports Thanks for being a voice of reason in this mess! #GOPDebates\n",
            "Laughs are few this evening, but \"canned goods\" is gold!\n",
            "Encoded: [32, 52, 14, 21, 4, 7, 30, 37, 19, 7, 11, 5, 10, 3, 29, 12, 6, 9, 34, 10, 3, 30, 7, 11, 3, 16, 4, 8, 9, 21, 3, 6, 3, 36, 7, 8, 17, 4, 3, 7, 30, 3, 11, 4, 6, 10, 7, 9, 3, 8, 9, 3, 5, 12, 8, 10, 3, 18, 4, 10, 10, 60, 3, 20, 23, 25, 26, 24, 4, 16, 6, 5, 4, 10, 55, 51, 6, 15, 21, 12, 10, 3, 6, 11, 4, 3, 30, 4, 27, 3, 5, 12, 8, 10, 3, 4, 36, 4, 9, 8, 9, 21, 42, 3, 16, 15, 5, 3, 50, 17, 6, 9, 9, 4, 14, 3, 21, 7, 7, 14, 10, 50, 3, 8, 10, 3, 21, 7, 13, 14, 60]\n",
            "Decoded: @EdgeofSports Thanks for being a voice of reason in this mess! #GOPDebates\n",
            "Laughs are few this evening, but \"canned goods\" is gold!\n",
            "Decoded = Original: True\n"
          ],
          "name": "stdout"
        }
      ]
    },
    {
      "cell_type": "code",
      "metadata": {
        "id": "Ju0xEz03KVp1",
        "colab_type": "code",
        "colab": {}
      },
      "source": [
        "X_train_encoded = [encode(text) for text in X_train]\n",
        "X_test_encoded = [encode(text) for text in X_test]"
      ],
      "execution_count": 30,
      "outputs": []
    },
    {
      "cell_type": "markdown",
      "metadata": {
        "id": "2Cl70CueRkAx",
        "colab_type": "text"
      },
      "source": [
        "# Zero Padding"
      ]
    },
    {
      "cell_type": "code",
      "metadata": {
        "id": "H0cpgQ_RLVZb",
        "colab_type": "code",
        "colab": {}
      },
      "source": [
        "from tensorflow.keras.preprocessing import sequence\n",
        "\n",
        "X_train_encoded = sequence.pad_sequences(X_train_encoded, maxlen=time_steps)\n",
        "X_test_encoded = sequence.pad_sequences(X_test_encoded, maxlen=time_steps)"
      ],
      "execution_count": 31,
      "outputs": []
    },
    {
      "cell_type": "code",
      "metadata": {
        "id": "4qhAnUqhOtT1",
        "colab_type": "code",
        "colab": {
          "base_uri": "https://localhost:8080/",
          "height": 366
        },
        "outputId": "b2a9ef3d-abea-4726-80a6-198e09a40139"
      },
      "source": [
        "X_train_encoded[0:2]"
      ],
      "execution_count": 32,
      "outputs": [
        {
          "output_type": "execute_result",
          "data": {
            "text/plain": [
              "array([[ 0,  0,  0,  0,  0,  0,  0,  0,  0,  0,  0,  0,  0,  0,  0,  0,\n",
              "         0,  0,  0,  0,  0,  0,  0, 31, 29,  3, 32, 31, 39, 37, 15, 11,\n",
              "        30,  4, 11, 23,  8, 11, 13, 33,  3, 39,  4,  3,  5, 12,  4,  3,\n",
              "        43, 18,  4, 11,  8, 17,  6,  9,  3, 19,  4,  7, 19, 13,  4,  3,\n",
              "        19,  8, 17, 34,  3,  5, 12,  4,  3,  9,  4, 48,  5,  3, 26, 11,\n",
              "         4, 10,  8, 14,  4,  9,  5,  3,  7, 30,  3, 62,  9,  8,  5,  4,\n",
              "        14,  3, 37,  5,  6,  5,  4, 10,  3,  9,  7,  5,  3, 44, 25, 77,\n",
              "         3, 46,  4, 27, 10,  3, 65, 66,  3, 20, 23, 25, 26, 24,  4, 16,\n",
              "         6,  5,  4,  3,  3, 20, 23, 25, 26, 24,  4, 16,  6,  5,  4, 10],\n",
              "       [ 0,  0,  0,  0,  0,  0,  0,  0,  0,  0,  0,  0,  0,  0,  0,  0,\n",
              "         0,  0,  0,  0,  0,  0,  0,  0,  0,  0,  0,  0,  0,  0,  0,  0,\n",
              "         0,  0,  0,  0,  0,  0,  0,  0,  0, 31, 29,  3, 32, 61,  4, 36,\n",
              "        77, 38,  9, 14, 22, 33,  3, 38,  3, 10,  4, 11,  8,  7, 15, 10,\n",
              "        13, 22,  3, 27,  8, 10, 12,  3, 32, 57,  6, 18,  4, 10, 31,  7,\n",
              "        10,  4,  9, 44, 46, 40,  3, 27,  6, 10,  3,  7,  9,  4,  3,  7,\n",
              "        30,  3,  5,  7,  9,  8, 21, 12,  5, 41, 10,  3, 18,  7, 14,  4,\n",
              "        11,  6,  5,  7, 11, 10,  3, 20, 44, 25, 77, 46, 52, 39, 37, 24,\n",
              "        52, 45, 43, 29, 52,  3, 20, 23, 25, 26, 24,  4, 16,  6,  5,  4]],\n",
              "      dtype=int32)"
            ]
          },
          "metadata": {
            "tags": []
          },
          "execution_count": 32
        }
      ]
    },
    {
      "cell_type": "code",
      "metadata": {
        "id": "g1-iJ2nOOwJ4",
        "colab_type": "code",
        "colab": {
          "base_uri": "https://localhost:8080/",
          "height": 366
        },
        "outputId": "456a9b92-c17b-4f05-da86-7f249c2b921a"
      },
      "source": [
        "X_test_encoded[0:2]"
      ],
      "execution_count": 33,
      "outputs": [
        {
          "output_type": "execute_result",
          "data": {
            "text/plain": [
              "array([[ 0,  0,  0,  0,  0,  0,  0,  0,  0,  0,  0,  0,  0,  0,  0,  0,\n",
              "         0,  0,  0,  0,  0,  0,  0,  0,  0,  0,  0,  0,  0,  0,  0,  0,\n",
              "         0,  0,  0,  0,  0,  0,  0,  0,  0,  0,  0,  0,  0,  0,  0,  0,\n",
              "         0,  0,  0,  0,  0,  0,  0,  0,  0,  0,  0,  0,  0,  0,  0,  0,\n",
              "         0,  0,  0,  0, 29,  7,  3, 18,  4, 42,  3,  5, 12,  4,  3, 11,\n",
              "         4,  6, 13,  3, 27,  8,  9,  9,  4, 11,  3,  7, 30,  3, 13,  6,\n",
              "        10,  5,  3,  9,  8, 21, 12,  5,  3, 20, 23, 25, 26, 24,  4, 16,\n",
              "         6,  5,  4,  3, 27,  6, 10,  3, 32, 18,  4, 21, 22,  9, 34,  4,\n",
              "        13, 13, 22, 28,  3, 20, 47,  4, 21, 22,  9, 61,  4, 13, 13, 22],\n",
              "       [ 0,  0,  0,  0, 31, 29,  3, 32, 24,  6,  9, 37, 17,  6, 36,  8,\n",
              "         9,  7, 33,  3, 28, 32, 18,  4, 21, 22,  9, 34,  4, 13, 13, 22,\n",
              "        42, 55, 37,  7, 18,  4,  3, 11,  4, 10, 15, 13,  5, 10,  3,  7,\n",
              "         9,  3, 12,  7, 27,  3, 17,  6,  9, 14,  8, 14,  6,  5,  4, 10,\n",
              "         3, 14,  8, 14,  3,  6,  5,  3, 20, 23, 25, 26, 24,  4, 16,  6,\n",
              "         5,  4, 28,  3, 20, 47,  6, 34,  4, 43, 18,  4, 11,  8, 17,  6,\n",
              "        23, 11,  4,  6,  5, 43, 21,  6,  8,  9,  3, 20, 29, 11, 15, 18,\n",
              "        19, 64, 63, 58, 70,  3, 20, 61,  4, 13, 13, 22, 44,  6,  8, 13,\n",
              "         4, 14,  3, 12,  5,  5, 19, 33, 35, 35,  5, 28, 17,  7, 35, 54]],\n",
              "      dtype=int32)"
            ]
          },
          "metadata": {
            "tags": []
          },
          "execution_count": 33
        }
      ]
    },
    {
      "cell_type": "markdown",
      "metadata": {
        "id": "1WXwBQQ0Rodu",
        "colab_type": "text"
      },
      "source": [
        "# Model Training"
      ]
    },
    {
      "cell_type": "code",
      "metadata": {
        "id": "WQCR5F8EOzE1",
        "colab_type": "code",
        "colab": {}
      },
      "source": [
        "import tensorflow as tf\n",
        "from tensorflow.keras import Sequential\n",
        "from tensorflow.keras.layers import Embedding, Dense, Dropout\n",
        "from tensorflow.keras.layers import SimpleRNN as RNN\n",
        "from tensorflow.keras.layers import LSTM as LSTM\n",
        "from tensorflow.keras.layers import GRU as GRU"
      ],
      "execution_count": 34,
      "outputs": []
    },
    {
      "cell_type": "code",
      "metadata": {
        "id": "KklDFGZzO-0d",
        "colab_type": "code",
        "colab": {}
      },
      "source": [
        "import matplotlib.pyplot as plt\n",
        "%matplotlib inline\n",
        "\n",
        "def plot_metrics(history: tf.python.keras.callbacks.History, metrics: List[str] = ['loss'], figsize: Tuple[int, int] = (10,4), title: str = \"Train/Test Curves\", titlefontsize:int = 14):\n",
        "  \"\"\"\n",
        "  This functin will plot the metrics for the model\n",
        "  :param history: The history object obtained from the fit function.\n",
        "  :type history: tf.python.keras.callbacks.History\n",
        "  :param metrics: What metrics to plot for the model (Default = ['loss'])\n",
        "  :type metrics: List[str]\n",
        "  :param figsize: Figure size to be used for plotting (Default = (10,4))\n",
        "  :type figsize: Tuple(int,int)\n",
        "  \"\"\"\n",
        "  num_plots = len(metrics)\n",
        "  fig, axes = plt.subplots(int(num_plots/2), 2, figsize=figsize)\n",
        "\n",
        "  for num, metric in enumerate(metrics):\n",
        "    # summarize history for metric\n",
        "    if num <= 2:\n",
        "      axes[num%2].plot(history.history[metric])\n",
        "      axes[num%2].plot(history.history['val_' + metric])\n",
        "      axes[num%2].set_title('Model ' + metric)\n",
        "      axes[num%2].set(xlabel='Epoch', ylabel=metric)\n",
        "      axes[num%2].legend(['train', 'val'], loc='best')    \n",
        "    else:\n",
        "      axes[floor(num/2), num%2].plot(history.history[metric])\n",
        "      axes[floor(num/2), num%2].plot(history.history['val_' + metric])\n",
        "      axes[floor(num/2), num%2].set_title('Model ' + metric)\n",
        "      axes[floor(num/2), num%2].set(xlabel='Epoch', ylabel=metric)\n",
        "      axes[floor(num/2), num%2].legend(['train', 'val'], loc='best')\n",
        "\n",
        "  plt.suptitle(title, fontsize=titlefontsize, y=1.02)    \n",
        "  plt.tight_layout()\n",
        "  _ = plt.show"
      ],
      "execution_count": 35,
      "outputs": []
    },
    {
      "cell_type": "code",
      "metadata": {
        "id": "MWs-a9b7PBiZ",
        "colab_type": "code",
        "colab": {}
      },
      "source": [
        "from tensorflow.keras.callbacks import EarlyStopping\n",
        "# If validation error does not improve for 'patience' epochs, then terminate the training\n",
        "es = EarlyStopping(min_delta=0,patience=3)"
      ],
      "execution_count": 36,
      "outputs": []
    },
    {
      "cell_type": "code",
      "metadata": {
        "id": "sTlZ2fOOPIm3",
        "colab_type": "code",
        "colab": {}
      },
      "source": [
        "# import other libs as needed for building model\n",
        "from tensorflow.keras.callbacks import ModelCheckpoint\n",
        "\n",
        "# add a checkpoint to save the lowest validation loss\n",
        "filepath = '.'\n",
        "checkpoint = ModelCheckpoint(filepath, monitor='val_loss', verbose=1, \n",
        "                             save_best_only=True, save_weights_only=False, \n",
        "                             mode='auto', save_frequency=1)"
      ],
      "execution_count": 37,
      "outputs": []
    },
    {
      "cell_type": "code",
      "metadata": {
        "id": "hgMBsfCHPJNx",
        "colab_type": "code",
        "colab": {}
      },
      "source": [
        "def create_model(\n",
        "    vocabulary_size: int,\n",
        "    time_steps: int,\n",
        "    embedding_size: int,\n",
        "    num_classes: int,\n",
        "    type: str = 'lstm',\n",
        "    num_neuron: int=100,\n",
        "    dropout: float=0,\n",
        "    recurrent_dropout: float=0\n",
        "    ) -> tf.keras.layers.Layer:\n",
        "  \"\"\"\n",
        "  Creates a Sequence Model with the passed parameters\n",
        "  :param vocabulary_size Size of the Vocabulary\n",
        "  :type vocabulary_size int\n",
        "  :param time_steps Number of steps in the sequence (e.g. length of sentence)\n",
        "  :type time_steps int\n",
        "  :param embedding_size Size of the Embedding \n",
        "  :type embedding_size int\n",
        "  :param num_classes Number of Classes to predict (2 for binary, 3 for ternary, etc.)\n",
        "  :type num_classes int\n",
        "  :param type Type of sequence model (Options: 'simple_rnn', 'lstm' or 'gru' (Default: 'lstm')\n",
        "  :type type str\n",
        "  :param num_neuron Number of neurons to be passed to the \"cell\"\n",
        "  :type num_neuron int\n",
        "  :param dropout Amount of dropout to use between the memory layer and the fully connected layer\n",
        "  :type dropout float\n",
        "  :param recurrent_dropout Amount of recurrent dropout to use\n",
        "  :type recurrent_dropout float\n",
        "  :rtype tf.keras.layers.Layer\n",
        "  \"\"\"\n",
        "  model = Sequential()\n",
        "  model.add(Embedding(vocabulary_size, embedding_size, input_length=time_steps))\n",
        "  if type.lower() == 'simple_rnn':\n",
        "    model.add(RNN(num_neuron, recurrent_dropout=recurrent_dropout))\n",
        "  elif type.lower() == 'lstm':\n",
        "    model.add(LSTM(num_neuron, recurrent_dropout=recurrent_dropout))\n",
        "  elif type.lower() == 'gru':\n",
        "    model.add(GRU(num_neuron, recurrent_dropout=recurrent_dropout))\n",
        "  else:\n",
        "    sys.exit(\"You have not passed the right argument for type.\")\n",
        "  model.add(Dropout(dropout))\n",
        "  model.add(Dense(num_classes, activation='softmax'))\n",
        "  model.compile(loss='sparse_categorical_crossentropy', optimizer='adam', metrics=['accuracy'])\n",
        "  return model\n",
        "\n",
        "def create_simple_rnn_model(vocabulary_size: int, time_steps: int, embedding_size: int, num_classes: int, num_neuron: int=100, dropout: float=0, recurrent_dropout: float=0) -> tf.keras.layers.Layer:\n",
        "  \"\"\"\n",
        "  Creates a Simple RNN Model with the passed parameters\n",
        "  :param vocabulary_size Size of the Vocabulary\n",
        "  :type vocabulary_size int\n",
        "  :param time_steps Number of steps in the sequence (e.g. length of sentence)\n",
        "  :type time_steps int\n",
        "  :param embedding_size Size of the Embedding \n",
        "  :type embedding_size int\n",
        "  :param num_classes Number of Classes to predict (2 for binary, 3 for ternary, etc.)\n",
        "  :type num_classes int\n",
        "  :param num_neuron Number of neurons to be passed to the \"cell\"\n",
        "  :type num_neuron int\n",
        "  :param dropout Amount of dropout to use between the memory layer and the fully connected layer\n",
        "  :type dropout float\n",
        "  :param recurrent_dropout Amount of recurrent dropout to use\n",
        "  :type recurrent_dropout float\n",
        "  :rtype tf.keras.layers.Layer\n",
        "  \"\"\"\n",
        "  model = create_model(vocabulary_size, time_steps, embedding_size, num_classes, 'simple_rnn', num_neuron, dropout, recurrent_dropout)\n",
        "  return model\n",
        "\n",
        "def create_lstm_model(vocabulary_size: int, time_steps: int, embedding_size: int, num_classes: int, num_neuron: int=100, dropout: float=0, recurrent_dropout: float=0) -> tf.keras.layers.Layer:\n",
        "  \"\"\"\n",
        "  Creates a LSTM Model with the passed parameters\n",
        "  :param vocabulary_size Size of the Vocabulary\n",
        "  :type vocabulary_size int\n",
        "  :param time_steps Number of steps in the sequence (e.g. length of sentence)\n",
        "  :type time_steps int\n",
        "  :param embedding_size Size of the Embedding \n",
        "  :type embedding_size int\n",
        "  :param num_classes Number of Classes to predict (2 for binary, 3 for ternary, etc.)\n",
        "  :type num_classes int\n",
        "  :param num_neuron Number of neurons to be passed to the \"cell\"\n",
        "  :type num_neuron int\n",
        "  :param dropout Amount of dropout to use between the memory layer and the fully connected layer\n",
        "  :type dropout float\n",
        "  :param recurrent_dropout Amount of recurrent dropout to use\n",
        "  :type recurrent_dropout float\n",
        "  :rtype tf.keras.layers.Layer\n",
        "  \"\"\"\n",
        "  model = create_model(vocabulary_size, time_steps, embedding_size, num_classes, 'lstm', num_neuron, dropout, recurrent_dropout)\n",
        "  return model\n",
        "\n",
        "def create_gru_model(vocabulary_size: int, time_steps: int, embedding_size: int, num_classes: int, num_neuron: int=100, dropout: float=0, recurrent_dropout: float=0) -> tf.keras.layers.Layer:\n",
        "  \"\"\"\n",
        "  Creates a GRU Model with the passed parameters\n",
        "  :param vocabulary_size Size of the Vocabulary\n",
        "  :type vocabulary_size int\n",
        "  :param time_steps Number of steps in the sequence (e.g. length of sentence)\n",
        "  :type time_steps int\n",
        "  :param embedding_size Size of the Embedding \n",
        "  :type embedding_size int\n",
        "  :param num_classes Number of Classes to predict (2 for binary, 3 for ternary, etc.)\n",
        "  :type num_classes int\n",
        "  :param num_neuron Number of neurons to be passed to the \"cell\"\n",
        "  :type num_neuron int\n",
        "  :param dropout Amount of dropout to use between the memory layer and the fully connected layer\n",
        "  :type dropout float\n",
        "  :param recurrent_dropout Amount of recurrent dropout to use\n",
        "  :type recurrent_dropout float\n",
        "  :rtype tf.keras.layers.Layer\n",
        "  \"\"\"\n",
        "  model = create_model(vocabulary_size, time_steps, embedding_size, num_classes, 'gru', num_neuron, dropout, recurrent_dropout)\n",
        "  return model"
      ],
      "execution_count": 38,
      "outputs": []
    },
    {
      "cell_type": "code",
      "metadata": {
        "id": "rsUIpEL-Pa-u",
        "colab_type": "code",
        "colab": {
          "base_uri": "https://localhost:8080/",
          "height": 1000
        },
        "outputId": "23cb0288-0ff2-456b-cb9c-b27b89c417dc"
      },
      "source": [
        "vocabulary_size = vocabulary_size\n",
        "embedding_size = 100\n",
        "time_steps = time_steps\n",
        "num_neuron = 100\n",
        "dropout = 0.2\n",
        "recurrent_dropout = 0.2\n",
        "EPOCHS = 20\n",
        "\n",
        "# Build Model and Train\n",
        "model = create_lstm_model(\n",
        "    vocabulary_size=vocabulary_size,\n",
        "    embedding_size=embedding_size,\n",
        "    time_steps=time_steps,\n",
        "    num_classes=3,\n",
        "    num_neuron=num_neuron,\n",
        "    dropout=dropout,\n",
        "    recurrent_dropout=recurrent_dropout\n",
        "  )\n",
        "print(model.summary())\n",
        "\n",
        "history = model.fit(\n",
        "    X_train_encoded, y_train,\n",
        "    validation_data=(X_test_encoded, y_test),\n",
        "    epochs=EPOCHS,\n",
        "    batch_size=256,\n",
        "    callbacks=[es, checkpoint]\n",
        "  )\n",
        "\n",
        "plot_metrics(history,\n",
        "             metrics=['loss', 'accuracy'],\n",
        "             title = f\"LSTM --> Vocab: {vocabulary_size}, Steps: {time_steps}, Embedding: {embedding_size}, Neurons: {num_neuron}, Dropout: {round(dropout,2)}, Rec. Dropout: {round(recurrent_dropout,2)}\")"
      ],
      "execution_count": 39,
      "outputs": [
        {
          "output_type": "stream",
          "text": [
            "WARNING:tensorflow:Layer lstm will not use cuDNN kernel since it doesn't meet the cuDNN kernel criteria. It will use generic GPU kernel as fallback when running on GPU\n",
            "Model: \"sequential\"\n",
            "_________________________________________________________________\n",
            "Layer (type)                 Output Shape              Param #   \n",
            "=================================================================\n",
            "embedding (Embedding)        (None, 144, 100)          24600     \n",
            "_________________________________________________________________\n",
            "lstm (LSTM)                  (None, 100)               80400     \n",
            "_________________________________________________________________\n",
            "dropout (Dropout)            (None, 100)               0         \n",
            "_________________________________________________________________\n",
            "dense (Dense)                (None, 3)                 303       \n",
            "=================================================================\n",
            "Total params: 105,303\n",
            "Trainable params: 105,303\n",
            "Non-trainable params: 0\n",
            "_________________________________________________________________\n",
            "None\n",
            "Epoch 1/20\n",
            "44/44 [==============================] - ETA: 0s - loss: 0.9434 - accuracy: 0.6021\n",
            "Epoch 00001: val_loss improved from inf to 0.89978, saving model to .\n",
            "WARNING:tensorflow:From /usr/local/lib/python3.6/dist-packages/tensorflow/python/training/tracking/tracking.py:111: Model.state_updates (from tensorflow.python.keras.engine.training) is deprecated and will be removed in a future version.\n",
            "Instructions for updating:\n",
            "This property should not be used in TensorFlow 2.0, as updates are applied automatically.\n",
            "WARNING:tensorflow:From /usr/local/lib/python3.6/dist-packages/tensorflow/python/training/tracking/tracking.py:111: Layer.updates (from tensorflow.python.keras.engine.base_layer) is deprecated and will be removed in a future version.\n",
            "Instructions for updating:\n",
            "This property should not be used in TensorFlow 2.0, as updates are applied automatically.\n",
            "INFO:tensorflow:Assets written to: ./assets\n",
            "44/44 [==============================] - 31s 713ms/step - loss: 0.9434 - accuracy: 0.6021 - val_loss: 0.8998 - val_accuracy: 0.6205\n",
            "Epoch 2/20\n",
            "44/44 [==============================] - ETA: 0s - loss: 0.9088 - accuracy: 0.6110\n",
            "Epoch 00002: val_loss improved from 0.89978 to 0.88214, saving model to .\n",
            "INFO:tensorflow:Assets written to: ./assets\n",
            "44/44 [==============================] - 31s 709ms/step - loss: 0.9088 - accuracy: 0.6110 - val_loss: 0.8821 - val_accuracy: 0.6187\n",
            "Epoch 3/20\n",
            "44/44 [==============================] - ETA: 0s - loss: 0.8918 - accuracy: 0.6190\n",
            "Epoch 00003: val_loss did not improve from 0.88214\n",
            "44/44 [==============================] - 28s 640ms/step - loss: 0.8918 - accuracy: 0.6190 - val_loss: 0.8876 - val_accuracy: 0.6205\n",
            "Epoch 4/20\n",
            "44/44 [==============================] - ETA: 0s - loss: 0.8854 - accuracy: 0.6201\n",
            "Epoch 00004: val_loss improved from 0.88214 to 0.88210, saving model to .\n",
            "INFO:tensorflow:Assets written to: ./assets\n",
            "44/44 [==============================] - 32s 719ms/step - loss: 0.8854 - accuracy: 0.6201 - val_loss: 0.8821 - val_accuracy: 0.6115\n",
            "Epoch 5/20\n",
            "44/44 [==============================] - ETA: 0s - loss: 0.8771 - accuracy: 0.6192\n",
            "Epoch 00005: val_loss improved from 0.88210 to 0.87458, saving model to .\n",
            "INFO:tensorflow:Assets written to: ./assets\n",
            "44/44 [==============================] - 31s 708ms/step - loss: 0.8771 - accuracy: 0.6192 - val_loss: 0.8746 - val_accuracy: 0.6256\n",
            "Epoch 6/20\n",
            "44/44 [==============================] - ETA: 0s - loss: 0.8726 - accuracy: 0.6245\n",
            "Epoch 00006: val_loss improved from 0.87458 to 0.86174, saving model to .\n",
            "INFO:tensorflow:Assets written to: ./assets\n",
            "44/44 [==============================] - 31s 710ms/step - loss: 0.8726 - accuracy: 0.6245 - val_loss: 0.8617 - val_accuracy: 0.6339\n",
            "Epoch 7/20\n",
            "44/44 [==============================] - ETA: 0s - loss: 0.8644 - accuracy: 0.6277\n",
            "Epoch 00007: val_loss improved from 0.86174 to 0.85280, saving model to .\n",
            "INFO:tensorflow:Assets written to: ./assets\n",
            "44/44 [==============================] - 32s 728ms/step - loss: 0.8644 - accuracy: 0.6277 - val_loss: 0.8528 - val_accuracy: 0.6274\n",
            "Epoch 8/20\n",
            "44/44 [==============================] - ETA: 0s - loss: 0.8492 - accuracy: 0.6337\n",
            "Epoch 00008: val_loss improved from 0.85280 to 0.85183, saving model to .\n",
            "INFO:tensorflow:Assets written to: ./assets\n",
            "44/44 [==============================] - 31s 712ms/step - loss: 0.8492 - accuracy: 0.6337 - val_loss: 0.8518 - val_accuracy: 0.6357\n",
            "Epoch 9/20\n",
            "44/44 [==============================] - ETA: 0s - loss: 0.8487 - accuracy: 0.6357\n",
            "Epoch 00009: val_loss improved from 0.85183 to 0.84381, saving model to .\n",
            "INFO:tensorflow:Assets written to: ./assets\n",
            "44/44 [==============================] - 31s 707ms/step - loss: 0.8487 - accuracy: 0.6357 - val_loss: 0.8438 - val_accuracy: 0.6386\n",
            "Epoch 10/20\n",
            "44/44 [==============================] - ETA: 0s - loss: 0.8438 - accuracy: 0.6343\n",
            "Epoch 00010: val_loss did not improve from 0.84381\n",
            "44/44 [==============================] - 28s 642ms/step - loss: 0.8438 - accuracy: 0.6343 - val_loss: 0.8502 - val_accuracy: 0.6328\n",
            "Epoch 11/20\n",
            "44/44 [==============================] - ETA: 0s - loss: 0.8441 - accuracy: 0.6342\n",
            "Epoch 00011: val_loss did not improve from 0.84381\n",
            "44/44 [==============================] - 28s 642ms/step - loss: 0.8441 - accuracy: 0.6342 - val_loss: 0.8624 - val_accuracy: 0.6389\n",
            "Epoch 12/20\n",
            "44/44 [==============================] - ETA: 0s - loss: 0.8440 - accuracy: 0.6343\n",
            "Epoch 00012: val_loss did not improve from 0.84381\n",
            "44/44 [==============================] - 28s 643ms/step - loss: 0.8440 - accuracy: 0.6343 - val_loss: 0.8442 - val_accuracy: 0.6314\n"
          ],
          "name": "stdout"
        },
        {
          "output_type": "display_data",
          "data": {
            "image/png": "[encoded data removed]",
            "text/plain": [
              "<Figure size 720x288 with 2 Axes>"
            ]
          },
          "metadata": {
            "tags": [],
            "needs_background": "light"
          }
        }
      ]
    },
    {
      "cell_type": "code",
      "metadata": {
        "id": "f6KOrBsIYsg_",
        "colab_type": "code",
        "colab": {}
      },
      "source": [
        "# Save the model\n",
        "model.save('unigram_model.h5')"
      ],
      "execution_count": 40,
      "outputs": []
    },
    {
      "cell_type": "markdown",
      "metadata": {
        "id": "W5buaSfjPuRI",
        "colab_type": "text"
      },
      "source": [
        "# Emoji Vector"
      ]
    },
    {
      "cell_type": "code",
      "metadata": {
        "id": "ehEjmTBzWKLb",
        "colab_type": "code",
        "colab": {
          "base_uri": "https://localhost:8080/",
          "height": 35
        },
        "outputId": "59290366-5867-4143-e990-196318722d26"
      },
      "source": [
        "all_weights = history.model.get_weights()\n",
        "embeddings = all_weights[0]\n",
        "embeddings.shape"
      ],
      "execution_count": 41,
      "outputs": [
        {
          "output_type": "execute_result",
          "data": {
            "text/plain": [
              "(246, 100)"
            ]
          },
          "metadata": {
            "tags": []
          },
          "execution_count": 41
        }
      ]
    },
    {
      "cell_type": "code",
      "metadata": {
        "id": "eEbvgCB3Ps0U",
        "colab_type": "code",
        "colab": {
          "base_uri": "https://localhost:8080/",
          "height": 35
        },
        "outputId": "05d65e2d-8264-436c-bc76-7ab858ee6052"
      },
      "source": [
        "emoji = None\n",
        "for (char, num_occurance) in fdist.most_common():\n",
        "  if num_occurance == 95:\n",
        "    emoji = char\n",
        "print(emoji) "
      ],
      "execution_count": 42,
      "outputs": [
        {
          "output_type": "stream",
          "text": [
            "😂\n"
          ],
          "name": "stdout"
        }
      ]
    },
    {
      "cell_type": "code",
      "metadata": {
        "id": "7FKlFXqjXF3w",
        "colab_type": "code",
        "colab": {
          "base_uri": "https://localhost:8080/",
          "height": 35
        },
        "outputId": "57ca7805-4dc6-4126-c50d-accc02d15a19"
      },
      "source": [
        "emoji_index = word_index[emoji]\n",
        "emoji_index"
      ],
      "execution_count": 43,
      "outputs": [
        {
          "output_type": "execute_result",
          "data": {
            "text/plain": [
              "90"
            ]
          },
          "metadata": {
            "tags": []
          },
          "execution_count": 43
        }
      ]
    },
    {
      "cell_type": "code",
      "metadata": {
        "id": "0oqn2Y32YHmg",
        "colab_type": "code",
        "colab": {
          "base_uri": "https://localhost:8080/",
          "height": 403
        },
        "outputId": "b302fb05-d44c-4992-fd29-132c05d0a1e1"
      },
      "source": [
        "emoji_weight = embeddings[emoji_index]\n",
        "emoji_weight"
      ],
      "execution_count": 44,
      "outputs": [
        {
          "output_type": "execute_result",
          "data": {
            "text/plain": [
              "array([ 0.04278709,  0.06593426, -0.02884466, -0.03912496,  0.05094557,\n",
              "       -0.11598883,  0.01996332,  0.00113907, -0.03370011, -0.0236288 ,\n",
              "       -0.05577161,  0.05892398,  0.0397423 , -0.0102463 ,  0.05607839,\n",
              "       -0.01488206,  0.03120086,  0.10368329, -0.0552456 , -0.10152451,\n",
              "        0.00416471,  0.04041827, -0.07675379,  0.01113601,  0.06205393,\n",
              "       -0.04967258,  0.05093812,  0.02642291,  0.0075951 , -0.0329095 ,\n",
              "       -0.01251779, -0.02334862, -0.02554486,  0.06463355,  0.04366776,\n",
              "        0.05580907,  0.14156331,  0.00202474, -0.09129009, -0.07385754,\n",
              "       -0.09447911, -0.00674719,  0.02364535, -0.02892481, -0.11084142,\n",
              "        0.0695244 ,  0.05171769,  0.18774533,  0.04245574, -0.07431188,\n",
              "        0.00982214,  0.1185127 ,  0.04098997,  0.05429093,  0.0126364 ,\n",
              "        0.23311675, -0.11615768, -0.03989846,  0.12531607,  0.02128542,\n",
              "        0.03328275, -0.03480678,  0.07939763,  0.02569998, -0.03769624,\n",
              "        0.07731025,  0.01939103,  0.00633543, -0.00509617,  0.02442311,\n",
              "       -0.06037289, -0.13617197,  0.05323149, -0.06582776, -0.05938544,\n",
              "        0.02206478, -0.09517269, -0.11736313,  0.05329129,  0.06947181,\n",
              "       -0.07475164, -0.03528533, -0.05692797, -0.00197038,  0.05327236,\n",
              "        0.00992174, -0.00082891,  0.00330616,  0.07010555, -0.10903603,\n",
              "       -0.07586583,  0.1034829 ,  0.07673889, -0.00414205, -0.03820539,\n",
              "       -0.01027473, -0.13290739, -0.07129253,  0.0153774 ,  0.09411415],\n",
              "      dtype=float32)"
            ]
          },
          "metadata": {
            "tags": []
          },
          "execution_count": 44
        }
      ]
    },
    {
      "cell_type": "markdown",
      "metadata": {
        "id": "ErbE56bUP8V0",
        "colab_type": "text"
      },
      "source": [
        "# Emoji Similarity"
      ]
    },
    {
      "cell_type": "code",
      "metadata": {
        "id": "8AYNNp_5ZF-S",
        "colab_type": "code",
        "colab": {
          "base_uri": "https://localhost:8080/",
          "height": 35
        },
        "outputId": "c05216aa-6aad-4de4-93e2-abe83ffb5e38"
      },
      "source": [
        "from sklearn.metrics.pairwise import cosine_similarity\n",
        "similarities = cosine_similarity(embeddings)\n",
        "similarities.shape"
      ],
      "execution_count": 45,
      "outputs": [
        {
          "output_type": "execute_result",
          "data": {
            "text/plain": [
              "(246, 246)"
            ]
          },
          "metadata": {
            "tags": []
          },
          "execution_count": 45
        }
      ]
    },
    {
      "cell_type": "code",
      "metadata": {
        "id": "oPNArIPBZeo2",
        "colab_type": "code",
        "colab": {
          "base_uri": "https://localhost:8080/",
          "height": 54
        },
        "outputId": "caa4de6e-299c-4c2b-ad8e-e5a95249e75f"
      },
      "source": [
        "emoji_similarities = similarities[emoji_index]\n",
        "print(emoji_similarities.min())\n",
        "print(emoji_similarities.max())"
      ],
      "execution_count": 46,
      "outputs": [
        {
          "output_type": "stream",
          "text": [
            "-0.60810196\n",
            "1.0000001\n"
          ],
          "name": "stdout"
        }
      ]
    },
    {
      "cell_type": "code",
      "metadata": {
        "id": "0BALA2J0aF8l",
        "colab_type": "code",
        "colab": {
          "base_uri": "https://localhost:8080/",
          "height": 54
        },
        "outputId": "aed250f6-940e-405b-97bd-890dcee430f5"
      },
      "source": [
        "emoji_similarities_sorted = emoji_similarities.copy()\n",
        "emoji_similarities_sorted.sort()\n",
        "print(emoji_similarities_sorted[-10:]) # 9 most similar (exclusing itself)"
      ],
      "execution_count": 47,
      "outputs": [
        {
          "output_type": "stream",
          "text": [
            "[0.6214751  0.62311226 0.6429516  0.65726095 0.6767417  0.6837795\n",
            " 0.708331   0.7289682  0.83398616 1.0000001 ]\n"
          ],
          "name": "stdout"
        }
      ]
    },
    {
      "cell_type": "code",
      "metadata": {
        "id": "5NPCQ4V2awbL",
        "colab_type": "code",
        "colab": {
          "base_uri": "https://localhost:8080/",
          "height": 35
        },
        "outputId": "42186837-a094-4fe4-9830-e88477114fdc"
      },
      "source": [
        "# Last value would be comparison to itself, so we take the one before that\n",
        "most_similar_similarity_value = emoji_similarities_sorted[-2]  \n",
        "most_similar_similarity_value"
      ],
      "execution_count": 48,
      "outputs": [
        {
          "output_type": "execute_result",
          "data": {
            "text/plain": [
              "0.83398616"
            ]
          },
          "metadata": {
            "tags": []
          },
          "execution_count": 48
        }
      ]
    },
    {
      "cell_type": "code",
      "metadata": {
        "id": "p31b-SJVazzE",
        "colab_type": "code",
        "colab": {
          "base_uri": "https://localhost:8080/",
          "height": 35
        },
        "outputId": "f26e8115-8a23-4c5a-c9c9-7f5f0ab7c1df"
      },
      "source": [
        "indices = [i for i, value in enumerate(emoji_similarities) if value == most_similar_similarity_value]\n",
        "indices"
      ],
      "execution_count": 49,
      "outputs": [
        {
          "output_type": "execute_result",
          "data": {
            "text/plain": [
              "[101]"
            ]
          },
          "metadata": {
            "tags": []
          },
          "execution_count": 49
        }
      ]
    },
    {
      "cell_type": "code",
      "metadata": {
        "id": "hm4KiZLvbOmh",
        "colab_type": "code",
        "colab": {
          "base_uri": "https://localhost:8080/",
          "height": 36
        },
        "outputId": "d917e8e6-5bea-43cd-a9ee-51f50b9c0854"
      },
      "source": [
        "# Most Similar\n",
        "reverse_word_index.get(indices[0])"
      ],
      "execution_count": 50,
      "outputs": [
        {
          "output_type": "execute_result",
          "data": {
            "application/vnd.google.colaboratory.intrinsic+json": {
              "type": "string"
            },
            "text/plain": [
              "'🏻'"
            ]
          },
          "metadata": {
            "tags": []
          },
          "execution_count": 50
        }
      ]
    }
  ]
}