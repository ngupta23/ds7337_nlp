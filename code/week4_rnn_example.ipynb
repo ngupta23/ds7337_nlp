{
  "nbformat": 4,
  "nbformat_minor": 0,
  "metadata": {
    "kernelspec": {
      "display_name": "Python 3",
      "language": "python",
      "name": "python3"
    },
    "language_info": {
      "codemirror_mode": {
        "name": "ipython",
        "version": 3
      },
      "file_extension": ".py",
      "mimetype": "text/x-python",
      "name": "python",
      "nbconvert_exporter": "python",
      "pygments_lexer": "ipython3",
      "version": "3.6.8"
    },
    "colab": {
      "name": "week4_rnn_example.ipynb",
      "provenance": [],
      "include_colab_link": true
    },
    "accelerator": "GPU"
  },
  "cells": [
    {
      "cell_type": "markdown",
      "metadata": {
        "id": "view-in-github",
        "colab_type": "text"
      },
      "source": [
        "<a href=\"https://colab.research.google.com/github/ngupta23/ds7337_nlp/blob/master/code/week4_rnn_example.ipynb\" target=\"_parent\"><img src=\"https://colab.research.google.com/assets/colab-badge.svg\" alt=\"Open In Colab\"/></a>"
      ]
    },
    {
      "cell_type": "code",
      "metadata": {
        "id": "NhO_HZSh5Wrl",
        "colab_type": "code",
        "colab": {}
      },
      "source": [
        "from tensorflow.keras.datasets import imdb"
      ],
      "execution_count": 0,
      "outputs": []
    },
    {
      "cell_type": "code",
      "metadata": {
        "id": "Lll1EV8l5Wry",
        "colab_type": "code",
        "colab": {
          "base_uri": "https://localhost:8080/",
          "height": 72
        },
        "outputId": "34e65fad-c3d8-439d-ad63-7c2a4bd3eaea"
      },
      "source": [
        "vocabulary_size = 5000\n",
        "\n",
        "(X_train, y_train), (X_test, y_test) = imdb.load_data(num_words = vocabulary_size)\n",
        "print('Loaded dataset with {} training samples, {} test samples'.format(len(X_train), len(X_test)))"
      ],
      "execution_count": 2,
      "outputs": [
        {
          "output_type": "stream",
          "text": [
            "Downloading data from https://storage.googleapis.com/tensorflow/tf-keras-datasets/imdb.npz\n",
            "17465344/17464789 [==============================] - 2s 0us/step\n",
            "Loaded dataset with 25000 training samples, 25000 test samples\n"
          ],
          "name": "stdout"
        }
      ]
    },
    {
      "cell_type": "code",
      "metadata": {
        "id": "m1i9jAE55Wr_",
        "colab_type": "code",
        "colab": {
          "base_uri": "https://localhost:8080/",
          "height": 109
        },
        "outputId": "4d7d335c-782b-4649-f7ac-5ccd27e98035"
      },
      "source": [
        "print('---review---')\n",
        "print(len(X_train[5]))\n",
        "print(X_train[5])\n",
        "print('---label---')\n",
        "print(y_train[5])"
      ],
      "execution_count": 3,
      "outputs": [
        {
          "output_type": "stream",
          "text": [
            "---review---\n",
            "43\n",
            "[1, 778, 128, 74, 12, 630, 163, 15, 4, 1766, 2, 1051, 2, 32, 85, 156, 45, 40, 148, 139, 121, 664, 665, 10, 10, 1361, 173, 4, 749, 2, 16, 3804, 8, 4, 226, 65, 12, 43, 127, 24, 2, 10, 10]\n",
            "---label---\n",
            "0\n"
          ],
          "name": "stdout"
        }
      ]
    },
    {
      "cell_type": "code",
      "metadata": {
        "id": "BzBaRL9g5WsI",
        "colab_type": "code",
        "colab": {
          "base_uri": "https://localhost:8080/",
          "height": 35
        },
        "outputId": "1d23f010-62d3-4bef-986c-92f7b7202609"
      },
      "source": [
        "y_train[1]"
      ],
      "execution_count": 4,
      "outputs": [
        {
          "output_type": "execute_result",
          "data": {
            "text/plain": [
              "0"
            ]
          },
          "metadata": {
            "tags": []
          },
          "execution_count": 4
        }
      ]
    },
    {
      "cell_type": "code",
      "metadata": {
        "id": "5NjpVW2c5WsQ",
        "colab_type": "code",
        "colab": {
          "base_uri": "https://localhost:8080/",
          "height": 147
        },
        "outputId": "194b7878-831c-4a16-f928-4a5436c28a73"
      },
      "source": [
        "# A dictionary mapping words to an integer index\n",
        "word_index = imdb.get_word_index()\n",
        "\n",
        "# The first indices are reserved\n",
        "word_index = {k:(v+3) for k,v in word_index.items()}\n",
        "word_index[\"<PAD>\"] = 0\n",
        "word_index[\"<START>\"] = 1\n",
        "word_index[\"<UNK>\"] = 2  # unknown\n",
        "word_index[\"<UNUSED>\"] = 3\n",
        "\n",
        "reverse_word_index = dict([(value, key) for (key, value) in word_index.items()])\n",
        "\n",
        "def decode_review(text):\n",
        "    return ' '.join([reverse_word_index.get(i, '?') for i in text])\n",
        "\n",
        "print('---review with words---')\n",
        "print(decode_review(X_train[5]))\n",
        "print('---label---')\n",
        "print(y_train[5])"
      ],
      "execution_count": 5,
      "outputs": [
        {
          "output_type": "stream",
          "text": [
            "Downloading data from https://storage.googleapis.com/tensorflow/tf-keras-datasets/imdb_word_index.json\n",
            "1646592/1641221 [==============================] - 0s 0us/step\n",
            "---review with words---\n",
            "<START> begins better than it ends funny that the russian <UNK> crew <UNK> all other actors it's like those scenes where documentary shots br br spoiler part the message <UNK> was contrary to the whole story it just does not <UNK> br br\n",
            "---label---\n",
            "0\n"
          ],
          "name": "stdout"
        }
      ]
    },
    {
      "cell_type": "code",
      "metadata": {
        "id": "5BfEQ1uA5Wsg",
        "colab_type": "code",
        "colab": {
          "base_uri": "https://localhost:8080/",
          "height": 35
        },
        "outputId": "629b6c63-7319-44c1-f9f7-3d704db3dc7d"
      },
      "source": [
        "print('Maximum review length: {}'.format(\n",
        "len(max((X_train + X_test), key=len))))"
      ],
      "execution_count": 6,
      "outputs": [
        {
          "output_type": "stream",
          "text": [
            "Maximum review length: 2697\n"
          ],
          "name": "stdout"
        }
      ]
    },
    {
      "cell_type": "code",
      "metadata": {
        "id": "LvzFOhEA5Wso",
        "colab_type": "code",
        "colab": {
          "base_uri": "https://localhost:8080/",
          "height": 35
        },
        "outputId": "2b28e5ce-9831-46ee-a68c-b9f11bbabfc7"
      },
      "source": [
        "print('Minimum review length: {}'.format(\n",
        "len(min((X_test + X_test), key=len))))"
      ],
      "execution_count": 7,
      "outputs": [
        {
          "output_type": "stream",
          "text": [
            "Minimum review length: 14\n"
          ],
          "name": "stdout"
        }
      ]
    },
    {
      "cell_type": "code",
      "metadata": {
        "id": "1r00493N5Wsv",
        "colab_type": "code",
        "colab": {}
      },
      "source": [
        "l=[len(i) for i in X_train]"
      ],
      "execution_count": 0,
      "outputs": []
    },
    {
      "cell_type": "code",
      "metadata": {
        "id": "wbB1KS5U5Ws1",
        "colab_type": "code",
        "colab": {
          "base_uri": "https://localhost:8080/",
          "height": 871
        },
        "outputId": "120ebe1a-e421-4cd6-a60c-b221274d39f1"
      },
      "source": [
        "import matplotlib.pyplot as plt\n",
        "%matplotlib inline\n",
        "plt.hist(l,bins=100)\n"
      ],
      "execution_count": 9,
      "outputs": [
        {
          "output_type": "execute_result",
          "data": {
            "text/plain": [
              "(array([8.500e+01, 9.070e+02, 1.151e+03, 1.347e+03, 3.731e+03, 3.347e+03,\n",
              "        2.510e+03, 1.865e+03, 1.426e+03, 1.229e+03, 9.660e+02, 7.700e+02,\n",
              "        7.270e+02, 6.090e+02, 5.670e+02, 4.210e+02, 3.920e+02, 3.340e+02,\n",
              "        3.050e+02, 2.780e+02, 2.280e+02, 2.000e+02, 1.670e+02, 1.700e+02,\n",
              "        1.460e+02, 1.230e+02, 1.050e+02, 1.030e+02, 9.200e+01, 7.300e+01,\n",
              "        6.800e+01, 7.300e+01, 6.500e+01, 5.200e+01, 4.900e+01, 3.100e+01,\n",
              "        4.400e+01, 3.200e+01, 4.500e+01, 5.800e+01, 6.500e+01, 1.500e+01,\n",
              "        2.000e+00, 5.000e+00, 2.000e+00, 0.000e+00, 2.000e+00, 0.000e+00,\n",
              "        2.000e+00, 1.000e+00, 0.000e+00, 2.000e+00, 1.000e+00, 1.000e+00,\n",
              "        0.000e+00, 1.000e+00, 2.000e+00, 0.000e+00, 0.000e+00, 0.000e+00,\n",
              "        0.000e+00, 2.000e+00, 1.000e+00, 0.000e+00, 0.000e+00, 1.000e+00,\n",
              "        0.000e+00, 0.000e+00, 0.000e+00, 1.000e+00, 0.000e+00, 0.000e+00,\n",
              "        0.000e+00, 0.000e+00, 2.000e+00, 0.000e+00, 0.000e+00, 0.000e+00,\n",
              "        0.000e+00, 0.000e+00, 0.000e+00, 0.000e+00, 0.000e+00, 0.000e+00,\n",
              "        0.000e+00, 0.000e+00, 0.000e+00, 0.000e+00, 0.000e+00, 0.000e+00,\n",
              "        0.000e+00, 0.000e+00, 0.000e+00, 0.000e+00, 0.000e+00, 0.000e+00,\n",
              "        0.000e+00, 0.000e+00, 0.000e+00, 1.000e+00]),\n",
              " array([  11.  ,   35.83,   60.66,   85.49,  110.32,  135.15,  159.98,\n",
              "         184.81,  209.64,  234.47,  259.3 ,  284.13,  308.96,  333.79,\n",
              "         358.62,  383.45,  408.28,  433.11,  457.94,  482.77,  507.6 ,\n",
              "         532.43,  557.26,  582.09,  606.92,  631.75,  656.58,  681.41,\n",
              "         706.24,  731.07,  755.9 ,  780.73,  805.56,  830.39,  855.22,\n",
              "         880.05,  904.88,  929.71,  954.54,  979.37, 1004.2 , 1029.03,\n",
              "        1053.86, 1078.69, 1103.52, 1128.35, 1153.18, 1178.01, 1202.84,\n",
              "        1227.67, 1252.5 , 1277.33, 1302.16, 1326.99, 1351.82, 1376.65,\n",
              "        1401.48, 1426.31, 1451.14, 1475.97, 1500.8 , 1525.63, 1550.46,\n",
              "        1575.29, 1600.12, 1624.95, 1649.78, 1674.61, 1699.44, 1724.27,\n",
              "        1749.1 , 1773.93, 1798.76, 1823.59, 1848.42, 1873.25, 1898.08,\n",
              "        1922.91, 1947.74, 1972.57, 1997.4 , 2022.23, 2047.06, 2071.89,\n",
              "        2096.72, 2121.55, 2146.38, 2171.21, 2196.04, 2220.87, 2245.7 ,\n",
              "        2270.53, 2295.36, 2320.19, 2345.02, 2369.85, 2394.68, 2419.51,\n",
              "        2444.34, 2469.17, 2494.  ]),\n",
              " <a list of 100 Patch objects>)"
            ]
          },
          "metadata": {
            "tags": []
          },
          "execution_count": 9
        },
        {
          "output_type": "display_data",
          "data": {
            "image/png": "[encoded data removed]",
            "text/plain": [
              "<Figure size 432x288 with 1 Axes>"
            ]
          },
          "metadata": {
            "tags": [],
            "needs_background": "light"
          }
        }
      ]
    },
    {
      "cell_type": "code",
      "metadata": {
        "id": "h4NfJAL15Ws7",
        "colab_type": "code",
        "colab": {
          "base_uri": "https://localhost:8080/",
          "height": 35
        },
        "outputId": "31a3a5ec-aade-4701-fba8-51c2be0d89c8"
      },
      "source": [
        "import numpy as np\n",
        "np.quantile(l,0.92)"
      ],
      "execution_count": 10,
      "outputs": [
        {
          "output_type": "execute_result",
          "data": {
            "text/plain": [
              "512.0"
            ]
          },
          "metadata": {
            "tags": []
          },
          "execution_count": 10
        }
      ]
    },
    {
      "cell_type": "code",
      "metadata": {
        "id": "zSxU8kQg5WtE",
        "colab_type": "code",
        "colab": {}
      },
      "source": [
        "from tensorflow.keras.preprocessing import sequence\n",
        "\n",
        "max_words = 500\n",
        "X_train = sequence.pad_sequences(X_train, maxlen=max_words)\n",
        "X_test = sequence.pad_sequences(X_test, maxlen=max_words)"
      ],
      "execution_count": 0,
      "outputs": []
    },
    {
      "cell_type": "code",
      "metadata": {
        "id": "Ml5ph2tc5WtL",
        "colab_type": "code",
        "colab": {
          "base_uri": "https://localhost:8080/",
          "height": 862
        },
        "outputId": "ddb21bb0-58e1-4400-9b34-da6361ecab44"
      },
      "source": [
        "import numpy as np\n",
        "X_train[5]"
      ],
      "execution_count": 12,
      "outputs": [
        {
          "output_type": "execute_result",
          "data": {
            "text/plain": [
              "array([   0,    0,    0,    0,    0,    0,    0,    0,    0,    0,    0,\n",
              "          0,    0,    0,    0,    0,    0,    0,    0,    0,    0,    0,\n",
              "          0,    0,    0,    0,    0,    0,    0,    0,    0,    0,    0,\n",
              "          0,    0,    0,    0,    0,    0,    0,    0,    0,    0,    0,\n",
              "          0,    0,    0,    0,    0,    0,    0,    0,    0,    0,    0,\n",
              "          0,    0,    0,    0,    0,    0,    0,    0,    0,    0,    0,\n",
              "          0,    0,    0,    0,    0,    0,    0,    0,    0,    0,    0,\n",
              "          0,    0,    0,    0,    0,    0,    0,    0,    0,    0,    0,\n",
              "          0,    0,    0,    0,    0,    0,    0,    0,    0,    0,    0,\n",
              "          0,    0,    0,    0,    0,    0,    0,    0,    0,    0,    0,\n",
              "          0,    0,    0,    0,    0,    0,    0,    0,    0,    0,    0,\n",
              "          0,    0,    0,    0,    0,    0,    0,    0,    0,    0,    0,\n",
              "          0,    0,    0,    0,    0,    0,    0,    0,    0,    0,    0,\n",
              "          0,    0,    0,    0,    0,    0,    0,    0,    0,    0,    0,\n",
              "          0,    0,    0,    0,    0,    0,    0,    0,    0,    0,    0,\n",
              "          0,    0,    0,    0,    0,    0,    0,    0,    0,    0,    0,\n",
              "          0,    0,    0,    0,    0,    0,    0,    0,    0,    0,    0,\n",
              "          0,    0,    0,    0,    0,    0,    0,    0,    0,    0,    0,\n",
              "          0,    0,    0,    0,    0,    0,    0,    0,    0,    0,    0,\n",
              "          0,    0,    0,    0,    0,    0,    0,    0,    0,    0,    0,\n",
              "          0,    0,    0,    0,    0,    0,    0,    0,    0,    0,    0,\n",
              "          0,    0,    0,    0,    0,    0,    0,    0,    0,    0,    0,\n",
              "          0,    0,    0,    0,    0,    0,    0,    0,    0,    0,    0,\n",
              "          0,    0,    0,    0,    0,    0,    0,    0,    0,    0,    0,\n",
              "          0,    0,    0,    0,    0,    0,    0,    0,    0,    0,    0,\n",
              "          0,    0,    0,    0,    0,    0,    0,    0,    0,    0,    0,\n",
              "          0,    0,    0,    0,    0,    0,    0,    0,    0,    0,    0,\n",
              "          0,    0,    0,    0,    0,    0,    0,    0,    0,    0,    0,\n",
              "          0,    0,    0,    0,    0,    0,    0,    0,    0,    0,    0,\n",
              "          0,    0,    0,    0,    0,    0,    0,    0,    0,    0,    0,\n",
              "          0,    0,    0,    0,    0,    0,    0,    0,    0,    0,    0,\n",
              "          0,    0,    0,    0,    0,    0,    0,    0,    0,    0,    0,\n",
              "          0,    0,    0,    0,    0,    0,    0,    0,    0,    0,    0,\n",
              "          0,    0,    0,    0,    0,    0,    0,    0,    0,    0,    0,\n",
              "          0,    0,    0,    0,    0,    0,    0,    0,    0,    0,    0,\n",
              "          0,    0,    0,    0,    0,    0,    0,    0,    0,    0,    0,\n",
              "          0,    0,    0,    0,    0,    0,    0,    0,    0,    0,    0,\n",
              "          0,    0,    0,    0,    0,    0,    0,    0,    0,    0,    0,\n",
              "          0,    0,    0,    0,    0,    0,    0,    0,    0,    0,    0,\n",
              "          0,    0,    0,    0,    0,    0,    0,    0,    0,    0,    0,\n",
              "          0,    0,    0,    0,    0,    0,    0,    0,    0,    0,    0,\n",
              "          0,    0,    0,    0,    0,    0,    1,  778,  128,   74,   12,\n",
              "        630,  163,   15,    4, 1766,    2, 1051,    2,   32,   85,  156,\n",
              "         45,   40,  148,  139,  121,  664,  665,   10,   10, 1361,  173,\n",
              "          4,  749,    2,   16, 3804,    8,    4,  226,   65,   12,   43,\n",
              "        127,   24,    2,   10,   10], dtype=int32)"
            ]
          },
          "metadata": {
            "tags": []
          },
          "execution_count": 12
        }
      ]
    },
    {
      "cell_type": "code",
      "metadata": {
        "id": "N3AeQN4r5WtS",
        "colab_type": "code",
        "colab": {}
      },
      "source": [
        "from tensorflow.keras import Sequential\n",
        "from tensorflow.keras.layers import Embedding, Dense"
      ],
      "execution_count": 0,
      "outputs": []
    },
    {
      "cell_type": "code",
      "metadata": {
        "id": "pMDP2Rh65WtZ",
        "colab_type": "code",
        "colab": {
          "base_uri": "https://localhost:8080/",
          "height": 293
        },
        "outputId": "17cdc3f3-3e91-4492-d65e-6b24e33a7c63"
      },
      "source": [
        "from tensorflow.keras.layers import SimpleRNN as RNN\n",
        "embedding_vecor_length = 80\n",
        "model1 = Sequential()\n",
        "model1.add(Embedding(vocabulary_size, embedding_vecor_length, input_length=max_words))\n",
        "model1.add(RNN(100))\n",
        "model1.add(Dense(1, activation='sigmoid'))\n",
        "model1.compile(loss='binary_crossentropy', optimizer='adam', metrics=['accuracy'])\n",
        "print(model1.summary())\n"
      ],
      "execution_count": 14,
      "outputs": [
        {
          "output_type": "stream",
          "text": [
            "Model: \"sequential\"\n",
            "_________________________________________________________________\n",
            "Layer (type)                 Output Shape              Param #   \n",
            "=================================================================\n",
            "embedding (Embedding)        (None, 500, 80)           400000    \n",
            "_________________________________________________________________\n",
            "simple_rnn (SimpleRNN)       (None, 100)               18100     \n",
            "_________________________________________________________________\n",
            "dense (Dense)                (None, 1)                 101       \n",
            "=================================================================\n",
            "Total params: 418,201\n",
            "Trainable params: 418,201\n",
            "Non-trainable params: 0\n",
            "_________________________________________________________________\n",
            "None\n"
          ],
          "name": "stdout"
        }
      ]
    },
    {
      "cell_type": "code",
      "metadata": {
        "id": "JuxdDJni5Wtg",
        "colab_type": "code",
        "colab": {
          "base_uri": "https://localhost:8080/",
          "height": 384
        },
        "outputId": "e891c706-9608-44e0-e574-4cf3784fb153"
      },
      "source": [
        "history = model1.fit(X_train, y_train, validation_data=(X_test, y_test), epochs=10, batch_size=256)\n"
      ],
      "execution_count": 15,
      "outputs": [
        {
          "output_type": "stream",
          "text": [
            "Epoch 1/10\n",
            "98/98 [==============================] - 34s 347ms/step - loss: 0.6723 - accuracy: 0.5734 - val_loss: 0.5591 - val_accuracy: 0.7376\n",
            "Epoch 2/10\n",
            "98/98 [==============================] - 35s 355ms/step - loss: 0.4023 - accuracy: 0.8206 - val_loss: 0.4112 - val_accuracy: 0.8163\n",
            "Epoch 3/10\n",
            "98/98 [==============================] - 34s 343ms/step - loss: 0.2692 - accuracy: 0.8912 - val_loss: 0.3659 - val_accuracy: 0.8533\n",
            "Epoch 4/10\n",
            "98/98 [==============================] - 35s 356ms/step - loss: 0.1930 - accuracy: 0.9254 - val_loss: 0.6603 - val_accuracy: 0.6717\n",
            "Epoch 5/10\n",
            "98/98 [==============================] - 34s 350ms/step - loss: 0.1638 - accuracy: 0.9383 - val_loss: 0.4939 - val_accuracy: 0.8281\n",
            "Epoch 6/10\n",
            "98/98 [==============================] - 34s 351ms/step - loss: 0.0544 - accuracy: 0.9847 - val_loss: 0.5759 - val_accuracy: 0.8140\n",
            "Epoch 7/10\n",
            "98/98 [==============================] - 34s 352ms/step - loss: 0.0169 - accuracy: 0.9973 - val_loss: 0.6838 - val_accuracy: 0.8113\n",
            "Epoch 8/10\n",
            "98/98 [==============================] - 34s 349ms/step - loss: 0.0104 - accuracy: 0.9985 - val_loss: 0.7156 - val_accuracy: 0.8068\n",
            "Epoch 9/10\n",
            "98/98 [==============================] - 34s 347ms/step - loss: 0.0050 - accuracy: 0.9994 - val_loss: 0.7379 - val_accuracy: 0.8226\n",
            "Epoch 10/10\n",
            "98/98 [==============================] - 34s 352ms/step - loss: 0.0055 - accuracy: 0.9992 - val_loss: 0.8299 - val_accuracy: 0.7919\n"
          ],
          "name": "stdout"
        }
      ]
    },
    {
      "cell_type": "code",
      "metadata": {
        "id": "RBYypv1x5Wto",
        "colab_type": "code",
        "colab": {
          "base_uri": "https://localhost:8080/",
          "height": 35
        },
        "outputId": "7916fb0d-18f3-48fa-e6a7-46f939903f88"
      },
      "source": [
        "scores = model1.evaluate(X_test, y_test, verbose=0)\n",
        "print('Test accuracy:', scores[1])"
      ],
      "execution_count": 16,
      "outputs": [
        {
          "output_type": "stream",
          "text": [
            "Test accuracy: 0.791920006275177\n"
          ],
          "name": "stdout"
        }
      ]
    },
    {
      "cell_type": "code",
      "metadata": {
        "id": "hARyiJZg5Wtu",
        "colab_type": "code",
        "colab": {
          "base_uri": "https://localhost:8080/",
          "height": 752
        },
        "outputId": "3dd631fc-77cb-4878-e112-32d9f65dabe3"
      },
      "source": [
        "history.history"
      ],
      "execution_count": 17,
      "outputs": [
        {
          "output_type": "execute_result",
          "data": {
            "text/plain": [
              "{'accuracy': [0.5734000205993652,\n",
              "  0.8205999732017517,\n",
              "  0.8912400007247925,\n",
              "  0.9253600239753723,\n",
              "  0.9382799863815308,\n",
              "  0.98471999168396,\n",
              "  0.9973199963569641,\n",
              "  0.998520016670227,\n",
              "  0.9994000196456909,\n",
              "  0.9991599917411804],\n",
              " 'loss': [0.6722838282585144,\n",
              "  0.4022899568080902,\n",
              "  0.26918843388557434,\n",
              "  0.19302205741405487,\n",
              "  0.16384616494178772,\n",
              "  0.05435989424586296,\n",
              "  0.016929522156715393,\n",
              "  0.010360508225858212,\n",
              "  0.004990953486412764,\n",
              "  0.005540621466934681],\n",
              " 'val_accuracy': [0.737559974193573,\n",
              "  0.81632000207901,\n",
              "  0.8532800078392029,\n",
              "  0.671720027923584,\n",
              "  0.8281199932098389,\n",
              "  0.8140000104904175,\n",
              "  0.8113200068473816,\n",
              "  0.8067600131034851,\n",
              "  0.8226400017738342,\n",
              "  0.791920006275177],\n",
              " 'val_loss': [0.5590773224830627,\n",
              "  0.41116389632225037,\n",
              "  0.3658575415611267,\n",
              "  0.6602961421012878,\n",
              "  0.49388036131858826,\n",
              "  0.5759081840515137,\n",
              "  0.6838309168815613,\n",
              "  0.7156343460083008,\n",
              "  0.7379415035247803,\n",
              "  0.8299343585968018]}"
            ]
          },
          "metadata": {
            "tags": []
          },
          "execution_count": 17
        }
      ]
    },
    {
      "cell_type": "code",
      "metadata": {
        "id": "kW1_dqv45Wtz",
        "colab_type": "code",
        "colab": {
          "base_uri": "https://localhost:8080/",
          "height": 265
        },
        "outputId": "90db04c4-ea75-461c-ab68-a1d9105194e4"
      },
      "source": [
        "plt.plot(history.history['loss'])\n",
        "plt.plot(history.history['val_loss'])\n",
        "plt.show()"
      ],
      "execution_count": 18,
      "outputs": [
        {
          "output_type": "display_data",
          "data": {
            "image/png": "[encoded data removed]",
            "text/plain": [
              "<Figure size 432x288 with 1 Axes>"
            ]
          },
          "metadata": {
            "tags": [],
            "needs_background": "light"
          }
        }
      ]
    }
  ]
}