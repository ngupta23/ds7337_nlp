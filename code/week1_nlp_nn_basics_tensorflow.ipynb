{
  "nbformat": 4,
  "nbformat_minor": 0,
  "metadata": {
    "kernelspec": {
      "display_name": "Python 3.6.10 64-bit ('dl_nlp': conda)",
      "language": "python",
      "name": "python361064bitdlnlpconda289d61a8916e4086b0ec12c871e554fe"
    },
    "language_info": {
      "codemirror_mode": {
        "name": "ipython",
        "version": 3
      },
      "file_extension": ".py",
      "mimetype": "text/x-python",
      "name": "python",
      "nbconvert_exporter": "python",
      "pygments_lexer": "ipython3",
      "version": "3.6.10-final"
    },
    "colab": {
      "name": "week1_nlp.ipynb",
      "provenance": [],
      "include_colab_link": true
    },
    "accelerator": "GPU"
  },
  "cells": [
    {
      "cell_type": "markdown",
      "metadata": {
        "id": "view-in-github",
        "colab_type": "text"
      },
      "source": [
        "<a href=\"https://colab.research.google.com/github/ngupta23/ds7337_nlp/blob/master/code/week1_nlp.ipynb\" target=\"_parent\"><img src=\"https://colab.research.google.com/assets/colab-badge.svg\" alt=\"Open In Colab\"/></a>"
      ]
    },
    {
      "cell_type": "code",
      "metadata": {
        "id": "9uDaOXia69_J",
        "colab_type": "code",
        "colab": {
          "base_uri": "https://localhost:8080/",
          "height": 34
        },
        "outputId": "a1eee2a2-eeda-409e-b9ec-29d07be6207b"
      },
      "source": [
        "import tensorflow as tf\n",
        "from tensorflow.keras import layers \n",
        "from tensorflow.keras.regularizers import l2\n",
        "from sklearn import datasets\n",
        "import pandas as pd\n",
        "import numpy as np\n",
        "print(tf.__version__)"
      ],
      "execution_count": 1,
      "outputs": [
        {
          "output_type": "stream",
          "text": [
            "2.2.0-rc4\n"
          ],
          "name": "stdout"
        }
      ]
    },
    {
      "cell_type": "markdown",
      "metadata": {
        "id": "EYJocLMQ69_R",
        "colab_type": "text"
      },
      "source": [
        "## Load Data\n",
        "First get the data.  Sklearn presents the data in a dictionary.  \n",
        "\n",
        "The target is the price is thousands\n",
        "\n",
        "Note that X is a dataframe while y is an array!!"
      ]
    },
    {
      "cell_type": "code",
      "metadata": {
        "id": "uyJCi_kO69_T",
        "colab_type": "code",
        "colab": {}
      },
      "source": [
        "bos = datasets.load_boston()"
      ],
      "execution_count": 0,
      "outputs": []
    },
    {
      "cell_type": "code",
      "metadata": {
        "id": "IuSuKIMZ69_Z",
        "colab_type": "code",
        "colab": {
          "base_uri": "https://localhost:8080/",
          "height": 1000
        },
        "outputId": "9c761c6e-b0ae-444d-cb8f-83226090338b"
      },
      "source": [
        "bos"
      ],
      "execution_count": 3,
      "outputs": [
        {
          "output_type": "execute_result",
          "data": {
            "text/plain": [
              "{'DESCR': \".. _boston_dataset:\\n\\nBoston house prices dataset\\n---------------------------\\n\\n**Data Set Characteristics:**  \\n\\n    :Number of Instances: 506 \\n\\n    :Number of Attributes: 13 numeric/categorical predictive. Median Value (attribute 14) is usually the target.\\n\\n    :Attribute Information (in order):\\n        - CRIM     per capita crime rate by town\\n        - ZN       proportion of residential land zoned for lots over 25,000 sq.ft.\\n        - INDUS    proportion of non-retail business acres per town\\n        - CHAS     Charles River dummy variable (= 1 if tract bounds river; 0 otherwise)\\n        - NOX      nitric oxides concentration (parts per 10 million)\\n        - RM       average number of rooms per dwelling\\n        - AGE      proportion of owner-occupied units built prior to 1940\\n        - DIS      weighted distances to five Boston employment centres\\n        - RAD      index of accessibility to radial highways\\n        - TAX      full-value property-tax rate per $10,000\\n        - PTRATIO  pupil-teacher ratio by town\\n        - B        1000(Bk - 0.63)^2 where Bk is the proportion of blacks by town\\n        - LSTAT    % lower status of the population\\n        - MEDV     Median value of owner-occupied homes in $1000's\\n\\n    :Missing Attribute Values: None\\n\\n    :Creator: Harrison, D. and Rubinfeld, D.L.\\n\\nThis is a copy of UCI ML housing dataset.\\nhttps://archive.ics.uci.edu/ml/machine-learning-databases/housing/\\n\\n\\nThis dataset was taken from the StatLib library which is maintained at Carnegie Mellon University.\\n\\nThe Boston house-price data of Harrison, D. and Rubinfeld, D.L. 'Hedonic\\nprices and the demand for clean air', J. Environ. Economics & Management,\\nvol.5, 81-102, 1978.   Used in Belsley, Kuh & Welsch, 'Regression diagnostics\\n...', Wiley, 1980.   N.B. Various transformations are used in the table on\\npages 244-261 of the latter.\\n\\nThe Boston house-price data has been used in many machine learning papers that address regression\\nproblems.   \\n     \\n.. topic:: References\\n\\n   - Belsley, Kuh & Welsch, 'Regression diagnostics: Identifying Influential Data and Sources of Collinearity', Wiley, 1980. 244-261.\\n   - Quinlan,R. (1993). Combining Instance-Based and Model-Based Learning. In Proceedings on the Tenth International Conference of Machine Learning, 236-243, University of Massachusetts, Amherst. Morgan Kaufmann.\\n\",\n",
              " 'data': array([[6.3200e-03, 1.8000e+01, 2.3100e+00, ..., 1.5300e+01, 3.9690e+02,\n",
              "         4.9800e+00],\n",
              "        [2.7310e-02, 0.0000e+00, 7.0700e+00, ..., 1.7800e+01, 3.9690e+02,\n",
              "         9.1400e+00],\n",
              "        [2.7290e-02, 0.0000e+00, 7.0700e+00, ..., 1.7800e+01, 3.9283e+02,\n",
              "         4.0300e+00],\n",
              "        ...,\n",
              "        [6.0760e-02, 0.0000e+00, 1.1930e+01, ..., 2.1000e+01, 3.9690e+02,\n",
              "         5.6400e+00],\n",
              "        [1.0959e-01, 0.0000e+00, 1.1930e+01, ..., 2.1000e+01, 3.9345e+02,\n",
              "         6.4800e+00],\n",
              "        [4.7410e-02, 0.0000e+00, 1.1930e+01, ..., 2.1000e+01, 3.9690e+02,\n",
              "         7.8800e+00]]),\n",
              " 'feature_names': array(['CRIM', 'ZN', 'INDUS', 'CHAS', 'NOX', 'RM', 'AGE', 'DIS', 'RAD',\n",
              "        'TAX', 'PTRATIO', 'B', 'LSTAT'], dtype='<U7'),\n",
              " 'filename': '/usr/local/lib/python3.6/dist-packages/sklearn/datasets/data/boston_house_prices.csv',\n",
              " 'target': array([24. , 21.6, 34.7, 33.4, 36.2, 28.7, 22.9, 27.1, 16.5, 18.9, 15. ,\n",
              "        18.9, 21.7, 20.4, 18.2, 19.9, 23.1, 17.5, 20.2, 18.2, 13.6, 19.6,\n",
              "        15.2, 14.5, 15.6, 13.9, 16.6, 14.8, 18.4, 21. , 12.7, 14.5, 13.2,\n",
              "        13.1, 13.5, 18.9, 20. , 21. , 24.7, 30.8, 34.9, 26.6, 25.3, 24.7,\n",
              "        21.2, 19.3, 20. , 16.6, 14.4, 19.4, 19.7, 20.5, 25. , 23.4, 18.9,\n",
              "        35.4, 24.7, 31.6, 23.3, 19.6, 18.7, 16. , 22.2, 25. , 33. , 23.5,\n",
              "        19.4, 22. , 17.4, 20.9, 24.2, 21.7, 22.8, 23.4, 24.1, 21.4, 20. ,\n",
              "        20.8, 21.2, 20.3, 28. , 23.9, 24.8, 22.9, 23.9, 26.6, 22.5, 22.2,\n",
              "        23.6, 28.7, 22.6, 22. , 22.9, 25. , 20.6, 28.4, 21.4, 38.7, 43.8,\n",
              "        33.2, 27.5, 26.5, 18.6, 19.3, 20.1, 19.5, 19.5, 20.4, 19.8, 19.4,\n",
              "        21.7, 22.8, 18.8, 18.7, 18.5, 18.3, 21.2, 19.2, 20.4, 19.3, 22. ,\n",
              "        20.3, 20.5, 17.3, 18.8, 21.4, 15.7, 16.2, 18. , 14.3, 19.2, 19.6,\n",
              "        23. , 18.4, 15.6, 18.1, 17.4, 17.1, 13.3, 17.8, 14. , 14.4, 13.4,\n",
              "        15.6, 11.8, 13.8, 15.6, 14.6, 17.8, 15.4, 21.5, 19.6, 15.3, 19.4,\n",
              "        17. , 15.6, 13.1, 41.3, 24.3, 23.3, 27. , 50. , 50. , 50. , 22.7,\n",
              "        25. , 50. , 23.8, 23.8, 22.3, 17.4, 19.1, 23.1, 23.6, 22.6, 29.4,\n",
              "        23.2, 24.6, 29.9, 37.2, 39.8, 36.2, 37.9, 32.5, 26.4, 29.6, 50. ,\n",
              "        32. , 29.8, 34.9, 37. , 30.5, 36.4, 31.1, 29.1, 50. , 33.3, 30.3,\n",
              "        34.6, 34.9, 32.9, 24.1, 42.3, 48.5, 50. , 22.6, 24.4, 22.5, 24.4,\n",
              "        20. , 21.7, 19.3, 22.4, 28.1, 23.7, 25. , 23.3, 28.7, 21.5, 23. ,\n",
              "        26.7, 21.7, 27.5, 30.1, 44.8, 50. , 37.6, 31.6, 46.7, 31.5, 24.3,\n",
              "        31.7, 41.7, 48.3, 29. , 24. , 25.1, 31.5, 23.7, 23.3, 22. , 20.1,\n",
              "        22.2, 23.7, 17.6, 18.5, 24.3, 20.5, 24.5, 26.2, 24.4, 24.8, 29.6,\n",
              "        42.8, 21.9, 20.9, 44. , 50. , 36. , 30.1, 33.8, 43.1, 48.8, 31. ,\n",
              "        36.5, 22.8, 30.7, 50. , 43.5, 20.7, 21.1, 25.2, 24.4, 35.2, 32.4,\n",
              "        32. , 33.2, 33.1, 29.1, 35.1, 45.4, 35.4, 46. , 50. , 32.2, 22. ,\n",
              "        20.1, 23.2, 22.3, 24.8, 28.5, 37.3, 27.9, 23.9, 21.7, 28.6, 27.1,\n",
              "        20.3, 22.5, 29. , 24.8, 22. , 26.4, 33.1, 36.1, 28.4, 33.4, 28.2,\n",
              "        22.8, 20.3, 16.1, 22.1, 19.4, 21.6, 23.8, 16.2, 17.8, 19.8, 23.1,\n",
              "        21. , 23.8, 23.1, 20.4, 18.5, 25. , 24.6, 23. , 22.2, 19.3, 22.6,\n",
              "        19.8, 17.1, 19.4, 22.2, 20.7, 21.1, 19.5, 18.5, 20.6, 19. , 18.7,\n",
              "        32.7, 16.5, 23.9, 31.2, 17.5, 17.2, 23.1, 24.5, 26.6, 22.9, 24.1,\n",
              "        18.6, 30.1, 18.2, 20.6, 17.8, 21.7, 22.7, 22.6, 25. , 19.9, 20.8,\n",
              "        16.8, 21.9, 27.5, 21.9, 23.1, 50. , 50. , 50. , 50. , 50. , 13.8,\n",
              "        13.8, 15. , 13.9, 13.3, 13.1, 10.2, 10.4, 10.9, 11.3, 12.3,  8.8,\n",
              "         7.2, 10.5,  7.4, 10.2, 11.5, 15.1, 23.2,  9.7, 13.8, 12.7, 13.1,\n",
              "        12.5,  8.5,  5. ,  6.3,  5.6,  7.2, 12.1,  8.3,  8.5,  5. , 11.9,\n",
              "        27.9, 17.2, 27.5, 15. , 17.2, 17.9, 16.3,  7. ,  7.2,  7.5, 10.4,\n",
              "         8.8,  8.4, 16.7, 14.2, 20.8, 13.4, 11.7,  8.3, 10.2, 10.9, 11. ,\n",
              "         9.5, 14.5, 14.1, 16.1, 14.3, 11.7, 13.4,  9.6,  8.7,  8.4, 12.8,\n",
              "        10.5, 17.1, 18.4, 15.4, 10.8, 11.8, 14.9, 12.6, 14.1, 13. , 13.4,\n",
              "        15.2, 16.1, 17.8, 14.9, 14.1, 12.7, 13.5, 14.9, 20. , 16.4, 17.7,\n",
              "        19.5, 20.2, 21.4, 19.9, 19. , 19.1, 19.1, 20.1, 19.9, 19.6, 23.2,\n",
              "        29.8, 13.8, 13.3, 16.7, 12. , 14.6, 21.4, 23. , 23.7, 25. , 21.8,\n",
              "        20.6, 21.2, 19.1, 20.6, 15.2,  7. ,  8.1, 13.6, 20.1, 21.8, 24.5,\n",
              "        23.1, 19.7, 18.3, 21.2, 17.5, 16.8, 22.4, 20.6, 23.9, 22. , 11.9])}"
            ]
          },
          "metadata": {
            "tags": []
          },
          "execution_count": 3
        }
      ]
    },
    {
      "cell_type": "code",
      "metadata": {
        "id": "N_kOYWBm69_d",
        "colab_type": "code",
        "colab": {}
      },
      "source": [
        "x = pd.DataFrame(bos['data'])"
      ],
      "execution_count": 0,
      "outputs": []
    },
    {
      "cell_type": "code",
      "metadata": {
        "id": "ZOc7i4YO69_i",
        "colab_type": "code",
        "colab": {}
      },
      "source": [
        "x.columns=bos['feature_names']"
      ],
      "execution_count": 0,
      "outputs": []
    },
    {
      "cell_type": "code",
      "metadata": {
        "id": "z1LhkBO-69_o",
        "colab_type": "code",
        "colab": {
          "base_uri": "https://localhost:8080/",
          "height": 204
        },
        "outputId": "61957a65-6d81-42c4-d788-5911fe4a3622"
      },
      "source": [
        "x.head()"
      ],
      "execution_count": 6,
      "outputs": [
        {
          "output_type": "execute_result",
          "data": {
            "text/html": [
              "<div>\n",
              "<style scoped>\n",
              "    .dataframe tbody tr th:only-of-type {\n",
              "        vertical-align: middle;\n",
              "    }\n",
              "\n",
              "    .dataframe tbody tr th {\n",
              "        vertical-align: top;\n",
              "    }\n",
              "\n",
              "    .dataframe thead th {\n",
              "        text-align: right;\n",
              "    }\n",
              "</style>\n",
              "<table border=\"1\" class=\"dataframe\">\n",
              "  <thead>\n",
              "    <tr style=\"text-align: right;\">\n",
              "      <th></th>\n",
              "      <th>CRIM</th>\n",
              "      <th>ZN</th>\n",
              "      <th>INDUS</th>\n",
              "      <th>CHAS</th>\n",
              "      <th>NOX</th>\n",
              "      <th>RM</th>\n",
              "      <th>AGE</th>\n",
              "      <th>DIS</th>\n",
              "      <th>RAD</th>\n",
              "      <th>TAX</th>\n",
              "      <th>PTRATIO</th>\n",
              "      <th>B</th>\n",
              "      <th>LSTAT</th>\n",
              "    </tr>\n",
              "  </thead>\n",
              "  <tbody>\n",
              "    <tr>\n",
              "      <th>0</th>\n",
              "      <td>0.00632</td>\n",
              "      <td>18.0</td>\n",
              "      <td>2.31</td>\n",
              "      <td>0.0</td>\n",
              "      <td>0.538</td>\n",
              "      <td>6.575</td>\n",
              "      <td>65.2</td>\n",
              "      <td>4.0900</td>\n",
              "      <td>1.0</td>\n",
              "      <td>296.0</td>\n",
              "      <td>15.3</td>\n",
              "      <td>396.90</td>\n",
              "      <td>4.98</td>\n",
              "    </tr>\n",
              "    <tr>\n",
              "      <th>1</th>\n",
              "      <td>0.02731</td>\n",
              "      <td>0.0</td>\n",
              "      <td>7.07</td>\n",
              "      <td>0.0</td>\n",
              "      <td>0.469</td>\n",
              "      <td>6.421</td>\n",
              "      <td>78.9</td>\n",
              "      <td>4.9671</td>\n",
              "      <td>2.0</td>\n",
              "      <td>242.0</td>\n",
              "      <td>17.8</td>\n",
              "      <td>396.90</td>\n",
              "      <td>9.14</td>\n",
              "    </tr>\n",
              "    <tr>\n",
              "      <th>2</th>\n",
              "      <td>0.02729</td>\n",
              "      <td>0.0</td>\n",
              "      <td>7.07</td>\n",
              "      <td>0.0</td>\n",
              "      <td>0.469</td>\n",
              "      <td>7.185</td>\n",
              "      <td>61.1</td>\n",
              "      <td>4.9671</td>\n",
              "      <td>2.0</td>\n",
              "      <td>242.0</td>\n",
              "      <td>17.8</td>\n",
              "      <td>392.83</td>\n",
              "      <td>4.03</td>\n",
              "    </tr>\n",
              "    <tr>\n",
              "      <th>3</th>\n",
              "      <td>0.03237</td>\n",
              "      <td>0.0</td>\n",
              "      <td>2.18</td>\n",
              "      <td>0.0</td>\n",
              "      <td>0.458</td>\n",
              "      <td>6.998</td>\n",
              "      <td>45.8</td>\n",
              "      <td>6.0622</td>\n",
              "      <td>3.0</td>\n",
              "      <td>222.0</td>\n",
              "      <td>18.7</td>\n",
              "      <td>394.63</td>\n",
              "      <td>2.94</td>\n",
              "    </tr>\n",
              "    <tr>\n",
              "      <th>4</th>\n",
              "      <td>0.06905</td>\n",
              "      <td>0.0</td>\n",
              "      <td>2.18</td>\n",
              "      <td>0.0</td>\n",
              "      <td>0.458</td>\n",
              "      <td>7.147</td>\n",
              "      <td>54.2</td>\n",
              "      <td>6.0622</td>\n",
              "      <td>3.0</td>\n",
              "      <td>222.0</td>\n",
              "      <td>18.7</td>\n",
              "      <td>396.90</td>\n",
              "      <td>5.33</td>\n",
              "    </tr>\n",
              "  </tbody>\n",
              "</table>\n",
              "</div>"
            ],
            "text/plain": [
              "      CRIM    ZN  INDUS  CHAS    NOX  ...  RAD    TAX  PTRATIO       B  LSTAT\n",
              "0  0.00632  18.0   2.31   0.0  0.538  ...  1.0  296.0     15.3  396.90   4.98\n",
              "1  0.02731   0.0   7.07   0.0  0.469  ...  2.0  242.0     17.8  396.90   9.14\n",
              "2  0.02729   0.0   7.07   0.0  0.469  ...  2.0  242.0     17.8  392.83   4.03\n",
              "3  0.03237   0.0   2.18   0.0  0.458  ...  3.0  222.0     18.7  394.63   2.94\n",
              "4  0.06905   0.0   2.18   0.0  0.458  ...  3.0  222.0     18.7  396.90   5.33\n",
              "\n",
              "[5 rows x 13 columns]"
            ]
          },
          "metadata": {
            "tags": []
          },
          "execution_count": 6
        }
      ]
    },
    {
      "cell_type": "code",
      "metadata": {
        "id": "-Tr4e64r69_s",
        "colab_type": "code",
        "colab": {}
      },
      "source": [
        "y = bos['target']"
      ],
      "execution_count": 0,
      "outputs": []
    },
    {
      "cell_type": "code",
      "metadata": {
        "id": "cLNdqakY69_z",
        "colab_type": "code",
        "colab": {
          "base_uri": "https://localhost:8080/",
          "height": 799
        },
        "outputId": "2c131f6d-1031-468c-ce3c-4b881b215cd5"
      },
      "source": [
        "y"
      ],
      "execution_count": 8,
      "outputs": [
        {
          "output_type": "execute_result",
          "data": {
            "text/plain": [
              "array([24. , 21.6, 34.7, 33.4, 36.2, 28.7, 22.9, 27.1, 16.5, 18.9, 15. ,\n",
              "       18.9, 21.7, 20.4, 18.2, 19.9, 23.1, 17.5, 20.2, 18.2, 13.6, 19.6,\n",
              "       15.2, 14.5, 15.6, 13.9, 16.6, 14.8, 18.4, 21. , 12.7, 14.5, 13.2,\n",
              "       13.1, 13.5, 18.9, 20. , 21. , 24.7, 30.8, 34.9, 26.6, 25.3, 24.7,\n",
              "       21.2, 19.3, 20. , 16.6, 14.4, 19.4, 19.7, 20.5, 25. , 23.4, 18.9,\n",
              "       35.4, 24.7, 31.6, 23.3, 19.6, 18.7, 16. , 22.2, 25. , 33. , 23.5,\n",
              "       19.4, 22. , 17.4, 20.9, 24.2, 21.7, 22.8, 23.4, 24.1, 21.4, 20. ,\n",
              "       20.8, 21.2, 20.3, 28. , 23.9, 24.8, 22.9, 23.9, 26.6, 22.5, 22.2,\n",
              "       23.6, 28.7, 22.6, 22. , 22.9, 25. , 20.6, 28.4, 21.4, 38.7, 43.8,\n",
              "       33.2, 27.5, 26.5, 18.6, 19.3, 20.1, 19.5, 19.5, 20.4, 19.8, 19.4,\n",
              "       21.7, 22.8, 18.8, 18.7, 18.5, 18.3, 21.2, 19.2, 20.4, 19.3, 22. ,\n",
              "       20.3, 20.5, 17.3, 18.8, 21.4, 15.7, 16.2, 18. , 14.3, 19.2, 19.6,\n",
              "       23. , 18.4, 15.6, 18.1, 17.4, 17.1, 13.3, 17.8, 14. , 14.4, 13.4,\n",
              "       15.6, 11.8, 13.8, 15.6, 14.6, 17.8, 15.4, 21.5, 19.6, 15.3, 19.4,\n",
              "       17. , 15.6, 13.1, 41.3, 24.3, 23.3, 27. , 50. , 50. , 50. , 22.7,\n",
              "       25. , 50. , 23.8, 23.8, 22.3, 17.4, 19.1, 23.1, 23.6, 22.6, 29.4,\n",
              "       23.2, 24.6, 29.9, 37.2, 39.8, 36.2, 37.9, 32.5, 26.4, 29.6, 50. ,\n",
              "       32. , 29.8, 34.9, 37. , 30.5, 36.4, 31.1, 29.1, 50. , 33.3, 30.3,\n",
              "       34.6, 34.9, 32.9, 24.1, 42.3, 48.5, 50. , 22.6, 24.4, 22.5, 24.4,\n",
              "       20. , 21.7, 19.3, 22.4, 28.1, 23.7, 25. , 23.3, 28.7, 21.5, 23. ,\n",
              "       26.7, 21.7, 27.5, 30.1, 44.8, 50. , 37.6, 31.6, 46.7, 31.5, 24.3,\n",
              "       31.7, 41.7, 48.3, 29. , 24. , 25.1, 31.5, 23.7, 23.3, 22. , 20.1,\n",
              "       22.2, 23.7, 17.6, 18.5, 24.3, 20.5, 24.5, 26.2, 24.4, 24.8, 29.6,\n",
              "       42.8, 21.9, 20.9, 44. , 50. , 36. , 30.1, 33.8, 43.1, 48.8, 31. ,\n",
              "       36.5, 22.8, 30.7, 50. , 43.5, 20.7, 21.1, 25.2, 24.4, 35.2, 32.4,\n",
              "       32. , 33.2, 33.1, 29.1, 35.1, 45.4, 35.4, 46. , 50. , 32.2, 22. ,\n",
              "       20.1, 23.2, 22.3, 24.8, 28.5, 37.3, 27.9, 23.9, 21.7, 28.6, 27.1,\n",
              "       20.3, 22.5, 29. , 24.8, 22. , 26.4, 33.1, 36.1, 28.4, 33.4, 28.2,\n",
              "       22.8, 20.3, 16.1, 22.1, 19.4, 21.6, 23.8, 16.2, 17.8, 19.8, 23.1,\n",
              "       21. , 23.8, 23.1, 20.4, 18.5, 25. , 24.6, 23. , 22.2, 19.3, 22.6,\n",
              "       19.8, 17.1, 19.4, 22.2, 20.7, 21.1, 19.5, 18.5, 20.6, 19. , 18.7,\n",
              "       32.7, 16.5, 23.9, 31.2, 17.5, 17.2, 23.1, 24.5, 26.6, 22.9, 24.1,\n",
              "       18.6, 30.1, 18.2, 20.6, 17.8, 21.7, 22.7, 22.6, 25. , 19.9, 20.8,\n",
              "       16.8, 21.9, 27.5, 21.9, 23.1, 50. , 50. , 50. , 50. , 50. , 13.8,\n",
              "       13.8, 15. , 13.9, 13.3, 13.1, 10.2, 10.4, 10.9, 11.3, 12.3,  8.8,\n",
              "        7.2, 10.5,  7.4, 10.2, 11.5, 15.1, 23.2,  9.7, 13.8, 12.7, 13.1,\n",
              "       12.5,  8.5,  5. ,  6.3,  5.6,  7.2, 12.1,  8.3,  8.5,  5. , 11.9,\n",
              "       27.9, 17.2, 27.5, 15. , 17.2, 17.9, 16.3,  7. ,  7.2,  7.5, 10.4,\n",
              "        8.8,  8.4, 16.7, 14.2, 20.8, 13.4, 11.7,  8.3, 10.2, 10.9, 11. ,\n",
              "        9.5, 14.5, 14.1, 16.1, 14.3, 11.7, 13.4,  9.6,  8.7,  8.4, 12.8,\n",
              "       10.5, 17.1, 18.4, 15.4, 10.8, 11.8, 14.9, 12.6, 14.1, 13. , 13.4,\n",
              "       15.2, 16.1, 17.8, 14.9, 14.1, 12.7, 13.5, 14.9, 20. , 16.4, 17.7,\n",
              "       19.5, 20.2, 21.4, 19.9, 19. , 19.1, 19.1, 20.1, 19.9, 19.6, 23.2,\n",
              "       29.8, 13.8, 13.3, 16.7, 12. , 14.6, 21.4, 23. , 23.7, 25. , 21.8,\n",
              "       20.6, 21.2, 19.1, 20.6, 15.2,  7. ,  8.1, 13.6, 20.1, 21.8, 24.5,\n",
              "       23.1, 19.7, 18.3, 21.2, 17.5, 16.8, 22.4, 20.6, 23.9, 22. , 11.9])"
            ]
          },
          "metadata": {
            "tags": []
          },
          "execution_count": 8
        }
      ]
    },
    {
      "cell_type": "markdown",
      "metadata": {
        "id": "16vpHUuQ69_2",
        "colab_type": "text"
      },
      "source": [
        "## Scale Data\n",
        "\n",
        "Neural Networks are especially sensitive do data scaling.  Nearly all the activation functions saturate at (0,1) or (-1,1)"
      ]
    },
    {
      "cell_type": "code",
      "metadata": {
        "id": "AB7sdfMU69_3",
        "colab_type": "code",
        "colab": {
          "base_uri": "https://localhost:8080/",
          "height": 34
        },
        "outputId": "679f7c0f-4585-4d08-b147-31dbc72bb39d"
      },
      "source": [
        "from sklearn.preprocessing import MinMaxScaler\n",
        "\n",
        "scaler = MinMaxScaler(feature_range=(0, 1))\n",
        "scaled_train = scaler.fit_transform(x)\n",
        "\n",
        "# Print out the adjustment that the scaler applied to the total_earnings column of data\n",
        "print(\"Note: median values were scaled by multiplying by {:.10f} and adding {:.6f}\".format(scaler.scale_[12], scaler.min_[12]))\n",
        "multiplied_by = scaler.scale_[12]\n",
        "added = scaler.min_[12]\n",
        "\n",
        "scaled_train_df = pd.DataFrame(scaled_train, columns=x.columns.values)"
      ],
      "execution_count": 9,
      "outputs": [
        {
          "output_type": "stream",
          "text": [
            "Note: median values were scaled by multiplying by 0.0275938190 and adding -0.047737\n"
          ],
          "name": "stdout"
        }
      ]
    },
    {
      "cell_type": "code",
      "metadata": {
        "id": "_piJdsqL69_7",
        "colab_type": "code",
        "colab": {}
      },
      "source": [
        "import matplotlib.pyplot as plt\n",
        "%matplotlib inline"
      ],
      "execution_count": 0,
      "outputs": []
    },
    {
      "cell_type": "code",
      "metadata": {
        "scrolled": true,
        "id": "wQWkz-wQ69_-",
        "colab_type": "code",
        "colab": {
          "base_uri": "https://localhost:8080/",
          "height": 1000
        },
        "outputId": "cebed640-1602-4f57-9f66-a58eb1b848d5"
      },
      "source": [
        "for i in scaled_train_df:\n",
        "    scaled_train_df[i].hist()\n",
        "    plt.show()"
      ],
      "execution_count": 11,
      "outputs": [
        {
          "output_type": "display_data",
          "data": {
            "image/png": "[encoded data removed]",
            "text/plain": [
              "<Figure size 432x288 with 1 Axes>"
            ]
          },
          "metadata": {
            "tags": [],
            "needs_background": "light"
          }
        },
        {
          "output_type": "display_data",
          "data": {
            "image/png": "[encoded data removed]",
            "text/plain": [
              "<Figure size 432x288 with 1 Axes>"
            ]
          },
          "metadata": {
            "tags": [],
            "needs_background": "light"
          }
        },
        {
          "output_type": "display_data",
          "data": {
            "image/png": "[encoded data removed]",
            "text/plain": [
              "<Figure size 432x288 with 1 Axes>"
            ]
          },
          "metadata": {
            "tags": [],
            "needs_background": "light"
          }
        },
        {
          "output_type": "display_data",
          "data": {
            "image/png": "[encoded data removed]",
            "text/plain": [
              "<Figure size 432x288 with 1 Axes>"
            ]
          },
          "metadata": {
            "tags": [],
            "needs_background": "light"
          }
        },
        {
          "output_type": "display_data",
          "data": {
            "image/png": "[encoded data removed]",
            "text/plain": [
              "<Figure size 432x288 with 1 Axes>"
            ]
          },
          "metadata": {
            "tags": [],
            "needs_background": "light"
          }
        },
        {
          "output_type": "display_data",
          "data": {
            "image/png": "[encoded data removed]",
            "text/plain": [
              "<Figure size 432x288 with 1 Axes>"
            ]
          },
          "metadata": {
            "tags": [],
            "needs_background": "light"
          }
        },
        {
          "output_type": "display_data",
          "data": {
            "image/png": "[encoded data removed]",
            "text/plain": [
              "<Figure size 432x288 with 1 Axes>"
            ]
          },
          "metadata": {
            "tags": [],
            "needs_background": "light"
          }
        },
        {
          "output_type": "display_data",
          "data": {
            "image/png": "[encoded data removed]",
            "text/plain": [
              "<Figure size 432x288 with 1 Axes>"
            ]
          },
          "metadata": {
            "tags": [],
            "needs_background": "light"
          }
        },
        {
          "output_type": "display_data",
          "data": {
            "image/png": "[encoded data removed]",
            "text/plain": [
              "<Figure size 432x288 with 1 Axes>"
            ]
          },
          "metadata": {
            "tags": [],
            "needs_background": "light"
          }
        },
        {
          "output_type": "display_data",
          "data": {
            "image/png": "[encoded data removed]",
            "text/plain": [
              "<Figure size 432x288 with 1 Axes>"
            ]
          },
          "metadata": {
            "tags": [],
            "needs_background": "light"
          }
        },
        {
          "output_type": "display_data",
          "data": {
            "image/png": "[encoded data removed]",
            "text/plain": [
              "<Figure size 432x288 with 1 Axes>"
            ]
          },
          "metadata": {
            "tags": [],
            "needs_background": "light"
          }
        },
        {
          "output_type": "display_data",
          "data": {
            "image/png": "[encoded data removed]",
            "text/plain": [
              "<Figure size 432x288 with 1 Axes>"
            ]
          },
          "metadata": {
            "tags": [],
            "needs_background": "light"
          }
        },
        {
          "output_type": "display_data",
          "data": {
            "image/png": "[encoded data removed]",
            "text/plain": [
              "<Figure size 432x288 with 1 Axes>"
            ]
          },
          "metadata": {
            "tags": [],
            "needs_background": "light"
          }
        }
      ]
    },
    {
      "cell_type": "markdown",
      "metadata": {
        "id": "tokcBd4n6-AE",
        "colab_type": "text"
      },
      "source": [
        "## Model \n",
        "Alright lets get down to business.  We will use the Sequential() class to build a model.  This means we just add layer after layer to the model (in order).\n",
        "\n",
        "Note that this is NOT the keras package proper.  This is an implementation of the Keras API in tensorflow.  THey are closely related, but this IS Tensorflow (package), not Keras (package)"
      ]
    },
    {
      "cell_type": "code",
      "metadata": {
        "id": "BIgFuKeO6-AE",
        "colab_type": "code",
        "colab": {
          "base_uri": "https://localhost:8080/",
          "height": 34
        },
        "outputId": "8a585383-a5a4-4cef-9e94-3f695223f5f8"
      },
      "source": [
        "x.shape"
      ],
      "execution_count": 12,
      "outputs": [
        {
          "output_type": "execute_result",
          "data": {
            "text/plain": [
              "(506, 13)"
            ]
          },
          "metadata": {
            "tags": []
          },
          "execution_count": 12
        }
      ]
    },
    {
      "cell_type": "code",
      "metadata": {
        "id": "NgmepoiS6-AI",
        "colab_type": "code",
        "colab": {}
      },
      "source": [
        "model = tf.keras.Sequential()\n",
        "model.add(layers.Dense(100, activation='sigmoid'))\n",
        "model.add(layers.Dense(1))"
      ],
      "execution_count": 0,
      "outputs": []
    },
    {
      "cell_type": "markdown",
      "metadata": {
        "id": "9s5pQzIK6-AL",
        "colab_type": "text"
      },
      "source": [
        "## Compile Model\n",
        "\n",
        "The compile step adds an optimizer (solver) and your loss metrics."
      ]
    },
    {
      "cell_type": "code",
      "metadata": {
        "id": "6Rteq_-86-AM",
        "colab_type": "code",
        "colab": {}
      },
      "source": [
        "model.compile(optimizer='sgd',\n",
        "              loss='mean_squared_error',\n",
        "              metrics=['mean_squared_error'])"
      ],
      "execution_count": 0,
      "outputs": []
    },
    {
      "cell_type": "markdown",
      "metadata": {
        "id": "BasbNOVP6-AP",
        "colab_type": "text"
      },
      "source": [
        "## Fit model\n",
        "Now it is time to train"
      ]
    },
    {
      "cell_type": "code",
      "metadata": {
        "id": "TMtnArY96-AP",
        "colab_type": "code",
        "colab": {
          "base_uri": "https://localhost:8080/",
          "height": 85
        },
        "outputId": "f1225b5b-b0e3-42b6-baac-7e1ddfd3153d"
      },
      "source": [
        "tf.test.is_gpu_available(cuda_only=False, min_cuda_compute_capability=None)"
      ],
      "execution_count": 15,
      "outputs": [
        {
          "output_type": "stream",
          "text": [
            "WARNING:tensorflow:From <ipython-input-15-78f884b5c1a9>:1: is_gpu_available (from tensorflow.python.framework.test_util) is deprecated and will be removed in a future version.\n",
            "Instructions for updating:\n",
            "Use `tf.config.list_physical_devices('GPU')` instead.\n"
          ],
          "name": "stdout"
        },
        {
          "output_type": "execute_result",
          "data": {
            "text/plain": [
              "True"
            ]
          },
          "metadata": {
            "tags": []
          },
          "execution_count": 15
        }
      ]
    },
    {
      "cell_type": "code",
      "metadata": {
        "id": "ekH_F-3Y6-AT",
        "colab_type": "code",
        "colab": {
          "base_uri": "https://localhost:8080/",
          "height": 374
        },
        "outputId": "6484a851-6c6e-4921-afde-37a809e16201"
      },
      "source": [
        "model.fit(scaled_train_df.values, y, epochs=10, batch_size=32)"
      ],
      "execution_count": 16,
      "outputs": [
        {
          "output_type": "stream",
          "text": [
            "Epoch 1/10\n",
            "16/16 [==============================] - 0s 6ms/step - loss: 130.3889 - mean_squared_error: 130.3889\n",
            "Epoch 2/10\n",
            "16/16 [==============================] - 0s 2ms/step - loss: 74.9332 - mean_squared_error: 74.9332\n",
            "Epoch 3/10\n",
            "16/16 [==============================] - 0s 2ms/step - loss: 67.2922 - mean_squared_error: 67.2922\n",
            "Epoch 4/10\n",
            "16/16 [==============================] - 0s 2ms/step - loss: 62.5452 - mean_squared_error: 62.5452\n",
            "Epoch 5/10\n",
            "16/16 [==============================] - 0s 2ms/step - loss: 59.0551 - mean_squared_error: 59.0551\n",
            "Epoch 6/10\n",
            "16/16 [==============================] - 0s 2ms/step - loss: 55.4928 - mean_squared_error: 55.4928\n",
            "Epoch 7/10\n",
            "16/16 [==============================] - 0s 2ms/step - loss: 52.4184 - mean_squared_error: 52.4184\n",
            "Epoch 8/10\n",
            "16/16 [==============================] - 0s 2ms/step - loss: 50.3054 - mean_squared_error: 50.3054\n",
            "Epoch 9/10\n",
            "16/16 [==============================] - 0s 2ms/step - loss: 48.1511 - mean_squared_error: 48.1511\n",
            "Epoch 10/10\n",
            "16/16 [==============================] - 0s 2ms/step - loss: 47.1330 - mean_squared_error: 47.1330\n"
          ],
          "name": "stdout"
        },
        {
          "output_type": "execute_result",
          "data": {
            "text/plain": [
              "<tensorflow.python.keras.callbacks.History at 0x7fe3b0281550>"
            ]
          },
          "metadata": {
            "tags": []
          },
          "execution_count": 16
        }
      ]
    },
    {
      "cell_type": "markdown",
      "metadata": {
        "id": "VRDt1ygU6-AY",
        "colab_type": "text"
      },
      "source": [
        "## Visualize that data\n",
        "Tensorboard allows you to look at your training curves in real time.  All we need to do here is add a \"callback\" that is executed every epoch end.  Tensorboard writes a summary of the model output.  If you manually build a neural network, you need to add tf.summary operations.\n",
        "\n",
        "To run tensorboard type\n",
        "\n",
        "`tensorboard --logdir logs`\n",
        "\n",
        "Then go to localhost:6006 in your web browser"
      ]
    },
    {
      "cell_type": "code",
      "metadata": {
        "id": "gnCd50g16-AZ",
        "colab_type": "code",
        "colab": {}
      },
      "source": [
        "from time import time\n",
        "from tensorflow.keras.callbacks import TensorBoard, EarlyStopping\n",
        "tb = TensorBoard(log_dir=f\"logs\\\\{time()}\")\n",
        "es = EarlyStopping(min_delta=0,patience=10)"
      ],
      "execution_count": 0,
      "outputs": []
    },
    {
      "cell_type": "code",
      "metadata": {
        "id": "vXGeLN5v6-Ac",
        "colab_type": "code",
        "colab": {}
      },
      "source": [
        "model.compile(optimizer='sgd',\n",
        "              loss='mean_squared_error',\n",
        "              metrics=['mean_squared_error'])"
      ],
      "execution_count": 0,
      "outputs": []
    },
    {
      "cell_type": "code",
      "metadata": {
        "scrolled": true,
        "id": "sksKa9oi6-Af",
        "colab_type": "code",
        "colab": {
          "base_uri": "https://localhost:8080/",
          "height": 1000
        },
        "outputId": "b9e01650-1f13-4d57-e85a-d06b23800de2"
      },
      "source": [
        "model.fit(scaled_train_df.values, y, epochs=20, batch_size=4, callbacks=[tb, es])"
      ],
      "execution_count": 20,
      "outputs": [
        {
          "output_type": "stream",
          "text": [
            "Epoch 1/20\n",
            "119/127 [===========================>..] - ETA: 0s - loss: 22.9417 - mean_squared_error: 22.9417WARNING:tensorflow:Early stopping conditioned on metric `val_loss` which is not available. Available metrics are: loss,mean_squared_error\n",
            "127/127 [==============================] - 0s 3ms/step - loss: 22.6977 - mean_squared_error: 22.6977\n",
            "Epoch 2/20\n",
            "122/127 [===========================>..] - ETA: 0s - loss: 22.7978 - mean_squared_error: 22.7978WARNING:tensorflow:Early stopping conditioned on metric `val_loss` which is not available. Available metrics are: loss,mean_squared_error\n",
            "127/127 [==============================] - 0s 3ms/step - loss: 22.6290 - mean_squared_error: 22.6290\n",
            "Epoch 3/20\n",
            "124/127 [============================>.] - ETA: 0s - loss: 21.5949 - mean_squared_error: 21.5949WARNING:tensorflow:Early stopping conditioned on metric `val_loss` which is not available. Available metrics are: loss,mean_squared_error\n",
            "127/127 [==============================] - 0s 2ms/step - loss: 21.4042 - mean_squared_error: 21.4042\n",
            "Epoch 4/20\n",
            "107/127 [========================>.....] - ETA: 0s - loss: 20.0547 - mean_squared_error: 20.0547WARNING:tensorflow:Early stopping conditioned on metric `val_loss` which is not available. Available metrics are: loss,mean_squared_error\n",
            "127/127 [==============================] - 0s 2ms/step - loss: 20.6604 - mean_squared_error: 20.6604\n",
            "Epoch 5/20\n",
            "123/127 [============================>.] - ETA: 0s - loss: 21.7026 - mean_squared_error: 21.7026WARNING:tensorflow:Early stopping conditioned on metric `val_loss` which is not available. Available metrics are: loss,mean_squared_error\n",
            "127/127 [==============================] - 0s 3ms/step - loss: 21.6169 - mean_squared_error: 21.6169\n",
            "Epoch 6/20\n",
            "127/127 [==============================] - ETA: 0s - loss: 19.7983 - mean_squared_error: 19.7983WARNING:tensorflow:Early stopping conditioned on metric `val_loss` which is not available. Available metrics are: loss,mean_squared_error\n",
            "127/127 [==============================] - 0s 2ms/step - loss: 19.7983 - mean_squared_error: 19.7983\n",
            "Epoch 7/20\n",
            "107/127 [========================>.....] - ETA: 0s - loss: 20.1748 - mean_squared_error: 20.1748WARNING:tensorflow:Early stopping conditioned on metric `val_loss` which is not available. Available metrics are: loss,mean_squared_error\n",
            "127/127 [==============================] - 0s 2ms/step - loss: 20.6967 - mean_squared_error: 20.6967\n",
            "Epoch 8/20\n",
            "120/127 [===========================>..] - ETA: 0s - loss: 21.0463 - mean_squared_error: 21.0463WARNING:tensorflow:Early stopping conditioned on metric `val_loss` which is not available. Available metrics are: loss,mean_squared_error\n",
            "127/127 [==============================] - 0s 3ms/step - loss: 20.5342 - mean_squared_error: 20.5342\n",
            "Epoch 9/20\n",
            "108/127 [========================>.....] - ETA: 0s - loss: 20.5840 - mean_squared_error: 20.5840WARNING:tensorflow:Early stopping conditioned on metric `val_loss` which is not available. Available metrics are: loss,mean_squared_error\n",
            "127/127 [==============================] - 0s 2ms/step - loss: 20.6684 - mean_squared_error: 20.6684\n",
            "Epoch 10/20\n",
            "121/127 [===========================>..] - ETA: 0s - loss: 19.8899 - mean_squared_error: 19.8899WARNING:tensorflow:Early stopping conditioned on metric `val_loss` which is not available. Available metrics are: loss,mean_squared_error\n",
            "127/127 [==============================] - 0s 3ms/step - loss: 19.5912 - mean_squared_error: 19.5912\n",
            "Epoch 11/20\n",
            "122/127 [===========================>..] - ETA: 0s - loss: 20.3228 - mean_squared_error: 20.3228WARNING:tensorflow:Early stopping conditioned on metric `val_loss` which is not available. Available metrics are: loss,mean_squared_error\n",
            "127/127 [==============================] - 0s 3ms/step - loss: 19.9798 - mean_squared_error: 19.9798\n",
            "Epoch 12/20\n",
            "109/127 [========================>.....] - ETA: 0s - loss: 19.7741 - mean_squared_error: 19.7741WARNING:tensorflow:Early stopping conditioned on metric `val_loss` which is not available. Available metrics are: loss,mean_squared_error\n",
            "127/127 [==============================] - 0s 2ms/step - loss: 19.4576 - mean_squared_error: 19.4576\n",
            "Epoch 13/20\n",
            "124/127 [============================>.] - ETA: 0s - loss: 20.3885 - mean_squared_error: 20.3885WARNING:tensorflow:Early stopping conditioned on metric `val_loss` which is not available. Available metrics are: loss,mean_squared_error\n",
            "127/127 [==============================] - 0s 3ms/step - loss: 20.0694 - mean_squared_error: 20.0694\n",
            "Epoch 14/20\n",
            "122/127 [===========================>..] - ETA: 0s - loss: 19.4087 - mean_squared_error: 19.4087WARNING:tensorflow:Early stopping conditioned on metric `val_loss` which is not available. Available metrics are: loss,mean_squared_error\n",
            "127/127 [==============================] - 0s 3ms/step - loss: 19.1345 - mean_squared_error: 19.1345\n",
            "Epoch 15/20\n",
            "109/127 [========================>.....] - ETA: 0s - loss: 19.6273 - mean_squared_error: 19.6273WARNING:tensorflow:Early stopping conditioned on metric `val_loss` which is not available. Available metrics are: loss,mean_squared_error\n",
            "127/127 [==============================] - 0s 2ms/step - loss: 18.6147 - mean_squared_error: 18.6147\n",
            "Epoch 16/20\n",
            "124/127 [============================>.] - ETA: 0s - loss: 18.4635 - mean_squared_error: 18.4635WARNING:tensorflow:Early stopping conditioned on metric `val_loss` which is not available. Available metrics are: loss,mean_squared_error\n",
            "127/127 [==============================] - 0s 3ms/step - loss: 18.3238 - mean_squared_error: 18.3238\n",
            "Epoch 17/20\n",
            "124/127 [============================>.] - ETA: 0s - loss: 18.6721 - mean_squared_error: 18.6721WARNING:tensorflow:Early stopping conditioned on metric `val_loss` which is not available. Available metrics are: loss,mean_squared_error\n",
            "127/127 [==============================] - 0s 3ms/step - loss: 18.4619 - mean_squared_error: 18.4619\n",
            "Epoch 18/20\n",
            "115/127 [==========================>...] - ETA: 0s - loss: 18.4684 - mean_squared_error: 18.4684WARNING:tensorflow:Early stopping conditioned on metric `val_loss` which is not available. Available metrics are: loss,mean_squared_error\n",
            "127/127 [==============================] - 0s 3ms/step - loss: 18.0929 - mean_squared_error: 18.0929\n",
            "Epoch 19/20\n",
            "123/127 [============================>.] - ETA: 0s - loss: 18.6214 - mean_squared_error: 18.6214WARNING:tensorflow:Early stopping conditioned on metric `val_loss` which is not available. Available metrics are: loss,mean_squared_error\n",
            "127/127 [==============================] - 0s 3ms/step - loss: 18.5917 - mean_squared_error: 18.5917\n",
            "Epoch 20/20\n",
            "107/127 [========================>.....] - ETA: 0s - loss: 20.6107 - mean_squared_error: 20.6107WARNING:tensorflow:Early stopping conditioned on metric `val_loss` which is not available. Available metrics are: loss,mean_squared_error\n",
            "127/127 [==============================] - 0s 2ms/step - loss: 18.6376 - mean_squared_error: 18.6376\n"
          ],
          "name": "stdout"
        },
        {
          "output_type": "execute_result",
          "data": {
            "text/plain": [
              "<tensorflow.python.keras.callbacks.History at 0x7fe3b00858d0>"
            ]
          },
          "metadata": {
            "tags": []
          },
          "execution_count": 20
        }
      ]
    },
    {
      "cell_type": "markdown",
      "metadata": {
        "id": "-TSqIshU6-Aj",
        "colab_type": "text"
      },
      "source": [
        "## Validate!!\n",
        "SO far we have used the entire dataset to train.  We know that Prof Slater frowns upon this.  In Neural Networks, ratter than a cross validation, a validation split is done.  Lets repeat the experiment with splits\n"
      ]
    },
    {
      "cell_type": "code",
      "metadata": {
        "id": "zfFHwZL66-Ak",
        "colab_type": "code",
        "colab": {}
      },
      "source": [
        "from sklearn.model_selection import train_test_split\n",
        "x_train, x_test, y_train, y_test = train_test_split(scaled_train_df, y, test_size=0.20, random_state=1776)"
      ],
      "execution_count": 0,
      "outputs": []
    },
    {
      "cell_type": "code",
      "metadata": {
        "id": "rXIGakg67_bn",
        "colab_type": "code",
        "colab": {
          "base_uri": "https://localhost:8080/",
          "height": 34
        },
        "outputId": "fa757eaa-8a5e-4bf8-d448-3b83257f4f0e"
      },
      "source": [
        "print(type(x_train), type(y_train))"
      ],
      "execution_count": 26,
      "outputs": [
        {
          "output_type": "stream",
          "text": [
            "<class 'pandas.core.frame.DataFrame'> <class 'numpy.ndarray'>\n"
          ],
          "name": "stdout"
        }
      ]
    },
    {
      "cell_type": "code",
      "metadata": {
        "id": "H06rd3LF6-An",
        "colab_type": "code",
        "colab": {}
      },
      "source": [
        "model_final = tf.keras.Sequential()\n",
        "# Adds a densely-connected layer with 64 units to the model:\n",
        "model_final.add(layers.Dense(100, activation='sigmoid'))\n",
        "model_final.add(layers.Dense(100, activation='sigmoid'))\n",
        "model_final.add(layers.Dense(1))"
      ],
      "execution_count": 0,
      "outputs": []
    },
    {
      "cell_type": "code",
      "metadata": {
        "id": "Q4mGn76s6-Aq",
        "colab_type": "code",
        "colab": {}
      },
      "source": [
        "model_final.compile(optimizer=tf.optimizers.SGD(0.001),\n",
        "                    loss='mean_squared_error',\n",
        "                    metrics=['mean_squared_error'])"
      ],
      "execution_count": 0,
      "outputs": []
    },
    {
      "cell_type": "code",
      "metadata": {
        "id": "NK0I2Ap_6-Aw",
        "colab_type": "code",
        "colab": {
          "base_uri": "https://localhost:8080/",
          "height": 1000
        },
        "outputId": "f4d1bba2-d92a-4899-ec13-cdbefade7398"
      },
      "source": [
        "out = model_final.fit(x_train.values, y_train, validation_data=(x_test.values,y_test), epochs=1000, batch_size=10,callbacks=[tb,es])"
      ],
      "execution_count": 28,
      "outputs": [
        {
          "output_type": "stream",
          "text": [
            "Epoch 1/1000\n",
            "41/41 [==============================] - 0s 10ms/step - loss: 169.3151 - mean_squared_error: 169.3151 - val_loss: 87.9540 - val_mean_squared_error: 87.9540\n",
            "Epoch 2/1000\n",
            "41/41 [==============================] - 0s 3ms/step - loss: 84.1466 - mean_squared_error: 84.1466 - val_loss: 87.7389 - val_mean_squared_error: 87.7389\n",
            "Epoch 3/1000\n",
            "41/41 [==============================] - 0s 4ms/step - loss: 83.8171 - mean_squared_error: 83.8171 - val_loss: 87.8447 - val_mean_squared_error: 87.8447\n",
            "Epoch 4/1000\n",
            "41/41 [==============================] - 0s 4ms/step - loss: 83.8822 - mean_squared_error: 83.8822 - val_loss: 86.6929 - val_mean_squared_error: 86.6929\n",
            "Epoch 5/1000\n",
            "41/41 [==============================] - 0s 4ms/step - loss: 83.4028 - mean_squared_error: 83.4028 - val_loss: 87.8359 - val_mean_squared_error: 87.8359\n",
            "Epoch 6/1000\n",
            "41/41 [==============================] - 0s 4ms/step - loss: 82.9259 - mean_squared_error: 82.9259 - val_loss: 88.7577 - val_mean_squared_error: 88.7577\n",
            "Epoch 7/1000\n",
            "41/41 [==============================] - 0s 4ms/step - loss: 82.3509 - mean_squared_error: 82.3509 - val_loss: 87.1754 - val_mean_squared_error: 87.1754\n",
            "Epoch 8/1000\n",
            "41/41 [==============================] - 0s 4ms/step - loss: 82.2625 - mean_squared_error: 82.2625 - val_loss: 86.6770 - val_mean_squared_error: 86.6770\n",
            "Epoch 9/1000\n",
            "41/41 [==============================] - 0s 4ms/step - loss: 81.8149 - mean_squared_error: 81.8149 - val_loss: 85.4475 - val_mean_squared_error: 85.4475\n",
            "Epoch 10/1000\n",
            "41/41 [==============================] - 0s 4ms/step - loss: 81.1131 - mean_squared_error: 81.1131 - val_loss: 90.2461 - val_mean_squared_error: 90.2461\n",
            "Epoch 11/1000\n",
            "41/41 [==============================] - 0s 4ms/step - loss: 81.1653 - mean_squared_error: 81.1653 - val_loss: 87.1200 - val_mean_squared_error: 87.1200\n",
            "Epoch 12/1000\n",
            "41/41 [==============================] - 0s 3ms/step - loss: 80.4966 - mean_squared_error: 80.4966 - val_loss: 89.1953 - val_mean_squared_error: 89.1953\n",
            "Epoch 13/1000\n",
            "41/41 [==============================] - 0s 4ms/step - loss: 79.6313 - mean_squared_error: 79.6313 - val_loss: 84.3481 - val_mean_squared_error: 84.3481\n",
            "Epoch 14/1000\n",
            "41/41 [==============================] - 0s 3ms/step - loss: 79.8978 - mean_squared_error: 79.8978 - val_loss: 83.8284 - val_mean_squared_error: 83.8284\n",
            "Epoch 15/1000\n",
            "41/41 [==============================] - 0s 4ms/step - loss: 79.1361 - mean_squared_error: 79.1361 - val_loss: 83.0287 - val_mean_squared_error: 83.0287\n",
            "Epoch 16/1000\n",
            "41/41 [==============================] - 0s 3ms/step - loss: 78.2016 - mean_squared_error: 78.2016 - val_loss: 83.8786 - val_mean_squared_error: 83.8786\n",
            "Epoch 17/1000\n",
            "41/41 [==============================] - 0s 4ms/step - loss: 77.3196 - mean_squared_error: 77.3196 - val_loss: 82.0971 - val_mean_squared_error: 82.0971\n",
            "Epoch 18/1000\n",
            "41/41 [==============================] - 0s 4ms/step - loss: 76.5994 - mean_squared_error: 76.5994 - val_loss: 83.1358 - val_mean_squared_error: 83.1358\n",
            "Epoch 19/1000\n",
            "41/41 [==============================] - 0s 3ms/step - loss: 76.0554 - mean_squared_error: 76.0554 - val_loss: 84.7743 - val_mean_squared_error: 84.7743\n",
            "Epoch 20/1000\n",
            "41/41 [==============================] - 0s 4ms/step - loss: 75.0459 - mean_squared_error: 75.0459 - val_loss: 81.4663 - val_mean_squared_error: 81.4663\n",
            "Epoch 21/1000\n",
            "41/41 [==============================] - 0s 3ms/step - loss: 73.3692 - mean_squared_error: 73.3692 - val_loss: 83.1134 - val_mean_squared_error: 83.1134\n",
            "Epoch 22/1000\n",
            "41/41 [==============================] - 0s 4ms/step - loss: 72.3161 - mean_squared_error: 72.3161 - val_loss: 78.8142 - val_mean_squared_error: 78.8142\n",
            "Epoch 23/1000\n",
            "41/41 [==============================] - 0s 4ms/step - loss: 71.0324 - mean_squared_error: 71.0324 - val_loss: 78.5288 - val_mean_squared_error: 78.5288\n",
            "Epoch 24/1000\n",
            "41/41 [==============================] - 0s 3ms/step - loss: 69.4977 - mean_squared_error: 69.4977 - val_loss: 79.2514 - val_mean_squared_error: 79.2514\n",
            "Epoch 25/1000\n",
            "41/41 [==============================] - 0s 4ms/step - loss: 67.6996 - mean_squared_error: 67.6996 - val_loss: 79.1389 - val_mean_squared_error: 79.1389\n",
            "Epoch 26/1000\n",
            "41/41 [==============================] - 0s 4ms/step - loss: 66.2483 - mean_squared_error: 66.2483 - val_loss: 73.6241 - val_mean_squared_error: 73.6241\n",
            "Epoch 27/1000\n",
            "41/41 [==============================] - 0s 3ms/step - loss: 64.3968 - mean_squared_error: 64.3968 - val_loss: 72.2708 - val_mean_squared_error: 72.2708\n",
            "Epoch 28/1000\n",
            "41/41 [==============================] - 0s 4ms/step - loss: 62.8761 - mean_squared_error: 62.8761 - val_loss: 72.1741 - val_mean_squared_error: 72.1741\n",
            "Epoch 29/1000\n",
            "41/41 [==============================] - 0s 3ms/step - loss: 60.6983 - mean_squared_error: 60.6983 - val_loss: 69.6872 - val_mean_squared_error: 69.6872\n",
            "Epoch 30/1000\n",
            "41/41 [==============================] - 0s 4ms/step - loss: 58.7463 - mean_squared_error: 58.7463 - val_loss: 69.4310 - val_mean_squared_error: 69.4310\n",
            "Epoch 31/1000\n",
            "41/41 [==============================] - 0s 3ms/step - loss: 56.6549 - mean_squared_error: 56.6549 - val_loss: 69.6436 - val_mean_squared_error: 69.6436\n",
            "Epoch 32/1000\n",
            "41/41 [==============================] - 0s 3ms/step - loss: 55.0410 - mean_squared_error: 55.0410 - val_loss: 65.9871 - val_mean_squared_error: 65.9871\n",
            "Epoch 33/1000\n",
            "41/41 [==============================] - 0s 4ms/step - loss: 53.7208 - mean_squared_error: 53.7208 - val_loss: 66.0025 - val_mean_squared_error: 66.0025\n",
            "Epoch 34/1000\n",
            "41/41 [==============================] - 0s 4ms/step - loss: 52.0113 - mean_squared_error: 52.0113 - val_loss: 65.9214 - val_mean_squared_error: 65.9214\n",
            "Epoch 35/1000\n",
            "41/41 [==============================] - 0s 4ms/step - loss: 50.7405 - mean_squared_error: 50.7405 - val_loss: 63.7461 - val_mean_squared_error: 63.7461\n",
            "Epoch 36/1000\n",
            "41/41 [==============================] - 0s 4ms/step - loss: 49.1541 - mean_squared_error: 49.1541 - val_loss: 63.1893 - val_mean_squared_error: 63.1893\n",
            "Epoch 37/1000\n",
            "41/41 [==============================] - 0s 4ms/step - loss: 48.4690 - mean_squared_error: 48.4690 - val_loss: 63.8278 - val_mean_squared_error: 63.8278\n",
            "Epoch 38/1000\n",
            "41/41 [==============================] - 0s 3ms/step - loss: 47.1915 - mean_squared_error: 47.1915 - val_loss: 61.2198 - val_mean_squared_error: 61.2198\n",
            "Epoch 39/1000\n",
            "41/41 [==============================] - 0s 4ms/step - loss: 46.6871 - mean_squared_error: 46.6871 - val_loss: 60.9342 - val_mean_squared_error: 60.9342\n",
            "Epoch 40/1000\n",
            "41/41 [==============================] - 0s 3ms/step - loss: 45.6621 - mean_squared_error: 45.6621 - val_loss: 60.4995 - val_mean_squared_error: 60.4995\n",
            "Epoch 41/1000\n",
            "41/41 [==============================] - 0s 4ms/step - loss: 44.5917 - mean_squared_error: 44.5917 - val_loss: 59.9740 - val_mean_squared_error: 59.9740\n",
            "Epoch 42/1000\n",
            "41/41 [==============================] - 0s 3ms/step - loss: 43.8977 - mean_squared_error: 43.8977 - val_loss: 58.7508 - val_mean_squared_error: 58.7508\n",
            "Epoch 43/1000\n",
            "41/41 [==============================] - 0s 4ms/step - loss: 43.1815 - mean_squared_error: 43.1815 - val_loss: 58.2886 - val_mean_squared_error: 58.2886\n",
            "Epoch 44/1000\n",
            "41/41 [==============================] - 0s 4ms/step - loss: 42.4532 - mean_squared_error: 42.4532 - val_loss: 57.5579 - val_mean_squared_error: 57.5579\n",
            "Epoch 45/1000\n",
            "41/41 [==============================] - 0s 3ms/step - loss: 41.6659 - mean_squared_error: 41.6659 - val_loss: 58.7027 - val_mean_squared_error: 58.7027\n",
            "Epoch 46/1000\n",
            "41/41 [==============================] - 0s 4ms/step - loss: 41.2382 - mean_squared_error: 41.2382 - val_loss: 56.2316 - val_mean_squared_error: 56.2316\n",
            "Epoch 47/1000\n",
            "41/41 [==============================] - 0s 4ms/step - loss: 40.1564 - mean_squared_error: 40.1564 - val_loss: 55.3733 - val_mean_squared_error: 55.3733\n",
            "Epoch 48/1000\n",
            "41/41 [==============================] - 0s 4ms/step - loss: 40.0550 - mean_squared_error: 40.0550 - val_loss: 55.7535 - val_mean_squared_error: 55.7535\n",
            "Epoch 49/1000\n",
            "41/41 [==============================] - 0s 4ms/step - loss: 39.4030 - mean_squared_error: 39.4030 - val_loss: 54.5644 - val_mean_squared_error: 54.5644\n",
            "Epoch 50/1000\n",
            "41/41 [==============================] - 0s 4ms/step - loss: 38.4516 - mean_squared_error: 38.4516 - val_loss: 54.9706 - val_mean_squared_error: 54.9706\n",
            "Epoch 51/1000\n",
            "41/41 [==============================] - 0s 4ms/step - loss: 37.6320 - mean_squared_error: 37.6320 - val_loss: 54.1825 - val_mean_squared_error: 54.1825\n",
            "Epoch 52/1000\n",
            "41/41 [==============================] - 0s 4ms/step - loss: 37.0884 - mean_squared_error: 37.0884 - val_loss: 52.2524 - val_mean_squared_error: 52.2524\n",
            "Epoch 53/1000\n",
            "41/41 [==============================] - 0s 4ms/step - loss: 36.1975 - mean_squared_error: 36.1975 - val_loss: 51.4913 - val_mean_squared_error: 51.4913\n",
            "Epoch 54/1000\n",
            "41/41 [==============================] - 0s 4ms/step - loss: 35.6554 - mean_squared_error: 35.6554 - val_loss: 50.2639 - val_mean_squared_error: 50.2639\n",
            "Epoch 55/1000\n",
            "41/41 [==============================] - 0s 4ms/step - loss: 34.7471 - mean_squared_error: 34.7471 - val_loss: 49.9586 - val_mean_squared_error: 49.9586\n",
            "Epoch 56/1000\n",
            "41/41 [==============================] - 0s 4ms/step - loss: 34.1681 - mean_squared_error: 34.1681 - val_loss: 48.9264 - val_mean_squared_error: 48.9264\n",
            "Epoch 57/1000\n",
            "41/41 [==============================] - 0s 4ms/step - loss: 33.6977 - mean_squared_error: 33.6977 - val_loss: 48.7664 - val_mean_squared_error: 48.7664\n",
            "Epoch 58/1000\n",
            "41/41 [==============================] - 0s 4ms/step - loss: 32.4635 - mean_squared_error: 32.4635 - val_loss: 46.9884 - val_mean_squared_error: 46.9884\n",
            "Epoch 59/1000\n",
            "41/41 [==============================] - 0s 3ms/step - loss: 31.8728 - mean_squared_error: 31.8728 - val_loss: 46.5986 - val_mean_squared_error: 46.5986\n",
            "Epoch 60/1000\n",
            "41/41 [==============================] - 0s 4ms/step - loss: 31.6183 - mean_squared_error: 31.6183 - val_loss: 46.2895 - val_mean_squared_error: 46.2895\n",
            "Epoch 61/1000\n",
            "41/41 [==============================] - 0s 3ms/step - loss: 30.8083 - mean_squared_error: 30.8083 - val_loss: 44.6996 - val_mean_squared_error: 44.6996\n",
            "Epoch 62/1000\n",
            "41/41 [==============================] - 0s 4ms/step - loss: 30.4821 - mean_squared_error: 30.4821 - val_loss: 43.8782 - val_mean_squared_error: 43.8782\n",
            "Epoch 63/1000\n",
            "41/41 [==============================] - 0s 4ms/step - loss: 29.8012 - mean_squared_error: 29.8012 - val_loss: 47.3471 - val_mean_squared_error: 47.3471\n",
            "Epoch 64/1000\n",
            "41/41 [==============================] - 0s 4ms/step - loss: 29.3180 - mean_squared_error: 29.3180 - val_loss: 43.7538 - val_mean_squared_error: 43.7538\n",
            "Epoch 65/1000\n",
            "41/41 [==============================] - 0s 4ms/step - loss: 28.3323 - mean_squared_error: 28.3323 - val_loss: 43.7790 - val_mean_squared_error: 43.7790\n",
            "Epoch 66/1000\n",
            "41/41 [==============================] - 0s 3ms/step - loss: 28.0832 - mean_squared_error: 28.0832 - val_loss: 41.3751 - val_mean_squared_error: 41.3751\n",
            "Epoch 67/1000\n",
            "41/41 [==============================] - 0s 4ms/step - loss: 27.7574 - mean_squared_error: 27.7574 - val_loss: 41.0846 - val_mean_squared_error: 41.0846\n",
            "Epoch 68/1000\n",
            "41/41 [==============================] - 0s 4ms/step - loss: 27.1077 - mean_squared_error: 27.1077 - val_loss: 44.3917 - val_mean_squared_error: 44.3917\n",
            "Epoch 69/1000\n",
            "41/41 [==============================] - 0s 3ms/step - loss: 26.7298 - mean_squared_error: 26.7298 - val_loss: 39.2393 - val_mean_squared_error: 39.2393\n",
            "Epoch 70/1000\n",
            "41/41 [==============================] - 0s 3ms/step - loss: 26.1519 - mean_squared_error: 26.1519 - val_loss: 39.5576 - val_mean_squared_error: 39.5576\n",
            "Epoch 71/1000\n",
            "41/41 [==============================] - 0s 4ms/step - loss: 26.0127 - mean_squared_error: 26.0127 - val_loss: 38.0724 - val_mean_squared_error: 38.0724\n",
            "Epoch 72/1000\n",
            "41/41 [==============================] - 0s 4ms/step - loss: 25.3007 - mean_squared_error: 25.3007 - val_loss: 40.5402 - val_mean_squared_error: 40.5402\n",
            "Epoch 73/1000\n",
            "41/41 [==============================] - 0s 4ms/step - loss: 25.0617 - mean_squared_error: 25.0617 - val_loss: 36.9667 - val_mean_squared_error: 36.9667\n",
            "Epoch 74/1000\n",
            "41/41 [==============================] - 0s 4ms/step - loss: 24.5949 - mean_squared_error: 24.5949 - val_loss: 37.9790 - val_mean_squared_error: 37.9790\n",
            "Epoch 75/1000\n",
            "41/41 [==============================] - 0s 3ms/step - loss: 24.1836 - mean_squared_error: 24.1836 - val_loss: 35.3611 - val_mean_squared_error: 35.3611\n",
            "Epoch 76/1000\n",
            "41/41 [==============================] - 0s 3ms/step - loss: 23.6949 - mean_squared_error: 23.6949 - val_loss: 36.1112 - val_mean_squared_error: 36.1112\n",
            "Epoch 77/1000\n",
            "41/41 [==============================] - 0s 3ms/step - loss: 23.5540 - mean_squared_error: 23.5540 - val_loss: 34.6594 - val_mean_squared_error: 34.6594\n",
            "Epoch 78/1000\n",
            "41/41 [==============================] - 0s 4ms/step - loss: 23.2605 - mean_squared_error: 23.2605 - val_loss: 36.3948 - val_mean_squared_error: 36.3948\n",
            "Epoch 79/1000\n",
            "41/41 [==============================] - 0s 4ms/step - loss: 22.5949 - mean_squared_error: 22.5949 - val_loss: 36.6632 - val_mean_squared_error: 36.6632\n",
            "Epoch 80/1000\n",
            "41/41 [==============================] - 0s 4ms/step - loss: 22.7381 - mean_squared_error: 22.7381 - val_loss: 34.5074 - val_mean_squared_error: 34.5074\n",
            "Epoch 81/1000\n",
            "41/41 [==============================] - 0s 4ms/step - loss: 22.3459 - mean_squared_error: 22.3459 - val_loss: 32.7245 - val_mean_squared_error: 32.7245\n",
            "Epoch 82/1000\n",
            "41/41 [==============================] - 0s 4ms/step - loss: 21.9046 - mean_squared_error: 21.9046 - val_loss: 32.1334 - val_mean_squared_error: 32.1334\n",
            "Epoch 83/1000\n",
            "41/41 [==============================] - 0s 3ms/step - loss: 21.7571 - mean_squared_error: 21.7571 - val_loss: 33.9957 - val_mean_squared_error: 33.9957\n",
            "Epoch 84/1000\n",
            "41/41 [==============================] - 0s 4ms/step - loss: 21.4644 - mean_squared_error: 21.4644 - val_loss: 31.7345 - val_mean_squared_error: 31.7345\n",
            "Epoch 85/1000\n",
            "41/41 [==============================] - 0s 3ms/step - loss: 21.3697 - mean_squared_error: 21.3697 - val_loss: 33.9269 - val_mean_squared_error: 33.9269\n",
            "Epoch 86/1000\n",
            "41/41 [==============================] - 0s 4ms/step - loss: 21.4778 - mean_squared_error: 21.4778 - val_loss: 30.9437 - val_mean_squared_error: 30.9437\n",
            "Epoch 87/1000\n",
            "41/41 [==============================] - 0s 4ms/step - loss: 21.0659 - mean_squared_error: 21.0659 - val_loss: 34.1201 - val_mean_squared_error: 34.1201\n",
            "Epoch 88/1000\n",
            "41/41 [==============================] - 0s 4ms/step - loss: 20.7694 - mean_squared_error: 20.7694 - val_loss: 31.9533 - val_mean_squared_error: 31.9533\n",
            "Epoch 89/1000\n",
            "41/41 [==============================] - 0s 3ms/step - loss: 20.3898 - mean_squared_error: 20.3898 - val_loss: 32.9171 - val_mean_squared_error: 32.9171\n",
            "Epoch 90/1000\n",
            "41/41 [==============================] - 0s 4ms/step - loss: 20.5799 - mean_squared_error: 20.5799 - val_loss: 29.6994 - val_mean_squared_error: 29.6994\n",
            "Epoch 91/1000\n",
            "41/41 [==============================] - 0s 4ms/step - loss: 20.3875 - mean_squared_error: 20.3875 - val_loss: 34.1940 - val_mean_squared_error: 34.1940\n",
            "Epoch 92/1000\n",
            "41/41 [==============================] - 0s 3ms/step - loss: 20.3710 - mean_squared_error: 20.3710 - val_loss: 30.5312 - val_mean_squared_error: 30.5312\n",
            "Epoch 93/1000\n",
            "41/41 [==============================] - 0s 4ms/step - loss: 19.8624 - mean_squared_error: 19.8624 - val_loss: 28.9450 - val_mean_squared_error: 28.9450\n",
            "Epoch 94/1000\n",
            "41/41 [==============================] - 0s 4ms/step - loss: 19.7191 - mean_squared_error: 19.7191 - val_loss: 29.8848 - val_mean_squared_error: 29.8848\n",
            "Epoch 95/1000\n",
            "41/41 [==============================] - 0s 3ms/step - loss: 19.6658 - mean_squared_error: 19.6658 - val_loss: 29.8997 - val_mean_squared_error: 29.8997\n",
            "Epoch 96/1000\n",
            "41/41 [==============================] - 0s 4ms/step - loss: 19.5463 - mean_squared_error: 19.5463 - val_loss: 27.9606 - val_mean_squared_error: 27.9606\n",
            "Epoch 97/1000\n",
            "41/41 [==============================] - 0s 4ms/step - loss: 19.2341 - mean_squared_error: 19.2341 - val_loss: 33.6425 - val_mean_squared_error: 33.6425\n",
            "Epoch 98/1000\n",
            "41/41 [==============================] - 0s 4ms/step - loss: 19.6257 - mean_squared_error: 19.6257 - val_loss: 30.5582 - val_mean_squared_error: 30.5582\n",
            "Epoch 99/1000\n",
            "41/41 [==============================] - 0s 4ms/step - loss: 19.1863 - mean_squared_error: 19.1863 - val_loss: 27.6332 - val_mean_squared_error: 27.6332\n",
            "Epoch 100/1000\n",
            "41/41 [==============================] - 0s 4ms/step - loss: 19.0502 - mean_squared_error: 19.0502 - val_loss: 27.0751 - val_mean_squared_error: 27.0751\n",
            "Epoch 101/1000\n",
            "41/41 [==============================] - 0s 3ms/step - loss: 19.1199 - mean_squared_error: 19.1199 - val_loss: 29.1700 - val_mean_squared_error: 29.1700\n",
            "Epoch 102/1000\n",
            "41/41 [==============================] - 0s 4ms/step - loss: 19.0971 - mean_squared_error: 19.0971 - val_loss: 28.1257 - val_mean_squared_error: 28.1257\n",
            "Epoch 103/1000\n",
            "41/41 [==============================] - 0s 4ms/step - loss: 19.0601 - mean_squared_error: 19.0601 - val_loss: 27.0609 - val_mean_squared_error: 27.0609\n",
            "Epoch 104/1000\n",
            "41/41 [==============================] - 0s 4ms/step - loss: 18.7547 - mean_squared_error: 18.7547 - val_loss: 26.9241 - val_mean_squared_error: 26.9241\n",
            "Epoch 105/1000\n",
            "41/41 [==============================] - 0s 3ms/step - loss: 18.7258 - mean_squared_error: 18.7258 - val_loss: 26.6818 - val_mean_squared_error: 26.6818\n",
            "Epoch 106/1000\n",
            "41/41 [==============================] - 0s 4ms/step - loss: 18.5944 - mean_squared_error: 18.5944 - val_loss: 26.1048 - val_mean_squared_error: 26.1048\n",
            "Epoch 107/1000\n",
            "41/41 [==============================] - 0s 4ms/step - loss: 18.7056 - mean_squared_error: 18.7056 - val_loss: 27.1296 - val_mean_squared_error: 27.1296\n",
            "Epoch 108/1000\n",
            "41/41 [==============================] - 0s 3ms/step - loss: 18.8154 - mean_squared_error: 18.8154 - val_loss: 27.0199 - val_mean_squared_error: 27.0199\n",
            "Epoch 109/1000\n",
            "41/41 [==============================] - 0s 4ms/step - loss: 18.0083 - mean_squared_error: 18.0083 - val_loss: 29.4551 - val_mean_squared_error: 29.4551\n",
            "Epoch 110/1000\n",
            "41/41 [==============================] - 0s 3ms/step - loss: 18.7263 - mean_squared_error: 18.7264 - val_loss: 25.7058 - val_mean_squared_error: 25.7058\n",
            "Epoch 111/1000\n",
            "41/41 [==============================] - 0s 4ms/step - loss: 18.4757 - mean_squared_error: 18.4757 - val_loss: 25.8830 - val_mean_squared_error: 25.8830\n",
            "Epoch 112/1000\n",
            "41/41 [==============================] - 0s 4ms/step - loss: 18.3686 - mean_squared_error: 18.3686 - val_loss: 25.3998 - val_mean_squared_error: 25.3998\n",
            "Epoch 113/1000\n",
            "41/41 [==============================] - 0s 4ms/step - loss: 18.2765 - mean_squared_error: 18.2765 - val_loss: 25.5260 - val_mean_squared_error: 25.5260\n",
            "Epoch 114/1000\n",
            "41/41 [==============================] - 0s 4ms/step - loss: 18.1512 - mean_squared_error: 18.1512 - val_loss: 28.9097 - val_mean_squared_error: 28.9097\n",
            "Epoch 115/1000\n",
            "41/41 [==============================] - 0s 4ms/step - loss: 17.8252 - mean_squared_error: 17.8252 - val_loss: 25.4086 - val_mean_squared_error: 25.4086\n",
            "Epoch 116/1000\n",
            "41/41 [==============================] - 0s 4ms/step - loss: 17.9646 - mean_squared_error: 17.9646 - val_loss: 25.5811 - val_mean_squared_error: 25.5811\n",
            "Epoch 117/1000\n",
            "41/41 [==============================] - 0s 4ms/step - loss: 17.9102 - mean_squared_error: 17.9102 - val_loss: 28.2802 - val_mean_squared_error: 28.2802\n",
            "Epoch 118/1000\n",
            "41/41 [==============================] - 0s 3ms/step - loss: 18.2091 - mean_squared_error: 18.2091 - val_loss: 26.8321 - val_mean_squared_error: 26.8321\n",
            "Epoch 119/1000\n",
            "41/41 [==============================] - 0s 4ms/step - loss: 18.1063 - mean_squared_error: 18.1063 - val_loss: 25.7260 - val_mean_squared_error: 25.7260\n",
            "Epoch 120/1000\n",
            "41/41 [==============================] - 0s 4ms/step - loss: 17.6705 - mean_squared_error: 17.6705 - val_loss: 27.4862 - val_mean_squared_error: 27.4862\n",
            "Epoch 121/1000\n",
            "41/41 [==============================] - 0s 4ms/step - loss: 17.9083 - mean_squared_error: 17.9083 - val_loss: 26.2908 - val_mean_squared_error: 26.2908\n",
            "Epoch 122/1000\n",
            "41/41 [==============================] - 0s 4ms/step - loss: 17.7339 - mean_squared_error: 17.7339 - val_loss: 26.1419 - val_mean_squared_error: 26.1419\n"
          ],
          "name": "stdout"
        }
      ]
    },
    {
      "cell_type": "markdown",
      "metadata": {
        "id": "0yWy3va56-A4",
        "colab_type": "text"
      },
      "source": [
        "## Classification?\n",
        "The only thing we really need to change is the final layer to predict classes"
      ]
    },
    {
      "cell_type": "code",
      "metadata": {
        "id": "0ReJW60q6-A6",
        "colab_type": "code",
        "colab": {}
      },
      "source": [
        "model_iris = tf.keras.Sequential()\n",
        "# Adds a densely-connected layer with 64 units to the model:\n",
        "\n",
        "model_iris.add(layers.Dense(100, activation='sigmoid'))\n",
        "model_iris.add(layers.Dense(100, activation='sigmoid'))\n",
        "model_iris.add(layers.Dense(3 ,activation='sigmoid'))\n",
        "\n",
        "model_iris.compile(optimizer=tf.optimizers.SGD(0.01),\n",
        "                   loss=tf.keras.losses.SparseCategoricalCrossentropy(),  # use this when classification label is an integer \n",
        "                   metrics=['accuracy'])"
      ],
      "execution_count": 0,
      "outputs": []
    },
    {
      "cell_type": "code",
      "metadata": {
        "id": "htB4FdIE6-A-",
        "colab_type": "code",
        "colab": {}
      },
      "source": [
        "iris = datasets.load_iris()"
      ],
      "execution_count": 0,
      "outputs": []
    },
    {
      "cell_type": "code",
      "metadata": {
        "id": "4wk4gcuW6-BB",
        "colab_type": "code",
        "colab": {}
      },
      "source": [
        "x= iris['data']\n",
        "y = iris['target']\n",
        "# Why do I not have to scale?\n",
        "x_train, x_test, y_train, y_test = train_test_split(x, y, test_size=0.20, random_state=1776)"
      ],
      "execution_count": 0,
      "outputs": []
    },
    {
      "cell_type": "code",
      "metadata": {
        "id": "gUX0wCcc9KuT",
        "colab_type": "code",
        "colab": {
          "base_uri": "https://localhost:8080/",
          "height": 34
        },
        "outputId": "d930390a-7592-46a6-d019-1ab4f73184fe"
      },
      "source": [
        "y_train.shape"
      ],
      "execution_count": 35,
      "outputs": [
        {
          "output_type": "execute_result",
          "data": {
            "text/plain": [
              "(120,)"
            ]
          },
          "metadata": {
            "tags": []
          },
          "execution_count": 35
        }
      ]
    },
    {
      "cell_type": "code",
      "metadata": {
        "id": "HUOTdSR49PWL",
        "colab_type": "code",
        "colab": {
          "base_uri": "https://localhost:8080/",
          "height": 34
        },
        "outputId": "374523e7-9397-4000-9485-c369774a6771"
      },
      "source": [
        "y_train[0]"
      ],
      "execution_count": 36,
      "outputs": [
        {
          "output_type": "execute_result",
          "data": {
            "text/plain": [
              "1"
            ]
          },
          "metadata": {
            "tags": []
          },
          "execution_count": 36
        }
      ]
    },
    {
      "cell_type": "code",
      "metadata": {
        "id": "1RmcS6Ay6-BH",
        "colab_type": "code",
        "colab": {
          "base_uri": "https://localhost:8080/",
          "height": 1000
        },
        "outputId": "a35f0292-89c5-4417-a400-c9090101dc12"
      },
      "source": [
        "model_iris.fit(x_train, y_train, validation_data=(x_test,y_test), epochs=100, batch_size=4, callbacks=[tb])"
      ],
      "execution_count": 32,
      "outputs": [
        {
          "output_type": "stream",
          "text": [
            "Epoch 1/100\n",
            "30/30 [==============================] - 0s 7ms/step - loss: 1.1143 - accuracy: 0.2833 - val_loss: 1.0985 - val_accuracy: 0.3667\n",
            "Epoch 2/100\n",
            "30/30 [==============================] - 0s 4ms/step - loss: 1.1091 - accuracy: 0.2750 - val_loss: 1.0997 - val_accuracy: 0.4000\n",
            "Epoch 3/100\n",
            "30/30 [==============================] - 0s 4ms/step - loss: 1.1034 - accuracy: 0.3000 - val_loss: 1.0990 - val_accuracy: 0.3333\n",
            "Epoch 4/100\n",
            "30/30 [==============================] - 0s 4ms/step - loss: 1.1004 - accuracy: 0.3000 - val_loss: 1.0962 - val_accuracy: 0.6333\n",
            "Epoch 5/100\n",
            "30/30 [==============================] - 0s 3ms/step - loss: 1.0996 - accuracy: 0.3167 - val_loss: 1.0958 - val_accuracy: 0.4333\n",
            "Epoch 6/100\n",
            "30/30 [==============================] - 0s 4ms/step - loss: 1.0988 - accuracy: 0.4000 - val_loss: 1.0954 - val_accuracy: 0.3667\n",
            "Epoch 7/100\n",
            "30/30 [==============================] - 0s 4ms/step - loss: 1.0979 - accuracy: 0.3250 - val_loss: 1.0931 - val_accuracy: 0.3000\n",
            "Epoch 8/100\n",
            "30/30 [==============================] - 0s 4ms/step - loss: 1.0970 - accuracy: 0.3667 - val_loss: 1.0921 - val_accuracy: 0.5333\n",
            "Epoch 9/100\n",
            "30/30 [==============================] - 0s 4ms/step - loss: 1.0940 - accuracy: 0.3583 - val_loss: 1.0911 - val_accuracy: 0.3333\n",
            "Epoch 10/100\n",
            "30/30 [==============================] - 0s 4ms/step - loss: 1.0927 - accuracy: 0.3417 - val_loss: 1.0903 - val_accuracy: 0.3333\n",
            "Epoch 11/100\n",
            "30/30 [==============================] - 0s 4ms/step - loss: 1.0894 - accuracy: 0.3500 - val_loss: 1.0901 - val_accuracy: 0.3000\n",
            "Epoch 12/100\n",
            "30/30 [==============================] - 0s 4ms/step - loss: 1.0916 - accuracy: 0.3917 - val_loss: 1.0889 - val_accuracy: 0.3000\n",
            "Epoch 13/100\n",
            "30/30 [==============================] - 0s 4ms/step - loss: 1.0882 - accuracy: 0.3333 - val_loss: 1.0857 - val_accuracy: 0.3000\n",
            "Epoch 14/100\n",
            "30/30 [==============================] - 0s 3ms/step - loss: 1.0871 - accuracy: 0.3750 - val_loss: 1.0824 - val_accuracy: 0.3333\n",
            "Epoch 15/100\n",
            "30/30 [==============================] - 0s 4ms/step - loss: 1.0819 - accuracy: 0.4083 - val_loss: 1.0861 - val_accuracy: 0.3000\n",
            "Epoch 16/100\n",
            "30/30 [==============================] - 0s 3ms/step - loss: 1.0819 - accuracy: 0.3833 - val_loss: 1.0811 - val_accuracy: 0.5333\n",
            "Epoch 17/100\n",
            "30/30 [==============================] - 0s 4ms/step - loss: 1.0811 - accuracy: 0.3833 - val_loss: 1.0799 - val_accuracy: 0.3000\n",
            "Epoch 18/100\n",
            "30/30 [==============================] - 0s 4ms/step - loss: 1.0792 - accuracy: 0.4583 - val_loss: 1.0768 - val_accuracy: 0.3667\n",
            "Epoch 19/100\n",
            "30/30 [==============================] - 0s 4ms/step - loss: 1.0768 - accuracy: 0.5167 - val_loss: 1.0755 - val_accuracy: 0.3333\n",
            "Epoch 20/100\n",
            "30/30 [==============================] - 0s 4ms/step - loss: 1.0757 - accuracy: 0.3333 - val_loss: 1.0696 - val_accuracy: 0.4000\n",
            "Epoch 21/100\n",
            "30/30 [==============================] - 0s 4ms/step - loss: 1.0725 - accuracy: 0.5500 - val_loss: 1.0711 - val_accuracy: 0.4000\n",
            "Epoch 22/100\n",
            "30/30 [==============================] - 0s 4ms/step - loss: 1.0715 - accuracy: 0.4167 - val_loss: 1.0666 - val_accuracy: 0.3333\n",
            "Epoch 23/100\n",
            "30/30 [==============================] - 0s 4ms/step - loss: 1.0677 - accuracy: 0.4083 - val_loss: 1.0627 - val_accuracy: 0.3333\n",
            "Epoch 24/100\n",
            "30/30 [==============================] - 0s 4ms/step - loss: 1.0648 - accuracy: 0.4667 - val_loss: 1.0584 - val_accuracy: 0.4000\n",
            "Epoch 25/100\n",
            "30/30 [==============================] - 0s 4ms/step - loss: 1.0621 - accuracy: 0.4083 - val_loss: 1.0552 - val_accuracy: 0.6667\n",
            "Epoch 26/100\n",
            "30/30 [==============================] - 0s 4ms/step - loss: 1.0582 - accuracy: 0.4250 - val_loss: 1.0487 - val_accuracy: 0.7667\n",
            "Epoch 27/100\n",
            "30/30 [==============================] - 0s 4ms/step - loss: 1.0566 - accuracy: 0.5500 - val_loss: 1.0482 - val_accuracy: 0.4000\n",
            "Epoch 28/100\n",
            "30/30 [==============================] - 0s 4ms/step - loss: 1.0564 - accuracy: 0.4583 - val_loss: 1.0421 - val_accuracy: 0.6000\n",
            "Epoch 29/100\n",
            "30/30 [==============================] - 0s 4ms/step - loss: 1.0486 - accuracy: 0.5250 - val_loss: 1.0393 - val_accuracy: 0.8333\n",
            "Epoch 30/100\n",
            "30/30 [==============================] - 0s 4ms/step - loss: 1.0428 - accuracy: 0.5833 - val_loss: 1.0363 - val_accuracy: 0.3667\n",
            "Epoch 31/100\n",
            "30/30 [==============================] - 0s 4ms/step - loss: 1.0430 - accuracy: 0.5500 - val_loss: 1.0300 - val_accuracy: 0.3667\n",
            "Epoch 32/100\n",
            "30/30 [==============================] - 0s 4ms/step - loss: 1.0368 - accuracy: 0.5250 - val_loss: 1.0260 - val_accuracy: 0.5667\n",
            "Epoch 33/100\n",
            "30/30 [==============================] - 0s 4ms/step - loss: 1.0283 - accuracy: 0.6667 - val_loss: 1.0253 - val_accuracy: 0.3333\n",
            "Epoch 34/100\n",
            "30/30 [==============================] - 0s 4ms/step - loss: 1.0221 - accuracy: 0.6000 - val_loss: 1.0182 - val_accuracy: 0.5667\n",
            "Epoch 35/100\n",
            "30/30 [==============================] - 0s 3ms/step - loss: 1.0198 - accuracy: 0.5167 - val_loss: 1.0113 - val_accuracy: 0.6667\n",
            "Epoch 36/100\n",
            "30/30 [==============================] - 0s 4ms/step - loss: 1.0134 - accuracy: 0.5417 - val_loss: 0.9979 - val_accuracy: 0.6667\n",
            "Epoch 37/100\n",
            "30/30 [==============================] - 0s 3ms/step - loss: 1.0045 - accuracy: 0.6667 - val_loss: 0.9940 - val_accuracy: 0.7000\n",
            "Epoch 38/100\n",
            "30/30 [==============================] - 0s 4ms/step - loss: 1.0016 - accuracy: 0.6583 - val_loss: 0.9843 - val_accuracy: 0.8667\n",
            "Epoch 39/100\n",
            "30/30 [==============================] - 0s 3ms/step - loss: 0.9906 - accuracy: 0.6667 - val_loss: 0.9813 - val_accuracy: 0.6667\n",
            "Epoch 40/100\n",
            "30/30 [==============================] - 0s 3ms/step - loss: 0.9828 - accuracy: 0.6667 - val_loss: 0.9646 - val_accuracy: 0.9667\n",
            "Epoch 41/100\n",
            "30/30 [==============================] - 0s 4ms/step - loss: 0.9716 - accuracy: 0.5750 - val_loss: 0.9571 - val_accuracy: 0.6667\n",
            "Epoch 42/100\n",
            "30/30 [==============================] - 0s 3ms/step - loss: 0.9679 - accuracy: 0.7167 - val_loss: 0.9601 - val_accuracy: 0.6667\n",
            "Epoch 43/100\n",
            "30/30 [==============================] - 0s 3ms/step - loss: 0.9645 - accuracy: 0.7000 - val_loss: 0.9433 - val_accuracy: 0.6667\n",
            "Epoch 44/100\n",
            "30/30 [==============================] - 0s 3ms/step - loss: 0.9502 - accuracy: 0.6667 - val_loss: 0.9272 - val_accuracy: 0.7667\n",
            "Epoch 45/100\n",
            "30/30 [==============================] - 0s 4ms/step - loss: 0.9400 - accuracy: 0.7167 - val_loss: 0.9133 - val_accuracy: 0.8333\n",
            "Epoch 46/100\n",
            "30/30 [==============================] - 0s 4ms/step - loss: 0.9222 - accuracy: 0.7250 - val_loss: 0.9085 - val_accuracy: 0.6667\n",
            "Epoch 47/100\n",
            "30/30 [==============================] - 0s 4ms/step - loss: 0.9149 - accuracy: 0.7083 - val_loss: 0.8922 - val_accuracy: 0.9000\n",
            "Epoch 48/100\n",
            "30/30 [==============================] - 0s 3ms/step - loss: 0.9037 - accuracy: 0.6917 - val_loss: 0.8801 - val_accuracy: 0.8333\n",
            "Epoch 49/100\n",
            "30/30 [==============================] - 0s 3ms/step - loss: 0.8893 - accuracy: 0.7500 - val_loss: 0.8668 - val_accuracy: 0.7000\n",
            "Epoch 50/100\n",
            "30/30 [==============================] - 0s 3ms/step - loss: 0.8747 - accuracy: 0.7083 - val_loss: 0.8586 - val_accuracy: 0.9667\n",
            "Epoch 51/100\n",
            "30/30 [==============================] - 0s 4ms/step - loss: 0.8634 - accuracy: 0.8750 - val_loss: 0.8414 - val_accuracy: 0.7000\n",
            "Epoch 52/100\n",
            "30/30 [==============================] - 0s 4ms/step - loss: 0.8543 - accuracy: 0.7083 - val_loss: 0.8246 - val_accuracy: 0.6667\n",
            "Epoch 53/100\n",
            "30/30 [==============================] - 0s 4ms/step - loss: 0.8278 - accuracy: 0.7667 - val_loss: 0.8214 - val_accuracy: 0.6667\n",
            "Epoch 54/100\n",
            "30/30 [==============================] - 0s 4ms/step - loss: 0.8278 - accuracy: 0.7167 - val_loss: 0.7933 - val_accuracy: 0.7667\n",
            "Epoch 55/100\n",
            "30/30 [==============================] - 0s 4ms/step - loss: 0.8119 - accuracy: 0.8000 - val_loss: 0.7828 - val_accuracy: 0.6667\n",
            "Epoch 56/100\n",
            "30/30 [==============================] - 0s 4ms/step - loss: 0.7997 - accuracy: 0.7500 - val_loss: 0.7644 - val_accuracy: 0.8000\n",
            "Epoch 57/100\n",
            "30/30 [==============================] - 0s 3ms/step - loss: 0.7844 - accuracy: 0.7417 - val_loss: 0.7514 - val_accuracy: 0.7000\n",
            "Epoch 58/100\n",
            "30/30 [==============================] - 0s 4ms/step - loss: 0.7694 - accuracy: 0.7083 - val_loss: 0.7360 - val_accuracy: 0.9000\n",
            "Epoch 59/100\n",
            "30/30 [==============================] - 0s 4ms/step - loss: 0.7528 - accuracy: 0.8083 - val_loss: 0.7249 - val_accuracy: 0.7000\n",
            "Epoch 60/100\n",
            "30/30 [==============================] - 0s 3ms/step - loss: 0.7392 - accuracy: 0.7083 - val_loss: 0.7079 - val_accuracy: 0.9000\n",
            "Epoch 61/100\n",
            "30/30 [==============================] - 0s 3ms/step - loss: 0.7271 - accuracy: 0.8083 - val_loss: 0.6945 - val_accuracy: 0.8333\n",
            "Epoch 62/100\n",
            "30/30 [==============================] - 0s 4ms/step - loss: 0.7119 - accuracy: 0.7667 - val_loss: 0.6848 - val_accuracy: 0.6667\n",
            "Epoch 63/100\n",
            "30/30 [==============================] - 0s 3ms/step - loss: 0.6992 - accuracy: 0.7833 - val_loss: 0.6717 - val_accuracy: 0.7000\n",
            "Epoch 64/100\n",
            "30/30 [==============================] - 0s 4ms/step - loss: 0.6883 - accuracy: 0.7500 - val_loss: 0.6565 - val_accuracy: 0.7333\n",
            "Epoch 65/100\n",
            "30/30 [==============================] - 0s 4ms/step - loss: 0.6778 - accuracy: 0.8167 - val_loss: 0.6431 - val_accuracy: 0.7667\n",
            "Epoch 66/100\n",
            "30/30 [==============================] - 0s 3ms/step - loss: 0.6646 - accuracy: 0.7583 - val_loss: 0.6298 - val_accuracy: 0.8000\n",
            "Epoch 67/100\n",
            "30/30 [==============================] - 0s 4ms/step - loss: 0.6544 - accuracy: 0.7333 - val_loss: 0.6183 - val_accuracy: 0.9667\n",
            "Epoch 68/100\n",
            "30/30 [==============================] - 0s 4ms/step - loss: 0.6407 - accuracy: 0.8750 - val_loss: 0.6124 - val_accuracy: 0.7000\n",
            "Epoch 69/100\n",
            "30/30 [==============================] - 0s 3ms/step - loss: 0.6247 - accuracy: 0.8500 - val_loss: 0.6128 - val_accuracy: 0.6667\n",
            "Epoch 70/100\n",
            "30/30 [==============================] - 0s 4ms/step - loss: 0.6133 - accuracy: 0.7333 - val_loss: 0.5870 - val_accuracy: 0.8000\n",
            "Epoch 71/100\n",
            "30/30 [==============================] - 0s 4ms/step - loss: 0.6115 - accuracy: 0.8667 - val_loss: 0.5768 - val_accuracy: 0.8333\n",
            "Epoch 72/100\n",
            "30/30 [==============================] - 0s 4ms/step - loss: 0.5997 - accuracy: 0.7750 - val_loss: 0.5667 - val_accuracy: 0.8333\n",
            "Epoch 73/100\n",
            "30/30 [==============================] - 0s 4ms/step - loss: 0.5830 - accuracy: 0.8417 - val_loss: 0.5690 - val_accuracy: 0.7000\n",
            "Epoch 74/100\n",
            "30/30 [==============================] - 0s 4ms/step - loss: 0.5799 - accuracy: 0.7833 - val_loss: 0.5457 - val_accuracy: 0.9000\n",
            "Epoch 75/100\n",
            "30/30 [==============================] - 0s 4ms/step - loss: 0.5700 - accuracy: 0.8417 - val_loss: 0.5435 - val_accuracy: 0.7667\n",
            "Epoch 76/100\n",
            "30/30 [==============================] - 0s 4ms/step - loss: 0.5612 - accuracy: 0.8000 - val_loss: 0.5302 - val_accuracy: 0.8333\n",
            "Epoch 77/100\n",
            "30/30 [==============================] - 0s 4ms/step - loss: 0.5513 - accuracy: 0.7833 - val_loss: 0.5266 - val_accuracy: 0.8000\n",
            "Epoch 78/100\n",
            "30/30 [==============================] - 0s 4ms/step - loss: 0.5406 - accuracy: 0.8500 - val_loss: 0.5326 - val_accuracy: 0.7000\n",
            "Epoch 79/100\n",
            "30/30 [==============================] - 0s 4ms/step - loss: 0.5326 - accuracy: 0.7750 - val_loss: 0.5068 - val_accuracy: 1.0000\n",
            "Epoch 80/100\n",
            "30/30 [==============================] - 0s 4ms/step - loss: 0.5346 - accuracy: 0.8833 - val_loss: 0.5060 - val_accuracy: 0.8000\n",
            "Epoch 81/100\n",
            "30/30 [==============================] - 0s 4ms/step - loss: 0.5250 - accuracy: 0.8167 - val_loss: 0.4931 - val_accuracy: 0.9000\n",
            "Epoch 82/100\n",
            "30/30 [==============================] - 0s 4ms/step - loss: 0.5228 - accuracy: 0.8667 - val_loss: 0.4898 - val_accuracy: 0.8333\n",
            "Epoch 83/100\n",
            "30/30 [==============================] - 0s 4ms/step - loss: 0.5109 - accuracy: 0.8500 - val_loss: 0.4838 - val_accuracy: 0.8333\n",
            "Epoch 84/100\n",
            "30/30 [==============================] - 0s 4ms/step - loss: 0.5066 - accuracy: 0.8333 - val_loss: 0.4740 - val_accuracy: 1.0000\n",
            "Epoch 85/100\n",
            "30/30 [==============================] - 0s 4ms/step - loss: 0.4976 - accuracy: 0.9000 - val_loss: 0.4679 - val_accuracy: 0.9333\n",
            "Epoch 86/100\n",
            "30/30 [==============================] - 0s 4ms/step - loss: 0.4860 - accuracy: 0.8833 - val_loss: 0.4775 - val_accuracy: 0.7667\n",
            "Epoch 87/100\n",
            "30/30 [==============================] - 0s 4ms/step - loss: 0.4887 - accuracy: 0.8000 - val_loss: 0.4570 - val_accuracy: 1.0000\n",
            "Epoch 88/100\n",
            "30/30 [==============================] - 0s 4ms/step - loss: 0.4800 - accuracy: 0.8833 - val_loss: 0.4535 - val_accuracy: 0.9667\n",
            "Epoch 89/100\n",
            "30/30 [==============================] - 0s 3ms/step - loss: 0.4830 - accuracy: 0.8750 - val_loss: 0.4489 - val_accuracy: 0.9667\n",
            "Epoch 90/100\n",
            "30/30 [==============================] - 0s 4ms/step - loss: 0.4788 - accuracy: 0.8667 - val_loss: 0.4448 - val_accuracy: 0.8667\n",
            "Epoch 91/100\n",
            "30/30 [==============================] - 0s 4ms/step - loss: 0.4664 - accuracy: 0.8833 - val_loss: 0.4397 - val_accuracy: 0.9000\n",
            "Epoch 92/100\n",
            "30/30 [==============================] - 0s 4ms/step - loss: 0.4639 - accuracy: 0.9250 - val_loss: 0.4346 - val_accuracy: 0.9000\n",
            "Epoch 93/100\n",
            "30/30 [==============================] - 0s 4ms/step - loss: 0.4534 - accuracy: 0.8833 - val_loss: 0.4286 - val_accuracy: 0.9333\n",
            "Epoch 94/100\n",
            "30/30 [==============================] - 0s 4ms/step - loss: 0.4529 - accuracy: 0.9333 - val_loss: 0.4242 - val_accuracy: 0.9333\n",
            "Epoch 95/100\n",
            "30/30 [==============================] - 0s 4ms/step - loss: 0.4512 - accuracy: 0.9333 - val_loss: 0.4226 - val_accuracy: 0.9000\n",
            "Epoch 96/100\n",
            "30/30 [==============================] - 0s 3ms/step - loss: 0.4402 - accuracy: 0.8500 - val_loss: 0.4175 - val_accuracy: 0.9667\n",
            "Epoch 97/100\n",
            "30/30 [==============================] - 0s 4ms/step - loss: 0.4412 - accuracy: 0.8833 - val_loss: 0.4107 - val_accuracy: 1.0000\n",
            "Epoch 98/100\n",
            "30/30 [==============================] - 0s 4ms/step - loss: 0.4414 - accuracy: 0.9333 - val_loss: 0.4126 - val_accuracy: 0.8333\n",
            "Epoch 99/100\n",
            "30/30 [==============================] - 0s 4ms/step - loss: 0.4299 - accuracy: 0.9583 - val_loss: 0.4067 - val_accuracy: 0.9000\n",
            "Epoch 100/100\n",
            "30/30 [==============================] - 0s 4ms/step - loss: 0.4257 - accuracy: 0.9333 - val_loss: 0.3987 - val_accuracy: 0.9667\n"
          ],
          "name": "stdout"
        },
        {
          "output_type": "execute_result",
          "data": {
            "text/plain": [
              "<tensorflow.python.keras.callbacks.History at 0x7fe3be7633c8>"
            ]
          },
          "metadata": {
            "tags": []
          },
          "execution_count": 32
        }
      ]
    },
    {
      "cell_type": "code",
      "metadata": {
        "id": "t7LKtnln9Dmd",
        "colab_type": "code",
        "colab": {
          "base_uri": "https://localhost:8080/",
          "height": 527
        },
        "outputId": "7ba827e9-a012-4594-a877-b494f317febf"
      },
      "source": [
        "model_iris.predict(x_test)"
      ],
      "execution_count": 33,
      "outputs": [
        {
          "output_type": "execute_result",
          "data": {
            "text/plain": [
              "array([[0.00089048, 0.04453431, 0.0761577 ],\n",
              "       [0.0025684 , 0.0376936 , 0.03243794],\n",
              "       [0.20114733, 0.01799957, 0.00084628],\n",
              "       [0.00207445, 0.03900737, 0.03874449],\n",
              "       [0.00196635, 0.03982944, 0.04048265],\n",
              "       [0.00328603, 0.03625872, 0.02710748],\n",
              "       [0.0056806 , 0.03353622, 0.01732939],\n",
              "       [0.00139786, 0.04175301, 0.05350514],\n",
              "       [0.01427194, 0.02889436, 0.00817216],\n",
              "       [0.00134487, 0.04230923, 0.05491912],\n",
              "       [0.00600916, 0.03302555, 0.01651006],\n",
              "       [0.21872716, 0.01771751, 0.00078642],\n",
              "       [0.19271204, 0.01816394, 0.00087785],\n",
              "       [0.16205989, 0.01870596, 0.00102831],\n",
              "       [0.00122061, 0.04267567, 0.05912831],\n",
              "       [0.00121458, 0.04291661, 0.06016897],\n",
              "       [0.21847238, 0.01806111, 0.00078643],\n",
              "       [0.00594259, 0.03338749, 0.01668884],\n",
              "       [0.13519074, 0.01956084, 0.00122592],\n",
              "       [0.00135521, 0.04199515, 0.05497349],\n",
              "       [0.13686024, 0.01916359, 0.00123475],\n",
              "       [0.20863348, 0.01801193, 0.00081007],\n",
              "       [0.21684663, 0.01768769, 0.00077487],\n",
              "       [0.00333264, 0.03606373, 0.0264258 ],\n",
              "       [0.194084  , 0.01800361, 0.00088586],\n",
              "       [0.00471204, 0.03430875, 0.0203309 ],\n",
              "       [0.00105674, 0.04400674, 0.06664126],\n",
              "       [0.00063293, 0.04733666, 0.09838319],\n",
              "       [0.00160882, 0.04152615, 0.04766286],\n",
              "       [0.23470367, 0.01729658, 0.00072156]], dtype=float32)"
            ]
          },
          "metadata": {
            "tags": []
          },
          "execution_count": 33
        }
      ]
    },
    {
      "cell_type": "code",
      "metadata": {
        "id": "PY3eODe96-BO",
        "colab_type": "code",
        "colab": {
          "base_uri": "https://localhost:8080/",
          "height": 51
        },
        "outputId": "9295a444-90ea-417a-abaa-89deb18e41ac"
      },
      "source": [
        "np.argmax(model_iris.predict(x_test),axis=1)"
      ],
      "execution_count": 34,
      "outputs": [
        {
          "output_type": "execute_result",
          "data": {
            "text/plain": [
              "array([2, 1, 0, 1, 2, 1, 1, 2, 1, 2, 1, 0, 0, 0, 2, 2, 0, 1, 0, 2, 0, 0,\n",
              "       0, 1, 0, 1, 2, 2, 2, 0])"
            ]
          },
          "metadata": {
            "tags": []
          },
          "execution_count": 34
        }
      ]
    },
    {
      "cell_type": "code",
      "metadata": {
        "id": "9FX5BJGf6-BV",
        "colab_type": "code",
        "colab": {
          "base_uri": "https://localhost:8080/",
          "height": 51
        },
        "outputId": "42bbf9f7-d7eb-42f2-e754-491f8c6615fa"
      },
      "source": [
        "y_test"
      ],
      "execution_count": 37,
      "outputs": [
        {
          "output_type": "execute_result",
          "data": {
            "text/plain": [
              "array([2, 1, 0, 1, 1, 1, 1, 2, 1, 2, 1, 0, 0, 0, 2, 2, 0, 1, 0, 2, 0, 0,\n",
              "       0, 1, 0, 1, 2, 2, 2, 0])"
            ]
          },
          "metadata": {
            "tags": []
          },
          "execution_count": 37
        }
      ]
    },
    {
      "cell_type": "code",
      "metadata": {
        "id": "3PKL3_qa6-Bb",
        "colab_type": "code",
        "colab": {}
      },
      "source": [
        "data = datasets.load_digits()"
      ],
      "execution_count": 0,
      "outputs": []
    },
    {
      "cell_type": "code",
      "metadata": {
        "id": "UupfwZBu6-Bh",
        "colab_type": "code",
        "colab": {
          "base_uri": "https://localhost:8080/",
          "height": 102
        },
        "outputId": "5151d374-abfb-4356-bb37-fa1c7f942214"
      },
      "source": [
        "data['data'][1]"
      ],
      "execution_count": 39,
      "outputs": [
        {
          "output_type": "execute_result",
          "data": {
            "text/plain": [
              "array([ 0.,  0.,  0., 12., 13.,  5.,  0.,  0.,  0.,  0.,  0., 11., 16.,\n",
              "        9.,  0.,  0.,  0.,  0.,  3., 15., 16.,  6.,  0.,  0.,  0.,  7.,\n",
              "       15., 16., 16.,  2.,  0.,  0.,  0.,  0.,  1., 16., 16.,  3.,  0.,\n",
              "        0.,  0.,  0.,  1., 16., 16.,  6.,  0.,  0.,  0.,  0.,  1., 16.,\n",
              "       16.,  6.,  0.,  0.,  0.,  0.,  0., 11., 16., 10.,  0.,  0.])"
            ]
          },
          "metadata": {
            "tags": []
          },
          "execution_count": 39
        }
      ]
    },
    {
      "cell_type": "code",
      "metadata": {
        "id": "OHnbayJU6-Bo",
        "colab_type": "code",
        "colab": {
          "base_uri": "https://localhost:8080/",
          "height": 153
        },
        "outputId": "8ddb4cce-8bcf-4fbb-dde1-f66f7121e593"
      },
      "source": [
        "data['images'][1]"
      ],
      "execution_count": 40,
      "outputs": [
        {
          "output_type": "execute_result",
          "data": {
            "text/plain": [
              "array([[ 0.,  0.,  0., 12., 13.,  5.,  0.,  0.],\n",
              "       [ 0.,  0.,  0., 11., 16.,  9.,  0.,  0.],\n",
              "       [ 0.,  0.,  3., 15., 16.,  6.,  0.,  0.],\n",
              "       [ 0.,  7., 15., 16., 16.,  2.,  0.,  0.],\n",
              "       [ 0.,  0.,  1., 16., 16.,  3.,  0.,  0.],\n",
              "       [ 0.,  0.,  1., 16., 16.,  6.,  0.,  0.],\n",
              "       [ 0.,  0.,  1., 16., 16.,  6.,  0.,  0.],\n",
              "       [ 0.,  0.,  0., 11., 16., 10.,  0.,  0.]])"
            ]
          },
          "metadata": {
            "tags": []
          },
          "execution_count": 40
        }
      ]
    },
    {
      "cell_type": "code",
      "metadata": {
        "id": "QEnigWor6-Bw",
        "colab_type": "code",
        "colab": {
          "base_uri": "https://localhost:8080/",
          "height": 51
        },
        "outputId": "12d472ce-1384-4bbe-be82-ede7ad2969ec"
      },
      "source": [
        "data['target'][0:30]"
      ],
      "execution_count": 41,
      "outputs": [
        {
          "output_type": "execute_result",
          "data": {
            "text/plain": [
              "array([0, 1, 2, 3, 4, 5, 6, 7, 8, 9, 0, 1, 2, 3, 4, 5, 6, 7, 8, 9, 0, 1,\n",
              "       2, 3, 4, 5, 6, 7, 8, 9])"
            ]
          },
          "metadata": {
            "tags": []
          },
          "execution_count": 41
        }
      ]
    },
    {
      "cell_type": "code",
      "metadata": {
        "id": "lAoUOVNs6-Bz",
        "colab_type": "code",
        "colab": {}
      },
      "source": [
        ""
      ],
      "execution_count": 0,
      "outputs": []
    },
    {
      "cell_type": "code",
      "metadata": {
        "id": "U7InVyZs6-B5",
        "colab_type": "code",
        "colab": {}
      },
      "source": [
        ""
      ],
      "execution_count": 0,
      "outputs": []
    },
    {
      "cell_type": "code",
      "metadata": {
        "id": "ETGTjCb16-B_",
        "colab_type": "code",
        "colab": {}
      },
      "source": [
        ""
      ],
      "execution_count": 0,
      "outputs": []
    },
    {
      "cell_type": "code",
      "metadata": {
        "id": "Aid2kaRK6-CC",
        "colab_type": "code",
        "colab": {}
      },
      "source": [
        ""
      ],
      "execution_count": 0,
      "outputs": []
    },
    {
      "cell_type": "code",
      "metadata": {
        "id": "cKmTP_4J6-CI",
        "colab_type": "code",
        "colab": {}
      },
      "source": [
        ""
      ],
      "execution_count": 0,
      "outputs": []
    }
  ]
}