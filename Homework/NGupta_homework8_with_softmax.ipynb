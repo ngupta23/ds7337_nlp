{
  "nbformat": 4,
  "nbformat_minor": 0,
  "metadata": {
    "colab": {
      "name": "HW8.ipynb",
      "provenance": [],
      "include_colab_link": true
    },
    "kernelspec": {
      "name": "python3",
      "display_name": "Python 3"
    },
    "accelerator": "GPU"
  },
  "cells": [
    {
      "cell_type": "markdown",
      "metadata": {
        "id": "view-in-github",
        "colab_type": "text"
      },
      "source": [
        "<a href=\"https://colab.research.google.com/github/ngupta23/ds7337_nlp/blob/master/Homework/NGupta_homework8_with_softmax.ipynb\" target=\"_parent\"><img src=\"https://colab.research.google.com/assets/colab-badge.svg\" alt=\"Open In Colab\"/></a>"
      ]
    },
    {
      "cell_type": "markdown",
      "metadata": {
        "id": "SJJeVcMfIVfM",
        "colab_type": "text"
      },
      "source": [
        "Homework 8.\n",
        "Utilize the Universal Sentence encoder to build a model for the following dataset.  Note--we want to POLARITY not Sentiment column, although the data is setup correctly already\n",
        "\n"
      ]
    },
    {
      "cell_type": "markdown",
      "metadata": {
        "id": "ejy9lfSdAgkR",
        "colab_type": "text"
      },
      "source": [
        "# Load Libraries"
      ]
    },
    {
      "cell_type": "code",
      "metadata": {
        "id": "SnSagSn_zOuv",
        "colab_type": "code",
        "colab": {
          "base_uri": "https://localhost:8080/",
          "height": 35
        },
        "outputId": "2f38b9ad-a60e-4d3a-acd1-1f155272c284"
      },
      "source": [
        "import os\n",
        "import re\n",
        "from typing import List, Tuple\n",
        "\n",
        "import numpy as np\n",
        "import pandas as pd\n",
        "\n",
        "import matplotlib.pyplot as plt\n",
        "%matplotlib inline\n",
        "\n",
        "import tensorflow as tf\n",
        "import tensorflow_hub as hub\n",
        "from tensorflow.keras.models import Model\n",
        "from tensorflow.keras.layers import Input, Dense, Dropout\n",
        "print(tf.__version__)"
      ],
      "execution_count": 1,
      "outputs": [
        {
          "output_type": "stream",
          "text": [
            "2.3.0\n"
          ],
          "name": "stdout"
        }
      ]
    },
    {
      "cell_type": "markdown",
      "metadata": {
        "id": "ftH18sMnAdx_",
        "colab_type": "text"
      },
      "source": [
        "# Load Data"
      ]
    },
    {
      "cell_type": "code",
      "metadata": {
        "id": "VKkRW386zaQW",
        "colab_type": "code",
        "colab": {
          "base_uri": "https://localhost:8080/",
          "height": 206
        },
        "outputId": "5ebc099c-c694-49f4-bec1-e8841e196f4f"
      },
      "source": [
        "# Load all files from a directory in a DataFrame.\n",
        "def load_directory_data(directory):\n",
        "  data = {}\n",
        "  data[\"sentence\"] = []\n",
        "  data[\"sentiment\"] = []\n",
        "  for file_path in os.listdir(directory):\n",
        "    with tf.io.gfile.GFile(os.path.join(directory, file_path), \"r\") as f:\n",
        "      data[\"sentence\"].append(f.read())\n",
        "      data[\"sentiment\"].append(re.match(\"\\d+_(\\d+)\\.txt\", file_path).group(1))\n",
        "  return pd.DataFrame.from_dict(data)\n",
        "\n",
        "# Merge positive and negative examples, add a polarity column and shuffle.\n",
        "def load_dataset(directory):\n",
        "  pos_df = load_directory_data(os.path.join(directory, \"pos\"))\n",
        "  neg_df = load_directory_data(os.path.join(directory, \"neg\"))\n",
        "  pos_df[\"polarity\"] = 1\n",
        "  neg_df[\"polarity\"] = 0\n",
        "  return pd.concat([pos_df, neg_df]).sample(frac=1).reset_index(drop=True)\n",
        "\n",
        "# Download and process the dataset files.\n",
        "def download_and_load_datasets(force_download=False):\n",
        "  dataset = tf.keras.utils.get_file(\n",
        "      fname=\"aclImdb.tar.gz\", \n",
        "      origin=\"http://ai.stanford.edu/~amaas/data/sentiment/aclImdb_v1.tar.gz\", \n",
        "      extract=True)\n",
        "\n",
        "  train_df = load_dataset(os.path.join(os.path.dirname(dataset), \n",
        "                                       \"aclImdb\", \"train\"))\n",
        "  test_df = load_dataset(os.path.join(os.path.dirname(dataset), \n",
        "                                      \"aclImdb\", \"test\"))\n",
        "\n",
        "  return train_df, test_df\n",
        "\n",
        "# Reduce logging output.\n",
        "#tf.logging.set_verbosity(tf.logging.ERROR)\n",
        "\n",
        "train_df, test_df = download_and_load_datasets()\n",
        "train_df.head()"
      ],
      "execution_count": 2,
      "outputs": [
        {
          "output_type": "execute_result",
          "data": {
            "text/html": [
              "<div>\n",
              "<style scoped>\n",
              "    .dataframe tbody tr th:only-of-type {\n",
              "        vertical-align: middle;\n",
              "    }\n",
              "\n",
              "    .dataframe tbody tr th {\n",
              "        vertical-align: top;\n",
              "    }\n",
              "\n",
              "    .dataframe thead th {\n",
              "        text-align: right;\n",
              "    }\n",
              "</style>\n",
              "<table border=\"1\" class=\"dataframe\">\n",
              "  <thead>\n",
              "    <tr style=\"text-align: right;\">\n",
              "      <th></th>\n",
              "      <th>sentence</th>\n",
              "      <th>sentiment</th>\n",
              "      <th>polarity</th>\n",
              "    </tr>\n",
              "  </thead>\n",
              "  <tbody>\n",
              "    <tr>\n",
              "      <th>0</th>\n",
              "      <td>Season after season, the players or characters...</td>\n",
              "      <td>10</td>\n",
              "      <td>1</td>\n",
              "    </tr>\n",
              "    <tr>\n",
              "      <th>1</th>\n",
              "      <td>I find Alan Jacobs review very accurate concer...</td>\n",
              "      <td>8</td>\n",
              "      <td>1</td>\n",
              "    </tr>\n",
              "    <tr>\n",
              "      <th>2</th>\n",
              "      <td>I saw Saving Grace right after it came out on ...</td>\n",
              "      <td>10</td>\n",
              "      <td>1</td>\n",
              "    </tr>\n",
              "    <tr>\n",
              "      <th>3</th>\n",
              "      <td>Dreamquest is by far, the best porn movie I've...</td>\n",
              "      <td>10</td>\n",
              "      <td>1</td>\n",
              "    </tr>\n",
              "    <tr>\n",
              "      <th>4</th>\n",
              "      <td>I can't say much about this film. I think it s...</td>\n",
              "      <td>3</td>\n",
              "      <td>0</td>\n",
              "    </tr>\n",
              "  </tbody>\n",
              "</table>\n",
              "</div>"
            ],
            "text/plain": [
              "                                            sentence sentiment  polarity\n",
              "0  Season after season, the players or characters...        10         1\n",
              "1  I find Alan Jacobs review very accurate concer...         8         1\n",
              "2  I saw Saving Grace right after it came out on ...        10         1\n",
              "3  Dreamquest is by far, the best porn movie I've...        10         1\n",
              "4  I can't say much about this film. I think it s...         3         0"
            ]
          },
          "metadata": {
            "tags": []
          },
          "execution_count": 2
        }
      ]
    },
    {
      "cell_type": "markdown",
      "metadata": {
        "id": "nbCaeLMeAjeX",
        "colab_type": "text"
      },
      "source": [
        "# Train and Validation Splits"
      ]
    },
    {
      "cell_type": "code",
      "metadata": {
        "id": "0I-sokaZz5T8",
        "colab_type": "code",
        "colab": {}
      },
      "source": [
        "# Create datasets (Only take up to 150 words for memory)\n",
        "NUM_CHARS = 150\n",
        "train_text = train_df['sentence'].tolist()\n",
        "train_text = [' '.join(t.split()[0:NUM_CHARS]) for t in train_text]\n",
        "train_text = np.array(train_text, dtype=object)[:, np.newaxis]\n",
        "train_label = train_df['polarity']\n",
        "\n",
        "test_text = test_df['sentence'].tolist()\n",
        "test_text = [' '.join(t.split()[0:NUM_CHARS]) for t in test_text]\n",
        "test_text = np.array(test_text, dtype=object)[:, np.newaxis]\n",
        "test_label = test_df['polarity']"
      ],
      "execution_count": 3,
      "outputs": []
    },
    {
      "cell_type": "code",
      "metadata": {
        "id": "PE3zupEO0zyv",
        "colab_type": "code",
        "colab": {
          "base_uri": "https://localhost:8080/",
          "height": 54
        },
        "outputId": "064d324c-ac4b-4e31-f960-0b96ff10b069"
      },
      "source": [
        "print(len(train_text), len(train_label))\n",
        "print(len(test_text), len(test_label))"
      ],
      "execution_count": 4,
      "outputs": [
        {
          "output_type": "stream",
          "text": [
            "25000 25000\n",
            "25000 25000\n"
          ],
          "name": "stdout"
        }
      ]
    },
    {
      "cell_type": "code",
      "metadata": {
        "id": "Mw6E2jDR1G7Z",
        "colab_type": "code",
        "colab": {
          "base_uri": "https://localhost:8080/",
          "height": 35
        },
        "outputId": "d51b3df1-a751-4d07-cb20-2e84cc0e6221"
      },
      "source": [
        "train_text[0].shape"
      ],
      "execution_count": 5,
      "outputs": [
        {
          "output_type": "execute_result",
          "data": {
            "text/plain": [
              "(1,)"
            ]
          },
          "metadata": {
            "tags": []
          },
          "execution_count": 5
        }
      ]
    },
    {
      "cell_type": "code",
      "metadata": {
        "id": "qUGA8Shz_8ub",
        "colab_type": "code",
        "colab": {
          "base_uri": "https://localhost:8080/",
          "height": 35
        },
        "outputId": "7cd5b6f6-cbe8-40fb-9442-94cb6fe3fe74"
      },
      "source": [
        "use_test = hub.load(\"https://tfhub.dev/google/universal-sentence-encoder/4\")\n",
        "sentence_encoding = use_test([\"This is a test of USE\"])\n",
        "sentence_encoding.shape"
      ],
      "execution_count": 6,
      "outputs": [
        {
          "output_type": "execute_result",
          "data": {
            "text/plain": [
              "TensorShape([1, 512])"
            ]
          },
          "metadata": {
            "tags": []
          },
          "execution_count": 6
        }
      ]
    },
    {
      "cell_type": "code",
      "metadata": {
        "id": "tThiuZ0hBDoj",
        "colab_type": "code",
        "colab": {
          "base_uri": "https://localhost:8080/",
          "height": 1000
        },
        "outputId": "784160c6-6a9e-49b5-84a1-4c1b05c44491"
      },
      "source": [
        "print(sentence_encoding)"
      ],
      "execution_count": 7,
      "outputs": [
        {
          "output_type": "stream",
          "text": [
            "tf.Tensor(\n",
            "[[-8.41595232e-03 -5.61952703e-02 -4.07758318e-02 -2.94545945e-02\n",
            "  -4.88133729e-02 -7.73191154e-02 -1.81259564e-03  3.17418166e-02\n",
            "   4.34551425e-02  4.00216877e-03  1.36102820e-02 -1.15882112e-02\n",
            "   6.16076216e-02 -2.87124584e-03  3.92416082e-02  2.57035792e-02\n",
            "   2.41553877e-03  3.72053608e-02  1.08773699e-02 -5.01606390e-02\n",
            "   3.74448746e-02 -2.02413765e-03 -5.03091924e-02 -1.17291445e-02\n",
            "  -4.35480587e-02  1.77046638e-02  2.77202819e-02 -6.90487027e-02\n",
            "   2.61135884e-02 -8.04910958e-02  4.13932502e-02 -8.80538151e-02\n",
            "  -8.11734819e-04 -1.49555169e-02 -8.64357222e-03  8.20124075e-02\n",
            "  -8.62774497e-04 -8.40719640e-02  2.60526314e-02  5.91145493e-02\n",
            "  -2.58402415e-02 -4.03626189e-02 -2.41041593e-02 -3.43766361e-02\n",
            "  -1.90319698e-02 -2.09738836e-02 -3.37156504e-02  2.57028062e-02\n",
            "   2.88378075e-02 -4.60337326e-02  4.56407443e-02 -6.84338734e-02\n",
            "  -1.07607335e-01 -1.13632744e-02  5.83538711e-02 -5.85528612e-02\n",
            "   4.22572531e-02 -3.68575789e-02 -2.22314578e-02  7.40067810e-02\n",
            "  -3.40473535e-03 -1.38903838e-02  3.89564224e-02 -5.62480418e-03\n",
            "   5.19611873e-02  2.67319102e-02 -2.28184592e-02  2.32509710e-03\n",
            "   2.39956714e-02 -5.26769012e-02 -2.09259950e-02 -9.94129200e-03\n",
            "   8.36182684e-02  9.26673820e-04 -9.72276852e-02 -5.62084392e-02\n",
            "   5.60493767e-02 -6.02288246e-02  1.54360756e-02 -4.34481129e-02\n",
            "   5.90509698e-02  9.14824754e-03  3.17269842e-05 -1.86191965e-02\n",
            "  -6.10617585e-02 -4.11134809e-02 -3.59302461e-02 -3.01854648e-02\n",
            "   2.01642849e-02  6.07887167e-04 -6.54652864e-02 -5.06452173e-02\n",
            "  -4.78138775e-02  5.10746092e-02  3.92328203e-02 -9.64020472e-03\n",
            "   3.51904556e-02  3.53807397e-02 -3.67976539e-02 -7.07344636e-02\n",
            "   1.01803746e-02 -5.83074205e-02  6.86816052e-02 -1.27671827e-02\n",
            "   6.18424527e-02 -3.48051898e-02 -1.51259173e-02  2.11936552e-02\n",
            "  -1.10745560e-02 -5.63332774e-02 -4.37623225e-02  6.49635792e-02\n",
            "   3.55737843e-02  2.10626759e-02  3.15042958e-02 -3.91264223e-02\n",
            "   4.16855188e-03  1.24564124e-02 -3.47646810e-02  1.09227255e-01\n",
            "   1.09130414e-02 -5.96780516e-03 -6.93856254e-02 -2.11364720e-02\n",
            "   2.87802722e-02  5.65553047e-02 -1.11440988e-02  1.47834225e-02\n",
            "  -3.59674394e-02  1.88762415e-02  9.92692355e-03  6.43598139e-02\n",
            "  -7.74256536e-04 -2.50892378e-02 -4.43543941e-02 -1.78043917e-02\n",
            "  -1.79441888e-02 -7.87852108e-02 -1.20770507e-01 -3.61405350e-02\n",
            "   3.06381099e-02 -8.45672786e-02  1.24534108e-02 -3.55505981e-02\n",
            "  -3.59323919e-02 -2.80823335e-02  1.47151630e-02  2.77208686e-02\n",
            "   4.49243970e-02 -2.06737928e-02  1.05009563e-01 -3.55849043e-02\n",
            "  -1.02119930e-01 -2.00549737e-02  1.76399332e-02 -3.43737639e-02\n",
            "   4.40251268e-02  5.14722466e-02  4.55366960e-03  1.23800775e-02\n",
            "  -1.31807905e-02  4.70833480e-02  1.83649696e-02  2.84119062e-02\n",
            "  -2.90706810e-02  7.29818046e-02 -1.03821270e-02  6.03180230e-02\n",
            "  -4.66608517e-02 -4.84096520e-02 -6.93331659e-03  4.38094437e-02\n",
            "  -9.71214939e-03 -2.57737655e-02 -6.42652903e-03  1.62478648e-02\n",
            "   8.17790553e-02  3.82690434e-03  2.04354804e-02 -6.47575175e-03\n",
            "  -8.92038643e-03 -1.16957473e-02  4.28901948e-02  4.40002047e-02\n",
            "  -2.18019057e-02  3.60826887e-02  3.56703103e-02  4.15498652e-02\n",
            "  -4.71268632e-02  1.21797789e-02  7.95373321e-02  4.31930646e-03\n",
            "  -4.32278179e-02  6.28438592e-02 -4.36301045e-02 -4.32432145e-02\n",
            "  -1.68021265e-02  5.78126758e-02  2.28020027e-02  5.84950745e-02\n",
            "  -4.10489850e-02  5.82404993e-02 -4.21124995e-02 -6.90974370e-02\n",
            "   6.60609007e-02 -4.49842401e-02  1.05543301e-01 -1.91783030e-02\n",
            "   1.27263321e-02  5.03206812e-02 -6.87444806e-02  1.79923861e-03\n",
            "  -5.98539002e-02 -3.32616121e-02 -3.16998065e-02 -7.51500130e-02\n",
            "  -1.05993347e-02 -4.70773838e-02  8.11364725e-02  9.88428388e-03\n",
            "   2.59099124e-05 -2.92599946e-02  1.95677895e-02 -2.59947628e-02\n",
            "   5.16465418e-02  1.52029302e-02  2.37420723e-02  9.99424458e-02\n",
            "  -5.38332667e-03 -6.39702678e-02  5.34133578e-04 -3.97849940e-02\n",
            "  -1.24244895e-02  1.29965574e-01 -2.50963736e-02  2.03851499e-02\n",
            "  -3.53606767e-04 -3.32191139e-02 -8.77786148e-03 -1.84013862e-02\n",
            "  -6.92613274e-02 -2.88344789e-02  5.08372188e-02  2.75098458e-02\n",
            "  -3.44659686e-02 -5.78301493e-03 -3.02664693e-02 -7.10717142e-02\n",
            "   5.42826988e-02  6.17227610e-03 -5.04598692e-02 -2.39929408e-02\n",
            "  -7.81510323e-02  3.83416936e-02  1.87294595e-02  8.78797099e-03\n",
            "  -7.73031190e-02 -6.99918950e-03 -2.41160709e-02 -1.84017196e-02\n",
            "   1.49929104e-02  2.90503372e-02  1.23560149e-02 -3.88319865e-02\n",
            "  -5.74667640e-02 -1.01735517e-01  1.28002942e-03  4.67594005e-02\n",
            "  -2.72684190e-02  1.24613727e-02  5.13654277e-02  8.39758888e-02\n",
            "  -2.03677416e-02  3.30644995e-02  6.04409762e-02 -2.13868078e-02\n",
            "  -3.26715643e-03 -2.85785310e-02  3.56591344e-02 -5.49096353e-02\n",
            "  -3.53794619e-02 -7.51344711e-02  1.01716258e-02  5.68574034e-02\n",
            "  -4.33582201e-04  5.06063141e-02  3.15913670e-02  6.98325783e-02\n",
            "  -1.94559135e-02  1.70640424e-02  3.59607972e-02  4.39325087e-02\n",
            "  -4.22218144e-02  3.07616219e-02  3.78959253e-02  1.04433270e-02\n",
            "  -8.95685633e-04 -2.33996827e-02 -6.39446313e-04  2.15541553e-02\n",
            "   2.41664052e-02  4.59828880e-03 -3.51856351e-02 -5.12643903e-02\n",
            "   2.30199657e-02  7.81102628e-02  6.73570335e-02  2.80724522e-02\n",
            "   2.38620713e-02 -4.04572934e-02 -6.98162913e-02 -6.81555318e-03\n",
            "   6.51161512e-03  5.01712486e-02 -2.95547191e-02  8.87373276e-03\n",
            "   7.57652819e-02  8.53533857e-03 -3.27898413e-02 -5.23479134e-02\n",
            "  -3.82621624e-02  1.16331000e-02 -4.73870225e-02  7.67445564e-02\n",
            "  -3.77339013e-02 -2.27343850e-03  4.85528037e-02  3.34122404e-02\n",
            "  -5.47638945e-02 -7.60800987e-02 -1.92446727e-02  4.74581160e-02\n",
            "  -6.65906444e-02 -8.12679529e-02 -6.52619749e-02 -2.08767038e-02\n",
            "   2.00474989e-02  3.73320170e-02 -2.55591772e-03 -6.41808361e-02\n",
            "  -1.09520387e-02  8.07757825e-02 -2.72577871e-02  4.12353575e-02\n",
            "  -1.10016204e-02 -1.40019879e-02  8.26071128e-02  7.05639049e-02\n",
            "  -6.21927008e-02  4.67748083e-02  2.44966652e-02 -2.33252179e-02\n",
            "   1.41649041e-02 -2.68191621e-02 -3.15115452e-02 -9.97501090e-02\n",
            "  -9.26995873e-02 -6.50990847e-03 -1.42806973e-02  1.09074609e-02\n",
            "  -6.55427128e-02 -5.99739701e-03  5.12155779e-02 -4.38859351e-02\n",
            "  -7.03215192e-04  5.21247101e-04  2.97861211e-02  4.84548397e-02\n",
            "   5.40187433e-02  1.34318415e-02  4.53165844e-02 -6.37681782e-02\n",
            "   2.01060064e-02 -4.80505696e-05 -4.60516810e-02 -6.92376271e-02\n",
            "  -1.26997959e-02 -2.52045365e-03 -4.43180315e-02  2.76977494e-02\n",
            "   2.72899959e-02  4.87876870e-03 -6.02716468e-02  9.01133567e-02\n",
            "  -5.91413751e-02  5.48393056e-02 -7.89752454e-02 -4.25202809e-02\n",
            "  -3.39594148e-02  6.57913610e-02  7.46485591e-02 -2.33175437e-04\n",
            "  -4.70083728e-02 -6.15053903e-03  3.44515755e-03 -3.12406644e-02\n",
            "   3.11889760e-02 -9.02625918e-02 -5.38930818e-02  7.11136637e-03\n",
            "   2.12580040e-02 -2.12797076e-02 -1.82177138e-03 -5.46404645e-02\n",
            "  -4.75250445e-02  3.00215725e-02 -1.36602614e-02  2.87261102e-02\n",
            "  -3.37450691e-02  4.58422787e-02  9.79357362e-02  3.57098654e-02\n",
            "  -2.59593427e-02 -8.54106620e-03 -4.53271857e-03 -5.21941744e-02\n",
            "   3.17213428e-03 -4.65620868e-02  3.08062658e-02 -4.17710654e-02\n",
            "   2.94948760e-02 -9.00274515e-02 -1.33359116e-02 -4.41836566e-02\n",
            "  -7.81199709e-02 -6.25602156e-02 -4.22455184e-02 -1.16567547e-02\n",
            "  -1.21948617e-02 -6.28577992e-02  7.59188384e-02 -4.07075062e-02\n",
            "   4.45926599e-02  6.90852776e-02  3.91470492e-02 -8.15527793e-03\n",
            "   5.39654493e-03  7.09954556e-03  6.00581802e-02 -5.79455309e-02\n",
            "   6.63711363e-03 -8.58804807e-02 -1.23952562e-02 -5.51763587e-02\n",
            "   1.89790837e-02  3.54787335e-02  7.30806291e-02  1.14733959e-02\n",
            "  -5.02733849e-02  3.54182348e-02  3.10054440e-02  1.58546790e-02\n",
            "   4.76714671e-02  8.00444186e-02 -3.38459127e-02  3.41107622e-02\n",
            "  -5.19618345e-03 -4.39540017e-03 -2.65329219e-02 -1.46039557e-02\n",
            "  -5.15872277e-02  3.81161384e-02 -1.43448832e-02 -4.78543043e-02\n",
            "  -2.10392140e-02 -8.45219567e-03 -4.12681475e-02  6.47334708e-03\n",
            "   1.67864710e-02 -3.14845964e-02  1.44786593e-02  8.36382955e-02\n",
            "  -1.96370389e-02 -8.62746406e-03 -8.41313135e-03 -3.16391401e-02\n",
            "  -5.06396070e-02  4.38010116e-04  2.64246128e-02  3.09094097e-02\n",
            "  -1.11917490e-02 -9.20753106e-02  5.69460019e-02 -1.39837870e-02\n",
            "  -3.93683352e-02  4.36956286e-02 -6.97391778e-02  5.25324047e-02\n",
            "   4.28410918e-02  3.45223397e-02  9.37121734e-03 -2.21466087e-02\n",
            "   1.84365809e-02 -2.64307261e-02  5.80153912e-02  1.19070718e-02\n",
            "   4.74180281e-02  1.00921430e-02  4.77917120e-02  3.15896794e-02\n",
            "  -4.70190728e-03 -1.64396986e-02 -9.84807611e-02 -3.42224352e-02\n",
            "   2.03589760e-02 -3.42778489e-02  5.71957380e-02  4.46050540e-02\n",
            "  -4.26811464e-02 -4.63186949e-02  1.46803064e-02  3.76948416e-02]], shape=(1, 512), dtype=float32)\n"
          ],
          "name": "stdout"
        }
      ]
    },
    {
      "cell_type": "markdown",
      "metadata": {
        "id": "cs5F_8aYAP_X",
        "colab_type": "text"
      },
      "source": [
        "# Training"
      ]
    },
    {
      "cell_type": "code",
      "metadata": {
        "id": "09QUYJegC3cP",
        "colab_type": "code",
        "colab": {
          "base_uri": "https://localhost:8080/",
          "height": 35
        },
        "outputId": "807f1a96-79bf-4399-ee24-b3aeb6bfdc1e"
      },
      "source": [
        "classes = set(list(set(train_label)) + list(set(test_label)))\n",
        "classes"
      ],
      "execution_count": 8,
      "outputs": [
        {
          "output_type": "execute_result",
          "data": {
            "text/plain": [
              "{0, 1}"
            ]
          },
          "metadata": {
            "tags": []
          },
          "execution_count": 8
        }
      ]
    },
    {
      "cell_type": "code",
      "metadata": {
        "id": "RS0I8x9k9vKP",
        "colab_type": "code",
        "colab": {
          "base_uri": "https://localhost:8080/",
          "height": 35
        },
        "outputId": "946d9363-b4ea-429b-97b3-262b4f50a2f4"
      },
      "source": [
        "NUM_CLASSES = len(classes)\n",
        "NUM_CLASSES"
      ],
      "execution_count": 9,
      "outputs": [
        {
          "output_type": "execute_result",
          "data": {
            "text/plain": [
              "2"
            ]
          },
          "metadata": {
            "tags": []
          },
          "execution_count": 9
        }
      ]
    },
    {
      "cell_type": "code",
      "metadata": {
        "id": "e9TYi4iy_FU_",
        "colab_type": "code",
        "colab": {}
      },
      "source": [
        "def plot_metrics(history: tf.python.keras.callbacks.History, metrics: List[str] = ['loss'], figsize: Tuple[int, int] = (10,4), title: str = \"Train/Test Curves\", titlefontsize:int = 14):\n",
        "  \"\"\"\n",
        "  This functin will plot the metrics for the model\n",
        "  :param history: The history object obtained from the fit function.\n",
        "  :type history: tf.python.keras.callbacks.History\n",
        "  :param metrics: What metrics to plot for the model (Default = ['loss'])\n",
        "  :type metrics: List[str]\n",
        "  :param figsize: Figure size to be used for plotting (Default = (10,4))\n",
        "  :type figsize: Tuple(int,int)\n",
        "  \"\"\"\n",
        "  num_plots = len(metrics)\n",
        "  fig, axes = plt.subplots(int(num_plots/2), 2, figsize=figsize)\n",
        "\n",
        "  for num, metric in enumerate(metrics):\n",
        "    # summarize history for metric\n",
        "    if num <= 2:\n",
        "      axes[num%2].plot(history.history[metric])\n",
        "      axes[num%2].plot(history.history['val_' + metric])\n",
        "      axes[num%2].set_title('Model ' + metric)\n",
        "      axes[num%2].set(xlabel='Epoch', ylabel=metric)\n",
        "      axes[num%2].legend(['train', 'val'], loc='best')    \n",
        "    else:\n",
        "      axes[floor(num/2), num%2].plot(history.history[metric])\n",
        "      axes[floor(num/2), num%2].plot(history.history['val_' + metric])\n",
        "      axes[floor(num/2), num%2].set_title('Model ' + metric)\n",
        "      axes[floor(num/2), num%2].set(xlabel='Epoch', ylabel=metric)\n",
        "      axes[floor(num/2), num%2].legend(['train', 'val'], loc='best')\n",
        "\n",
        "  plt.suptitle(title, fontsize=titlefontsize, y=1.02)    \n",
        "  plt.tight_layout()\n",
        "  _ = plt.show"
      ],
      "execution_count": 10,
      "outputs": []
    },
    {
      "cell_type": "code",
      "metadata": {
        "id": "EMhhh-uPBpeM",
        "colab_type": "code",
        "colab": {}
      },
      "source": [
        "# After experimentation, I found that you can generally get a better validation accuracy id we allow the USE to be trainable.\n",
        "# But this comes at the cost of training time. It is not appreciably high but higher nonetheless compared to trainable=False.\n",
        "USE = hub.KerasLayer(\"https://tfhub.dev/google/universal-sentence-encoder/4\",trainable=False)"
      ],
      "execution_count": 11,
      "outputs": []
    },
    {
      "cell_type": "code",
      "metadata": {
        "id": "i0vqrmfYkp2U",
        "colab_type": "code",
        "colab": {
          "base_uri": "https://localhost:8080/",
          "height": 384
        },
        "outputId": "5b530e44-c6fa-4f13-da21-a5c04612900a"
      },
      "source": [
        "\"\"\"\n",
        "OOPS I DELETED ALL MY CODE!!  I guess you have to build a network that will do sentiment analysis with \n",
        "the Universal Sentance Encoder (USE) from above!\n",
        "\n",
        "Note that USE layer can be utilized with Sequential() or Model()\n",
        "\"\"\"\n",
        "\n",
        "# This is useful to debug the issues with input shape: https://github.com/tensorflow/hub/issues/526\n",
        "input_text = Input(shape=[], name='sentence',dtype=tf.string)\n",
        "embedding = USE(input_text)\n",
        "\n",
        "# Model was overfitting, so I decided to add a dropout layer after the embedding as well\n",
        "# This led to a small bump in the Validation accuracy. This could be removed if needed.\n",
        "dropout = Dropout(0.2)(embedding) \n",
        "dense = Dense(100, activation='relu')(dropout)\n",
        "dropout = Dropout(0.2)(dense)\n",
        "pred = Dense(NUM_CLASSES, activation='softmax')(dropout)\n",
        "model = Model(inputs=[input_text], outputs=pred)\n",
        "\n",
        "model.summary()\n",
        "tf.keras.utils.plot_model(model, show_shapes=True, dpi=100)\n",
        "\n",
        "loss = tf.keras.losses.SparseCategoricalCrossentropy()\n",
        "model.compile(loss=loss, optimizer='adam', metrics=['accuracy'])"
      ],
      "execution_count": 12,
      "outputs": [
        {
          "output_type": "stream",
          "text": [
            "Model: \"functional_1\"\n",
            "_________________________________________________________________\n",
            "Layer (type)                 Output Shape              Param #   \n",
            "=================================================================\n",
            "sentence (InputLayer)        [(None,)]                 0         \n",
            "_________________________________________________________________\n",
            "keras_layer (KerasLayer)     (None, 512)               256797824 \n",
            "_________________________________________________________________\n",
            "dropout (Dropout)            (None, 512)               0         \n",
            "_________________________________________________________________\n",
            "dense (Dense)                (None, 100)               51300     \n",
            "_________________________________________________________________\n",
            "dropout_1 (Dropout)          (None, 100)               0         \n",
            "_________________________________________________________________\n",
            "dense_1 (Dense)              (None, 2)                 202       \n",
            "=================================================================\n",
            "Total params: 256,849,326\n",
            "Trainable params: 51,502\n",
            "Non-trainable params: 256,797,824\n",
            "_________________________________________________________________\n"
          ],
          "name": "stdout"
        }
      ]
    },
    {
      "cell_type": "code",
      "metadata": {
        "id": "Xxinq6E3CF7L",
        "colab_type": "code",
        "colab": {
          "base_uri": "https://localhost:8080/",
          "height": 54
        },
        "outputId": "db24e93f-8ea7-4922-aa1b-80242807a01f"
      },
      "source": [
        "# Sample\n",
        "model.predict(tf.convert_to_tensor([\"the cat is on the mat\", \"dogs are in the fog\"]))"
      ],
      "execution_count": 13,
      "outputs": [
        {
          "output_type": "execute_result",
          "data": {
            "text/plain": [
              "array([[0.45677698, 0.54322296],\n",
              "       [0.49490967, 0.50509036]], dtype=float32)"
            ]
          },
          "metadata": {
            "tags": []
          },
          "execution_count": 13
        }
      ]
    },
    {
      "cell_type": "code",
      "metadata": {
        "id": "4B5kD4k6KOuO",
        "colab_type": "code",
        "colab": {}
      },
      "source": [
        "from tensorflow.keras.callbacks import EarlyStopping\n",
        "# If validation error does not improve for 10 epochs, then terminate the training\n",
        "es = EarlyStopping(min_delta=0, patience=3)\n",
        "\n",
        "from tensorflow.keras.callbacks import ModelCheckpoint\n",
        "# add a checkpoint to save the lowest validation loss\n",
        "filepath = '.'\n",
        "checkpoint = ModelCheckpoint(filepath, monitor='val_loss', verbose=1, \n",
        "                             save_best_only=True, save_weights_only=False, \n",
        "                             mode='auto', save_frequency=1)"
      ],
      "execution_count": 14,
      "outputs": []
    },
    {
      "cell_type": "code",
      "metadata": {
        "id": "jkC_xN2t-FQt",
        "colab_type": "code",
        "colab": {
          "base_uri": "https://localhost:8080/",
          "height": 1000
        },
        "outputId": "0f3b3a20-78c7-403d-e5f0-dfc7039f401f"
      },
      "source": [
        "BATCH_SIZE = 64\n",
        "EPOCHS = 10\n",
        "history = model.fit(\n",
        "    train_text, train_label,\n",
        "    validation_data=(test_text, test_label),\n",
        "    batch_size=BATCH_SIZE,\n",
        "    epochs=EPOCHS,\n",
        "    callbacks=[es, checkpoint]    \n",
        "    )"
      ],
      "execution_count": 15,
      "outputs": [
        {
          "output_type": "stream",
          "text": [
            "Epoch 1/10\n",
            "391/391 [==============================] - ETA: 0s - loss: 0.4432 - accuracy: 0.7978\n",
            "Epoch 00001: val_loss improved from inf to 0.38632, saving model to .\n",
            "WARNING:tensorflow:From /usr/local/lib/python3.6/dist-packages/tensorflow/python/training/tracking/tracking.py:111: Model.state_updates (from tensorflow.python.keras.engine.training) is deprecated and will be removed in a future version.\n",
            "Instructions for updating:\n",
            "This property should not be used in TensorFlow 2.0, as updates are applied automatically.\n"
          ],
          "name": "stdout"
        },
        {
          "output_type": "stream",
          "text": [
            "WARNING:tensorflow:From /usr/local/lib/python3.6/dist-packages/tensorflow/python/training/tracking/tracking.py:111: Model.state_updates (from tensorflow.python.keras.engine.training) is deprecated and will be removed in a future version.\n",
            "Instructions for updating:\n",
            "This property should not be used in TensorFlow 2.0, as updates are applied automatically.\n"
          ],
          "name": "stderr"
        },
        {
          "output_type": "stream",
          "text": [
            "WARNING:tensorflow:From /usr/local/lib/python3.6/dist-packages/tensorflow/python/training/tracking/tracking.py:111: Layer.updates (from tensorflow.python.keras.engine.base_layer) is deprecated and will be removed in a future version.\n",
            "Instructions for updating:\n",
            "This property should not be used in TensorFlow 2.0, as updates are applied automatically.\n"
          ],
          "name": "stdout"
        },
        {
          "output_type": "stream",
          "text": [
            "WARNING:tensorflow:From /usr/local/lib/python3.6/dist-packages/tensorflow/python/training/tracking/tracking.py:111: Layer.updates (from tensorflow.python.keras.engine.base_layer) is deprecated and will be removed in a future version.\n",
            "Instructions for updating:\n",
            "This property should not be used in TensorFlow 2.0, as updates are applied automatically.\n"
          ],
          "name": "stderr"
        },
        {
          "output_type": "stream",
          "text": [
            "INFO:tensorflow:Assets written to: ./assets\n"
          ],
          "name": "stdout"
        },
        {
          "output_type": "stream",
          "text": [
            "INFO:tensorflow:Assets written to: ./assets\n"
          ],
          "name": "stderr"
        },
        {
          "output_type": "stream",
          "text": [
            "391/391 [==============================] - 35s 89ms/step - loss: 0.4432 - accuracy: 0.7978 - val_loss: 0.3863 - val_accuracy: 0.8230\n",
            "Epoch 2/10\n",
            "391/391 [==============================] - ETA: 0s - loss: 0.3983 - accuracy: 0.8168\n",
            "Epoch 00002: val_loss improved from 0.38632 to 0.38055, saving model to .\n",
            "INFO:tensorflow:Assets written to: ./assets\n"
          ],
          "name": "stdout"
        },
        {
          "output_type": "stream",
          "text": [
            "INFO:tensorflow:Assets written to: ./assets\n"
          ],
          "name": "stderr"
        },
        {
          "output_type": "stream",
          "text": [
            "\b\b\b\b\b\b\b\b\b\b\b\b\b\b\b\b\b\b\b\b\b\b\b\b\b\b\b\b\b\b\b\b\b\b\b\b\b\b\b\b\b\b\b\b\b\b\b\b\b\b\b\b\b\b\b\b\b\b\b\b\b\b\b\b\b\b\b\b\b\b\b\b\b\b\b\b\b\b\b\b\b\b\b\b\r391/391 [==============================] - 34s 87ms/step - loss: 0.3983 - accuracy: 0.8168 - val_loss: 0.3805 - val_accuracy: 0.8260\n",
            "Epoch 3/10\n",
            "390/391 [============================>.] - ETA: 0s - loss: 0.3919 - accuracy: 0.8228\n",
            "Epoch 00003: val_loss improved from 0.38055 to 0.37695, saving model to .\n",
            "INFO:tensorflow:Assets written to: ./assets\n"
          ],
          "name": "stdout"
        },
        {
          "output_type": "stream",
          "text": [
            "INFO:tensorflow:Assets written to: ./assets\n"
          ],
          "name": "stderr"
        },
        {
          "output_type": "stream",
          "text": [
            "391/391 [==============================] - 35s 89ms/step - loss: 0.3920 - accuracy: 0.8228 - val_loss: 0.3770 - val_accuracy: 0.8261\n",
            "Epoch 4/10\n",
            "391/391 [==============================] - ETA: 0s - loss: 0.3851 - accuracy: 0.8244\n",
            "Epoch 00004: val_loss did not improve from 0.37695\n",
            "391/391 [==============================] - 26s 66ms/step - loss: 0.3851 - accuracy: 0.8244 - val_loss: 0.3873 - val_accuracy: 0.8208\n",
            "Epoch 5/10\n",
            "390/391 [============================>.] - ETA: 0s - loss: 0.3830 - accuracy: 0.8258\n",
            "Epoch 00005: val_loss improved from 0.37695 to 0.37387, saving model to .\n",
            "INFO:tensorflow:Assets written to: ./assets\n"
          ],
          "name": "stdout"
        },
        {
          "output_type": "stream",
          "text": [
            "INFO:tensorflow:Assets written to: ./assets\n"
          ],
          "name": "stderr"
        },
        {
          "output_type": "stream",
          "text": [
            "391/391 [==============================] - 35s 90ms/step - loss: 0.3830 - accuracy: 0.8259 - val_loss: 0.3739 - val_accuracy: 0.8296\n",
            "Epoch 6/10\n",
            "391/391 [==============================] - ETA: 0s - loss: 0.3740 - accuracy: 0.8324\n",
            "Epoch 00006: val_loss improved from 0.37387 to 0.37173, saving model to .\n",
            "INFO:tensorflow:Assets written to: ./assets\n"
          ],
          "name": "stdout"
        },
        {
          "output_type": "stream",
          "text": [
            "INFO:tensorflow:Assets written to: ./assets\n"
          ],
          "name": "stderr"
        },
        {
          "output_type": "stream",
          "text": [
            "391/391 [==============================] - 35s 89ms/step - loss: 0.3740 - accuracy: 0.8324 - val_loss: 0.3717 - val_accuracy: 0.8291\n",
            "Epoch 7/10\n",
            "390/391 [============================>.] - ETA: 0s - loss: 0.3717 - accuracy: 0.8313\n",
            "Epoch 00007: val_loss improved from 0.37173 to 0.37075, saving model to .\n",
            "INFO:tensorflow:Assets written to: ./assets\n"
          ],
          "name": "stdout"
        },
        {
          "output_type": "stream",
          "text": [
            "INFO:tensorflow:Assets written to: ./assets\n"
          ],
          "name": "stderr"
        },
        {
          "output_type": "stream",
          "text": [
            "391/391 [==============================] - 34s 87ms/step - loss: 0.3716 - accuracy: 0.8314 - val_loss: 0.3708 - val_accuracy: 0.8303\n",
            "Epoch 8/10\n",
            "391/391 [==============================] - ETA: 0s - loss: 0.3656 - accuracy: 0.8384\n",
            "Epoch 00008: val_loss improved from 0.37075 to 0.37058, saving model to .\n",
            "INFO:tensorflow:Assets written to: ./assets\n"
          ],
          "name": "stdout"
        },
        {
          "output_type": "stream",
          "text": [
            "INFO:tensorflow:Assets written to: ./assets\n"
          ],
          "name": "stderr"
        },
        {
          "output_type": "stream",
          "text": [
            "\b\b\b\b\b\b\b\b\b\b\b\b\b\b\b\b\b\b\b\b\b\b\b\b\b\b\b\b\b\b\b\b\b\b\b\b\b\b\b\b\b\b\b\b\b\b\b\b\b\b\b\b\b\b\b\b\b\b\b\b\b\b\b\b\b\b\b\b\b\b\b\b\b\b\b\b\b\b\b\b\b\b\b\b\r391/391 [==============================] - 35s 88ms/step - loss: 0.3656 - accuracy: 0.8384 - val_loss: 0.3706 - val_accuracy: 0.8302\n",
            "Epoch 9/10\n",
            "391/391 [==============================] - ETA: 0s - loss: 0.3608 - accuracy: 0.8404\n",
            "Epoch 00009: val_loss did not improve from 0.37058\n",
            "391/391 [==============================] - 26s 66ms/step - loss: 0.3608 - accuracy: 0.8404 - val_loss: 0.3747 - val_accuracy: 0.8275\n",
            "Epoch 10/10\n",
            "391/391 [==============================] - ETA: 0s - loss: 0.3570 - accuracy: 0.8406\n",
            "Epoch 00010: val_loss improved from 0.37058 to 0.37013, saving model to .\n",
            "INFO:tensorflow:Assets written to: ./assets\n"
          ],
          "name": "stdout"
        },
        {
          "output_type": "stream",
          "text": [
            "INFO:tensorflow:Assets written to: ./assets\n"
          ],
          "name": "stderr"
        },
        {
          "output_type": "stream",
          "text": [
            "\b\b\b\b\b\b\b\b\b\b\b\b\b\b\b\b\b\b\b\b\b\b\b\b\b\b\b\b\b\b\b\b\b\b\b\b\b\b\b\b\b\b\b\b\b\b\b\b\b\b\b\b\b\b\b\b\b\b\b\b\b\b\b\b\b\b\b\b\b\b\b\b\b\b\b\b\b\b\b\b\b\b\b\b\r391/391 [==============================] - 35s 89ms/step - loss: 0.3570 - accuracy: 0.8406 - val_loss: 0.3701 - val_accuracy: 0.8322\n"
          ],
          "name": "stdout"
        }
      ]
    },
    {
      "cell_type": "code",
      "metadata": {
        "id": "0SIKhG-A_L1x",
        "colab_type": "code",
        "colab": {
          "base_uri": "https://localhost:8080/",
          "height": 314
        },
        "outputId": "31e83502-e70c-41af-8ecc-51f8500a9821"
      },
      "source": [
        "plot_metrics(\n",
        "    history,\n",
        "    metrics=['loss', 'accuracy'],\n",
        "    title = f\"Universal Sentence Encoder --> Char Length: {NUM_CHARS}, Batch Size: {BATCH_SIZE}, Epochs: {EPOCHS}\")"
      ],
      "execution_count": 16,
      "outputs": [
        {
          "output_type": "display_data",
          "data": {
            "image/png": "[encoded data removed]",
            "text/plain": [
              "<Figure size 720x288 with 2 Axes>"
            ]
          },
          "metadata": {
            "tags": [],
            "needs_background": "light"
          }
        }
      ]
    },
    {
      "cell_type": "markdown",
      "metadata": {
        "id": "A0s9p_f8BLTg",
        "colab_type": "text"
      },
      "source": [
        "# Prediction"
      ]
    },
    {
      "cell_type": "code",
      "metadata": {
        "id": "gzr1mO0FHKQD",
        "colab_type": "code",
        "colab": {
          "base_uri": "https://localhost:8080/",
          "height": 54
        },
        "outputId": "ede0c4c6-0ef5-482e-b864-2ce1f5ccd555"
      },
      "source": [
        "# Sample\n",
        "model.predict(tf.convert_to_tensor([\"the cat is on the mat\", \"dogs are in the fog\"]))"
      ],
      "execution_count": 17,
      "outputs": [
        {
          "output_type": "execute_result",
          "data": {
            "text/plain": [
              "array([[0.5636076 , 0.43639246],\n",
              "       [0.07358883, 0.9264112 ]], dtype=float32)"
            ]
          },
          "metadata": {
            "tags": []
          },
          "execution_count": 17
        }
      ]
    },
    {
      "cell_type": "code",
      "metadata": {
        "id": "wqnk6cWMF1Fc",
        "colab_type": "code",
        "colab": {
          "base_uri": "https://localhost:8080/",
          "height": 109
        },
        "outputId": "98f0b37f-18af-4b8a-a966-bd064c466444"
      },
      "source": [
        "predictions = model.predict(test_text)\n",
        "predictions[:5]"
      ],
      "execution_count": 18,
      "outputs": [
        {
          "output_type": "execute_result",
          "data": {
            "text/plain": [
              "array([[0.0716339 , 0.92836607],\n",
              "       [0.8928732 , 0.1071268 ],\n",
              "       [0.8982558 , 0.10174423],\n",
              "       [0.93427163, 0.06572835],\n",
              "       [0.00458838, 0.9954116 ]], dtype=float32)"
            ]
          },
          "metadata": {
            "tags": []
          },
          "execution_count": 18
        }
      ]
    },
    {
      "cell_type": "code",
      "metadata": {
        "id": "LpSg0j8AFy_m",
        "colab_type": "code",
        "colab": {
          "base_uri": "https://localhost:8080/",
          "height": 35
        },
        "outputId": "627e4f8b-8194-4f26-d9b6-5c7147cff023"
      },
      "source": [
        "predictions_max = tf.math.argmax(predictions, axis=1)\n",
        "predictions_max[:5]"
      ],
      "execution_count": 19,
      "outputs": [
        {
          "output_type": "execute_result",
          "data": {
            "text/plain": [
              "<tf.Tensor: shape=(5,), dtype=int64, numpy=array([1, 0, 0, 0, 1])>"
            ]
          },
          "metadata": {
            "tags": []
          },
          "execution_count": 19
        }
      ]
    },
    {
      "cell_type": "code",
      "metadata": {
        "id": "UKMqRjmqIod6",
        "colab_type": "code",
        "colab": {
          "base_uri": "https://localhost:8080/",
          "height": 127
        },
        "outputId": "67248633-edf1-4609-df66-b44e2eea18d1"
      },
      "source": [
        "test_label[0:5]"
      ],
      "execution_count": 20,
      "outputs": [
        {
          "output_type": "execute_result",
          "data": {
            "text/plain": [
              "0    1\n",
              "1    1\n",
              "2    0\n",
              "3    0\n",
              "4    1\n",
              "Name: polarity, dtype: int64"
            ]
          },
          "metadata": {
            "tags": []
          },
          "execution_count": 20
        }
      ]
    },
    {
      "cell_type": "code",
      "metadata": {
        "id": "cyFKCVA4Jw-A",
        "colab_type": "code",
        "colab": {
          "base_uri": "https://localhost:8080/",
          "height": 35
        },
        "outputId": "a1d05077-0271-4e39-e117-7176967e6c68"
      },
      "source": [
        "m = tf.keras.metrics.Accuracy()\n",
        "m.update_state(test_label, predictions_max)\n",
        "m.result().numpy()"
      ],
      "execution_count": 21,
      "outputs": [
        {
          "output_type": "execute_result",
          "data": {
            "text/plain": [
              "0.83224"
            ]
          },
          "metadata": {
            "tags": []
          },
          "execution_count": 21
        }
      ]
    },
    {
      "cell_type": "code",
      "metadata": {
        "id": "zvEhqp-QByDH",
        "colab_type": "code",
        "colab": {
          "base_uri": "https://localhost:8080/",
          "height": 146
        },
        "outputId": "8d21bcbd-5ccc-48dd-af07-3ee89ab68052"
      },
      "source": [
        "predictions"
      ],
      "execution_count": 22,
      "outputs": [
        {
          "output_type": "execute_result",
          "data": {
            "text/plain": [
              "array([[0.0716339 , 0.92836607],\n",
              "       [0.8928732 , 0.1071268 ],\n",
              "       [0.8982558 , 0.10174423],\n",
              "       ...,\n",
              "       [0.9794519 , 0.02054808],\n",
              "       [0.9592803 , 0.04071963],\n",
              "       [0.36615896, 0.633841  ]], dtype=float32)"
            ]
          },
          "metadata": {
            "tags": []
          },
          "execution_count": 22
        }
      ]
    }
  ]
}