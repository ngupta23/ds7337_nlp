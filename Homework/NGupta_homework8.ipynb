{
  "nbformat": 4,
  "nbformat_minor": 0,
  "metadata": {
    "colab": {
      "name": "HW8.ipynb",
      "provenance": [],
      "include_colab_link": true
    },
    "kernelspec": {
      "name": "python3",
      "display_name": "Python 3"
    },
    "accelerator": "GPU"
  },
  "cells": [
    {
      "cell_type": "markdown",
      "metadata": {
        "id": "view-in-github",
        "colab_type": "text"
      },
      "source": [
        "<a href=\"https://colab.research.google.com/github/ngupta23/ds7337_nlp/blob/master/Homework/NGupta_homework8.ipynb\" target=\"_parent\"><img src=\"https://colab.research.google.com/assets/colab-badge.svg\" alt=\"Open In Colab\"/></a>"
      ]
    },
    {
      "cell_type": "markdown",
      "metadata": {
        "id": "SJJeVcMfIVfM",
        "colab_type": "text"
      },
      "source": [
        "Homework 8.\n",
        "Utilize the Universal Sentence encoder to build a model for the following dataset.  Note--we want to POLARITY not Sentiment column, although the data is setup correctly already\n",
        "\n"
      ]
    },
    {
      "cell_type": "code",
      "metadata": {
        "id": "SnSagSn_zOuv",
        "colab_type": "code",
        "colab": {}
      },
      "source": [
        "import tensorflow as tf\n",
        "import pandas as pd\n",
        "import tensorflow_hub as hub\n",
        "import os\n",
        "import re"
      ],
      "execution_count": 1,
      "outputs": []
    },
    {
      "cell_type": "code",
      "metadata": {
        "id": "9V9_cU6XzWiz",
        "colab_type": "code",
        "colab": {}
      },
      "source": [
        "import numpy as np"
      ],
      "execution_count": 2,
      "outputs": []
    },
    {
      "cell_type": "code",
      "metadata": {
        "id": "VKkRW386zaQW",
        "colab_type": "code",
        "colab": {
          "base_uri": "https://localhost:8080/",
          "height": 206
        },
        "outputId": "97ca65ef-9108-4123-9205-d8f174feb16f"
      },
      "source": [
        "# Load all files from a directory in a DataFrame.\n",
        "def load_directory_data(directory):\n",
        "  data = {}\n",
        "  data[\"sentence\"] = []\n",
        "  data[\"sentiment\"] = []\n",
        "  for file_path in os.listdir(directory):\n",
        "    with tf.io.gfile.GFile(os.path.join(directory, file_path), \"r\") as f:\n",
        "      data[\"sentence\"].append(f.read())\n",
        "      data[\"sentiment\"].append(re.match(\"\\d+_(\\d+)\\.txt\", file_path).group(1))\n",
        "  return pd.DataFrame.from_dict(data)\n",
        "\n",
        "# Merge positive and negative examples, add a polarity column and shuffle.\n",
        "def load_dataset(directory):\n",
        "  pos_df = load_directory_data(os.path.join(directory, \"pos\"))\n",
        "  neg_df = load_directory_data(os.path.join(directory, \"neg\"))\n",
        "  pos_df[\"polarity\"] = 1\n",
        "  neg_df[\"polarity\"] = 0\n",
        "  return pd.concat([pos_df, neg_df]).sample(frac=1).reset_index(drop=True)\n",
        "\n",
        "# Download and process the dataset files.\n",
        "def download_and_load_datasets(force_download=False):\n",
        "  dataset = tf.keras.utils.get_file(\n",
        "      fname=\"aclImdb.tar.gz\", \n",
        "      origin=\"http://ai.stanford.edu/~amaas/data/sentiment/aclImdb_v1.tar.gz\", \n",
        "      extract=True)\n",
        "\n",
        "  train_df = load_dataset(os.path.join(os.path.dirname(dataset), \n",
        "                                       \"aclImdb\", \"train\"))\n",
        "  test_df = load_dataset(os.path.join(os.path.dirname(dataset), \n",
        "                                      \"aclImdb\", \"test\"))\n",
        "\n",
        "  return train_df, test_df\n",
        "\n",
        "# Reduce logging output.\n",
        "#tf.logging.set_verbosity(tf.logging.ERROR)\n",
        "\n",
        "train_df, test_df = download_and_load_datasets()\n",
        "train_df.head()"
      ],
      "execution_count": 3,
      "outputs": [
        {
          "output_type": "execute_result",
          "data": {
            "text/html": [
              "<div>\n",
              "<style scoped>\n",
              "    .dataframe tbody tr th:only-of-type {\n",
              "        vertical-align: middle;\n",
              "    }\n",
              "\n",
              "    .dataframe tbody tr th {\n",
              "        vertical-align: top;\n",
              "    }\n",
              "\n",
              "    .dataframe thead th {\n",
              "        text-align: right;\n",
              "    }\n",
              "</style>\n",
              "<table border=\"1\" class=\"dataframe\">\n",
              "  <thead>\n",
              "    <tr style=\"text-align: right;\">\n",
              "      <th></th>\n",
              "      <th>sentence</th>\n",
              "      <th>sentiment</th>\n",
              "      <th>polarity</th>\n",
              "    </tr>\n",
              "  </thead>\n",
              "  <tbody>\n",
              "    <tr>\n",
              "      <th>0</th>\n",
              "      <td>This is the best of Shelley Duvall's high-qual...</td>\n",
              "      <td>9</td>\n",
              "      <td>1</td>\n",
              "    </tr>\n",
              "    <tr>\n",
              "      <th>1</th>\n",
              "      <td>I was in physical pain watching the eyes of th...</td>\n",
              "      <td>2</td>\n",
              "      <td>0</td>\n",
              "    </tr>\n",
              "    <tr>\n",
              "      <th>2</th>\n",
              "      <td>This doesn't quite plumb the depths of Creepsh...</td>\n",
              "      <td>4</td>\n",
              "      <td>0</td>\n",
              "    </tr>\n",
              "    <tr>\n",
              "      <th>3</th>\n",
              "      <td>Whoever said that horror wasn't an educational...</td>\n",
              "      <td>7</td>\n",
              "      <td>1</td>\n",
              "    </tr>\n",
              "    <tr>\n",
              "      <th>4</th>\n",
              "      <td>There are many police dramas doing the rounds....</td>\n",
              "      <td>7</td>\n",
              "      <td>1</td>\n",
              "    </tr>\n",
              "  </tbody>\n",
              "</table>\n",
              "</div>"
            ],
            "text/plain": [
              "                                            sentence sentiment  polarity\n",
              "0  This is the best of Shelley Duvall's high-qual...         9         1\n",
              "1  I was in physical pain watching the eyes of th...         2         0\n",
              "2  This doesn't quite plumb the depths of Creepsh...         4         0\n",
              "3  Whoever said that horror wasn't an educational...         7         1\n",
              "4  There are many police dramas doing the rounds....         7         1"
            ]
          },
          "metadata": {
            "tags": []
          },
          "execution_count": 3
        }
      ]
    },
    {
      "cell_type": "code",
      "metadata": {
        "id": "0I-sokaZz5T8",
        "colab_type": "code",
        "colab": {}
      },
      "source": [
        "# Create datasets (Only take up to 150 words for memory)\n",
        "train_text = train_df['sentence'].tolist()\n",
        "train_text = [' '.join(t.split()[0:150]) for t in train_text]\n",
        "train_text = np.array(train_text, dtype=object)[:, np.newaxis]\n",
        "train_label = train_df['polarity']\n",
        "\n",
        "test_text = test_df['sentence'].tolist()\n",
        "test_text = [' '.join(t.split()[0:150]) for t in test_text]\n",
        "test_text = np.array(test_text, dtype=object)[:, np.newaxis]\n",
        "test_label = test_df['polarity']"
      ],
      "execution_count": 4,
      "outputs": []
    },
    {
      "cell_type": "code",
      "metadata": {
        "id": "PE3zupEO0zyv",
        "colab_type": "code",
        "colab": {
          "base_uri": "https://localhost:8080/",
          "height": 54
        },
        "outputId": "aaa9fc72-0491-43e7-a62a-b4f3e5430ad1"
      },
      "source": [
        "print(len(train_text), len(train_label))\n",
        "print(len(test_text), len(test_label))"
      ],
      "execution_count": 5,
      "outputs": [
        {
          "output_type": "stream",
          "text": [
            "25000 25000\n",
            "25000 25000\n"
          ],
          "name": "stdout"
        }
      ]
    },
    {
      "cell_type": "code",
      "metadata": {
        "id": "Mw6E2jDR1G7Z",
        "colab_type": "code",
        "colab": {
          "base_uri": "https://localhost:8080/",
          "height": 35
        },
        "outputId": "5aa4157d-ddd6-427d-fcc2-6fbc9f52126f"
      },
      "source": [
        "train_text[0].shape"
      ],
      "execution_count": 6,
      "outputs": [
        {
          "output_type": "execute_result",
          "data": {
            "text/plain": [
              "(1,)"
            ]
          },
          "metadata": {
            "tags": []
          },
          "execution_count": 6
        }
      ]
    },
    {
      "cell_type": "code",
      "metadata": {
        "id": "09QUYJegC3cP",
        "colab_type": "code",
        "colab": {
          "base_uri": "https://localhost:8080/",
          "height": 35
        },
        "outputId": "82ef09b7-6e8d-4815-ee20-7df4b93e241a"
      },
      "source": [
        "set(train_label)"
      ],
      "execution_count": 7,
      "outputs": [
        {
          "output_type": "execute_result",
          "data": {
            "text/plain": [
              "{0, 1}"
            ]
          },
          "metadata": {
            "tags": []
          },
          "execution_count": 7
        }
      ]
    },
    {
      "cell_type": "code",
      "metadata": {
        "id": "qUGA8Shz_8ub",
        "colab_type": "code",
        "colab": {
          "base_uri": "https://localhost:8080/",
          "height": 1000
        },
        "outputId": "4a725889-f9a4-4a17-a67b-ffe0f8034f48"
      },
      "source": [
        "use_test = hub.load(\"https://tfhub.dev/google/universal-sentence-encoder/4\")\n",
        "use_test([\"This is a test of USE\"])"
      ],
      "execution_count": 8,
      "outputs": [
        {
          "output_type": "execute_result",
          "data": {
            "text/plain": [
              "<tf.Tensor: shape=(1, 512), dtype=float32, numpy=\n",
              "array([[-8.41595232e-03, -5.61952703e-02, -4.07758318e-02,\n",
              "        -2.94545945e-02, -4.88133729e-02, -7.73191154e-02,\n",
              "        -1.81259564e-03,  3.17418166e-02,  4.34551425e-02,\n",
              "         4.00216877e-03,  1.36102820e-02, -1.15882112e-02,\n",
              "         6.16076216e-02, -2.87124584e-03,  3.92416082e-02,\n",
              "         2.57035792e-02,  2.41553877e-03,  3.72053608e-02,\n",
              "         1.08773699e-02, -5.01606390e-02,  3.74448746e-02,\n",
              "        -2.02413765e-03, -5.03091924e-02, -1.17291445e-02,\n",
              "        -4.35480587e-02,  1.77046638e-02,  2.77202819e-02,\n",
              "        -6.90487027e-02,  2.61135884e-02, -8.04910958e-02,\n",
              "         4.13932502e-02, -8.80538151e-02, -8.11734819e-04,\n",
              "        -1.49555169e-02, -8.64357222e-03,  8.20124075e-02,\n",
              "        -8.62774497e-04, -8.40719640e-02,  2.60526314e-02,\n",
              "         5.91145493e-02, -2.58402415e-02, -4.03626189e-02,\n",
              "        -2.41041593e-02, -3.43766361e-02, -1.90319698e-02,\n",
              "        -2.09738836e-02, -3.37156504e-02,  2.57028062e-02,\n",
              "         2.88378075e-02, -4.60337326e-02,  4.56407443e-02,\n",
              "        -6.84338734e-02, -1.07607335e-01, -1.13632744e-02,\n",
              "         5.83538711e-02, -5.85528612e-02,  4.22572531e-02,\n",
              "        -3.68575789e-02, -2.22314578e-02,  7.40067810e-02,\n",
              "        -3.40473535e-03, -1.38903838e-02,  3.89564224e-02,\n",
              "        -5.62480418e-03,  5.19611873e-02,  2.67319102e-02,\n",
              "        -2.28184592e-02,  2.32509710e-03,  2.39956714e-02,\n",
              "        -5.26769012e-02, -2.09259950e-02, -9.94129200e-03,\n",
              "         8.36182684e-02,  9.26673820e-04, -9.72276852e-02,\n",
              "        -5.62084392e-02,  5.60493767e-02, -6.02288246e-02,\n",
              "         1.54360756e-02, -4.34481129e-02,  5.90509698e-02,\n",
              "         9.14824754e-03,  3.17269842e-05, -1.86191965e-02,\n",
              "        -6.10617585e-02, -4.11134809e-02, -3.59302461e-02,\n",
              "        -3.01854648e-02,  2.01642849e-02,  6.07887167e-04,\n",
              "        -6.54652864e-02, -5.06452173e-02, -4.78138775e-02,\n",
              "         5.10746092e-02,  3.92328203e-02, -9.64020472e-03,\n",
              "         3.51904556e-02,  3.53807397e-02, -3.67976539e-02,\n",
              "        -7.07344636e-02,  1.01803746e-02, -5.83074205e-02,\n",
              "         6.86816052e-02, -1.27671827e-02,  6.18424527e-02,\n",
              "        -3.48051898e-02, -1.51259173e-02,  2.11936552e-02,\n",
              "        -1.10745560e-02, -5.63332774e-02, -4.37623225e-02,\n",
              "         6.49635792e-02,  3.55737843e-02,  2.10626759e-02,\n",
              "         3.15042958e-02, -3.91264223e-02,  4.16855188e-03,\n",
              "         1.24564124e-02, -3.47646810e-02,  1.09227255e-01,\n",
              "         1.09130414e-02, -5.96780516e-03, -6.93856254e-02,\n",
              "        -2.11364720e-02,  2.87802722e-02,  5.65553047e-02,\n",
              "        -1.11440988e-02,  1.47834225e-02, -3.59674394e-02,\n",
              "         1.88762415e-02,  9.92692355e-03,  6.43598139e-02,\n",
              "        -7.74256536e-04, -2.50892378e-02, -4.43543941e-02,\n",
              "        -1.78043917e-02, -1.79441888e-02, -7.87852108e-02,\n",
              "        -1.20770507e-01, -3.61405350e-02,  3.06381099e-02,\n",
              "        -8.45672786e-02,  1.24534108e-02, -3.55505981e-02,\n",
              "        -3.59323919e-02, -2.80823335e-02,  1.47151630e-02,\n",
              "         2.77208686e-02,  4.49243970e-02, -2.06737928e-02,\n",
              "         1.05009563e-01, -3.55849043e-02, -1.02119930e-01,\n",
              "        -2.00549737e-02,  1.76399332e-02, -3.43737639e-02,\n",
              "         4.40251268e-02,  5.14722466e-02,  4.55366960e-03,\n",
              "         1.23800775e-02, -1.31807905e-02,  4.70833480e-02,\n",
              "         1.83649696e-02,  2.84119062e-02, -2.90706810e-02,\n",
              "         7.29818046e-02, -1.03821270e-02,  6.03180230e-02,\n",
              "        -4.66608517e-02, -4.84096520e-02, -6.93331659e-03,\n",
              "         4.38094437e-02, -9.71214939e-03, -2.57737655e-02,\n",
              "        -6.42652903e-03,  1.62478648e-02,  8.17790553e-02,\n",
              "         3.82690434e-03,  2.04354804e-02, -6.47575175e-03,\n",
              "        -8.92038643e-03, -1.16957473e-02,  4.28901948e-02,\n",
              "         4.40002047e-02, -2.18019057e-02,  3.60826887e-02,\n",
              "         3.56703103e-02,  4.15498652e-02, -4.71268632e-02,\n",
              "         1.21797789e-02,  7.95373321e-02,  4.31930646e-03,\n",
              "        -4.32278179e-02,  6.28438592e-02, -4.36301045e-02,\n",
              "        -4.32432145e-02, -1.68021265e-02,  5.78126758e-02,\n",
              "         2.28020027e-02,  5.84950745e-02, -4.10489850e-02,\n",
              "         5.82404993e-02, -4.21124995e-02, -6.90974370e-02,\n",
              "         6.60609007e-02, -4.49842401e-02,  1.05543301e-01,\n",
              "        -1.91783030e-02,  1.27263321e-02,  5.03206812e-02,\n",
              "        -6.87444806e-02,  1.79923861e-03, -5.98539002e-02,\n",
              "        -3.32616121e-02, -3.16998065e-02, -7.51500130e-02,\n",
              "        -1.05993347e-02, -4.70773838e-02,  8.11364725e-02,\n",
              "         9.88428388e-03,  2.59099124e-05, -2.92599946e-02,\n",
              "         1.95677895e-02, -2.59947628e-02,  5.16465418e-02,\n",
              "         1.52029302e-02,  2.37420723e-02,  9.99424458e-02,\n",
              "        -5.38332667e-03, -6.39702678e-02,  5.34133578e-04,\n",
              "        -3.97849940e-02, -1.24244895e-02,  1.29965574e-01,\n",
              "        -2.50963736e-02,  2.03851499e-02, -3.53606767e-04,\n",
              "        -3.32191139e-02, -8.77786148e-03, -1.84013862e-02,\n",
              "        -6.92613274e-02, -2.88344789e-02,  5.08372188e-02,\n",
              "         2.75098458e-02, -3.44659686e-02, -5.78301493e-03,\n",
              "        -3.02664693e-02, -7.10717142e-02,  5.42826988e-02,\n",
              "         6.17227610e-03, -5.04598692e-02, -2.39929408e-02,\n",
              "        -7.81510323e-02,  3.83416936e-02,  1.87294595e-02,\n",
              "         8.78797099e-03, -7.73031190e-02, -6.99918950e-03,\n",
              "        -2.41160709e-02, -1.84017196e-02,  1.49929104e-02,\n",
              "         2.90503372e-02,  1.23560149e-02, -3.88319865e-02,\n",
              "        -5.74667640e-02, -1.01735517e-01,  1.28002942e-03,\n",
              "         4.67594005e-02, -2.72684190e-02,  1.24613727e-02,\n",
              "         5.13654277e-02,  8.39758888e-02, -2.03677416e-02,\n",
              "         3.30644995e-02,  6.04409762e-02, -2.13868078e-02,\n",
              "        -3.26715643e-03, -2.85785310e-02,  3.56591344e-02,\n",
              "        -5.49096353e-02, -3.53794619e-02, -7.51344711e-02,\n",
              "         1.01716258e-02,  5.68574034e-02, -4.33582201e-04,\n",
              "         5.06063141e-02,  3.15913670e-02,  6.98325783e-02,\n",
              "        -1.94559135e-02,  1.70640424e-02,  3.59607972e-02,\n",
              "         4.39325087e-02, -4.22218144e-02,  3.07616219e-02,\n",
              "         3.78959253e-02,  1.04433270e-02, -8.95685633e-04,\n",
              "        -2.33996827e-02, -6.39446313e-04,  2.15541553e-02,\n",
              "         2.41664052e-02,  4.59828880e-03, -3.51856351e-02,\n",
              "        -5.12643903e-02,  2.30199657e-02,  7.81102628e-02,\n",
              "         6.73570335e-02,  2.80724522e-02,  2.38620713e-02,\n",
              "        -4.04572934e-02, -6.98162913e-02, -6.81555318e-03,\n",
              "         6.51161512e-03,  5.01712486e-02, -2.95547191e-02,\n",
              "         8.87373276e-03,  7.57652819e-02,  8.53533857e-03,\n",
              "        -3.27898413e-02, -5.23479134e-02, -3.82621624e-02,\n",
              "         1.16331000e-02, -4.73870225e-02,  7.67445564e-02,\n",
              "        -3.77339013e-02, -2.27343850e-03,  4.85528037e-02,\n",
              "         3.34122404e-02, -5.47638945e-02, -7.60800987e-02,\n",
              "        -1.92446727e-02,  4.74581160e-02, -6.65906444e-02,\n",
              "        -8.12679529e-02, -6.52619749e-02, -2.08767038e-02,\n",
              "         2.00474989e-02,  3.73320170e-02, -2.55591772e-03,\n",
              "        -6.41808361e-02, -1.09520387e-02,  8.07757825e-02,\n",
              "        -2.72577871e-02,  4.12353575e-02, -1.10016204e-02,\n",
              "        -1.40019879e-02,  8.26071128e-02,  7.05639049e-02,\n",
              "        -6.21927008e-02,  4.67748083e-02,  2.44966652e-02,\n",
              "        -2.33252179e-02,  1.41649041e-02, -2.68191621e-02,\n",
              "        -3.15115452e-02, -9.97501090e-02, -9.26995873e-02,\n",
              "        -6.50990847e-03, -1.42806973e-02,  1.09074609e-02,\n",
              "        -6.55427128e-02, -5.99739701e-03,  5.12155779e-02,\n",
              "        -4.38859351e-02, -7.03215192e-04,  5.21247101e-04,\n",
              "         2.97861211e-02,  4.84548397e-02,  5.40187433e-02,\n",
              "         1.34318415e-02,  4.53165844e-02, -6.37681782e-02,\n",
              "         2.01060064e-02, -4.80505696e-05, -4.60516810e-02,\n",
              "        -6.92376271e-02, -1.26997959e-02, -2.52045365e-03,\n",
              "        -4.43180315e-02,  2.76977494e-02,  2.72899959e-02,\n",
              "         4.87876870e-03, -6.02716468e-02,  9.01133567e-02,\n",
              "        -5.91413751e-02,  5.48393056e-02, -7.89752454e-02,\n",
              "        -4.25202809e-02, -3.39594148e-02,  6.57913610e-02,\n",
              "         7.46485591e-02, -2.33175437e-04, -4.70083728e-02,\n",
              "        -6.15053903e-03,  3.44515755e-03, -3.12406644e-02,\n",
              "         3.11889760e-02, -9.02625918e-02, -5.38930818e-02,\n",
              "         7.11136637e-03,  2.12580040e-02, -2.12797076e-02,\n",
              "        -1.82177138e-03, -5.46404645e-02, -4.75250445e-02,\n",
              "         3.00215725e-02, -1.36602614e-02,  2.87261102e-02,\n",
              "        -3.37450691e-02,  4.58422787e-02,  9.79357362e-02,\n",
              "         3.57098654e-02, -2.59593427e-02, -8.54106620e-03,\n",
              "        -4.53271857e-03, -5.21941744e-02,  3.17213428e-03,\n",
              "        -4.65620868e-02,  3.08062658e-02, -4.17710654e-02,\n",
              "         2.94948760e-02, -9.00274515e-02, -1.33359116e-02,\n",
              "        -4.41836566e-02, -7.81199709e-02, -6.25602156e-02,\n",
              "        -4.22455184e-02, -1.16567547e-02, -1.21948617e-02,\n",
              "        -6.28577992e-02,  7.59188384e-02, -4.07075062e-02,\n",
              "         4.45926599e-02,  6.90852776e-02,  3.91470492e-02,\n",
              "        -8.15527793e-03,  5.39654493e-03,  7.09954556e-03,\n",
              "         6.00581802e-02, -5.79455309e-02,  6.63711363e-03,\n",
              "        -8.58804807e-02, -1.23952562e-02, -5.51763587e-02,\n",
              "         1.89790837e-02,  3.54787335e-02,  7.30806291e-02,\n",
              "         1.14733959e-02, -5.02733849e-02,  3.54182348e-02,\n",
              "         3.10054440e-02,  1.58546790e-02,  4.76714671e-02,\n",
              "         8.00444186e-02, -3.38459127e-02,  3.41107622e-02,\n",
              "        -5.19618345e-03, -4.39540017e-03, -2.65329219e-02,\n",
              "        -1.46039557e-02, -5.15872277e-02,  3.81161384e-02,\n",
              "        -1.43448832e-02, -4.78543043e-02, -2.10392140e-02,\n",
              "        -8.45219567e-03, -4.12681475e-02,  6.47334708e-03,\n",
              "         1.67864710e-02, -3.14845964e-02,  1.44786593e-02,\n",
              "         8.36382955e-02, -1.96370389e-02, -8.62746406e-03,\n",
              "        -8.41313135e-03, -3.16391401e-02, -5.06396070e-02,\n",
              "         4.38010116e-04,  2.64246128e-02,  3.09094097e-02,\n",
              "        -1.11917490e-02, -9.20753106e-02,  5.69460019e-02,\n",
              "        -1.39837870e-02, -3.93683352e-02,  4.36956286e-02,\n",
              "        -6.97391778e-02,  5.25324047e-02,  4.28410918e-02,\n",
              "         3.45223397e-02,  9.37121734e-03, -2.21466087e-02,\n",
              "         1.84365809e-02, -2.64307261e-02,  5.80153912e-02,\n",
              "         1.19070718e-02,  4.74180281e-02,  1.00921430e-02,\n",
              "         4.77917120e-02,  3.15896794e-02, -4.70190728e-03,\n",
              "        -1.64396986e-02, -9.84807611e-02, -3.42224352e-02,\n",
              "         2.03589760e-02, -3.42778489e-02,  5.71957380e-02,\n",
              "         4.46050540e-02, -4.26811464e-02, -4.63186949e-02,\n",
              "         1.46803064e-02,  3.76948416e-02]], dtype=float32)>"
            ]
          },
          "metadata": {
            "tags": []
          },
          "execution_count": 8
        }
      ]
    },
    {
      "cell_type": "code",
      "metadata": {
        "id": "DOx4KhZAzN6k",
        "colab_type": "code",
        "colab": {}
      },
      "source": [
        "import tensorflow as tf\n",
        "from tensorflow.keras.models import Model\n",
        "from tensorflow.keras.layers import Input, Dense, Dropout"
      ],
      "execution_count": 9,
      "outputs": []
    },
    {
      "cell_type": "code",
      "metadata": {
        "id": "i0vqrmfYkp2U",
        "colab_type": "code",
        "colab": {
          "base_uri": "https://localhost:8080/",
          "height": 404
        },
        "outputId": "51bf441b-b175-43cb-f1ae-729ef38706a8"
      },
      "source": [
        "use = hub.KerasLayer(\"https://tfhub.dev/google/universal-sentence-encoder/4\",trainable=False)\n",
        "\n",
        "\"\"\"\n",
        "OOPS I DELETED ALL MY CODE!!  I guess you have to build a network that will do sentiment analysis with \n",
        "the Universal Sentance Encoder (USE) from above!\n",
        "\n",
        "Note that USE layer can be utilized with Sequential() or Model()\n",
        "\"\"\"\n",
        "\n",
        "# This is useful to debug the issues with input shape: https://github.com/tensorflow/hub/issues/526\n",
        "input_text = Input(shape=[], name='sent1',dtype=tf.string)\n",
        "embedding = use(input_text)\n",
        "# dense1 = Dense(256, activation='relu')(embedding)\n",
        "# dropout1 = Dropout(0.2)(dense1)\n",
        "# dense2 = Dense(100, activation='relu')(dropout1)\n",
        "dense2 = Dense(100, activation='relu')(embedding)\n",
        "dropout2 = Dropout(0.2)(dense2)\n",
        "pred = Dense(2, activation='softmax')(dropout2)\n",
        "model = Model(inputs=[input_text], outputs=pred)\n",
        "\n",
        "model.summary()\n",
        "tf.keras.utils.plot_model(model, show_shapes=True, dpi=100)\n",
        "\n",
        "loss = tf.keras.losses.SparseCategoricalCrossentropy()\n",
        "model.compile(loss=loss, optimizer='adam', metrics=['accuracy'])\n",
        "\n",
        "# TODO: Questions\n",
        "# Previously, we had only 1 output that was needed. https://github.com/ngupta23/ds7337_nlp/blob/master/Homework/NGupta_homework3_withstopwords_recdropout.ipynb\n",
        "# For this one, it seems that we need 2. Why is this? \n",
        "# Does this have to do with Sequential vs. non Sequential model?\n",
        "# But that can not be the case, since here we used non sequential but still had 1 output https://github.com/ngupta23/ds7337_nlp/blob/master/Homework/NGupta_homework7_max_seq_500_rmsprop.ipynb"
      ],
      "execution_count": 43,
      "outputs": [
        {
          "output_type": "stream",
          "text": [
            "WARNING:tensorflow:5 out of the last 5 calls to <function recreate_function.<locals>.restored_function_body at 0x7fa4ec9bc730> triggered tf.function retracing. Tracing is expensive and the excessive number of tracings could be due to (1) creating @tf.function repeatedly in a loop, (2) passing tensors with different shapes, (3) passing Python objects instead of tensors. For (1), please define your @tf.function outside of the loop. For (2), @tf.function has experimental_relax_shapes=True option that relaxes argument shapes that can avoid unnecessary retracing. For (3), please refer to https://www.tensorflow.org/tutorials/customization/performance#python_or_tensor_args and https://www.tensorflow.org/api_docs/python/tf/function for  more details.\n"
          ],
          "name": "stdout"
        },
        {
          "output_type": "stream",
          "text": [
            "WARNING:tensorflow:5 out of the last 5 calls to <function recreate_function.<locals>.restored_function_body at 0x7fa4ec9bc730> triggered tf.function retracing. Tracing is expensive and the excessive number of tracings could be due to (1) creating @tf.function repeatedly in a loop, (2) passing tensors with different shapes, (3) passing Python objects instead of tensors. For (1), please define your @tf.function outside of the loop. For (2), @tf.function has experimental_relax_shapes=True option that relaxes argument shapes that can avoid unnecessary retracing. For (3), please refer to https://www.tensorflow.org/tutorials/customization/performance#python_or_tensor_args and https://www.tensorflow.org/api_docs/python/tf/function for  more details.\n"
          ],
          "name": "stderr"
        },
        {
          "output_type": "stream",
          "text": [
            "Model: \"functional_5\"\n",
            "_________________________________________________________________\n",
            "Layer (type)                 Output Shape              Param #   \n",
            "=================================================================\n",
            "sent1 (InputLayer)           [(None,)]                 0         \n",
            "_________________________________________________________________\n",
            "keras_layer_2 (KerasLayer)   (None, 512)               256797824 \n",
            "_________________________________________________________________\n",
            "dense_6 (Dense)              (None, 100)               51300     \n",
            "_________________________________________________________________\n",
            "dropout_4 (Dropout)          (None, 100)               0         \n",
            "_________________________________________________________________\n",
            "dense_7 (Dense)              (None, 2)                 202       \n",
            "=================================================================\n",
            "Total params: 256,849,326\n",
            "Trainable params: 51,502\n",
            "Non-trainable params: 256,797,824\n",
            "_________________________________________________________________\n"
          ],
          "name": "stdout"
        }
      ]
    },
    {
      "cell_type": "code",
      "metadata": {
        "id": "Xxinq6E3CF7L",
        "colab_type": "code",
        "colab": {
          "base_uri": "https://localhost:8080/",
          "height": 54
        },
        "outputId": "832c24ce-6d20-48b5-d7f6-cf53443d3d82"
      },
      "source": [
        "model.predict(tf.convert_to_tensor([\"the cat is on the mat\", \"dogs are in the fog\"]))"
      ],
      "execution_count": 44,
      "outputs": [
        {
          "output_type": "execute_result",
          "data": {
            "text/plain": [
              "array([[0.5080006 , 0.49199942],\n",
              "       [0.5135955 , 0.48640448]], dtype=float32)"
            ]
          },
          "metadata": {
            "tags": []
          },
          "execution_count": 44
        }
      ]
    },
    {
      "cell_type": "code",
      "metadata": {
        "id": "4B5kD4k6KOuO",
        "colab_type": "code",
        "colab": {}
      },
      "source": [
        "from tensorflow.keras.callbacks import EarlyStopping\n",
        "# If validation error does not improve for 10 epochs, then terminate the training\n",
        "es = EarlyStopping(min_delta=0,patience=3)\n",
        "\n",
        "from tensorflow.keras.callbacks import ModelCheckpoint\n",
        "# add a checkpoint to save the lowest validation loss\n",
        "filepath = '.'\n",
        "checkpoint = ModelCheckpoint(filepath, monitor='val_loss', verbose=1, \n",
        "                             save_best_only=True, save_weights_only=False, \n",
        "                             mode='auto', save_frequency=1)"
      ],
      "execution_count": 45,
      "outputs": []
    },
    {
      "cell_type": "code",
      "metadata": {
        "id": "jkC_xN2t-FQt",
        "colab_type": "code",
        "colab": {
          "base_uri": "https://localhost:8080/",
          "height": 1000
        },
        "outputId": "c5357e8f-e355-4d9b-d86c-9cfa4379ecc5"
      },
      "source": [
        "BATCH_SIZE = 64\n",
        "EPOCHS = 10\n",
        "history = model.fit(\n",
        "    train_text, train_label,\n",
        "    validation_data=(test_text, test_label),\n",
        "    batch_size=BATCH_SIZE,\n",
        "    epochs=EPOCHS,\n",
        "    callbacks=[es, checkpoint]    \n",
        "    )"
      ],
      "execution_count": 46,
      "outputs": [
        {
          "output_type": "stream",
          "text": [
            "Epoch 1/10\n",
            "389/391 [============================>.] - ETA: 0s - loss: 0.4280 - accuracy: 0.8056\n",
            "Epoch 00001: val_loss improved from inf to 0.38443, saving model to .\n",
            "WARNING:tensorflow:From /usr/local/lib/python3.6/dist-packages/tensorflow/python/training/tracking/tracking.py:111: Model.state_updates (from tensorflow.python.keras.engine.training) is deprecated and will be removed in a future version.\n",
            "Instructions for updating:\n",
            "This property should not be used in TensorFlow 2.0, as updates are applied automatically.\n"
          ],
          "name": "stdout"
        },
        {
          "output_type": "stream",
          "text": [
            "WARNING:tensorflow:From /usr/local/lib/python3.6/dist-packages/tensorflow/python/training/tracking/tracking.py:111: Model.state_updates (from tensorflow.python.keras.engine.training) is deprecated and will be removed in a future version.\n",
            "Instructions for updating:\n",
            "This property should not be used in TensorFlow 2.0, as updates are applied automatically.\n"
          ],
          "name": "stderr"
        },
        {
          "output_type": "stream",
          "text": [
            "WARNING:tensorflow:From /usr/local/lib/python3.6/dist-packages/tensorflow/python/training/tracking/tracking.py:111: Layer.updates (from tensorflow.python.keras.engine.base_layer) is deprecated and will be removed in a future version.\n",
            "Instructions for updating:\n",
            "This property should not be used in TensorFlow 2.0, as updates are applied automatically.\n"
          ],
          "name": "stdout"
        },
        {
          "output_type": "stream",
          "text": [
            "WARNING:tensorflow:From /usr/local/lib/python3.6/dist-packages/tensorflow/python/training/tracking/tracking.py:111: Layer.updates (from tensorflow.python.keras.engine.base_layer) is deprecated and will be removed in a future version.\n",
            "Instructions for updating:\n",
            "This property should not be used in TensorFlow 2.0, as updates are applied automatically.\n"
          ],
          "name": "stderr"
        },
        {
          "output_type": "stream",
          "text": [
            "INFO:tensorflow:Assets written to: ./assets\n"
          ],
          "name": "stdout"
        },
        {
          "output_type": "stream",
          "text": [
            "INFO:tensorflow:Assets written to: ./assets\n"
          ],
          "name": "stderr"
        },
        {
          "output_type": "stream",
          "text": [
            "391/391 [==============================] - 26s 68ms/step - loss: 0.4281 - accuracy: 0.8056 - val_loss: 0.3844 - val_accuracy: 0.8244\n",
            "Epoch 2/10\n",
            "390/391 [============================>.] - ETA: 0s - loss: 0.3798 - accuracy: 0.8284\n",
            "Epoch 00002: val_loss improved from 0.38443 to 0.38191, saving model to .\n",
            "INFO:tensorflow:Assets written to: ./assets\n"
          ],
          "name": "stdout"
        },
        {
          "output_type": "stream",
          "text": [
            "INFO:tensorflow:Assets written to: ./assets\n"
          ],
          "name": "stderr"
        },
        {
          "output_type": "stream",
          "text": [
            "391/391 [==============================] - 25s 65ms/step - loss: 0.3796 - accuracy: 0.8284 - val_loss: 0.3819 - val_accuracy: 0.8228\n",
            "Epoch 3/10\n",
            "389/391 [============================>.] - ETA: 0s - loss: 0.3726 - accuracy: 0.8324\n",
            "Epoch 00003: val_loss improved from 0.38191 to 0.37636, saving model to .\n",
            "INFO:tensorflow:Assets written to: ./assets\n"
          ],
          "name": "stdout"
        },
        {
          "output_type": "stream",
          "text": [
            "INFO:tensorflow:Assets written to: ./assets\n"
          ],
          "name": "stderr"
        },
        {
          "output_type": "stream",
          "text": [
            "391/391 [==============================] - 26s 65ms/step - loss: 0.3724 - accuracy: 0.8325 - val_loss: 0.3764 - val_accuracy: 0.8259\n",
            "Epoch 4/10\n",
            "390/391 [============================>.] - ETA: 0s - loss: 0.3653 - accuracy: 0.8343\n",
            "Epoch 00004: val_loss did not improve from 0.37636\n",
            "391/391 [==============================] - 18s 47ms/step - loss: 0.3653 - accuracy: 0.8344 - val_loss: 0.3813 - val_accuracy: 0.8229\n",
            "Epoch 5/10\n",
            "390/391 [============================>.] - ETA: 0s - loss: 0.3585 - accuracy: 0.8393\n",
            "Epoch 00005: val_loss improved from 0.37636 to 0.37278, saving model to .\n",
            "INFO:tensorflow:Assets written to: ./assets\n"
          ],
          "name": "stdout"
        },
        {
          "output_type": "stream",
          "text": [
            "INFO:tensorflow:Assets written to: ./assets\n"
          ],
          "name": "stderr"
        },
        {
          "output_type": "stream",
          "text": [
            "\b\b\b\b\b\b\b\b\b\b\b\b\b\b\b\b\b\b\b\b\b\b\b\b\b\b\b\b\b\b\b\b\b\b\b\b\b\b\b\b\b\b\b\b\b\b\b\b\b\b\b\b\b\b\b\b\b\b\b\b\b\b\b\b\b\b\b\b\b\b\b\b\b\b\b\b\b\b\b\b\b\b\b\b\r391/391 [==============================] - 26s 66ms/step - loss: 0.3582 - accuracy: 0.8394 - val_loss: 0.3728 - val_accuracy: 0.8284\n",
            "Epoch 6/10\n",
            "390/391 [============================>.] - ETA: 0s - loss: 0.3514 - accuracy: 0.8438\n",
            "Epoch 00006: val_loss improved from 0.37278 to 0.37191, saving model to .\n",
            "INFO:tensorflow:Assets written to: ./assets\n"
          ],
          "name": "stdout"
        },
        {
          "output_type": "stream",
          "text": [
            "INFO:tensorflow:Assets written to: ./assets\n"
          ],
          "name": "stderr"
        },
        {
          "output_type": "stream",
          "text": [
            "\b\b\b\b\b\b\b\b\b\b\b\b\b\b\b\b\b\b\b\b\b\b\b\b\b\b\b\b\b\b\b\b\b\b\b\b\b\b\b\b\b\b\b\b\b\b\b\b\b\b\b\b\b\b\b\b\b\b\b\b\b\b\b\b\b\b\b\b\b\b\b\b\b\b\b\b\b\b\b\b\b\b\b\b\r391/391 [==============================] - 26s 65ms/step - loss: 0.3515 - accuracy: 0.8438 - val_loss: 0.3719 - val_accuracy: 0.8295\n",
            "Epoch 7/10\n",
            "389/391 [============================>.] - ETA: 0s - loss: 0.3451 - accuracy: 0.8480\n",
            "Epoch 00007: val_loss improved from 0.37191 to 0.37088, saving model to .\n",
            "INFO:tensorflow:Assets written to: ./assets\n"
          ],
          "name": "stdout"
        },
        {
          "output_type": "stream",
          "text": [
            "INFO:tensorflow:Assets written to: ./assets\n"
          ],
          "name": "stderr"
        },
        {
          "output_type": "stream",
          "text": [
            "\b\b\b\b\b\b\b\b\b\b\b\b\b\b\b\b\b\b\b\b\b\b\b\b\b\b\b\b\b\b\b\b\b\b\b\b\b\b\b\b\b\b\b\b\b\b\b\b\b\b\b\b\b\b\b\b\b\b\b\b\b\b\b\b\b\b\b\b\b\b\b\b\b\b\b\b\b\b\b\b\b\b\b\b\r391/391 [==============================] - 26s 67ms/step - loss: 0.3450 - accuracy: 0.8482 - val_loss: 0.3709 - val_accuracy: 0.8306\n",
            "Epoch 8/10\n",
            "390/391 [============================>.] - ETA: 0s - loss: 0.3366 - accuracy: 0.8523\n",
            "Epoch 00008: val_loss did not improve from 0.37088\n",
            "391/391 [==============================] - 19s 48ms/step - loss: 0.3366 - accuracy: 0.8524 - val_loss: 0.3733 - val_accuracy: 0.8288\n",
            "Epoch 9/10\n",
            "390/391 [============================>.] - ETA: 0s - loss: 0.3299 - accuracy: 0.8575\n",
            "Epoch 00009: val_loss improved from 0.37088 to 0.37079, saving model to .\n",
            "INFO:tensorflow:Assets written to: ./assets\n"
          ],
          "name": "stdout"
        },
        {
          "output_type": "stream",
          "text": [
            "INFO:tensorflow:Assets written to: ./assets\n"
          ],
          "name": "stderr"
        },
        {
          "output_type": "stream",
          "text": [
            "\b\b\b\b\b\b\b\b\b\b\b\b\b\b\b\b\b\b\b\b\b\b\b\b\b\b\b\b\b\b\b\b\b\b\b\b\b\b\b\b\b\b\b\b\b\b\b\b\b\b\b\b\b\b\b\b\b\b\b\b\b\b\b\b\b\b\b\b\b\b\b\b\b\b\b\b\b\b\b\b\b\b\b\b\r391/391 [==============================] - 26s 65ms/step - loss: 0.3297 - accuracy: 0.8576 - val_loss: 0.3708 - val_accuracy: 0.8306\n",
            "Epoch 10/10\n",
            "389/391 [============================>.] - ETA: 0s - loss: 0.3214 - accuracy: 0.8611\n",
            "Epoch 00010: val_loss did not improve from 0.37079\n",
            "391/391 [==============================] - 19s 48ms/step - loss: 0.3213 - accuracy: 0.8612 - val_loss: 0.3734 - val_accuracy: 0.8295\n"
          ],
          "name": "stdout"
        }
      ]
    },
    {
      "cell_type": "code",
      "metadata": {
        "id": "gzr1mO0FHKQD",
        "colab_type": "code",
        "colab": {
          "base_uri": "https://localhost:8080/",
          "height": 54
        },
        "outputId": "4bed7c1d-46f9-4bca-a142-2c74ee5cb4b6"
      },
      "source": [
        "model.predict(tf.convert_to_tensor([\"the cat is on the mat\", \"dogs are in the fog\"]))"
      ],
      "execution_count": 47,
      "outputs": [
        {
          "output_type": "execute_result",
          "data": {
            "text/plain": [
              "array([[0.70217675, 0.2978232 ],\n",
              "       [0.14259408, 0.8574059 ]], dtype=float32)"
            ]
          },
          "metadata": {
            "tags": []
          },
          "execution_count": 47
        }
      ]
    },
    {
      "cell_type": "code",
      "metadata": {
        "id": "wqnk6cWMF1Fc",
        "colab_type": "code",
        "colab": {
          "base_uri": "https://localhost:8080/",
          "height": 109
        },
        "outputId": "b63c5dac-0349-47ce-f59c-e3122deb2f55"
      },
      "source": [
        "predictions = model.predict(test_text)\n",
        "predictions[:5]"
      ],
      "execution_count": 48,
      "outputs": [
        {
          "output_type": "execute_result",
          "data": {
            "text/plain": [
              "array([[0.7392257 , 0.2607743 ],\n",
              "       [0.17793031, 0.8220697 ],\n",
              "       [0.98826605, 0.01173392],\n",
              "       [0.01473986, 0.9852601 ],\n",
              "       [0.07436828, 0.92563176]], dtype=float32)"
            ]
          },
          "metadata": {
            "tags": []
          },
          "execution_count": 48
        }
      ]
    },
    {
      "cell_type": "code",
      "metadata": {
        "id": "LpSg0j8AFy_m",
        "colab_type": "code",
        "colab": {
          "base_uri": "https://localhost:8080/",
          "height": 35
        },
        "outputId": "1e573dfc-6865-47e3-b479-00b2a30501b5"
      },
      "source": [
        "predictions_max = tf.math.argmax(predictions, axis=1)\n",
        "predictions_max[:5]"
      ],
      "execution_count": 49,
      "outputs": [
        {
          "output_type": "execute_result",
          "data": {
            "text/plain": [
              "<tf.Tensor: shape=(5,), dtype=int64, numpy=array([0, 1, 0, 1, 1])>"
            ]
          },
          "metadata": {
            "tags": []
          },
          "execution_count": 49
        }
      ]
    },
    {
      "cell_type": "code",
      "metadata": {
        "id": "UKMqRjmqIod6",
        "colab_type": "code",
        "colab": {
          "base_uri": "https://localhost:8080/",
          "height": 127
        },
        "outputId": "5bfdbe0d-9c06-4729-ad74-0d646f0492ca"
      },
      "source": [
        "test_label[0:5]"
      ],
      "execution_count": 50,
      "outputs": [
        {
          "output_type": "execute_result",
          "data": {
            "text/plain": [
              "0    0\n",
              "1    1\n",
              "2    0\n",
              "3    1\n",
              "4    1\n",
              "Name: polarity, dtype: int64"
            ]
          },
          "metadata": {
            "tags": []
          },
          "execution_count": 50
        }
      ]
    },
    {
      "cell_type": "code",
      "metadata": {
        "id": "cyFKCVA4Jw-A",
        "colab_type": "code",
        "colab": {
          "base_uri": "https://localhost:8080/",
          "height": 35
        },
        "outputId": "b34aa7de-a0be-4de7-d495-7b27a4193538"
      },
      "source": [
        "m = tf.keras.metrics.Accuracy()\n",
        "m.update_state(test_label, predictions_max)\n",
        "m.result().numpy()"
      ],
      "execution_count": 51,
      "outputs": [
        {
          "output_type": "execute_result",
          "data": {
            "text/plain": [
              "0.82952"
            ]
          },
          "metadata": {
            "tags": []
          },
          "execution_count": 51
        }
      ]
    },
    {
      "cell_type": "code",
      "metadata": {
        "id": "zvEhqp-QByDH",
        "colab_type": "code",
        "colab": {
          "base_uri": "https://localhost:8080/",
          "height": 146
        },
        "outputId": "aece4fd3-e64c-4a29-d733-99751e780c70"
      },
      "source": [
        "predictions"
      ],
      "execution_count": 52,
      "outputs": [
        {
          "output_type": "execute_result",
          "data": {
            "text/plain": [
              "array([[0.7392257 , 0.2607743 ],\n",
              "       [0.17793031, 0.8220697 ],\n",
              "       [0.98826605, 0.01173392],\n",
              "       ...,\n",
              "       [0.9685023 , 0.0314977 ],\n",
              "       [0.8893578 , 0.11064218],\n",
              "       [0.03575595, 0.96424407]], dtype=float32)"
            ]
          },
          "metadata": {
            "tags": []
          },
          "execution_count": 52
        }
      ]
    },
    {
      "cell_type": "code",
      "metadata": {
        "id": "OPkvaCzEJnVZ",
        "colab_type": "code",
        "colab": {}
      },
      "source": [
        ""
      ],
      "execution_count": null,
      "outputs": []
    }
  ]
}