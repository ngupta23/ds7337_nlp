{
  "nbformat": 4,
  "nbformat_minor": 0,
  "metadata": {
    "colab": {
      "name": "NGupta_homework3.ipynb",
      "provenance": [],
      "collapsed_sections": [],
      "toc_visible": true,
      "authorship_tag": "ABX9TyOK6I2Cxmhqz5YPeQp/f1tH",
      "include_colab_link": true
    },
    "kernelspec": {
      "name": "python3",
      "display_name": "Python 3"
    },
    "accelerator": "GPU"
  },
  "cells": [
    {
      "cell_type": "markdown",
      "metadata": {
        "id": "view-in-github",
        "colab_type": "text"
      },
      "source": [
        "<a href=\"https://colab.research.google.com/github/ngupta23/ds7337_nlp/blob/master/Homework/NGupta_homework3.ipynb\" target=\"_parent\"><img src=\"https://colab.research.google.com/assets/colab-badge.svg\" alt=\"Open In Colab\"/></a>"
      ]
    },
    {
      "cell_type": "code",
      "metadata": {
        "id": "KswcZQAW9vDM",
        "colab_type": "code",
        "outputId": "2d3cca8d-424f-4659-ec95-5a950b5a610d",
        "colab": {
          "base_uri": "https://localhost:8080/",
          "height": 219
        }
      },
      "source": [
        "!wget https://archive.ics.uci.edu/ml/machine-learning-databases/00331/sentiment%20labelled%20sentences.zip"
      ],
      "execution_count": 1,
      "outputs": [
        {
          "output_type": "stream",
          "text": [
            "--2020-06-01 03:58:44--  https://archive.ics.uci.edu/ml/machine-learning-databases/00331/sentiment%20labelled%20sentences.zip\n",
            "Resolving archive.ics.uci.edu (archive.ics.uci.edu)... 128.195.10.252\n",
            "Connecting to archive.ics.uci.edu (archive.ics.uci.edu)|128.195.10.252|:443... connected.\n",
            "HTTP request sent, awaiting response... 200 OK\n",
            "Length: 84188 (82K) [application/x-httpd-php]\n",
            "Saving to: ‘sentiment labelled sentences.zip.3’\n",
            "\n",
            "sentiment labelled  100%[===================>]  82.21K   248KB/s    in 0.3s    \n",
            "\n",
            "2020-06-01 03:58:45 (248 KB/s) - ‘sentiment labelled sentences.zip.3’ saved [84188/84188]\n",
            "\n"
          ],
          "name": "stdout"
        }
      ]
    },
    {
      "cell_type": "code",
      "metadata": {
        "id": "zqOwg9Lw-SSa",
        "colab_type": "code",
        "outputId": "19d80523-1331-48f4-e649-3aec96424552",
        "colab": {
          "base_uri": "https://localhost:8080/",
          "height": 219
        }
      },
      "source": [
        "!unzip 'sentiment labelled sentences.zip'"
      ],
      "execution_count": 2,
      "outputs": [
        {
          "output_type": "stream",
          "text": [
            "Archive:  sentiment labelled sentences.zip\n",
            "replace sentiment labelled sentences/.DS_Store? [y]es, [n]o, [A]ll, [N]one, [r]ename: A\n",
            "  inflating: sentiment labelled sentences/.DS_Store  \n",
            "  inflating: __MACOSX/sentiment labelled sentences/._.DS_Store  \n",
            "  inflating: sentiment labelled sentences/amazon_cells_labelled.txt  \n",
            "  inflating: sentiment labelled sentences/imdb_labelled.txt  \n",
            "  inflating: __MACOSX/sentiment labelled sentences/._imdb_labelled.txt  \n",
            "  inflating: sentiment labelled sentences/readme.txt  \n",
            "  inflating: __MACOSX/sentiment labelled sentences/._readme.txt  \n",
            "  inflating: sentiment labelled sentences/yelp_labelled.txt  \n",
            "  inflating: __MACOSX/._sentiment labelled sentences  \n"
          ],
          "name": "stdout"
        }
      ]
    },
    {
      "cell_type": "code",
      "metadata": {
        "id": "ZWcLDbNJ_62z",
        "colab_type": "code",
        "colab": {}
      },
      "source": [
        "import os\n",
        "from typing import List, Tuple\n",
        "import numpy as np\n",
        "import pandas as pd"
      ],
      "execution_count": 0,
      "outputs": []
    },
    {
      "cell_type": "code",
      "metadata": {
        "id": "00bDz1tYDj19",
        "colab_type": "code",
        "outputId": "101cde56-9c73-40cf-e220-08bc36e8b3f6",
        "colab": {
          "base_uri": "https://localhost:8080/",
          "height": 90
        }
      },
      "source": [
        "import nltk\n",
        "nltk.download('punkt')\n",
        "nltk.download('stopwords')\n",
        "from nltk.corpus import stopwords\n",
        "from nltk.tokenize import word_tokenize"
      ],
      "execution_count": 4,
      "outputs": [
        {
          "output_type": "stream",
          "text": [
            "[nltk_data] Downloading package punkt to /root/nltk_data...\n",
            "[nltk_data]   Package punkt is already up-to-date!\n",
            "[nltk_data] Downloading package stopwords to /root/nltk_data...\n",
            "[nltk_data]   Package stopwords is already up-to-date!\n"
          ],
          "name": "stdout"
        }
      ]
    },
    {
      "cell_type": "code",
      "metadata": {
        "id": "Z9wzkaxRIzpk",
        "colab_type": "code",
        "colab": {}
      },
      "source": [
        "from sklearn.model_selection import train_test_split"
      ],
      "execution_count": 0,
      "outputs": []
    },
    {
      "cell_type": "code",
      "metadata": {
        "id": "VqTxpJMhAUfP",
        "colab_type": "code",
        "outputId": "54eda658-b34f-4e96-bf8c-b71c89519509",
        "colab": {
          "base_uri": "https://localhost:8080/",
          "height": 35
        }
      },
      "source": [
        "files = ['amazon_cells_labelled.txt', 'yelp_labelled.txt', 'imdb_labelled.txt']\n",
        "parent_dir = 'sentiment labelled sentences'\n",
        "dfs = [pd.read_csv(os.path.join(parent_dir, file), delimiter='\\t', header=None) for file in files]\n",
        "len(dfs)"
      ],
      "execution_count": 6,
      "outputs": [
        {
          "output_type": "execute_result",
          "data": {
            "text/plain": [
              "3"
            ]
          },
          "metadata": {
            "tags": []
          },
          "execution_count": 6
        }
      ]
    },
    {
      "cell_type": "code",
      "metadata": {
        "id": "rNpMSG0l_thT",
        "colab_type": "code",
        "outputId": "8822d619-c6a5-49f7-964f-7c1d0cbb46f2",
        "colab": {
          "base_uri": "https://localhost:8080/",
          "height": 182
        }
      },
      "source": [
        "# Combine all data sets\n",
        "data = pd.concat(dfs)\n",
        "data.columns = ['Sentence','Sentiment']\n",
        "data.reset_index(inplace=True, drop=True)\n",
        "data.info()"
      ],
      "execution_count": 7,
      "outputs": [
        {
          "output_type": "stream",
          "text": [
            "<class 'pandas.core.frame.DataFrame'>\n",
            "RangeIndex: 2748 entries, 0 to 2747\n",
            "Data columns (total 2 columns):\n",
            " #   Column     Non-Null Count  Dtype \n",
            "---  ------     --------------  ----- \n",
            " 0   Sentence   2748 non-null   object\n",
            " 1   Sentiment  2748 non-null   int64 \n",
            "dtypes: int64(1), object(1)\n",
            "memory usage: 43.1+ KB\n"
          ],
          "name": "stdout"
        }
      ]
    },
    {
      "cell_type": "code",
      "metadata": {
        "id": "rCyFFEqEBCEK",
        "colab_type": "code",
        "outputId": "ea63706b-e186-4235-8776-787e4b5e8996",
        "colab": {
          "base_uri": "https://localhost:8080/",
          "height": 206
        }
      },
      "source": [
        "data.head()"
      ],
      "execution_count": 8,
      "outputs": [
        {
          "output_type": "execute_result",
          "data": {
            "text/html": [
              "<div>\n",
              "<style scoped>\n",
              "    .dataframe tbody tr th:only-of-type {\n",
              "        vertical-align: middle;\n",
              "    }\n",
              "\n",
              "    .dataframe tbody tr th {\n",
              "        vertical-align: top;\n",
              "    }\n",
              "\n",
              "    .dataframe thead th {\n",
              "        text-align: right;\n",
              "    }\n",
              "</style>\n",
              "<table border=\"1\" class=\"dataframe\">\n",
              "  <thead>\n",
              "    <tr style=\"text-align: right;\">\n",
              "      <th></th>\n",
              "      <th>Sentence</th>\n",
              "      <th>Sentiment</th>\n",
              "    </tr>\n",
              "  </thead>\n",
              "  <tbody>\n",
              "    <tr>\n",
              "      <th>0</th>\n",
              "      <td>So there is no way for me to plug it in here i...</td>\n",
              "      <td>0</td>\n",
              "    </tr>\n",
              "    <tr>\n",
              "      <th>1</th>\n",
              "      <td>Good case, Excellent value.</td>\n",
              "      <td>1</td>\n",
              "    </tr>\n",
              "    <tr>\n",
              "      <th>2</th>\n",
              "      <td>Great for the jawbone.</td>\n",
              "      <td>1</td>\n",
              "    </tr>\n",
              "    <tr>\n",
              "      <th>3</th>\n",
              "      <td>Tied to charger for conversations lasting more...</td>\n",
              "      <td>0</td>\n",
              "    </tr>\n",
              "    <tr>\n",
              "      <th>4</th>\n",
              "      <td>The mic is great.</td>\n",
              "      <td>1</td>\n",
              "    </tr>\n",
              "  </tbody>\n",
              "</table>\n",
              "</div>"
            ],
            "text/plain": [
              "                                            Sentence  Sentiment\n",
              "0  So there is no way for me to plug it in here i...          0\n",
              "1                        Good case, Excellent value.          1\n",
              "2                             Great for the jawbone.          1\n",
              "3  Tied to charger for conversations lasting more...          0\n",
              "4                                  The mic is great.          1"
            ]
          },
          "metadata": {
            "tags": []
          },
          "execution_count": 8
        }
      ]
    },
    {
      "cell_type": "code",
      "metadata": {
        "id": "7_7FLeNDBxch",
        "colab_type": "code",
        "outputId": "ac6e6fd1-9c76-4d9f-da19-c17d1c554d26",
        "colab": {
          "base_uri": "https://localhost:8080/",
          "height": 206
        }
      },
      "source": [
        "data.tail()"
      ],
      "execution_count": 9,
      "outputs": [
        {
          "output_type": "execute_result",
          "data": {
            "text/html": [
              "<div>\n",
              "<style scoped>\n",
              "    .dataframe tbody tr th:only-of-type {\n",
              "        vertical-align: middle;\n",
              "    }\n",
              "\n",
              "    .dataframe tbody tr th {\n",
              "        vertical-align: top;\n",
              "    }\n",
              "\n",
              "    .dataframe thead th {\n",
              "        text-align: right;\n",
              "    }\n",
              "</style>\n",
              "<table border=\"1\" class=\"dataframe\">\n",
              "  <thead>\n",
              "    <tr style=\"text-align: right;\">\n",
              "      <th></th>\n",
              "      <th>Sentence</th>\n",
              "      <th>Sentiment</th>\n",
              "    </tr>\n",
              "  </thead>\n",
              "  <tbody>\n",
              "    <tr>\n",
              "      <th>2743</th>\n",
              "      <td>I just got bored watching Jessice Lange take h...</td>\n",
              "      <td>0</td>\n",
              "    </tr>\n",
              "    <tr>\n",
              "      <th>2744</th>\n",
              "      <td>Unfortunately, any virtue in this film's produ...</td>\n",
              "      <td>0</td>\n",
              "    </tr>\n",
              "    <tr>\n",
              "      <th>2745</th>\n",
              "      <td>In a word, it is embarrassing.</td>\n",
              "      <td>0</td>\n",
              "    </tr>\n",
              "    <tr>\n",
              "      <th>2746</th>\n",
              "      <td>Exceptionally bad!</td>\n",
              "      <td>0</td>\n",
              "    </tr>\n",
              "    <tr>\n",
              "      <th>2747</th>\n",
              "      <td>All in all its an insult to one's intelligence...</td>\n",
              "      <td>0</td>\n",
              "    </tr>\n",
              "  </tbody>\n",
              "</table>\n",
              "</div>"
            ],
            "text/plain": [
              "                                               Sentence  Sentiment\n",
              "2743  I just got bored watching Jessice Lange take h...          0\n",
              "2744  Unfortunately, any virtue in this film's produ...          0\n",
              "2745                   In a word, it is embarrassing.            0\n",
              "2746                               Exceptionally bad!            0\n",
              "2747  All in all its an insult to one's intelligence...          0"
            ]
          },
          "metadata": {
            "tags": []
          },
          "execution_count": 9
        }
      ]
    },
    {
      "cell_type": "markdown",
      "metadata": {
        "id": "X2buSskmCtOJ",
        "colab_type": "text"
      },
      "source": [
        "### Looks like the data is evenly distributed between both positive and negative sentiment"
      ]
    },
    {
      "cell_type": "code",
      "metadata": {
        "id": "JfooulO0BzP4",
        "colab_type": "code",
        "outputId": "10f3c6f5-400b-4f80-8927-936f340876a0",
        "colab": {
          "base_uri": "https://localhost:8080/",
          "height": 283
        }
      },
      "source": [
        "data['Sentiment'].hist()"
      ],
      "execution_count": 10,
      "outputs": [
        {
          "output_type": "execute_result",
          "data": {
            "text/plain": [
              "<matplotlib.axes._subplots.AxesSubplot at 0x7f419d7fe3c8>"
            ]
          },
          "metadata": {
            "tags": []
          },
          "execution_count": 10
        },
        {
          "output_type": "display_data",
          "data": {
            "image/png": "[encoded data removed]",
            "text/plain": [
              "<Figure size 432x288 with 1 Axes>"
            ]
          },
          "metadata": {
            "tags": [],
            "needs_background": "light"
          }
        }
      ]
    },
    {
      "cell_type": "markdown",
      "metadata": {
        "id": "7-McSGYGDJlA",
        "colab_type": "text"
      },
      "source": [
        "# Preprocessing\n",
        "\n",
        "* [Reference](https://dzone.com/articles/simple-sentiment-analysis-with-nlp)"
      ]
    },
    {
      "cell_type": "code",
      "metadata": {
        "id": "JL-tGp_XFpBs",
        "colab_type": "code",
        "outputId": "82847863-728e-44fe-98af-175391325b1b",
        "colab": {
          "base_uri": "https://localhost:8080/",
          "height": 109
        }
      },
      "source": [
        "for i in range(5):\n",
        "  print(data.iloc[i]['Sentence'])"
      ],
      "execution_count": 11,
      "outputs": [
        {
          "output_type": "stream",
          "text": [
            "So there is no way for me to plug it in here in the US unless I go by a converter.\n",
            "Good case, Excellent value.\n",
            "Great for the jawbone.\n",
            "Tied to charger for conversations lasting more than 45 minutes.MAJOR PROBLEMS!!\n",
            "The mic is great.\n"
          ],
          "name": "stdout"
        }
      ]
    },
    {
      "cell_type": "code",
      "metadata": {
        "id": "mJSuCG_zCdcK",
        "colab_type": "code",
        "colab": {}
      },
      "source": [
        "#Text Preprocessing\n",
        "# Lower string\n",
        "data['Sentence'] = data['Sentence'].str.lower()\n",
        "\n",
        "# Remove punctaitions and special chracters\n",
        "data['Sentence'] = data['Sentence'].str.replace('[^\\w\\s]','')\n",
        "\n",
        "# Remove numbers \n",
        "# Reasons: \n",
        "# (1) They can have a large range (vocabulary will unnecessarily increase)\n",
        "# (2) They dont add much to determine the polarity of the sentiment (e.g. if a review contains 45, does it mean that the review is positive or negative?)\n",
        "data['Sentence'] = data['Sentence'].replace('\\d', '', regex=True)"
      ],
      "execution_count": 0,
      "outputs": []
    },
    {
      "cell_type": "code",
      "metadata": {
        "id": "dn0_S1J6GMgV",
        "colab_type": "code",
        "outputId": "57879ed8-845a-4269-f35d-12f2a60b0be7",
        "colab": {
          "base_uri": "https://localhost:8080/",
          "height": 109
        }
      },
      "source": [
        "for i in range(5):\n",
        "  print(data.iloc[i]['Sentence'])"
      ],
      "execution_count": 13,
      "outputs": [
        {
          "output_type": "stream",
          "text": [
            "so there is no way for me to plug it in here in the us unless i go by a converter\n",
            "good case excellent value\n",
            "great for the jawbone\n",
            "tied to charger for conversations lasting more than  minutesmajor problems\n",
            "the mic is great\n"
          ],
          "name": "stdout"
        }
      ]
    },
    {
      "cell_type": "markdown",
      "metadata": {
        "id": "8JpSqPi-G8rz",
        "colab_type": "text"
      },
      "source": [
        "It is not perfect. You can see that \"minutes.MAJOR\" has been converted to a single token \"minutesmajor\", when it should have been 2 tokens. But this is still better than the original text."
      ]
    },
    {
      "cell_type": "code",
      "metadata": {
        "id": "qj8mikknDQvw",
        "colab_type": "code",
        "colab": {}
      },
      "source": [
        "# Remove Stop Words (using nltk)\n",
        "df_ = pd.DataFrame(columns=data.columns)\n",
        "\n",
        "for index, row in data.iterrows():\n",
        "    word_tokens = word_tokenize(row['Sentence'])\n",
        "    filtered_sentence = [w for w in word_tokens if not w in stopwords.words('english')]\n",
        "    df_ = df_.append({\"Sentiment\":  row['Sentiment'], \"Sentence\": \" \".join(filtered_sentence[0:])}, ignore_index=True)\n",
        "\n",
        "data = df_"
      ],
      "execution_count": 0,
      "outputs": []
    },
    {
      "cell_type": "code",
      "metadata": {
        "id": "0sLTtWSaIgXl",
        "colab_type": "code",
        "outputId": "a71cbb72-4b56-4bad-a6d7-52386b332ea1",
        "colab": {
          "base_uri": "https://localhost:8080/",
          "height": 109
        }
      },
      "source": [
        "for i in range(5):\n",
        "  print(data.iloc[i]['Sentence'])"
      ],
      "execution_count": 15,
      "outputs": [
        {
          "output_type": "stream",
          "text": [
            "way plug us unless go converter\n",
            "good case excellent value\n",
            "great jawbone\n",
            "tied charger conversations lasting minutesmajor problems\n",
            "mic great\n"
          ],
          "name": "stdout"
        }
      ]
    },
    {
      "cell_type": "markdown",
      "metadata": {
        "id": "otMn6BaPaRIt",
        "colab_type": "text"
      },
      "source": [
        "# EDA"
      ]
    },
    {
      "cell_type": "code",
      "metadata": {
        "id": "RSNmDkYia9hS",
        "colab_type": "code",
        "outputId": "3da7d511-462f-4907-a523-07ed7cd0162f",
        "colab": {
          "base_uri": "https://localhost:8080/",
          "height": 206
        }
      },
      "source": [
        "data['len'] = data['Sentence'].str.split().str.len()\n",
        "data.head()"
      ],
      "execution_count": 16,
      "outputs": [
        {
          "output_type": "execute_result",
          "data": {
            "text/html": [
              "<div>\n",
              "<style scoped>\n",
              "    .dataframe tbody tr th:only-of-type {\n",
              "        vertical-align: middle;\n",
              "    }\n",
              "\n",
              "    .dataframe tbody tr th {\n",
              "        vertical-align: top;\n",
              "    }\n",
              "\n",
              "    .dataframe thead th {\n",
              "        text-align: right;\n",
              "    }\n",
              "</style>\n",
              "<table border=\"1\" class=\"dataframe\">\n",
              "  <thead>\n",
              "    <tr style=\"text-align: right;\">\n",
              "      <th></th>\n",
              "      <th>Sentence</th>\n",
              "      <th>Sentiment</th>\n",
              "      <th>len</th>\n",
              "    </tr>\n",
              "  </thead>\n",
              "  <tbody>\n",
              "    <tr>\n",
              "      <th>0</th>\n",
              "      <td>way plug us unless go converter</td>\n",
              "      <td>0</td>\n",
              "      <td>6</td>\n",
              "    </tr>\n",
              "    <tr>\n",
              "      <th>1</th>\n",
              "      <td>good case excellent value</td>\n",
              "      <td>1</td>\n",
              "      <td>4</td>\n",
              "    </tr>\n",
              "    <tr>\n",
              "      <th>2</th>\n",
              "      <td>great jawbone</td>\n",
              "      <td>1</td>\n",
              "      <td>2</td>\n",
              "    </tr>\n",
              "    <tr>\n",
              "      <th>3</th>\n",
              "      <td>tied charger conversations lasting minutesmajo...</td>\n",
              "      <td>0</td>\n",
              "      <td>6</td>\n",
              "    </tr>\n",
              "    <tr>\n",
              "      <th>4</th>\n",
              "      <td>mic great</td>\n",
              "      <td>1</td>\n",
              "      <td>2</td>\n",
              "    </tr>\n",
              "  </tbody>\n",
              "</table>\n",
              "</div>"
            ],
            "text/plain": [
              "                                            Sentence Sentiment  len\n",
              "0                    way plug us unless go converter         0    6\n",
              "1                          good case excellent value         1    4\n",
              "2                                      great jawbone         1    2\n",
              "3  tied charger conversations lasting minutesmajo...         0    6\n",
              "4                                          mic great         1    2"
            ]
          },
          "metadata": {
            "tags": []
          },
          "execution_count": 16
        }
      ]
    },
    {
      "cell_type": "code",
      "metadata": {
        "id": "WepKP5yDaR-h",
        "colab_type": "code",
        "outputId": "47bfbefc-c66a-4e52-8a77-1651770d8761",
        "colab": {
          "base_uri": "https://localhost:8080/",
          "height": 54
        }
      },
      "source": [
        "print('Maximum review length: {}'.format(data['len'].max()))\n",
        "print('Minimum review length: {}'.format(data['len'].min()))"
      ],
      "execution_count": 17,
      "outputs": [
        {
          "output_type": "stream",
          "text": [
            "Maximum review length: 686\n",
            "Minimum review length: 0\n"
          ],
          "name": "stdout"
        }
      ]
    },
    {
      "cell_type": "code",
      "metadata": {
        "id": "Zu_j_H4CdDk7",
        "colab_type": "code",
        "outputId": "8b1a0857-ce59-4964-cc80-6a37ba19e05d",
        "colab": {
          "base_uri": "https://localhost:8080/",
          "height": 112
        }
      },
      "source": [
        "data[data['len'] == 0]"
      ],
      "execution_count": 18,
      "outputs": [
        {
          "output_type": "execute_result",
          "data": {
            "text/html": [
              "<div>\n",
              "<style scoped>\n",
              "    .dataframe tbody tr th:only-of-type {\n",
              "        vertical-align: middle;\n",
              "    }\n",
              "\n",
              "    .dataframe tbody tr th {\n",
              "        vertical-align: top;\n",
              "    }\n",
              "\n",
              "    .dataframe thead th {\n",
              "        text-align: right;\n",
              "    }\n",
              "</style>\n",
              "<table border=\"1\" class=\"dataframe\">\n",
              "  <thead>\n",
              "    <tr style=\"text-align: right;\">\n",
              "      <th></th>\n",
              "      <th>Sentence</th>\n",
              "      <th>Sentiment</th>\n",
              "      <th>len</th>\n",
              "    </tr>\n",
              "  </thead>\n",
              "  <tbody>\n",
              "    <tr>\n",
              "      <th>2064</th>\n",
              "      <td></td>\n",
              "      <td>1</td>\n",
              "      <td>0</td>\n",
              "    </tr>\n",
              "    <tr>\n",
              "      <th>2590</th>\n",
              "      <td></td>\n",
              "      <td>1</td>\n",
              "      <td>0</td>\n",
              "    </tr>\n",
              "  </tbody>\n",
              "</table>\n",
              "</div>"
            ],
            "text/plain": [
              "     Sentence Sentiment  len\n",
              "2064                  1    0\n",
              "2590                  1    0"
            ]
          },
          "metadata": {
            "tags": []
          },
          "execution_count": 18
        }
      ]
    },
    {
      "cell_type": "code",
      "metadata": {
        "id": "kwNl0aTpaTib",
        "colab_type": "code",
        "outputId": "84f4e6a9-8f18-4f5b-f79c-4eb38fc94ce0",
        "colab": {
          "base_uri": "https://localhost:8080/",
          "height": 201
        }
      },
      "source": [
        "# Remove empty reviews since these will translate to all <PAD> tokens and we do not want to assign a positive or negative connotation to <PAD> tokens.\n",
        "data = data[data['Sentence'] != \"\"]\n",
        "data.info()"
      ],
      "execution_count": 19,
      "outputs": [
        {
          "output_type": "stream",
          "text": [
            "<class 'pandas.core.frame.DataFrame'>\n",
            "Int64Index: 2746 entries, 0 to 2747\n",
            "Data columns (total 3 columns):\n",
            " #   Column     Non-Null Count  Dtype \n",
            "---  ------     --------------  ----- \n",
            " 0   Sentence   2746 non-null   object\n",
            " 1   Sentiment  2746 non-null   object\n",
            " 2   len        2746 non-null   int64 \n",
            "dtypes: int64(1), object(2)\n",
            "memory usage: 85.8+ KB\n"
          ],
          "name": "stdout"
        }
      ]
    },
    {
      "cell_type": "code",
      "metadata": {
        "id": "lHlpKfW0dK-0",
        "colab_type": "code",
        "outputId": "818ed5f6-c20d-4ce2-af89-2efe6150da96",
        "colab": {
          "base_uri": "https://localhost:8080/",
          "height": 54
        }
      },
      "source": [
        "print('Maximum review length: {}'.format(data['len'].max()))\n",
        "print('Minimum review length: {}'.format(data['len'].min()))"
      ],
      "execution_count": 20,
      "outputs": [
        {
          "output_type": "stream",
          "text": [
            "Maximum review length: 686\n",
            "Minimum review length: 1\n"
          ],
          "name": "stdout"
        }
      ]
    },
    {
      "cell_type": "code",
      "metadata": {
        "id": "hQMmrgkZdgY_",
        "colab_type": "code",
        "outputId": "eec3d69c-b52a-46f1-80fb-9d352f409245",
        "colab": {
          "base_uri": "https://localhost:8080/",
          "height": 35
        }
      },
      "source": [
        "# Keep 97% of reviews completely and chop of the remainig 3% of the reviews.\n",
        "import numpy as np\n",
        "time_steps = int(np.quantile(data['len'],0.90))\n",
        "time_steps"
      ],
      "execution_count": 21,
      "outputs": [
        {
          "output_type": "execute_result",
          "data": {
            "text/plain": [
              "11"
            ]
          },
          "metadata": {
            "tags": []
          },
          "execution_count": 21
        }
      ]
    },
    {
      "cell_type": "code",
      "metadata": {
        "id": "X7iSE-A2dM1J",
        "colab_type": "code",
        "outputId": "df39f491-c7a1-4802-e0f2-f4d76aa41d10",
        "colab": {
          "base_uri": "https://localhost:8080/",
          "height": 582
        }
      },
      "source": [
        "data.hist(bins=100)\n",
        "data[data['len'] <= time_steps].hist(bins=100)"
      ],
      "execution_count": 22,
      "outputs": [
        {
          "output_type": "execute_result",
          "data": {
            "text/plain": [
              "array([[<matplotlib.axes._subplots.AxesSubplot object at 0x7f419cfad128>]],\n",
              "      dtype=object)"
            ]
          },
          "metadata": {
            "tags": []
          },
          "execution_count": 22
        },
        {
          "output_type": "display_data",
          "data": {
            "image/png": "[encoded data removed]",
            "text/plain": [
              "<Figure size 432x288 with 1 Axes>"
            ]
          },
          "metadata": {
            "tags": [],
            "needs_background": "light"
          }
        },
        {
          "output_type": "display_data",
          "data": {
            "image/png": "[encoded data removed]",
            "text/plain": [
              "<Figure size 432x288 with 1 Axes>"
            ]
          },
          "metadata": {
            "tags": [],
            "needs_background": "light"
          }
        }
      ]
    },
    {
      "cell_type": "markdown",
      "metadata": {
        "id": "8Au5lXS1I1-r",
        "colab_type": "text"
      },
      "source": [
        "# Train Test Split"
      ]
    },
    {
      "cell_type": "code",
      "metadata": {
        "id": "nTKOVkm3I4DB",
        "colab_type": "code",
        "outputId": "f8341b97-58ab-41ab-b82d-c3e7bee3d5bd",
        "colab": {
          "base_uri": "https://localhost:8080/",
          "height": 54
        }
      },
      "source": [
        "X_train, X_test, y_train, y_test = train_test_split(\n",
        "    data['Sentence'].values.astype('U'),\n",
        "    data['Sentiment'].values.astype('int32'),\n",
        "    test_size=0.20,\n",
        "    random_state=42\n",
        ")\n",
        "\n",
        "print(f\"Number of samples: X_train: {len(X_train)}, y_train: {len(y_train)}\")\n",
        "print(f\"Number of samples: X_test: {len(X_test)}, y_test: {len(y_test)}\")"
      ],
      "execution_count": 23,
      "outputs": [
        {
          "output_type": "stream",
          "text": [
            "Number of samples: X_train: 2196, y_train: 2196\n",
            "Number of samples: X_test: 550, y_test: 550\n"
          ],
          "name": "stdout"
        }
      ]
    },
    {
      "cell_type": "code",
      "metadata": {
        "id": "Fl7DptmxKKtl",
        "colab_type": "code",
        "outputId": "861d390b-4e0b-4973-b968-3bf4dfc364a1",
        "colab": {
          "base_uri": "https://localhost:8080/",
          "height": 54
        }
      },
      "source": [
        "# Checking split --> both test and train contain roughly the same number of positive (and negative) sentiment reviews\n",
        "print(sum(y_train == 1)/len(y_train))\n",
        "print(sum(y_test == 1)/len(y_test))"
      ],
      "execution_count": 24,
      "outputs": [
        {
          "output_type": "stream",
          "text": [
            "0.51183970856102\n",
            "0.4727272727272727\n"
          ],
          "name": "stdout"
        }
      ]
    },
    {
      "cell_type": "code",
      "metadata": {
        "id": "_K-eDLEDOcFJ",
        "colab_type": "code",
        "outputId": "4b92e97b-4fd0-487d-a2fd-cb56bd874a5a",
        "colab": {
          "base_uri": "https://localhost:8080/",
          "height": 109
        }
      },
      "source": [
        "X_train[:5]"
      ],
      "execution_count": 25,
      "outputs": [
        {
          "output_type": "execute_result",
          "data": {
            "text/plain": [
              "array(['great tool entertainment communication data managementoh sure use activesync optimal data synchronization results',\n",
              "       'frankly cotton club unfaithful kind embarrassing watch lane gere film bad',\n",
              "       'keyboard really worthwhile usefulness sturdy enough dont expect problems',\n",
              "       'utterly confusing first caused lose couple important contacts',\n",
              "       'wish could enter negative values admins'], dtype='<U4999')"
            ]
          },
          "metadata": {
            "tags": []
          },
          "execution_count": 25
        }
      ]
    },
    {
      "cell_type": "code",
      "metadata": {
        "id": "Uy2KpemeNpv9",
        "colab_type": "code",
        "outputId": "3f1e8607-2e8c-4de2-eb35-7290abe11446",
        "colab": {
          "base_uri": "https://localhost:8080/",
          "height": 55
        }
      },
      "source": [
        "reviews_corpus = []\n",
        "for _, row in enumerate(X_train):\n",
        "  reviews_corpus = reviews_corpus + row.split(\" \")\n",
        "\n",
        "print(reviews_corpus[:30])"
      ],
      "execution_count": 26,
      "outputs": [
        {
          "output_type": "stream",
          "text": [
            "['great', 'tool', 'entertainment', 'communication', 'data', 'managementoh', 'sure', 'use', 'activesync', 'optimal', 'data', 'synchronization', 'results', 'frankly', 'cotton', 'club', 'unfaithful', 'kind', 'embarrassing', 'watch', 'lane', 'gere', 'film', 'bad', 'keyboard', 'really', 'worthwhile', 'usefulness', 'sturdy', 'enough']\n"
          ],
          "name": "stdout"
        }
      ]
    },
    {
      "cell_type": "code",
      "metadata": {
        "id": "BkdgtcisKi7x",
        "colab_type": "code",
        "outputId": "9560b317-6089-4c1a-adf8-289875b6890a",
        "colab": {
          "base_uri": "https://localhost:8080/",
          "height": 74
        }
      },
      "source": [
        "# Get only words that have occured more than once to remove noise, spelling mistakes and possible tokenization errors.\n",
        "fdist = nltk.FreqDist(reviews_corpus)\n",
        "print(fdist.most_common()[:20])\n",
        "vocab = [word for word, count in fdist.most_common() if count > 3]\n",
        "print(vocab[:20])"
      ],
      "execution_count": 27,
      "outputs": [
        {
          "output_type": "stream",
          "text": [
            "[('good', 183), ('great', 176), ('movie', 142), ('film', 131), ('phone', 124), ('one', 118), ('food', 101), ('like', 96), ('time', 90), ('really', 87), ('place', 87), ('service', 85), ('well', 76), ('bad', 73), ('dont', 71), ('best', 67), ('even', 67), ('would', 66), ('ever', 63), ('also', 56)]\n",
            "['good', 'great', 'movie', 'film', 'phone', 'one', 'food', 'like', 'time', 'really', 'place', 'service', 'well', 'bad', 'dont', 'best', 'even', 'would', 'ever', 'also']\n"
          ],
          "name": "stdout"
        }
      ]
    },
    {
      "cell_type": "code",
      "metadata": {
        "id": "6oY1MmJih7dQ",
        "colab_type": "code",
        "outputId": "ddb2e965-885e-448f-9f72-c757b786a43d",
        "colab": {
          "base_uri": "https://localhost:8080/",
          "height": 35
        }
      },
      "source": [
        "len(vocab)"
      ],
      "execution_count": 28,
      "outputs": [
        {
          "output_type": "execute_result",
          "data": {
            "text/plain": [
              "793"
            ]
          },
          "metadata": {
            "tags": []
          },
          "execution_count": 28
        }
      ]
    },
    {
      "cell_type": "code",
      "metadata": {
        "id": "2hQ78qOqQTsx",
        "colab_type": "code",
        "colab": {}
      },
      "source": [
        "word_index = {}\n",
        "word_index[\"<PAD>\"] = 0\n",
        "word_index[\"<START>\"] = 1\n",
        "word_index[\"<UNK>\"] = 2\n",
        "for index, word in enumerate(vocab):\n",
        "  word_index[word] = index+3"
      ],
      "execution_count": 0,
      "outputs": []
    },
    {
      "cell_type": "code",
      "metadata": {
        "id": "FjQcGgu5Ro4i",
        "colab_type": "code",
        "outputId": "9a510a89-55b1-496e-9b5f-a75585b7d5af",
        "colab": {
          "base_uri": "https://localhost:8080/",
          "height": 201
        }
      },
      "source": [
        "reverse_word_index = dict([(value, key) for (key, value) in word_index.items()])\n",
        "[(i, reverse_word_index.get(i)) for i in np.arange(10)]"
      ],
      "execution_count": 30,
      "outputs": [
        {
          "output_type": "execute_result",
          "data": {
            "text/plain": [
              "[(0, '<PAD>'),\n",
              " (1, '<START>'),\n",
              " (2, '<UNK>'),\n",
              " (3, 'good'),\n",
              " (4, 'great'),\n",
              " (5, 'movie'),\n",
              " (6, 'film'),\n",
              " (7, 'phone'),\n",
              " (8, 'one'),\n",
              " (9, 'food')]"
            ]
          },
          "metadata": {
            "tags": []
          },
          "execution_count": 30
        }
      ]
    },
    {
      "cell_type": "code",
      "metadata": {
        "id": "tk_LPxpmnnhH",
        "colab_type": "code",
        "outputId": "39373187-6f28-4f7e-a177-7cf9614ea4c3",
        "colab": {
          "base_uri": "https://localhost:8080/",
          "height": 35
        }
      },
      "source": [
        "vocabulary_size = len(word_index.keys())\n",
        "vocabulary_size"
      ],
      "execution_count": 31,
      "outputs": [
        {
          "output_type": "execute_result",
          "data": {
            "text/plain": [
              "796"
            ]
          },
          "metadata": {
            "tags": []
          },
          "execution_count": 31
        }
      ]
    },
    {
      "cell_type": "code",
      "metadata": {
        "id": "302j7mzHQhXA",
        "colab_type": "code",
        "colab": {}
      },
      "source": [
        "def encode_review(plain_text: str) -> List[int]:\n",
        "  return [word_index[token] if token in word_index.keys() else word_index[\"<UNK>\"] for token in plain_text.split(\" \")]\n",
        "\n",
        "def decode_review(encoded_text):\n",
        "  return ' '.join([reverse_word_index.get(i, '?') for i in encoded_text])"
      ],
      "execution_count": 0,
      "outputs": []
    },
    {
      "cell_type": "code",
      "metadata": {
        "id": "GtPEYS9AR166",
        "colab_type": "code",
        "colab": {}
      },
      "source": [
        "def encode_decode_check(original_review):\n",
        "  print(\"\\n\")\n",
        "  print(f\"Original Review: \")\n",
        "  print(original_review)\n",
        "  encoded_review = encode_review(original_review)\n",
        "  print(f\"Encoded Review: {encoded_review}\")\n",
        "  decoded_review = decode_review(encoded_review)\n",
        "  print(f\"Decoded Review: {decoded_review}\")\n",
        "  same = decoded_review == original_review\n",
        "  print(f\"Decoded = Original: {same}\")"
      ],
      "execution_count": 0,
      "outputs": []
    },
    {
      "cell_type": "markdown",
      "metadata": {
        "id": "E1e5QCgrXqux",
        "colab_type": "text"
      },
      "source": [
        "## Observations:\n",
        "\n",
        "* **Train Reviews and test reviews have UNK tokens introduced for words not in the vocabulary, but apart from this, they match up.**"
      ]
    },
    {
      "cell_type": "code",
      "metadata": {
        "id": "BvDc8vPVTXRA",
        "colab_type": "code",
        "outputId": "94e303b0-ab7f-4554-f0f7-bf2328810332",
        "colab": {
          "base_uri": "https://localhost:8080/",
          "height": 660
        }
      },
      "source": [
        "random_train_reviews = X_train[np.random.choice(len(X_train), 5)]\n",
        "random_train_reviews\n",
        "\n",
        "for review in random_train_reviews:\n",
        "  encode_decode_check(review)"
      ],
      "execution_count": 34,
      "outputs": [
        {
          "output_type": "stream",
          "text": [
            "\n",
            "\n",
            "Original Review: \n",
            "staff attentive\n",
            "Encoded Review: [214, 474]\n",
            "Decoded Review: staff attentive\n",
            "Decoded = Original: True\n",
            "\n",
            "\n",
            "Original Review: \n",
            "theres really nothing bad say headset\n",
            "Encoded Review: [313, 12, 98, 16, 50, 45]\n",
            "Decoded Review: theres really nothing bad say headset\n",
            "Decoded = Original: True\n",
            "\n",
            "\n",
            "Original Review: \n",
            "food par dennys say good\n",
            "Encoded Review: [9, 2, 2, 50, 3]\n",
            "Decoded Review: food <UNK> <UNK> say good\n",
            "Decoded = Original: False\n",
            "\n",
            "\n",
            "Original Review: \n",
            "ive bluetoooth headset time still comfortable way fits ear\n",
            "Encoded Review: [25, 2, 45, 11, 57, 122, 52, 282, 59]\n",
            "Decoded Review: ive <UNK> headset time still comfortable way fits ear\n",
            "Decoded = Original: False\n",
            "\n",
            "\n",
            "Original Review: \n",
            "loved\n",
            "Encoded Review: [128]\n",
            "Decoded Review: loved\n",
            "Decoded = Original: True\n"
          ],
          "name": "stdout"
        }
      ]
    },
    {
      "cell_type": "code",
      "metadata": {
        "id": "fPumf5v4WjJJ",
        "colab_type": "code",
        "outputId": "20f1a425-63d7-4e9c-b863-8a37a19c7073",
        "colab": {
          "base_uri": "https://localhost:8080/",
          "height": 660
        }
      },
      "source": [
        "random_test_reviews = X_test[np.random.choice(len(X_test), 5)]\n",
        "random_test_reviews\n",
        "\n",
        "for review in random_test_reviews:\n",
        "  encode_decode_check(review)"
      ],
      "execution_count": 35,
      "outputs": [
        {
          "output_type": "stream",
          "text": [
            "\n",
            "\n",
            "Original Review: \n",
            "nothing authentic place\n",
            "Encoded Review: [98, 702, 13]\n",
            "Decoded Review: nothing authentic place\n",
            "Decoded = Original: True\n",
            "\n",
            "\n",
            "Original Review: \n",
            "would recommend item anyone\n",
            "Encoded Review: [20, 44, 127, 175]\n",
            "Decoded Review: would recommend item anyone\n",
            "Decoded = Original: True\n",
            "\n",
            "\n",
            "Original Review: \n",
            "service exceptional food good reviews\n",
            "Encoded Review: [14, 2, 9, 3, 574]\n",
            "Decoded Review: service <UNK> food good reviews\n",
            "Decoded = Original: False\n",
            "\n",
            "\n",
            "Original Review: \n",
            "point proceedings look remotely like america\n",
            "Encoded Review: [623, 2, 94, 2, 10, 2]\n",
            "Decoded Review: point <UNK> look <UNK> like <UNK>\n",
            "Decoded = Original: False\n",
            "\n",
            "\n",
            "Original Review: \n",
            "best headset used\n",
            "Encoded Review: [18, 45, 81]\n",
            "Decoded Review: best headset used\n",
            "Decoded = Original: True\n"
          ],
          "name": "stdout"
        }
      ]
    },
    {
      "cell_type": "code",
      "metadata": {
        "id": "7Kd0woQ7lcBo",
        "colab_type": "code",
        "colab": {}
      },
      "source": [
        "X_train_encoded = [encode_review(review) for review in X_train]\n",
        "X_test_encoded = [encode_review(review) for review in X_test]"
      ],
      "execution_count": 0,
      "outputs": []
    },
    {
      "cell_type": "code",
      "metadata": {
        "id": "soR8G00xZ6CW",
        "colab_type": "code",
        "colab": {}
      },
      "source": [
        "from tensorflow.keras.preprocessing import sequence\n",
        "\n",
        "X_train_encoded = sequence.pad_sequences(X_train_encoded, maxlen=time_steps)\n",
        "X_test_encoded = sequence.pad_sequences(X_test_encoded, maxlen=time_steps)"
      ],
      "execution_count": 0,
      "outputs": []
    },
    {
      "cell_type": "code",
      "metadata": {
        "id": "zgj6lHYCi9NC",
        "colab_type": "code",
        "outputId": "2a65c406-be67-41aa-8d3a-64ebc0e1ea4c",
        "colab": {
          "base_uri": "https://localhost:8080/",
          "height": 127
        }
      },
      "source": [
        "X_train_encoded[0:5]"
      ],
      "execution_count": 38,
      "outputs": [
        {
          "output_type": "execute_result",
          "data": {
            "text/plain": [
              "array([[  2,   2,   2,   2, 171,  46,   2,   2,   2,   2,   2],\n",
              "       [  2,   2,   2,   2, 146,   2, 147,   2,   2,   6,  16],\n",
              "       [  0,   0,   2,  12,   2,   2, 632,  60,  17, 213, 184],\n",
              "       [  0,   0,   0, 633,   2,  39,   2,   2, 378, 323,   2],\n",
              "       [  0,   0,   0,   0,   0, 634,  32,   2,   2,   2,   2]],\n",
              "      dtype=int32)"
            ]
          },
          "metadata": {
            "tags": []
          },
          "execution_count": 38
        }
      ]
    },
    {
      "cell_type": "code",
      "metadata": {
        "id": "xWhpK-LkmeQR",
        "colab_type": "code",
        "outputId": "727d5e45-e35f-414d-aa4d-4670d9d5751a",
        "colab": {
          "base_uri": "https://localhost:8080/",
          "height": 127
        }
      },
      "source": [
        "X_test_encoded[0:5]"
      ],
      "execution_count": 39,
      "outputs": [
        {
          "output_type": "execute_result",
          "data": {
            "text/plain": [
              "array([[  0,   0,   0,   0,   0,   0,   0,   2, 172,   2,   2],\n",
              "       [  0,   0,   0,   0,   0,   0,   0, 135, 138,   2, 368],\n",
              "       [  0,   0,   0,   0,   0,   0,   0,   0,   2,   2,  16],\n",
              "       [  0,   0,   0,   0,   0,   0,   0,   0,   2,   2, 514],\n",
              "       [  0,   0,   0,   0,   0,   0,   0,   0,   0,   0,   2]],\n",
              "      dtype=int32)"
            ]
          },
          "metadata": {
            "tags": []
          },
          "execution_count": 39
        }
      ]
    },
    {
      "cell_type": "markdown",
      "metadata": {
        "id": "lFZoPBMbm2UV",
        "colab_type": "text"
      },
      "source": [
        "# RNN"
      ]
    },
    {
      "cell_type": "code",
      "metadata": {
        "id": "nI4m0B5Dm10z",
        "colab_type": "code",
        "colab": {}
      },
      "source": [
        "import tensorflow as tf\n",
        "from tensorflow.keras import Sequential\n",
        "from tensorflow.keras.layers import Embedding, Dense, Dropout\n",
        "from tensorflow.keras.layers import SimpleRNN as RNN"
      ],
      "execution_count": 0,
      "outputs": []
    },
    {
      "cell_type": "code",
      "metadata": {
        "id": "d1RlA7NgnRsM",
        "colab_type": "code",
        "colab": {}
      },
      "source": [
        "import matplotlib.pyplot as plt\n",
        "%matplotlib inline\n",
        "\n",
        "def plot_metrics(history: tf.python.keras.callbacks.History, metrics: List[str] = ['loss'], figsize: Tuple[int, int] = (10,4)):\n",
        "  \"\"\"\n",
        "  This functin will plot the metrics for the model\n",
        "  :param history: The history object obtained from the fit function.\n",
        "  :type history: tf.python.keras.callbacks.History\n",
        "  :param metrics: What metrics to plot for the model (Default = ['loss'])\n",
        "  :type metrics: List[str]\n",
        "  :param figsize: Figure size to be used for plotting (Default = (10,4))\n",
        "  :type figsize: Tuple(int,int)\n",
        "  \"\"\"\n",
        "  num_plots = len(metrics)\n",
        "  fig, axes = plt.subplots(int(num_plots/2), 2, figsize=figsize)\n",
        "\n",
        "  for num, metric in enumerate(metrics):\n",
        "    # summarize history for metric\n",
        "    if num <= 2:\n",
        "      axes[num%2].plot(history.history[metric])\n",
        "      axes[num%2].plot(history.history['val_' + metric])\n",
        "      axes[num%2].set_title('Model ' + metric)\n",
        "      axes[num%2].set(xlabel='Epoch', ylabel=metric)\n",
        "      axes[num%2].legend(['train', 'val'], loc='best')    \n",
        "    else:\n",
        "      axes[floor(num/2), num%2].plot(history.history[metric])\n",
        "      axes[floor(num/2), num%2].plot(history.history['val_' + metric])\n",
        "      axes[floor(num/2), num%2].set_title('Model ' + metric)\n",
        "      axes[floor(num/2), num%2].set(xlabel='Epoch', ylabel=metric)\n",
        "      axes[floor(num/2), num%2].legend(['train', 'val'], loc='best')    \n",
        "\n",
        "  _ = plt.show"
      ],
      "execution_count": 0,
      "outputs": []
    },
    {
      "cell_type": "code",
      "metadata": {
        "id": "YpZ0SMFfqLXj",
        "colab_type": "code",
        "colab": {}
      },
      "source": [
        "from tensorflow.keras.callbacks import EarlyStopping\n",
        "# If validation error does not improve for 10 epochs, then terminate the training\n",
        "es = EarlyStopping(min_delta=0,patience=10)"
      ],
      "execution_count": 0,
      "outputs": []
    },
    {
      "cell_type": "code",
      "metadata": {
        "id": "A-1EGUFIrcPM",
        "colab_type": "code",
        "colab": {}
      },
      "source": [
        "# import other libs as needed for building model\n",
        "from tensorflow.keras.callbacks import ModelCheckpoint\n",
        "\n",
        "# add a checkpoint to save the lowest validation loss\n",
        "filepath = '.'\n",
        "\n",
        "checkpoint = ModelCheckpoint(filepath, monitor='val_loss', verbose=1, \n",
        "                             save_best_only=True, save_weights_only=False, \n",
        "                             mode='auto', save_frequency=1)"
      ],
      "execution_count": 0,
      "outputs": []
    },
    {
      "cell_type": "code",
      "metadata": {
        "id": "HOOQvhjYm4yI",
        "colab_type": "code",
        "colab": {}
      },
      "source": [
        "def create_simple_rnn(vocabulary_size: int, time_steps: int, embedding_size: int, rnn_neurons: int=100, dropout: float=0):\n",
        "  model = Sequential()\n",
        "  model.add(Embedding(vocabulary_size, embedding_size, input_length=time_steps))\n",
        "  model.add(RNN(rnn_neurons))\n",
        "  model.add(Dropout(dropout))\n",
        "  model.add(Dense(1, activation='sigmoid'))\n",
        "  model.compile(loss='binary_crossentropy', optimizer='adam', metrics=['accuracy'])\n",
        "  return model"
      ],
      "execution_count": 0,
      "outputs": []
    },
    {
      "cell_type": "code",
      "metadata": {
        "id": "QIfz3ZnXmiDj",
        "colab_type": "code",
        "outputId": "f316f25e-39d4-42fe-f1cf-1245002e173d",
        "colab": {
          "base_uri": "https://localhost:8080/",
          "height": 1000
        }
      },
      "source": [
        "# Random Grid Search \n",
        "np.random.seed(42)\n",
        "tf.random.set_seed(42)\n",
        "\n",
        "num_combinations = 20 # Number of hyperparameter combinations\n",
        "\n",
        "vocab_sizes = []\n",
        "num_time_steps = []\n",
        "histories = []\n",
        "models = []\n",
        "embedding_sizes = []\n",
        "rnn_num_neurons = []\n",
        "dropouts = []\n",
        "\n",
        "for hyper_index in np.arange(num_combinations):\n",
        " \n",
        "  # Random Sample Hyperparameter Space\n",
        "  min_words = np.random.randint(1, 4)\n",
        "  quantile = np.random.uniform(0.8, 1.00) \n",
        "  embeding_size = np.random.randint(10, 100)\n",
        "  rnn_num_neuron = np.random.randint(5, 50)\n",
        "  dropout = np.random.uniform(0, 0.4)\n",
        "\n",
        "  # Define Vocabulary\n",
        "  vocab = [word for word, count in fdist.most_common() if count > min_words]\n",
        "  \n",
        "  # Word Index and Reverse Index\n",
        "  word_index = {}\n",
        "  word_index[\"<PAD>\"] = 0\n",
        "  word_index[\"<START>\"] = 1\n",
        "  word_index[\"<UNK>\"] = 2\n",
        "  for index, word in enumerate(vocab):\n",
        "    word_index[word] = index+3\n",
        "  reverse_word_index = dict([(value, key) for (key, value) in word_index.items()])\n",
        "\n",
        "  # Vocabulary Size and Time Steps\n",
        "  vocabulary_size = len(word_index.keys())\n",
        "  time_steps = int(np.quantile(data['len'], quantile))\n",
        "\n",
        "  # Encoding of reviews\n",
        "  X_train_encoded = [encode_review(review) for review in X_train]\n",
        "  X_test_encoded = [encode_review(review) for review in X_test]\n",
        "\n",
        "  # Padding of reviews\n",
        "  X_train_encoded = sequence.pad_sequences(X_train_encoded, maxlen=time_steps)\n",
        "  X_test_encoded = sequence.pad_sequences(X_test_encoded, maxlen=time_steps)  \n",
        "\n",
        "  print(\"\\n\\n\\n\")\n",
        "  print(\"-\"*75)\n",
        "  print(f\"Training model for hyperparameter combination {hyper_index+1}:\")\n",
        "  print(f\"Min occurances to be included in Vocab: {min_words} --> Vocabulary Size: {vocabulary_size}\")\n",
        "  print(f\"Quantile: {quantile} --> Time Steps: {time_steps}\")\n",
        "  print(f\"Embedding Size: {embeding_size}, RNN Neurons: {rnn_num_neuron}, Dropout: {dropout}\")\n",
        "  print(\"-\"*75)\n",
        "  print(\"\\n\")\n",
        "\n",
        "  # Build Model and Train\n",
        "  model = create_simple_rnn(vocabulary_size=vocabulary_size, embedding_size=embeding_size, time_steps=time_steps, rnn_neurons=rnn_num_neuron, dropout=dropout)\n",
        "  print(model.summary())\n",
        "  history = model.fit(X_train_encoded, y_train, validation_data=(X_test_encoded, y_test), epochs=50, batch_size=32, callbacks=[es, checkpoint])\n",
        "  plot_metrics(history, metrics=['loss', 'accuracy'])\n",
        "\n",
        "  # Housekeeping\n",
        "  vocab_sizes.append(vocabulary_size)\n",
        "  num_time_steps.append(time_steps)\n",
        "  histories.append(history)\n",
        "  models.append(model)\n",
        "  embedding_sizes.append(embeding_size)\n",
        "  rnn_num_neurons.append(rnn_num_neuron)\n",
        "  dropouts.append(dropout)"
      ],
      "execution_count": 45,
      "outputs": [
        {
          "output_type": "stream",
          "text": [
            "\n",
            "\n",
            "\n",
            "\n",
            "---------------------------------------------------------------------------\n",
            "Training model for hyperparameter combination 1:\n",
            "Min occurances to be included in Vocab: 3 --> Vocabulary Size: 796\n",
            "Quantile: 0.9593085973720465 --> Time Steps: 14\n",
            "Embedding Size: 24, RNN Neurons: 47, Dropout: 0.3118764001091077\n",
            "---------------------------------------------------------------------------\n",
            "\n",
            "\n",
            "Model: \"sequential\"\n",
            "_________________________________________________________________\n",
            "Layer (type)                 Output Shape              Param #   \n",
            "=================================================================\n",
            "embedding (Embedding)        (None, 14, 24)            19104     \n",
            "_________________________________________________________________\n",
            "simple_rnn (SimpleRNN)       (None, 47)                3384      \n",
            "_________________________________________________________________\n",
            "dropout (Dropout)            (None, 47)                0         \n",
            "_________________________________________________________________\n",
            "dense (Dense)                (None, 1)                 48        \n",
            "=================================================================\n",
            "Total params: 22,536\n",
            "Trainable params: 22,536\n",
            "Non-trainable params: 0\n",
            "_________________________________________________________________\n",
            "None\n",
            "Epoch 1/50\n",
            "67/69 [============================>.] - ETA: 0s - loss: 0.6883 - accuracy: 0.5434\n",
            "Epoch 00001: val_loss improved from inf to 0.67453, saving model to .\n",
            "WARNING:tensorflow:From /usr/local/lib/python3.6/dist-packages/tensorflow/python/ops/resource_variable_ops.py:1817: calling BaseResourceVariable.__init__ (from tensorflow.python.ops.resource_variable_ops) with constraint is deprecated and will be removed in a future version.\n",
            "Instructions for updating:\n",
            "If using Keras pass *_constraint arguments to layers.\n",
            "INFO:tensorflow:Assets written to: ./assets\n",
            "69/69 [==============================] - 3s 37ms/step - loss: 0.6882 - accuracy: 0.5433 - val_loss: 0.6745 - val_accuracy: 0.6291\n",
            "Epoch 2/50\n",
            "67/69 [============================>.] - ETA: 0s - loss: 0.5814 - accuracy: 0.7612\n",
            "Epoch 00002: val_loss improved from 0.67453 to 0.52746, saving model to .\n",
            "INFO:tensorflow:Assets written to: ./assets\n",
            "69/69 [==============================] - 2s 36ms/step - loss: 0.5803 - accuracy: 0.7605 - val_loss: 0.5275 - val_accuracy: 0.7418\n",
            "Epoch 3/50\n",
            "65/69 [===========================>..] - ETA: 0s - loss: 0.3999 - accuracy: 0.8346\n",
            "Epoch 00003: val_loss did not improve from 0.52746\n",
            "69/69 [==============================] - 1s 12ms/step - loss: 0.3996 - accuracy: 0.8342 - val_loss: 0.5305 - val_accuracy: 0.7309\n",
            "Epoch 4/50\n",
            "69/69 [==============================] - ETA: 0s - loss: 0.2749 - accuracy: 0.9035\n",
            "Epoch 00004: val_loss improved from 0.52746 to 0.50530, saving model to .\n",
            "INFO:tensorflow:Assets written to: ./assets\n",
            "69/69 [==============================] - 2s 33ms/step - loss: 0.2749 - accuracy: 0.9035 - val_loss: 0.5053 - val_accuracy: 0.7836\n",
            "Epoch 5/50\n",
            "67/69 [============================>.] - ETA: 0s - loss: 0.1982 - accuracy: 0.9272\n",
            "Epoch 00005: val_loss did not improve from 0.50530\n",
            "69/69 [==============================] - 1s 13ms/step - loss: 0.1974 - accuracy: 0.9281 - val_loss: 0.5419 - val_accuracy: 0.7709\n",
            "Epoch 6/50\n",
            "65/69 [===========================>..] - ETA: 0s - loss: 0.1614 - accuracy: 0.9380\n",
            "Epoch 00006: val_loss did not improve from 0.50530\n",
            "69/69 [==============================] - 1s 13ms/step - loss: 0.1595 - accuracy: 0.9390 - val_loss: 0.6626 - val_accuracy: 0.7164\n",
            "Epoch 7/50\n",
            "67/69 [============================>.] - ETA: 0s - loss: 0.1320 - accuracy: 0.9492\n",
            "Epoch 00007: val_loss did not improve from 0.50530\n",
            "69/69 [==============================] - 1s 13ms/step - loss: 0.1319 - accuracy: 0.9495 - val_loss: 0.6509 - val_accuracy: 0.7473\n",
            "Epoch 8/50\n",
            "68/69 [============================>.] - ETA: 0s - loss: 0.1081 - accuracy: 0.9591\n",
            "Epoch 00008: val_loss did not improve from 0.50530\n",
            "69/69 [==============================] - 1s 13ms/step - loss: 0.1077 - accuracy: 0.9595 - val_loss: 0.7411 - val_accuracy: 0.7164\n",
            "Epoch 9/50\n",
            "68/69 [============================>.] - ETA: 0s - loss: 0.0940 - accuracy: 0.9628\n",
            "Epoch 00009: val_loss did not improve from 0.50530\n",
            "69/69 [==============================] - 1s 13ms/step - loss: 0.0936 - accuracy: 0.9631 - val_loss: 0.7380 - val_accuracy: 0.7527\n",
            "Epoch 10/50\n",
            "65/69 [===========================>..] - ETA: 0s - loss: 0.0814 - accuracy: 0.9702\n",
            "Epoch 00010: val_loss did not improve from 0.50530\n",
            "69/69 [==============================] - 1s 12ms/step - loss: 0.0818 - accuracy: 0.9704 - val_loss: 0.8265 - val_accuracy: 0.7309\n",
            "Epoch 11/50\n",
            "66/69 [===========================>..] - ETA: 0s - loss: 0.0849 - accuracy: 0.9621\n",
            "Epoch 00011: val_loss did not improve from 0.50530\n",
            "69/69 [==============================] - 1s 13ms/step - loss: 0.0848 - accuracy: 0.9622 - val_loss: 0.7398 - val_accuracy: 0.7709\n",
            "Epoch 12/50\n",
            "68/69 [============================>.] - ETA: 0s - loss: 0.0717 - accuracy: 0.9724\n",
            "Epoch 00012: val_loss did not improve from 0.50530\n",
            "69/69 [==============================] - 1s 13ms/step - loss: 0.0724 - accuracy: 0.9718 - val_loss: 0.8393 - val_accuracy: 0.7400\n",
            "Epoch 13/50\n",
            "68/69 [============================>.] - ETA: 0s - loss: 0.0655 - accuracy: 0.9733\n",
            "Epoch 00013: val_loss did not improve from 0.50530\n",
            "69/69 [==============================] - 1s 13ms/step - loss: 0.0660 - accuracy: 0.9731 - val_loss: 1.0055 - val_accuracy: 0.7127\n",
            "Epoch 14/50\n",
            "65/69 [===========================>..] - ETA: 0s - loss: 0.0611 - accuracy: 0.9750\n",
            "Epoch 00014: val_loss did not improve from 0.50530\n",
            "69/69 [==============================] - 1s 12ms/step - loss: 0.0611 - accuracy: 0.9754 - val_loss: 1.0570 - val_accuracy: 0.7091\n",
            "\n",
            "\n",
            "\n",
            "\n",
            "---------------------------------------------------------------------------\n",
            "Training model for hyperparameter combination 2:\n",
            "Min occurances to be included in Vocab: 1 --> Vocabulary Size: 1796\n",
            "Quantile: 0.8312037280884873 --> Time Steps: 9\n",
            "Embedding Size: 92, RNN Neurons: 27, Dropout: 0.023233444867279785\n",
            "---------------------------------------------------------------------------\n",
            "\n",
            "\n",
            "Model: \"sequential_1\"\n",
            "_________________________________________________________________\n",
            "Layer (type)                 Output Shape              Param #   \n",
            "=================================================================\n",
            "embedding_1 (Embedding)      (None, 9, 92)             165232    \n",
            "_________________________________________________________________\n",
            "simple_rnn_1 (SimpleRNN)     (None, 27)                3240      \n",
            "_________________________________________________________________\n",
            "dropout_1 (Dropout)          (None, 27)                0         \n",
            "_________________________________________________________________\n",
            "dense_1 (Dense)              (None, 1)                 28        \n",
            "=================================================================\n",
            "Total params: 168,500\n",
            "Trainable params: 168,500\n",
            "Non-trainable params: 0\n",
            "_________________________________________________________________\n",
            "None\n",
            "Epoch 1/50\n",
            "68/69 [============================>.] - ETA: 0s - loss: 0.6835 - accuracy: 0.5579\n",
            "Epoch 00001: val_loss did not improve from 0.50530\n",
            "69/69 [==============================] - 1s 14ms/step - loss: 0.6833 - accuracy: 0.5583 - val_loss: 0.6649 - val_accuracy: 0.6382\n",
            "Epoch 2/50\n",
            "64/69 [==========================>...] - ETA: 0s - loss: 0.4690 - accuracy: 0.8901\n",
            "Epoch 00002: val_loss did not improve from 0.50530\n",
            "69/69 [==============================] - 1s 11ms/step - loss: 0.4666 - accuracy: 0.8843 - val_loss: 0.6179 - val_accuracy: 0.6691\n",
            "Epoch 3/50\n",
            "66/69 [===========================>..] - ETA: 0s - loss: 0.1808 - accuracy: 0.9508\n",
            "Epoch 00003: val_loss did not improve from 0.50530\n",
            "69/69 [==============================] - 1s 12ms/step - loss: 0.1812 - accuracy: 0.9504 - val_loss: 0.6133 - val_accuracy: 0.6982\n",
            "Epoch 4/50\n",
            "65/69 [===========================>..] - ETA: 0s - loss: 0.0872 - accuracy: 0.9788\n",
            "Epoch 00004: val_loss did not improve from 0.50530\n",
            "69/69 [==============================] - 1s 11ms/step - loss: 0.0884 - accuracy: 0.9781 - val_loss: 0.6702 - val_accuracy: 0.7073\n",
            "Epoch 5/50\n",
            "69/69 [==============================] - ETA: 0s - loss: 0.0584 - accuracy: 0.9841\n",
            "Epoch 00005: val_loss did not improve from 0.50530\n",
            "69/69 [==============================] - 1s 12ms/step - loss: 0.0584 - accuracy: 0.9841 - val_loss: 0.7229 - val_accuracy: 0.6982\n",
            "Epoch 6/50\n",
            "66/69 [===========================>..] - ETA: 0s - loss: 0.0443 - accuracy: 0.9877\n",
            "Epoch 00006: val_loss did not improve from 0.50530\n",
            "69/69 [==============================] - 1s 11ms/step - loss: 0.0441 - accuracy: 0.9877 - val_loss: 0.8360 - val_accuracy: 0.6727\n",
            "Epoch 7/50\n",
            "66/69 [===========================>..] - ETA: 0s - loss: 0.0384 - accuracy: 0.9882\n",
            "Epoch 00007: val_loss did not improve from 0.50530\n",
            "69/69 [==============================] - 1s 11ms/step - loss: 0.0379 - accuracy: 0.9882 - val_loss: 0.8295 - val_accuracy: 0.6891\n",
            "Epoch 8/50\n",
            "67/69 [============================>.] - ETA: 0s - loss: 0.0286 - accuracy: 0.9897\n",
            "Epoch 00008: val_loss did not improve from 0.50530\n",
            "69/69 [==============================] - 1s 12ms/step - loss: 0.0282 - accuracy: 0.9900 - val_loss: 0.8831 - val_accuracy: 0.6891\n",
            "Epoch 9/50\n",
            "66/69 [===========================>..] - ETA: 0s - loss: 0.0253 - accuracy: 0.9915\n",
            "Epoch 00009: val_loss did not improve from 0.50530\n",
            "69/69 [==============================] - 1s 11ms/step - loss: 0.0259 - accuracy: 0.9913 - val_loss: 0.9408 - val_accuracy: 0.6836\n",
            "Epoch 10/50\n",
            "68/69 [============================>.] - ETA: 0s - loss: 0.0249 - accuracy: 0.9908\n",
            "Epoch 00010: val_loss did not improve from 0.50530\n",
            "69/69 [==============================] - 1s 11ms/step - loss: 0.0247 - accuracy: 0.9909 - val_loss: 0.9601 - val_accuracy: 0.6782\n",
            "Epoch 11/50\n",
            "67/69 [============================>.] - ETA: 0s - loss: 0.0245 - accuracy: 0.9907\n",
            "Epoch 00011: val_loss did not improve from 0.50530\n",
            "69/69 [==============================] - 1s 11ms/step - loss: 0.0242 - accuracy: 0.9909 - val_loss: 0.9849 - val_accuracy: 0.6945\n",
            "Epoch 12/50\n",
            "68/69 [============================>.] - ETA: 0s - loss: 0.0231 - accuracy: 0.9908\n",
            "Epoch 00012: val_loss did not improve from 0.50530\n",
            "69/69 [==============================] - 1s 11ms/step - loss: 0.0240 - accuracy: 0.9904 - val_loss: 1.0148 - val_accuracy: 0.7055\n",
            "Epoch 13/50\n",
            "67/69 [============================>.] - ETA: 0s - loss: 0.0206 - accuracy: 0.9925\n",
            "Epoch 00013: val_loss did not improve from 0.50530\n",
            "69/69 [==============================] - 1s 12ms/step - loss: 0.0202 - accuracy: 0.9927 - val_loss: 1.0185 - val_accuracy: 0.6945\n",
            "\n",
            "\n",
            "\n",
            "\n",
            "---------------------------------------------------------------------------\n",
            "Training model for hyperparameter combination 3:\n",
            "Min occurances to be included in Vocab: 1 --> Vocabulary Size: 1796\n",
            "Quantile: 0.9202230023486417 --> Time Steps: 12\n",
            "Embedding Size: 33, RNN Neurons: 7, Dropout: 0.008233797718320978\n",
            "---------------------------------------------------------------------------\n",
            "\n",
            "\n",
            "Model: \"sequential_2\"\n",
            "_________________________________________________________________\n",
            "Layer (type)                 Output Shape              Param #   \n",
            "=================================================================\n",
            "embedding_2 (Embedding)      (None, 12, 33)            59268     \n",
            "_________________________________________________________________\n",
            "simple_rnn_2 (SimpleRNN)     (None, 7)                 287       \n",
            "_________________________________________________________________\n",
            "dropout_2 (Dropout)          (None, 7)                 0         \n",
            "_________________________________________________________________\n",
            "dense_2 (Dense)              (None, 1)                 8         \n",
            "=================================================================\n",
            "Total params: 59,563\n",
            "Trainable params: 59,563\n",
            "Non-trainable params: 0\n",
            "_________________________________________________________________\n",
            "None\n",
            "Epoch 1/50\n",
            "69/69 [==============================] - ETA: 0s - loss: 0.6803 - accuracy: 0.5842\n",
            "Epoch 00001: val_loss did not improve from 0.50530\n",
            "69/69 [==============================] - 1s 15ms/step - loss: 0.6803 - accuracy: 0.5842 - val_loss: 0.6614 - val_accuracy: 0.6491\n",
            "Epoch 2/50\n",
            "68/69 [============================>.] - ETA: 0s - loss: 0.5495 - accuracy: 0.8506\n",
            "Epoch 00002: val_loss did not improve from 0.50530\n",
            "69/69 [==============================] - 1s 12ms/step - loss: 0.5494 - accuracy: 0.8502 - val_loss: 0.5999 - val_accuracy: 0.7273\n",
            "Epoch 3/50\n",
            "69/69 [==============================] - ETA: 0s - loss: 0.3650 - accuracy: 0.9185\n",
            "Epoch 00003: val_loss did not improve from 0.50530\n",
            "69/69 [==============================] - 1s 12ms/step - loss: 0.3650 - accuracy: 0.9185 - val_loss: 0.5742 - val_accuracy: 0.7055\n",
            "Epoch 4/50\n",
            "69/69 [==============================] - ETA: 0s - loss: 0.2427 - accuracy: 0.9381\n",
            "Epoch 00004: val_loss did not improve from 0.50530\n",
            "69/69 [==============================] - 1s 12ms/step - loss: 0.2427 - accuracy: 0.9381 - val_loss: 0.5472 - val_accuracy: 0.7236\n",
            "Epoch 5/50\n",
            "66/69 [===========================>..] - ETA: 0s - loss: 0.1668 - accuracy: 0.9635\n",
            "Epoch 00005: val_loss did not improve from 0.50530\n",
            "69/69 [==============================] - 1s 13ms/step - loss: 0.1662 - accuracy: 0.9640 - val_loss: 0.5694 - val_accuracy: 0.7291\n",
            "Epoch 6/50\n",
            "69/69 [==============================] - ETA: 0s - loss: 0.1255 - accuracy: 0.9722\n",
            "Epoch 00006: val_loss did not improve from 0.50530\n",
            "69/69 [==============================] - 1s 12ms/step - loss: 0.1255 - accuracy: 0.9722 - val_loss: 0.6114 - val_accuracy: 0.7127\n",
            "Epoch 7/50\n",
            "67/69 [============================>.] - ETA: 0s - loss: 0.0974 - accuracy: 0.9809\n",
            "Epoch 00007: val_loss did not improve from 0.50530\n",
            "69/69 [==============================] - 1s 12ms/step - loss: 0.0965 - accuracy: 0.9813 - val_loss: 0.6321 - val_accuracy: 0.7145\n",
            "Epoch 8/50\n",
            "66/69 [===========================>..] - ETA: 0s - loss: 0.0758 - accuracy: 0.9825\n",
            "Epoch 00008: val_loss did not improve from 0.50530\n",
            "69/69 [==============================] - 1s 12ms/step - loss: 0.0761 - accuracy: 0.9827 - val_loss: 0.6701 - val_accuracy: 0.7164\n",
            "Epoch 9/50\n",
            "69/69 [==============================] - ETA: 0s - loss: 0.0629 - accuracy: 0.9850\n",
            "Epoch 00009: val_loss did not improve from 0.50530\n",
            "69/69 [==============================] - 1s 12ms/step - loss: 0.0629 - accuracy: 0.9850 - val_loss: 0.7037 - val_accuracy: 0.7145\n",
            "Epoch 10/50\n",
            "68/69 [============================>.] - ETA: 0s - loss: 0.0575 - accuracy: 0.9862\n",
            "Epoch 00010: val_loss did not improve from 0.50530\n",
            "69/69 [==============================] - 1s 13ms/step - loss: 0.0575 - accuracy: 0.9863 - val_loss: 0.7607 - val_accuracy: 0.7055\n",
            "Epoch 11/50\n",
            "69/69 [==============================] - ETA: 0s - loss: 0.0486 - accuracy: 0.9891\n",
            "Epoch 00011: val_loss did not improve from 0.50530\n",
            "69/69 [==============================] - 1s 12ms/step - loss: 0.0486 - accuracy: 0.9891 - val_loss: 0.7604 - val_accuracy: 0.7073\n",
            "Epoch 12/50\n",
            "68/69 [============================>.] - ETA: 0s - loss: 0.0410 - accuracy: 0.9903\n",
            "Epoch 00012: val_loss did not improve from 0.50530\n",
            "69/69 [==============================] - 1s 12ms/step - loss: 0.0418 - accuracy: 0.9900 - val_loss: 0.7895 - val_accuracy: 0.7127\n",
            "Epoch 13/50\n",
            "65/69 [===========================>..] - ETA: 0s - loss: 0.0390 - accuracy: 0.9904\n",
            "Epoch 00013: val_loss did not improve from 0.50530\n",
            "69/69 [==============================] - 1s 12ms/step - loss: 0.0380 - accuracy: 0.9909 - val_loss: 0.8116 - val_accuracy: 0.7073\n",
            "Epoch 14/50\n",
            "67/69 [============================>.] - ETA: 0s - loss: 0.0338 - accuracy: 0.9907\n",
            "Epoch 00014: val_loss did not improve from 0.50530\n",
            "69/69 [==============================] - 1s 13ms/step - loss: 0.0335 - accuracy: 0.9909 - val_loss: 0.8488 - val_accuracy: 0.7036\n",
            "\n",
            "\n",
            "\n",
            "\n",
            "---------------------------------------------------------------------------\n",
            "Training model for hyperparameter combination 4:\n",
            "Min occurances to be included in Vocab: 2 --> Vocabulary Size: 1105\n",
            "Quantile: 0.944399754453365 --> Time Steps: 13\n",
            "Embedding Size: 39, RNN Neurons: 42, Dropout: 0.00031150633640573136\n",
            "---------------------------------------------------------------------------\n",
            "\n",
            "\n",
            "Model: \"sequential_3\"\n",
            "_________________________________________________________________\n",
            "Layer (type)                 Output Shape              Param #   \n",
            "=================================================================\n",
            "embedding_3 (Embedding)      (None, 13, 39)            43095     \n",
            "_________________________________________________________________\n",
            "simple_rnn_3 (SimpleRNN)     (None, 42)                3444      \n",
            "_________________________________________________________________\n",
            "dropout_3 (Dropout)          (None, 42)                0         \n",
            "_________________________________________________________________\n",
            "dense_3 (Dense)              (None, 1)                 43        \n",
            "=================================================================\n",
            "Total params: 46,582\n",
            "Trainable params: 46,582\n",
            "Non-trainable params: 0\n",
            "_________________________________________________________________\n",
            "None\n",
            "Epoch 1/50\n",
            "69/69 [==============================] - ETA: 0s - loss: 0.6890 - accuracy: 0.5433\n",
            "Epoch 00001: val_loss did not improve from 0.50530\n",
            "69/69 [==============================] - 1s 14ms/step - loss: 0.6890 - accuracy: 0.5433 - val_loss: 0.6793 - val_accuracy: 0.5873\n",
            "Epoch 2/50\n",
            "67/69 [============================>.] - ETA: 0s - loss: 0.5525 - accuracy: 0.7971\n",
            "Epoch 00002: val_loss did not improve from 0.50530\n",
            "69/69 [==============================] - 1s 13ms/step - loss: 0.5532 - accuracy: 0.7942 - val_loss: 0.6669 - val_accuracy: 0.6091\n",
            "Epoch 3/50\n",
            "69/69 [==============================] - ETA: 0s - loss: 0.2854 - accuracy: 0.9094\n",
            "Epoch 00003: val_loss did not improve from 0.50530\n",
            "69/69 [==============================] - 1s 13ms/step - loss: 0.2854 - accuracy: 0.9094 - val_loss: 0.6842 - val_accuracy: 0.6691\n",
            "Epoch 4/50\n",
            "68/69 [============================>.] - ETA: 0s - loss: 0.1623 - accuracy: 0.9494\n",
            "Epoch 00004: val_loss did not improve from 0.50530\n",
            "69/69 [==============================] - 1s 12ms/step - loss: 0.1620 - accuracy: 0.9490 - val_loss: 0.7547 - val_accuracy: 0.6818\n",
            "Epoch 5/50\n",
            "67/69 [============================>.] - ETA: 0s - loss: 0.1131 - accuracy: 0.9604\n",
            "Epoch 00005: val_loss did not improve from 0.50530\n",
            "69/69 [==============================] - 1s 13ms/step - loss: 0.1133 - accuracy: 0.9608 - val_loss: 0.8222 - val_accuracy: 0.6873\n",
            "Epoch 6/50\n",
            "68/69 [============================>.] - ETA: 0s - loss: 0.0843 - accuracy: 0.9720\n",
            "Epoch 00006: val_loss did not improve from 0.50530\n",
            "69/69 [==============================] - 1s 13ms/step - loss: 0.0842 - accuracy: 0.9718 - val_loss: 0.8871 - val_accuracy: 0.6855\n",
            "Epoch 7/50\n",
            "68/69 [============================>.] - ETA: 0s - loss: 0.0657 - accuracy: 0.9807\n",
            "Epoch 00007: val_loss did not improve from 0.50530\n",
            "69/69 [==============================] - 1s 13ms/step - loss: 0.0659 - accuracy: 0.9804 - val_loss: 0.9043 - val_accuracy: 0.6836\n",
            "Epoch 8/50\n",
            "67/69 [============================>.] - ETA: 0s - loss: 0.0560 - accuracy: 0.9813\n",
            "Epoch 00008: val_loss did not improve from 0.50530\n",
            "69/69 [==============================] - 1s 13ms/step - loss: 0.0557 - accuracy: 0.9813 - val_loss: 0.9353 - val_accuracy: 0.6927\n",
            "Epoch 9/50\n",
            "69/69 [==============================] - ETA: 0s - loss: 0.0525 - accuracy: 0.9818\n",
            "Epoch 00009: val_loss did not improve from 0.50530\n",
            "69/69 [==============================] - 1s 12ms/step - loss: 0.0525 - accuracy: 0.9818 - val_loss: 0.9929 - val_accuracy: 0.6745\n",
            "Epoch 10/50\n",
            "67/69 [============================>.] - ETA: 0s - loss: 0.0451 - accuracy: 0.9837\n",
            "Epoch 00010: val_loss did not improve from 0.50530\n",
            "69/69 [==============================] - 1s 13ms/step - loss: 0.0445 - accuracy: 0.9841 - val_loss: 1.0136 - val_accuracy: 0.6745\n",
            "Epoch 11/50\n",
            "65/69 [===========================>..] - ETA: 0s - loss: 0.0407 - accuracy: 0.9841\n",
            "Epoch 00011: val_loss did not improve from 0.50530\n",
            "69/69 [==============================] - 1s 12ms/step - loss: 0.0410 - accuracy: 0.9836 - val_loss: 1.0047 - val_accuracy: 0.6764\n",
            "Epoch 12/50\n",
            "68/69 [============================>.] - ETA: 0s - loss: 0.0348 - accuracy: 0.9894\n",
            "Epoch 00012: val_loss did not improve from 0.50530\n",
            "69/69 [==============================] - 1s 13ms/step - loss: 0.0352 - accuracy: 0.9891 - val_loss: 1.0518 - val_accuracy: 0.6709\n",
            "\n",
            "\n",
            "\n",
            "\n",
            "---------------------------------------------------------------------------\n",
            "Training model for hyperparameter combination 5:\n",
            "Min occurances to be included in Vocab: 1 --> Vocabulary Size: 1796\n",
            "Quantile: 0.9234963019255433 --> Time Steps: 12\n",
            "Embedding Size: 67, RNN Neurons: 26, Dropout: 0.0028265220878869626\n",
            "---------------------------------------------------------------------------\n",
            "\n",
            "\n",
            "Model: \"sequential_4\"\n",
            "_________________________________________________________________\n",
            "Layer (type)                 Output Shape              Param #   \n",
            "=================================================================\n",
            "embedding_4 (Embedding)      (None, 12, 67)            120332    \n",
            "_________________________________________________________________\n",
            "simple_rnn_4 (SimpleRNN)     (None, 26)                2444      \n",
            "_________________________________________________________________\n",
            "dropout_4 (Dropout)          (None, 26)                0         \n",
            "_________________________________________________________________\n",
            "dense_4 (Dense)              (None, 1)                 27        \n",
            "=================================================================\n",
            "Total params: 122,803\n",
            "Trainable params: 122,803\n",
            "Non-trainable params: 0\n",
            "_________________________________________________________________\n",
            "None\n",
            "Epoch 1/50\n",
            "69/69 [==============================] - ETA: 0s - loss: 0.6806 - accuracy: 0.5610\n",
            "Epoch 00001: val_loss did not improve from 0.50530\n",
            "69/69 [==============================] - 1s 15ms/step - loss: 0.6806 - accuracy: 0.5610 - val_loss: 0.6544 - val_accuracy: 0.6855\n",
            "Epoch 2/50\n",
            "69/69 [==============================] - ETA: 0s - loss: 0.4733 - accuracy: 0.8502\n",
            "Epoch 00002: val_loss did not improve from 0.50530\n",
            "69/69 [==============================] - 1s 13ms/step - loss: 0.4733 - accuracy: 0.8502 - val_loss: 0.5551 - val_accuracy: 0.6945\n",
            "Epoch 3/50\n",
            "69/69 [==============================] - ETA: 0s - loss: 0.2238 - accuracy: 0.9362\n",
            "Epoch 00003: val_loss did not improve from 0.50530\n",
            "69/69 [==============================] - 1s 13ms/step - loss: 0.2238 - accuracy: 0.9362 - val_loss: 0.5967 - val_accuracy: 0.7073\n",
            "Epoch 4/50\n",
            "69/69 [==============================] - ETA: 0s - loss: 0.1216 - accuracy: 0.9649\n",
            "Epoch 00004: val_loss did not improve from 0.50530\n",
            "69/69 [==============================] - 1s 13ms/step - loss: 0.1216 - accuracy: 0.9649 - val_loss: 0.6076 - val_accuracy: 0.7236\n",
            "Epoch 5/50\n",
            "65/69 [===========================>..] - ETA: 0s - loss: 0.0779 - accuracy: 0.9822\n",
            "Epoch 00005: val_loss did not improve from 0.50530\n",
            "69/69 [==============================] - 1s 12ms/step - loss: 0.0784 - accuracy: 0.9818 - val_loss: 0.6735 - val_accuracy: 0.7291\n",
            "Epoch 6/50\n",
            "68/69 [============================>.] - ETA: 0s - loss: 0.0586 - accuracy: 0.9816\n",
            "Epoch 00006: val_loss did not improve from 0.50530\n",
            "69/69 [==============================] - 1s 13ms/step - loss: 0.0582 - accuracy: 0.9818 - val_loss: 0.7089 - val_accuracy: 0.7309\n",
            "Epoch 7/50\n",
            "68/69 [============================>.] - ETA: 0s - loss: 0.0485 - accuracy: 0.9862\n",
            "Epoch 00007: val_loss did not improve from 0.50530\n",
            "69/69 [==============================] - 1s 13ms/step - loss: 0.0483 - accuracy: 0.9863 - val_loss: 0.7399 - val_accuracy: 0.7236\n",
            "Epoch 8/50\n",
            "68/69 [============================>.] - ETA: 0s - loss: 0.0370 - accuracy: 0.9899\n",
            "Epoch 00008: val_loss did not improve from 0.50530\n",
            "69/69 [==============================] - 1s 13ms/step - loss: 0.0368 - accuracy: 0.9900 - val_loss: 0.7925 - val_accuracy: 0.7364\n",
            "Epoch 9/50\n",
            "68/69 [============================>.] - ETA: 0s - loss: 0.0319 - accuracy: 0.9876\n",
            "Epoch 00009: val_loss did not improve from 0.50530\n",
            "69/69 [==============================] - 1s 12ms/step - loss: 0.0319 - accuracy: 0.9877 - val_loss: 0.8365 - val_accuracy: 0.7309\n",
            "Epoch 10/50\n",
            "67/69 [============================>.] - ETA: 0s - loss: 0.0323 - accuracy: 0.9893\n",
            "Epoch 00010: val_loss did not improve from 0.50530\n",
            "69/69 [==============================] - 1s 13ms/step - loss: 0.0319 - accuracy: 0.9895 - val_loss: 0.8402 - val_accuracy: 0.7255\n",
            "Epoch 11/50\n",
            "65/69 [===========================>..] - ETA: 0s - loss: 0.0291 - accuracy: 0.9909\n",
            "Epoch 00011: val_loss did not improve from 0.50530\n",
            "69/69 [==============================] - 1s 12ms/step - loss: 0.0288 - accuracy: 0.9909 - val_loss: 0.8332 - val_accuracy: 0.7400\n",
            "Epoch 12/50\n",
            "69/69 [==============================] - ETA: 0s - loss: 0.0273 - accuracy: 0.9909\n",
            "Epoch 00012: val_loss did not improve from 0.50530\n",
            "69/69 [==============================] - 1s 13ms/step - loss: 0.0273 - accuracy: 0.9909 - val_loss: 0.9045 - val_accuracy: 0.7273\n",
            "\n",
            "\n",
            "\n",
            "\n",
            "---------------------------------------------------------------------------\n",
            "Training model for hyperparameter combination 6:\n",
            "Min occurances to be included in Vocab: 1 --> Vocabulary Size: 1796\n",
            "Quantile: 0.8582458280396084 --> Time Steps: 10\n",
            "Embedding Size: 68, RNN Neurons: 46, Dropout: 0.01866626528544617\n",
            "---------------------------------------------------------------------------\n",
            "\n",
            "\n",
            "Model: \"sequential_5\"\n",
            "_________________________________________________________________\n",
            "Layer (type)                 Output Shape              Param #   \n",
            "=================================================================\n",
            "embedding_5 (Embedding)      (None, 10, 68)            122128    \n",
            "_________________________________________________________________\n",
            "simple_rnn_5 (SimpleRNN)     (None, 46)                5290      \n",
            "_________________________________________________________________\n",
            "dropout_5 (Dropout)          (None, 46)                0         \n",
            "_________________________________________________________________\n",
            "dense_5 (Dense)              (None, 1)                 47        \n",
            "=================================================================\n",
            "Total params: 127,465\n",
            "Trainable params: 127,465\n",
            "Non-trainable params: 0\n",
            "_________________________________________________________________\n",
            "None\n",
            "Epoch 1/50\n",
            "67/69 [============================>.] - ETA: 0s - loss: 0.6767 - accuracy: 0.5826\n",
            "Epoch 00001: val_loss did not improve from 0.50530\n",
            "69/69 [==============================] - 1s 14ms/step - loss: 0.6755 - accuracy: 0.5861 - val_loss: 0.6392 - val_accuracy: 0.6727\n",
            "Epoch 2/50\n",
            "69/69 [==============================] - ETA: 0s - loss: 0.4182 - accuracy: 0.8484\n",
            "Epoch 00002: val_loss did not improve from 0.50530\n",
            "69/69 [==============================] - 1s 11ms/step - loss: 0.4182 - accuracy: 0.8484 - val_loss: 0.5295 - val_accuracy: 0.7327\n",
            "Epoch 3/50\n",
            "64/69 [==========================>...] - ETA: 0s - loss: 0.1774 - accuracy: 0.9419\n",
            "Epoch 00003: val_loss did not improve from 0.50530\n",
            "69/69 [==============================] - 1s 11ms/step - loss: 0.1761 - accuracy: 0.9417 - val_loss: 0.5631 - val_accuracy: 0.7364\n",
            "Epoch 4/50\n",
            "67/69 [============================>.] - ETA: 0s - loss: 0.0879 - accuracy: 0.9734\n",
            "Epoch 00004: val_loss did not improve from 0.50530\n",
            "69/69 [==============================] - 1s 11ms/step - loss: 0.0889 - accuracy: 0.9727 - val_loss: 0.6449 - val_accuracy: 0.7455\n",
            "Epoch 5/50\n",
            "65/69 [===========================>..] - ETA: 0s - loss: 0.0593 - accuracy: 0.9798\n",
            "Epoch 00005: val_loss did not improve from 0.50530\n",
            "69/69 [==============================] - 1s 12ms/step - loss: 0.0601 - accuracy: 0.9795 - val_loss: 0.7103 - val_accuracy: 0.7364\n",
            "Epoch 6/50\n",
            "65/69 [===========================>..] - ETA: 0s - loss: 0.0454 - accuracy: 0.9856\n",
            "Epoch 00006: val_loss did not improve from 0.50530\n",
            "69/69 [==============================] - 1s 11ms/step - loss: 0.0452 - accuracy: 0.9859 - val_loss: 0.8024 - val_accuracy: 0.7164\n",
            "Epoch 7/50\n",
            "64/69 [==========================>...] - ETA: 0s - loss: 0.0378 - accuracy: 0.9878\n",
            "Epoch 00007: val_loss did not improve from 0.50530\n",
            "69/69 [==============================] - 1s 11ms/step - loss: 0.0377 - accuracy: 0.9872 - val_loss: 0.8323 - val_accuracy: 0.7327\n",
            "Epoch 8/50\n",
            "66/69 [===========================>..] - ETA: 0s - loss: 0.0286 - accuracy: 0.9901\n",
            "Epoch 00008: val_loss did not improve from 0.50530\n",
            "69/69 [==============================] - 1s 11ms/step - loss: 0.0283 - accuracy: 0.9900 - val_loss: 0.8707 - val_accuracy: 0.7400\n",
            "Epoch 9/50\n",
            "69/69 [==============================] - ETA: 0s - loss: 0.0249 - accuracy: 0.9913\n",
            "Epoch 00009: val_loss did not improve from 0.50530\n",
            "69/69 [==============================] - 1s 11ms/step - loss: 0.0249 - accuracy: 0.9913 - val_loss: 0.9228 - val_accuracy: 0.7364\n",
            "Epoch 10/50\n",
            "69/69 [==============================] - ETA: 0s - loss: 0.0242 - accuracy: 0.9904\n",
            "Epoch 00010: val_loss did not improve from 0.50530\n",
            "69/69 [==============================] - 1s 11ms/step - loss: 0.0242 - accuracy: 0.9904 - val_loss: 0.9672 - val_accuracy: 0.7382\n",
            "Epoch 11/50\n",
            "64/69 [==========================>...] - ETA: 0s - loss: 0.0235 - accuracy: 0.9907\n",
            "Epoch 00011: val_loss did not improve from 0.50530\n",
            "69/69 [==============================] - 1s 11ms/step - loss: 0.0236 - accuracy: 0.9904 - val_loss: 1.1215 - val_accuracy: 0.6909\n",
            "Epoch 12/50\n",
            "69/69 [==============================] - ETA: 0s - loss: 0.0232 - accuracy: 0.9918\n",
            "Epoch 00012: val_loss did not improve from 0.50530\n",
            "69/69 [==============================] - 1s 12ms/step - loss: 0.0232 - accuracy: 0.9918 - val_loss: 1.0157 - val_accuracy: 0.7345\n",
            "\n",
            "\n",
            "\n",
            "\n",
            "---------------------------------------------------------------------------\n",
            "Training model for hyperparameter combination 7:\n",
            "Min occurances to be included in Vocab: 3 --> Vocabulary Size: 796\n",
            "Quantile: 0.8912139968434072 --> Time Steps: 11\n",
            "Embedding Size: 56, RNN Neurons: 48, Dropout: 0.20569377536544464\n",
            "---------------------------------------------------------------------------\n",
            "\n",
            "\n",
            "Model: \"sequential_6\"\n",
            "_________________________________________________________________\n",
            "Layer (type)                 Output Shape              Param #   \n",
            "=================================================================\n",
            "embedding_6 (Embedding)      (None, 11, 56)            44576     \n",
            "_________________________________________________________________\n",
            "simple_rnn_6 (SimpleRNN)     (None, 48)                5040      \n",
            "_________________________________________________________________\n",
            "dropout_6 (Dropout)          (None, 48)                0         \n",
            "_________________________________________________________________\n",
            "dense_6 (Dense)              (None, 1)                 49        \n",
            "=================================================================\n",
            "Total params: 49,665\n",
            "Trainable params: 49,665\n",
            "Non-trainable params: 0\n",
            "_________________________________________________________________\n",
            "None\n",
            "Epoch 1/50\n",
            "64/69 [==========================>...] - ETA: 0s - loss: 0.6899 - accuracy: 0.5171\n",
            "Epoch 00001: val_loss did not improve from 0.50530\n",
            "69/69 [==============================] - 1s 14ms/step - loss: 0.6890 - accuracy: 0.5269 - val_loss: 0.6767 - val_accuracy: 0.6309\n",
            "Epoch 2/50\n",
            "69/69 [==============================] - ETA: 0s - loss: 0.5665 - accuracy: 0.7755\n",
            "Epoch 00002: val_loss did not improve from 0.50530\n",
            "69/69 [==============================] - 1s 11ms/step - loss: 0.5665 - accuracy: 0.7755 - val_loss: 0.5314 - val_accuracy: 0.7436\n",
            "Epoch 3/50\n",
            "68/69 [============================>.] - ETA: 0s - loss: 0.3336 - accuracy: 0.8727\n",
            "Epoch 00003: val_loss did not improve from 0.50530\n",
            "69/69 [==============================] - 1s 11ms/step - loss: 0.3338 - accuracy: 0.8720 - val_loss: 0.5710 - val_accuracy: 0.7127\n",
            "Epoch 4/50\n",
            "68/69 [============================>.] - ETA: 0s - loss: 0.2050 - accuracy: 0.9274\n",
            "Epoch 00004: val_loss did not improve from 0.50530\n",
            "69/69 [==============================] - 1s 11ms/step - loss: 0.2042 - accuracy: 0.9276 - val_loss: 0.6328 - val_accuracy: 0.7091\n",
            "Epoch 5/50\n",
            "68/69 [============================>.] - ETA: 0s - loss: 0.1485 - accuracy: 0.9421\n",
            "Epoch 00005: val_loss did not improve from 0.50530\n",
            "69/69 [==============================] - 1s 11ms/step - loss: 0.1496 - accuracy: 0.9417 - val_loss: 0.7359 - val_accuracy: 0.7036\n",
            "Epoch 6/50\n",
            "64/69 [==========================>...] - ETA: 0s - loss: 0.1174 - accuracy: 0.9585\n",
            "Epoch 00006: val_loss did not improve from 0.50530\n",
            "69/69 [==============================] - 1s 11ms/step - loss: 0.1170 - accuracy: 0.9572 - val_loss: 0.7492 - val_accuracy: 0.7200\n",
            "Epoch 7/50\n",
            "67/69 [============================>.] - ETA: 0s - loss: 0.0911 - accuracy: 0.9655\n",
            "Epoch 00007: val_loss did not improve from 0.50530\n",
            "69/69 [==============================] - 1s 11ms/step - loss: 0.0909 - accuracy: 0.9658 - val_loss: 0.8641 - val_accuracy: 0.6873\n",
            "Epoch 8/50\n",
            "67/69 [============================>.] - ETA: 0s - loss: 0.0803 - accuracy: 0.9711\n",
            "Epoch 00008: val_loss did not improve from 0.50530\n",
            "69/69 [==============================] - 1s 12ms/step - loss: 0.0791 - accuracy: 0.9718 - val_loss: 0.9656 - val_accuracy: 0.6818\n",
            "Epoch 9/50\n",
            "68/69 [============================>.] - ETA: 0s - loss: 0.0735 - accuracy: 0.9697\n",
            "Epoch 00009: val_loss did not improve from 0.50530\n",
            "69/69 [==============================] - 1s 11ms/step - loss: 0.0735 - accuracy: 0.9699 - val_loss: 1.0103 - val_accuracy: 0.7000\n",
            "Epoch 10/50\n",
            "67/69 [============================>.] - ETA: 0s - loss: 0.0670 - accuracy: 0.9762\n",
            "Epoch 00010: val_loss did not improve from 0.50530\n",
            "69/69 [==============================] - 1s 11ms/step - loss: 0.0661 - accuracy: 0.9768 - val_loss: 1.0194 - val_accuracy: 0.6800\n",
            "Epoch 11/50\n",
            "68/69 [============================>.] - ETA: 0s - loss: 0.0606 - accuracy: 0.9738\n",
            "Epoch 00011: val_loss did not improve from 0.50530\n",
            "69/69 [==============================] - 1s 12ms/step - loss: 0.0605 - accuracy: 0.9740 - val_loss: 1.1018 - val_accuracy: 0.6745\n",
            "Epoch 12/50\n",
            "67/69 [============================>.] - ETA: 0s - loss: 0.0590 - accuracy: 0.9767\n",
            "Epoch 00012: val_loss did not improve from 0.50530\n",
            "69/69 [==============================] - 1s 12ms/step - loss: 0.0590 - accuracy: 0.9768 - val_loss: 1.0941 - val_accuracy: 0.6873\n",
            "\n",
            "\n",
            "\n",
            "\n",
            "---------------------------------------------------------------------------\n",
            "Training model for hyperparameter combination 8:\n",
            "Min occurances to be included in Vocab: 1 --> Vocabulary Size: 1796\n",
            "Quantile: 0.8092900825439996 --> Time Steps: 9\n",
            "Embedding Size: 60, RNN Neurons: 11, Dropout: 0.06820964947491662\n",
            "---------------------------------------------------------------------------\n",
            "\n",
            "\n",
            "Model: \"sequential_7\"\n",
            "_________________________________________________________________\n",
            "Layer (type)                 Output Shape              Param #   \n",
            "=================================================================\n",
            "embedding_7 (Embedding)      (None, 9, 60)             107760    \n",
            "_________________________________________________________________\n",
            "simple_rnn_7 (SimpleRNN)     (None, 11)                792       \n",
            "_________________________________________________________________\n",
            "dropout_7 (Dropout)          (None, 11)                0         \n",
            "_________________________________________________________________\n",
            "dense_7 (Dense)              (None, 1)                 12        \n",
            "=================================================================\n",
            "Total params: 108,564\n",
            "Trainable params: 108,564\n",
            "Non-trainable params: 0\n",
            "_________________________________________________________________\n",
            "None\n",
            "Epoch 1/50\n",
            "64/69 [==========================>...] - ETA: 0s - loss: 0.6789 - accuracy: 0.5708\n",
            "Epoch 00001: val_loss did not improve from 0.50530\n",
            "69/69 [==============================] - 1s 13ms/step - loss: 0.6775 - accuracy: 0.5724 - val_loss: 0.6527 - val_accuracy: 0.6982\n",
            "Epoch 2/50\n",
            "64/69 [==========================>...] - ETA: 0s - loss: 0.5139 - accuracy: 0.8501\n",
            "Epoch 00002: val_loss did not improve from 0.50530\n",
            "69/69 [==============================] - 1s 11ms/step - loss: 0.5107 - accuracy: 0.8474 - val_loss: 0.5395 - val_accuracy: 0.7509\n",
            "Epoch 3/50\n",
            "68/69 [============================>.] - ETA: 0s - loss: 0.2922 - accuracy: 0.9200\n",
            "Epoch 00003: val_loss did not improve from 0.50530\n",
            "69/69 [==============================] - 1s 11ms/step - loss: 0.2916 - accuracy: 0.9199 - val_loss: 0.5160 - val_accuracy: 0.7364\n",
            "Epoch 4/50\n",
            "67/69 [============================>.] - ETA: 0s - loss: 0.1779 - accuracy: 0.9501\n",
            "Epoch 00004: val_loss did not improve from 0.50530\n",
            "69/69 [==============================] - 1s 11ms/step - loss: 0.1784 - accuracy: 0.9499 - val_loss: 0.5092 - val_accuracy: 0.7527\n",
            "Epoch 5/50\n",
            "64/69 [==========================>...] - ETA: 0s - loss: 0.1154 - accuracy: 0.9741\n",
            "Epoch 00005: val_loss did not improve from 0.50530\n",
            "69/69 [==============================] - 1s 11ms/step - loss: 0.1154 - accuracy: 0.9740 - val_loss: 0.5195 - val_accuracy: 0.7745\n",
            "Epoch 6/50\n",
            "64/69 [==========================>...] - ETA: 0s - loss: 0.0912 - accuracy: 0.9766\n",
            "Epoch 00006: val_loss did not improve from 0.50530\n",
            "69/69 [==============================] - 1s 11ms/step - loss: 0.0900 - accuracy: 0.9768 - val_loss: 0.5516 - val_accuracy: 0.7636\n",
            "Epoch 7/50\n",
            "68/69 [============================>.] - ETA: 0s - loss: 0.0712 - accuracy: 0.9821\n",
            "Epoch 00007: val_loss did not improve from 0.50530\n",
            "69/69 [==============================] - 1s 11ms/step - loss: 0.0709 - accuracy: 0.9822 - val_loss: 0.5845 - val_accuracy: 0.7509\n",
            "Epoch 8/50\n",
            "65/69 [===========================>..] - ETA: 0s - loss: 0.0517 - accuracy: 0.9880\n",
            "Epoch 00008: val_loss did not improve from 0.50530\n",
            "69/69 [==============================] - 1s 11ms/step - loss: 0.0521 - accuracy: 0.9877 - val_loss: 0.6041 - val_accuracy: 0.7673\n",
            "Epoch 9/50\n",
            "65/69 [===========================>..] - ETA: 0s - loss: 0.0412 - accuracy: 0.9885\n",
            "Epoch 00009: val_loss did not improve from 0.50530\n",
            "69/69 [==============================] - 1s 11ms/step - loss: 0.0418 - accuracy: 0.9886 - val_loss: 0.6289 - val_accuracy: 0.7636\n",
            "Epoch 10/50\n",
            "69/69 [==============================] - ETA: 0s - loss: 0.0430 - accuracy: 0.9868\n",
            "Epoch 00010: val_loss did not improve from 0.50530\n",
            "69/69 [==============================] - 1s 11ms/step - loss: 0.0430 - accuracy: 0.9868 - val_loss: 0.6735 - val_accuracy: 0.7527\n",
            "Epoch 11/50\n",
            "69/69 [==============================] - ETA: 0s - loss: 0.0371 - accuracy: 0.9882\n",
            "Epoch 00011: val_loss did not improve from 0.50530\n",
            "69/69 [==============================] - 1s 11ms/step - loss: 0.0371 - accuracy: 0.9882 - val_loss: 0.6938 - val_accuracy: 0.7582\n",
            "Epoch 12/50\n",
            "64/69 [==========================>...] - ETA: 0s - loss: 0.0330 - accuracy: 0.9917\n",
            "Epoch 00012: val_loss did not improve from 0.50530\n",
            "69/69 [==============================] - 1s 11ms/step - loss: 0.0337 - accuracy: 0.9913 - val_loss: 0.7164 - val_accuracy: 0.7582\n",
            "Epoch 13/50\n",
            "65/69 [===========================>..] - ETA: 0s - loss: 0.0300 - accuracy: 0.9899\n",
            "Epoch 00013: val_loss did not improve from 0.50530\n",
            "69/69 [==============================] - 1s 10ms/step - loss: 0.0288 - accuracy: 0.9904 - val_loss: 0.7370 - val_accuracy: 0.7436\n",
            "Epoch 14/50\n",
            "64/69 [==========================>...] - ETA: 0s - loss: 0.0281 - accuracy: 0.9907\n",
            "Epoch 00014: val_loss did not improve from 0.50530\n",
            "69/69 [==============================] - 1s 11ms/step - loss: 0.0279 - accuracy: 0.9909 - val_loss: 0.7554 - val_accuracy: 0.7564\n",
            "\n",
            "\n",
            "\n",
            "\n",
            "---------------------------------------------------------------------------\n",
            "Training model for hyperparameter combination 9:\n",
            "Min occurances to be included in Vocab: 3 --> Vocabulary Size: 796\n",
            "Quantile: 0.8026529922319734 --> Time Steps: 9\n",
            "Embedding Size: 98, RNN Neurons: 18, Dropout: 0.3233589392465845\n",
            "---------------------------------------------------------------------------\n",
            "\n",
            "\n",
            "Model: \"sequential_8\"\n",
            "_________________________________________________________________\n",
            "Layer (type)                 Output Shape              Param #   \n",
            "=================================================================\n",
            "embedding_8 (Embedding)      (None, 9, 98)             78008     \n",
            "_________________________________________________________________\n",
            "simple_rnn_8 (SimpleRNN)     (None, 18)                2106      \n",
            "_________________________________________________________________\n",
            "dropout_8 (Dropout)          (None, 18)                0         \n",
            "_________________________________________________________________\n",
            "dense_8 (Dense)              (None, 1)                 19        \n",
            "=================================================================\n",
            "Total params: 80,133\n",
            "Trainable params: 80,133\n",
            "Non-trainable params: 0\n",
            "_________________________________________________________________\n",
            "None\n",
            "Epoch 1/50\n",
            "67/69 [============================>.] - ETA: 0s - loss: 0.6854 - accuracy: 0.5518\n",
            "Epoch 00001: val_loss did not improve from 0.50530\n",
            "69/69 [==============================] - 1s 12ms/step - loss: 0.6849 - accuracy: 0.5556 - val_loss: 0.6615 - val_accuracy: 0.6509\n",
            "Epoch 2/50\n",
            "69/69 [==============================] - ETA: 0s - loss: 0.5525 - accuracy: 0.7842\n",
            "Epoch 00002: val_loss did not improve from 0.50530\n",
            "69/69 [==============================] - 1s 11ms/step - loss: 0.5525 - accuracy: 0.7842 - val_loss: 0.5296 - val_accuracy: 0.7655\n",
            "Epoch 3/50\n",
            "69/69 [==============================] - ETA: 0s - loss: 0.3469 - accuracy: 0.8752\n",
            "Epoch 00003: val_loss improved from 0.50530 to 0.50456, saving model to .\n",
            "INFO:tensorflow:Assets written to: ./assets\n",
            "69/69 [==============================] - 2s 31ms/step - loss: 0.3469 - accuracy: 0.8752 - val_loss: 0.5046 - val_accuracy: 0.7564\n",
            "Epoch 4/50\n",
            "65/69 [===========================>..] - ETA: 0s - loss: 0.2256 - accuracy: 0.9250\n",
            "Epoch 00004: val_loss did not improve from 0.50456\n",
            "69/69 [==============================] - 1s 11ms/step - loss: 0.2249 - accuracy: 0.9235 - val_loss: 0.5319 - val_accuracy: 0.7545\n",
            "Epoch 5/50\n",
            "69/69 [==============================] - ETA: 0s - loss: 0.1660 - accuracy: 0.9417\n",
            "Epoch 00005: val_loss did not improve from 0.50456\n",
            "69/69 [==============================] - 1s 11ms/step - loss: 0.1660 - accuracy: 0.9417 - val_loss: 0.5879 - val_accuracy: 0.7436\n",
            "Epoch 6/50\n",
            "66/69 [===========================>..] - ETA: 0s - loss: 0.1321 - accuracy: 0.9545\n",
            "Epoch 00006: val_loss did not improve from 0.50456\n",
            "69/69 [==============================] - 1s 10ms/step - loss: 0.1312 - accuracy: 0.9549 - val_loss: 0.6207 - val_accuracy: 0.7545\n",
            "Epoch 7/50\n",
            "67/69 [============================>.] - ETA: 0s - loss: 0.1081 - accuracy: 0.9632\n",
            "Epoch 00007: val_loss did not improve from 0.50456\n",
            "69/69 [==============================] - 1s 11ms/step - loss: 0.1073 - accuracy: 0.9636 - val_loss: 0.6739 - val_accuracy: 0.7436\n",
            "Epoch 8/50\n",
            "67/69 [============================>.] - ETA: 0s - loss: 0.0937 - accuracy: 0.9674\n",
            "Epoch 00008: val_loss did not improve from 0.50456\n",
            "69/69 [==============================] - 1s 11ms/step - loss: 0.0924 - accuracy: 0.9681 - val_loss: 0.7054 - val_accuracy: 0.7400\n",
            "Epoch 9/50\n",
            "69/69 [==============================] - ETA: 0s - loss: 0.0804 - accuracy: 0.9727\n",
            "Epoch 00009: val_loss did not improve from 0.50456\n",
            "69/69 [==============================] - 1s 11ms/step - loss: 0.0804 - accuracy: 0.9727 - val_loss: 0.7464 - val_accuracy: 0.7455\n",
            "Epoch 10/50\n",
            "69/69 [==============================] - ETA: 0s - loss: 0.0839 - accuracy: 0.9686\n",
            "Epoch 00010: val_loss did not improve from 0.50456\n",
            "69/69 [==============================] - 1s 11ms/step - loss: 0.0839 - accuracy: 0.9686 - val_loss: 0.8391 - val_accuracy: 0.7036\n",
            "Epoch 11/50\n",
            "69/69 [==============================] - ETA: 0s - loss: 0.0737 - accuracy: 0.9745\n",
            "Epoch 00011: val_loss did not improve from 0.50456\n",
            "69/69 [==============================] - 1s 11ms/step - loss: 0.0737 - accuracy: 0.9745 - val_loss: 0.8353 - val_accuracy: 0.7345\n",
            "Epoch 12/50\n",
            "66/69 [===========================>..] - ETA: 0s - loss: 0.0641 - accuracy: 0.9740\n",
            "Epoch 00012: val_loss did not improve from 0.50456\n",
            "69/69 [==============================] - 1s 11ms/step - loss: 0.0637 - accuracy: 0.9740 - val_loss: 0.8853 - val_accuracy: 0.7273\n",
            "Epoch 13/50\n",
            "69/69 [==============================] - ETA: 0s - loss: 0.0603 - accuracy: 0.9772\n",
            "Epoch 00013: val_loss did not improve from 0.50456\n",
            "69/69 [==============================] - 1s 11ms/step - loss: 0.0603 - accuracy: 0.9772 - val_loss: 0.9217 - val_accuracy: 0.7055\n",
            "\n",
            "\n",
            "\n",
            "\n",
            "---------------------------------------------------------------------------\n",
            "Training model for hyperparameter combination 10:\n",
            "Min occurances to be included in Vocab: 1 --> Vocabulary Size: 1796\n",
            "Quantile: 0.8031932504440429 --> Time Steps: 9\n",
            "Embedding Size: 11, RNN Neurons: 24, Dropout: 0.09641018641040469\n",
            "---------------------------------------------------------------------------\n",
            "\n",
            "\n",
            "Model: \"sequential_9\"\n",
            "_________________________________________________________________\n",
            "Layer (type)                 Output Shape              Param #   \n",
            "=================================================================\n",
            "embedding_9 (Embedding)      (None, 9, 11)             19756     \n",
            "_________________________________________________________________\n",
            "simple_rnn_9 (SimpleRNN)     (None, 24)                864       \n",
            "_________________________________________________________________\n",
            "dropout_9 (Dropout)          (None, 24)                0         \n",
            "_________________________________________________________________\n",
            "dense_9 (Dense)              (None, 1)                 25        \n",
            "=================================================================\n",
            "Total params: 20,645\n",
            "Trainable params: 20,645\n",
            "Non-trainable params: 0\n",
            "_________________________________________________________________\n",
            "None\n",
            "Epoch 1/50\n",
            "68/69 [============================>.] - ETA: 0s - loss: 0.6901 - accuracy: 0.5368\n",
            "Epoch 00001: val_loss did not improve from 0.50456\n",
            "69/69 [==============================] - 1s 12ms/step - loss: 0.6901 - accuracy: 0.5373 - val_loss: 0.6780 - val_accuracy: 0.6382\n",
            "Epoch 2/50\n",
            "67/69 [============================>.] - ETA: 0s - loss: 0.6058 - accuracy: 0.7435\n",
            "Epoch 00002: val_loss did not improve from 0.50456\n",
            "69/69 [==============================] - 1s 10ms/step - loss: 0.6047 - accuracy: 0.7445 - val_loss: 0.5626 - val_accuracy: 0.7436\n",
            "Epoch 3/50\n",
            "65/69 [===========================>..] - ETA: 0s - loss: 0.3932 - accuracy: 0.8423\n",
            "Epoch 00003: val_loss improved from 0.50456 to 0.47584, saving model to .\n",
            "INFO:tensorflow:Assets written to: ./assets\n",
            "69/69 [==============================] - 2s 33ms/step - loss: 0.3907 - accuracy: 0.8443 - val_loss: 0.4758 - val_accuracy: 0.7800\n",
            "Epoch 4/50\n",
            "67/69 [============================>.] - ETA: 0s - loss: 0.2478 - accuracy: 0.9072\n",
            "Epoch 00004: val_loss did not improve from 0.47584\n",
            "69/69 [==============================] - 1s 10ms/step - loss: 0.2491 - accuracy: 0.9062 - val_loss: 0.4776 - val_accuracy: 0.7655\n",
            "Epoch 5/50\n",
            "69/69 [==============================] - ETA: 0s - loss: 0.1784 - accuracy: 0.9358\n",
            "Epoch 00005: val_loss did not improve from 0.47584\n",
            "69/69 [==============================] - 1s 10ms/step - loss: 0.1784 - accuracy: 0.9358 - val_loss: 0.5287 - val_accuracy: 0.7564\n",
            "Epoch 6/50\n",
            "65/69 [===========================>..] - ETA: 0s - loss: 0.1311 - accuracy: 0.9558\n",
            "Epoch 00006: val_loss did not improve from 0.47584\n",
            "69/69 [==============================] - 1s 10ms/step - loss: 0.1293 - accuracy: 0.9563 - val_loss: 0.6352 - val_accuracy: 0.7382\n",
            "Epoch 7/50\n",
            "66/69 [===========================>..] - ETA: 0s - loss: 0.1137 - accuracy: 0.9555\n",
            "Epoch 00007: val_loss did not improve from 0.47584\n",
            "69/69 [==============================] - 1s 10ms/step - loss: 0.1120 - accuracy: 0.9567 - val_loss: 0.6378 - val_accuracy: 0.7509\n",
            "Epoch 8/50\n",
            "65/69 [===========================>..] - ETA: 0s - loss: 0.0841 - accuracy: 0.9702\n",
            "Epoch 00008: val_loss did not improve from 0.47584\n",
            "69/69 [==============================] - 1s 10ms/step - loss: 0.0847 - accuracy: 0.9699 - val_loss: 0.6774 - val_accuracy: 0.7618\n",
            "Epoch 9/50\n",
            "67/69 [============================>.] - ETA: 0s - loss: 0.0683 - accuracy: 0.9762\n",
            "Epoch 00009: val_loss did not improve from 0.47584\n",
            "69/69 [==============================] - 1s 10ms/step - loss: 0.0674 - accuracy: 0.9768 - val_loss: 0.7671 - val_accuracy: 0.7491\n",
            "Epoch 10/50\n",
            "69/69 [==============================] - ETA: 0s - loss: 0.0693 - accuracy: 0.9731\n",
            "Epoch 00010: val_loss did not improve from 0.47584\n",
            "69/69 [==============================] - 1s 10ms/step - loss: 0.0693 - accuracy: 0.9731 - val_loss: 0.7013 - val_accuracy: 0.7455\n",
            "Epoch 11/50\n",
            "65/69 [===========================>..] - ETA: 0s - loss: 0.0674 - accuracy: 0.9764\n",
            "Epoch 00011: val_loss did not improve from 0.47584\n",
            "69/69 [==============================] - 1s 10ms/step - loss: 0.0670 - accuracy: 0.9763 - val_loss: 0.7445 - val_accuracy: 0.7582\n",
            "Epoch 12/50\n",
            "66/69 [===========================>..] - ETA: 0s - loss: 0.0487 - accuracy: 0.9820\n",
            "Epoch 00012: val_loss did not improve from 0.47584\n",
            "69/69 [==============================] - 1s 10ms/step - loss: 0.0503 - accuracy: 0.9809 - val_loss: 0.8401 - val_accuracy: 0.7527\n",
            "Epoch 13/50\n",
            "65/69 [===========================>..] - ETA: 0s - loss: 0.0460 - accuracy: 0.9841\n",
            "Epoch 00013: val_loss did not improve from 0.47584\n",
            "69/69 [==============================] - 1s 10ms/step - loss: 0.0448 - accuracy: 0.9845 - val_loss: 0.8617 - val_accuracy: 0.7491\n",
            "\n",
            "\n",
            "\n",
            "\n",
            "---------------------------------------------------------------------------\n",
            "Training model for hyperparameter combination 11:\n",
            "Min occurances to be included in Vocab: 3 --> Vocabulary Size: 796\n",
            "Quantile: 0.9219993315565242 --> Time Steps: 12\n",
            "Embedding Size: 17, RNN Neurons: 39, Dropout: 0.3637281608315128\n",
            "---------------------------------------------------------------------------\n",
            "\n",
            "\n",
            "Model: \"sequential_10\"\n",
            "_________________________________________________________________\n",
            "Layer (type)                 Output Shape              Param #   \n",
            "=================================================================\n",
            "embedding_10 (Embedding)     (None, 12, 17)            13532     \n",
            "_________________________________________________________________\n",
            "simple_rnn_10 (SimpleRNN)    (None, 39)                2223      \n",
            "_________________________________________________________________\n",
            "dropout_10 (Dropout)         (None, 39)                0         \n",
            "_________________________________________________________________\n",
            "dense_10 (Dense)             (None, 1)                 40        \n",
            "=================================================================\n",
            "Total params: 15,795\n",
            "Trainable params: 15,795\n",
            "Non-trainable params: 0\n",
            "_________________________________________________________________\n",
            "None\n",
            "Epoch 1/50\n",
            "69/69 [==============================] - ETA: 0s - loss: 0.6947 - accuracy: 0.5055\n",
            "Epoch 00001: val_loss did not improve from 0.47584\n",
            "69/69 [==============================] - 1s 14ms/step - loss: 0.6947 - accuracy: 0.5055 - val_loss: 0.6872 - val_accuracy: 0.6000\n",
            "Epoch 2/50\n",
            "68/69 [============================>.] - ETA: 0s - loss: 0.6662 - accuracy: 0.6397\n",
            "Epoch 00002: val_loss did not improve from 0.47584\n",
            "69/69 [==============================] - 1s 12ms/step - loss: 0.6662 - accuracy: 0.6403 - val_loss: 0.6751 - val_accuracy: 0.6018\n",
            "Epoch 3/50\n",
            "66/69 [===========================>..] - ETA: 0s - loss: 0.5636 - accuracy: 0.7623\n",
            "Epoch 00003: val_loss did not improve from 0.47584\n",
            "69/69 [==============================] - 1s 11ms/step - loss: 0.5615 - accuracy: 0.7609 - val_loss: 0.6385 - val_accuracy: 0.6527\n",
            "Epoch 4/50\n",
            "66/69 [===========================>..] - ETA: 0s - loss: 0.3858 - accuracy: 0.8385\n",
            "Epoch 00004: val_loss did not improve from 0.47584\n",
            "69/69 [==============================] - 1s 12ms/step - loss: 0.3845 - accuracy: 0.8393 - val_loss: 0.6493 - val_accuracy: 0.6727\n",
            "Epoch 5/50\n",
            "67/69 [============================>.] - ETA: 0s - loss: 0.2578 - accuracy: 0.9049\n",
            "Epoch 00005: val_loss did not improve from 0.47584\n",
            "69/69 [==============================] - 1s 11ms/step - loss: 0.2582 - accuracy: 0.9048 - val_loss: 0.6782 - val_accuracy: 0.6818\n",
            "Epoch 6/50\n",
            "67/69 [============================>.] - ETA: 0s - loss: 0.1919 - accuracy: 0.9324\n",
            "Epoch 00006: val_loss did not improve from 0.47584\n",
            "69/69 [==============================] - 1s 12ms/step - loss: 0.1910 - accuracy: 0.9331 - val_loss: 0.7730 - val_accuracy: 0.6764\n",
            "Epoch 7/50\n",
            "68/69 [============================>.] - ETA: 0s - loss: 0.1569 - accuracy: 0.9449\n",
            "Epoch 00007: val_loss did not improve from 0.47584\n",
            "69/69 [==============================] - 1s 11ms/step - loss: 0.1570 - accuracy: 0.9449 - val_loss: 0.8408 - val_accuracy: 0.6782\n",
            "Epoch 8/50\n",
            "65/69 [===========================>..] - ETA: 0s - loss: 0.1273 - accuracy: 0.9563\n",
            "Epoch 00008: val_loss did not improve from 0.47584\n",
            "69/69 [==============================] - 1s 12ms/step - loss: 0.1290 - accuracy: 0.9545 - val_loss: 0.9345 - val_accuracy: 0.6800\n",
            "Epoch 9/50\n",
            "68/69 [============================>.] - ETA: 0s - loss: 0.1090 - accuracy: 0.9623\n",
            "Epoch 00009: val_loss did not improve from 0.47584\n",
            "69/69 [==============================] - 1s 11ms/step - loss: 0.1094 - accuracy: 0.9622 - val_loss: 0.9064 - val_accuracy: 0.6836\n",
            "Epoch 10/50\n",
            "67/69 [============================>.] - ETA: 0s - loss: 0.0941 - accuracy: 0.9678\n",
            "Epoch 00010: val_loss did not improve from 0.47584\n",
            "69/69 [==============================] - 1s 12ms/step - loss: 0.0937 - accuracy: 0.9681 - val_loss: 0.9968 - val_accuracy: 0.6582\n",
            "Epoch 11/50\n",
            "66/69 [===========================>..] - ETA: 0s - loss: 0.0891 - accuracy: 0.9664\n",
            "Epoch 00011: val_loss did not improve from 0.47584\n",
            "69/69 [==============================] - 1s 12ms/step - loss: 0.0882 - accuracy: 0.9663 - val_loss: 1.0194 - val_accuracy: 0.6745\n",
            "Epoch 12/50\n",
            "68/69 [============================>.] - ETA: 0s - loss: 0.0796 - accuracy: 0.9706\n",
            "Epoch 00012: val_loss did not improve from 0.47584\n",
            "69/69 [==============================] - 1s 11ms/step - loss: 0.0796 - accuracy: 0.9709 - val_loss: 1.0750 - val_accuracy: 0.6691\n",
            "Epoch 13/50\n",
            "65/69 [===========================>..] - ETA: 0s - loss: 0.0757 - accuracy: 0.9707\n",
            "Epoch 00013: val_loss did not improve from 0.47584\n",
            "69/69 [==============================] - 1s 12ms/step - loss: 0.0759 - accuracy: 0.9704 - val_loss: 1.1063 - val_accuracy: 0.6527\n",
            "\n",
            "\n",
            "\n",
            "\n",
            "---------------------------------------------------------------------------\n",
            "Training model for hyperparameter combination 12:\n",
            "Min occurances to be included in Vocab: 2 --> Vocabulary Size: 1105\n",
            "Quantile: 0.9325044568707964 --> Time Steps: 12\n",
            "Embedding Size: 11, RNN Neurons: 10, Dropout: 0.08317666514727554\n",
            "---------------------------------------------------------------------------\n",
            "\n",
            "\n",
            "Model: \"sequential_11\"\n",
            "_________________________________________________________________\n",
            "Layer (type)                 Output Shape              Param #   \n",
            "=================================================================\n",
            "embedding_11 (Embedding)     (None, 12, 11)            12155     \n",
            "_________________________________________________________________\n",
            "simple_rnn_11 (SimpleRNN)    (None, 10)                220       \n",
            "_________________________________________________________________\n",
            "dropout_11 (Dropout)         (None, 10)                0         \n",
            "_________________________________________________________________\n",
            "dense_11 (Dense)             (None, 1)                 11        \n",
            "=================================================================\n",
            "Total params: 12,386\n",
            "Trainable params: 12,386\n",
            "Non-trainable params: 0\n",
            "_________________________________________________________________\n",
            "None\n",
            "Epoch 1/50\n",
            "69/69 [==============================] - ETA: 0s - loss: 0.6901 - accuracy: 0.5419\n",
            "Epoch 00001: val_loss did not improve from 0.47584\n",
            "69/69 [==============================] - 1s 14ms/step - loss: 0.6901 - accuracy: 0.5419 - val_loss: 0.6825 - val_accuracy: 0.6182\n",
            "Epoch 2/50\n",
            "68/69 [============================>.] - ETA: 0s - loss: 0.6478 - accuracy: 0.7376\n",
            "Epoch 00002: val_loss did not improve from 0.47584\n",
            "69/69 [==============================] - 1s 13ms/step - loss: 0.6479 - accuracy: 0.7363 - val_loss: 0.6520 - val_accuracy: 0.6673\n",
            "Epoch 3/50\n",
            "67/69 [============================>.] - ETA: 0s - loss: 0.5314 - accuracy: 0.7962\n",
            "Epoch 00003: val_loss did not improve from 0.47584\n",
            "69/69 [==============================] - 1s 12ms/step - loss: 0.5299 - accuracy: 0.7978 - val_loss: 0.5684 - val_accuracy: 0.7145\n",
            "Epoch 4/50\n",
            "69/69 [==============================] - ETA: 0s - loss: 0.3790 - accuracy: 0.8702\n",
            "Epoch 00004: val_loss did not improve from 0.47584\n",
            "69/69 [==============================] - 1s 12ms/step - loss: 0.3790 - accuracy: 0.8702 - val_loss: 0.5331 - val_accuracy: 0.7327\n",
            "Epoch 5/50\n",
            "69/69 [==============================] - ETA: 0s - loss: 0.2975 - accuracy: 0.8939\n",
            "Epoch 00005: val_loss did not improve from 0.47584\n",
            "69/69 [==============================] - 1s 12ms/step - loss: 0.2975 - accuracy: 0.8939 - val_loss: 0.5151 - val_accuracy: 0.7636\n",
            "Epoch 6/50\n",
            "69/69 [==============================] - ETA: 0s - loss: 0.2333 - accuracy: 0.9326\n",
            "Epoch 00006: val_loss did not improve from 0.47584\n",
            "69/69 [==============================] - 1s 12ms/step - loss: 0.2333 - accuracy: 0.9326 - val_loss: 0.5658 - val_accuracy: 0.7218\n",
            "Epoch 7/50\n",
            "65/69 [===========================>..] - ETA: 0s - loss: 0.1948 - accuracy: 0.9370\n",
            "Epoch 00007: val_loss did not improve from 0.47584\n",
            "69/69 [==============================] - 1s 12ms/step - loss: 0.1935 - accuracy: 0.9376 - val_loss: 0.5528 - val_accuracy: 0.7455\n",
            "Epoch 8/50\n",
            "68/69 [============================>.] - ETA: 0s - loss: 0.1627 - accuracy: 0.9550\n",
            "Epoch 00008: val_loss did not improve from 0.47584\n",
            "69/69 [==============================] - 1s 12ms/step - loss: 0.1630 - accuracy: 0.9545 - val_loss: 0.5803 - val_accuracy: 0.7436\n",
            "Epoch 9/50\n",
            "67/69 [============================>.] - ETA: 0s - loss: 0.1439 - accuracy: 0.9552\n",
            "Epoch 00009: val_loss did not improve from 0.47584\n",
            "69/69 [==============================] - 1s 12ms/step - loss: 0.1431 - accuracy: 0.9554 - val_loss: 0.6068 - val_accuracy: 0.7491\n",
            "Epoch 10/50\n",
            "67/69 [============================>.] - ETA: 0s - loss: 0.1249 - accuracy: 0.9622\n",
            "Epoch 00010: val_loss did not improve from 0.47584\n",
            "69/69 [==============================] - 1s 12ms/step - loss: 0.1241 - accuracy: 0.9631 - val_loss: 0.6268 - val_accuracy: 0.7400\n",
            "Epoch 11/50\n",
            "65/69 [===========================>..] - ETA: 0s - loss: 0.1157 - accuracy: 0.9673\n",
            "Epoch 00011: val_loss did not improve from 0.47584\n",
            "69/69 [==============================] - 1s 12ms/step - loss: 0.1167 - accuracy: 0.9663 - val_loss: 0.6569 - val_accuracy: 0.7400\n",
            "Epoch 12/50\n",
            "69/69 [==============================] - ETA: 0s - loss: 0.1013 - accuracy: 0.9668\n",
            "Epoch 00012: val_loss did not improve from 0.47584\n",
            "69/69 [==============================] - 1s 12ms/step - loss: 0.1013 - accuracy: 0.9668 - val_loss: 0.6663 - val_accuracy: 0.7400\n",
            "Epoch 13/50\n",
            "65/69 [===========================>..] - ETA: 0s - loss: 0.0882 - accuracy: 0.9750\n",
            "Epoch 00013: val_loss did not improve from 0.47584\n",
            "69/69 [==============================] - 1s 12ms/step - loss: 0.0874 - accuracy: 0.9750 - val_loss: 0.6982 - val_accuracy: 0.7436\n",
            "Epoch 14/50\n",
            "69/69 [==============================] - ETA: 0s - loss: 0.0806 - accuracy: 0.9750\n",
            "Epoch 00014: val_loss did not improve from 0.47584\n",
            "69/69 [==============================] - 1s 12ms/step - loss: 0.0806 - accuracy: 0.9750 - val_loss: 0.7047 - val_accuracy: 0.7364\n",
            "Epoch 15/50\n",
            "66/69 [===========================>..] - ETA: 0s - loss: 0.0711 - accuracy: 0.9754\n",
            "Epoch 00015: val_loss did not improve from 0.47584\n",
            "69/69 [==============================] - 1s 12ms/step - loss: 0.0708 - accuracy: 0.9763 - val_loss: 0.7512 - val_accuracy: 0.7418\n",
            "\n",
            "\n",
            "\n",
            "\n",
            "---------------------------------------------------------------------------\n",
            "Training model for hyperparameter combination 13:\n",
            "Min occurances to be included in Vocab: 2 --> Vocabulary Size: 1105\n",
            "Quantile: 0.8062626584911118 --> Time Steps: 9\n",
            "Embedding Size: 27, RNN Neurons: 30, Dropout: 0.17990165334790628\n",
            "---------------------------------------------------------------------------\n",
            "\n",
            "\n",
            "Model: \"sequential_12\"\n",
            "_________________________________________________________________\n",
            "Layer (type)                 Output Shape              Param #   \n",
            "=================================================================\n",
            "embedding_12 (Embedding)     (None, 9, 27)             29835     \n",
            "_________________________________________________________________\n",
            "simple_rnn_12 (SimpleRNN)    (None, 30)                1740      \n",
            "_________________________________________________________________\n",
            "dropout_12 (Dropout)         (None, 30)                0         \n",
            "_________________________________________________________________\n",
            "dense_12 (Dense)             (None, 1)                 31        \n",
            "=================================================================\n",
            "Total params: 31,606\n",
            "Trainable params: 31,606\n",
            "Non-trainable params: 0\n",
            "_________________________________________________________________\n",
            "None\n",
            "Epoch 1/50\n",
            "66/69 [===========================>..] - ETA: 0s - loss: 0.6886 - accuracy: 0.5360\n",
            "Epoch 00001: val_loss did not improve from 0.47584\n",
            "69/69 [==============================] - 1s 12ms/step - loss: 0.6880 - accuracy: 0.5392 - val_loss: 0.6788 - val_accuracy: 0.6236\n",
            "Epoch 2/50\n",
            "69/69 [==============================] - ETA: 0s - loss: 0.5896 - accuracy: 0.7614\n",
            "Epoch 00002: val_loss did not improve from 0.47584\n",
            "69/69 [==============================] - 1s 10ms/step - loss: 0.5896 - accuracy: 0.7614 - val_loss: 0.5858 - val_accuracy: 0.6709\n",
            "Epoch 3/50\n",
            "65/69 [===========================>..] - ETA: 0s - loss: 0.3556 - accuracy: 0.8745\n",
            "Epoch 00003: val_loss did not improve from 0.47584\n",
            "69/69 [==============================] - 1s 10ms/step - loss: 0.3542 - accuracy: 0.8752 - val_loss: 0.5395 - val_accuracy: 0.7182\n",
            "Epoch 4/50\n",
            "67/69 [============================>.] - ETA: 0s - loss: 0.2113 - accuracy: 0.9310\n",
            "Epoch 00004: val_loss did not improve from 0.47584\n",
            "69/69 [==============================] - 1s 10ms/step - loss: 0.2124 - accuracy: 0.9299 - val_loss: 0.5415 - val_accuracy: 0.7455\n",
            "Epoch 5/50\n",
            "69/69 [==============================] - ETA: 0s - loss: 0.1518 - accuracy: 0.9499\n",
            "Epoch 00005: val_loss did not improve from 0.47584\n",
            "69/69 [==============================] - 1s 10ms/step - loss: 0.1518 - accuracy: 0.9499 - val_loss: 0.5560 - val_accuracy: 0.7400\n",
            "Epoch 6/50\n",
            "65/69 [===========================>..] - ETA: 0s - loss: 0.1199 - accuracy: 0.9563\n",
            "Epoch 00006: val_loss did not improve from 0.47584\n",
            "69/69 [==============================] - 1s 10ms/step - loss: 0.1198 - accuracy: 0.9563 - val_loss: 0.6157 - val_accuracy: 0.7309\n",
            "Epoch 7/50\n",
            "67/69 [============================>.] - ETA: 0s - loss: 0.0957 - accuracy: 0.9692\n",
            "Epoch 00007: val_loss did not improve from 0.47584\n",
            "69/69 [==============================] - 1s 10ms/step - loss: 0.0951 - accuracy: 0.9695 - val_loss: 0.6573 - val_accuracy: 0.7309\n",
            "Epoch 8/50\n",
            "68/69 [============================>.] - ETA: 0s - loss: 0.0743 - accuracy: 0.9743\n",
            "Epoch 00008: val_loss did not improve from 0.47584\n",
            "69/69 [==============================] - 1s 10ms/step - loss: 0.0740 - accuracy: 0.9745 - val_loss: 0.7269 - val_accuracy: 0.7309\n",
            "Epoch 9/50\n",
            "67/69 [============================>.] - ETA: 0s - loss: 0.0651 - accuracy: 0.9776\n",
            "Epoch 00009: val_loss did not improve from 0.47584\n",
            "69/69 [==============================] - 1s 10ms/step - loss: 0.0653 - accuracy: 0.9777 - val_loss: 0.7649 - val_accuracy: 0.7309\n",
            "Epoch 10/50\n",
            "66/69 [===========================>..] - ETA: 0s - loss: 0.0595 - accuracy: 0.9811\n",
            "Epoch 00010: val_loss did not improve from 0.47584\n",
            "69/69 [==============================] - 1s 10ms/step - loss: 0.0597 - accuracy: 0.9813 - val_loss: 0.8488 - val_accuracy: 0.7091\n",
            "Epoch 11/50\n",
            "67/69 [============================>.] - ETA: 0s - loss: 0.0529 - accuracy: 0.9832\n",
            "Epoch 00011: val_loss did not improve from 0.47584\n",
            "69/69 [==============================] - 1s 10ms/step - loss: 0.0529 - accuracy: 0.9832 - val_loss: 0.8289 - val_accuracy: 0.7327\n",
            "Epoch 12/50\n",
            "64/69 [==========================>...] - ETA: 0s - loss: 0.0462 - accuracy: 0.9844\n",
            "Epoch 00012: val_loss did not improve from 0.47584\n",
            "69/69 [==============================] - 1s 10ms/step - loss: 0.0460 - accuracy: 0.9845 - val_loss: 0.8691 - val_accuracy: 0.7400\n",
            "Epoch 13/50\n",
            "67/69 [============================>.] - ETA: 0s - loss: 0.0428 - accuracy: 0.9851\n",
            "Epoch 00013: val_loss did not improve from 0.47584\n",
            "69/69 [==============================] - 1s 10ms/step - loss: 0.0424 - accuracy: 0.9854 - val_loss: 0.9330 - val_accuracy: 0.7291\n",
            "\n",
            "\n",
            "\n",
            "\n",
            "---------------------------------------------------------------------------\n",
            "Training model for hyperparameter combination 14:\n",
            "Min occurances to be included in Vocab: 2 --> Vocabulary Size: 1105\n",
            "Quantile: 0.9789654700855298 --> Time Steps: 17\n",
            "Embedding Size: 23, RNN Neurons: 35, Dropout: 0.36874969400924673\n",
            "---------------------------------------------------------------------------\n",
            "\n",
            "\n",
            "Model: \"sequential_13\"\n",
            "_________________________________________________________________\n",
            "Layer (type)                 Output Shape              Param #   \n",
            "=================================================================\n",
            "embedding_13 (Embedding)     (None, 17, 23)            25415     \n",
            "_________________________________________________________________\n",
            "simple_rnn_13 (SimpleRNN)    (None, 35)                2065      \n",
            "_________________________________________________________________\n",
            "dropout_13 (Dropout)         (None, 35)                0         \n",
            "_________________________________________________________________\n",
            "dense_13 (Dense)             (None, 1)                 36        \n",
            "=================================================================\n",
            "Total params: 27,516\n",
            "Trainable params: 27,516\n",
            "Non-trainable params: 0\n",
            "_________________________________________________________________\n",
            "None\n",
            "Epoch 1/50\n",
            "69/69 [==============================] - ETA: 0s - loss: 0.6964 - accuracy: 0.5009\n",
            "Epoch 00001: val_loss did not improve from 0.47584\n",
            "69/69 [==============================] - 1s 17ms/step - loss: 0.6964 - accuracy: 0.5009 - val_loss: 0.6880 - val_accuracy: 0.5818\n",
            "Epoch 2/50\n",
            "66/69 [===========================>..] - ETA: 0s - loss: 0.6569 - accuracy: 0.6776\n",
            "Epoch 00002: val_loss did not improve from 0.47584\n",
            "69/69 [==============================] - 1s 14ms/step - loss: 0.6568 - accuracy: 0.6749 - val_loss: 0.6865 - val_accuracy: 0.5255\n",
            "Epoch 3/50\n",
            "67/69 [============================>.] - ETA: 0s - loss: 0.5378 - accuracy: 0.7757\n",
            "Epoch 00003: val_loss did not improve from 0.47584\n",
            "69/69 [==============================] - 1s 14ms/step - loss: 0.5357 - accuracy: 0.7778 - val_loss: 0.7081 - val_accuracy: 0.5582\n",
            "Epoch 4/50\n",
            "68/69 [============================>.] - ETA: 0s - loss: 0.3676 - accuracy: 0.8585\n",
            "Epoch 00004: val_loss did not improve from 0.47584\n",
            "69/69 [==============================] - 1s 15ms/step - loss: 0.3664 - accuracy: 0.8588 - val_loss: 0.7222 - val_accuracy: 0.5782\n",
            "Epoch 5/50\n",
            "69/69 [==============================] - ETA: 0s - loss: 0.2402 - accuracy: 0.9226\n",
            "Epoch 00005: val_loss did not improve from 0.47584\n",
            "69/69 [==============================] - 1s 14ms/step - loss: 0.2402 - accuracy: 0.9226 - val_loss: 0.7850 - val_accuracy: 0.6200\n",
            "Epoch 6/50\n",
            "69/69 [==============================] - ETA: 0s - loss: 0.1647 - accuracy: 0.9504\n",
            "Epoch 00006: val_loss did not improve from 0.47584\n",
            "69/69 [==============================] - 1s 14ms/step - loss: 0.1647 - accuracy: 0.9504 - val_loss: 0.8053 - val_accuracy: 0.6473\n",
            "Epoch 7/50\n",
            "69/69 [==============================] - ETA: 0s - loss: 0.1207 - accuracy: 0.9658\n",
            "Epoch 00007: val_loss did not improve from 0.47584\n",
            "69/69 [==============================] - 1s 15ms/step - loss: 0.1207 - accuracy: 0.9658 - val_loss: 0.8837 - val_accuracy: 0.6418\n",
            "Epoch 8/50\n",
            "66/69 [===========================>..] - ETA: 0s - loss: 0.0959 - accuracy: 0.9664\n",
            "Epoch 00008: val_loss did not improve from 0.47584\n",
            "69/69 [==============================] - 1s 15ms/step - loss: 0.0958 - accuracy: 0.9658 - val_loss: 0.9524 - val_accuracy: 0.6473\n",
            "Epoch 9/50\n",
            "68/69 [============================>.] - ETA: 0s - loss: 0.0810 - accuracy: 0.9729\n",
            "Epoch 00009: val_loss did not improve from 0.47584\n",
            "69/69 [==============================] - 1s 15ms/step - loss: 0.0812 - accuracy: 0.9727 - val_loss: 0.9863 - val_accuracy: 0.6345\n",
            "Epoch 10/50\n",
            "69/69 [==============================] - ETA: 0s - loss: 0.0691 - accuracy: 0.9795\n",
            "Epoch 00010: val_loss did not improve from 0.47584\n",
            "69/69 [==============================] - 1s 15ms/step - loss: 0.0691 - accuracy: 0.9795 - val_loss: 1.0183 - val_accuracy: 0.6400\n",
            "Epoch 11/50\n",
            "67/69 [============================>.] - ETA: 0s - loss: 0.0567 - accuracy: 0.9818\n",
            "Epoch 00011: val_loss did not improve from 0.47584\n",
            "69/69 [==============================] - 1s 15ms/step - loss: 0.0567 - accuracy: 0.9822 - val_loss: 1.0969 - val_accuracy: 0.6291\n",
            "Epoch 12/50\n",
            "65/69 [===========================>..] - ETA: 0s - loss: 0.0492 - accuracy: 0.9851\n",
            "Epoch 00012: val_loss did not improve from 0.47584\n",
            "69/69 [==============================] - 1s 14ms/step - loss: 0.0496 - accuracy: 0.9850 - val_loss: 1.1563 - val_accuracy: 0.6327\n",
            "\n",
            "\n",
            "\n",
            "\n",
            "---------------------------------------------------------------------------\n",
            "Training model for hyperparameter combination 15:\n",
            "Min occurances to be included in Vocab: 2 --> Vocabulary Size: 1105\n",
            "Quantile: 0.8391965724838291 --> Time Steps: 10\n",
            "Embedding Size: 71, RNN Neurons: 44, Dropout: 0.3378135394712606\n",
            "---------------------------------------------------------------------------\n",
            "\n",
            "\n",
            "Model: \"sequential_14\"\n",
            "_________________________________________________________________\n",
            "Layer (type)                 Output Shape              Param #   \n",
            "=================================================================\n",
            "embedding_14 (Embedding)     (None, 10, 71)            78455     \n",
            "_________________________________________________________________\n",
            "simple_rnn_14 (SimpleRNN)    (None, 44)                5104      \n",
            "_________________________________________________________________\n",
            "dropout_14 (Dropout)         (None, 44)                0         \n",
            "_________________________________________________________________\n",
            "dense_14 (Dense)             (None, 1)                 45        \n",
            "=================================================================\n",
            "Total params: 83,604\n",
            "Trainable params: 83,604\n",
            "Non-trainable params: 0\n",
            "_________________________________________________________________\n",
            "None\n",
            "Epoch 1/50\n",
            "65/69 [===========================>..] - ETA: 0s - loss: 0.6893 - accuracy: 0.5341\n",
            "Epoch 00001: val_loss did not improve from 0.47584\n",
            "69/69 [==============================] - 1s 13ms/step - loss: 0.6883 - accuracy: 0.5410 - val_loss: 0.6659 - val_accuracy: 0.6764\n",
            "Epoch 2/50\n",
            "68/69 [============================>.] - ETA: 0s - loss: 0.5386 - accuracy: 0.7918\n",
            "Epoch 00002: val_loss did not improve from 0.47584\n",
            "69/69 [==============================] - 1s 11ms/step - loss: 0.5388 - accuracy: 0.7905 - val_loss: 0.5727 - val_accuracy: 0.6873\n",
            "Epoch 3/50\n",
            "69/69 [==============================] - ETA: 0s - loss: 0.2862 - accuracy: 0.8998\n",
            "Epoch 00003: val_loss did not improve from 0.47584\n",
            "69/69 [==============================] - 1s 11ms/step - loss: 0.2862 - accuracy: 0.8998 - val_loss: 0.5375 - val_accuracy: 0.7327\n",
            "Epoch 4/50\n",
            "69/69 [==============================] - ETA: 0s - loss: 0.1599 - accuracy: 0.9499\n",
            "Epoch 00004: val_loss did not improve from 0.47584\n",
            "69/69 [==============================] - 1s 11ms/step - loss: 0.1599 - accuracy: 0.9499 - val_loss: 0.6252 - val_accuracy: 0.7455\n",
            "Epoch 5/50\n",
            "64/69 [==========================>...] - ETA: 0s - loss: 0.1152 - accuracy: 0.9609\n",
            "Epoch 00005: val_loss did not improve from 0.47584\n",
            "69/69 [==============================] - 1s 11ms/step - loss: 0.1145 - accuracy: 0.9608 - val_loss: 0.6574 - val_accuracy: 0.7455\n",
            "Epoch 6/50\n",
            "66/69 [===========================>..] - ETA: 0s - loss: 0.0884 - accuracy: 0.9692\n",
            "Epoch 00006: val_loss did not improve from 0.47584\n",
            "69/69 [==============================] - 1s 11ms/step - loss: 0.0886 - accuracy: 0.9690 - val_loss: 0.7901 - val_accuracy: 0.7055\n",
            "Epoch 7/50\n",
            "66/69 [===========================>..] - ETA: 0s - loss: 0.0664 - accuracy: 0.9759\n",
            "Epoch 00007: val_loss did not improve from 0.47584\n",
            "69/69 [==============================] - 1s 11ms/step - loss: 0.0659 - accuracy: 0.9763 - val_loss: 0.7935 - val_accuracy: 0.7273\n",
            "Epoch 8/50\n",
            "67/69 [============================>.] - ETA: 0s - loss: 0.0511 - accuracy: 0.9823\n",
            "Epoch 00008: val_loss did not improve from 0.47584\n",
            "69/69 [==============================] - 1s 11ms/step - loss: 0.0506 - accuracy: 0.9827 - val_loss: 0.8676 - val_accuracy: 0.7145\n",
            "Epoch 9/50\n",
            "68/69 [============================>.] - ETA: 0s - loss: 0.0462 - accuracy: 0.9821\n",
            "Epoch 00009: val_loss did not improve from 0.47584\n",
            "69/69 [==============================] - 1s 11ms/step - loss: 0.0462 - accuracy: 0.9822 - val_loss: 0.9481 - val_accuracy: 0.7182\n",
            "Epoch 10/50\n",
            "69/69 [==============================] - ETA: 0s - loss: 0.0425 - accuracy: 0.9845\n",
            "Epoch 00010: val_loss did not improve from 0.47584\n",
            "69/69 [==============================] - 1s 11ms/step - loss: 0.0425 - accuracy: 0.9845 - val_loss: 1.0290 - val_accuracy: 0.6982\n",
            "Epoch 11/50\n",
            "64/69 [==========================>...] - ETA: 0s - loss: 0.0402 - accuracy: 0.9844\n",
            "Epoch 00011: val_loss did not improve from 0.47584\n",
            "69/69 [==============================] - 1s 11ms/step - loss: 0.0400 - accuracy: 0.9841 - val_loss: 1.0702 - val_accuracy: 0.7073\n",
            "Epoch 12/50\n",
            "69/69 [==============================] - ETA: 0s - loss: 0.0351 - accuracy: 0.9868\n",
            "Epoch 00012: val_loss did not improve from 0.47584\n",
            "69/69 [==============================] - 1s 11ms/step - loss: 0.0351 - accuracy: 0.9868 - val_loss: 1.0765 - val_accuracy: 0.6982\n",
            "Epoch 13/50\n",
            "66/69 [===========================>..] - ETA: 0s - loss: 0.0333 - accuracy: 0.9872\n",
            "Epoch 00013: val_loss did not improve from 0.47584\n",
            "69/69 [==============================] - 1s 11ms/step - loss: 0.0328 - accuracy: 0.9872 - val_loss: 1.1349 - val_accuracy: 0.7055\n",
            "\n",
            "\n",
            "\n",
            "\n",
            "---------------------------------------------------------------------------\n",
            "Training model for hyperparameter combination 16:\n",
            "Min occurances to be included in Vocab: 1 --> Vocabulary Size: 1796\n",
            "Quantile: 0.8542698063547792 --> Time Steps: 10\n",
            "Embedding Size: 62, RNN Neurons: 28, Dropout: 0.1427013306774357\n",
            "---------------------------------------------------------------------------\n",
            "\n",
            "\n",
            "Model: \"sequential_15\"\n",
            "_________________________________________________________________\n",
            "Layer (type)                 Output Shape              Param #   \n",
            "=================================================================\n",
            "embedding_15 (Embedding)     (None, 10, 62)            111352    \n",
            "_________________________________________________________________\n",
            "simple_rnn_15 (SimpleRNN)    (None, 28)                2548      \n",
            "_________________________________________________________________\n",
            "dropout_15 (Dropout)         (None, 28)                0         \n",
            "_________________________________________________________________\n",
            "dense_15 (Dense)             (None, 1)                 29        \n",
            "=================================================================\n",
            "Total params: 113,929\n",
            "Trainable params: 113,929\n",
            "Non-trainable params: 0\n",
            "_________________________________________________________________\n",
            "None\n",
            "Epoch 1/50\n",
            "67/69 [============================>.] - ETA: 0s - loss: 0.6892 - accuracy: 0.5312\n",
            "Epoch 00001: val_loss did not improve from 0.47584\n",
            "69/69 [==============================] - 1s 13ms/step - loss: 0.6888 - accuracy: 0.5337 - val_loss: 0.6784 - val_accuracy: 0.5891\n",
            "Epoch 2/50\n",
            "65/69 [===========================>..] - ETA: 0s - loss: 0.5323 - accuracy: 0.8418\n",
            "Epoch 00002: val_loss did not improve from 0.47584\n",
            "69/69 [==============================] - 1s 11ms/step - loss: 0.5296 - accuracy: 0.8379 - val_loss: 0.6631 - val_accuracy: 0.5982\n",
            "Epoch 3/50\n",
            "64/69 [==========================>...] - ETA: 0s - loss: 0.2500 - accuracy: 0.9204\n",
            "Epoch 00003: val_loss did not improve from 0.47584\n",
            "69/69 [==============================] - 1s 11ms/step - loss: 0.2464 - accuracy: 0.9221 - val_loss: 0.6175 - val_accuracy: 0.7036\n",
            "Epoch 4/50\n",
            "65/69 [===========================>..] - ETA: 0s - loss: 0.1274 - accuracy: 0.9663\n",
            "Epoch 00004: val_loss did not improve from 0.47584\n",
            "69/69 [==============================] - 1s 12ms/step - loss: 0.1287 - accuracy: 0.9658 - val_loss: 0.7039 - val_accuracy: 0.6927\n",
            "Epoch 5/50\n",
            "66/69 [===========================>..] - ETA: 0s - loss: 0.0852 - accuracy: 0.9787\n",
            "Epoch 00005: val_loss did not improve from 0.47584\n",
            "69/69 [==============================] - 1s 13ms/step - loss: 0.0852 - accuracy: 0.9786 - val_loss: 0.7670 - val_accuracy: 0.6964\n",
            "Epoch 6/50\n",
            "67/69 [============================>.] - ETA: 0s - loss: 0.0613 - accuracy: 0.9832\n",
            "Epoch 00006: val_loss did not improve from 0.47584\n",
            "69/69 [==============================] - 1s 11ms/step - loss: 0.0609 - accuracy: 0.9832 - val_loss: 0.8547 - val_accuracy: 0.6836\n",
            "Epoch 7/50\n",
            "65/69 [===========================>..] - ETA: 0s - loss: 0.0496 - accuracy: 0.9856\n",
            "Epoch 00007: val_loss did not improve from 0.47584\n",
            "69/69 [==============================] - 1s 12ms/step - loss: 0.0486 - accuracy: 0.9859 - val_loss: 0.8973 - val_accuracy: 0.6964\n",
            "Epoch 8/50\n",
            "69/69 [==============================] - ETA: 0s - loss: 0.0369 - accuracy: 0.9891\n",
            "Epoch 00008: val_loss did not improve from 0.47584\n",
            "69/69 [==============================] - 1s 11ms/step - loss: 0.0369 - accuracy: 0.9891 - val_loss: 0.9168 - val_accuracy: 0.7091\n",
            "Epoch 9/50\n",
            "65/69 [===========================>..] - ETA: 0s - loss: 0.0330 - accuracy: 0.9880\n",
            "Epoch 00009: val_loss did not improve from 0.47584\n",
            "69/69 [==============================] - 1s 12ms/step - loss: 0.0334 - accuracy: 0.9882 - val_loss: 0.9777 - val_accuracy: 0.6945\n",
            "Epoch 10/50\n",
            "65/69 [===========================>..] - ETA: 0s - loss: 0.0288 - accuracy: 0.9909\n",
            "Epoch 00010: val_loss did not improve from 0.47584\n",
            "69/69 [==============================] - 1s 12ms/step - loss: 0.0285 - accuracy: 0.9909 - val_loss: 1.0222 - val_accuracy: 0.6945\n",
            "Epoch 11/50\n",
            "67/69 [============================>.] - ETA: 0s - loss: 0.0271 - accuracy: 0.9925\n",
            "Epoch 00011: val_loss did not improve from 0.47584\n",
            "69/69 [==============================] - 1s 12ms/step - loss: 0.0268 - accuracy: 0.9927 - val_loss: 1.0391 - val_accuracy: 0.7018\n",
            "Epoch 12/50\n",
            "66/69 [===========================>..] - ETA: 0s - loss: 0.0238 - accuracy: 0.9915\n",
            "Epoch 00012: val_loss did not improve from 0.47584\n",
            "69/69 [==============================] - 1s 12ms/step - loss: 0.0251 - accuracy: 0.9909 - val_loss: 1.0735 - val_accuracy: 0.7091\n",
            "Epoch 13/50\n",
            "69/69 [==============================] - ETA: 0s - loss: 0.0220 - accuracy: 0.9927\n",
            "Epoch 00013: val_loss did not improve from 0.47584\n",
            "69/69 [==============================] - 1s 12ms/step - loss: 0.0220 - accuracy: 0.9927 - val_loss: 1.0971 - val_accuracy: 0.6873\n",
            "\n",
            "\n",
            "\n",
            "\n",
            "---------------------------------------------------------------------------\n",
            "Training model for hyperparameter combination 17:\n",
            "Min occurances to be included in Vocab: 1 --> Vocabulary Size: 1796\n",
            "Quantile: 0.8281848449949526 --> Time Steps: 9\n",
            "Embedding Size: 24, RNN Neurons: 49, Dropout: 0.02982025747190833\n",
            "---------------------------------------------------------------------------\n",
            "\n",
            "\n",
            "Model: \"sequential_16\"\n",
            "_________________________________________________________________\n",
            "Layer (type)                 Output Shape              Param #   \n",
            "=================================================================\n",
            "embedding_16 (Embedding)     (None, 9, 24)             43104     \n",
            "_________________________________________________________________\n",
            "simple_rnn_16 (SimpleRNN)    (None, 49)                3626      \n",
            "_________________________________________________________________\n",
            "dropout_16 (Dropout)         (None, 49)                0         \n",
            "_________________________________________________________________\n",
            "dense_16 (Dense)             (None, 1)                 50        \n",
            "=================================================================\n",
            "Total params: 46,780\n",
            "Trainable params: 46,780\n",
            "Non-trainable params: 0\n",
            "_________________________________________________________________\n",
            "None\n",
            "Epoch 1/50\n",
            "65/69 [===========================>..] - ETA: 0s - loss: 0.6837 - accuracy: 0.5611\n",
            "Epoch 00001: val_loss did not improve from 0.47584\n",
            "69/69 [==============================] - 1s 12ms/step - loss: 0.6825 - accuracy: 0.5633 - val_loss: 0.6531 - val_accuracy: 0.6891\n",
            "Epoch 2/50\n",
            "69/69 [==============================] - ETA: 0s - loss: 0.4983 - accuracy: 0.7942\n",
            "Epoch 00002: val_loss did not improve from 0.47584\n",
            "69/69 [==============================] - 1s 11ms/step - loss: 0.4983 - accuracy: 0.7942 - val_loss: 0.5333 - val_accuracy: 0.7436\n",
            "Epoch 3/50\n",
            "69/69 [==============================] - ETA: 0s - loss: 0.2579 - accuracy: 0.9107\n",
            "Epoch 00003: val_loss did not improve from 0.47584\n",
            "69/69 [==============================] - 1s 10ms/step - loss: 0.2579 - accuracy: 0.9107 - val_loss: 0.5864 - val_accuracy: 0.7255\n",
            "Epoch 4/50\n",
            "65/69 [===========================>..] - ETA: 0s - loss: 0.1457 - accuracy: 0.9510\n",
            "Epoch 00004: val_loss did not improve from 0.47584\n",
            "69/69 [==============================] - 1s 10ms/step - loss: 0.1464 - accuracy: 0.9504 - val_loss: 0.6361 - val_accuracy: 0.7218\n",
            "Epoch 5/50\n",
            "65/69 [===========================>..] - ETA: 0s - loss: 0.0998 - accuracy: 0.9649\n",
            "Epoch 00005: val_loss did not improve from 0.47584\n",
            "69/69 [==============================] - 1s 10ms/step - loss: 0.1017 - accuracy: 0.9654 - val_loss: 0.7333 - val_accuracy: 0.7236\n",
            "Epoch 6/50\n",
            "67/69 [============================>.] - ETA: 0s - loss: 0.0804 - accuracy: 0.9706\n",
            "Epoch 00006: val_loss did not improve from 0.47584\n",
            "69/69 [==============================] - 1s 10ms/step - loss: 0.0793 - accuracy: 0.9713 - val_loss: 0.7865 - val_accuracy: 0.7309\n",
            "Epoch 7/50\n",
            "64/69 [==========================>...] - ETA: 0s - loss: 0.0639 - accuracy: 0.9771\n",
            "Epoch 00007: val_loss did not improve from 0.47584\n",
            "69/69 [==============================] - 1s 10ms/step - loss: 0.0634 - accuracy: 0.9772 - val_loss: 0.7932 - val_accuracy: 0.7236\n",
            "Epoch 8/50\n",
            "64/69 [==========================>...] - ETA: 0s - loss: 0.0480 - accuracy: 0.9839\n",
            "Epoch 00008: val_loss did not improve from 0.47584\n",
            "69/69 [==============================] - 1s 10ms/step - loss: 0.0489 - accuracy: 0.9836 - val_loss: 0.8764 - val_accuracy: 0.7400\n",
            "Epoch 9/50\n",
            "65/69 [===========================>..] - ETA: 0s - loss: 0.0402 - accuracy: 0.9832\n",
            "Epoch 00009: val_loss did not improve from 0.47584\n",
            "69/69 [==============================] - 1s 10ms/step - loss: 0.0404 - accuracy: 0.9832 - val_loss: 0.9502 - val_accuracy: 0.7182\n",
            "Epoch 10/50\n",
            "65/69 [===========================>..] - ETA: 0s - loss: 0.0348 - accuracy: 0.9865\n",
            "Epoch 00010: val_loss did not improve from 0.47584\n",
            "69/69 [==============================] - 1s 10ms/step - loss: 0.0349 - accuracy: 0.9863 - val_loss: 0.9895 - val_accuracy: 0.7273\n",
            "Epoch 11/50\n",
            "66/69 [===========================>..] - ETA: 0s - loss: 0.0317 - accuracy: 0.9891\n",
            "Epoch 00011: val_loss did not improve from 0.47584\n",
            "69/69 [==============================] - 1s 11ms/step - loss: 0.0314 - accuracy: 0.9891 - val_loss: 1.0383 - val_accuracy: 0.7309\n",
            "Epoch 12/50\n",
            "68/69 [============================>.] - ETA: 0s - loss: 0.0307 - accuracy: 0.9885\n",
            "Epoch 00012: val_loss did not improve from 0.47584\n",
            "69/69 [==============================] - 1s 10ms/step - loss: 0.0315 - accuracy: 0.9882 - val_loss: 1.1342 - val_accuracy: 0.7509\n",
            "\n",
            "\n",
            "\n",
            "\n",
            "---------------------------------------------------------------------------\n",
            "Training model for hyperparameter combination 18:\n",
            "Min occurances to be included in Vocab: 3 --> Vocabulary Size: 796\n",
            "Quantile: 0.884680296141274 --> Time Steps: 11\n",
            "Embedding Size: 10, RNN Neurons: 48, Dropout: 0.11739526988721526\n",
            "---------------------------------------------------------------------------\n",
            "\n",
            "\n",
            "Model: \"sequential_17\"\n",
            "_________________________________________________________________\n",
            "Layer (type)                 Output Shape              Param #   \n",
            "=================================================================\n",
            "embedding_17 (Embedding)     (None, 11, 10)            7960      \n",
            "_________________________________________________________________\n",
            "simple_rnn_17 (SimpleRNN)    (None, 48)                2832      \n",
            "_________________________________________________________________\n",
            "dropout_17 (Dropout)         (None, 48)                0         \n",
            "_________________________________________________________________\n",
            "dense_17 (Dense)             (None, 1)                 49        \n",
            "=================================================================\n",
            "Total params: 10,841\n",
            "Trainable params: 10,841\n",
            "Non-trainable params: 0\n",
            "_________________________________________________________________\n",
            "None\n",
            "Epoch 1/50\n",
            "66/69 [===========================>..] - ETA: 0s - loss: 0.6938 - accuracy: 0.5109\n",
            "Epoch 00001: val_loss did not improve from 0.47584\n",
            "69/69 [==============================] - 1s 13ms/step - loss: 0.6937 - accuracy: 0.5100 - val_loss: 0.6867 - val_accuracy: 0.6127\n",
            "Epoch 2/50\n",
            "65/69 [===========================>..] - ETA: 0s - loss: 0.6511 - accuracy: 0.6841\n",
            "Epoch 00002: val_loss did not improve from 0.47584\n",
            "69/69 [==============================] - 1s 11ms/step - loss: 0.6476 - accuracy: 0.6899 - val_loss: 0.6135 - val_accuracy: 0.6982\n",
            "Epoch 3/50\n",
            "68/69 [============================>.] - ETA: 0s - loss: 0.4763 - accuracy: 0.7955\n",
            "Epoch 00003: val_loss did not improve from 0.47584\n",
            "69/69 [==============================] - 1s 11ms/step - loss: 0.4763 - accuracy: 0.7946 - val_loss: 0.5550 - val_accuracy: 0.7418\n",
            "Epoch 4/50\n",
            "69/69 [==============================] - ETA: 0s - loss: 0.3341 - accuracy: 0.8702\n",
            "Epoch 00004: val_loss did not improve from 0.47584\n",
            "69/69 [==============================] - 1s 11ms/step - loss: 0.3341 - accuracy: 0.8702 - val_loss: 0.5631 - val_accuracy: 0.7382\n",
            "Epoch 5/50\n",
            "65/69 [===========================>..] - ETA: 0s - loss: 0.2547 - accuracy: 0.9019\n",
            "Epoch 00005: val_loss did not improve from 0.47584\n",
            "69/69 [==============================] - 1s 11ms/step - loss: 0.2540 - accuracy: 0.9012 - val_loss: 0.5932 - val_accuracy: 0.7291\n",
            "Epoch 6/50\n",
            "65/69 [===========================>..] - ETA: 0s - loss: 0.1982 - accuracy: 0.9298\n",
            "Epoch 00006: val_loss did not improve from 0.47584\n",
            "69/69 [==============================] - 1s 12ms/step - loss: 0.1964 - accuracy: 0.9303 - val_loss: 0.6114 - val_accuracy: 0.7327\n",
            "Epoch 7/50\n",
            "69/69 [==============================] - ETA: 0s - loss: 0.1625 - accuracy: 0.9340\n",
            "Epoch 00007: val_loss did not improve from 0.47584\n",
            "69/69 [==============================] - 1s 11ms/step - loss: 0.1625 - accuracy: 0.9340 - val_loss: 0.6616 - val_accuracy: 0.7218\n",
            "Epoch 8/50\n",
            "65/69 [===========================>..] - ETA: 0s - loss: 0.1337 - accuracy: 0.9505\n",
            "Epoch 00008: val_loss did not improve from 0.47584\n",
            "69/69 [==============================] - 1s 11ms/step - loss: 0.1356 - accuracy: 0.9495 - val_loss: 0.7804 - val_accuracy: 0.7200\n",
            "Epoch 9/50\n",
            "65/69 [===========================>..] - ETA: 0s - loss: 0.1188 - accuracy: 0.9538\n",
            "Epoch 00009: val_loss did not improve from 0.47584\n",
            "69/69 [==============================] - 1s 11ms/step - loss: 0.1193 - accuracy: 0.9545 - val_loss: 0.8475 - val_accuracy: 0.7182\n",
            "Epoch 10/50\n",
            "65/69 [===========================>..] - ETA: 0s - loss: 0.1051 - accuracy: 0.9606\n",
            "Epoch 00010: val_loss did not improve from 0.47584\n",
            "69/69 [==============================] - 1s 11ms/step - loss: 0.1057 - accuracy: 0.9608 - val_loss: 0.8422 - val_accuracy: 0.7236\n",
            "Epoch 11/50\n",
            "67/69 [============================>.] - ETA: 0s - loss: 0.0959 - accuracy: 0.9604\n",
            "Epoch 00011: val_loss did not improve from 0.47584\n",
            "69/69 [==============================] - 1s 11ms/step - loss: 0.0963 - accuracy: 0.9599 - val_loss: 0.9131 - val_accuracy: 0.7255\n",
            "Epoch 12/50\n",
            "66/69 [===========================>..] - ETA: 0s - loss: 0.0889 - accuracy: 0.9612\n",
            "Epoch 00012: val_loss did not improve from 0.47584\n",
            "69/69 [==============================] - 1s 12ms/step - loss: 0.0882 - accuracy: 0.9617 - val_loss: 0.9141 - val_accuracy: 0.7327\n",
            "Epoch 13/50\n",
            "66/69 [===========================>..] - ETA: 0s - loss: 0.0812 - accuracy: 0.9688\n",
            "Epoch 00013: val_loss did not improve from 0.47584\n",
            "69/69 [==============================] - 1s 12ms/step - loss: 0.0830 - accuracy: 0.9681 - val_loss: 1.1090 - val_accuracy: 0.7000\n",
            "\n",
            "\n",
            "\n",
            "\n",
            "---------------------------------------------------------------------------\n",
            "Training model for hyperparameter combination 19:\n",
            "Min occurances to be included in Vocab: 3 --> Vocabulary Size: 796\n",
            "Quantile: 0.9630922856909668 --> Time Steps: 14\n",
            "Embedding Size: 90, RNN Neurons: 12, Dropout: 0.29160286721639495\n",
            "---------------------------------------------------------------------------\n",
            "\n",
            "\n",
            "Model: \"sequential_18\"\n",
            "_________________________________________________________________\n",
            "Layer (type)                 Output Shape              Param #   \n",
            "=================================================================\n",
            "embedding_18 (Embedding)     (None, 14, 90)            71640     \n",
            "_________________________________________________________________\n",
            "simple_rnn_18 (SimpleRNN)    (None, 12)                1236      \n",
            "_________________________________________________________________\n",
            "dropout_18 (Dropout)         (None, 12)                0         \n",
            "_________________________________________________________________\n",
            "dense_18 (Dense)             (None, 1)                 13        \n",
            "=================================================================\n",
            "Total params: 72,889\n",
            "Trainable params: 72,889\n",
            "Non-trainable params: 0\n",
            "_________________________________________________________________\n",
            "None\n",
            "Epoch 1/50\n",
            "69/69 [==============================] - ETA: 0s - loss: 0.6901 - accuracy: 0.5260\n",
            "Epoch 00001: val_loss did not improve from 0.47584\n",
            "69/69 [==============================] - 1s 16ms/step - loss: 0.6901 - accuracy: 0.5260 - val_loss: 0.6841 - val_accuracy: 0.5564\n",
            "Epoch 2/50\n",
            "69/69 [==============================] - ETA: 0s - loss: 0.6300 - accuracy: 0.7254\n",
            "Epoch 00002: val_loss did not improve from 0.47584\n",
            "69/69 [==============================] - 1s 14ms/step - loss: 0.6300 - accuracy: 0.7254 - val_loss: 0.6788 - val_accuracy: 0.5564\n",
            "Epoch 3/50\n",
            "69/69 [==============================] - ETA: 0s - loss: 0.5126 - accuracy: 0.8001\n",
            "Epoch 00003: val_loss did not improve from 0.47584\n",
            "69/69 [==============================] - 1s 14ms/step - loss: 0.5126 - accuracy: 0.8001 - val_loss: 0.6944 - val_accuracy: 0.5818\n",
            "Epoch 4/50\n",
            "69/69 [==============================] - ETA: 0s - loss: 0.3886 - accuracy: 0.8566\n",
            "Epoch 00004: val_loss did not improve from 0.47584\n",
            "69/69 [==============================] - 1s 15ms/step - loss: 0.3886 - accuracy: 0.8566 - val_loss: 0.7181 - val_accuracy: 0.5891\n",
            "Epoch 5/50\n",
            "66/69 [===========================>..] - ETA: 0s - loss: 0.2801 - accuracy: 0.9096\n",
            "Epoch 00005: val_loss did not improve from 0.47584\n",
            "69/69 [==============================] - 1s 14ms/step - loss: 0.2814 - accuracy: 0.9080 - val_loss: 0.7494 - val_accuracy: 0.6109\n",
            "Epoch 6/50\n",
            "67/69 [============================>.] - ETA: 0s - loss: 0.2198 - accuracy: 0.9314\n",
            "Epoch 00006: val_loss did not improve from 0.47584\n",
            "69/69 [==============================] - 1s 14ms/step - loss: 0.2211 - accuracy: 0.9299 - val_loss: 0.7801 - val_accuracy: 0.6055\n",
            "Epoch 7/50\n",
            "65/69 [===========================>..] - ETA: 0s - loss: 0.1695 - accuracy: 0.9510\n",
            "Epoch 00007: val_loss did not improve from 0.47584\n",
            "69/69 [==============================] - 1s 14ms/step - loss: 0.1704 - accuracy: 0.9504 - val_loss: 0.8070 - val_accuracy: 0.6400\n",
            "Epoch 8/50\n",
            "66/69 [===========================>..] - ETA: 0s - loss: 0.1318 - accuracy: 0.9631\n",
            "Epoch 00008: val_loss did not improve from 0.47584\n",
            "69/69 [==============================] - 1s 13ms/step - loss: 0.1324 - accuracy: 0.9622 - val_loss: 0.8465 - val_accuracy: 0.6327\n",
            "Epoch 9/50\n",
            "66/69 [===========================>..] - ETA: 0s - loss: 0.1129 - accuracy: 0.9626\n",
            "Epoch 00009: val_loss did not improve from 0.47584\n",
            "69/69 [==============================] - 1s 13ms/step - loss: 0.1126 - accuracy: 0.9622 - val_loss: 0.9053 - val_accuracy: 0.6291\n",
            "Epoch 10/50\n",
            "69/69 [==============================] - ETA: 0s - loss: 0.0985 - accuracy: 0.9704\n",
            "Epoch 00010: val_loss did not improve from 0.47584\n",
            "69/69 [==============================] - 1s 14ms/step - loss: 0.0985 - accuracy: 0.9704 - val_loss: 0.9530 - val_accuracy: 0.6345\n",
            "Epoch 11/50\n",
            "67/69 [============================>.] - ETA: 0s - loss: 0.0940 - accuracy: 0.9692\n",
            "Epoch 00011: val_loss did not improve from 0.47584\n",
            "69/69 [==============================] - 1s 14ms/step - loss: 0.0941 - accuracy: 0.9695 - val_loss: 0.9437 - val_accuracy: 0.6364\n",
            "Epoch 12/50\n",
            "65/69 [===========================>..] - ETA: 0s - loss: 0.0814 - accuracy: 0.9726\n",
            "Epoch 00012: val_loss did not improve from 0.47584\n",
            "69/69 [==============================] - 1s 13ms/step - loss: 0.0807 - accuracy: 0.9722 - val_loss: 0.9902 - val_accuracy: 0.6364\n",
            "\n",
            "\n",
            "\n",
            "\n",
            "---------------------------------------------------------------------------\n",
            "Training model for hyperparameter combination 20:\n",
            "Min occurances to be included in Vocab: 1 --> Vocabulary Size: 1796\n",
            "Quantile: 0.9211919949562023 --> Time Steps: 12\n",
            "Embedding Size: 50, RNN Neurons: 32, Dropout: 0.34524137035023744\n",
            "---------------------------------------------------------------------------\n",
            "\n",
            "\n",
            "Model: \"sequential_19\"\n",
            "_________________________________________________________________\n",
            "Layer (type)                 Output Shape              Param #   \n",
            "=================================================================\n",
            "embedding_19 (Embedding)     (None, 12, 50)            89800     \n",
            "_________________________________________________________________\n",
            "simple_rnn_19 (SimpleRNN)    (None, 32)                2656      \n",
            "_________________________________________________________________\n",
            "dropout_19 (Dropout)         (None, 32)                0         \n",
            "_________________________________________________________________\n",
            "dense_19 (Dense)             (None, 1)                 33        \n",
            "=================================================================\n",
            "Total params: 92,489\n",
            "Trainable params: 92,489\n",
            "Non-trainable params: 0\n",
            "_________________________________________________________________\n",
            "None\n",
            "Epoch 1/50\n",
            "68/69 [============================>.] - ETA: 0s - loss: 0.6788 - accuracy: 0.5515\n",
            "Epoch 00001: val_loss did not improve from 0.47584\n",
            "69/69 [==============================] - 1s 15ms/step - loss: 0.6785 - accuracy: 0.5528 - val_loss: 0.6532 - val_accuracy: 0.6655\n",
            "Epoch 2/50\n",
            "69/69 [==============================] - ETA: 0s - loss: 0.5147 - accuracy: 0.7951\n",
            "Epoch 00002: val_loss did not improve from 0.47584\n",
            "69/69 [==============================] - 1s 13ms/step - loss: 0.5147 - accuracy: 0.7951 - val_loss: 0.5561 - val_accuracy: 0.7091\n",
            "Epoch 3/50\n",
            "65/69 [===========================>..] - ETA: 0s - loss: 0.2809 - accuracy: 0.9072\n",
            "Epoch 00003: val_loss did not improve from 0.47584\n",
            "69/69 [==============================] - 1s 12ms/step - loss: 0.2794 - accuracy: 0.9076 - val_loss: 0.6104 - val_accuracy: 0.7109\n",
            "Epoch 4/50\n",
            "65/69 [===========================>..] - ETA: 0s - loss: 0.1593 - accuracy: 0.9495\n",
            "Epoch 00004: val_loss did not improve from 0.47584\n",
            "69/69 [==============================] - 1s 13ms/step - loss: 0.1594 - accuracy: 0.9495 - val_loss: 0.6158 - val_accuracy: 0.7200\n",
            "Epoch 5/50\n",
            "65/69 [===========================>..] - ETA: 0s - loss: 0.1076 - accuracy: 0.9620\n",
            "Epoch 00005: val_loss did not improve from 0.47584\n",
            "69/69 [==============================] - 1s 12ms/step - loss: 0.1081 - accuracy: 0.9627 - val_loss: 0.6833 - val_accuracy: 0.7200\n",
            "Epoch 6/50\n",
            "65/69 [===========================>..] - ETA: 0s - loss: 0.0799 - accuracy: 0.9760\n",
            "Epoch 00006: val_loss did not improve from 0.47584\n",
            "69/69 [==============================] - 1s 12ms/step - loss: 0.0790 - accuracy: 0.9754 - val_loss: 0.6954 - val_accuracy: 0.7364\n",
            "Epoch 7/50\n",
            "68/69 [============================>.] - ETA: 0s - loss: 0.0623 - accuracy: 0.9784\n",
            "Epoch 00007: val_loss did not improve from 0.47584\n",
            "69/69 [==============================] - 1s 13ms/step - loss: 0.0620 - accuracy: 0.9786 - val_loss: 0.7410 - val_accuracy: 0.7473\n",
            "Epoch 8/50\n",
            "69/69 [==============================] - ETA: 0s - loss: 0.0478 - accuracy: 0.9827\n",
            "Epoch 00008: val_loss did not improve from 0.47584\n",
            "69/69 [==============================] - 1s 13ms/step - loss: 0.0478 - accuracy: 0.9827 - val_loss: 0.8083 - val_accuracy: 0.7636\n",
            "Epoch 9/50\n",
            "66/69 [===========================>..] - ETA: 0s - loss: 0.0408 - accuracy: 0.9825\n",
            "Epoch 00009: val_loss did not improve from 0.47584\n",
            "69/69 [==============================] - 1s 13ms/step - loss: 0.0412 - accuracy: 0.9822 - val_loss: 0.9053 - val_accuracy: 0.7436\n",
            "Epoch 10/50\n",
            "68/69 [============================>.] - ETA: 0s - loss: 0.0371 - accuracy: 0.9862\n",
            "Epoch 00010: val_loss did not improve from 0.47584\n",
            "69/69 [==============================] - 1s 12ms/step - loss: 0.0370 - accuracy: 0.9863 - val_loss: 1.0254 - val_accuracy: 0.7182\n",
            "Epoch 11/50\n",
            "69/69 [==============================] - ETA: 0s - loss: 0.0368 - accuracy: 0.9872\n",
            "Epoch 00011: val_loss did not improve from 0.47584\n",
            "69/69 [==============================] - 1s 12ms/step - loss: 0.0368 - accuracy: 0.9872 - val_loss: 1.0067 - val_accuracy: 0.7273\n",
            "Epoch 12/50\n",
            "69/69 [==============================] - ETA: 0s - loss: 0.0308 - accuracy: 0.9882\n",
            "Epoch 00012: val_loss did not improve from 0.47584\n",
            "69/69 [==============================] - 1s 13ms/step - loss: 0.0308 - accuracy: 0.9882 - val_loss: 0.9843 - val_accuracy: 0.7309\n"
          ],
          "name": "stdout"
        },
        {
          "output_type": "display_data",
          "data": {
            "image/png": "[encoded data removed]",
            "text/plain": [
              "<Figure size 720x288 with 2 Axes>"
            ]
          },
          "metadata": {
            "tags": [],
            "needs_background": "light"
          }
        },
        {
          "output_type": "display_data",
          "data": {
            "image/png": "[encoded data removed]",
            "text/plain": [
              "<Figure size 720x288 with 2 Axes>"
            ]
          },
          "metadata": {
            "tags": [],
            "needs_background": "light"
          }
        },
        {
          "output_type": "display_data",
          "data": {
            "image/png": "[encoded data removed]",
            "text/plain": [
              "<Figure size 720x288 with 2 Axes>"
            ]
          },
          "metadata": {
            "tags": [],
            "needs_background": "light"
          }
        },
        {
          "output_type": "display_data",
          "data": {
            "image/png": "[encoded data removed]",
            "text/plain": [
              "<Figure size 720x288 with 2 Axes>"
            ]
          },
          "metadata": {
            "tags": [],
            "needs_background": "light"
          }
        },
        {
          "output_type": "display_data",
          "data": {
            "image/png": "[encoded data removed]",
            "text/plain": [
              "<Figure size 720x288 with 2 Axes>"
            ]
          },
          "metadata": {
            "tags": [],
            "needs_background": "light"
          }
        },
        {
          "output_type": "display_data",
          "data": {
            "image/png": "[encoded data removed]",
            "text/plain": [
              "<Figure size 720x288 with 2 Axes>"
            ]
          },
          "metadata": {
            "tags": [],
            "needs_background": "light"
          }
        },
        {
          "output_type": "display_data",
          "data": {
            "image/png": "[encoded data removed]",
            "text/plain": [
              "<Figure size 720x288 with 2 Axes>"
            ]
          },
          "metadata": {
            "tags": [],
            "needs_background": "light"
          }
        },
        {
          "output_type": "display_data",
          "data": {
            "image/png": "[encoded data removed]",
            "text/plain": [
              "<Figure size 720x288 with 2 Axes>"
            ]
          },
          "metadata": {
            "tags": [],
            "needs_background": "light"
          }
        },
        {
          "output_type": "display_data",
          "data": {
            "image/png": "[encoded data removed]",
            "text/plain": [
              "<Figure size 720x288 with 2 Axes>"
            ]
          },
          "metadata": {
            "tags": [],
            "needs_background": "light"
          }
        },
        {
          "output_type": "display_data",
          "data": {
            "image/png": "[encoded data removed]",
            "text/plain": [
              "<Figure size 720x288 with 2 Axes>"
            ]
          },
          "metadata": {
            "tags": [],
            "needs_background": "light"
          }
        },
        {
          "output_type": "display_data",
          "data": {
            "image/png": "[encoded data removed]",
            "text/plain": [
              "<Figure size 720x288 with 2 Axes>"
            ]
          },
          "metadata": {
            "tags": [],
            "needs_background": "light"
          }
        },
        {
          "output_type": "display_data",
          "data": {
            "image/png": "[encoded data removed]",
            "text/plain": [
              "<Figure size 720x288 with 2 Axes>"
            ]
          },
          "metadata": {
            "tags": [],
            "needs_background": "light"
          }
        },
        {
          "output_type": "display_data",
          "data": {
            "image/png": "[encoded data removed]",
            "text/plain": [
              "<Figure size 720x288 with 2 Axes>"
            ]
          },
          "metadata": {
            "tags": [],
            "needs_background": "light"
          }
        },
        {
          "output_type": "display_data",
          "data": {
            "image/png": "[encoded data removed]",
            "text/plain": [
              "<Figure size 720x288 with 2 Axes>"
            ]
          },
          "metadata": {
            "tags": [],
            "needs_background": "light"
          }
        },
        {
          "output_type": "display_data",
          "data": {
            "image/png": "[encoded data removed]",
            "text/plain": [
              "<Figure size 720x288 with 2 Axes>"
            ]
          },
          "metadata": {
            "tags": [],
            "needs_background": "light"
          }
        },
        {
          "output_type": "display_data",
          "data": {
            "image/png": "[encoded data removed]",
            "text/plain": [
              "<Figure size 720x288 with 2 Axes>"
            ]
          },
          "metadata": {
            "tags": [],
            "needs_background": "light"
          }
        },
        {
          "output_type": "display_data",
          "data": {
            "image/png": "[encoded data removed]",
            "text/plain": [
              "<Figure size 720x288 with 2 Axes>"
            ]
          },
          "metadata": {
            "tags": [],
            "needs_background": "light"
          }
        },
        {
          "output_type": "display_data",
          "data": {
            "image/png": "[encoded data removed]",
            "text/plain": [
              "<Figure size 720x288 with 2 Axes>"
            ]
          },
          "metadata": {
            "tags": [],
            "needs_background": "light"
          }
        },
        {
          "output_type": "display_data",
          "data": {
            "image/png": "[encoded data removed]",
            "text/plain": [
              "<Figure size 720x288 with 2 Axes>"
            ]
          },
          "metadata": {
            "tags": [],
            "needs_background": "light"
          }
        },
        {
          "output_type": "display_data",
          "data": {
            "image/png": "[encoded data removed]",
            "text/plain": [
              "<Figure size 720x288 with 2 Axes>"
            ]
          },
          "metadata": {
            "tags": [],
            "needs_background": "light"
          }
        }
      ]
    },
    {
      "cell_type": "code",
      "metadata": {
        "id": "mfxVKtOmvKUp",
        "colab_type": "code",
        "outputId": "c9b3808d-453c-4977-951d-82b04aeabe30",
        "colab": {
          "base_uri": "https://localhost:8080/",
          "height": 74
        }
      },
      "source": [
        "best_train_accuracies = [max(history.history['accuracy']) for history in histories]\n",
        "best_test_accuracies = [max(history.history['val_accuracy']) for history in histories]\n",
        "print(f\"Train Accuracies: {best_train_accuracies}\")\n",
        "print(f\"Test Accuracies: {best_test_accuracies}\")"
      ],
      "execution_count": 46,
      "outputs": [
        {
          "output_type": "stream",
          "text": [
            "Train Accuracies: [0.9754098653793335, 0.9927140474319458, 0.9908925294876099, 0.9890710115432739, 0.9908925294876099, 0.9918032884597778, 0.9767759442329407, 0.9913479089736938, 0.9772313237190247, 0.9845172762870789, 0.9708561301231384, 0.9763205647468567, 0.9854280352592468, 0.9849726557731628, 0.9872495532035828, 0.9927140474319458, 0.9890710115432739, 0.9681238532066345, 0.9722222089767456, 0.9881603121757507]\n",
            "Test Accuracies: [0.7836363911628723, 0.7072727084159851, 0.7290909290313721, 0.692727267742157, 0.7400000095367432, 0.7454545497894287, 0.7436363697052002, 0.774545431137085, 0.7654545307159424, 0.7799999713897705, 0.6836363673210144, 0.7636363506317139, 0.7454545497894287, 0.6472727060317993, 0.7454545497894287, 0.7090908885002136, 0.7509090900421143, 0.7418181896209717, 0.6399999856948853, 0.7636363506317139]\n"
          ],
          "name": "stdout"
        }
      ]
    },
    {
      "cell_type": "code",
      "metadata": {
        "id": "ZFF2IntEsStC",
        "colab_type": "code",
        "outputId": "cdad904b-13f4-40fe-c208-bb73c4f1f352",
        "colab": {
          "base_uri": "https://localhost:8080/",
          "height": 677
        }
      },
      "source": [
        "results = pd.DataFrame({\n",
        "    'vocab_size': vocab_sizes,\n",
        "    'time_steps': num_time_steps,\n",
        "    'embedding_size':embedding_sizes,\n",
        "    'rnn_neurons': rnn_num_neurons,\n",
        "    'dropout': dropouts,\n",
        "    'best_train_acc': best_train_accuracies,\n",
        "    'best_test_acc': best_test_accuracies\n",
        "  })\n",
        "results"
      ],
      "execution_count": 47,
      "outputs": [
        {
          "output_type": "execute_result",
          "data": {
            "text/html": [
              "<div>\n",
              "<style scoped>\n",
              "    .dataframe tbody tr th:only-of-type {\n",
              "        vertical-align: middle;\n",
              "    }\n",
              "\n",
              "    .dataframe tbody tr th {\n",
              "        vertical-align: top;\n",
              "    }\n",
              "\n",
              "    .dataframe thead th {\n",
              "        text-align: right;\n",
              "    }\n",
              "</style>\n",
              "<table border=\"1\" class=\"dataframe\">\n",
              "  <thead>\n",
              "    <tr style=\"text-align: right;\">\n",
              "      <th></th>\n",
              "      <th>vocab_size</th>\n",
              "      <th>time_steps</th>\n",
              "      <th>embedding_size</th>\n",
              "      <th>rnn_neurons</th>\n",
              "      <th>dropout</th>\n",
              "      <th>best_train_acc</th>\n",
              "      <th>best_test_acc</th>\n",
              "    </tr>\n",
              "  </thead>\n",
              "  <tbody>\n",
              "    <tr>\n",
              "      <th>0</th>\n",
              "      <td>796</td>\n",
              "      <td>14</td>\n",
              "      <td>24</td>\n",
              "      <td>47</td>\n",
              "      <td>0.311876</td>\n",
              "      <td>0.975410</td>\n",
              "      <td>0.783636</td>\n",
              "    </tr>\n",
              "    <tr>\n",
              "      <th>1</th>\n",
              "      <td>1796</td>\n",
              "      <td>9</td>\n",
              "      <td>92</td>\n",
              "      <td>27</td>\n",
              "      <td>0.023233</td>\n",
              "      <td>0.992714</td>\n",
              "      <td>0.707273</td>\n",
              "    </tr>\n",
              "    <tr>\n",
              "      <th>2</th>\n",
              "      <td>1796</td>\n",
              "      <td>12</td>\n",
              "      <td>33</td>\n",
              "      <td>7</td>\n",
              "      <td>0.008234</td>\n",
              "      <td>0.990893</td>\n",
              "      <td>0.729091</td>\n",
              "    </tr>\n",
              "    <tr>\n",
              "      <th>3</th>\n",
              "      <td>1105</td>\n",
              "      <td>13</td>\n",
              "      <td>39</td>\n",
              "      <td>42</td>\n",
              "      <td>0.000312</td>\n",
              "      <td>0.989071</td>\n",
              "      <td>0.692727</td>\n",
              "    </tr>\n",
              "    <tr>\n",
              "      <th>4</th>\n",
              "      <td>1796</td>\n",
              "      <td>12</td>\n",
              "      <td>67</td>\n",
              "      <td>26</td>\n",
              "      <td>0.002827</td>\n",
              "      <td>0.990893</td>\n",
              "      <td>0.740000</td>\n",
              "    </tr>\n",
              "    <tr>\n",
              "      <th>5</th>\n",
              "      <td>1796</td>\n",
              "      <td>10</td>\n",
              "      <td>68</td>\n",
              "      <td>46</td>\n",
              "      <td>0.018666</td>\n",
              "      <td>0.991803</td>\n",
              "      <td>0.745455</td>\n",
              "    </tr>\n",
              "    <tr>\n",
              "      <th>6</th>\n",
              "      <td>796</td>\n",
              "      <td>11</td>\n",
              "      <td>56</td>\n",
              "      <td>48</td>\n",
              "      <td>0.205694</td>\n",
              "      <td>0.976776</td>\n",
              "      <td>0.743636</td>\n",
              "    </tr>\n",
              "    <tr>\n",
              "      <th>7</th>\n",
              "      <td>1796</td>\n",
              "      <td>9</td>\n",
              "      <td>60</td>\n",
              "      <td>11</td>\n",
              "      <td>0.068210</td>\n",
              "      <td>0.991348</td>\n",
              "      <td>0.774545</td>\n",
              "    </tr>\n",
              "    <tr>\n",
              "      <th>8</th>\n",
              "      <td>796</td>\n",
              "      <td>9</td>\n",
              "      <td>98</td>\n",
              "      <td>18</td>\n",
              "      <td>0.323359</td>\n",
              "      <td>0.977231</td>\n",
              "      <td>0.765455</td>\n",
              "    </tr>\n",
              "    <tr>\n",
              "      <th>9</th>\n",
              "      <td>1796</td>\n",
              "      <td>9</td>\n",
              "      <td>11</td>\n",
              "      <td>24</td>\n",
              "      <td>0.096410</td>\n",
              "      <td>0.984517</td>\n",
              "      <td>0.780000</td>\n",
              "    </tr>\n",
              "    <tr>\n",
              "      <th>10</th>\n",
              "      <td>796</td>\n",
              "      <td>12</td>\n",
              "      <td>17</td>\n",
              "      <td>39</td>\n",
              "      <td>0.363728</td>\n",
              "      <td>0.970856</td>\n",
              "      <td>0.683636</td>\n",
              "    </tr>\n",
              "    <tr>\n",
              "      <th>11</th>\n",
              "      <td>1105</td>\n",
              "      <td>12</td>\n",
              "      <td>11</td>\n",
              "      <td>10</td>\n",
              "      <td>0.083177</td>\n",
              "      <td>0.976321</td>\n",
              "      <td>0.763636</td>\n",
              "    </tr>\n",
              "    <tr>\n",
              "      <th>12</th>\n",
              "      <td>1105</td>\n",
              "      <td>9</td>\n",
              "      <td>27</td>\n",
              "      <td>30</td>\n",
              "      <td>0.179902</td>\n",
              "      <td>0.985428</td>\n",
              "      <td>0.745455</td>\n",
              "    </tr>\n",
              "    <tr>\n",
              "      <th>13</th>\n",
              "      <td>1105</td>\n",
              "      <td>17</td>\n",
              "      <td>23</td>\n",
              "      <td>35</td>\n",
              "      <td>0.368750</td>\n",
              "      <td>0.984973</td>\n",
              "      <td>0.647273</td>\n",
              "    </tr>\n",
              "    <tr>\n",
              "      <th>14</th>\n",
              "      <td>1105</td>\n",
              "      <td>10</td>\n",
              "      <td>71</td>\n",
              "      <td>44</td>\n",
              "      <td>0.337814</td>\n",
              "      <td>0.987250</td>\n",
              "      <td>0.745455</td>\n",
              "    </tr>\n",
              "    <tr>\n",
              "      <th>15</th>\n",
              "      <td>1796</td>\n",
              "      <td>10</td>\n",
              "      <td>62</td>\n",
              "      <td>28</td>\n",
              "      <td>0.142701</td>\n",
              "      <td>0.992714</td>\n",
              "      <td>0.709091</td>\n",
              "    </tr>\n",
              "    <tr>\n",
              "      <th>16</th>\n",
              "      <td>1796</td>\n",
              "      <td>9</td>\n",
              "      <td>24</td>\n",
              "      <td>49</td>\n",
              "      <td>0.029820</td>\n",
              "      <td>0.989071</td>\n",
              "      <td>0.750909</td>\n",
              "    </tr>\n",
              "    <tr>\n",
              "      <th>17</th>\n",
              "      <td>796</td>\n",
              "      <td>11</td>\n",
              "      <td>10</td>\n",
              "      <td>48</td>\n",
              "      <td>0.117395</td>\n",
              "      <td>0.968124</td>\n",
              "      <td>0.741818</td>\n",
              "    </tr>\n",
              "    <tr>\n",
              "      <th>18</th>\n",
              "      <td>796</td>\n",
              "      <td>14</td>\n",
              "      <td>90</td>\n",
              "      <td>12</td>\n",
              "      <td>0.291603</td>\n",
              "      <td>0.972222</td>\n",
              "      <td>0.640000</td>\n",
              "    </tr>\n",
              "    <tr>\n",
              "      <th>19</th>\n",
              "      <td>1796</td>\n",
              "      <td>12</td>\n",
              "      <td>50</td>\n",
              "      <td>32</td>\n",
              "      <td>0.345241</td>\n",
              "      <td>0.988160</td>\n",
              "      <td>0.763636</td>\n",
              "    </tr>\n",
              "  </tbody>\n",
              "</table>\n",
              "</div>"
            ],
            "text/plain": [
              "    vocab_size  time_steps  ...  best_train_acc  best_test_acc\n",
              "0          796          14  ...        0.975410       0.783636\n",
              "1         1796           9  ...        0.992714       0.707273\n",
              "2         1796          12  ...        0.990893       0.729091\n",
              "3         1105          13  ...        0.989071       0.692727\n",
              "4         1796          12  ...        0.990893       0.740000\n",
              "5         1796          10  ...        0.991803       0.745455\n",
              "6          796          11  ...        0.976776       0.743636\n",
              "7         1796           9  ...        0.991348       0.774545\n",
              "8          796           9  ...        0.977231       0.765455\n",
              "9         1796           9  ...        0.984517       0.780000\n",
              "10         796          12  ...        0.970856       0.683636\n",
              "11        1105          12  ...        0.976321       0.763636\n",
              "12        1105           9  ...        0.985428       0.745455\n",
              "13        1105          17  ...        0.984973       0.647273\n",
              "14        1105          10  ...        0.987250       0.745455\n",
              "15        1796          10  ...        0.992714       0.709091\n",
              "16        1796           9  ...        0.989071       0.750909\n",
              "17         796          11  ...        0.968124       0.741818\n",
              "18         796          14  ...        0.972222       0.640000\n",
              "19        1796          12  ...        0.988160       0.763636\n",
              "\n",
              "[20 rows x 7 columns]"
            ]
          },
          "metadata": {
            "tags": []
          },
          "execution_count": 47
        }
      ]
    },
    {
      "cell_type": "code",
      "metadata": {
        "id": "AKcCYtUi6cFs",
        "colab_type": "code",
        "colab": {}
      },
      "source": [
        ""
      ],
      "execution_count": 0,
      "outputs": []
    }
  ]
}