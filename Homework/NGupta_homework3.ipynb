{
  "nbformat": 4,
  "nbformat_minor": 0,
  "metadata": {
    "colab": {
      "name": "NGupta_homework3.ipynb",
      "provenance": [],
      "collapsed_sections": [],
      "toc_visible": true,
      "authorship_tag": "ABX9TyP4oDkBJAuV2TIpe7bdvb93",
      "include_colab_link": true
    },
    "kernelspec": {
      "name": "python3",
      "display_name": "Python 3"
    },
    "accelerator": "GPU"
  },
  "cells": [
    {
      "cell_type": "markdown",
      "metadata": {
        "id": "view-in-github",
        "colab_type": "text"
      },
      "source": [
        "<a href=\"https://colab.research.google.com/github/ngupta23/ds7337_nlp/blob/master/Homework/NGupta_homework3.ipynb\" target=\"_parent\"><img src=\"https://colab.research.google.com/assets/colab-badge.svg\" alt=\"Open In Colab\"/></a>"
      ]
    },
    {
      "cell_type": "code",
      "metadata": {
        "id": "KswcZQAW9vDM",
        "colab_type": "code",
        "outputId": "1fd6c1a7-59d5-4035-cfac-0a322d00c554",
        "colab": {
          "base_uri": "https://localhost:8080/",
          "height": 219
        }
      },
      "source": [
        "!wget https://archive.ics.uci.edu/ml/machine-learning-databases/00331/sentiment%20labelled%20sentences.zip"
      ],
      "execution_count": 1,
      "outputs": [
        {
          "output_type": "stream",
          "text": [
            "--2020-05-31 22:56:35--  https://archive.ics.uci.edu/ml/machine-learning-databases/00331/sentiment%20labelled%20sentences.zip\n",
            "Resolving archive.ics.uci.edu (archive.ics.uci.edu)... 128.195.10.252\n",
            "Connecting to archive.ics.uci.edu (archive.ics.uci.edu)|128.195.10.252|:443... connected.\n",
            "HTTP request sent, awaiting response... 200 OK\n",
            "Length: 84188 (82K) [application/x-httpd-php]\n",
            "Saving to: ‘sentiment labelled sentences.zip.3’\n",
            "\n",
            "\r          sentiment   0%[                    ]       0  --.-KB/s               \r         sentiment   47%[========>           ]  39.00K   140KB/s               \rsentiment labelled  100%[===================>]  82.21K   295KB/s    in 0.3s    \n",
            "\n",
            "2020-05-31 22:56:36 (295 KB/s) - ‘sentiment labelled sentences.zip.3’ saved [84188/84188]\n",
            "\n"
          ],
          "name": "stdout"
        }
      ]
    },
    {
      "cell_type": "code",
      "metadata": {
        "id": "zqOwg9Lw-SSa",
        "colab_type": "code",
        "outputId": "88237e7a-d5bc-4e82-9a14-f57d513e70df",
        "colab": {
          "base_uri": "https://localhost:8080/",
          "height": 219
        }
      },
      "source": [
        "!unzip 'sentiment labelled sentences.zip'"
      ],
      "execution_count": 2,
      "outputs": [
        {
          "output_type": "stream",
          "text": [
            "Archive:  sentiment labelled sentences.zip\n",
            "replace sentiment labelled sentences/.DS_Store? [y]es, [n]o, [A]ll, [N]one, [r]ename: A\n",
            "  inflating: sentiment labelled sentences/.DS_Store  \n",
            "  inflating: __MACOSX/sentiment labelled sentences/._.DS_Store  \n",
            "  inflating: sentiment labelled sentences/amazon_cells_labelled.txt  \n",
            "  inflating: sentiment labelled sentences/imdb_labelled.txt  \n",
            "  inflating: __MACOSX/sentiment labelled sentences/._imdb_labelled.txt  \n",
            "  inflating: sentiment labelled sentences/readme.txt  \n",
            "  inflating: __MACOSX/sentiment labelled sentences/._readme.txt  \n",
            "  inflating: sentiment labelled sentences/yelp_labelled.txt  \n",
            "  inflating: __MACOSX/._sentiment labelled sentences  \n"
          ],
          "name": "stdout"
        }
      ]
    },
    {
      "cell_type": "code",
      "metadata": {
        "id": "ZWcLDbNJ_62z",
        "colab_type": "code",
        "colab": {}
      },
      "source": [
        "import os\n",
        "from typing import List, Tuple\n",
        "import numpy as np\n",
        "import pandas as pd"
      ],
      "execution_count": 0,
      "outputs": []
    },
    {
      "cell_type": "code",
      "metadata": {
        "id": "00bDz1tYDj19",
        "colab_type": "code",
        "outputId": "9e260a0d-9ede-4d97-e374-4c7f307167e5",
        "colab": {
          "base_uri": "https://localhost:8080/",
          "height": 90
        }
      },
      "source": [
        "import nltk\n",
        "nltk.download('punkt')\n",
        "nltk.download('stopwords')\n",
        "from nltk.corpus import stopwords\n",
        "from nltk.tokenize import word_tokenize"
      ],
      "execution_count": 4,
      "outputs": [
        {
          "output_type": "stream",
          "text": [
            "[nltk_data] Downloading package punkt to /root/nltk_data...\n",
            "[nltk_data]   Package punkt is already up-to-date!\n",
            "[nltk_data] Downloading package stopwords to /root/nltk_data...\n",
            "[nltk_data]   Package stopwords is already up-to-date!\n"
          ],
          "name": "stdout"
        }
      ]
    },
    {
      "cell_type": "code",
      "metadata": {
        "id": "Z9wzkaxRIzpk",
        "colab_type": "code",
        "colab": {}
      },
      "source": [
        "from sklearn.model_selection import train_test_split"
      ],
      "execution_count": 0,
      "outputs": []
    },
    {
      "cell_type": "code",
      "metadata": {
        "id": "VqTxpJMhAUfP",
        "colab_type": "code",
        "outputId": "29184b1b-23d4-4d9f-9c60-8dafc476c104",
        "colab": {
          "base_uri": "https://localhost:8080/",
          "height": 35
        }
      },
      "source": [
        "files = ['amazon_cells_labelled.txt', 'yelp_labelled.txt', 'imdb_labelled.txt']\n",
        "parent_dir = 'sentiment labelled sentences'\n",
        "dfs = [pd.read_csv(os.path.join(parent_dir, file), delimiter='\\t', header=None) for file in files]\n",
        "len(dfs)"
      ],
      "execution_count": 6,
      "outputs": [
        {
          "output_type": "execute_result",
          "data": {
            "text/plain": [
              "3"
            ]
          },
          "metadata": {
            "tags": []
          },
          "execution_count": 6
        }
      ]
    },
    {
      "cell_type": "code",
      "metadata": {
        "id": "rNpMSG0l_thT",
        "colab_type": "code",
        "outputId": "d5c83ea0-907b-40d3-e508-79713a7e8f50",
        "colab": {
          "base_uri": "https://localhost:8080/",
          "height": 182
        }
      },
      "source": [
        "# Combine all data sets\n",
        "data = pd.concat(dfs)\n",
        "data.columns = ['Sentence','Sentiment']\n",
        "data.reset_index(inplace=True, drop=True)\n",
        "data.info()"
      ],
      "execution_count": 7,
      "outputs": [
        {
          "output_type": "stream",
          "text": [
            "<class 'pandas.core.frame.DataFrame'>\n",
            "RangeIndex: 2748 entries, 0 to 2747\n",
            "Data columns (total 2 columns):\n",
            " #   Column     Non-Null Count  Dtype \n",
            "---  ------     --------------  ----- \n",
            " 0   Sentence   2748 non-null   object\n",
            " 1   Sentiment  2748 non-null   int64 \n",
            "dtypes: int64(1), object(1)\n",
            "memory usage: 43.1+ KB\n"
          ],
          "name": "stdout"
        }
      ]
    },
    {
      "cell_type": "code",
      "metadata": {
        "id": "rCyFFEqEBCEK",
        "colab_type": "code",
        "outputId": "b5f424da-17e0-43af-cd47-ffa5c7a482ca",
        "colab": {
          "base_uri": "https://localhost:8080/",
          "height": 206
        }
      },
      "source": [
        "data.head()"
      ],
      "execution_count": 8,
      "outputs": [
        {
          "output_type": "execute_result",
          "data": {
            "text/html": [
              "<div>\n",
              "<style scoped>\n",
              "    .dataframe tbody tr th:only-of-type {\n",
              "        vertical-align: middle;\n",
              "    }\n",
              "\n",
              "    .dataframe tbody tr th {\n",
              "        vertical-align: top;\n",
              "    }\n",
              "\n",
              "    .dataframe thead th {\n",
              "        text-align: right;\n",
              "    }\n",
              "</style>\n",
              "<table border=\"1\" class=\"dataframe\">\n",
              "  <thead>\n",
              "    <tr style=\"text-align: right;\">\n",
              "      <th></th>\n",
              "      <th>Sentence</th>\n",
              "      <th>Sentiment</th>\n",
              "    </tr>\n",
              "  </thead>\n",
              "  <tbody>\n",
              "    <tr>\n",
              "      <th>0</th>\n",
              "      <td>So there is no way for me to plug it in here i...</td>\n",
              "      <td>0</td>\n",
              "    </tr>\n",
              "    <tr>\n",
              "      <th>1</th>\n",
              "      <td>Good case, Excellent value.</td>\n",
              "      <td>1</td>\n",
              "    </tr>\n",
              "    <tr>\n",
              "      <th>2</th>\n",
              "      <td>Great for the jawbone.</td>\n",
              "      <td>1</td>\n",
              "    </tr>\n",
              "    <tr>\n",
              "      <th>3</th>\n",
              "      <td>Tied to charger for conversations lasting more...</td>\n",
              "      <td>0</td>\n",
              "    </tr>\n",
              "    <tr>\n",
              "      <th>4</th>\n",
              "      <td>The mic is great.</td>\n",
              "      <td>1</td>\n",
              "    </tr>\n",
              "  </tbody>\n",
              "</table>\n",
              "</div>"
            ],
            "text/plain": [
              "                                            Sentence  Sentiment\n",
              "0  So there is no way for me to plug it in here i...          0\n",
              "1                        Good case, Excellent value.          1\n",
              "2                             Great for the jawbone.          1\n",
              "3  Tied to charger for conversations lasting more...          0\n",
              "4                                  The mic is great.          1"
            ]
          },
          "metadata": {
            "tags": []
          },
          "execution_count": 8
        }
      ]
    },
    {
      "cell_type": "code",
      "metadata": {
        "id": "7_7FLeNDBxch",
        "colab_type": "code",
        "outputId": "c2c6bc94-5372-4c1b-f67a-b348019585ae",
        "colab": {
          "base_uri": "https://localhost:8080/",
          "height": 206
        }
      },
      "source": [
        "data.tail()"
      ],
      "execution_count": 9,
      "outputs": [
        {
          "output_type": "execute_result",
          "data": {
            "text/html": [
              "<div>\n",
              "<style scoped>\n",
              "    .dataframe tbody tr th:only-of-type {\n",
              "        vertical-align: middle;\n",
              "    }\n",
              "\n",
              "    .dataframe tbody tr th {\n",
              "        vertical-align: top;\n",
              "    }\n",
              "\n",
              "    .dataframe thead th {\n",
              "        text-align: right;\n",
              "    }\n",
              "</style>\n",
              "<table border=\"1\" class=\"dataframe\">\n",
              "  <thead>\n",
              "    <tr style=\"text-align: right;\">\n",
              "      <th></th>\n",
              "      <th>Sentence</th>\n",
              "      <th>Sentiment</th>\n",
              "    </tr>\n",
              "  </thead>\n",
              "  <tbody>\n",
              "    <tr>\n",
              "      <th>2743</th>\n",
              "      <td>I just got bored watching Jessice Lange take h...</td>\n",
              "      <td>0</td>\n",
              "    </tr>\n",
              "    <tr>\n",
              "      <th>2744</th>\n",
              "      <td>Unfortunately, any virtue in this film's produ...</td>\n",
              "      <td>0</td>\n",
              "    </tr>\n",
              "    <tr>\n",
              "      <th>2745</th>\n",
              "      <td>In a word, it is embarrassing.</td>\n",
              "      <td>0</td>\n",
              "    </tr>\n",
              "    <tr>\n",
              "      <th>2746</th>\n",
              "      <td>Exceptionally bad!</td>\n",
              "      <td>0</td>\n",
              "    </tr>\n",
              "    <tr>\n",
              "      <th>2747</th>\n",
              "      <td>All in all its an insult to one's intelligence...</td>\n",
              "      <td>0</td>\n",
              "    </tr>\n",
              "  </tbody>\n",
              "</table>\n",
              "</div>"
            ],
            "text/plain": [
              "                                               Sentence  Sentiment\n",
              "2743  I just got bored watching Jessice Lange take h...          0\n",
              "2744  Unfortunately, any virtue in this film's produ...          0\n",
              "2745                   In a word, it is embarrassing.            0\n",
              "2746                               Exceptionally bad!            0\n",
              "2747  All in all its an insult to one's intelligence...          0"
            ]
          },
          "metadata": {
            "tags": []
          },
          "execution_count": 9
        }
      ]
    },
    {
      "cell_type": "markdown",
      "metadata": {
        "id": "X2buSskmCtOJ",
        "colab_type": "text"
      },
      "source": [
        "### Looks like the data is evenly distributed between both positive and negative sentiment"
      ]
    },
    {
      "cell_type": "code",
      "metadata": {
        "id": "JfooulO0BzP4",
        "colab_type": "code",
        "outputId": "49e36e3a-cb6c-4d65-e59b-c2c46a5465a5",
        "colab": {
          "base_uri": "https://localhost:8080/",
          "height": 283
        }
      },
      "source": [
        "data['Sentiment'].hist()"
      ],
      "execution_count": 10,
      "outputs": [
        {
          "output_type": "execute_result",
          "data": {
            "text/plain": [
              "<matplotlib.axes._subplots.AxesSubplot at 0x7fc6b9cbd3c8>"
            ]
          },
          "metadata": {
            "tags": []
          },
          "execution_count": 10
        },
        {
          "output_type": "display_data",
          "data": {
            "image/png": "[encoded data removed]",
            "text/plain": [
              "<Figure size 432x288 with 1 Axes>"
            ]
          },
          "metadata": {
            "tags": [],
            "needs_background": "light"
          }
        }
      ]
    },
    {
      "cell_type": "markdown",
      "metadata": {
        "id": "7-McSGYGDJlA",
        "colab_type": "text"
      },
      "source": [
        "# Preprocessing\n",
        "\n",
        "* [Reference](https://dzone.com/articles/simple-sentiment-analysis-with-nlp)"
      ]
    },
    {
      "cell_type": "code",
      "metadata": {
        "id": "JL-tGp_XFpBs",
        "colab_type": "code",
        "outputId": "b559b90a-d94d-4972-c70e-b2d925e281fd",
        "colab": {
          "base_uri": "https://localhost:8080/",
          "height": 109
        }
      },
      "source": [
        "for i in range(5):\n",
        "  print(data.iloc[i]['Sentence'])"
      ],
      "execution_count": 11,
      "outputs": [
        {
          "output_type": "stream",
          "text": [
            "So there is no way for me to plug it in here in the US unless I go by a converter.\n",
            "Good case, Excellent value.\n",
            "Great for the jawbone.\n",
            "Tied to charger for conversations lasting more than 45 minutes.MAJOR PROBLEMS!!\n",
            "The mic is great.\n"
          ],
          "name": "stdout"
        }
      ]
    },
    {
      "cell_type": "code",
      "metadata": {
        "id": "mJSuCG_zCdcK",
        "colab_type": "code",
        "colab": {}
      },
      "source": [
        "#Text Preprocessing\n",
        "# Lower string\n",
        "data['Sentence'] = data['Sentence'].str.lower()\n",
        "\n",
        "# Remove punctaitions and special chracters\n",
        "data['Sentence'] = data['Sentence'].str.replace('[^\\w\\s]','')\n",
        "\n",
        "# Remove numbers \n",
        "# Reasons: \n",
        "# (1) They can have a large range (vocabulary will unnecessarily increase)\n",
        "# (2) They dont add much to determine the polarity of the sentiment (e.g. if a review contains 45, does it mean that the review is positive or negative?)\n",
        "data['Sentence'] = data['Sentence'].replace('\\d', '', regex=True)"
      ],
      "execution_count": 0,
      "outputs": []
    },
    {
      "cell_type": "code",
      "metadata": {
        "id": "dn0_S1J6GMgV",
        "colab_type": "code",
        "outputId": "5dd53081-dc71-4029-c499-bc3c7d99b35c",
        "colab": {
          "base_uri": "https://localhost:8080/",
          "height": 109
        }
      },
      "source": [
        "for i in range(5):\n",
        "  print(data.iloc[i]['Sentence'])"
      ],
      "execution_count": 13,
      "outputs": [
        {
          "output_type": "stream",
          "text": [
            "so there is no way for me to plug it in here in the us unless i go by a converter\n",
            "good case excellent value\n",
            "great for the jawbone\n",
            "tied to charger for conversations lasting more than  minutesmajor problems\n",
            "the mic is great\n"
          ],
          "name": "stdout"
        }
      ]
    },
    {
      "cell_type": "markdown",
      "metadata": {
        "id": "8JpSqPi-G8rz",
        "colab_type": "text"
      },
      "source": [
        "It is not perfect. You can see that \"minutes.MAJOR\" has been converted to a single token \"minutesmajor\", when it should have been 2 tokens. But this is still better than the original text."
      ]
    },
    {
      "cell_type": "code",
      "metadata": {
        "id": "qj8mikknDQvw",
        "colab_type": "code",
        "colab": {}
      },
      "source": [
        "# Remove Stop Words (using nltk)\n",
        "df_ = pd.DataFrame(columns=data.columns)\n",
        "\n",
        "for index, row in data.iterrows():\n",
        "    word_tokens = word_tokenize(row['Sentence'])\n",
        "    filtered_sentence = [w for w in word_tokens if not w in stopwords.words('english')]\n",
        "    df_ = df_.append({\"Sentiment\":  row['Sentiment'], \"Sentence\": \" \".join(filtered_sentence[0:])}, ignore_index=True)\n",
        "\n",
        "data = df_"
      ],
      "execution_count": 0,
      "outputs": []
    },
    {
      "cell_type": "code",
      "metadata": {
        "id": "0sLTtWSaIgXl",
        "colab_type": "code",
        "outputId": "6e4c626d-4d0a-4b3a-c05a-46c649273713",
        "colab": {
          "base_uri": "https://localhost:8080/",
          "height": 109
        }
      },
      "source": [
        "for i in range(5):\n",
        "  print(data.iloc[i]['Sentence'])"
      ],
      "execution_count": 15,
      "outputs": [
        {
          "output_type": "stream",
          "text": [
            "way plug us unless go converter\n",
            "good case excellent value\n",
            "great jawbone\n",
            "tied charger conversations lasting minutesmajor problems\n",
            "mic great\n"
          ],
          "name": "stdout"
        }
      ]
    },
    {
      "cell_type": "markdown",
      "metadata": {
        "id": "otMn6BaPaRIt",
        "colab_type": "text"
      },
      "source": [
        "# EDA"
      ]
    },
    {
      "cell_type": "code",
      "metadata": {
        "id": "RSNmDkYia9hS",
        "colab_type": "code",
        "outputId": "6585fe6e-17e5-4906-ec31-9371e069f3d9",
        "colab": {
          "base_uri": "https://localhost:8080/",
          "height": 206
        }
      },
      "source": [
        "data['len'] = data['Sentence'].str.split().str.len()\n",
        "data.head()"
      ],
      "execution_count": 16,
      "outputs": [
        {
          "output_type": "execute_result",
          "data": {
            "text/html": [
              "<div>\n",
              "<style scoped>\n",
              "    .dataframe tbody tr th:only-of-type {\n",
              "        vertical-align: middle;\n",
              "    }\n",
              "\n",
              "    .dataframe tbody tr th {\n",
              "        vertical-align: top;\n",
              "    }\n",
              "\n",
              "    .dataframe thead th {\n",
              "        text-align: right;\n",
              "    }\n",
              "</style>\n",
              "<table border=\"1\" class=\"dataframe\">\n",
              "  <thead>\n",
              "    <tr style=\"text-align: right;\">\n",
              "      <th></th>\n",
              "      <th>Sentence</th>\n",
              "      <th>Sentiment</th>\n",
              "      <th>len</th>\n",
              "    </tr>\n",
              "  </thead>\n",
              "  <tbody>\n",
              "    <tr>\n",
              "      <th>0</th>\n",
              "      <td>way plug us unless go converter</td>\n",
              "      <td>0</td>\n",
              "      <td>6</td>\n",
              "    </tr>\n",
              "    <tr>\n",
              "      <th>1</th>\n",
              "      <td>good case excellent value</td>\n",
              "      <td>1</td>\n",
              "      <td>4</td>\n",
              "    </tr>\n",
              "    <tr>\n",
              "      <th>2</th>\n",
              "      <td>great jawbone</td>\n",
              "      <td>1</td>\n",
              "      <td>2</td>\n",
              "    </tr>\n",
              "    <tr>\n",
              "      <th>3</th>\n",
              "      <td>tied charger conversations lasting minutesmajo...</td>\n",
              "      <td>0</td>\n",
              "      <td>6</td>\n",
              "    </tr>\n",
              "    <tr>\n",
              "      <th>4</th>\n",
              "      <td>mic great</td>\n",
              "      <td>1</td>\n",
              "      <td>2</td>\n",
              "    </tr>\n",
              "  </tbody>\n",
              "</table>\n",
              "</div>"
            ],
            "text/plain": [
              "                                            Sentence Sentiment  len\n",
              "0                    way plug us unless go converter         0    6\n",
              "1                          good case excellent value         1    4\n",
              "2                                      great jawbone         1    2\n",
              "3  tied charger conversations lasting minutesmajo...         0    6\n",
              "4                                          mic great         1    2"
            ]
          },
          "metadata": {
            "tags": []
          },
          "execution_count": 16
        }
      ]
    },
    {
      "cell_type": "code",
      "metadata": {
        "id": "WepKP5yDaR-h",
        "colab_type": "code",
        "outputId": "4934a3f8-d5cd-4349-9c74-5d15b38ff089",
        "colab": {
          "base_uri": "https://localhost:8080/",
          "height": 54
        }
      },
      "source": [
        "print('Maximum review length: {}'.format(data['len'].max()))\n",
        "print('Minimum review length: {}'.format(data['len'].min()))"
      ],
      "execution_count": 17,
      "outputs": [
        {
          "output_type": "stream",
          "text": [
            "Maximum review length: 686\n",
            "Minimum review length: 0\n"
          ],
          "name": "stdout"
        }
      ]
    },
    {
      "cell_type": "code",
      "metadata": {
        "id": "Zu_j_H4CdDk7",
        "colab_type": "code",
        "outputId": "f2392261-ab18-4cc4-9759-e8c3976ea1c3",
        "colab": {
          "base_uri": "https://localhost:8080/",
          "height": 112
        }
      },
      "source": [
        "data[data['len'] == 0]"
      ],
      "execution_count": 18,
      "outputs": [
        {
          "output_type": "execute_result",
          "data": {
            "text/html": [
              "<div>\n",
              "<style scoped>\n",
              "    .dataframe tbody tr th:only-of-type {\n",
              "        vertical-align: middle;\n",
              "    }\n",
              "\n",
              "    .dataframe tbody tr th {\n",
              "        vertical-align: top;\n",
              "    }\n",
              "\n",
              "    .dataframe thead th {\n",
              "        text-align: right;\n",
              "    }\n",
              "</style>\n",
              "<table border=\"1\" class=\"dataframe\">\n",
              "  <thead>\n",
              "    <tr style=\"text-align: right;\">\n",
              "      <th></th>\n",
              "      <th>Sentence</th>\n",
              "      <th>Sentiment</th>\n",
              "      <th>len</th>\n",
              "    </tr>\n",
              "  </thead>\n",
              "  <tbody>\n",
              "    <tr>\n",
              "      <th>2064</th>\n",
              "      <td></td>\n",
              "      <td>1</td>\n",
              "      <td>0</td>\n",
              "    </tr>\n",
              "    <tr>\n",
              "      <th>2590</th>\n",
              "      <td></td>\n",
              "      <td>1</td>\n",
              "      <td>0</td>\n",
              "    </tr>\n",
              "  </tbody>\n",
              "</table>\n",
              "</div>"
            ],
            "text/plain": [
              "     Sentence Sentiment  len\n",
              "2064                  1    0\n",
              "2590                  1    0"
            ]
          },
          "metadata": {
            "tags": []
          },
          "execution_count": 18
        }
      ]
    },
    {
      "cell_type": "code",
      "metadata": {
        "id": "kwNl0aTpaTib",
        "colab_type": "code",
        "outputId": "2bd4e847-6e78-4733-fe37-7a637d08ac16",
        "colab": {
          "base_uri": "https://localhost:8080/",
          "height": 201
        }
      },
      "source": [
        "# Remove empty reviews since these will translate to all <PAD> tokens and we do not want to assign a positive or negative connotation to <PAD> tokens.\n",
        "data = data[data['Sentence'] != \"\"]\n",
        "data.info()"
      ],
      "execution_count": 19,
      "outputs": [
        {
          "output_type": "stream",
          "text": [
            "<class 'pandas.core.frame.DataFrame'>\n",
            "Int64Index: 2746 entries, 0 to 2747\n",
            "Data columns (total 3 columns):\n",
            " #   Column     Non-Null Count  Dtype \n",
            "---  ------     --------------  ----- \n",
            " 0   Sentence   2746 non-null   object\n",
            " 1   Sentiment  2746 non-null   object\n",
            " 2   len        2746 non-null   int64 \n",
            "dtypes: int64(1), object(2)\n",
            "memory usage: 85.8+ KB\n"
          ],
          "name": "stdout"
        }
      ]
    },
    {
      "cell_type": "code",
      "metadata": {
        "id": "lHlpKfW0dK-0",
        "colab_type": "code",
        "outputId": "edb080e1-c8f7-4c05-fdb0-60dbadd7152d",
        "colab": {
          "base_uri": "https://localhost:8080/",
          "height": 54
        }
      },
      "source": [
        "print('Maximum review length: {}'.format(data['len'].max()))\n",
        "print('Minimum review length: {}'.format(data['len'].min()))"
      ],
      "execution_count": 20,
      "outputs": [
        {
          "output_type": "stream",
          "text": [
            "Maximum review length: 686\n",
            "Minimum review length: 1\n"
          ],
          "name": "stdout"
        }
      ]
    },
    {
      "cell_type": "code",
      "metadata": {
        "id": "hQMmrgkZdgY_",
        "colab_type": "code",
        "outputId": "95c461da-6ecc-452a-cf04-efacf65c553d",
        "colab": {
          "base_uri": "https://localhost:8080/",
          "height": 35
        }
      },
      "source": [
        "# Keep 97% of reviews completely and chop of the remainig 3% of the reviews.\n",
        "import numpy as np\n",
        "time_steps = int(np.quantile(data['len'],0.97))\n",
        "time_steps"
      ],
      "execution_count": 21,
      "outputs": [
        {
          "output_type": "execute_result",
          "data": {
            "text/plain": [
              "15"
            ]
          },
          "metadata": {
            "tags": []
          },
          "execution_count": 21
        }
      ]
    },
    {
      "cell_type": "code",
      "metadata": {
        "id": "X7iSE-A2dM1J",
        "colab_type": "code",
        "outputId": "4e1b37ea-3b9a-4c35-a353-62a8fe3e8307",
        "colab": {
          "base_uri": "https://localhost:8080/",
          "height": 582
        }
      },
      "source": [
        "data.hist(bins=100)\n",
        "data[data['len'] <= time_steps].hist(bins=100)"
      ],
      "execution_count": 22,
      "outputs": [
        {
          "output_type": "execute_result",
          "data": {
            "text/plain": [
              "array([[<matplotlib.axes._subplots.AxesSubplot object at 0x7fc6b946a160>]],\n",
              "      dtype=object)"
            ]
          },
          "metadata": {
            "tags": []
          },
          "execution_count": 22
        },
        {
          "output_type": "display_data",
          "data": {
            "image/png": "[encoded data removed]",
            "text/plain": [
              "<Figure size 432x288 with 1 Axes>"
            ]
          },
          "metadata": {
            "tags": [],
            "needs_background": "light"
          }
        },
        {
          "output_type": "display_data",
          "data": {
            "image/png": "[encoded data removed]",
            "text/plain": [
              "<Figure size 432x288 with 1 Axes>"
            ]
          },
          "metadata": {
            "tags": [],
            "needs_background": "light"
          }
        }
      ]
    },
    {
      "cell_type": "markdown",
      "metadata": {
        "id": "8Au5lXS1I1-r",
        "colab_type": "text"
      },
      "source": [
        "# Train Test Split"
      ]
    },
    {
      "cell_type": "code",
      "metadata": {
        "id": "nTKOVkm3I4DB",
        "colab_type": "code",
        "outputId": "45f5c5db-2468-4cdb-a0de-3f6008b61caa",
        "colab": {
          "base_uri": "https://localhost:8080/",
          "height": 54
        }
      },
      "source": [
        "X_train, X_test, y_train, y_test = train_test_split(\n",
        "    data['Sentence'].values.astype('U'),\n",
        "    data['Sentiment'].values.astype('int32'),\n",
        "    test_size=0.20,\n",
        "    random_state=42\n",
        ")\n",
        "\n",
        "print(f\"Number of samples: X_train: {len(X_train)}, y_train: {len(y_train)}\")\n",
        "print(f\"Number of samples: X_test: {len(X_test)}, y_test: {len(y_test)}\")"
      ],
      "execution_count": 23,
      "outputs": [
        {
          "output_type": "stream",
          "text": [
            "Number of samples: X_train: 2196, y_train: 2196\n",
            "Number of samples: X_test: 550, y_test: 550\n"
          ],
          "name": "stdout"
        }
      ]
    },
    {
      "cell_type": "code",
      "metadata": {
        "id": "Fl7DptmxKKtl",
        "colab_type": "code",
        "outputId": "d9a8cbb4-83b1-4c83-cc0c-93fbfc5b60c4",
        "colab": {
          "base_uri": "https://localhost:8080/",
          "height": 54
        }
      },
      "source": [
        "# Checking split --> both test and train contain roughly the same number of positive (and negative) sentiment reviews\n",
        "print(sum(y_train == 1)/len(y_train))\n",
        "print(sum(y_test == 1)/len(y_test))"
      ],
      "execution_count": 24,
      "outputs": [
        {
          "output_type": "stream",
          "text": [
            "0.51183970856102\n",
            "0.4727272727272727\n"
          ],
          "name": "stdout"
        }
      ]
    },
    {
      "cell_type": "code",
      "metadata": {
        "id": "_K-eDLEDOcFJ",
        "colab_type": "code",
        "outputId": "556d68e0-4980-4c36-a1f1-d297e24763f0",
        "colab": {
          "base_uri": "https://localhost:8080/",
          "height": 109
        }
      },
      "source": [
        "X_train[:5]"
      ],
      "execution_count": 25,
      "outputs": [
        {
          "output_type": "execute_result",
          "data": {
            "text/plain": [
              "array(['great tool entertainment communication data managementoh sure use activesync optimal data synchronization results',\n",
              "       'frankly cotton club unfaithful kind embarrassing watch lane gere film bad',\n",
              "       'keyboard really worthwhile usefulness sturdy enough dont expect problems',\n",
              "       'utterly confusing first caused lose couple important contacts',\n",
              "       'wish could enter negative values admins'], dtype='<U4999')"
            ]
          },
          "metadata": {
            "tags": []
          },
          "execution_count": 25
        }
      ]
    },
    {
      "cell_type": "code",
      "metadata": {
        "id": "Uy2KpemeNpv9",
        "colab_type": "code",
        "outputId": "12faf220-4ab9-41d0-aecb-5023a735beca",
        "colab": {
          "base_uri": "https://localhost:8080/",
          "height": 55
        }
      },
      "source": [
        "reviews_corpus = []\n",
        "for _, row in enumerate(X_train):\n",
        "  reviews_corpus = reviews_corpus + row.split(\" \")\n",
        "\n",
        "print(reviews_corpus[:30])"
      ],
      "execution_count": 26,
      "outputs": [
        {
          "output_type": "stream",
          "text": [
            "['great', 'tool', 'entertainment', 'communication', 'data', 'managementoh', 'sure', 'use', 'activesync', 'optimal', 'data', 'synchronization', 'results', 'frankly', 'cotton', 'club', 'unfaithful', 'kind', 'embarrassing', 'watch', 'lane', 'gere', 'film', 'bad', 'keyboard', 'really', 'worthwhile', 'usefulness', 'sturdy', 'enough']\n"
          ],
          "name": "stdout"
        }
      ]
    },
    {
      "cell_type": "code",
      "metadata": {
        "id": "BkdgtcisKi7x",
        "colab_type": "code",
        "outputId": "83ba1338-a20b-4f3a-e38e-09f007584ffc",
        "colab": {
          "base_uri": "https://localhost:8080/",
          "height": 74
        }
      },
      "source": [
        "# Get only words that have occured more than once to remove noise, spelling mistakes and possible tokenization errors.\n",
        "fdist = nltk.FreqDist(reviews_corpus)\n",
        "print(fdist.most_common()[:20])\n",
        "vocab = [word for word, count in fdist.most_common() if count > 1]\n",
        "print(vocab[:20])"
      ],
      "execution_count": 27,
      "outputs": [
        {
          "output_type": "stream",
          "text": [
            "[('good', 183), ('great', 176), ('movie', 142), ('film', 131), ('phone', 124), ('one', 118), ('food', 101), ('like', 96), ('time', 90), ('really', 87), ('place', 87), ('service', 85), ('well', 76), ('bad', 73), ('dont', 71), ('best', 67), ('even', 67), ('would', 66), ('ever', 63), ('also', 56)]\n",
            "['good', 'great', 'movie', 'film', 'phone', 'one', 'food', 'like', 'time', 'really', 'place', 'service', 'well', 'bad', 'dont', 'best', 'even', 'would', 'ever', 'also']\n"
          ],
          "name": "stdout"
        }
      ]
    },
    {
      "cell_type": "code",
      "metadata": {
        "id": "6oY1MmJih7dQ",
        "colab_type": "code",
        "outputId": "502349fd-4aad-41e8-9cc2-fdf973963ce2",
        "colab": {
          "base_uri": "https://localhost:8080/",
          "height": 35
        }
      },
      "source": [
        "len(vocab)"
      ],
      "execution_count": 28,
      "outputs": [
        {
          "output_type": "execute_result",
          "data": {
            "text/plain": [
              "1793"
            ]
          },
          "metadata": {
            "tags": []
          },
          "execution_count": 28
        }
      ]
    },
    {
      "cell_type": "code",
      "metadata": {
        "id": "2hQ78qOqQTsx",
        "colab_type": "code",
        "colab": {}
      },
      "source": [
        "word_index = {}\n",
        "word_index[\"<PAD>\"] = 0\n",
        "word_index[\"<START>\"] = 1\n",
        "word_index[\"<UNK>\"] = 2\n",
        "for index, word in enumerate(vocab):\n",
        "  word_index[word] = index+3"
      ],
      "execution_count": 0,
      "outputs": []
    },
    {
      "cell_type": "code",
      "metadata": {
        "id": "FjQcGgu5Ro4i",
        "colab_type": "code",
        "outputId": "d51941ec-42bd-4c6b-a53f-4ec60b5ae1d9",
        "colab": {
          "base_uri": "https://localhost:8080/",
          "height": 201
        }
      },
      "source": [
        "reverse_word_index = dict([(value, key) for (key, value) in word_index.items()])\n",
        "[(i, reverse_word_index.get(i)) for i in np.arange(10)]"
      ],
      "execution_count": 30,
      "outputs": [
        {
          "output_type": "execute_result",
          "data": {
            "text/plain": [
              "[(0, '<PAD>'),\n",
              " (1, '<START>'),\n",
              " (2, '<UNK>'),\n",
              " (3, 'good'),\n",
              " (4, 'great'),\n",
              " (5, 'movie'),\n",
              " (6, 'film'),\n",
              " (7, 'phone'),\n",
              " (8, 'one'),\n",
              " (9, 'food')]"
            ]
          },
          "metadata": {
            "tags": []
          },
          "execution_count": 30
        }
      ]
    },
    {
      "cell_type": "code",
      "metadata": {
        "id": "tk_LPxpmnnhH",
        "colab_type": "code",
        "outputId": "51764fbe-2585-4b10-f667-32cd617a8fd6",
        "colab": {
          "base_uri": "https://localhost:8080/",
          "height": 35
        }
      },
      "source": [
        "vocabulary_size = len(word_index.keys())\n",
        "vocabulary_size"
      ],
      "execution_count": 31,
      "outputs": [
        {
          "output_type": "execute_result",
          "data": {
            "text/plain": [
              "1796"
            ]
          },
          "metadata": {
            "tags": []
          },
          "execution_count": 31
        }
      ]
    },
    {
      "cell_type": "code",
      "metadata": {
        "id": "302j7mzHQhXA",
        "colab_type": "code",
        "colab": {}
      },
      "source": [
        "def encode_review(plain_text: str) -> List[int]:\n",
        "  return [word_index[token] if token in word_index.keys() else word_index[\"<UNK>\"] for token in plain_text.split(\" \")]\n",
        "\n",
        "def decode_review(encoded_text):\n",
        "  return ' '.join([reverse_word_index.get(i, '?') for i in encoded_text])"
      ],
      "execution_count": 0,
      "outputs": []
    },
    {
      "cell_type": "code",
      "metadata": {
        "id": "GtPEYS9AR166",
        "colab_type": "code",
        "colab": {}
      },
      "source": [
        "def encode_decode_check(original_review):\n",
        "  print(\"\\n\")\n",
        "  print(f\"Original Review: \")\n",
        "  print(original_review)\n",
        "  encoded_review = encode_review(original_review)\n",
        "  print(f\"Encoded Review: {encoded_review}\")\n",
        "  decoded_review = decode_review(encoded_review)\n",
        "  print(f\"Decoded Review: {decoded_review}\")\n",
        "  same = decoded_review == original_review\n",
        "  print(f\"Decoded = Original: {same}\")"
      ],
      "execution_count": 0,
      "outputs": []
    },
    {
      "cell_type": "markdown",
      "metadata": {
        "id": "E1e5QCgrXqux",
        "colab_type": "text"
      },
      "source": [
        "## Observations:\n",
        "\n",
        "* **Train Reviews and test reviews have UNK tokens introduced for words not in the vocabulary, but apart from this, they match up.**"
      ]
    },
    {
      "cell_type": "code",
      "metadata": {
        "id": "BvDc8vPVTXRA",
        "colab_type": "code",
        "outputId": "d2772f37-971c-42c0-c60e-61ba5a679ad3",
        "colab": {
          "base_uri": "https://localhost:8080/",
          "height": 660
        }
      },
      "source": [
        "random_train_reviews = X_train[np.random.choice(len(X_train), 5)]\n",
        "random_train_reviews\n",
        "\n",
        "for review in random_train_reviews:\n",
        "  encode_decode_check(review)"
      ],
      "execution_count": 34,
      "outputs": [
        {
          "output_type": "stream",
          "text": [
            "\n",
            "\n",
            "Original Review: \n",
            "cumbersome design\n",
            "Encoded Review: [2, 291]\n",
            "Decoded Review: <UNK> design\n",
            "Decoded = Original: False\n",
            "\n",
            "\n",
            "Original Review: \n",
            "also best cheese crisp town\n",
            "Encoded Review: [22, 18, 841, 974, 577]\n",
            "Decoded Review: also best cheese crisp town\n",
            "Decoded = Original: True\n",
            "\n",
            "\n",
            "Original Review: \n",
            "regular toasted bread equally satisfying occasional pats butter mmmm\n",
            "Encoded Review: [1000, 1596, 564, 857, 1679, 2, 2, 875, 2]\n",
            "Decoded Review: regular toasted bread equally satisfying <UNK> <UNK> butter <UNK>\n",
            "Decoded = Original: False\n",
            "\n",
            "\n",
            "Original Review: \n",
            "zillion times away reality\n",
            "Encoded Review: [2, 104, 256, 1699]\n",
            "Decoded Review: <UNK> times away reality\n",
            "Decoded = Original: False\n",
            "\n",
            "\n",
            "Original Review: \n",
            "rotating beers tap also highlight place\n",
            "Encoded Review: [1213, 2, 1161, 22, 2, 13]\n",
            "Decoded Review: rotating <UNK> tap also <UNK> place\n",
            "Decoded = Original: False\n"
          ],
          "name": "stdout"
        }
      ]
    },
    {
      "cell_type": "code",
      "metadata": {
        "id": "fPumf5v4WjJJ",
        "colab_type": "code",
        "outputId": "a6f62f6e-7ca6-44e3-91c4-67685ec1292b",
        "colab": {
          "base_uri": "https://localhost:8080/",
          "height": 660
        }
      },
      "source": [
        "random_test_reviews = X_test[np.random.choice(len(X_test), 5)]\n",
        "random_test_reviews\n",
        "\n",
        "for review in random_test_reviews:\n",
        "  encode_decode_check(review)"
      ],
      "execution_count": 35,
      "outputs": [
        {
          "output_type": "stream",
          "text": [
            "\n",
            "\n",
            "Original Review: \n",
            "one table thought food average worth wait\n",
            "Encoded Review: [8, 450, 137, 9, 390, 82, 198]\n",
            "Decoded Review: one table thought food average worth wait\n",
            "Decoded = Original: True\n",
            "\n",
            "\n",
            "Original Review: \n",
            "script bad bad contains cheesiness unethical joke normally see rated r nc movie\n",
            "Encoded Review: [135, 16, 16, 2, 2, 2, 1045, 2, 51, 1708, 2, 2, 5]\n",
            "Decoded Review: script bad bad <UNK> <UNK> <UNK> joke <UNK> see rated <UNK> <UNK> movie\n",
            "Decoded = Original: False\n",
            "\n",
            "\n",
            "Original Review: \n",
            "evening drastically sick\n",
            "Encoded Review: [2, 2, 514]\n",
            "Decoded Review: <UNK> <UNK> sick\n",
            "Decoded = Original: False\n",
            "\n",
            "\n",
            "Original Review: \n",
            "terrible product waste money\n",
            "Encoded Review: [61, 35, 70, 78]\n",
            "Decoded Review: terrible product waste money\n",
            "Decoded = Original: True\n",
            "\n",
            "\n",
            "Original Review: \n",
            "disapointing results\n",
            "Encoded Review: [2, 797]\n",
            "Decoded Review: <UNK> results\n",
            "Decoded = Original: False\n"
          ],
          "name": "stdout"
        }
      ]
    },
    {
      "cell_type": "code",
      "metadata": {
        "id": "7Kd0woQ7lcBo",
        "colab_type": "code",
        "colab": {}
      },
      "source": [
        "X_train_encoded = [encode_review(review) for review in X_train]\n",
        "X_test_encoded = [encode_review(review) for review in X_test]"
      ],
      "execution_count": 0,
      "outputs": []
    },
    {
      "cell_type": "code",
      "metadata": {
        "id": "soR8G00xZ6CW",
        "colab_type": "code",
        "colab": {}
      },
      "source": [
        "from tensorflow.keras.preprocessing import sequence\n",
        "\n",
        "X_train_encoded = sequence.pad_sequences(X_train_encoded, maxlen=time_steps)\n",
        "X_test_encoded = sequence.pad_sequences(X_test_encoded, maxlen=time_steps)"
      ],
      "execution_count": 0,
      "outputs": []
    },
    {
      "cell_type": "code",
      "metadata": {
        "id": "zgj6lHYCi9NC",
        "colab_type": "code",
        "outputId": "08289bdc-3123-4829-d399-96be337a0c91",
        "colab": {
          "base_uri": "https://localhost:8080/",
          "height": 201
        }
      },
      "source": [
        "X_train_encoded[0:5]"
      ],
      "execution_count": 38,
      "outputs": [
        {
          "output_type": "execute_result",
          "data": {
            "text/plain": [
              "array([[   0,    0,    4,  631,    2,    2,  796,    2,  171,   46,    2,\n",
              "           2,  796,    2,  797],\n",
              "       [   0,    0,    0,    0, 1105,    2, 1106,    2,  146,  798,  147,\n",
              "        1107,    2,    6,   16],\n",
              "       [   0,    0,    0,    0,    0,    0,  799,   12,  800,    2,  632,\n",
              "          60,   17,  213,  184],\n",
              "       [   0,    0,    0,    0,    0,    0,    0,  633,    2,   39,    2,\n",
              "        1108,  378,  323,  801],\n",
              "       [   0,    0,    0,    0,    0,    0,    0,    0,    0,  634,   32,\n",
              "        1109, 1110,  802,    2]], dtype=int32)"
            ]
          },
          "metadata": {
            "tags": []
          },
          "execution_count": 38
        }
      ]
    },
    {
      "cell_type": "code",
      "metadata": {
        "id": "xWhpK-LkmeQR",
        "colab_type": "code",
        "outputId": "0a43f108-0daa-4cbe-cbb7-547949e39182",
        "colab": {
          "base_uri": "https://localhost:8080/",
          "height": 201
        }
      },
      "source": [
        "X_test_encoded[0:5]"
      ],
      "execution_count": 39,
      "outputs": [
        {
          "output_type": "execute_result",
          "data": {
            "text/plain": [
              "array([[  0,   0,   0,   0,   0,   0,   0,   0,   0,   0,   0, 873, 172,\n",
              "          2,   2],\n",
              "       [  0,   0,   0,   0,   0,   0,   0,   0,   0,   0,   0, 135, 138,\n",
              "          2, 368],\n",
              "       [  0,   0,   0,   0,   0,   0,   0,   0,   0,   0,   0,   0,   2,\n",
              "          2,  16],\n",
              "       [  0,   0,   0,   0,   0,   0,   0,   0,   0,   0,   0,   0,   2,\n",
              "          2, 514],\n",
              "       [  0,   0,   0,   0,   0,   0,   0,   0,   0,   0,   0,   0,   0,\n",
              "          0,   2]], dtype=int32)"
            ]
          },
          "metadata": {
            "tags": []
          },
          "execution_count": 39
        }
      ]
    },
    {
      "cell_type": "markdown",
      "metadata": {
        "id": "lFZoPBMbm2UV",
        "colab_type": "text"
      },
      "source": [
        "# RNN"
      ]
    },
    {
      "cell_type": "code",
      "metadata": {
        "id": "nI4m0B5Dm10z",
        "colab_type": "code",
        "colab": {}
      },
      "source": [
        "import tensorflow as tf\n",
        "from tensorflow.keras import Sequential\n",
        "from tensorflow.keras.layers import Embedding, Dense, Dropout\n",
        "from tensorflow.keras.layers import SimpleRNN as RNN"
      ],
      "execution_count": 0,
      "outputs": []
    },
    {
      "cell_type": "code",
      "metadata": {
        "id": "d1RlA7NgnRsM",
        "colab_type": "code",
        "colab": {}
      },
      "source": [
        "import matplotlib.pyplot as plt\n",
        "%matplotlib inline\n",
        "\n",
        "def plot_metrics(history: tf.python.keras.callbacks.History, metrics: List[str] = ['loss'], figsize: Tuple[int, int] = (10,4)):\n",
        "  \"\"\"\n",
        "  This functin will plot the metrics for the model\n",
        "  :param history: The history object obtained from the fit function.\n",
        "  :type history: tf.python.keras.callbacks.History\n",
        "  :param metrics: What metrics to plot for the model (Default = ['loss'])\n",
        "  :type metrics: List[str]\n",
        "  :param figsize: Figure size to be used for plotting (Default = (10,4))\n",
        "  :type figsize: Tuple(int,int)\n",
        "  \"\"\"\n",
        "  num_plots = len(metrics)\n",
        "  fig, axes = plt.subplots(int(num_plots/2), 2, figsize=figsize)\n",
        "\n",
        "  for num, metric in enumerate(metrics):\n",
        "    # summarize history for metric\n",
        "    if num <= 2:\n",
        "      axes[num%2].plot(history.history[metric])\n",
        "      axes[num%2].plot(history.history['val_' + metric])\n",
        "      axes[num%2].set_title('Model ' + metric)\n",
        "      axes[num%2].set(xlabel='Epoch', ylabel=metric)\n",
        "      axes[num%2].legend(['train', 'val'], loc='best')    \n",
        "    else:\n",
        "      axes[floor(num/2), num%2].plot(history.history[metric])\n",
        "      axes[floor(num/2), num%2].plot(history.history['val_' + metric])\n",
        "      axes[floor(num/2), num%2].set_title('Model ' + metric)\n",
        "      axes[floor(num/2), num%2].set(xlabel='Epoch', ylabel=metric)\n",
        "      axes[floor(num/2), num%2].legend(['train', 'val'], loc='best')    \n",
        "\n",
        "  _ = plt.show"
      ],
      "execution_count": 0,
      "outputs": []
    },
    {
      "cell_type": "code",
      "metadata": {
        "id": "YpZ0SMFfqLXj",
        "colab_type": "code",
        "colab": {}
      },
      "source": [
        "from tensorflow.keras.callbacks import EarlyStopping\n",
        "# If validation error does not improve for 10 epochs, then terminate the training\n",
        "es = EarlyStopping(min_delta=0,patience=10)"
      ],
      "execution_count": 0,
      "outputs": []
    },
    {
      "cell_type": "code",
      "metadata": {
        "id": "A-1EGUFIrcPM",
        "colab_type": "code",
        "colab": {}
      },
      "source": [
        "# import other libs as needed for building model\n",
        "from tensorflow.keras.callbacks import ModelCheckpoint\n",
        "\n",
        "# add a checkpoint to save the lowest validation loss\n",
        "filepath = '.'\n",
        "\n",
        "checkpoint = ModelCheckpoint(filepath, monitor='val_loss', verbose=1, \n",
        "                             save_best_only=True, save_weights_only=False, \n",
        "                             mode='auto', save_frequency=1)"
      ],
      "execution_count": 0,
      "outputs": []
    },
    {
      "cell_type": "code",
      "metadata": {
        "id": "HOOQvhjYm4yI",
        "colab_type": "code",
        "colab": {}
      },
      "source": [
        "def create_simple_rnn(vocabulary_size: int, time_steps: int, embedding_size: int, rnn_neurons: int=100, dropout: float=0):\n",
        "  model = Sequential()\n",
        "  model.add(Embedding(vocabulary_size, embedding_size, input_length=time_steps))\n",
        "  model.add(RNN(rnn_neurons))\n",
        "  model.add(Dropout(dropout))\n",
        "  model.add(Dense(1, activation='sigmoid'))\n",
        "  model.compile(loss='binary_crossentropy', optimizer='adam', metrics=['accuracy'])\n",
        "  return model"
      ],
      "execution_count": 0,
      "outputs": []
    },
    {
      "cell_type": "code",
      "metadata": {
        "id": "QIfz3ZnXmiDj",
        "colab_type": "code",
        "outputId": "fc0ceb02-e63d-4497-d44b-a57eb7c3eb34",
        "colab": {
          "base_uri": "https://localhost:8080/",
          "height": 1000
        }
      },
      "source": [
        "# Random Grid Search of size 10\n",
        "np.random.seed(42)\n",
        "tf.random.set_seed(42)\n",
        "\n",
        "num_combinations = 10 # Number of hyperparameter combinations\n",
        "\n",
        "histories = []\n",
        "models = []\n",
        "embedding_sizes = []\n",
        "rnn_num_neurons = []\n",
        "dropouts = []\n",
        "\n",
        "for index in np.arange(num_combinations):\n",
        "  # Random Sample Hyperparameter Space\n",
        "  embeding_size = np.random.randint(10, 100)\n",
        "  rnn_num_neuron = np.random.randint(5, 50)\n",
        "  dropout = np.random.uniform(0, 0.4)\n",
        "  print(\"\\n\\n\\n\")\n",
        "  print(\"-\"*75)\n",
        "  print(f\"Training model for hyperparameter combination {index+1}:\")\n",
        "  print(f\"Embedding Size: {embeding_size}, RNN Neurons: {rnn_num_neuron}, Dropout: {dropout}\")\n",
        "  print(\"-\"*75)\n",
        "  print(\"\\n\")\n",
        "\n",
        "  # Build Model and Train\n",
        "  model = create_simple_rnn(vocabulary_size=vocabulary_size, embedding_size=embeding_size, time_steps=time_steps, rnn_neurons=rnn_num_neuron, dropout=dropout)\n",
        "  print(model.summary())\n",
        "  history = model.fit(X_train_encoded, y_train, validation_data=(X_test_encoded, y_test), epochs=50, batch_size=32, callbacks=[es, checkpoint])\n",
        "  plot_metrics(history, metrics=['loss', 'accuracy'])\n",
        "\n",
        "  # Housekeeping\n",
        "  histories.append(history)\n",
        "  models.append(model)\n",
        "  embedding_sizes.append(embeding_size)\n",
        "  rnn_num_neurons.append(rnn_num_neuron)\n",
        "  dropouts.append(dropout)"
      ],
      "execution_count": 46,
      "outputs": [
        {
          "output_type": "stream",
          "text": [
            "\n",
            "\n",
            "\n",
            "\n",
            "---------------------------------------------------------------------------\n",
            "Training model for hyperparameter combination 1:\n",
            "Embedding Size: 61, RNN Neurons: 33, Dropout: 0.07337391594646551\n",
            "---------------------------------------------------------------------------\n",
            "\n",
            "\n",
            "Model: \"sequential\"\n",
            "_________________________________________________________________\n",
            "Layer (type)                 Output Shape              Param #   \n",
            "=================================================================\n",
            "embedding (Embedding)        (None, 15, 61)            109556    \n",
            "_________________________________________________________________\n",
            "simple_rnn (SimpleRNN)       (None, 33)                3135      \n",
            "_________________________________________________________________\n",
            "dropout (Dropout)            (None, 33)                0         \n",
            "_________________________________________________________________\n",
            "dense (Dense)                (None, 1)                 34        \n",
            "=================================================================\n",
            "Total params: 112,725\n",
            "Trainable params: 112,725\n",
            "Non-trainable params: 0\n",
            "_________________________________________________________________\n",
            "None\n",
            "Epoch 1/50\n",
            "68/69 [============================>.] - ETA: 0s - loss: 0.6815 - accuracy: 0.5611\n",
            "Epoch 00001: val_loss improved from inf to 0.65997, saving model to .\n",
            "WARNING:tensorflow:From /usr/local/lib/python3.6/dist-packages/tensorflow/python/ops/resource_variable_ops.py:1817: calling BaseResourceVariable.__init__ (from tensorflow.python.ops.resource_variable_ops) with constraint is deprecated and will be removed in a future version.\n",
            "Instructions for updating:\n",
            "If using Keras pass *_constraint arguments to layers.\n",
            "INFO:tensorflow:Assets written to: ./assets\n",
            "69/69 [==============================] - 3s 43ms/step - loss: 0.6814 - accuracy: 0.5619 - val_loss: 0.6600 - val_accuracy: 0.6691\n",
            "Epoch 2/50\n",
            "67/69 [============================>.] - ETA: 0s - loss: 0.4860 - accuracy: 0.8531\n",
            "Epoch 00002: val_loss improved from 0.65997 to 0.58350, saving model to .\n",
            "INFO:tensorflow:Assets written to: ./assets\n",
            "69/69 [==============================] - 3s 40ms/step - loss: 0.4867 - accuracy: 0.8506 - val_loss: 0.5835 - val_accuracy: 0.6745\n",
            "Epoch 3/50\n",
            "68/69 [============================>.] - ETA: 0s - loss: 0.2151 - accuracy: 0.9403\n",
            "Epoch 00003: val_loss improved from 0.58350 to 0.58197, saving model to .\n",
            "INFO:tensorflow:Assets written to: ./assets\n",
            "69/69 [==============================] - 2s 36ms/step - loss: 0.2146 - accuracy: 0.9403 - val_loss: 0.5820 - val_accuracy: 0.7291\n",
            "Epoch 4/50\n",
            "68/69 [============================>.] - ETA: 0s - loss: 0.1098 - accuracy: 0.9756\n",
            "Epoch 00004: val_loss did not improve from 0.58197\n",
            "69/69 [==============================] - 1s 17ms/step - loss: 0.1097 - accuracy: 0.9754 - val_loss: 0.5872 - val_accuracy: 0.7436\n",
            "Epoch 5/50\n",
            "68/69 [============================>.] - ETA: 0s - loss: 0.0721 - accuracy: 0.9789\n",
            "Epoch 00005: val_loss did not improve from 0.58197\n",
            "69/69 [==============================] - 1s 15ms/step - loss: 0.0729 - accuracy: 0.9786 - val_loss: 0.6637 - val_accuracy: 0.7345\n",
            "Epoch 6/50\n",
            "68/69 [============================>.] - ETA: 0s - loss: 0.0529 - accuracy: 0.9844\n",
            "Epoch 00006: val_loss did not improve from 0.58197\n",
            "69/69 [==============================] - 1s 17ms/step - loss: 0.0528 - accuracy: 0.9845 - val_loss: 0.7051 - val_accuracy: 0.7273\n",
            "Epoch 7/50\n",
            "66/69 [===========================>..] - ETA: 0s - loss: 0.0439 - accuracy: 0.9867\n",
            "Epoch 00007: val_loss did not improve from 0.58197\n",
            "69/69 [==============================] - 1s 17ms/step - loss: 0.0433 - accuracy: 0.9868 - val_loss: 0.7295 - val_accuracy: 0.7418\n",
            "Epoch 8/50\n",
            "69/69 [==============================] - ETA: 0s - loss: 0.0333 - accuracy: 0.9886\n",
            "Epoch 00008: val_loss did not improve from 0.58197\n",
            "69/69 [==============================] - 1s 19ms/step - loss: 0.0333 - accuracy: 0.9886 - val_loss: 0.7524 - val_accuracy: 0.7382\n",
            "Epoch 9/50\n",
            "66/69 [===========================>..] - ETA: 0s - loss: 0.0294 - accuracy: 0.9896\n",
            "Epoch 00009: val_loss did not improve from 0.58197\n",
            "69/69 [==============================] - 1s 16ms/step - loss: 0.0298 - accuracy: 0.9895 - val_loss: 0.7906 - val_accuracy: 0.7364\n",
            "Epoch 10/50\n",
            "69/69 [==============================] - ETA: 0s - loss: 0.0270 - accuracy: 0.9909\n",
            "Epoch 00010: val_loss did not improve from 0.58197\n",
            "69/69 [==============================] - 1s 17ms/step - loss: 0.0270 - accuracy: 0.9909 - val_loss: 0.8543 - val_accuracy: 0.7291\n",
            "Epoch 11/50\n",
            "67/69 [============================>.] - ETA: 0s - loss: 0.0266 - accuracy: 0.9893\n",
            "Epoch 00011: val_loss did not improve from 0.58197\n",
            "69/69 [==============================] - 1s 16ms/step - loss: 0.0268 - accuracy: 0.9891 - val_loss: 0.9045 - val_accuracy: 0.7000\n",
            "Epoch 12/50\n",
            "67/69 [============================>.] - ETA: 0s - loss: 0.0234 - accuracy: 0.9921\n",
            "Epoch 00012: val_loss did not improve from 0.58197\n",
            "69/69 [==============================] - 1s 16ms/step - loss: 0.0240 - accuracy: 0.9918 - val_loss: 0.8988 - val_accuracy: 0.7455\n",
            "Epoch 13/50\n",
            "67/69 [============================>.] - ETA: 0s - loss: 0.0223 - accuracy: 0.9925\n",
            "Epoch 00013: val_loss did not improve from 0.58197\n",
            "69/69 [==============================] - 1s 15ms/step - loss: 0.0219 - accuracy: 0.9927 - val_loss: 0.9532 - val_accuracy: 0.7382\n",
            "\n",
            "\n",
            "\n",
            "\n",
            "---------------------------------------------------------------------------\n",
            "Training model for hyperparameter combination 2:\n",
            "Embedding Size: 81, RNN Neurons: 25, Dropout: 0.06240745617697461\n",
            "---------------------------------------------------------------------------\n",
            "\n",
            "\n",
            "Model: \"sequential_1\"\n",
            "_________________________________________________________________\n",
            "Layer (type)                 Output Shape              Param #   \n",
            "=================================================================\n",
            "embedding_1 (Embedding)      (None, 15, 81)            145476    \n",
            "_________________________________________________________________\n",
            "simple_rnn_1 (SimpleRNN)     (None, 25)                2675      \n",
            "_________________________________________________________________\n",
            "dropout_1 (Dropout)          (None, 25)                0         \n",
            "_________________________________________________________________\n",
            "dense_1 (Dense)              (None, 1)                 26        \n",
            "=================================================================\n",
            "Total params: 148,177\n",
            "Trainable params: 148,177\n",
            "Non-trainable params: 0\n",
            "_________________________________________________________________\n",
            "None\n",
            "Epoch 1/50\n",
            "67/69 [============================>.] - ETA: 0s - loss: 0.6777 - accuracy: 0.5765\n",
            "Epoch 00001: val_loss did not improve from 0.58197\n",
            "69/69 [==============================] - 1s 18ms/step - loss: 0.6763 - accuracy: 0.5811 - val_loss: 0.6466 - val_accuracy: 0.6727\n",
            "Epoch 2/50\n",
            "67/69 [============================>.] - ETA: 0s - loss: 0.4542 - accuracy: 0.8582\n",
            "Epoch 00002: val_loss improved from 0.58197 to 0.54169, saving model to .\n",
            "INFO:tensorflow:Assets written to: ./assets\n",
            "69/69 [==============================] - 3s 37ms/step - loss: 0.4535 - accuracy: 0.8566 - val_loss: 0.5417 - val_accuracy: 0.7200\n",
            "Epoch 3/50\n",
            "69/69 [==============================] - ETA: 0s - loss: 0.2073 - accuracy: 0.9399\n",
            "Epoch 00003: val_loss did not improve from 0.54169\n",
            "69/69 [==============================] - 1s 16ms/step - loss: 0.2073 - accuracy: 0.9399 - val_loss: 0.5597 - val_accuracy: 0.7309\n",
            "Epoch 4/50\n",
            "67/69 [============================>.] - ETA: 0s - loss: 0.1075 - accuracy: 0.9720\n",
            "Epoch 00004: val_loss did not improve from 0.54169\n",
            "69/69 [==============================] - 1s 18ms/step - loss: 0.1088 - accuracy: 0.9713 - val_loss: 0.6166 - val_accuracy: 0.7455\n",
            "Epoch 5/50\n",
            "69/69 [==============================] - ETA: 0s - loss: 0.0715 - accuracy: 0.9786\n",
            "Epoch 00005: val_loss did not improve from 0.54169\n",
            "69/69 [==============================] - 2s 23ms/step - loss: 0.0715 - accuracy: 0.9786 - val_loss: 0.6636 - val_accuracy: 0.7509\n",
            "Epoch 6/50\n",
            "67/69 [============================>.] - ETA: 0s - loss: 0.0499 - accuracy: 0.9869\n",
            "Epoch 00006: val_loss did not improve from 0.54169\n",
            "69/69 [==============================] - 1s 15ms/step - loss: 0.0496 - accuracy: 0.9868 - val_loss: 0.7318 - val_accuracy: 0.7436\n",
            "Epoch 7/50\n",
            "66/69 [===========================>..] - ETA: 0s - loss: 0.0425 - accuracy: 0.9882\n",
            "Epoch 00007: val_loss did not improve from 0.54169\n",
            "69/69 [==============================] - 1s 16ms/step - loss: 0.0423 - accuracy: 0.9882 - val_loss: 0.8249 - val_accuracy: 0.7109\n",
            "Epoch 8/50\n",
            "67/69 [============================>.] - ETA: 0s - loss: 0.0351 - accuracy: 0.9907\n",
            "Epoch 00008: val_loss did not improve from 0.54169\n",
            "69/69 [==============================] - 1s 16ms/step - loss: 0.0348 - accuracy: 0.9909 - val_loss: 0.8266 - val_accuracy: 0.7436\n",
            "Epoch 9/50\n",
            "66/69 [===========================>..] - ETA: 0s - loss: 0.0295 - accuracy: 0.9886\n",
            "Epoch 00009: val_loss did not improve from 0.54169\n",
            "69/69 [==============================] - 1s 15ms/step - loss: 0.0298 - accuracy: 0.9886 - val_loss: 0.8600 - val_accuracy: 0.7455\n",
            "Epoch 10/50\n",
            "69/69 [==============================] - ETA: 0s - loss: 0.0281 - accuracy: 0.9891\n",
            "Epoch 00010: val_loss did not improve from 0.54169\n",
            "69/69 [==============================] - 1s 16ms/step - loss: 0.0281 - accuracy: 0.9891 - val_loss: 0.9079 - val_accuracy: 0.7400\n",
            "Epoch 11/50\n",
            "67/69 [============================>.] - ETA: 0s - loss: 0.0284 - accuracy: 0.9883\n",
            "Epoch 00011: val_loss did not improve from 0.54169\n",
            "69/69 [==============================] - 1s 16ms/step - loss: 0.0282 - accuracy: 0.9886 - val_loss: 0.9661 - val_accuracy: 0.7182\n",
            "Epoch 12/50\n",
            "67/69 [============================>.] - ETA: 0s - loss: 0.0228 - accuracy: 0.9907\n",
            "Epoch 00012: val_loss did not improve from 0.54169\n",
            "69/69 [==============================] - 1s 16ms/step - loss: 0.0236 - accuracy: 0.9904 - val_loss: 0.9189 - val_accuracy: 0.7491\n",
            "\n",
            "\n",
            "\n",
            "\n",
            "---------------------------------------------------------------------------\n",
            "Training model for hyperparameter combination 3:\n",
            "Embedding Size: 92, RNN Neurons: 27, Dropout: 0.023233444867279785\n",
            "---------------------------------------------------------------------------\n",
            "\n",
            "\n",
            "Model: \"sequential_2\"\n",
            "_________________________________________________________________\n",
            "Layer (type)                 Output Shape              Param #   \n",
            "=================================================================\n",
            "embedding_2 (Embedding)      (None, 15, 92)            165232    \n",
            "_________________________________________________________________\n",
            "simple_rnn_2 (SimpleRNN)     (None, 27)                3240      \n",
            "_________________________________________________________________\n",
            "dropout_2 (Dropout)          (None, 27)                0         \n",
            "_________________________________________________________________\n",
            "dense_2 (Dense)              (None, 1)                 28        \n",
            "=================================================================\n",
            "Total params: 168,500\n",
            "Trainable params: 168,500\n",
            "Non-trainable params: 0\n",
            "_________________________________________________________________\n",
            "None\n",
            "Epoch 1/50\n",
            "68/69 [============================>.] - ETA: 0s - loss: 0.6700 - accuracy: 0.5887\n",
            "Epoch 00001: val_loss did not improve from 0.54169\n",
            "69/69 [==============================] - 1s 19ms/step - loss: 0.6699 - accuracy: 0.5883 - val_loss: 0.6225 - val_accuracy: 0.7018\n",
            "Epoch 2/50\n",
            "67/69 [============================>.] - ETA: 0s - loss: 0.4189 - accuracy: 0.8610\n",
            "Epoch 00002: val_loss improved from 0.54169 to 0.53133, saving model to .\n",
            "INFO:tensorflow:Assets written to: ./assets\n",
            "69/69 [==============================] - 3s 37ms/step - loss: 0.4187 - accuracy: 0.8597 - val_loss: 0.5313 - val_accuracy: 0.7145\n",
            "Epoch 3/50\n",
            "68/69 [============================>.] - ETA: 0s - loss: 0.1952 - accuracy: 0.9393\n",
            "Epoch 00003: val_loss did not improve from 0.53133\n",
            "69/69 [==============================] - 1s 15ms/step - loss: 0.1947 - accuracy: 0.9399 - val_loss: 0.5596 - val_accuracy: 0.7436\n",
            "Epoch 4/50\n",
            "67/69 [============================>.] - ETA: 0s - loss: 0.1006 - accuracy: 0.9715\n",
            "Epoch 00004: val_loss did not improve from 0.53133\n",
            "69/69 [==============================] - 1s 16ms/step - loss: 0.1017 - accuracy: 0.9709 - val_loss: 0.6367 - val_accuracy: 0.7436\n",
            "Epoch 5/50\n",
            "69/69 [==============================] - ETA: 0s - loss: 0.0676 - accuracy: 0.9818\n",
            "Epoch 00005: val_loss did not improve from 0.53133\n",
            "69/69 [==============================] - 1s 17ms/step - loss: 0.0676 - accuracy: 0.9818 - val_loss: 0.7219 - val_accuracy: 0.7455\n",
            "Epoch 6/50\n",
            "68/69 [============================>.] - ETA: 0s - loss: 0.0495 - accuracy: 0.9844\n",
            "Epoch 00006: val_loss did not improve from 0.53133\n",
            "69/69 [==============================] - 1s 16ms/step - loss: 0.0492 - accuracy: 0.9845 - val_loss: 0.8178 - val_accuracy: 0.7309\n",
            "Epoch 7/50\n",
            "68/69 [============================>.] - ETA: 0s - loss: 0.0421 - accuracy: 0.9885\n",
            "Epoch 00007: val_loss did not improve from 0.53133\n",
            "69/69 [==============================] - 1s 18ms/step - loss: 0.0419 - accuracy: 0.9886 - val_loss: 0.7906 - val_accuracy: 0.7473\n",
            "Epoch 8/50\n",
            "68/69 [============================>.] - ETA: 0s - loss: 0.0332 - accuracy: 0.9899\n",
            "Epoch 00008: val_loss did not improve from 0.53133\n",
            "69/69 [==============================] - 1s 18ms/step - loss: 0.0330 - accuracy: 0.9900 - val_loss: 0.8659 - val_accuracy: 0.7436\n",
            "Epoch 9/50\n",
            "67/69 [============================>.] - ETA: 0s - loss: 0.0280 - accuracy: 0.9902\n",
            "Epoch 00009: val_loss did not improve from 0.53133\n",
            "69/69 [==============================] - 1s 17ms/step - loss: 0.0277 - accuracy: 0.9904 - val_loss: 0.9083 - val_accuracy: 0.7345\n",
            "Epoch 10/50\n",
            "67/69 [============================>.] - ETA: 0s - loss: 0.0286 - accuracy: 0.9897\n",
            "Epoch 00010: val_loss did not improve from 0.53133\n",
            "69/69 [==============================] - 1s 19ms/step - loss: 0.0281 - accuracy: 0.9900 - val_loss: 0.9892 - val_accuracy: 0.7400\n",
            "Epoch 11/50\n",
            "69/69 [==============================] - ETA: 0s - loss: 0.0300 - accuracy: 0.9886\n",
            "Epoch 00011: val_loss did not improve from 0.53133\n",
            "69/69 [==============================] - 1s 17ms/step - loss: 0.0300 - accuracy: 0.9886 - val_loss: 0.9803 - val_accuracy: 0.7255\n",
            "Epoch 12/50\n",
            "67/69 [============================>.] - ETA: 0s - loss: 0.0247 - accuracy: 0.9902\n",
            "Epoch 00012: val_loss did not improve from 0.53133\n",
            "69/69 [==============================] - 1s 16ms/step - loss: 0.0254 - accuracy: 0.9900 - val_loss: 0.8907 - val_accuracy: 0.7600\n",
            "\n",
            "\n",
            "\n",
            "\n",
            "---------------------------------------------------------------------------\n",
            "Training model for hyperparameter combination 4:\n",
            "Embedding Size: 97, RNN Neurons: 40, Dropout: 0.057146727168776314\n",
            "---------------------------------------------------------------------------\n",
            "\n",
            "\n",
            "Model: \"sequential_3\"\n",
            "_________________________________________________________________\n",
            "Layer (type)                 Output Shape              Param #   \n",
            "=================================================================\n",
            "embedding_3 (Embedding)      (None, 15, 97)            174212    \n",
            "_________________________________________________________________\n",
            "simple_rnn_3 (SimpleRNN)     (None, 40)                5520      \n",
            "_________________________________________________________________\n",
            "dropout_3 (Dropout)          (None, 40)                0         \n",
            "_________________________________________________________________\n",
            "dense_3 (Dense)              (None, 1)                 41        \n",
            "=================================================================\n",
            "Total params: 179,773\n",
            "Trainable params: 179,773\n",
            "Non-trainable params: 0\n",
            "_________________________________________________________________\n",
            "None\n",
            "Epoch 1/50\n",
            "69/69 [==============================] - ETA: 0s - loss: 0.6799 - accuracy: 0.5797\n",
            "Epoch 00001: val_loss did not improve from 0.53133\n",
            "69/69 [==============================] - 1s 20ms/step - loss: 0.6799 - accuracy: 0.5797 - val_loss: 0.6613 - val_accuracy: 0.6291\n",
            "Epoch 2/50\n",
            "68/69 [============================>.] - ETA: 0s - loss: 0.4365 - accuracy: 0.8773\n",
            "Epoch 00002: val_loss did not improve from 0.53133\n",
            "69/69 [==============================] - 1s 17ms/step - loss: 0.4368 - accuracy: 0.8757 - val_loss: 0.6340 - val_accuracy: 0.6636\n",
            "Epoch 3/50\n",
            "66/69 [===========================>..] - ETA: 0s - loss: 0.1628 - accuracy: 0.9531\n",
            "Epoch 00003: val_loss did not improve from 0.53133\n",
            "69/69 [==============================] - 1s 17ms/step - loss: 0.1630 - accuracy: 0.9522 - val_loss: 0.6940 - val_accuracy: 0.6655\n",
            "Epoch 4/50\n",
            "67/69 [============================>.] - ETA: 0s - loss: 0.0818 - accuracy: 0.9771\n",
            "Epoch 00004: val_loss did not improve from 0.53133\n",
            "69/69 [==============================] - 1s 17ms/step - loss: 0.0828 - accuracy: 0.9768 - val_loss: 0.7165 - val_accuracy: 0.6800\n",
            "Epoch 5/50\n",
            "66/69 [===========================>..] - ETA: 0s - loss: 0.0527 - accuracy: 0.9877\n",
            "Epoch 00005: val_loss did not improve from 0.53133\n",
            "69/69 [==============================] - 1s 17ms/step - loss: 0.0530 - accuracy: 0.9872 - val_loss: 0.7479 - val_accuracy: 0.6945\n",
            "Epoch 6/50\n",
            "67/69 [============================>.] - ETA: 0s - loss: 0.0381 - accuracy: 0.9893\n",
            "Epoch 00006: val_loss did not improve from 0.53133\n",
            "69/69 [==============================] - 1s 16ms/step - loss: 0.0381 - accuracy: 0.9891 - val_loss: 0.8488 - val_accuracy: 0.6873\n",
            "Epoch 7/50\n",
            "67/69 [============================>.] - ETA: 0s - loss: 0.0358 - accuracy: 0.9879\n",
            "Epoch 00007: val_loss did not improve from 0.53133\n",
            "69/69 [==============================] - 1s 16ms/step - loss: 0.0353 - accuracy: 0.9882 - val_loss: 0.8576 - val_accuracy: 0.6836\n",
            "Epoch 8/50\n",
            "69/69 [==============================] - ETA: 0s - loss: 0.0268 - accuracy: 0.9909\n",
            "Epoch 00008: val_loss did not improve from 0.53133\n",
            "69/69 [==============================] - 1s 17ms/step - loss: 0.0268 - accuracy: 0.9909 - val_loss: 0.9024 - val_accuracy: 0.7000\n",
            "Epoch 9/50\n",
            "68/69 [============================>.] - ETA: 0s - loss: 0.0244 - accuracy: 0.9917\n",
            "Epoch 00009: val_loss did not improve from 0.53133\n",
            "69/69 [==============================] - 1s 17ms/step - loss: 0.0244 - accuracy: 0.9918 - val_loss: 0.9683 - val_accuracy: 0.6964\n",
            "Epoch 10/50\n",
            "67/69 [============================>.] - ETA: 0s - loss: 0.0258 - accuracy: 0.9911\n",
            "Epoch 00010: val_loss did not improve from 0.53133\n",
            "69/69 [==============================] - 1s 18ms/step - loss: 0.0254 - accuracy: 0.9913 - val_loss: 0.9640 - val_accuracy: 0.6855\n",
            "Epoch 11/50\n",
            "66/69 [===========================>..] - ETA: 0s - loss: 0.0240 - accuracy: 0.9896\n",
            "Epoch 00011: val_loss did not improve from 0.53133\n",
            "69/69 [==============================] - 1s 17ms/step - loss: 0.0235 - accuracy: 0.9900 - val_loss: 1.0088 - val_accuracy: 0.6800\n",
            "Epoch 12/50\n",
            "68/69 [============================>.] - ETA: 0s - loss: 0.0217 - accuracy: 0.9903\n",
            "Epoch 00012: val_loss did not improve from 0.53133\n",
            "69/69 [==============================] - 1s 17ms/step - loss: 0.0226 - accuracy: 0.9900 - val_loss: 0.9688 - val_accuracy: 0.7091\n",
            "\n",
            "\n",
            "\n",
            "\n",
            "---------------------------------------------------------------------------\n",
            "Training model for hyperparameter combination 5:\n",
            "Embedding Size: 12, RNN Neurons: 26, Dropout: 0.022564631610840102\n",
            "---------------------------------------------------------------------------\n",
            "\n",
            "\n",
            "Model: \"sequential_4\"\n",
            "_________________________________________________________________\n",
            "Layer (type)                 Output Shape              Param #   \n",
            "=================================================================\n",
            "embedding_4 (Embedding)      (None, 15, 12)            21552     \n",
            "_________________________________________________________________\n",
            "simple_rnn_4 (SimpleRNN)     (None, 26)                1014      \n",
            "_________________________________________________________________\n",
            "dropout_4 (Dropout)          (None, 26)                0         \n",
            "_________________________________________________________________\n",
            "dense_4 (Dense)              (None, 1)                 27        \n",
            "=================================================================\n",
            "Total params: 22,593\n",
            "Trainable params: 22,593\n",
            "Non-trainable params: 0\n",
            "_________________________________________________________________\n",
            "None\n",
            "Epoch 1/50\n",
            "66/69 [===========================>..] - ETA: 0s - loss: 0.6914 - accuracy: 0.5284\n",
            "Epoch 00001: val_loss did not improve from 0.53133\n",
            "69/69 [==============================] - 1s 16ms/step - loss: 0.6911 - accuracy: 0.5305 - val_loss: 0.6840 - val_accuracy: 0.6200\n",
            "Epoch 2/50\n",
            "66/69 [===========================>..] - ETA: 0s - loss: 0.6220 - accuracy: 0.7689\n",
            "Epoch 00002: val_loss did not improve from 0.53133\n",
            "69/69 [==============================] - 1s 15ms/step - loss: 0.6202 - accuracy: 0.7659 - val_loss: 0.6293 - val_accuracy: 0.6800\n",
            "Epoch 3/50\n",
            "67/69 [============================>.] - ETA: 0s - loss: 0.3941 - accuracy: 0.8652\n",
            "Epoch 00003: val_loss did not improve from 0.53133\n",
            "69/69 [==============================] - 1s 16ms/step - loss: 0.3932 - accuracy: 0.8657 - val_loss: 0.5637 - val_accuracy: 0.7182\n",
            "Epoch 4/50\n",
            "66/69 [===========================>..] - ETA: 0s - loss: 0.2286 - accuracy: 0.9257\n",
            "Epoch 00004: val_loss did not improve from 0.53133\n",
            "69/69 [==============================] - 1s 17ms/step - loss: 0.2286 - accuracy: 0.9244 - val_loss: 0.5320 - val_accuracy: 0.7509\n",
            "Epoch 5/50\n",
            "68/69 [============================>.] - ETA: 0s - loss: 0.1486 - accuracy: 0.9545\n",
            "Epoch 00005: val_loss did not improve from 0.53133\n",
            "69/69 [==============================] - 1s 14ms/step - loss: 0.1495 - accuracy: 0.9540 - val_loss: 0.6264 - val_accuracy: 0.7345\n",
            "Epoch 6/50\n",
            "69/69 [==============================] - ETA: 0s - loss: 0.1061 - accuracy: 0.9681\n",
            "Epoch 00006: val_loss did not improve from 0.53133\n",
            "69/69 [==============================] - 1s 14ms/step - loss: 0.1061 - accuracy: 0.9681 - val_loss: 0.6358 - val_accuracy: 0.7309\n",
            "Epoch 7/50\n",
            "69/69 [==============================] - ETA: 0s - loss: 0.0850 - accuracy: 0.9745\n",
            "Epoch 00007: val_loss did not improve from 0.53133\n",
            "69/69 [==============================] - 1s 15ms/step - loss: 0.0850 - accuracy: 0.9745 - val_loss: 0.6392 - val_accuracy: 0.7455\n",
            "Epoch 8/50\n",
            "66/69 [===========================>..] - ETA: 0s - loss: 0.0675 - accuracy: 0.9801\n",
            "Epoch 00008: val_loss did not improve from 0.53133\n",
            "69/69 [==============================] - 1s 17ms/step - loss: 0.0679 - accuracy: 0.9791 - val_loss: 0.6969 - val_accuracy: 0.7491\n",
            "Epoch 9/50\n",
            "69/69 [==============================] - ETA: 0s - loss: 0.0599 - accuracy: 0.9832\n",
            "Epoch 00009: val_loss did not improve from 0.53133\n",
            "69/69 [==============================] - 1s 14ms/step - loss: 0.0599 - accuracy: 0.9832 - val_loss: 0.6954 - val_accuracy: 0.7509\n",
            "Epoch 10/50\n",
            "66/69 [===========================>..] - ETA: 0s - loss: 0.0505 - accuracy: 0.9830\n",
            "Epoch 00010: val_loss did not improve from 0.53133\n",
            "69/69 [==============================] - 1s 14ms/step - loss: 0.0497 - accuracy: 0.9836 - val_loss: 0.8060 - val_accuracy: 0.7400\n",
            "Epoch 11/50\n",
            "69/69 [==============================] - ETA: 0s - loss: 0.0491 - accuracy: 0.9854\n",
            "Epoch 00011: val_loss did not improve from 0.53133\n",
            "69/69 [==============================] - 1s 15ms/step - loss: 0.0491 - accuracy: 0.9854 - val_loss: 0.8255 - val_accuracy: 0.7400\n",
            "Epoch 12/50\n",
            "68/69 [============================>.] - ETA: 0s - loss: 0.0399 - accuracy: 0.9890\n",
            "Epoch 00012: val_loss did not improve from 0.53133\n",
            "69/69 [==============================] - 1s 17ms/step - loss: 0.0404 - accuracy: 0.9886 - val_loss: 0.8725 - val_accuracy: 0.7309\n",
            "Epoch 13/50\n",
            "69/69 [==============================] - ETA: 0s - loss: 0.0369 - accuracy: 0.9886\n",
            "Epoch 00013: val_loss did not improve from 0.53133\n",
            "69/69 [==============================] - 1s 14ms/step - loss: 0.0369 - accuracy: 0.9886 - val_loss: 0.8463 - val_accuracy: 0.7418\n",
            "Epoch 14/50\n",
            "69/69 [==============================] - ETA: 0s - loss: 0.0324 - accuracy: 0.9882\n",
            "Epoch 00014: val_loss did not improve from 0.53133\n",
            "69/69 [==============================] - 1s 14ms/step - loss: 0.0324 - accuracy: 0.9882 - val_loss: 0.8673 - val_accuracy: 0.7455\n",
            "\n",
            "\n",
            "\n",
            "\n",
            "---------------------------------------------------------------------------\n",
            "Training model for hyperparameter combination 6:\n",
            "Embedding Size: 97, RNN Neurons: 48, Dropout: 0.3754210836063001\n",
            "---------------------------------------------------------------------------\n",
            "\n",
            "\n",
            "Model: \"sequential_5\"\n",
            "_________________________________________________________________\n",
            "Layer (type)                 Output Shape              Param #   \n",
            "=================================================================\n",
            "embedding_5 (Embedding)      (None, 15, 97)            174212    \n",
            "_________________________________________________________________\n",
            "simple_rnn_5 (SimpleRNN)     (None, 48)                7008      \n",
            "_________________________________________________________________\n",
            "dropout_5 (Dropout)          (None, 48)                0         \n",
            "_________________________________________________________________\n",
            "dense_5 (Dense)              (None, 1)                 49        \n",
            "=================================================================\n",
            "Total params: 181,269\n",
            "Trainable params: 181,269\n",
            "Non-trainable params: 0\n",
            "_________________________________________________________________\n",
            "None\n",
            "Epoch 1/50\n",
            "67/69 [============================>.] - ETA: 0s - loss: 0.6863 - accuracy: 0.5564\n",
            "Epoch 00001: val_loss did not improve from 0.53133\n",
            "69/69 [==============================] - 1s 20ms/step - loss: 0.6858 - accuracy: 0.5560 - val_loss: 0.6692 - val_accuracy: 0.5982\n",
            "Epoch 2/50\n",
            "66/69 [===========================>..] - ETA: 0s - loss: 0.4897 - accuracy: 0.8537\n",
            "Epoch 00002: val_loss did not improve from 0.53133\n",
            "69/69 [==============================] - 1s 17ms/step - loss: 0.4881 - accuracy: 0.8515 - val_loss: 0.5930 - val_accuracy: 0.6873\n",
            "Epoch 3/50\n",
            "66/69 [===========================>..] - ETA: 0s - loss: 0.1999 - accuracy: 0.9351\n",
            "Epoch 00003: val_loss did not improve from 0.53133\n",
            "69/69 [==============================] - 1s 16ms/step - loss: 0.1986 - accuracy: 0.9358 - val_loss: 0.6743 - val_accuracy: 0.6891\n",
            "Epoch 4/50\n",
            "67/69 [============================>.] - ETA: 0s - loss: 0.0997 - accuracy: 0.9711\n",
            "Epoch 00004: val_loss did not improve from 0.53133\n",
            "69/69 [==============================] - 1s 18ms/step - loss: 0.1007 - accuracy: 0.9699 - val_loss: 0.7047 - val_accuracy: 0.6909\n",
            "Epoch 5/50\n",
            "67/69 [============================>.] - ETA: 0s - loss: 0.0664 - accuracy: 0.9799\n",
            "Epoch 00005: val_loss did not improve from 0.53133\n",
            "69/69 [==============================] - 1s 17ms/step - loss: 0.0667 - accuracy: 0.9800 - val_loss: 0.7663 - val_accuracy: 0.7000\n",
            "Epoch 6/50\n",
            "67/69 [============================>.] - ETA: 0s - loss: 0.0464 - accuracy: 0.9888\n",
            "Epoch 00006: val_loss did not improve from 0.53133\n",
            "69/69 [==============================] - 1s 16ms/step - loss: 0.0461 - accuracy: 0.9886 - val_loss: 0.8222 - val_accuracy: 0.6927\n",
            "Epoch 7/50\n",
            "67/69 [============================>.] - ETA: 0s - loss: 0.0382 - accuracy: 0.9888\n",
            "Epoch 00007: val_loss did not improve from 0.53133\n",
            "69/69 [==============================] - 1s 17ms/step - loss: 0.0377 - accuracy: 0.9891 - val_loss: 0.8406 - val_accuracy: 0.7018\n",
            "Epoch 8/50\n",
            "69/69 [==============================] - ETA: 0s - loss: 0.0305 - accuracy: 0.9909\n",
            "Epoch 00008: val_loss did not improve from 0.53133\n",
            "69/69 [==============================] - 1s 15ms/step - loss: 0.0305 - accuracy: 0.9909 - val_loss: 0.8744 - val_accuracy: 0.7145\n",
            "Epoch 9/50\n",
            "67/69 [============================>.] - ETA: 0s - loss: 0.0265 - accuracy: 0.9902\n",
            "Epoch 00009: val_loss did not improve from 0.53133\n",
            "69/69 [==============================] - 1s 16ms/step - loss: 0.0263 - accuracy: 0.9904 - val_loss: 0.9421 - val_accuracy: 0.6982\n",
            "Epoch 10/50\n",
            "67/69 [============================>.] - ETA: 0s - loss: 0.0278 - accuracy: 0.9897\n",
            "Epoch 00010: val_loss did not improve from 0.53133\n",
            "69/69 [==============================] - 1s 16ms/step - loss: 0.0273 - accuracy: 0.9900 - val_loss: 0.9970 - val_accuracy: 0.6891\n",
            "Epoch 11/50\n",
            "67/69 [============================>.] - ETA: 0s - loss: 0.0242 - accuracy: 0.9921\n",
            "Epoch 00011: val_loss did not improve from 0.53133\n",
            "69/69 [==============================] - 1s 18ms/step - loss: 0.0240 - accuracy: 0.9923 - val_loss: 1.0284 - val_accuracy: 0.7036\n",
            "Epoch 12/50\n",
            "69/69 [==============================] - ETA: 0s - loss: 0.0343 - accuracy: 0.9886\n",
            "Epoch 00012: val_loss did not improve from 0.53133\n",
            "69/69 [==============================] - 1s 16ms/step - loss: 0.0343 - accuracy: 0.9886 - val_loss: 1.0076 - val_accuracy: 0.7164\n",
            "\n",
            "\n",
            "\n",
            "\n",
            "---------------------------------------------------------------------------\n",
            "Training model for hyperparameter combination 7:\n",
            "Embedding Size: 11, RNN Neurons: 25, Dropout: 0.24699260385108662\n",
            "---------------------------------------------------------------------------\n",
            "\n",
            "\n",
            "Model: \"sequential_6\"\n",
            "_________________________________________________________________\n",
            "Layer (type)                 Output Shape              Param #   \n",
            "=================================================================\n",
            "embedding_6 (Embedding)      (None, 15, 11)            19756     \n",
            "_________________________________________________________________\n",
            "simple_rnn_6 (SimpleRNN)     (None, 25)                925       \n",
            "_________________________________________________________________\n",
            "dropout_6 (Dropout)          (None, 25)                0         \n",
            "_________________________________________________________________\n",
            "dense_6 (Dense)              (None, 1)                 26        \n",
            "=================================================================\n",
            "Total params: 20,707\n",
            "Trainable params: 20,707\n",
            "Non-trainable params: 0\n",
            "_________________________________________________________________\n",
            "None\n",
            "Epoch 1/50\n",
            "69/69 [==============================] - ETA: 0s - loss: 0.6931 - accuracy: 0.5237\n",
            "Epoch 00001: val_loss did not improve from 0.53133\n",
            "69/69 [==============================] - 1s 16ms/step - loss: 0.6931 - accuracy: 0.5237 - val_loss: 0.6909 - val_accuracy: 0.5364\n",
            "Epoch 2/50\n",
            "67/69 [============================>.] - ETA: 0s - loss: 0.6529 - accuracy: 0.7029\n",
            "Epoch 00002: val_loss did not improve from 0.53133\n",
            "69/69 [==============================] - 1s 14ms/step - loss: 0.6531 - accuracy: 0.7008 - val_loss: 0.6788 - val_accuracy: 0.5564\n",
            "Epoch 3/50\n",
            "69/69 [==============================] - ETA: 0s - loss: 0.5166 - accuracy: 0.8065\n",
            "Epoch 00003: val_loss did not improve from 0.53133\n",
            "69/69 [==============================] - 1s 15ms/step - loss: 0.5166 - accuracy: 0.8065 - val_loss: 0.6889 - val_accuracy: 0.5709\n",
            "Epoch 4/50\n",
            "67/69 [============================>.] - ETA: 0s - loss: 0.3285 - accuracy: 0.8862\n",
            "Epoch 00004: val_loss did not improve from 0.53133\n",
            "69/69 [==============================] - 1s 14ms/step - loss: 0.3258 - accuracy: 0.8875 - val_loss: 0.6285 - val_accuracy: 0.6691\n",
            "Epoch 5/50\n",
            "68/69 [============================>.] - ETA: 0s - loss: 0.2056 - accuracy: 0.9407\n",
            "Epoch 00005: val_loss did not improve from 0.53133\n",
            "69/69 [==============================] - 1s 15ms/step - loss: 0.2064 - accuracy: 0.9403 - val_loss: 0.6883 - val_accuracy: 0.6909\n",
            "Epoch 6/50\n",
            "68/69 [============================>.] - ETA: 0s - loss: 0.1434 - accuracy: 0.9628\n",
            "Epoch 00006: val_loss did not improve from 0.53133\n",
            "69/69 [==============================] - 1s 14ms/step - loss: 0.1429 - accuracy: 0.9631 - val_loss: 0.6894 - val_accuracy: 0.6927\n",
            "Epoch 7/50\n",
            "66/69 [===========================>..] - ETA: 0s - loss: 0.1033 - accuracy: 0.9744\n",
            "Epoch 00007: val_loss did not improve from 0.53133\n",
            "69/69 [==============================] - 1s 16ms/step - loss: 0.1018 - accuracy: 0.9750 - val_loss: 0.7375 - val_accuracy: 0.7018\n",
            "Epoch 8/50\n",
            "69/69 [==============================] - ETA: 0s - loss: 0.0787 - accuracy: 0.9777\n",
            "Epoch 00008: val_loss did not improve from 0.53133\n",
            "69/69 [==============================] - 1s 14ms/step - loss: 0.0787 - accuracy: 0.9777 - val_loss: 0.7410 - val_accuracy: 0.7091\n",
            "Epoch 9/50\n",
            "69/69 [==============================] - ETA: 0s - loss: 0.0657 - accuracy: 0.9763\n",
            "Epoch 00009: val_loss did not improve from 0.53133\n",
            "69/69 [==============================] - 1s 15ms/step - loss: 0.0657 - accuracy: 0.9763 - val_loss: 0.7969 - val_accuracy: 0.7145\n",
            "Epoch 10/50\n",
            "69/69 [==============================] - ETA: 0s - loss: 0.0557 - accuracy: 0.9822\n",
            "Epoch 00010: val_loss did not improve from 0.53133\n",
            "69/69 [==============================] - 1s 14ms/step - loss: 0.0557 - accuracy: 0.9822 - val_loss: 0.8657 - val_accuracy: 0.6891\n",
            "Epoch 11/50\n",
            "67/69 [============================>.] - ETA: 0s - loss: 0.0482 - accuracy: 0.9865\n",
            "Epoch 00011: val_loss did not improve from 0.53133\n",
            "69/69 [==============================] - 1s 16ms/step - loss: 0.0479 - accuracy: 0.9863 - val_loss: 0.8694 - val_accuracy: 0.6982\n",
            "Epoch 12/50\n",
            "69/69 [==============================] - ETA: 0s - loss: 0.0429 - accuracy: 0.9877\n",
            "Epoch 00012: val_loss did not improve from 0.53133\n",
            "69/69 [==============================] - 1s 15ms/step - loss: 0.0429 - accuracy: 0.9877 - val_loss: 0.8582 - val_accuracy: 0.7200\n",
            "Epoch 13/50\n",
            "68/69 [============================>.] - ETA: 0s - loss: 0.0395 - accuracy: 0.9853\n",
            "Epoch 00013: val_loss did not improve from 0.53133\n",
            "69/69 [==============================] - 1s 17ms/step - loss: 0.0393 - accuracy: 0.9854 - val_loss: 0.9354 - val_accuracy: 0.6909\n",
            "Epoch 14/50\n",
            "69/69 [==============================] - ETA: 0s - loss: 0.0341 - accuracy: 0.9909\n",
            "Epoch 00014: val_loss did not improve from 0.53133\n",
            "69/69 [==============================] - 1s 14ms/step - loss: 0.0341 - accuracy: 0.9909 - val_loss: 0.9178 - val_accuracy: 0.7109\n",
            "\n",
            "\n",
            "\n",
            "\n",
            "---------------------------------------------------------------------------\n",
            "Training model for hyperparameter combination 8:\n",
            "Embedding Size: 67, RNN Neurons: 26, Dropout: 0.0028265220878869626\n",
            "---------------------------------------------------------------------------\n",
            "\n",
            "\n",
            "Model: \"sequential_7\"\n",
            "_________________________________________________________________\n",
            "Layer (type)                 Output Shape              Param #   \n",
            "=================================================================\n",
            "embedding_7 (Embedding)      (None, 15, 67)            120332    \n",
            "_________________________________________________________________\n",
            "simple_rnn_7 (SimpleRNN)     (None, 26)                2444      \n",
            "_________________________________________________________________\n",
            "dropout_7 (Dropout)          (None, 26)                0         \n",
            "_________________________________________________________________\n",
            "dense_7 (Dense)              (None, 1)                 27        \n",
            "=================================================================\n",
            "Total params: 122,803\n",
            "Trainable params: 122,803\n",
            "Non-trainable params: 0\n",
            "_________________________________________________________________\n",
            "None\n",
            "Epoch 1/50\n",
            "69/69 [==============================] - ETA: 0s - loss: 0.6840 - accuracy: 0.5455\n",
            "Epoch 00001: val_loss did not improve from 0.53133\n",
            "69/69 [==============================] - 1s 21ms/step - loss: 0.6840 - accuracy: 0.5455 - val_loss: 0.6720 - val_accuracy: 0.6436\n",
            "Epoch 2/50\n",
            "67/69 [============================>.] - ETA: 0s - loss: 0.4994 - accuracy: 0.8647\n",
            "Epoch 00002: val_loss did not improve from 0.53133\n",
            "69/69 [==============================] - 1s 16ms/step - loss: 0.4990 - accuracy: 0.8629 - val_loss: 0.5894 - val_accuracy: 0.7145\n",
            "Epoch 3/50\n",
            "67/69 [============================>.] - ETA: 0s - loss: 0.2208 - accuracy: 0.9394\n",
            "Epoch 00003: val_loss did not improve from 0.53133\n",
            "69/69 [==============================] - 1s 17ms/step - loss: 0.2208 - accuracy: 0.9390 - val_loss: 0.6118 - val_accuracy: 0.7036\n",
            "Epoch 4/50\n",
            "66/69 [===========================>..] - ETA: 0s - loss: 0.1074 - accuracy: 0.9740\n",
            "Epoch 00004: val_loss did not improve from 0.53133\n",
            "69/69 [==============================] - 1s 16ms/step - loss: 0.1085 - accuracy: 0.9736 - val_loss: 0.6596 - val_accuracy: 0.7327\n",
            "Epoch 5/50\n",
            "66/69 [===========================>..] - ETA: 0s - loss: 0.0705 - accuracy: 0.9830\n",
            "Epoch 00005: val_loss did not improve from 0.53133\n",
            "69/69 [==============================] - 1s 16ms/step - loss: 0.0707 - accuracy: 0.9827 - val_loss: 0.6880 - val_accuracy: 0.7400\n",
            "Epoch 6/50\n",
            "69/69 [==============================] - ETA: 0s - loss: 0.0504 - accuracy: 0.9877\n",
            "Epoch 00006: val_loss did not improve from 0.53133\n",
            "69/69 [==============================] - 1s 15ms/step - loss: 0.0504 - accuracy: 0.9877 - val_loss: 0.7454 - val_accuracy: 0.7236\n",
            "Epoch 7/50\n",
            "67/69 [============================>.] - ETA: 0s - loss: 0.0434 - accuracy: 0.9888\n",
            "Epoch 00007: val_loss did not improve from 0.53133\n",
            "69/69 [==============================] - 1s 16ms/step - loss: 0.0428 - accuracy: 0.9891 - val_loss: 0.8080 - val_accuracy: 0.7236\n",
            "Epoch 8/50\n",
            "66/69 [===========================>..] - ETA: 0s - loss: 0.0329 - accuracy: 0.9905\n",
            "Epoch 00008: val_loss did not improve from 0.53133\n",
            "69/69 [==============================] - 1s 16ms/step - loss: 0.0330 - accuracy: 0.9904 - val_loss: 0.8441 - val_accuracy: 0.7309\n",
            "Epoch 9/50\n",
            "67/69 [============================>.] - ETA: 0s - loss: 0.0293 - accuracy: 0.9897\n",
            "Epoch 00009: val_loss did not improve from 0.53133\n",
            "69/69 [==============================] - 1s 16ms/step - loss: 0.0290 - accuracy: 0.9900 - val_loss: 0.8991 - val_accuracy: 0.7364\n",
            "Epoch 10/50\n",
            "68/69 [============================>.] - ETA: 0s - loss: 0.0280 - accuracy: 0.9903\n",
            "Epoch 00010: val_loss did not improve from 0.53133\n",
            "69/69 [==============================] - 1s 16ms/step - loss: 0.0278 - accuracy: 0.9904 - val_loss: 0.9105 - val_accuracy: 0.7364\n",
            "Epoch 11/50\n",
            "66/69 [===========================>..] - ETA: 0s - loss: 0.0265 - accuracy: 0.9896\n",
            "Epoch 00011: val_loss did not improve from 0.53133\n",
            "69/69 [==============================] - 1s 16ms/step - loss: 0.0261 - accuracy: 0.9900 - val_loss: 0.9841 - val_accuracy: 0.7255\n",
            "Epoch 12/50\n",
            "66/69 [===========================>..] - ETA: 0s - loss: 0.0277 - accuracy: 0.9905\n",
            "Epoch 00012: val_loss did not improve from 0.53133\n",
            "69/69 [==============================] - 1s 18ms/step - loss: 0.0282 - accuracy: 0.9900 - val_loss: 0.9408 - val_accuracy: 0.7291\n",
            "\n",
            "\n",
            "\n",
            "\n",
            "---------------------------------------------------------------------------\n",
            "Training model for hyperparameter combination 9:\n",
            "Embedding Size: 98, RNN Neurons: 31, Dropout: 0.2447411578889518\n",
            "---------------------------------------------------------------------------\n",
            "\n",
            "\n",
            "Model: \"sequential_8\"\n",
            "_________________________________________________________________\n",
            "Layer (type)                 Output Shape              Param #   \n",
            "=================================================================\n",
            "embedding_8 (Embedding)      (None, 15, 98)            176008    \n",
            "_________________________________________________________________\n",
            "simple_rnn_8 (SimpleRNN)     (None, 31)                4030      \n",
            "_________________________________________________________________\n",
            "dropout_8 (Dropout)          (None, 31)                0         \n",
            "_________________________________________________________________\n",
            "dense_8 (Dense)              (None, 1)                 32        \n",
            "=================================================================\n",
            "Total params: 180,070\n",
            "Trainable params: 180,070\n",
            "Non-trainable params: 0\n",
            "_________________________________________________________________\n",
            "None\n",
            "Epoch 1/50\n",
            "68/69 [============================>.] - ETA: 0s - loss: 0.6813 - accuracy: 0.5597\n",
            "Epoch 00001: val_loss did not improve from 0.53133\n",
            "69/69 [==============================] - 1s 20ms/step - loss: 0.6810 - accuracy: 0.5615 - val_loss: 0.6655 - val_accuracy: 0.6036\n",
            "Epoch 2/50\n",
            "68/69 [============================>.] - ETA: 0s - loss: 0.4871 - accuracy: 0.8562\n",
            "Epoch 00002: val_loss did not improve from 0.53133\n",
            "69/69 [==============================] - 1s 17ms/step - loss: 0.4872 - accuracy: 0.8556 - val_loss: 0.5827 - val_accuracy: 0.6927\n",
            "Epoch 3/50\n",
            "67/69 [============================>.] - ETA: 0s - loss: 0.2130 - accuracy: 0.9431\n",
            "Epoch 00003: val_loss did not improve from 0.53133\n",
            "69/69 [==============================] - 1s 16ms/step - loss: 0.2125 - accuracy: 0.9426 - val_loss: 0.5947 - val_accuracy: 0.6873\n",
            "Epoch 4/50\n",
            "67/69 [============================>.] - ETA: 0s - loss: 0.1046 - accuracy: 0.9711\n",
            "Epoch 00004: val_loss did not improve from 0.53133\n",
            "69/69 [==============================] - 1s 17ms/step - loss: 0.1056 - accuracy: 0.9709 - val_loss: 0.5982 - val_accuracy: 0.7164\n",
            "Epoch 5/50\n",
            "69/69 [==============================] - ETA: 0s - loss: 0.0708 - accuracy: 0.9777\n",
            "Epoch 00005: val_loss did not improve from 0.53133\n",
            "69/69 [==============================] - 1s 18ms/step - loss: 0.0708 - accuracy: 0.9777 - val_loss: 0.6711 - val_accuracy: 0.7055\n",
            "Epoch 6/50\n",
            "66/69 [===========================>..] - ETA: 0s - loss: 0.0489 - accuracy: 0.9867\n",
            "Epoch 00006: val_loss did not improve from 0.53133\n",
            "69/69 [==============================] - 1s 17ms/step - loss: 0.0485 - accuracy: 0.9868 - val_loss: 0.7230 - val_accuracy: 0.7109\n",
            "Epoch 7/50\n",
            "67/69 [============================>.] - ETA: 0s - loss: 0.0403 - accuracy: 0.9883\n",
            "Epoch 00007: val_loss did not improve from 0.53133\n",
            "69/69 [==============================] - 1s 16ms/step - loss: 0.0399 - accuracy: 0.9886 - val_loss: 0.7571 - val_accuracy: 0.7055\n",
            "Epoch 8/50\n",
            "66/69 [===========================>..] - ETA: 0s - loss: 0.0310 - accuracy: 0.9920\n",
            "Epoch 00008: val_loss did not improve from 0.53133\n",
            "69/69 [==============================] - 1s 17ms/step - loss: 0.0309 - accuracy: 0.9918 - val_loss: 0.7890 - val_accuracy: 0.7109\n",
            "Epoch 9/50\n",
            "67/69 [============================>.] - ETA: 0s - loss: 0.0287 - accuracy: 0.9897\n",
            "Epoch 00009: val_loss did not improve from 0.53133\n",
            "69/69 [==============================] - 1s 16ms/step - loss: 0.0287 - accuracy: 0.9900 - val_loss: 0.8454 - val_accuracy: 0.7182\n",
            "Epoch 10/50\n",
            "68/69 [============================>.] - ETA: 0s - loss: 0.0259 - accuracy: 0.9899\n",
            "Epoch 00010: val_loss did not improve from 0.53133\n",
            "69/69 [==============================] - 1s 18ms/step - loss: 0.0258 - accuracy: 0.9900 - val_loss: 0.8542 - val_accuracy: 0.7000\n",
            "Epoch 11/50\n",
            "67/69 [============================>.] - ETA: 0s - loss: 0.0244 - accuracy: 0.9893\n",
            "Epoch 00011: val_loss did not improve from 0.53133\n",
            "69/69 [==============================] - 1s 17ms/step - loss: 0.0241 - accuracy: 0.9895 - val_loss: 0.9005 - val_accuracy: 0.6891\n",
            "Epoch 12/50\n",
            "66/69 [===========================>..] - ETA: 0s - loss: 0.0252 - accuracy: 0.9896\n",
            "Epoch 00012: val_loss did not improve from 0.53133\n",
            "69/69 [==============================] - 1s 16ms/step - loss: 0.0260 - accuracy: 0.9891 - val_loss: 0.9573 - val_accuracy: 0.6836\n",
            "\n",
            "\n",
            "\n",
            "\n",
            "---------------------------------------------------------------------------\n",
            "Training model for hyperparameter combination 10:\n",
            "Embedding Size: 51, RNN Neurons: 32, Dropout: 0.3895022075365837\n",
            "---------------------------------------------------------------------------\n",
            "\n",
            "\n",
            "Model: \"sequential_9\"\n",
            "_________________________________________________________________\n",
            "Layer (type)                 Output Shape              Param #   \n",
            "=================================================================\n",
            "embedding_9 (Embedding)      (None, 15, 51)            91596     \n",
            "_________________________________________________________________\n",
            "simple_rnn_9 (SimpleRNN)     (None, 32)                2688      \n",
            "_________________________________________________________________\n",
            "dropout_9 (Dropout)          (None, 32)                0         \n",
            "_________________________________________________________________\n",
            "dense_9 (Dense)              (None, 1)                 33        \n",
            "=================================================================\n",
            "Total params: 94,317\n",
            "Trainable params: 94,317\n",
            "Non-trainable params: 0\n",
            "_________________________________________________________________\n",
            "None\n",
            "Epoch 1/50\n",
            "68/69 [============================>.] - ETA: 0s - loss: 0.6889 - accuracy: 0.5400\n",
            "Epoch 00001: val_loss did not improve from 0.53133\n",
            "69/69 [==============================] - 1s 17ms/step - loss: 0.6887 - accuracy: 0.5405 - val_loss: 0.6775 - val_accuracy: 0.6145\n",
            "Epoch 2/50\n",
            "66/69 [===========================>..] - ETA: 0s - loss: 0.5790 - accuracy: 0.7723\n",
            "Epoch 00002: val_loss did not improve from 0.53133\n",
            "69/69 [==============================] - 1s 18ms/step - loss: 0.5778 - accuracy: 0.7719 - val_loss: 0.6472 - val_accuracy: 0.6400\n",
            "Epoch 3/50\n",
            "68/69 [============================>.] - ETA: 0s - loss: 0.3191 - accuracy: 0.9030\n",
            "Epoch 00003: val_loss did not improve from 0.53133\n",
            "69/69 [==============================] - 1s 16ms/step - loss: 0.3182 - accuracy: 0.9035 - val_loss: 0.6020 - val_accuracy: 0.7018\n",
            "Epoch 4/50\n",
            "68/69 [============================>.] - ETA: 0s - loss: 0.1642 - accuracy: 0.9554\n",
            "Epoch 00004: val_loss did not improve from 0.53133\n",
            "69/69 [==============================] - 1s 16ms/step - loss: 0.1639 - accuracy: 0.9554 - val_loss: 0.7008 - val_accuracy: 0.6836\n",
            "Epoch 5/50\n",
            "68/69 [============================>.] - ETA: 0s - loss: 0.1005 - accuracy: 0.9756\n",
            "Epoch 00005: val_loss did not improve from 0.53133\n",
            "69/69 [==============================] - 1s 16ms/step - loss: 0.1013 - accuracy: 0.9754 - val_loss: 0.7324 - val_accuracy: 0.7036\n",
            "Epoch 6/50\n",
            "68/69 [============================>.] - ETA: 0s - loss: 0.0821 - accuracy: 0.9752\n",
            "Epoch 00006: val_loss did not improve from 0.53133\n",
            "69/69 [==============================] - 1s 17ms/step - loss: 0.0815 - accuracy: 0.9754 - val_loss: 0.8327 - val_accuracy: 0.6855\n",
            "Epoch 7/50\n",
            "66/69 [===========================>..] - ETA: 0s - loss: 0.0701 - accuracy: 0.9801\n",
            "Epoch 00007: val_loss did not improve from 0.53133\n",
            "69/69 [==============================] - 1s 15ms/step - loss: 0.0690 - accuracy: 0.9804 - val_loss: 0.8123 - val_accuracy: 0.6964\n",
            "Epoch 8/50\n",
            "66/69 [===========================>..] - ETA: 0s - loss: 0.0463 - accuracy: 0.9867\n",
            "Epoch 00008: val_loss did not improve from 0.53133\n",
            "69/69 [==============================] - 1s 15ms/step - loss: 0.0466 - accuracy: 0.9859 - val_loss: 0.9032 - val_accuracy: 0.6909\n",
            "Epoch 9/50\n",
            "69/69 [==============================] - ETA: 0s - loss: 0.0410 - accuracy: 0.9868\n",
            "Epoch 00009: val_loss did not improve from 0.53133\n",
            "69/69 [==============================] - 1s 16ms/step - loss: 0.0410 - accuracy: 0.9868 - val_loss: 0.9701 - val_accuracy: 0.6855\n",
            "Epoch 10/50\n",
            "69/69 [==============================] - ETA: 0s - loss: 0.0341 - accuracy: 0.9900\n",
            "Epoch 00010: val_loss did not improve from 0.53133\n",
            "69/69 [==============================] - 1s 15ms/step - loss: 0.0341 - accuracy: 0.9900 - val_loss: 0.9910 - val_accuracy: 0.6964\n",
            "Epoch 11/50\n",
            "69/69 [==============================] - ETA: 0s - loss: 0.0307 - accuracy: 0.9886\n",
            "Epoch 00011: val_loss did not improve from 0.53133\n",
            "69/69 [==============================] - 1s 17ms/step - loss: 0.0307 - accuracy: 0.9886 - val_loss: 1.0816 - val_accuracy: 0.6855\n",
            "Epoch 12/50\n",
            "68/69 [============================>.] - ETA: 0s - loss: 0.0297 - accuracy: 0.9908\n",
            "Epoch 00012: val_loss did not improve from 0.53133\n",
            "69/69 [==============================] - 1s 16ms/step - loss: 0.0304 - accuracy: 0.9904 - val_loss: 1.0806 - val_accuracy: 0.7000\n",
            "Epoch 13/50\n",
            "68/69 [============================>.] - ETA: 0s - loss: 0.0254 - accuracy: 0.9903\n",
            "Epoch 00013: val_loss did not improve from 0.53133\n",
            "69/69 [==============================] - 1s 15ms/step - loss: 0.0252 - accuracy: 0.9904 - val_loss: 1.1233 - val_accuracy: 0.6673\n"
          ],
          "name": "stdout"
        },
        {
          "output_type": "display_data",
          "data": {
            "image/png": "[encoded data removed]",
            "text/plain": [
              "<Figure size 720x288 with 2 Axes>"
            ]
          },
          "metadata": {
            "tags": [],
            "needs_background": "light"
          }
        },
        {
          "output_type": "display_data",
          "data": {
            "image/png": "[encoded data removed]",
            "text/plain": [
              "<Figure size 720x288 with 2 Axes>"
            ]
          },
          "metadata": {
            "tags": [],
            "needs_background": "light"
          }
        },
        {
          "output_type": "display_data",
          "data": {
            "image/png": "[encoded data removed]",
            "text/plain": [
              "<Figure size 720x288 with 2 Axes>"
            ]
          },
          "metadata": {
            "tags": [],
            "needs_background": "light"
          }
        },
        {
          "output_type": "display_data",
          "data": {
            "image/png": "[encoded data removed]",
            "text/plain": [
              "<Figure size 720x288 with 2 Axes>"
            ]
          },
          "metadata": {
            "tags": [],
            "needs_background": "light"
          }
        },
        {
          "output_type": "display_data",
          "data": {
            "image/png": "[encoded data removed]",
            "text/plain": [
              "<Figure size 720x288 with 2 Axes>"
            ]
          },
          "metadata": {
            "tags": [],
            "needs_background": "light"
          }
        },
        {
          "output_type": "display_data",
          "data": {
            "image/png": "[encoded data removed]",
            "text/plain": [
              "<Figure size 720x288 with 2 Axes>"
            ]
          },
          "metadata": {
            "tags": [],
            "needs_background": "light"
          }
        },
        {
          "output_type": "display_data",
          "data": {
            "image/png": "[encoded data removed]",
            "text/plain": [
              "<Figure size 720x288 with 2 Axes>"
            ]
          },
          "metadata": {
            "tags": [],
            "needs_background": "light"
          }
        },
        {
          "output_type": "display_data",
          "data": {
            "image/png": "[encoded data removed]",
            "text/plain": [
              "<Figure size 720x288 with 2 Axes>"
            ]
          },
          "metadata": {
            "tags": [],
            "needs_background": "light"
          }
        },
        {
          "output_type": "display_data",
          "data": {
            "image/png": "[encoded data removed]",
            "text/plain": [
              "<Figure size 720x288 with 2 Axes>"
            ]
          },
          "metadata": {
            "tags": [],
            "needs_background": "light"
          }
        },
        {
          "output_type": "display_data",
          "data": {
            "image/png": "[encoded data removed]",
            "text/plain": [
              "<Figure size 720x288 with 2 Axes>"
            ]
          },
          "metadata": {
            "tags": [],
            "needs_background": "light"
          }
        }
      ]
    },
    {
      "cell_type": "code",
      "metadata": {
        "id": "mfxVKtOmvKUp",
        "colab_type": "code",
        "outputId": "928b309d-9925-40f1-fd64-836fa524f60f",
        "colab": {
          "base_uri": "https://localhost:8080/",
          "height": 74
        }
      },
      "source": [
        "best_train_accuracies = [max(history.history['accuracy']) for history in histories]\n",
        "best_test_accuracies = [max(history.history['val_accuracy']) for history in histories]\n",
        "print(f\"Train Accuracies: {best_train_accuracies}\")\n",
        "print(f\"Test Accuracies: {best_test_accuracies}\")"
      ],
      "execution_count": 47,
      "outputs": [
        {
          "output_type": "stream",
          "text": [
            "Train Accuracies: [0.9927140474319458, 0.9908925294876099, 0.9904371500015259, 0.9918032884597778, 0.9886156916618347, 0.9922586679458618, 0.9908925294876099, 0.9904371500015259, 0.9918032884597778, 0.9904371500015259]\n",
            "Test Accuracies: [0.7454545497894287, 0.7509090900421143, 0.7599999904632568, 0.7090908885002136, 0.7509090900421143, 0.7163636088371277, 0.7200000286102295, 0.7400000095367432, 0.7181817889213562, 0.7036363482475281]\n"
          ],
          "name": "stdout"
        }
      ]
    },
    {
      "cell_type": "code",
      "metadata": {
        "id": "ZFF2IntEsStC",
        "colab_type": "code",
        "outputId": "dbb84d32-cc7c-4e90-c091-f9e5cd0fab4e",
        "colab": {
          "base_uri": "https://localhost:8080/",
          "height": 363
        }
      },
      "source": [
        "results = pd.DataFrame({\n",
        "    'embedding_size':embedding_sizes,\n",
        "    'rnn_neurons': rnn_num_neurons,\n",
        "    'dropout': dropouts,\n",
        "    'best_train_acc': best_train_accuracies,\n",
        "    'best_test_acc': best_test_accuracies\n",
        "  })\n",
        "results"
      ],
      "execution_count": 48,
      "outputs": [
        {
          "output_type": "execute_result",
          "data": {
            "text/html": [
              "<div>\n",
              "<style scoped>\n",
              "    .dataframe tbody tr th:only-of-type {\n",
              "        vertical-align: middle;\n",
              "    }\n",
              "\n",
              "    .dataframe tbody tr th {\n",
              "        vertical-align: top;\n",
              "    }\n",
              "\n",
              "    .dataframe thead th {\n",
              "        text-align: right;\n",
              "    }\n",
              "</style>\n",
              "<table border=\"1\" class=\"dataframe\">\n",
              "  <thead>\n",
              "    <tr style=\"text-align: right;\">\n",
              "      <th></th>\n",
              "      <th>embedding_size</th>\n",
              "      <th>rnn_neurons</th>\n",
              "      <th>dropout</th>\n",
              "      <th>best_train_acc</th>\n",
              "      <th>best_test_acc</th>\n",
              "    </tr>\n",
              "  </thead>\n",
              "  <tbody>\n",
              "    <tr>\n",
              "      <th>0</th>\n",
              "      <td>61</td>\n",
              "      <td>33</td>\n",
              "      <td>0.073374</td>\n",
              "      <td>0.992714</td>\n",
              "      <td>0.745455</td>\n",
              "    </tr>\n",
              "    <tr>\n",
              "      <th>1</th>\n",
              "      <td>81</td>\n",
              "      <td>25</td>\n",
              "      <td>0.062407</td>\n",
              "      <td>0.990893</td>\n",
              "      <td>0.750909</td>\n",
              "    </tr>\n",
              "    <tr>\n",
              "      <th>2</th>\n",
              "      <td>92</td>\n",
              "      <td>27</td>\n",
              "      <td>0.023233</td>\n",
              "      <td>0.990437</td>\n",
              "      <td>0.760000</td>\n",
              "    </tr>\n",
              "    <tr>\n",
              "      <th>3</th>\n",
              "      <td>97</td>\n",
              "      <td>40</td>\n",
              "      <td>0.057147</td>\n",
              "      <td>0.991803</td>\n",
              "      <td>0.709091</td>\n",
              "    </tr>\n",
              "    <tr>\n",
              "      <th>4</th>\n",
              "      <td>12</td>\n",
              "      <td>26</td>\n",
              "      <td>0.022565</td>\n",
              "      <td>0.988616</td>\n",
              "      <td>0.750909</td>\n",
              "    </tr>\n",
              "    <tr>\n",
              "      <th>5</th>\n",
              "      <td>97</td>\n",
              "      <td>48</td>\n",
              "      <td>0.375421</td>\n",
              "      <td>0.992259</td>\n",
              "      <td>0.716364</td>\n",
              "    </tr>\n",
              "    <tr>\n",
              "      <th>6</th>\n",
              "      <td>11</td>\n",
              "      <td>25</td>\n",
              "      <td>0.246993</td>\n",
              "      <td>0.990893</td>\n",
              "      <td>0.720000</td>\n",
              "    </tr>\n",
              "    <tr>\n",
              "      <th>7</th>\n",
              "      <td>67</td>\n",
              "      <td>26</td>\n",
              "      <td>0.002827</td>\n",
              "      <td>0.990437</td>\n",
              "      <td>0.740000</td>\n",
              "    </tr>\n",
              "    <tr>\n",
              "      <th>8</th>\n",
              "      <td>98</td>\n",
              "      <td>31</td>\n",
              "      <td>0.244741</td>\n",
              "      <td>0.991803</td>\n",
              "      <td>0.718182</td>\n",
              "    </tr>\n",
              "    <tr>\n",
              "      <th>9</th>\n",
              "      <td>51</td>\n",
              "      <td>32</td>\n",
              "      <td>0.389502</td>\n",
              "      <td>0.990437</td>\n",
              "      <td>0.703636</td>\n",
              "    </tr>\n",
              "  </tbody>\n",
              "</table>\n",
              "</div>"
            ],
            "text/plain": [
              "   embedding_size  rnn_neurons   dropout  best_train_acc  best_test_acc\n",
              "0              61           33  0.073374        0.992714       0.745455\n",
              "1              81           25  0.062407        0.990893       0.750909\n",
              "2              92           27  0.023233        0.990437       0.760000\n",
              "3              97           40  0.057147        0.991803       0.709091\n",
              "4              12           26  0.022565        0.988616       0.750909\n",
              "5              97           48  0.375421        0.992259       0.716364\n",
              "6              11           25  0.246993        0.990893       0.720000\n",
              "7              67           26  0.002827        0.990437       0.740000\n",
              "8              98           31  0.244741        0.991803       0.718182\n",
              "9              51           32  0.389502        0.990437       0.703636"
            ]
          },
          "metadata": {
            "tags": []
          },
          "execution_count": 48
        }
      ]
    }
  ]
}