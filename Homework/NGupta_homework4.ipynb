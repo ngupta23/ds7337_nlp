{
 "cells": [
  {
   "cell_type": "code",
   "execution_count": 1,
   "metadata": {},
   "outputs": [],
   "source": [
    "import os\n",
    "import sys\n",
    "from typing import List, Tuple, Dict\n",
    "import numpy as np\n",
    "import pandas as pd"
   ]
  },
  {
   "cell_type": "code",
   "execution_count": 2,
   "metadata": {},
   "outputs": [],
   "source": [
    "import seaborn as sns"
   ]
  },
  {
   "cell_type": "code",
   "execution_count": 3,
   "metadata": {},
   "outputs": [],
   "source": [
    "import nltk"
   ]
  },
  {
   "cell_type": "code",
   "execution_count": 4,
   "metadata": {},
   "outputs": [],
   "source": [
    "from tensorflow.keras.preprocessing import sequence\n",
    "\n",
    "import tensorflow as tf\n",
    "from tensorflow.keras import Sequential\n",
    "from tensorflow.keras.layers import Embedding, Dense, Dropout, TimeDistributed, Bidirectional, Lambda\n",
    "from tensorflow.keras.layers import SimpleRNN as RNN\n",
    "from tensorflow.keras.layers import LSTM as LSTM\n",
    "from tensorflow.keras.layers import GRU as GRU"
   ]
  },
  {
   "cell_type": "markdown",
   "metadata": {},
   "source": [
    "# Read Data"
   ]
  },
  {
   "cell_type": "code",
   "execution_count": 5,
   "metadata": {
    "tags": [
     "outputPrepend"
    ]
   },
   "outputs": [],
   "source": [
    "# f = open(\"hw4_train.txt\", \"r\")\n",
    "# #print(f.read()) # reads the whole file at once"
   ]
  },
  {
   "cell_type": "code",
   "execution_count": 6,
   "metadata": {
    "tags": [
     "outputPrepend",
     "outputPrepend",
     "outputPrepend",
     "outputPrepend",
     "outputPrepend",
     "outputPrepend",
     "outputPrepend",
     "outputPrepend",
     "outputPrepend",
     "outputPrepend",
     "outputPrepend",
     "outputPrepend",
     "outputPrepend",
     "outputPrepend",
     "outputPrepend",
     "outputPrepend",
     "outputPrepend",
     "outputPrepend",
     "outputPrepend",
     "outputPrepend",
     "outputPrepend",
     "outputPrepend"
    ]
   },
   "outputs": [],
   "source": [
    "# for i, line in enumerate(f):\n",
    "#     # Start from line 3 (index 2)  # Not necessarily\n",
    "#     if i >= 2 and i < 15:\n",
    "#         print (f\"{i}: {line}\")\n",
    "#         # print(f.readline())        "
   ]
  },
  {
   "cell_type": "code",
   "execution_count": 7,
   "metadata": {},
   "outputs": [],
   "source": [
    "# Reading the data takes a long time, so this is a workaround if data has already been read once and saved in a pandas dataframe\n",
    "# Change to 1 if running for the 1st time, then for subsequent runs, you can choose to change this to 0\n",
    "REREAD = 0\n",
    "DATA_FILE = \"hw4_reformatted.csv\""
   ]
  },
  {
   "cell_type": "code",
   "execution_count": 8,
   "metadata": {},
   "outputs": [],
   "source": [
    "if REREAD:\n",
    "    f = open(\"hw4_train.txt\", \"r\")\n",
    "    #print(f.read()) # reads the whole file at once\n",
    "\n",
    "    data = np.empty((0,2))\n",
    "\n",
    "    sentence = []\n",
    "    labels = []\n",
    "    for i, line in enumerate(f):\n",
    "        if line != \"\\n\":\n",
    "            words = line.split()\n",
    "            word = words[0]\n",
    "            label = words[3]\n",
    "            # print (f\"{i}: {line} --> Word = {word}: Target = {label}\")\n",
    "            sentence.append(word)\n",
    "            labels.append(label)\n",
    "            # print(f.readline())    \n",
    "        else:\n",
    "            sentence = \" \".join(sentence)\n",
    "            labels = \" \".join(labels)\n",
    "            data = np.vstack((data,[sentence,labels]))\n",
    "            sentence = [] # reset sentence\n",
    "            labels = [] # reset lables\n",
    "\n",
    "    f.close() "
   ]
  },
  {
   "cell_type": "code",
   "execution_count": 9,
   "metadata": {},
   "outputs": [],
   "source": [
    "if REREAD:\n",
    "    data = pd.DataFrame(data)\n",
    "    data.columns = ['sentence', 'NER']\n",
    "    data.info()"
   ]
  },
  {
   "cell_type": "code",
   "execution_count": 10,
   "metadata": {},
   "outputs": [],
   "source": [
    "if REREAD:\n",
    "    # Save the data\n",
    "    data.to_csv(DATA_FILE, index=False)     "
   ]
  },
  {
   "cell_type": "code",
   "execution_count": 11,
   "metadata": {},
   "outputs": [
    {
     "output_type": "stream",
     "name": "stdout",
     "text": "<class 'pandas.core.frame.DataFrame'>\nRangeIndex: 14987 entries, 0 to 14986\nData columns (total 2 columns):\n #   Column    Non-Null Count  Dtype \n---  ------    --------------  ----- \n 0   sentence  14987 non-null  object\n 1   NER       14987 non-null  object\ndtypes: object(2)\nmemory usage: 234.3+ KB\n"
    }
   ],
   "source": [
    "if not REREAD:\n",
    "    try:\n",
    "        # Read the data already saved\n",
    "        data = pd.read_csv(DATA_FILE)\n",
    "        data.info()\n",
    "    except:\n",
    "        print(\"\")\n",
    "        print(\"-\"*150)\n",
    "        print(f\"**** Data file '{DATA_FILE}'' not found. Script will not proceed. Please make sure you have run the script once with REREAD = 1. ****\")\n",
    "        print(\"-\"*150)\n",
    "        print(\"\")\n",
    "        sys.exit()\n",
    "        "
   ]
  },
  {
   "cell_type": "code",
   "execution_count": 12,
   "metadata": {},
   "outputs": [
    {
     "output_type": "execute_result",
     "data": {
      "text/plain": "                                            sentence  \\\n0                                         -DOCSTART-   \n1   EU rejects German call to boycott British lamb .   \n2                                    Peter Blackburn   \n3                                BRUSSELS 1996-08-22   \n4  The European Commission said on Thursday it di...   \n\n                                                 NER  \n0                                                  O  \n1                    B-ORG O B-MISC O O O B-MISC O O  \n2                                        B-PER I-PER  \n3                                            B-LOC O  \n4  O B-ORG I-ORG O O O O O O B-MISC O O O O O B-M...  ",
      "text/html": "<div>\n<style scoped>\n    .dataframe tbody tr th:only-of-type {\n        vertical-align: middle;\n    }\n\n    .dataframe tbody tr th {\n        vertical-align: top;\n    }\n\n    .dataframe thead th {\n        text-align: right;\n    }\n</style>\n<table border=\"1\" class=\"dataframe\">\n  <thead>\n    <tr style=\"text-align: right;\">\n      <th></th>\n      <th>sentence</th>\n      <th>NER</th>\n    </tr>\n  </thead>\n  <tbody>\n    <tr>\n      <th>0</th>\n      <td>-DOCSTART-</td>\n      <td>O</td>\n    </tr>\n    <tr>\n      <th>1</th>\n      <td>EU rejects German call to boycott British lamb .</td>\n      <td>B-ORG O B-MISC O O O B-MISC O O</td>\n    </tr>\n    <tr>\n      <th>2</th>\n      <td>Peter Blackburn</td>\n      <td>B-PER I-PER</td>\n    </tr>\n    <tr>\n      <th>3</th>\n      <td>BRUSSELS 1996-08-22</td>\n      <td>B-LOC O</td>\n    </tr>\n    <tr>\n      <th>4</th>\n      <td>The European Commission said on Thursday it di...</td>\n      <td>O B-ORG I-ORG O O O O O O B-MISC O O O O O B-M...</td>\n    </tr>\n  </tbody>\n</table>\n</div>"
     },
     "metadata": {},
     "execution_count": 12
    }
   ],
   "source": [
    "data.head()"
   ]
  },
  {
   "cell_type": "code",
   "execution_count": 13,
   "metadata": {},
   "outputs": [
    {
     "output_type": "execute_result",
     "data": {
      "text/plain": "                   sentence              NER\n14982           on Friday :            O O O\n14983          Division two              O O\n14984  Plymouth 2 Preston 1  B-ORG O B-ORG O\n14985        Division three              O O\n14986   Swansea 1 Lincoln 2  B-ORG O B-ORG O",
      "text/html": "<div>\n<style scoped>\n    .dataframe tbody tr th:only-of-type {\n        vertical-align: middle;\n    }\n\n    .dataframe tbody tr th {\n        vertical-align: top;\n    }\n\n    .dataframe thead th {\n        text-align: right;\n    }\n</style>\n<table border=\"1\" class=\"dataframe\">\n  <thead>\n    <tr style=\"text-align: right;\">\n      <th></th>\n      <th>sentence</th>\n      <th>NER</th>\n    </tr>\n  </thead>\n  <tbody>\n    <tr>\n      <th>14982</th>\n      <td>on Friday :</td>\n      <td>O O O</td>\n    </tr>\n    <tr>\n      <th>14983</th>\n      <td>Division two</td>\n      <td>O O</td>\n    </tr>\n    <tr>\n      <th>14984</th>\n      <td>Plymouth 2 Preston 1</td>\n      <td>B-ORG O B-ORG O</td>\n    </tr>\n    <tr>\n      <th>14985</th>\n      <td>Division three</td>\n      <td>O O</td>\n    </tr>\n    <tr>\n      <th>14986</th>\n      <td>Swansea 1 Lincoln 2</td>\n      <td>B-ORG O B-ORG O</td>\n    </tr>\n  </tbody>\n</table>\n</div>"
     },
     "metadata": {},
     "execution_count": 13
    }
   ],
   "source": [
    "data.tail()"
   ]
  },
  {
   "cell_type": "code",
   "execution_count": 14,
   "metadata": {},
   "outputs": [
    {
     "output_type": "execute_result",
     "data": {
      "text/plain": "                                            sentence  \\\n0                                         -DOCSTART-   \n1   EU rejects German call to boycott British lamb .   \n2                                    Peter Blackburn   \n3                                BRUSSELS 1996-08-22   \n4  The European Commission said on Thursday it di...   \n\n                                                 NER  len  \n0                                                  O    1  \n1                    B-ORG O B-MISC O O O B-MISC O O    9  \n2                                        B-PER I-PER    2  \n3                                            B-LOC O    2  \n4  O B-ORG I-ORG O O O O O O B-MISC O O O O O B-M...   30  ",
      "text/html": "<div>\n<style scoped>\n    .dataframe tbody tr th:only-of-type {\n        vertical-align: middle;\n    }\n\n    .dataframe tbody tr th {\n        vertical-align: top;\n    }\n\n    .dataframe thead th {\n        text-align: right;\n    }\n</style>\n<table border=\"1\" class=\"dataframe\">\n  <thead>\n    <tr style=\"text-align: right;\">\n      <th></th>\n      <th>sentence</th>\n      <th>NER</th>\n      <th>len</th>\n    </tr>\n  </thead>\n  <tbody>\n    <tr>\n      <th>0</th>\n      <td>-DOCSTART-</td>\n      <td>O</td>\n      <td>1</td>\n    </tr>\n    <tr>\n      <th>1</th>\n      <td>EU rejects German call to boycott British lamb .</td>\n      <td>B-ORG O B-MISC O O O B-MISC O O</td>\n      <td>9</td>\n    </tr>\n    <tr>\n      <th>2</th>\n      <td>Peter Blackburn</td>\n      <td>B-PER I-PER</td>\n      <td>2</td>\n    </tr>\n    <tr>\n      <th>3</th>\n      <td>BRUSSELS 1996-08-22</td>\n      <td>B-LOC O</td>\n      <td>2</td>\n    </tr>\n    <tr>\n      <th>4</th>\n      <td>The European Commission said on Thursday it di...</td>\n      <td>O B-ORG I-ORG O O O O O O B-MISC O O O O O B-M...</td>\n      <td>30</td>\n    </tr>\n  </tbody>\n</table>\n</div>"
     },
     "metadata": {},
     "execution_count": 14
    }
   ],
   "source": [
    "data['len'] = data['sentence'].str.split().str.len()\n",
    "data.head()"
   ]
  },
  {
   "cell_type": "code",
   "execution_count": 15,
   "metadata": {},
   "outputs": [
    {
     "output_type": "stream",
     "name": "stdout",
     "text": "Maximum length: 113\nMinimum length: 1\n"
    }
   ],
   "source": [
    "print('Maximum length: {}'.format(data['len'].max()))\n",
    "print('Minimum length: {}'.format(data['len'].min()))"
   ]
  },
  {
   "cell_type": "code",
   "execution_count": 16,
   "metadata": {},
   "outputs": [
    {
     "output_type": "execute_result",
     "data": {
      "text/plain": "<matplotlib.axes._subplots.AxesSubplot at 0x21ebeb6cb38>"
     },
     "metadata": {},
     "execution_count": 16
    },
    {
     "output_type": "display_data",
     "data": {
      "text/plain": "<Figure size 432x288 with 1 Axes>",
      "image/svg+xml": "<?xml version=\"1.0\" encoding=\"utf-8\" standalone=\"no\"?>\r\n<!DOCTYPE svg PUBLIC \"-//W3C//DTD SVG 1.1//EN\"\r\n  \"http://www.w3.org/Graphics/SVG/1.1/DTD/svg11.dtd\">\r\n<!-- Created with matplotlib (https://matplotlib.org/) -->\r\n<svg height=\"263.63625pt\" version=\"1.1\" viewBox=\"0 0 381.65 263.63625\" width=\"381.65pt\" xmlns=\"http://www.w3.org/2000/svg\" xmlns:xlink=\"http://www.w3.org/1999/xlink\">\r\n <defs>\r\n  <style type=\"text/css\">\r\n*{stroke-linecap:butt;stroke-linejoin:round;}\r\n  </style>\r\n </defs>\r\n <g id=\"figure_1\">\r\n  <g id=\"patch_1\">\r\n   <path d=\"M -0 263.63625 \r\nL 381.65 263.63625 \r\nL 381.65 0 \r\nL -0 0 \r\nz\r\n\" style=\"fill:none;\"/>\r\n  </g>\r\n  <g id=\"axes_1\">\r\n   <g id=\"patch_2\">\r\n    <path d=\"M 39.65 239.758125 \r\nL 374.45 239.758125 \r\nL 374.45 22.318125 \r\nL 39.65 22.318125 \r\nz\r\n\" style=\"fill:#ffffff;\"/>\r\n   </g>\r\n   <g id=\"patch_3\">\r\n    <path clip-path=\"url(#pf75ca8ec65)\" d=\"M 54.868182 239.758125 \r\nL 57.911818 239.758125 \r\nL 57.911818 32.672411 \r\nL 54.868182 32.672411 \r\nz\r\n\" style=\"fill:#1f77b4;\"/>\r\n   </g>\r\n   <g id=\"patch_4\">\r\n    <path clip-path=\"url(#pf75ca8ec65)\" d=\"M 57.911818 239.758125 \r\nL 60.955455 239.758125 \r\nL 60.955455 185.919514 \r\nL 57.911818 185.919514 \r\nz\r\n\" style=\"fill:#1f77b4;\"/>\r\n   </g>\r\n   <g id=\"patch_5\">\r\n    <path clip-path=\"url(#pf75ca8ec65)\" d=\"M 60.955455 239.758125 \r\nL 63.999091 239.758125 \r\nL 63.999091 168.922683 \r\nL 60.955455 168.922683 \r\nz\r\n\" style=\"fill:#1f77b4;\"/>\r\n   </g>\r\n   <g id=\"patch_6\">\r\n    <path clip-path=\"url(#pf75ca8ec65)\" d=\"M 63.999091 239.758125 \r\nL 67.042727 239.758125 \r\nL 67.042727 170.760178 \r\nL 63.999091 170.760178 \r\nz\r\n\" style=\"fill:#1f77b4;\"/>\r\n   </g>\r\n   <g id=\"patch_7\">\r\n    <path clip-path=\"url(#pf75ca8ec65)\" d=\"M 67.042727 239.758125 \r\nL 70.086364 239.758125 \r\nL 70.086364 182.336399 \r\nL 67.042727 182.336399 \r\nz\r\n\" style=\"fill:#1f77b4;\"/>\r\n   </g>\r\n   <g id=\"patch_8\">\r\n    <path clip-path=\"url(#pf75ca8ec65)\" d=\"M 70.086364 239.758125 \r\nL 73.13 239.758125 \r\nL 73.13 156.70334 \r\nL 70.086364 156.70334 \r\nz\r\n\" style=\"fill:#1f77b4;\"/>\r\n   </g>\r\n   <g id=\"patch_9\">\r\n    <path clip-path=\"url(#pf75ca8ec65)\" d=\"M 73.13 239.758125 \r\nL 76.173636 239.758125 \r\nL 76.173636 142.738376 \r\nL 73.13 142.738376 \r\nz\r\n\" style=\"fill:#1f77b4;\"/>\r\n   </g>\r\n   <g id=\"patch_10\">\r\n    <path clip-path=\"url(#pf75ca8ec65)\" d=\"M 76.173636 239.758125 \r\nL 79.217273 239.758125 \r\nL 79.217273 157.622087 \r\nL 76.173636 157.622087 \r\nz\r\n\" style=\"fill:#1f77b4;\"/>\r\n   </g>\r\n   <g id=\"patch_11\">\r\n    <path clip-path=\"url(#pf75ca8ec65)\" d=\"M 79.217273 239.758125 \r\nL 82.260909 239.758125 \r\nL 82.260909 156.152091 \r\nL 79.217273 156.152091 \r\nz\r\n\" style=\"fill:#1f77b4;\"/>\r\n   </g>\r\n   <g id=\"patch_12\">\r\n    <path clip-path=\"url(#pf75ca8ec65)\" d=\"M 82.260909 239.758125 \r\nL 85.304545 239.758125 \r\nL 85.304545 209.990702 \r\nL 82.260909 209.990702 \r\nz\r\n\" style=\"fill:#1f77b4;\"/>\r\n   </g>\r\n   <g id=\"patch_13\">\r\n    <path clip-path=\"url(#pf75ca8ec65)\" d=\"M 85.304545 239.758125 \r\nL 88.348182 239.758125 \r\nL 88.348182 207.234459 \r\nL 85.304545 207.234459 \r\nz\r\n\" style=\"fill:#1f77b4;\"/>\r\n   </g>\r\n   <g id=\"patch_14\">\r\n    <path clip-path=\"url(#pf75ca8ec65)\" d=\"M 88.348182 239.758125 \r\nL 91.391818 239.758125 \r\nL 91.391818 212.83882 \r\nL 88.348182 212.83882 \r\nz\r\n\" style=\"fill:#1f77b4;\"/>\r\n   </g>\r\n   <g id=\"patch_15\">\r\n    <path clip-path=\"url(#pf75ca8ec65)\" d=\"M 91.391818 239.758125 \r\nL 94.435455 239.758125 \r\nL 94.435455 214.125066 \r\nL 91.391818 214.125066 \r\nz\r\n\" style=\"fill:#1f77b4;\"/>\r\n   </g>\r\n   <g id=\"patch_16\">\r\n    <path clip-path=\"url(#pf75ca8ec65)\" d=\"M 94.435455 239.758125 \r\nL 97.479091 239.758125 \r\nL 97.479091 218.167556 \r\nL 94.435455 218.167556 \r\nz\r\n\" style=\"fill:#1f77b4;\"/>\r\n   </g>\r\n   <g id=\"patch_17\">\r\n    <path clip-path=\"url(#pf75ca8ec65)\" d=\"M 97.479091 239.758125 \r\nL 100.522727 239.758125 \r\nL 100.522727 218.351305 \r\nL 97.479091 218.351305 \r\nz\r\n\" style=\"fill:#1f77b4;\"/>\r\n   </g>\r\n   <g id=\"patch_18\">\r\n    <path clip-path=\"url(#pf75ca8ec65)\" d=\"M 100.522727 239.758125 \r\nL 103.566364 239.758125 \r\nL 103.566364 221.566922 \r\nL 100.522727 221.566922 \r\nz\r\n\" style=\"fill:#1f77b4;\"/>\r\n   </g>\r\n   <g id=\"patch_19\">\r\n    <path clip-path=\"url(#pf75ca8ec65)\" d=\"M 103.566364 239.758125 \r\nL 106.61 239.758125 \r\nL 106.61 202.181347 \r\nL 103.566364 202.181347 \r\nz\r\n\" style=\"fill:#1f77b4;\"/>\r\n   </g>\r\n   <g id=\"patch_20\">\r\n    <path clip-path=\"url(#pf75ca8ec65)\" d=\"M 106.61 239.758125 \r\nL 109.653636 239.758125 \r\nL 109.653636 220.188801 \r\nL 106.61 220.188801 \r\nz\r\n\" style=\"fill:#1f77b4;\"/>\r\n   </g>\r\n   <g id=\"patch_21\">\r\n    <path clip-path=\"url(#pf75ca8ec65)\" d=\"M 109.653636 239.758125 \r\nL 112.697273 239.758125 \r\nL 112.697273 219.821302 \r\nL 109.653636 219.821302 \r\nz\r\n\" style=\"fill:#1f77b4;\"/>\r\n   </g>\r\n   <g id=\"patch_22\">\r\n    <path clip-path=\"url(#pf75ca8ec65)\" d=\"M 112.697273 239.758125 \r\nL 115.740909 239.758125 \r\nL 115.740909 220.464425 \r\nL 112.697273 220.464425 \r\nz\r\n\" style=\"fill:#1f77b4;\"/>\r\n   </g>\r\n   <g id=\"patch_23\">\r\n    <path clip-path=\"url(#pf75ca8ec65)\" d=\"M 115.740909 239.758125 \r\nL 118.784545 239.758125 \r\nL 118.784545 219.453803 \r\nL 115.740909 219.453803 \r\nz\r\n\" style=\"fill:#1f77b4;\"/>\r\n   </g>\r\n   <g id=\"patch_24\">\r\n    <path clip-path=\"url(#pf75ca8ec65)\" d=\"M 118.784545 239.758125 \r\nL 121.828182 239.758125 \r\nL 121.828182 219.270053 \r\nL 118.784545 219.270053 \r\nz\r\n\" style=\"fill:#1f77b4;\"/>\r\n   </g>\r\n   <g id=\"patch_25\">\r\n    <path clip-path=\"url(#pf75ca8ec65)\" d=\"M 121.828182 239.758125 \r\nL 124.871818 239.758125 \r\nL 124.871818 220.280675 \r\nL 121.828182 220.280675 \r\nz\r\n\" style=\"fill:#1f77b4;\"/>\r\n   </g>\r\n   <g id=\"patch_26\">\r\n    <path clip-path=\"url(#pf75ca8ec65)\" d=\"M 124.871818 239.758125 \r\nL 127.915455 239.758125 \r\nL 127.915455 221.199423 \r\nL 124.871818 221.199423 \r\nz\r\n\" style=\"fill:#1f77b4;\"/>\r\n   </g>\r\n   <g id=\"patch_27\">\r\n    <path clip-path=\"url(#pf75ca8ec65)\" d=\"M 127.915455 239.758125 \r\nL 130.959091 239.758125 \r\nL 130.959091 199.976353 \r\nL 127.915455 199.976353 \r\nz\r\n\" style=\"fill:#1f77b4;\"/>\r\n   </g>\r\n   <g id=\"patch_28\">\r\n    <path clip-path=\"url(#pf75ca8ec65)\" d=\"M 130.959091 239.758125 \r\nL 134.002727 239.758125 \r\nL 134.002727 221.934421 \r\nL 130.959091 221.934421 \r\nz\r\n\" style=\"fill:#1f77b4;\"/>\r\n   </g>\r\n   <g id=\"patch_29\">\r\n    <path clip-path=\"url(#pf75ca8ec65)\" d=\"M 134.002727 239.758125 \r\nL 137.046364 239.758125 \r\nL 137.046364 220.5563 \r\nL 134.002727 220.5563 \r\nz\r\n\" style=\"fill:#1f77b4;\"/>\r\n   </g>\r\n   <g id=\"patch_30\">\r\n    <path clip-path=\"url(#pf75ca8ec65)\" d=\"M 137.046364 239.758125 \r\nL 140.09 239.758125 \r\nL 140.09 222.669419 \r\nL 137.046364 222.669419 \r\nz\r\n\" style=\"fill:#1f77b4;\"/>\r\n   </g>\r\n   <g id=\"patch_31\">\r\n    <path clip-path=\"url(#pf75ca8ec65)\" d=\"M 140.09 239.758125 \r\nL 143.133636 239.758125 \r\nL 143.133636 223.863791 \r\nL 140.09 223.863791 \r\nz\r\n\" style=\"fill:#1f77b4;\"/>\r\n   </g>\r\n   <g id=\"patch_32\">\r\n    <path clip-path=\"url(#pf75ca8ec65)\" d=\"M 143.133636 239.758125 \r\nL 146.177273 239.758125 \r\nL 146.177273 225.517537 \r\nL 143.133636 225.517537 \r\nz\r\n\" style=\"fill:#1f77b4;\"/>\r\n   </g>\r\n   <g id=\"patch_33\">\r\n    <path clip-path=\"url(#pf75ca8ec65)\" d=\"M 146.177273 239.758125 \r\nL 149.220909 239.758125 \r\nL 149.220909 227.355032 \r\nL 146.177273 227.355032 \r\nz\r\n\" style=\"fill:#1f77b4;\"/>\r\n   </g>\r\n   <g id=\"patch_34\">\r\n    <path clip-path=\"url(#pf75ca8ec65)\" d=\"M 149.220909 239.758125 \r\nL 152.264545 239.758125 \r\nL 152.264545 228.365654 \r\nL 149.220909 228.365654 \r\nz\r\n\" style=\"fill:#1f77b4;\"/>\r\n   </g>\r\n   <g id=\"patch_35\">\r\n    <path clip-path=\"url(#pf75ca8ec65)\" d=\"M 152.264545 239.758125 \r\nL 155.308182 239.758125 \r\nL 155.308182 230.386899 \r\nL 152.264545 230.386899 \r\nz\r\n\" style=\"fill:#1f77b4;\"/>\r\n   </g>\r\n   <g id=\"patch_36\">\r\n    <path clip-path=\"url(#pf75ca8ec65)\" d=\"M 155.308182 239.758125 \r\nL 158.351818 239.758125 \r\nL 158.351818 220.740049 \r\nL 155.308182 220.740049 \r\nz\r\n\" style=\"fill:#1f77b4;\"/>\r\n   </g>\r\n   <g id=\"patch_37\">\r\n    <path clip-path=\"url(#pf75ca8ec65)\" d=\"M 158.351818 239.758125 \r\nL 161.395455 239.758125 \r\nL 161.395455 232.408144 \r\nL 158.351818 232.408144 \r\nz\r\n\" style=\"fill:#1f77b4;\"/>\r\n   </g>\r\n   <g id=\"patch_38\">\r\n    <path clip-path=\"url(#pf75ca8ec65)\" d=\"M 161.395455 239.758125 \r\nL 164.439091 239.758125 \r\nL 164.439091 233.143142 \r\nL 161.395455 233.143142 \r\nz\r\n\" style=\"fill:#1f77b4;\"/>\r\n   </g>\r\n   <g id=\"patch_39\">\r\n    <path clip-path=\"url(#pf75ca8ec65)\" d=\"M 164.439091 239.758125 \r\nL 167.482727 239.758125 \r\nL 167.482727 233.87814 \r\nL 164.439091 233.87814 \r\nz\r\n\" style=\"fill:#1f77b4;\"/>\r\n   </g>\r\n   <g id=\"patch_40\">\r\n    <path clip-path=\"url(#pf75ca8ec65)\" d=\"M 167.482727 239.758125 \r\nL 170.526364 239.758125 \r\nL 170.526364 234.980637 \r\nL 167.482727 234.980637 \r\nz\r\n\" style=\"fill:#1f77b4;\"/>\r\n   </g>\r\n   <g id=\"patch_41\">\r\n    <path clip-path=\"url(#pf75ca8ec65)\" d=\"M 170.526364 239.758125 \r\nL 173.57 239.758125 \r\nL 173.57 235.623761 \r\nL 170.526364 235.623761 \r\nz\r\n\" style=\"fill:#1f77b4;\"/>\r\n   </g>\r\n   <g id=\"patch_42\">\r\n    <path clip-path=\"url(#pf75ca8ec65)\" d=\"M 173.57 239.758125 \r\nL 176.613636 239.758125 \r\nL 176.613636 236.083135 \r\nL 173.57 236.083135 \r\nz\r\n\" style=\"fill:#1f77b4;\"/>\r\n   </g>\r\n   <g id=\"patch_43\">\r\n    <path clip-path=\"url(#pf75ca8ec65)\" d=\"M 176.613636 239.758125 \r\nL 179.657273 239.758125 \r\nL 179.657273 237.277506 \r\nL 176.613636 237.277506 \r\nz\r\n\" style=\"fill:#1f77b4;\"/>\r\n   </g>\r\n   <g id=\"patch_44\">\r\n    <path clip-path=\"url(#pf75ca8ec65)\" d=\"M 179.657273 239.758125 \r\nL 182.700909 239.758125 \r\nL 182.700909 236.175009 \r\nL 179.657273 236.175009 \r\nz\r\n\" style=\"fill:#1f77b4;\"/>\r\n   </g>\r\n   <g id=\"patch_45\">\r\n    <path clip-path=\"url(#pf75ca8ec65)\" d=\"M 182.700909 239.758125 \r\nL 185.744545 239.758125 \r\nL 185.744545 238.563753 \r\nL 182.700909 238.563753 \r\nz\r\n\" style=\"fill:#1f77b4;\"/>\r\n   </g>\r\n   <g id=\"patch_46\">\r\n    <path clip-path=\"url(#pf75ca8ec65)\" d=\"M 185.744545 239.758125 \r\nL 188.788182 239.758125 \r\nL 188.788182 238.380004 \r\nL 185.744545 238.380004 \r\nz\r\n\" style=\"fill:#1f77b4;\"/>\r\n   </g>\r\n   <g id=\"patch_47\">\r\n    <path clip-path=\"url(#pf75ca8ec65)\" d=\"M 188.788182 239.758125 \r\nL 191.831818 239.758125 \r\nL 191.831818 238.839377 \r\nL 188.788182 238.839377 \r\nz\r\n\" style=\"fill:#1f77b4;\"/>\r\n   </g>\r\n   <g id=\"patch_48\">\r\n    <path clip-path=\"url(#pf75ca8ec65)\" d=\"M 191.831818 239.758125 \r\nL 194.875455 239.758125 \r\nL 194.875455 238.747503 \r\nL 191.831818 238.747503 \r\nz\r\n\" style=\"fill:#1f77b4;\"/>\r\n   </g>\r\n   <g id=\"patch_49\">\r\n    <path clip-path=\"url(#pf75ca8ec65)\" d=\"M 194.875455 239.758125 \r\nL 197.919091 239.758125 \r\nL 197.919091 239.482501 \r\nL 194.875455 239.482501 \r\nz\r\n\" style=\"fill:#1f77b4;\"/>\r\n   </g>\r\n   <g id=\"patch_50\">\r\n    <path clip-path=\"url(#pf75ca8ec65)\" d=\"M 197.919091 239.758125 \r\nL 200.962727 239.758125 \r\nL 200.962727 239.390626 \r\nL 197.919091 239.390626 \r\nz\r\n\" style=\"fill:#1f77b4;\"/>\r\n   </g>\r\n   <g id=\"patch_51\">\r\n    <path clip-path=\"url(#pf75ca8ec65)\" d=\"M 200.962727 239.758125 \r\nL 204.006364 239.758125 \r\nL 204.006364 239.298751 \r\nL 200.962727 239.298751 \r\nz\r\n\" style=\"fill:#1f77b4;\"/>\r\n   </g>\r\n   <g id=\"patch_52\">\r\n    <path clip-path=\"url(#pf75ca8ec65)\" d=\"M 204.006364 239.758125 \r\nL 207.05 239.758125 \r\nL 207.05 239.390626 \r\nL 204.006364 239.390626 \r\nz\r\n\" style=\"fill:#1f77b4;\"/>\r\n   </g>\r\n   <g id=\"patch_53\">\r\n    <path clip-path=\"url(#pf75ca8ec65)\" d=\"M 207.05 239.758125 \r\nL 210.093636 239.758125 \r\nL 210.093636 239.574375 \r\nL 207.05 239.574375 \r\nz\r\n\" style=\"fill:#1f77b4;\"/>\r\n   </g>\r\n   <g id=\"patch_54\">\r\n    <path clip-path=\"url(#pf75ca8ec65)\" d=\"M 210.093636 239.758125 \r\nL 213.137273 239.758125 \r\nL 213.137273 239.574375 \r\nL 210.093636 239.574375 \r\nz\r\n\" style=\"fill:#1f77b4;\"/>\r\n   </g>\r\n   <g id=\"patch_55\">\r\n    <path clip-path=\"url(#pf75ca8ec65)\" d=\"M 213.137273 239.758125 \r\nL 216.180909 239.758125 \r\nL 216.180909 239.574375 \r\nL 213.137273 239.574375 \r\nz\r\n\" style=\"fill:#1f77b4;\"/>\r\n   </g>\r\n   <g id=\"patch_56\">\r\n    <path clip-path=\"url(#pf75ca8ec65)\" d=\"M 216.180909 239.758125 \r\nL 219.224545 239.758125 \r\nL 219.224545 239.758125 \r\nL 216.180909 239.758125 \r\nz\r\n\" style=\"fill:#1f77b4;\"/>\r\n   </g>\r\n   <g id=\"patch_57\">\r\n    <path clip-path=\"url(#pf75ca8ec65)\" d=\"M 219.224545 239.758125 \r\nL 222.268182 239.758125 \r\nL 222.268182 239.574375 \r\nL 219.224545 239.574375 \r\nz\r\n\" style=\"fill:#1f77b4;\"/>\r\n   </g>\r\n   <g id=\"patch_58\">\r\n    <path clip-path=\"url(#pf75ca8ec65)\" d=\"M 222.268182 239.758125 \r\nL 225.311818 239.758125 \r\nL 225.311818 239.758125 \r\nL 222.268182 239.758125 \r\nz\r\n\" style=\"fill:#1f77b4;\"/>\r\n   </g>\r\n   <g id=\"patch_59\">\r\n    <path clip-path=\"url(#pf75ca8ec65)\" d=\"M 225.311818 239.758125 \r\nL 228.355455 239.758125 \r\nL 228.355455 239.758125 \r\nL 225.311818 239.758125 \r\nz\r\n\" style=\"fill:#1f77b4;\"/>\r\n   </g>\r\n   <g id=\"patch_60\">\r\n    <path clip-path=\"url(#pf75ca8ec65)\" d=\"M 228.355455 239.758125 \r\nL 231.399091 239.758125 \r\nL 231.399091 239.758125 \r\nL 228.355455 239.758125 \r\nz\r\n\" style=\"fill:#1f77b4;\"/>\r\n   </g>\r\n   <g id=\"patch_61\">\r\n    <path clip-path=\"url(#pf75ca8ec65)\" d=\"M 231.399091 239.758125 \r\nL 234.442727 239.758125 \r\nL 234.442727 239.66625 \r\nL 231.399091 239.66625 \r\nz\r\n\" style=\"fill:#1f77b4;\"/>\r\n   </g>\r\n   <g id=\"patch_62\">\r\n    <path clip-path=\"url(#pf75ca8ec65)\" d=\"M 234.442727 239.758125 \r\nL 237.486364 239.758125 \r\nL 237.486364 239.758125 \r\nL 234.442727 239.758125 \r\nz\r\n\" style=\"fill:#1f77b4;\"/>\r\n   </g>\r\n   <g id=\"patch_63\">\r\n    <path clip-path=\"url(#pf75ca8ec65)\" d=\"M 237.486364 239.758125 \r\nL 240.53 239.758125 \r\nL 240.53 239.758125 \r\nL 237.486364 239.758125 \r\nz\r\n\" style=\"fill:#1f77b4;\"/>\r\n   </g>\r\n   <g id=\"patch_64\">\r\n    <path clip-path=\"url(#pf75ca8ec65)\" d=\"M 240.53 239.758125 \r\nL 243.573636 239.758125 \r\nL 243.573636 239.758125 \r\nL 240.53 239.758125 \r\nz\r\n\" style=\"fill:#1f77b4;\"/>\r\n   </g>\r\n   <g id=\"patch_65\">\r\n    <path clip-path=\"url(#pf75ca8ec65)\" d=\"M 243.573636 239.758125 \r\nL 246.617273 239.758125 \r\nL 246.617273 239.758125 \r\nL 243.573636 239.758125 \r\nz\r\n\" style=\"fill:#1f77b4;\"/>\r\n   </g>\r\n   <g id=\"patch_66\">\r\n    <path clip-path=\"url(#pf75ca8ec65)\" d=\"M 246.617273 239.758125 \r\nL 249.660909 239.758125 \r\nL 249.660909 239.758125 \r\nL 246.617273 239.758125 \r\nz\r\n\" style=\"fill:#1f77b4;\"/>\r\n   </g>\r\n   <g id=\"patch_67\">\r\n    <path clip-path=\"url(#pf75ca8ec65)\" d=\"M 249.660909 239.758125 \r\nL 252.704545 239.758125 \r\nL 252.704545 239.758125 \r\nL 249.660909 239.758125 \r\nz\r\n\" style=\"fill:#1f77b4;\"/>\r\n   </g>\r\n   <g id=\"patch_68\">\r\n    <path clip-path=\"url(#pf75ca8ec65)\" d=\"M 252.704545 239.758125 \r\nL 255.748182 239.758125 \r\nL 255.748182 239.758125 \r\nL 252.704545 239.758125 \r\nz\r\n\" style=\"fill:#1f77b4;\"/>\r\n   </g>\r\n   <g id=\"patch_69\">\r\n    <path clip-path=\"url(#pf75ca8ec65)\" d=\"M 255.748182 239.758125 \r\nL 258.791818 239.758125 \r\nL 258.791818 239.758125 \r\nL 255.748182 239.758125 \r\nz\r\n\" style=\"fill:#1f77b4;\"/>\r\n   </g>\r\n   <g id=\"patch_70\">\r\n    <path clip-path=\"url(#pf75ca8ec65)\" d=\"M 258.791818 239.758125 \r\nL 261.835455 239.758125 \r\nL 261.835455 239.758125 \r\nL 258.791818 239.758125 \r\nz\r\n\" style=\"fill:#1f77b4;\"/>\r\n   </g>\r\n   <g id=\"patch_71\">\r\n    <path clip-path=\"url(#pf75ca8ec65)\" d=\"M 261.835455 239.758125 \r\nL 264.879091 239.758125 \r\nL 264.879091 239.66625 \r\nL 261.835455 239.66625 \r\nz\r\n\" style=\"fill:#1f77b4;\"/>\r\n   </g>\r\n   <g id=\"patch_72\">\r\n    <path clip-path=\"url(#pf75ca8ec65)\" d=\"M 264.879091 239.758125 \r\nL 267.922727 239.758125 \r\nL 267.922727 239.758125 \r\nL 264.879091 239.758125 \r\nz\r\n\" style=\"fill:#1f77b4;\"/>\r\n   </g>\r\n   <g id=\"patch_73\">\r\n    <path clip-path=\"url(#pf75ca8ec65)\" d=\"M 267.922727 239.758125 \r\nL 270.966364 239.758125 \r\nL 270.966364 239.758125 \r\nL 267.922727 239.758125 \r\nz\r\n\" style=\"fill:#1f77b4;\"/>\r\n   </g>\r\n   <g id=\"patch_74\">\r\n    <path clip-path=\"url(#pf75ca8ec65)\" d=\"M 270.966364 239.758125 \r\nL 274.01 239.758125 \r\nL 274.01 239.758125 \r\nL 270.966364 239.758125 \r\nz\r\n\" style=\"fill:#1f77b4;\"/>\r\n   </g>\r\n   <g id=\"patch_75\">\r\n    <path clip-path=\"url(#pf75ca8ec65)\" d=\"M 274.01 239.758125 \r\nL 277.053636 239.758125 \r\nL 277.053636 239.758125 \r\nL 274.01 239.758125 \r\nz\r\n\" style=\"fill:#1f77b4;\"/>\r\n   </g>\r\n   <g id=\"patch_76\">\r\n    <path clip-path=\"url(#pf75ca8ec65)\" d=\"M 277.053636 239.758125 \r\nL 280.097273 239.758125 \r\nL 280.097273 239.758125 \r\nL 277.053636 239.758125 \r\nz\r\n\" style=\"fill:#1f77b4;\"/>\r\n   </g>\r\n   <g id=\"patch_77\">\r\n    <path clip-path=\"url(#pf75ca8ec65)\" d=\"M 280.097273 239.758125 \r\nL 283.140909 239.758125 \r\nL 283.140909 239.758125 \r\nL 280.097273 239.758125 \r\nz\r\n\" style=\"fill:#1f77b4;\"/>\r\n   </g>\r\n   <g id=\"patch_78\">\r\n    <path clip-path=\"url(#pf75ca8ec65)\" d=\"M 283.140909 239.758125 \r\nL 286.184545 239.758125 \r\nL 286.184545 239.758125 \r\nL 283.140909 239.758125 \r\nz\r\n\" style=\"fill:#1f77b4;\"/>\r\n   </g>\r\n   <g id=\"patch_79\">\r\n    <path clip-path=\"url(#pf75ca8ec65)\" d=\"M 286.184545 239.758125 \r\nL 289.228182 239.758125 \r\nL 289.228182 239.758125 \r\nL 286.184545 239.758125 \r\nz\r\n\" style=\"fill:#1f77b4;\"/>\r\n   </g>\r\n   <g id=\"patch_80\">\r\n    <path clip-path=\"url(#pf75ca8ec65)\" d=\"M 289.228182 239.758125 \r\nL 292.271818 239.758125 \r\nL 292.271818 239.758125 \r\nL 289.228182 239.758125 \r\nz\r\n\" style=\"fill:#1f77b4;\"/>\r\n   </g>\r\n   <g id=\"patch_81\">\r\n    <path clip-path=\"url(#pf75ca8ec65)\" d=\"M 292.271818 239.758125 \r\nL 295.315455 239.758125 \r\nL 295.315455 239.758125 \r\nL 292.271818 239.758125 \r\nz\r\n\" style=\"fill:#1f77b4;\"/>\r\n   </g>\r\n   <g id=\"patch_82\">\r\n    <path clip-path=\"url(#pf75ca8ec65)\" d=\"M 295.315455 239.758125 \r\nL 298.359091 239.758125 \r\nL 298.359091 239.758125 \r\nL 295.315455 239.758125 \r\nz\r\n\" style=\"fill:#1f77b4;\"/>\r\n   </g>\r\n   <g id=\"patch_83\">\r\n    <path clip-path=\"url(#pf75ca8ec65)\" d=\"M 298.359091 239.758125 \r\nL 301.402727 239.758125 \r\nL 301.402727 239.758125 \r\nL 298.359091 239.758125 \r\nz\r\n\" style=\"fill:#1f77b4;\"/>\r\n   </g>\r\n   <g id=\"patch_84\">\r\n    <path clip-path=\"url(#pf75ca8ec65)\" d=\"M 301.402727 239.758125 \r\nL 304.446364 239.758125 \r\nL 304.446364 239.758125 \r\nL 301.402727 239.758125 \r\nz\r\n\" style=\"fill:#1f77b4;\"/>\r\n   </g>\r\n   <g id=\"patch_85\">\r\n    <path clip-path=\"url(#pf75ca8ec65)\" d=\"M 304.446364 239.758125 \r\nL 307.49 239.758125 \r\nL 307.49 239.758125 \r\nL 304.446364 239.758125 \r\nz\r\n\" style=\"fill:#1f77b4;\"/>\r\n   </g>\r\n   <g id=\"patch_86\">\r\n    <path clip-path=\"url(#pf75ca8ec65)\" d=\"M 307.49 239.758125 \r\nL 310.533636 239.758125 \r\nL 310.533636 239.758125 \r\nL 307.49 239.758125 \r\nz\r\n\" style=\"fill:#1f77b4;\"/>\r\n   </g>\r\n   <g id=\"patch_87\">\r\n    <path clip-path=\"url(#pf75ca8ec65)\" d=\"M 310.533636 239.758125 \r\nL 313.577273 239.758125 \r\nL 313.577273 239.758125 \r\nL 310.533636 239.758125 \r\nz\r\n\" style=\"fill:#1f77b4;\"/>\r\n   </g>\r\n   <g id=\"patch_88\">\r\n    <path clip-path=\"url(#pf75ca8ec65)\" d=\"M 313.577273 239.758125 \r\nL 316.620909 239.758125 \r\nL 316.620909 239.758125 \r\nL 313.577273 239.758125 \r\nz\r\n\" style=\"fill:#1f77b4;\"/>\r\n   </g>\r\n   <g id=\"patch_89\">\r\n    <path clip-path=\"url(#pf75ca8ec65)\" d=\"M 316.620909 239.758125 \r\nL 319.664545 239.758125 \r\nL 319.664545 239.758125 \r\nL 316.620909 239.758125 \r\nz\r\n\" style=\"fill:#1f77b4;\"/>\r\n   </g>\r\n   <g id=\"patch_90\">\r\n    <path clip-path=\"url(#pf75ca8ec65)\" d=\"M 319.664545 239.758125 \r\nL 322.708182 239.758125 \r\nL 322.708182 239.758125 \r\nL 319.664545 239.758125 \r\nz\r\n\" style=\"fill:#1f77b4;\"/>\r\n   </g>\r\n   <g id=\"patch_91\">\r\n    <path clip-path=\"url(#pf75ca8ec65)\" d=\"M 322.708182 239.758125 \r\nL 325.751818 239.758125 \r\nL 325.751818 239.758125 \r\nL 322.708182 239.758125 \r\nz\r\n\" style=\"fill:#1f77b4;\"/>\r\n   </g>\r\n   <g id=\"patch_92\">\r\n    <path clip-path=\"url(#pf75ca8ec65)\" d=\"M 325.751818 239.758125 \r\nL 328.795455 239.758125 \r\nL 328.795455 239.758125 \r\nL 325.751818 239.758125 \r\nz\r\n\" style=\"fill:#1f77b4;\"/>\r\n   </g>\r\n   <g id=\"patch_93\">\r\n    <path clip-path=\"url(#pf75ca8ec65)\" d=\"M 328.795455 239.758125 \r\nL 331.839091 239.758125 \r\nL 331.839091 239.758125 \r\nL 328.795455 239.758125 \r\nz\r\n\" style=\"fill:#1f77b4;\"/>\r\n   </g>\r\n   <g id=\"patch_94\">\r\n    <path clip-path=\"url(#pf75ca8ec65)\" d=\"M 331.839091 239.758125 \r\nL 334.882727 239.758125 \r\nL 334.882727 239.758125 \r\nL 331.839091 239.758125 \r\nz\r\n\" style=\"fill:#1f77b4;\"/>\r\n   </g>\r\n   <g id=\"patch_95\">\r\n    <path clip-path=\"url(#pf75ca8ec65)\" d=\"M 334.882727 239.758125 \r\nL 337.926364 239.758125 \r\nL 337.926364 239.758125 \r\nL 334.882727 239.758125 \r\nz\r\n\" style=\"fill:#1f77b4;\"/>\r\n   </g>\r\n   <g id=\"patch_96\">\r\n    <path clip-path=\"url(#pf75ca8ec65)\" d=\"M 337.926364 239.758125 \r\nL 340.97 239.758125 \r\nL 340.97 239.758125 \r\nL 337.926364 239.758125 \r\nz\r\n\" style=\"fill:#1f77b4;\"/>\r\n   </g>\r\n   <g id=\"patch_97\">\r\n    <path clip-path=\"url(#pf75ca8ec65)\" d=\"M 340.97 239.758125 \r\nL 344.013636 239.758125 \r\nL 344.013636 239.758125 \r\nL 340.97 239.758125 \r\nz\r\n\" style=\"fill:#1f77b4;\"/>\r\n   </g>\r\n   <g id=\"patch_98\">\r\n    <path clip-path=\"url(#pf75ca8ec65)\" d=\"M 344.013636 239.758125 \r\nL 347.057273 239.758125 \r\nL 347.057273 239.758125 \r\nL 344.013636 239.758125 \r\nz\r\n\" style=\"fill:#1f77b4;\"/>\r\n   </g>\r\n   <g id=\"patch_99\">\r\n    <path clip-path=\"url(#pf75ca8ec65)\" d=\"M 347.057273 239.758125 \r\nL 350.100909 239.758125 \r\nL 350.100909 239.758125 \r\nL 347.057273 239.758125 \r\nz\r\n\" style=\"fill:#1f77b4;\"/>\r\n   </g>\r\n   <g id=\"patch_100\">\r\n    <path clip-path=\"url(#pf75ca8ec65)\" d=\"M 350.100909 239.758125 \r\nL 353.144545 239.758125 \r\nL 353.144545 239.758125 \r\nL 350.100909 239.758125 \r\nz\r\n\" style=\"fill:#1f77b4;\"/>\r\n   </g>\r\n   <g id=\"patch_101\">\r\n    <path clip-path=\"url(#pf75ca8ec65)\" d=\"M 353.144545 239.758125 \r\nL 356.188182 239.758125 \r\nL 356.188182 239.758125 \r\nL 353.144545 239.758125 \r\nz\r\n\" style=\"fill:#1f77b4;\"/>\r\n   </g>\r\n   <g id=\"patch_102\">\r\n    <path clip-path=\"url(#pf75ca8ec65)\" d=\"M 356.188182 239.758125 \r\nL 359.231818 239.758125 \r\nL 359.231818 239.66625 \r\nL 356.188182 239.66625 \r\nz\r\n\" style=\"fill:#1f77b4;\"/>\r\n   </g>\r\n   <g id=\"patch_103\">\r\n    <path clip-path=\"url(#pf75ca8ec65)\" d=\"M 54.868182 239.758125 \r\nL 57.911818 239.758125 \r\nL 57.911818 32.672411 \r\nL 54.868182 32.672411 \r\nz\r\n\" style=\"fill:#ff7f0e;\"/>\r\n   </g>\r\n   <g id=\"patch_104\">\r\n    <path clip-path=\"url(#pf75ca8ec65)\" d=\"M 57.911818 239.758125 \r\nL 60.955455 239.758125 \r\nL 60.955455 185.919514 \r\nL 57.911818 185.919514 \r\nz\r\n\" style=\"fill:#ff7f0e;\"/>\r\n   </g>\r\n   <g id=\"patch_105\">\r\n    <path clip-path=\"url(#pf75ca8ec65)\" d=\"M 60.955455 239.758125 \r\nL 63.999091 239.758125 \r\nL 63.999091 168.922683 \r\nL 60.955455 168.922683 \r\nz\r\n\" style=\"fill:#ff7f0e;\"/>\r\n   </g>\r\n   <g id=\"patch_106\">\r\n    <path clip-path=\"url(#pf75ca8ec65)\" d=\"M 63.999091 239.758125 \r\nL 67.042727 239.758125 \r\nL 67.042727 170.760178 \r\nL 63.999091 170.760178 \r\nz\r\n\" style=\"fill:#ff7f0e;\"/>\r\n   </g>\r\n   <g id=\"patch_107\">\r\n    <path clip-path=\"url(#pf75ca8ec65)\" d=\"M 67.042727 239.758125 \r\nL 70.086364 239.758125 \r\nL 70.086364 182.336399 \r\nL 67.042727 182.336399 \r\nz\r\n\" style=\"fill:#ff7f0e;\"/>\r\n   </g>\r\n   <g id=\"patch_108\">\r\n    <path clip-path=\"url(#pf75ca8ec65)\" d=\"M 70.086364 239.758125 \r\nL 73.13 239.758125 \r\nL 73.13 156.70334 \r\nL 70.086364 156.70334 \r\nz\r\n\" style=\"fill:#ff7f0e;\"/>\r\n   </g>\r\n   <g id=\"patch_109\">\r\n    <path clip-path=\"url(#pf75ca8ec65)\" d=\"M 73.13 239.758125 \r\nL 76.173636 239.758125 \r\nL 76.173636 142.738376 \r\nL 73.13 142.738376 \r\nz\r\n\" style=\"fill:#ff7f0e;\"/>\r\n   </g>\r\n   <g id=\"patch_110\">\r\n    <path clip-path=\"url(#pf75ca8ec65)\" d=\"M 76.173636 239.758125 \r\nL 79.217273 239.758125 \r\nL 79.217273 157.622087 \r\nL 76.173636 157.622087 \r\nz\r\n\" style=\"fill:#ff7f0e;\"/>\r\n   </g>\r\n   <g id=\"patch_111\">\r\n    <path clip-path=\"url(#pf75ca8ec65)\" d=\"M 79.217273 239.758125 \r\nL 82.260909 239.758125 \r\nL 82.260909 156.152091 \r\nL 79.217273 156.152091 \r\nz\r\n\" style=\"fill:#ff7f0e;\"/>\r\n   </g>\r\n   <g id=\"patch_112\">\r\n    <path clip-path=\"url(#pf75ca8ec65)\" d=\"M 82.260909 239.758125 \r\nL 85.304545 239.758125 \r\nL 85.304545 209.990702 \r\nL 82.260909 209.990702 \r\nz\r\n\" style=\"fill:#ff7f0e;\"/>\r\n   </g>\r\n   <g id=\"patch_113\">\r\n    <path clip-path=\"url(#pf75ca8ec65)\" d=\"M 85.304545 239.758125 \r\nL 88.348182 239.758125 \r\nL 88.348182 207.234459 \r\nL 85.304545 207.234459 \r\nz\r\n\" style=\"fill:#ff7f0e;\"/>\r\n   </g>\r\n   <g id=\"patch_114\">\r\n    <path clip-path=\"url(#pf75ca8ec65)\" d=\"M 88.348182 239.758125 \r\nL 91.391818 239.758125 \r\nL 91.391818 212.83882 \r\nL 88.348182 212.83882 \r\nz\r\n\" style=\"fill:#ff7f0e;\"/>\r\n   </g>\r\n   <g id=\"patch_115\">\r\n    <path clip-path=\"url(#pf75ca8ec65)\" d=\"M 91.391818 239.758125 \r\nL 94.435455 239.758125 \r\nL 94.435455 214.125066 \r\nL 91.391818 214.125066 \r\nz\r\n\" style=\"fill:#ff7f0e;\"/>\r\n   </g>\r\n   <g id=\"patch_116\">\r\n    <path clip-path=\"url(#pf75ca8ec65)\" d=\"M 94.435455 239.758125 \r\nL 97.479091 239.758125 \r\nL 97.479091 218.167556 \r\nL 94.435455 218.167556 \r\nz\r\n\" style=\"fill:#ff7f0e;\"/>\r\n   </g>\r\n   <g id=\"patch_117\">\r\n    <path clip-path=\"url(#pf75ca8ec65)\" d=\"M 97.479091 239.758125 \r\nL 100.522727 239.758125 \r\nL 100.522727 218.351305 \r\nL 97.479091 218.351305 \r\nz\r\n\" style=\"fill:#ff7f0e;\"/>\r\n   </g>\r\n   <g id=\"patch_118\">\r\n    <path clip-path=\"url(#pf75ca8ec65)\" d=\"M 100.522727 239.758125 \r\nL 103.566364 239.758125 \r\nL 103.566364 221.566922 \r\nL 100.522727 221.566922 \r\nz\r\n\" style=\"fill:#ff7f0e;\"/>\r\n   </g>\r\n   <g id=\"patch_119\">\r\n    <path clip-path=\"url(#pf75ca8ec65)\" d=\"M 103.566364 239.758125 \r\nL 106.61 239.758125 \r\nL 106.61 202.181347 \r\nL 103.566364 202.181347 \r\nz\r\n\" style=\"fill:#ff7f0e;\"/>\r\n   </g>\r\n   <g id=\"patch_120\">\r\n    <path clip-path=\"url(#pf75ca8ec65)\" d=\"M 106.61 239.758125 \r\nL 109.653636 239.758125 \r\nL 109.653636 220.188801 \r\nL 106.61 220.188801 \r\nz\r\n\" style=\"fill:#ff7f0e;\"/>\r\n   </g>\r\n   <g id=\"patch_121\">\r\n    <path clip-path=\"url(#pf75ca8ec65)\" d=\"M 109.653636 239.758125 \r\nL 112.697273 239.758125 \r\nL 112.697273 219.821302 \r\nL 109.653636 219.821302 \r\nz\r\n\" style=\"fill:#ff7f0e;\"/>\r\n   </g>\r\n   <g id=\"patch_122\">\r\n    <path clip-path=\"url(#pf75ca8ec65)\" d=\"M 112.697273 239.758125 \r\nL 115.740909 239.758125 \r\nL 115.740909 220.464425 \r\nL 112.697273 220.464425 \r\nz\r\n\" style=\"fill:#ff7f0e;\"/>\r\n   </g>\r\n   <g id=\"patch_123\">\r\n    <path clip-path=\"url(#pf75ca8ec65)\" d=\"M 115.740909 239.758125 \r\nL 118.784545 239.758125 \r\nL 118.784545 219.453803 \r\nL 115.740909 219.453803 \r\nz\r\n\" style=\"fill:#ff7f0e;\"/>\r\n   </g>\r\n   <g id=\"patch_124\">\r\n    <path clip-path=\"url(#pf75ca8ec65)\" d=\"M 118.784545 239.758125 \r\nL 121.828182 239.758125 \r\nL 121.828182 219.270053 \r\nL 118.784545 219.270053 \r\nz\r\n\" style=\"fill:#ff7f0e;\"/>\r\n   </g>\r\n   <g id=\"patch_125\">\r\n    <path clip-path=\"url(#pf75ca8ec65)\" d=\"M 121.828182 239.758125 \r\nL 124.871818 239.758125 \r\nL 124.871818 220.280675 \r\nL 121.828182 220.280675 \r\nz\r\n\" style=\"fill:#ff7f0e;\"/>\r\n   </g>\r\n   <g id=\"patch_126\">\r\n    <path clip-path=\"url(#pf75ca8ec65)\" d=\"M 124.871818 239.758125 \r\nL 127.915455 239.758125 \r\nL 127.915455 221.199423 \r\nL 124.871818 221.199423 \r\nz\r\n\" style=\"fill:#ff7f0e;\"/>\r\n   </g>\r\n   <g id=\"patch_127\">\r\n    <path clip-path=\"url(#pf75ca8ec65)\" d=\"M 127.915455 239.758125 \r\nL 130.959091 239.758125 \r\nL 130.959091 199.976353 \r\nL 127.915455 199.976353 \r\nz\r\n\" style=\"fill:#ff7f0e;\"/>\r\n   </g>\r\n   <g id=\"patch_128\">\r\n    <path clip-path=\"url(#pf75ca8ec65)\" d=\"M 130.959091 239.758125 \r\nL 134.002727 239.758125 \r\nL 134.002727 221.934421 \r\nL 130.959091 221.934421 \r\nz\r\n\" style=\"fill:#ff7f0e;\"/>\r\n   </g>\r\n   <g id=\"patch_129\">\r\n    <path clip-path=\"url(#pf75ca8ec65)\" d=\"M 134.002727 239.758125 \r\nL 137.046364 239.758125 \r\nL 137.046364 220.5563 \r\nL 134.002727 220.5563 \r\nz\r\n\" style=\"fill:#ff7f0e;\"/>\r\n   </g>\r\n   <g id=\"patch_130\">\r\n    <path clip-path=\"url(#pf75ca8ec65)\" d=\"M 137.046364 239.758125 \r\nL 140.09 239.758125 \r\nL 140.09 222.669419 \r\nL 137.046364 222.669419 \r\nz\r\n\" style=\"fill:#ff7f0e;\"/>\r\n   </g>\r\n   <g id=\"patch_131\">\r\n    <path clip-path=\"url(#pf75ca8ec65)\" d=\"M 140.09 239.758125 \r\nL 143.133636 239.758125 \r\nL 143.133636 223.863791 \r\nL 140.09 223.863791 \r\nz\r\n\" style=\"fill:#ff7f0e;\"/>\r\n   </g>\r\n   <g id=\"patch_132\">\r\n    <path clip-path=\"url(#pf75ca8ec65)\" d=\"M 143.133636 239.758125 \r\nL 146.177273 239.758125 \r\nL 146.177273 225.517537 \r\nL 143.133636 225.517537 \r\nz\r\n\" style=\"fill:#ff7f0e;\"/>\r\n   </g>\r\n   <g id=\"patch_133\">\r\n    <path clip-path=\"url(#pf75ca8ec65)\" d=\"M 146.177273 239.758125 \r\nL 149.220909 239.758125 \r\nL 149.220909 227.355032 \r\nL 146.177273 227.355032 \r\nz\r\n\" style=\"fill:#ff7f0e;\"/>\r\n   </g>\r\n   <g id=\"patch_134\">\r\n    <path clip-path=\"url(#pf75ca8ec65)\" d=\"M 149.220909 239.758125 \r\nL 152.264545 239.758125 \r\nL 152.264545 228.365654 \r\nL 149.220909 228.365654 \r\nz\r\n\" style=\"fill:#ff7f0e;\"/>\r\n   </g>\r\n   <g id=\"patch_135\">\r\n    <path clip-path=\"url(#pf75ca8ec65)\" d=\"M 152.264545 239.758125 \r\nL 155.308182 239.758125 \r\nL 155.308182 230.386899 \r\nL 152.264545 230.386899 \r\nz\r\n\" style=\"fill:#ff7f0e;\"/>\r\n   </g>\r\n   <g id=\"patch_136\">\r\n    <path clip-path=\"url(#pf75ca8ec65)\" d=\"M 155.308182 239.758125 \r\nL 158.351818 239.758125 \r\nL 158.351818 220.740049 \r\nL 155.308182 220.740049 \r\nz\r\n\" style=\"fill:#ff7f0e;\"/>\r\n   </g>\r\n   <g id=\"patch_137\">\r\n    <path clip-path=\"url(#pf75ca8ec65)\" d=\"M 158.351818 239.758125 \r\nL 161.395455 239.758125 \r\nL 161.395455 232.408144 \r\nL 158.351818 232.408144 \r\nz\r\n\" style=\"fill:#ff7f0e;\"/>\r\n   </g>\r\n   <g id=\"patch_138\">\r\n    <path clip-path=\"url(#pf75ca8ec65)\" d=\"M 161.395455 239.758125 \r\nL 164.439091 239.758125 \r\nL 164.439091 233.143142 \r\nL 161.395455 233.143142 \r\nz\r\n\" style=\"fill:#ff7f0e;\"/>\r\n   </g>\r\n   <g id=\"patch_139\">\r\n    <path clip-path=\"url(#pf75ca8ec65)\" d=\"M 164.439091 239.758125 \r\nL 167.482727 239.758125 \r\nL 167.482727 233.87814 \r\nL 164.439091 233.87814 \r\nz\r\n\" style=\"fill:#ff7f0e;\"/>\r\n   </g>\r\n   <g id=\"patch_140\">\r\n    <path clip-path=\"url(#pf75ca8ec65)\" d=\"M 167.482727 239.758125 \r\nL 170.526364 239.758125 \r\nL 170.526364 234.980637 \r\nL 167.482727 234.980637 \r\nz\r\n\" style=\"fill:#ff7f0e;\"/>\r\n   </g>\r\n   <g id=\"patch_141\">\r\n    <path clip-path=\"url(#pf75ca8ec65)\" d=\"M 170.526364 239.758125 \r\nL 173.57 239.758125 \r\nL 173.57 235.623761 \r\nL 170.526364 235.623761 \r\nz\r\n\" style=\"fill:#ff7f0e;\"/>\r\n   </g>\r\n   <g id=\"patch_142\">\r\n    <path clip-path=\"url(#pf75ca8ec65)\" d=\"M 173.57 239.758125 \r\nL 176.613636 239.758125 \r\nL 176.613636 236.083135 \r\nL 173.57 236.083135 \r\nz\r\n\" style=\"fill:#ff7f0e;\"/>\r\n   </g>\r\n   <g id=\"patch_143\">\r\n    <path clip-path=\"url(#pf75ca8ec65)\" d=\"M 176.613636 239.758125 \r\nL 179.657273 239.758125 \r\nL 179.657273 237.277506 \r\nL 176.613636 237.277506 \r\nz\r\n\" style=\"fill:#ff7f0e;\"/>\r\n   </g>\r\n   <g id=\"patch_144\">\r\n    <path clip-path=\"url(#pf75ca8ec65)\" d=\"M 179.657273 239.758125 \r\nL 182.700909 239.758125 \r\nL 182.700909 236.175009 \r\nL 179.657273 236.175009 \r\nz\r\n\" style=\"fill:#ff7f0e;\"/>\r\n   </g>\r\n   <g id=\"patch_145\">\r\n    <path clip-path=\"url(#pf75ca8ec65)\" d=\"M 182.700909 239.758125 \r\nL 185.744545 239.758125 \r\nL 185.744545 238.563753 \r\nL 182.700909 238.563753 \r\nz\r\n\" style=\"fill:#ff7f0e;\"/>\r\n   </g>\r\n   <g id=\"patch_146\">\r\n    <path clip-path=\"url(#pf75ca8ec65)\" d=\"M 185.744545 239.758125 \r\nL 188.788182 239.758125 \r\nL 188.788182 238.380004 \r\nL 185.744545 238.380004 \r\nz\r\n\" style=\"fill:#ff7f0e;\"/>\r\n   </g>\r\n   <g id=\"patch_147\">\r\n    <path clip-path=\"url(#pf75ca8ec65)\" d=\"M 188.788182 239.758125 \r\nL 191.831818 239.758125 \r\nL 191.831818 238.839377 \r\nL 188.788182 238.839377 \r\nz\r\n\" style=\"fill:#ff7f0e;\"/>\r\n   </g>\r\n   <g id=\"patch_148\">\r\n    <path clip-path=\"url(#pf75ca8ec65)\" d=\"M 191.831818 239.758125 \r\nL 194.875455 239.758125 \r\nL 194.875455 238.747503 \r\nL 191.831818 238.747503 \r\nz\r\n\" style=\"fill:#ff7f0e;\"/>\r\n   </g>\r\n   <g id=\"patch_149\">\r\n    <path clip-path=\"url(#pf75ca8ec65)\" d=\"M 194.875455 239.758125 \r\nL 197.919091 239.758125 \r\nL 197.919091 239.482501 \r\nL 194.875455 239.482501 \r\nz\r\n\" style=\"fill:#ff7f0e;\"/>\r\n   </g>\r\n   <g id=\"patch_150\">\r\n    <path clip-path=\"url(#pf75ca8ec65)\" d=\"M 197.919091 239.758125 \r\nL 200.962727 239.758125 \r\nL 200.962727 239.390626 \r\nL 197.919091 239.390626 \r\nz\r\n\" style=\"fill:#ff7f0e;\"/>\r\n   </g>\r\n   <g id=\"patch_151\">\r\n    <path clip-path=\"url(#pf75ca8ec65)\" d=\"M 200.962727 239.758125 \r\nL 204.006364 239.758125 \r\nL 204.006364 239.298751 \r\nL 200.962727 239.298751 \r\nz\r\n\" style=\"fill:#ff7f0e;\"/>\r\n   </g>\r\n   <g id=\"patch_152\">\r\n    <path clip-path=\"url(#pf75ca8ec65)\" d=\"M 204.006364 239.758125 \r\nL 207.05 239.758125 \r\nL 207.05 239.390626 \r\nL 204.006364 239.390626 \r\nz\r\n\" style=\"fill:#ff7f0e;\"/>\r\n   </g>\r\n   <g id=\"patch_153\">\r\n    <path clip-path=\"url(#pf75ca8ec65)\" d=\"M 207.05 239.758125 \r\nL 210.093636 239.758125 \r\nL 210.093636 239.574375 \r\nL 207.05 239.574375 \r\nz\r\n\" style=\"fill:#ff7f0e;\"/>\r\n   </g>\r\n   <g id=\"patch_154\">\r\n    <path clip-path=\"url(#pf75ca8ec65)\" d=\"M 210.093636 239.758125 \r\nL 213.137273 239.758125 \r\nL 213.137273 239.574375 \r\nL 210.093636 239.574375 \r\nz\r\n\" style=\"fill:#ff7f0e;\"/>\r\n   </g>\r\n   <g id=\"patch_155\">\r\n    <path clip-path=\"url(#pf75ca8ec65)\" d=\"M 213.137273 239.758125 \r\nL 216.180909 239.758125 \r\nL 216.180909 239.574375 \r\nL 213.137273 239.574375 \r\nz\r\n\" style=\"fill:#ff7f0e;\"/>\r\n   </g>\r\n   <g id=\"patch_156\">\r\n    <path clip-path=\"url(#pf75ca8ec65)\" d=\"M 216.180909 239.758125 \r\nL 219.224545 239.758125 \r\nL 219.224545 239.758125 \r\nL 216.180909 239.758125 \r\nz\r\n\" style=\"fill:#ff7f0e;\"/>\r\n   </g>\r\n   <g id=\"patch_157\">\r\n    <path clip-path=\"url(#pf75ca8ec65)\" d=\"M 219.224545 239.758125 \r\nL 222.268182 239.758125 \r\nL 222.268182 239.574375 \r\nL 219.224545 239.574375 \r\nz\r\n\" style=\"fill:#ff7f0e;\"/>\r\n   </g>\r\n   <g id=\"patch_158\">\r\n    <path clip-path=\"url(#pf75ca8ec65)\" d=\"M 222.268182 239.758125 \r\nL 225.311818 239.758125 \r\nL 225.311818 239.758125 \r\nL 222.268182 239.758125 \r\nz\r\n\" style=\"fill:#ff7f0e;\"/>\r\n   </g>\r\n   <g id=\"patch_159\">\r\n    <path clip-path=\"url(#pf75ca8ec65)\" d=\"M 225.311818 239.758125 \r\nL 228.355455 239.758125 \r\nL 228.355455 239.758125 \r\nL 225.311818 239.758125 \r\nz\r\n\" style=\"fill:#ff7f0e;\"/>\r\n   </g>\r\n   <g id=\"patch_160\">\r\n    <path clip-path=\"url(#pf75ca8ec65)\" d=\"M 228.355455 239.758125 \r\nL 231.399091 239.758125 \r\nL 231.399091 239.758125 \r\nL 228.355455 239.758125 \r\nz\r\n\" style=\"fill:#ff7f0e;\"/>\r\n   </g>\r\n   <g id=\"patch_161\">\r\n    <path clip-path=\"url(#pf75ca8ec65)\" d=\"M 231.399091 239.758125 \r\nL 234.442727 239.758125 \r\nL 234.442727 239.66625 \r\nL 231.399091 239.66625 \r\nz\r\n\" style=\"fill:#ff7f0e;\"/>\r\n   </g>\r\n   <g id=\"patch_162\">\r\n    <path clip-path=\"url(#pf75ca8ec65)\" d=\"M 234.442727 239.758125 \r\nL 237.486364 239.758125 \r\nL 237.486364 239.758125 \r\nL 234.442727 239.758125 \r\nz\r\n\" style=\"fill:#ff7f0e;\"/>\r\n   </g>\r\n   <g id=\"patch_163\">\r\n    <path clip-path=\"url(#pf75ca8ec65)\" d=\"M 237.486364 239.758125 \r\nL 240.53 239.758125 \r\nL 240.53 239.758125 \r\nL 237.486364 239.758125 \r\nz\r\n\" style=\"fill:#ff7f0e;\"/>\r\n   </g>\r\n   <g id=\"patch_164\">\r\n    <path clip-path=\"url(#pf75ca8ec65)\" d=\"M 240.53 239.758125 \r\nL 243.573636 239.758125 \r\nL 243.573636 239.758125 \r\nL 240.53 239.758125 \r\nz\r\n\" style=\"fill:#ff7f0e;\"/>\r\n   </g>\r\n   <g id=\"patch_165\">\r\n    <path clip-path=\"url(#pf75ca8ec65)\" d=\"M 243.573636 239.758125 \r\nL 246.617273 239.758125 \r\nL 246.617273 239.758125 \r\nL 243.573636 239.758125 \r\nz\r\n\" style=\"fill:#ff7f0e;\"/>\r\n   </g>\r\n   <g id=\"patch_166\">\r\n    <path clip-path=\"url(#pf75ca8ec65)\" d=\"M 246.617273 239.758125 \r\nL 249.660909 239.758125 \r\nL 249.660909 239.758125 \r\nL 246.617273 239.758125 \r\nz\r\n\" style=\"fill:#ff7f0e;\"/>\r\n   </g>\r\n   <g id=\"patch_167\">\r\n    <path clip-path=\"url(#pf75ca8ec65)\" d=\"M 249.660909 239.758125 \r\nL 252.704545 239.758125 \r\nL 252.704545 239.758125 \r\nL 249.660909 239.758125 \r\nz\r\n\" style=\"fill:#ff7f0e;\"/>\r\n   </g>\r\n   <g id=\"patch_168\">\r\n    <path clip-path=\"url(#pf75ca8ec65)\" d=\"M 252.704545 239.758125 \r\nL 255.748182 239.758125 \r\nL 255.748182 239.758125 \r\nL 252.704545 239.758125 \r\nz\r\n\" style=\"fill:#ff7f0e;\"/>\r\n   </g>\r\n   <g id=\"patch_169\">\r\n    <path clip-path=\"url(#pf75ca8ec65)\" d=\"M 255.748182 239.758125 \r\nL 258.791818 239.758125 \r\nL 258.791818 239.758125 \r\nL 255.748182 239.758125 \r\nz\r\n\" style=\"fill:#ff7f0e;\"/>\r\n   </g>\r\n   <g id=\"patch_170\">\r\n    <path clip-path=\"url(#pf75ca8ec65)\" d=\"M 258.791818 239.758125 \r\nL 261.835455 239.758125 \r\nL 261.835455 239.758125 \r\nL 258.791818 239.758125 \r\nz\r\n\" style=\"fill:#ff7f0e;\"/>\r\n   </g>\r\n   <g id=\"patch_171\">\r\n    <path clip-path=\"url(#pf75ca8ec65)\" d=\"M 261.835455 239.758125 \r\nL 264.879091 239.758125 \r\nL 264.879091 239.66625 \r\nL 261.835455 239.66625 \r\nz\r\n\" style=\"fill:#ff7f0e;\"/>\r\n   </g>\r\n   <g id=\"patch_172\">\r\n    <path clip-path=\"url(#pf75ca8ec65)\" d=\"M 264.879091 239.758125 \r\nL 267.922727 239.758125 \r\nL 267.922727 239.758125 \r\nL 264.879091 239.758125 \r\nz\r\n\" style=\"fill:#ff7f0e;\"/>\r\n   </g>\r\n   <g id=\"patch_173\">\r\n    <path clip-path=\"url(#pf75ca8ec65)\" d=\"M 267.922727 239.758125 \r\nL 270.966364 239.758125 \r\nL 270.966364 239.758125 \r\nL 267.922727 239.758125 \r\nz\r\n\" style=\"fill:#ff7f0e;\"/>\r\n   </g>\r\n   <g id=\"patch_174\">\r\n    <path clip-path=\"url(#pf75ca8ec65)\" d=\"M 270.966364 239.758125 \r\nL 274.01 239.758125 \r\nL 274.01 239.758125 \r\nL 270.966364 239.758125 \r\nz\r\n\" style=\"fill:#ff7f0e;\"/>\r\n   </g>\r\n   <g id=\"patch_175\">\r\n    <path clip-path=\"url(#pf75ca8ec65)\" d=\"M 274.01 239.758125 \r\nL 277.053636 239.758125 \r\nL 277.053636 239.758125 \r\nL 274.01 239.758125 \r\nz\r\n\" style=\"fill:#ff7f0e;\"/>\r\n   </g>\r\n   <g id=\"patch_176\">\r\n    <path clip-path=\"url(#pf75ca8ec65)\" d=\"M 277.053636 239.758125 \r\nL 280.097273 239.758125 \r\nL 280.097273 239.758125 \r\nL 277.053636 239.758125 \r\nz\r\n\" style=\"fill:#ff7f0e;\"/>\r\n   </g>\r\n   <g id=\"patch_177\">\r\n    <path clip-path=\"url(#pf75ca8ec65)\" d=\"M 280.097273 239.758125 \r\nL 283.140909 239.758125 \r\nL 283.140909 239.758125 \r\nL 280.097273 239.758125 \r\nz\r\n\" style=\"fill:#ff7f0e;\"/>\r\n   </g>\r\n   <g id=\"patch_178\">\r\n    <path clip-path=\"url(#pf75ca8ec65)\" d=\"M 283.140909 239.758125 \r\nL 286.184545 239.758125 \r\nL 286.184545 239.758125 \r\nL 283.140909 239.758125 \r\nz\r\n\" style=\"fill:#ff7f0e;\"/>\r\n   </g>\r\n   <g id=\"patch_179\">\r\n    <path clip-path=\"url(#pf75ca8ec65)\" d=\"M 286.184545 239.758125 \r\nL 289.228182 239.758125 \r\nL 289.228182 239.758125 \r\nL 286.184545 239.758125 \r\nz\r\n\" style=\"fill:#ff7f0e;\"/>\r\n   </g>\r\n   <g id=\"patch_180\">\r\n    <path clip-path=\"url(#pf75ca8ec65)\" d=\"M 289.228182 239.758125 \r\nL 292.271818 239.758125 \r\nL 292.271818 239.758125 \r\nL 289.228182 239.758125 \r\nz\r\n\" style=\"fill:#ff7f0e;\"/>\r\n   </g>\r\n   <g id=\"patch_181\">\r\n    <path clip-path=\"url(#pf75ca8ec65)\" d=\"M 292.271818 239.758125 \r\nL 295.315455 239.758125 \r\nL 295.315455 239.758125 \r\nL 292.271818 239.758125 \r\nz\r\n\" style=\"fill:#ff7f0e;\"/>\r\n   </g>\r\n   <g id=\"patch_182\">\r\n    <path clip-path=\"url(#pf75ca8ec65)\" d=\"M 295.315455 239.758125 \r\nL 298.359091 239.758125 \r\nL 298.359091 239.758125 \r\nL 295.315455 239.758125 \r\nz\r\n\" style=\"fill:#ff7f0e;\"/>\r\n   </g>\r\n   <g id=\"patch_183\">\r\n    <path clip-path=\"url(#pf75ca8ec65)\" d=\"M 298.359091 239.758125 \r\nL 301.402727 239.758125 \r\nL 301.402727 239.758125 \r\nL 298.359091 239.758125 \r\nz\r\n\" style=\"fill:#ff7f0e;\"/>\r\n   </g>\r\n   <g id=\"patch_184\">\r\n    <path clip-path=\"url(#pf75ca8ec65)\" d=\"M 301.402727 239.758125 \r\nL 304.446364 239.758125 \r\nL 304.446364 239.758125 \r\nL 301.402727 239.758125 \r\nz\r\n\" style=\"fill:#ff7f0e;\"/>\r\n   </g>\r\n   <g id=\"patch_185\">\r\n    <path clip-path=\"url(#pf75ca8ec65)\" d=\"M 304.446364 239.758125 \r\nL 307.49 239.758125 \r\nL 307.49 239.758125 \r\nL 304.446364 239.758125 \r\nz\r\n\" style=\"fill:#ff7f0e;\"/>\r\n   </g>\r\n   <g id=\"patch_186\">\r\n    <path clip-path=\"url(#pf75ca8ec65)\" d=\"M 307.49 239.758125 \r\nL 310.533636 239.758125 \r\nL 310.533636 239.758125 \r\nL 307.49 239.758125 \r\nz\r\n\" style=\"fill:#ff7f0e;\"/>\r\n   </g>\r\n   <g id=\"patch_187\">\r\n    <path clip-path=\"url(#pf75ca8ec65)\" d=\"M 310.533636 239.758125 \r\nL 313.577273 239.758125 \r\nL 313.577273 239.758125 \r\nL 310.533636 239.758125 \r\nz\r\n\" style=\"fill:#ff7f0e;\"/>\r\n   </g>\r\n   <g id=\"patch_188\">\r\n    <path clip-path=\"url(#pf75ca8ec65)\" d=\"M 313.577273 239.758125 \r\nL 316.620909 239.758125 \r\nL 316.620909 239.758125 \r\nL 313.577273 239.758125 \r\nz\r\n\" style=\"fill:#ff7f0e;\"/>\r\n   </g>\r\n   <g id=\"patch_189\">\r\n    <path clip-path=\"url(#pf75ca8ec65)\" d=\"M 316.620909 239.758125 \r\nL 319.664545 239.758125 \r\nL 319.664545 239.758125 \r\nL 316.620909 239.758125 \r\nz\r\n\" style=\"fill:#ff7f0e;\"/>\r\n   </g>\r\n   <g id=\"patch_190\">\r\n    <path clip-path=\"url(#pf75ca8ec65)\" d=\"M 319.664545 239.758125 \r\nL 322.708182 239.758125 \r\nL 322.708182 239.758125 \r\nL 319.664545 239.758125 \r\nz\r\n\" style=\"fill:#ff7f0e;\"/>\r\n   </g>\r\n   <g id=\"patch_191\">\r\n    <path clip-path=\"url(#pf75ca8ec65)\" d=\"M 322.708182 239.758125 \r\nL 325.751818 239.758125 \r\nL 325.751818 239.758125 \r\nL 322.708182 239.758125 \r\nz\r\n\" style=\"fill:#ff7f0e;\"/>\r\n   </g>\r\n   <g id=\"patch_192\">\r\n    <path clip-path=\"url(#pf75ca8ec65)\" d=\"M 325.751818 239.758125 \r\nL 328.795455 239.758125 \r\nL 328.795455 239.758125 \r\nL 325.751818 239.758125 \r\nz\r\n\" style=\"fill:#ff7f0e;\"/>\r\n   </g>\r\n   <g id=\"patch_193\">\r\n    <path clip-path=\"url(#pf75ca8ec65)\" d=\"M 328.795455 239.758125 \r\nL 331.839091 239.758125 \r\nL 331.839091 239.758125 \r\nL 328.795455 239.758125 \r\nz\r\n\" style=\"fill:#ff7f0e;\"/>\r\n   </g>\r\n   <g id=\"patch_194\">\r\n    <path clip-path=\"url(#pf75ca8ec65)\" d=\"M 331.839091 239.758125 \r\nL 334.882727 239.758125 \r\nL 334.882727 239.758125 \r\nL 331.839091 239.758125 \r\nz\r\n\" style=\"fill:#ff7f0e;\"/>\r\n   </g>\r\n   <g id=\"patch_195\">\r\n    <path clip-path=\"url(#pf75ca8ec65)\" d=\"M 334.882727 239.758125 \r\nL 337.926364 239.758125 \r\nL 337.926364 239.758125 \r\nL 334.882727 239.758125 \r\nz\r\n\" style=\"fill:#ff7f0e;\"/>\r\n   </g>\r\n   <g id=\"patch_196\">\r\n    <path clip-path=\"url(#pf75ca8ec65)\" d=\"M 337.926364 239.758125 \r\nL 340.97 239.758125 \r\nL 340.97 239.758125 \r\nL 337.926364 239.758125 \r\nz\r\n\" style=\"fill:#ff7f0e;\"/>\r\n   </g>\r\n   <g id=\"patch_197\">\r\n    <path clip-path=\"url(#pf75ca8ec65)\" d=\"M 340.97 239.758125 \r\nL 344.013636 239.758125 \r\nL 344.013636 239.758125 \r\nL 340.97 239.758125 \r\nz\r\n\" style=\"fill:#ff7f0e;\"/>\r\n   </g>\r\n   <g id=\"patch_198\">\r\n    <path clip-path=\"url(#pf75ca8ec65)\" d=\"M 344.013636 239.758125 \r\nL 347.057273 239.758125 \r\nL 347.057273 239.758125 \r\nL 344.013636 239.758125 \r\nz\r\n\" style=\"fill:#ff7f0e;\"/>\r\n   </g>\r\n   <g id=\"patch_199\">\r\n    <path clip-path=\"url(#pf75ca8ec65)\" d=\"M 347.057273 239.758125 \r\nL 350.100909 239.758125 \r\nL 350.100909 239.758125 \r\nL 347.057273 239.758125 \r\nz\r\n\" style=\"fill:#ff7f0e;\"/>\r\n   </g>\r\n   <g id=\"patch_200\">\r\n    <path clip-path=\"url(#pf75ca8ec65)\" d=\"M 350.100909 239.758125 \r\nL 353.144545 239.758125 \r\nL 353.144545 239.758125 \r\nL 350.100909 239.758125 \r\nz\r\n\" style=\"fill:#ff7f0e;\"/>\r\n   </g>\r\n   <g id=\"patch_201\">\r\n    <path clip-path=\"url(#pf75ca8ec65)\" d=\"M 353.144545 239.758125 \r\nL 356.188182 239.758125 \r\nL 356.188182 239.758125 \r\nL 353.144545 239.758125 \r\nz\r\n\" style=\"fill:#ff7f0e;\"/>\r\n   </g>\r\n   <g id=\"patch_202\">\r\n    <path clip-path=\"url(#pf75ca8ec65)\" d=\"M 356.188182 239.758125 \r\nL 359.231818 239.758125 \r\nL 359.231818 239.66625 \r\nL 356.188182 239.66625 \r\nz\r\n\" style=\"fill:#ff7f0e;\"/>\r\n   </g>\r\n   <g id=\"matplotlib.axis_1\">\r\n    <g id=\"xtick_1\">\r\n     <g id=\"line2d_1\">\r\n      <path clip-path=\"url(#pf75ca8ec65)\" d=\"M 52.150649 239.758125 \r\nL 52.150649 22.318125 \r\n\" style=\"fill:none;stroke:#b0b0b0;stroke-linecap:square;stroke-width:0.8;\"/>\r\n     </g>\r\n     <g id=\"line2d_2\">\r\n      <defs>\r\n       <path d=\"M 0 0 \r\nL 0 3.5 \r\n\" id=\"ma8d87a3c29\" style=\"stroke:#000000;stroke-width:0.8;\"/>\r\n      </defs>\r\n      <g>\r\n       <use style=\"stroke:#000000;stroke-width:0.8;\" x=\"52.150649\" xlink:href=\"#ma8d87a3c29\" y=\"239.758125\"/>\r\n      </g>\r\n     </g>\r\n     <g id=\"text_1\">\r\n      <!-- 0 -->\r\n      <defs>\r\n       <path d=\"M 31.78125 66.40625 \r\nQ 24.171875 66.40625 20.328125 58.90625 \r\nQ 16.5 51.421875 16.5 36.375 \r\nQ 16.5 21.390625 20.328125 13.890625 \r\nQ 24.171875 6.390625 31.78125 6.390625 \r\nQ 39.453125 6.390625 43.28125 13.890625 \r\nQ 47.125 21.390625 47.125 36.375 \r\nQ 47.125 51.421875 43.28125 58.90625 \r\nQ 39.453125 66.40625 31.78125 66.40625 \r\nz\r\nM 31.78125 74.21875 \r\nQ 44.046875 74.21875 50.515625 64.515625 \r\nQ 56.984375 54.828125 56.984375 36.375 \r\nQ 56.984375 17.96875 50.515625 8.265625 \r\nQ 44.046875 -1.421875 31.78125 -1.421875 \r\nQ 19.53125 -1.421875 13.0625 8.265625 \r\nQ 6.59375 17.96875 6.59375 36.375 \r\nQ 6.59375 54.828125 13.0625 64.515625 \r\nQ 19.53125 74.21875 31.78125 74.21875 \r\nz\r\n\" id=\"DejaVuSans-48\"/>\r\n      </defs>\r\n      <g transform=\"translate(48.969399 254.356563)scale(0.1 -0.1)\">\r\n       <use xlink:href=\"#DejaVuSans-48\"/>\r\n      </g>\r\n     </g>\r\n    </g>\r\n    <g id=\"xtick_2\">\r\n     <g id=\"line2d_3\">\r\n      <path clip-path=\"url(#pf75ca8ec65)\" d=\"M 106.501299 239.758125 \r\nL 106.501299 22.318125 \r\n\" style=\"fill:none;stroke:#b0b0b0;stroke-linecap:square;stroke-width:0.8;\"/>\r\n     </g>\r\n     <g id=\"line2d_4\">\r\n      <g>\r\n       <use style=\"stroke:#000000;stroke-width:0.8;\" x=\"106.501299\" xlink:href=\"#ma8d87a3c29\" y=\"239.758125\"/>\r\n      </g>\r\n     </g>\r\n     <g id=\"text_2\">\r\n      <!-- 20 -->\r\n      <defs>\r\n       <path d=\"M 19.1875 8.296875 \r\nL 53.609375 8.296875 \r\nL 53.609375 0 \r\nL 7.328125 0 \r\nL 7.328125 8.296875 \r\nQ 12.9375 14.109375 22.625 23.890625 \r\nQ 32.328125 33.6875 34.8125 36.53125 \r\nQ 39.546875 41.84375 41.421875 45.53125 \r\nQ 43.3125 49.21875 43.3125 52.78125 \r\nQ 43.3125 58.59375 39.234375 62.25 \r\nQ 35.15625 65.921875 28.609375 65.921875 \r\nQ 23.96875 65.921875 18.8125 64.3125 \r\nQ 13.671875 62.703125 7.8125 59.421875 \r\nL 7.8125 69.390625 \r\nQ 13.765625 71.78125 18.9375 73 \r\nQ 24.125 74.21875 28.421875 74.21875 \r\nQ 39.75 74.21875 46.484375 68.546875 \r\nQ 53.21875 62.890625 53.21875 53.421875 \r\nQ 53.21875 48.921875 51.53125 44.890625 \r\nQ 49.859375 40.875 45.40625 35.40625 \r\nQ 44.1875 33.984375 37.640625 27.21875 \r\nQ 31.109375 20.453125 19.1875 8.296875 \r\nz\r\n\" id=\"DejaVuSans-50\"/>\r\n      </defs>\r\n      <g transform=\"translate(100.138799 254.356563)scale(0.1 -0.1)\">\r\n       <use xlink:href=\"#DejaVuSans-50\"/>\r\n       <use x=\"63.623047\" xlink:href=\"#DejaVuSans-48\"/>\r\n      </g>\r\n     </g>\r\n    </g>\r\n    <g id=\"xtick_3\">\r\n     <g id=\"line2d_5\">\r\n      <path clip-path=\"url(#pf75ca8ec65)\" d=\"M 160.851948 239.758125 \r\nL 160.851948 22.318125 \r\n\" style=\"fill:none;stroke:#b0b0b0;stroke-linecap:square;stroke-width:0.8;\"/>\r\n     </g>\r\n     <g id=\"line2d_6\">\r\n      <g>\r\n       <use style=\"stroke:#000000;stroke-width:0.8;\" x=\"160.851948\" xlink:href=\"#ma8d87a3c29\" y=\"239.758125\"/>\r\n      </g>\r\n     </g>\r\n     <g id=\"text_3\">\r\n      <!-- 40 -->\r\n      <defs>\r\n       <path d=\"M 37.796875 64.3125 \r\nL 12.890625 25.390625 \r\nL 37.796875 25.390625 \r\nz\r\nM 35.203125 72.90625 \r\nL 47.609375 72.90625 \r\nL 47.609375 25.390625 \r\nL 58.015625 25.390625 \r\nL 58.015625 17.1875 \r\nL 47.609375 17.1875 \r\nL 47.609375 0 \r\nL 37.796875 0 \r\nL 37.796875 17.1875 \r\nL 4.890625 17.1875 \r\nL 4.890625 26.703125 \r\nz\r\n\" id=\"DejaVuSans-52\"/>\r\n      </defs>\r\n      <g transform=\"translate(154.489448 254.356563)scale(0.1 -0.1)\">\r\n       <use xlink:href=\"#DejaVuSans-52\"/>\r\n       <use x=\"63.623047\" xlink:href=\"#DejaVuSans-48\"/>\r\n      </g>\r\n     </g>\r\n    </g>\r\n    <g id=\"xtick_4\">\r\n     <g id=\"line2d_7\">\r\n      <path clip-path=\"url(#pf75ca8ec65)\" d=\"M 215.202597 239.758125 \r\nL 215.202597 22.318125 \r\n\" style=\"fill:none;stroke:#b0b0b0;stroke-linecap:square;stroke-width:0.8;\"/>\r\n     </g>\r\n     <g id=\"line2d_8\">\r\n      <g>\r\n       <use style=\"stroke:#000000;stroke-width:0.8;\" x=\"215.202597\" xlink:href=\"#ma8d87a3c29\" y=\"239.758125\"/>\r\n      </g>\r\n     </g>\r\n     <g id=\"text_4\">\r\n      <!-- 60 -->\r\n      <defs>\r\n       <path d=\"M 33.015625 40.375 \r\nQ 26.375 40.375 22.484375 35.828125 \r\nQ 18.609375 31.296875 18.609375 23.390625 \r\nQ 18.609375 15.53125 22.484375 10.953125 \r\nQ 26.375 6.390625 33.015625 6.390625 \r\nQ 39.65625 6.390625 43.53125 10.953125 \r\nQ 47.40625 15.53125 47.40625 23.390625 \r\nQ 47.40625 31.296875 43.53125 35.828125 \r\nQ 39.65625 40.375 33.015625 40.375 \r\nz\r\nM 52.59375 71.296875 \r\nL 52.59375 62.3125 \r\nQ 48.875 64.0625 45.09375 64.984375 \r\nQ 41.3125 65.921875 37.59375 65.921875 \r\nQ 27.828125 65.921875 22.671875 59.328125 \r\nQ 17.53125 52.734375 16.796875 39.40625 \r\nQ 19.671875 43.65625 24.015625 45.921875 \r\nQ 28.375 48.1875 33.59375 48.1875 \r\nQ 44.578125 48.1875 50.953125 41.515625 \r\nQ 57.328125 34.859375 57.328125 23.390625 \r\nQ 57.328125 12.15625 50.6875 5.359375 \r\nQ 44.046875 -1.421875 33.015625 -1.421875 \r\nQ 20.359375 -1.421875 13.671875 8.265625 \r\nQ 6.984375 17.96875 6.984375 36.375 \r\nQ 6.984375 53.65625 15.1875 63.9375 \r\nQ 23.390625 74.21875 37.203125 74.21875 \r\nQ 40.921875 74.21875 44.703125 73.484375 \r\nQ 48.484375 72.75 52.59375 71.296875 \r\nz\r\n\" id=\"DejaVuSans-54\"/>\r\n      </defs>\r\n      <g transform=\"translate(208.840097 254.356563)scale(0.1 -0.1)\">\r\n       <use xlink:href=\"#DejaVuSans-54\"/>\r\n       <use x=\"63.623047\" xlink:href=\"#DejaVuSans-48\"/>\r\n      </g>\r\n     </g>\r\n    </g>\r\n    <g id=\"xtick_5\">\r\n     <g id=\"line2d_9\">\r\n      <path clip-path=\"url(#pf75ca8ec65)\" d=\"M 269.553247 239.758125 \r\nL 269.553247 22.318125 \r\n\" style=\"fill:none;stroke:#b0b0b0;stroke-linecap:square;stroke-width:0.8;\"/>\r\n     </g>\r\n     <g id=\"line2d_10\">\r\n      <g>\r\n       <use style=\"stroke:#000000;stroke-width:0.8;\" x=\"269.553247\" xlink:href=\"#ma8d87a3c29\" y=\"239.758125\"/>\r\n      </g>\r\n     </g>\r\n     <g id=\"text_5\">\r\n      <!-- 80 -->\r\n      <defs>\r\n       <path d=\"M 31.78125 34.625 \r\nQ 24.75 34.625 20.71875 30.859375 \r\nQ 16.703125 27.09375 16.703125 20.515625 \r\nQ 16.703125 13.921875 20.71875 10.15625 \r\nQ 24.75 6.390625 31.78125 6.390625 \r\nQ 38.8125 6.390625 42.859375 10.171875 \r\nQ 46.921875 13.96875 46.921875 20.515625 \r\nQ 46.921875 27.09375 42.890625 30.859375 \r\nQ 38.875 34.625 31.78125 34.625 \r\nz\r\nM 21.921875 38.8125 \r\nQ 15.578125 40.375 12.03125 44.71875 \r\nQ 8.5 49.078125 8.5 55.328125 \r\nQ 8.5 64.0625 14.71875 69.140625 \r\nQ 20.953125 74.21875 31.78125 74.21875 \r\nQ 42.671875 74.21875 48.875 69.140625 \r\nQ 55.078125 64.0625 55.078125 55.328125 \r\nQ 55.078125 49.078125 51.53125 44.71875 \r\nQ 48 40.375 41.703125 38.8125 \r\nQ 48.828125 37.15625 52.796875 32.3125 \r\nQ 56.78125 27.484375 56.78125 20.515625 \r\nQ 56.78125 9.90625 50.3125 4.234375 \r\nQ 43.84375 -1.421875 31.78125 -1.421875 \r\nQ 19.734375 -1.421875 13.25 4.234375 \r\nQ 6.78125 9.90625 6.78125 20.515625 \r\nQ 6.78125 27.484375 10.78125 32.3125 \r\nQ 14.796875 37.15625 21.921875 38.8125 \r\nz\r\nM 18.3125 54.390625 \r\nQ 18.3125 48.734375 21.84375 45.5625 \r\nQ 25.390625 42.390625 31.78125 42.390625 \r\nQ 38.140625 42.390625 41.71875 45.5625 \r\nQ 45.3125 48.734375 45.3125 54.390625 \r\nQ 45.3125 60.0625 41.71875 63.234375 \r\nQ 38.140625 66.40625 31.78125 66.40625 \r\nQ 25.390625 66.40625 21.84375 63.234375 \r\nQ 18.3125 60.0625 18.3125 54.390625 \r\nz\r\n\" id=\"DejaVuSans-56\"/>\r\n      </defs>\r\n      <g transform=\"translate(263.190747 254.356563)scale(0.1 -0.1)\">\r\n       <use xlink:href=\"#DejaVuSans-56\"/>\r\n       <use x=\"63.623047\" xlink:href=\"#DejaVuSans-48\"/>\r\n      </g>\r\n     </g>\r\n    </g>\r\n    <g id=\"xtick_6\">\r\n     <g id=\"line2d_11\">\r\n      <path clip-path=\"url(#pf75ca8ec65)\" d=\"M 323.903896 239.758125 \r\nL 323.903896 22.318125 \r\n\" style=\"fill:none;stroke:#b0b0b0;stroke-linecap:square;stroke-width:0.8;\"/>\r\n     </g>\r\n     <g id=\"line2d_12\">\r\n      <g>\r\n       <use style=\"stroke:#000000;stroke-width:0.8;\" x=\"323.903896\" xlink:href=\"#ma8d87a3c29\" y=\"239.758125\"/>\r\n      </g>\r\n     </g>\r\n     <g id=\"text_6\">\r\n      <!-- 100 -->\r\n      <defs>\r\n       <path d=\"M 12.40625 8.296875 \r\nL 28.515625 8.296875 \r\nL 28.515625 63.921875 \r\nL 10.984375 60.40625 \r\nL 10.984375 69.390625 \r\nL 28.421875 72.90625 \r\nL 38.28125 72.90625 \r\nL 38.28125 8.296875 \r\nL 54.390625 8.296875 \r\nL 54.390625 0 \r\nL 12.40625 0 \r\nz\r\n\" id=\"DejaVuSans-49\"/>\r\n      </defs>\r\n      <g transform=\"translate(314.360146 254.356563)scale(0.1 -0.1)\">\r\n       <use xlink:href=\"#DejaVuSans-49\"/>\r\n       <use x=\"63.623047\" xlink:href=\"#DejaVuSans-48\"/>\r\n       <use x=\"127.246094\" xlink:href=\"#DejaVuSans-48\"/>\r\n      </g>\r\n     </g>\r\n    </g>\r\n   </g>\r\n   <g id=\"matplotlib.axis_2\">\r\n    <g id=\"ytick_1\">\r\n     <g id=\"line2d_13\">\r\n      <path clip-path=\"url(#pf75ca8ec65)\" d=\"M 39.65 239.758125 \r\nL 374.45 239.758125 \r\n\" style=\"fill:none;stroke:#b0b0b0;stroke-linecap:square;stroke-width:0.8;\"/>\r\n     </g>\r\n     <g id=\"line2d_14\">\r\n      <defs>\r\n       <path d=\"M 0 0 \r\nL -3.5 0 \r\n\" id=\"m3e66570683\" style=\"stroke:#000000;stroke-width:0.8;\"/>\r\n      </defs>\r\n      <g>\r\n       <use style=\"stroke:#000000;stroke-width:0.8;\" x=\"39.65\" xlink:href=\"#m3e66570683\" y=\"239.758125\"/>\r\n      </g>\r\n     </g>\r\n     <g id=\"text_7\">\r\n      <!-- 0 -->\r\n      <g transform=\"translate(26.2875 243.557344)scale(0.1 -0.1)\">\r\n       <use xlink:href=\"#DejaVuSans-48\"/>\r\n      </g>\r\n     </g>\r\n    </g>\r\n    <g id=\"ytick_2\">\r\n     <g id=\"line2d_15\">\r\n      <path clip-path=\"url(#pf75ca8ec65)\" d=\"M 39.65 193.820744 \r\nL 374.45 193.820744 \r\n\" style=\"fill:none;stroke:#b0b0b0;stroke-linecap:square;stroke-width:0.8;\"/>\r\n     </g>\r\n     <g id=\"line2d_16\">\r\n      <g>\r\n       <use style=\"stroke:#000000;stroke-width:0.8;\" x=\"39.65\" xlink:href=\"#m3e66570683\" y=\"193.820744\"/>\r\n      </g>\r\n     </g>\r\n     <g id=\"text_8\">\r\n      <!-- 500 -->\r\n      <defs>\r\n       <path d=\"M 10.796875 72.90625 \r\nL 49.515625 72.90625 \r\nL 49.515625 64.59375 \r\nL 19.828125 64.59375 \r\nL 19.828125 46.734375 \r\nQ 21.96875 47.46875 24.109375 47.828125 \r\nQ 26.265625 48.1875 28.421875 48.1875 \r\nQ 40.625 48.1875 47.75 41.5 \r\nQ 54.890625 34.8125 54.890625 23.390625 \r\nQ 54.890625 11.625 47.5625 5.09375 \r\nQ 40.234375 -1.421875 26.90625 -1.421875 \r\nQ 22.3125 -1.421875 17.546875 -0.640625 \r\nQ 12.796875 0.140625 7.71875 1.703125 \r\nL 7.71875 11.625 \r\nQ 12.109375 9.234375 16.796875 8.0625 \r\nQ 21.484375 6.890625 26.703125 6.890625 \r\nQ 35.15625 6.890625 40.078125 11.328125 \r\nQ 45.015625 15.765625 45.015625 23.390625 \r\nQ 45.015625 31 40.078125 35.4375 \r\nQ 35.15625 39.890625 26.703125 39.890625 \r\nQ 22.75 39.890625 18.8125 39.015625 \r\nQ 14.890625 38.140625 10.796875 36.28125 \r\nz\r\n\" id=\"DejaVuSans-53\"/>\r\n      </defs>\r\n      <g transform=\"translate(13.5625 197.619963)scale(0.1 -0.1)\">\r\n       <use xlink:href=\"#DejaVuSans-53\"/>\r\n       <use x=\"63.623047\" xlink:href=\"#DejaVuSans-48\"/>\r\n       <use x=\"127.246094\" xlink:href=\"#DejaVuSans-48\"/>\r\n      </g>\r\n     </g>\r\n    </g>\r\n    <g id=\"ytick_3\">\r\n     <g id=\"line2d_17\">\r\n      <path clip-path=\"url(#pf75ca8ec65)\" d=\"M 39.65 147.883363 \r\nL 374.45 147.883363 \r\n\" style=\"fill:none;stroke:#b0b0b0;stroke-linecap:square;stroke-width:0.8;\"/>\r\n     </g>\r\n     <g id=\"line2d_18\">\r\n      <g>\r\n       <use style=\"stroke:#000000;stroke-width:0.8;\" x=\"39.65\" xlink:href=\"#m3e66570683\" y=\"147.883363\"/>\r\n      </g>\r\n     </g>\r\n     <g id=\"text_9\">\r\n      <!-- 1000 -->\r\n      <g transform=\"translate(7.2 151.682581)scale(0.1 -0.1)\">\r\n       <use xlink:href=\"#DejaVuSans-49\"/>\r\n       <use x=\"63.623047\" xlink:href=\"#DejaVuSans-48\"/>\r\n       <use x=\"127.246094\" xlink:href=\"#DejaVuSans-48\"/>\r\n       <use x=\"190.869141\" xlink:href=\"#DejaVuSans-48\"/>\r\n      </g>\r\n     </g>\r\n    </g>\r\n    <g id=\"ytick_4\">\r\n     <g id=\"line2d_19\">\r\n      <path clip-path=\"url(#pf75ca8ec65)\" d=\"M 39.65 101.945982 \r\nL 374.45 101.945982 \r\n\" style=\"fill:none;stroke:#b0b0b0;stroke-linecap:square;stroke-width:0.8;\"/>\r\n     </g>\r\n     <g id=\"line2d_20\">\r\n      <g>\r\n       <use style=\"stroke:#000000;stroke-width:0.8;\" x=\"39.65\" xlink:href=\"#m3e66570683\" y=\"101.945982\"/>\r\n      </g>\r\n     </g>\r\n     <g id=\"text_10\">\r\n      <!-- 1500 -->\r\n      <g transform=\"translate(7.2 105.7452)scale(0.1 -0.1)\">\r\n       <use xlink:href=\"#DejaVuSans-49\"/>\r\n       <use x=\"63.623047\" xlink:href=\"#DejaVuSans-53\"/>\r\n       <use x=\"127.246094\" xlink:href=\"#DejaVuSans-48\"/>\r\n       <use x=\"190.869141\" xlink:href=\"#DejaVuSans-48\"/>\r\n      </g>\r\n     </g>\r\n    </g>\r\n    <g id=\"ytick_5\">\r\n     <g id=\"line2d_21\">\r\n      <path clip-path=\"url(#pf75ca8ec65)\" d=\"M 39.65 56.0086 \r\nL 374.45 56.0086 \r\n\" style=\"fill:none;stroke:#b0b0b0;stroke-linecap:square;stroke-width:0.8;\"/>\r\n     </g>\r\n     <g id=\"line2d_22\">\r\n      <g>\r\n       <use style=\"stroke:#000000;stroke-width:0.8;\" x=\"39.65\" xlink:href=\"#m3e66570683\" y=\"56.0086\"/>\r\n      </g>\r\n     </g>\r\n     <g id=\"text_11\">\r\n      <!-- 2000 -->\r\n      <g transform=\"translate(7.2 59.807819)scale(0.1 -0.1)\">\r\n       <use xlink:href=\"#DejaVuSans-50\"/>\r\n       <use x=\"63.623047\" xlink:href=\"#DejaVuSans-48\"/>\r\n       <use x=\"127.246094\" xlink:href=\"#DejaVuSans-48\"/>\r\n       <use x=\"190.869141\" xlink:href=\"#DejaVuSans-48\"/>\r\n      </g>\r\n     </g>\r\n    </g>\r\n   </g>\r\n   <g id=\"patch_203\">\r\n    <path d=\"M 39.65 239.758125 \r\nL 39.65 22.318125 \r\n\" style=\"fill:none;stroke:#000000;stroke-linecap:square;stroke-linejoin:miter;stroke-width:0.8;\"/>\r\n   </g>\r\n   <g id=\"patch_204\">\r\n    <path d=\"M 374.45 239.758125 \r\nL 374.45 22.318125 \r\n\" style=\"fill:none;stroke:#000000;stroke-linecap:square;stroke-linejoin:miter;stroke-width:0.8;\"/>\r\n   </g>\r\n   <g id=\"patch_205\">\r\n    <path d=\"M 39.65 239.758125 \r\nL 374.45 239.758125 \r\n\" style=\"fill:none;stroke:#000000;stroke-linecap:square;stroke-linejoin:miter;stroke-width:0.8;\"/>\r\n   </g>\r\n   <g id=\"patch_206\">\r\n    <path d=\"M 39.65 22.318125 \r\nL 374.45 22.318125 \r\n\" style=\"fill:none;stroke:#000000;stroke-linecap:square;stroke-linejoin:miter;stroke-width:0.8;\"/>\r\n   </g>\r\n   <g id=\"text_12\">\r\n    <!-- len -->\r\n    <defs>\r\n     <path d=\"M 9.421875 75.984375 \r\nL 18.40625 75.984375 \r\nL 18.40625 0 \r\nL 9.421875 0 \r\nz\r\n\" id=\"DejaVuSans-108\"/>\r\n     <path d=\"M 56.203125 29.59375 \r\nL 56.203125 25.203125 \r\nL 14.890625 25.203125 \r\nQ 15.484375 15.921875 20.484375 11.0625 \r\nQ 25.484375 6.203125 34.421875 6.203125 \r\nQ 39.59375 6.203125 44.453125 7.46875 \r\nQ 49.3125 8.734375 54.109375 11.28125 \r\nL 54.109375 2.78125 \r\nQ 49.265625 0.734375 44.1875 -0.34375 \r\nQ 39.109375 -1.421875 33.890625 -1.421875 \r\nQ 20.796875 -1.421875 13.15625 6.1875 \r\nQ 5.515625 13.8125 5.515625 26.8125 \r\nQ 5.515625 40.234375 12.765625 48.109375 \r\nQ 20.015625 56 32.328125 56 \r\nQ 43.359375 56 49.78125 48.890625 \r\nQ 56.203125 41.796875 56.203125 29.59375 \r\nz\r\nM 47.21875 32.234375 \r\nQ 47.125 39.59375 43.09375 43.984375 \r\nQ 39.0625 48.390625 32.421875 48.390625 \r\nQ 24.90625 48.390625 20.390625 44.140625 \r\nQ 15.875 39.890625 15.1875 32.171875 \r\nz\r\n\" id=\"DejaVuSans-101\"/>\r\n     <path d=\"M 54.890625 33.015625 \r\nL 54.890625 0 \r\nL 45.90625 0 \r\nL 45.90625 32.71875 \r\nQ 45.90625 40.484375 42.875 44.328125 \r\nQ 39.84375 48.1875 33.796875 48.1875 \r\nQ 26.515625 48.1875 22.3125 43.546875 \r\nQ 18.109375 38.921875 18.109375 30.90625 \r\nL 18.109375 0 \r\nL 9.078125 0 \r\nL 9.078125 54.6875 \r\nL 18.109375 54.6875 \r\nL 18.109375 46.1875 \r\nQ 21.34375 51.125 25.703125 53.5625 \r\nQ 30.078125 56 35.796875 56 \r\nQ 45.21875 56 50.046875 50.171875 \r\nQ 54.890625 44.34375 54.890625 33.015625 \r\nz\r\n\" id=\"DejaVuSans-110\"/>\r\n    </defs>\r\n    <g transform=\"translate(197.88875 16.318125)scale(0.12 -0.12)\">\r\n     <use xlink:href=\"#DejaVuSans-108\"/>\r\n     <use x=\"27.783203\" xlink:href=\"#DejaVuSans-101\"/>\r\n     <use x=\"89.306641\" xlink:href=\"#DejaVuSans-110\"/>\r\n    </g>\r\n   </g>\r\n  </g>\r\n </g>\r\n <defs>\r\n  <clipPath id=\"pf75ca8ec65\">\r\n   <rect height=\"217.44\" width=\"334.8\" x=\"39.65\" y=\"22.318125\"/>\r\n  </clipPath>\r\n </defs>\r\n</svg>\r\n",
      "image/png": "[encoded data removed]"
     },
     "metadata": {
      "needs_background": "light"
     }
    }
   ],
   "source": [
    "data.hist(bins=100)\n",
    "data['len'].hist(bins=100)"
   ]
  },
  {
   "cell_type": "code",
   "execution_count": 17,
   "metadata": {},
   "outputs": [
    {
     "output_type": "execute_result",
     "data": {
      "text/plain": "41"
     },
     "metadata": {},
     "execution_count": 17
    }
   ],
   "source": [
    "# Keep a large percentage of reviews completely and chop of the remainig reviews off.\n",
    "import numpy as np\n",
    "time_steps = int(np.quantile(data['len'],0.975))\n",
    "time_steps"
   ]
  },
  {
   "cell_type": "markdown",
   "metadata": {},
   "source": [
    "# Build Dictionaries"
   ]
  },
  {
   "cell_type": "code",
   "execution_count": 18,
   "metadata": {},
   "outputs": [],
   "source": [
    "#Text Preprocessing\n",
    "# Lower string\n",
    "data['sentence'] = data['sentence'].str.lower()"
   ]
  },
  {
   "cell_type": "markdown",
   "metadata": {},
   "source": [
    "## Tokenize\n",
    "\n",
    "Do not tokenize here since that may lead to more tokens than labels in a sentence. \n"
   ]
  },
  {
   "cell_type": "code",
   "execution_count": 19,
   "metadata": {},
   "outputs": [],
   "source": [
    "# import nltk\n",
    "# from nltk.tokenize import word_tokenize"
   ]
  },
  {
   "cell_type": "code",
   "execution_count": 20,
   "metadata": {},
   "outputs": [],
   "source": [
    "# df_ = pd.DataFrame(columns=data.columns)\n",
    "\n",
    "# for index, row in data.iterrows():\n",
    "#     word_tokens = word_tokenize(row['sentence'])\n",
    "#     #filtered_sentence = [w for w in word_tokens if not w in stopwords.words('english')]\n",
    "#     filtered_sentence = [w for w in word_tokens]\n",
    "#     df_ = df_.append({\"NER\":  row['NER'], \"sentence\": \" \".join(filtered_sentence[0:])}, ignore_index=True)\n",
    "\n",
    "# data = df_"
   ]
  },
  {
   "cell_type": "code",
   "execution_count": 21,
   "metadata": {},
   "outputs": [],
   "source": [
    "# data.head()"
   ]
  },
  {
   "cell_type": "code",
   "execution_count": 22,
   "metadata": {
    "tags": [
     "outputPrepend",
     "outputPrepend",
     "outputPrepend",
     "outputPrepend",
     "outputPrepend",
     "outputPrepend",
     "outputPrepend",
     "outputPrepend",
     "outputPrepend",
     "outputPrepend",
     "outputPrepend",
     "outputPrepend",
     "outputPrepend",
     "outputPrepend",
     "outputPrepend",
     "outputPrepend",
     "outputPrepend",
     "outputPrepend",
     "outputPrepend",
     "outputPrepend",
     "outputPrepend",
     "outputPrepend",
     "outputPrepend",
     "outputPrepend",
     "outputPrepend"
    ]
   },
   "outputs": [],
   "source": [
    "# for index, row in data.iterrows():\n",
    "#     if len(data.iloc[index]['sentence'].split()) != len(data.iloc[index]['NER'].split()):\n",
    "#         print(f\"Index {index} did not match\")\n",
    "#         break"
   ]
  },
  {
   "cell_type": "code",
   "execution_count": 23,
   "metadata": {},
   "outputs": [],
   "source": [
    "# print(len(data.iloc[66]['sentence'].split()))\n",
    "# print(len(data.iloc[66]['NER'].split()))"
   ]
  },
  {
   "cell_type": "code",
   "execution_count": 24,
   "metadata": {},
   "outputs": [],
   "source": [
    "from sklearn.model_selection import train_test_split"
   ]
  },
  {
   "cell_type": "code",
   "execution_count": 25,
   "metadata": {},
   "outputs": [
    {
     "output_type": "stream",
     "name": "stdout",
     "text": "Number of samples: X_train: 11989, y_train: 11989\nNumber of samples: X_test: 2998, y_test: 2998\n"
    }
   ],
   "source": [
    "X_train, X_test, y_train, y_test = train_test_split(\n",
    "    data['sentence'].values.astype('U'),\n",
    "    data['NER'],  # .values.astype('int32'),\n",
    "    test_size=0.20,\n",
    "    random_state=42\n",
    ")\n",
    "\n",
    "print(f\"Number of samples: X_train: {len(X_train)}, y_train: {len(y_train)}\")\n",
    "print(f\"Number of samples: X_test: {len(X_test)}, y_test: {len(y_test)}\")"
   ]
  },
  {
   "cell_type": "markdown",
   "metadata": {},
   "source": [
    "## Vocabulary"
   ]
  },
  {
   "cell_type": "code",
   "execution_count": 26,
   "metadata": {},
   "outputs": [],
   "source": [
    "corpus = []\n",
    "for _, row in enumerate(X_train):\n",
    "  corpus = corpus + row.split(\" \")"
   ]
  },
  {
   "cell_type": "code",
   "execution_count": 27,
   "metadata": {},
   "outputs": [
    {
     "output_type": "execute_result",
     "data": {
      "text/plain": "array(['wednesday , august 28th schedule', 'toronto 58 69 .457 15'],\n      dtype='<U512')"
     },
     "metadata": {},
     "execution_count": 27
    }
   ],
   "source": [
    "X_train[:2]"
   ]
  },
  {
   "cell_type": "code",
   "execution_count": 28,
   "metadata": {},
   "outputs": [
    {
     "output_type": "stream",
     "name": "stdout",
     "text": "['wednesday', ',', 'august', '28th', 'schedule', 'toronto', '58', '69', '.457', '15', '-docstart-', 'two', 'key', 'players', 'left']\n"
    }
   ],
   "source": [
    "print(corpus[:15])"
   ]
  },
  {
   "cell_type": "code",
   "execution_count": 29,
   "metadata": {},
   "outputs": [
    {
     "output_type": "stream",
     "name": "stdout",
     "text": "[('the', 6624), ('.', 5848), (',', 5812), ('of', 3062), ('in', 2876), ('to', 2721), ('a', 2529), (')', 2315), ('(', 2314), ('and', 2279), ('\"', 1755), ('on', 1654), ('said', 1473), (\"'s\", 1248), ('for', 1171), ('1', 1125), ('-', 1021), ('at', 921), ('was', 870), ('2', 781)]\n['the', '.', ',', 'of', 'in', 'to', 'a', ')', '(', 'and', '\"', 'on', 'said', \"'s\", 'for', '1', '-', 'at', 'was', '2']\n"
    }
   ],
   "source": [
    "# Get only words that have occured more than a certain threshold to remove noise, spelling mistakes and possible tokenization errors (if done).\n",
    "fdist = nltk.FreqDist(corpus)\n",
    "print(fdist.most_common()[:20])\n",
    "vocab = [word for word, count in fdist.most_common() if count >= 1]\n",
    "print(vocab[:20])"
   ]
  },
  {
   "cell_type": "code",
   "execution_count": 30,
   "metadata": {},
   "outputs": [
    {
     "output_type": "execute_result",
     "data": {
      "text/plain": "18804"
     },
     "metadata": {},
     "execution_count": 30
    }
   ],
   "source": [
    "len(vocab)"
   ]
  },
  {
   "cell_type": "markdown",
   "metadata": {},
   "source": [
    "### Encoding and Decoding Dictionary"
   ]
  },
  {
   "cell_type": "code",
   "execution_count": 31,
   "metadata": {},
   "outputs": [],
   "source": [
    "word_index = {}\n",
    "word_index[\"<PAD>\"] = 0\n",
    "word_index[\"<START>\"] = 1\n",
    "word_index[\"<UNK>\"] = 2\n",
    "for index, word in enumerate(vocab):\n",
    "  word_index[word] = index+3"
   ]
  },
  {
   "cell_type": "code",
   "execution_count": 32,
   "metadata": {},
   "outputs": [
    {
     "output_type": "execute_result",
     "data": {
      "text/plain": "[(0, '<PAD>'),\n (1, '<START>'),\n (2, '<UNK>'),\n (3, 'the'),\n (4, '.'),\n (5, ','),\n (6, 'of'),\n (7, 'in'),\n (8, 'to'),\n (9, 'a')]"
     },
     "metadata": {},
     "execution_count": 32
    }
   ],
   "source": [
    "reverse_word_index = dict([(value, key) for (key, value) in word_index.items()])\n",
    "[(i, reverse_word_index.get(i)) for i in np.arange(10)]"
   ]
  },
  {
   "cell_type": "code",
   "execution_count": 33,
   "metadata": {},
   "outputs": [
    {
     "output_type": "execute_result",
     "data": {
      "text/plain": "18807"
     },
     "metadata": {},
     "execution_count": 33
    }
   ],
   "source": [
    "vocabulary_size = len(word_index.keys())\n",
    "vocabulary_size"
   ]
  },
  {
   "cell_type": "code",
   "execution_count": 34,
   "metadata": {},
   "outputs": [],
   "source": [
    "def encode(plain_text: str, word2index: Dict[str, int]) -> List[int]:\n",
    "  \"\"\"\n",
    "  Encodes the plain text as per the word2index doctionary\n",
    "  :param plain_text: The text to be encoded\n",
    "  :param word2index: The Encoder dictionary\n",
    "  \"\"\"\n",
    "  return [word2index[token] if token in word2index.keys() else word2index[\"<UNK>\"] for token in plain_text.split(\" \")]\n",
    "\n",
    "def decode(encoded_text, index2word: Dict[int, str]):\n",
    "  \"\"\"\n",
    "  Decodes the encoded text as per the index2word doctionary\n",
    "  :param encoded_text: The encoded text that is to be decoded\n",
    "  :param index2word: The decoder dictionary\n",
    "  \"\"\"\n",
    "  return ' '.join([index2word.get(i, '?') for i in encoded_text])"
   ]
  },
  {
   "cell_type": "code",
   "execution_count": 35,
   "metadata": {},
   "outputs": [],
   "source": [
    "def encode_decode_check(original: str, word2index: Dict[str, int], index2word: Dict[int, str]):\n",
    "  \"\"\"\n",
    "  :param original: The text to be checked for encoding and decoding\n",
    "  :param word2index: The Encoder dictionary\n",
    "  :param index2word: The decoder dictionary\n",
    "  \"\"\"\n",
    "  print(\"\\n\")\n",
    "  print(f\"Original: {original}\")\n",
    "  encoded = encode(original, word2index)\n",
    "  print(f\"Encoded: {encoded}\")\n",
    "  decoded = decode(encoded, index2word)\n",
    "  print(f\"Decoded: {decoded}\")\n",
    "  same = decoded == original\n",
    "  print(f\"Decoded = Original: {same}\")"
   ]
  },
  {
   "cell_type": "markdown",
   "metadata": {},
   "source": [
    "**Observations:**\n",
    "\n",
    "Train Reviews and test reviews have UNK tokens introduced for words not in the vocabulary, but apart from this, they match up."
   ]
  },
  {
   "cell_type": "code",
   "execution_count": 36,
   "metadata": {},
   "outputs": [
    {
     "output_type": "stream",
     "name": "stdout",
     "text": "\n\nOriginal: second test : headingley - drawn\nEncoded: [83, 438, 32, 2824, 19, 448]\nDecoded: second test : headingley - drawn\nDecoded = Original: True\n\n\nOriginal: the spokesman peter lerner said he knew nothing about soldiers having stolen anything from the palestinians .\nEncoded: [3, 186, 820, 13606, 15, 27, 2674, 1450, 96, 1102, 966, 13607, 1880, 30, 3, 1605, 4]\nDecoded: the spokesman peter lerner said he knew nothing about soldiers having stolen anything from the palestinians .\nDecoded = Original: True\n\n\nOriginal: -- jakarta newsroom +6221 384-6364\nEncoded: [58, 1213, 136, 11941, 11942]\nDecoded: -- jakarta newsroom +6221 384-6364\nDecoded = Original: True\n\n\nOriginal: -docstart-\nEncoded: [23]\nDecoded: -docstart-\nDecoded = Original: True\n\n\nOriginal: ventura , calif. 1996-08-28\nEncoded: [16254, 5, 4598, 106]\nDecoded: ventura , calif. 1996-08-28\nDecoded = Original: True\n"
    }
   ],
   "source": [
    "random_train_data = X_train[np.random.choice(len(X_train), 5)]\n",
    "random_train_data\n",
    "\n",
    "for data_row in random_train_data:\n",
    "  encode_decode_check(data_row, word2index=word_index, index2word=reverse_word_index)"
   ]
  },
  {
   "cell_type": "code",
   "execution_count": 37,
   "metadata": {},
   "outputs": [
    {
     "output_type": "stream",
     "name": "stdout",
     "text": "\n\nOriginal: \" the biggest thing was my fastball , i was able to rotate it pretty good , \" foster said . \"\nEncoded: [13, 3, 1911, 2708, 21, 479, 2, 5, 74, 21, 876, 8, 2, 28, 5474, 451, 5, 13, 11228, 15, 4, 13]\nDecoded: \" the biggest thing was my <UNK> , i was able to <UNK> it pretty good , \" foster said . \"\nDecoded = Original: False\n\n\nOriginal: her reward was the passage in 1993 of the \" brady bill \" which requires a mandatory five-day waiting period for purchase of handguns and also mandates background checks for would-be gun purchasers .\nEncoded: [108, 6735, 21, 3, 8686, 7, 1288, 6, 3, 13, 1211, 595, 13, 61, 14190, 9, 2, 2, 3199, 650, 17, 1902, 6, 2, 12, 85, 2, 8508, 15718, 17, 17175, 2659, 2, 4]\nDecoded: her reward was the passage in 1993 of the \" brady bill \" which requires a <UNK> <UNK> waiting period for purchase of <UNK> and also <UNK> background checks for would-be gun <UNK> .\nDecoded = Original: False\n\n\nOriginal: 7. jon drummond ( u.s. ) 10.16\nEncoded: [404, 4247, 7014, 11, 53, 10, 2]\nDecoded: 7. jon drummond ( u.s. ) <UNK>\nDecoded = Original: False\n\n\nOriginal: manila 1996-08-28\nEncoded: [4504, 106]\nDecoded: manila 1996-08-28\nDecoded = Original: True\n\n\nOriginal: \" this is not true .\nEncoded: [13, 65, 33, 37, 3696, 4]\nDecoded: \" this is not true .\nDecoded = Original: True\n"
    }
   ],
   "source": [
    "random_test_data = X_test[np.random.choice(len(X_test), 5)]\n",
    "random_test_data\n",
    "\n",
    "for data_row in random_test_data:\n",
    "  encode_decode_check(data_row, word2index=word_index, index2word=reverse_word_index)"
   ]
  },
  {
   "cell_type": "code",
   "execution_count": 38,
   "metadata": {},
   "outputs": [],
   "source": [
    "X_train_encoded = [encode(data_row, word2index=word_index) for data_row in X_train]\n",
    "X_test_encoded = [encode(data_row, word2index=word_index) for data_row in X_test]"
   ]
  },
  {
   "cell_type": "code",
   "execution_count": 39,
   "metadata": {},
   "outputs": [
    {
     "output_type": "stream",
     "name": "stdout",
     "text": "['wednesday , august 28th schedule' 'toronto 58 69 .457 15']\n[[75, 5, 163, 3243, 944], [481, 900, 227, 3901, 152]]\n"
    }
   ],
   "source": [
    "print(X_train[:2])\n",
    "print(X_train_encoded[:2])"
   ]
  },
  {
   "cell_type": "code",
   "execution_count": 40,
   "metadata": {},
   "outputs": [
    {
     "output_type": "stream",
     "name": "stdout",
     "text": "['press digest - sri lankan newspapers - august 27 .'\n \"the spla has fought khartoum 's government forces in the south since 1983 for greater autonomy or independence of the mainly christian and animist region from the moslem , arabised north .\"]\n[[382, 1218, 19, 419, 2324, 1604, 19, 163, 702, 4], [3, 3021, 36, 2768, 1545, 16, 77, 551, 7, 3, 118, 164, 8273, 17, 4873, 3947, 97, 788, 6, 3, 4746, 1978, 12, 2, 631, 30, 3, 936, 5, 2, 306, 4]]\n"
    }
   ],
   "source": [
    "print(X_test[:2])\n",
    "print(X_test_encoded[:2])"
   ]
  },
  {
   "cell_type": "markdown",
   "metadata": {},
   "source": [
    "### Labels"
   ]
  },
  {
   "cell_type": "code",
   "execution_count": 41,
   "metadata": {},
   "outputs": [],
   "source": [
    "labels = []\n",
    "for _, row in enumerate(data['NER'].values):\n",
    "  labels = labels + row.split(\" \")"
   ]
  },
  {
   "cell_type": "code",
   "execution_count": 42,
   "metadata": {},
   "outputs": [
    {
     "output_type": "stream",
     "name": "stdout",
     "text": "['O', 'B-ORG', 'O', 'B-MISC', 'O', 'O', 'O', 'B-MISC', 'O', 'O', 'B-PER', 'I-PER', 'B-LOC', 'O', 'O']\n"
    }
   ],
   "source": [
    "print(labels[:15])"
   ]
  },
  {
   "cell_type": "code",
   "execution_count": 43,
   "metadata": {},
   "outputs": [
    {
     "output_type": "stream",
     "name": "stdout",
     "text": "[('O', 170524), ('B-LOC', 7140), ('B-PER', 6600), ('B-ORG', 6321), ('I-PER', 4528), ('I-ORG', 3704), ('B-MISC', 3438), ('I-LOC', 1157), ('I-MISC', 1155)]\n['O', 'B-LOC', 'B-PER', 'B-ORG', 'I-PER', 'I-ORG', 'B-MISC', 'I-LOC', 'I-MISC']\n"
    }
   ],
   "source": [
    "fdist = nltk.FreqDist(labels)\n",
    "print(fdist.most_common())\n",
    "label_vocab = [word for word, count in fdist.most_common()]\n",
    "print(label_vocab)"
   ]
  },
  {
   "cell_type": "code",
   "execution_count": 44,
   "metadata": {},
   "outputs": [
    {
     "output_type": "execute_result",
     "data": {
      "text/plain": "9"
     },
     "metadata": {},
     "execution_count": 44
    }
   ],
   "source": [
    "label_vocab_len = len(label_vocab)\n",
    "label_vocab_len"
   ]
  },
  {
   "cell_type": "code",
   "execution_count": 45,
   "metadata": {},
   "outputs": [],
   "source": [
    "label_index = {}\n",
    "for index, label in enumerate(label_vocab):\n",
    "  label_index[label] = index\n",
    "\n",
    "label_index['<PAD>'] = index+1\n",
    "label_vocab_len = label_vocab_len + 1"
   ]
  },
  {
   "cell_type": "code",
   "execution_count": 46,
   "metadata": {},
   "outputs": [
    {
     "output_type": "execute_result",
     "data": {
      "text/plain": "[(0, 'O'),\n (1, 'B-LOC'),\n (2, 'B-PER'),\n (3, 'B-ORG'),\n (4, 'I-PER'),\n (5, 'I-ORG'),\n (6, 'B-MISC'),\n (7, 'I-LOC'),\n (8, 'I-MISC'),\n (9, '<PAD>')]"
     },
     "metadata": {},
     "execution_count": 46
    }
   ],
   "source": [
    "reverse_label_index = dict([(value, key) for (key, value) in label_index.items()])\n",
    "[(i, reverse_label_index.get(i)) for i in np.arange(label_vocab_len)]"
   ]
  },
  {
   "cell_type": "code",
   "execution_count": 47,
   "metadata": {},
   "outputs": [],
   "source": [
    "y_train_encoded = [encode(label_row, word2index=label_index) for label_row in y_train]\n",
    "y_test_encoded = [encode(label_row, word2index=label_index) for label_row in y_test]"
   ]
  },
  {
   "cell_type": "code",
   "execution_count": 48,
   "metadata": {},
   "outputs": [
    {
     "output_type": "stream",
     "name": "stdout",
     "text": "11112        O O O O O\n820      B-ORG O O O O\nName: NER, dtype: object\n[[0, 0, 0, 0, 0], [3, 0, 0, 0, 0]]\n"
    }
   ],
   "source": [
    "print(y_train[:2])\n",
    "print(y_train_encoded[:2])"
   ]
  },
  {
   "cell_type": "code",
   "execution_count": 49,
   "metadata": {},
   "outputs": [
    {
     "output_type": "stream",
     "name": "stdout",
     "text": "10005                        O O O B-MISC I-MISC O O O O O\n9470     O B-ORG O O B-LOC O O O O O O O O O O O O O O ...\nName: NER, dtype: object\n[[0, 0, 0, 6, 8, 0, 0, 0, 0, 0], [0, 3, 0, 0, 1, 0, 0, 0, 0, 0, 0, 0, 0, 0, 0, 0, 0, 0, 0, 0, 0, 6, 0, 0, 0, 0, 0, 6, 0, 1, 7, 0]]\n"
    }
   ],
   "source": [
    "print(y_test[:2])\n",
    "print(y_test_encoded[:2])"
   ]
  },
  {
   "cell_type": "markdown",
   "metadata": {},
   "source": [
    "# Check Distribution of labels"
   ]
  },
  {
   "cell_type": "code",
   "execution_count": 50,
   "metadata": {},
   "outputs": [],
   "source": [
    "#https://www.geeksforgeeks.org/python-count-the-sublists-containing-given-element-in-a-list/\n",
    "def countList(lst, x): \n",
    "    return sum(x in item for item in lst) "
   ]
  },
  {
   "cell_type": "code",
   "execution_count": 51,
   "metadata": {},
   "outputs": [],
   "source": [
    "def label_distribution(labels):\n",
    "    total = 0\n",
    "    label_count = np.zeros((0, 2))\n",
    "    for key in reverse_label_index.keys():\n",
    "        count = countList(labels, key)\n",
    "        label_count = np.vstack((label_count,[key, count]))\n",
    "        \n",
    "    label_count = np.append(label_count, (label_count[:,1]/sum(label_count[:,1]) * 100).reshape(-1,1), axis=1)\n",
    "    label_count = pd.DataFrame(label_count)\n",
    "    label_count.columns = ['label', 'count', 'percentage']\n",
    "    label_count['label'] = label_count['label'].astype(int)\n",
    "    return label_count"
   ]
  },
  {
   "cell_type": "code",
   "execution_count": 52,
   "metadata": {},
   "outputs": [],
   "source": [
    "train_label_dist = label_distribution(y_train_encoded)\n",
    "train_label_dist['dataset'] = 'Train'\n",
    "# train_label_dist\n",
    "\n",
    "test_label_dist = label_distribution(y_test_encoded)\n",
    "test_label_dist['dataset'] = 'Test'\n",
    "# test_label_dist\n",
    "\n",
    "label_dist = pd.concat([train_label_dist, test_label_dist])\n",
    "# label_dist"
   ]
  },
  {
   "cell_type": "code",
   "execution_count": 53,
   "metadata": {},
   "outputs": [
    {
     "output_type": "display_data",
     "data": {
      "text/plain": "<Figure size 432x288 with 1 Axes>",
      "image/svg+xml": "<?xml version=\"1.0\" encoding=\"utf-8\" standalone=\"no\"?>\r\n<!DOCTYPE svg PUBLIC \"-//W3C//DTD SVG 1.1//EN\"\r\n  \"http://www.w3.org/Graphics/SVG/1.1/DTD/svg11.dtd\">\r\n<!-- Created with matplotlib (https://matplotlib.org/) -->\r\n<svg height=\"263.705071pt\" version=\"1.1\" viewBox=\"0 0 382.603125 263.705071\" width=\"382.603125pt\" xmlns=\"http://www.w3.org/2000/svg\" xmlns:xlink=\"http://www.w3.org/1999/xlink\">\r\n <defs>\r\n  <style type=\"text/css\">\r\n*{stroke-linecap:butt;stroke-linejoin:round;}\r\n  </style>\r\n </defs>\r\n <g id=\"figure_1\">\r\n  <g id=\"patch_1\">\r\n   <path d=\"M 0 263.705071 \r\nL 382.603125 263.705071 \r\nL 382.603125 0 \r\nL 0 0 \r\nz\r\n\" style=\"fill:none;\"/>\r\n  </g>\r\n  <g id=\"axes_1\">\r\n   <g id=\"patch_2\">\r\n    <path d=\"M 40.603125 226.148821 \r\nL 375.403125 226.148821 \r\nL 375.403125 8.708821 \r\nL 40.603125 8.708821 \r\nz\r\n\" style=\"fill:#ffffff;\"/>\r\n   </g>\r\n   <g id=\"patch_3\">\r\n    <path clip-path=\"url(#p4f3bece0ce)\" d=\"M 43.951125 226.148821 \r\nL 57.343125 226.148821 \r\nL 57.343125 19.063107 \r\nL 43.951125 19.063107 \r\nz\r\n\" style=\"fill:#3274a1;\"/>\r\n   </g>\r\n   <g id=\"patch_4\">\r\n    <path clip-path=\"url(#p4f3bece0ce)\" d=\"M 77.431125 226.148821 \r\nL 90.823125 226.148821 \r\nL 90.823125 153.601974 \r\nL 77.431125 153.601974 \r\nz\r\n\" style=\"fill:#3274a1;\"/>\r\n   </g>\r\n   <g id=\"patch_5\">\r\n    <path clip-path=\"url(#p4f3bece0ce)\" d=\"M 110.911125 226.148821 \r\nL 124.303125 226.148821 \r\nL 124.303125 165.194693 \r\nL 110.911125 165.194693 \r\nz\r\n\" style=\"fill:#3274a1;\"/>\r\n   </g>\r\n   <g id=\"patch_6\">\r\n    <path clip-path=\"url(#p4f3bece0ce)\" d=\"M 144.391125 226.148821 \r\nL 157.783125 226.148821 \r\nL 157.783125 160.902396 \r\nL 144.391125 160.902396 \r\nz\r\n\" style=\"fill:#3274a1;\"/>\r\n   </g>\r\n   <g id=\"patch_7\">\r\n    <path clip-path=\"url(#p4f3bece0ce)\" d=\"M 177.871125 226.148821 \r\nL 191.263125 226.148821 \r\nL 191.263125 185.090542 \r\nL 177.871125 185.090542 \r\nz\r\n\" style=\"fill:#3274a1;\"/>\r\n   </g>\r\n   <g id=\"patch_8\">\r\n    <path clip-path=\"url(#p4f3bece0ce)\" d=\"M 211.351125 226.148821 \r\nL 224.743125 226.148821 \r\nL 224.743125 196.472165 \r\nL 211.351125 196.472165 \r\nz\r\n\" style=\"fill:#3274a1;\"/>\r\n   </g>\r\n   <g id=\"patch_9\">\r\n    <path clip-path=\"url(#p4f3bece0ce)\" d=\"M 244.831125 226.148821 \r\nL 258.223125 226.148821 \r\nL 258.223125 188.872689 \r\nL 244.831125 188.872689 \r\nz\r\n\" style=\"fill:#3274a1;\"/>\r\n   </g>\r\n   <g id=\"patch_10\">\r\n    <path clip-path=\"url(#p4f3bece0ce)\" d=\"M 278.311125 226.148821 \r\nL 291.703125 226.148821 \r\nL 291.703125 213.008061 \r\nL 278.311125 213.008061 \r\nz\r\n\" style=\"fill:#3274a1;\"/>\r\n   </g>\r\n   <g id=\"patch_11\">\r\n    <path clip-path=\"url(#p4f3bece0ce)\" d=\"M 311.791125 226.148821 \r\nL 325.183125 226.148821 \r\nL 325.183125 215.259758 \r\nL 311.791125 215.259758 \r\nz\r\n\" style=\"fill:#3274a1;\"/>\r\n   </g>\r\n   <g id=\"patch_12\">\r\n    <path clip-path=\"url(#p4f3bece0ce)\" d=\"M 345.271125 226.148821 \r\nL 358.663125 226.148821 \r\nL 358.663125 226.148821 \r\nL 345.271125 226.148821 \r\nz\r\n\" style=\"fill:#3274a1;\"/>\r\n   </g>\r\n   <g id=\"patch_13\">\r\n    <path clip-path=\"url(#p4f3bece0ce)\" d=\"M 57.343125 226.148821 \r\nL 70.735125 226.148821 \r\nL 70.735125 21.022062 \r\nL 57.343125 21.022062 \r\nz\r\n\" style=\"fill:#e1812c;\"/>\r\n   </g>\r\n   <g id=\"patch_14\">\r\n    <path clip-path=\"url(#p4f3bece0ce)\" d=\"M 90.823125 226.148821 \r\nL 104.215125 226.148821 \r\nL 104.215125 156.239837 \r\nL 90.823125 156.239837 \r\nz\r\n\" style=\"fill:#e1812c;\"/>\r\n   </g>\r\n   <g id=\"patch_15\">\r\n    <path clip-path=\"url(#p4f3bece0ce)\" d=\"M 124.303125 226.148821 \r\nL 137.695125 226.148821 \r\nL 137.695125 162.861326 \r\nL 124.303125 162.861326 \r\nz\r\n\" style=\"fill:#e1812c;\"/>\r\n   </g>\r\n   <g id=\"patch_16\">\r\n    <path clip-path=\"url(#p4f3bece0ce)\" d=\"M 157.783125 226.148821 \r\nL 171.175125 226.148821 \r\nL 171.175125 164.952323 \r\nL 157.783125 164.952323 \r\nz\r\n\" style=\"fill:#e1812c;\"/>\r\n   </g>\r\n   <g id=\"patch_17\">\r\n    <path clip-path=\"url(#p4f3bece0ce)\" d=\"M 191.263125 226.148821 \r\nL 204.655125 226.148821 \r\nL 204.655125 182.237894 \r\nL 191.263125 182.237894 \r\nz\r\n\" style=\"fill:#e1812c;\"/>\r\n   </g>\r\n   <g id=\"patch_18\">\r\n    <path clip-path=\"url(#p4f3bece0ce)\" d=\"M 224.743125 226.148821 \r\nL 238.135125 226.148821 \r\nL 238.135125 198.756767 \r\nL 224.743125 198.756767 \r\nz\r\n\" style=\"fill:#e1812c;\"/>\r\n   </g>\r\n   <g id=\"patch_19\">\r\n    <path clip-path=\"url(#p4f3bece0ce)\" d=\"M 258.223125 226.148821 \r\nL 271.615125 226.148821 \r\nL 271.615125 185.792588 \r\nL 258.223125 185.792588 \r\nz\r\n\" style=\"fill:#e1812c;\"/>\r\n   </g>\r\n   <g id=\"patch_20\">\r\n    <path clip-path=\"url(#p4f3bece0ce)\" d=\"M 291.703125 226.148821 \r\nL 305.095125 226.148821 \r\nL 305.095125 212.069445 \r\nL 291.703125 212.069445 \r\nz\r\n\" style=\"fill:#e1812c;\"/>\r\n   </g>\r\n   <g id=\"patch_21\">\r\n    <path clip-path=\"url(#p4f3bece0ce)\" d=\"M 325.183125 226.148821 \r\nL 338.575125 226.148821 \r\nL 338.575125 213.533142 \r\nL 325.183125 213.533142 \r\nz\r\n\" style=\"fill:#e1812c;\"/>\r\n   </g>\r\n   <g id=\"patch_22\">\r\n    <path clip-path=\"url(#p4f3bece0ce)\" d=\"M 358.663125 226.148821 \r\nL 372.055125 226.148821 \r\nL 372.055125 226.148821 \r\nL 358.663125 226.148821 \r\nz\r\n\" style=\"fill:#e1812c;\"/>\r\n   </g>\r\n   <g id=\"matplotlib.axis_1\">\r\n    <g id=\"xtick_1\">\r\n     <g id=\"line2d_1\">\r\n      <defs>\r\n       <path d=\"M 0 0 \r\nL 0 3.5 \r\n\" id=\"m8b8862f353\" style=\"stroke:#000000;stroke-width:0.8;\"/>\r\n      </defs>\r\n      <g>\r\n       <use style=\"stroke:#000000;stroke-width:0.8;\" x=\"57.343125\" xlink:href=\"#m8b8862f353\" y=\"226.148821\"/>\r\n      </g>\r\n     </g>\r\n     <g id=\"text_1\">\r\n      <!-- 0 -->\r\n      <defs>\r\n       <path d=\"M 31.78125 66.40625 \r\nQ 24.171875 66.40625 20.328125 58.90625 \r\nQ 16.5 51.421875 16.5 36.375 \r\nQ 16.5 21.390625 20.328125 13.890625 \r\nQ 24.171875 6.390625 31.78125 6.390625 \r\nQ 39.453125 6.390625 43.28125 13.890625 \r\nQ 47.125 21.390625 47.125 36.375 \r\nQ 47.125 51.421875 43.28125 58.90625 \r\nQ 39.453125 66.40625 31.78125 66.40625 \r\nz\r\nM 31.78125 74.21875 \r\nQ 44.046875 74.21875 50.515625 64.515625 \r\nQ 56.984375 54.828125 56.984375 36.375 \r\nQ 56.984375 17.96875 50.515625 8.265625 \r\nQ 44.046875 -1.421875 31.78125 -1.421875 \r\nQ 19.53125 -1.421875 13.0625 8.265625 \r\nQ 6.59375 17.96875 6.59375 36.375 \r\nQ 6.59375 54.828125 13.0625 64.515625 \r\nQ 19.53125 74.21875 31.78125 74.21875 \r\nz\r\n\" id=\"DejaVuSans-48\"/>\r\n      </defs>\r\n      <g transform=\"translate(54.161875 240.747259)scale(0.1 -0.1)\">\r\n       <use xlink:href=\"#DejaVuSans-48\"/>\r\n      </g>\r\n     </g>\r\n    </g>\r\n    <g id=\"xtick_2\">\r\n     <g id=\"line2d_2\">\r\n      <g>\r\n       <use style=\"stroke:#000000;stroke-width:0.8;\" x=\"90.823125\" xlink:href=\"#m8b8862f353\" y=\"226.148821\"/>\r\n      </g>\r\n     </g>\r\n     <g id=\"text_2\">\r\n      <!-- 1 -->\r\n      <defs>\r\n       <path d=\"M 12.40625 8.296875 \r\nL 28.515625 8.296875 \r\nL 28.515625 63.921875 \r\nL 10.984375 60.40625 \r\nL 10.984375 69.390625 \r\nL 28.421875 72.90625 \r\nL 38.28125 72.90625 \r\nL 38.28125 8.296875 \r\nL 54.390625 8.296875 \r\nL 54.390625 0 \r\nL 12.40625 0 \r\nz\r\n\" id=\"DejaVuSans-49\"/>\r\n      </defs>\r\n      <g transform=\"translate(87.641875 240.747259)scale(0.1 -0.1)\">\r\n       <use xlink:href=\"#DejaVuSans-49\"/>\r\n      </g>\r\n     </g>\r\n    </g>\r\n    <g id=\"xtick_3\">\r\n     <g id=\"line2d_3\">\r\n      <g>\r\n       <use style=\"stroke:#000000;stroke-width:0.8;\" x=\"124.303125\" xlink:href=\"#m8b8862f353\" y=\"226.148821\"/>\r\n      </g>\r\n     </g>\r\n     <g id=\"text_3\">\r\n      <!-- 2 -->\r\n      <defs>\r\n       <path d=\"M 19.1875 8.296875 \r\nL 53.609375 8.296875 \r\nL 53.609375 0 \r\nL 7.328125 0 \r\nL 7.328125 8.296875 \r\nQ 12.9375 14.109375 22.625 23.890625 \r\nQ 32.328125 33.6875 34.8125 36.53125 \r\nQ 39.546875 41.84375 41.421875 45.53125 \r\nQ 43.3125 49.21875 43.3125 52.78125 \r\nQ 43.3125 58.59375 39.234375 62.25 \r\nQ 35.15625 65.921875 28.609375 65.921875 \r\nQ 23.96875 65.921875 18.8125 64.3125 \r\nQ 13.671875 62.703125 7.8125 59.421875 \r\nL 7.8125 69.390625 \r\nQ 13.765625 71.78125 18.9375 73 \r\nQ 24.125 74.21875 28.421875 74.21875 \r\nQ 39.75 74.21875 46.484375 68.546875 \r\nQ 53.21875 62.890625 53.21875 53.421875 \r\nQ 53.21875 48.921875 51.53125 44.890625 \r\nQ 49.859375 40.875 45.40625 35.40625 \r\nQ 44.1875 33.984375 37.640625 27.21875 \r\nQ 31.109375 20.453125 19.1875 8.296875 \r\nz\r\n\" id=\"DejaVuSans-50\"/>\r\n      </defs>\r\n      <g transform=\"translate(121.121875 240.747259)scale(0.1 -0.1)\">\r\n       <use xlink:href=\"#DejaVuSans-50\"/>\r\n      </g>\r\n     </g>\r\n    </g>\r\n    <g id=\"xtick_4\">\r\n     <g id=\"line2d_4\">\r\n      <g>\r\n       <use style=\"stroke:#000000;stroke-width:0.8;\" x=\"157.783125\" xlink:href=\"#m8b8862f353\" y=\"226.148821\"/>\r\n      </g>\r\n     </g>\r\n     <g id=\"text_4\">\r\n      <!-- 3 -->\r\n      <defs>\r\n       <path d=\"M 40.578125 39.3125 \r\nQ 47.65625 37.796875 51.625 33 \r\nQ 55.609375 28.21875 55.609375 21.1875 \r\nQ 55.609375 10.40625 48.1875 4.484375 \r\nQ 40.765625 -1.421875 27.09375 -1.421875 \r\nQ 22.515625 -1.421875 17.65625 -0.515625 \r\nQ 12.796875 0.390625 7.625 2.203125 \r\nL 7.625 11.71875 \r\nQ 11.71875 9.328125 16.59375 8.109375 \r\nQ 21.484375 6.890625 26.8125 6.890625 \r\nQ 36.078125 6.890625 40.9375 10.546875 \r\nQ 45.796875 14.203125 45.796875 21.1875 \r\nQ 45.796875 27.640625 41.28125 31.265625 \r\nQ 36.765625 34.90625 28.71875 34.90625 \r\nL 20.21875 34.90625 \r\nL 20.21875 43.015625 \r\nL 29.109375 43.015625 \r\nQ 36.375 43.015625 40.234375 45.921875 \r\nQ 44.09375 48.828125 44.09375 54.296875 \r\nQ 44.09375 59.90625 40.109375 62.90625 \r\nQ 36.140625 65.921875 28.71875 65.921875 \r\nQ 24.65625 65.921875 20.015625 65.03125 \r\nQ 15.375 64.15625 9.8125 62.3125 \r\nL 9.8125 71.09375 \r\nQ 15.4375 72.65625 20.34375 73.4375 \r\nQ 25.25 74.21875 29.59375 74.21875 \r\nQ 40.828125 74.21875 47.359375 69.109375 \r\nQ 53.90625 64.015625 53.90625 55.328125 \r\nQ 53.90625 49.265625 50.4375 45.09375 \r\nQ 46.96875 40.921875 40.578125 39.3125 \r\nz\r\n\" id=\"DejaVuSans-51\"/>\r\n      </defs>\r\n      <g transform=\"translate(154.601875 240.747259)scale(0.1 -0.1)\">\r\n       <use xlink:href=\"#DejaVuSans-51\"/>\r\n      </g>\r\n     </g>\r\n    </g>\r\n    <g id=\"xtick_5\">\r\n     <g id=\"line2d_5\">\r\n      <g>\r\n       <use style=\"stroke:#000000;stroke-width:0.8;\" x=\"191.263125\" xlink:href=\"#m8b8862f353\" y=\"226.148821\"/>\r\n      </g>\r\n     </g>\r\n     <g id=\"text_5\">\r\n      <!-- 4 -->\r\n      <defs>\r\n       <path d=\"M 37.796875 64.3125 \r\nL 12.890625 25.390625 \r\nL 37.796875 25.390625 \r\nz\r\nM 35.203125 72.90625 \r\nL 47.609375 72.90625 \r\nL 47.609375 25.390625 \r\nL 58.015625 25.390625 \r\nL 58.015625 17.1875 \r\nL 47.609375 17.1875 \r\nL 47.609375 0 \r\nL 37.796875 0 \r\nL 37.796875 17.1875 \r\nL 4.890625 17.1875 \r\nL 4.890625 26.703125 \r\nz\r\n\" id=\"DejaVuSans-52\"/>\r\n      </defs>\r\n      <g transform=\"translate(188.081875 240.747259)scale(0.1 -0.1)\">\r\n       <use xlink:href=\"#DejaVuSans-52\"/>\r\n      </g>\r\n     </g>\r\n    </g>\r\n    <g id=\"xtick_6\">\r\n     <g id=\"line2d_6\">\r\n      <g>\r\n       <use style=\"stroke:#000000;stroke-width:0.8;\" x=\"224.743125\" xlink:href=\"#m8b8862f353\" y=\"226.148821\"/>\r\n      </g>\r\n     </g>\r\n     <g id=\"text_6\">\r\n      <!-- 5 -->\r\n      <defs>\r\n       <path d=\"M 10.796875 72.90625 \r\nL 49.515625 72.90625 \r\nL 49.515625 64.59375 \r\nL 19.828125 64.59375 \r\nL 19.828125 46.734375 \r\nQ 21.96875 47.46875 24.109375 47.828125 \r\nQ 26.265625 48.1875 28.421875 48.1875 \r\nQ 40.625 48.1875 47.75 41.5 \r\nQ 54.890625 34.8125 54.890625 23.390625 \r\nQ 54.890625 11.625 47.5625 5.09375 \r\nQ 40.234375 -1.421875 26.90625 -1.421875 \r\nQ 22.3125 -1.421875 17.546875 -0.640625 \r\nQ 12.796875 0.140625 7.71875 1.703125 \r\nL 7.71875 11.625 \r\nQ 12.109375 9.234375 16.796875 8.0625 \r\nQ 21.484375 6.890625 26.703125 6.890625 \r\nQ 35.15625 6.890625 40.078125 11.328125 \r\nQ 45.015625 15.765625 45.015625 23.390625 \r\nQ 45.015625 31 40.078125 35.4375 \r\nQ 35.15625 39.890625 26.703125 39.890625 \r\nQ 22.75 39.890625 18.8125 39.015625 \r\nQ 14.890625 38.140625 10.796875 36.28125 \r\nz\r\n\" id=\"DejaVuSans-53\"/>\r\n      </defs>\r\n      <g transform=\"translate(221.561875 240.747259)scale(0.1 -0.1)\">\r\n       <use xlink:href=\"#DejaVuSans-53\"/>\r\n      </g>\r\n     </g>\r\n    </g>\r\n    <g id=\"xtick_7\">\r\n     <g id=\"line2d_7\">\r\n      <g>\r\n       <use style=\"stroke:#000000;stroke-width:0.8;\" x=\"258.223125\" xlink:href=\"#m8b8862f353\" y=\"226.148821\"/>\r\n      </g>\r\n     </g>\r\n     <g id=\"text_7\">\r\n      <!-- 6 -->\r\n      <defs>\r\n       <path d=\"M 33.015625 40.375 \r\nQ 26.375 40.375 22.484375 35.828125 \r\nQ 18.609375 31.296875 18.609375 23.390625 \r\nQ 18.609375 15.53125 22.484375 10.953125 \r\nQ 26.375 6.390625 33.015625 6.390625 \r\nQ 39.65625 6.390625 43.53125 10.953125 \r\nQ 47.40625 15.53125 47.40625 23.390625 \r\nQ 47.40625 31.296875 43.53125 35.828125 \r\nQ 39.65625 40.375 33.015625 40.375 \r\nz\r\nM 52.59375 71.296875 \r\nL 52.59375 62.3125 \r\nQ 48.875 64.0625 45.09375 64.984375 \r\nQ 41.3125 65.921875 37.59375 65.921875 \r\nQ 27.828125 65.921875 22.671875 59.328125 \r\nQ 17.53125 52.734375 16.796875 39.40625 \r\nQ 19.671875 43.65625 24.015625 45.921875 \r\nQ 28.375 48.1875 33.59375 48.1875 \r\nQ 44.578125 48.1875 50.953125 41.515625 \r\nQ 57.328125 34.859375 57.328125 23.390625 \r\nQ 57.328125 12.15625 50.6875 5.359375 \r\nQ 44.046875 -1.421875 33.015625 -1.421875 \r\nQ 20.359375 -1.421875 13.671875 8.265625 \r\nQ 6.984375 17.96875 6.984375 36.375 \r\nQ 6.984375 53.65625 15.1875 63.9375 \r\nQ 23.390625 74.21875 37.203125 74.21875 \r\nQ 40.921875 74.21875 44.703125 73.484375 \r\nQ 48.484375 72.75 52.59375 71.296875 \r\nz\r\n\" id=\"DejaVuSans-54\"/>\r\n      </defs>\r\n      <g transform=\"translate(255.041875 240.747259)scale(0.1 -0.1)\">\r\n       <use xlink:href=\"#DejaVuSans-54\"/>\r\n      </g>\r\n     </g>\r\n    </g>\r\n    <g id=\"xtick_8\">\r\n     <g id=\"line2d_8\">\r\n      <g>\r\n       <use style=\"stroke:#000000;stroke-width:0.8;\" x=\"291.703125\" xlink:href=\"#m8b8862f353\" y=\"226.148821\"/>\r\n      </g>\r\n     </g>\r\n     <g id=\"text_8\">\r\n      <!-- 7 -->\r\n      <defs>\r\n       <path d=\"M 8.203125 72.90625 \r\nL 55.078125 72.90625 \r\nL 55.078125 68.703125 \r\nL 28.609375 0 \r\nL 18.3125 0 \r\nL 43.21875 64.59375 \r\nL 8.203125 64.59375 \r\nz\r\n\" id=\"DejaVuSans-55\"/>\r\n      </defs>\r\n      <g transform=\"translate(288.521875 240.747259)scale(0.1 -0.1)\">\r\n       <use xlink:href=\"#DejaVuSans-55\"/>\r\n      </g>\r\n     </g>\r\n    </g>\r\n    <g id=\"xtick_9\">\r\n     <g id=\"line2d_9\">\r\n      <g>\r\n       <use style=\"stroke:#000000;stroke-width:0.8;\" x=\"325.183125\" xlink:href=\"#m8b8862f353\" y=\"226.148821\"/>\r\n      </g>\r\n     </g>\r\n     <g id=\"text_9\">\r\n      <!-- 8 -->\r\n      <defs>\r\n       <path d=\"M 31.78125 34.625 \r\nQ 24.75 34.625 20.71875 30.859375 \r\nQ 16.703125 27.09375 16.703125 20.515625 \r\nQ 16.703125 13.921875 20.71875 10.15625 \r\nQ 24.75 6.390625 31.78125 6.390625 \r\nQ 38.8125 6.390625 42.859375 10.171875 \r\nQ 46.921875 13.96875 46.921875 20.515625 \r\nQ 46.921875 27.09375 42.890625 30.859375 \r\nQ 38.875 34.625 31.78125 34.625 \r\nz\r\nM 21.921875 38.8125 \r\nQ 15.578125 40.375 12.03125 44.71875 \r\nQ 8.5 49.078125 8.5 55.328125 \r\nQ 8.5 64.0625 14.71875 69.140625 \r\nQ 20.953125 74.21875 31.78125 74.21875 \r\nQ 42.671875 74.21875 48.875 69.140625 \r\nQ 55.078125 64.0625 55.078125 55.328125 \r\nQ 55.078125 49.078125 51.53125 44.71875 \r\nQ 48 40.375 41.703125 38.8125 \r\nQ 48.828125 37.15625 52.796875 32.3125 \r\nQ 56.78125 27.484375 56.78125 20.515625 \r\nQ 56.78125 9.90625 50.3125 4.234375 \r\nQ 43.84375 -1.421875 31.78125 -1.421875 \r\nQ 19.734375 -1.421875 13.25 4.234375 \r\nQ 6.78125 9.90625 6.78125 20.515625 \r\nQ 6.78125 27.484375 10.78125 32.3125 \r\nQ 14.796875 37.15625 21.921875 38.8125 \r\nz\r\nM 18.3125 54.390625 \r\nQ 18.3125 48.734375 21.84375 45.5625 \r\nQ 25.390625 42.390625 31.78125 42.390625 \r\nQ 38.140625 42.390625 41.71875 45.5625 \r\nQ 45.3125 48.734375 45.3125 54.390625 \r\nQ 45.3125 60.0625 41.71875 63.234375 \r\nQ 38.140625 66.40625 31.78125 66.40625 \r\nQ 25.390625 66.40625 21.84375 63.234375 \r\nQ 18.3125 60.0625 18.3125 54.390625 \r\nz\r\n\" id=\"DejaVuSans-56\"/>\r\n      </defs>\r\n      <g transform=\"translate(322.001875 240.747259)scale(0.1 -0.1)\">\r\n       <use xlink:href=\"#DejaVuSans-56\"/>\r\n      </g>\r\n     </g>\r\n    </g>\r\n    <g id=\"xtick_10\">\r\n     <g id=\"line2d_10\">\r\n      <g>\r\n       <use style=\"stroke:#000000;stroke-width:0.8;\" x=\"358.663125\" xlink:href=\"#m8b8862f353\" y=\"226.148821\"/>\r\n      </g>\r\n     </g>\r\n     <g id=\"text_10\">\r\n      <!-- 9 -->\r\n      <defs>\r\n       <path d=\"M 10.984375 1.515625 \r\nL 10.984375 10.5 \r\nQ 14.703125 8.734375 18.5 7.8125 \r\nQ 22.3125 6.890625 25.984375 6.890625 \r\nQ 35.75 6.890625 40.890625 13.453125 \r\nQ 46.046875 20.015625 46.78125 33.40625 \r\nQ 43.953125 29.203125 39.59375 26.953125 \r\nQ 35.25 24.703125 29.984375 24.703125 \r\nQ 19.046875 24.703125 12.671875 31.3125 \r\nQ 6.296875 37.9375 6.296875 49.421875 \r\nQ 6.296875 60.640625 12.9375 67.421875 \r\nQ 19.578125 74.21875 30.609375 74.21875 \r\nQ 43.265625 74.21875 49.921875 64.515625 \r\nQ 56.59375 54.828125 56.59375 36.375 \r\nQ 56.59375 19.140625 48.40625 8.859375 \r\nQ 40.234375 -1.421875 26.421875 -1.421875 \r\nQ 22.703125 -1.421875 18.890625 -0.6875 \r\nQ 15.09375 0.046875 10.984375 1.515625 \r\nz\r\nM 30.609375 32.421875 \r\nQ 37.25 32.421875 41.125 36.953125 \r\nQ 45.015625 41.5 45.015625 49.421875 \r\nQ 45.015625 57.28125 41.125 61.84375 \r\nQ 37.25 66.40625 30.609375 66.40625 \r\nQ 23.96875 66.40625 20.09375 61.84375 \r\nQ 16.21875 57.28125 16.21875 49.421875 \r\nQ 16.21875 41.5 20.09375 36.953125 \r\nQ 23.96875 32.421875 30.609375 32.421875 \r\nz\r\n\" id=\"DejaVuSans-57\"/>\r\n      </defs>\r\n      <g transform=\"translate(355.481875 240.747259)scale(0.1 -0.1)\">\r\n       <use xlink:href=\"#DejaVuSans-57\"/>\r\n      </g>\r\n     </g>\r\n    </g>\r\n    <g id=\"text_11\">\r\n     <!-- label -->\r\n     <defs>\r\n      <path d=\"M 9.421875 75.984375 \r\nL 18.40625 75.984375 \r\nL 18.40625 0 \r\nL 9.421875 0 \r\nz\r\n\" id=\"DejaVuSans-108\"/>\r\n      <path d=\"M 34.28125 27.484375 \r\nQ 23.390625 27.484375 19.1875 25 \r\nQ 14.984375 22.515625 14.984375 16.5 \r\nQ 14.984375 11.71875 18.140625 8.90625 \r\nQ 21.296875 6.109375 26.703125 6.109375 \r\nQ 34.1875 6.109375 38.703125 11.40625 \r\nQ 43.21875 16.703125 43.21875 25.484375 \r\nL 43.21875 27.484375 \r\nz\r\nM 52.203125 31.203125 \r\nL 52.203125 0 \r\nL 43.21875 0 \r\nL 43.21875 8.296875 \r\nQ 40.140625 3.328125 35.546875 0.953125 \r\nQ 30.953125 -1.421875 24.3125 -1.421875 \r\nQ 15.921875 -1.421875 10.953125 3.296875 \r\nQ 6 8.015625 6 15.921875 \r\nQ 6 25.140625 12.171875 29.828125 \r\nQ 18.359375 34.515625 30.609375 34.515625 \r\nL 43.21875 34.515625 \r\nL 43.21875 35.40625 \r\nQ 43.21875 41.609375 39.140625 45 \r\nQ 35.0625 48.390625 27.6875 48.390625 \r\nQ 23 48.390625 18.546875 47.265625 \r\nQ 14.109375 46.140625 10.015625 43.890625 \r\nL 10.015625 52.203125 \r\nQ 14.9375 54.109375 19.578125 55.046875 \r\nQ 24.21875 56 28.609375 56 \r\nQ 40.484375 56 46.34375 49.84375 \r\nQ 52.203125 43.703125 52.203125 31.203125 \r\nz\r\n\" id=\"DejaVuSans-97\"/>\r\n      <path d=\"M 48.6875 27.296875 \r\nQ 48.6875 37.203125 44.609375 42.84375 \r\nQ 40.53125 48.484375 33.40625 48.484375 \r\nQ 26.265625 48.484375 22.1875 42.84375 \r\nQ 18.109375 37.203125 18.109375 27.296875 \r\nQ 18.109375 17.390625 22.1875 11.75 \r\nQ 26.265625 6.109375 33.40625 6.109375 \r\nQ 40.53125 6.109375 44.609375 11.75 \r\nQ 48.6875 17.390625 48.6875 27.296875 \r\nz\r\nM 18.109375 46.390625 \r\nQ 20.953125 51.265625 25.265625 53.625 \r\nQ 29.59375 56 35.59375 56 \r\nQ 45.5625 56 51.78125 48.09375 \r\nQ 58.015625 40.1875 58.015625 27.296875 \r\nQ 58.015625 14.40625 51.78125 6.484375 \r\nQ 45.5625 -1.421875 35.59375 -1.421875 \r\nQ 29.59375 -1.421875 25.265625 0.953125 \r\nQ 20.953125 3.328125 18.109375 8.203125 \r\nL 18.109375 0 \r\nL 9.078125 0 \r\nL 9.078125 75.984375 \r\nL 18.109375 75.984375 \r\nz\r\n\" id=\"DejaVuSans-98\"/>\r\n      <path d=\"M 56.203125 29.59375 \r\nL 56.203125 25.203125 \r\nL 14.890625 25.203125 \r\nQ 15.484375 15.921875 20.484375 11.0625 \r\nQ 25.484375 6.203125 34.421875 6.203125 \r\nQ 39.59375 6.203125 44.453125 7.46875 \r\nQ 49.3125 8.734375 54.109375 11.28125 \r\nL 54.109375 2.78125 \r\nQ 49.265625 0.734375 44.1875 -0.34375 \r\nQ 39.109375 -1.421875 33.890625 -1.421875 \r\nQ 20.796875 -1.421875 13.15625 6.1875 \r\nQ 5.515625 13.8125 5.515625 26.8125 \r\nQ 5.515625 40.234375 12.765625 48.109375 \r\nQ 20.015625 56 32.328125 56 \r\nQ 43.359375 56 49.78125 48.890625 \r\nQ 56.203125 41.796875 56.203125 29.59375 \r\nz\r\nM 47.21875 32.234375 \r\nQ 47.125 39.59375 43.09375 43.984375 \r\nQ 39.0625 48.390625 32.421875 48.390625 \r\nQ 24.90625 48.390625 20.390625 44.140625 \r\nQ 15.875 39.890625 15.1875 32.171875 \r\nz\r\n\" id=\"DejaVuSans-101\"/>\r\n     </defs>\r\n     <g transform=\"translate(195.910156 254.425384)scale(0.1 -0.1)\">\r\n      <use xlink:href=\"#DejaVuSans-108\"/>\r\n      <use x=\"27.783203\" xlink:href=\"#DejaVuSans-97\"/>\r\n      <use x=\"89.0625\" xlink:href=\"#DejaVuSans-98\"/>\r\n      <use x=\"152.539062\" xlink:href=\"#DejaVuSans-101\"/>\r\n      <use x=\"214.0625\" xlink:href=\"#DejaVuSans-108\"/>\r\n     </g>\r\n    </g>\r\n   </g>\r\n   <g id=\"matplotlib.axis_2\">\r\n    <g id=\"ytick_1\">\r\n     <g id=\"line2d_11\">\r\n      <defs>\r\n       <path d=\"M 0 0 \r\nL -3.5 0 \r\n\" id=\"mcc47cb0a39\" style=\"stroke:#000000;stroke-width:0.8;\"/>\r\n      </defs>\r\n      <g>\r\n       <use style=\"stroke:#000000;stroke-width:0.8;\" x=\"40.603125\" xlink:href=\"#mcc47cb0a39\" y=\"226.148821\"/>\r\n      </g>\r\n     </g>\r\n     <g id=\"text_12\">\r\n      <!-- 0 -->\r\n      <g transform=\"translate(27.240625 229.94804)scale(0.1 -0.1)\">\r\n       <use xlink:href=\"#DejaVuSans-48\"/>\r\n      </g>\r\n     </g>\r\n    </g>\r\n    <g id=\"ytick_2\">\r\n     <g id=\"line2d_12\">\r\n      <g>\r\n       <use style=\"stroke:#000000;stroke-width:0.8;\" x=\"40.603125\" xlink:href=\"#mcc47cb0a39\" y=\"199.255121\"/>\r\n      </g>\r\n     </g>\r\n     <g id=\"text_13\">\r\n      <!-- 5 -->\r\n      <g transform=\"translate(27.240625 203.05434)scale(0.1 -0.1)\">\r\n       <use xlink:href=\"#DejaVuSans-53\"/>\r\n      </g>\r\n     </g>\r\n    </g>\r\n    <g id=\"ytick_3\">\r\n     <g id=\"line2d_13\">\r\n      <g>\r\n       <use style=\"stroke:#000000;stroke-width:0.8;\" x=\"40.603125\" xlink:href=\"#mcc47cb0a39\" y=\"172.361421\"/>\r\n      </g>\r\n     </g>\r\n     <g id=\"text_14\">\r\n      <!-- 10 -->\r\n      <g transform=\"translate(20.878125 176.160639)scale(0.1 -0.1)\">\r\n       <use xlink:href=\"#DejaVuSans-49\"/>\r\n       <use x=\"63.623047\" xlink:href=\"#DejaVuSans-48\"/>\r\n      </g>\r\n     </g>\r\n    </g>\r\n    <g id=\"ytick_4\">\r\n     <g id=\"line2d_14\">\r\n      <g>\r\n       <use style=\"stroke:#000000;stroke-width:0.8;\" x=\"40.603125\" xlink:href=\"#mcc47cb0a39\" y=\"145.46772\"/>\r\n      </g>\r\n     </g>\r\n     <g id=\"text_15\">\r\n      <!-- 15 -->\r\n      <g transform=\"translate(20.878125 149.266939)scale(0.1 -0.1)\">\r\n       <use xlink:href=\"#DejaVuSans-49\"/>\r\n       <use x=\"63.623047\" xlink:href=\"#DejaVuSans-53\"/>\r\n      </g>\r\n     </g>\r\n    </g>\r\n    <g id=\"ytick_5\">\r\n     <g id=\"line2d_15\">\r\n      <g>\r\n       <use style=\"stroke:#000000;stroke-width:0.8;\" x=\"40.603125\" xlink:href=\"#mcc47cb0a39\" y=\"118.57402\"/>\r\n      </g>\r\n     </g>\r\n     <g id=\"text_16\">\r\n      <!-- 20 -->\r\n      <g transform=\"translate(20.878125 122.373239)scale(0.1 -0.1)\">\r\n       <use xlink:href=\"#DejaVuSans-50\"/>\r\n       <use x=\"63.623047\" xlink:href=\"#DejaVuSans-48\"/>\r\n      </g>\r\n     </g>\r\n    </g>\r\n    <g id=\"ytick_6\">\r\n     <g id=\"line2d_16\">\r\n      <g>\r\n       <use style=\"stroke:#000000;stroke-width:0.8;\" x=\"40.603125\" xlink:href=\"#mcc47cb0a39\" y=\"91.68032\"/>\r\n      </g>\r\n     </g>\r\n     <g id=\"text_17\">\r\n      <!-- 25 -->\r\n      <g transform=\"translate(20.878125 95.479538)scale(0.1 -0.1)\">\r\n       <use xlink:href=\"#DejaVuSans-50\"/>\r\n       <use x=\"63.623047\" xlink:href=\"#DejaVuSans-53\"/>\r\n      </g>\r\n     </g>\r\n    </g>\r\n    <g id=\"ytick_7\">\r\n     <g id=\"line2d_17\">\r\n      <g>\r\n       <use style=\"stroke:#000000;stroke-width:0.8;\" x=\"40.603125\" xlink:href=\"#mcc47cb0a39\" y=\"64.786619\"/>\r\n      </g>\r\n     </g>\r\n     <g id=\"text_18\">\r\n      <!-- 30 -->\r\n      <g transform=\"translate(20.878125 68.585838)scale(0.1 -0.1)\">\r\n       <use xlink:href=\"#DejaVuSans-51\"/>\r\n       <use x=\"63.623047\" xlink:href=\"#DejaVuSans-48\"/>\r\n      </g>\r\n     </g>\r\n    </g>\r\n    <g id=\"ytick_8\">\r\n     <g id=\"line2d_18\">\r\n      <g>\r\n       <use style=\"stroke:#000000;stroke-width:0.8;\" x=\"40.603125\" xlink:href=\"#mcc47cb0a39\" y=\"37.892919\"/>\r\n      </g>\r\n     </g>\r\n     <g id=\"text_19\">\r\n      <!-- 35 -->\r\n      <g transform=\"translate(20.878125 41.692138)scale(0.1 -0.1)\">\r\n       <use xlink:href=\"#DejaVuSans-51\"/>\r\n       <use x=\"63.623047\" xlink:href=\"#DejaVuSans-53\"/>\r\n      </g>\r\n     </g>\r\n    </g>\r\n    <g id=\"ytick_9\">\r\n     <g id=\"line2d_19\">\r\n      <g>\r\n       <use style=\"stroke:#000000;stroke-width:0.8;\" x=\"40.603125\" xlink:href=\"#mcc47cb0a39\" y=\"10.999219\"/>\r\n      </g>\r\n     </g>\r\n     <g id=\"text_20\">\r\n      <!-- 40 -->\r\n      <g transform=\"translate(20.878125 14.798437)scale(0.1 -0.1)\">\r\n       <use xlink:href=\"#DejaVuSans-52\"/>\r\n       <use x=\"63.623047\" xlink:href=\"#DejaVuSans-48\"/>\r\n      </g>\r\n     </g>\r\n    </g>\r\n    <g id=\"text_21\">\r\n     <!-- percentage -->\r\n     <defs>\r\n      <path d=\"M 18.109375 8.203125 \r\nL 18.109375 -20.796875 \r\nL 9.078125 -20.796875 \r\nL 9.078125 54.6875 \r\nL 18.109375 54.6875 \r\nL 18.109375 46.390625 \r\nQ 20.953125 51.265625 25.265625 53.625 \r\nQ 29.59375 56 35.59375 56 \r\nQ 45.5625 56 51.78125 48.09375 \r\nQ 58.015625 40.1875 58.015625 27.296875 \r\nQ 58.015625 14.40625 51.78125 6.484375 \r\nQ 45.5625 -1.421875 35.59375 -1.421875 \r\nQ 29.59375 -1.421875 25.265625 0.953125 \r\nQ 20.953125 3.328125 18.109375 8.203125 \r\nz\r\nM 48.6875 27.296875 \r\nQ 48.6875 37.203125 44.609375 42.84375 \r\nQ 40.53125 48.484375 33.40625 48.484375 \r\nQ 26.265625 48.484375 22.1875 42.84375 \r\nQ 18.109375 37.203125 18.109375 27.296875 \r\nQ 18.109375 17.390625 22.1875 11.75 \r\nQ 26.265625 6.109375 33.40625 6.109375 \r\nQ 40.53125 6.109375 44.609375 11.75 \r\nQ 48.6875 17.390625 48.6875 27.296875 \r\nz\r\n\" id=\"DejaVuSans-112\"/>\r\n      <path d=\"M 41.109375 46.296875 \r\nQ 39.59375 47.171875 37.8125 47.578125 \r\nQ 36.03125 48 33.890625 48 \r\nQ 26.265625 48 22.1875 43.046875 \r\nQ 18.109375 38.09375 18.109375 28.8125 \r\nL 18.109375 0 \r\nL 9.078125 0 \r\nL 9.078125 54.6875 \r\nL 18.109375 54.6875 \r\nL 18.109375 46.1875 \r\nQ 20.953125 51.171875 25.484375 53.578125 \r\nQ 30.03125 56 36.53125 56 \r\nQ 37.453125 56 38.578125 55.875 \r\nQ 39.703125 55.765625 41.0625 55.515625 \r\nz\r\n\" id=\"DejaVuSans-114\"/>\r\n      <path d=\"M 48.78125 52.59375 \r\nL 48.78125 44.1875 \r\nQ 44.96875 46.296875 41.140625 47.34375 \r\nQ 37.3125 48.390625 33.40625 48.390625 \r\nQ 24.65625 48.390625 19.8125 42.84375 \r\nQ 14.984375 37.3125 14.984375 27.296875 \r\nQ 14.984375 17.28125 19.8125 11.734375 \r\nQ 24.65625 6.203125 33.40625 6.203125 \r\nQ 37.3125 6.203125 41.140625 7.25 \r\nQ 44.96875 8.296875 48.78125 10.40625 \r\nL 48.78125 2.09375 \r\nQ 45.015625 0.34375 40.984375 -0.53125 \r\nQ 36.96875 -1.421875 32.421875 -1.421875 \r\nQ 20.0625 -1.421875 12.78125 6.34375 \r\nQ 5.515625 14.109375 5.515625 27.296875 \r\nQ 5.515625 40.671875 12.859375 48.328125 \r\nQ 20.21875 56 33.015625 56 \r\nQ 37.15625 56 41.109375 55.140625 \r\nQ 45.0625 54.296875 48.78125 52.59375 \r\nz\r\n\" id=\"DejaVuSans-99\"/>\r\n      <path d=\"M 54.890625 33.015625 \r\nL 54.890625 0 \r\nL 45.90625 0 \r\nL 45.90625 32.71875 \r\nQ 45.90625 40.484375 42.875 44.328125 \r\nQ 39.84375 48.1875 33.796875 48.1875 \r\nQ 26.515625 48.1875 22.3125 43.546875 \r\nQ 18.109375 38.921875 18.109375 30.90625 \r\nL 18.109375 0 \r\nL 9.078125 0 \r\nL 9.078125 54.6875 \r\nL 18.109375 54.6875 \r\nL 18.109375 46.1875 \r\nQ 21.34375 51.125 25.703125 53.5625 \r\nQ 30.078125 56 35.796875 56 \r\nQ 45.21875 56 50.046875 50.171875 \r\nQ 54.890625 44.34375 54.890625 33.015625 \r\nz\r\n\" id=\"DejaVuSans-110\"/>\r\n      <path d=\"M 18.3125 70.21875 \r\nL 18.3125 54.6875 \r\nL 36.8125 54.6875 \r\nL 36.8125 47.703125 \r\nL 18.3125 47.703125 \r\nL 18.3125 18.015625 \r\nQ 18.3125 11.328125 20.140625 9.421875 \r\nQ 21.96875 7.515625 27.59375 7.515625 \r\nL 36.8125 7.515625 \r\nL 36.8125 0 \r\nL 27.59375 0 \r\nQ 17.1875 0 13.234375 3.875 \r\nQ 9.28125 7.765625 9.28125 18.015625 \r\nL 9.28125 47.703125 \r\nL 2.6875 47.703125 \r\nL 2.6875 54.6875 \r\nL 9.28125 54.6875 \r\nL 9.28125 70.21875 \r\nz\r\n\" id=\"DejaVuSans-116\"/>\r\n      <path d=\"M 45.40625 27.984375 \r\nQ 45.40625 37.75 41.375 43.109375 \r\nQ 37.359375 48.484375 30.078125 48.484375 \r\nQ 22.859375 48.484375 18.828125 43.109375 \r\nQ 14.796875 37.75 14.796875 27.984375 \r\nQ 14.796875 18.265625 18.828125 12.890625 \r\nQ 22.859375 7.515625 30.078125 7.515625 \r\nQ 37.359375 7.515625 41.375 12.890625 \r\nQ 45.40625 18.265625 45.40625 27.984375 \r\nz\r\nM 54.390625 6.78125 \r\nQ 54.390625 -7.171875 48.1875 -13.984375 \r\nQ 42 -20.796875 29.203125 -20.796875 \r\nQ 24.46875 -20.796875 20.265625 -20.09375 \r\nQ 16.0625 -19.390625 12.109375 -17.921875 \r\nL 12.109375 -9.1875 \r\nQ 16.0625 -11.328125 19.921875 -12.34375 \r\nQ 23.78125 -13.375 27.78125 -13.375 \r\nQ 36.625 -13.375 41.015625 -8.765625 \r\nQ 45.40625 -4.15625 45.40625 5.171875 \r\nL 45.40625 9.625 \r\nQ 42.625 4.78125 38.28125 2.390625 \r\nQ 33.9375 0 27.875 0 \r\nQ 17.828125 0 11.671875 7.65625 \r\nQ 5.515625 15.328125 5.515625 27.984375 \r\nQ 5.515625 40.671875 11.671875 48.328125 \r\nQ 17.828125 56 27.875 56 \r\nQ 33.9375 56 38.28125 53.609375 \r\nQ 42.625 51.21875 45.40625 46.390625 \r\nL 45.40625 54.6875 \r\nL 54.390625 54.6875 \r\nz\r\n\" id=\"DejaVuSans-103\"/>\r\n     </defs>\r\n     <g transform=\"translate(14.798438 146.00304)rotate(-90)scale(0.1 -0.1)\">\r\n      <use xlink:href=\"#DejaVuSans-112\"/>\r\n      <use x=\"63.476562\" xlink:href=\"#DejaVuSans-101\"/>\r\n      <use x=\"125\" xlink:href=\"#DejaVuSans-114\"/>\r\n      <use x=\"166.082031\" xlink:href=\"#DejaVuSans-99\"/>\r\n      <use x=\"221.0625\" xlink:href=\"#DejaVuSans-101\"/>\r\n      <use x=\"282.585938\" xlink:href=\"#DejaVuSans-110\"/>\r\n      <use x=\"345.964844\" xlink:href=\"#DejaVuSans-116\"/>\r\n      <use x=\"385.173828\" xlink:href=\"#DejaVuSans-97\"/>\r\n      <use x=\"446.453125\" xlink:href=\"#DejaVuSans-103\"/>\r\n      <use x=\"509.929688\" xlink:href=\"#DejaVuSans-101\"/>\r\n     </g>\r\n    </g>\r\n   </g>\r\n   <g id=\"line2d_20\">\r\n    <path clip-path=\"url(#p4f3bece0ce)\" d=\"M 0 0 \r\n\" style=\"fill:none;stroke:#424242;stroke-linecap:square;stroke-width:2.7;\"/>\r\n   </g>\r\n   <g id=\"line2d_21\">\r\n    <path clip-path=\"url(#p4f3bece0ce)\" d=\"M 0 0 \r\n\" style=\"fill:none;stroke:#424242;stroke-linecap:square;stroke-width:2.7;\"/>\r\n   </g>\r\n   <g id=\"line2d_22\">\r\n    <path clip-path=\"url(#p4f3bece0ce)\" d=\"M 0 0 \r\n\" style=\"fill:none;stroke:#424242;stroke-linecap:square;stroke-width:2.7;\"/>\r\n   </g>\r\n   <g id=\"line2d_23\">\r\n    <path clip-path=\"url(#p4f3bece0ce)\" d=\"M 0 0 \r\n\" style=\"fill:none;stroke:#424242;stroke-linecap:square;stroke-width:2.7;\"/>\r\n   </g>\r\n   <g id=\"line2d_24\">\r\n    <path clip-path=\"url(#p4f3bece0ce)\" d=\"M 0 0 \r\n\" style=\"fill:none;stroke:#424242;stroke-linecap:square;stroke-width:2.7;\"/>\r\n   </g>\r\n   <g id=\"line2d_25\">\r\n    <path clip-path=\"url(#p4f3bece0ce)\" d=\"M 0 0 \r\n\" style=\"fill:none;stroke:#424242;stroke-linecap:square;stroke-width:2.7;\"/>\r\n   </g>\r\n   <g id=\"line2d_26\">\r\n    <path clip-path=\"url(#p4f3bece0ce)\" d=\"M 0 0 \r\n\" style=\"fill:none;stroke:#424242;stroke-linecap:square;stroke-width:2.7;\"/>\r\n   </g>\r\n   <g id=\"line2d_27\">\r\n    <path clip-path=\"url(#p4f3bece0ce)\" d=\"M 0 0 \r\n\" style=\"fill:none;stroke:#424242;stroke-linecap:square;stroke-width:2.7;\"/>\r\n   </g>\r\n   <g id=\"line2d_28\">\r\n    <path clip-path=\"url(#p4f3bece0ce)\" d=\"M 0 0 \r\n\" style=\"fill:none;stroke:#424242;stroke-linecap:square;stroke-width:2.7;\"/>\r\n   </g>\r\n   <g id=\"line2d_29\">\r\n    <path clip-path=\"url(#p4f3bece0ce)\" d=\"M 0 0 \r\n\" style=\"fill:none;stroke:#424242;stroke-linecap:square;stroke-width:2.7;\"/>\r\n   </g>\r\n   <g id=\"line2d_30\">\r\n    <path clip-path=\"url(#p4f3bece0ce)\" d=\"M 0 0 \r\n\" style=\"fill:none;stroke:#424242;stroke-linecap:square;stroke-width:2.7;\"/>\r\n   </g>\r\n   <g id=\"line2d_31\">\r\n    <path clip-path=\"url(#p4f3bece0ce)\" d=\"M 0 0 \r\n\" style=\"fill:none;stroke:#424242;stroke-linecap:square;stroke-width:2.7;\"/>\r\n   </g>\r\n   <g id=\"line2d_32\">\r\n    <path clip-path=\"url(#p4f3bece0ce)\" d=\"M 0 0 \r\n\" style=\"fill:none;stroke:#424242;stroke-linecap:square;stroke-width:2.7;\"/>\r\n   </g>\r\n   <g id=\"line2d_33\">\r\n    <path clip-path=\"url(#p4f3bece0ce)\" d=\"M 0 0 \r\n\" style=\"fill:none;stroke:#424242;stroke-linecap:square;stroke-width:2.7;\"/>\r\n   </g>\r\n   <g id=\"line2d_34\">\r\n    <path clip-path=\"url(#p4f3bece0ce)\" d=\"M 0 0 \r\n\" style=\"fill:none;stroke:#424242;stroke-linecap:square;stroke-width:2.7;\"/>\r\n   </g>\r\n   <g id=\"line2d_35\">\r\n    <path clip-path=\"url(#p4f3bece0ce)\" d=\"M 0 0 \r\n\" style=\"fill:none;stroke:#424242;stroke-linecap:square;stroke-width:2.7;\"/>\r\n   </g>\r\n   <g id=\"line2d_36\">\r\n    <path clip-path=\"url(#p4f3bece0ce)\" d=\"M 0 0 \r\n\" style=\"fill:none;stroke:#424242;stroke-linecap:square;stroke-width:2.7;\"/>\r\n   </g>\r\n   <g id=\"line2d_37\">\r\n    <path clip-path=\"url(#p4f3bece0ce)\" d=\"M 0 0 \r\n\" style=\"fill:none;stroke:#424242;stroke-linecap:square;stroke-width:2.7;\"/>\r\n   </g>\r\n   <g id=\"line2d_38\">\r\n    <path clip-path=\"url(#p4f3bece0ce)\" d=\"M 0 0 \r\n\" style=\"fill:none;stroke:#424242;stroke-linecap:square;stroke-width:2.7;\"/>\r\n   </g>\r\n   <g id=\"line2d_39\">\r\n    <path clip-path=\"url(#p4f3bece0ce)\" d=\"M 0 0 \r\n\" style=\"fill:none;stroke:#424242;stroke-linecap:square;stroke-width:2.7;\"/>\r\n   </g>\r\n   <g id=\"patch_23\">\r\n    <path d=\"M 40.603125 226.148821 \r\nL 40.603125 8.708821 \r\n\" style=\"fill:none;stroke:#000000;stroke-linecap:square;stroke-linejoin:miter;stroke-width:0.8;\"/>\r\n   </g>\r\n   <g id=\"patch_24\">\r\n    <path d=\"M 375.403125 226.148821 \r\nL 375.403125 8.708821 \r\n\" style=\"fill:none;stroke:#000000;stroke-linecap:square;stroke-linejoin:miter;stroke-width:0.8;\"/>\r\n   </g>\r\n   <g id=\"patch_25\">\r\n    <path d=\"M 40.603125 226.148821 \r\nL 375.403125 226.148821 \r\n\" style=\"fill:none;stroke:#000000;stroke-linecap:square;stroke-linejoin:miter;stroke-width:0.8;\"/>\r\n   </g>\r\n   <g id=\"patch_26\">\r\n    <path d=\"M 40.603125 8.708821 \r\nL 375.403125 8.708821 \r\n\" style=\"fill:none;stroke:#000000;stroke-linecap:square;stroke-linejoin:miter;stroke-width:0.8;\"/>\r\n   </g>\r\n   <g id=\"legend_1\">\r\n    <g id=\"patch_27\">\r\n     <path d=\"M 310.9625 60.743196 \r\nL 368.403125 60.743196 \r\nQ 370.403125 60.743196 370.403125 58.743196 \r\nL 370.403125 15.708821 \r\nQ 370.403125 13.708821 368.403125 13.708821 \r\nL 310.9625 13.708821 \r\nQ 308.9625 13.708821 308.9625 15.708821 \r\nL 308.9625 58.743196 \r\nQ 308.9625 60.743196 310.9625 60.743196 \r\nz\r\n\" style=\"fill:#ffffff;opacity:0.8;stroke:#cccccc;stroke-linejoin:miter;\"/>\r\n    </g>\r\n    <g id=\"text_22\">\r\n     <!-- dataset -->\r\n     <defs>\r\n      <path d=\"M 45.40625 46.390625 \r\nL 45.40625 75.984375 \r\nL 54.390625 75.984375 \r\nL 54.390625 0 \r\nL 45.40625 0 \r\nL 45.40625 8.203125 \r\nQ 42.578125 3.328125 38.25 0.953125 \r\nQ 33.9375 -1.421875 27.875 -1.421875 \r\nQ 17.96875 -1.421875 11.734375 6.484375 \r\nQ 5.515625 14.40625 5.515625 27.296875 \r\nQ 5.515625 40.1875 11.734375 48.09375 \r\nQ 17.96875 56 27.875 56 \r\nQ 33.9375 56 38.25 53.625 \r\nQ 42.578125 51.265625 45.40625 46.390625 \r\nz\r\nM 14.796875 27.296875 \r\nQ 14.796875 17.390625 18.875 11.75 \r\nQ 22.953125 6.109375 30.078125 6.109375 \r\nQ 37.203125 6.109375 41.296875 11.75 \r\nQ 45.40625 17.390625 45.40625 27.296875 \r\nQ 45.40625 37.203125 41.296875 42.84375 \r\nQ 37.203125 48.484375 30.078125 48.484375 \r\nQ 22.953125 48.484375 18.875 42.84375 \r\nQ 14.796875 37.203125 14.796875 27.296875 \r\nz\r\n\" id=\"DejaVuSans-100\"/>\r\n      <path d=\"M 44.28125 53.078125 \r\nL 44.28125 44.578125 \r\nQ 40.484375 46.53125 36.375 47.5 \r\nQ 32.28125 48.484375 27.875 48.484375 \r\nQ 21.1875 48.484375 17.84375 46.4375 \r\nQ 14.5 44.390625 14.5 40.28125 \r\nQ 14.5 37.15625 16.890625 35.375 \r\nQ 19.28125 33.59375 26.515625 31.984375 \r\nL 29.59375 31.296875 \r\nQ 39.15625 29.25 43.1875 25.515625 \r\nQ 47.21875 21.78125 47.21875 15.09375 \r\nQ 47.21875 7.46875 41.1875 3.015625 \r\nQ 35.15625 -1.421875 24.609375 -1.421875 \r\nQ 20.21875 -1.421875 15.453125 -0.5625 \r\nQ 10.6875 0.296875 5.421875 2 \r\nL 5.421875 11.28125 \r\nQ 10.40625 8.6875 15.234375 7.390625 \r\nQ 20.0625 6.109375 24.8125 6.109375 \r\nQ 31.15625 6.109375 34.5625 8.28125 \r\nQ 37.984375 10.453125 37.984375 14.40625 \r\nQ 37.984375 18.0625 35.515625 20.015625 \r\nQ 33.0625 21.96875 24.703125 23.78125 \r\nL 21.578125 24.515625 \r\nQ 13.234375 26.265625 9.515625 29.90625 \r\nQ 5.8125 33.546875 5.8125 39.890625 \r\nQ 5.8125 47.609375 11.28125 51.796875 \r\nQ 16.75 56 26.8125 56 \r\nQ 31.78125 56 36.171875 55.265625 \r\nQ 40.578125 54.546875 44.28125 53.078125 \r\nz\r\n\" id=\"DejaVuSans-115\"/>\r\n     </defs>\r\n     <g transform=\"translate(320.778906 25.307259)scale(0.1 -0.1)\">\r\n      <use xlink:href=\"#DejaVuSans-100\"/>\r\n      <use x=\"63.476562\" xlink:href=\"#DejaVuSans-97\"/>\r\n      <use x=\"124.755859\" xlink:href=\"#DejaVuSans-116\"/>\r\n      <use x=\"163.964844\" xlink:href=\"#DejaVuSans-97\"/>\r\n      <use x=\"225.244141\" xlink:href=\"#DejaVuSans-115\"/>\r\n      <use x=\"277.34375\" xlink:href=\"#DejaVuSans-101\"/>\r\n      <use x=\"338.867188\" xlink:href=\"#DejaVuSans-116\"/>\r\n     </g>\r\n    </g>\r\n    <g id=\"patch_28\">\r\n     <path d=\"M 312.9625 39.985384 \r\nL 332.9625 39.985384 \r\nL 332.9625 32.985384 \r\nL 312.9625 32.985384 \r\nz\r\n\" style=\"fill:#3274a1;\"/>\r\n    </g>\r\n    <g id=\"text_23\">\r\n     <!-- Train -->\r\n     <defs>\r\n      <path d=\"M -0.296875 72.90625 \r\nL 61.375 72.90625 \r\nL 61.375 64.59375 \r\nL 35.5 64.59375 \r\nL 35.5 0 \r\nL 25.59375 0 \r\nL 25.59375 64.59375 \r\nL -0.296875 64.59375 \r\nz\r\n\" id=\"DejaVuSans-84\"/>\r\n      <path d=\"M 9.421875 54.6875 \r\nL 18.40625 54.6875 \r\nL 18.40625 0 \r\nL 9.421875 0 \r\nz\r\nM 9.421875 75.984375 \r\nL 18.40625 75.984375 \r\nL 18.40625 64.59375 \r\nL 9.421875 64.59375 \r\nz\r\n\" id=\"DejaVuSans-105\"/>\r\n     </defs>\r\n     <g transform=\"translate(340.9625 39.985384)scale(0.1 -0.1)\">\r\n      <use xlink:href=\"#DejaVuSans-84\"/>\r\n      <use x=\"60.865234\" xlink:href=\"#DejaVuSans-114\"/>\r\n      <use x=\"101.978516\" xlink:href=\"#DejaVuSans-97\"/>\r\n      <use x=\"163.257812\" xlink:href=\"#DejaVuSans-105\"/>\r\n      <use x=\"191.041016\" xlink:href=\"#DejaVuSans-110\"/>\r\n     </g>\r\n    </g>\r\n    <g id=\"patch_29\">\r\n     <path d=\"M 312.9625 54.663509 \r\nL 332.9625 54.663509 \r\nL 332.9625 47.663509 \r\nL 312.9625 47.663509 \r\nz\r\n\" style=\"fill:#e1812c;\"/>\r\n    </g>\r\n    <g id=\"text_24\">\r\n     <!-- Test -->\r\n     <g transform=\"translate(340.9625 54.663509)scale(0.1 -0.1)\">\r\n      <use xlink:href=\"#DejaVuSans-84\"/>\r\n      <use x=\"60.818359\" xlink:href=\"#DejaVuSans-101\"/>\r\n      <use x=\"122.341797\" xlink:href=\"#DejaVuSans-115\"/>\r\n      <use x=\"174.441406\" xlink:href=\"#DejaVuSans-116\"/>\r\n     </g>\r\n    </g>\r\n   </g>\r\n  </g>\r\n </g>\r\n <defs>\r\n  <clipPath id=\"p4f3bece0ce\">\r\n   <rect height=\"217.44\" width=\"334.8\" x=\"40.603125\" y=\"8.708821\"/>\r\n  </clipPath>\r\n </defs>\r\n</svg>\r\n",
      "image/png": "[encoded data removed]"
     },
     "metadata": {
      "needs_background": "light"
     }
    }
   ],
   "source": [
    "ax = sns.barplot(x=\"label\", y=\"percentage\", hue=\"dataset\", data=label_dist)"
   ]
  },
  {
   "cell_type": "markdown",
   "metadata": {},
   "source": [
    "**Observations:**\n",
    "\n",
    "* Roughly the same distribution across the train and test set"
   ]
  },
  {
   "cell_type": "markdown",
   "metadata": {},
   "source": [
    "# Zero padding"
   ]
  },
  {
   "cell_type": "code",
   "execution_count": 54,
   "metadata": {},
   "outputs": [],
   "source": [
    "X_train_encoded = sequence.pad_sequences(X_train_encoded, maxlen=time_steps)\n",
    "X_test_encoded = sequence.pad_sequences(X_test_encoded, maxlen=time_steps)"
   ]
  },
  {
   "cell_type": "code",
   "execution_count": 55,
   "metadata": {},
   "outputs": [],
   "source": [
    "y_train_encoded = sequence.pad_sequences(y_train_encoded, maxlen=time_steps)\n",
    "y_test_encoded = sequence.pad_sequences(y_test_encoded, maxlen=time_steps)"
   ]
  },
  {
   "cell_type": "code",
   "execution_count": 56,
   "metadata": {},
   "outputs": [
    {
     "output_type": "stream",
     "name": "stdout",
     "text": "['wednesday , august 28th schedule' 'toronto 58 69 .457 15' '-docstart-'\n 'two key players left a brazilian championship match early on sunday because they had to catch a plane to russia to play with the national team .']\n[[   0    0    0    0    0    0    0    0    0    0    0    0    0    0\n     0    0    0    0    0    0    0    0    0    0    0    0    0    0\n     0    0    0    0    0    0    0    0   75    5  163 3243  944]\n [   0    0    0    0    0    0    0    0    0    0    0    0    0    0\n     0    0    0    0    0    0    0    0    0    0    0    0    0    0\n     0    0    0    0    0    0    0    0  481  900  227 3901  152]\n [   0    0    0    0    0    0    0    0    0    0    0    0    0    0\n     0    0    0    0    0    0    0    0    0    0    0    0    0    0\n     0    0    0    0    0    0    0    0    0    0    0    0   23]\n [   0    0    0    0    0    0    0    0    0    0    0    0    0    0\n    52  984  454  338    9 1103  355  134  303   14  112  173   51   38\n     8 2435    9  611    8  243    8  304   26    3  143  207    4]]\n"
    }
   ],
   "source": [
    "print(X_train[0:4])\n",
    "print(X_train_encoded[0:4])"
   ]
  },
  {
   "cell_type": "code",
   "execution_count": 57,
   "metadata": {},
   "outputs": [
    {
     "output_type": "stream",
     "name": "stdout",
     "text": "11112                                            O O O O O\n820                                          B-ORG O O O O\n1643                                                     O\n7210     O O O O O B-MISC O O O O O O O O O O O O O B-L...\nName: NER, dtype: object\n[[0 0 0 0 0 0 0 0 0 0 0 0 0 0 0 0 0 0 0 0 0 0 0 0 0 0 0 0 0 0 0 0 0 0 0 0\n  0 0 0 0 0]\n [0 0 0 0 0 0 0 0 0 0 0 0 0 0 0 0 0 0 0 0 0 0 0 0 0 0 0 0 0 0 0 0 0 0 0 0\n  3 0 0 0 0]\n [0 0 0 0 0 0 0 0 0 0 0 0 0 0 0 0 0 0 0 0 0 0 0 0 0 0 0 0 0 0 0 0 0 0 0 0\n  0 0 0 0 0]\n [0 0 0 0 0 0 0 0 0 0 0 0 0 0 0 0 0 0 0 6 0 0 0 0 0 0 0 0 0 0 0 0 0 1 0 0\n  0 0 0 0 0]]\n"
    }
   ],
   "source": [
    "print(y_train[0:4])\n",
    "print(y_train_encoded[0:4])"
   ]
  },
  {
   "cell_type": "markdown",
   "metadata": {},
   "source": [
    "# Models"
   ]
  },
  {
   "cell_type": "code",
   "execution_count": 58,
   "metadata": {},
   "outputs": [],
   "source": [
    "import matplotlib.pyplot as plt\n",
    "%matplotlib inline\n",
    "\n",
    "def plot_metrics(history: tf.keras.callbacks.History, metrics: List[str] = ['loss'], figsize: Tuple[int, int] = (10,4), title: str = \"Train/Test Curves\", titlefontsize:int = 14):\n",
    "  \"\"\"\n",
    "  This functin will plot the metrics for the model\n",
    "  :param history: The history object obtained from the fit function.\n",
    "  :type history: tf.python.keras.callbacks.History\n",
    "  :param metrics: What metrics to plot for the model (Default = ['loss'])\n",
    "  :type metrics: List[str]\n",
    "  :param figsize: Figure size to be used for plotting (Default = (10,4))\n",
    "  :type figsize: Tuple(int,int)\n",
    "  \"\"\"\n",
    "  num_plots = len(metrics)\n",
    "  fig, axes = plt.subplots(int(num_plots/2), 2, figsize=figsize)\n",
    "\n",
    "  for num, metric in enumerate(metrics):\n",
    "    # summarize history for metric\n",
    "    if num <= 2:\n",
    "      axes[num%2].plot(history.history[metric])\n",
    "      axes[num%2].plot(history.history['val_' + metric])\n",
    "      axes[num%2].set_title('Model ' + metric)\n",
    "      axes[num%2].set(xlabel='Epoch', ylabel=metric)\n",
    "      axes[num%2].legend(['train', 'val'], loc='best')    \n",
    "    else:\n",
    "      axes[floor(num/2), num%2].plot(history.history[metric])\n",
    "      axes[floor(num/2), num%2].plot(history.history['val_' + metric])\n",
    "      axes[floor(num/2), num%2].set_title('Model ' + metric)\n",
    "      axes[floor(num/2), num%2].set(xlabel='Epoch', ylabel=metric)\n",
    "      axes[floor(num/2), num%2].legend(['train', 'val'], loc='best')\n",
    "\n",
    "  plt.suptitle(title, fontsize=titlefontsize, y=1.02)    \n",
    "  plt.tight_layout()\n",
    "  _ = plt.show"
   ]
  },
  {
   "cell_type": "code",
   "execution_count": 59,
   "metadata": {},
   "outputs": [],
   "source": [
    "from tensorflow.keras.callbacks import EarlyStopping\n",
    "# If validation error does not improve for 10 epochs, then terminate the training\n",
    "es = EarlyStopping(min_delta=0,patience=2)  # Reduced from 10 to lower value since training takes a long time for this model"
   ]
  },
  {
   "cell_type": "code",
   "execution_count": 60,
   "metadata": {},
   "outputs": [],
   "source": [
    "# import other libs as needed for building model\n",
    "from tensorflow.keras.callbacks import ModelCheckpoint\n",
    "\n",
    "# add a checkpoint to save the lowest validation loss\n",
    "filepath = '.'\n",
    "\n",
    "checkpoint = ModelCheckpoint(filepath, monitor='val_loss', verbose=1, \n",
    "                             save_best_only=True, save_weights_only=False, \n",
    "                             mode='auto', save_frequency=1)"
   ]
  },
  {
   "cell_type": "code",
   "execution_count": null,
   "metadata": {},
   "outputs": [],
   "source": []
  },
  {
   "cell_type": "code",
   "execution_count": 75,
   "metadata": {},
   "outputs": [],
   "source": [
    "def create_model_multiple_outputs(vocabulary_size: int, time_steps: int, embedding_size: int, num_labels: int, type: str = 'lstm', direction: str = 'uni', num_neuron: int=100, dropout: float=0, recurrent_dropout: float=0) -> tf.keras.layers.Layer:\n",
    "  \"\"\"\n",
    "  Creates a Sequence Model with the passed parameters\n",
    "  :param vocabulary_size Size of the Vocabulary\n",
    "  :type vocabulary_size int\n",
    "  :param time_steps Number of steps in the sequence (e.g. length of sentence)\n",
    "  :type time_steps int\n",
    "  :param embedding_size Size of the Embedding \n",
    "  :type embedding_size int\n",
    "  :param type Type of sequence model (Options: 'simple_rnn', 'lstm' or 'gru' (Default: 'lstm')\n",
    "  :type type str\n",
    "  :param num_neuron Number of neurons to be passed to the \"cell\"\n",
    "  :type num_neuron int\n",
    "  :param dropout Amount of dropout to use between the memory layer and the fully connected layer\n",
    "  :type dropout float\n",
    "  :param recurrent_dropout Amount of recurrent dropout to use\n",
    "  :type recurrent_dropout float\n",
    "  :rtype tf.keras.layers.Layer\n",
    "  \"\"\"\n",
    "  model = Sequential()\n",
    "  model.add(Embedding(vocabulary_size, embedding_size, input_length=time_steps))\n",
    "  if type.lower() == 'simple_rnn':\n",
    "    if direction.lower() == 'uni':\n",
    "      model.add(RNN(num_neuron, return_sequences=True, dropout=dropout, recurrent_dropout=recurrent_dropout))\n",
    "    elif direction.lower() == 'bi':\n",
    "      model.add(Bidirectional(RNN(num_neuron, return_sequences=True, dropout=dropout, recurrent_dropout=recurrent_dropout)))\n",
    "    else:\n",
    "      sys.exit(\"You have not passed the right argument for 'direction'. Allowed values are 'uni' for unidirectinal model, or 'bi' for bidirectional model.\")\n",
    "  elif type.lower() == 'lstm':\n",
    "    if direction.lower() == 'uni':\n",
    "      model.add(LSTM(num_neuron, return_sequences=True, dropout=dropout, recurrent_dropout=recurrent_dropout))\n",
    "    elif direction.lower() == 'bi':\n",
    "      model.add(Bidirectional(LSTM(num_neuron, return_sequences=True, dropout=dropout, recurrent_dropout=recurrent_dropout)))\n",
    "    else:\n",
    "      sys.exit(\"You have not passed the right argument for 'direction'. Allowed values are 'uni' for unidirectinal model, or 'bi' for bidirectional model.\")\n",
    "  elif type.lower() == 'gru':\n",
    "    if direction.lower() == 'uni':\n",
    "      model.add(GRU(num_neuron, return_sequences=True, dropout=dropout, recurrent_dropout=recurrent_dropout))\n",
    "    elif direction.lower() == 'bi':\n",
    "      model.add(Bidirectional(GRU(num_neuron, return_sequences=True, dropout=dropout, recurrent_dropout=recurrent_dropout)))\n",
    "    else:\n",
    "      sys.exit(\"You have not passed the right argument for 'direction'. Allowed values are 'uni' for unidirectinal model, or 'bi' for bidirectional model.\")\n",
    "  else:\n",
    "    sys.exit(\"You have not passed the right argument for 'type'. Allowed values are 'simple_rnn', 'lstm' or 'gru'.\")\n",
    "  model.add(TimeDistributed(Dense(num_labels, activation='softmax')))\n",
    "  model.compile(loss='sparse_categorical_crossentropy', optimizer='adam', metrics=['accuracy'])\n",
    "  return model\n",
    "\n",
    "def create_simple_rnn_model_multiple_outputs(vocabulary_size: int, time_steps: int, embedding_size: int, num_labels: int, direction: str = 'uni', num_neuron: int=100, dropout: float=0, recurrent_dropout: float=0) -> tf.keras.layers.Layer:\n",
    "  \"\"\"\n",
    "  Creates a Simple RNN Model with the passed parameters\n",
    "  :param vocabulary_size Size of the Vocabulary\n",
    "  :type vocabulary_size int\n",
    "  :param time_steps Number of steps in the sequence (e.g. length of sentence)\n",
    "  :type time_steps int\n",
    "  :param embedding_size Size of the Embedding \n",
    "  :type embedding_size int\n",
    "  :param num_neuron Number of neurons to be passed to the \"cell\"\n",
    "  :type num_neuron int\n",
    "  :param dropout Amount of dropout to use between the memory layer and the fully connected layer\n",
    "  :type dropout float\n",
    "  :param recurrent_dropout Amount of recurrent dropout to use\n",
    "  :type recurrent_dropout float\n",
    "  :rtype tf.keras.layers.Layer\n",
    "  \"\"\"\n",
    "  model = create_model_multiple_outputs(vocabulary_size, time_steps, embedding_size, num_labels, 'simple_rnn', direction, num_neuron, dropout, recurrent_dropout)\n",
    "  return model\n",
    "\n",
    "def create_lstm_model_multiple_outputs(vocabulary_size: int, time_steps: int, embedding_size: int, num_labels: int, direction: str = 'uni', num_neuron: int=100, dropout: float=0, recurrent_dropout: float=0) -> tf.keras.layers.Layer:\n",
    "  \"\"\"\n",
    "  Creates a LSTM Model with the passed parameters\n",
    "  :param vocabulary_size Size of the Vocabulary\n",
    "  :type vocabulary_size int\n",
    "  :param time_steps Number of steps in the sequence (e.g. length of sentence)\n",
    "  :type time_steps int\n",
    "  :param embedding_size Size of the Embedding \n",
    "  :type embedding_size int\n",
    "  :param num_neuron Number of neurons to be passed to the \"cell\"\n",
    "  :type num_neuron int\n",
    "  :param dropout Amount of dropout to use between the memory layer and the fully connected layer\n",
    "  :type dropout float\n",
    "  :param recurrent_dropout Amount of recurrent dropout to use\n",
    "  :type recurrent_dropout float\n",
    "  :rtype tf.keras.layers.Layer\n",
    "  \"\"\"\n",
    "  model = create_model_multiple_outputs(vocabulary_size, time_steps, embedding_size, num_labels, 'lstm', direction, num_neuron, dropout, recurrent_dropout)\n",
    "  return model\n",
    "\n",
    "def create_gru_model_multiple_outputs(vocabulary_size: int, time_steps: int, embedding_size: int, num_labels: int, direction: str = 'uni', num_neuron: int=100, dropout: float=0, recurrent_dropout: float=0) -> tf.keras.layers.Layer:\n",
    "  \"\"\"\n",
    "  Creates a GRU Model with the passed parameters\n",
    "  :param vocabulary_size Size of the Vocabulary\n",
    "  :type vocabulary_size int\n",
    "  :param time_steps Number of steps in the sequence (e.g. length of sentence)\n",
    "  :type time_steps int\n",
    "  :param embedding_size Size of the Embedding \n",
    "  :type embedding_size int\n",
    "  :param num_neuron Number of neurons to be passed to the \"cell\"\n",
    "  :type num_neuron int\n",
    "  :param dropout Amount of dropout to use between the memory layer and the fully connected layer\n",
    "  :type dropout float\n",
    "  :param recurrent_dropout Amount of recurrent dropout to use\n",
    "  :type recurrent_dropout float\n",
    "  :rtype tf.keras.layers.Layer\n",
    "  \"\"\"\n",
    "  model = create_model_multiple_outputs(vocabulary_size, time_steps, embedding_size, num_labels, 'gru', direction, num_neuron, dropout, recurrent_dropout)\n",
    "  return model"
   ]
  },
  {
   "cell_type": "markdown",
   "metadata": {},
   "source": [
    "# LSTM"
   ]
  },
  {
   "cell_type": "code",
   "execution_count": 81,
   "metadata": {},
   "outputs": [],
   "source": [
    "num_combinations = 3 # Number of hyperparameter combinations"
   ]
  },
  {
   "cell_type": "markdown",
   "metadata": {},
   "source": [
    "## Unidirectional"
   ]
  },
  {
   "cell_type": "code",
   "execution_count": 77,
   "metadata": {},
   "outputs": [
    {
     "output_type": "stream",
     "name": "stdout",
     "text": "\n\n\n\n---------------------------------------------------------------------------\nTraining model for hyperparameter combination 1:\nQuantile: 0.8749080237694725 --> Time Steps: 30\nEmbedding Size: 24, Num Neurons: 47, Dropout: 0.3118764001091077, Rec. Dropout: 0.5193700315892974\n---------------------------------------------------------------------------\n\n\nModel: \"sequential_4\"\n_________________________________________________________________\nLayer (type)                 Output Shape              Param #   \n=================================================================\nembedding_4 (Embedding)      (None, 30, 24)            451368    \n_________________________________________________________________\nlstm_4 (LSTM)                (None, 30, 47)            13536     \n_________________________________________________________________\ntime_distributed_4 (TimeDist (None, 30, 10)            480       \n=================================================================\nTotal params: 465,384\nTrainable params: 465,384\nNon-trainable params: 0\n_________________________________________________________________\nNone\nTrain on 11989 samples, validate on 2998 samples\nEpoch 1/50\n11989/11989 [==============================] - 30s 2ms/sample - loss: 0.4925 - accuracy: 0.9241 - val_loss: 0.2059 - val_accuracy: 0.9363\nEpoch 2/50\n11989/11989 [==============================] - 26s 2ms/sample - loss: 0.1665 - accuracy: 0.9459 - val_loss: 0.1502 - val_accuracy: 0.9510\nEpoch 3/50\n11989/11989 [==============================] - 26s 2ms/sample - loss: 0.1261 - accuracy: 0.9570 - val_loss: 0.1352 - val_accuracy: 0.9553\nEpoch 4/50\n11989/11989 [==============================] - 26s 2ms/sample - loss: 0.1102 - accuracy: 0.9632 - val_loss: 0.1311 - val_accuracy: 0.9608\nEpoch 5/50\n11989/11989 [==============================] - 26s 2ms/sample - loss: 0.0984 - accuracy: 0.9707 - val_loss: 0.1226 - val_accuracy: 0.9648\nEpoch 6/50\n11989/11989 [==============================] - 25s 2ms/sample - loss: 0.0838 - accuracy: 0.9772 - val_loss: 0.1139 - val_accuracy: 0.9671\nEpoch 7/50\n11989/11989 [==============================] - 26s 2ms/sample - loss: 0.0683 - accuracy: 0.9814 - val_loss: 0.1060 - val_accuracy: 0.9682\nEpoch 8/50\n11989/11989 [==============================] - 26s 2ms/sample - loss: 0.0567 - accuracy: 0.9840 - val_loss: 0.0959 - val_accuracy: 0.9719\nEpoch 9/50\n11989/11989 [==============================] - 26s 2ms/sample - loss: 0.0494 - accuracy: 0.9856 - val_loss: 0.0916 - val_accuracy: 0.9732\nEpoch 10/50\n11989/11989 [==============================] - 26s 2ms/sample - loss: 0.0445 - accuracy: 0.9868 - val_loss: 0.0865 - val_accuracy: 0.9752\nEpoch 11/50\n11989/11989 [==============================] - 27s 2ms/sample - loss: 0.0408 - accuracy: 0.9876 - val_loss: 0.0841 - val_accuracy: 0.9760\nEpoch 12/50\n11989/11989 [==============================] - 26s 2ms/sample - loss: 0.0374 - accuracy: 0.9888 - val_loss: 0.0846 - val_accuracy: 0.9756\nEpoch 13/50\n11989/11989 [==============================] - 26s 2ms/sample - loss: 0.0350 - accuracy: 0.9894 - val_loss: 0.0821 - val_accuracy: 0.9768\nEpoch 14/50\n11989/11989 [==============================] - 26s 2ms/sample - loss: 0.0324 - accuracy: 0.9902 - val_loss: 0.0818 - val_accuracy: 0.9778\nEpoch 15/50\n11989/11989 [==============================] - 26s 2ms/sample - loss: 0.0304 - accuracy: 0.9904 - val_loss: 0.0818 - val_accuracy: 0.9772\nEpoch 16/50\n11989/11989 [==============================] - 27s 2ms/sample - loss: 0.0283 - accuracy: 0.9910 - val_loss: 0.0811 - val_accuracy: 0.9780\nEpoch 17/50\n11989/11989 [==============================] - 27s 2ms/sample - loss: 0.0268 - accuracy: 0.9913 - val_loss: 0.0822 - val_accuracy: 0.9782\nEpoch 18/50\n11989/11989 [==============================] - 27s 2ms/sample - loss: 0.0254 - accuracy: 0.9918 - val_loss: 0.0840 - val_accuracy: 0.9776\nEpoch 19/50\n11989/11989 [==============================] - 26s 2ms/sample - loss: 0.0242 - accuracy: 0.9921 - val_loss: 0.0828 - val_accuracy: 0.9782\nEpoch 20/50\n11989/11989 [==============================] - 27s 2ms/sample - loss: 0.0230 - accuracy: 0.9926 - val_loss: 0.0812 - val_accuracy: 0.9793\nEpoch 21/50\n11989/11989 [==============================] - 26s 2ms/sample - loss: 0.0222 - accuracy: 0.9929 - val_loss: 0.0855 - val_accuracy: 0.9785\nEpoch 22/50\n11989/11989 [==============================] - 27s 2ms/sample - loss: 0.0210 - accuracy: 0.9930 - val_loss: 0.0878 - val_accuracy: 0.9777\nEpoch 23/50\n11989/11989 [==============================] - 26s 2ms/sample - loss: 0.0206 - accuracy: 0.9933 - val_loss: 0.0834 - val_accuracy: 0.9798\nEpoch 24/50\n11989/11989 [==============================] - 27s 2ms/sample - loss: 0.0196 - accuracy: 0.9935 - val_loss: 0.0893 - val_accuracy: 0.9782\nEpoch 25/50\n11989/11989 [==============================] - 26s 2ms/sample - loss: 0.0189 - accuracy: 0.9937 - val_loss: 0.0881 - val_accuracy: 0.9784\nEpoch 26/50\n11989/11989 [==============================] - 27s 2ms/sample - loss: 0.0178 - accuracy: 0.9940 - val_loss: 0.0878 - val_accuracy: 0.9797\n"
    },
    {
     "output_type": "display_data",
     "data": {
      "text/plain": "<Figure size 720x288 with 2 Axes>",
      "image/svg+xml": "<?xml version=\"1.0\" encoding=\"utf-8\" standalone=\"no\"?>\r\n<!DOCTYPE svg PUBLIC \"-//W3C//DTD SVG 1.1//EN\"\r\n  \"http://www.w3.org/Graphics/SVG/1.1/DTD/svg11.dtd\">\r\n<!-- Created with matplotlib (https://matplotlib.org/) -->\r\n<svg height=\"296.71625pt\" version=\"1.1\" viewBox=\"0 0 712.50625 296.71625\" width=\"712.50625pt\" xmlns=\"http://www.w3.org/2000/svg\" xmlns:xlink=\"http://www.w3.org/1999/xlink\">\r\n <defs>\r\n  <style type=\"text/css\">\r\n*{stroke-linecap:butt;stroke-linejoin:round;}\r\n  </style>\r\n </defs>\r\n <g id=\"figure_1\">\r\n  <g id=\"patch_1\">\r\n   <path d=\"M 0 296.71625 \r\nL 712.50625 296.71625 \r\nL 712.50625 0 \r\nL 0 0 \r\nz\r\n\" style=\"fill:none;\"/>\r\n  </g>\r\n  <g id=\"axes_1\">\r\n   <g id=\"patch_2\">\r\n    <path d=\"M 43.78125 259.16 \r\nL 347.51875 259.16 \r\nL 347.51875 39.76 \r\nL 43.78125 39.76 \r\nz\r\n\" style=\"fill:#ffffff;\"/>\r\n   </g>\r\n   <g id=\"matplotlib.axis_1\">\r\n    <g id=\"xtick_1\">\r\n     <g id=\"line2d_1\">\r\n      <defs>\r\n       <path d=\"M 0 0 \r\nL 0 3.5 \r\n\" id=\"mf14e57f9b4\" style=\"stroke:#000000;stroke-width:0.8;\"/>\r\n      </defs>\r\n      <g>\r\n       <use style=\"stroke:#000000;stroke-width:0.8;\" x=\"57.5875\" xlink:href=\"#mf14e57f9b4\" y=\"259.16\"/>\r\n      </g>\r\n     </g>\r\n     <g id=\"text_1\">\r\n      <!-- 0 -->\r\n      <defs>\r\n       <path d=\"M 31.78125 66.40625 \r\nQ 24.171875 66.40625 20.328125 58.90625 \r\nQ 16.5 51.421875 16.5 36.375 \r\nQ 16.5 21.390625 20.328125 13.890625 \r\nQ 24.171875 6.390625 31.78125 6.390625 \r\nQ 39.453125 6.390625 43.28125 13.890625 \r\nQ 47.125 21.390625 47.125 36.375 \r\nQ 47.125 51.421875 43.28125 58.90625 \r\nQ 39.453125 66.40625 31.78125 66.40625 \r\nz\r\nM 31.78125 74.21875 \r\nQ 44.046875 74.21875 50.515625 64.515625 \r\nQ 56.984375 54.828125 56.984375 36.375 \r\nQ 56.984375 17.96875 50.515625 8.265625 \r\nQ 44.046875 -1.421875 31.78125 -1.421875 \r\nQ 19.53125 -1.421875 13.0625 8.265625 \r\nQ 6.59375 17.96875 6.59375 36.375 \r\nQ 6.59375 54.828125 13.0625 64.515625 \r\nQ 19.53125 74.21875 31.78125 74.21875 \r\nz\r\n\" id=\"DejaVuSans-48\"/>\r\n      </defs>\r\n      <g transform=\"translate(54.40625 273.758437)scale(0.1 -0.1)\">\r\n       <use xlink:href=\"#DejaVuSans-48\"/>\r\n      </g>\r\n     </g>\r\n    </g>\r\n    <g id=\"xtick_2\">\r\n     <g id=\"line2d_2\">\r\n      <g>\r\n       <use style=\"stroke:#000000;stroke-width:0.8;\" x=\"112.8125\" xlink:href=\"#mf14e57f9b4\" y=\"259.16\"/>\r\n      </g>\r\n     </g>\r\n     <g id=\"text_2\">\r\n      <!-- 5 -->\r\n      <defs>\r\n       <path d=\"M 10.796875 72.90625 \r\nL 49.515625 72.90625 \r\nL 49.515625 64.59375 \r\nL 19.828125 64.59375 \r\nL 19.828125 46.734375 \r\nQ 21.96875 47.46875 24.109375 47.828125 \r\nQ 26.265625 48.1875 28.421875 48.1875 \r\nQ 40.625 48.1875 47.75 41.5 \r\nQ 54.890625 34.8125 54.890625 23.390625 \r\nQ 54.890625 11.625 47.5625 5.09375 \r\nQ 40.234375 -1.421875 26.90625 -1.421875 \r\nQ 22.3125 -1.421875 17.546875 -0.640625 \r\nQ 12.796875 0.140625 7.71875 1.703125 \r\nL 7.71875 11.625 \r\nQ 12.109375 9.234375 16.796875 8.0625 \r\nQ 21.484375 6.890625 26.703125 6.890625 \r\nQ 35.15625 6.890625 40.078125 11.328125 \r\nQ 45.015625 15.765625 45.015625 23.390625 \r\nQ 45.015625 31 40.078125 35.4375 \r\nQ 35.15625 39.890625 26.703125 39.890625 \r\nQ 22.75 39.890625 18.8125 39.015625 \r\nQ 14.890625 38.140625 10.796875 36.28125 \r\nz\r\n\" id=\"DejaVuSans-53\"/>\r\n      </defs>\r\n      <g transform=\"translate(109.63125 273.758437)scale(0.1 -0.1)\">\r\n       <use xlink:href=\"#DejaVuSans-53\"/>\r\n      </g>\r\n     </g>\r\n    </g>\r\n    <g id=\"xtick_3\">\r\n     <g id=\"line2d_3\">\r\n      <g>\r\n       <use style=\"stroke:#000000;stroke-width:0.8;\" x=\"168.0375\" xlink:href=\"#mf14e57f9b4\" y=\"259.16\"/>\r\n      </g>\r\n     </g>\r\n     <g id=\"text_3\">\r\n      <!-- 10 -->\r\n      <defs>\r\n       <path d=\"M 12.40625 8.296875 \r\nL 28.515625 8.296875 \r\nL 28.515625 63.921875 \r\nL 10.984375 60.40625 \r\nL 10.984375 69.390625 \r\nL 28.421875 72.90625 \r\nL 38.28125 72.90625 \r\nL 38.28125 8.296875 \r\nL 54.390625 8.296875 \r\nL 54.390625 0 \r\nL 12.40625 0 \r\nz\r\n\" id=\"DejaVuSans-49\"/>\r\n      </defs>\r\n      <g transform=\"translate(161.675 273.758437)scale(0.1 -0.1)\">\r\n       <use xlink:href=\"#DejaVuSans-49\"/>\r\n       <use x=\"63.623047\" xlink:href=\"#DejaVuSans-48\"/>\r\n      </g>\r\n     </g>\r\n    </g>\r\n    <g id=\"xtick_4\">\r\n     <g id=\"line2d_4\">\r\n      <g>\r\n       <use style=\"stroke:#000000;stroke-width:0.8;\" x=\"223.2625\" xlink:href=\"#mf14e57f9b4\" y=\"259.16\"/>\r\n      </g>\r\n     </g>\r\n     <g id=\"text_4\">\r\n      <!-- 15 -->\r\n      <g transform=\"translate(216.9 273.758437)scale(0.1 -0.1)\">\r\n       <use xlink:href=\"#DejaVuSans-49\"/>\r\n       <use x=\"63.623047\" xlink:href=\"#DejaVuSans-53\"/>\r\n      </g>\r\n     </g>\r\n    </g>\r\n    <g id=\"xtick_5\">\r\n     <g id=\"line2d_5\">\r\n      <g>\r\n       <use style=\"stroke:#000000;stroke-width:0.8;\" x=\"278.4875\" xlink:href=\"#mf14e57f9b4\" y=\"259.16\"/>\r\n      </g>\r\n     </g>\r\n     <g id=\"text_5\">\r\n      <!-- 20 -->\r\n      <defs>\r\n       <path d=\"M 19.1875 8.296875 \r\nL 53.609375 8.296875 \r\nL 53.609375 0 \r\nL 7.328125 0 \r\nL 7.328125 8.296875 \r\nQ 12.9375 14.109375 22.625 23.890625 \r\nQ 32.328125 33.6875 34.8125 36.53125 \r\nQ 39.546875 41.84375 41.421875 45.53125 \r\nQ 43.3125 49.21875 43.3125 52.78125 \r\nQ 43.3125 58.59375 39.234375 62.25 \r\nQ 35.15625 65.921875 28.609375 65.921875 \r\nQ 23.96875 65.921875 18.8125 64.3125 \r\nQ 13.671875 62.703125 7.8125 59.421875 \r\nL 7.8125 69.390625 \r\nQ 13.765625 71.78125 18.9375 73 \r\nQ 24.125 74.21875 28.421875 74.21875 \r\nQ 39.75 74.21875 46.484375 68.546875 \r\nQ 53.21875 62.890625 53.21875 53.421875 \r\nQ 53.21875 48.921875 51.53125 44.890625 \r\nQ 49.859375 40.875 45.40625 35.40625 \r\nQ 44.1875 33.984375 37.640625 27.21875 \r\nQ 31.109375 20.453125 19.1875 8.296875 \r\nz\r\n\" id=\"DejaVuSans-50\"/>\r\n      </defs>\r\n      <g transform=\"translate(272.125 273.758437)scale(0.1 -0.1)\">\r\n       <use xlink:href=\"#DejaVuSans-50\"/>\r\n       <use x=\"63.623047\" xlink:href=\"#DejaVuSans-48\"/>\r\n      </g>\r\n     </g>\r\n    </g>\r\n    <g id=\"xtick_6\">\r\n     <g id=\"line2d_6\">\r\n      <g>\r\n       <use style=\"stroke:#000000;stroke-width:0.8;\" x=\"333.7125\" xlink:href=\"#mf14e57f9b4\" y=\"259.16\"/>\r\n      </g>\r\n     </g>\r\n     <g id=\"text_6\">\r\n      <!-- 25 -->\r\n      <g transform=\"translate(327.35 273.758437)scale(0.1 -0.1)\">\r\n       <use xlink:href=\"#DejaVuSans-50\"/>\r\n       <use x=\"63.623047\" xlink:href=\"#DejaVuSans-53\"/>\r\n      </g>\r\n     </g>\r\n    </g>\r\n    <g id=\"text_7\">\r\n     <!-- Epoch -->\r\n     <defs>\r\n      <path d=\"M 9.8125 72.90625 \r\nL 55.90625 72.90625 \r\nL 55.90625 64.59375 \r\nL 19.671875 64.59375 \r\nL 19.671875 43.015625 \r\nL 54.390625 43.015625 \r\nL 54.390625 34.71875 \r\nL 19.671875 34.71875 \r\nL 19.671875 8.296875 \r\nL 56.78125 8.296875 \r\nL 56.78125 0 \r\nL 9.8125 0 \r\nz\r\n\" id=\"DejaVuSans-69\"/>\r\n      <path d=\"M 18.109375 8.203125 \r\nL 18.109375 -20.796875 \r\nL 9.078125 -20.796875 \r\nL 9.078125 54.6875 \r\nL 18.109375 54.6875 \r\nL 18.109375 46.390625 \r\nQ 20.953125 51.265625 25.265625 53.625 \r\nQ 29.59375 56 35.59375 56 \r\nQ 45.5625 56 51.78125 48.09375 \r\nQ 58.015625 40.1875 58.015625 27.296875 \r\nQ 58.015625 14.40625 51.78125 6.484375 \r\nQ 45.5625 -1.421875 35.59375 -1.421875 \r\nQ 29.59375 -1.421875 25.265625 0.953125 \r\nQ 20.953125 3.328125 18.109375 8.203125 \r\nz\r\nM 48.6875 27.296875 \r\nQ 48.6875 37.203125 44.609375 42.84375 \r\nQ 40.53125 48.484375 33.40625 48.484375 \r\nQ 26.265625 48.484375 22.1875 42.84375 \r\nQ 18.109375 37.203125 18.109375 27.296875 \r\nQ 18.109375 17.390625 22.1875 11.75 \r\nQ 26.265625 6.109375 33.40625 6.109375 \r\nQ 40.53125 6.109375 44.609375 11.75 \r\nQ 48.6875 17.390625 48.6875 27.296875 \r\nz\r\n\" id=\"DejaVuSans-112\"/>\r\n      <path d=\"M 30.609375 48.390625 \r\nQ 23.390625 48.390625 19.1875 42.75 \r\nQ 14.984375 37.109375 14.984375 27.296875 \r\nQ 14.984375 17.484375 19.15625 11.84375 \r\nQ 23.34375 6.203125 30.609375 6.203125 \r\nQ 37.796875 6.203125 41.984375 11.859375 \r\nQ 46.1875 17.53125 46.1875 27.296875 \r\nQ 46.1875 37.015625 41.984375 42.703125 \r\nQ 37.796875 48.390625 30.609375 48.390625 \r\nz\r\nM 30.609375 56 \r\nQ 42.328125 56 49.015625 48.375 \r\nQ 55.71875 40.765625 55.71875 27.296875 \r\nQ 55.71875 13.875 49.015625 6.21875 \r\nQ 42.328125 -1.421875 30.609375 -1.421875 \r\nQ 18.84375 -1.421875 12.171875 6.21875 \r\nQ 5.515625 13.875 5.515625 27.296875 \r\nQ 5.515625 40.765625 12.171875 48.375 \r\nQ 18.84375 56 30.609375 56 \r\nz\r\n\" id=\"DejaVuSans-111\"/>\r\n      <path d=\"M 48.78125 52.59375 \r\nL 48.78125 44.1875 \r\nQ 44.96875 46.296875 41.140625 47.34375 \r\nQ 37.3125 48.390625 33.40625 48.390625 \r\nQ 24.65625 48.390625 19.8125 42.84375 \r\nQ 14.984375 37.3125 14.984375 27.296875 \r\nQ 14.984375 17.28125 19.8125 11.734375 \r\nQ 24.65625 6.203125 33.40625 6.203125 \r\nQ 37.3125 6.203125 41.140625 7.25 \r\nQ 44.96875 8.296875 48.78125 10.40625 \r\nL 48.78125 2.09375 \r\nQ 45.015625 0.34375 40.984375 -0.53125 \r\nQ 36.96875 -1.421875 32.421875 -1.421875 \r\nQ 20.0625 -1.421875 12.78125 6.34375 \r\nQ 5.515625 14.109375 5.515625 27.296875 \r\nQ 5.515625 40.671875 12.859375 48.328125 \r\nQ 20.21875 56 33.015625 56 \r\nQ 37.15625 56 41.109375 55.140625 \r\nQ 45.0625 54.296875 48.78125 52.59375 \r\nz\r\n\" id=\"DejaVuSans-99\"/>\r\n      <path d=\"M 54.890625 33.015625 \r\nL 54.890625 0 \r\nL 45.90625 0 \r\nL 45.90625 32.71875 \r\nQ 45.90625 40.484375 42.875 44.328125 \r\nQ 39.84375 48.1875 33.796875 48.1875 \r\nQ 26.515625 48.1875 22.3125 43.546875 \r\nQ 18.109375 38.921875 18.109375 30.90625 \r\nL 18.109375 0 \r\nL 9.078125 0 \r\nL 9.078125 75.984375 \r\nL 18.109375 75.984375 \r\nL 18.109375 46.1875 \r\nQ 21.34375 51.125 25.703125 53.5625 \r\nQ 30.078125 56 35.796875 56 \r\nQ 45.21875 56 50.046875 50.171875 \r\nQ 54.890625 44.34375 54.890625 33.015625 \r\nz\r\n\" id=\"DejaVuSans-104\"/>\r\n     </defs>\r\n     <g transform=\"translate(180.339062 287.436562)scale(0.1 -0.1)\">\r\n      <use xlink:href=\"#DejaVuSans-69\"/>\r\n      <use x=\"63.183594\" xlink:href=\"#DejaVuSans-112\"/>\r\n      <use x=\"126.660156\" xlink:href=\"#DejaVuSans-111\"/>\r\n      <use x=\"187.841797\" xlink:href=\"#DejaVuSans-99\"/>\r\n      <use x=\"242.822266\" xlink:href=\"#DejaVuSans-104\"/>\r\n     </g>\r\n    </g>\r\n   </g>\r\n   <g id=\"matplotlib.axis_2\">\r\n    <g id=\"ytick_1\">\r\n     <g id=\"line2d_7\">\r\n      <defs>\r\n       <path d=\"M 0 0 \r\nL -3.5 0 \r\n\" id=\"m96e5fab7ad\" style=\"stroke:#000000;stroke-width:0.8;\"/>\r\n      </defs>\r\n      <g>\r\n       <use style=\"stroke:#000000;stroke-width:0.8;\" x=\"43.78125\" xlink:href=\"#m96e5fab7ad\" y=\"256.669276\"/>\r\n      </g>\r\n     </g>\r\n     <g id=\"text_8\">\r\n      <!-- 0.0 -->\r\n      <defs>\r\n       <path d=\"M 10.6875 12.40625 \r\nL 21 12.40625 \r\nL 21 0 \r\nL 10.6875 0 \r\nz\r\n\" id=\"DejaVuSans-46\"/>\r\n      </defs>\r\n      <g transform=\"translate(20.878125 260.468495)scale(0.1 -0.1)\">\r\n       <use xlink:href=\"#DejaVuSans-48\"/>\r\n       <use x=\"63.623047\" xlink:href=\"#DejaVuSans-46\"/>\r\n       <use x=\"95.410156\" xlink:href=\"#DejaVuSans-48\"/>\r\n      </g>\r\n     </g>\r\n    </g>\r\n    <g id=\"ytick_2\">\r\n     <g id=\"line2d_8\">\r\n      <g>\r\n       <use style=\"stroke:#000000;stroke-width:0.8;\" x=\"43.78125\" xlink:href=\"#m96e5fab7ad\" y=\"214.654127\"/>\r\n      </g>\r\n     </g>\r\n     <g id=\"text_9\">\r\n      <!-- 0.1 -->\r\n      <g transform=\"translate(20.878125 218.453346)scale(0.1 -0.1)\">\r\n       <use xlink:href=\"#DejaVuSans-48\"/>\r\n       <use x=\"63.623047\" xlink:href=\"#DejaVuSans-46\"/>\r\n       <use x=\"95.410156\" xlink:href=\"#DejaVuSans-49\"/>\r\n      </g>\r\n     </g>\r\n    </g>\r\n    <g id=\"ytick_3\">\r\n     <g id=\"line2d_9\">\r\n      <g>\r\n       <use style=\"stroke:#000000;stroke-width:0.8;\" x=\"43.78125\" xlink:href=\"#m96e5fab7ad\" y=\"172.638978\"/>\r\n      </g>\r\n     </g>\r\n     <g id=\"text_10\">\r\n      <!-- 0.2 -->\r\n      <g transform=\"translate(20.878125 176.438197)scale(0.1 -0.1)\">\r\n       <use xlink:href=\"#DejaVuSans-48\"/>\r\n       <use x=\"63.623047\" xlink:href=\"#DejaVuSans-46\"/>\r\n       <use x=\"95.410156\" xlink:href=\"#DejaVuSans-50\"/>\r\n      </g>\r\n     </g>\r\n    </g>\r\n    <g id=\"ytick_4\">\r\n     <g id=\"line2d_10\">\r\n      <g>\r\n       <use style=\"stroke:#000000;stroke-width:0.8;\" x=\"43.78125\" xlink:href=\"#m96e5fab7ad\" y=\"130.623829\"/>\r\n      </g>\r\n     </g>\r\n     <g id=\"text_11\">\r\n      <!-- 0.3 -->\r\n      <defs>\r\n       <path d=\"M 40.578125 39.3125 \r\nQ 47.65625 37.796875 51.625 33 \r\nQ 55.609375 28.21875 55.609375 21.1875 \r\nQ 55.609375 10.40625 48.1875 4.484375 \r\nQ 40.765625 -1.421875 27.09375 -1.421875 \r\nQ 22.515625 -1.421875 17.65625 -0.515625 \r\nQ 12.796875 0.390625 7.625 2.203125 \r\nL 7.625 11.71875 \r\nQ 11.71875 9.328125 16.59375 8.109375 \r\nQ 21.484375 6.890625 26.8125 6.890625 \r\nQ 36.078125 6.890625 40.9375 10.546875 \r\nQ 45.796875 14.203125 45.796875 21.1875 \r\nQ 45.796875 27.640625 41.28125 31.265625 \r\nQ 36.765625 34.90625 28.71875 34.90625 \r\nL 20.21875 34.90625 \r\nL 20.21875 43.015625 \r\nL 29.109375 43.015625 \r\nQ 36.375 43.015625 40.234375 45.921875 \r\nQ 44.09375 48.828125 44.09375 54.296875 \r\nQ 44.09375 59.90625 40.109375 62.90625 \r\nQ 36.140625 65.921875 28.71875 65.921875 \r\nQ 24.65625 65.921875 20.015625 65.03125 \r\nQ 15.375 64.15625 9.8125 62.3125 \r\nL 9.8125 71.09375 \r\nQ 15.4375 72.65625 20.34375 73.4375 \r\nQ 25.25 74.21875 29.59375 74.21875 \r\nQ 40.828125 74.21875 47.359375 69.109375 \r\nQ 53.90625 64.015625 53.90625 55.328125 \r\nQ 53.90625 49.265625 50.4375 45.09375 \r\nQ 46.96875 40.921875 40.578125 39.3125 \r\nz\r\n\" id=\"DejaVuSans-51\"/>\r\n      </defs>\r\n      <g transform=\"translate(20.878125 134.423048)scale(0.1 -0.1)\">\r\n       <use xlink:href=\"#DejaVuSans-48\"/>\r\n       <use x=\"63.623047\" xlink:href=\"#DejaVuSans-46\"/>\r\n       <use x=\"95.410156\" xlink:href=\"#DejaVuSans-51\"/>\r\n      </g>\r\n     </g>\r\n    </g>\r\n    <g id=\"ytick_5\">\r\n     <g id=\"line2d_11\">\r\n      <g>\r\n       <use style=\"stroke:#000000;stroke-width:0.8;\" x=\"43.78125\" xlink:href=\"#m96e5fab7ad\" y=\"88.60868\"/>\r\n      </g>\r\n     </g>\r\n     <g id=\"text_12\">\r\n      <!-- 0.4 -->\r\n      <defs>\r\n       <path d=\"M 37.796875 64.3125 \r\nL 12.890625 25.390625 \r\nL 37.796875 25.390625 \r\nz\r\nM 35.203125 72.90625 \r\nL 47.609375 72.90625 \r\nL 47.609375 25.390625 \r\nL 58.015625 25.390625 \r\nL 58.015625 17.1875 \r\nL 47.609375 17.1875 \r\nL 47.609375 0 \r\nL 37.796875 0 \r\nL 37.796875 17.1875 \r\nL 4.890625 17.1875 \r\nL 4.890625 26.703125 \r\nz\r\n\" id=\"DejaVuSans-52\"/>\r\n      </defs>\r\n      <g transform=\"translate(20.878125 92.407899)scale(0.1 -0.1)\">\r\n       <use xlink:href=\"#DejaVuSans-48\"/>\r\n       <use x=\"63.623047\" xlink:href=\"#DejaVuSans-46\"/>\r\n       <use x=\"95.410156\" xlink:href=\"#DejaVuSans-52\"/>\r\n      </g>\r\n     </g>\r\n    </g>\r\n    <g id=\"ytick_6\">\r\n     <g id=\"line2d_12\">\r\n      <g>\r\n       <use style=\"stroke:#000000;stroke-width:0.8;\" x=\"43.78125\" xlink:href=\"#m96e5fab7ad\" y=\"46.593531\"/>\r\n      </g>\r\n     </g>\r\n     <g id=\"text_13\">\r\n      <!-- 0.5 -->\r\n      <g transform=\"translate(20.878125 50.39275)scale(0.1 -0.1)\">\r\n       <use xlink:href=\"#DejaVuSans-48\"/>\r\n       <use x=\"63.623047\" xlink:href=\"#DejaVuSans-46\"/>\r\n       <use x=\"95.410156\" xlink:href=\"#DejaVuSans-53\"/>\r\n      </g>\r\n     </g>\r\n    </g>\r\n    <g id=\"text_14\">\r\n     <!-- loss -->\r\n     <defs>\r\n      <path d=\"M 9.421875 75.984375 \r\nL 18.40625 75.984375 \r\nL 18.40625 0 \r\nL 9.421875 0 \r\nz\r\n\" id=\"DejaVuSans-108\"/>\r\n      <path d=\"M 44.28125 53.078125 \r\nL 44.28125 44.578125 \r\nQ 40.484375 46.53125 36.375 47.5 \r\nQ 32.28125 48.484375 27.875 48.484375 \r\nQ 21.1875 48.484375 17.84375 46.4375 \r\nQ 14.5 44.390625 14.5 40.28125 \r\nQ 14.5 37.15625 16.890625 35.375 \r\nQ 19.28125 33.59375 26.515625 31.984375 \r\nL 29.59375 31.296875 \r\nQ 39.15625 29.25 43.1875 25.515625 \r\nQ 47.21875 21.78125 47.21875 15.09375 \r\nQ 47.21875 7.46875 41.1875 3.015625 \r\nQ 35.15625 -1.421875 24.609375 -1.421875 \r\nQ 20.21875 -1.421875 15.453125 -0.5625 \r\nQ 10.6875 0.296875 5.421875 2 \r\nL 5.421875 11.28125 \r\nQ 10.40625 8.6875 15.234375 7.390625 \r\nQ 20.0625 6.109375 24.8125 6.109375 \r\nQ 31.15625 6.109375 34.5625 8.28125 \r\nQ 37.984375 10.453125 37.984375 14.40625 \r\nQ 37.984375 18.0625 35.515625 20.015625 \r\nQ 33.0625 21.96875 24.703125 23.78125 \r\nL 21.578125 24.515625 \r\nQ 13.234375 26.265625 9.515625 29.90625 \r\nQ 5.8125 33.546875 5.8125 39.890625 \r\nQ 5.8125 47.609375 11.28125 51.796875 \r\nQ 16.75 56 26.8125 56 \r\nQ 31.78125 56 36.171875 55.265625 \r\nQ 40.578125 54.546875 44.28125 53.078125 \r\nz\r\n\" id=\"DejaVuSans-115\"/>\r\n     </defs>\r\n     <g transform=\"translate(14.798438 159.117812)rotate(-90)scale(0.1 -0.1)\">\r\n      <use xlink:href=\"#DejaVuSans-108\"/>\r\n      <use x=\"27.783203\" xlink:href=\"#DejaVuSans-111\"/>\r\n      <use x=\"88.964844\" xlink:href=\"#DejaVuSans-115\"/>\r\n      <use x=\"141.064453\" xlink:href=\"#DejaVuSans-115\"/>\r\n     </g>\r\n    </g>\r\n   </g>\r\n   <g id=\"line2d_13\">\r\n    <path clip-path=\"url(#p6d1dd43abe)\" d=\"M 57.5875 49.732727 \r\nL 68.6325 186.69774 \r\nL 79.6775 203.671849 \r\nL 90.7225 210.360961 \r\nL 101.7675 215.336635 \r\nL 112.8125 221.468296 \r\nL 123.8575 227.980581 \r\nL 134.9025 232.843095 \r\nL 145.9475 235.901531 \r\nL 156.9925 237.974266 \r\nL 168.0375 239.542686 \r\nL 179.0825 240.962466 \r\nL 190.1275 241.97209 \r\nL 201.1725 243.046155 \r\nL 212.2175 243.892086 \r\nL 223.2625 244.767896 \r\nL 234.3075 245.394604 \r\nL 245.3525 245.997527 \r\nL 256.3975 246.518153 \r\nL 267.4425 247.01297 \r\nL 278.4875 247.339188 \r\nL 289.5325 247.833679 \r\nL 300.5775 248.016795 \r\nL 311.6225 248.449881 \r\nL 322.6675 248.740113 \r\nL 333.7125 249.187273 \r\n\" style=\"fill:none;stroke:#1f77b4;stroke-linecap:square;stroke-width:1.5;\"/>\r\n   </g>\r\n   <g id=\"line2d_14\">\r\n    <path clip-path=\"url(#p6d1dd43abe)\" d=\"M 57.5875 170.154823 \r\nL 68.6325 193.560891 \r\nL 79.6775 199.871818 \r\nL 90.7225 201.591372 \r\nL 101.7675 205.172981 \r\nL 112.8125 208.818467 \r\nL 123.8575 212.115533 \r\nL 134.9025 216.377478 \r\nL 145.9475 218.191846 \r\nL 156.9925 220.309882 \r\nL 168.0375 221.342322 \r\nL 179.0825 221.134493 \r\nL 190.1275 222.169156 \r\nL 201.1725 222.317599 \r\nL 212.2175 222.315395 \r\nL 223.2625 222.610113 \r\nL 234.3075 222.119187 \r\nL 245.3525 221.383338 \r\nL 256.3975 221.892393 \r\nL 267.4425 222.557526 \r\nL 278.4875 220.736312 \r\nL 289.5325 219.781809 \r\nL 300.5775 221.616547 \r\nL 311.6225 219.158946 \r\nL 322.6675 219.633753 \r\nL 333.7125 219.798177 \r\n\" style=\"fill:none;stroke:#ff7f0e;stroke-linecap:square;stroke-width:1.5;\"/>\r\n   </g>\r\n   <g id=\"patch_3\">\r\n    <path d=\"M 43.78125 259.16 \r\nL 43.78125 39.76 \r\n\" style=\"fill:none;stroke:#000000;stroke-linecap:square;stroke-linejoin:miter;stroke-width:0.8;\"/>\r\n   </g>\r\n   <g id=\"patch_4\">\r\n    <path d=\"M 347.51875 259.16 \r\nL 347.51875 39.76 \r\n\" style=\"fill:none;stroke:#000000;stroke-linecap:square;stroke-linejoin:miter;stroke-width:0.8;\"/>\r\n   </g>\r\n   <g id=\"patch_5\">\r\n    <path d=\"M 43.78125 259.16 \r\nL 347.51875 259.16 \r\n\" style=\"fill:none;stroke:#000000;stroke-linecap:square;stroke-linejoin:miter;stroke-width:0.8;\"/>\r\n   </g>\r\n   <g id=\"patch_6\">\r\n    <path d=\"M 43.78125 39.76 \r\nL 347.51875 39.76 \r\n\" style=\"fill:none;stroke:#000000;stroke-linecap:square;stroke-linejoin:miter;stroke-width:0.8;\"/>\r\n   </g>\r\n   <g id=\"text_15\">\r\n    <!-- Model loss -->\r\n    <defs>\r\n     <path d=\"M 9.8125 72.90625 \r\nL 24.515625 72.90625 \r\nL 43.109375 23.296875 \r\nL 61.8125 72.90625 \r\nL 76.515625 72.90625 \r\nL 76.515625 0 \r\nL 66.890625 0 \r\nL 66.890625 64.015625 \r\nL 48.09375 14.015625 \r\nL 38.1875 14.015625 \r\nL 19.390625 64.015625 \r\nL 19.390625 0 \r\nL 9.8125 0 \r\nz\r\n\" id=\"DejaVuSans-77\"/>\r\n     <path d=\"M 45.40625 46.390625 \r\nL 45.40625 75.984375 \r\nL 54.390625 75.984375 \r\nL 54.390625 0 \r\nL 45.40625 0 \r\nL 45.40625 8.203125 \r\nQ 42.578125 3.328125 38.25 0.953125 \r\nQ 33.9375 -1.421875 27.875 -1.421875 \r\nQ 17.96875 -1.421875 11.734375 6.484375 \r\nQ 5.515625 14.40625 5.515625 27.296875 \r\nQ 5.515625 40.1875 11.734375 48.09375 \r\nQ 17.96875 56 27.875 56 \r\nQ 33.9375 56 38.25 53.625 \r\nQ 42.578125 51.265625 45.40625 46.390625 \r\nz\r\nM 14.796875 27.296875 \r\nQ 14.796875 17.390625 18.875 11.75 \r\nQ 22.953125 6.109375 30.078125 6.109375 \r\nQ 37.203125 6.109375 41.296875 11.75 \r\nQ 45.40625 17.390625 45.40625 27.296875 \r\nQ 45.40625 37.203125 41.296875 42.84375 \r\nQ 37.203125 48.484375 30.078125 48.484375 \r\nQ 22.953125 48.484375 18.875 42.84375 \r\nQ 14.796875 37.203125 14.796875 27.296875 \r\nz\r\n\" id=\"DejaVuSans-100\"/>\r\n     <path d=\"M 56.203125 29.59375 \r\nL 56.203125 25.203125 \r\nL 14.890625 25.203125 \r\nQ 15.484375 15.921875 20.484375 11.0625 \r\nQ 25.484375 6.203125 34.421875 6.203125 \r\nQ 39.59375 6.203125 44.453125 7.46875 \r\nQ 49.3125 8.734375 54.109375 11.28125 \r\nL 54.109375 2.78125 \r\nQ 49.265625 0.734375 44.1875 -0.34375 \r\nQ 39.109375 -1.421875 33.890625 -1.421875 \r\nQ 20.796875 -1.421875 13.15625 6.1875 \r\nQ 5.515625 13.8125 5.515625 26.8125 \r\nQ 5.515625 40.234375 12.765625 48.109375 \r\nQ 20.015625 56 32.328125 56 \r\nQ 43.359375 56 49.78125 48.890625 \r\nQ 56.203125 41.796875 56.203125 29.59375 \r\nz\r\nM 47.21875 32.234375 \r\nQ 47.125 39.59375 43.09375 43.984375 \r\nQ 39.0625 48.390625 32.421875 48.390625 \r\nQ 24.90625 48.390625 20.390625 44.140625 \r\nQ 15.875 39.890625 15.1875 32.171875 \r\nz\r\n\" id=\"DejaVuSans-101\"/>\r\n     <path id=\"DejaVuSans-32\"/>\r\n    </defs>\r\n    <g transform=\"translate(164.137812 33.76)scale(0.12 -0.12)\">\r\n     <use xlink:href=\"#DejaVuSans-77\"/>\r\n     <use x=\"86.279297\" xlink:href=\"#DejaVuSans-111\"/>\r\n     <use x=\"147.460938\" xlink:href=\"#DejaVuSans-100\"/>\r\n     <use x=\"210.9375\" xlink:href=\"#DejaVuSans-101\"/>\r\n     <use x=\"272.460938\" xlink:href=\"#DejaVuSans-108\"/>\r\n     <use x=\"300.244141\" xlink:href=\"#DejaVuSans-32\"/>\r\n     <use x=\"332.03125\" xlink:href=\"#DejaVuSans-108\"/>\r\n     <use x=\"359.814453\" xlink:href=\"#DejaVuSans-111\"/>\r\n     <use x=\"420.996094\" xlink:href=\"#DejaVuSans-115\"/>\r\n     <use x=\"473.095703\" xlink:href=\"#DejaVuSans-115\"/>\r\n    </g>\r\n   </g>\r\n   <g id=\"legend_1\">\r\n    <g id=\"patch_7\">\r\n     <path d=\"M 285.24375 77.11625 \r\nL 340.51875 77.11625 \r\nQ 342.51875 77.11625 342.51875 75.11625 \r\nL 342.51875 46.76 \r\nQ 342.51875 44.76 340.51875 44.76 \r\nL 285.24375 44.76 \r\nQ 283.24375 44.76 283.24375 46.76 \r\nL 283.24375 75.11625 \r\nQ 283.24375 77.11625 285.24375 77.11625 \r\nz\r\n\" style=\"fill:#ffffff;opacity:0.8;stroke:#cccccc;stroke-linejoin:miter;\"/>\r\n    </g>\r\n    <g id=\"line2d_15\">\r\n     <path d=\"M 287.24375 52.858437 \r\nL 307.24375 52.858437 \r\n\" style=\"fill:none;stroke:#1f77b4;stroke-linecap:square;stroke-width:1.5;\"/>\r\n    </g>\r\n    <g id=\"line2d_16\"/>\r\n    <g id=\"text_16\">\r\n     <!-- train -->\r\n     <defs>\r\n      <path d=\"M 18.3125 70.21875 \r\nL 18.3125 54.6875 \r\nL 36.8125 54.6875 \r\nL 36.8125 47.703125 \r\nL 18.3125 47.703125 \r\nL 18.3125 18.015625 \r\nQ 18.3125 11.328125 20.140625 9.421875 \r\nQ 21.96875 7.515625 27.59375 7.515625 \r\nL 36.8125 7.515625 \r\nL 36.8125 0 \r\nL 27.59375 0 \r\nQ 17.1875 0 13.234375 3.875 \r\nQ 9.28125 7.765625 9.28125 18.015625 \r\nL 9.28125 47.703125 \r\nL 2.6875 47.703125 \r\nL 2.6875 54.6875 \r\nL 9.28125 54.6875 \r\nL 9.28125 70.21875 \r\nz\r\n\" id=\"DejaVuSans-116\"/>\r\n      <path d=\"M 41.109375 46.296875 \r\nQ 39.59375 47.171875 37.8125 47.578125 \r\nQ 36.03125 48 33.890625 48 \r\nQ 26.265625 48 22.1875 43.046875 \r\nQ 18.109375 38.09375 18.109375 28.8125 \r\nL 18.109375 0 \r\nL 9.078125 0 \r\nL 9.078125 54.6875 \r\nL 18.109375 54.6875 \r\nL 18.109375 46.1875 \r\nQ 20.953125 51.171875 25.484375 53.578125 \r\nQ 30.03125 56 36.53125 56 \r\nQ 37.453125 56 38.578125 55.875 \r\nQ 39.703125 55.765625 41.0625 55.515625 \r\nz\r\n\" id=\"DejaVuSans-114\"/>\r\n      <path d=\"M 34.28125 27.484375 \r\nQ 23.390625 27.484375 19.1875 25 \r\nQ 14.984375 22.515625 14.984375 16.5 \r\nQ 14.984375 11.71875 18.140625 8.90625 \r\nQ 21.296875 6.109375 26.703125 6.109375 \r\nQ 34.1875 6.109375 38.703125 11.40625 \r\nQ 43.21875 16.703125 43.21875 25.484375 \r\nL 43.21875 27.484375 \r\nz\r\nM 52.203125 31.203125 \r\nL 52.203125 0 \r\nL 43.21875 0 \r\nL 43.21875 8.296875 \r\nQ 40.140625 3.328125 35.546875 0.953125 \r\nQ 30.953125 -1.421875 24.3125 -1.421875 \r\nQ 15.921875 -1.421875 10.953125 3.296875 \r\nQ 6 8.015625 6 15.921875 \r\nQ 6 25.140625 12.171875 29.828125 \r\nQ 18.359375 34.515625 30.609375 34.515625 \r\nL 43.21875 34.515625 \r\nL 43.21875 35.40625 \r\nQ 43.21875 41.609375 39.140625 45 \r\nQ 35.0625 48.390625 27.6875 48.390625 \r\nQ 23 48.390625 18.546875 47.265625 \r\nQ 14.109375 46.140625 10.015625 43.890625 \r\nL 10.015625 52.203125 \r\nQ 14.9375 54.109375 19.578125 55.046875 \r\nQ 24.21875 56 28.609375 56 \r\nQ 40.484375 56 46.34375 49.84375 \r\nQ 52.203125 43.703125 52.203125 31.203125 \r\nz\r\n\" id=\"DejaVuSans-97\"/>\r\n      <path d=\"M 9.421875 54.6875 \r\nL 18.40625 54.6875 \r\nL 18.40625 0 \r\nL 9.421875 0 \r\nz\r\nM 9.421875 75.984375 \r\nL 18.40625 75.984375 \r\nL 18.40625 64.59375 \r\nL 9.421875 64.59375 \r\nz\r\n\" id=\"DejaVuSans-105\"/>\r\n      <path d=\"M 54.890625 33.015625 \r\nL 54.890625 0 \r\nL 45.90625 0 \r\nL 45.90625 32.71875 \r\nQ 45.90625 40.484375 42.875 44.328125 \r\nQ 39.84375 48.1875 33.796875 48.1875 \r\nQ 26.515625 48.1875 22.3125 43.546875 \r\nQ 18.109375 38.921875 18.109375 30.90625 \r\nL 18.109375 0 \r\nL 9.078125 0 \r\nL 9.078125 54.6875 \r\nL 18.109375 54.6875 \r\nL 18.109375 46.1875 \r\nQ 21.34375 51.125 25.703125 53.5625 \r\nQ 30.078125 56 35.796875 56 \r\nQ 45.21875 56 50.046875 50.171875 \r\nQ 54.890625 44.34375 54.890625 33.015625 \r\nz\r\n\" id=\"DejaVuSans-110\"/>\r\n     </defs>\r\n     <g transform=\"translate(315.24375 56.358437)scale(0.1 -0.1)\">\r\n      <use xlink:href=\"#DejaVuSans-116\"/>\r\n      <use x=\"39.208984\" xlink:href=\"#DejaVuSans-114\"/>\r\n      <use x=\"80.322266\" xlink:href=\"#DejaVuSans-97\"/>\r\n      <use x=\"141.601562\" xlink:href=\"#DejaVuSans-105\"/>\r\n      <use x=\"169.384766\" xlink:href=\"#DejaVuSans-110\"/>\r\n     </g>\r\n    </g>\r\n    <g id=\"line2d_17\">\r\n     <path d=\"M 287.24375 67.536562 \r\nL 307.24375 67.536562 \r\n\" style=\"fill:none;stroke:#ff7f0e;stroke-linecap:square;stroke-width:1.5;\"/>\r\n    </g>\r\n    <g id=\"line2d_18\"/>\r\n    <g id=\"text_17\">\r\n     <!-- val -->\r\n     <defs>\r\n      <path d=\"M 2.984375 54.6875 \r\nL 12.5 54.6875 \r\nL 29.59375 8.796875 \r\nL 46.6875 54.6875 \r\nL 56.203125 54.6875 \r\nL 35.6875 0 \r\nL 23.484375 0 \r\nz\r\n\" id=\"DejaVuSans-118\"/>\r\n     </defs>\r\n     <g transform=\"translate(315.24375 71.036562)scale(0.1 -0.1)\">\r\n      <use xlink:href=\"#DejaVuSans-118\"/>\r\n      <use x=\"59.179688\" xlink:href=\"#DejaVuSans-97\"/>\r\n      <use x=\"120.458984\" xlink:href=\"#DejaVuSans-108\"/>\r\n     </g>\r\n    </g>\r\n   </g>\r\n  </g>\r\n  <g id=\"axes_2\">\r\n   <g id=\"patch_8\">\r\n    <path d=\"M 401.56875 259.16 \r\nL 705.30625 259.16 \r\nL 705.30625 39.76 \r\nL 401.56875 39.76 \r\nz\r\n\" style=\"fill:#ffffff;\"/>\r\n   </g>\r\n   <g id=\"matplotlib.axis_3\">\r\n    <g id=\"xtick_7\">\r\n     <g id=\"line2d_19\">\r\n      <g>\r\n       <use style=\"stroke:#000000;stroke-width:0.8;\" x=\"415.375\" xlink:href=\"#mf14e57f9b4\" y=\"259.16\"/>\r\n      </g>\r\n     </g>\r\n     <g id=\"text_18\">\r\n      <!-- 0 -->\r\n      <g transform=\"translate(412.19375 273.758437)scale(0.1 -0.1)\">\r\n       <use xlink:href=\"#DejaVuSans-48\"/>\r\n      </g>\r\n     </g>\r\n    </g>\r\n    <g id=\"xtick_8\">\r\n     <g id=\"line2d_20\">\r\n      <g>\r\n       <use style=\"stroke:#000000;stroke-width:0.8;\" x=\"470.6\" xlink:href=\"#mf14e57f9b4\" y=\"259.16\"/>\r\n      </g>\r\n     </g>\r\n     <g id=\"text_19\">\r\n      <!-- 5 -->\r\n      <g transform=\"translate(467.41875 273.758437)scale(0.1 -0.1)\">\r\n       <use xlink:href=\"#DejaVuSans-53\"/>\r\n      </g>\r\n     </g>\r\n    </g>\r\n    <g id=\"xtick_9\">\r\n     <g id=\"line2d_21\">\r\n      <g>\r\n       <use style=\"stroke:#000000;stroke-width:0.8;\" x=\"525.825\" xlink:href=\"#mf14e57f9b4\" y=\"259.16\"/>\r\n      </g>\r\n     </g>\r\n     <g id=\"text_20\">\r\n      <!-- 10 -->\r\n      <g transform=\"translate(519.4625 273.758437)scale(0.1 -0.1)\">\r\n       <use xlink:href=\"#DejaVuSans-49\"/>\r\n       <use x=\"63.623047\" xlink:href=\"#DejaVuSans-48\"/>\r\n      </g>\r\n     </g>\r\n    </g>\r\n    <g id=\"xtick_10\">\r\n     <g id=\"line2d_22\">\r\n      <g>\r\n       <use style=\"stroke:#000000;stroke-width:0.8;\" x=\"581.05\" xlink:href=\"#mf14e57f9b4\" y=\"259.16\"/>\r\n      </g>\r\n     </g>\r\n     <g id=\"text_21\">\r\n      <!-- 15 -->\r\n      <g transform=\"translate(574.6875 273.758437)scale(0.1 -0.1)\">\r\n       <use xlink:href=\"#DejaVuSans-49\"/>\r\n       <use x=\"63.623047\" xlink:href=\"#DejaVuSans-53\"/>\r\n      </g>\r\n     </g>\r\n    </g>\r\n    <g id=\"xtick_11\">\r\n     <g id=\"line2d_23\">\r\n      <g>\r\n       <use style=\"stroke:#000000;stroke-width:0.8;\" x=\"636.275\" xlink:href=\"#mf14e57f9b4\" y=\"259.16\"/>\r\n      </g>\r\n     </g>\r\n     <g id=\"text_22\">\r\n      <!-- 20 -->\r\n      <g transform=\"translate(629.9125 273.758437)scale(0.1 -0.1)\">\r\n       <use xlink:href=\"#DejaVuSans-50\"/>\r\n       <use x=\"63.623047\" xlink:href=\"#DejaVuSans-48\"/>\r\n      </g>\r\n     </g>\r\n    </g>\r\n    <g id=\"xtick_12\">\r\n     <g id=\"line2d_24\">\r\n      <g>\r\n       <use style=\"stroke:#000000;stroke-width:0.8;\" x=\"691.5\" xlink:href=\"#mf14e57f9b4\" y=\"259.16\"/>\r\n      </g>\r\n     </g>\r\n     <g id=\"text_23\">\r\n      <!-- 25 -->\r\n      <g transform=\"translate(685.1375 273.758437)scale(0.1 -0.1)\">\r\n       <use xlink:href=\"#DejaVuSans-50\"/>\r\n       <use x=\"63.623047\" xlink:href=\"#DejaVuSans-53\"/>\r\n      </g>\r\n     </g>\r\n    </g>\r\n    <g id=\"text_24\">\r\n     <!-- Epoch -->\r\n     <g transform=\"translate(538.126562 287.436562)scale(0.1 -0.1)\">\r\n      <use xlink:href=\"#DejaVuSans-69\"/>\r\n      <use x=\"63.183594\" xlink:href=\"#DejaVuSans-112\"/>\r\n      <use x=\"126.660156\" xlink:href=\"#DejaVuSans-111\"/>\r\n      <use x=\"187.841797\" xlink:href=\"#DejaVuSans-99\"/>\r\n      <use x=\"242.822266\" xlink:href=\"#DejaVuSans-104\"/>\r\n     </g>\r\n    </g>\r\n   </g>\r\n   <g id=\"matplotlib.axis_4\">\r\n    <g id=\"ytick_7\">\r\n     <g id=\"line2d_25\">\r\n      <g>\r\n       <use style=\"stroke:#000000;stroke-width:0.8;\" x=\"401.56875\" xlink:href=\"#m96e5fab7ad\" y=\"232.411319\"/>\r\n      </g>\r\n     </g>\r\n     <g id=\"text_25\">\r\n      <!-- 0.93 -->\r\n      <defs>\r\n       <path d=\"M 10.984375 1.515625 \r\nL 10.984375 10.5 \r\nQ 14.703125 8.734375 18.5 7.8125 \r\nQ 22.3125 6.890625 25.984375 6.890625 \r\nQ 35.75 6.890625 40.890625 13.453125 \r\nQ 46.046875 20.015625 46.78125 33.40625 \r\nQ 43.953125 29.203125 39.59375 26.953125 \r\nQ 35.25 24.703125 29.984375 24.703125 \r\nQ 19.046875 24.703125 12.671875 31.3125 \r\nQ 6.296875 37.9375 6.296875 49.421875 \r\nQ 6.296875 60.640625 12.9375 67.421875 \r\nQ 19.578125 74.21875 30.609375 74.21875 \r\nQ 43.265625 74.21875 49.921875 64.515625 \r\nQ 56.59375 54.828125 56.59375 36.375 \r\nQ 56.59375 19.140625 48.40625 8.859375 \r\nQ 40.234375 -1.421875 26.421875 -1.421875 \r\nQ 22.703125 -1.421875 18.890625 -0.6875 \r\nQ 15.09375 0.046875 10.984375 1.515625 \r\nz\r\nM 30.609375 32.421875 \r\nQ 37.25 32.421875 41.125 36.953125 \r\nQ 45.015625 41.5 45.015625 49.421875 \r\nQ 45.015625 57.28125 41.125 61.84375 \r\nQ 37.25 66.40625 30.609375 66.40625 \r\nQ 23.96875 66.40625 20.09375 61.84375 \r\nQ 16.21875 57.28125 16.21875 49.421875 \r\nQ 16.21875 41.5 20.09375 36.953125 \r\nQ 23.96875 32.421875 30.609375 32.421875 \r\nz\r\n\" id=\"DejaVuSans-57\"/>\r\n      </defs>\r\n      <g transform=\"translate(372.303125 236.210538)scale(0.1 -0.1)\">\r\n       <use xlink:href=\"#DejaVuSans-48\"/>\r\n       <use x=\"63.623047\" xlink:href=\"#DejaVuSans-46\"/>\r\n       <use x=\"95.410156\" xlink:href=\"#DejaVuSans-57\"/>\r\n       <use x=\"159.033203\" xlink:href=\"#DejaVuSans-51\"/>\r\n      </g>\r\n     </g>\r\n    </g>\r\n    <g id=\"ytick_8\">\r\n     <g id=\"line2d_26\">\r\n      <g>\r\n       <use style=\"stroke:#000000;stroke-width:0.8;\" x=\"401.56875\" xlink:href=\"#m96e5fab7ad\" y=\"203.883924\"/>\r\n      </g>\r\n     </g>\r\n     <g id=\"text_26\">\r\n      <!-- 0.94 -->\r\n      <g transform=\"translate(372.303125 207.683143)scale(0.1 -0.1)\">\r\n       <use xlink:href=\"#DejaVuSans-48\"/>\r\n       <use x=\"63.623047\" xlink:href=\"#DejaVuSans-46\"/>\r\n       <use x=\"95.410156\" xlink:href=\"#DejaVuSans-57\"/>\r\n       <use x=\"159.033203\" xlink:href=\"#DejaVuSans-52\"/>\r\n      </g>\r\n     </g>\r\n    </g>\r\n    <g id=\"ytick_9\">\r\n     <g id=\"line2d_27\">\r\n      <g>\r\n       <use style=\"stroke:#000000;stroke-width:0.8;\" x=\"401.56875\" xlink:href=\"#m96e5fab7ad\" y=\"175.356529\"/>\r\n      </g>\r\n     </g>\r\n     <g id=\"text_27\">\r\n      <!-- 0.95 -->\r\n      <g transform=\"translate(372.303125 179.155748)scale(0.1 -0.1)\">\r\n       <use xlink:href=\"#DejaVuSans-48\"/>\r\n       <use x=\"63.623047\" xlink:href=\"#DejaVuSans-46\"/>\r\n       <use x=\"95.410156\" xlink:href=\"#DejaVuSans-57\"/>\r\n       <use x=\"159.033203\" xlink:href=\"#DejaVuSans-53\"/>\r\n      </g>\r\n     </g>\r\n    </g>\r\n    <g id=\"ytick_10\">\r\n     <g id=\"line2d_28\">\r\n      <g>\r\n       <use style=\"stroke:#000000;stroke-width:0.8;\" x=\"401.56875\" xlink:href=\"#m96e5fab7ad\" y=\"146.829134\"/>\r\n      </g>\r\n     </g>\r\n     <g id=\"text_28\">\r\n      <!-- 0.96 -->\r\n      <defs>\r\n       <path d=\"M 33.015625 40.375 \r\nQ 26.375 40.375 22.484375 35.828125 \r\nQ 18.609375 31.296875 18.609375 23.390625 \r\nQ 18.609375 15.53125 22.484375 10.953125 \r\nQ 26.375 6.390625 33.015625 6.390625 \r\nQ 39.65625 6.390625 43.53125 10.953125 \r\nQ 47.40625 15.53125 47.40625 23.390625 \r\nQ 47.40625 31.296875 43.53125 35.828125 \r\nQ 39.65625 40.375 33.015625 40.375 \r\nz\r\nM 52.59375 71.296875 \r\nL 52.59375 62.3125 \r\nQ 48.875 64.0625 45.09375 64.984375 \r\nQ 41.3125 65.921875 37.59375 65.921875 \r\nQ 27.828125 65.921875 22.671875 59.328125 \r\nQ 17.53125 52.734375 16.796875 39.40625 \r\nQ 19.671875 43.65625 24.015625 45.921875 \r\nQ 28.375 48.1875 33.59375 48.1875 \r\nQ 44.578125 48.1875 50.953125 41.515625 \r\nQ 57.328125 34.859375 57.328125 23.390625 \r\nQ 57.328125 12.15625 50.6875 5.359375 \r\nQ 44.046875 -1.421875 33.015625 -1.421875 \r\nQ 20.359375 -1.421875 13.671875 8.265625 \r\nQ 6.984375 17.96875 6.984375 36.375 \r\nQ 6.984375 53.65625 15.1875 63.9375 \r\nQ 23.390625 74.21875 37.203125 74.21875 \r\nQ 40.921875 74.21875 44.703125 73.484375 \r\nQ 48.484375 72.75 52.59375 71.296875 \r\nz\r\n\" id=\"DejaVuSans-54\"/>\r\n      </defs>\r\n      <g transform=\"translate(372.303125 150.628352)scale(0.1 -0.1)\">\r\n       <use xlink:href=\"#DejaVuSans-48\"/>\r\n       <use x=\"63.623047\" xlink:href=\"#DejaVuSans-46\"/>\r\n       <use x=\"95.410156\" xlink:href=\"#DejaVuSans-57\"/>\r\n       <use x=\"159.033203\" xlink:href=\"#DejaVuSans-54\"/>\r\n      </g>\r\n     </g>\r\n    </g>\r\n    <g id=\"ytick_11\">\r\n     <g id=\"line2d_29\">\r\n      <g>\r\n       <use style=\"stroke:#000000;stroke-width:0.8;\" x=\"401.56875\" xlink:href=\"#m96e5fab7ad\" y=\"118.301738\"/>\r\n      </g>\r\n     </g>\r\n     <g id=\"text_29\">\r\n      <!-- 0.97 -->\r\n      <defs>\r\n       <path d=\"M 8.203125 72.90625 \r\nL 55.078125 72.90625 \r\nL 55.078125 68.703125 \r\nL 28.609375 0 \r\nL 18.3125 0 \r\nL 43.21875 64.59375 \r\nL 8.203125 64.59375 \r\nz\r\n\" id=\"DejaVuSans-55\"/>\r\n      </defs>\r\n      <g transform=\"translate(372.303125 122.100957)scale(0.1 -0.1)\">\r\n       <use xlink:href=\"#DejaVuSans-48\"/>\r\n       <use x=\"63.623047\" xlink:href=\"#DejaVuSans-46\"/>\r\n       <use x=\"95.410156\" xlink:href=\"#DejaVuSans-57\"/>\r\n       <use x=\"159.033203\" xlink:href=\"#DejaVuSans-55\"/>\r\n      </g>\r\n     </g>\r\n    </g>\r\n    <g id=\"ytick_12\">\r\n     <g id=\"line2d_30\">\r\n      <g>\r\n       <use style=\"stroke:#000000;stroke-width:0.8;\" x=\"401.56875\" xlink:href=\"#m96e5fab7ad\" y=\"89.774343\"/>\r\n      </g>\r\n     </g>\r\n     <g id=\"text_30\">\r\n      <!-- 0.98 -->\r\n      <defs>\r\n       <path d=\"M 31.78125 34.625 \r\nQ 24.75 34.625 20.71875 30.859375 \r\nQ 16.703125 27.09375 16.703125 20.515625 \r\nQ 16.703125 13.921875 20.71875 10.15625 \r\nQ 24.75 6.390625 31.78125 6.390625 \r\nQ 38.8125 6.390625 42.859375 10.171875 \r\nQ 46.921875 13.96875 46.921875 20.515625 \r\nQ 46.921875 27.09375 42.890625 30.859375 \r\nQ 38.875 34.625 31.78125 34.625 \r\nz\r\nM 21.921875 38.8125 \r\nQ 15.578125 40.375 12.03125 44.71875 \r\nQ 8.5 49.078125 8.5 55.328125 \r\nQ 8.5 64.0625 14.71875 69.140625 \r\nQ 20.953125 74.21875 31.78125 74.21875 \r\nQ 42.671875 74.21875 48.875 69.140625 \r\nQ 55.078125 64.0625 55.078125 55.328125 \r\nQ 55.078125 49.078125 51.53125 44.71875 \r\nQ 48 40.375 41.703125 38.8125 \r\nQ 48.828125 37.15625 52.796875 32.3125 \r\nQ 56.78125 27.484375 56.78125 20.515625 \r\nQ 56.78125 9.90625 50.3125 4.234375 \r\nQ 43.84375 -1.421875 31.78125 -1.421875 \r\nQ 19.734375 -1.421875 13.25 4.234375 \r\nQ 6.78125 9.90625 6.78125 20.515625 \r\nQ 6.78125 27.484375 10.78125 32.3125 \r\nQ 14.796875 37.15625 21.921875 38.8125 \r\nz\r\nM 18.3125 54.390625 \r\nQ 18.3125 48.734375 21.84375 45.5625 \r\nQ 25.390625 42.390625 31.78125 42.390625 \r\nQ 38.140625 42.390625 41.71875 45.5625 \r\nQ 45.3125 48.734375 45.3125 54.390625 \r\nQ 45.3125 60.0625 41.71875 63.234375 \r\nQ 38.140625 66.40625 31.78125 66.40625 \r\nQ 25.390625 66.40625 21.84375 63.234375 \r\nQ 18.3125 60.0625 18.3125 54.390625 \r\nz\r\n\" id=\"DejaVuSans-56\"/>\r\n      </defs>\r\n      <g transform=\"translate(372.303125 93.573562)scale(0.1 -0.1)\">\r\n       <use xlink:href=\"#DejaVuSans-48\"/>\r\n       <use x=\"63.623047\" xlink:href=\"#DejaVuSans-46\"/>\r\n       <use x=\"95.410156\" xlink:href=\"#DejaVuSans-57\"/>\r\n       <use x=\"159.033203\" xlink:href=\"#DejaVuSans-56\"/>\r\n      </g>\r\n     </g>\r\n    </g>\r\n    <g id=\"ytick_13\">\r\n     <g id=\"line2d_31\">\r\n      <g>\r\n       <use style=\"stroke:#000000;stroke-width:0.8;\" x=\"401.56875\" xlink:href=\"#m96e5fab7ad\" y=\"61.246948\"/>\r\n      </g>\r\n     </g>\r\n     <g id=\"text_31\">\r\n      <!-- 0.99 -->\r\n      <g transform=\"translate(372.303125 65.046167)scale(0.1 -0.1)\">\r\n       <use xlink:href=\"#DejaVuSans-48\"/>\r\n       <use x=\"63.623047\" xlink:href=\"#DejaVuSans-46\"/>\r\n       <use x=\"95.410156\" xlink:href=\"#DejaVuSans-57\"/>\r\n       <use x=\"159.033203\" xlink:href=\"#DejaVuSans-57\"/>\r\n      </g>\r\n     </g>\r\n    </g>\r\n    <g id=\"text_32\">\r\n     <!-- accuracy -->\r\n     <defs>\r\n      <path d=\"M 8.5 21.578125 \r\nL 8.5 54.6875 \r\nL 17.484375 54.6875 \r\nL 17.484375 21.921875 \r\nQ 17.484375 14.15625 20.5 10.265625 \r\nQ 23.53125 6.390625 29.59375 6.390625 \r\nQ 36.859375 6.390625 41.078125 11.03125 \r\nQ 45.3125 15.671875 45.3125 23.6875 \r\nL 45.3125 54.6875 \r\nL 54.296875 54.6875 \r\nL 54.296875 0 \r\nL 45.3125 0 \r\nL 45.3125 8.40625 \r\nQ 42.046875 3.421875 37.71875 1 \r\nQ 33.40625 -1.421875 27.6875 -1.421875 \r\nQ 18.265625 -1.421875 13.375 4.4375 \r\nQ 8.5 10.296875 8.5 21.578125 \r\nz\r\nM 31.109375 56 \r\nz\r\n\" id=\"DejaVuSans-117\"/>\r\n      <path d=\"M 32.171875 -5.078125 \r\nQ 28.375 -14.84375 24.75 -17.8125 \r\nQ 21.140625 -20.796875 15.09375 -20.796875 \r\nL 7.90625 -20.796875 \r\nL 7.90625 -13.28125 \r\nL 13.1875 -13.28125 \r\nQ 16.890625 -13.28125 18.9375 -11.515625 \r\nQ 21 -9.765625 23.484375 -3.21875 \r\nL 25.09375 0.875 \r\nL 2.984375 54.6875 \r\nL 12.5 54.6875 \r\nL 29.59375 11.921875 \r\nL 46.6875 54.6875 \r\nL 56.203125 54.6875 \r\nz\r\n\" id=\"DejaVuSans-121\"/>\r\n     </defs>\r\n     <g transform=\"translate(366.223438 172.019375)rotate(-90)scale(0.1 -0.1)\">\r\n      <use xlink:href=\"#DejaVuSans-97\"/>\r\n      <use x=\"61.279297\" xlink:href=\"#DejaVuSans-99\"/>\r\n      <use x=\"116.259766\" xlink:href=\"#DejaVuSans-99\"/>\r\n      <use x=\"171.240234\" xlink:href=\"#DejaVuSans-117\"/>\r\n      <use x=\"234.619141\" xlink:href=\"#DejaVuSans-114\"/>\r\n      <use x=\"275.732422\" xlink:href=\"#DejaVuSans-97\"/>\r\n      <use x=\"337.011719\" xlink:href=\"#DejaVuSans-99\"/>\r\n      <use x=\"391.992188\" xlink:href=\"#DejaVuSans-121\"/>\r\n     </g>\r\n    </g>\r\n   </g>\r\n   <g id=\"line2d_32\">\r\n    <path clip-path=\"url(#pce07a4770e)\" d=\"M 415.375 249.187273 \r\nL 426.42 187.099115 \r\nL 437.465 155.333402 \r\nL 448.51 137.653854 \r\nL 459.555 116.2704 \r\nL 470.6 97.686938 \r\nL 481.645 85.670627 \r\nL 492.69 78.318078 \r\nL 503.735 73.820782 \r\nL 514.78 70.386554 \r\nL 525.825 68.125918 \r\nL 536.87 64.683699 \r\nL 547.915 62.938784 \r\nL 558.96 60.781361 \r\nL 570.005 60.03575 \r\nL 581.05 58.425675 \r\nL 592.095 57.505607 \r\nL 603.14 56.181022 \r\nL 614.185 55.134108 \r\nL 625.23 53.79371 \r\nL 636.275 53.071905 \r\nL 647.32 52.603964 \r\nL 658.365 51.74732 \r\nL 669.41 51.144541 \r\nL 680.455 50.684422 \r\nL 691.5 49.732727 \r\n\" style=\"fill:none;stroke:#1f77b4;stroke-linecap:square;stroke-width:1.5;\"/>\r\n   </g>\r\n   <g id=\"line2d_33\">\r\n    <path clip-path=\"url(#pce07a4770e)\" d=\"M 415.375 214.338287 \r\nL 426.42 172.374972 \r\nL 437.465 160.35373 \r\nL 448.51 144.462967 \r\nL 459.555 133.107757 \r\nL 470.6 126.51034 \r\nL 481.645 123.370276 \r\nL 492.69 112.87154 \r\nL 503.735 109.128866 \r\nL 514.78 103.41955 \r\nL 525.825 101.167586 \r\nL 536.87 102.436229 \r\nL 547.915 98.979046 \r\nL 558.96 95.934032 \r\nL 570.005 97.900504 \r\nL 581.05 95.394846 \r\nL 592.095 94.950711 \r\nL 603.14 96.568438 \r\nL 614.185 95.014134 \r\nL 625.23 91.810646 \r\nL 636.275 94.126034 \r\nL 647.32 96.441591 \r\nL 658.365 90.414986 \r\nL 669.41 94.982508 \r\nL 680.455 94.316474 \r\nL 691.5 90.605427 \r\n\" style=\"fill:none;stroke:#ff7f0e;stroke-linecap:square;stroke-width:1.5;\"/>\r\n   </g>\r\n   <g id=\"patch_9\">\r\n    <path d=\"M 401.56875 259.16 \r\nL 401.56875 39.76 \r\n\" style=\"fill:none;stroke:#000000;stroke-linecap:square;stroke-linejoin:miter;stroke-width:0.8;\"/>\r\n   </g>\r\n   <g id=\"patch_10\">\r\n    <path d=\"M 705.30625 259.16 \r\nL 705.30625 39.76 \r\n\" style=\"fill:none;stroke:#000000;stroke-linecap:square;stroke-linejoin:miter;stroke-width:0.8;\"/>\r\n   </g>\r\n   <g id=\"patch_11\">\r\n    <path d=\"M 401.56875 259.16 \r\nL 705.30625 259.16 \r\n\" style=\"fill:none;stroke:#000000;stroke-linecap:square;stroke-linejoin:miter;stroke-width:0.8;\"/>\r\n   </g>\r\n   <g id=\"patch_12\">\r\n    <path d=\"M 401.56875 39.76 \r\nL 705.30625 39.76 \r\n\" style=\"fill:none;stroke:#000000;stroke-linecap:square;stroke-linejoin:miter;stroke-width:0.8;\"/>\r\n   </g>\r\n   <g id=\"text_33\">\r\n    <!-- Model accuracy -->\r\n    <g transform=\"translate(506.443438 33.76)scale(0.12 -0.12)\">\r\n     <use xlink:href=\"#DejaVuSans-77\"/>\r\n     <use x=\"86.279297\" xlink:href=\"#DejaVuSans-111\"/>\r\n     <use x=\"147.460938\" xlink:href=\"#DejaVuSans-100\"/>\r\n     <use x=\"210.9375\" xlink:href=\"#DejaVuSans-101\"/>\r\n     <use x=\"272.460938\" xlink:href=\"#DejaVuSans-108\"/>\r\n     <use x=\"300.244141\" xlink:href=\"#DejaVuSans-32\"/>\r\n     <use x=\"332.03125\" xlink:href=\"#DejaVuSans-97\"/>\r\n     <use x=\"393.310547\" xlink:href=\"#DejaVuSans-99\"/>\r\n     <use x=\"448.291016\" xlink:href=\"#DejaVuSans-99\"/>\r\n     <use x=\"503.271484\" xlink:href=\"#DejaVuSans-117\"/>\r\n     <use x=\"566.650391\" xlink:href=\"#DejaVuSans-114\"/>\r\n     <use x=\"607.763672\" xlink:href=\"#DejaVuSans-97\"/>\r\n     <use x=\"669.042969\" xlink:href=\"#DejaVuSans-99\"/>\r\n     <use x=\"724.023438\" xlink:href=\"#DejaVuSans-121\"/>\r\n    </g>\r\n   </g>\r\n   <g id=\"legend_2\">\r\n    <g id=\"patch_13\">\r\n     <path d=\"M 408.56875 77.11625 \r\nL 463.84375 77.11625 \r\nQ 465.84375 77.11625 465.84375 75.11625 \r\nL 465.84375 46.76 \r\nQ 465.84375 44.76 463.84375 44.76 \r\nL 408.56875 44.76 \r\nQ 406.56875 44.76 406.56875 46.76 \r\nL 406.56875 75.11625 \r\nQ 406.56875 77.11625 408.56875 77.11625 \r\nz\r\n\" style=\"fill:#ffffff;opacity:0.8;stroke:#cccccc;stroke-linejoin:miter;\"/>\r\n    </g>\r\n    <g id=\"line2d_34\">\r\n     <path d=\"M 410.56875 52.858437 \r\nL 430.56875 52.858437 \r\n\" style=\"fill:none;stroke:#1f77b4;stroke-linecap:square;stroke-width:1.5;\"/>\r\n    </g>\r\n    <g id=\"line2d_35\"/>\r\n    <g id=\"text_34\">\r\n     <!-- train -->\r\n     <g transform=\"translate(438.56875 56.358437)scale(0.1 -0.1)\">\r\n      <use xlink:href=\"#DejaVuSans-116\"/>\r\n      <use x=\"39.208984\" xlink:href=\"#DejaVuSans-114\"/>\r\n      <use x=\"80.322266\" xlink:href=\"#DejaVuSans-97\"/>\r\n      <use x=\"141.601562\" xlink:href=\"#DejaVuSans-105\"/>\r\n      <use x=\"169.384766\" xlink:href=\"#DejaVuSans-110\"/>\r\n     </g>\r\n    </g>\r\n    <g id=\"line2d_36\">\r\n     <path d=\"M 410.56875 67.536562 \r\nL 430.56875 67.536562 \r\n\" style=\"fill:none;stroke:#ff7f0e;stroke-linecap:square;stroke-width:1.5;\"/>\r\n    </g>\r\n    <g id=\"line2d_37\"/>\r\n    <g id=\"text_35\">\r\n     <!-- val -->\r\n     <g transform=\"translate(438.56875 71.036562)scale(0.1 -0.1)\">\r\n      <use xlink:href=\"#DejaVuSans-118\"/>\r\n      <use x=\"59.179688\" xlink:href=\"#DejaVuSans-97\"/>\r\n      <use x=\"120.458984\" xlink:href=\"#DejaVuSans-108\"/>\r\n     </g>\r\n    </g>\r\n   </g>\r\n  </g>\r\n  <g id=\"text_36\">\r\n   <!-- LSTM - -&gt; Steps: 30, Embedding: 24, Neurons: 47, Dropout: 0.31, Rec. Dropout: 0.52 -->\r\n   <defs>\r\n    <path d=\"M 9.8125 72.90625 \r\nL 19.671875 72.90625 \r\nL 19.671875 8.296875 \r\nL 55.171875 8.296875 \r\nL 55.171875 0 \r\nL 9.8125 0 \r\nz\r\n\" id=\"DejaVuSans-76\"/>\r\n    <path d=\"M 53.515625 70.515625 \r\nL 53.515625 60.890625 \r\nQ 47.90625 63.578125 42.921875 64.890625 \r\nQ 37.9375 66.21875 33.296875 66.21875 \r\nQ 25.25 66.21875 20.875 63.09375 \r\nQ 16.5 59.96875 16.5 54.203125 \r\nQ 16.5 49.359375 19.40625 46.890625 \r\nQ 22.3125 44.4375 30.421875 42.921875 \r\nL 36.375 41.703125 \r\nQ 47.40625 39.59375 52.65625 34.296875 \r\nQ 57.90625 29 57.90625 20.125 \r\nQ 57.90625 9.515625 50.796875 4.046875 \r\nQ 43.703125 -1.421875 29.984375 -1.421875 \r\nQ 24.8125 -1.421875 18.96875 -0.25 \r\nQ 13.140625 0.921875 6.890625 3.21875 \r\nL 6.890625 13.375 \r\nQ 12.890625 10.015625 18.65625 8.296875 \r\nQ 24.421875 6.59375 29.984375 6.59375 \r\nQ 38.421875 6.59375 43.015625 9.90625 \r\nQ 47.609375 13.234375 47.609375 19.390625 \r\nQ 47.609375 24.75 44.3125 27.78125 \r\nQ 41.015625 30.8125 33.5 32.328125 \r\nL 27.484375 33.5 \r\nQ 16.453125 35.6875 11.515625 40.375 \r\nQ 6.59375 45.0625 6.59375 53.421875 \r\nQ 6.59375 63.09375 13.40625 68.65625 \r\nQ 20.21875 74.21875 32.171875 74.21875 \r\nQ 37.3125 74.21875 42.625 73.28125 \r\nQ 47.953125 72.359375 53.515625 70.515625 \r\nz\r\n\" id=\"DejaVuSans-83\"/>\r\n    <path d=\"M -0.296875 72.90625 \r\nL 61.375 72.90625 \r\nL 61.375 64.59375 \r\nL 35.5 64.59375 \r\nL 35.5 0 \r\nL 25.59375 0 \r\nL 25.59375 64.59375 \r\nL -0.296875 64.59375 \r\nz\r\n\" id=\"DejaVuSans-84\"/>\r\n    <path d=\"M 4.890625 31.390625 \r\nL 31.203125 31.390625 \r\nL 31.203125 23.390625 \r\nL 4.890625 23.390625 \r\nz\r\n\" id=\"DejaVuSans-45\"/>\r\n    <path d=\"M 10.59375 49.21875 \r\nL 10.59375 58.109375 \r\nL 73.1875 35.40625 \r\nL 73.1875 27.296875 \r\nL 10.59375 4.59375 \r\nL 10.59375 13.484375 \r\nL 60.890625 31.296875 \r\nz\r\n\" id=\"DejaVuSans-62\"/>\r\n    <path d=\"M 11.71875 12.40625 \r\nL 22.015625 12.40625 \r\nL 22.015625 0 \r\nL 11.71875 0 \r\nz\r\nM 11.71875 51.703125 \r\nL 22.015625 51.703125 \r\nL 22.015625 39.3125 \r\nL 11.71875 39.3125 \r\nz\r\n\" id=\"DejaVuSans-58\"/>\r\n    <path d=\"M 11.71875 12.40625 \r\nL 22.015625 12.40625 \r\nL 22.015625 4 \r\nL 14.015625 -11.625 \r\nL 7.71875 -11.625 \r\nL 11.71875 4 \r\nz\r\n\" id=\"DejaVuSans-44\"/>\r\n    <path d=\"M 52 44.1875 \r\nQ 55.375 50.25 60.0625 53.125 \r\nQ 64.75 56 71.09375 56 \r\nQ 79.640625 56 84.28125 50.015625 \r\nQ 88.921875 44.046875 88.921875 33.015625 \r\nL 88.921875 0 \r\nL 79.890625 0 \r\nL 79.890625 32.71875 \r\nQ 79.890625 40.578125 77.09375 44.375 \r\nQ 74.3125 48.1875 68.609375 48.1875 \r\nQ 61.625 48.1875 57.5625 43.546875 \r\nQ 53.515625 38.921875 53.515625 30.90625 \r\nL 53.515625 0 \r\nL 44.484375 0 \r\nL 44.484375 32.71875 \r\nQ 44.484375 40.625 41.703125 44.40625 \r\nQ 38.921875 48.1875 33.109375 48.1875 \r\nQ 26.21875 48.1875 22.15625 43.53125 \r\nQ 18.109375 38.875 18.109375 30.90625 \r\nL 18.109375 0 \r\nL 9.078125 0 \r\nL 9.078125 54.6875 \r\nL 18.109375 54.6875 \r\nL 18.109375 46.1875 \r\nQ 21.1875 51.21875 25.484375 53.609375 \r\nQ 29.78125 56 35.6875 56 \r\nQ 41.65625 56 45.828125 52.96875 \r\nQ 50 49.953125 52 44.1875 \r\nz\r\n\" id=\"DejaVuSans-109\"/>\r\n    <path d=\"M 48.6875 27.296875 \r\nQ 48.6875 37.203125 44.609375 42.84375 \r\nQ 40.53125 48.484375 33.40625 48.484375 \r\nQ 26.265625 48.484375 22.1875 42.84375 \r\nQ 18.109375 37.203125 18.109375 27.296875 \r\nQ 18.109375 17.390625 22.1875 11.75 \r\nQ 26.265625 6.109375 33.40625 6.109375 \r\nQ 40.53125 6.109375 44.609375 11.75 \r\nQ 48.6875 17.390625 48.6875 27.296875 \r\nz\r\nM 18.109375 46.390625 \r\nQ 20.953125 51.265625 25.265625 53.625 \r\nQ 29.59375 56 35.59375 56 \r\nQ 45.5625 56 51.78125 48.09375 \r\nQ 58.015625 40.1875 58.015625 27.296875 \r\nQ 58.015625 14.40625 51.78125 6.484375 \r\nQ 45.5625 -1.421875 35.59375 -1.421875 \r\nQ 29.59375 -1.421875 25.265625 0.953125 \r\nQ 20.953125 3.328125 18.109375 8.203125 \r\nL 18.109375 0 \r\nL 9.078125 0 \r\nL 9.078125 75.984375 \r\nL 18.109375 75.984375 \r\nz\r\n\" id=\"DejaVuSans-98\"/>\r\n    <path d=\"M 45.40625 27.984375 \r\nQ 45.40625 37.75 41.375 43.109375 \r\nQ 37.359375 48.484375 30.078125 48.484375 \r\nQ 22.859375 48.484375 18.828125 43.109375 \r\nQ 14.796875 37.75 14.796875 27.984375 \r\nQ 14.796875 18.265625 18.828125 12.890625 \r\nQ 22.859375 7.515625 30.078125 7.515625 \r\nQ 37.359375 7.515625 41.375 12.890625 \r\nQ 45.40625 18.265625 45.40625 27.984375 \r\nz\r\nM 54.390625 6.78125 \r\nQ 54.390625 -7.171875 48.1875 -13.984375 \r\nQ 42 -20.796875 29.203125 -20.796875 \r\nQ 24.46875 -20.796875 20.265625 -20.09375 \r\nQ 16.0625 -19.390625 12.109375 -17.921875 \r\nL 12.109375 -9.1875 \r\nQ 16.0625 -11.328125 19.921875 -12.34375 \r\nQ 23.78125 -13.375 27.78125 -13.375 \r\nQ 36.625 -13.375 41.015625 -8.765625 \r\nQ 45.40625 -4.15625 45.40625 5.171875 \r\nL 45.40625 9.625 \r\nQ 42.625 4.78125 38.28125 2.390625 \r\nQ 33.9375 0 27.875 0 \r\nQ 17.828125 0 11.671875 7.65625 \r\nQ 5.515625 15.328125 5.515625 27.984375 \r\nQ 5.515625 40.671875 11.671875 48.328125 \r\nQ 17.828125 56 27.875 56 \r\nQ 33.9375 56 38.28125 53.609375 \r\nQ 42.625 51.21875 45.40625 46.390625 \r\nL 45.40625 54.6875 \r\nL 54.390625 54.6875 \r\nz\r\n\" id=\"DejaVuSans-103\"/>\r\n    <path d=\"M 9.8125 72.90625 \r\nL 23.09375 72.90625 \r\nL 55.421875 11.921875 \r\nL 55.421875 72.90625 \r\nL 64.984375 72.90625 \r\nL 64.984375 0 \r\nL 51.703125 0 \r\nL 19.390625 60.984375 \r\nL 19.390625 0 \r\nL 9.8125 0 \r\nz\r\n\" id=\"DejaVuSans-78\"/>\r\n    <path d=\"M 19.671875 64.796875 \r\nL 19.671875 8.109375 \r\nL 31.59375 8.109375 \r\nQ 46.6875 8.109375 53.6875 14.9375 \r\nQ 60.6875 21.78125 60.6875 36.53125 \r\nQ 60.6875 51.171875 53.6875 57.984375 \r\nQ 46.6875 64.796875 31.59375 64.796875 \r\nz\r\nM 9.8125 72.90625 \r\nL 30.078125 72.90625 \r\nQ 51.265625 72.90625 61.171875 64.09375 \r\nQ 71.09375 55.28125 71.09375 36.53125 \r\nQ 71.09375 17.671875 61.125 8.828125 \r\nQ 51.171875 0 30.078125 0 \r\nL 9.8125 0 \r\nz\r\n\" id=\"DejaVuSans-68\"/>\r\n    <path d=\"M 44.390625 34.1875 \r\nQ 47.5625 33.109375 50.5625 29.59375 \r\nQ 53.5625 26.078125 56.59375 19.921875 \r\nL 66.609375 0 \r\nL 56 0 \r\nL 46.6875 18.703125 \r\nQ 43.0625 26.03125 39.671875 28.421875 \r\nQ 36.28125 30.8125 30.421875 30.8125 \r\nL 19.671875 30.8125 \r\nL 19.671875 0 \r\nL 9.8125 0 \r\nL 9.8125 72.90625 \r\nL 32.078125 72.90625 \r\nQ 44.578125 72.90625 50.734375 67.671875 \r\nQ 56.890625 62.453125 56.890625 51.90625 \r\nQ 56.890625 45.015625 53.6875 40.46875 \r\nQ 50.484375 35.9375 44.390625 34.1875 \r\nz\r\nM 19.671875 64.796875 \r\nL 19.671875 38.921875 \r\nL 32.078125 38.921875 \r\nQ 39.203125 38.921875 42.84375 42.21875 \r\nQ 46.484375 45.515625 46.484375 51.90625 \r\nQ 46.484375 58.296875 42.84375 61.546875 \r\nQ 39.203125 64.796875 32.078125 64.796875 \r\nz\r\n\" id=\"DejaVuSans-82\"/>\r\n   </defs>\r\n   <g transform=\"translate(60.584844 17.837812)scale(0.14 -0.14)\">\r\n    <use xlink:href=\"#DejaVuSans-76\"/>\r\n    <use x=\"55.712891\" xlink:href=\"#DejaVuSans-83\"/>\r\n    <use x=\"119.189453\" xlink:href=\"#DejaVuSans-84\"/>\r\n    <use x=\"180.273438\" xlink:href=\"#DejaVuSans-77\"/>\r\n    <use x=\"266.552734\" xlink:href=\"#DejaVuSans-32\"/>\r\n    <use x=\"298.339844\" xlink:href=\"#DejaVuSans-45\"/>\r\n    <use x=\"334.423828\" xlink:href=\"#DejaVuSans-45\"/>\r\n    <use x=\"370.507812\" xlink:href=\"#DejaVuSans-62\"/>\r\n    <use x=\"454.296875\" xlink:href=\"#DejaVuSans-32\"/>\r\n    <use x=\"486.083984\" xlink:href=\"#DejaVuSans-83\"/>\r\n    <use x=\"549.560547\" xlink:href=\"#DejaVuSans-116\"/>\r\n    <use x=\"588.769531\" xlink:href=\"#DejaVuSans-101\"/>\r\n    <use x=\"650.292969\" xlink:href=\"#DejaVuSans-112\"/>\r\n    <use x=\"713.769531\" xlink:href=\"#DejaVuSans-115\"/>\r\n    <use x=\"765.869141\" xlink:href=\"#DejaVuSans-58\"/>\r\n    <use x=\"799.560547\" xlink:href=\"#DejaVuSans-32\"/>\r\n    <use x=\"831.347656\" xlink:href=\"#DejaVuSans-51\"/>\r\n    <use x=\"894.970703\" xlink:href=\"#DejaVuSans-48\"/>\r\n    <use x=\"958.59375\" xlink:href=\"#DejaVuSans-44\"/>\r\n    <use x=\"990.380859\" xlink:href=\"#DejaVuSans-32\"/>\r\n    <use x=\"1022.167969\" xlink:href=\"#DejaVuSans-69\"/>\r\n    <use x=\"1085.351562\" xlink:href=\"#DejaVuSans-109\"/>\r\n    <use x=\"1182.763672\" xlink:href=\"#DejaVuSans-98\"/>\r\n    <use x=\"1246.240234\" xlink:href=\"#DejaVuSans-101\"/>\r\n    <use x=\"1307.763672\" xlink:href=\"#DejaVuSans-100\"/>\r\n    <use x=\"1371.240234\" xlink:href=\"#DejaVuSans-100\"/>\r\n    <use x=\"1434.716797\" xlink:href=\"#DejaVuSans-105\"/>\r\n    <use x=\"1462.5\" xlink:href=\"#DejaVuSans-110\"/>\r\n    <use x=\"1525.878906\" xlink:href=\"#DejaVuSans-103\"/>\r\n    <use x=\"1589.355469\" xlink:href=\"#DejaVuSans-58\"/>\r\n    <use x=\"1623.046875\" xlink:href=\"#DejaVuSans-32\"/>\r\n    <use x=\"1654.833984\" xlink:href=\"#DejaVuSans-50\"/>\r\n    <use x=\"1718.457031\" xlink:href=\"#DejaVuSans-52\"/>\r\n    <use x=\"1782.080078\" xlink:href=\"#DejaVuSans-44\"/>\r\n    <use x=\"1813.867188\" xlink:href=\"#DejaVuSans-32\"/>\r\n    <use x=\"1845.654297\" xlink:href=\"#DejaVuSans-78\"/>\r\n    <use x=\"1920.458984\" xlink:href=\"#DejaVuSans-101\"/>\r\n    <use x=\"1981.982422\" xlink:href=\"#DejaVuSans-117\"/>\r\n    <use x=\"2045.361328\" xlink:href=\"#DejaVuSans-114\"/>\r\n    <use x=\"2086.443359\" xlink:href=\"#DejaVuSans-111\"/>\r\n    <use x=\"2147.625\" xlink:href=\"#DejaVuSans-110\"/>\r\n    <use x=\"2211.003906\" xlink:href=\"#DejaVuSans-115\"/>\r\n    <use x=\"2263.103516\" xlink:href=\"#DejaVuSans-58\"/>\r\n    <use x=\"2296.794922\" xlink:href=\"#DejaVuSans-32\"/>\r\n    <use x=\"2328.582031\" xlink:href=\"#DejaVuSans-52\"/>\r\n    <use x=\"2392.205078\" xlink:href=\"#DejaVuSans-55\"/>\r\n    <use x=\"2455.828125\" xlink:href=\"#DejaVuSans-44\"/>\r\n    <use x=\"2487.615234\" xlink:href=\"#DejaVuSans-32\"/>\r\n    <use x=\"2519.402344\" xlink:href=\"#DejaVuSans-68\"/>\r\n    <use x=\"2596.404297\" xlink:href=\"#DejaVuSans-114\"/>\r\n    <use x=\"2637.486328\" xlink:href=\"#DejaVuSans-111\"/>\r\n    <use x=\"2698.667969\" xlink:href=\"#DejaVuSans-112\"/>\r\n    <use x=\"2762.144531\" xlink:href=\"#DejaVuSans-111\"/>\r\n    <use x=\"2823.326172\" xlink:href=\"#DejaVuSans-117\"/>\r\n    <use x=\"2886.705078\" xlink:href=\"#DejaVuSans-116\"/>\r\n    <use x=\"2925.914062\" xlink:href=\"#DejaVuSans-58\"/>\r\n    <use x=\"2959.605469\" xlink:href=\"#DejaVuSans-32\"/>\r\n    <use x=\"2991.392578\" xlink:href=\"#DejaVuSans-48\"/>\r\n    <use x=\"3055.015625\" xlink:href=\"#DejaVuSans-46\"/>\r\n    <use x=\"3086.802734\" xlink:href=\"#DejaVuSans-51\"/>\r\n    <use x=\"3150.425781\" xlink:href=\"#DejaVuSans-49\"/>\r\n    <use x=\"3214.048828\" xlink:href=\"#DejaVuSans-44\"/>\r\n    <use x=\"3245.835938\" xlink:href=\"#DejaVuSans-32\"/>\r\n    <use x=\"3277.623047\" xlink:href=\"#DejaVuSans-82\"/>\r\n    <use x=\"3347.042969\" xlink:href=\"#DejaVuSans-101\"/>\r\n    <use x=\"3408.566406\" xlink:href=\"#DejaVuSans-99\"/>\r\n    <use x=\"3463.546875\" xlink:href=\"#DejaVuSans-46\"/>\r\n    <use x=\"3495.333984\" xlink:href=\"#DejaVuSans-32\"/>\r\n    <use x=\"3527.121094\" xlink:href=\"#DejaVuSans-68\"/>\r\n    <use x=\"3604.123047\" xlink:href=\"#DejaVuSans-114\"/>\r\n    <use x=\"3645.205078\" xlink:href=\"#DejaVuSans-111\"/>\r\n    <use x=\"3706.386719\" xlink:href=\"#DejaVuSans-112\"/>\r\n    <use x=\"3769.863281\" xlink:href=\"#DejaVuSans-111\"/>\r\n    <use x=\"3831.044922\" xlink:href=\"#DejaVuSans-117\"/>\r\n    <use x=\"3894.423828\" xlink:href=\"#DejaVuSans-116\"/>\r\n    <use x=\"3933.632812\" xlink:href=\"#DejaVuSans-58\"/>\r\n    <use x=\"3967.324219\" xlink:href=\"#DejaVuSans-32\"/>\r\n    <use x=\"3999.111328\" xlink:href=\"#DejaVuSans-48\"/>\r\n    <use x=\"4062.734375\" xlink:href=\"#DejaVuSans-46\"/>\r\n    <use x=\"4094.521484\" xlink:href=\"#DejaVuSans-53\"/>\r\n    <use x=\"4158.144531\" xlink:href=\"#DejaVuSans-50\"/>\r\n   </g>\r\n  </g>\r\n </g>\r\n <defs>\r\n  <clipPath id=\"p6d1dd43abe\">\r\n   <rect height=\"219.4\" width=\"303.7375\" x=\"43.78125\" y=\"39.76\"/>\r\n  </clipPath>\r\n  <clipPath id=\"pce07a4770e\">\r\n   <rect height=\"219.4\" width=\"303.7375\" x=\"401.56875\" y=\"39.76\"/>\r\n  </clipPath>\r\n </defs>\r\n</svg>\r\n",
      "image/png": "[encoded data removed]"
     },
     "metadata": {
      "needs_background": "light"
     }
    }
   ],
   "source": [
    "# Random Grid Search \n",
    "np.random.seed(42)\n",
    "tf.random.set_seed(42)\n",
    "\n",
    "direction = 'uni'\n",
    "\n",
    "histories = []\n",
    "models = []\n",
    "embedding_sizes = []\n",
    "num_neurons = []\n",
    "dropouts = []\n",
    "recurrent_dropouts = []\n",
    "num_time_steps = []\n",
    "\n",
    "for hyper_index in np.arange(num_combinations):\n",
    " \n",
    "  # Random Sample Hyperparameter Space\n",
    "  quantile = np.random.uniform(0.8, 1.00) \n",
    "  embeding_size = np.random.randint(10, 100)\n",
    "  num_neuron = np.random.randint(5, 50)\n",
    "  dropout = np.random.uniform(0, 0.4)\n",
    "  recurrent_dropout = np.random.uniform(0.4, 0.6)\n",
    "\n",
    "  time_steps = int(np.quantile(data['len'], quantile))\n",
    "\n",
    "  # Encoding of X and y\n",
    "  X_train_encoded = [encode(data_row, word2index=word_index) for data_row in X_train]\n",
    "  X_test_encoded = [encode(data_row, word2index=word_index) for data_row in X_test]\n",
    "  y_train_encoded = [encode(label_row, word2index=label_index) for label_row in y_train]\n",
    "  y_test_encoded = [encode(label_row, word2index=label_index) for label_row in y_test]\n",
    "\n",
    "  # Padding of X and y\n",
    "  X_train_encoded = sequence.pad_sequences(X_train_encoded, maxlen=time_steps)\n",
    "  X_test_encoded = sequence.pad_sequences(X_test_encoded, maxlen=time_steps)\n",
    "  y_train_encoded = sequence.pad_sequences(y_train_encoded, maxlen=time_steps)\n",
    "  y_test_encoded = sequence.pad_sequences(y_test_encoded, maxlen=time_steps)\n",
    "\n",
    "  print(\"\\n\\n\\n\")\n",
    "  print(\"-\"*75)\n",
    "  print(f\"Training model for hyperparameter combination {hyper_index+1}:\")\n",
    "  print(f\"Quantile: {quantile} --> Time Steps: {time_steps}\")\n",
    "  print(f\"Embedding Size: {embeding_size}, Num Neurons: {num_neuron}, Dropout: {dropout}, Rec. Dropout: {recurrent_dropout}\")\n",
    "  print(\"-\"*75)\n",
    "  print(\"\\n\")\n",
    "\n",
    "  # Build Model and Train\n",
    "  model = create_lstm_model_multiple_outputs(vocabulary_size=vocabulary_size, embedding_size=embeding_size, num_labels=label_vocab_len, direction = direction, time_steps=time_steps, num_neuron=num_neuron, dropout=dropout, recurrent_dropout=recurrent_dropout)\n",
    "  print(model.summary())\n",
    "  history = model.fit(X_train_encoded, y_train_encoded, validation_data=(X_test_encoded, y_test_encoded), epochs=50, batch_size=32, callbacks=[es]) #, checkpoint])  # checkpoint causes issues with Bidirectional LSTM\n",
    "  plot_metrics(history,\n",
    "               metrics=['loss', 'accuracy'],\n",
    "               title = f\"LSTM --> Steps: {time_steps}, Embedding: {embeding_size}, Neurons: {num_neuron}, Dropout: {round(dropout,2)}, Rec. Dropout: {round(recurrent_dropout,2)}\")\n",
    "\n",
    "  # Housekeeping\n",
    "  histories.append(history)\n",
    "  models.append(model)\n",
    "  embedding_sizes.append(embeding_size)\n",
    "  num_neurons.append(num_neuron)\n",
    "  dropouts.append(dropout)\n",
    "  recurrent_dropouts.append(recurrent_dropout)\n",
    "  num_time_steps.append(time_steps)"
   ]
  },
  {
   "cell_type": "code",
   "execution_count": 79,
   "metadata": {},
   "outputs": [
    {
     "output_type": "stream",
     "name": "stdout",
     "text": "Train Accuracies: [0.9940362]\nTest Accuracies: [0.9797754]\n"
    }
   ],
   "source": [
    "best_train_accuracies = [max(history.history['accuracy']) for history in histories]\n",
    "best_test_accuracies = [max(history.history['val_accuracy']) for history in histories]\n",
    "print(f\"Train Accuracies: {best_train_accuracies}\")\n",
    "print(f\"Test Accuracies: {best_test_accuracies}\")"
   ]
  },
  {
   "cell_type": "code",
   "execution_count": 80,
   "metadata": {},
   "outputs": [
    {
     "output_type": "execute_result",
     "data": {
      "text/plain": "   time_steps  embedding_size  num_neuron   dropout  recurrent_dropout  \\\n0          30              24          47  0.311876            0.51937   \n\n   best_train_acc  best_test_acc  \n0        0.994036       0.979775  ",
      "text/html": "<div>\n<style scoped>\n    .dataframe tbody tr th:only-of-type {\n        vertical-align: middle;\n    }\n\n    .dataframe tbody tr th {\n        vertical-align: top;\n    }\n\n    .dataframe thead th {\n        text-align: right;\n    }\n</style>\n<table border=\"1\" class=\"dataframe\">\n  <thead>\n    <tr style=\"text-align: right;\">\n      <th></th>\n      <th>time_steps</th>\n      <th>embedding_size</th>\n      <th>num_neuron</th>\n      <th>dropout</th>\n      <th>recurrent_dropout</th>\n      <th>best_train_acc</th>\n      <th>best_test_acc</th>\n    </tr>\n  </thead>\n  <tbody>\n    <tr>\n      <th>0</th>\n      <td>30</td>\n      <td>24</td>\n      <td>47</td>\n      <td>0.311876</td>\n      <td>0.51937</td>\n      <td>0.994036</td>\n      <td>0.979775</td>\n    </tr>\n  </tbody>\n</table>\n</div>"
     },
     "metadata": {},
     "execution_count": 80
    }
   ],
   "source": [
    "lstm_results_uni = pd.DataFrame({\n",
    "    'time_steps': num_time_steps,\n",
    "    'embedding_size':embedding_sizes,\n",
    "    'num_neuron': num_neurons,\n",
    "    'dropout': dropouts,\n",
    "    'recurrent_dropout': recurrent_dropouts,\n",
    "    'best_train_acc': best_train_accuracies,\n",
    "    'best_test_acc': best_test_accuracies\n",
    "  })\n",
    "lstm_results_uni"
   ]
  },
  {
   "cell_type": "markdown",
   "metadata": {},
   "source": [
    "## Bidirectional"
   ]
  },
  {
   "cell_type": "code",
   "execution_count": 76,
   "metadata": {},
   "outputs": [
    {
     "output_type": "stream",
     "name": "stdout",
     "text": "\n\n\n\n---------------------------------------------------------------------------\nTraining model for hyperparameter combination 1:\nQuantile: 0.8749080237694725 --> Time Steps: 30\nEmbedding Size: 24, Num Neurons: 47, Dropout: 0.3118764001091077, Rec. Dropout: 0.5193700315892974\n---------------------------------------------------------------------------\n\n\nModel: \"sequential_3\"\n_________________________________________________________________\nLayer (type)                 Output Shape              Param #   \n=================================================================\nembedding_3 (Embedding)      (None, 30, 24)            451368    \n_________________________________________________________________\nbidirectional_3 (Bidirection (None, 30, 94)            27072     \n_________________________________________________________________\ntime_distributed_3 (TimeDist (None, 30, 10)            950       \n=================================================================\nTotal params: 479,390\nTrainable params: 479,390\nNon-trainable params: 0\n_________________________________________________________________\nNone\nTrain on 11989 samples, validate on 2998 samples\nEpoch 1/50\n 3040/11989 [======>.......................] - ETA: 51s - loss: 0.7580 - accuracy: 0.9166WARNING:tensorflow:Early stopping conditioned on metric `val_loss` which is not available. Available metrics are: loss,accuracy\n"
    },
    {
     "output_type": "error",
     "ename": "KeyboardInterrupt",
     "evalue": "",
     "traceback": [
      "\u001b[1;31m---------------------------------------------------------------------------\u001b[0m",
      "\u001b[1;31mKeyboardInterrupt\u001b[0m                         Traceback (most recent call last)",
      "\u001b[1;32m<ipython-input-76-4021cb559f0d>\u001b[0m in \u001b[0;36m<module>\u001b[1;34m\u001b[0m\n\u001b[0;32m     47\u001b[0m   \u001b[0mmodel\u001b[0m \u001b[1;33m=\u001b[0m \u001b[0mcreate_lstm_model_multiple_outputs\u001b[0m\u001b[1;33m(\u001b[0m\u001b[0mvocabulary_size\u001b[0m\u001b[1;33m=\u001b[0m\u001b[0mvocabulary_size\u001b[0m\u001b[1;33m,\u001b[0m \u001b[0membedding_size\u001b[0m\u001b[1;33m=\u001b[0m\u001b[0membeding_size\u001b[0m\u001b[1;33m,\u001b[0m \u001b[0mnum_labels\u001b[0m\u001b[1;33m=\u001b[0m\u001b[0mlabel_vocab_len\u001b[0m\u001b[1;33m,\u001b[0m \u001b[0mdirection\u001b[0m \u001b[1;33m=\u001b[0m \u001b[0mdirection\u001b[0m\u001b[1;33m,\u001b[0m \u001b[0mtime_steps\u001b[0m\u001b[1;33m=\u001b[0m\u001b[0mtime_steps\u001b[0m\u001b[1;33m,\u001b[0m \u001b[0mnum_neuron\u001b[0m\u001b[1;33m=\u001b[0m\u001b[0mnum_neuron\u001b[0m\u001b[1;33m,\u001b[0m \u001b[0mdropout\u001b[0m\u001b[1;33m=\u001b[0m\u001b[0mdropout\u001b[0m\u001b[1;33m,\u001b[0m \u001b[0mrecurrent_dropout\u001b[0m\u001b[1;33m=\u001b[0m\u001b[0mrecurrent_dropout\u001b[0m\u001b[1;33m)\u001b[0m\u001b[1;33m\u001b[0m\u001b[1;33m\u001b[0m\u001b[0m\n\u001b[0;32m     48\u001b[0m   \u001b[0mprint\u001b[0m\u001b[1;33m(\u001b[0m\u001b[0mmodel\u001b[0m\u001b[1;33m.\u001b[0m\u001b[0msummary\u001b[0m\u001b[1;33m(\u001b[0m\u001b[1;33m)\u001b[0m\u001b[1;33m)\u001b[0m\u001b[1;33m\u001b[0m\u001b[1;33m\u001b[0m\u001b[0m\n\u001b[1;32m---> 49\u001b[1;33m   \u001b[0mhistory\u001b[0m \u001b[1;33m=\u001b[0m \u001b[0mmodel\u001b[0m\u001b[1;33m.\u001b[0m\u001b[0mfit\u001b[0m\u001b[1;33m(\u001b[0m\u001b[0mX_train_encoded\u001b[0m\u001b[1;33m,\u001b[0m \u001b[0my_train_encoded\u001b[0m\u001b[1;33m,\u001b[0m \u001b[0mvalidation_data\u001b[0m\u001b[1;33m=\u001b[0m\u001b[1;33m(\u001b[0m\u001b[0mX_test_encoded\u001b[0m\u001b[1;33m,\u001b[0m \u001b[0my_test_encoded\u001b[0m\u001b[1;33m)\u001b[0m\u001b[1;33m,\u001b[0m \u001b[0mepochs\u001b[0m\u001b[1;33m=\u001b[0m\u001b[1;36m50\u001b[0m\u001b[1;33m,\u001b[0m \u001b[0mbatch_size\u001b[0m\u001b[1;33m=\u001b[0m\u001b[1;36m32\u001b[0m\u001b[1;33m,\u001b[0m \u001b[0mcallbacks\u001b[0m\u001b[1;33m=\u001b[0m\u001b[1;33m[\u001b[0m\u001b[0mes\u001b[0m\u001b[1;33m]\u001b[0m\u001b[1;33m)\u001b[0m \u001b[1;31m#, checkpoint])  # checkpoint causes issues with Bidirectional LSTM\u001b[0m\u001b[1;33m\u001b[0m\u001b[1;33m\u001b[0m\u001b[0m\n\u001b[0m\u001b[0;32m     50\u001b[0m   plot_metrics(history,\n\u001b[0;32m     51\u001b[0m                \u001b[0mmetrics\u001b[0m\u001b[1;33m=\u001b[0m\u001b[1;33m[\u001b[0m\u001b[1;34m'loss'\u001b[0m\u001b[1;33m,\u001b[0m \u001b[1;34m'accuracy'\u001b[0m\u001b[1;33m]\u001b[0m\u001b[1;33m,\u001b[0m\u001b[1;33m\u001b[0m\u001b[1;33m\u001b[0m\u001b[0m\n",
      "\u001b[1;32m~\\.conda\\envs\\dl_nlp\\lib\\site-packages\\tensorflow_core\\python\\keras\\engine\\training.py\u001b[0m in \u001b[0;36mfit\u001b[1;34m(self, x, y, batch_size, epochs, verbose, callbacks, validation_split, validation_data, shuffle, class_weight, sample_weight, initial_epoch, steps_per_epoch, validation_steps, validation_freq, max_queue_size, workers, use_multiprocessing, **kwargs)\u001b[0m\n\u001b[0;32m    817\u001b[0m         \u001b[0mmax_queue_size\u001b[0m\u001b[1;33m=\u001b[0m\u001b[0mmax_queue_size\u001b[0m\u001b[1;33m,\u001b[0m\u001b[1;33m\u001b[0m\u001b[1;33m\u001b[0m\u001b[0m\n\u001b[0;32m    818\u001b[0m         \u001b[0mworkers\u001b[0m\u001b[1;33m=\u001b[0m\u001b[0mworkers\u001b[0m\u001b[1;33m,\u001b[0m\u001b[1;33m\u001b[0m\u001b[1;33m\u001b[0m\u001b[0m\n\u001b[1;32m--> 819\u001b[1;33m         use_multiprocessing=use_multiprocessing)\n\u001b[0m\u001b[0;32m    820\u001b[0m \u001b[1;33m\u001b[0m\u001b[0m\n\u001b[0;32m    821\u001b[0m   def evaluate(self,\n",
      "\u001b[1;32m~\\.conda\\envs\\dl_nlp\\lib\\site-packages\\tensorflow_core\\python\\keras\\engine\\training_v2.py\u001b[0m in \u001b[0;36mfit\u001b[1;34m(self, model, x, y, batch_size, epochs, verbose, callbacks, validation_split, validation_data, shuffle, class_weight, sample_weight, initial_epoch, steps_per_epoch, validation_steps, validation_freq, max_queue_size, workers, use_multiprocessing, **kwargs)\u001b[0m\n\u001b[0;32m    340\u001b[0m                 \u001b[0mmode\u001b[0m\u001b[1;33m=\u001b[0m\u001b[0mModeKeys\u001b[0m\u001b[1;33m.\u001b[0m\u001b[0mTRAIN\u001b[0m\u001b[1;33m,\u001b[0m\u001b[1;33m\u001b[0m\u001b[1;33m\u001b[0m\u001b[0m\n\u001b[0;32m    341\u001b[0m                 \u001b[0mtraining_context\u001b[0m\u001b[1;33m=\u001b[0m\u001b[0mtraining_context\u001b[0m\u001b[1;33m,\u001b[0m\u001b[1;33m\u001b[0m\u001b[1;33m\u001b[0m\u001b[0m\n\u001b[1;32m--> 342\u001b[1;33m                 total_epochs=epochs)\n\u001b[0m\u001b[0;32m    343\u001b[0m             \u001b[0mcbks\u001b[0m\u001b[1;33m.\u001b[0m\u001b[0mmake_logs\u001b[0m\u001b[1;33m(\u001b[0m\u001b[0mmodel\u001b[0m\u001b[1;33m,\u001b[0m \u001b[0mepoch_logs\u001b[0m\u001b[1;33m,\u001b[0m \u001b[0mtraining_result\u001b[0m\u001b[1;33m,\u001b[0m \u001b[0mModeKeys\u001b[0m\u001b[1;33m.\u001b[0m\u001b[0mTRAIN\u001b[0m\u001b[1;33m)\u001b[0m\u001b[1;33m\u001b[0m\u001b[1;33m\u001b[0m\u001b[0m\n\u001b[0;32m    344\u001b[0m \u001b[1;33m\u001b[0m\u001b[0m\n",
      "\u001b[1;32m~\\.conda\\envs\\dl_nlp\\lib\\site-packages\\tensorflow_core\\python\\keras\\engine\\training_v2.py\u001b[0m in \u001b[0;36mrun_one_epoch\u001b[1;34m(model, iterator, execution_function, dataset_size, batch_size, strategy, steps_per_epoch, num_samples, mode, training_context, total_epochs)\u001b[0m\n\u001b[0;32m    126\u001b[0m         step=step, mode=mode, size=current_batch_size) as batch_logs:\n\u001b[0;32m    127\u001b[0m       \u001b[1;32mtry\u001b[0m\u001b[1;33m:\u001b[0m\u001b[1;33m\u001b[0m\u001b[1;33m\u001b[0m\u001b[0m\n\u001b[1;32m--> 128\u001b[1;33m         \u001b[0mbatch_outs\u001b[0m \u001b[1;33m=\u001b[0m \u001b[0mexecution_function\u001b[0m\u001b[1;33m(\u001b[0m\u001b[0miterator\u001b[0m\u001b[1;33m)\u001b[0m\u001b[1;33m\u001b[0m\u001b[1;33m\u001b[0m\u001b[0m\n\u001b[0m\u001b[0;32m    129\u001b[0m       \u001b[1;32mexcept\u001b[0m \u001b[1;33m(\u001b[0m\u001b[0mStopIteration\u001b[0m\u001b[1;33m,\u001b[0m \u001b[0merrors\u001b[0m\u001b[1;33m.\u001b[0m\u001b[0mOutOfRangeError\u001b[0m\u001b[1;33m)\u001b[0m\u001b[1;33m:\u001b[0m\u001b[1;33m\u001b[0m\u001b[1;33m\u001b[0m\u001b[0m\n\u001b[0;32m    130\u001b[0m         \u001b[1;31m# TODO(kaftan): File bug about tf function and errors.OutOfRangeError?\u001b[0m\u001b[1;33m\u001b[0m\u001b[1;33m\u001b[0m\u001b[1;33m\u001b[0m\u001b[0m\n",
      "\u001b[1;32m~\\.conda\\envs\\dl_nlp\\lib\\site-packages\\tensorflow_core\\python\\keras\\engine\\training_v2_utils.py\u001b[0m in \u001b[0;36mexecution_function\u001b[1;34m(input_fn)\u001b[0m\n\u001b[0;32m     96\u001b[0m     \u001b[1;31m# `numpy` translates Tensors to values in Eager mode.\u001b[0m\u001b[1;33m\u001b[0m\u001b[1;33m\u001b[0m\u001b[1;33m\u001b[0m\u001b[0m\n\u001b[0;32m     97\u001b[0m     return nest.map_structure(_non_none_constant_value,\n\u001b[1;32m---> 98\u001b[1;33m                               distributed_function(input_fn))\n\u001b[0m\u001b[0;32m     99\u001b[0m \u001b[1;33m\u001b[0m\u001b[0m\n\u001b[0;32m    100\u001b[0m   \u001b[1;32mreturn\u001b[0m \u001b[0mexecution_function\u001b[0m\u001b[1;33m\u001b[0m\u001b[1;33m\u001b[0m\u001b[0m\n",
      "\u001b[1;32m~\\.conda\\envs\\dl_nlp\\lib\\site-packages\\tensorflow_core\\python\\eager\\def_function.py\u001b[0m in \u001b[0;36m__call__\u001b[1;34m(self, *args, **kwds)\u001b[0m\n\u001b[0;32m    566\u001b[0m         \u001b[0mxla_context\u001b[0m\u001b[1;33m.\u001b[0m\u001b[0mExit\u001b[0m\u001b[1;33m(\u001b[0m\u001b[1;33m)\u001b[0m\u001b[1;33m\u001b[0m\u001b[1;33m\u001b[0m\u001b[0m\n\u001b[0;32m    567\u001b[0m     \u001b[1;32melse\u001b[0m\u001b[1;33m:\u001b[0m\u001b[1;33m\u001b[0m\u001b[1;33m\u001b[0m\u001b[0m\n\u001b[1;32m--> 568\u001b[1;33m       \u001b[0mresult\u001b[0m \u001b[1;33m=\u001b[0m \u001b[0mself\u001b[0m\u001b[1;33m.\u001b[0m\u001b[0m_call\u001b[0m\u001b[1;33m(\u001b[0m\u001b[1;33m*\u001b[0m\u001b[0margs\u001b[0m\u001b[1;33m,\u001b[0m \u001b[1;33m**\u001b[0m\u001b[0mkwds\u001b[0m\u001b[1;33m)\u001b[0m\u001b[1;33m\u001b[0m\u001b[1;33m\u001b[0m\u001b[0m\n\u001b[0m\u001b[0;32m    569\u001b[0m \u001b[1;33m\u001b[0m\u001b[0m\n\u001b[0;32m    570\u001b[0m     \u001b[1;32mif\u001b[0m \u001b[0mtracing_count\u001b[0m \u001b[1;33m==\u001b[0m \u001b[0mself\u001b[0m\u001b[1;33m.\u001b[0m\u001b[0m_get_tracing_count\u001b[0m\u001b[1;33m(\u001b[0m\u001b[1;33m)\u001b[0m\u001b[1;33m:\u001b[0m\u001b[1;33m\u001b[0m\u001b[1;33m\u001b[0m\u001b[0m\n",
      "\u001b[1;32m~\\.conda\\envs\\dl_nlp\\lib\\site-packages\\tensorflow_core\\python\\eager\\def_function.py\u001b[0m in \u001b[0;36m_call\u001b[1;34m(self, *args, **kwds)\u001b[0m\n\u001b[0;32m    597\u001b[0m       \u001b[1;31m# In this case we have created variables on the first call, so we run the\u001b[0m\u001b[1;33m\u001b[0m\u001b[1;33m\u001b[0m\u001b[1;33m\u001b[0m\u001b[0m\n\u001b[0;32m    598\u001b[0m       \u001b[1;31m# defunned version which is guaranteed to never create variables.\u001b[0m\u001b[1;33m\u001b[0m\u001b[1;33m\u001b[0m\u001b[1;33m\u001b[0m\u001b[0m\n\u001b[1;32m--> 599\u001b[1;33m       \u001b[1;32mreturn\u001b[0m \u001b[0mself\u001b[0m\u001b[1;33m.\u001b[0m\u001b[0m_stateless_fn\u001b[0m\u001b[1;33m(\u001b[0m\u001b[1;33m*\u001b[0m\u001b[0margs\u001b[0m\u001b[1;33m,\u001b[0m \u001b[1;33m**\u001b[0m\u001b[0mkwds\u001b[0m\u001b[1;33m)\u001b[0m  \u001b[1;31m# pylint: disable=not-callable\u001b[0m\u001b[1;33m\u001b[0m\u001b[1;33m\u001b[0m\u001b[0m\n\u001b[0m\u001b[0;32m    600\u001b[0m     \u001b[1;32melif\u001b[0m \u001b[0mself\u001b[0m\u001b[1;33m.\u001b[0m\u001b[0m_stateful_fn\u001b[0m \u001b[1;32mis\u001b[0m \u001b[1;32mnot\u001b[0m \u001b[1;32mNone\u001b[0m\u001b[1;33m:\u001b[0m\u001b[1;33m\u001b[0m\u001b[1;33m\u001b[0m\u001b[0m\n\u001b[0;32m    601\u001b[0m       \u001b[1;31m# Release the lock early so that multiple threads can perform the call\u001b[0m\u001b[1;33m\u001b[0m\u001b[1;33m\u001b[0m\u001b[1;33m\u001b[0m\u001b[0m\n",
      "\u001b[1;32m~\\.conda\\envs\\dl_nlp\\lib\\site-packages\\tensorflow_core\\python\\eager\\function.py\u001b[0m in \u001b[0;36m__call__\u001b[1;34m(self, *args, **kwargs)\u001b[0m\n\u001b[0;32m   2361\u001b[0m     \u001b[1;32mwith\u001b[0m \u001b[0mself\u001b[0m\u001b[1;33m.\u001b[0m\u001b[0m_lock\u001b[0m\u001b[1;33m:\u001b[0m\u001b[1;33m\u001b[0m\u001b[1;33m\u001b[0m\u001b[0m\n\u001b[0;32m   2362\u001b[0m       \u001b[0mgraph_function\u001b[0m\u001b[1;33m,\u001b[0m \u001b[0margs\u001b[0m\u001b[1;33m,\u001b[0m \u001b[0mkwargs\u001b[0m \u001b[1;33m=\u001b[0m \u001b[0mself\u001b[0m\u001b[1;33m.\u001b[0m\u001b[0m_maybe_define_function\u001b[0m\u001b[1;33m(\u001b[0m\u001b[0margs\u001b[0m\u001b[1;33m,\u001b[0m \u001b[0mkwargs\u001b[0m\u001b[1;33m)\u001b[0m\u001b[1;33m\u001b[0m\u001b[1;33m\u001b[0m\u001b[0m\n\u001b[1;32m-> 2363\u001b[1;33m     \u001b[1;32mreturn\u001b[0m \u001b[0mgraph_function\u001b[0m\u001b[1;33m.\u001b[0m\u001b[0m_filtered_call\u001b[0m\u001b[1;33m(\u001b[0m\u001b[0margs\u001b[0m\u001b[1;33m,\u001b[0m \u001b[0mkwargs\u001b[0m\u001b[1;33m)\u001b[0m  \u001b[1;31m# pylint: disable=protected-access\u001b[0m\u001b[1;33m\u001b[0m\u001b[1;33m\u001b[0m\u001b[0m\n\u001b[0m\u001b[0;32m   2364\u001b[0m \u001b[1;33m\u001b[0m\u001b[0m\n\u001b[0;32m   2365\u001b[0m   \u001b[1;33m@\u001b[0m\u001b[0mproperty\u001b[0m\u001b[1;33m\u001b[0m\u001b[1;33m\u001b[0m\u001b[0m\n",
      "\u001b[1;32m~\\.conda\\envs\\dl_nlp\\lib\\site-packages\\tensorflow_core\\python\\eager\\function.py\u001b[0m in \u001b[0;36m_filtered_call\u001b[1;34m(self, args, kwargs)\u001b[0m\n\u001b[0;32m   1609\u001b[0m          if isinstance(t, (ops.Tensor,\n\u001b[0;32m   1610\u001b[0m                            resource_variable_ops.BaseResourceVariable))),\n\u001b[1;32m-> 1611\u001b[1;33m         self.captured_inputs)\n\u001b[0m\u001b[0;32m   1612\u001b[0m \u001b[1;33m\u001b[0m\u001b[0m\n\u001b[0;32m   1613\u001b[0m   \u001b[1;32mdef\u001b[0m \u001b[0m_call_flat\u001b[0m\u001b[1;33m(\u001b[0m\u001b[0mself\u001b[0m\u001b[1;33m,\u001b[0m \u001b[0margs\u001b[0m\u001b[1;33m,\u001b[0m \u001b[0mcaptured_inputs\u001b[0m\u001b[1;33m,\u001b[0m \u001b[0mcancellation_manager\u001b[0m\u001b[1;33m=\u001b[0m\u001b[1;32mNone\u001b[0m\u001b[1;33m)\u001b[0m\u001b[1;33m:\u001b[0m\u001b[1;33m\u001b[0m\u001b[1;33m\u001b[0m\u001b[0m\n",
      "\u001b[1;32m~\\.conda\\envs\\dl_nlp\\lib\\site-packages\\tensorflow_core\\python\\eager\\function.py\u001b[0m in \u001b[0;36m_call_flat\u001b[1;34m(self, args, captured_inputs, cancellation_manager)\u001b[0m\n\u001b[0;32m   1690\u001b[0m       \u001b[1;31m# No tape is watching; skip to running the function.\u001b[0m\u001b[1;33m\u001b[0m\u001b[1;33m\u001b[0m\u001b[1;33m\u001b[0m\u001b[0m\n\u001b[0;32m   1691\u001b[0m       return self._build_call_outputs(self._inference_function.call(\n\u001b[1;32m-> 1692\u001b[1;33m           ctx, args, cancellation_manager=cancellation_manager))\n\u001b[0m\u001b[0;32m   1693\u001b[0m     forward_backward = self._select_forward_and_backward_functions(\n\u001b[0;32m   1694\u001b[0m         \u001b[0margs\u001b[0m\u001b[1;33m,\u001b[0m\u001b[1;33m\u001b[0m\u001b[1;33m\u001b[0m\u001b[0m\n",
      "\u001b[1;32m~\\.conda\\envs\\dl_nlp\\lib\\site-packages\\tensorflow_core\\python\\eager\\function.py\u001b[0m in \u001b[0;36mcall\u001b[1;34m(self, ctx, args, cancellation_manager)\u001b[0m\n\u001b[0;32m    543\u001b[0m               \u001b[0minputs\u001b[0m\u001b[1;33m=\u001b[0m\u001b[0margs\u001b[0m\u001b[1;33m,\u001b[0m\u001b[1;33m\u001b[0m\u001b[1;33m\u001b[0m\u001b[0m\n\u001b[0;32m    544\u001b[0m               \u001b[0mattrs\u001b[0m\u001b[1;33m=\u001b[0m\u001b[1;33m(\u001b[0m\u001b[1;34m\"executor_type\"\u001b[0m\u001b[1;33m,\u001b[0m \u001b[0mexecutor_type\u001b[0m\u001b[1;33m,\u001b[0m \u001b[1;34m\"config_proto\"\u001b[0m\u001b[1;33m,\u001b[0m \u001b[0mconfig\u001b[0m\u001b[1;33m)\u001b[0m\u001b[1;33m,\u001b[0m\u001b[1;33m\u001b[0m\u001b[1;33m\u001b[0m\u001b[0m\n\u001b[1;32m--> 545\u001b[1;33m               ctx=ctx)\n\u001b[0m\u001b[0;32m    546\u001b[0m         \u001b[1;32melse\u001b[0m\u001b[1;33m:\u001b[0m\u001b[1;33m\u001b[0m\u001b[1;33m\u001b[0m\u001b[0m\n\u001b[0;32m    547\u001b[0m           outputs = execute.execute_with_cancellation(\n",
      "\u001b[1;32m~\\.conda\\envs\\dl_nlp\\lib\\site-packages\\tensorflow_core\\python\\eager\\execute.py\u001b[0m in \u001b[0;36mquick_execute\u001b[1;34m(op_name, num_outputs, inputs, attrs, ctx, name)\u001b[0m\n\u001b[0;32m     59\u001b[0m     tensors = pywrap_tensorflow.TFE_Py_Execute(ctx._handle, device_name,\n\u001b[0;32m     60\u001b[0m                                                \u001b[0mop_name\u001b[0m\u001b[1;33m,\u001b[0m \u001b[0minputs\u001b[0m\u001b[1;33m,\u001b[0m \u001b[0mattrs\u001b[0m\u001b[1;33m,\u001b[0m\u001b[1;33m\u001b[0m\u001b[1;33m\u001b[0m\u001b[0m\n\u001b[1;32m---> 61\u001b[1;33m                                                num_outputs)\n\u001b[0m\u001b[0;32m     62\u001b[0m   \u001b[1;32mexcept\u001b[0m \u001b[0mcore\u001b[0m\u001b[1;33m.\u001b[0m\u001b[0m_NotOkStatusException\u001b[0m \u001b[1;32mas\u001b[0m \u001b[0me\u001b[0m\u001b[1;33m:\u001b[0m\u001b[1;33m\u001b[0m\u001b[1;33m\u001b[0m\u001b[0m\n\u001b[0;32m     63\u001b[0m     \u001b[1;32mif\u001b[0m \u001b[0mname\u001b[0m \u001b[1;32mis\u001b[0m \u001b[1;32mnot\u001b[0m \u001b[1;32mNone\u001b[0m\u001b[1;33m:\u001b[0m\u001b[1;33m\u001b[0m\u001b[1;33m\u001b[0m\u001b[0m\n",
      "\u001b[1;31mKeyboardInterrupt\u001b[0m: "
     ]
    }
   ],
   "source": [
    "# Random Grid Search \n",
    "np.random.seed(42)\n",
    "tf.random.set_seed(42)\n",
    "\n",
    "direction = 'bi'\n",
    "\n",
    "histories = []\n",
    "models = []\n",
    "embedding_sizes = []\n",
    "num_neurons = []\n",
    "dropouts = []\n",
    "recurrent_dropouts = []\n",
    "num_time_steps = []\n",
    "\n",
    "for hyper_index in np.arange(num_combinations):\n",
    " \n",
    "  # Random Sample Hyperparameter Space\n",
    "  quantile = np.random.uniform(0.8, 1.00) \n",
    "  embeding_size = np.random.randint(10, 100)\n",
    "  num_neuron = np.random.randint(5, 50)\n",
    "  dropout = np.random.uniform(0, 0.4)\n",
    "  recurrent_dropout = np.random.uniform(0.4, 0.6)\n",
    "\n",
    "  time_steps = int(np.quantile(data['len'], quantile))\n",
    "\n",
    "  # Encoding of X and y\n",
    "  X_train_encoded = [encode(data_row, word2index=word_index) for data_row in X_train]\n",
    "  X_test_encoded = [encode(data_row, word2index=word_index) for data_row in X_test]\n",
    "  y_train_encoded = [encode(label_row, word2index=label_index) for label_row in y_train]\n",
    "  y_test_encoded = [encode(label_row, word2index=label_index) for label_row in y_test]\n",
    "\n",
    "  # Padding of X and y\n",
    "  X_train_encoded = sequence.pad_sequences(X_train_encoded, maxlen=time_steps)\n",
    "  X_test_encoded = sequence.pad_sequences(X_test_encoded, maxlen=time_steps)\n",
    "  y_train_encoded = sequence.pad_sequences(y_train_encoded, maxlen=time_steps)\n",
    "  y_test_encoded = sequence.pad_sequences(y_test_encoded, maxlen=time_steps)\n",
    "\n",
    "  print(\"\\n\\n\\n\")\n",
    "  print(\"-\"*75)\n",
    "  print(f\"Training model for hyperparameter combination {hyper_index+1}:\")\n",
    "  print(f\"Quantile: {quantile} --> Time Steps: {time_steps}\")\n",
    "  print(f\"Embedding Size: {embeding_size}, Num Neurons: {num_neuron}, Dropout: {dropout}, Rec. Dropout: {recurrent_dropout}\")\n",
    "  print(\"-\"*75)\n",
    "  print(\"\\n\")\n",
    "\n",
    "  # Build Model and Train\n",
    "  model = create_lstm_model_multiple_outputs(vocabulary_size=vocabulary_size, embedding_size=embeding_size, num_labels=label_vocab_len, direction = direction, time_steps=time_steps, num_neuron=num_neuron, dropout=dropout, recurrent_dropout=recurrent_dropout)\n",
    "  print(model.summary())\n",
    "  history = model.fit(X_train_encoded, y_train_encoded, validation_data=(X_test_encoded, y_test_encoded), epochs=50, batch_size=32, callbacks=[es]) #, checkpoint])  # checkpoint causes issues with Bidirectional LSTM\n",
    "  plot_metrics(history,\n",
    "               metrics=['loss', 'accuracy'],\n",
    "               title = f\"LSTM --> Steps: {time_steps}, Embedding: {embeding_size}, Neurons: {num_neuron}, Dropout: {round(dropout,2)}, Rec. Dropout: {round(recurrent_dropout,2)}\")\n",
    "\n",
    "  # Housekeeping\n",
    "  histories.append(history)\n",
    "  models.append(model)\n",
    "  embedding_sizes.append(embeding_size)\n",
    "  num_neurons.append(num_neuron)\n",
    "  dropouts.append(dropout)\n",
    "  recurrent_dropouts.append(recurrent_dropout)\n",
    "  num_time_steps.append(time_steps)"
   ]
  },
  {
   "cell_type": "code",
   "execution_count": 71,
   "metadata": {},
   "outputs": [
    {
     "output_type": "stream",
     "name": "stdout",
     "text": "Train Accuracies: [0.99737537]\nTest Accuracies: [0.9825662]\n"
    }
   ],
   "source": [
    "best_train_accuracies = [max(history.history['accuracy']) for history in histories]\n",
    "best_test_accuracies = [max(history.history['val_accuracy']) for history in histories]\n",
    "print(f\"Train Accuracies: {best_train_accuracies}\")\n",
    "print(f\"Test Accuracies: {best_test_accuracies}\")"
   ]
  },
  {
   "cell_type": "code",
   "execution_count": 72,
   "metadata": {},
   "outputs": [
    {
     "output_type": "execute_result",
     "data": {
      "text/plain": "   time_steps  embedding_size  num_neuron   dropout  recurrent_dropout  \\\n0          30              24          47  0.311876            0.51937   \n\n   best_train_acc  best_test_acc  \n0        0.997375       0.982566  ",
      "text/html": "<div>\n<style scoped>\n    .dataframe tbody tr th:only-of-type {\n        vertical-align: middle;\n    }\n\n    .dataframe tbody tr th {\n        vertical-align: top;\n    }\n\n    .dataframe thead th {\n        text-align: right;\n    }\n</style>\n<table border=\"1\" class=\"dataframe\">\n  <thead>\n    <tr style=\"text-align: right;\">\n      <th></th>\n      <th>time_steps</th>\n      <th>embedding_size</th>\n      <th>num_neuron</th>\n      <th>dropout</th>\n      <th>recurrent_dropout</th>\n      <th>best_train_acc</th>\n      <th>best_test_acc</th>\n    </tr>\n  </thead>\n  <tbody>\n    <tr>\n      <th>0</th>\n      <td>30</td>\n      <td>24</td>\n      <td>47</td>\n      <td>0.311876</td>\n      <td>0.51937</td>\n      <td>0.997375</td>\n      <td>0.982566</td>\n    </tr>\n  </tbody>\n</table>\n</div>"
     },
     "metadata": {},
     "execution_count": 72
    }
   ],
   "source": [
    "lstm_results_bi = pd.DataFrame({\n",
    "    'time_steps': num_time_steps,\n",
    "    'embedding_size':embedding_sizes,\n",
    "    'num_neuron': num_neurons,\n",
    "    'dropout': dropouts,\n",
    "    'recurrent_dropout': recurrent_dropouts,\n",
    "    'best_train_acc': best_train_accuracies,\n",
    "    'best_test_acc': best_test_accuracies\n",
    "  })\n",
    "lstm_results_bi"
   ]
  },
  {
   "cell_type": "code",
   "execution_count": null,
   "metadata": {},
   "outputs": [],
   "source": []
  }
 ],
 "metadata": {
  "language_info": {
   "codemirror_mode": {
    "name": "ipython",
    "version": 3
   },
   "file_extension": ".py",
   "mimetype": "text/x-python",
   "name": "python",
   "nbconvert_exporter": "python",
   "pygments_lexer": "ipython3",
   "version": "3.6.10-final"
  },
  "orig_nbformat": 2,
  "kernelspec": {
   "name": "python361064bitdlnlpconda289d61a8916e4086b0ec12c871e554fe",
   "display_name": "Python 3.6.10 64-bit ('dl_nlp': conda)"
  }
 },
 "nbformat": 4,
 "nbformat_minor": 2
}