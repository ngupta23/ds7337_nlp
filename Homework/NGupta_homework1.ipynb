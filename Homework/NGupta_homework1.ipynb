{
  "nbformat": 4,
  "nbformat_minor": 0,
  "metadata": {
    "orig_nbformat": 2,
    "colab": {
      "name": "NGupta_homework1.ipynb",
      "provenance": [],
      "toc_visible": true,
      "include_colab_link": true
    },
    "kernelspec": {
      "name": "python3",
      "display_name": "Python 3"
    },
    "accelerator": "GPU"
  },
  "cells": [
    {
      "cell_type": "markdown",
      "metadata": {
        "id": "view-in-github",
        "colab_type": "text"
      },
      "source": [
        "<a href=\"https://colab.research.google.com/github/ngupta23/ds7337_nlp/blob/master/Homework/NGupta_homework1.ipynb\" target=\"_parent\"><img src=\"https://colab.research.google.com/assets/colab-badge.svg\" alt=\"Open In Colab\"/></a>"
      ]
    },
    {
      "cell_type": "markdown",
      "metadata": {
        "id": "NPzFFc9VC4Xp",
        "colab_type": "text"
      },
      "source": [
        "# Homework 1\n",
        "## Author: Nikhil Gupta"
      ]
    },
    {
      "cell_type": "code",
      "metadata": {
        "id": "9XDCo3B_C4Xs",
        "colab_type": "code",
        "outputId": "3fa4b5ca-d0d6-4686-80d5-6af5ebb1cf02",
        "colab": {
          "base_uri": "https://localhost:8080/",
          "height": 34
        }
      },
      "source": [
        "from math import floor\n",
        "from typing import List, Tuple\n",
        "\n",
        "import numpy as np\n",
        "import pandas as pd\n",
        "\n",
        "import matplotlib.pyplot as plt\n",
        "%matplotlib inline\n",
        "\n",
        "import tensorflow as tf\n",
        "from tensorflow.keras import layers \n",
        "from sklearn import datasets\n",
        "print(tf.__version__)"
      ],
      "execution_count": 1,
      "outputs": [
        {
          "output_type": "stream",
          "text": [
            "2.2.0\n"
          ],
          "name": "stdout"
        }
      ]
    },
    {
      "cell_type": "markdown",
      "metadata": {
        "id": "peWpws_vDOrM",
        "colab_type": "text"
      },
      "source": [
        "## 1.1 Classification Problem (Digits Dataset)"
      ]
    },
    {
      "cell_type": "code",
      "metadata": {
        "id": "NOS7JkIaDJuZ",
        "colab_type": "code",
        "colab": {}
      },
      "source": [
        "data = datasets.load_digits()\n",
        "X = data['data']\n",
        "y = data['target']"
      ],
      "execution_count": 0,
      "outputs": []
    },
    {
      "cell_type": "code",
      "metadata": {
        "id": "9tM-qjuMDfZw",
        "colab_type": "code",
        "outputId": "d2a5dff1-448c-4b24-b2ae-94a51a2951d0",
        "colab": {
          "base_uri": "https://localhost:8080/",
          "height": 51
        }
      },
      "source": [
        "print(X.shape)\n",
        "print(y.shape)"
      ],
      "execution_count": 3,
      "outputs": [
        {
          "output_type": "stream",
          "text": [
            "(1797, 64)\n",
            "(1797,)\n"
          ],
          "name": "stdout"
        }
      ]
    },
    {
      "cell_type": "code",
      "metadata": {
        "id": "J6zDBTY6Fril",
        "colab_type": "code",
        "outputId": "2841dfeb-6518-43e2-b805-7208ea24c40e",
        "colab": {
          "base_uri": "https://localhost:8080/",
          "height": 51
        }
      },
      "source": [
        "print(f\"Min Label: {np.min(y)}\")\n",
        "print(f\"Max Label: {np.max(y)}\")"
      ],
      "execution_count": 4,
      "outputs": [
        {
          "output_type": "stream",
          "text": [
            "Min Label: 0\n",
            "Max Label: 9\n"
          ],
          "name": "stdout"
        }
      ]
    },
    {
      "cell_type": "markdown",
      "metadata": {
        "id": "_YVnQsIODsL8",
        "colab_type": "text"
      },
      "source": [
        "**The inputs are an 8x8 image (of a single digit number) that have been unrolled into a 1x64 array. There are 1797 such images in the data. The output is a number from 0 to 9 indicating the digit in the image.**"
      ]
    },
    {
      "cell_type": "markdown",
      "metadata": {
        "id": "5NCd8GcSEd6d",
        "colab_type": "text"
      },
      "source": [
        "### Scaling the data\n",
        "The data come more or less scaled to the same scale for all of the 64 features, although some of the 64 pixeld (features) do not go all the way till 16. Hence we will proceed with the scaling the feature values to be between 0 and 1 as a best practice."
      ]
    },
    {
      "cell_type": "code",
      "metadata": {
        "id": "I8RwjjY1DixY",
        "colab_type": "code",
        "outputId": "a6ce37eb-c528-477a-dd14-f4d5c0a2bf59",
        "colab": {
          "base_uri": "https://localhost:8080/",
          "height": 85
        }
      },
      "source": [
        "print(np.max(X, axis=0))"
      ],
      "execution_count": 5,
      "outputs": [
        {
          "output_type": "stream",
          "text": [
            "[ 0.  8. 16. 16. 16. 16. 16. 15.  2. 16. 16. 16. 16. 16. 16. 12.  2. 16.\n",
            " 16. 16. 16. 16. 16.  8.  1. 15. 16. 16. 16. 16. 15.  1.  0. 14. 16. 16.\n",
            " 16. 16. 14.  0.  4. 16. 16. 16. 16. 16. 16.  6.  8. 16. 16. 16. 16. 16.\n",
            " 16. 13.  1.  9. 16. 16. 16. 16. 16. 16.]\n"
          ],
          "name": "stdout"
        }
      ]
    },
    {
      "cell_type": "code",
      "metadata": {
        "id": "3BTM6eYpEG0U",
        "colab_type": "code",
        "outputId": "0389c678-e9b9-4bbb-f970-5028a129a642",
        "colab": {
          "base_uri": "https://localhost:8080/",
          "height": 68
        }
      },
      "source": [
        "print(np.min(X, axis=0))"
      ],
      "execution_count": 6,
      "outputs": [
        {
          "output_type": "stream",
          "text": [
            "[0. 0. 0. 0. 0. 0. 0. 0. 0. 0. 0. 0. 0. 0. 0. 0. 0. 0. 0. 0. 0. 0. 0. 0.\n",
            " 0. 0. 0. 0. 0. 0. 0. 0. 0. 0. 0. 0. 0. 0. 0. 0. 0. 0. 0. 0. 0. 0. 0. 0.\n",
            " 0. 0. 0. 0. 0. 0. 0. 0. 0. 0. 0. 0. 0. 0. 0. 0.]\n"
          ],
          "name": "stdout"
        }
      ]
    },
    {
      "cell_type": "code",
      "metadata": {
        "id": "FKy_tsAiE7dg",
        "colab_type": "code",
        "colab": {}
      },
      "source": [
        "from sklearn.preprocessing import MinMaxScaler\n",
        "scaler = MinMaxScaler(feature_range=(0, 1))\n",
        "X_scaled = scaler.fit_transform(X)"
      ],
      "execution_count": 0,
      "outputs": []
    },
    {
      "cell_type": "code",
      "metadata": {
        "id": "oC8a3xXpGAfO",
        "colab_type": "code",
        "outputId": "e10e8cb8-13fc-427e-824c-f7b09d699f1c",
        "colab": {
          "base_uri": "https://localhost:8080/",
          "height": 68
        }
      },
      "source": [
        "print(np.max(X_scaled, axis=0))"
      ],
      "execution_count": 8,
      "outputs": [
        {
          "output_type": "stream",
          "text": [
            "[0. 1. 1. 1. 1. 1. 1. 1. 1. 1. 1. 1. 1. 1. 1. 1. 1. 1. 1. 1. 1. 1. 1. 1.\n",
            " 1. 1. 1. 1. 1. 1. 1. 1. 0. 1. 1. 1. 1. 1. 1. 0. 1. 1. 1. 1. 1. 1. 1. 1.\n",
            " 1. 1. 1. 1. 1. 1. 1. 1. 1. 1. 1. 1. 1. 1. 1. 1.]\n"
          ],
          "name": "stdout"
        }
      ]
    },
    {
      "cell_type": "code",
      "metadata": {
        "id": "BCb5LdATGC_W",
        "colab_type": "code",
        "outputId": "db46bc7c-f00d-4cf1-a518-010a5fe4023e",
        "colab": {
          "base_uri": "https://localhost:8080/",
          "height": 68
        }
      },
      "source": [
        "print(np.min(X_scaled, axis=0))"
      ],
      "execution_count": 9,
      "outputs": [
        {
          "output_type": "stream",
          "text": [
            "[0. 0. 0. 0. 0. 0. 0. 0. 0. 0. 0. 0. 0. 0. 0. 0. 0. 0. 0. 0. 0. 0. 0. 0.\n",
            " 0. 0. 0. 0. 0. 0. 0. 0. 0. 0. 0. 0. 0. 0. 0. 0. 0. 0. 0. 0. 0. 0. 0. 0.\n",
            " 0. 0. 0. 0. 0. 0. 0. 0. 0. 0. 0. 0. 0. 0. 0. 0.]\n"
          ],
          "name": "stdout"
        }
      ]
    },
    {
      "cell_type": "markdown",
      "metadata": {
        "id": "xrqzLHRSGh7R",
        "colab_type": "text"
      },
      "source": [
        "### Train/Validation Split"
      ]
    },
    {
      "cell_type": "markdown",
      "metadata": {
        "id": "OlNEJXGlG0XQ",
        "colab_type": "text"
      },
      "source": [
        "#### Question 1A: How did you know when you were done training? \n",
        "**We will split the data into a train and validation split. We will use the train split to train the model (over a large number of epochs) and the validation data to check if the model is able to generalize well (not overfitting). If we do not see an improvement in the validation metric over several epochs (or if it deteriorates), it could be an indication that the model may have started to overfit. Hence we can use this as in indication of when to stop the training process. This is called early stopping**."
      ]
    },
    {
      "cell_type": "code",
      "metadata": {
        "id": "9vOZ6Xd5Gkoi",
        "colab_type": "code",
        "colab": {}
      },
      "source": [
        "from sklearn.model_selection import train_test_split\n",
        "# 80% Training 20% Validation\n",
        "X_train, X_test, y_train, y_test = train_test_split(X_scaled, y, test_size=0.20, random_state=42)"
      ],
      "execution_count": 0,
      "outputs": []
    },
    {
      "cell_type": "code",
      "metadata": {
        "id": "1x1mkIUoGr_X",
        "colab_type": "code",
        "outputId": "aff3d4e5-7467-40b1-99bd-430590048c0b",
        "colab": {
          "base_uri": "https://localhost:8080/",
          "height": 85
        }
      },
      "source": [
        "print(X_train.shape)\n",
        "print(y_train.shape)\n",
        "print(X_test.shape)\n",
        "print(y_test.shape)"
      ],
      "execution_count": 11,
      "outputs": [
        {
          "output_type": "stream",
          "text": [
            "(1437, 64)\n",
            "(1437,)\n",
            "(360, 64)\n",
            "(360,)\n"
          ],
          "name": "stdout"
        }
      ]
    },
    {
      "cell_type": "code",
      "metadata": {
        "id": "vuaAWNUoGI0-",
        "colab_type": "code",
        "colab": {}
      },
      "source": [
        "from time import time\n",
        "from tensorflow.keras.callbacks import TensorBoard, EarlyStopping\n",
        "import shutil\n",
        "shutil.rmtree(\"./logs\", ignore_errors=True) # deletes a directory and all its contents\n",
        "tb = TensorBoard()\n",
        "# If validation error does not improve for 10 epochs, then terminate the training\n",
        "es = EarlyStopping(min_delta=0,patience=10)  "
      ],
      "execution_count": 0,
      "outputs": []
    },
    {
      "cell_type": "markdown",
      "metadata": {
        "id": "Yh8VUHCuH3Ay",
        "colab_type": "text"
      },
      "source": [
        "#### Question 1B: How did you optimize your parameters?\n",
        "**The parameter optimization in neural networks is performed using back propagation. The weights are updated by moving in the direction opposite to the gradient of the loss with respect to the weights. In the neural network this is performed by optimizers as outlined below.**\n",
        "\n",
        "* **Optimizer**: Traditionally, Stocastic Gradient Descent (SGD) was used, but this can be quite slow for Neural Networks as it can get stuck in local minima. Many researchers prefer to use the Adaptive Moment Estimation **([Adam](https://www.youtube.com/watch?v=JXQT_vxqwIs)) optimizer** which has been shown to be considerably faster than SGD. We will use this in our training as a default. The parameters of the optimizer will be left at the default values. The metric used to calculate the loss was **`accuracy`**.\n",
        "\n",
        "**Unfortunately, there are no strict rules that can guide how the hyperparameters are chosen. However, we can use some industry standard settings. For example**\n",
        "\n",
        "* The **number of neurons** in the layers is generally chosen to be in powers of 2. This may be due to the fact that this causes the weight matrices to fit into memory more efficiently since the computers memory is also addressed using binary data. While this may be true for large neural networks, our network is likely going to be very small by those standards and hence it should not matter if we choose the number of neurons to be powers of 2 or not. In any case, we will continue to use this practice. After experimenting a little with this, we settled on 128 neurons for the first hidden layer and 64 for the second hidden layer.\n",
        "* **Activation Function:** Sigmoid and Tanh activation functions suffer from the problem of vanishing gradient since the max gradient can be 0.25 and 1 respectively at weight  = 0 and quickly becomes small as the weight deviates from 0. When we have multiple layers, this can get multiplied several times and result in a very small gradient which slows down the training. Hence many reserchers prefer to use Relu activation function (or its variants) as a default (gradient = 1 when the weight > 0). Although, we will not use a very deep network in this example, we will continue to use this best practice. Also, since this is a classification problem, we will use a Sigmoid activation for the last layer (10 neurons) and use **`SparseCategoricalCrossentropy`** as the loss function wich will take care of the one hot encoding.\n",
        "* **Number of layers:** We want to add at least 1 hidden layer in order to capture the non-linearities in the data. In this example, after a little trial and error, 2 hidden layers was found to be more appropriate. Unfortunately, there is no easy rule of thumb to determine the number of layers ahead of time so some trial and error is needed here.\n",
        "* **Dropout:** A dropout layer could be added after each hidden layer if we feel that the model is overfitting. It was not needed in this case.\n",
        "* **Batch Size:** Again, there are no hard and fast rules here. Researchers prefer to use powers to 2 here so that the matrices fit in the memory efficiently. Also, we want the batch size to be small enough so as not to slow dows the training but not so small that the training starts to become noisy. We will use a batch size of 32, but this could be experimented with if needed."
      ]
    },
    {
      "cell_type": "code",
      "metadata": {
        "id": "lZK-GYA3HW6r",
        "colab_type": "code",
        "colab": {}
      },
      "source": [
        "model = tf.keras.Sequential()\n",
        "model.add(layers.Dense(128, activation='relu'))\n",
        "model.add(layers.Dense(64, activation='relu'))\n",
        "model.add(layers.Dense(10 ,activation='sigmoid'))"
      ],
      "execution_count": 0,
      "outputs": []
    },
    {
      "cell_type": "code",
      "metadata": {
        "id": "kf2KzK3cHnP-",
        "colab_type": "code",
        "colab": {}
      },
      "source": [
        "model.compile(optimizer=tf.optimizers.Adam(),\n",
        "              loss=tf.keras.losses.SparseCategoricalCrossentropy(),  # Since our labels are integers, we will use this loss function which will one hot encode it internally\n",
        "              metrics=['accuracy'])"
      ],
      "execution_count": 0,
      "outputs": []
    },
    {
      "cell_type": "code",
      "metadata": {
        "id": "5xMPBC_UH2QP",
        "colab_type": "code",
        "outputId": "fd9771ec-d3c3-4e00-b807-e1123a50d857",
        "colab": {
          "base_uri": "https://localhost:8080/",
          "height": 1000
        }
      },
      "source": [
        "tf.random.set_seed(42)\n",
        "history = model.fit(X_train, y_train, validation_data=(X_test,y_test), epochs=1000, batch_size=32, callbacks=[tb, es])"
      ],
      "execution_count": 15,
      "outputs": [
        {
          "output_type": "stream",
          "text": [
            "Epoch 1/1000\n",
            "45/45 [==============================] - 0s 7ms/step - loss: 1.9460 - accuracy: 0.4447 - val_loss: 1.3907 - val_accuracy: 0.7889\n",
            "Epoch 2/1000\n",
            "45/45 [==============================] - 0s 3ms/step - loss: 0.8138 - accuracy: 0.8580 - val_loss: 0.4663 - val_accuracy: 0.8944\n",
            "Epoch 3/1000\n",
            "45/45 [==============================] - 0s 3ms/step - loss: 0.3765 - accuracy: 0.9172 - val_loss: 0.2826 - val_accuracy: 0.9306\n",
            "Epoch 4/1000\n",
            "45/45 [==============================] - 0s 3ms/step - loss: 0.2575 - accuracy: 0.9408 - val_loss: 0.2140 - val_accuracy: 0.9500\n",
            "Epoch 5/1000\n",
            "45/45 [==============================] - 0s 4ms/step - loss: 0.2023 - accuracy: 0.9485 - val_loss: 0.1900 - val_accuracy: 0.9417\n",
            "Epoch 6/1000\n",
            "45/45 [==============================] - 0s 4ms/step - loss: 0.1649 - accuracy: 0.9603 - val_loss: 0.1607 - val_accuracy: 0.9667\n",
            "Epoch 7/1000\n",
            "45/45 [==============================] - 0s 4ms/step - loss: 0.1526 - accuracy: 0.9638 - val_loss: 0.1334 - val_accuracy: 0.9611\n",
            "Epoch 8/1000\n",
            "45/45 [==============================] - 0s 4ms/step - loss: 0.1214 - accuracy: 0.9722 - val_loss: 0.1217 - val_accuracy: 0.9667\n",
            "Epoch 9/1000\n",
            "45/45 [==============================] - 0s 4ms/step - loss: 0.1082 - accuracy: 0.9763 - val_loss: 0.1399 - val_accuracy: 0.9556\n",
            "Epoch 10/1000\n",
            "45/45 [==============================] - 0s 4ms/step - loss: 0.0959 - accuracy: 0.9791 - val_loss: 0.1216 - val_accuracy: 0.9611\n",
            "Epoch 11/1000\n",
            "45/45 [==============================] - 0s 4ms/step - loss: 0.0834 - accuracy: 0.9840 - val_loss: 0.1055 - val_accuracy: 0.9722\n",
            "Epoch 12/1000\n",
            "45/45 [==============================] - 0s 4ms/step - loss: 0.0750 - accuracy: 0.9854 - val_loss: 0.1081 - val_accuracy: 0.9694\n",
            "Epoch 13/1000\n",
            "45/45 [==============================] - 0s 3ms/step - loss: 0.0668 - accuracy: 0.9875 - val_loss: 0.1041 - val_accuracy: 0.9639\n",
            "Epoch 14/1000\n",
            "45/45 [==============================] - 0s 3ms/step - loss: 0.0675 - accuracy: 0.9861 - val_loss: 0.1043 - val_accuracy: 0.9639\n",
            "Epoch 15/1000\n",
            "45/45 [==============================] - 0s 4ms/step - loss: 0.0555 - accuracy: 0.9889 - val_loss: 0.0977 - val_accuracy: 0.9722\n",
            "Epoch 16/1000\n",
            "45/45 [==============================] - 0s 4ms/step - loss: 0.0513 - accuracy: 0.9916 - val_loss: 0.0937 - val_accuracy: 0.9806\n",
            "Epoch 17/1000\n",
            "45/45 [==============================] - 0s 4ms/step - loss: 0.0456 - accuracy: 0.9930 - val_loss: 0.1004 - val_accuracy: 0.9694\n",
            "Epoch 18/1000\n",
            "45/45 [==============================] - 0s 4ms/step - loss: 0.0443 - accuracy: 0.9930 - val_loss: 0.0949 - val_accuracy: 0.9722\n",
            "Epoch 19/1000\n",
            "45/45 [==============================] - 0s 4ms/step - loss: 0.0414 - accuracy: 0.9937 - val_loss: 0.0918 - val_accuracy: 0.9694\n",
            "Epoch 20/1000\n",
            "45/45 [==============================] - 0s 4ms/step - loss: 0.0351 - accuracy: 0.9951 - val_loss: 0.0972 - val_accuracy: 0.9694\n",
            "Epoch 21/1000\n",
            "45/45 [==============================] - 0s 4ms/step - loss: 0.0376 - accuracy: 0.9944 - val_loss: 0.0925 - val_accuracy: 0.9694\n",
            "Epoch 22/1000\n",
            "45/45 [==============================] - 0s 4ms/step - loss: 0.0291 - accuracy: 0.9958 - val_loss: 0.0961 - val_accuracy: 0.9722\n",
            "Epoch 23/1000\n",
            "45/45 [==============================] - 0s 3ms/step - loss: 0.0262 - accuracy: 0.9972 - val_loss: 0.0903 - val_accuracy: 0.9694\n",
            "Epoch 24/1000\n",
            "45/45 [==============================] - 0s 4ms/step - loss: 0.0248 - accuracy: 0.9979 - val_loss: 0.1050 - val_accuracy: 0.9639\n",
            "Epoch 25/1000\n",
            "45/45 [==============================] - 0s 4ms/step - loss: 0.0248 - accuracy: 0.9972 - val_loss: 0.0938 - val_accuracy: 0.9750\n",
            "Epoch 26/1000\n",
            "45/45 [==============================] - 0s 4ms/step - loss: 0.0208 - accuracy: 0.9986 - val_loss: 0.0919 - val_accuracy: 0.9694\n",
            "Epoch 27/1000\n",
            "45/45 [==============================] - 0s 4ms/step - loss: 0.0200 - accuracy: 0.9979 - val_loss: 0.0905 - val_accuracy: 0.9778\n",
            "Epoch 28/1000\n",
            "45/45 [==============================] - 0s 4ms/step - loss: 0.0178 - accuracy: 0.9979 - val_loss: 0.0890 - val_accuracy: 0.9750\n",
            "Epoch 29/1000\n",
            "45/45 [==============================] - 0s 4ms/step - loss: 0.0173 - accuracy: 0.9979 - val_loss: 0.0949 - val_accuracy: 0.9750\n",
            "Epoch 30/1000\n",
            "45/45 [==============================] - 0s 4ms/step - loss: 0.0174 - accuracy: 0.9986 - val_loss: 0.0897 - val_accuracy: 0.9722\n",
            "Epoch 31/1000\n",
            "45/45 [==============================] - 0s 4ms/step - loss: 0.0141 - accuracy: 0.9986 - val_loss: 0.1021 - val_accuracy: 0.9778\n",
            "Epoch 32/1000\n",
            "45/45 [==============================] - 0s 4ms/step - loss: 0.0141 - accuracy: 1.0000 - val_loss: 0.0917 - val_accuracy: 0.9722\n",
            "Epoch 33/1000\n",
            "45/45 [==============================] - 0s 4ms/step - loss: 0.0117 - accuracy: 1.0000 - val_loss: 0.0874 - val_accuracy: 0.9750\n",
            "Epoch 34/1000\n",
            "45/45 [==============================] - 0s 4ms/step - loss: 0.0107 - accuracy: 0.9993 - val_loss: 0.0897 - val_accuracy: 0.9778\n",
            "Epoch 35/1000\n",
            "45/45 [==============================] - 0s 4ms/step - loss: 0.0120 - accuracy: 0.9993 - val_loss: 0.0941 - val_accuracy: 0.9694\n",
            "Epoch 36/1000\n",
            "45/45 [==============================] - 0s 4ms/step - loss: 0.0100 - accuracy: 1.0000 - val_loss: 0.0930 - val_accuracy: 0.9722\n",
            "Epoch 37/1000\n",
            "45/45 [==============================] - 0s 4ms/step - loss: 0.0095 - accuracy: 1.0000 - val_loss: 0.0982 - val_accuracy: 0.9750\n",
            "Epoch 38/1000\n",
            "45/45 [==============================] - 0s 4ms/step - loss: 0.0091 - accuracy: 1.0000 - val_loss: 0.0936 - val_accuracy: 0.9722\n",
            "Epoch 39/1000\n",
            "45/45 [==============================] - 0s 4ms/step - loss: 0.0101 - accuracy: 0.9993 - val_loss: 0.0937 - val_accuracy: 0.9722\n",
            "Epoch 40/1000\n",
            "45/45 [==============================] - 0s 4ms/step - loss: 0.0074 - accuracy: 1.0000 - val_loss: 0.0932 - val_accuracy: 0.9694\n",
            "Epoch 41/1000\n",
            "45/45 [==============================] - 0s 4ms/step - loss: 0.0075 - accuracy: 1.0000 - val_loss: 0.0971 - val_accuracy: 0.9694\n",
            "Epoch 42/1000\n",
            "45/45 [==============================] - 0s 4ms/step - loss: 0.0065 - accuracy: 1.0000 - val_loss: 0.0922 - val_accuracy: 0.9694\n",
            "Epoch 43/1000\n",
            "45/45 [==============================] - 0s 4ms/step - loss: 0.0067 - accuracy: 1.0000 - val_loss: 0.0953 - val_accuracy: 0.9694\n"
          ],
          "name": "stdout"
        }
      ]
    },
    {
      "cell_type": "markdown",
      "metadata": {
        "id": "skZusRmtOnfq",
        "colab_type": "text"
      },
      "source": [
        "#### Question 1C.\tPlot your training/validation curves to bolster your arguments\n",
        "\n",
        "**From the training and validation curves below, we can see that The training and validation accuracy is very close to each other so we are relatively confident that the network is able to generalize well and is not overfitting. The validation accuracy starts to deteriorate a little towards the end but that is where early stopping comes into picture (see note below) and terminates the training process.**\n",
        "\n",
        "**Note:** We ran the model for 1000 epochs, but it stopped after about 45 epochs. This is because our validation accuracy did not improve for the last 10 epochs (see settings in early stopping `es` initialization)"
      ]
    },
    {
      "cell_type": "code",
      "metadata": {
        "id": "55DlZYwwK-Lk",
        "colab_type": "code",
        "colab": {}
      },
      "source": [
        "## This does not render in the notbook after saving. Hence we will use a custom function to plot this.\n",
        "# # Load the TensorBoard notebook extension\n",
        "# %load_ext tensorboard\n",
        "# %tensorboard --logdir logs"
      ],
      "execution_count": 0,
      "outputs": []
    },
    {
      "cell_type": "code",
      "metadata": {
        "id": "61oCzMJneX71",
        "colab_type": "code",
        "colab": {}
      },
      "source": [
        "def plot_metrics(history: tf.python.keras.callbacks.History, metrics: List[str] = ['loss'], figsize: Tuple[int, int] = (10,4)):\n",
        "  \"\"\"\n",
        "  This functin will plot the metrics for the model\n",
        "  :param history: The history object obtained from the fit function.\n",
        "  :type history: tf.python.keras.callbacks.History\n",
        "  :param metrics: What metrics to plot for the model (Default = ['loss'])\n",
        "  :type metrics: List[str]\n",
        "  :param figsize: Figure size to be used for plotting (Default = (10,4))\n",
        "  :type figsize: Tuple(int,int)\n",
        "  \"\"\"\n",
        "  num_plots = len(metrics)\n",
        "  fig, axes = plt.subplots(int(num_plots/2), 2, figsize=figsize)\n",
        "\n",
        "  for num, metric in enumerate(metrics):\n",
        "    # summarize history for metric\n",
        "    if num <= 2:\n",
        "      axes[num%2].plot(history.history[metric])\n",
        "      axes[num%2].plot(history.history['val_' + metric])\n",
        "      axes[num%2].set_title('Model ' + metric)\n",
        "      axes[num%2].set(xlabel='Epoch', ylabel=metric)\n",
        "      axes[num%2].legend(['train', 'val'], loc='best')    \n",
        "    else:\n",
        "      axes[floor(num/2), num%2].plot(history.history[metric])\n",
        "      axes[floor(num/2), num%2].plot(history.history['val_' + metric])\n",
        "      axes[floor(num/2), num%2].set_title('Model ' + metric)\n",
        "      axes[floor(num/2), num%2].set(xlabel='Epoch', ylabel=metric)\n",
        "      axes[floor(num/2), num%2].legend(['train', 'val'], loc='best')    \n",
        "\n",
        "  _ = plt.show"
      ],
      "execution_count": 0,
      "outputs": []
    },
    {
      "cell_type": "code",
      "metadata": {
        "id": "zQurfzbtgpZ3",
        "colab_type": "code",
        "outputId": "67bda626-7995-4bfb-b146-3cdf81dffde3",
        "colab": {
          "base_uri": "https://localhost:8080/",
          "height": 295
        }
      },
      "source": [
        "plot_metrics(history, metrics=['loss', 'accuracy'])"
      ],
      "execution_count": 18,
      "outputs": [
        {
          "output_type": "display_data",
          "data": {
            "image/png": "[encoded data removed]",
            "text/plain": [
              "<Figure size 720x288 with 2 Axes>"
            ]
          },
          "metadata": {
            "tags": [],
            "needs_background": "light"
          }
        }
      ]
    },
    {
      "cell_type": "markdown",
      "metadata": {
        "id": "XaUnlc2TPwer",
        "colab_type": "text"
      },
      "source": [
        "#### Question 1D: Plot a histogram of your weights from a particular layer (it must have at least 50 neurons)\n",
        "\n",
        "**The weights can be obtained by using the get_weights() function in the history object. This contains weights for each layer in the form of a list. There are 2 entries in this list for each layer - (1) the entry for the weights matrix (multidimensional depending on the number of features) and the (2) the bias weights (single dimension)**\n",
        "\n",
        "**Note:** We can pick either the 1st layer or the second layer to visualize the weights since these will have more than 50 neurons. From the plot below, we notice that the weights are more or less normally distributed and around the same range. This is likely due to the fact that we standardized the inputs before training the model."
      ]
    },
    {
      "cell_type": "code",
      "metadata": {
        "id": "a6io1HWVZdCH",
        "colab_type": "code",
        "colab": {}
      },
      "source": [
        "\n",
        "def plot_weights(weights: List[np.array], verbose: bool = True, figsize: Tuple[int, int] = (12,9)):\n",
        "  \"\"\"\n",
        "  Given a list of list of neural network weights, this function will plot them\n",
        "  :param weights: A list where each entry is a numpy array containing the weights for a layer.\n",
        "                  Each later must have 2 entries in the list \n",
        "                  (1) The first one for the weights matrix and \n",
        "                  (2) The second one for the bias matrix\n",
        "  :type weights List[np.array]\n",
        "  :param verbose Whether to print the shape of the weights for each layer (Default: True)\n",
        "  :type verbose: bool\n",
        "  :param figsize: Figure size to be used for plotting (Default = (10,4))\n",
        "  :type figsize: Tuple(int,int)\n",
        "  \"\"\"\n",
        "  from math import floor\n",
        "  fig, axes = plt.subplots(int(len(weights)/2), 2, figsize=figsize)\n",
        "  for num, weight in enumerate(weights):\n",
        "    if num%2 == 0:\n",
        "      if verbose:\n",
        "        print(f\"Layer {floor(num/2) + 1} Weight Matrix Shape: {weight.shape}\")\n",
        "      _ = axes[floor(num/2), num%2].hist(weight)\n",
        "      axes[floor(num/2), num%2].set_title('Weight Matrix: Layer ' + str(floor(num/2)+1))\n",
        "      axes[floor(num/2), num%2].set(xlabel='Weight Bin', ylabel='Count')\n",
        "    elif num%2 == 1:\n",
        "      if verbose:\n",
        "        print(f\"Layer {floor(num/2) + 1} Bias Matrix Shape: {weight.shape}\")\n",
        "      _ = axes[floor(num/2), num%2].hist(weight)\n",
        "      axes[floor(num/2), num%2].set_title('Bias Matrix: Layer ' + str(floor(num/2)+1))\n",
        "      axes[floor(num/2), num%2].set(xlabel='Bias Bin', ylabel='Count')\n",
        "  \n",
        "  plt.tight_layout()\n",
        "  plt.show"
      ],
      "execution_count": 0,
      "outputs": []
    },
    {
      "cell_type": "code",
      "metadata": {
        "id": "eazr70LuyEzN",
        "colab_type": "code",
        "outputId": "6f75039d-2e83-4988-b69b-291876cd7e88",
        "colab": {
          "base_uri": "https://localhost:8080/",
          "height": 51
        }
      },
      "source": [
        "weights = history.model.get_weights()\n",
        "print(type(weights))\n",
        "print(len(weights))"
      ],
      "execution_count": 20,
      "outputs": [
        {
          "output_type": "stream",
          "text": [
            "<class 'list'>\n",
            "6\n"
          ],
          "name": "stdout"
        }
      ]
    },
    {
      "cell_type": "code",
      "metadata": {
        "id": "t9gHo-ABZg90",
        "colab_type": "code",
        "outputId": "ded4ade6-3c75-46af-817e-5092166ceab3",
        "colab": {
          "base_uri": "https://localhost:8080/",
          "height": 759
        }
      },
      "source": [
        "plot_weights(weights)"
      ],
      "execution_count": 21,
      "outputs": [
        {
          "output_type": "stream",
          "text": [
            "Layer 1 Weight Matrix Shape: (64, 128)\n",
            "Layer 1 Bias Matrix Shape: (128,)\n",
            "Layer 2 Weight Matrix Shape: (128, 64)\n",
            "Layer 2 Bias Matrix Shape: (64,)\n",
            "Layer 3 Weight Matrix Shape: (64, 10)\n",
            "Layer 3 Bias Matrix Shape: (10,)\n"
          ],
          "name": "stdout"
        },
        {
          "output_type": "display_data",
          "data": {
            "image/png": "[encoded data removed]",
            "text/plain": [
              "<Figure size 864x648 with 6 Axes>"
            ]
          },
          "metadata": {
            "tags": [],
            "needs_background": "light"
          }
        }
      ]
    },
    {
      "cell_type": "markdown",
      "metadata": {
        "id": "TkdJE5QPOGkn",
        "colab_type": "text"
      },
      "source": [
        "## 1.2 Regression Problem (Boston Housing)"
      ]
    },
    {
      "cell_type": "code",
      "metadata": {
        "id": "NN0OfV67OI-j",
        "colab_type": "code",
        "colab": {}
      },
      "source": [
        "data = datasets.load_boston()\n",
        "X = data['data']\n",
        "y = data['target']"
      ],
      "execution_count": 0,
      "outputs": []
    },
    {
      "cell_type": "code",
      "metadata": {
        "id": "xRfAaSUIPlvz",
        "colab_type": "code",
        "outputId": "f08d242b-a70a-44ef-daaa-95847ba325bc",
        "colab": {
          "base_uri": "https://localhost:8080/",
          "height": 51
        }
      },
      "source": [
        "print(X.shape)\n",
        "print(y.shape)"
      ],
      "execution_count": 23,
      "outputs": [
        {
          "output_type": "stream",
          "text": [
            "(506, 13)\n",
            "(506,)\n"
          ],
          "name": "stdout"
        }
      ]
    },
    {
      "cell_type": "markdown",
      "metadata": {
        "id": "BFWNpXVsQLi5",
        "colab_type": "text"
      },
      "source": [
        "### Scaling the Data\n",
        "\n",
        "**The features do not seem to be on the same scale. Hence we will perform min-max scaling to being all the features to the same scale. This will assist the optimizer in converging faster to the minima.**"
      ]
    },
    {
      "cell_type": "code",
      "metadata": {
        "id": "lb5DoCBMPswr",
        "colab_type": "code",
        "outputId": "4167c57b-68ff-45b2-a364-59140ff22f55",
        "colab": {
          "base_uri": "https://localhost:8080/",
          "height": 51
        }
      },
      "source": [
        "print(np.max(X, axis=0))"
      ],
      "execution_count": 24,
      "outputs": [
        {
          "output_type": "stream",
          "text": [
            "[ 88.9762 100.      27.74     1.       0.871    8.78   100.      12.1265\n",
            "  24.     711.      22.     396.9     37.97  ]\n"
          ],
          "name": "stdout"
        }
      ]
    },
    {
      "cell_type": "code",
      "metadata": {
        "id": "F4UdbtmuQEJD",
        "colab_type": "code",
        "outputId": "af15074d-97e8-4aab-ee01-6c2c8024561c",
        "colab": {
          "base_uri": "https://localhost:8080/",
          "height": 68
        }
      },
      "source": [
        "print(np.min(X, axis=0))"
      ],
      "execution_count": 25,
      "outputs": [
        {
          "output_type": "stream",
          "text": [
            "[6.3200e-03 0.0000e+00 4.6000e-01 0.0000e+00 3.8500e-01 3.5610e+00\n",
            " 2.9000e+00 1.1296e+00 1.0000e+00 1.8700e+02 1.2600e+01 3.2000e-01\n",
            " 1.7300e+00]\n"
          ],
          "name": "stdout"
        }
      ]
    },
    {
      "cell_type": "code",
      "metadata": {
        "id": "CvLRvtRsQHxc",
        "colab_type": "code",
        "colab": {}
      },
      "source": [
        "scaler = MinMaxScaler(feature_range=(0, 1))\n",
        "X_scaled = scaler.fit_transform(X)"
      ],
      "execution_count": 0,
      "outputs": []
    },
    {
      "cell_type": "code",
      "metadata": {
        "id": "2GfE_PJLQlW3",
        "colab_type": "code",
        "outputId": "3578c5cd-1470-4a26-85f1-344a3fbe0b27",
        "colab": {
          "base_uri": "https://localhost:8080/",
          "height": 51
        }
      },
      "source": [
        "print(np.max(X_scaled, axis=0))\n",
        "print(np.min(X_scaled, axis=0))"
      ],
      "execution_count": 27,
      "outputs": [
        {
          "output_type": "stream",
          "text": [
            "[1. 1. 1. 1. 1. 1. 1. 1. 1. 1. 1. 1. 1.]\n",
            "[0. 0. 0. 0. 0. 0. 0. 0. 0. 0. 0. 0. 0.]\n"
          ],
          "name": "stdout"
        }
      ]
    },
    {
      "cell_type": "markdown",
      "metadata": {
        "id": "8HUBUzZ-QrYP",
        "colab_type": "text"
      },
      "source": [
        "### Train/Validation Split"
      ]
    },
    {
      "cell_type": "markdown",
      "metadata": {
        "id": "lcpe6mAeVcHE",
        "colab_type": "text"
      },
      "source": [
        "#### Question 1A: How did you know when you were done training?\n",
        "\n",
        "**Similar to the classification problem, we will split this into a train and validation split and use early stopping to determine when the training is complete.**"
      ]
    },
    {
      "cell_type": "code",
      "metadata": {
        "id": "VaGNwvvCQ3su",
        "colab_type": "code",
        "outputId": "95be7f28-db6f-49a6-d9da-467f7417ca18",
        "colab": {
          "base_uri": "https://localhost:8080/",
          "height": 85
        }
      },
      "source": [
        "from sklearn.model_selection import train_test_split\n",
        "X_train, X_test, y_train, y_test = train_test_split(X_scaled, y, test_size=0.20, random_state=42)\n",
        "print(X_train.shape)\n",
        "print(y_train.shape)\n",
        "print(X_test.shape)\n",
        "print(y_test.shape)"
      ],
      "execution_count": 28,
      "outputs": [
        {
          "output_type": "stream",
          "text": [
            "(404, 13)\n",
            "(404,)\n",
            "(102, 13)\n",
            "(102,)\n"
          ],
          "name": "stdout"
        }
      ]
    },
    {
      "cell_type": "markdown",
      "metadata": {
        "id": "2xGsc0L2Vi3L",
        "colab_type": "text"
      },
      "source": [
        "#### Question 1B: How did you optimize your parameters?\n",
        "\n",
        "Similar to the classification problem, **Adam optimizer** was used for optimizing the parameters in the model. The difference is that the metric used to calculate the loss was **`mean squared error`** (compared to accuracy in the classification problem).\n",
        "\n",
        "The decisions to choose the hyperparameters was made based on the same arguments laid out in the classification problem. The only exception was that since this is a regression problem, the last layer used a linear activation function to allow any numeric value for the output (not limiting to be between 0 and 1).\n"
      ]
    },
    {
      "cell_type": "code",
      "metadata": {
        "id": "e_OZOU2EUV9d",
        "colab_type": "code",
        "colab": {}
      },
      "source": [
        "shutil.rmtree(\"./logs\", ignore_errors=True) # deletes a directory and all its contents\n",
        "tb = TensorBoard()\n",
        "# If validation error does not improve for 10 epochs, then terminate the training\n",
        "es = EarlyStopping(min_delta=0,patience=10)  "
      ],
      "execution_count": 0,
      "outputs": []
    },
    {
      "cell_type": "code",
      "metadata": {
        "id": "xOhbP4PARG5h",
        "colab_type": "code",
        "colab": {}
      },
      "source": [
        "model = tf.keras.Sequential()\n",
        "model.add(layers.Dense(128, activation='relu'))\n",
        "model.add(layers.Dense(64, activation='relu'))\n",
        "model.add(layers.Dense(1 ,activation='linear'))  # Question: Housing should not have negative values. So can we use 'relu' here instead of 'linear' activation?"
      ],
      "execution_count": 0,
      "outputs": []
    },
    {
      "cell_type": "code",
      "metadata": {
        "id": "4fFhfTSHRQrC",
        "colab_type": "code",
        "colab": {}
      },
      "source": [
        "model.compile(optimizer=tf.optimizers.Adam(),\n",
        "              loss='mean_squared_error',\n",
        "              metrics=['mean_squared_error'])"
      ],
      "execution_count": 0,
      "outputs": []
    },
    {
      "cell_type": "code",
      "metadata": {
        "id": "5LZ6G_4uRZQJ",
        "colab_type": "code",
        "outputId": "0c37af7f-8998-4664-b2b9-f4d3ca579718",
        "colab": {
          "base_uri": "https://localhost:8080/",
          "height": 1000
        }
      },
      "source": [
        "tf.random.set_seed(42)\n",
        "history = model.fit(X_train, y_train, validation_data=(X_test,y_test), epochs=1000, batch_size=32, callbacks=[tb, es])"
      ],
      "execution_count": 32,
      "outputs": [
        {
          "output_type": "stream",
          "text": [
            "Epoch 1/1000\n",
            "13/13 [==============================] - 0s 12ms/step - loss: 590.2484 - mean_squared_error: 590.2484 - val_loss: 495.5122 - val_mean_squared_error: 495.5122\n",
            "Epoch 2/1000\n",
            "13/13 [==============================] - 0s 5ms/step - loss: 536.9777 - mean_squared_error: 536.9777 - val_loss: 431.9080 - val_mean_squared_error: 431.9080\n",
            "Epoch 3/1000\n",
            "13/13 [==============================] - 0s 5ms/step - loss: 452.5132 - mean_squared_error: 452.5132 - val_loss: 330.0299 - val_mean_squared_error: 330.0299\n",
            "Epoch 4/1000\n",
            "13/13 [==============================] - 0s 5ms/step - loss: 323.0399 - mean_squared_error: 323.0399 - val_loss: 200.1168 - val_mean_squared_error: 200.1168\n",
            "Epoch 5/1000\n",
            "13/13 [==============================] - 0s 5ms/step - loss: 190.8923 - mean_squared_error: 190.8923 - val_loss: 112.2473 - val_mean_squared_error: 112.2473\n",
            "Epoch 6/1000\n",
            "13/13 [==============================] - 0s 5ms/step - loss: 122.4338 - mean_squared_error: 122.4338 - val_loss: 108.0064 - val_mean_squared_error: 108.0064\n",
            "Epoch 7/1000\n",
            "13/13 [==============================] - 0s 6ms/step - loss: 110.2502 - mean_squared_error: 110.2502 - val_loss: 93.1106 - val_mean_squared_error: 93.1106\n",
            "Epoch 8/1000\n",
            "13/13 [==============================] - 0s 5ms/step - loss: 94.4073 - mean_squared_error: 94.4073 - val_loss: 76.2056 - val_mean_squared_error: 76.2056\n",
            "Epoch 9/1000\n",
            "13/13 [==============================] - 0s 5ms/step - loss: 84.1389 - mean_squared_error: 84.1389 - val_loss: 65.9339 - val_mean_squared_error: 65.9339\n",
            "Epoch 10/1000\n",
            "13/13 [==============================] - 0s 6ms/step - loss: 74.6806 - mean_squared_error: 74.6806 - val_loss: 59.8918 - val_mean_squared_error: 59.8918\n",
            "Epoch 11/1000\n",
            "13/13 [==============================] - 0s 5ms/step - loss: 67.3436 - mean_squared_error: 67.3436 - val_loss: 53.4769 - val_mean_squared_error: 53.4769\n",
            "Epoch 12/1000\n",
            "13/13 [==============================] - 0s 5ms/step - loss: 61.7253 - mean_squared_error: 61.7253 - val_loss: 49.2231 - val_mean_squared_error: 49.2231\n",
            "Epoch 13/1000\n",
            "13/13 [==============================] - 0s 5ms/step - loss: 57.4508 - mean_squared_error: 57.4508 - val_loss: 46.3993 - val_mean_squared_error: 46.3993\n",
            "Epoch 14/1000\n",
            "13/13 [==============================] - 0s 5ms/step - loss: 54.3904 - mean_squared_error: 54.3904 - val_loss: 45.2216 - val_mean_squared_error: 45.2216\n",
            "Epoch 15/1000\n",
            "13/13 [==============================] - 0s 5ms/step - loss: 52.0866 - mean_squared_error: 52.0866 - val_loss: 42.1970 - val_mean_squared_error: 42.1970\n",
            "Epoch 16/1000\n",
            "13/13 [==============================] - 0s 5ms/step - loss: 49.8532 - mean_squared_error: 49.8532 - val_loss: 40.6589 - val_mean_squared_error: 40.6589\n",
            "Epoch 17/1000\n",
            "13/13 [==============================] - 0s 5ms/step - loss: 47.8191 - mean_squared_error: 47.8191 - val_loss: 40.1603 - val_mean_squared_error: 40.1603\n",
            "Epoch 18/1000\n",
            "13/13 [==============================] - 0s 5ms/step - loss: 46.0901 - mean_squared_error: 46.0901 - val_loss: 39.0039 - val_mean_squared_error: 39.0039\n",
            "Epoch 19/1000\n",
            "13/13 [==============================] - 0s 5ms/step - loss: 44.2667 - mean_squared_error: 44.2667 - val_loss: 37.4027 - val_mean_squared_error: 37.4027\n",
            "Epoch 20/1000\n",
            "13/13 [==============================] - 0s 5ms/step - loss: 42.7234 - mean_squared_error: 42.7234 - val_loss: 36.3260 - val_mean_squared_error: 36.3260\n",
            "Epoch 21/1000\n",
            "13/13 [==============================] - 0s 5ms/step - loss: 40.7828 - mean_squared_error: 40.7828 - val_loss: 36.0482 - val_mean_squared_error: 36.0482\n",
            "Epoch 22/1000\n",
            "13/13 [==============================] - 0s 5ms/step - loss: 39.9269 - mean_squared_error: 39.9269 - val_loss: 34.0068 - val_mean_squared_error: 34.0068\n",
            "Epoch 23/1000\n",
            "13/13 [==============================] - 0s 5ms/step - loss: 37.6482 - mean_squared_error: 37.6482 - val_loss: 33.4621 - val_mean_squared_error: 33.4621\n",
            "Epoch 24/1000\n",
            "13/13 [==============================] - 0s 6ms/step - loss: 36.1279 - mean_squared_error: 36.1279 - val_loss: 31.9300 - val_mean_squared_error: 31.9300\n",
            "Epoch 25/1000\n",
            "13/13 [==============================] - 0s 5ms/step - loss: 34.7079 - mean_squared_error: 34.7079 - val_loss: 30.8136 - val_mean_squared_error: 30.8136\n",
            "Epoch 26/1000\n",
            "13/13 [==============================] - 0s 5ms/step - loss: 33.1771 - mean_squared_error: 33.1771 - val_loss: 29.8354 - val_mean_squared_error: 29.8354\n",
            "Epoch 27/1000\n",
            "13/13 [==============================] - 0s 5ms/step - loss: 31.8146 - mean_squared_error: 31.8146 - val_loss: 28.8340 - val_mean_squared_error: 28.8340\n",
            "Epoch 28/1000\n",
            "13/13 [==============================] - 0s 5ms/step - loss: 31.1300 - mean_squared_error: 31.1300 - val_loss: 28.1062 - val_mean_squared_error: 28.1062\n",
            "Epoch 29/1000\n",
            "13/13 [==============================] - 0s 5ms/step - loss: 30.4334 - mean_squared_error: 30.4334 - val_loss: 27.0409 - val_mean_squared_error: 27.0409\n",
            "Epoch 30/1000\n",
            "13/13 [==============================] - 0s 5ms/step - loss: 27.9412 - mean_squared_error: 27.9412 - val_loss: 26.4519 - val_mean_squared_error: 26.4519\n",
            "Epoch 31/1000\n",
            "13/13 [==============================] - 0s 5ms/step - loss: 27.0965 - mean_squared_error: 27.0965 - val_loss: 25.5440 - val_mean_squared_error: 25.5440\n",
            "Epoch 32/1000\n",
            "13/13 [==============================] - 0s 5ms/step - loss: 26.1225 - mean_squared_error: 26.1225 - val_loss: 24.8298 - val_mean_squared_error: 24.8298\n",
            "Epoch 33/1000\n",
            "13/13 [==============================] - 0s 5ms/step - loss: 25.4586 - mean_squared_error: 25.4586 - val_loss: 24.2573 - val_mean_squared_error: 24.2573\n",
            "Epoch 34/1000\n",
            "13/13 [==============================] - 0s 5ms/step - loss: 24.3258 - mean_squared_error: 24.3258 - val_loss: 23.7515 - val_mean_squared_error: 23.7515\n",
            "Epoch 35/1000\n",
            "13/13 [==============================] - 0s 6ms/step - loss: 23.8359 - mean_squared_error: 23.8359 - val_loss: 23.2873 - val_mean_squared_error: 23.2873\n",
            "Epoch 36/1000\n",
            "13/13 [==============================] - 0s 5ms/step - loss: 23.1838 - mean_squared_error: 23.1838 - val_loss: 22.8794 - val_mean_squared_error: 22.8794\n",
            "Epoch 37/1000\n",
            "13/13 [==============================] - 0s 5ms/step - loss: 22.7139 - mean_squared_error: 22.7139 - val_loss: 22.5973 - val_mean_squared_error: 22.5973\n",
            "Epoch 38/1000\n",
            "13/13 [==============================] - 0s 5ms/step - loss: 22.3002 - mean_squared_error: 22.3002 - val_loss: 22.3022 - val_mean_squared_error: 22.3022\n",
            "Epoch 39/1000\n",
            "13/13 [==============================] - 0s 19ms/step - loss: 22.0864 - mean_squared_error: 22.0864 - val_loss: 22.0409 - val_mean_squared_error: 22.0409\n",
            "Epoch 40/1000\n",
            "13/13 [==============================] - 0s 5ms/step - loss: 21.6521 - mean_squared_error: 21.6521 - val_loss: 21.6481 - val_mean_squared_error: 21.6481\n",
            "Epoch 41/1000\n",
            "13/13 [==============================] - 0s 5ms/step - loss: 21.1002 - mean_squared_error: 21.1002 - val_loss: 21.4221 - val_mean_squared_error: 21.4221\n",
            "Epoch 42/1000\n",
            "13/13 [==============================] - 0s 5ms/step - loss: 21.0789 - mean_squared_error: 21.0789 - val_loss: 21.4819 - val_mean_squared_error: 21.4819\n",
            "Epoch 43/1000\n",
            "13/13 [==============================] - 0s 5ms/step - loss: 20.7449 - mean_squared_error: 20.7449 - val_loss: 21.0380 - val_mean_squared_error: 21.0380\n",
            "Epoch 44/1000\n",
            "13/13 [==============================] - 0s 5ms/step - loss: 20.3308 - mean_squared_error: 20.3308 - val_loss: 20.8455 - val_mean_squared_error: 20.8455\n",
            "Epoch 45/1000\n",
            "13/13 [==============================] - 0s 5ms/step - loss: 20.1406 - mean_squared_error: 20.1406 - val_loss: 20.6275 - val_mean_squared_error: 20.6275\n",
            "Epoch 46/1000\n",
            "13/13 [==============================] - 0s 5ms/step - loss: 20.3918 - mean_squared_error: 20.3918 - val_loss: 20.6372 - val_mean_squared_error: 20.6372\n",
            "Epoch 47/1000\n",
            "13/13 [==============================] - 0s 5ms/step - loss: 19.7443 - mean_squared_error: 19.7443 - val_loss: 20.3648 - val_mean_squared_error: 20.3648\n",
            "Epoch 48/1000\n",
            "13/13 [==============================] - 0s 5ms/step - loss: 19.5107 - mean_squared_error: 19.5107 - val_loss: 20.4812 - val_mean_squared_error: 20.4812\n",
            "Epoch 49/1000\n",
            "13/13 [==============================] - 0s 5ms/step - loss: 19.2833 - mean_squared_error: 19.2833 - val_loss: 20.1067 - val_mean_squared_error: 20.1067\n",
            "Epoch 50/1000\n",
            "13/13 [==============================] - 0s 5ms/step - loss: 19.5009 - mean_squared_error: 19.5009 - val_loss: 20.2290 - val_mean_squared_error: 20.2290\n",
            "Epoch 51/1000\n",
            "13/13 [==============================] - 0s 5ms/step - loss: 19.0347 - mean_squared_error: 19.0347 - val_loss: 19.9775 - val_mean_squared_error: 19.9775\n",
            "Epoch 52/1000\n",
            "13/13 [==============================] - 0s 5ms/step - loss: 19.1313 - mean_squared_error: 19.1313 - val_loss: 20.5584 - val_mean_squared_error: 20.5584\n",
            "Epoch 53/1000\n",
            "13/13 [==============================] - 0s 5ms/step - loss: 19.0322 - mean_squared_error: 19.0322 - val_loss: 19.7319 - val_mean_squared_error: 19.7319\n",
            "Epoch 54/1000\n",
            "13/13 [==============================] - 0s 5ms/step - loss: 18.5556 - mean_squared_error: 18.5556 - val_loss: 20.0009 - val_mean_squared_error: 20.0009\n",
            "Epoch 55/1000\n",
            "13/13 [==============================] - 0s 5ms/step - loss: 18.6637 - mean_squared_error: 18.6637 - val_loss: 19.4621 - val_mean_squared_error: 19.4621\n",
            "Epoch 56/1000\n",
            "13/13 [==============================] - 0s 5ms/step - loss: 18.3646 - mean_squared_error: 18.3646 - val_loss: 19.4963 - val_mean_squared_error: 19.4963\n",
            "Epoch 57/1000\n",
            "13/13 [==============================] - 0s 5ms/step - loss: 18.2409 - mean_squared_error: 18.2409 - val_loss: 19.3478 - val_mean_squared_error: 19.3478\n",
            "Epoch 58/1000\n",
            "13/13 [==============================] - 0s 5ms/step - loss: 18.5048 - mean_squared_error: 18.5048 - val_loss: 19.5411 - val_mean_squared_error: 19.5411\n",
            "Epoch 59/1000\n",
            "13/13 [==============================] - 0s 5ms/step - loss: 19.0673 - mean_squared_error: 19.0673 - val_loss: 19.3072 - val_mean_squared_error: 19.3072\n",
            "Epoch 60/1000\n",
            "13/13 [==============================] - 0s 5ms/step - loss: 18.6052 - mean_squared_error: 18.6052 - val_loss: 19.2400 - val_mean_squared_error: 19.2400\n",
            "Epoch 61/1000\n",
            "13/13 [==============================] - 0s 5ms/step - loss: 17.6743 - mean_squared_error: 17.6743 - val_loss: 18.9923 - val_mean_squared_error: 18.9923\n",
            "Epoch 62/1000\n",
            "13/13 [==============================] - 0s 5ms/step - loss: 17.8342 - mean_squared_error: 17.8342 - val_loss: 18.9220 - val_mean_squared_error: 18.9220\n",
            "Epoch 63/1000\n",
            "13/13 [==============================] - 0s 5ms/step - loss: 17.6188 - mean_squared_error: 17.6188 - val_loss: 18.7847 - val_mean_squared_error: 18.7847\n",
            "Epoch 64/1000\n",
            "13/13 [==============================] - 0s 5ms/step - loss: 17.4370 - mean_squared_error: 17.4370 - val_loss: 18.7638 - val_mean_squared_error: 18.7638\n",
            "Epoch 65/1000\n",
            "13/13 [==============================] - 0s 5ms/step - loss: 17.2703 - mean_squared_error: 17.2703 - val_loss: 18.6864 - val_mean_squared_error: 18.6864\n",
            "Epoch 66/1000\n",
            "13/13 [==============================] - 0s 5ms/step - loss: 17.2632 - mean_squared_error: 17.2632 - val_loss: 18.6236 - val_mean_squared_error: 18.6236\n",
            "Epoch 67/1000\n",
            "13/13 [==============================] - 0s 5ms/step - loss: 16.9833 - mean_squared_error: 16.9833 - val_loss: 18.5679 - val_mean_squared_error: 18.5679\n",
            "Epoch 68/1000\n",
            "13/13 [==============================] - 0s 5ms/step - loss: 16.9119 - mean_squared_error: 16.9119 - val_loss: 18.5348 - val_mean_squared_error: 18.5348\n",
            "Epoch 69/1000\n",
            "13/13 [==============================] - 0s 5ms/step - loss: 17.2519 - mean_squared_error: 17.2519 - val_loss: 18.6902 - val_mean_squared_error: 18.6902\n",
            "Epoch 70/1000\n",
            "13/13 [==============================] - 0s 5ms/step - loss: 16.7313 - mean_squared_error: 16.7313 - val_loss: 18.2451 - val_mean_squared_error: 18.2451\n",
            "Epoch 71/1000\n",
            "13/13 [==============================] - 0s 5ms/step - loss: 16.8998 - mean_squared_error: 16.8998 - val_loss: 18.3335 - val_mean_squared_error: 18.3335\n",
            "Epoch 72/1000\n",
            "13/13 [==============================] - 0s 5ms/step - loss: 16.3926 - mean_squared_error: 16.3926 - val_loss: 18.0124 - val_mean_squared_error: 18.0124\n",
            "Epoch 73/1000\n",
            "13/13 [==============================] - 0s 5ms/step - loss: 16.4294 - mean_squared_error: 16.4294 - val_loss: 18.0247 - val_mean_squared_error: 18.0247\n",
            "Epoch 74/1000\n",
            "13/13 [==============================] - 0s 5ms/step - loss: 16.3944 - mean_squared_error: 16.3944 - val_loss: 18.0213 - val_mean_squared_error: 18.0213\n",
            "Epoch 75/1000\n",
            "13/13 [==============================] - 0s 5ms/step - loss: 16.1902 - mean_squared_error: 16.1902 - val_loss: 17.9680 - val_mean_squared_error: 17.9680\n",
            "Epoch 76/1000\n",
            "13/13 [==============================] - 0s 5ms/step - loss: 16.1156 - mean_squared_error: 16.1156 - val_loss: 17.8066 - val_mean_squared_error: 17.8066\n",
            "Epoch 77/1000\n",
            "13/13 [==============================] - 0s 5ms/step - loss: 16.3884 - mean_squared_error: 16.3884 - val_loss: 17.7103 - val_mean_squared_error: 17.7103\n",
            "Epoch 78/1000\n",
            "13/13 [==============================] - 0s 5ms/step - loss: 16.0175 - mean_squared_error: 16.0175 - val_loss: 17.5514 - val_mean_squared_error: 17.5514\n",
            "Epoch 79/1000\n",
            "13/13 [==============================] - 0s 5ms/step - loss: 15.7920 - mean_squared_error: 15.7920 - val_loss: 17.5180 - val_mean_squared_error: 17.5180\n",
            "Epoch 80/1000\n",
            "13/13 [==============================] - 0s 5ms/step - loss: 15.7604 - mean_squared_error: 15.7604 - val_loss: 17.5392 - val_mean_squared_error: 17.5392\n",
            "Epoch 81/1000\n",
            "13/13 [==============================] - 0s 5ms/step - loss: 15.6027 - mean_squared_error: 15.6027 - val_loss: 17.6187 - val_mean_squared_error: 17.6187\n",
            "Epoch 82/1000\n",
            "13/13 [==============================] - 0s 5ms/step - loss: 15.4668 - mean_squared_error: 15.4668 - val_loss: 17.4330 - val_mean_squared_error: 17.4330\n",
            "Epoch 83/1000\n",
            "13/13 [==============================] - 0s 6ms/step - loss: 15.4665 - mean_squared_error: 15.4665 - val_loss: 17.3059 - val_mean_squared_error: 17.3059\n",
            "Epoch 84/1000\n",
            "13/13 [==============================] - 0s 5ms/step - loss: 15.5525 - mean_squared_error: 15.5525 - val_loss: 17.5251 - val_mean_squared_error: 17.5251\n",
            "Epoch 85/1000\n",
            "13/13 [==============================] - 0s 6ms/step - loss: 15.3923 - mean_squared_error: 15.3923 - val_loss: 17.1579 - val_mean_squared_error: 17.1579\n",
            "Epoch 86/1000\n",
            "13/13 [==============================] - 0s 6ms/step - loss: 15.2718 - mean_squared_error: 15.2718 - val_loss: 17.0002 - val_mean_squared_error: 17.0002\n",
            "Epoch 87/1000\n",
            "13/13 [==============================] - 0s 5ms/step - loss: 15.1066 - mean_squared_error: 15.1066 - val_loss: 16.9005 - val_mean_squared_error: 16.9005\n",
            "Epoch 88/1000\n",
            "13/13 [==============================] - 0s 5ms/step - loss: 14.9516 - mean_squared_error: 14.9516 - val_loss: 16.9426 - val_mean_squared_error: 16.9426\n",
            "Epoch 89/1000\n",
            "13/13 [==============================] - 0s 5ms/step - loss: 15.2339 - mean_squared_error: 15.2339 - val_loss: 17.4033 - val_mean_squared_error: 17.4033\n",
            "Epoch 90/1000\n",
            "13/13 [==============================] - 0s 5ms/step - loss: 15.1667 - mean_squared_error: 15.1667 - val_loss: 17.1097 - val_mean_squared_error: 17.1097\n",
            "Epoch 91/1000\n",
            "13/13 [==============================] - 0s 5ms/step - loss: 14.7650 - mean_squared_error: 14.7650 - val_loss: 16.8732 - val_mean_squared_error: 16.8732\n",
            "Epoch 92/1000\n",
            "13/13 [==============================] - 0s 5ms/step - loss: 14.4601 - mean_squared_error: 14.4601 - val_loss: 17.1957 - val_mean_squared_error: 17.1957\n",
            "Epoch 93/1000\n",
            "13/13 [==============================] - 0s 5ms/step - loss: 15.3309 - mean_squared_error: 15.3309 - val_loss: 16.9004 - val_mean_squared_error: 16.9004\n",
            "Epoch 94/1000\n",
            "13/13 [==============================] - 0s 5ms/step - loss: 14.4480 - mean_squared_error: 14.4480 - val_loss: 16.5108 - val_mean_squared_error: 16.5108\n",
            "Epoch 95/1000\n",
            "13/13 [==============================] - 0s 5ms/step - loss: 14.2258 - mean_squared_error: 14.2258 - val_loss: 16.4213 - val_mean_squared_error: 16.4213\n",
            "Epoch 96/1000\n",
            "13/13 [==============================] - 0s 5ms/step - loss: 14.1172 - mean_squared_error: 14.1172 - val_loss: 16.2415 - val_mean_squared_error: 16.2415\n",
            "Epoch 97/1000\n",
            "13/13 [==============================] - 0s 5ms/step - loss: 14.0946 - mean_squared_error: 14.0946 - val_loss: 16.3042 - val_mean_squared_error: 16.3042\n",
            "Epoch 98/1000\n",
            "13/13 [==============================] - 0s 5ms/step - loss: 14.1583 - mean_squared_error: 14.1583 - val_loss: 16.3413 - val_mean_squared_error: 16.3413\n",
            "Epoch 99/1000\n",
            "13/13 [==============================] - 0s 5ms/step - loss: 14.0492 - mean_squared_error: 14.0492 - val_loss: 16.0506 - val_mean_squared_error: 16.0506\n",
            "Epoch 100/1000\n",
            "13/13 [==============================] - 0s 6ms/step - loss: 13.8587 - mean_squared_error: 13.8587 - val_loss: 16.0716 - val_mean_squared_error: 16.0716\n",
            "Epoch 101/1000\n",
            "13/13 [==============================] - 0s 6ms/step - loss: 13.9966 - mean_squared_error: 13.9966 - val_loss: 15.9559 - val_mean_squared_error: 15.9559\n",
            "Epoch 102/1000\n",
            "13/13 [==============================] - 0s 5ms/step - loss: 13.7480 - mean_squared_error: 13.7480 - val_loss: 15.8516 - val_mean_squared_error: 15.8516\n",
            "Epoch 103/1000\n",
            "13/13 [==============================] - 0s 5ms/step - loss: 13.6370 - mean_squared_error: 13.6370 - val_loss: 15.7230 - val_mean_squared_error: 15.7230\n",
            "Epoch 104/1000\n",
            "13/13 [==============================] - 0s 5ms/step - loss: 13.5175 - mean_squared_error: 13.5175 - val_loss: 15.6745 - val_mean_squared_error: 15.6745\n",
            "Epoch 105/1000\n",
            "13/13 [==============================] - 0s 5ms/step - loss: 13.4921 - mean_squared_error: 13.4921 - val_loss: 15.5760 - val_mean_squared_error: 15.5760\n",
            "Epoch 106/1000\n",
            "13/13 [==============================] - 0s 5ms/step - loss: 13.2468 - mean_squared_error: 13.2468 - val_loss: 15.4832 - val_mean_squared_error: 15.4832\n",
            "Epoch 107/1000\n",
            "13/13 [==============================] - 0s 5ms/step - loss: 13.5075 - mean_squared_error: 13.5075 - val_loss: 15.6228 - val_mean_squared_error: 15.6228\n",
            "Epoch 108/1000\n",
            "13/13 [==============================] - 0s 5ms/step - loss: 13.1634 - mean_squared_error: 13.1634 - val_loss: 15.3950 - val_mean_squared_error: 15.3950\n",
            "Epoch 109/1000\n",
            "13/13 [==============================] - 0s 5ms/step - loss: 13.0619 - mean_squared_error: 13.0619 - val_loss: 15.2565 - val_mean_squared_error: 15.2565\n",
            "Epoch 110/1000\n",
            "13/13 [==============================] - 0s 5ms/step - loss: 13.1583 - mean_squared_error: 13.1583 - val_loss: 15.4171 - val_mean_squared_error: 15.4171\n",
            "Epoch 111/1000\n",
            "13/13 [==============================] - 0s 5ms/step - loss: 12.9192 - mean_squared_error: 12.9192 - val_loss: 15.0553 - val_mean_squared_error: 15.0553\n",
            "Epoch 112/1000\n",
            "13/13 [==============================] - 0s 5ms/step - loss: 12.8718 - mean_squared_error: 12.8718 - val_loss: 15.2093 - val_mean_squared_error: 15.2093\n",
            "Epoch 113/1000\n",
            "13/13 [==============================] - 0s 6ms/step - loss: 13.2896 - mean_squared_error: 13.2896 - val_loss: 15.2827 - val_mean_squared_error: 15.2827\n",
            "Epoch 114/1000\n",
            "13/13 [==============================] - 0s 5ms/step - loss: 12.5985 - mean_squared_error: 12.5985 - val_loss: 15.2136 - val_mean_squared_error: 15.2136\n",
            "Epoch 115/1000\n",
            "13/13 [==============================] - 0s 6ms/step - loss: 12.8287 - mean_squared_error: 12.8287 - val_loss: 15.0442 - val_mean_squared_error: 15.0442\n",
            "Epoch 116/1000\n",
            "13/13 [==============================] - 0s 5ms/step - loss: 12.4608 - mean_squared_error: 12.4608 - val_loss: 14.8619 - val_mean_squared_error: 14.8619\n",
            "Epoch 117/1000\n",
            "13/13 [==============================] - 0s 5ms/step - loss: 12.6401 - mean_squared_error: 12.6401 - val_loss: 14.6597 - val_mean_squared_error: 14.6597\n",
            "Epoch 118/1000\n",
            "13/13 [==============================] - 0s 6ms/step - loss: 12.7006 - mean_squared_error: 12.7006 - val_loss: 14.8487 - val_mean_squared_error: 14.8487\n",
            "Epoch 119/1000\n",
            "13/13 [==============================] - 0s 5ms/step - loss: 12.4039 - mean_squared_error: 12.4039 - val_loss: 14.7429 - val_mean_squared_error: 14.7429\n",
            "Epoch 120/1000\n",
            "13/13 [==============================] - 0s 6ms/step - loss: 12.2507 - mean_squared_error: 12.2507 - val_loss: 14.4764 - val_mean_squared_error: 14.4764\n",
            "Epoch 121/1000\n",
            "13/13 [==============================] - 0s 5ms/step - loss: 12.3840 - mean_squared_error: 12.3840 - val_loss: 14.4782 - val_mean_squared_error: 14.4782\n",
            "Epoch 122/1000\n",
            "13/13 [==============================] - 0s 5ms/step - loss: 12.2053 - mean_squared_error: 12.2053 - val_loss: 14.5881 - val_mean_squared_error: 14.5881\n",
            "Epoch 123/1000\n",
            "13/13 [==============================] - 0s 5ms/step - loss: 12.3103 - mean_squared_error: 12.3103 - val_loss: 14.2508 - val_mean_squared_error: 14.2508\n",
            "Epoch 124/1000\n",
            "13/13 [==============================] - 0s 5ms/step - loss: 12.0615 - mean_squared_error: 12.0615 - val_loss: 14.4082 - val_mean_squared_error: 14.4082\n",
            "Epoch 125/1000\n",
            "13/13 [==============================] - 0s 5ms/step - loss: 12.1703 - mean_squared_error: 12.1703 - val_loss: 14.4068 - val_mean_squared_error: 14.4068\n",
            "Epoch 126/1000\n",
            "13/13 [==============================] - 0s 5ms/step - loss: 12.6219 - mean_squared_error: 12.6219 - val_loss: 14.7681 - val_mean_squared_error: 14.7681\n",
            "Epoch 127/1000\n",
            "13/13 [==============================] - 0s 5ms/step - loss: 12.1765 - mean_squared_error: 12.1765 - val_loss: 15.0668 - val_mean_squared_error: 15.0668\n",
            "Epoch 128/1000\n",
            "13/13 [==============================] - 0s 5ms/step - loss: 12.0933 - mean_squared_error: 12.0933 - val_loss: 14.1532 - val_mean_squared_error: 14.1532\n",
            "Epoch 129/1000\n",
            "13/13 [==============================] - 0s 5ms/step - loss: 11.8105 - mean_squared_error: 11.8105 - val_loss: 13.9711 - val_mean_squared_error: 13.9711\n",
            "Epoch 130/1000\n",
            "13/13 [==============================] - 0s 5ms/step - loss: 11.8241 - mean_squared_error: 11.8241 - val_loss: 14.0021 - val_mean_squared_error: 14.0021\n",
            "Epoch 131/1000\n",
            "13/13 [==============================] - 0s 5ms/step - loss: 11.9725 - mean_squared_error: 11.9725 - val_loss: 13.7832 - val_mean_squared_error: 13.7832\n",
            "Epoch 132/1000\n",
            "13/13 [==============================] - 0s 5ms/step - loss: 11.8733 - mean_squared_error: 11.8733 - val_loss: 13.9517 - val_mean_squared_error: 13.9517\n",
            "Epoch 133/1000\n",
            "13/13 [==============================] - 0s 5ms/step - loss: 11.6090 - mean_squared_error: 11.6090 - val_loss: 13.5811 - val_mean_squared_error: 13.5811\n",
            "Epoch 134/1000\n",
            "13/13 [==============================] - 0s 5ms/step - loss: 11.2783 - mean_squared_error: 11.2783 - val_loss: 13.5405 - val_mean_squared_error: 13.5405\n",
            "Epoch 135/1000\n",
            "13/13 [==============================] - 0s 5ms/step - loss: 11.4731 - mean_squared_error: 11.4731 - val_loss: 13.9784 - val_mean_squared_error: 13.9784\n",
            "Epoch 136/1000\n",
            "13/13 [==============================] - 0s 5ms/step - loss: 11.3215 - mean_squared_error: 11.3215 - val_loss: 13.4792 - val_mean_squared_error: 13.4792\n",
            "Epoch 137/1000\n",
            "13/13 [==============================] - 0s 5ms/step - loss: 11.2782 - mean_squared_error: 11.2782 - val_loss: 13.6620 - val_mean_squared_error: 13.6620\n",
            "Epoch 138/1000\n",
            "13/13 [==============================] - 0s 5ms/step - loss: 11.2136 - mean_squared_error: 11.2136 - val_loss: 13.5768 - val_mean_squared_error: 13.5768\n",
            "Epoch 139/1000\n",
            "13/13 [==============================] - 0s 4ms/step - loss: 11.2201 - mean_squared_error: 11.2201 - val_loss: 13.2675 - val_mean_squared_error: 13.2675\n",
            "Epoch 140/1000\n",
            "13/13 [==============================] - 0s 5ms/step - loss: 11.0301 - mean_squared_error: 11.0301 - val_loss: 13.2581 - val_mean_squared_error: 13.2581\n",
            "Epoch 141/1000\n",
            "13/13 [==============================] - 0s 5ms/step - loss: 11.0101 - mean_squared_error: 11.0101 - val_loss: 13.2583 - val_mean_squared_error: 13.2583\n",
            "Epoch 142/1000\n",
            "13/13 [==============================] - 0s 5ms/step - loss: 10.9053 - mean_squared_error: 10.9053 - val_loss: 13.1914 - val_mean_squared_error: 13.1914\n",
            "Epoch 143/1000\n",
            "13/13 [==============================] - 0s 5ms/step - loss: 10.8372 - mean_squared_error: 10.8372 - val_loss: 13.0817 - val_mean_squared_error: 13.0817\n",
            "Epoch 144/1000\n",
            "13/13 [==============================] - 0s 5ms/step - loss: 10.8099 - mean_squared_error: 10.8099 - val_loss: 13.0626 - val_mean_squared_error: 13.0626\n",
            "Epoch 145/1000\n",
            "13/13 [==============================] - 0s 5ms/step - loss: 10.6946 - mean_squared_error: 10.6946 - val_loss: 12.9856 - val_mean_squared_error: 12.9856\n",
            "Epoch 146/1000\n",
            "13/13 [==============================] - 0s 5ms/step - loss: 10.7373 - mean_squared_error: 10.7373 - val_loss: 12.9482 - val_mean_squared_error: 12.9482\n",
            "Epoch 147/1000\n",
            "13/13 [==============================] - 0s 5ms/step - loss: 10.6134 - mean_squared_error: 10.6134 - val_loss: 12.9378 - val_mean_squared_error: 12.9378\n",
            "Epoch 148/1000\n",
            "13/13 [==============================] - 0s 5ms/step - loss: 10.5433 - mean_squared_error: 10.5433 - val_loss: 12.7950 - val_mean_squared_error: 12.7950\n",
            "Epoch 149/1000\n",
            "13/13 [==============================] - 0s 5ms/step - loss: 10.5367 - mean_squared_error: 10.5367 - val_loss: 12.8757 - val_mean_squared_error: 12.8757\n",
            "Epoch 150/1000\n",
            "13/13 [==============================] - 0s 5ms/step - loss: 10.4214 - mean_squared_error: 10.4214 - val_loss: 12.6504 - val_mean_squared_error: 12.6504\n",
            "Epoch 151/1000\n",
            "13/13 [==============================] - 0s 6ms/step - loss: 10.4746 - mean_squared_error: 10.4746 - val_loss: 12.7133 - val_mean_squared_error: 12.7133\n",
            "Epoch 152/1000\n",
            "13/13 [==============================] - 0s 5ms/step - loss: 10.5132 - mean_squared_error: 10.5132 - val_loss: 12.6696 - val_mean_squared_error: 12.6696\n",
            "Epoch 153/1000\n",
            "13/13 [==============================] - 0s 5ms/step - loss: 10.3435 - mean_squared_error: 10.3435 - val_loss: 12.5902 - val_mean_squared_error: 12.5902\n",
            "Epoch 154/1000\n",
            "13/13 [==============================] - 0s 4ms/step - loss: 10.4355 - mean_squared_error: 10.4355 - val_loss: 12.6531 - val_mean_squared_error: 12.6531\n",
            "Epoch 155/1000\n",
            "13/13 [==============================] - 0s 5ms/step - loss: 10.1828 - mean_squared_error: 10.1828 - val_loss: 12.5249 - val_mean_squared_error: 12.5249\n",
            "Epoch 156/1000\n",
            "13/13 [==============================] - 0s 5ms/step - loss: 10.2121 - mean_squared_error: 10.2121 - val_loss: 12.4729 - val_mean_squared_error: 12.4729\n",
            "Epoch 157/1000\n",
            "13/13 [==============================] - 0s 5ms/step - loss: 10.2284 - mean_squared_error: 10.2284 - val_loss: 12.4513 - val_mean_squared_error: 12.4513\n",
            "Epoch 158/1000\n",
            "13/13 [==============================] - 0s 5ms/step - loss: 10.1139 - mean_squared_error: 10.1139 - val_loss: 12.5883 - val_mean_squared_error: 12.5883\n",
            "Epoch 159/1000\n",
            "13/13 [==============================] - 0s 5ms/step - loss: 10.0723 - mean_squared_error: 10.0723 - val_loss: 12.3992 - val_mean_squared_error: 12.3992\n",
            "Epoch 160/1000\n",
            "13/13 [==============================] - 0s 5ms/step - loss: 10.0124 - mean_squared_error: 10.0124 - val_loss: 12.5611 - val_mean_squared_error: 12.5611\n",
            "Epoch 161/1000\n",
            "13/13 [==============================] - 0s 5ms/step - loss: 10.0279 - mean_squared_error: 10.0279 - val_loss: 12.3937 - val_mean_squared_error: 12.3937\n",
            "Epoch 162/1000\n",
            "13/13 [==============================] - 0s 6ms/step - loss: 9.8375 - mean_squared_error: 9.8375 - val_loss: 12.4413 - val_mean_squared_error: 12.4413\n",
            "Epoch 163/1000\n",
            "13/13 [==============================] - 0s 5ms/step - loss: 9.9974 - mean_squared_error: 9.9974 - val_loss: 12.2530 - val_mean_squared_error: 12.2530\n",
            "Epoch 164/1000\n",
            "13/13 [==============================] - 0s 5ms/step - loss: 9.8152 - mean_squared_error: 9.8152 - val_loss: 12.3336 - val_mean_squared_error: 12.3336\n",
            "Epoch 165/1000\n",
            "13/13 [==============================] - 0s 5ms/step - loss: 9.7572 - mean_squared_error: 9.7572 - val_loss: 12.0516 - val_mean_squared_error: 12.0516\n",
            "Epoch 166/1000\n",
            "13/13 [==============================] - 0s 5ms/step - loss: 9.8533 - mean_squared_error: 9.8533 - val_loss: 12.7280 - val_mean_squared_error: 12.7280\n",
            "Epoch 167/1000\n",
            "13/13 [==============================] - 0s 4ms/step - loss: 9.7700 - mean_squared_error: 9.7700 - val_loss: 12.8166 - val_mean_squared_error: 12.8166\n",
            "Epoch 168/1000\n",
            "13/13 [==============================] - 0s 4ms/step - loss: 10.6639 - mean_squared_error: 10.6639 - val_loss: 12.5404 - val_mean_squared_error: 12.5404\n",
            "Epoch 169/1000\n",
            "13/13 [==============================] - 0s 5ms/step - loss: 10.0787 - mean_squared_error: 10.0787 - val_loss: 12.2818 - val_mean_squared_error: 12.2818\n",
            "Epoch 170/1000\n",
            "13/13 [==============================] - 0s 5ms/step - loss: 10.0735 - mean_squared_error: 10.0735 - val_loss: 12.6928 - val_mean_squared_error: 12.6928\n",
            "Epoch 171/1000\n",
            "13/13 [==============================] - 0s 6ms/step - loss: 9.8005 - mean_squared_error: 9.8005 - val_loss: 12.0006 - val_mean_squared_error: 12.0006\n",
            "Epoch 172/1000\n",
            "13/13 [==============================] - 0s 5ms/step - loss: 9.9620 - mean_squared_error: 9.9620 - val_loss: 11.8967 - val_mean_squared_error: 11.8967\n",
            "Epoch 173/1000\n",
            "13/13 [==============================] - 0s 5ms/step - loss: 9.6013 - mean_squared_error: 9.6013 - val_loss: 12.4796 - val_mean_squared_error: 12.4796\n",
            "Epoch 174/1000\n",
            "13/13 [==============================] - 0s 5ms/step - loss: 9.5983 - mean_squared_error: 9.5983 - val_loss: 12.6660 - val_mean_squared_error: 12.6660\n",
            "Epoch 175/1000\n",
            "13/13 [==============================] - 0s 5ms/step - loss: 10.1526 - mean_squared_error: 10.1526 - val_loss: 11.8169 - val_mean_squared_error: 11.8169\n",
            "Epoch 176/1000\n",
            "13/13 [==============================] - 0s 5ms/step - loss: 9.5459 - mean_squared_error: 9.5459 - val_loss: 11.9072 - val_mean_squared_error: 11.9072\n",
            "Epoch 177/1000\n",
            "13/13 [==============================] - 0s 5ms/step - loss: 9.4926 - mean_squared_error: 9.4926 - val_loss: 11.8368 - val_mean_squared_error: 11.8368\n",
            "Epoch 178/1000\n",
            "13/13 [==============================] - 0s 5ms/step - loss: 9.5551 - mean_squared_error: 9.5551 - val_loss: 12.3849 - val_mean_squared_error: 12.3849\n",
            "Epoch 179/1000\n",
            "13/13 [==============================] - 0s 5ms/step - loss: 9.4613 - mean_squared_error: 9.4613 - val_loss: 11.6628 - val_mean_squared_error: 11.6628\n",
            "Epoch 180/1000\n",
            "13/13 [==============================] - 0s 5ms/step - loss: 9.1141 - mean_squared_error: 9.1141 - val_loss: 11.6972 - val_mean_squared_error: 11.6972\n",
            "Epoch 181/1000\n",
            "13/13 [==============================] - 0s 5ms/step - loss: 9.1098 - mean_squared_error: 9.1098 - val_loss: 11.5584 - val_mean_squared_error: 11.5584\n",
            "Epoch 182/1000\n",
            "13/13 [==============================] - 0s 5ms/step - loss: 9.3658 - mean_squared_error: 9.3658 - val_loss: 12.0395 - val_mean_squared_error: 12.0395\n",
            "Epoch 183/1000\n",
            "13/13 [==============================] - 0s 5ms/step - loss: 9.3018 - mean_squared_error: 9.3018 - val_loss: 11.6076 - val_mean_squared_error: 11.6076\n",
            "Epoch 184/1000\n",
            "13/13 [==============================] - 0s 5ms/step - loss: 9.1423 - mean_squared_error: 9.1423 - val_loss: 11.5061 - val_mean_squared_error: 11.5061\n",
            "Epoch 185/1000\n",
            "13/13 [==============================] - 0s 5ms/step - loss: 9.1397 - mean_squared_error: 9.1397 - val_loss: 11.7679 - val_mean_squared_error: 11.7679\n",
            "Epoch 186/1000\n",
            "13/13 [==============================] - 0s 5ms/step - loss: 9.0462 - mean_squared_error: 9.0462 - val_loss: 11.6248 - val_mean_squared_error: 11.6248\n",
            "Epoch 187/1000\n",
            "13/13 [==============================] - 0s 5ms/step - loss: 8.9475 - mean_squared_error: 8.9475 - val_loss: 11.6452 - val_mean_squared_error: 11.6452\n",
            "Epoch 188/1000\n",
            "13/13 [==============================] - 0s 6ms/step - loss: 8.9025 - mean_squared_error: 8.9025 - val_loss: 11.4935 - val_mean_squared_error: 11.4935\n",
            "Epoch 189/1000\n",
            "13/13 [==============================] - 0s 5ms/step - loss: 8.8606 - mean_squared_error: 8.8606 - val_loss: 11.5083 - val_mean_squared_error: 11.5083\n",
            "Epoch 190/1000\n",
            "13/13 [==============================] - 0s 5ms/step - loss: 8.9350 - mean_squared_error: 8.9350 - val_loss: 11.4941 - val_mean_squared_error: 11.4941\n",
            "Epoch 191/1000\n",
            "13/13 [==============================] - 0s 5ms/step - loss: 9.2473 - mean_squared_error: 9.2473 - val_loss: 12.0449 - val_mean_squared_error: 12.0449\n",
            "Epoch 192/1000\n",
            "13/13 [==============================] - 0s 5ms/step - loss: 9.0593 - mean_squared_error: 9.0593 - val_loss: 11.3650 - val_mean_squared_error: 11.3650\n",
            "Epoch 193/1000\n",
            "13/13 [==============================] - 0s 5ms/step - loss: 8.6304 - mean_squared_error: 8.6304 - val_loss: 11.4158 - val_mean_squared_error: 11.4158\n",
            "Epoch 194/1000\n",
            "13/13 [==============================] - 0s 5ms/step - loss: 8.6726 - mean_squared_error: 8.6726 - val_loss: 11.3910 - val_mean_squared_error: 11.3910\n",
            "Epoch 195/1000\n",
            "13/13 [==============================] - 0s 5ms/step - loss: 8.6229 - mean_squared_error: 8.6229 - val_loss: 11.3028 - val_mean_squared_error: 11.3028\n",
            "Epoch 196/1000\n",
            "13/13 [==============================] - 0s 5ms/step - loss: 8.6784 - mean_squared_error: 8.6784 - val_loss: 11.5280 - val_mean_squared_error: 11.5280\n",
            "Epoch 197/1000\n",
            "13/13 [==============================] - 0s 5ms/step - loss: 8.6991 - mean_squared_error: 8.6991 - val_loss: 12.1637 - val_mean_squared_error: 12.1637\n",
            "Epoch 198/1000\n",
            "13/13 [==============================] - 0s 5ms/step - loss: 8.8379 - mean_squared_error: 8.8379 - val_loss: 11.6363 - val_mean_squared_error: 11.6363\n",
            "Epoch 199/1000\n",
            "13/13 [==============================] - 0s 5ms/step - loss: 8.5887 - mean_squared_error: 8.5887 - val_loss: 11.3517 - val_mean_squared_error: 11.3517\n",
            "Epoch 200/1000\n",
            "13/13 [==============================] - 0s 5ms/step - loss: 8.4287 - mean_squared_error: 8.4287 - val_loss: 11.3774 - val_mean_squared_error: 11.3774\n",
            "Epoch 201/1000\n",
            "13/13 [==============================] - 0s 5ms/step - loss: 8.4034 - mean_squared_error: 8.4034 - val_loss: 11.2814 - val_mean_squared_error: 11.2814\n",
            "Epoch 202/1000\n",
            "13/13 [==============================] - 0s 5ms/step - loss: 8.6309 - mean_squared_error: 8.6309 - val_loss: 11.2230 - val_mean_squared_error: 11.2230\n",
            "Epoch 203/1000\n",
            "13/13 [==============================] - 0s 5ms/step - loss: 8.7384 - mean_squared_error: 8.7384 - val_loss: 11.2000 - val_mean_squared_error: 11.2000\n",
            "Epoch 204/1000\n",
            "13/13 [==============================] - 0s 5ms/step - loss: 8.6831 - mean_squared_error: 8.6831 - val_loss: 11.3198 - val_mean_squared_error: 11.3198\n",
            "Epoch 205/1000\n",
            "13/13 [==============================] - 0s 5ms/step - loss: 8.3943 - mean_squared_error: 8.3943 - val_loss: 11.3119 - val_mean_squared_error: 11.3119\n",
            "Epoch 206/1000\n",
            "13/13 [==============================] - 0s 5ms/step - loss: 8.2897 - mean_squared_error: 8.2897 - val_loss: 11.2446 - val_mean_squared_error: 11.2446\n",
            "Epoch 207/1000\n",
            "13/13 [==============================] - 0s 5ms/step - loss: 8.6865 - mean_squared_error: 8.6865 - val_loss: 11.9520 - val_mean_squared_error: 11.9520\n",
            "Epoch 208/1000\n",
            "13/13 [==============================] - 0s 5ms/step - loss: 8.5555 - mean_squared_error: 8.5555 - val_loss: 11.2092 - val_mean_squared_error: 11.2092\n",
            "Epoch 209/1000\n",
            "13/13 [==============================] - 0s 5ms/step - loss: 8.2056 - mean_squared_error: 8.2056 - val_loss: 11.2255 - val_mean_squared_error: 11.2255\n",
            "Epoch 210/1000\n",
            "13/13 [==============================] - 0s 5ms/step - loss: 8.1772 - mean_squared_error: 8.1772 - val_loss: 11.0810 - val_mean_squared_error: 11.0810\n",
            "Epoch 211/1000\n",
            "13/13 [==============================] - 0s 5ms/step - loss: 8.3594 - mean_squared_error: 8.3594 - val_loss: 11.5073 - val_mean_squared_error: 11.5073\n",
            "Epoch 212/1000\n",
            "13/13 [==============================] - 0s 5ms/step - loss: 8.2770 - mean_squared_error: 8.2770 - val_loss: 11.1479 - val_mean_squared_error: 11.1479\n",
            "Epoch 213/1000\n",
            "13/13 [==============================] - 0s 5ms/step - loss: 8.1173 - mean_squared_error: 8.1173 - val_loss: 11.4296 - val_mean_squared_error: 11.4296\n",
            "Epoch 214/1000\n",
            "13/13 [==============================] - 0s 5ms/step - loss: 8.4437 - mean_squared_error: 8.4437 - val_loss: 11.1520 - val_mean_squared_error: 11.1520\n",
            "Epoch 215/1000\n",
            "13/13 [==============================] - 0s 5ms/step - loss: 8.0268 - mean_squared_error: 8.0268 - val_loss: 11.2634 - val_mean_squared_error: 11.2634\n",
            "Epoch 216/1000\n",
            "13/13 [==============================] - 0s 5ms/step - loss: 8.2175 - mean_squared_error: 8.2175 - val_loss: 11.1329 - val_mean_squared_error: 11.1329\n",
            "Epoch 217/1000\n",
            "13/13 [==============================] - 0s 5ms/step - loss: 8.1600 - mean_squared_error: 8.1600 - val_loss: 11.1927 - val_mean_squared_error: 11.1927\n",
            "Epoch 218/1000\n",
            "13/13 [==============================] - 0s 5ms/step - loss: 8.0124 - mean_squared_error: 8.0124 - val_loss: 11.0818 - val_mean_squared_error: 11.0818\n",
            "Epoch 219/1000\n",
            "13/13 [==============================] - 0s 5ms/step - loss: 7.9950 - mean_squared_error: 7.9950 - val_loss: 11.1846 - val_mean_squared_error: 11.1846\n",
            "Epoch 220/1000\n",
            "13/13 [==============================] - 0s 5ms/step - loss: 7.9651 - mean_squared_error: 7.9651 - val_loss: 11.1942 - val_mean_squared_error: 11.1942\n"
          ],
          "name": "stdout"
        }
      ]
    },
    {
      "cell_type": "markdown",
      "metadata": {
        "id": "9eMs4nExVAZc",
        "colab_type": "text"
      },
      "source": [
        "#### Question 1C. Plot your training/validation curves to bolster your arguments\n",
        "\n",
        "**Similar to what we saw in the classification problem, we notice early stopping coming into picture here. Although we ran the training for 1000 epochs, it got terminates at around 260 epochs since the validation metric did not improve for 10 epochs. Again, we dont see any indication of overfitting here as the validation loss and accuracy are very close to the corresponding training counterparts.**"
      ]
    },
    {
      "cell_type": "code",
      "metadata": {
        "id": "wy1V_kS-UmRI",
        "colab_type": "code",
        "colab": {}
      },
      "source": [
        "# ## This does not render in the notbook after saving. Hence we will use a custom function to plot this.\n",
        "# # Load the TensorBoard notebook extension\n",
        "# %load_ext tensorboard\n",
        "# %tensorboard --logdir logs"
      ],
      "execution_count": 0,
      "outputs": []
    },
    {
      "cell_type": "code",
      "metadata": {
        "id": "1NCDHC37cC5O",
        "colab_type": "code",
        "outputId": "5f56ad97-e14d-428f-a8be-fe3bcde3ffa6",
        "colab": {
          "base_uri": "https://localhost:8080/",
          "height": 295
        }
      },
      "source": [
        "plot_metrics(history, metrics=['loss', 'mean_squared_error'])"
      ],
      "execution_count": 34,
      "outputs": [
        {
          "output_type": "display_data",
          "data": {
            "image/png": "[encoded data removed]",
            "text/plain": [
              "<Figure size 720x288 with 2 Axes>"
            ]
          },
          "metadata": {
            "tags": [],
            "needs_background": "light"
          }
        }
      ]
    },
    {
      "cell_type": "markdown",
      "metadata": {
        "id": "9EFWbjp-W-g5",
        "colab_type": "text"
      },
      "source": [
        "#### Question 1D: Plot a histogram of your weights from a particular layer (it must have at least 50 neurons)\n",
        "\n",
        "**The weights can be obtained in a similar manner as in the classification problem.**\n",
        "\n",
        "**Note:** We can pick either the 1st layer or the 2nd layer to visualize the weights since these will have more than 50 neurons. "
      ]
    },
    {
      "cell_type": "code",
      "metadata": {
        "id": "de8J4xXCXV5c",
        "colab_type": "code",
        "outputId": "c59359c3-1bdd-44ba-fbce-55c1a52c2c31",
        "colab": {
          "base_uri": "https://localhost:8080/",
          "height": 51
        }
      },
      "source": [
        "weights = history.model.get_weights()\n",
        "print(type(weights))\n",
        "print(len(weights))"
      ],
      "execution_count": 35,
      "outputs": [
        {
          "output_type": "stream",
          "text": [
            "<class 'list'>\n",
            "6\n"
          ],
          "name": "stdout"
        }
      ]
    },
    {
      "cell_type": "code",
      "metadata": {
        "id": "oRTGKe8wXKeZ",
        "colab_type": "code",
        "outputId": "0eae9a9e-36cd-4f11-eb8e-2b6fab70dc54",
        "colab": {
          "base_uri": "https://localhost:8080/",
          "height": 759
        }
      },
      "source": [
        "plot_weights(weights)"
      ],
      "execution_count": 36,
      "outputs": [
        {
          "output_type": "stream",
          "text": [
            "Layer 1 Weight Matrix Shape: (13, 128)\n",
            "Layer 1 Bias Matrix Shape: (128,)\n",
            "Layer 2 Weight Matrix Shape: (128, 64)\n",
            "Layer 2 Bias Matrix Shape: (64,)\n",
            "Layer 3 Weight Matrix Shape: (64, 1)\n",
            "Layer 3 Bias Matrix Shape: (1,)\n"
          ],
          "name": "stdout"
        },
        {
          "output_type": "display_data",
          "data": {
            "image/png": "[encoded data removed]",
            "text/plain": [
              "<Figure size 864x648 with 6 Axes>"
            ]
          },
          "metadata": {
            "tags": [],
            "needs_background": "light"
          }
        }
      ]
    },
    {
      "cell_type": "markdown",
      "metadata": {
        "id": "_DTbw7y1SY3p",
        "colab_type": "text"
      },
      "source": [
        "# 2.0 Web Scraping\n",
        "\n",
        "Scrape the top 100 Billboard Artists from [this website](https://www.billboard.com/charts/hot-100). Your answer must be a function that I can run from my computer so that I can get a list of the artist, song, and position."
      ]
    },
    {
      "cell_type": "code",
      "metadata": {
        "id": "QJR9wtcuSbVD",
        "colab_type": "code",
        "outputId": "e6779b9f-be52-4be5-d677-49d85c4dd0d1",
        "colab": {
          "base_uri": "https://localhost:8080/",
          "height": 119
        }
      },
      "source": [
        "!pip3 install requests\n",
        "!pip3 install beautifulsoup4"
      ],
      "execution_count": 37,
      "outputs": [
        {
          "output_type": "stream",
          "text": [
            "Requirement already satisfied: requests in /usr/local/lib/python3.6/dist-packages (2.23.0)\n",
            "Requirement already satisfied: urllib3!=1.25.0,!=1.25.1,<1.26,>=1.21.1 in /usr/local/lib/python3.6/dist-packages (from requests) (1.24.3)\n",
            "Requirement already satisfied: certifi>=2017.4.17 in /usr/local/lib/python3.6/dist-packages (from requests) (2020.4.5.1)\n",
            "Requirement already satisfied: idna<3,>=2.5 in /usr/local/lib/python3.6/dist-packages (from requests) (2.9)\n",
            "Requirement already satisfied: chardet<4,>=3.0.2 in /usr/local/lib/python3.6/dist-packages (from requests) (3.0.4)\n",
            "Requirement already satisfied: beautifulsoup4 in /usr/local/lib/python3.6/dist-packages (4.6.3)\n"
          ],
          "name": "stdout"
        }
      ]
    },
    {
      "cell_type": "code",
      "metadata": {
        "id": "xMPEmKMAScR1",
        "colab_type": "code",
        "colab": {}
      },
      "source": [
        "import pandas as pd\n",
        "import requests\n",
        "from bs4 import BeautifulSoup"
      ],
      "execution_count": 0,
      "outputs": []
    },
    {
      "cell_type": "code",
      "metadata": {
        "id": "KATAkwd-DCmf",
        "colab_type": "code",
        "colab": {}
      },
      "source": [
        "def getTop100(URL: str = 'https://www.billboard.com/charts/hot-100') -> pd.DataFrame:\n",
        "  \"\"\"\n",
        "  Returns the top 100 Billboard Songs and Artists from the website 'url'\n",
        "  This function assumes that the webpage has a certain structure\n",
        "  Rank is indicated by a tag with class=\"chart-element__rank__number\"\n",
        "  Song is indicated by a tag with class=\"chart-element__information__song text--truncate color--primary\"\n",
        "  Artist is indicated by a tag with class=\"chart-element__information__artist text--truncate color--secondary\"\n",
        "  :param url: Website containing the data for the top 100 songs and artists.\n",
        "              Default: https://www.billboard.com/charts/hot-100\n",
        "  :type url: str\n",
        "  :rtype pd.DataFrame\n",
        "  \"\"\"\n",
        "  page = requests.get(URL)  # Get the page\n",
        "  soup = BeautifulSoup(page.content, 'html.parser')  # Parse the page\n",
        "  entries = soup.find_all(\"li\", class_=\"chart-list__element display--flex\")  ## Find the Table\n",
        "  data = pd.DataFrame(columns=[\"Rank\", \"Song\", \"Artist\"])  # Define the dataframe to hold the data\n",
        "  \n",
        "  # For each entry in the table, read the data and add to the dataframe\n",
        "  for entry in entries:\n",
        "    # Get Rank\n",
        "    rank_tag = entry.find_all(\n",
        "        \"span\", class_=\"chart-element__rank__number\")[0]\n",
        "    # Get Song\n",
        "    song_tag = entry.find_all(\n",
        "        \"span\", class_=\"chart-element__information__song text--truncate color--primary\")[0]\n",
        "    # Get Artist\n",
        "    artist_tag = entry.find_all(\n",
        "        \"span\", class_=\"chart-element__information__artist text--truncate color--secondary\")[0]\n",
        "    \n",
        "    # Append the data to the dataframe\n",
        "    row = pd.DataFrame(\n",
        "        data = {\"Rank\": rank_tag.getText(), \"Song\": song_tag.getText(), \"Artist\": artist_tag.getText()},\n",
        "        index=[0]\n",
        "    )\n",
        "    all_dfs = [data, row]\n",
        "    data = pd.concat(all_dfs)\n",
        "\n",
        "  # Housekeeping\n",
        "  data.reset_index(drop=True, inplace=True) \n",
        "  data['Rank'] = data['Rank'].astype(int)\n",
        "\n",
        "  return data"
      ],
      "execution_count": 0,
      "outputs": []
    },
    {
      "cell_type": "code",
      "metadata": {
        "id": "Lg9FKlwMFdWF",
        "colab_type": "code",
        "outputId": "82d872a9-4c08-478c-8cd4-9a1c02a6dd8b",
        "colab": {
          "base_uri": "https://localhost:8080/",
          "height": 419
        }
      },
      "source": [
        "getTop100()"
      ],
      "execution_count": 40,
      "outputs": [
        {
          "output_type": "execute_result",
          "data": {
            "text/html": [
              "<div>\n",
              "<style scoped>\n",
              "    .dataframe tbody tr th:only-of-type {\n",
              "        vertical-align: middle;\n",
              "    }\n",
              "\n",
              "    .dataframe tbody tr th {\n",
              "        vertical-align: top;\n",
              "    }\n",
              "\n",
              "    .dataframe thead th {\n",
              "        text-align: right;\n",
              "    }\n",
              "</style>\n",
              "<table border=\"1\" class=\"dataframe\">\n",
              "  <thead>\n",
              "    <tr style=\"text-align: right;\">\n",
              "      <th></th>\n",
              "      <th>Rank</th>\n",
              "      <th>Song</th>\n",
              "      <th>Artist</th>\n",
              "    </tr>\n",
              "  </thead>\n",
              "  <tbody>\n",
              "    <tr>\n",
              "      <th>0</th>\n",
              "      <td>1</td>\n",
              "      <td>The Scotts</td>\n",
              "      <td>THE SCOTTS, Travis Scott &amp; Kid Cudi</td>\n",
              "    </tr>\n",
              "    <tr>\n",
              "      <th>1</th>\n",
              "      <td>2</td>\n",
              "      <td>Blinding Lights</td>\n",
              "      <td>The Weeknd</td>\n",
              "    </tr>\n",
              "    <tr>\n",
              "      <th>2</th>\n",
              "      <td>3</td>\n",
              "      <td>Toosie Slide</td>\n",
              "      <td>Drake</td>\n",
              "    </tr>\n",
              "    <tr>\n",
              "      <th>3</th>\n",
              "      <td>4</td>\n",
              "      <td>Savage</td>\n",
              "      <td>Megan Thee Stallion Featuring Beyonce</td>\n",
              "    </tr>\n",
              "    <tr>\n",
              "      <th>4</th>\n",
              "      <td>5</td>\n",
              "      <td>The Box</td>\n",
              "      <td>Roddy Ricch</td>\n",
              "    </tr>\n",
              "    <tr>\n",
              "      <th>...</th>\n",
              "      <td>...</td>\n",
              "      <td>...</td>\n",
              "      <td>...</td>\n",
              "    </tr>\n",
              "    <tr>\n",
              "      <th>95</th>\n",
              "      <td>96</td>\n",
              "      <td>NASTY</td>\n",
              "      <td>DaBaby Featuring Ashanti &amp; Megan Thee Stallion</td>\n",
              "    </tr>\n",
              "    <tr>\n",
              "      <th>96</th>\n",
              "      <td>97</td>\n",
              "      <td>Drinking Alone</td>\n",
              "      <td>Carrie Underwood</td>\n",
              "    </tr>\n",
              "    <tr>\n",
              "      <th>97</th>\n",
              "      <td>98</td>\n",
              "      <td>PTSD</td>\n",
              "      <td>G Herbo Featuring Chance The Rapper, Juice WRL...</td>\n",
              "    </tr>\n",
              "    <tr>\n",
              "      <th>98</th>\n",
              "      <td>99</td>\n",
              "      <td>Thug Of Spades</td>\n",
              "      <td>YoungBoy Never Broke Again Featuring DaBaby</td>\n",
              "    </tr>\n",
              "    <tr>\n",
              "      <th>99</th>\n",
              "      <td>100</td>\n",
              "      <td>Safaera</td>\n",
              "      <td>Bad Bunny, Jowell &amp; Randy &amp; Nengo Flow</td>\n",
              "    </tr>\n",
              "  </tbody>\n",
              "</table>\n",
              "<p>100 rows × 3 columns</p>\n",
              "</div>"
            ],
            "text/plain": [
              "    Rank             Song                                             Artist\n",
              "0      1       The Scotts                THE SCOTTS, Travis Scott & Kid Cudi\n",
              "1      2  Blinding Lights                                         The Weeknd\n",
              "2      3     Toosie Slide                                              Drake\n",
              "3      4           Savage              Megan Thee Stallion Featuring Beyonce\n",
              "4      5          The Box                                        Roddy Ricch\n",
              "..   ...              ...                                                ...\n",
              "95    96            NASTY     DaBaby Featuring Ashanti & Megan Thee Stallion\n",
              "96    97   Drinking Alone                                   Carrie Underwood\n",
              "97    98             PTSD  G Herbo Featuring Chance The Rapper, Juice WRL...\n",
              "98    99   Thug Of Spades        YoungBoy Never Broke Again Featuring DaBaby\n",
              "99   100          Safaera             Bad Bunny, Jowell & Randy & Nengo Flow\n",
              "\n",
              "[100 rows x 3 columns]"
            ]
          },
          "metadata": {
            "tags": []
          },
          "execution_count": 40
        }
      ]
    }
  ]
}